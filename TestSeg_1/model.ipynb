{
 "cells": [
  {
   "cell_type": "code",
   "execution_count": 1,
   "metadata": {},
   "outputs": [],
   "source": [
    "import torch\n",
    "import cv2\n",
    "import numpy as np\n",
    "from ultralytics import YOLO"
   ]
  },
  {
   "cell_type": "code",
   "execution_count": 2,
   "metadata": {},
   "outputs": [],
   "source": [
    "DEVICE = \"cuda:0\" if torch.cuda.is_available() else \"cpu\""
   ]
  },
  {
   "cell_type": "markdown",
   "metadata": {},
   "source": [
    "Train Dataset_1 from the base model"
   ]
  },
  {
   "cell_type": "code",
   "execution_count": null,
   "metadata": {},
   "outputs": [],
   "source": [
    "model = YOLO(\"checkpoint/yolo11n-seg.pt\")\n",
    "model.to(DEVICE)\n",
    "\n",
    "model.train(data=\"config_1.yaml\", epochs=100, imgsz=640)\n",
    "model.save(\"checkpoint/fighter_1.pt\")"
   ]
  },
  {
   "cell_type": "markdown",
   "metadata": {},
   "source": [
    "Train Dataset_2 from the base model"
   ]
  },
  {
   "cell_type": "code",
   "execution_count": null,
   "metadata": {},
   "outputs": [],
   "source": [
    "model = YOLO(\"checkpoint/yolo11n-seg.pt\")\n",
    "model.to(DEVICE)\n",
    "\n",
    "model.train(data=\"config_2.yaml\", epochs=100, imgsz=640)\n",
    "model.save(\"checkpoint/fighter_2.pt\")"
   ]
  },
  {
   "cell_type": "markdown",
   "metadata": {},
   "source": [
    "Train Dataset_3 from the fighter_2 chkpoint"
   ]
  },
  {
   "cell_type": "code",
   "execution_count": 10,
   "metadata": {},
   "outputs": [
    {
     "name": "stdout",
     "output_type": "stream",
     "text": [
      "New https://pypi.org/project/ultralytics/8.3.50 available 😃 Update with 'pip install -U ultralytics'\n",
      "\u001b[34m\u001b[1mengine/trainer: \u001b[0mtask=segment, mode=train, model=checkpoint/fighter_2.pt, data=config_3.yaml, epochs=100, time=None, patience=100, batch=16, imgsz=640, save=True, save_period=-1, cache=False, device=cuda:0, workers=8, project=None, name=train11, exist_ok=False, pretrained=True, optimizer=auto, verbose=True, seed=0, deterministic=True, single_cls=False, rect=False, cos_lr=False, close_mosaic=10, resume=False, amp=True, fraction=1.0, profile=False, freeze=None, multi_scale=False, overlap_mask=True, mask_ratio=4, dropout=0.0, val=True, split=val, save_json=False, save_hybrid=False, conf=None, iou=0.7, max_det=300, half=False, dnn=False, plots=True, source=None, vid_stride=1, stream_buffer=False, visualize=False, augment=False, agnostic_nms=False, classes=None, retina_masks=False, embed=None, show=False, save_frames=False, save_txt=False, save_conf=False, save_crop=False, show_labels=True, show_conf=True, show_boxes=True, line_width=None, format=torchscript, keras=False, optimize=False, int8=False, dynamic=False, simplify=True, opset=None, workspace=None, nms=False, lr0=0.01, lrf=0.01, momentum=0.937, weight_decay=0.0005, warmup_epochs=3.0, warmup_momentum=0.8, warmup_bias_lr=0.1, box=7.5, cls=0.5, dfl=1.5, pose=12.0, kobj=1.0, nbs=64, hsv_h=0.015, hsv_s=0.7, hsv_v=0.4, degrees=0.0, translate=0.1, scale=0.5, shear=0.0, perspective=0.0, flipud=0.0, fliplr=0.5, bgr=0.0, mosaic=1.0, mixup=0.0, copy_paste=0.0, copy_paste_mode=flip, auto_augment=randaugment, erasing=0.4, crop_fraction=1.0, cfg=None, tracker=botsort.yaml, save_dir=runs/segment/train11\n",
      "\n",
      "                   from  n    params  module                                       arguments                     \n",
      "  0                  -1  1       464  ultralytics.nn.modules.conv.Conv             [3, 16, 3, 2]                 \n",
      "  1                  -1  1      4672  ultralytics.nn.modules.conv.Conv             [16, 32, 3, 2]                \n",
      "  2                  -1  1      6640  ultralytics.nn.modules.block.C3k2            [32, 64, 1, False, 0.25]      \n",
      "  3                  -1  1     36992  ultralytics.nn.modules.conv.Conv             [64, 64, 3, 2]                \n",
      "  4                  -1  1     26080  ultralytics.nn.modules.block.C3k2            [64, 128, 1, False, 0.25]     \n",
      "  5                  -1  1    147712  ultralytics.nn.modules.conv.Conv             [128, 128, 3, 2]              \n",
      "  6                  -1  1     87040  ultralytics.nn.modules.block.C3k2            [128, 128, 1, True]           \n",
      "  7                  -1  1    295424  ultralytics.nn.modules.conv.Conv             [128, 256, 3, 2]              \n",
      "  8                  -1  1    346112  ultralytics.nn.modules.block.C3k2            [256, 256, 1, True]           \n",
      "  9                  -1  1    164608  ultralytics.nn.modules.block.SPPF            [256, 256, 5]                 \n",
      " 10                  -1  1    249728  ultralytics.nn.modules.block.C2PSA           [256, 256, 1]                 \n",
      " 11                  -1  1         0  torch.nn.modules.upsampling.Upsample         [None, 2, 'nearest']          \n",
      " 12             [-1, 6]  1         0  ultralytics.nn.modules.conv.Concat           [1]                           \n",
      " 13                  -1  1    111296  ultralytics.nn.modules.block.C3k2            [384, 128, 1, False]          \n",
      " 14                  -1  1         0  torch.nn.modules.upsampling.Upsample         [None, 2, 'nearest']          \n",
      " 15             [-1, 4]  1         0  ultralytics.nn.modules.conv.Concat           [1]                           \n",
      " 16                  -1  1     32096  ultralytics.nn.modules.block.C3k2            [256, 64, 1, False]           \n",
      " 17                  -1  1     36992  ultralytics.nn.modules.conv.Conv             [64, 64, 3, 2]                \n",
      " 18            [-1, 13]  1         0  ultralytics.nn.modules.conv.Concat           [1]                           \n",
      " 19                  -1  1     86720  ultralytics.nn.modules.block.C3k2            [192, 128, 1, False]          \n",
      " 20                  -1  1    147712  ultralytics.nn.modules.conv.Conv             [128, 128, 3, 2]              \n",
      " 21            [-1, 10]  1         0  ultralytics.nn.modules.conv.Concat           [1]                           \n",
      " 22                  -1  1    378880  ultralytics.nn.modules.block.C3k2            [384, 256, 1, True]           \n",
      " 23        [16, 19, 22]  1    683635  ultralytics.nn.modules.head.Segment          [1, 32, 64, [64, 128, 256]]   \n",
      "YOLO11n-seg summary: 355 layers, 2,842,803 parameters, 2,842,787 gradients, 10.4 GFLOPs\n",
      "\n",
      "Transferred 561/561 items from pretrained weights\n",
      "\u001b[34m\u001b[1mTensorBoard: \u001b[0mStart with 'tensorboard --logdir runs/segment/train11', view at http://localhost:6006/\n",
      "Freezing layer 'model.23.dfl.conv.weight'\n",
      "\u001b[34m\u001b[1mAMP: \u001b[0mrunning Automatic Mixed Precision (AMP) checks...\n",
      "\u001b[34m\u001b[1mAMP: \u001b[0mchecks passed ✅\n"
     ]
    },
    {
     "name": "stderr",
     "output_type": "stream",
     "text": [
      "\u001b[34m\u001b[1mtrain: \u001b[0mScanning /home/hatsu/coding/CapProj/TestSeg_1/dataset_3/labels/train... 59 images, 0 backgrounds, 0 corrupt: 100%|██████████| 59/59 [00:00<00:00, 402.91it/s]"
     ]
    },
    {
     "name": "stdout",
     "output_type": "stream",
     "text": [
      "\u001b[34m\u001b[1mtrain: \u001b[0mWARNING ⚠️ /home/hatsu/coding/CapProj/TestSeg_1/dataset_3/images/train/110031659_original.jpg: corrupt JPEG restored and saved\n",
      "\u001b[34m\u001b[1mtrain: \u001b[0mNew cache created: /home/hatsu/coding/CapProj/TestSeg_1/dataset_3/labels/train.cache\n"
     ]
    },
    {
     "name": "stderr",
     "output_type": "stream",
     "text": [
      "\n",
      "\u001b[34m\u001b[1mval: \u001b[0mScanning /home/hatsu/coding/CapProj/TestSeg_1/dataset_3/labels/val... 2 images, 0 backgrounds, 0 corrupt: 100%|██████████| 2/2 [00:00<00:00, 74.33it/s]"
     ]
    },
    {
     "name": "stdout",
     "output_type": "stream",
     "text": [
      "\u001b[34m\u001b[1mval: \u001b[0mNew cache created: /home/hatsu/coding/CapProj/TestSeg_1/dataset_3/labels/val.cache\n"
     ]
    },
    {
     "name": "stderr",
     "output_type": "stream",
     "text": [
      "\n"
     ]
    },
    {
     "name": "stdout",
     "output_type": "stream",
     "text": [
      "Plotting labels to runs/segment/train11/labels.jpg... \n",
      "\u001b[34m\u001b[1moptimizer:\u001b[0m 'optimizer=auto' found, ignoring 'lr0=0.01' and 'momentum=0.937' and determining best 'optimizer', 'lr0' and 'momentum' automatically... \n",
      "\u001b[34m\u001b[1moptimizer:\u001b[0m AdamW(lr=0.002, momentum=0.9) with parameter groups 90 weight(decay=0.0), 101 weight(decay=0.0005), 100 bias(decay=0.0)\n",
      "\u001b[34m\u001b[1mTensorBoard: \u001b[0mmodel graph visualization added ✅\n",
      "Image sizes 640 train, 640 val\n",
      "Using 4 dataloader workers\n",
      "Logging results to \u001b[1mruns/segment/train11\u001b[0m\n",
      "Starting training for 100 epochs...\n",
      "\n",
      "      Epoch    GPU_mem   box_loss   seg_loss   cls_loss   dfl_loss  Instances       Size\n"
     ]
    },
    {
     "name": "stderr",
     "output_type": "stream",
     "text": [
      "      1/100      3.32G      1.021      2.818     0.8663      1.464         50        640: 100%|██████████| 4/4 [00:02<00:00,  1.72it/s]\n",
      "                 Class     Images  Instances      Box(P          R      mAP50  mAP50-95)     Mask(P          R      mAP50  mAP50-95): 100%|██████████| 1/1 [00:00<00:00, 13.24it/s]"
     ]
    },
    {
     "name": "stdout",
     "output_type": "stream",
     "text": [
      "                   all          2          4      0.999          1      0.995      0.802      0.999          1      0.995      0.815\n"
     ]
    },
    {
     "name": "stderr",
     "output_type": "stream",
     "text": [
      "\n"
     ]
    },
    {
     "name": "stdout",
     "output_type": "stream",
     "text": [
      "\n",
      "      Epoch    GPU_mem   box_loss   seg_loss   cls_loss   dfl_loss  Instances       Size\n"
     ]
    },
    {
     "name": "stderr",
     "output_type": "stream",
     "text": [
      "      2/100      3.05G      1.006      2.049     0.8879      1.426         51        640: 100%|██████████| 4/4 [00:01<00:00,  2.98it/s]\n",
      "                 Class     Images  Instances      Box(P          R      mAP50  mAP50-95)     Mask(P          R      mAP50  mAP50-95): 100%|██████████| 1/1 [00:00<00:00, 13.14it/s]"
     ]
    },
    {
     "name": "stdout",
     "output_type": "stream",
     "text": [
      "                   all          2          4      0.747          1      0.945      0.702      0.747          1      0.945      0.752\n"
     ]
    },
    {
     "name": "stderr",
     "output_type": "stream",
     "text": [
      "\n"
     ]
    },
    {
     "name": "stdout",
     "output_type": "stream",
     "text": [
      "\n",
      "      Epoch    GPU_mem   box_loss   seg_loss   cls_loss   dfl_loss  Instances       Size\n"
     ]
    },
    {
     "name": "stderr",
     "output_type": "stream",
     "text": [
      "      3/100      3.04G     0.8826      1.492     0.7712      1.294         67        640: 100%|██████████| 4/4 [00:01<00:00,  3.85it/s]\n",
      "                 Class     Images  Instances      Box(P          R      mAP50  mAP50-95)     Mask(P          R      mAP50  mAP50-95): 100%|██████████| 1/1 [00:00<00:00, 17.79it/s]"
     ]
    },
    {
     "name": "stdout",
     "output_type": "stream",
     "text": [
      "                   all          2          4      0.994          1      0.995      0.576      0.994          1      0.995      0.747\n"
     ]
    },
    {
     "name": "stderr",
     "output_type": "stream",
     "text": [
      "\n"
     ]
    },
    {
     "name": "stdout",
     "output_type": "stream",
     "text": [
      "\n",
      "      Epoch    GPU_mem   box_loss   seg_loss   cls_loss   dfl_loss  Instances       Size\n"
     ]
    },
    {
     "name": "stderr",
     "output_type": "stream",
     "text": [
      "      4/100         3G      0.829      1.641     0.8194      1.305         48        640: 100%|██████████| 4/4 [00:01<00:00,  3.94it/s]\n",
      "                 Class     Images  Instances      Box(P          R      mAP50  mAP50-95)     Mask(P          R      mAP50  mAP50-95): 100%|██████████| 1/1 [00:00<00:00, 18.76it/s]"
     ]
    },
    {
     "name": "stdout",
     "output_type": "stream",
     "text": [
      "                   all          2          4      0.792          1      0.945      0.695      0.792          1      0.945      0.711\n"
     ]
    },
    {
     "name": "stderr",
     "output_type": "stream",
     "text": [
      "\n"
     ]
    },
    {
     "name": "stdout",
     "output_type": "stream",
     "text": [
      "\n",
      "      Epoch    GPU_mem   box_loss   seg_loss   cls_loss   dfl_loss  Instances       Size\n"
     ]
    },
    {
     "name": "stderr",
     "output_type": "stream",
     "text": [
      "      5/100      3.02G      0.723      1.308     0.7007      1.196         60        640: 100%|██████████| 4/4 [00:00<00:00,  4.27it/s]\n",
      "                 Class     Images  Instances      Box(P          R      mAP50  mAP50-95)     Mask(P          R      mAP50  mAP50-95): 100%|██████████| 1/1 [00:00<00:00, 17.80it/s]"
     ]
    },
    {
     "name": "stdout",
     "output_type": "stream",
     "text": [
      "                   all          2          4      0.798          1      0.895      0.626      0.798          1      0.895      0.632\n"
     ]
    },
    {
     "name": "stderr",
     "output_type": "stream",
     "text": [
      "\n"
     ]
    },
    {
     "name": "stdout",
     "output_type": "stream",
     "text": [
      "\n",
      "      Epoch    GPU_mem   box_loss   seg_loss   cls_loss   dfl_loss  Instances       Size\n"
     ]
    },
    {
     "name": "stderr",
     "output_type": "stream",
     "text": [
      "      6/100      3.04G     0.7767      1.321     0.7438      1.309         49        640: 100%|██████████| 4/4 [00:01<00:00,  3.95it/s]\n",
      "                 Class     Images  Instances      Box(P          R      mAP50  mAP50-95)     Mask(P          R      mAP50  mAP50-95): 100%|██████████| 1/1 [00:00<00:00, 18.44it/s]"
     ]
    },
    {
     "name": "stdout",
     "output_type": "stream",
     "text": [
      "                   all          2          4      0.999          1      0.995      0.709      0.999          1      0.995      0.672\n"
     ]
    },
    {
     "name": "stderr",
     "output_type": "stream",
     "text": [
      "\n"
     ]
    },
    {
     "name": "stdout",
     "output_type": "stream",
     "text": [
      "\n",
      "      Epoch    GPU_mem   box_loss   seg_loss   cls_loss   dfl_loss  Instances       Size\n"
     ]
    },
    {
     "name": "stderr",
     "output_type": "stream",
     "text": [
      "      7/100      3.04G     0.8066       1.29     0.7423      1.269         52        640: 100%|██████████| 4/4 [00:01<00:00,  3.83it/s]\n",
      "                 Class     Images  Instances      Box(P          R      mAP50  mAP50-95)     Mask(P          R      mAP50  mAP50-95): 100%|██████████| 1/1 [00:00<00:00, 17.12it/s]"
     ]
    },
    {
     "name": "stdout",
     "output_type": "stream",
     "text": [
      "                   all          2          4      0.991          1      0.995      0.777      0.991          1      0.995      0.727\n"
     ]
    },
    {
     "name": "stderr",
     "output_type": "stream",
     "text": [
      "\n"
     ]
    },
    {
     "name": "stdout",
     "output_type": "stream",
     "text": [
      "\n",
      "      Epoch    GPU_mem   box_loss   seg_loss   cls_loss   dfl_loss  Instances       Size\n"
     ]
    },
    {
     "name": "stderr",
     "output_type": "stream",
     "text": [
      "      8/100      3.02G     0.7008      1.268      0.699      1.191         53        640: 100%|██████████| 4/4 [00:00<00:00,  4.22it/s]\n",
      "                 Class     Images  Instances      Box(P          R      mAP50  mAP50-95)     Mask(P          R      mAP50  mAP50-95): 100%|██████████| 1/1 [00:00<00:00, 16.18it/s]"
     ]
    },
    {
     "name": "stdout",
     "output_type": "stream",
     "text": [
      "                   all          2          4      0.992          1      0.995      0.771      0.992          1      0.995      0.761\n"
     ]
    },
    {
     "name": "stderr",
     "output_type": "stream",
     "text": [
      "\n"
     ]
    },
    {
     "name": "stdout",
     "output_type": "stream",
     "text": [
      "\n",
      "      Epoch    GPU_mem   box_loss   seg_loss   cls_loss   dfl_loss  Instances       Size\n"
     ]
    },
    {
     "name": "stderr",
     "output_type": "stream",
     "text": [
      "      9/100      3.02G     0.6608      1.123     0.6381       1.16         49        640: 100%|██████████| 4/4 [00:00<00:00,  4.38it/s]\n",
      "                 Class     Images  Instances      Box(P          R      mAP50  mAP50-95)     Mask(P          R      mAP50  mAP50-95): 100%|██████████| 1/1 [00:00<00:00, 19.81it/s]"
     ]
    },
    {
     "name": "stdout",
     "output_type": "stream",
     "text": [
      "                   all          2          4      0.796          1      0.895      0.716      0.796          1      0.895      0.563\n"
     ]
    },
    {
     "name": "stderr",
     "output_type": "stream",
     "text": [
      "\n"
     ]
    },
    {
     "name": "stdout",
     "output_type": "stream",
     "text": [
      "\n",
      "      Epoch    GPU_mem   box_loss   seg_loss   cls_loss   dfl_loss  Instances       Size\n"
     ]
    },
    {
     "name": "stderr",
     "output_type": "stream",
     "text": [
      "     10/100      3.06G     0.6786      1.127     0.6583      1.156         49        640: 100%|██████████| 4/4 [00:00<00:00,  4.22it/s]\n",
      "                 Class     Images  Instances      Box(P          R      mAP50  mAP50-95)     Mask(P          R      mAP50  mAP50-95): 100%|██████████| 1/1 [00:00<00:00, 19.86it/s]"
     ]
    },
    {
     "name": "stdout",
     "output_type": "stream",
     "text": [
      "                   all          2          4      0.797          1      0.945      0.703      0.797          1      0.945      0.391\n"
     ]
    },
    {
     "name": "stderr",
     "output_type": "stream",
     "text": [
      "\n"
     ]
    },
    {
     "name": "stdout",
     "output_type": "stream",
     "text": [
      "\n",
      "      Epoch    GPU_mem   box_loss   seg_loss   cls_loss   dfl_loss  Instances       Size\n"
     ]
    },
    {
     "name": "stderr",
     "output_type": "stream",
     "text": [
      "     11/100      3.03G     0.6422      1.035     0.6237      1.142         51        640: 100%|██████████| 4/4 [00:00<00:00,  4.21it/s]\n",
      "                 Class     Images  Instances      Box(P          R      mAP50  mAP50-95)     Mask(P          R      mAP50  mAP50-95): 100%|██████████| 1/1 [00:00<00:00, 16.19it/s]"
     ]
    },
    {
     "name": "stdout",
     "output_type": "stream",
     "text": [
      "                   all          2          4          1      0.965      0.995      0.694      0.944       0.75      0.822      0.422\n"
     ]
    },
    {
     "name": "stderr",
     "output_type": "stream",
     "text": [
      "\n"
     ]
    },
    {
     "name": "stdout",
     "output_type": "stream",
     "text": [
      "\n",
      "      Epoch    GPU_mem   box_loss   seg_loss   cls_loss   dfl_loss  Instances       Size\n"
     ]
    },
    {
     "name": "stderr",
     "output_type": "stream",
     "text": [
      "     12/100      3.03G     0.7415      1.219     0.7254      1.199         45        640: 100%|██████████| 4/4 [00:00<00:00,  4.22it/s]\n",
      "                 Class     Images  Instances      Box(P          R      mAP50  mAP50-95)     Mask(P          R      mAP50  mAP50-95): 100%|██████████| 1/1 [00:00<00:00, 16.53it/s]"
     ]
    },
    {
     "name": "stdout",
     "output_type": "stream",
     "text": [
      "                   all          2          4      0.978          1      0.995      0.622          1      0.731      0.778      0.521\n"
     ]
    },
    {
     "name": "stderr",
     "output_type": "stream",
     "text": [
      "\n"
     ]
    },
    {
     "name": "stdout",
     "output_type": "stream",
     "text": [
      "\n",
      "      Epoch    GPU_mem   box_loss   seg_loss   cls_loss   dfl_loss  Instances       Size\n"
     ]
    },
    {
     "name": "stderr",
     "output_type": "stream",
     "text": [
      "     13/100      3.04G      0.728     0.9837     0.6116      1.194         53        640: 100%|██████████| 4/4 [00:00<00:00,  4.28it/s]\n",
      "                 Class     Images  Instances      Box(P          R      mAP50  mAP50-95)     Mask(P          R      mAP50  mAP50-95): 100%|██████████| 1/1 [00:00<00:00, 17.28it/s]"
     ]
    },
    {
     "name": "stdout",
     "output_type": "stream",
     "text": [
      "                   all          2          4      0.747          1      0.895      0.455      0.974        0.5      0.658      0.456\n"
     ]
    },
    {
     "name": "stderr",
     "output_type": "stream",
     "text": [
      "\n"
     ]
    },
    {
     "name": "stdout",
     "output_type": "stream",
     "text": [
      "\n",
      "      Epoch    GPU_mem   box_loss   seg_loss   cls_loss   dfl_loss  Instances       Size\n"
     ]
    },
    {
     "name": "stderr",
     "output_type": "stream",
     "text": [
      "     14/100      3.06G     0.7567      1.192     0.6715      1.224         39        640: 100%|██████████| 4/4 [00:00<00:00,  4.48it/s]\n",
      "                 Class     Images  Instances      Box(P          R      mAP50  mAP50-95)     Mask(P          R      mAP50  mAP50-95): 100%|██████████| 1/1 [00:00<00:00, 14.98it/s]"
     ]
    },
    {
     "name": "stdout",
     "output_type": "stream",
     "text": [
      "                   all          2          4      0.745      0.734      0.787      0.423      0.738      0.713      0.703      0.403\n"
     ]
    },
    {
     "name": "stderr",
     "output_type": "stream",
     "text": [
      "\n"
     ]
    },
    {
     "name": "stdout",
     "output_type": "stream",
     "text": [
      "\n",
      "      Epoch    GPU_mem   box_loss   seg_loss   cls_loss   dfl_loss  Instances       Size\n"
     ]
    },
    {
     "name": "stderr",
     "output_type": "stream",
     "text": [
      "     15/100      3.03G     0.6748        1.1     0.6228       1.17         50        640: 100%|██████████| 4/4 [00:00<00:00,  4.41it/s]\n",
      "                 Class     Images  Instances      Box(P          R      mAP50  mAP50-95)     Mask(P          R      mAP50  mAP50-95): 100%|██████████| 1/1 [00:00<00:00, 16.47it/s]"
     ]
    },
    {
     "name": "stdout",
     "output_type": "stream",
     "text": [
      "                   all          2          4      0.942       0.25      0.474      0.206          1      0.492      0.539      0.199\n"
     ]
    },
    {
     "name": "stderr",
     "output_type": "stream",
     "text": [
      "\n"
     ]
    },
    {
     "name": "stdout",
     "output_type": "stream",
     "text": [
      "\n",
      "      Epoch    GPU_mem   box_loss   seg_loss   cls_loss   dfl_loss  Instances       Size\n"
     ]
    },
    {
     "name": "stderr",
     "output_type": "stream",
     "text": [
      "     16/100      3.03G     0.7198     0.9765     0.6434      1.201         56        640: 100%|██████████| 4/4 [00:00<00:00,  4.17it/s]\n",
      "                 Class     Images  Instances      Box(P          R      mAP50  mAP50-95)     Mask(P          R      mAP50  mAP50-95): 100%|██████████| 1/1 [00:00<00:00, 20.23it/s]"
     ]
    },
    {
     "name": "stdout",
     "output_type": "stream",
     "text": [
      "                   all          2          4          1      0.694      0.801      0.231          1      0.694      0.801      0.338\n"
     ]
    },
    {
     "name": "stderr",
     "output_type": "stream",
     "text": [
      "\n"
     ]
    },
    {
     "name": "stdout",
     "output_type": "stream",
     "text": [
      "\n",
      "      Epoch    GPU_mem   box_loss   seg_loss   cls_loss   dfl_loss  Instances       Size\n"
     ]
    },
    {
     "name": "stderr",
     "output_type": "stream",
     "text": [
      "     17/100      3.04G     0.6647     0.9122     0.6097       1.14         61        640: 100%|██████████| 4/4 [00:00<00:00,  4.48it/s]\n",
      "                 Class     Images  Instances      Box(P          R      mAP50  mAP50-95)     Mask(P          R      mAP50  mAP50-95): 100%|██████████| 1/1 [00:00<00:00, 18.48it/s]"
     ]
    },
    {
     "name": "stdout",
     "output_type": "stream",
     "text": [
      "                   all          2          4      0.775          1      0.895       0.29      0.745      0.734       0.71      0.366\n"
     ]
    },
    {
     "name": "stderr",
     "output_type": "stream",
     "text": [
      "\n"
     ]
    },
    {
     "name": "stdout",
     "output_type": "stream",
     "text": [
      "\n",
      "      Epoch    GPU_mem   box_loss   seg_loss   cls_loss   dfl_loss  Instances       Size\n"
     ]
    },
    {
     "name": "stderr",
     "output_type": "stream",
     "text": [
      "     18/100      3.05G     0.6553     0.9717     0.6165      1.112         51        640: 100%|██████████| 4/4 [00:00<00:00,  4.40it/s]\n",
      "                 Class     Images  Instances      Box(P          R      mAP50  mAP50-95)     Mask(P          R      mAP50  mAP50-95): 100%|██████████| 1/1 [00:00<00:00, 19.61it/s]"
     ]
    },
    {
     "name": "stdout",
     "output_type": "stream",
     "text": [
      "                   all          2          4      0.987          1      0.995      0.524      0.987          1      0.995      0.525\n"
     ]
    },
    {
     "name": "stderr",
     "output_type": "stream",
     "text": [
      "\n"
     ]
    },
    {
     "name": "stdout",
     "output_type": "stream",
     "text": [
      "\n",
      "      Epoch    GPU_mem   box_loss   seg_loss   cls_loss   dfl_loss  Instances       Size\n"
     ]
    },
    {
     "name": "stderr",
     "output_type": "stream",
     "text": [
      "     19/100      3.03G     0.6825      1.133      0.657      1.149         52        640: 100%|██████████| 4/4 [00:00<00:00,  4.47it/s]\n",
      "                 Class     Images  Instances      Box(P          R      mAP50  mAP50-95)     Mask(P          R      mAP50  mAP50-95): 100%|██████████| 1/1 [00:00<00:00, 16.18it/s]"
     ]
    },
    {
     "name": "stdout",
     "output_type": "stream",
     "text": [
      "                   all          2          4      0.988          1      0.995      0.757      0.988          1      0.995      0.566\n"
     ]
    },
    {
     "name": "stderr",
     "output_type": "stream",
     "text": [
      "\n"
     ]
    },
    {
     "name": "stdout",
     "output_type": "stream",
     "text": [
      "\n",
      "      Epoch    GPU_mem   box_loss   seg_loss   cls_loss   dfl_loss  Instances       Size\n"
     ]
    },
    {
     "name": "stderr",
     "output_type": "stream",
     "text": [
      "     20/100      3.02G     0.6651      1.161     0.6244      1.104         56        640: 100%|██████████| 4/4 [00:00<00:00,  4.29it/s]\n",
      "                 Class     Images  Instances      Box(P          R      mAP50  mAP50-95)     Mask(P          R      mAP50  mAP50-95): 100%|██████████| 1/1 [00:00<00:00, 15.77it/s]"
     ]
    },
    {
     "name": "stdout",
     "output_type": "stream",
     "text": [
      "                   all          2          4      0.988          1      0.995      0.697      0.988          1      0.995      0.547\n"
     ]
    },
    {
     "name": "stderr",
     "output_type": "stream",
     "text": [
      "\n"
     ]
    },
    {
     "name": "stdout",
     "output_type": "stream",
     "text": [
      "\n",
      "      Epoch    GPU_mem   box_loss   seg_loss   cls_loss   dfl_loss  Instances       Size\n"
     ]
    },
    {
     "name": "stderr",
     "output_type": "stream",
     "text": [
      "     21/100      3.06G     0.7412      1.104     0.7146      1.203         50        640: 100%|██████████| 4/4 [00:00<00:00,  4.07it/s]\n",
      "                 Class     Images  Instances      Box(P          R      mAP50  mAP50-95)     Mask(P          R      mAP50  mAP50-95): 100%|██████████| 1/1 [00:00<00:00, 13.70it/s]"
     ]
    },
    {
     "name": "stdout",
     "output_type": "stream",
     "text": [
      "                   all          2          4      0.988          1      0.995      0.697      0.988          1      0.995      0.584\n"
     ]
    },
    {
     "name": "stderr",
     "output_type": "stream",
     "text": [
      "\n"
     ]
    },
    {
     "name": "stdout",
     "output_type": "stream",
     "text": [
      "\n",
      "      Epoch    GPU_mem   box_loss   seg_loss   cls_loss   dfl_loss  Instances       Size\n"
     ]
    },
    {
     "name": "stderr",
     "output_type": "stream",
     "text": [
      "     22/100      3.03G     0.6751      1.138     0.6471      1.152         53        640: 100%|██████████| 4/4 [00:00<00:00,  4.49it/s]\n",
      "                 Class     Images  Instances      Box(P          R      mAP50  mAP50-95)     Mask(P          R      mAP50  mAP50-95): 100%|██████████| 1/1 [00:00<00:00, 17.93it/s]"
     ]
    },
    {
     "name": "stdout",
     "output_type": "stream",
     "text": [
      "                   all          2          4      0.987          1      0.995      0.634      0.987          1      0.995      0.597\n"
     ]
    },
    {
     "name": "stderr",
     "output_type": "stream",
     "text": [
      "\n"
     ]
    },
    {
     "name": "stdout",
     "output_type": "stream",
     "text": [
      "\n",
      "      Epoch    GPU_mem   box_loss   seg_loss   cls_loss   dfl_loss  Instances       Size\n"
     ]
    },
    {
     "name": "stderr",
     "output_type": "stream",
     "text": [
      "     23/100      3.01G     0.6919       0.97     0.6901      1.164         51        640: 100%|██████████| 4/4 [00:00<00:00,  4.48it/s]\n",
      "                 Class     Images  Instances      Box(P          R      mAP50  mAP50-95)     Mask(P          R      mAP50  mAP50-95): 100%|██████████| 1/1 [00:00<00:00, 17.51it/s]"
     ]
    },
    {
     "name": "stdout",
     "output_type": "stream",
     "text": [
      "                   all          2          4      0.983          1      0.995      0.562      0.983          1      0.995      0.571\n"
     ]
    },
    {
     "name": "stderr",
     "output_type": "stream",
     "text": [
      "\n"
     ]
    },
    {
     "name": "stdout",
     "output_type": "stream",
     "text": [
      "\n",
      "      Epoch    GPU_mem   box_loss   seg_loss   cls_loss   dfl_loss  Instances       Size\n"
     ]
    },
    {
     "name": "stderr",
     "output_type": "stream",
     "text": [
      "     24/100      3.05G     0.7457      1.007     0.7111      1.173         50        640: 100%|██████████| 4/4 [00:00<00:00,  4.38it/s]\n",
      "                 Class     Images  Instances      Box(P          R      mAP50  mAP50-95)     Mask(P          R      mAP50  mAP50-95): 100%|██████████| 1/1 [00:00<00:00, 16.04it/s]"
     ]
    },
    {
     "name": "stdout",
     "output_type": "stream",
     "text": [
      "                   all          2          4      0.991          1      0.995      0.438      0.991          1      0.995      0.552\n"
     ]
    },
    {
     "name": "stderr",
     "output_type": "stream",
     "text": [
      "\n"
     ]
    },
    {
     "name": "stdout",
     "output_type": "stream",
     "text": [
      "\n",
      "      Epoch    GPU_mem   box_loss   seg_loss   cls_loss   dfl_loss  Instances       Size\n"
     ]
    },
    {
     "name": "stderr",
     "output_type": "stream",
     "text": [
      "     25/100      3.04G     0.6877      1.059     0.6424      1.174         56        640: 100%|██████████| 4/4 [00:00<00:00,  4.47it/s]\n",
      "                 Class     Images  Instances      Box(P          R      mAP50  mAP50-95)     Mask(P          R      mAP50  mAP50-95): 100%|██████████| 1/1 [00:00<00:00, 14.43it/s]"
     ]
    },
    {
     "name": "stdout",
     "output_type": "stream",
     "text": [
      "                   all          2          4      0.918          1      0.995      0.388      0.918          1      0.995      0.497\n"
     ]
    },
    {
     "name": "stderr",
     "output_type": "stream",
     "text": [
      "\n"
     ]
    },
    {
     "name": "stdout",
     "output_type": "stream",
     "text": [
      "\n",
      "      Epoch    GPU_mem   box_loss   seg_loss   cls_loss   dfl_loss  Instances       Size\n"
     ]
    },
    {
     "name": "stderr",
     "output_type": "stream",
     "text": [
      "     26/100      3.01G     0.7476     0.8798     0.6929      1.201         48        640: 100%|██████████| 4/4 [00:00<00:00,  4.41it/s]\n",
      "                 Class     Images  Instances      Box(P          R      mAP50  mAP50-95)     Mask(P          R      mAP50  mAP50-95): 100%|██████████| 1/1 [00:00<00:00, 17.23it/s]"
     ]
    },
    {
     "name": "stdout",
     "output_type": "stream",
     "text": [
      "                   all          2          4      0.987          1      0.995      0.394      0.987          1      0.995      0.572\n"
     ]
    },
    {
     "name": "stderr",
     "output_type": "stream",
     "text": [
      "\n"
     ]
    },
    {
     "name": "stdout",
     "output_type": "stream",
     "text": [
      "\n",
      "      Epoch    GPU_mem   box_loss   seg_loss   cls_loss   dfl_loss  Instances       Size\n"
     ]
    },
    {
     "name": "stderr",
     "output_type": "stream",
     "text": [
      "     27/100      3.03G     0.7193      1.015     0.6285      1.149         60        640: 100%|██████████| 4/4 [00:00<00:00,  4.49it/s]\n",
      "                 Class     Images  Instances      Box(P          R      mAP50  mAP50-95)     Mask(P          R      mAP50  mAP50-95): 100%|██████████| 1/1 [00:00<00:00, 17.81it/s]"
     ]
    },
    {
     "name": "stdout",
     "output_type": "stream",
     "text": [
      "                   all          2          4      0.984          1      0.995      0.482      0.984          1      0.995      0.547\n"
     ]
    },
    {
     "name": "stderr",
     "output_type": "stream",
     "text": [
      "\n"
     ]
    },
    {
     "name": "stdout",
     "output_type": "stream",
     "text": [
      "\n",
      "      Epoch    GPU_mem   box_loss   seg_loss   cls_loss   dfl_loss  Instances       Size\n"
     ]
    },
    {
     "name": "stderr",
     "output_type": "stream",
     "text": [
      "     28/100      3.03G     0.7174      1.042     0.6505      1.187         57        640: 100%|██████████| 4/4 [00:00<00:00,  4.46it/s]\n",
      "                 Class     Images  Instances      Box(P          R      mAP50  mAP50-95)     Mask(P          R      mAP50  mAP50-95): 100%|██████████| 1/1 [00:00<00:00, 19.34it/s]"
     ]
    },
    {
     "name": "stdout",
     "output_type": "stream",
     "text": [
      "                   all          2          4      0.957          1      0.995      0.672      0.957          1      0.995      0.529\n"
     ]
    },
    {
     "name": "stderr",
     "output_type": "stream",
     "text": [
      "\n"
     ]
    },
    {
     "name": "stdout",
     "output_type": "stream",
     "text": [
      "\n",
      "      Epoch    GPU_mem   box_loss   seg_loss   cls_loss   dfl_loss  Instances       Size\n"
     ]
    },
    {
     "name": "stderr",
     "output_type": "stream",
     "text": [
      "     29/100      3.05G     0.6405     0.9615     0.5723      1.118         56        640: 100%|██████████| 4/4 [00:00<00:00,  4.51it/s]\n",
      "                 Class     Images  Instances      Box(P          R      mAP50  mAP50-95)     Mask(P          R      mAP50  mAP50-95): 100%|██████████| 1/1 [00:00<00:00, 18.14it/s]"
     ]
    },
    {
     "name": "stdout",
     "output_type": "stream",
     "text": [
      "                   all          2          4      0.949          1      0.995      0.703      0.949          1      0.995      0.498\n"
     ]
    },
    {
     "name": "stderr",
     "output_type": "stream",
     "text": [
      "\n"
     ]
    },
    {
     "name": "stdout",
     "output_type": "stream",
     "text": [
      "\n",
      "      Epoch    GPU_mem   box_loss   seg_loss   cls_loss   dfl_loss  Instances       Size\n"
     ]
    },
    {
     "name": "stderr",
     "output_type": "stream",
     "text": [
      "     30/100      3.03G     0.6693     0.8573     0.6016      1.139         53        640: 100%|██████████| 4/4 [00:00<00:00,  4.51it/s]\n",
      "                 Class     Images  Instances      Box(P          R      mAP50  mAP50-95)     Mask(P          R      mAP50  mAP50-95): 100%|██████████| 1/1 [00:00<00:00, 20.11it/s]"
     ]
    },
    {
     "name": "stdout",
     "output_type": "stream",
     "text": [
      "                   all          2          4      0.762          1      0.895      0.526      0.762          1      0.895      0.301\n"
     ]
    },
    {
     "name": "stderr",
     "output_type": "stream",
     "text": [
      "\n"
     ]
    },
    {
     "name": "stdout",
     "output_type": "stream",
     "text": [
      "\n",
      "      Epoch    GPU_mem   box_loss   seg_loss   cls_loss   dfl_loss  Instances       Size\n"
     ]
    },
    {
     "name": "stderr",
     "output_type": "stream",
     "text": [
      "     31/100      3.06G     0.6174     0.9982       0.54       1.09         57        640: 100%|██████████| 4/4 [00:00<00:00,  4.45it/s]\n",
      "                 Class     Images  Instances      Box(P          R      mAP50  mAP50-95)     Mask(P          R      mAP50  mAP50-95): 100%|██████████| 1/1 [00:00<00:00, 19.66it/s]"
     ]
    },
    {
     "name": "stdout",
     "output_type": "stream",
     "text": [
      "                   all          2          4      0.788          1      0.945      0.343      0.788          1      0.945      0.265\n"
     ]
    },
    {
     "name": "stderr",
     "output_type": "stream",
     "text": [
      "\n"
     ]
    },
    {
     "name": "stdout",
     "output_type": "stream",
     "text": [
      "\n",
      "      Epoch    GPU_mem   box_loss   seg_loss   cls_loss   dfl_loss  Instances       Size\n"
     ]
    },
    {
     "name": "stderr",
     "output_type": "stream",
     "text": [
      "     32/100      3.05G     0.6475     0.9404     0.5776       1.13         55        640: 100%|██████████| 4/4 [00:00<00:00,  4.41it/s]\n",
      "                 Class     Images  Instances      Box(P          R      mAP50  mAP50-95)     Mask(P          R      mAP50  mAP50-95): 100%|██████████| 1/1 [00:00<00:00, 16.54it/s]"
     ]
    },
    {
     "name": "stdout",
     "output_type": "stream",
     "text": [
      "                   all          2          4      0.973       0.75       0.87      0.442          1      0.993      0.995      0.472\n"
     ]
    },
    {
     "name": "stderr",
     "output_type": "stream",
     "text": [
      "\n"
     ]
    },
    {
     "name": "stdout",
     "output_type": "stream",
     "text": [
      "\n",
      "      Epoch    GPU_mem   box_loss   seg_loss   cls_loss   dfl_loss  Instances       Size\n"
     ]
    },
    {
     "name": "stderr",
     "output_type": "stream",
     "text": [
      "     33/100      3.05G     0.6518     0.9424     0.5892      1.152         62        640: 100%|██████████| 4/4 [00:00<00:00,  4.36it/s]\n",
      "                 Class     Images  Instances      Box(P          R      mAP50  mAP50-95)     Mask(P          R      mAP50  mAP50-95): 100%|██████████| 1/1 [00:00<00:00, 20.62it/s]"
     ]
    },
    {
     "name": "stdout",
     "output_type": "stream",
     "text": [
      "                   all          2          4      0.983       0.75      0.888      0.326      0.983       0.75      0.945      0.468\n"
     ]
    },
    {
     "name": "stderr",
     "output_type": "stream",
     "text": [
      "\n"
     ]
    },
    {
     "name": "stdout",
     "output_type": "stream",
     "text": [
      "\n",
      "      Epoch    GPU_mem   box_loss   seg_loss   cls_loss   dfl_loss  Instances       Size\n"
     ]
    },
    {
     "name": "stderr",
     "output_type": "stream",
     "text": [
      "     34/100      3.03G      0.665     0.9935     0.6049      1.179         44        640: 100%|██████████| 4/4 [00:00<00:00,  4.36it/s]\n",
      "                 Class     Images  Instances      Box(P          R      mAP50  mAP50-95)     Mask(P          R      mAP50  mAP50-95): 100%|██████████| 1/1 [00:00<00:00, 17.46it/s]"
     ]
    },
    {
     "name": "stdout",
     "output_type": "stream",
     "text": [
      "                   all          2          4      0.651        0.5      0.512      0.289          1       0.98      0.995      0.559\n"
     ]
    },
    {
     "name": "stderr",
     "output_type": "stream",
     "text": [
      "\n"
     ]
    },
    {
     "name": "stdout",
     "output_type": "stream",
     "text": [
      "\n",
      "      Epoch    GPU_mem   box_loss   seg_loss   cls_loss   dfl_loss  Instances       Size\n"
     ]
    },
    {
     "name": "stderr",
     "output_type": "stream",
     "text": [
      "     35/100      3.05G     0.6794      1.031     0.6049       1.16         49        640: 100%|██████████| 4/4 [00:00<00:00,  4.41it/s]\n",
      "                 Class     Images  Instances      Box(P          R      mAP50  mAP50-95)     Mask(P          R      mAP50  mAP50-95): 100%|██████████| 1/1 [00:00<00:00, 17.74it/s]"
     ]
    },
    {
     "name": "stdout",
     "output_type": "stream",
     "text": [
      "                   all          2          4      0.631        0.5      0.429      0.203      0.983          1      0.995      0.542\n"
     ]
    },
    {
     "name": "stderr",
     "output_type": "stream",
     "text": [
      "\n"
     ]
    },
    {
     "name": "stdout",
     "output_type": "stream",
     "text": [
      "\n",
      "      Epoch    GPU_mem   box_loss   seg_loss   cls_loss   dfl_loss  Instances       Size\n"
     ]
    },
    {
     "name": "stderr",
     "output_type": "stream",
     "text": [
      "     36/100      3.05G     0.6986     0.9763     0.6313      1.184         48        640: 100%|██████████| 4/4 [00:00<00:00,  4.24it/s]\n",
      "                 Class     Images  Instances      Box(P          R      mAP50  mAP50-95)     Mask(P          R      mAP50  mAP50-95): 100%|██████████| 1/1 [00:00<00:00, 16.29it/s]"
     ]
    },
    {
     "name": "stdout",
     "output_type": "stream",
     "text": [
      "                   all          2          4      0.969        0.5      0.579      0.135      0.969        0.5      0.677     0.0997\n"
     ]
    },
    {
     "name": "stderr",
     "output_type": "stream",
     "text": [
      "\n"
     ]
    },
    {
     "name": "stdout",
     "output_type": "stream",
     "text": [
      "\n",
      "      Epoch    GPU_mem   box_loss   seg_loss   cls_loss   dfl_loss  Instances       Size\n"
     ]
    },
    {
     "name": "stderr",
     "output_type": "stream",
     "text": [
      "     37/100      3.05G     0.6353     0.8866     0.6278      1.155         54        640: 100%|██████████| 4/4 [00:00<00:00,  4.03it/s]\n",
      "                 Class     Images  Instances      Box(P          R      mAP50  mAP50-95)     Mask(P          R      mAP50  mAP50-95): 100%|██████████| 1/1 [00:00<00:00, 14.63it/s]"
     ]
    },
    {
     "name": "stdout",
     "output_type": "stream",
     "text": [
      "                   all          2          4      0.599       0.75      0.651      0.128      0.336        0.5      0.465     0.0572\n"
     ]
    },
    {
     "name": "stderr",
     "output_type": "stream",
     "text": [
      "\n"
     ]
    },
    {
     "name": "stdout",
     "output_type": "stream",
     "text": [
      "\n",
      "      Epoch    GPU_mem   box_loss   seg_loss   cls_loss   dfl_loss  Instances       Size\n"
     ]
    },
    {
     "name": "stderr",
     "output_type": "stream",
     "text": [
      "     38/100      3.06G     0.5726     0.7361     0.5466      1.093         47        640: 100%|██████████| 4/4 [00:00<00:00,  4.19it/s]\n",
      "                 Class     Images  Instances      Box(P          R      mAP50  mAP50-95)     Mask(P          R      mAP50  mAP50-95): 100%|██████████| 1/1 [00:00<00:00, 16.76it/s]"
     ]
    },
    {
     "name": "stdout",
     "output_type": "stream",
     "text": [
      "                   all          2          4          1      0.729      0.751      0.237       0.58       0.75      0.485      0.182\n"
     ]
    },
    {
     "name": "stderr",
     "output_type": "stream",
     "text": [
      "\n"
     ]
    },
    {
     "name": "stdout",
     "output_type": "stream",
     "text": [
      "\n",
      "      Epoch    GPU_mem   box_loss   seg_loss   cls_loss   dfl_loss  Instances       Size\n"
     ]
    },
    {
     "name": "stderr",
     "output_type": "stream",
     "text": [
      "     39/100      3.05G     0.6826      0.895     0.6116      1.169         55        640: 100%|██████████| 4/4 [00:00<00:00,  4.39it/s]\n",
      "                 Class     Images  Instances      Box(P          R      mAP50  mAP50-95)     Mask(P          R      mAP50  mAP50-95): 100%|██████████| 1/1 [00:00<00:00, 19.65it/s]"
     ]
    },
    {
     "name": "stdout",
     "output_type": "stream",
     "text": [
      "                   all          2          4      0.973       0.75      0.888      0.244      0.748      0.744       0.56      0.308\n"
     ]
    },
    {
     "name": "stderr",
     "output_type": "stream",
     "text": [
      "\n"
     ]
    },
    {
     "name": "stdout",
     "output_type": "stream",
     "text": [
      "\n",
      "      Epoch    GPU_mem   box_loss   seg_loss   cls_loss   dfl_loss  Instances       Size\n"
     ]
    },
    {
     "name": "stderr",
     "output_type": "stream",
     "text": [
      "     40/100      3.06G     0.6787     0.8637     0.6177      1.157         54        640: 100%|██████████| 4/4 [00:00<00:00,  4.56it/s]\n",
      "                 Class     Images  Instances      Box(P          R      mAP50  mAP50-95)     Mask(P          R      mAP50  mAP50-95): 100%|██████████| 1/1 [00:00<00:00, 17.03it/s]"
     ]
    },
    {
     "name": "stdout",
     "output_type": "stream",
     "text": [
      "                   all          2          4          1      0.971      0.995      0.303       0.74      0.721       0.56      0.394\n"
     ]
    },
    {
     "name": "stderr",
     "output_type": "stream",
     "text": [
      "\n"
     ]
    },
    {
     "name": "stdout",
     "output_type": "stream",
     "text": [
      "\n",
      "      Epoch    GPU_mem   box_loss   seg_loss   cls_loss   dfl_loss  Instances       Size\n"
     ]
    },
    {
     "name": "stderr",
     "output_type": "stream",
     "text": [
      "     41/100      3.06G     0.6166      0.841     0.5734      1.094         64        640: 100%|██████████| 4/4 [00:00<00:00,  4.42it/s]\n",
      "                 Class     Images  Instances      Box(P          R      mAP50  mAP50-95)     Mask(P          R      mAP50  mAP50-95): 100%|██████████| 1/1 [00:00<00:00, 19.26it/s]"
     ]
    },
    {
     "name": "stdout",
     "output_type": "stream",
     "text": [
      "                   all          2          4          1      0.973      0.995      0.445      0.742      0.726      0.626      0.502\n"
     ]
    },
    {
     "name": "stderr",
     "output_type": "stream",
     "text": [
      "\n"
     ]
    },
    {
     "name": "stdout",
     "output_type": "stream",
     "text": [
      "\n",
      "      Epoch    GPU_mem   box_loss   seg_loss   cls_loss   dfl_loss  Instances       Size\n"
     ]
    },
    {
     "name": "stderr",
     "output_type": "stream",
     "text": [
      "     42/100      3.05G     0.6209     0.8129     0.5928      1.085         58        640: 100%|██████████| 4/4 [00:00<00:00,  4.46it/s]\n",
      "                 Class     Images  Instances      Box(P          R      mAP50  mAP50-95)     Mask(P          R      mAP50  mAP50-95): 100%|██████████| 1/1 [00:00<00:00, 15.28it/s]"
     ]
    },
    {
     "name": "stdout",
     "output_type": "stream",
     "text": [
      "                   all          2          4      0.797      0.985      0.895      0.628      0.797      0.985      0.895      0.631\n"
     ]
    },
    {
     "name": "stderr",
     "output_type": "stream",
     "text": [
      "\n"
     ]
    },
    {
     "name": "stdout",
     "output_type": "stream",
     "text": [
      "\n",
      "      Epoch    GPU_mem   box_loss   seg_loss   cls_loss   dfl_loss  Instances       Size\n"
     ]
    },
    {
     "name": "stderr",
     "output_type": "stream",
     "text": [
      "     43/100      3.01G     0.6202     0.8363     0.5891      1.125         54        640: 100%|██████████| 4/4 [00:00<00:00,  4.48it/s]\n",
      "                 Class     Images  Instances      Box(P          R      mAP50  mAP50-95)     Mask(P          R      mAP50  mAP50-95): 100%|██████████| 1/1 [00:00<00:00, 19.99it/s]"
     ]
    },
    {
     "name": "stdout",
     "output_type": "stream",
     "text": [
      "                   all          2          4      0.781          1      0.945      0.751      0.781          1      0.945      0.655\n"
     ]
    },
    {
     "name": "stderr",
     "output_type": "stream",
     "text": [
      "\n"
     ]
    },
    {
     "name": "stdout",
     "output_type": "stream",
     "text": [
      "\n",
      "      Epoch    GPU_mem   box_loss   seg_loss   cls_loss   dfl_loss  Instances       Size\n"
     ]
    },
    {
     "name": "stderr",
     "output_type": "stream",
     "text": [
      "     44/100      3.05G     0.6259     0.7989     0.5826      1.118         54        640: 100%|██████████| 4/4 [00:00<00:00,  4.24it/s]\n",
      "                 Class     Images  Instances      Box(P          R      mAP50  mAP50-95)     Mask(P          R      mAP50  mAP50-95): 100%|██████████| 1/1 [00:00<00:00, 11.54it/s]"
     ]
    },
    {
     "name": "stdout",
     "output_type": "stream",
     "text": [
      "                   all          2          4       0.99          1      0.995      0.767       0.99          1      0.995      0.686\n"
     ]
    },
    {
     "name": "stderr",
     "output_type": "stream",
     "text": [
      "\n"
     ]
    },
    {
     "name": "stdout",
     "output_type": "stream",
     "text": [
      "\n",
      "      Epoch    GPU_mem   box_loss   seg_loss   cls_loss   dfl_loss  Instances       Size\n"
     ]
    },
    {
     "name": "stderr",
     "output_type": "stream",
     "text": [
      "     45/100      3.03G     0.6803      1.041     0.6566      1.173         44        640: 100%|██████████| 4/4 [00:00<00:00,  4.11it/s]\n",
      "                 Class     Images  Instances      Box(P          R      mAP50  mAP50-95)     Mask(P          R      mAP50  mAP50-95): 100%|██████████| 1/1 [00:00<00:00, 10.59it/s]"
     ]
    },
    {
     "name": "stdout",
     "output_type": "stream",
     "text": [
      "                   all          2          4      0.956          1      0.995      0.692      0.956          1      0.995      0.662\n"
     ]
    },
    {
     "name": "stderr",
     "output_type": "stream",
     "text": [
      "\n"
     ]
    },
    {
     "name": "stdout",
     "output_type": "stream",
     "text": [
      "\n",
      "      Epoch    GPU_mem   box_loss   seg_loss   cls_loss   dfl_loss  Instances       Size\n"
     ]
    },
    {
     "name": "stderr",
     "output_type": "stream",
     "text": [
      "     46/100      3.05G     0.5827      1.005     0.5733      1.097         63        640: 100%|██████████| 4/4 [00:00<00:00,  4.49it/s]\n",
      "                 Class     Images  Instances      Box(P          R      mAP50  mAP50-95)     Mask(P          R      mAP50  mAP50-95): 100%|██████████| 1/1 [00:00<00:00, 19.67it/s]"
     ]
    },
    {
     "name": "stdout",
     "output_type": "stream",
     "text": [
      "                   all          2          4       0.98          1      0.995      0.616       0.98          1      0.995      0.558\n"
     ]
    },
    {
     "name": "stderr",
     "output_type": "stream",
     "text": [
      "\n"
     ]
    },
    {
     "name": "stdout",
     "output_type": "stream",
     "text": [
      "\n",
      "      Epoch    GPU_mem   box_loss   seg_loss   cls_loss   dfl_loss  Instances       Size\n"
     ]
    },
    {
     "name": "stderr",
     "output_type": "stream",
     "text": [
      "     47/100      3.06G     0.6011     0.7844     0.6052      1.146         40        640: 100%|██████████| 4/4 [00:00<00:00,  4.52it/s]\n",
      "                 Class     Images  Instances      Box(P          R      mAP50  mAP50-95)     Mask(P          R      mAP50  mAP50-95): 100%|██████████| 1/1 [00:00<00:00, 19.43it/s]"
     ]
    },
    {
     "name": "stdout",
     "output_type": "stream",
     "text": [
      "                   all          2          4      0.983          1      0.995      0.562      0.983          1      0.995      0.534\n"
     ]
    },
    {
     "name": "stderr",
     "output_type": "stream",
     "text": [
      "\n"
     ]
    },
    {
     "name": "stdout",
     "output_type": "stream",
     "text": [
      "\n",
      "      Epoch    GPU_mem   box_loss   seg_loss   cls_loss   dfl_loss  Instances       Size\n"
     ]
    },
    {
     "name": "stderr",
     "output_type": "stream",
     "text": [
      "     48/100      3.03G     0.6042      0.813     0.5698      1.101         47        640: 100%|██████████| 4/4 [00:00<00:00,  4.47it/s]\n",
      "                 Class     Images  Instances      Box(P          R      mAP50  mAP50-95)     Mask(P          R      mAP50  mAP50-95): 100%|██████████| 1/1 [00:00<00:00, 17.94it/s]"
     ]
    },
    {
     "name": "stdout",
     "output_type": "stream",
     "text": [
      "                   all          2          4      0.946          1      0.995      0.568      0.946          1      0.995      0.526\n"
     ]
    },
    {
     "name": "stderr",
     "output_type": "stream",
     "text": [
      "\n"
     ]
    },
    {
     "name": "stdout",
     "output_type": "stream",
     "text": [
      "\n",
      "      Epoch    GPU_mem   box_loss   seg_loss   cls_loss   dfl_loss  Instances       Size\n"
     ]
    },
    {
     "name": "stderr",
     "output_type": "stream",
     "text": [
      "     49/100      3.03G     0.6225     0.7877      0.577      1.151         47        640: 100%|██████████| 4/4 [00:00<00:00,  4.45it/s]\n",
      "                 Class     Images  Instances      Box(P          R      mAP50  mAP50-95)     Mask(P          R      mAP50  mAP50-95): 100%|██████████| 1/1 [00:00<00:00, 15.95it/s]"
     ]
    },
    {
     "name": "stdout",
     "output_type": "stream",
     "text": [
      "                   all          2          4      0.942       0.75      0.912      0.517      0.942       0.75      0.912      0.381\n"
     ]
    },
    {
     "name": "stderr",
     "output_type": "stream",
     "text": [
      "\n"
     ]
    },
    {
     "name": "stdout",
     "output_type": "stream",
     "text": [
      "\n",
      "      Epoch    GPU_mem   box_loss   seg_loss   cls_loss   dfl_loss  Instances       Size\n"
     ]
    },
    {
     "name": "stderr",
     "output_type": "stream",
     "text": [
      "     50/100      3.03G     0.6105     0.7801     0.5979      1.094         53        640: 100%|██████████| 4/4 [00:00<00:00,  4.53it/s]\n",
      "                 Class     Images  Instances      Box(P          R      mAP50  mAP50-95)     Mask(P          R      mAP50  mAP50-95): 100%|██████████| 1/1 [00:00<00:00, 18.73it/s]"
     ]
    },
    {
     "name": "stdout",
     "output_type": "stream",
     "text": [
      "                   all          2          4       0.78          1      0.945      0.647       0.78          1      0.945      0.463\n"
     ]
    },
    {
     "name": "stderr",
     "output_type": "stream",
     "text": [
      "\n"
     ]
    },
    {
     "name": "stdout",
     "output_type": "stream",
     "text": [
      "\n",
      "      Epoch    GPU_mem   box_loss   seg_loss   cls_loss   dfl_loss  Instances       Size\n"
     ]
    },
    {
     "name": "stderr",
     "output_type": "stream",
     "text": [
      "     51/100      3.03G     0.5344      0.724      0.484      1.025         58        640: 100%|██████████| 4/4 [00:00<00:00,  4.48it/s]\n",
      "                 Class     Images  Instances      Box(P          R      mAP50  mAP50-95)     Mask(P          R      mAP50  mAP50-95): 100%|██████████| 1/1 [00:00<00:00, 18.32it/s]"
     ]
    },
    {
     "name": "stdout",
     "output_type": "stream",
     "text": [
      "                   all          2          4      0.992          1      0.995      0.758      0.992          1      0.995      0.468\n"
     ]
    },
    {
     "name": "stderr",
     "output_type": "stream",
     "text": [
      "\n"
     ]
    },
    {
     "name": "stdout",
     "output_type": "stream",
     "text": [
      "\n",
      "      Epoch    GPU_mem   box_loss   seg_loss   cls_loss   dfl_loss  Instances       Size\n"
     ]
    },
    {
     "name": "stderr",
     "output_type": "stream",
     "text": [
      "     52/100      3.01G     0.5484     0.6551     0.4983      1.047         55        640: 100%|██████████| 4/4 [00:00<00:00,  4.47it/s]\n",
      "                 Class     Images  Instances      Box(P          R      mAP50  mAP50-95)     Mask(P          R      mAP50  mAP50-95): 100%|██████████| 1/1 [00:00<00:00, 17.44it/s]"
     ]
    },
    {
     "name": "stdout",
     "output_type": "stream",
     "text": [
      "                   all          2          4      0.988          1      0.995      0.763      0.988          1      0.995      0.474\n"
     ]
    },
    {
     "name": "stderr",
     "output_type": "stream",
     "text": [
      "\n"
     ]
    },
    {
     "name": "stdout",
     "output_type": "stream",
     "text": [
      "\n",
      "      Epoch    GPU_mem   box_loss   seg_loss   cls_loss   dfl_loss  Instances       Size\n"
     ]
    },
    {
     "name": "stderr",
     "output_type": "stream",
     "text": [
      "     53/100      3.03G     0.5711     0.8176     0.5258      1.098         48        640: 100%|██████████| 4/4 [00:00<00:00,  4.53it/s]\n",
      "                 Class     Images  Instances      Box(P          R      mAP50  mAP50-95)     Mask(P          R      mAP50  mAP50-95): 100%|██████████| 1/1 [00:00<00:00, 18.84it/s]"
     ]
    },
    {
     "name": "stdout",
     "output_type": "stream",
     "text": [
      "                   all          2          4      0.988          1      0.995      0.696      0.988          1      0.995      0.485\n"
     ]
    },
    {
     "name": "stderr",
     "output_type": "stream",
     "text": [
      "\n"
     ]
    },
    {
     "name": "stdout",
     "output_type": "stream",
     "text": [
      "\n",
      "      Epoch    GPU_mem   box_loss   seg_loss   cls_loss   dfl_loss  Instances       Size\n"
     ]
    },
    {
     "name": "stderr",
     "output_type": "stream",
     "text": [
      "     54/100      2.99G     0.5779     0.7426     0.5391      1.112         57        640: 100%|██████████| 4/4 [00:00<00:00,  4.47it/s]\n",
      "                 Class     Images  Instances      Box(P          R      mAP50  mAP50-95)     Mask(P          R      mAP50  mAP50-95): 100%|██████████| 1/1 [00:00<00:00, 17.87it/s]"
     ]
    },
    {
     "name": "stdout",
     "output_type": "stream",
     "text": [
      "                   all          2          4       0.99          1      0.995      0.746       0.99          1      0.995      0.526\n"
     ]
    },
    {
     "name": "stderr",
     "output_type": "stream",
     "text": [
      "\n"
     ]
    },
    {
     "name": "stdout",
     "output_type": "stream",
     "text": [
      "\n",
      "      Epoch    GPU_mem   box_loss   seg_loss   cls_loss   dfl_loss  Instances       Size\n"
     ]
    },
    {
     "name": "stderr",
     "output_type": "stream",
     "text": [
      "     55/100      3.01G     0.5733     0.8097     0.5162      1.046         49        640: 100%|██████████| 4/4 [00:00<00:00,  4.54it/s]\n",
      "                 Class     Images  Instances      Box(P          R      mAP50  mAP50-95)     Mask(P          R      mAP50  mAP50-95): 100%|██████████| 1/1 [00:00<00:00, 16.60it/s]"
     ]
    },
    {
     "name": "stdout",
     "output_type": "stream",
     "text": [
      "                   all          2          4      0.999          1      0.995      0.667      0.999          1      0.995      0.648\n"
     ]
    },
    {
     "name": "stderr",
     "output_type": "stream",
     "text": [
      "\n"
     ]
    },
    {
     "name": "stdout",
     "output_type": "stream",
     "text": [
      "\n",
      "      Epoch    GPU_mem   box_loss   seg_loss   cls_loss   dfl_loss  Instances       Size\n"
     ]
    },
    {
     "name": "stderr",
     "output_type": "stream",
     "text": [
      "     56/100      3.05G     0.5811     0.7777     0.5394      1.065         60        640: 100%|██████████| 4/4 [00:00<00:00,  4.59it/s]\n",
      "                 Class     Images  Instances      Box(P          R      mAP50  mAP50-95)     Mask(P          R      mAP50  mAP50-95): 100%|██████████| 1/1 [00:00<00:00, 17.07it/s]"
     ]
    },
    {
     "name": "stdout",
     "output_type": "stream",
     "text": [
      "                   all          2          4      0.989          1      0.995      0.721      0.989          1      0.995      0.597\n"
     ]
    },
    {
     "name": "stderr",
     "output_type": "stream",
     "text": [
      "\n"
     ]
    },
    {
     "name": "stdout",
     "output_type": "stream",
     "text": [
      "\n",
      "      Epoch    GPU_mem   box_loss   seg_loss   cls_loss   dfl_loss  Instances       Size\n"
     ]
    },
    {
     "name": "stderr",
     "output_type": "stream",
     "text": [
      "     57/100      2.99G     0.5379     0.6732     0.4989      1.058         51        640: 100%|██████████| 4/4 [00:00<00:00,  4.66it/s]\n",
      "                 Class     Images  Instances      Box(P          R      mAP50  mAP50-95)     Mask(P          R      mAP50  mAP50-95): 100%|██████████| 1/1 [00:00<00:00, 18.95it/s]"
     ]
    },
    {
     "name": "stdout",
     "output_type": "stream",
     "text": [
      "                   all          2          4          1      0.982      0.995      0.763          1      0.982      0.995      0.622\n"
     ]
    },
    {
     "name": "stderr",
     "output_type": "stream",
     "text": [
      "\n"
     ]
    },
    {
     "name": "stdout",
     "output_type": "stream",
     "text": [
      "\n",
      "      Epoch    GPU_mem   box_loss   seg_loss   cls_loss   dfl_loss  Instances       Size\n"
     ]
    },
    {
     "name": "stderr",
     "output_type": "stream",
     "text": [
      "     58/100      2.99G     0.5569     0.8488     0.4948      1.102         54        640: 100%|██████████| 4/4 [00:00<00:00,  4.68it/s]\n",
      "                 Class     Images  Instances      Box(P          R      mAP50  mAP50-95)     Mask(P          R      mAP50  mAP50-95): 100%|██████████| 1/1 [00:00<00:00, 18.13it/s]"
     ]
    },
    {
     "name": "stdout",
     "output_type": "stream",
     "text": [
      "                   all          2          4      0.985          1      0.995      0.718      0.985          1      0.995      0.622\n"
     ]
    },
    {
     "name": "stderr",
     "output_type": "stream",
     "text": [
      "\n"
     ]
    },
    {
     "name": "stdout",
     "output_type": "stream",
     "text": [
      "\n",
      "      Epoch    GPU_mem   box_loss   seg_loss   cls_loss   dfl_loss  Instances       Size\n"
     ]
    },
    {
     "name": "stderr",
     "output_type": "stream",
     "text": [
      "     59/100      3.03G     0.5839     0.8432     0.5015      1.133         62        640: 100%|██████████| 4/4 [00:00<00:00,  4.60it/s]\n",
      "                 Class     Images  Instances      Box(P          R      mAP50  mAP50-95)     Mask(P          R      mAP50  mAP50-95): 100%|██████████| 1/1 [00:00<00:00, 19.53it/s]"
     ]
    },
    {
     "name": "stdout",
     "output_type": "stream",
     "text": [
      "                   all          2          4          1      0.967      0.995      0.713          1      0.967      0.995      0.622\n"
     ]
    },
    {
     "name": "stderr",
     "output_type": "stream",
     "text": [
      "\n"
     ]
    },
    {
     "name": "stdout",
     "output_type": "stream",
     "text": [
      "\n",
      "      Epoch    GPU_mem   box_loss   seg_loss   cls_loss   dfl_loss  Instances       Size\n"
     ]
    },
    {
     "name": "stderr",
     "output_type": "stream",
     "text": [
      "     60/100      3.03G     0.5391     0.7195     0.4846       1.06         52        640: 100%|██████████| 4/4 [00:00<00:00,  4.57it/s]\n",
      "                 Class     Images  Instances      Box(P          R      mAP50  mAP50-95)     Mask(P          R      mAP50  mAP50-95): 100%|██████████| 1/1 [00:00<00:00, 17.43it/s]"
     ]
    },
    {
     "name": "stdout",
     "output_type": "stream",
     "text": [
      "                   all          2          4          1      0.971      0.995      0.632          1      0.971      0.995      0.622\n"
     ]
    },
    {
     "name": "stderr",
     "output_type": "stream",
     "text": [
      "\n"
     ]
    },
    {
     "name": "stdout",
     "output_type": "stream",
     "text": [
      "\n",
      "      Epoch    GPU_mem   box_loss   seg_loss   cls_loss   dfl_loss  Instances       Size\n"
     ]
    },
    {
     "name": "stderr",
     "output_type": "stream",
     "text": [
      "     61/100      3.05G     0.5914     0.7182     0.5402      1.104         46        640: 100%|██████████| 4/4 [00:00<00:00,  4.61it/s]\n",
      "                 Class     Images  Instances      Box(P          R      mAP50  mAP50-95)     Mask(P          R      mAP50  mAP50-95): 100%|██████████| 1/1 [00:00<00:00, 16.46it/s]"
     ]
    },
    {
     "name": "stdout",
     "output_type": "stream",
     "text": [
      "                   all          2          4      0.992          1      0.995      0.659      0.992          1      0.995      0.565\n"
     ]
    },
    {
     "name": "stderr",
     "output_type": "stream",
     "text": [
      "\n"
     ]
    },
    {
     "name": "stdout",
     "output_type": "stream",
     "text": [
      "\n",
      "      Epoch    GPU_mem   box_loss   seg_loss   cls_loss   dfl_loss  Instances       Size\n"
     ]
    },
    {
     "name": "stderr",
     "output_type": "stream",
     "text": [
      "     62/100      3.05G     0.5527     0.7137     0.4717      1.072         45        640: 100%|██████████| 4/4 [00:00<00:00,  4.55it/s]\n",
      "                 Class     Images  Instances      Box(P          R      mAP50  mAP50-95)     Mask(P          R      mAP50  mAP50-95): 100%|██████████| 1/1 [00:00<00:00, 17.76it/s]"
     ]
    },
    {
     "name": "stdout",
     "output_type": "stream",
     "text": [
      "                   all          2          4      0.989          1      0.995      0.685      0.989          1      0.995      0.559\n"
     ]
    },
    {
     "name": "stderr",
     "output_type": "stream",
     "text": [
      "\n"
     ]
    },
    {
     "name": "stdout",
     "output_type": "stream",
     "text": [
      "\n",
      "      Epoch    GPU_mem   box_loss   seg_loss   cls_loss   dfl_loss  Instances       Size\n"
     ]
    },
    {
     "name": "stderr",
     "output_type": "stream",
     "text": [
      "     63/100      3.05G     0.5952     0.7188     0.5345      1.115         59        640: 100%|██████████| 4/4 [00:00<00:00,  4.49it/s]\n",
      "                 Class     Images  Instances      Box(P          R      mAP50  mAP50-95)     Mask(P          R      mAP50  mAP50-95): 100%|██████████| 1/1 [00:00<00:00, 17.32it/s]"
     ]
    },
    {
     "name": "stdout",
     "output_type": "stream",
     "text": [
      "                   all          2          4      0.797      0.984      0.945      0.672      0.989          1      0.995       0.58\n"
     ]
    },
    {
     "name": "stderr",
     "output_type": "stream",
     "text": [
      "\n"
     ]
    },
    {
     "name": "stdout",
     "output_type": "stream",
     "text": [
      "\n",
      "      Epoch    GPU_mem   box_loss   seg_loss   cls_loss   dfl_loss  Instances       Size\n"
     ]
    },
    {
     "name": "stderr",
     "output_type": "stream",
     "text": [
      "     64/100      3.05G     0.5156      0.767     0.4752      1.037         54        640: 100%|██████████| 4/4 [00:00<00:00,  4.58it/s]\n",
      "                 Class     Images  Instances      Box(P          R      mAP50  mAP50-95)     Mask(P          R      mAP50  mAP50-95): 100%|██████████| 1/1 [00:00<00:00, 18.20it/s]"
     ]
    },
    {
     "name": "stdout",
     "output_type": "stream",
     "text": [
      "                   all          2          4      0.989          1      0.995      0.654      0.989          1      0.995      0.556\n"
     ]
    },
    {
     "name": "stderr",
     "output_type": "stream",
     "text": [
      "\n"
     ]
    },
    {
     "name": "stdout",
     "output_type": "stream",
     "text": [
      "\n",
      "      Epoch    GPU_mem   box_loss   seg_loss   cls_loss   dfl_loss  Instances       Size\n"
     ]
    },
    {
     "name": "stderr",
     "output_type": "stream",
     "text": [
      "     65/100      3.05G     0.5006     0.6909     0.4606      1.043         50        640: 100%|██████████| 4/4 [00:00<00:00,  4.62it/s]\n",
      "                 Class     Images  Instances      Box(P          R      mAP50  mAP50-95)     Mask(P          R      mAP50  mAP50-95): 100%|██████████| 1/1 [00:00<00:00, 18.72it/s]"
     ]
    },
    {
     "name": "stdout",
     "output_type": "stream",
     "text": [
      "                   all          2          4      0.989          1      0.995      0.684      0.989          1      0.995      0.582\n"
     ]
    },
    {
     "name": "stderr",
     "output_type": "stream",
     "text": [
      "\n"
     ]
    },
    {
     "name": "stdout",
     "output_type": "stream",
     "text": [
      "\n",
      "      Epoch    GPU_mem   box_loss   seg_loss   cls_loss   dfl_loss  Instances       Size\n"
     ]
    },
    {
     "name": "stderr",
     "output_type": "stream",
     "text": [
      "     66/100      3.03G     0.5429       0.67     0.5032      1.087         59        640: 100%|██████████| 4/4 [00:00<00:00,  4.60it/s]\n",
      "                 Class     Images  Instances      Box(P          R      mAP50  mAP50-95)     Mask(P          R      mAP50  mAP50-95): 100%|██████████| 1/1 [00:00<00:00, 16.03it/s]"
     ]
    },
    {
     "name": "stdout",
     "output_type": "stream",
     "text": [
      "                   all          2          4      0.992          1      0.995      0.608      0.992          1      0.995       0.56\n"
     ]
    },
    {
     "name": "stderr",
     "output_type": "stream",
     "text": [
      "\n"
     ]
    },
    {
     "name": "stdout",
     "output_type": "stream",
     "text": [
      "\n",
      "      Epoch    GPU_mem   box_loss   seg_loss   cls_loss   dfl_loss  Instances       Size\n"
     ]
    },
    {
     "name": "stderr",
     "output_type": "stream",
     "text": [
      "     67/100      3.06G     0.5497     0.6966     0.4892      1.096         39        640: 100%|██████████| 4/4 [00:00<00:00,  4.62it/s]\n",
      "                 Class     Images  Instances      Box(P          R      mAP50  mAP50-95)     Mask(P          R      mAP50  mAP50-95): 100%|██████████| 1/1 [00:00<00:00, 18.88it/s]"
     ]
    },
    {
     "name": "stdout",
     "output_type": "stream",
     "text": [
      "                   all          2          4      0.999          1      0.995      0.551        0.8          1      0.945      0.544\n"
     ]
    },
    {
     "name": "stderr",
     "output_type": "stream",
     "text": [
      "\n"
     ]
    },
    {
     "name": "stdout",
     "output_type": "stream",
     "text": [
      "\n",
      "      Epoch    GPU_mem   box_loss   seg_loss   cls_loss   dfl_loss  Instances       Size\n"
     ]
    },
    {
     "name": "stderr",
     "output_type": "stream",
     "text": [
      "     68/100      3.08G     0.5214     0.6957     0.4934      1.029         59        640: 100%|██████████| 4/4 [00:00<00:00,  4.57it/s]\n",
      "                 Class     Images  Instances      Box(P          R      mAP50  mAP50-95)     Mask(P          R      mAP50  mAP50-95): 100%|██████████| 1/1 [00:00<00:00, 18.39it/s]"
     ]
    },
    {
     "name": "stdout",
     "output_type": "stream",
     "text": [
      "                   all          2          4      0.995          1      0.995      0.665      0.965       0.75      0.912      0.567\n"
     ]
    },
    {
     "name": "stderr",
     "output_type": "stream",
     "text": [
      "\n"
     ]
    },
    {
     "name": "stdout",
     "output_type": "stream",
     "text": [
      "\n",
      "      Epoch    GPU_mem   box_loss   seg_loss   cls_loss   dfl_loss  Instances       Size\n"
     ]
    },
    {
     "name": "stderr",
     "output_type": "stream",
     "text": [
      "     69/100      3.05G     0.5451     0.6593     0.5048      1.073         47        640: 100%|██████████| 4/4 [00:00<00:00,  4.36it/s]\n",
      "                 Class     Images  Instances      Box(P          R      mAP50  mAP50-95)     Mask(P          R      mAP50  mAP50-95): 100%|██████████| 1/1 [00:00<00:00, 14.85it/s]"
     ]
    },
    {
     "name": "stdout",
     "output_type": "stream",
     "text": [
      "                   all          2          4      0.992          1      0.995      0.683      0.992          1      0.995      0.561\n"
     ]
    },
    {
     "name": "stderr",
     "output_type": "stream",
     "text": [
      "\n"
     ]
    },
    {
     "name": "stdout",
     "output_type": "stream",
     "text": [
      "\n",
      "      Epoch    GPU_mem   box_loss   seg_loss   cls_loss   dfl_loss  Instances       Size\n"
     ]
    },
    {
     "name": "stderr",
     "output_type": "stream",
     "text": [
      "     70/100      2.99G     0.5371     0.6302     0.4889      1.091         54        640: 100%|██████████| 4/4 [00:00<00:00,  4.66it/s]\n",
      "                 Class     Images  Instances      Box(P          R      mAP50  mAP50-95)     Mask(P          R      mAP50  mAP50-95): 100%|██████████| 1/1 [00:00<00:00, 17.43it/s]"
     ]
    },
    {
     "name": "stdout",
     "output_type": "stream",
     "text": [
      "                   all          2          4      0.989          1      0.995      0.578      0.989          1      0.995      0.549\n"
     ]
    },
    {
     "name": "stderr",
     "output_type": "stream",
     "text": [
      "\n"
     ]
    },
    {
     "name": "stdout",
     "output_type": "stream",
     "text": [
      "\n",
      "      Epoch    GPU_mem   box_loss   seg_loss   cls_loss   dfl_loss  Instances       Size\n"
     ]
    },
    {
     "name": "stderr",
     "output_type": "stream",
     "text": [
      "     71/100      3.06G      0.489     0.5899     0.4571      1.025         60        640: 100%|██████████| 4/4 [00:00<00:00,  4.57it/s]\n",
      "                 Class     Images  Instances      Box(P          R      mAP50  mAP50-95)     Mask(P          R      mAP50  mAP50-95): 100%|██████████| 1/1 [00:00<00:00, 18.11it/s]"
     ]
    },
    {
     "name": "stdout",
     "output_type": "stream",
     "text": [
      "                   all          2          4      0.798      0.991      0.895      0.506      0.798      0.991      0.895       0.45\n"
     ]
    },
    {
     "name": "stderr",
     "output_type": "stream",
     "text": [
      "\n"
     ]
    },
    {
     "name": "stdout",
     "output_type": "stream",
     "text": [
      "\n",
      "      Epoch    GPU_mem   box_loss   seg_loss   cls_loss   dfl_loss  Instances       Size\n"
     ]
    },
    {
     "name": "stderr",
     "output_type": "stream",
     "text": [
      "     72/100      3.03G     0.5131      0.678     0.4708       1.05         63        640: 100%|██████████| 4/4 [00:01<00:00,  3.88it/s]\n",
      "                 Class     Images  Instances      Box(P          R      mAP50  mAP50-95)     Mask(P          R      mAP50  mAP50-95): 100%|██████████| 1/1 [00:00<00:00, 18.18it/s]"
     ]
    },
    {
     "name": "stdout",
     "output_type": "stream",
     "text": [
      "                   all          2          4      0.798      0.988      0.895      0.379      0.988          1      0.995      0.391\n"
     ]
    },
    {
     "name": "stderr",
     "output_type": "stream",
     "text": [
      "\n"
     ]
    },
    {
     "name": "stdout",
     "output_type": "stream",
     "text": [
      "\n",
      "      Epoch    GPU_mem   box_loss   seg_loss   cls_loss   dfl_loss  Instances       Size\n"
     ]
    },
    {
     "name": "stderr",
     "output_type": "stream",
     "text": [
      "     73/100      2.97G     0.4857     0.7725     0.4598       1.06         51        640: 100%|██████████| 4/4 [00:00<00:00,  4.55it/s]\n",
      "                 Class     Images  Instances      Box(P          R      mAP50  mAP50-95)     Mask(P          R      mAP50  mAP50-95): 100%|██████████| 1/1 [00:00<00:00, 17.97it/s]"
     ]
    },
    {
     "name": "stdout",
     "output_type": "stream",
     "text": [
      "                   all          2          4      0.741       0.75      0.724      0.369      0.989          1      0.995      0.348\n"
     ]
    },
    {
     "name": "stderr",
     "output_type": "stream",
     "text": [
      "\n"
     ]
    },
    {
     "name": "stdout",
     "output_type": "stream",
     "text": [
      "\n",
      "      Epoch    GPU_mem   box_loss   seg_loss   cls_loss   dfl_loss  Instances       Size\n"
     ]
    },
    {
     "name": "stderr",
     "output_type": "stream",
     "text": [
      "     74/100      3.06G     0.5387     0.6697     0.4725      1.064         54        640: 100%|██████████| 4/4 [00:00<00:00,  4.62it/s]\n",
      "                 Class     Images  Instances      Box(P          R      mAP50  mAP50-95)     Mask(P          R      mAP50  mAP50-95): 100%|██████████| 1/1 [00:00<00:00, 19.03it/s]"
     ]
    },
    {
     "name": "stdout",
     "output_type": "stream",
     "text": [
      "                   all          2          4      0.988          1      0.995      0.429      0.988          1      0.995      0.393\n"
     ]
    },
    {
     "name": "stderr",
     "output_type": "stream",
     "text": [
      "\n"
     ]
    },
    {
     "name": "stdout",
     "output_type": "stream",
     "text": [
      "\n",
      "      Epoch    GPU_mem   box_loss   seg_loss   cls_loss   dfl_loss  Instances       Size\n"
     ]
    },
    {
     "name": "stderr",
     "output_type": "stream",
     "text": [
      "     75/100      3.03G     0.4565     0.6441     0.4323      1.008         62        640: 100%|██████████| 4/4 [00:00<00:00,  4.50it/s]\n",
      "                 Class     Images  Instances      Box(P          R      mAP50  mAP50-95)     Mask(P          R      mAP50  mAP50-95): 100%|██████████| 1/1 [00:00<00:00, 19.00it/s]"
     ]
    },
    {
     "name": "stdout",
     "output_type": "stream",
     "text": [
      "                   all          2          4      0.987          1      0.995      0.502      0.987          1      0.995      0.451\n"
     ]
    },
    {
     "name": "stderr",
     "output_type": "stream",
     "text": [
      "\n"
     ]
    },
    {
     "name": "stdout",
     "output_type": "stream",
     "text": [
      "\n",
      "      Epoch    GPU_mem   box_loss   seg_loss   cls_loss   dfl_loss  Instances       Size\n"
     ]
    },
    {
     "name": "stderr",
     "output_type": "stream",
     "text": [
      "     76/100      3.02G     0.5023      0.605     0.4504      1.008         55        640: 100%|██████████| 4/4 [00:00<00:00,  4.49it/s]\n",
      "                 Class     Images  Instances      Box(P          R      mAP50  mAP50-95)     Mask(P          R      mAP50  mAP50-95): 100%|██████████| 1/1 [00:00<00:00, 16.07it/s]"
     ]
    },
    {
     "name": "stdout",
     "output_type": "stream",
     "text": [
      "                   all          2          4      0.792          1      0.945      0.576      0.792          1      0.945      0.481\n"
     ]
    },
    {
     "name": "stderr",
     "output_type": "stream",
     "text": [
      "\n"
     ]
    },
    {
     "name": "stdout",
     "output_type": "stream",
     "text": [
      "\n",
      "      Epoch    GPU_mem   box_loss   seg_loss   cls_loss   dfl_loss  Instances       Size\n"
     ]
    },
    {
     "name": "stderr",
     "output_type": "stream",
     "text": [
      "     77/100      2.99G     0.5211     0.6582     0.4702      1.067         54        640: 100%|██████████| 4/4 [00:00<00:00,  4.56it/s]\n",
      "                 Class     Images  Instances      Box(P          R      mAP50  mAP50-95)     Mask(P          R      mAP50  mAP50-95): 100%|██████████| 1/1 [00:00<00:00, 15.74it/s]"
     ]
    },
    {
     "name": "stdout",
     "output_type": "stream",
     "text": [
      "                   all          2          4      0.792          1      0.945      0.603      0.792          1      0.945      0.504\n"
     ]
    },
    {
     "name": "stderr",
     "output_type": "stream",
     "text": [
      "\n"
     ]
    },
    {
     "name": "stdout",
     "output_type": "stream",
     "text": [
      "\n",
      "      Epoch    GPU_mem   box_loss   seg_loss   cls_loss   dfl_loss  Instances       Size\n"
     ]
    },
    {
     "name": "stderr",
     "output_type": "stream",
     "text": [
      "     78/100      3.05G     0.4588     0.6946     0.4273      1.012         70        640: 100%|██████████| 4/4 [00:00<00:00,  4.53it/s]\n",
      "                 Class     Images  Instances      Box(P          R      mAP50  mAP50-95)     Mask(P          R      mAP50  mAP50-95): 100%|██████████| 1/1 [00:00<00:00, 19.85it/s]"
     ]
    },
    {
     "name": "stdout",
     "output_type": "stream",
     "text": [
      "                   all          2          4      0.992          1      0.995      0.645      0.992          1      0.995      0.566\n"
     ]
    },
    {
     "name": "stderr",
     "output_type": "stream",
     "text": [
      "\n"
     ]
    },
    {
     "name": "stdout",
     "output_type": "stream",
     "text": [
      "\n",
      "      Epoch    GPU_mem   box_loss   seg_loss   cls_loss   dfl_loss  Instances       Size\n"
     ]
    },
    {
     "name": "stderr",
     "output_type": "stream",
     "text": [
      "     79/100      3.03G     0.4825     0.5638     0.4268      1.052         49        640: 100%|██████████| 4/4 [00:00<00:00,  4.59it/s]\n",
      "                 Class     Images  Instances      Box(P          R      mAP50  mAP50-95)     Mask(P          R      mAP50  mAP50-95): 100%|██████████| 1/1 [00:00<00:00, 16.46it/s]"
     ]
    },
    {
     "name": "stdout",
     "output_type": "stream",
     "text": [
      "                   all          2          4       0.99          1      0.995      0.655       0.99          1      0.995      0.615\n"
     ]
    },
    {
     "name": "stderr",
     "output_type": "stream",
     "text": [
      "\n"
     ]
    },
    {
     "name": "stdout",
     "output_type": "stream",
     "text": [
      "\n",
      "      Epoch    GPU_mem   box_loss   seg_loss   cls_loss   dfl_loss  Instances       Size\n"
     ]
    },
    {
     "name": "stderr",
     "output_type": "stream",
     "text": [
      "     80/100      3.01G     0.4753     0.6518      0.442      1.026         53        640: 100%|██████████| 4/4 [00:01<00:00,  3.95it/s]\n",
      "                 Class     Images  Instances      Box(P          R      mAP50  mAP50-95)     Mask(P          R      mAP50  mAP50-95): 100%|██████████| 1/1 [00:00<00:00, 16.08it/s]"
     ]
    },
    {
     "name": "stdout",
     "output_type": "stream",
     "text": [
      "                   all          2          4      0.989          1      0.995      0.655      0.989          1      0.995      0.638\n"
     ]
    },
    {
     "name": "stderr",
     "output_type": "stream",
     "text": [
      "\n"
     ]
    },
    {
     "name": "stdout",
     "output_type": "stream",
     "text": [
      "\n",
      "      Epoch    GPU_mem   box_loss   seg_loss   cls_loss   dfl_loss  Instances       Size\n"
     ]
    },
    {
     "name": "stderr",
     "output_type": "stream",
     "text": [
      "     81/100      3.03G     0.4959     0.6914     0.4572      1.053         57        640: 100%|██████████| 4/4 [00:00<00:00,  4.07it/s]\n",
      "                 Class     Images  Instances      Box(P          R      mAP50  mAP50-95)     Mask(P          R      mAP50  mAP50-95): 100%|██████████| 1/1 [00:00<00:00, 17.83it/s]"
     ]
    },
    {
     "name": "stdout",
     "output_type": "stream",
     "text": [
      "                   all          2          4      0.989          1      0.995      0.655      0.989          1      0.995      0.638\n"
     ]
    },
    {
     "name": "stderr",
     "output_type": "stream",
     "text": [
      "\n"
     ]
    },
    {
     "name": "stdout",
     "output_type": "stream",
     "text": [
      "\n",
      "      Epoch    GPU_mem   box_loss   seg_loss   cls_loss   dfl_loss  Instances       Size\n"
     ]
    },
    {
     "name": "stderr",
     "output_type": "stream",
     "text": [
      "     82/100      3.01G      0.469     0.6661     0.4468      1.036         52        640: 100%|██████████| 4/4 [00:00<00:00,  4.60it/s]\n",
      "                 Class     Images  Instances      Box(P          R      mAP50  mAP50-95)     Mask(P          R      mAP50  mAP50-95): 100%|██████████| 1/1 [00:00<00:00, 17.89it/s]"
     ]
    },
    {
     "name": "stdout",
     "output_type": "stream",
     "text": [
      "                   all          2          4      0.989          1      0.995      0.655      0.989          1      0.995      0.663\n"
     ]
    },
    {
     "name": "stderr",
     "output_type": "stream",
     "text": [
      "\n"
     ]
    },
    {
     "name": "stdout",
     "output_type": "stream",
     "text": [
      "\n",
      "      Epoch    GPU_mem   box_loss   seg_loss   cls_loss   dfl_loss  Instances       Size\n"
     ]
    },
    {
     "name": "stderr",
     "output_type": "stream",
     "text": [
      "     83/100      3.05G     0.4681     0.5737     0.4495      1.045         54        640: 100%|██████████| 4/4 [00:00<00:00,  4.35it/s]\n",
      "                 Class     Images  Instances      Box(P          R      mAP50  mAP50-95)     Mask(P          R      mAP50  mAP50-95): 100%|██████████| 1/1 [00:00<00:00, 17.81it/s]"
     ]
    },
    {
     "name": "stdout",
     "output_type": "stream",
     "text": [
      "                   all          2          4      0.989          1      0.995      0.655      0.989          1      0.995      0.639\n"
     ]
    },
    {
     "name": "stderr",
     "output_type": "stream",
     "text": [
      "\n"
     ]
    },
    {
     "name": "stdout",
     "output_type": "stream",
     "text": [
      "\n",
      "      Epoch    GPU_mem   box_loss   seg_loss   cls_loss   dfl_loss  Instances       Size\n"
     ]
    },
    {
     "name": "stderr",
     "output_type": "stream",
     "text": [
      "     84/100      3.01G     0.4939     0.7563     0.4442      1.047         58        640: 100%|██████████| 4/4 [00:00<00:00,  4.67it/s]\n",
      "                 Class     Images  Instances      Box(P          R      mAP50  mAP50-95)     Mask(P          R      mAP50  mAP50-95): 100%|██████████| 1/1 [00:00<00:00, 11.47it/s]"
     ]
    },
    {
     "name": "stdout",
     "output_type": "stream",
     "text": [
      "                   all          2          4      0.989          1      0.995      0.655      0.989          1      0.995      0.622\n"
     ]
    },
    {
     "name": "stderr",
     "output_type": "stream",
     "text": [
      "\n"
     ]
    },
    {
     "name": "stdout",
     "output_type": "stream",
     "text": [
      "\n",
      "      Epoch    GPU_mem   box_loss   seg_loss   cls_loss   dfl_loss  Instances       Size\n"
     ]
    },
    {
     "name": "stderr",
     "output_type": "stream",
     "text": [
      "     85/100      3.03G     0.4756      0.665     0.4612      1.064         47        640: 100%|██████████| 4/4 [00:00<00:00,  4.64it/s]\n",
      "                 Class     Images  Instances      Box(P          R      mAP50  mAP50-95)     Mask(P          R      mAP50  mAP50-95): 100%|██████████| 1/1 [00:00<00:00, 17.56it/s]"
     ]
    },
    {
     "name": "stdout",
     "output_type": "stream",
     "text": [
      "                   all          2          4      0.988          1      0.995      0.656      0.988          1      0.995      0.635\n"
     ]
    },
    {
     "name": "stderr",
     "output_type": "stream",
     "text": [
      "\n"
     ]
    },
    {
     "name": "stdout",
     "output_type": "stream",
     "text": [
      "\n",
      "      Epoch    GPU_mem   box_loss   seg_loss   cls_loss   dfl_loss  Instances       Size\n"
     ]
    },
    {
     "name": "stderr",
     "output_type": "stream",
     "text": [
      "     86/100      3.06G     0.4855     0.6468     0.4605      1.057         55        640: 100%|██████████| 4/4 [00:00<00:00,  4.56it/s]\n",
      "                 Class     Images  Instances      Box(P          R      mAP50  mAP50-95)     Mask(P          R      mAP50  mAP50-95): 100%|██████████| 1/1 [00:00<00:00, 17.76it/s]"
     ]
    },
    {
     "name": "stdout",
     "output_type": "stream",
     "text": [
      "                   all          2          4      0.988          1      0.995      0.649      0.988          1      0.995      0.636\n"
     ]
    },
    {
     "name": "stderr",
     "output_type": "stream",
     "text": [
      "\n"
     ]
    },
    {
     "name": "stdout",
     "output_type": "stream",
     "text": [
      "\n",
      "      Epoch    GPU_mem   box_loss   seg_loss   cls_loss   dfl_loss  Instances       Size\n"
     ]
    },
    {
     "name": "stderr",
     "output_type": "stream",
     "text": [
      "     87/100      2.99G     0.4859     0.7024     0.4373      1.085         47        640: 100%|██████████| 4/4 [00:00<00:00,  4.50it/s]\n",
      "                 Class     Images  Instances      Box(P          R      mAP50  mAP50-95)     Mask(P          R      mAP50  mAP50-95): 100%|██████████| 1/1 [00:00<00:00, 17.63it/s]"
     ]
    },
    {
     "name": "stdout",
     "output_type": "stream",
     "text": [
      "                   all          2          4      0.988          1      0.995      0.648      0.988          1      0.995      0.635\n"
     ]
    },
    {
     "name": "stderr",
     "output_type": "stream",
     "text": [
      "\n"
     ]
    },
    {
     "name": "stdout",
     "output_type": "stream",
     "text": [
      "\n",
      "      Epoch    GPU_mem   box_loss   seg_loss   cls_loss   dfl_loss  Instances       Size\n"
     ]
    },
    {
     "name": "stderr",
     "output_type": "stream",
     "text": [
      "     88/100      3.03G     0.4065     0.5209     0.3781     0.9968         41        640: 100%|██████████| 4/4 [00:00<00:00,  4.59it/s]\n",
      "                 Class     Images  Instances      Box(P          R      mAP50  mAP50-95)     Mask(P          R      mAP50  mAP50-95): 100%|██████████| 1/1 [00:00<00:00, 18.61it/s]"
     ]
    },
    {
     "name": "stdout",
     "output_type": "stream",
     "text": [
      "                   all          2          4      0.988          1      0.995      0.585      0.988          1      0.995      0.614\n"
     ]
    },
    {
     "name": "stderr",
     "output_type": "stream",
     "text": [
      "\n"
     ]
    },
    {
     "name": "stdout",
     "output_type": "stream",
     "text": [
      "\n",
      "      Epoch    GPU_mem   box_loss   seg_loss   cls_loss   dfl_loss  Instances       Size\n"
     ]
    },
    {
     "name": "stderr",
     "output_type": "stream",
     "text": [
      "     89/100      3.05G     0.4898     0.6336     0.4539      1.058         57        640: 100%|██████████| 4/4 [00:00<00:00,  4.62it/s]\n",
      "                 Class     Images  Instances      Box(P          R      mAP50  mAP50-95)     Mask(P          R      mAP50  mAP50-95): 100%|██████████| 1/1 [00:00<00:00, 18.09it/s]"
     ]
    },
    {
     "name": "stdout",
     "output_type": "stream",
     "text": [
      "                   all          2          4      0.988          1      0.995      0.589      0.988          1      0.995      0.614\n"
     ]
    },
    {
     "name": "stderr",
     "output_type": "stream",
     "text": [
      "\n"
     ]
    },
    {
     "name": "stdout",
     "output_type": "stream",
     "text": [
      "\n",
      "      Epoch    GPU_mem   box_loss   seg_loss   cls_loss   dfl_loss  Instances       Size\n"
     ]
    },
    {
     "name": "stderr",
     "output_type": "stream",
     "text": [
      "     90/100      3.03G      0.513     0.6179     0.4466      1.061         56        640: 100%|██████████| 4/4 [00:00<00:00,  4.64it/s]\n",
      "                 Class     Images  Instances      Box(P          R      mAP50  mAP50-95)     Mask(P          R      mAP50  mAP50-95): 100%|██████████| 1/1 [00:00<00:00, 20.05it/s]"
     ]
    },
    {
     "name": "stdout",
     "output_type": "stream",
     "text": [
      "                   all          2          4      0.979          1      0.995      0.602      0.979          1      0.995      0.629\n"
     ]
    },
    {
     "name": "stderr",
     "output_type": "stream",
     "text": [
      "\n"
     ]
    },
    {
     "name": "stdout",
     "output_type": "stream",
     "text": [
      "Closing dataloader mosaic\n",
      "\n",
      "      Epoch    GPU_mem   box_loss   seg_loss   cls_loss   dfl_loss  Instances       Size\n"
     ]
    },
    {
     "name": "stderr",
     "output_type": "stream",
     "text": [
      "     91/100       2.9G     0.3026      0.517     0.5257     0.9634         18        640: 100%|██████████| 4/4 [00:02<00:00,  1.93it/s]\n",
      "                 Class     Images  Instances      Box(P          R      mAP50  mAP50-95)     Mask(P          R      mAP50  mAP50-95): 100%|██████████| 1/1 [00:00<00:00, 13.84it/s]"
     ]
    },
    {
     "name": "stdout",
     "output_type": "stream",
     "text": [
      "                   all          2          4      0.972          1      0.995      0.585      0.972          1      0.995      0.609\n"
     ]
    },
    {
     "name": "stderr",
     "output_type": "stream",
     "text": [
      "\n"
     ]
    },
    {
     "name": "stdout",
     "output_type": "stream",
     "text": [
      "\n",
      "      Epoch    GPU_mem   box_loss   seg_loss   cls_loss   dfl_loss  Instances       Size\n"
     ]
    },
    {
     "name": "stderr",
     "output_type": "stream",
     "text": [
      "     92/100       2.9G     0.3204     0.5161     0.5758      0.965         19        640: 100%|██████████| 4/4 [00:00<00:00,  4.75it/s]\n",
      "                 Class     Images  Instances      Box(P          R      mAP50  mAP50-95)     Mask(P          R      mAP50  mAP50-95): 100%|██████████| 1/1 [00:00<00:00, 17.63it/s]"
     ]
    },
    {
     "name": "stdout",
     "output_type": "stream",
     "text": [
      "                   all          2          4      0.972          1      0.995      0.578      0.972          1      0.995      0.609\n"
     ]
    },
    {
     "name": "stderr",
     "output_type": "stream",
     "text": [
      "\n"
     ]
    },
    {
     "name": "stdout",
     "output_type": "stream",
     "text": [
      "\n",
      "      Epoch    GPU_mem   box_loss   seg_loss   cls_loss   dfl_loss  Instances       Size\n"
     ]
    },
    {
     "name": "stderr",
     "output_type": "stream",
     "text": [
      "     93/100       2.9G     0.3267     0.5266     0.5588     0.9855         17        640: 100%|██████████| 4/4 [00:00<00:00,  4.49it/s]\n",
      "                 Class     Images  Instances      Box(P          R      mAP50  mAP50-95)     Mask(P          R      mAP50  mAP50-95): 100%|██████████| 1/1 [00:00<00:00, 19.61it/s]"
     ]
    },
    {
     "name": "stdout",
     "output_type": "stream",
     "text": [
      "                   all          2          4      0.979          1      0.995      0.581      0.979          1      0.995      0.612\n"
     ]
    },
    {
     "name": "stderr",
     "output_type": "stream",
     "text": [
      "\n"
     ]
    },
    {
     "name": "stdout",
     "output_type": "stream",
     "text": [
      "\n",
      "      Epoch    GPU_mem   box_loss   seg_loss   cls_loss   dfl_loss  Instances       Size\n"
     ]
    },
    {
     "name": "stderr",
     "output_type": "stream",
     "text": [
      "     94/100      2.92G     0.3188     0.5026     0.5198     0.9318         17        640: 100%|██████████| 4/4 [00:00<00:00,  4.66it/s]\n",
      "                 Class     Images  Instances      Box(P          R      mAP50  mAP50-95)     Mask(P          R      mAP50  mAP50-95): 100%|██████████| 1/1 [00:00<00:00, 16.26it/s]"
     ]
    },
    {
     "name": "stdout",
     "output_type": "stream",
     "text": [
      "                   all          2          4      0.991          1      0.995      0.572      0.991          1      0.995      0.587\n"
     ]
    },
    {
     "name": "stderr",
     "output_type": "stream",
     "text": [
      "\n"
     ]
    },
    {
     "name": "stdout",
     "output_type": "stream",
     "text": [
      "\n",
      "      Epoch    GPU_mem   box_loss   seg_loss   cls_loss   dfl_loss  Instances       Size\n"
     ]
    },
    {
     "name": "stderr",
     "output_type": "stream",
     "text": [
      "     95/100       2.9G     0.2941     0.4708     0.4335     0.9396         19        640: 100%|██████████| 4/4 [00:00<00:00,  4.71it/s]\n",
      "                 Class     Images  Instances      Box(P          R      mAP50  mAP50-95)     Mask(P          R      mAP50  mAP50-95): 100%|██████████| 1/1 [00:00<00:00, 17.50it/s]"
     ]
    },
    {
     "name": "stdout",
     "output_type": "stream",
     "text": [
      "                   all          2          4      0.989          1      0.995      0.563      0.989          1      0.995      0.582\n"
     ]
    },
    {
     "name": "stderr",
     "output_type": "stream",
     "text": [
      "\n"
     ]
    },
    {
     "name": "stdout",
     "output_type": "stream",
     "text": [
      "\n",
      "      Epoch    GPU_mem   box_loss   seg_loss   cls_loss   dfl_loss  Instances       Size\n"
     ]
    },
    {
     "name": "stderr",
     "output_type": "stream",
     "text": [
      "     96/100       2.9G     0.2927     0.4765     0.3858     0.9182         20        640: 100%|██████████| 4/4 [00:00<00:00,  4.65it/s]\n",
      "                 Class     Images  Instances      Box(P          R      mAP50  mAP50-95)     Mask(P          R      mAP50  mAP50-95): 100%|██████████| 1/1 [00:00<00:00, 14.23it/s]"
     ]
    },
    {
     "name": "stdout",
     "output_type": "stream",
     "text": [
      "                   all          2          4      0.989          1      0.995      0.563      0.989          1      0.995      0.529\n"
     ]
    },
    {
     "name": "stderr",
     "output_type": "stream",
     "text": [
      "\n"
     ]
    },
    {
     "name": "stdout",
     "output_type": "stream",
     "text": [
      "\n",
      "      Epoch    GPU_mem   box_loss   seg_loss   cls_loss   dfl_loss  Instances       Size\n"
     ]
    },
    {
     "name": "stderr",
     "output_type": "stream",
     "text": [
      "     97/100       2.9G     0.2588     0.4435     0.3813     0.8899         19        640: 100%|██████████| 4/4 [00:00<00:00,  4.67it/s]\n",
      "                 Class     Images  Instances      Box(P          R      mAP50  mAP50-95)     Mask(P          R      mAP50  mAP50-95): 100%|██████████| 1/1 [00:00<00:00, 15.57it/s]"
     ]
    },
    {
     "name": "stdout",
     "output_type": "stream",
     "text": [
      "                   all          2          4      0.989          1      0.995      0.563      0.989          1      0.995      0.529\n"
     ]
    },
    {
     "name": "stderr",
     "output_type": "stream",
     "text": [
      "\n"
     ]
    },
    {
     "name": "stdout",
     "output_type": "stream",
     "text": [
      "\n",
      "      Epoch    GPU_mem   box_loss   seg_loss   cls_loss   dfl_loss  Instances       Size\n"
     ]
    },
    {
     "name": "stderr",
     "output_type": "stream",
     "text": [
      "     98/100      2.92G     0.2736     0.4883     0.3639     0.9463         17        640: 100%|██████████| 4/4 [00:00<00:00,  4.70it/s]\n",
      "                 Class     Images  Instances      Box(P          R      mAP50  mAP50-95)     Mask(P          R      mAP50  mAP50-95): 100%|██████████| 1/1 [00:00<00:00, 14.96it/s]"
     ]
    },
    {
     "name": "stdout",
     "output_type": "stream",
     "text": [
      "                   all          2          4      0.989          1      0.995      0.563      0.989          1      0.995      0.529\n"
     ]
    },
    {
     "name": "stderr",
     "output_type": "stream",
     "text": [
      "\n"
     ]
    },
    {
     "name": "stdout",
     "output_type": "stream",
     "text": [
      "\n",
      "      Epoch    GPU_mem   box_loss   seg_loss   cls_loss   dfl_loss  Instances       Size\n"
     ]
    },
    {
     "name": "stderr",
     "output_type": "stream",
     "text": [
      "     99/100      2.92G     0.2696     0.4618     0.3632     0.9275         16        640: 100%|██████████| 4/4 [00:00<00:00,  4.54it/s]\n",
      "                 Class     Images  Instances      Box(P          R      mAP50  mAP50-95)     Mask(P          R      mAP50  mAP50-95): 100%|██████████| 1/1 [00:00<00:00, 17.21it/s]"
     ]
    },
    {
     "name": "stdout",
     "output_type": "stream",
     "text": [
      "                   all          2          4      0.989          1      0.995      0.551      0.989          1      0.995      0.523\n"
     ]
    },
    {
     "name": "stderr",
     "output_type": "stream",
     "text": [
      "\n"
     ]
    },
    {
     "name": "stdout",
     "output_type": "stream",
     "text": [
      "\n",
      "      Epoch    GPU_mem   box_loss   seg_loss   cls_loss   dfl_loss  Instances       Size\n"
     ]
    },
    {
     "name": "stderr",
     "output_type": "stream",
     "text": [
      "    100/100      2.89G     0.2454     0.4381     0.3422     0.8979         14        640: 100%|██████████| 4/4 [00:00<00:00,  4.29it/s]\n",
      "                 Class     Images  Instances      Box(P          R      mAP50  mAP50-95)     Mask(P          R      mAP50  mAP50-95): 100%|██████████| 1/1 [00:00<00:00,  8.83it/s]"
     ]
    },
    {
     "name": "stdout",
     "output_type": "stream",
     "text": [
      "                   all          2          4      0.989          1      0.995      0.538      0.989          1      0.995      0.541\n"
     ]
    },
    {
     "name": "stderr",
     "output_type": "stream",
     "text": [
      "\n"
     ]
    },
    {
     "name": "stdout",
     "output_type": "stream",
     "text": [
      "\n",
      "100 epochs completed in 0.056 hours.\n",
      "Optimizer stripped from runs/segment/train11/weights/last.pt, 6.0MB\n",
      "Optimizer stripped from runs/segment/train11/weights/best.pt, 6.0MB\n",
      "\n",
      "Validating runs/segment/train11/weights/best.pt...\n",
      "Ultralytics 8.3.40 🚀 Python-3.10.15 torch-2.5.1+cu118 CUDA:0 (NVIDIA GeForce RTX 3060, 12287MiB)\n",
      "YOLO11n-seg summary (fused): 265 layers, 2,834,763 parameters, 0 gradients, 10.2 GFLOPs\n"
     ]
    },
    {
     "name": "stderr",
     "output_type": "stream",
     "text": [
      "                 Class     Images  Instances      Box(P          R      mAP50  mAP50-95)     Mask(P          R      mAP50  mAP50-95): 100%|██████████| 1/1 [00:00<00:00, 21.08it/s]\n"
     ]
    },
    {
     "name": "stdout",
     "output_type": "stream",
     "text": [
      "                   all          2          4      0.999          1      0.995      0.802      0.999          1      0.995      0.815\n",
      "Speed: 0.7ms preprocess, 8.1ms inference, 0.0ms loss, 1.6ms postprocess per image\n",
      "Results saved to \u001b[1mruns/segment/train11\u001b[0m\n"
     ]
    }
   ],
   "source": [
    "model = YOLO(\"checkpoint/fighter_2.pt\")\n",
    "model.to(DEVICE)\n",
    "\n",
    "model.train(data=\"config_3.yaml\", epochs=100, imgsz=640)\n",
    "model.save(\"checkpoint/fighter_3.pt\")"
   ]
  },
  {
   "cell_type": "code",
   "execution_count": 25,
   "metadata": {},
   "outputs": [
    {
     "data": {
      "text/plain": [
       "YOLO(\n",
       "  (model): SegmentationModel(\n",
       "    (model): Sequential(\n",
       "      (0): Conv(\n",
       "        (conv): Conv2d(3, 16, kernel_size=(3, 3), stride=(2, 2), padding=(1, 1), bias=False)\n",
       "        (bn): BatchNorm2d(16, eps=0.001, momentum=0.03, affine=True, track_running_stats=True)\n",
       "        (act): SiLU(inplace=True)\n",
       "      )\n",
       "      (1): Conv(\n",
       "        (conv): Conv2d(16, 32, kernel_size=(3, 3), stride=(2, 2), padding=(1, 1), bias=False)\n",
       "        (bn): BatchNorm2d(32, eps=0.001, momentum=0.03, affine=True, track_running_stats=True)\n",
       "        (act): SiLU(inplace=True)\n",
       "      )\n",
       "      (2): C3k2(\n",
       "        (cv1): Conv(\n",
       "          (conv): Conv2d(32, 32, kernel_size=(1, 1), stride=(1, 1), bias=False)\n",
       "          (bn): BatchNorm2d(32, eps=0.001, momentum=0.03, affine=True, track_running_stats=True)\n",
       "          (act): SiLU(inplace=True)\n",
       "        )\n",
       "        (cv2): Conv(\n",
       "          (conv): Conv2d(48, 64, kernel_size=(1, 1), stride=(1, 1), bias=False)\n",
       "          (bn): BatchNorm2d(64, eps=0.001, momentum=0.03, affine=True, track_running_stats=True)\n",
       "          (act): SiLU(inplace=True)\n",
       "        )\n",
       "        (m): ModuleList(\n",
       "          (0): Bottleneck(\n",
       "            (cv1): Conv(\n",
       "              (conv): Conv2d(16, 8, kernel_size=(3, 3), stride=(1, 1), padding=(1, 1), bias=False)\n",
       "              (bn): BatchNorm2d(8, eps=0.001, momentum=0.03, affine=True, track_running_stats=True)\n",
       "              (act): SiLU(inplace=True)\n",
       "            )\n",
       "            (cv2): Conv(\n",
       "              (conv): Conv2d(8, 16, kernel_size=(3, 3), stride=(1, 1), padding=(1, 1), bias=False)\n",
       "              (bn): BatchNorm2d(16, eps=0.001, momentum=0.03, affine=True, track_running_stats=True)\n",
       "              (act): SiLU(inplace=True)\n",
       "            )\n",
       "          )\n",
       "        )\n",
       "      )\n",
       "      (3): Conv(\n",
       "        (conv): Conv2d(64, 64, kernel_size=(3, 3), stride=(2, 2), padding=(1, 1), bias=False)\n",
       "        (bn): BatchNorm2d(64, eps=0.001, momentum=0.03, affine=True, track_running_stats=True)\n",
       "        (act): SiLU(inplace=True)\n",
       "      )\n",
       "      (4): C3k2(\n",
       "        (cv1): Conv(\n",
       "          (conv): Conv2d(64, 64, kernel_size=(1, 1), stride=(1, 1), bias=False)\n",
       "          (bn): BatchNorm2d(64, eps=0.001, momentum=0.03, affine=True, track_running_stats=True)\n",
       "          (act): SiLU(inplace=True)\n",
       "        )\n",
       "        (cv2): Conv(\n",
       "          (conv): Conv2d(96, 128, kernel_size=(1, 1), stride=(1, 1), bias=False)\n",
       "          (bn): BatchNorm2d(128, eps=0.001, momentum=0.03, affine=True, track_running_stats=True)\n",
       "          (act): SiLU(inplace=True)\n",
       "        )\n",
       "        (m): ModuleList(\n",
       "          (0): Bottleneck(\n",
       "            (cv1): Conv(\n",
       "              (conv): Conv2d(32, 16, kernel_size=(3, 3), stride=(1, 1), padding=(1, 1), bias=False)\n",
       "              (bn): BatchNorm2d(16, eps=0.001, momentum=0.03, affine=True, track_running_stats=True)\n",
       "              (act): SiLU(inplace=True)\n",
       "            )\n",
       "            (cv2): Conv(\n",
       "              (conv): Conv2d(16, 32, kernel_size=(3, 3), stride=(1, 1), padding=(1, 1), bias=False)\n",
       "              (bn): BatchNorm2d(32, eps=0.001, momentum=0.03, affine=True, track_running_stats=True)\n",
       "              (act): SiLU(inplace=True)\n",
       "            )\n",
       "          )\n",
       "        )\n",
       "      )\n",
       "      (5): Conv(\n",
       "        (conv): Conv2d(128, 128, kernel_size=(3, 3), stride=(2, 2), padding=(1, 1), bias=False)\n",
       "        (bn): BatchNorm2d(128, eps=0.001, momentum=0.03, affine=True, track_running_stats=True)\n",
       "        (act): SiLU(inplace=True)\n",
       "      )\n",
       "      (6): C3k2(\n",
       "        (cv1): Conv(\n",
       "          (conv): Conv2d(128, 128, kernel_size=(1, 1), stride=(1, 1), bias=False)\n",
       "          (bn): BatchNorm2d(128, eps=0.001, momentum=0.03, affine=True, track_running_stats=True)\n",
       "          (act): SiLU(inplace=True)\n",
       "        )\n",
       "        (cv2): Conv(\n",
       "          (conv): Conv2d(192, 128, kernel_size=(1, 1), stride=(1, 1), bias=False)\n",
       "          (bn): BatchNorm2d(128, eps=0.001, momentum=0.03, affine=True, track_running_stats=True)\n",
       "          (act): SiLU(inplace=True)\n",
       "        )\n",
       "        (m): ModuleList(\n",
       "          (0): C3k(\n",
       "            (cv1): Conv(\n",
       "              (conv): Conv2d(64, 32, kernel_size=(1, 1), stride=(1, 1), bias=False)\n",
       "              (bn): BatchNorm2d(32, eps=0.001, momentum=0.03, affine=True, track_running_stats=True)\n",
       "              (act): SiLU(inplace=True)\n",
       "            )\n",
       "            (cv2): Conv(\n",
       "              (conv): Conv2d(64, 32, kernel_size=(1, 1), stride=(1, 1), bias=False)\n",
       "              (bn): BatchNorm2d(32, eps=0.001, momentum=0.03, affine=True, track_running_stats=True)\n",
       "              (act): SiLU(inplace=True)\n",
       "            )\n",
       "            (cv3): Conv(\n",
       "              (conv): Conv2d(64, 64, kernel_size=(1, 1), stride=(1, 1), bias=False)\n",
       "              (bn): BatchNorm2d(64, eps=0.001, momentum=0.03, affine=True, track_running_stats=True)\n",
       "              (act): SiLU(inplace=True)\n",
       "            )\n",
       "            (m): Sequential(\n",
       "              (0): Bottleneck(\n",
       "                (cv1): Conv(\n",
       "                  (conv): Conv2d(32, 32, kernel_size=(3, 3), stride=(1, 1), padding=(1, 1), bias=False)\n",
       "                  (bn): BatchNorm2d(32, eps=0.001, momentum=0.03, affine=True, track_running_stats=True)\n",
       "                  (act): SiLU(inplace=True)\n",
       "                )\n",
       "                (cv2): Conv(\n",
       "                  (conv): Conv2d(32, 32, kernel_size=(3, 3), stride=(1, 1), padding=(1, 1), bias=False)\n",
       "                  (bn): BatchNorm2d(32, eps=0.001, momentum=0.03, affine=True, track_running_stats=True)\n",
       "                  (act): SiLU(inplace=True)\n",
       "                )\n",
       "              )\n",
       "              (1): Bottleneck(\n",
       "                (cv1): Conv(\n",
       "                  (conv): Conv2d(32, 32, kernel_size=(3, 3), stride=(1, 1), padding=(1, 1), bias=False)\n",
       "                  (bn): BatchNorm2d(32, eps=0.001, momentum=0.03, affine=True, track_running_stats=True)\n",
       "                  (act): SiLU(inplace=True)\n",
       "                )\n",
       "                (cv2): Conv(\n",
       "                  (conv): Conv2d(32, 32, kernel_size=(3, 3), stride=(1, 1), padding=(1, 1), bias=False)\n",
       "                  (bn): BatchNorm2d(32, eps=0.001, momentum=0.03, affine=True, track_running_stats=True)\n",
       "                  (act): SiLU(inplace=True)\n",
       "                )\n",
       "              )\n",
       "            )\n",
       "          )\n",
       "        )\n",
       "      )\n",
       "      (7): Conv(\n",
       "        (conv): Conv2d(128, 256, kernel_size=(3, 3), stride=(2, 2), padding=(1, 1), bias=False)\n",
       "        (bn): BatchNorm2d(256, eps=0.001, momentum=0.03, affine=True, track_running_stats=True)\n",
       "        (act): SiLU(inplace=True)\n",
       "      )\n",
       "      (8): C3k2(\n",
       "        (cv1): Conv(\n",
       "          (conv): Conv2d(256, 256, kernel_size=(1, 1), stride=(1, 1), bias=False)\n",
       "          (bn): BatchNorm2d(256, eps=0.001, momentum=0.03, affine=True, track_running_stats=True)\n",
       "          (act): SiLU(inplace=True)\n",
       "        )\n",
       "        (cv2): Conv(\n",
       "          (conv): Conv2d(384, 256, kernel_size=(1, 1), stride=(1, 1), bias=False)\n",
       "          (bn): BatchNorm2d(256, eps=0.001, momentum=0.03, affine=True, track_running_stats=True)\n",
       "          (act): SiLU(inplace=True)\n",
       "        )\n",
       "        (m): ModuleList(\n",
       "          (0): C3k(\n",
       "            (cv1): Conv(\n",
       "              (conv): Conv2d(128, 64, kernel_size=(1, 1), stride=(1, 1), bias=False)\n",
       "              (bn): BatchNorm2d(64, eps=0.001, momentum=0.03, affine=True, track_running_stats=True)\n",
       "              (act): SiLU(inplace=True)\n",
       "            )\n",
       "            (cv2): Conv(\n",
       "              (conv): Conv2d(128, 64, kernel_size=(1, 1), stride=(1, 1), bias=False)\n",
       "              (bn): BatchNorm2d(64, eps=0.001, momentum=0.03, affine=True, track_running_stats=True)\n",
       "              (act): SiLU(inplace=True)\n",
       "            )\n",
       "            (cv3): Conv(\n",
       "              (conv): Conv2d(128, 128, kernel_size=(1, 1), stride=(1, 1), bias=False)\n",
       "              (bn): BatchNorm2d(128, eps=0.001, momentum=0.03, affine=True, track_running_stats=True)\n",
       "              (act): SiLU(inplace=True)\n",
       "            )\n",
       "            (m): Sequential(\n",
       "              (0): Bottleneck(\n",
       "                (cv1): Conv(\n",
       "                  (conv): Conv2d(64, 64, kernel_size=(3, 3), stride=(1, 1), padding=(1, 1), bias=False)\n",
       "                  (bn): BatchNorm2d(64, eps=0.001, momentum=0.03, affine=True, track_running_stats=True)\n",
       "                  (act): SiLU(inplace=True)\n",
       "                )\n",
       "                (cv2): Conv(\n",
       "                  (conv): Conv2d(64, 64, kernel_size=(3, 3), stride=(1, 1), padding=(1, 1), bias=False)\n",
       "                  (bn): BatchNorm2d(64, eps=0.001, momentum=0.03, affine=True, track_running_stats=True)\n",
       "                  (act): SiLU(inplace=True)\n",
       "                )\n",
       "              )\n",
       "              (1): Bottleneck(\n",
       "                (cv1): Conv(\n",
       "                  (conv): Conv2d(64, 64, kernel_size=(3, 3), stride=(1, 1), padding=(1, 1), bias=False)\n",
       "                  (bn): BatchNorm2d(64, eps=0.001, momentum=0.03, affine=True, track_running_stats=True)\n",
       "                  (act): SiLU(inplace=True)\n",
       "                )\n",
       "                (cv2): Conv(\n",
       "                  (conv): Conv2d(64, 64, kernel_size=(3, 3), stride=(1, 1), padding=(1, 1), bias=False)\n",
       "                  (bn): BatchNorm2d(64, eps=0.001, momentum=0.03, affine=True, track_running_stats=True)\n",
       "                  (act): SiLU(inplace=True)\n",
       "                )\n",
       "              )\n",
       "            )\n",
       "          )\n",
       "        )\n",
       "      )\n",
       "      (9): SPPF(\n",
       "        (cv1): Conv(\n",
       "          (conv): Conv2d(256, 128, kernel_size=(1, 1), stride=(1, 1), bias=False)\n",
       "          (bn): BatchNorm2d(128, eps=0.001, momentum=0.03, affine=True, track_running_stats=True)\n",
       "          (act): SiLU(inplace=True)\n",
       "        )\n",
       "        (cv2): Conv(\n",
       "          (conv): Conv2d(512, 256, kernel_size=(1, 1), stride=(1, 1), bias=False)\n",
       "          (bn): BatchNorm2d(256, eps=0.001, momentum=0.03, affine=True, track_running_stats=True)\n",
       "          (act): SiLU(inplace=True)\n",
       "        )\n",
       "        (m): MaxPool2d(kernel_size=5, stride=1, padding=2, dilation=1, ceil_mode=False)\n",
       "      )\n",
       "      (10): C2PSA(\n",
       "        (cv1): Conv(\n",
       "          (conv): Conv2d(256, 256, kernel_size=(1, 1), stride=(1, 1), bias=False)\n",
       "          (bn): BatchNorm2d(256, eps=0.001, momentum=0.03, affine=True, track_running_stats=True)\n",
       "          (act): SiLU(inplace=True)\n",
       "        )\n",
       "        (cv2): Conv(\n",
       "          (conv): Conv2d(256, 256, kernel_size=(1, 1), stride=(1, 1), bias=False)\n",
       "          (bn): BatchNorm2d(256, eps=0.001, momentum=0.03, affine=True, track_running_stats=True)\n",
       "          (act): SiLU(inplace=True)\n",
       "        )\n",
       "        (m): Sequential(\n",
       "          (0): PSABlock(\n",
       "            (attn): Attention(\n",
       "              (qkv): Conv(\n",
       "                (conv): Conv2d(128, 256, kernel_size=(1, 1), stride=(1, 1), bias=False)\n",
       "                (bn): BatchNorm2d(256, eps=0.001, momentum=0.03, affine=True, track_running_stats=True)\n",
       "                (act): Identity()\n",
       "              )\n",
       "              (proj): Conv(\n",
       "                (conv): Conv2d(128, 128, kernel_size=(1, 1), stride=(1, 1), bias=False)\n",
       "                (bn): BatchNorm2d(128, eps=0.001, momentum=0.03, affine=True, track_running_stats=True)\n",
       "                (act): Identity()\n",
       "              )\n",
       "              (pe): Conv(\n",
       "                (conv): Conv2d(128, 128, kernel_size=(3, 3), stride=(1, 1), padding=(1, 1), groups=128, bias=False)\n",
       "                (bn): BatchNorm2d(128, eps=0.001, momentum=0.03, affine=True, track_running_stats=True)\n",
       "                (act): Identity()\n",
       "              )\n",
       "            )\n",
       "            (ffn): Sequential(\n",
       "              (0): Conv(\n",
       "                (conv): Conv2d(128, 256, kernel_size=(1, 1), stride=(1, 1), bias=False)\n",
       "                (bn): BatchNorm2d(256, eps=0.001, momentum=0.03, affine=True, track_running_stats=True)\n",
       "                (act): SiLU(inplace=True)\n",
       "              )\n",
       "              (1): Conv(\n",
       "                (conv): Conv2d(256, 128, kernel_size=(1, 1), stride=(1, 1), bias=False)\n",
       "                (bn): BatchNorm2d(128, eps=0.001, momentum=0.03, affine=True, track_running_stats=True)\n",
       "                (act): Identity()\n",
       "              )\n",
       "            )\n",
       "          )\n",
       "        )\n",
       "      )\n",
       "      (11): Upsample(scale_factor=2.0, mode='nearest')\n",
       "      (12): Concat()\n",
       "      (13): C3k2(\n",
       "        (cv1): Conv(\n",
       "          (conv): Conv2d(384, 128, kernel_size=(1, 1), stride=(1, 1), bias=False)\n",
       "          (bn): BatchNorm2d(128, eps=0.001, momentum=0.03, affine=True, track_running_stats=True)\n",
       "          (act): SiLU(inplace=True)\n",
       "        )\n",
       "        (cv2): Conv(\n",
       "          (conv): Conv2d(192, 128, kernel_size=(1, 1), stride=(1, 1), bias=False)\n",
       "          (bn): BatchNorm2d(128, eps=0.001, momentum=0.03, affine=True, track_running_stats=True)\n",
       "          (act): SiLU(inplace=True)\n",
       "        )\n",
       "        (m): ModuleList(\n",
       "          (0): Bottleneck(\n",
       "            (cv1): Conv(\n",
       "              (conv): Conv2d(64, 32, kernel_size=(3, 3), stride=(1, 1), padding=(1, 1), bias=False)\n",
       "              (bn): BatchNorm2d(32, eps=0.001, momentum=0.03, affine=True, track_running_stats=True)\n",
       "              (act): SiLU(inplace=True)\n",
       "            )\n",
       "            (cv2): Conv(\n",
       "              (conv): Conv2d(32, 64, kernel_size=(3, 3), stride=(1, 1), padding=(1, 1), bias=False)\n",
       "              (bn): BatchNorm2d(64, eps=0.001, momentum=0.03, affine=True, track_running_stats=True)\n",
       "              (act): SiLU(inplace=True)\n",
       "            )\n",
       "          )\n",
       "        )\n",
       "      )\n",
       "      (14): Upsample(scale_factor=2.0, mode='nearest')\n",
       "      (15): Concat()\n",
       "      (16): C3k2(\n",
       "        (cv1): Conv(\n",
       "          (conv): Conv2d(256, 64, kernel_size=(1, 1), stride=(1, 1), bias=False)\n",
       "          (bn): BatchNorm2d(64, eps=0.001, momentum=0.03, affine=True, track_running_stats=True)\n",
       "          (act): SiLU(inplace=True)\n",
       "        )\n",
       "        (cv2): Conv(\n",
       "          (conv): Conv2d(96, 64, kernel_size=(1, 1), stride=(1, 1), bias=False)\n",
       "          (bn): BatchNorm2d(64, eps=0.001, momentum=0.03, affine=True, track_running_stats=True)\n",
       "          (act): SiLU(inplace=True)\n",
       "        )\n",
       "        (m): ModuleList(\n",
       "          (0): Bottleneck(\n",
       "            (cv1): Conv(\n",
       "              (conv): Conv2d(32, 16, kernel_size=(3, 3), stride=(1, 1), padding=(1, 1), bias=False)\n",
       "              (bn): BatchNorm2d(16, eps=0.001, momentum=0.03, affine=True, track_running_stats=True)\n",
       "              (act): SiLU(inplace=True)\n",
       "            )\n",
       "            (cv2): Conv(\n",
       "              (conv): Conv2d(16, 32, kernel_size=(3, 3), stride=(1, 1), padding=(1, 1), bias=False)\n",
       "              (bn): BatchNorm2d(32, eps=0.001, momentum=0.03, affine=True, track_running_stats=True)\n",
       "              (act): SiLU(inplace=True)\n",
       "            )\n",
       "          )\n",
       "        )\n",
       "      )\n",
       "      (17): Conv(\n",
       "        (conv): Conv2d(64, 64, kernel_size=(3, 3), stride=(2, 2), padding=(1, 1), bias=False)\n",
       "        (bn): BatchNorm2d(64, eps=0.001, momentum=0.03, affine=True, track_running_stats=True)\n",
       "        (act): SiLU(inplace=True)\n",
       "      )\n",
       "      (18): Concat()\n",
       "      (19): C3k2(\n",
       "        (cv1): Conv(\n",
       "          (conv): Conv2d(192, 128, kernel_size=(1, 1), stride=(1, 1), bias=False)\n",
       "          (bn): BatchNorm2d(128, eps=0.001, momentum=0.03, affine=True, track_running_stats=True)\n",
       "          (act): SiLU(inplace=True)\n",
       "        )\n",
       "        (cv2): Conv(\n",
       "          (conv): Conv2d(192, 128, kernel_size=(1, 1), stride=(1, 1), bias=False)\n",
       "          (bn): BatchNorm2d(128, eps=0.001, momentum=0.03, affine=True, track_running_stats=True)\n",
       "          (act): SiLU(inplace=True)\n",
       "        )\n",
       "        (m): ModuleList(\n",
       "          (0): Bottleneck(\n",
       "            (cv1): Conv(\n",
       "              (conv): Conv2d(64, 32, kernel_size=(3, 3), stride=(1, 1), padding=(1, 1), bias=False)\n",
       "              (bn): BatchNorm2d(32, eps=0.001, momentum=0.03, affine=True, track_running_stats=True)\n",
       "              (act): SiLU(inplace=True)\n",
       "            )\n",
       "            (cv2): Conv(\n",
       "              (conv): Conv2d(32, 64, kernel_size=(3, 3), stride=(1, 1), padding=(1, 1), bias=False)\n",
       "              (bn): BatchNorm2d(64, eps=0.001, momentum=0.03, affine=True, track_running_stats=True)\n",
       "              (act): SiLU(inplace=True)\n",
       "            )\n",
       "          )\n",
       "        )\n",
       "      )\n",
       "      (20): Conv(\n",
       "        (conv): Conv2d(128, 128, kernel_size=(3, 3), stride=(2, 2), padding=(1, 1), bias=False)\n",
       "        (bn): BatchNorm2d(128, eps=0.001, momentum=0.03, affine=True, track_running_stats=True)\n",
       "        (act): SiLU(inplace=True)\n",
       "      )\n",
       "      (21): Concat()\n",
       "      (22): C3k2(\n",
       "        (cv1): Conv(\n",
       "          (conv): Conv2d(384, 256, kernel_size=(1, 1), stride=(1, 1), bias=False)\n",
       "          (bn): BatchNorm2d(256, eps=0.001, momentum=0.03, affine=True, track_running_stats=True)\n",
       "          (act): SiLU(inplace=True)\n",
       "        )\n",
       "        (cv2): Conv(\n",
       "          (conv): Conv2d(384, 256, kernel_size=(1, 1), stride=(1, 1), bias=False)\n",
       "          (bn): BatchNorm2d(256, eps=0.001, momentum=0.03, affine=True, track_running_stats=True)\n",
       "          (act): SiLU(inplace=True)\n",
       "        )\n",
       "        (m): ModuleList(\n",
       "          (0): C3k(\n",
       "            (cv1): Conv(\n",
       "              (conv): Conv2d(128, 64, kernel_size=(1, 1), stride=(1, 1), bias=False)\n",
       "              (bn): BatchNorm2d(64, eps=0.001, momentum=0.03, affine=True, track_running_stats=True)\n",
       "              (act): SiLU(inplace=True)\n",
       "            )\n",
       "            (cv2): Conv(\n",
       "              (conv): Conv2d(128, 64, kernel_size=(1, 1), stride=(1, 1), bias=False)\n",
       "              (bn): BatchNorm2d(64, eps=0.001, momentum=0.03, affine=True, track_running_stats=True)\n",
       "              (act): SiLU(inplace=True)\n",
       "            )\n",
       "            (cv3): Conv(\n",
       "              (conv): Conv2d(128, 128, kernel_size=(1, 1), stride=(1, 1), bias=False)\n",
       "              (bn): BatchNorm2d(128, eps=0.001, momentum=0.03, affine=True, track_running_stats=True)\n",
       "              (act): SiLU(inplace=True)\n",
       "            )\n",
       "            (m): Sequential(\n",
       "              (0): Bottleneck(\n",
       "                (cv1): Conv(\n",
       "                  (conv): Conv2d(64, 64, kernel_size=(3, 3), stride=(1, 1), padding=(1, 1), bias=False)\n",
       "                  (bn): BatchNorm2d(64, eps=0.001, momentum=0.03, affine=True, track_running_stats=True)\n",
       "                  (act): SiLU(inplace=True)\n",
       "                )\n",
       "                (cv2): Conv(\n",
       "                  (conv): Conv2d(64, 64, kernel_size=(3, 3), stride=(1, 1), padding=(1, 1), bias=False)\n",
       "                  (bn): BatchNorm2d(64, eps=0.001, momentum=0.03, affine=True, track_running_stats=True)\n",
       "                  (act): SiLU(inplace=True)\n",
       "                )\n",
       "              )\n",
       "              (1): Bottleneck(\n",
       "                (cv1): Conv(\n",
       "                  (conv): Conv2d(64, 64, kernel_size=(3, 3), stride=(1, 1), padding=(1, 1), bias=False)\n",
       "                  (bn): BatchNorm2d(64, eps=0.001, momentum=0.03, affine=True, track_running_stats=True)\n",
       "                  (act): SiLU(inplace=True)\n",
       "                )\n",
       "                (cv2): Conv(\n",
       "                  (conv): Conv2d(64, 64, kernel_size=(3, 3), stride=(1, 1), padding=(1, 1), bias=False)\n",
       "                  (bn): BatchNorm2d(64, eps=0.001, momentum=0.03, affine=True, track_running_stats=True)\n",
       "                  (act): SiLU(inplace=True)\n",
       "                )\n",
       "              )\n",
       "            )\n",
       "          )\n",
       "        )\n",
       "      )\n",
       "      (23): Segment(\n",
       "        (cv2): ModuleList(\n",
       "          (0): Sequential(\n",
       "            (0): Conv(\n",
       "              (conv): Conv2d(64, 64, kernel_size=(3, 3), stride=(1, 1), padding=(1, 1), bias=False)\n",
       "              (bn): BatchNorm2d(64, eps=0.001, momentum=0.03, affine=True, track_running_stats=True)\n",
       "              (act): SiLU(inplace=True)\n",
       "            )\n",
       "            (1): Conv(\n",
       "              (conv): Conv2d(64, 64, kernel_size=(3, 3), stride=(1, 1), padding=(1, 1), bias=False)\n",
       "              (bn): BatchNorm2d(64, eps=0.001, momentum=0.03, affine=True, track_running_stats=True)\n",
       "              (act): SiLU(inplace=True)\n",
       "            )\n",
       "            (2): Conv2d(64, 64, kernel_size=(1, 1), stride=(1, 1))\n",
       "          )\n",
       "          (1): Sequential(\n",
       "            (0): Conv(\n",
       "              (conv): Conv2d(128, 64, kernel_size=(3, 3), stride=(1, 1), padding=(1, 1), bias=False)\n",
       "              (bn): BatchNorm2d(64, eps=0.001, momentum=0.03, affine=True, track_running_stats=True)\n",
       "              (act): SiLU(inplace=True)\n",
       "            )\n",
       "            (1): Conv(\n",
       "              (conv): Conv2d(64, 64, kernel_size=(3, 3), stride=(1, 1), padding=(1, 1), bias=False)\n",
       "              (bn): BatchNorm2d(64, eps=0.001, momentum=0.03, affine=True, track_running_stats=True)\n",
       "              (act): SiLU(inplace=True)\n",
       "            )\n",
       "            (2): Conv2d(64, 64, kernel_size=(1, 1), stride=(1, 1))\n",
       "          )\n",
       "          (2): Sequential(\n",
       "            (0): Conv(\n",
       "              (conv): Conv2d(256, 64, kernel_size=(3, 3), stride=(1, 1), padding=(1, 1), bias=False)\n",
       "              (bn): BatchNorm2d(64, eps=0.001, momentum=0.03, affine=True, track_running_stats=True)\n",
       "              (act): SiLU(inplace=True)\n",
       "            )\n",
       "            (1): Conv(\n",
       "              (conv): Conv2d(64, 64, kernel_size=(3, 3), stride=(1, 1), padding=(1, 1), bias=False)\n",
       "              (bn): BatchNorm2d(64, eps=0.001, momentum=0.03, affine=True, track_running_stats=True)\n",
       "              (act): SiLU(inplace=True)\n",
       "            )\n",
       "            (2): Conv2d(64, 64, kernel_size=(1, 1), stride=(1, 1))\n",
       "          )\n",
       "        )\n",
       "        (cv3): ModuleList(\n",
       "          (0): Sequential(\n",
       "            (0): Sequential(\n",
       "              (0): DWConv(\n",
       "                (conv): Conv2d(64, 64, kernel_size=(3, 3), stride=(1, 1), padding=(1, 1), groups=64, bias=False)\n",
       "                (bn): BatchNorm2d(64, eps=0.001, momentum=0.03, affine=True, track_running_stats=True)\n",
       "                (act): SiLU(inplace=True)\n",
       "              )\n",
       "              (1): Conv(\n",
       "                (conv): Conv2d(64, 64, kernel_size=(1, 1), stride=(1, 1), bias=False)\n",
       "                (bn): BatchNorm2d(64, eps=0.001, momentum=0.03, affine=True, track_running_stats=True)\n",
       "                (act): SiLU(inplace=True)\n",
       "              )\n",
       "            )\n",
       "            (1): Sequential(\n",
       "              (0): DWConv(\n",
       "                (conv): Conv2d(64, 64, kernel_size=(3, 3), stride=(1, 1), padding=(1, 1), groups=64, bias=False)\n",
       "                (bn): BatchNorm2d(64, eps=0.001, momentum=0.03, affine=True, track_running_stats=True)\n",
       "                (act): SiLU(inplace=True)\n",
       "              )\n",
       "              (1): Conv(\n",
       "                (conv): Conv2d(64, 64, kernel_size=(1, 1), stride=(1, 1), bias=False)\n",
       "                (bn): BatchNorm2d(64, eps=0.001, momentum=0.03, affine=True, track_running_stats=True)\n",
       "                (act): SiLU(inplace=True)\n",
       "              )\n",
       "            )\n",
       "            (2): Conv2d(64, 1, kernel_size=(1, 1), stride=(1, 1))\n",
       "          )\n",
       "          (1): Sequential(\n",
       "            (0): Sequential(\n",
       "              (0): DWConv(\n",
       "                (conv): Conv2d(128, 128, kernel_size=(3, 3), stride=(1, 1), padding=(1, 1), groups=128, bias=False)\n",
       "                (bn): BatchNorm2d(128, eps=0.001, momentum=0.03, affine=True, track_running_stats=True)\n",
       "                (act): SiLU(inplace=True)\n",
       "              )\n",
       "              (1): Conv(\n",
       "                (conv): Conv2d(128, 64, kernel_size=(1, 1), stride=(1, 1), bias=False)\n",
       "                (bn): BatchNorm2d(64, eps=0.001, momentum=0.03, affine=True, track_running_stats=True)\n",
       "                (act): SiLU(inplace=True)\n",
       "              )\n",
       "            )\n",
       "            (1): Sequential(\n",
       "              (0): DWConv(\n",
       "                (conv): Conv2d(64, 64, kernel_size=(3, 3), stride=(1, 1), padding=(1, 1), groups=64, bias=False)\n",
       "                (bn): BatchNorm2d(64, eps=0.001, momentum=0.03, affine=True, track_running_stats=True)\n",
       "                (act): SiLU(inplace=True)\n",
       "              )\n",
       "              (1): Conv(\n",
       "                (conv): Conv2d(64, 64, kernel_size=(1, 1), stride=(1, 1), bias=False)\n",
       "                (bn): BatchNorm2d(64, eps=0.001, momentum=0.03, affine=True, track_running_stats=True)\n",
       "                (act): SiLU(inplace=True)\n",
       "              )\n",
       "            )\n",
       "            (2): Conv2d(64, 1, kernel_size=(1, 1), stride=(1, 1))\n",
       "          )\n",
       "          (2): Sequential(\n",
       "            (0): Sequential(\n",
       "              (0): DWConv(\n",
       "                (conv): Conv2d(256, 256, kernel_size=(3, 3), stride=(1, 1), padding=(1, 1), groups=256, bias=False)\n",
       "                (bn): BatchNorm2d(256, eps=0.001, momentum=0.03, affine=True, track_running_stats=True)\n",
       "                (act): SiLU(inplace=True)\n",
       "              )\n",
       "              (1): Conv(\n",
       "                (conv): Conv2d(256, 64, kernel_size=(1, 1), stride=(1, 1), bias=False)\n",
       "                (bn): BatchNorm2d(64, eps=0.001, momentum=0.03, affine=True, track_running_stats=True)\n",
       "                (act): SiLU(inplace=True)\n",
       "              )\n",
       "            )\n",
       "            (1): Sequential(\n",
       "              (0): DWConv(\n",
       "                (conv): Conv2d(64, 64, kernel_size=(3, 3), stride=(1, 1), padding=(1, 1), groups=64, bias=False)\n",
       "                (bn): BatchNorm2d(64, eps=0.001, momentum=0.03, affine=True, track_running_stats=True)\n",
       "                (act): SiLU(inplace=True)\n",
       "              )\n",
       "              (1): Conv(\n",
       "                (conv): Conv2d(64, 64, kernel_size=(1, 1), stride=(1, 1), bias=False)\n",
       "                (bn): BatchNorm2d(64, eps=0.001, momentum=0.03, affine=True, track_running_stats=True)\n",
       "                (act): SiLU(inplace=True)\n",
       "              )\n",
       "            )\n",
       "            (2): Conv2d(64, 1, kernel_size=(1, 1), stride=(1, 1))\n",
       "          )\n",
       "        )\n",
       "        (dfl): DFL(\n",
       "          (conv): Conv2d(16, 1, kernel_size=(1, 1), stride=(1, 1), bias=False)\n",
       "        )\n",
       "        (proto): Proto(\n",
       "          (cv1): Conv(\n",
       "            (conv): Conv2d(64, 64, kernel_size=(3, 3), stride=(1, 1), padding=(1, 1), bias=False)\n",
       "            (bn): BatchNorm2d(64, eps=0.001, momentum=0.03, affine=True, track_running_stats=True)\n",
       "            (act): SiLU(inplace=True)\n",
       "          )\n",
       "          (upsample): ConvTranspose2d(64, 64, kernel_size=(2, 2), stride=(2, 2))\n",
       "          (cv2): Conv(\n",
       "            (conv): Conv2d(64, 64, kernel_size=(3, 3), stride=(1, 1), padding=(1, 1), bias=False)\n",
       "            (bn): BatchNorm2d(64, eps=0.001, momentum=0.03, affine=True, track_running_stats=True)\n",
       "            (act): SiLU(inplace=True)\n",
       "          )\n",
       "          (cv3): Conv(\n",
       "            (conv): Conv2d(64, 32, kernel_size=(1, 1), stride=(1, 1), bias=False)\n",
       "            (bn): BatchNorm2d(32, eps=0.001, momentum=0.03, affine=True, track_running_stats=True)\n",
       "            (act): SiLU(inplace=True)\n",
       "          )\n",
       "        )\n",
       "        (cv4): ModuleList(\n",
       "          (0): Sequential(\n",
       "            (0): Conv(\n",
       "              (conv): Conv2d(64, 32, kernel_size=(3, 3), stride=(1, 1), padding=(1, 1), bias=False)\n",
       "              (bn): BatchNorm2d(32, eps=0.001, momentum=0.03, affine=True, track_running_stats=True)\n",
       "              (act): SiLU(inplace=True)\n",
       "            )\n",
       "            (1): Conv(\n",
       "              (conv): Conv2d(32, 32, kernel_size=(3, 3), stride=(1, 1), padding=(1, 1), bias=False)\n",
       "              (bn): BatchNorm2d(32, eps=0.001, momentum=0.03, affine=True, track_running_stats=True)\n",
       "              (act): SiLU(inplace=True)\n",
       "            )\n",
       "            (2): Conv2d(32, 32, kernel_size=(1, 1), stride=(1, 1))\n",
       "          )\n",
       "          (1): Sequential(\n",
       "            (0): Conv(\n",
       "              (conv): Conv2d(128, 32, kernel_size=(3, 3), stride=(1, 1), padding=(1, 1), bias=False)\n",
       "              (bn): BatchNorm2d(32, eps=0.001, momentum=0.03, affine=True, track_running_stats=True)\n",
       "              (act): SiLU(inplace=True)\n",
       "            )\n",
       "            (1): Conv(\n",
       "              (conv): Conv2d(32, 32, kernel_size=(3, 3), stride=(1, 1), padding=(1, 1), bias=False)\n",
       "              (bn): BatchNorm2d(32, eps=0.001, momentum=0.03, affine=True, track_running_stats=True)\n",
       "              (act): SiLU(inplace=True)\n",
       "            )\n",
       "            (2): Conv2d(32, 32, kernel_size=(1, 1), stride=(1, 1))\n",
       "          )\n",
       "          (2): Sequential(\n",
       "            (0): Conv(\n",
       "              (conv): Conv2d(256, 32, kernel_size=(3, 3), stride=(1, 1), padding=(1, 1), bias=False)\n",
       "              (bn): BatchNorm2d(32, eps=0.001, momentum=0.03, affine=True, track_running_stats=True)\n",
       "              (act): SiLU(inplace=True)\n",
       "            )\n",
       "            (1): Conv(\n",
       "              (conv): Conv2d(32, 32, kernel_size=(3, 3), stride=(1, 1), padding=(1, 1), bias=False)\n",
       "              (bn): BatchNorm2d(32, eps=0.001, momentum=0.03, affine=True, track_running_stats=True)\n",
       "              (act): SiLU(inplace=True)\n",
       "            )\n",
       "            (2): Conv2d(32, 32, kernel_size=(1, 1), stride=(1, 1))\n",
       "          )\n",
       "        )\n",
       "      )\n",
       "    )\n",
       "  )\n",
       ")"
      ]
     },
     "execution_count": 25,
     "metadata": {},
     "output_type": "execute_result"
    }
   ],
   "source": [
    "model = YOLO(\"checkpoint/fighter_2.pt\")\n",
    "model.to(DEVICE)"
   ]
  },
  {
   "cell_type": "markdown",
   "metadata": {},
   "source": [
    "Video Inference"
   ]
  },
  {
   "cell_type": "code",
   "execution_count": 26,
   "metadata": {},
   "outputs": [],
   "source": [
    "input_path = \"video_input/fight_6.mp4\"\n",
    "output_path = \"video_output/fight_6_2.avi\"\n",
    "\n",
    "cap = cv2.VideoCapture(input_path)\n",
    "\n",
    "fps = int(cap.get(cv2.CAP_PROP_FPS))\n",
    "width = int(cap.get(cv2.CAP_PROP_FRAME_WIDTH))\n",
    "height = int(cap.get(cv2.CAP_PROP_FRAME_HEIGHT))\n",
    "fourcc = cv2.VideoWriter_fourcc(*'XVID')\n",
    "out = cv2.VideoWriter(output_path, fourcc, fps, (width, height))\n",
    "\n",
    "results = model.track(source=input_path, task=\"segment\", stream=True)\n"
   ]
  },
  {
   "cell_type": "code",
   "execution_count": 27,
   "metadata": {},
   "outputs": [
    {
     "name": "stdout",
     "output_type": "stream",
     "text": [
      "\n",
      "video 1/1 (frame 1/3688) /home/hatsu/coding/CapProj/TestSeg_1/video_input/fight_6.mp4: 384x640 (no detections), 17.2ms\n",
      "video 1/1 (frame 2/3688) /home/hatsu/coding/CapProj/TestSeg_1/video_input/fight_6.mp4: 384x640 (no detections), 25.2ms\n",
      "video 1/1 (frame 3/3688) /home/hatsu/coding/CapProj/TestSeg_1/video_input/fight_6.mp4: 384x640 (no detections), 21.0ms\n",
      "video 1/1 (frame 4/3688) /home/hatsu/coding/CapProj/TestSeg_1/video_input/fight_6.mp4: 384x640 (no detections), 15.5ms\n",
      "video 1/1 (frame 5/3688) /home/hatsu/coding/CapProj/TestSeg_1/video_input/fight_6.mp4: 384x640 (no detections), 13.5ms\n",
      "video 1/1 (frame 6/3688) /home/hatsu/coding/CapProj/TestSeg_1/video_input/fight_6.mp4: 384x640 (no detections), 13.9ms\n",
      "video 1/1 (frame 7/3688) /home/hatsu/coding/CapProj/TestSeg_1/video_input/fight_6.mp4: 384x640 (no detections), 14.1ms\n",
      "video 1/1 (frame 8/3688) /home/hatsu/coding/CapProj/TestSeg_1/video_input/fight_6.mp4: 384x640 (no detections), 18.2ms\n",
      "video 1/1 (frame 9/3688) /home/hatsu/coding/CapProj/TestSeg_1/video_input/fight_6.mp4: 384x640 (no detections), 16.0ms\n",
      "video 1/1 (frame 10/3688) /home/hatsu/coding/CapProj/TestSeg_1/video_input/fight_6.mp4: 384x640 (no detections), 45.5ms\n",
      "video 1/1 (frame 11/3688) /home/hatsu/coding/CapProj/TestSeg_1/video_input/fight_6.mp4: 384x640 (no detections), 15.9ms\n",
      "video 1/1 (frame 12/3688) /home/hatsu/coding/CapProj/TestSeg_1/video_input/fight_6.mp4: 384x640 (no detections), 15.0ms\n",
      "video 1/1 (frame 13/3688) /home/hatsu/coding/CapProj/TestSeg_1/video_input/fight_6.mp4: 384x640 (no detections), 15.4ms\n",
      "video 1/1 (frame 14/3688) /home/hatsu/coding/CapProj/TestSeg_1/video_input/fight_6.mp4: 384x640 (no detections), 12.9ms\n",
      "video 1/1 (frame 15/3688) /home/hatsu/coding/CapProj/TestSeg_1/video_input/fight_6.mp4: 384x640 (no detections), 13.5ms\n",
      "video 1/1 (frame 16/3688) /home/hatsu/coding/CapProj/TestSeg_1/video_input/fight_6.mp4: 384x640 (no detections), 13.9ms\n",
      "video 1/1 (frame 17/3688) /home/hatsu/coding/CapProj/TestSeg_1/video_input/fight_6.mp4: 384x640 (no detections), 16.7ms\n",
      "video 1/1 (frame 18/3688) /home/hatsu/coding/CapProj/TestSeg_1/video_input/fight_6.mp4: 384x640 (no detections), 13.0ms\n",
      "video 1/1 (frame 19/3688) /home/hatsu/coding/CapProj/TestSeg_1/video_input/fight_6.mp4: 384x640 (no detections), 12.8ms\n",
      "video 1/1 (frame 20/3688) /home/hatsu/coding/CapProj/TestSeg_1/video_input/fight_6.mp4: 384x640 (no detections), 13.9ms\n",
      "video 1/1 (frame 21/3688) /home/hatsu/coding/CapProj/TestSeg_1/video_input/fight_6.mp4: 384x640 (no detections), 12.5ms\n",
      "video 1/1 (frame 22/3688) /home/hatsu/coding/CapProj/TestSeg_1/video_input/fight_6.mp4: 384x640 (no detections), 15.7ms\n",
      "video 1/1 (frame 23/3688) /home/hatsu/coding/CapProj/TestSeg_1/video_input/fight_6.mp4: 384x640 (no detections), 17.7ms\n",
      "video 1/1 (frame 24/3688) /home/hatsu/coding/CapProj/TestSeg_1/video_input/fight_6.mp4: 384x640 (no detections), 17.6ms\n",
      "video 1/1 (frame 25/3688) /home/hatsu/coding/CapProj/TestSeg_1/video_input/fight_6.mp4: 384x640 (no detections), 13.6ms\n",
      "video 1/1 (frame 26/3688) /home/hatsu/coding/CapProj/TestSeg_1/video_input/fight_6.mp4: 384x640 1 Fighter, 15.0ms\n",
      "video 1/1 (frame 27/3688) /home/hatsu/coding/CapProj/TestSeg_1/video_input/fight_6.mp4: 384x640 (no detections), 12.5ms\n",
      "video 1/1 (frame 28/3688) /home/hatsu/coding/CapProj/TestSeg_1/video_input/fight_6.mp4: 384x640 (no detections), 15.0ms\n",
      "video 1/1 (frame 29/3688) /home/hatsu/coding/CapProj/TestSeg_1/video_input/fight_6.mp4: 384x640 (no detections), 25.7ms\n",
      "video 1/1 (frame 30/3688) /home/hatsu/coding/CapProj/TestSeg_1/video_input/fight_6.mp4: 384x640 (no detections), 15.1ms\n",
      "video 1/1 (frame 31/3688) /home/hatsu/coding/CapProj/TestSeg_1/video_input/fight_6.mp4: 384x640 (no detections), 17.6ms\n",
      "video 1/1 (frame 32/3688) /home/hatsu/coding/CapProj/TestSeg_1/video_input/fight_6.mp4: 384x640 (no detections), 14.0ms\n",
      "video 1/1 (frame 33/3688) /home/hatsu/coding/CapProj/TestSeg_1/video_input/fight_6.mp4: 384x640 (no detections), 16.9ms\n",
      "video 1/1 (frame 34/3688) /home/hatsu/coding/CapProj/TestSeg_1/video_input/fight_6.mp4: 384x640 (no detections), 15.9ms\n",
      "video 1/1 (frame 35/3688) /home/hatsu/coding/CapProj/TestSeg_1/video_input/fight_6.mp4: 384x640 (no detections), 15.8ms\n",
      "video 1/1 (frame 36/3688) /home/hatsu/coding/CapProj/TestSeg_1/video_input/fight_6.mp4: 384x640 (no detections), 16.0ms\n",
      "video 1/1 (frame 37/3688) /home/hatsu/coding/CapProj/TestSeg_1/video_input/fight_6.mp4: 384x640 (no detections), 16.4ms\n",
      "video 1/1 (frame 38/3688) /home/hatsu/coding/CapProj/TestSeg_1/video_input/fight_6.mp4: 384x640 (no detections), 17.4ms\n",
      "video 1/1 (frame 39/3688) /home/hatsu/coding/CapProj/TestSeg_1/video_input/fight_6.mp4: 384x640 (no detections), 15.4ms\n",
      "video 1/1 (frame 40/3688) /home/hatsu/coding/CapProj/TestSeg_1/video_input/fight_6.mp4: 384x640 (no detections), 13.9ms\n",
      "video 1/1 (frame 41/3688) /home/hatsu/coding/CapProj/TestSeg_1/video_input/fight_6.mp4: 384x640 (no detections), 14.8ms\n",
      "video 1/1 (frame 42/3688) /home/hatsu/coding/CapProj/TestSeg_1/video_input/fight_6.mp4: 384x640 (no detections), 13.6ms\n",
      "video 1/1 (frame 43/3688) /home/hatsu/coding/CapProj/TestSeg_1/video_input/fight_6.mp4: 384x640 (no detections), 16.2ms\n",
      "video 1/1 (frame 44/3688) /home/hatsu/coding/CapProj/TestSeg_1/video_input/fight_6.mp4: 384x640 (no detections), 13.2ms\n",
      "video 1/1 (frame 45/3688) /home/hatsu/coding/CapProj/TestSeg_1/video_input/fight_6.mp4: 384x640 (no detections), 14.2ms\n",
      "video 1/1 (frame 46/3688) /home/hatsu/coding/CapProj/TestSeg_1/video_input/fight_6.mp4: 384x640 (no detections), 16.9ms\n",
      "video 1/1 (frame 47/3688) /home/hatsu/coding/CapProj/TestSeg_1/video_input/fight_6.mp4: 384x640 1 Fighter, 14.4ms\n",
      "video 1/1 (frame 48/3688) /home/hatsu/coding/CapProj/TestSeg_1/video_input/fight_6.mp4: 384x640 2 Fighters, 14.5ms\n",
      "video 1/1 (frame 49/3688) /home/hatsu/coding/CapProj/TestSeg_1/video_input/fight_6.mp4: 384x640 1 Fighter, 34.9ms\n",
      "video 1/1 (frame 50/3688) /home/hatsu/coding/CapProj/TestSeg_1/video_input/fight_6.mp4: 384x640 (no detections), 12.4ms\n",
      "video 1/1 (frame 51/3688) /home/hatsu/coding/CapProj/TestSeg_1/video_input/fight_6.mp4: 384x640 (no detections), 14.3ms\n",
      "video 1/1 (frame 52/3688) /home/hatsu/coding/CapProj/TestSeg_1/video_input/fight_6.mp4: 384x640 (no detections), 14.5ms\n",
      "video 1/1 (frame 53/3688) /home/hatsu/coding/CapProj/TestSeg_1/video_input/fight_6.mp4: 384x640 (no detections), 13.3ms\n",
      "video 1/1 (frame 54/3688) /home/hatsu/coding/CapProj/TestSeg_1/video_input/fight_6.mp4: 384x640 1 Fighter, 13.5ms\n",
      "video 1/1 (frame 55/3688) /home/hatsu/coding/CapProj/TestSeg_1/video_input/fight_6.mp4: 384x640 1 Fighter, 13.2ms\n",
      "video 1/1 (frame 56/3688) /home/hatsu/coding/CapProj/TestSeg_1/video_input/fight_6.mp4: 384x640 1 Fighter, 12.7ms\n",
      "video 1/1 (frame 57/3688) /home/hatsu/coding/CapProj/TestSeg_1/video_input/fight_6.mp4: 384x640 1 Fighter, 14.7ms\n",
      "video 1/1 (frame 58/3688) /home/hatsu/coding/CapProj/TestSeg_1/video_input/fight_6.mp4: 384x640 1 Fighter, 19.5ms\n",
      "video 1/1 (frame 59/3688) /home/hatsu/coding/CapProj/TestSeg_1/video_input/fight_6.mp4: 384x640 1 Fighter, 14.2ms\n",
      "video 1/1 (frame 60/3688) /home/hatsu/coding/CapProj/TestSeg_1/video_input/fight_6.mp4: 384x640 1 Fighter, 12.6ms\n",
      "video 1/1 (frame 61/3688) /home/hatsu/coding/CapProj/TestSeg_1/video_input/fight_6.mp4: 384x640 1 Fighter, 13.0ms\n",
      "video 1/1 (frame 62/3688) /home/hatsu/coding/CapProj/TestSeg_1/video_input/fight_6.mp4: 384x640 1 Fighter, 15.1ms\n",
      "video 1/1 (frame 63/3688) /home/hatsu/coding/CapProj/TestSeg_1/video_input/fight_6.mp4: 384x640 1 Fighter, 13.2ms\n",
      "video 1/1 (frame 64/3688) /home/hatsu/coding/CapProj/TestSeg_1/video_input/fight_6.mp4: 384x640 1 Fighter, 14.7ms\n",
      "video 1/1 (frame 65/3688) /home/hatsu/coding/CapProj/TestSeg_1/video_input/fight_6.mp4: 384x640 1 Fighter, 12.5ms\n",
      "video 1/1 (frame 66/3688) /home/hatsu/coding/CapProj/TestSeg_1/video_input/fight_6.mp4: 384x640 1 Fighter, 14.9ms\n",
      "video 1/1 (frame 67/3688) /home/hatsu/coding/CapProj/TestSeg_1/video_input/fight_6.mp4: 384x640 1 Fighter, 12.9ms\n",
      "video 1/1 (frame 68/3688) /home/hatsu/coding/CapProj/TestSeg_1/video_input/fight_6.mp4: 384x640 1 Fighter, 22.4ms\n",
      "video 1/1 (frame 69/3688) /home/hatsu/coding/CapProj/TestSeg_1/video_input/fight_6.mp4: 384x640 1 Fighter, 13.0ms\n",
      "video 1/1 (frame 70/3688) /home/hatsu/coding/CapProj/TestSeg_1/video_input/fight_6.mp4: 384x640 1 Fighter, 14.0ms\n",
      "video 1/1 (frame 71/3688) /home/hatsu/coding/CapProj/TestSeg_1/video_input/fight_6.mp4: 384x640 (no detections), 13.3ms\n",
      "video 1/1 (frame 72/3688) /home/hatsu/coding/CapProj/TestSeg_1/video_input/fight_6.mp4: 384x640 (no detections), 15.0ms\n",
      "video 1/1 (frame 73/3688) /home/hatsu/coding/CapProj/TestSeg_1/video_input/fight_6.mp4: 384x640 (no detections), 13.2ms\n",
      "video 1/1 (frame 74/3688) /home/hatsu/coding/CapProj/TestSeg_1/video_input/fight_6.mp4: 384x640 (no detections), 14.0ms\n",
      "video 1/1 (frame 75/3688) /home/hatsu/coding/CapProj/TestSeg_1/video_input/fight_6.mp4: 384x640 (no detections), 21.0ms\n",
      "video 1/1 (frame 76/3688) /home/hatsu/coding/CapProj/TestSeg_1/video_input/fight_6.mp4: 384x640 (no detections), 16.1ms\n",
      "video 1/1 (frame 77/3688) /home/hatsu/coding/CapProj/TestSeg_1/video_input/fight_6.mp4: 384x640 (no detections), 16.8ms\n",
      "video 1/1 (frame 78/3688) /home/hatsu/coding/CapProj/TestSeg_1/video_input/fight_6.mp4: 384x640 (no detections), 15.2ms\n",
      "video 1/1 (frame 79/3688) /home/hatsu/coding/CapProj/TestSeg_1/video_input/fight_6.mp4: 384x640 2 Fighters, 14.4ms\n",
      "video 1/1 (frame 80/3688) /home/hatsu/coding/CapProj/TestSeg_1/video_input/fight_6.mp4: 384x640 1 Fighter, 13.1ms\n",
      "video 1/1 (frame 81/3688) /home/hatsu/coding/CapProj/TestSeg_1/video_input/fight_6.mp4: 384x640 1 Fighter, 14.9ms\n",
      "video 1/1 (frame 82/3688) /home/hatsu/coding/CapProj/TestSeg_1/video_input/fight_6.mp4: 384x640 1 Fighter, 12.8ms\n",
      "video 1/1 (frame 83/3688) /home/hatsu/coding/CapProj/TestSeg_1/video_input/fight_6.mp4: 384x640 1 Fighter, 14.0ms\n",
      "video 1/1 (frame 84/3688) /home/hatsu/coding/CapProj/TestSeg_1/video_input/fight_6.mp4: 384x640 1 Fighter, 13.7ms\n",
      "video 1/1 (frame 85/3688) /home/hatsu/coding/CapProj/TestSeg_1/video_input/fight_6.mp4: 384x640 1 Fighter, 15.9ms\n",
      "video 1/1 (frame 86/3688) /home/hatsu/coding/CapProj/TestSeg_1/video_input/fight_6.mp4: 384x640 1 Fighter, 22.1ms\n",
      "video 1/1 (frame 87/3688) /home/hatsu/coding/CapProj/TestSeg_1/video_input/fight_6.mp4: 384x640 1 Fighter, 13.1ms\n",
      "video 1/1 (frame 88/3688) /home/hatsu/coding/CapProj/TestSeg_1/video_input/fight_6.mp4: 384x640 1 Fighter, 31.8ms\n",
      "video 1/1 (frame 89/3688) /home/hatsu/coding/CapProj/TestSeg_1/video_input/fight_6.mp4: 384x640 1 Fighter, 13.1ms\n",
      "video 1/1 (frame 90/3688) /home/hatsu/coding/CapProj/TestSeg_1/video_input/fight_6.mp4: 384x640 1 Fighter, 15.1ms\n",
      "video 1/1 (frame 91/3688) /home/hatsu/coding/CapProj/TestSeg_1/video_input/fight_6.mp4: 384x640 1 Fighter, 12.9ms\n",
      "video 1/1 (frame 92/3688) /home/hatsu/coding/CapProj/TestSeg_1/video_input/fight_6.mp4: 384x640 (no detections), 15.6ms\n",
      "video 1/1 (frame 93/3688) /home/hatsu/coding/CapProj/TestSeg_1/video_input/fight_6.mp4: 384x640 1 Fighter, 18.1ms\n",
      "video 1/1 (frame 94/3688) /home/hatsu/coding/CapProj/TestSeg_1/video_input/fight_6.mp4: 384x640 1 Fighter, 13.2ms\n",
      "video 1/1 (frame 95/3688) /home/hatsu/coding/CapProj/TestSeg_1/video_input/fight_6.mp4: 384x640 1 Fighter, 14.1ms\n",
      "video 1/1 (frame 96/3688) /home/hatsu/coding/CapProj/TestSeg_1/video_input/fight_6.mp4: 384x640 1 Fighter, 12.5ms\n",
      "video 1/1 (frame 97/3688) /home/hatsu/coding/CapProj/TestSeg_1/video_input/fight_6.mp4: 384x640 1 Fighter, 23.1ms\n",
      "video 1/1 (frame 98/3688) /home/hatsu/coding/CapProj/TestSeg_1/video_input/fight_6.mp4: 384x640 1 Fighter, 30.5ms\n",
      "video 1/1 (frame 99/3688) /home/hatsu/coding/CapProj/TestSeg_1/video_input/fight_6.mp4: 384x640 1 Fighter, 20.7ms\n",
      "video 1/1 (frame 100/3688) /home/hatsu/coding/CapProj/TestSeg_1/video_input/fight_6.mp4: 384x640 1 Fighter, 15.0ms\n",
      "video 1/1 (frame 101/3688) /home/hatsu/coding/CapProj/TestSeg_1/video_input/fight_6.mp4: 384x640 1 Fighter, 15.2ms\n",
      "video 1/1 (frame 102/3688) /home/hatsu/coding/CapProj/TestSeg_1/video_input/fight_6.mp4: 384x640 1 Fighter, 12.7ms\n",
      "video 1/1 (frame 103/3688) /home/hatsu/coding/CapProj/TestSeg_1/video_input/fight_6.mp4: 384x640 1 Fighter, 16.0ms\n",
      "video 1/1 (frame 104/3688) /home/hatsu/coding/CapProj/TestSeg_1/video_input/fight_6.mp4: 384x640 1 Fighter, 19.6ms\n",
      "video 1/1 (frame 105/3688) /home/hatsu/coding/CapProj/TestSeg_1/video_input/fight_6.mp4: 384x640 1 Fighter, 14.2ms\n",
      "video 1/1 (frame 106/3688) /home/hatsu/coding/CapProj/TestSeg_1/video_input/fight_6.mp4: 384x640 1 Fighter, 13.9ms\n",
      "video 1/1 (frame 107/3688) /home/hatsu/coding/CapProj/TestSeg_1/video_input/fight_6.mp4: 384x640 1 Fighter, 14.4ms\n",
      "video 1/1 (frame 108/3688) /home/hatsu/coding/CapProj/TestSeg_1/video_input/fight_6.mp4: 384x640 1 Fighter, 14.6ms\n",
      "video 1/1 (frame 109/3688) /home/hatsu/coding/CapProj/TestSeg_1/video_input/fight_6.mp4: 384x640 1 Fighter, 14.2ms\n",
      "video 1/1 (frame 110/3688) /home/hatsu/coding/CapProj/TestSeg_1/video_input/fight_6.mp4: 384x640 1 Fighter, 20.4ms\n",
      "video 1/1 (frame 111/3688) /home/hatsu/coding/CapProj/TestSeg_1/video_input/fight_6.mp4: 384x640 1 Fighter, 27.6ms\n",
      "video 1/1 (frame 112/3688) /home/hatsu/coding/CapProj/TestSeg_1/video_input/fight_6.mp4: 384x640 1 Fighter, 21.2ms\n",
      "video 1/1 (frame 113/3688) /home/hatsu/coding/CapProj/TestSeg_1/video_input/fight_6.mp4: 384x640 1 Fighter, 23.6ms\n",
      "video 1/1 (frame 114/3688) /home/hatsu/coding/CapProj/TestSeg_1/video_input/fight_6.mp4: 384x640 1 Fighter, 18.9ms\n",
      "video 1/1 (frame 115/3688) /home/hatsu/coding/CapProj/TestSeg_1/video_input/fight_6.mp4: 384x640 1 Fighter, 34.5ms\n",
      "video 1/1 (frame 116/3688) /home/hatsu/coding/CapProj/TestSeg_1/video_input/fight_6.mp4: 384x640 1 Fighter, 16.3ms\n",
      "video 1/1 (frame 117/3688) /home/hatsu/coding/CapProj/TestSeg_1/video_input/fight_6.mp4: 384x640 1 Fighter, 16.5ms\n",
      "video 1/1 (frame 118/3688) /home/hatsu/coding/CapProj/TestSeg_1/video_input/fight_6.mp4: 384x640 1 Fighter, 18.3ms\n",
      "video 1/1 (frame 119/3688) /home/hatsu/coding/CapProj/TestSeg_1/video_input/fight_6.mp4: 384x640 1 Fighter, 15.8ms\n",
      "video 1/1 (frame 120/3688) /home/hatsu/coding/CapProj/TestSeg_1/video_input/fight_6.mp4: 384x640 1 Fighter, 13.9ms\n",
      "video 1/1 (frame 121/3688) /home/hatsu/coding/CapProj/TestSeg_1/video_input/fight_6.mp4: 384x640 1 Fighter, 14.2ms\n",
      "video 1/1 (frame 122/3688) /home/hatsu/coding/CapProj/TestSeg_1/video_input/fight_6.mp4: 384x640 1 Fighter, 13.9ms\n",
      "video 1/1 (frame 123/3688) /home/hatsu/coding/CapProj/TestSeg_1/video_input/fight_6.mp4: 384x640 1 Fighter, 12.7ms\n",
      "video 1/1 (frame 124/3688) /home/hatsu/coding/CapProj/TestSeg_1/video_input/fight_6.mp4: 384x640 1 Fighter, 15.7ms\n",
      "video 1/1 (frame 125/3688) /home/hatsu/coding/CapProj/TestSeg_1/video_input/fight_6.mp4: 384x640 1 Fighter, 15.1ms\n",
      "video 1/1 (frame 126/3688) /home/hatsu/coding/CapProj/TestSeg_1/video_input/fight_6.mp4: 384x640 1 Fighter, 44.3ms\n",
      "video 1/1 (frame 127/3688) /home/hatsu/coding/CapProj/TestSeg_1/video_input/fight_6.mp4: 384x640 1 Fighter, 23.2ms\n",
      "video 1/1 (frame 128/3688) /home/hatsu/coding/CapProj/TestSeg_1/video_input/fight_6.mp4: 384x640 1 Fighter, 20.2ms\n",
      "video 1/1 (frame 129/3688) /home/hatsu/coding/CapProj/TestSeg_1/video_input/fight_6.mp4: 384x640 1 Fighter, 17.9ms\n",
      "video 1/1 (frame 130/3688) /home/hatsu/coding/CapProj/TestSeg_1/video_input/fight_6.mp4: 384x640 1 Fighter, 22.1ms\n",
      "video 1/1 (frame 131/3688) /home/hatsu/coding/CapProj/TestSeg_1/video_input/fight_6.mp4: 384x640 1 Fighter, 19.7ms\n",
      "video 1/1 (frame 132/3688) /home/hatsu/coding/CapProj/TestSeg_1/video_input/fight_6.mp4: 384x640 1 Fighter, 22.3ms\n",
      "video 1/1 (frame 133/3688) /home/hatsu/coding/CapProj/TestSeg_1/video_input/fight_6.mp4: 384x640 1 Fighter, 18.2ms\n",
      "video 1/1 (frame 134/3688) /home/hatsu/coding/CapProj/TestSeg_1/video_input/fight_6.mp4: 384x640 1 Fighter, 22.5ms\n",
      "video 1/1 (frame 135/3688) /home/hatsu/coding/CapProj/TestSeg_1/video_input/fight_6.mp4: 384x640 1 Fighter, 24.2ms\n",
      "video 1/1 (frame 136/3688) /home/hatsu/coding/CapProj/TestSeg_1/video_input/fight_6.mp4: 384x640 1 Fighter, 21.3ms\n",
      "video 1/1 (frame 137/3688) /home/hatsu/coding/CapProj/TestSeg_1/video_input/fight_6.mp4: 384x640 1 Fighter, 16.5ms\n",
      "video 1/1 (frame 138/3688) /home/hatsu/coding/CapProj/TestSeg_1/video_input/fight_6.mp4: 384x640 2 Fighters, 19.2ms\n",
      "video 1/1 (frame 139/3688) /home/hatsu/coding/CapProj/TestSeg_1/video_input/fight_6.mp4: 384x640 1 Fighter, 19.3ms\n",
      "video 1/1 (frame 140/3688) /home/hatsu/coding/CapProj/TestSeg_1/video_input/fight_6.mp4: 384x640 1 Fighter, 26.5ms\n",
      "video 1/1 (frame 141/3688) /home/hatsu/coding/CapProj/TestSeg_1/video_input/fight_6.mp4: 384x640 1 Fighter, 30.4ms\n",
      "video 1/1 (frame 142/3688) /home/hatsu/coding/CapProj/TestSeg_1/video_input/fight_6.mp4: 384x640 1 Fighter, 28.4ms\n",
      "video 1/1 (frame 143/3688) /home/hatsu/coding/CapProj/TestSeg_1/video_input/fight_6.mp4: 384x640 1 Fighter, 17.1ms\n",
      "video 1/1 (frame 144/3688) /home/hatsu/coding/CapProj/TestSeg_1/video_input/fight_6.mp4: 384x640 1 Fighter, 21.1ms\n",
      "video 1/1 (frame 145/3688) /home/hatsu/coding/CapProj/TestSeg_1/video_input/fight_6.mp4: 384x640 1 Fighter, 26.9ms\n",
      "video 1/1 (frame 146/3688) /home/hatsu/coding/CapProj/TestSeg_1/video_input/fight_6.mp4: 384x640 1 Fighter, 25.0ms\n",
      "video 1/1 (frame 147/3688) /home/hatsu/coding/CapProj/TestSeg_1/video_input/fight_6.mp4: 384x640 1 Fighter, 19.3ms\n",
      "video 1/1 (frame 148/3688) /home/hatsu/coding/CapProj/TestSeg_1/video_input/fight_6.mp4: 384x640 1 Fighter, 19.9ms\n",
      "video 1/1 (frame 149/3688) /home/hatsu/coding/CapProj/TestSeg_1/video_input/fight_6.mp4: 384x640 1 Fighter, 20.9ms\n",
      "video 1/1 (frame 150/3688) /home/hatsu/coding/CapProj/TestSeg_1/video_input/fight_6.mp4: 384x640 1 Fighter, 22.6ms\n",
      "video 1/1 (frame 151/3688) /home/hatsu/coding/CapProj/TestSeg_1/video_input/fight_6.mp4: 384x640 1 Fighter, 34.9ms\n",
      "video 1/1 (frame 152/3688) /home/hatsu/coding/CapProj/TestSeg_1/video_input/fight_6.mp4: 384x640 1 Fighter, 19.6ms\n",
      "video 1/1 (frame 153/3688) /home/hatsu/coding/CapProj/TestSeg_1/video_input/fight_6.mp4: 384x640 1 Fighter, 24.4ms\n",
      "video 1/1 (frame 154/3688) /home/hatsu/coding/CapProj/TestSeg_1/video_input/fight_6.mp4: 384x640 2 Fighters, 24.0ms\n",
      "video 1/1 (frame 155/3688) /home/hatsu/coding/CapProj/TestSeg_1/video_input/fight_6.mp4: 384x640 2 Fighters, 18.0ms\n",
      "video 1/1 (frame 156/3688) /home/hatsu/coding/CapProj/TestSeg_1/video_input/fight_6.mp4: 384x640 2 Fighters, 19.9ms\n",
      "video 1/1 (frame 157/3688) /home/hatsu/coding/CapProj/TestSeg_1/video_input/fight_6.mp4: 384x640 1 Fighter, 21.3ms\n",
      "video 1/1 (frame 158/3688) /home/hatsu/coding/CapProj/TestSeg_1/video_input/fight_6.mp4: 384x640 (no detections), 16.9ms\n",
      "video 1/1 (frame 159/3688) /home/hatsu/coding/CapProj/TestSeg_1/video_input/fight_6.mp4: 384x640 (no detections), 34.0ms\n",
      "video 1/1 (frame 160/3688) /home/hatsu/coding/CapProj/TestSeg_1/video_input/fight_6.mp4: 384x640 (no detections), 19.7ms\n",
      "video 1/1 (frame 161/3688) /home/hatsu/coding/CapProj/TestSeg_1/video_input/fight_6.mp4: 384x640 (no detections), 24.8ms\n",
      "video 1/1 (frame 162/3688) /home/hatsu/coding/CapProj/TestSeg_1/video_input/fight_6.mp4: 384x640 (no detections), 25.7ms\n",
      "video 1/1 (frame 163/3688) /home/hatsu/coding/CapProj/TestSeg_1/video_input/fight_6.mp4: 384x640 (no detections), 25.4ms\n",
      "video 1/1 (frame 164/3688) /home/hatsu/coding/CapProj/TestSeg_1/video_input/fight_6.mp4: 384x640 (no detections), 37.3ms\n",
      "video 1/1 (frame 165/3688) /home/hatsu/coding/CapProj/TestSeg_1/video_input/fight_6.mp4: 384x640 2 Fighters, 21.0ms\n",
      "video 1/1 (frame 166/3688) /home/hatsu/coding/CapProj/TestSeg_1/video_input/fight_6.mp4: 384x640 1 Fighter, 17.2ms\n",
      "video 1/1 (frame 167/3688) /home/hatsu/coding/CapProj/TestSeg_1/video_input/fight_6.mp4: 384x640 1 Fighter, 20.2ms\n",
      "video 1/1 (frame 168/3688) /home/hatsu/coding/CapProj/TestSeg_1/video_input/fight_6.mp4: 384x640 1 Fighter, 23.8ms\n",
      "video 1/1 (frame 169/3688) /home/hatsu/coding/CapProj/TestSeg_1/video_input/fight_6.mp4: 384x640 1 Fighter, 18.8ms\n",
      "video 1/1 (frame 170/3688) /home/hatsu/coding/CapProj/TestSeg_1/video_input/fight_6.mp4: 384x640 1 Fighter, 19.1ms\n",
      "video 1/1 (frame 171/3688) /home/hatsu/coding/CapProj/TestSeg_1/video_input/fight_6.mp4: 384x640 1 Fighter, 23.7ms\n",
      "video 1/1 (frame 172/3688) /home/hatsu/coding/CapProj/TestSeg_1/video_input/fight_6.mp4: 384x640 1 Fighter, 27.3ms\n",
      "video 1/1 (frame 173/3688) /home/hatsu/coding/CapProj/TestSeg_1/video_input/fight_6.mp4: 384x640 1 Fighter, 27.7ms\n",
      "video 1/1 (frame 174/3688) /home/hatsu/coding/CapProj/TestSeg_1/video_input/fight_6.mp4: 384x640 1 Fighter, 22.4ms\n",
      "video 1/1 (frame 175/3688) /home/hatsu/coding/CapProj/TestSeg_1/video_input/fight_6.mp4: 384x640 1 Fighter, 24.0ms\n",
      "video 1/1 (frame 176/3688) /home/hatsu/coding/CapProj/TestSeg_1/video_input/fight_6.mp4: 384x640 1 Fighter, 27.3ms\n",
      "video 1/1 (frame 177/3688) /home/hatsu/coding/CapProj/TestSeg_1/video_input/fight_6.mp4: 384x640 1 Fighter, 24.4ms\n",
      "video 1/1 (frame 178/3688) /home/hatsu/coding/CapProj/TestSeg_1/video_input/fight_6.mp4: 384x640 1 Fighter, 51.1ms\n",
      "video 1/1 (frame 179/3688) /home/hatsu/coding/CapProj/TestSeg_1/video_input/fight_6.mp4: 384x640 1 Fighter, 21.8ms\n",
      "video 1/1 (frame 180/3688) /home/hatsu/coding/CapProj/TestSeg_1/video_input/fight_6.mp4: 384x640 1 Fighter, 20.2ms\n",
      "video 1/1 (frame 181/3688) /home/hatsu/coding/CapProj/TestSeg_1/video_input/fight_6.mp4: 384x640 2 Fighters, 20.0ms\n",
      "video 1/1 (frame 182/3688) /home/hatsu/coding/CapProj/TestSeg_1/video_input/fight_6.mp4: 384x640 2 Fighters, 20.1ms\n",
      "video 1/1 (frame 183/3688) /home/hatsu/coding/CapProj/TestSeg_1/video_input/fight_6.mp4: 384x640 2 Fighters, 17.6ms\n",
      "video 1/1 (frame 184/3688) /home/hatsu/coding/CapProj/TestSeg_1/video_input/fight_6.mp4: 384x640 2 Fighters, 23.2ms\n",
      "video 1/1 (frame 185/3688) /home/hatsu/coding/CapProj/TestSeg_1/video_input/fight_6.mp4: 384x640 2 Fighters, 26.6ms\n",
      "video 1/1 (frame 186/3688) /home/hatsu/coding/CapProj/TestSeg_1/video_input/fight_6.mp4: 384x640 2 Fighters, 27.8ms\n",
      "video 1/1 (frame 187/3688) /home/hatsu/coding/CapProj/TestSeg_1/video_input/fight_6.mp4: 384x640 1 Fighter, 24.1ms\n",
      "video 1/1 (frame 188/3688) /home/hatsu/coding/CapProj/TestSeg_1/video_input/fight_6.mp4: 384x640 1 Fighter, 24.6ms\n",
      "video 1/1 (frame 189/3688) /home/hatsu/coding/CapProj/TestSeg_1/video_input/fight_6.mp4: 384x640 1 Fighter, 39.1ms\n",
      "video 1/1 (frame 190/3688) /home/hatsu/coding/CapProj/TestSeg_1/video_input/fight_6.mp4: 384x640 2 Fighters, 29.1ms\n",
      "video 1/1 (frame 191/3688) /home/hatsu/coding/CapProj/TestSeg_1/video_input/fight_6.mp4: 384x640 2 Fighters, 26.1ms\n",
      "video 1/1 (frame 192/3688) /home/hatsu/coding/CapProj/TestSeg_1/video_input/fight_6.mp4: 384x640 2 Fighters, 20.5ms\n",
      "video 1/1 (frame 193/3688) /home/hatsu/coding/CapProj/TestSeg_1/video_input/fight_6.mp4: 384x640 2 Fighters, 38.3ms\n",
      "video 1/1 (frame 194/3688) /home/hatsu/coding/CapProj/TestSeg_1/video_input/fight_6.mp4: 384x640 2 Fighters, 38.9ms\n",
      "video 1/1 (frame 195/3688) /home/hatsu/coding/CapProj/TestSeg_1/video_input/fight_6.mp4: 384x640 2 Fighters, 19.0ms\n",
      "video 1/1 (frame 196/3688) /home/hatsu/coding/CapProj/TestSeg_1/video_input/fight_6.mp4: 384x640 3 Fighters, 20.2ms\n",
      "video 1/1 (frame 197/3688) /home/hatsu/coding/CapProj/TestSeg_1/video_input/fight_6.mp4: 384x640 3 Fighters, 20.2ms\n",
      "video 1/1 (frame 198/3688) /home/hatsu/coding/CapProj/TestSeg_1/video_input/fight_6.mp4: 384x640 3 Fighters, 20.8ms\n",
      "video 1/1 (frame 199/3688) /home/hatsu/coding/CapProj/TestSeg_1/video_input/fight_6.mp4: 384x640 3 Fighters, 19.4ms\n",
      "video 1/1 (frame 200/3688) /home/hatsu/coding/CapProj/TestSeg_1/video_input/fight_6.mp4: 384x640 2 Fighters, 18.2ms\n",
      "video 1/1 (frame 201/3688) /home/hatsu/coding/CapProj/TestSeg_1/video_input/fight_6.mp4: 384x640 2 Fighters, 12.4ms\n",
      "video 1/1 (frame 202/3688) /home/hatsu/coding/CapProj/TestSeg_1/video_input/fight_6.mp4: 384x640 3 Fighters, 13.7ms\n",
      "video 1/1 (frame 203/3688) /home/hatsu/coding/CapProj/TestSeg_1/video_input/fight_6.mp4: 384x640 3 Fighters, 18.0ms\n",
      "video 1/1 (frame 204/3688) /home/hatsu/coding/CapProj/TestSeg_1/video_input/fight_6.mp4: 384x640 3 Fighters, 24.9ms\n",
      "video 1/1 (frame 205/3688) /home/hatsu/coding/CapProj/TestSeg_1/video_input/fight_6.mp4: 384x640 2 Fighters, 18.6ms\n",
      "video 1/1 (frame 206/3688) /home/hatsu/coding/CapProj/TestSeg_1/video_input/fight_6.mp4: 384x640 2 Fighters, 23.4ms\n",
      "video 1/1 (frame 207/3688) /home/hatsu/coding/CapProj/TestSeg_1/video_input/fight_6.mp4: 384x640 2 Fighters, 14.3ms\n",
      "video 1/1 (frame 208/3688) /home/hatsu/coding/CapProj/TestSeg_1/video_input/fight_6.mp4: 384x640 2 Fighters, 14.9ms\n",
      "video 1/1 (frame 209/3688) /home/hatsu/coding/CapProj/TestSeg_1/video_input/fight_6.mp4: 384x640 3 Fighters, 14.0ms\n",
      "video 1/1 (frame 210/3688) /home/hatsu/coding/CapProj/TestSeg_1/video_input/fight_6.mp4: 384x640 3 Fighters, 13.4ms\n",
      "video 1/1 (frame 211/3688) /home/hatsu/coding/CapProj/TestSeg_1/video_input/fight_6.mp4: 384x640 3 Fighters, 17.2ms\n",
      "video 1/1 (frame 212/3688) /home/hatsu/coding/CapProj/TestSeg_1/video_input/fight_6.mp4: 384x640 3 Fighters, 22.1ms\n",
      "video 1/1 (frame 213/3688) /home/hatsu/coding/CapProj/TestSeg_1/video_input/fight_6.mp4: 384x640 3 Fighters, 18.0ms\n",
      "video 1/1 (frame 214/3688) /home/hatsu/coding/CapProj/TestSeg_1/video_input/fight_6.mp4: 384x640 3 Fighters, 16.8ms\n",
      "video 1/1 (frame 215/3688) /home/hatsu/coding/CapProj/TestSeg_1/video_input/fight_6.mp4: 384x640 2 Fighters, 28.8ms\n",
      "video 1/1 (frame 216/3688) /home/hatsu/coding/CapProj/TestSeg_1/video_input/fight_6.mp4: 384x640 1 Fighter, 34.4ms\n",
      "video 1/1 (frame 217/3688) /home/hatsu/coding/CapProj/TestSeg_1/video_input/fight_6.mp4: 384x640 1 Fighter, 22.1ms\n",
      "video 1/1 (frame 218/3688) /home/hatsu/coding/CapProj/TestSeg_1/video_input/fight_6.mp4: 384x640 1 Fighter, 26.5ms\n",
      "video 1/1 (frame 219/3688) /home/hatsu/coding/CapProj/TestSeg_1/video_input/fight_6.mp4: 384x640 1 Fighter, 22.0ms\n",
      "video 1/1 (frame 220/3688) /home/hatsu/coding/CapProj/TestSeg_1/video_input/fight_6.mp4: 384x640 1 Fighter, 27.6ms\n",
      "video 1/1 (frame 221/3688) /home/hatsu/coding/CapProj/TestSeg_1/video_input/fight_6.mp4: 384x640 1 Fighter, 18.8ms\n",
      "video 1/1 (frame 222/3688) /home/hatsu/coding/CapProj/TestSeg_1/video_input/fight_6.mp4: 384x640 3 Fighters, 20.5ms\n",
      "video 1/1 (frame 223/3688) /home/hatsu/coding/CapProj/TestSeg_1/video_input/fight_6.mp4: 384x640 3 Fighters, 20.6ms\n",
      "video 1/1 (frame 224/3688) /home/hatsu/coding/CapProj/TestSeg_1/video_input/fight_6.mp4: 384x640 4 Fighters, 19.0ms\n",
      "video 1/1 (frame 225/3688) /home/hatsu/coding/CapProj/TestSeg_1/video_input/fight_6.mp4: 384x640 3 Fighters, 17.3ms\n",
      "video 1/1 (frame 226/3688) /home/hatsu/coding/CapProj/TestSeg_1/video_input/fight_6.mp4: 384x640 3 Fighters, 18.5ms\n",
      "video 1/1 (frame 227/3688) /home/hatsu/coding/CapProj/TestSeg_1/video_input/fight_6.mp4: 384x640 3 Fighters, 23.9ms\n",
      "video 1/1 (frame 228/3688) /home/hatsu/coding/CapProj/TestSeg_1/video_input/fight_6.mp4: 384x640 3 Fighters, 43.6ms\n",
      "video 1/1 (frame 229/3688) /home/hatsu/coding/CapProj/TestSeg_1/video_input/fight_6.mp4: 384x640 3 Fighters, 28.8ms\n",
      "video 1/1 (frame 230/3688) /home/hatsu/coding/CapProj/TestSeg_1/video_input/fight_6.mp4: 384x640 2 Fighters, 18.4ms\n",
      "video 1/1 (frame 231/3688) /home/hatsu/coding/CapProj/TestSeg_1/video_input/fight_6.mp4: 384x640 2 Fighters, 26.2ms\n",
      "video 1/1 (frame 232/3688) /home/hatsu/coding/CapProj/TestSeg_1/video_input/fight_6.mp4: 384x640 2 Fighters, 24.1ms\n",
      "video 1/1 (frame 233/3688) /home/hatsu/coding/CapProj/TestSeg_1/video_input/fight_6.mp4: 384x640 2 Fighters, 19.6ms\n",
      "video 1/1 (frame 234/3688) /home/hatsu/coding/CapProj/TestSeg_1/video_input/fight_6.mp4: 384x640 2 Fighters, 24.2ms\n",
      "video 1/1 (frame 235/3688) /home/hatsu/coding/CapProj/TestSeg_1/video_input/fight_6.mp4: 384x640 2 Fighters, 18.3ms\n",
      "video 1/1 (frame 236/3688) /home/hatsu/coding/CapProj/TestSeg_1/video_input/fight_6.mp4: 384x640 3 Fighters, 22.4ms\n",
      "video 1/1 (frame 237/3688) /home/hatsu/coding/CapProj/TestSeg_1/video_input/fight_6.mp4: 384x640 3 Fighters, 33.4ms\n",
      "video 1/1 (frame 238/3688) /home/hatsu/coding/CapProj/TestSeg_1/video_input/fight_6.mp4: 384x640 3 Fighters, 21.4ms\n",
      "video 1/1 (frame 239/3688) /home/hatsu/coding/CapProj/TestSeg_1/video_input/fight_6.mp4: 384x640 3 Fighters, 18.9ms\n",
      "video 1/1 (frame 240/3688) /home/hatsu/coding/CapProj/TestSeg_1/video_input/fight_6.mp4: 384x640 2 Fighters, 21.5ms\n",
      "video 1/1 (frame 241/3688) /home/hatsu/coding/CapProj/TestSeg_1/video_input/fight_6.mp4: 384x640 2 Fighters, 26.6ms\n",
      "video 1/1 (frame 242/3688) /home/hatsu/coding/CapProj/TestSeg_1/video_input/fight_6.mp4: 384x640 1 Fighter, 24.9ms\n",
      "video 1/1 (frame 243/3688) /home/hatsu/coding/CapProj/TestSeg_1/video_input/fight_6.mp4: 384x640 2 Fighters, 23.8ms\n",
      "video 1/1 (frame 244/3688) /home/hatsu/coding/CapProj/TestSeg_1/video_input/fight_6.mp4: 384x640 2 Fighters, 21.4ms\n",
      "video 1/1 (frame 245/3688) /home/hatsu/coding/CapProj/TestSeg_1/video_input/fight_6.mp4: 384x640 2 Fighters, 21.2ms\n",
      "video 1/1 (frame 246/3688) /home/hatsu/coding/CapProj/TestSeg_1/video_input/fight_6.mp4: 384x640 2 Fighters, 47.4ms\n",
      "video 1/1 (frame 247/3688) /home/hatsu/coding/CapProj/TestSeg_1/video_input/fight_6.mp4: 384x640 2 Fighters, 24.3ms\n",
      "video 1/1 (frame 248/3688) /home/hatsu/coding/CapProj/TestSeg_1/video_input/fight_6.mp4: 384x640 2 Fighters, 39.0ms\n",
      "video 1/1 (frame 249/3688) /home/hatsu/coding/CapProj/TestSeg_1/video_input/fight_6.mp4: 384x640 2 Fighters, 36.5ms\n",
      "video 1/1 (frame 250/3688) /home/hatsu/coding/CapProj/TestSeg_1/video_input/fight_6.mp4: 384x640 2 Fighters, 26.5ms\n",
      "video 1/1 (frame 251/3688) /home/hatsu/coding/CapProj/TestSeg_1/video_input/fight_6.mp4: 384x640 2 Fighters, 26.7ms\n",
      "video 1/1 (frame 252/3688) /home/hatsu/coding/CapProj/TestSeg_1/video_input/fight_6.mp4: 384x640 2 Fighters, 40.6ms\n",
      "video 1/1 (frame 253/3688) /home/hatsu/coding/CapProj/TestSeg_1/video_input/fight_6.mp4: 384x640 2 Fighters, 35.6ms\n",
      "video 1/1 (frame 254/3688) /home/hatsu/coding/CapProj/TestSeg_1/video_input/fight_6.mp4: 384x640 2 Fighters, 27.5ms\n",
      "video 1/1 (frame 255/3688) /home/hatsu/coding/CapProj/TestSeg_1/video_input/fight_6.mp4: 384x640 2 Fighters, 29.0ms\n",
      "video 1/1 (frame 256/3688) /home/hatsu/coding/CapProj/TestSeg_1/video_input/fight_6.mp4: 384x640 3 Fighters, 32.1ms\n",
      "video 1/1 (frame 257/3688) /home/hatsu/coding/CapProj/TestSeg_1/video_input/fight_6.mp4: 384x640 3 Fighters, 32.7ms\n",
      "video 1/1 (frame 258/3688) /home/hatsu/coding/CapProj/TestSeg_1/video_input/fight_6.mp4: 384x640 2 Fighters, 25.1ms\n",
      "video 1/1 (frame 259/3688) /home/hatsu/coding/CapProj/TestSeg_1/video_input/fight_6.mp4: 384x640 1 Fighter, 18.4ms\n",
      "video 1/1 (frame 260/3688) /home/hatsu/coding/CapProj/TestSeg_1/video_input/fight_6.mp4: 384x640 2 Fighters, 25.4ms\n",
      "video 1/1 (frame 261/3688) /home/hatsu/coding/CapProj/TestSeg_1/video_input/fight_6.mp4: 384x640 2 Fighters, 33.5ms\n",
      "video 1/1 (frame 262/3688) /home/hatsu/coding/CapProj/TestSeg_1/video_input/fight_6.mp4: 384x640 2 Fighters, 20.1ms\n",
      "video 1/1 (frame 263/3688) /home/hatsu/coding/CapProj/TestSeg_1/video_input/fight_6.mp4: 384x640 2 Fighters, 25.6ms\n",
      "video 1/1 (frame 264/3688) /home/hatsu/coding/CapProj/TestSeg_1/video_input/fight_6.mp4: 384x640 2 Fighters, 29.8ms\n",
      "video 1/1 (frame 265/3688) /home/hatsu/coding/CapProj/TestSeg_1/video_input/fight_6.mp4: 384x640 2 Fighters, 36.5ms\n",
      "video 1/1 (frame 266/3688) /home/hatsu/coding/CapProj/TestSeg_1/video_input/fight_6.mp4: 384x640 2 Fighters, 22.3ms\n",
      "video 1/1 (frame 267/3688) /home/hatsu/coding/CapProj/TestSeg_1/video_input/fight_6.mp4: 384x640 2 Fighters, 13.4ms\n",
      "video 1/1 (frame 268/3688) /home/hatsu/coding/CapProj/TestSeg_1/video_input/fight_6.mp4: 384x640 2 Fighters, 13.0ms\n",
      "video 1/1 (frame 269/3688) /home/hatsu/coding/CapProj/TestSeg_1/video_input/fight_6.mp4: 384x640 2 Fighters, 13.8ms\n",
      "video 1/1 (frame 270/3688) /home/hatsu/coding/CapProj/TestSeg_1/video_input/fight_6.mp4: 384x640 3 Fighters, 13.5ms\n",
      "video 1/1 (frame 271/3688) /home/hatsu/coding/CapProj/TestSeg_1/video_input/fight_6.mp4: 384x640 2 Fighters, 14.0ms\n",
      "video 1/1 (frame 272/3688) /home/hatsu/coding/CapProj/TestSeg_1/video_input/fight_6.mp4: 384x640 2 Fighters, 31.5ms\n",
      "video 1/1 (frame 273/3688) /home/hatsu/coding/CapProj/TestSeg_1/video_input/fight_6.mp4: 384x640 1 Fighter, 43.2ms\n",
      "video 1/1 (frame 274/3688) /home/hatsu/coding/CapProj/TestSeg_1/video_input/fight_6.mp4: 384x640 1 Fighter, 13.4ms\n",
      "video 1/1 (frame 275/3688) /home/hatsu/coding/CapProj/TestSeg_1/video_input/fight_6.mp4: 384x640 1 Fighter, 20.0ms\n",
      "video 1/1 (frame 276/3688) /home/hatsu/coding/CapProj/TestSeg_1/video_input/fight_6.mp4: 384x640 2 Fighters, 14.8ms\n",
      "video 1/1 (frame 277/3688) /home/hatsu/coding/CapProj/TestSeg_1/video_input/fight_6.mp4: 384x640 2 Fighters, 13.1ms\n",
      "video 1/1 (frame 278/3688) /home/hatsu/coding/CapProj/TestSeg_1/video_input/fight_6.mp4: 384x640 1 Fighter, 12.7ms\n",
      "video 1/1 (frame 279/3688) /home/hatsu/coding/CapProj/TestSeg_1/video_input/fight_6.mp4: 384x640 1 Fighter, 12.2ms\n",
      "video 1/1 (frame 280/3688) /home/hatsu/coding/CapProj/TestSeg_1/video_input/fight_6.mp4: 384x640 2 Fighters, 14.2ms\n",
      "video 1/1 (frame 281/3688) /home/hatsu/coding/CapProj/TestSeg_1/video_input/fight_6.mp4: 384x640 2 Fighters, 32.9ms\n",
      "video 1/1 (frame 282/3688) /home/hatsu/coding/CapProj/TestSeg_1/video_input/fight_6.mp4: 384x640 3 Fighters, 14.1ms\n",
      "video 1/1 (frame 283/3688) /home/hatsu/coding/CapProj/TestSeg_1/video_input/fight_6.mp4: 384x640 1 Fighter, 30.5ms\n",
      "video 1/1 (frame 284/3688) /home/hatsu/coding/CapProj/TestSeg_1/video_input/fight_6.mp4: 384x640 2 Fighters, 12.0ms\n",
      "video 1/1 (frame 285/3688) /home/hatsu/coding/CapProj/TestSeg_1/video_input/fight_6.mp4: 384x640 1 Fighter, 15.3ms\n",
      "video 1/1 (frame 286/3688) /home/hatsu/coding/CapProj/TestSeg_1/video_input/fight_6.mp4: 384x640 1 Fighter, 16.9ms\n",
      "video 1/1 (frame 287/3688) /home/hatsu/coding/CapProj/TestSeg_1/video_input/fight_6.mp4: 384x640 2 Fighters, 13.5ms\n",
      "video 1/1 (frame 288/3688) /home/hatsu/coding/CapProj/TestSeg_1/video_input/fight_6.mp4: 384x640 2 Fighters, 16.1ms\n",
      "video 1/1 (frame 289/3688) /home/hatsu/coding/CapProj/TestSeg_1/video_input/fight_6.mp4: 384x640 1 Fighter, 13.3ms\n",
      "video 1/1 (frame 290/3688) /home/hatsu/coding/CapProj/TestSeg_1/video_input/fight_6.mp4: 384x640 1 Fighter, 13.2ms\n",
      "video 1/1 (frame 291/3688) /home/hatsu/coding/CapProj/TestSeg_1/video_input/fight_6.mp4: 384x640 1 Fighter, 29.0ms\n",
      "video 1/1 (frame 292/3688) /home/hatsu/coding/CapProj/TestSeg_1/video_input/fight_6.mp4: 384x640 1 Fighter, 14.8ms\n",
      "video 1/1 (frame 293/3688) /home/hatsu/coding/CapProj/TestSeg_1/video_input/fight_6.mp4: 384x640 2 Fighters, 14.4ms\n",
      "video 1/1 (frame 294/3688) /home/hatsu/coding/CapProj/TestSeg_1/video_input/fight_6.mp4: 384x640 2 Fighters, 18.3ms\n",
      "video 1/1 (frame 295/3688) /home/hatsu/coding/CapProj/TestSeg_1/video_input/fight_6.mp4: 384x640 2 Fighters, 14.5ms\n",
      "video 1/1 (frame 296/3688) /home/hatsu/coding/CapProj/TestSeg_1/video_input/fight_6.mp4: 384x640 2 Fighters, 14.7ms\n",
      "video 1/1 (frame 297/3688) /home/hatsu/coding/CapProj/TestSeg_1/video_input/fight_6.mp4: 384x640 2 Fighters, 14.6ms\n",
      "video 1/1 (frame 298/3688) /home/hatsu/coding/CapProj/TestSeg_1/video_input/fight_6.mp4: 384x640 2 Fighters, 15.9ms\n",
      "video 1/1 (frame 299/3688) /home/hatsu/coding/CapProj/TestSeg_1/video_input/fight_6.mp4: 384x640 2 Fighters, 13.1ms\n",
      "video 1/1 (frame 300/3688) /home/hatsu/coding/CapProj/TestSeg_1/video_input/fight_6.mp4: 384x640 1 Fighter, 36.3ms\n",
      "video 1/1 (frame 301/3688) /home/hatsu/coding/CapProj/TestSeg_1/video_input/fight_6.mp4: 384x640 2 Fighters, 13.8ms\n",
      "video 1/1 (frame 302/3688) /home/hatsu/coding/CapProj/TestSeg_1/video_input/fight_6.mp4: 384x640 2 Fighters, 12.4ms\n",
      "video 1/1 (frame 303/3688) /home/hatsu/coding/CapProj/TestSeg_1/video_input/fight_6.mp4: 384x640 2 Fighters, 13.8ms\n",
      "video 1/1 (frame 304/3688) /home/hatsu/coding/CapProj/TestSeg_1/video_input/fight_6.mp4: 384x640 2 Fighters, 12.7ms\n",
      "video 1/1 (frame 305/3688) /home/hatsu/coding/CapProj/TestSeg_1/video_input/fight_6.mp4: 384x640 2 Fighters, 11.8ms\n",
      "video 1/1 (frame 306/3688) /home/hatsu/coding/CapProj/TestSeg_1/video_input/fight_6.mp4: 384x640 1 Fighter, 15.1ms\n",
      "video 1/1 (frame 307/3688) /home/hatsu/coding/CapProj/TestSeg_1/video_input/fight_6.mp4: 384x640 1 Fighter, 13.8ms\n",
      "video 1/1 (frame 308/3688) /home/hatsu/coding/CapProj/TestSeg_1/video_input/fight_6.mp4: 384x640 1 Fighter, 13.4ms\n",
      "video 1/1 (frame 309/3688) /home/hatsu/coding/CapProj/TestSeg_1/video_input/fight_6.mp4: 384x640 1 Fighter, 14.4ms\n",
      "video 1/1 (frame 310/3688) /home/hatsu/coding/CapProj/TestSeg_1/video_input/fight_6.mp4: 384x640 2 Fighters, 13.2ms\n",
      "video 1/1 (frame 311/3688) /home/hatsu/coding/CapProj/TestSeg_1/video_input/fight_6.mp4: 384x640 1 Fighter, 12.7ms\n",
      "video 1/1 (frame 312/3688) /home/hatsu/coding/CapProj/TestSeg_1/video_input/fight_6.mp4: 384x640 1 Fighter, 14.8ms\n",
      "video 1/1 (frame 313/3688) /home/hatsu/coding/CapProj/TestSeg_1/video_input/fight_6.mp4: 384x640 1 Fighter, 13.9ms\n",
      "video 1/1 (frame 314/3688) /home/hatsu/coding/CapProj/TestSeg_1/video_input/fight_6.mp4: 384x640 1 Fighter, 41.9ms\n",
      "video 1/1 (frame 315/3688) /home/hatsu/coding/CapProj/TestSeg_1/video_input/fight_6.mp4: 384x640 1 Fighter, 12.9ms\n",
      "video 1/1 (frame 316/3688) /home/hatsu/coding/CapProj/TestSeg_1/video_input/fight_6.mp4: 384x640 1 Fighter, 14.3ms\n",
      "video 1/1 (frame 317/3688) /home/hatsu/coding/CapProj/TestSeg_1/video_input/fight_6.mp4: 384x640 1 Fighter, 14.1ms\n",
      "video 1/1 (frame 318/3688) /home/hatsu/coding/CapProj/TestSeg_1/video_input/fight_6.mp4: 384x640 2 Fighters, 15.2ms\n",
      "video 1/1 (frame 319/3688) /home/hatsu/coding/CapProj/TestSeg_1/video_input/fight_6.mp4: 384x640 2 Fighters, 15.9ms\n",
      "video 1/1 (frame 320/3688) /home/hatsu/coding/CapProj/TestSeg_1/video_input/fight_6.mp4: 384x640 2 Fighters, 14.4ms\n",
      "video 1/1 (frame 321/3688) /home/hatsu/coding/CapProj/TestSeg_1/video_input/fight_6.mp4: 384x640 2 Fighters, 13.5ms\n",
      "video 1/1 (frame 322/3688) /home/hatsu/coding/CapProj/TestSeg_1/video_input/fight_6.mp4: 384x640 2 Fighters, 30.4ms\n",
      "video 1/1 (frame 323/3688) /home/hatsu/coding/CapProj/TestSeg_1/video_input/fight_6.mp4: 384x640 2 Fighters, 14.8ms\n",
      "video 1/1 (frame 324/3688) /home/hatsu/coding/CapProj/TestSeg_1/video_input/fight_6.mp4: 384x640 2 Fighters, 17.7ms\n",
      "video 1/1 (frame 325/3688) /home/hatsu/coding/CapProj/TestSeg_1/video_input/fight_6.mp4: 384x640 2 Fighters, 15.8ms\n",
      "video 1/1 (frame 326/3688) /home/hatsu/coding/CapProj/TestSeg_1/video_input/fight_6.mp4: 384x640 1 Fighter, 14.6ms\n",
      "video 1/1 (frame 327/3688) /home/hatsu/coding/CapProj/TestSeg_1/video_input/fight_6.mp4: 384x640 2 Fighters, 13.7ms\n",
      "video 1/1 (frame 328/3688) /home/hatsu/coding/CapProj/TestSeg_1/video_input/fight_6.mp4: 384x640 2 Fighters, 14.3ms\n",
      "video 1/1 (frame 329/3688) /home/hatsu/coding/CapProj/TestSeg_1/video_input/fight_6.mp4: 384x640 2 Fighters, 16.1ms\n",
      "video 1/1 (frame 330/3688) /home/hatsu/coding/CapProj/TestSeg_1/video_input/fight_6.mp4: 384x640 2 Fighters, 15.0ms\n",
      "video 1/1 (frame 331/3688) /home/hatsu/coding/CapProj/TestSeg_1/video_input/fight_6.mp4: 384x640 2 Fighters, 14.8ms\n",
      "video 1/1 (frame 332/3688) /home/hatsu/coding/CapProj/TestSeg_1/video_input/fight_6.mp4: 384x640 2 Fighters, 15.7ms\n",
      "video 1/1 (frame 333/3688) /home/hatsu/coding/CapProj/TestSeg_1/video_input/fight_6.mp4: 384x640 2 Fighters, 13.9ms\n",
      "video 1/1 (frame 334/3688) /home/hatsu/coding/CapProj/TestSeg_1/video_input/fight_6.mp4: 384x640 3 Fighters, 14.0ms\n",
      "video 1/1 (frame 335/3688) /home/hatsu/coding/CapProj/TestSeg_1/video_input/fight_6.mp4: 384x640 3 Fighters, 17.9ms\n",
      "video 1/1 (frame 336/3688) /home/hatsu/coding/CapProj/TestSeg_1/video_input/fight_6.mp4: 384x640 1 Fighter, 18.5ms\n",
      "video 1/1 (frame 337/3688) /home/hatsu/coding/CapProj/TestSeg_1/video_input/fight_6.mp4: 384x640 1 Fighter, 16.5ms\n",
      "video 1/1 (frame 338/3688) /home/hatsu/coding/CapProj/TestSeg_1/video_input/fight_6.mp4: 384x640 3 Fighters, 31.3ms\n",
      "video 1/1 (frame 339/3688) /home/hatsu/coding/CapProj/TestSeg_1/video_input/fight_6.mp4: 384x640 2 Fighters, 15.4ms\n",
      "video 1/1 (frame 340/3688) /home/hatsu/coding/CapProj/TestSeg_1/video_input/fight_6.mp4: 384x640 3 Fighters, 13.5ms\n",
      "video 1/1 (frame 341/3688) /home/hatsu/coding/CapProj/TestSeg_1/video_input/fight_6.mp4: 384x640 3 Fighters, 14.3ms\n",
      "video 1/1 (frame 342/3688) /home/hatsu/coding/CapProj/TestSeg_1/video_input/fight_6.mp4: 384x640 3 Fighters, 15.2ms\n",
      "video 1/1 (frame 343/3688) /home/hatsu/coding/CapProj/TestSeg_1/video_input/fight_6.mp4: 384x640 4 Fighters, 14.3ms\n",
      "video 1/1 (frame 344/3688) /home/hatsu/coding/CapProj/TestSeg_1/video_input/fight_6.mp4: 384x640 3 Fighters, 17.6ms\n",
      "video 1/1 (frame 345/3688) /home/hatsu/coding/CapProj/TestSeg_1/video_input/fight_6.mp4: 384x640 2 Fighters, 12.6ms\n",
      "video 1/1 (frame 346/3688) /home/hatsu/coding/CapProj/TestSeg_1/video_input/fight_6.mp4: 384x640 2 Fighters, 17.5ms\n",
      "video 1/1 (frame 347/3688) /home/hatsu/coding/CapProj/TestSeg_1/video_input/fight_6.mp4: 384x640 3 Fighters, 14.6ms\n",
      "video 1/1 (frame 348/3688) /home/hatsu/coding/CapProj/TestSeg_1/video_input/fight_6.mp4: 384x640 3 Fighters, 15.1ms\n",
      "video 1/1 (frame 349/3688) /home/hatsu/coding/CapProj/TestSeg_1/video_input/fight_6.mp4: 384x640 3 Fighters, 17.3ms\n",
      "video 1/1 (frame 350/3688) /home/hatsu/coding/CapProj/TestSeg_1/video_input/fight_6.mp4: 384x640 3 Fighters, 12.3ms\n",
      "video 1/1 (frame 351/3688) /home/hatsu/coding/CapProj/TestSeg_1/video_input/fight_6.mp4: 384x640 3 Fighters, 17.2ms\n",
      "video 1/1 (frame 352/3688) /home/hatsu/coding/CapProj/TestSeg_1/video_input/fight_6.mp4: 384x640 3 Fighters, 13.2ms\n",
      "video 1/1 (frame 353/3688) /home/hatsu/coding/CapProj/TestSeg_1/video_input/fight_6.mp4: 384x640 2 Fighters, 16.9ms\n",
      "video 1/1 (frame 354/3688) /home/hatsu/coding/CapProj/TestSeg_1/video_input/fight_6.mp4: 384x640 3 Fighters, 14.9ms\n",
      "video 1/1 (frame 355/3688) /home/hatsu/coding/CapProj/TestSeg_1/video_input/fight_6.mp4: 384x640 2 Fighters, 15.7ms\n",
      "video 1/1 (frame 356/3688) /home/hatsu/coding/CapProj/TestSeg_1/video_input/fight_6.mp4: 384x640 1 Fighter, 17.7ms\n",
      "video 1/1 (frame 357/3688) /home/hatsu/coding/CapProj/TestSeg_1/video_input/fight_6.mp4: 384x640 1 Fighter, 25.3ms\n",
      "video 1/1 (frame 358/3688) /home/hatsu/coding/CapProj/TestSeg_1/video_input/fight_6.mp4: 384x640 1 Fighter, 20.6ms\n",
      "video 1/1 (frame 359/3688) /home/hatsu/coding/CapProj/TestSeg_1/video_input/fight_6.mp4: 384x640 1 Fighter, 17.5ms\n",
      "video 1/1 (frame 360/3688) /home/hatsu/coding/CapProj/TestSeg_1/video_input/fight_6.mp4: 384x640 1 Fighter, 23.9ms\n",
      "video 1/1 (frame 361/3688) /home/hatsu/coding/CapProj/TestSeg_1/video_input/fight_6.mp4: 384x640 1 Fighter, 17.0ms\n",
      "video 1/1 (frame 362/3688) /home/hatsu/coding/CapProj/TestSeg_1/video_input/fight_6.mp4: 384x640 1 Fighter, 20.6ms\n",
      "video 1/1 (frame 363/3688) /home/hatsu/coding/CapProj/TestSeg_1/video_input/fight_6.mp4: 384x640 3 Fighters, 26.2ms\n",
      "video 1/1 (frame 364/3688) /home/hatsu/coding/CapProj/TestSeg_1/video_input/fight_6.mp4: 384x640 3 Fighters, 18.1ms\n",
      "video 1/1 (frame 365/3688) /home/hatsu/coding/CapProj/TestSeg_1/video_input/fight_6.mp4: 384x640 3 Fighters, 20.0ms\n",
      "video 1/1 (frame 366/3688) /home/hatsu/coding/CapProj/TestSeg_1/video_input/fight_6.mp4: 384x640 3 Fighters, 19.2ms\n",
      "video 1/1 (frame 367/3688) /home/hatsu/coding/CapProj/TestSeg_1/video_input/fight_6.mp4: 384x640 2 Fighters, 31.9ms\n",
      "video 1/1 (frame 368/3688) /home/hatsu/coding/CapProj/TestSeg_1/video_input/fight_6.mp4: 384x640 2 Fighters, 21.3ms\n",
      "video 1/1 (frame 369/3688) /home/hatsu/coding/CapProj/TestSeg_1/video_input/fight_6.mp4: 384x640 2 Fighters, 29.4ms\n",
      "video 1/1 (frame 370/3688) /home/hatsu/coding/CapProj/TestSeg_1/video_input/fight_6.mp4: 384x640 3 Fighters, 24.6ms\n",
      "video 1/1 (frame 371/3688) /home/hatsu/coding/CapProj/TestSeg_1/video_input/fight_6.mp4: 384x640 3 Fighters, 22.7ms\n",
      "video 1/1 (frame 372/3688) /home/hatsu/coding/CapProj/TestSeg_1/video_input/fight_6.mp4: 384x640 3 Fighters, 24.0ms\n",
      "video 1/1 (frame 373/3688) /home/hatsu/coding/CapProj/TestSeg_1/video_input/fight_6.mp4: 384x640 3 Fighters, 21.7ms\n",
      "video 1/1 (frame 374/3688) /home/hatsu/coding/CapProj/TestSeg_1/video_input/fight_6.mp4: 384x640 2 Fighters, 16.8ms\n",
      "video 1/1 (frame 375/3688) /home/hatsu/coding/CapProj/TestSeg_1/video_input/fight_6.mp4: 384x640 1 Fighter, 32.3ms\n",
      "video 1/1 (frame 376/3688) /home/hatsu/coding/CapProj/TestSeg_1/video_input/fight_6.mp4: 384x640 1 Fighter, 24.9ms\n",
      "video 1/1 (frame 377/3688) /home/hatsu/coding/CapProj/TestSeg_1/video_input/fight_6.mp4: 384x640 2 Fighters, 33.6ms\n",
      "video 1/1 (frame 378/3688) /home/hatsu/coding/CapProj/TestSeg_1/video_input/fight_6.mp4: 384x640 2 Fighters, 26.3ms\n",
      "video 1/1 (frame 379/3688) /home/hatsu/coding/CapProj/TestSeg_1/video_input/fight_6.mp4: 384x640 2 Fighters, 42.8ms\n",
      "video 1/1 (frame 380/3688) /home/hatsu/coding/CapProj/TestSeg_1/video_input/fight_6.mp4: 384x640 1 Fighter, 40.4ms\n",
      "video 1/1 (frame 381/3688) /home/hatsu/coding/CapProj/TestSeg_1/video_input/fight_6.mp4: 384x640 1 Fighter, 33.0ms\n",
      "video 1/1 (frame 382/3688) /home/hatsu/coding/CapProj/TestSeg_1/video_input/fight_6.mp4: 384x640 1 Fighter, 29.0ms\n",
      "video 1/1 (frame 383/3688) /home/hatsu/coding/CapProj/TestSeg_1/video_input/fight_6.mp4: 384x640 2 Fighters, 35.5ms\n",
      "video 1/1 (frame 384/3688) /home/hatsu/coding/CapProj/TestSeg_1/video_input/fight_6.mp4: 384x640 2 Fighters, 36.7ms\n",
      "video 1/1 (frame 385/3688) /home/hatsu/coding/CapProj/TestSeg_1/video_input/fight_6.mp4: 384x640 2 Fighters, 24.0ms\n",
      "video 1/1 (frame 386/3688) /home/hatsu/coding/CapProj/TestSeg_1/video_input/fight_6.mp4: 384x640 2 Fighters, 34.2ms\n",
      "video 1/1 (frame 387/3688) /home/hatsu/coding/CapProj/TestSeg_1/video_input/fight_6.mp4: 384x640 2 Fighters, 34.9ms\n",
      "video 1/1 (frame 388/3688) /home/hatsu/coding/CapProj/TestSeg_1/video_input/fight_6.mp4: 384x640 3 Fighters, 22.9ms\n",
      "video 1/1 (frame 389/3688) /home/hatsu/coding/CapProj/TestSeg_1/video_input/fight_6.mp4: 384x640 2 Fighters, 19.1ms\n",
      "video 1/1 (frame 390/3688) /home/hatsu/coding/CapProj/TestSeg_1/video_input/fight_6.mp4: 384x640 1 Fighter, 22.3ms\n",
      "video 1/1 (frame 391/3688) /home/hatsu/coding/CapProj/TestSeg_1/video_input/fight_6.mp4: 384x640 1 Fighter, 29.6ms\n",
      "video 1/1 (frame 392/3688) /home/hatsu/coding/CapProj/TestSeg_1/video_input/fight_6.mp4: 384x640 1 Fighter, 32.0ms\n",
      "video 1/1 (frame 393/3688) /home/hatsu/coding/CapProj/TestSeg_1/video_input/fight_6.mp4: 384x640 1 Fighter, 37.6ms\n",
      "video 1/1 (frame 394/3688) /home/hatsu/coding/CapProj/TestSeg_1/video_input/fight_6.mp4: 384x640 1 Fighter, 23.4ms\n",
      "video 1/1 (frame 395/3688) /home/hatsu/coding/CapProj/TestSeg_1/video_input/fight_6.mp4: 384x640 3 Fighters, 26.7ms\n",
      "video 1/1 (frame 396/3688) /home/hatsu/coding/CapProj/TestSeg_1/video_input/fight_6.mp4: 384x640 1 Fighter, 22.6ms\n",
      "video 1/1 (frame 397/3688) /home/hatsu/coding/CapProj/TestSeg_1/video_input/fight_6.mp4: 384x640 1 Fighter, 19.7ms\n",
      "video 1/1 (frame 398/3688) /home/hatsu/coding/CapProj/TestSeg_1/video_input/fight_6.mp4: 384x640 1 Fighter, 22.8ms\n",
      "video 1/1 (frame 399/3688) /home/hatsu/coding/CapProj/TestSeg_1/video_input/fight_6.mp4: 384x640 1 Fighter, 24.5ms\n",
      "video 1/1 (frame 400/3688) /home/hatsu/coding/CapProj/TestSeg_1/video_input/fight_6.mp4: 384x640 1 Fighter, 22.4ms\n",
      "video 1/1 (frame 401/3688) /home/hatsu/coding/CapProj/TestSeg_1/video_input/fight_6.mp4: 384x640 2 Fighters, 36.6ms\n",
      "video 1/1 (frame 402/3688) /home/hatsu/coding/CapProj/TestSeg_1/video_input/fight_6.mp4: 384x640 2 Fighters, 27.8ms\n",
      "video 1/1 (frame 403/3688) /home/hatsu/coding/CapProj/TestSeg_1/video_input/fight_6.mp4: 384x640 2 Fighters, 31.1ms\n",
      "video 1/1 (frame 404/3688) /home/hatsu/coding/CapProj/TestSeg_1/video_input/fight_6.mp4: 384x640 2 Fighters, 26.2ms\n",
      "video 1/1 (frame 405/3688) /home/hatsu/coding/CapProj/TestSeg_1/video_input/fight_6.mp4: 384x640 1 Fighter, 20.2ms\n",
      "video 1/1 (frame 406/3688) /home/hatsu/coding/CapProj/TestSeg_1/video_input/fight_6.mp4: 384x640 1 Fighter, 30.8ms\n",
      "video 1/1 (frame 407/3688) /home/hatsu/coding/CapProj/TestSeg_1/video_input/fight_6.mp4: 384x640 1 Fighter, 28.5ms\n",
      "video 1/1 (frame 408/3688) /home/hatsu/coding/CapProj/TestSeg_1/video_input/fight_6.mp4: 384x640 1 Fighter, 25.3ms\n",
      "video 1/1 (frame 409/3688) /home/hatsu/coding/CapProj/TestSeg_1/video_input/fight_6.mp4: 384x640 1 Fighter, 24.8ms\n",
      "video 1/1 (frame 410/3688) /home/hatsu/coding/CapProj/TestSeg_1/video_input/fight_6.mp4: 384x640 (no detections), 34.6ms\n",
      "video 1/1 (frame 411/3688) /home/hatsu/coding/CapProj/TestSeg_1/video_input/fight_6.mp4: 384x640 1 Fighter, 37.0ms\n",
      "video 1/1 (frame 412/3688) /home/hatsu/coding/CapProj/TestSeg_1/video_input/fight_6.mp4: 384x640 1 Fighter, 28.7ms\n",
      "video 1/1 (frame 413/3688) /home/hatsu/coding/CapProj/TestSeg_1/video_input/fight_6.mp4: 384x640 1 Fighter, 23.1ms\n",
      "video 1/1 (frame 414/3688) /home/hatsu/coding/CapProj/TestSeg_1/video_input/fight_6.mp4: 384x640 2 Fighters, 28.1ms\n",
      "video 1/1 (frame 415/3688) /home/hatsu/coding/CapProj/TestSeg_1/video_input/fight_6.mp4: 384x640 2 Fighters, 27.0ms\n",
      "video 1/1 (frame 416/3688) /home/hatsu/coding/CapProj/TestSeg_1/video_input/fight_6.mp4: 384x640 2 Fighters, 26.9ms\n",
      "video 1/1 (frame 417/3688) /home/hatsu/coding/CapProj/TestSeg_1/video_input/fight_6.mp4: 384x640 1 Fighter, 25.7ms\n",
      "video 1/1 (frame 418/3688) /home/hatsu/coding/CapProj/TestSeg_1/video_input/fight_6.mp4: 384x640 2 Fighters, 13.6ms\n",
      "video 1/1 (frame 419/3688) /home/hatsu/coding/CapProj/TestSeg_1/video_input/fight_6.mp4: 384x640 2 Fighters, 13.9ms\n",
      "video 1/1 (frame 420/3688) /home/hatsu/coding/CapProj/TestSeg_1/video_input/fight_6.mp4: 384x640 2 Fighters, 12.9ms\n",
      "video 1/1 (frame 421/3688) /home/hatsu/coding/CapProj/TestSeg_1/video_input/fight_6.mp4: 384x640 2 Fighters, 15.5ms\n",
      "video 1/1 (frame 422/3688) /home/hatsu/coding/CapProj/TestSeg_1/video_input/fight_6.mp4: 384x640 2 Fighters, 14.5ms\n",
      "video 1/1 (frame 423/3688) /home/hatsu/coding/CapProj/TestSeg_1/video_input/fight_6.mp4: 384x640 1 Fighter, 12.8ms\n",
      "video 1/1 (frame 424/3688) /home/hatsu/coding/CapProj/TestSeg_1/video_input/fight_6.mp4: 384x640 1 Fighter, 13.9ms\n",
      "video 1/1 (frame 425/3688) /home/hatsu/coding/CapProj/TestSeg_1/video_input/fight_6.mp4: 384x640 1 Fighter, 13.2ms\n",
      "video 1/1 (frame 426/3688) /home/hatsu/coding/CapProj/TestSeg_1/video_input/fight_6.mp4: 384x640 1 Fighter, 12.7ms\n",
      "video 1/1 (frame 427/3688) /home/hatsu/coding/CapProj/TestSeg_1/video_input/fight_6.mp4: 384x640 1 Fighter, 12.8ms\n",
      "video 1/1 (frame 428/3688) /home/hatsu/coding/CapProj/TestSeg_1/video_input/fight_6.mp4: 384x640 2 Fighters, 15.8ms\n",
      "video 1/1 (frame 429/3688) /home/hatsu/coding/CapProj/TestSeg_1/video_input/fight_6.mp4: 384x640 2 Fighters, 13.0ms\n",
      "video 1/1 (frame 430/3688) /home/hatsu/coding/CapProj/TestSeg_1/video_input/fight_6.mp4: 384x640 2 Fighters, 17.2ms\n",
      "video 1/1 (frame 431/3688) /home/hatsu/coding/CapProj/TestSeg_1/video_input/fight_6.mp4: 384x640 2 Fighters, 13.7ms\n",
      "video 1/1 (frame 432/3688) /home/hatsu/coding/CapProj/TestSeg_1/video_input/fight_6.mp4: 384x640 2 Fighters, 15.6ms\n",
      "video 1/1 (frame 433/3688) /home/hatsu/coding/CapProj/TestSeg_1/video_input/fight_6.mp4: 384x640 2 Fighters, 12.6ms\n",
      "video 1/1 (frame 434/3688) /home/hatsu/coding/CapProj/TestSeg_1/video_input/fight_6.mp4: 384x640 2 Fighters, 14.3ms\n",
      "video 1/1 (frame 435/3688) /home/hatsu/coding/CapProj/TestSeg_1/video_input/fight_6.mp4: 384x640 2 Fighters, 12.8ms\n",
      "video 1/1 (frame 436/3688) /home/hatsu/coding/CapProj/TestSeg_1/video_input/fight_6.mp4: 384x640 2 Fighters, 31.5ms\n",
      "video 1/1 (frame 437/3688) /home/hatsu/coding/CapProj/TestSeg_1/video_input/fight_6.mp4: 384x640 2 Fighters, 15.9ms\n",
      "video 1/1 (frame 438/3688) /home/hatsu/coding/CapProj/TestSeg_1/video_input/fight_6.mp4: 384x640 2 Fighters, 19.4ms\n",
      "video 1/1 (frame 439/3688) /home/hatsu/coding/CapProj/TestSeg_1/video_input/fight_6.mp4: 384x640 2 Fighters, 40.3ms\n",
      "video 1/1 (frame 440/3688) /home/hatsu/coding/CapProj/TestSeg_1/video_input/fight_6.mp4: 384x640 2 Fighters, 15.0ms\n",
      "video 1/1 (frame 441/3688) /home/hatsu/coding/CapProj/TestSeg_1/video_input/fight_6.mp4: 384x640 1 Fighter, 14.7ms\n",
      "video 1/1 (frame 442/3688) /home/hatsu/coding/CapProj/TestSeg_1/video_input/fight_6.mp4: 384x640 1 Fighter, 39.2ms\n",
      "video 1/1 (frame 443/3688) /home/hatsu/coding/CapProj/TestSeg_1/video_input/fight_6.mp4: 384x640 2 Fighters, 17.6ms\n",
      "video 1/1 (frame 444/3688) /home/hatsu/coding/CapProj/TestSeg_1/video_input/fight_6.mp4: 384x640 2 Fighters, 15.5ms\n",
      "video 1/1 (frame 445/3688) /home/hatsu/coding/CapProj/TestSeg_1/video_input/fight_6.mp4: 384x640 2 Fighters, 14.3ms\n",
      "video 1/1 (frame 446/3688) /home/hatsu/coding/CapProj/TestSeg_1/video_input/fight_6.mp4: 384x640 2 Fighters, 16.4ms\n",
      "video 1/1 (frame 447/3688) /home/hatsu/coding/CapProj/TestSeg_1/video_input/fight_6.mp4: 384x640 2 Fighters, 15.0ms\n",
      "video 1/1 (frame 448/3688) /home/hatsu/coding/CapProj/TestSeg_1/video_input/fight_6.mp4: 384x640 2 Fighters, 16.6ms\n",
      "video 1/1 (frame 449/3688) /home/hatsu/coding/CapProj/TestSeg_1/video_input/fight_6.mp4: 384x640 2 Fighters, 16.9ms\n",
      "video 1/1 (frame 450/3688) /home/hatsu/coding/CapProj/TestSeg_1/video_input/fight_6.mp4: 384x640 2 Fighters, 15.2ms\n",
      "video 1/1 (frame 451/3688) /home/hatsu/coding/CapProj/TestSeg_1/video_input/fight_6.mp4: 384x640 2 Fighters, 13.9ms\n",
      "video 1/1 (frame 452/3688) /home/hatsu/coding/CapProj/TestSeg_1/video_input/fight_6.mp4: 384x640 2 Fighters, 12.9ms\n",
      "video 1/1 (frame 453/3688) /home/hatsu/coding/CapProj/TestSeg_1/video_input/fight_6.mp4: 384x640 2 Fighters, 43.3ms\n",
      "video 1/1 (frame 454/3688) /home/hatsu/coding/CapProj/TestSeg_1/video_input/fight_6.mp4: 384x640 2 Fighters, 26.2ms\n",
      "video 1/1 (frame 455/3688) /home/hatsu/coding/CapProj/TestSeg_1/video_input/fight_6.mp4: 384x640 2 Fighters, 13.9ms\n",
      "video 1/1 (frame 456/3688) /home/hatsu/coding/CapProj/TestSeg_1/video_input/fight_6.mp4: 384x640 2 Fighters, 35.7ms\n",
      "video 1/1 (frame 457/3688) /home/hatsu/coding/CapProj/TestSeg_1/video_input/fight_6.mp4: 384x640 1 Fighter, 15.6ms\n",
      "video 1/1 (frame 458/3688) /home/hatsu/coding/CapProj/TestSeg_1/video_input/fight_6.mp4: 384x640 2 Fighters, 16.1ms\n",
      "video 1/1 (frame 459/3688) /home/hatsu/coding/CapProj/TestSeg_1/video_input/fight_6.mp4: 384x640 2 Fighters, 14.1ms\n",
      "video 1/1 (frame 460/3688) /home/hatsu/coding/CapProj/TestSeg_1/video_input/fight_6.mp4: 384x640 2 Fighters, 16.2ms\n",
      "video 1/1 (frame 461/3688) /home/hatsu/coding/CapProj/TestSeg_1/video_input/fight_6.mp4: 384x640 2 Fighters, 16.8ms\n",
      "video 1/1 (frame 462/3688) /home/hatsu/coding/CapProj/TestSeg_1/video_input/fight_6.mp4: 384x640 1 Fighter, 22.8ms\n",
      "video 1/1 (frame 463/3688) /home/hatsu/coding/CapProj/TestSeg_1/video_input/fight_6.mp4: 384x640 1 Fighter, 14.2ms\n",
      "video 1/1 (frame 464/3688) /home/hatsu/coding/CapProj/TestSeg_1/video_input/fight_6.mp4: 384x640 1 Fighter, 13.3ms\n",
      "video 1/1 (frame 465/3688) /home/hatsu/coding/CapProj/TestSeg_1/video_input/fight_6.mp4: 384x640 1 Fighter, 13.5ms\n",
      "video 1/1 (frame 466/3688) /home/hatsu/coding/CapProj/TestSeg_1/video_input/fight_6.mp4: 384x640 1 Fighter, 16.7ms\n",
      "video 1/1 (frame 467/3688) /home/hatsu/coding/CapProj/TestSeg_1/video_input/fight_6.mp4: 384x640 2 Fighters, 15.4ms\n",
      "video 1/1 (frame 468/3688) /home/hatsu/coding/CapProj/TestSeg_1/video_input/fight_6.mp4: 384x640 2 Fighters, 42.6ms\n",
      "video 1/1 (frame 469/3688) /home/hatsu/coding/CapProj/TestSeg_1/video_input/fight_6.mp4: 384x640 1 Fighter, 15.1ms\n",
      "video 1/1 (frame 470/3688) /home/hatsu/coding/CapProj/TestSeg_1/video_input/fight_6.mp4: 384x640 2 Fighters, 13.4ms\n",
      "video 1/1 (frame 471/3688) /home/hatsu/coding/CapProj/TestSeg_1/video_input/fight_6.mp4: 384x640 1 Fighter, 15.1ms\n",
      "video 1/1 (frame 472/3688) /home/hatsu/coding/CapProj/TestSeg_1/video_input/fight_6.mp4: 384x640 1 Fighter, 23.8ms\n",
      "video 1/1 (frame 473/3688) /home/hatsu/coding/CapProj/TestSeg_1/video_input/fight_6.mp4: 384x640 2 Fighters, 14.0ms\n",
      "video 1/1 (frame 474/3688) /home/hatsu/coding/CapProj/TestSeg_1/video_input/fight_6.mp4: 384x640 2 Fighters, 24.3ms\n",
      "video 1/1 (frame 475/3688) /home/hatsu/coding/CapProj/TestSeg_1/video_input/fight_6.mp4: 384x640 2 Fighters, 17.7ms\n",
      "video 1/1 (frame 476/3688) /home/hatsu/coding/CapProj/TestSeg_1/video_input/fight_6.mp4: 384x640 2 Fighters, 12.7ms\n",
      "video 1/1 (frame 477/3688) /home/hatsu/coding/CapProj/TestSeg_1/video_input/fight_6.mp4: 384x640 2 Fighters, 18.7ms\n",
      "video 1/1 (frame 478/3688) /home/hatsu/coding/CapProj/TestSeg_1/video_input/fight_6.mp4: 384x640 2 Fighters, 29.2ms\n",
      "video 1/1 (frame 479/3688) /home/hatsu/coding/CapProj/TestSeg_1/video_input/fight_6.mp4: 384x640 2 Fighters, 14.4ms\n",
      "video 1/1 (frame 480/3688) /home/hatsu/coding/CapProj/TestSeg_1/video_input/fight_6.mp4: 384x640 2 Fighters, 17.0ms\n",
      "video 1/1 (frame 481/3688) /home/hatsu/coding/CapProj/TestSeg_1/video_input/fight_6.mp4: 384x640 2 Fighters, 15.6ms\n",
      "video 1/1 (frame 482/3688) /home/hatsu/coding/CapProj/TestSeg_1/video_input/fight_6.mp4: 384x640 1 Fighter, 13.1ms\n",
      "video 1/1 (frame 483/3688) /home/hatsu/coding/CapProj/TestSeg_1/video_input/fight_6.mp4: 384x640 2 Fighters, 14.7ms\n",
      "video 1/1 (frame 484/3688) /home/hatsu/coding/CapProj/TestSeg_1/video_input/fight_6.mp4: 384x640 2 Fighters, 14.9ms\n",
      "video 1/1 (frame 485/3688) /home/hatsu/coding/CapProj/TestSeg_1/video_input/fight_6.mp4: 384x640 2 Fighters, 17.0ms\n",
      "video 1/1 (frame 486/3688) /home/hatsu/coding/CapProj/TestSeg_1/video_input/fight_6.mp4: 384x640 2 Fighters, 15.7ms\n",
      "video 1/1 (frame 487/3688) /home/hatsu/coding/CapProj/TestSeg_1/video_input/fight_6.mp4: 384x640 2 Fighters, 15.5ms\n",
      "video 1/1 (frame 488/3688) /home/hatsu/coding/CapProj/TestSeg_1/video_input/fight_6.mp4: 384x640 2 Fighters, 16.1ms\n",
      "video 1/1 (frame 489/3688) /home/hatsu/coding/CapProj/TestSeg_1/video_input/fight_6.mp4: 384x640 1 Fighter, 14.2ms\n",
      "video 1/1 (frame 490/3688) /home/hatsu/coding/CapProj/TestSeg_1/video_input/fight_6.mp4: 384x640 2 Fighters, 16.6ms\n",
      "video 1/1 (frame 491/3688) /home/hatsu/coding/CapProj/TestSeg_1/video_input/fight_6.mp4: 384x640 2 Fighters, 20.0ms\n",
      "video 1/1 (frame 492/3688) /home/hatsu/coding/CapProj/TestSeg_1/video_input/fight_6.mp4: 384x640 3 Fighters, 22.1ms\n",
      "video 1/1 (frame 493/3688) /home/hatsu/coding/CapProj/TestSeg_1/video_input/fight_6.mp4: 384x640 2 Fighters, 14.4ms\n",
      "video 1/1 (frame 494/3688) /home/hatsu/coding/CapProj/TestSeg_1/video_input/fight_6.mp4: 384x640 2 Fighters, 18.8ms\n",
      "video 1/1 (frame 495/3688) /home/hatsu/coding/CapProj/TestSeg_1/video_input/fight_6.mp4: 384x640 3 Fighters, 13.9ms\n",
      "video 1/1 (frame 496/3688) /home/hatsu/coding/CapProj/TestSeg_1/video_input/fight_6.mp4: 384x640 3 Fighters, 16.2ms\n",
      "video 1/1 (frame 497/3688) /home/hatsu/coding/CapProj/TestSeg_1/video_input/fight_6.mp4: 384x640 2 Fighters, 14.5ms\n",
      "video 1/1 (frame 498/3688) /home/hatsu/coding/CapProj/TestSeg_1/video_input/fight_6.mp4: 384x640 4 Fighters, 17.7ms\n",
      "video 1/1 (frame 499/3688) /home/hatsu/coding/CapProj/TestSeg_1/video_input/fight_6.mp4: 384x640 2 Fighters, 17.0ms\n",
      "video 1/1 (frame 500/3688) /home/hatsu/coding/CapProj/TestSeg_1/video_input/fight_6.mp4: 384x640 3 Fighters, 38.2ms\n",
      "video 1/1 (frame 501/3688) /home/hatsu/coding/CapProj/TestSeg_1/video_input/fight_6.mp4: 384x640 1 Fighter, 38.2ms\n",
      "video 1/1 (frame 502/3688) /home/hatsu/coding/CapProj/TestSeg_1/video_input/fight_6.mp4: 384x640 1 Fighter, 19.0ms\n",
      "video 1/1 (frame 503/3688) /home/hatsu/coding/CapProj/TestSeg_1/video_input/fight_6.mp4: 384x640 1 Fighter, 16.4ms\n",
      "video 1/1 (frame 504/3688) /home/hatsu/coding/CapProj/TestSeg_1/video_input/fight_6.mp4: 384x640 1 Fighter, 13.6ms\n",
      "video 1/1 (frame 505/3688) /home/hatsu/coding/CapProj/TestSeg_1/video_input/fight_6.mp4: 384x640 1 Fighter, 14.9ms\n",
      "video 1/1 (frame 506/3688) /home/hatsu/coding/CapProj/TestSeg_1/video_input/fight_6.mp4: 384x640 1 Fighter, 17.7ms\n",
      "video 1/1 (frame 507/3688) /home/hatsu/coding/CapProj/TestSeg_1/video_input/fight_6.mp4: 384x640 1 Fighter, 15.4ms\n",
      "video 1/1 (frame 508/3688) /home/hatsu/coding/CapProj/TestSeg_1/video_input/fight_6.mp4: 384x640 1 Fighter, 30.8ms\n",
      "video 1/1 (frame 509/3688) /home/hatsu/coding/CapProj/TestSeg_1/video_input/fight_6.mp4: 384x640 1 Fighter, 17.7ms\n",
      "video 1/1 (frame 510/3688) /home/hatsu/coding/CapProj/TestSeg_1/video_input/fight_6.mp4: 384x640 2 Fighters, 21.2ms\n",
      "video 1/1 (frame 511/3688) /home/hatsu/coding/CapProj/TestSeg_1/video_input/fight_6.mp4: 384x640 2 Fighters, 18.1ms\n",
      "video 1/1 (frame 512/3688) /home/hatsu/coding/CapProj/TestSeg_1/video_input/fight_6.mp4: 384x640 2 Fighters, 17.1ms\n",
      "video 1/1 (frame 513/3688) /home/hatsu/coding/CapProj/TestSeg_1/video_input/fight_6.mp4: 384x640 2 Fighters, 19.0ms\n",
      "video 1/1 (frame 514/3688) /home/hatsu/coding/CapProj/TestSeg_1/video_input/fight_6.mp4: 384x640 2 Fighters, 15.1ms\n",
      "video 1/1 (frame 515/3688) /home/hatsu/coding/CapProj/TestSeg_1/video_input/fight_6.mp4: 384x640 2 Fighters, 15.4ms\n",
      "video 1/1 (frame 516/3688) /home/hatsu/coding/CapProj/TestSeg_1/video_input/fight_6.mp4: 384x640 2 Fighters, 16.9ms\n",
      "video 1/1 (frame 517/3688) /home/hatsu/coding/CapProj/TestSeg_1/video_input/fight_6.mp4: 384x640 3 Fighters, 16.5ms\n",
      "video 1/1 (frame 518/3688) /home/hatsu/coding/CapProj/TestSeg_1/video_input/fight_6.mp4: 384x640 2 Fighters, 17.8ms\n",
      "video 1/1 (frame 519/3688) /home/hatsu/coding/CapProj/TestSeg_1/video_input/fight_6.mp4: 384x640 2 Fighters, 25.7ms\n",
      "video 1/1 (frame 520/3688) /home/hatsu/coding/CapProj/TestSeg_1/video_input/fight_6.mp4: 384x640 2 Fighters, 13.3ms\n",
      "video 1/1 (frame 521/3688) /home/hatsu/coding/CapProj/TestSeg_1/video_input/fight_6.mp4: 384x640 2 Fighters, 19.6ms\n",
      "video 1/1 (frame 522/3688) /home/hatsu/coding/CapProj/TestSeg_1/video_input/fight_6.mp4: 384x640 2 Fighters, 23.1ms\n",
      "video 1/1 (frame 523/3688) /home/hatsu/coding/CapProj/TestSeg_1/video_input/fight_6.mp4: 384x640 3 Fighters, 22.1ms\n",
      "video 1/1 (frame 524/3688) /home/hatsu/coding/CapProj/TestSeg_1/video_input/fight_6.mp4: 384x640 2 Fighters, 20.6ms\n",
      "video 1/1 (frame 525/3688) /home/hatsu/coding/CapProj/TestSeg_1/video_input/fight_6.mp4: 384x640 2 Fighters, 16.9ms\n",
      "video 1/1 (frame 526/3688) /home/hatsu/coding/CapProj/TestSeg_1/video_input/fight_6.mp4: 384x640 2 Fighters, 20.2ms\n",
      "video 1/1 (frame 527/3688) /home/hatsu/coding/CapProj/TestSeg_1/video_input/fight_6.mp4: 384x640 2 Fighters, 22.8ms\n",
      "video 1/1 (frame 528/3688) /home/hatsu/coding/CapProj/TestSeg_1/video_input/fight_6.mp4: 384x640 2 Fighters, 24.4ms\n",
      "video 1/1 (frame 529/3688) /home/hatsu/coding/CapProj/TestSeg_1/video_input/fight_6.mp4: 384x640 1 Fighter, 17.0ms\n",
      "video 1/1 (frame 530/3688) /home/hatsu/coding/CapProj/TestSeg_1/video_input/fight_6.mp4: 384x640 1 Fighter, 18.4ms\n",
      "video 1/1 (frame 531/3688) /home/hatsu/coding/CapProj/TestSeg_1/video_input/fight_6.mp4: 384x640 1 Fighter, 16.7ms\n",
      "video 1/1 (frame 532/3688) /home/hatsu/coding/CapProj/TestSeg_1/video_input/fight_6.mp4: 384x640 1 Fighter, 18.1ms\n",
      "video 1/1 (frame 533/3688) /home/hatsu/coding/CapProj/TestSeg_1/video_input/fight_6.mp4: 384x640 2 Fighters, 22.8ms\n",
      "video 1/1 (frame 534/3688) /home/hatsu/coding/CapProj/TestSeg_1/video_input/fight_6.mp4: 384x640 2 Fighters, 26.4ms\n",
      "video 1/1 (frame 535/3688) /home/hatsu/coding/CapProj/TestSeg_1/video_input/fight_6.mp4: 384x640 2 Fighters, 17.7ms\n",
      "video 1/1 (frame 536/3688) /home/hatsu/coding/CapProj/TestSeg_1/video_input/fight_6.mp4: 384x640 2 Fighters, 16.0ms\n",
      "video 1/1 (frame 537/3688) /home/hatsu/coding/CapProj/TestSeg_1/video_input/fight_6.mp4: 384x640 2 Fighters, 19.6ms\n",
      "video 1/1 (frame 538/3688) /home/hatsu/coding/CapProj/TestSeg_1/video_input/fight_6.mp4: 384x640 2 Fighters, 18.2ms\n",
      "video 1/1 (frame 539/3688) /home/hatsu/coding/CapProj/TestSeg_1/video_input/fight_6.mp4: 384x640 2 Fighters, 23.8ms\n",
      "video 1/1 (frame 540/3688) /home/hatsu/coding/CapProj/TestSeg_1/video_input/fight_6.mp4: 384x640 2 Fighters, 30.5ms\n",
      "video 1/1 (frame 541/3688) /home/hatsu/coding/CapProj/TestSeg_1/video_input/fight_6.mp4: 384x640 1 Fighter, 21.4ms\n",
      "video 1/1 (frame 542/3688) /home/hatsu/coding/CapProj/TestSeg_1/video_input/fight_6.mp4: 384x640 1 Fighter, 20.9ms\n",
      "video 1/1 (frame 543/3688) /home/hatsu/coding/CapProj/TestSeg_1/video_input/fight_6.mp4: 384x640 2 Fighters, 22.1ms\n",
      "video 1/1 (frame 544/3688) /home/hatsu/coding/CapProj/TestSeg_1/video_input/fight_6.mp4: 384x640 2 Fighters, 20.7ms\n",
      "video 1/1 (frame 545/3688) /home/hatsu/coding/CapProj/TestSeg_1/video_input/fight_6.mp4: 384x640 2 Fighters, 20.9ms\n",
      "video 1/1 (frame 546/3688) /home/hatsu/coding/CapProj/TestSeg_1/video_input/fight_6.mp4: 384x640 1 Fighter, 24.3ms\n",
      "video 1/1 (frame 547/3688) /home/hatsu/coding/CapProj/TestSeg_1/video_input/fight_6.mp4: 384x640 1 Fighter, 23.0ms\n",
      "video 1/1 (frame 548/3688) /home/hatsu/coding/CapProj/TestSeg_1/video_input/fight_6.mp4: 384x640 1 Fighter, 27.8ms\n",
      "video 1/1 (frame 549/3688) /home/hatsu/coding/CapProj/TestSeg_1/video_input/fight_6.mp4: 384x640 1 Fighter, 40.0ms\n",
      "video 1/1 (frame 550/3688) /home/hatsu/coding/CapProj/TestSeg_1/video_input/fight_6.mp4: 384x640 1 Fighter, 31.4ms\n",
      "video 1/1 (frame 551/3688) /home/hatsu/coding/CapProj/TestSeg_1/video_input/fight_6.mp4: 384x640 1 Fighter, 20.1ms\n",
      "video 1/1 (frame 552/3688) /home/hatsu/coding/CapProj/TestSeg_1/video_input/fight_6.mp4: 384x640 1 Fighter, 28.9ms\n",
      "video 1/1 (frame 553/3688) /home/hatsu/coding/CapProj/TestSeg_1/video_input/fight_6.mp4: 384x640 1 Fighter, 22.0ms\n",
      "video 1/1 (frame 554/3688) /home/hatsu/coding/CapProj/TestSeg_1/video_input/fight_6.mp4: 384x640 1 Fighter, 24.1ms\n",
      "video 1/1 (frame 555/3688) /home/hatsu/coding/CapProj/TestSeg_1/video_input/fight_6.mp4: 384x640 1 Fighter, 20.5ms\n",
      "video 1/1 (frame 556/3688) /home/hatsu/coding/CapProj/TestSeg_1/video_input/fight_6.mp4: 384x640 2 Fighters, 24.3ms\n",
      "video 1/1 (frame 557/3688) /home/hatsu/coding/CapProj/TestSeg_1/video_input/fight_6.mp4: 384x640 2 Fighters, 17.5ms\n",
      "video 1/1 (frame 558/3688) /home/hatsu/coding/CapProj/TestSeg_1/video_input/fight_6.mp4: 384x640 2 Fighters, 18.0ms\n",
      "video 1/1 (frame 559/3688) /home/hatsu/coding/CapProj/TestSeg_1/video_input/fight_6.mp4: 384x640 1 Fighter, 17.7ms\n",
      "video 1/1 (frame 560/3688) /home/hatsu/coding/CapProj/TestSeg_1/video_input/fight_6.mp4: 384x640 1 Fighter, 34.7ms\n",
      "video 1/1 (frame 561/3688) /home/hatsu/coding/CapProj/TestSeg_1/video_input/fight_6.mp4: 384x640 1 Fighter, 21.0ms\n",
      "video 1/1 (frame 562/3688) /home/hatsu/coding/CapProj/TestSeg_1/video_input/fight_6.mp4: 384x640 1 Fighter, 20.8ms\n",
      "video 1/1 (frame 563/3688) /home/hatsu/coding/CapProj/TestSeg_1/video_input/fight_6.mp4: 384x640 1 Fighter, 36.1ms\n",
      "video 1/1 (frame 564/3688) /home/hatsu/coding/CapProj/TestSeg_1/video_input/fight_6.mp4: 384x640 2 Fighters, 18.9ms\n",
      "video 1/1 (frame 565/3688) /home/hatsu/coding/CapProj/TestSeg_1/video_input/fight_6.mp4: 384x640 2 Fighters, 15.7ms\n",
      "video 1/1 (frame 566/3688) /home/hatsu/coding/CapProj/TestSeg_1/video_input/fight_6.mp4: 384x640 2 Fighters, 19.9ms\n",
      "video 1/1 (frame 567/3688) /home/hatsu/coding/CapProj/TestSeg_1/video_input/fight_6.mp4: 384x640 2 Fighters, 19.5ms\n",
      "video 1/1 (frame 568/3688) /home/hatsu/coding/CapProj/TestSeg_1/video_input/fight_6.mp4: 384x640 2 Fighters, 20.0ms\n",
      "video 1/1 (frame 569/3688) /home/hatsu/coding/CapProj/TestSeg_1/video_input/fight_6.mp4: 384x640 2 Fighters, 20.2ms\n",
      "video 1/1 (frame 570/3688) /home/hatsu/coding/CapProj/TestSeg_1/video_input/fight_6.mp4: 384x640 2 Fighters, 19.0ms\n",
      "video 1/1 (frame 571/3688) /home/hatsu/coding/CapProj/TestSeg_1/video_input/fight_6.mp4: 384x640 2 Fighters, 15.7ms\n",
      "video 1/1 (frame 572/3688) /home/hatsu/coding/CapProj/TestSeg_1/video_input/fight_6.mp4: 384x640 2 Fighters, 16.1ms\n",
      "video 1/1 (frame 573/3688) /home/hatsu/coding/CapProj/TestSeg_1/video_input/fight_6.mp4: 384x640 2 Fighters, 15.0ms\n",
      "video 1/1 (frame 574/3688) /home/hatsu/coding/CapProj/TestSeg_1/video_input/fight_6.mp4: 384x640 4 Fighters, 35.9ms\n",
      "video 1/1 (frame 575/3688) /home/hatsu/coding/CapProj/TestSeg_1/video_input/fight_6.mp4: 384x640 1 Fighter, 27.2ms\n",
      "video 1/1 (frame 576/3688) /home/hatsu/coding/CapProj/TestSeg_1/video_input/fight_6.mp4: 384x640 2 Fighters, 34.6ms\n",
      "video 1/1 (frame 577/3688) /home/hatsu/coding/CapProj/TestSeg_1/video_input/fight_6.mp4: 384x640 2 Fighters, 30.3ms\n",
      "video 1/1 (frame 578/3688) /home/hatsu/coding/CapProj/TestSeg_1/video_input/fight_6.mp4: 384x640 2 Fighters, 34.0ms\n",
      "video 1/1 (frame 579/3688) /home/hatsu/coding/CapProj/TestSeg_1/video_input/fight_6.mp4: 384x640 2 Fighters, 23.7ms\n",
      "video 1/1 (frame 580/3688) /home/hatsu/coding/CapProj/TestSeg_1/video_input/fight_6.mp4: 384x640 2 Fighters, 16.0ms\n",
      "video 1/1 (frame 581/3688) /home/hatsu/coding/CapProj/TestSeg_1/video_input/fight_6.mp4: 384x640 3 Fighters, 16.2ms\n",
      "video 1/1 (frame 582/3688) /home/hatsu/coding/CapProj/TestSeg_1/video_input/fight_6.mp4: 384x640 2 Fighters, 22.5ms\n",
      "video 1/1 (frame 583/3688) /home/hatsu/coding/CapProj/TestSeg_1/video_input/fight_6.mp4: 384x640 2 Fighters, 12.2ms\n",
      "video 1/1 (frame 584/3688) /home/hatsu/coding/CapProj/TestSeg_1/video_input/fight_6.mp4: 384x640 2 Fighters, 14.7ms\n",
      "video 1/1 (frame 585/3688) /home/hatsu/coding/CapProj/TestSeg_1/video_input/fight_6.mp4: 384x640 2 Fighters, 14.4ms\n",
      "video 1/1 (frame 586/3688) /home/hatsu/coding/CapProj/TestSeg_1/video_input/fight_6.mp4: 384x640 2 Fighters, 14.6ms\n",
      "video 1/1 (frame 587/3688) /home/hatsu/coding/CapProj/TestSeg_1/video_input/fight_6.mp4: 384x640 2 Fighters, 16.2ms\n",
      "video 1/1 (frame 588/3688) /home/hatsu/coding/CapProj/TestSeg_1/video_input/fight_6.mp4: 384x640 2 Fighters, 16.1ms\n",
      "video 1/1 (frame 589/3688) /home/hatsu/coding/CapProj/TestSeg_1/video_input/fight_6.mp4: 384x640 2 Fighters, 26.8ms\n",
      "video 1/1 (frame 590/3688) /home/hatsu/coding/CapProj/TestSeg_1/video_input/fight_6.mp4: 384x640 2 Fighters, 20.1ms\n",
      "video 1/1 (frame 591/3688) /home/hatsu/coding/CapProj/TestSeg_1/video_input/fight_6.mp4: 384x640 2 Fighters, 14.7ms\n",
      "video 1/1 (frame 592/3688) /home/hatsu/coding/CapProj/TestSeg_1/video_input/fight_6.mp4: 384x640 2 Fighters, 14.2ms\n",
      "video 1/1 (frame 593/3688) /home/hatsu/coding/CapProj/TestSeg_1/video_input/fight_6.mp4: 384x640 2 Fighters, 12.6ms\n",
      "video 1/1 (frame 594/3688) /home/hatsu/coding/CapProj/TestSeg_1/video_input/fight_6.mp4: 384x640 2 Fighters, 12.7ms\n",
      "video 1/1 (frame 595/3688) /home/hatsu/coding/CapProj/TestSeg_1/video_input/fight_6.mp4: 384x640 2 Fighters, 14.7ms\n",
      "video 1/1 (frame 596/3688) /home/hatsu/coding/CapProj/TestSeg_1/video_input/fight_6.mp4: 384x640 2 Fighters, 12.6ms\n",
      "video 1/1 (frame 597/3688) /home/hatsu/coding/CapProj/TestSeg_1/video_input/fight_6.mp4: 384x640 2 Fighters, 15.8ms\n",
      "video 1/1 (frame 598/3688) /home/hatsu/coding/CapProj/TestSeg_1/video_input/fight_6.mp4: 384x640 2 Fighters, 16.4ms\n",
      "video 1/1 (frame 599/3688) /home/hatsu/coding/CapProj/TestSeg_1/video_input/fight_6.mp4: 384x640 2 Fighters, 13.5ms\n",
      "video 1/1 (frame 600/3688) /home/hatsu/coding/CapProj/TestSeg_1/video_input/fight_6.mp4: 384x640 2 Fighters, 24.2ms\n",
      "video 1/1 (frame 601/3688) /home/hatsu/coding/CapProj/TestSeg_1/video_input/fight_6.mp4: 384x640 2 Fighters, 14.4ms\n",
      "video 1/1 (frame 602/3688) /home/hatsu/coding/CapProj/TestSeg_1/video_input/fight_6.mp4: 384x640 2 Fighters, 16.4ms\n",
      "video 1/1 (frame 603/3688) /home/hatsu/coding/CapProj/TestSeg_1/video_input/fight_6.mp4: 384x640 2 Fighters, 32.1ms\n",
      "video 1/1 (frame 604/3688) /home/hatsu/coding/CapProj/TestSeg_1/video_input/fight_6.mp4: 384x640 2 Fighters, 14.4ms\n",
      "video 1/1 (frame 605/3688) /home/hatsu/coding/CapProj/TestSeg_1/video_input/fight_6.mp4: 384x640 1 Fighter, 14.5ms\n",
      "video 1/1 (frame 606/3688) /home/hatsu/coding/CapProj/TestSeg_1/video_input/fight_6.mp4: 384x640 1 Fighter, 13.4ms\n",
      "video 1/1 (frame 607/3688) /home/hatsu/coding/CapProj/TestSeg_1/video_input/fight_6.mp4: 384x640 1 Fighter, 14.3ms\n",
      "video 1/1 (frame 608/3688) /home/hatsu/coding/CapProj/TestSeg_1/video_input/fight_6.mp4: 384x640 1 Fighter, 14.4ms\n",
      "video 1/1 (frame 609/3688) /home/hatsu/coding/CapProj/TestSeg_1/video_input/fight_6.mp4: 384x640 1 Fighter, 13.8ms\n",
      "video 1/1 (frame 610/3688) /home/hatsu/coding/CapProj/TestSeg_1/video_input/fight_6.mp4: 384x640 1 Fighter, 15.8ms\n",
      "video 1/1 (frame 611/3688) /home/hatsu/coding/CapProj/TestSeg_1/video_input/fight_6.mp4: 384x640 1 Fighter, 12.7ms\n",
      "video 1/1 (frame 612/3688) /home/hatsu/coding/CapProj/TestSeg_1/video_input/fight_6.mp4: 384x640 1 Fighter, 16.9ms\n",
      "video 1/1 (frame 613/3688) /home/hatsu/coding/CapProj/TestSeg_1/video_input/fight_6.mp4: 384x640 1 Fighter, 16.2ms\n",
      "video 1/1 (frame 614/3688) /home/hatsu/coding/CapProj/TestSeg_1/video_input/fight_6.mp4: 384x640 1 Fighter, 15.5ms\n",
      "video 1/1 (frame 615/3688) /home/hatsu/coding/CapProj/TestSeg_1/video_input/fight_6.mp4: 384x640 2 Fighters, 18.0ms\n",
      "video 1/1 (frame 616/3688) /home/hatsu/coding/CapProj/TestSeg_1/video_input/fight_6.mp4: 384x640 2 Fighters, 14.0ms\n",
      "video 1/1 (frame 617/3688) /home/hatsu/coding/CapProj/TestSeg_1/video_input/fight_6.mp4: 384x640 1 Fighter, 19.0ms\n",
      "video 1/1 (frame 618/3688) /home/hatsu/coding/CapProj/TestSeg_1/video_input/fight_6.mp4: 384x640 1 Fighter, 17.6ms\n",
      "video 1/1 (frame 619/3688) /home/hatsu/coding/CapProj/TestSeg_1/video_input/fight_6.mp4: 384x640 1 Fighter, 16.4ms\n",
      "video 1/1 (frame 620/3688) /home/hatsu/coding/CapProj/TestSeg_1/video_input/fight_6.mp4: 384x640 1 Fighter, 18.9ms\n",
      "video 1/1 (frame 621/3688) /home/hatsu/coding/CapProj/TestSeg_1/video_input/fight_6.mp4: 384x640 1 Fighter, 15.2ms\n",
      "video 1/1 (frame 622/3688) /home/hatsu/coding/CapProj/TestSeg_1/video_input/fight_6.mp4: 384x640 1 Fighter, 13.7ms\n",
      "video 1/1 (frame 623/3688) /home/hatsu/coding/CapProj/TestSeg_1/video_input/fight_6.mp4: 384x640 1 Fighter, 15.2ms\n",
      "video 1/1 (frame 624/3688) /home/hatsu/coding/CapProj/TestSeg_1/video_input/fight_6.mp4: 384x640 1 Fighter, 22.7ms\n",
      "video 1/1 (frame 625/3688) /home/hatsu/coding/CapProj/TestSeg_1/video_input/fight_6.mp4: 384x640 2 Fighters, 16.5ms\n",
      "video 1/1 (frame 626/3688) /home/hatsu/coding/CapProj/TestSeg_1/video_input/fight_6.mp4: 384x640 2 Fighters, 14.3ms\n",
      "video 1/1 (frame 627/3688) /home/hatsu/coding/CapProj/TestSeg_1/video_input/fight_6.mp4: 384x640 2 Fighters, 23.6ms\n",
      "video 1/1 (frame 628/3688) /home/hatsu/coding/CapProj/TestSeg_1/video_input/fight_6.mp4: 384x640 2 Fighters, 20.6ms\n",
      "video 1/1 (frame 629/3688) /home/hatsu/coding/CapProj/TestSeg_1/video_input/fight_6.mp4: 384x640 2 Fighters, 21.5ms\n",
      "video 1/1 (frame 630/3688) /home/hatsu/coding/CapProj/TestSeg_1/video_input/fight_6.mp4: 384x640 2 Fighters, 19.1ms\n",
      "video 1/1 (frame 631/3688) /home/hatsu/coding/CapProj/TestSeg_1/video_input/fight_6.mp4: 384x640 2 Fighters, 16.9ms\n",
      "video 1/1 (frame 632/3688) /home/hatsu/coding/CapProj/TestSeg_1/video_input/fight_6.mp4: 384x640 2 Fighters, 16.4ms\n",
      "video 1/1 (frame 633/3688) /home/hatsu/coding/CapProj/TestSeg_1/video_input/fight_6.mp4: 384x640 2 Fighters, 29.1ms\n",
      "video 1/1 (frame 634/3688) /home/hatsu/coding/CapProj/TestSeg_1/video_input/fight_6.mp4: 384x640 2 Fighters, 19.6ms\n",
      "video 1/1 (frame 635/3688) /home/hatsu/coding/CapProj/TestSeg_1/video_input/fight_6.mp4: 384x640 2 Fighters, 35.0ms\n",
      "video 1/1 (frame 636/3688) /home/hatsu/coding/CapProj/TestSeg_1/video_input/fight_6.mp4: 384x640 2 Fighters, 30.3ms\n",
      "video 1/1 (frame 637/3688) /home/hatsu/coding/CapProj/TestSeg_1/video_input/fight_6.mp4: 384x640 2 Fighters, 29.8ms\n",
      "video 1/1 (frame 638/3688) /home/hatsu/coding/CapProj/TestSeg_1/video_input/fight_6.mp4: 384x640 1 Fighter, 33.3ms\n",
      "video 1/1 (frame 639/3688) /home/hatsu/coding/CapProj/TestSeg_1/video_input/fight_6.mp4: 384x640 1 Fighter, 41.6ms\n",
      "video 1/1 (frame 640/3688) /home/hatsu/coding/CapProj/TestSeg_1/video_input/fight_6.mp4: 384x640 1 Fighter, 13.8ms\n",
      "video 1/1 (frame 641/3688) /home/hatsu/coding/CapProj/TestSeg_1/video_input/fight_6.mp4: 384x640 1 Fighter, 14.4ms\n",
      "video 1/1 (frame 642/3688) /home/hatsu/coding/CapProj/TestSeg_1/video_input/fight_6.mp4: 384x640 1 Fighter, 18.6ms\n",
      "video 1/1 (frame 643/3688) /home/hatsu/coding/CapProj/TestSeg_1/video_input/fight_6.mp4: 384x640 1 Fighter, 14.9ms\n",
      "video 1/1 (frame 644/3688) /home/hatsu/coding/CapProj/TestSeg_1/video_input/fight_6.mp4: 384x640 1 Fighter, 20.0ms\n",
      "video 1/1 (frame 645/3688) /home/hatsu/coding/CapProj/TestSeg_1/video_input/fight_6.mp4: 384x640 1 Fighter, 13.5ms\n",
      "video 1/1 (frame 646/3688) /home/hatsu/coding/CapProj/TestSeg_1/video_input/fight_6.mp4: 384x640 1 Fighter, 30.2ms\n",
      "video 1/1 (frame 647/3688) /home/hatsu/coding/CapProj/TestSeg_1/video_input/fight_6.mp4: 384x640 1 Fighter, 19.7ms\n",
      "video 1/1 (frame 648/3688) /home/hatsu/coding/CapProj/TestSeg_1/video_input/fight_6.mp4: 384x640 (no detections), 12.2ms\n",
      "video 1/1 (frame 649/3688) /home/hatsu/coding/CapProj/TestSeg_1/video_input/fight_6.mp4: 384x640 1 Fighter, 12.1ms\n",
      "video 1/1 (frame 650/3688) /home/hatsu/coding/CapProj/TestSeg_1/video_input/fight_6.mp4: 384x640 1 Fighter, 13.2ms\n",
      "video 1/1 (frame 651/3688) /home/hatsu/coding/CapProj/TestSeg_1/video_input/fight_6.mp4: 384x640 1 Fighter, 13.8ms\n",
      "video 1/1 (frame 652/3688) /home/hatsu/coding/CapProj/TestSeg_1/video_input/fight_6.mp4: 384x640 1 Fighter, 13.1ms\n",
      "video 1/1 (frame 653/3688) /home/hatsu/coding/CapProj/TestSeg_1/video_input/fight_6.mp4: 384x640 1 Fighter, 31.9ms\n",
      "video 1/1 (frame 654/3688) /home/hatsu/coding/CapProj/TestSeg_1/video_input/fight_6.mp4: 384x640 2 Fighters, 16.2ms\n",
      "video 1/1 (frame 655/3688) /home/hatsu/coding/CapProj/TestSeg_1/video_input/fight_6.mp4: 384x640 1 Fighter, 19.5ms\n",
      "video 1/1 (frame 656/3688) /home/hatsu/coding/CapProj/TestSeg_1/video_input/fight_6.mp4: 384x640 1 Fighter, 19.5ms\n",
      "video 1/1 (frame 657/3688) /home/hatsu/coding/CapProj/TestSeg_1/video_input/fight_6.mp4: 384x640 1 Fighter, 16.7ms\n",
      "video 1/1 (frame 658/3688) /home/hatsu/coding/CapProj/TestSeg_1/video_input/fight_6.mp4: 384x640 1 Fighter, 18.7ms\n",
      "video 1/1 (frame 659/3688) /home/hatsu/coding/CapProj/TestSeg_1/video_input/fight_6.mp4: 384x640 1 Fighter, 18.3ms\n",
      "video 1/1 (frame 660/3688) /home/hatsu/coding/CapProj/TestSeg_1/video_input/fight_6.mp4: 384x640 1 Fighter, 16.2ms\n",
      "video 1/1 (frame 661/3688) /home/hatsu/coding/CapProj/TestSeg_1/video_input/fight_6.mp4: 384x640 2 Fighters, 13.9ms\n",
      "video 1/1 (frame 662/3688) /home/hatsu/coding/CapProj/TestSeg_1/video_input/fight_6.mp4: 384x640 2 Fighters, 16.5ms\n",
      "video 1/1 (frame 663/3688) /home/hatsu/coding/CapProj/TestSeg_1/video_input/fight_6.mp4: 384x640 2 Fighters, 31.8ms\n",
      "video 1/1 (frame 664/3688) /home/hatsu/coding/CapProj/TestSeg_1/video_input/fight_6.mp4: 384x640 2 Fighters, 48.6ms\n",
      "video 1/1 (frame 665/3688) /home/hatsu/coding/CapProj/TestSeg_1/video_input/fight_6.mp4: 384x640 (no detections), 13.0ms\n",
      "video 1/1 (frame 666/3688) /home/hatsu/coding/CapProj/TestSeg_1/video_input/fight_6.mp4: 384x640 1 Fighter, 14.7ms\n",
      "video 1/1 (frame 667/3688) /home/hatsu/coding/CapProj/TestSeg_1/video_input/fight_6.mp4: 384x640 2 Fighters, 13.2ms\n",
      "video 1/1 (frame 668/3688) /home/hatsu/coding/CapProj/TestSeg_1/video_input/fight_6.mp4: 384x640 3 Fighters, 30.7ms\n",
      "video 1/1 (frame 669/3688) /home/hatsu/coding/CapProj/TestSeg_1/video_input/fight_6.mp4: 384x640 1 Fighter, 26.9ms\n",
      "video 1/1 (frame 670/3688) /home/hatsu/coding/CapProj/TestSeg_1/video_input/fight_6.mp4: 384x640 1 Fighter, 12.8ms\n",
      "video 1/1 (frame 671/3688) /home/hatsu/coding/CapProj/TestSeg_1/video_input/fight_6.mp4: 384x640 2 Fighters, 20.8ms\n",
      "video 1/1 (frame 672/3688) /home/hatsu/coding/CapProj/TestSeg_1/video_input/fight_6.mp4: 384x640 1 Fighter, 25.1ms\n",
      "video 1/1 (frame 673/3688) /home/hatsu/coding/CapProj/TestSeg_1/video_input/fight_6.mp4: 384x640 (no detections), 19.0ms\n",
      "video 1/1 (frame 674/3688) /home/hatsu/coding/CapProj/TestSeg_1/video_input/fight_6.mp4: 384x640 (no detections), 20.7ms\n",
      "video 1/1 (frame 675/3688) /home/hatsu/coding/CapProj/TestSeg_1/video_input/fight_6.mp4: 384x640 2 Fighters, 17.0ms\n",
      "video 1/1 (frame 676/3688) /home/hatsu/coding/CapProj/TestSeg_1/video_input/fight_6.mp4: 384x640 2 Fighters, 17.4ms\n",
      "video 1/1 (frame 677/3688) /home/hatsu/coding/CapProj/TestSeg_1/video_input/fight_6.mp4: 384x640 (no detections), 38.2ms\n",
      "video 1/1 (frame 678/3688) /home/hatsu/coding/CapProj/TestSeg_1/video_input/fight_6.mp4: 384x640 (no detections), 16.8ms\n",
      "video 1/1 (frame 679/3688) /home/hatsu/coding/CapProj/TestSeg_1/video_input/fight_6.mp4: 384x640 (no detections), 19.6ms\n",
      "video 1/1 (frame 680/3688) /home/hatsu/coding/CapProj/TestSeg_1/video_input/fight_6.mp4: 384x640 (no detections), 22.9ms\n",
      "video 1/1 (frame 681/3688) /home/hatsu/coding/CapProj/TestSeg_1/video_input/fight_6.mp4: 384x640 (no detections), 24.8ms\n",
      "video 1/1 (frame 682/3688) /home/hatsu/coding/CapProj/TestSeg_1/video_input/fight_6.mp4: 384x640 (no detections), 23.9ms\n",
      "video 1/1 (frame 683/3688) /home/hatsu/coding/CapProj/TestSeg_1/video_input/fight_6.mp4: 384x640 (no detections), 13.9ms\n",
      "video 1/1 (frame 684/3688) /home/hatsu/coding/CapProj/TestSeg_1/video_input/fight_6.mp4: 384x640 1 Fighter, 19.1ms\n",
      "video 1/1 (frame 685/3688) /home/hatsu/coding/CapProj/TestSeg_1/video_input/fight_6.mp4: 384x640 (no detections), 19.8ms\n",
      "video 1/1 (frame 686/3688) /home/hatsu/coding/CapProj/TestSeg_1/video_input/fight_6.mp4: 384x640 2 Fighters, 34.3ms\n",
      "video 1/1 (frame 687/3688) /home/hatsu/coding/CapProj/TestSeg_1/video_input/fight_6.mp4: 384x640 2 Fighters, 26.7ms\n",
      "video 1/1 (frame 688/3688) /home/hatsu/coding/CapProj/TestSeg_1/video_input/fight_6.mp4: 384x640 2 Fighters, 23.8ms\n",
      "video 1/1 (frame 689/3688) /home/hatsu/coding/CapProj/TestSeg_1/video_input/fight_6.mp4: 384x640 1 Fighter, 36.7ms\n",
      "video 1/1 (frame 690/3688) /home/hatsu/coding/CapProj/TestSeg_1/video_input/fight_6.mp4: 384x640 1 Fighter, 19.9ms\n",
      "video 1/1 (frame 691/3688) /home/hatsu/coding/CapProj/TestSeg_1/video_input/fight_6.mp4: 384x640 1 Fighter, 19.1ms\n",
      "video 1/1 (frame 692/3688) /home/hatsu/coding/CapProj/TestSeg_1/video_input/fight_6.mp4: 384x640 1 Fighter, 32.7ms\n",
      "video 1/1 (frame 693/3688) /home/hatsu/coding/CapProj/TestSeg_1/video_input/fight_6.mp4: 384x640 1 Fighter, 32.4ms\n",
      "video 1/1 (frame 694/3688) /home/hatsu/coding/CapProj/TestSeg_1/video_input/fight_6.mp4: 384x640 1 Fighter, 16.3ms\n",
      "video 1/1 (frame 695/3688) /home/hatsu/coding/CapProj/TestSeg_1/video_input/fight_6.mp4: 384x640 1 Fighter, 25.8ms\n",
      "video 1/1 (frame 696/3688) /home/hatsu/coding/CapProj/TestSeg_1/video_input/fight_6.mp4: 384x640 1 Fighter, 21.4ms\n",
      "video 1/1 (frame 697/3688) /home/hatsu/coding/CapProj/TestSeg_1/video_input/fight_6.mp4: 384x640 1 Fighter, 18.5ms\n",
      "video 1/1 (frame 698/3688) /home/hatsu/coding/CapProj/TestSeg_1/video_input/fight_6.mp4: 384x640 1 Fighter, 18.7ms\n",
      "video 1/1 (frame 699/3688) /home/hatsu/coding/CapProj/TestSeg_1/video_input/fight_6.mp4: 384x640 1 Fighter, 19.3ms\n",
      "video 1/1 (frame 700/3688) /home/hatsu/coding/CapProj/TestSeg_1/video_input/fight_6.mp4: 384x640 1 Fighter, 27.8ms\n",
      "video 1/1 (frame 701/3688) /home/hatsu/coding/CapProj/TestSeg_1/video_input/fight_6.mp4: 384x640 1 Fighter, 26.3ms\n",
      "video 1/1 (frame 702/3688) /home/hatsu/coding/CapProj/TestSeg_1/video_input/fight_6.mp4: 384x640 1 Fighter, 34.3ms\n",
      "video 1/1 (frame 703/3688) /home/hatsu/coding/CapProj/TestSeg_1/video_input/fight_6.mp4: 384x640 1 Fighter, 39.3ms\n",
      "video 1/1 (frame 704/3688) /home/hatsu/coding/CapProj/TestSeg_1/video_input/fight_6.mp4: 384x640 1 Fighter, 20.6ms\n",
      "video 1/1 (frame 705/3688) /home/hatsu/coding/CapProj/TestSeg_1/video_input/fight_6.mp4: 384x640 1 Fighter, 24.1ms\n",
      "video 1/1 (frame 706/3688) /home/hatsu/coding/CapProj/TestSeg_1/video_input/fight_6.mp4: 384x640 1 Fighter, 17.7ms\n",
      "video 1/1 (frame 707/3688) /home/hatsu/coding/CapProj/TestSeg_1/video_input/fight_6.mp4: 384x640 1 Fighter, 18.5ms\n",
      "video 1/1 (frame 708/3688) /home/hatsu/coding/CapProj/TestSeg_1/video_input/fight_6.mp4: 384x640 1 Fighter, 17.9ms\n",
      "video 1/1 (frame 709/3688) /home/hatsu/coding/CapProj/TestSeg_1/video_input/fight_6.mp4: 384x640 1 Fighter, 19.1ms\n",
      "video 1/1 (frame 710/3688) /home/hatsu/coding/CapProj/TestSeg_1/video_input/fight_6.mp4: 384x640 1 Fighter, 34.3ms\n",
      "video 1/1 (frame 711/3688) /home/hatsu/coding/CapProj/TestSeg_1/video_input/fight_6.mp4: 384x640 1 Fighter, 18.5ms\n",
      "video 1/1 (frame 712/3688) /home/hatsu/coding/CapProj/TestSeg_1/video_input/fight_6.mp4: 384x640 1 Fighter, 47.0ms\n",
      "video 1/1 (frame 713/3688) /home/hatsu/coding/CapProj/TestSeg_1/video_input/fight_6.mp4: 384x640 1 Fighter, 17.2ms\n",
      "video 1/1 (frame 714/3688) /home/hatsu/coding/CapProj/TestSeg_1/video_input/fight_6.mp4: 384x640 1 Fighter, 22.3ms\n",
      "video 1/1 (frame 715/3688) /home/hatsu/coding/CapProj/TestSeg_1/video_input/fight_6.mp4: 384x640 1 Fighter, 24.8ms\n",
      "video 1/1 (frame 716/3688) /home/hatsu/coding/CapProj/TestSeg_1/video_input/fight_6.mp4: 384x640 1 Fighter, 17.6ms\n",
      "video 1/1 (frame 717/3688) /home/hatsu/coding/CapProj/TestSeg_1/video_input/fight_6.mp4: 384x640 1 Fighter, 16.6ms\n",
      "video 1/1 (frame 718/3688) /home/hatsu/coding/CapProj/TestSeg_1/video_input/fight_6.mp4: 384x640 1 Fighter, 51.4ms\n",
      "video 1/1 (frame 719/3688) /home/hatsu/coding/CapProj/TestSeg_1/video_input/fight_6.mp4: 384x640 1 Fighter, 15.5ms\n",
      "video 1/1 (frame 720/3688) /home/hatsu/coding/CapProj/TestSeg_1/video_input/fight_6.mp4: 384x640 (no detections), 16.6ms\n",
      "video 1/1 (frame 721/3688) /home/hatsu/coding/CapProj/TestSeg_1/video_input/fight_6.mp4: 384x640 (no detections), 16.7ms\n",
      "video 1/1 (frame 722/3688) /home/hatsu/coding/CapProj/TestSeg_1/video_input/fight_6.mp4: 384x640 (no detections), 18.5ms\n",
      "video 1/1 (frame 723/3688) /home/hatsu/coding/CapProj/TestSeg_1/video_input/fight_6.mp4: 384x640 (no detections), 19.4ms\n",
      "video 1/1 (frame 724/3688) /home/hatsu/coding/CapProj/TestSeg_1/video_input/fight_6.mp4: 384x640 (no detections), 22.5ms\n",
      "video 1/1 (frame 725/3688) /home/hatsu/coding/CapProj/TestSeg_1/video_input/fight_6.mp4: 384x640 (no detections), 30.2ms\n",
      "video 1/1 (frame 726/3688) /home/hatsu/coding/CapProj/TestSeg_1/video_input/fight_6.mp4: 384x640 1 Fighter, 22.6ms\n",
      "video 1/1 (frame 727/3688) /home/hatsu/coding/CapProj/TestSeg_1/video_input/fight_6.mp4: 384x640 1 Fighter, 17.1ms\n",
      "video 1/1 (frame 728/3688) /home/hatsu/coding/CapProj/TestSeg_1/video_input/fight_6.mp4: 384x640 1 Fighter, 18.2ms\n",
      "video 1/1 (frame 729/3688) /home/hatsu/coding/CapProj/TestSeg_1/video_input/fight_6.mp4: 384x640 1 Fighter, 17.1ms\n",
      "video 1/1 (frame 730/3688) /home/hatsu/coding/CapProj/TestSeg_1/video_input/fight_6.mp4: 384x640 1 Fighter, 16.0ms\n",
      "video 1/1 (frame 731/3688) /home/hatsu/coding/CapProj/TestSeg_1/video_input/fight_6.mp4: 384x640 1 Fighter, 17.2ms\n",
      "video 1/1 (frame 732/3688) /home/hatsu/coding/CapProj/TestSeg_1/video_input/fight_6.mp4: 384x640 1 Fighter, 19.3ms\n",
      "video 1/1 (frame 733/3688) /home/hatsu/coding/CapProj/TestSeg_1/video_input/fight_6.mp4: 384x640 1 Fighter, 16.2ms\n",
      "video 1/1 (frame 734/3688) /home/hatsu/coding/CapProj/TestSeg_1/video_input/fight_6.mp4: 384x640 1 Fighter, 29.6ms\n",
      "video 1/1 (frame 735/3688) /home/hatsu/coding/CapProj/TestSeg_1/video_input/fight_6.mp4: 384x640 1 Fighter, 22.2ms\n",
      "video 1/1 (frame 736/3688) /home/hatsu/coding/CapProj/TestSeg_1/video_input/fight_6.mp4: 384x640 1 Fighter, 17.9ms\n",
      "video 1/1 (frame 737/3688) /home/hatsu/coding/CapProj/TestSeg_1/video_input/fight_6.mp4: 384x640 1 Fighter, 20.7ms\n",
      "video 1/1 (frame 738/3688) /home/hatsu/coding/CapProj/TestSeg_1/video_input/fight_6.mp4: 384x640 1 Fighter, 17.6ms\n",
      "video 1/1 (frame 739/3688) /home/hatsu/coding/CapProj/TestSeg_1/video_input/fight_6.mp4: 384x640 1 Fighter, 13.8ms\n",
      "video 1/1 (frame 740/3688) /home/hatsu/coding/CapProj/TestSeg_1/video_input/fight_6.mp4: 384x640 1 Fighter, 18.8ms\n",
      "video 1/1 (frame 741/3688) /home/hatsu/coding/CapProj/TestSeg_1/video_input/fight_6.mp4: 384x640 1 Fighter, 39.3ms\n",
      "video 1/1 (frame 742/3688) /home/hatsu/coding/CapProj/TestSeg_1/video_input/fight_6.mp4: 384x640 1 Fighter, 17.9ms\n",
      "video 1/1 (frame 743/3688) /home/hatsu/coding/CapProj/TestSeg_1/video_input/fight_6.mp4: 384x640 1 Fighter, 19.6ms\n",
      "video 1/1 (frame 744/3688) /home/hatsu/coding/CapProj/TestSeg_1/video_input/fight_6.mp4: 384x640 1 Fighter, 18.4ms\n",
      "video 1/1 (frame 745/3688) /home/hatsu/coding/CapProj/TestSeg_1/video_input/fight_6.mp4: 384x640 1 Fighter, 15.5ms\n",
      "video 1/1 (frame 746/3688) /home/hatsu/coding/CapProj/TestSeg_1/video_input/fight_6.mp4: 384x640 1 Fighter, 29.3ms\n",
      "video 1/1 (frame 747/3688) /home/hatsu/coding/CapProj/TestSeg_1/video_input/fight_6.mp4: 384x640 1 Fighter, 29.4ms\n",
      "video 1/1 (frame 748/3688) /home/hatsu/coding/CapProj/TestSeg_1/video_input/fight_6.mp4: 384x640 1 Fighter, 20.0ms\n",
      "video 1/1 (frame 749/3688) /home/hatsu/coding/CapProj/TestSeg_1/video_input/fight_6.mp4: 384x640 1 Fighter, 17.5ms\n",
      "video 1/1 (frame 750/3688) /home/hatsu/coding/CapProj/TestSeg_1/video_input/fight_6.mp4: 384x640 1 Fighter, 16.8ms\n",
      "video 1/1 (frame 751/3688) /home/hatsu/coding/CapProj/TestSeg_1/video_input/fight_6.mp4: 384x640 1 Fighter, 22.2ms\n",
      "video 1/1 (frame 752/3688) /home/hatsu/coding/CapProj/TestSeg_1/video_input/fight_6.mp4: 384x640 1 Fighter, 21.8ms\n",
      "video 1/1 (frame 753/3688) /home/hatsu/coding/CapProj/TestSeg_1/video_input/fight_6.mp4: 384x640 1 Fighter, 30.1ms\n",
      "video 1/1 (frame 754/3688) /home/hatsu/coding/CapProj/TestSeg_1/video_input/fight_6.mp4: 384x640 1 Fighter, 18.9ms\n",
      "video 1/1 (frame 755/3688) /home/hatsu/coding/CapProj/TestSeg_1/video_input/fight_6.mp4: 384x640 1 Fighter, 19.8ms\n",
      "video 1/1 (frame 756/3688) /home/hatsu/coding/CapProj/TestSeg_1/video_input/fight_6.mp4: 384x640 1 Fighter, 18.7ms\n",
      "video 1/1 (frame 757/3688) /home/hatsu/coding/CapProj/TestSeg_1/video_input/fight_6.mp4: 384x640 1 Fighter, 22.1ms\n",
      "video 1/1 (frame 758/3688) /home/hatsu/coding/CapProj/TestSeg_1/video_input/fight_6.mp4: 384x640 1 Fighter, 20.3ms\n",
      "video 1/1 (frame 759/3688) /home/hatsu/coding/CapProj/TestSeg_1/video_input/fight_6.mp4: 384x640 1 Fighter, 18.8ms\n",
      "video 1/1 (frame 760/3688) /home/hatsu/coding/CapProj/TestSeg_1/video_input/fight_6.mp4: 384x640 1 Fighter, 14.9ms\n",
      "video 1/1 (frame 761/3688) /home/hatsu/coding/CapProj/TestSeg_1/video_input/fight_6.mp4: 384x640 1 Fighter, 21.9ms\n",
      "video 1/1 (frame 762/3688) /home/hatsu/coding/CapProj/TestSeg_1/video_input/fight_6.mp4: 384x640 1 Fighter, 17.6ms\n",
      "video 1/1 (frame 763/3688) /home/hatsu/coding/CapProj/TestSeg_1/video_input/fight_6.mp4: 384x640 1 Fighter, 19.1ms\n",
      "video 1/1 (frame 764/3688) /home/hatsu/coding/CapProj/TestSeg_1/video_input/fight_6.mp4: 384x640 1 Fighter, 15.8ms\n",
      "video 1/1 (frame 765/3688) /home/hatsu/coding/CapProj/TestSeg_1/video_input/fight_6.mp4: 384x640 1 Fighter, 18.0ms\n",
      "video 1/1 (frame 766/3688) /home/hatsu/coding/CapProj/TestSeg_1/video_input/fight_6.mp4: 384x640 1 Fighter, 17.8ms\n",
      "video 1/1 (frame 767/3688) /home/hatsu/coding/CapProj/TestSeg_1/video_input/fight_6.mp4: 384x640 1 Fighter, 16.1ms\n",
      "video 1/1 (frame 768/3688) /home/hatsu/coding/CapProj/TestSeg_1/video_input/fight_6.mp4: 384x640 1 Fighter, 18.7ms\n",
      "video 1/1 (frame 769/3688) /home/hatsu/coding/CapProj/TestSeg_1/video_input/fight_6.mp4: 384x640 1 Fighter, 21.5ms\n",
      "video 1/1 (frame 770/3688) /home/hatsu/coding/CapProj/TestSeg_1/video_input/fight_6.mp4: 384x640 1 Fighter, 15.6ms\n",
      "video 1/1 (frame 771/3688) /home/hatsu/coding/CapProj/TestSeg_1/video_input/fight_6.mp4: 384x640 2 Fighters, 16.6ms\n",
      "video 1/1 (frame 772/3688) /home/hatsu/coding/CapProj/TestSeg_1/video_input/fight_6.mp4: 384x640 2 Fighters, 18.4ms\n",
      "video 1/1 (frame 773/3688) /home/hatsu/coding/CapProj/TestSeg_1/video_input/fight_6.mp4: 384x640 2 Fighters, 20.2ms\n",
      "video 1/1 (frame 774/3688) /home/hatsu/coding/CapProj/TestSeg_1/video_input/fight_6.mp4: 384x640 1 Fighter, 27.6ms\n",
      "video 1/1 (frame 775/3688) /home/hatsu/coding/CapProj/TestSeg_1/video_input/fight_6.mp4: 384x640 1 Fighter, 25.4ms\n",
      "video 1/1 (frame 776/3688) /home/hatsu/coding/CapProj/TestSeg_1/video_input/fight_6.mp4: 384x640 2 Fighters, 20.5ms\n",
      "video 1/1 (frame 777/3688) /home/hatsu/coding/CapProj/TestSeg_1/video_input/fight_6.mp4: 384x640 1 Fighter, 18.1ms\n",
      "video 1/1 (frame 778/3688) /home/hatsu/coding/CapProj/TestSeg_1/video_input/fight_6.mp4: 384x640 1 Fighter, 19.4ms\n",
      "video 1/1 (frame 779/3688) /home/hatsu/coding/CapProj/TestSeg_1/video_input/fight_6.mp4: 384x640 1 Fighter, 14.4ms\n",
      "video 1/1 (frame 780/3688) /home/hatsu/coding/CapProj/TestSeg_1/video_input/fight_6.mp4: 384x640 1 Fighter, 12.8ms\n",
      "video 1/1 (frame 781/3688) /home/hatsu/coding/CapProj/TestSeg_1/video_input/fight_6.mp4: 384x640 1 Fighter, 12.7ms\n",
      "video 1/1 (frame 782/3688) /home/hatsu/coding/CapProj/TestSeg_1/video_input/fight_6.mp4: 384x640 1 Fighter, 14.9ms\n",
      "video 1/1 (frame 783/3688) /home/hatsu/coding/CapProj/TestSeg_1/video_input/fight_6.mp4: 384x640 1 Fighter, 15.6ms\n",
      "video 1/1 (frame 784/3688) /home/hatsu/coding/CapProj/TestSeg_1/video_input/fight_6.mp4: 384x640 1 Fighter, 18.2ms\n",
      "video 1/1 (frame 785/3688) /home/hatsu/coding/CapProj/TestSeg_1/video_input/fight_6.mp4: 384x640 1 Fighter, 18.9ms\n",
      "video 1/1 (frame 786/3688) /home/hatsu/coding/CapProj/TestSeg_1/video_input/fight_6.mp4: 384x640 1 Fighter, 15.9ms\n",
      "video 1/1 (frame 787/3688) /home/hatsu/coding/CapProj/TestSeg_1/video_input/fight_6.mp4: 384x640 1 Fighter, 12.7ms\n",
      "video 1/1 (frame 788/3688) /home/hatsu/coding/CapProj/TestSeg_1/video_input/fight_6.mp4: 384x640 1 Fighter, 12.5ms\n",
      "video 1/1 (frame 789/3688) /home/hatsu/coding/CapProj/TestSeg_1/video_input/fight_6.mp4: 384x640 1 Fighter, 16.3ms\n",
      "video 1/1 (frame 790/3688) /home/hatsu/coding/CapProj/TestSeg_1/video_input/fight_6.mp4: 384x640 1 Fighter, 13.7ms\n",
      "video 1/1 (frame 791/3688) /home/hatsu/coding/CapProj/TestSeg_1/video_input/fight_6.mp4: 384x640 1 Fighter, 22.1ms\n",
      "video 1/1 (frame 792/3688) /home/hatsu/coding/CapProj/TestSeg_1/video_input/fight_6.mp4: 384x640 1 Fighter, 22.8ms\n",
      "video 1/1 (frame 793/3688) /home/hatsu/coding/CapProj/TestSeg_1/video_input/fight_6.mp4: 384x640 1 Fighter, 14.8ms\n",
      "video 1/1 (frame 794/3688) /home/hatsu/coding/CapProj/TestSeg_1/video_input/fight_6.mp4: 384x640 1 Fighter, 13.0ms\n",
      "video 1/1 (frame 795/3688) /home/hatsu/coding/CapProj/TestSeg_1/video_input/fight_6.mp4: 384x640 1 Fighter, 39.8ms\n",
      "video 1/1 (frame 796/3688) /home/hatsu/coding/CapProj/TestSeg_1/video_input/fight_6.mp4: 384x640 1 Fighter, 13.4ms\n",
      "video 1/1 (frame 797/3688) /home/hatsu/coding/CapProj/TestSeg_1/video_input/fight_6.mp4: 384x640 1 Fighter, 13.1ms\n",
      "video 1/1 (frame 798/3688) /home/hatsu/coding/CapProj/TestSeg_1/video_input/fight_6.mp4: 384x640 1 Fighter, 13.0ms\n",
      "video 1/1 (frame 799/3688) /home/hatsu/coding/CapProj/TestSeg_1/video_input/fight_6.mp4: 384x640 1 Fighter, 16.5ms\n",
      "video 1/1 (frame 800/3688) /home/hatsu/coding/CapProj/TestSeg_1/video_input/fight_6.mp4: 384x640 1 Fighter, 12.6ms\n",
      "video 1/1 (frame 801/3688) /home/hatsu/coding/CapProj/TestSeg_1/video_input/fight_6.mp4: 384x640 1 Fighter, 13.5ms\n",
      "video 1/1 (frame 802/3688) /home/hatsu/coding/CapProj/TestSeg_1/video_input/fight_6.mp4: 384x640 1 Fighter, 13.7ms\n",
      "video 1/1 (frame 803/3688) /home/hatsu/coding/CapProj/TestSeg_1/video_input/fight_6.mp4: 384x640 1 Fighter, 13.8ms\n",
      "video 1/1 (frame 804/3688) /home/hatsu/coding/CapProj/TestSeg_1/video_input/fight_6.mp4: 384x640 1 Fighter, 12.7ms\n",
      "video 1/1 (frame 805/3688) /home/hatsu/coding/CapProj/TestSeg_1/video_input/fight_6.mp4: 384x640 1 Fighter, 16.0ms\n",
      "video 1/1 (frame 806/3688) /home/hatsu/coding/CapProj/TestSeg_1/video_input/fight_6.mp4: 384x640 1 Fighter, 13.7ms\n",
      "video 1/1 (frame 807/3688) /home/hatsu/coding/CapProj/TestSeg_1/video_input/fight_6.mp4: 384x640 1 Fighter, 14.0ms\n",
      "video 1/1 (frame 808/3688) /home/hatsu/coding/CapProj/TestSeg_1/video_input/fight_6.mp4: 384x640 1 Fighter, 13.1ms\n",
      "video 1/1 (frame 809/3688) /home/hatsu/coding/CapProj/TestSeg_1/video_input/fight_6.mp4: 384x640 1 Fighter, 34.7ms\n",
      "video 1/1 (frame 810/3688) /home/hatsu/coding/CapProj/TestSeg_1/video_input/fight_6.mp4: 384x640 1 Fighter, 12.7ms\n",
      "video 1/1 (frame 811/3688) /home/hatsu/coding/CapProj/TestSeg_1/video_input/fight_6.mp4: 384x640 1 Fighter, 14.8ms\n",
      "video 1/1 (frame 812/3688) /home/hatsu/coding/CapProj/TestSeg_1/video_input/fight_6.mp4: 384x640 2 Fighters, 12.7ms\n",
      "video 1/1 (frame 813/3688) /home/hatsu/coding/CapProj/TestSeg_1/video_input/fight_6.mp4: 384x640 1 Fighter, 13.5ms\n",
      "video 1/1 (frame 814/3688) /home/hatsu/coding/CapProj/TestSeg_1/video_input/fight_6.mp4: 384x640 1 Fighter, 16.6ms\n",
      "video 1/1 (frame 815/3688) /home/hatsu/coding/CapProj/TestSeg_1/video_input/fight_6.mp4: 384x640 1 Fighter, 13.3ms\n",
      "video 1/1 (frame 816/3688) /home/hatsu/coding/CapProj/TestSeg_1/video_input/fight_6.mp4: 384x640 2 Fighters, 12.6ms\n",
      "video 1/1 (frame 817/3688) /home/hatsu/coding/CapProj/TestSeg_1/video_input/fight_6.mp4: 384x640 1 Fighter, 12.8ms\n",
      "video 1/1 (frame 818/3688) /home/hatsu/coding/CapProj/TestSeg_1/video_input/fight_6.mp4: 384x640 1 Fighter, 15.5ms\n",
      "video 1/1 (frame 819/3688) /home/hatsu/coding/CapProj/TestSeg_1/video_input/fight_6.mp4: 384x640 1 Fighter, 13.3ms\n",
      "video 1/1 (frame 820/3688) /home/hatsu/coding/CapProj/TestSeg_1/video_input/fight_6.mp4: 384x640 1 Fighter, 12.6ms\n",
      "video 1/1 (frame 821/3688) /home/hatsu/coding/CapProj/TestSeg_1/video_input/fight_6.mp4: 384x640 1 Fighter, 14.3ms\n",
      "video 1/1 (frame 822/3688) /home/hatsu/coding/CapProj/TestSeg_1/video_input/fight_6.mp4: 384x640 1 Fighter, 13.1ms\n",
      "video 1/1 (frame 823/3688) /home/hatsu/coding/CapProj/TestSeg_1/video_input/fight_6.mp4: 384x640 1 Fighter, 12.3ms\n",
      "video 1/1 (frame 824/3688) /home/hatsu/coding/CapProj/TestSeg_1/video_input/fight_6.mp4: 384x640 1 Fighter, 14.0ms\n",
      "video 1/1 (frame 825/3688) /home/hatsu/coding/CapProj/TestSeg_1/video_input/fight_6.mp4: 384x640 1 Fighter, 12.1ms\n",
      "video 1/1 (frame 826/3688) /home/hatsu/coding/CapProj/TestSeg_1/video_input/fight_6.mp4: 384x640 1 Fighter, 17.6ms\n",
      "video 1/1 (frame 827/3688) /home/hatsu/coding/CapProj/TestSeg_1/video_input/fight_6.mp4: 384x640 1 Fighter, 13.6ms\n",
      "video 1/1 (frame 828/3688) /home/hatsu/coding/CapProj/TestSeg_1/video_input/fight_6.mp4: 384x640 1 Fighter, 12.7ms\n",
      "video 1/1 (frame 829/3688) /home/hatsu/coding/CapProj/TestSeg_1/video_input/fight_6.mp4: 384x640 1 Fighter, 12.3ms\n",
      "video 1/1 (frame 830/3688) /home/hatsu/coding/CapProj/TestSeg_1/video_input/fight_6.mp4: 384x640 1 Fighter, 13.2ms\n",
      "video 1/1 (frame 831/3688) /home/hatsu/coding/CapProj/TestSeg_1/video_input/fight_6.mp4: 384x640 1 Fighter, 41.6ms\n",
      "video 1/1 (frame 832/3688) /home/hatsu/coding/CapProj/TestSeg_1/video_input/fight_6.mp4: 384x640 1 Fighter, 19.4ms\n",
      "video 1/1 (frame 833/3688) /home/hatsu/coding/CapProj/TestSeg_1/video_input/fight_6.mp4: 384x640 1 Fighter, 12.4ms\n",
      "video 1/1 (frame 834/3688) /home/hatsu/coding/CapProj/TestSeg_1/video_input/fight_6.mp4: 384x640 1 Fighter, 13.3ms\n",
      "video 1/1 (frame 835/3688) /home/hatsu/coding/CapProj/TestSeg_1/video_input/fight_6.mp4: 384x640 1 Fighter, 13.5ms\n",
      "video 1/1 (frame 836/3688) /home/hatsu/coding/CapProj/TestSeg_1/video_input/fight_6.mp4: 384x640 1 Fighter, 13.8ms\n",
      "video 1/1 (frame 837/3688) /home/hatsu/coding/CapProj/TestSeg_1/video_input/fight_6.mp4: 384x640 1 Fighter, 12.3ms\n",
      "video 1/1 (frame 838/3688) /home/hatsu/coding/CapProj/TestSeg_1/video_input/fight_6.mp4: 384x640 1 Fighter, 13.5ms\n",
      "video 1/1 (frame 839/3688) /home/hatsu/coding/CapProj/TestSeg_1/video_input/fight_6.mp4: 384x640 1 Fighter, 13.2ms\n",
      "video 1/1 (frame 840/3688) /home/hatsu/coding/CapProj/TestSeg_1/video_input/fight_6.mp4: 384x640 2 Fighters, 14.7ms\n",
      "video 1/1 (frame 841/3688) /home/hatsu/coding/CapProj/TestSeg_1/video_input/fight_6.mp4: 384x640 1 Fighter, 12.2ms\n",
      "video 1/1 (frame 842/3688) /home/hatsu/coding/CapProj/TestSeg_1/video_input/fight_6.mp4: 384x640 1 Fighter, 14.7ms\n",
      "video 1/1 (frame 843/3688) /home/hatsu/coding/CapProj/TestSeg_1/video_input/fight_6.mp4: 384x640 1 Fighter, 16.1ms\n",
      "video 1/1 (frame 844/3688) /home/hatsu/coding/CapProj/TestSeg_1/video_input/fight_6.mp4: 384x640 1 Fighter, 31.7ms\n",
      "video 1/1 (frame 845/3688) /home/hatsu/coding/CapProj/TestSeg_1/video_input/fight_6.mp4: 384x640 1 Fighter, 13.9ms\n",
      "video 1/1 (frame 846/3688) /home/hatsu/coding/CapProj/TestSeg_1/video_input/fight_6.mp4: 384x640 1 Fighter, 12.7ms\n",
      "video 1/1 (frame 847/3688) /home/hatsu/coding/CapProj/TestSeg_1/video_input/fight_6.mp4: 384x640 1 Fighter, 12.8ms\n",
      "video 1/1 (frame 848/3688) /home/hatsu/coding/CapProj/TestSeg_1/video_input/fight_6.mp4: 384x640 1 Fighter, 13.9ms\n",
      "video 1/1 (frame 849/3688) /home/hatsu/coding/CapProj/TestSeg_1/video_input/fight_6.mp4: 384x640 1 Fighter, 15.9ms\n",
      "video 1/1 (frame 850/3688) /home/hatsu/coding/CapProj/TestSeg_1/video_input/fight_6.mp4: 384x640 1 Fighter, 21.4ms\n",
      "video 1/1 (frame 851/3688) /home/hatsu/coding/CapProj/TestSeg_1/video_input/fight_6.mp4: 384x640 1 Fighter, 47.0ms\n",
      "video 1/1 (frame 852/3688) /home/hatsu/coding/CapProj/TestSeg_1/video_input/fight_6.mp4: 384x640 1 Fighter, 17.6ms\n",
      "video 1/1 (frame 853/3688) /home/hatsu/coding/CapProj/TestSeg_1/video_input/fight_6.mp4: 384x640 1 Fighter, 15.9ms\n",
      "video 1/1 (frame 854/3688) /home/hatsu/coding/CapProj/TestSeg_1/video_input/fight_6.mp4: 384x640 1 Fighter, 18.0ms\n",
      "video 1/1 (frame 855/3688) /home/hatsu/coding/CapProj/TestSeg_1/video_input/fight_6.mp4: 384x640 1 Fighter, 14.6ms\n",
      "video 1/1 (frame 856/3688) /home/hatsu/coding/CapProj/TestSeg_1/video_input/fight_6.mp4: 384x640 1 Fighter, 20.2ms\n",
      "video 1/1 (frame 857/3688) /home/hatsu/coding/CapProj/TestSeg_1/video_input/fight_6.mp4: 384x640 1 Fighter, 14.6ms\n",
      "video 1/1 (frame 858/3688) /home/hatsu/coding/CapProj/TestSeg_1/video_input/fight_6.mp4: 384x640 1 Fighter, 34.5ms\n",
      "video 1/1 (frame 859/3688) /home/hatsu/coding/CapProj/TestSeg_1/video_input/fight_6.mp4: 384x640 1 Fighter, 24.1ms\n",
      "video 1/1 (frame 860/3688) /home/hatsu/coding/CapProj/TestSeg_1/video_input/fight_6.mp4: 384x640 1 Fighter, 22.7ms\n",
      "video 1/1 (frame 861/3688) /home/hatsu/coding/CapProj/TestSeg_1/video_input/fight_6.mp4: 384x640 1 Fighter, 20.7ms\n",
      "video 1/1 (frame 862/3688) /home/hatsu/coding/CapProj/TestSeg_1/video_input/fight_6.mp4: 384x640 1 Fighter, 16.9ms\n",
      "video 1/1 (frame 863/3688) /home/hatsu/coding/CapProj/TestSeg_1/video_input/fight_6.mp4: 384x640 1 Fighter, 14.2ms\n",
      "video 1/1 (frame 864/3688) /home/hatsu/coding/CapProj/TestSeg_1/video_input/fight_6.mp4: 384x640 1 Fighter, 15.2ms\n",
      "video 1/1 (frame 865/3688) /home/hatsu/coding/CapProj/TestSeg_1/video_input/fight_6.mp4: 384x640 1 Fighter, 14.0ms\n",
      "video 1/1 (frame 866/3688) /home/hatsu/coding/CapProj/TestSeg_1/video_input/fight_6.mp4: 384x640 1 Fighter, 16.3ms\n",
      "video 1/1 (frame 867/3688) /home/hatsu/coding/CapProj/TestSeg_1/video_input/fight_6.mp4: 384x640 1 Fighter, 32.4ms\n",
      "video 1/1 (frame 868/3688) /home/hatsu/coding/CapProj/TestSeg_1/video_input/fight_6.mp4: 384x640 1 Fighter, 14.6ms\n",
      "video 1/1 (frame 869/3688) /home/hatsu/coding/CapProj/TestSeg_1/video_input/fight_6.mp4: 384x640 1 Fighter, 13.6ms\n",
      "video 1/1 (frame 870/3688) /home/hatsu/coding/CapProj/TestSeg_1/video_input/fight_6.mp4: 384x640 1 Fighter, 14.3ms\n",
      "video 1/1 (frame 871/3688) /home/hatsu/coding/CapProj/TestSeg_1/video_input/fight_6.mp4: 384x640 1 Fighter, 13.8ms\n",
      "video 1/1 (frame 872/3688) /home/hatsu/coding/CapProj/TestSeg_1/video_input/fight_6.mp4: 384x640 1 Fighter, 13.0ms\n",
      "video 1/1 (frame 873/3688) /home/hatsu/coding/CapProj/TestSeg_1/video_input/fight_6.mp4: 384x640 1 Fighter, 14.7ms\n",
      "video 1/1 (frame 874/3688) /home/hatsu/coding/CapProj/TestSeg_1/video_input/fight_6.mp4: 384x640 1 Fighter, 15.3ms\n",
      "video 1/1 (frame 875/3688) /home/hatsu/coding/CapProj/TestSeg_1/video_input/fight_6.mp4: 384x640 1 Fighter, 39.2ms\n",
      "video 1/1 (frame 876/3688) /home/hatsu/coding/CapProj/TestSeg_1/video_input/fight_6.mp4: 384x640 1 Fighter, 46.8ms\n",
      "video 1/1 (frame 877/3688) /home/hatsu/coding/CapProj/TestSeg_1/video_input/fight_6.mp4: 384x640 1 Fighter, 13.5ms\n",
      "video 1/1 (frame 878/3688) /home/hatsu/coding/CapProj/TestSeg_1/video_input/fight_6.mp4: 384x640 1 Fighter, 13.2ms\n",
      "video 1/1 (frame 879/3688) /home/hatsu/coding/CapProj/TestSeg_1/video_input/fight_6.mp4: 384x640 1 Fighter, 13.4ms\n",
      "video 1/1 (frame 880/3688) /home/hatsu/coding/CapProj/TestSeg_1/video_input/fight_6.mp4: 384x640 1 Fighter, 12.9ms\n",
      "video 1/1 (frame 881/3688) /home/hatsu/coding/CapProj/TestSeg_1/video_input/fight_6.mp4: 384x640 1 Fighter, 15.0ms\n",
      "video 1/1 (frame 882/3688) /home/hatsu/coding/CapProj/TestSeg_1/video_input/fight_6.mp4: 384x640 1 Fighter, 12.0ms\n",
      "video 1/1 (frame 883/3688) /home/hatsu/coding/CapProj/TestSeg_1/video_input/fight_6.mp4: 384x640 1 Fighter, 13.6ms\n",
      "video 1/1 (frame 884/3688) /home/hatsu/coding/CapProj/TestSeg_1/video_input/fight_6.mp4: 384x640 1 Fighter, 13.5ms\n",
      "video 1/1 (frame 885/3688) /home/hatsu/coding/CapProj/TestSeg_1/video_input/fight_6.mp4: 384x640 1 Fighter, 13.8ms\n",
      "video 1/1 (frame 886/3688) /home/hatsu/coding/CapProj/TestSeg_1/video_input/fight_6.mp4: 384x640 1 Fighter, 13.3ms\n",
      "video 1/1 (frame 887/3688) /home/hatsu/coding/CapProj/TestSeg_1/video_input/fight_6.mp4: 384x640 1 Fighter, 12.4ms\n",
      "video 1/1 (frame 888/3688) /home/hatsu/coding/CapProj/TestSeg_1/video_input/fight_6.mp4: 384x640 1 Fighter, 18.5ms\n",
      "video 1/1 (frame 889/3688) /home/hatsu/coding/CapProj/TestSeg_1/video_input/fight_6.mp4: 384x640 1 Fighter, 13.3ms\n",
      "video 1/1 (frame 890/3688) /home/hatsu/coding/CapProj/TestSeg_1/video_input/fight_6.mp4: 384x640 1 Fighter, 13.5ms\n",
      "video 1/1 (frame 891/3688) /home/hatsu/coding/CapProj/TestSeg_1/video_input/fight_6.mp4: 384x640 1 Fighter, 12.5ms\n",
      "video 1/1 (frame 892/3688) /home/hatsu/coding/CapProj/TestSeg_1/video_input/fight_6.mp4: 384x640 1 Fighter, 13.9ms\n",
      "video 1/1 (frame 893/3688) /home/hatsu/coding/CapProj/TestSeg_1/video_input/fight_6.mp4: 384x640 (no detections), 14.6ms\n",
      "video 1/1 (frame 894/3688) /home/hatsu/coding/CapProj/TestSeg_1/video_input/fight_6.mp4: 384x640 1 Fighter, 12.9ms\n",
      "video 1/1 (frame 895/3688) /home/hatsu/coding/CapProj/TestSeg_1/video_input/fight_6.mp4: 384x640 1 Fighter, 15.8ms\n",
      "video 1/1 (frame 896/3688) /home/hatsu/coding/CapProj/TestSeg_1/video_input/fight_6.mp4: 384x640 1 Fighter, 13.3ms\n",
      "video 1/1 (frame 897/3688) /home/hatsu/coding/CapProj/TestSeg_1/video_input/fight_6.mp4: 384x640 1 Fighter, 13.7ms\n",
      "video 1/1 (frame 898/3688) /home/hatsu/coding/CapProj/TestSeg_1/video_input/fight_6.mp4: 384x640 1 Fighter, 14.2ms\n",
      "video 1/1 (frame 899/3688) /home/hatsu/coding/CapProj/TestSeg_1/video_input/fight_6.mp4: 384x640 2 Fighters, 13.6ms\n",
      "video 1/1 (frame 900/3688) /home/hatsu/coding/CapProj/TestSeg_1/video_input/fight_6.mp4: 384x640 2 Fighters, 17.3ms\n",
      "video 1/1 (frame 901/3688) /home/hatsu/coding/CapProj/TestSeg_1/video_input/fight_6.mp4: 384x640 2 Fighters, 13.2ms\n",
      "video 1/1 (frame 902/3688) /home/hatsu/coding/CapProj/TestSeg_1/video_input/fight_6.mp4: 384x640 2 Fighters, 16.2ms\n",
      "video 1/1 (frame 903/3688) /home/hatsu/coding/CapProj/TestSeg_1/video_input/fight_6.mp4: 384x640 2 Fighters, 31.0ms\n",
      "video 1/1 (frame 904/3688) /home/hatsu/coding/CapProj/TestSeg_1/video_input/fight_6.mp4: 384x640 2 Fighters, 17.5ms\n",
      "video 1/1 (frame 905/3688) /home/hatsu/coding/CapProj/TestSeg_1/video_input/fight_6.mp4: 384x640 2 Fighters, 19.7ms\n",
      "video 1/1 (frame 906/3688) /home/hatsu/coding/CapProj/TestSeg_1/video_input/fight_6.mp4: 384x640 2 Fighters, 15.1ms\n",
      "video 1/1 (frame 907/3688) /home/hatsu/coding/CapProj/TestSeg_1/video_input/fight_6.mp4: 384x640 2 Fighters, 21.2ms\n",
      "video 1/1 (frame 908/3688) /home/hatsu/coding/CapProj/TestSeg_1/video_input/fight_6.mp4: 384x640 2 Fighters, 20.8ms\n",
      "video 1/1 (frame 909/3688) /home/hatsu/coding/CapProj/TestSeg_1/video_input/fight_6.mp4: 384x640 3 Fighters, 12.7ms\n",
      "video 1/1 (frame 910/3688) /home/hatsu/coding/CapProj/TestSeg_1/video_input/fight_6.mp4: 384x640 3 Fighters, 14.6ms\n",
      "video 1/1 (frame 911/3688) /home/hatsu/coding/CapProj/TestSeg_1/video_input/fight_6.mp4: 384x640 2 Fighters, 13.5ms\n",
      "video 1/1 (frame 912/3688) /home/hatsu/coding/CapProj/TestSeg_1/video_input/fight_6.mp4: 384x640 2 Fighters, 13.8ms\n",
      "video 1/1 (frame 913/3688) /home/hatsu/coding/CapProj/TestSeg_1/video_input/fight_6.mp4: 384x640 2 Fighters, 17.3ms\n",
      "video 1/1 (frame 914/3688) /home/hatsu/coding/CapProj/TestSeg_1/video_input/fight_6.mp4: 384x640 2 Fighters, 15.6ms\n",
      "video 1/1 (frame 915/3688) /home/hatsu/coding/CapProj/TestSeg_1/video_input/fight_6.mp4: 384x640 2 Fighters, 12.2ms\n",
      "video 1/1 (frame 916/3688) /home/hatsu/coding/CapProj/TestSeg_1/video_input/fight_6.mp4: 384x640 2 Fighters, 12.6ms\n",
      "video 1/1 (frame 917/3688) /home/hatsu/coding/CapProj/TestSeg_1/video_input/fight_6.mp4: 384x640 2 Fighters, 14.3ms\n",
      "video 1/1 (frame 918/3688) /home/hatsu/coding/CapProj/TestSeg_1/video_input/fight_6.mp4: 384x640 2 Fighters, 15.6ms\n",
      "video 1/1 (frame 919/3688) /home/hatsu/coding/CapProj/TestSeg_1/video_input/fight_6.mp4: 384x640 2 Fighters, 16.3ms\n",
      "video 1/1 (frame 920/3688) /home/hatsu/coding/CapProj/TestSeg_1/video_input/fight_6.mp4: 384x640 2 Fighters, 14.5ms\n",
      "video 1/1 (frame 921/3688) /home/hatsu/coding/CapProj/TestSeg_1/video_input/fight_6.mp4: 384x640 2 Fighters, 13.7ms\n",
      "video 1/1 (frame 922/3688) /home/hatsu/coding/CapProj/TestSeg_1/video_input/fight_6.mp4: 384x640 2 Fighters, 22.4ms\n",
      "video 1/1 (frame 923/3688) /home/hatsu/coding/CapProj/TestSeg_1/video_input/fight_6.mp4: 384x640 2 Fighters, 43.8ms\n",
      "video 1/1 (frame 924/3688) /home/hatsu/coding/CapProj/TestSeg_1/video_input/fight_6.mp4: 384x640 2 Fighters, 12.9ms\n",
      "video 1/1 (frame 925/3688) /home/hatsu/coding/CapProj/TestSeg_1/video_input/fight_6.mp4: 384x640 2 Fighters, 13.2ms\n",
      "video 1/1 (frame 926/3688) /home/hatsu/coding/CapProj/TestSeg_1/video_input/fight_6.mp4: 384x640 1 Fighter, 13.0ms\n",
      "video 1/1 (frame 927/3688) /home/hatsu/coding/CapProj/TestSeg_1/video_input/fight_6.mp4: 384x640 2 Fighters, 12.0ms\n",
      "video 1/1 (frame 928/3688) /home/hatsu/coding/CapProj/TestSeg_1/video_input/fight_6.mp4: 384x640 2 Fighters, 32.1ms\n",
      "video 1/1 (frame 929/3688) /home/hatsu/coding/CapProj/TestSeg_1/video_input/fight_6.mp4: 384x640 2 Fighters, 14.5ms\n",
      "video 1/1 (frame 930/3688) /home/hatsu/coding/CapProj/TestSeg_1/video_input/fight_6.mp4: 384x640 2 Fighters, 12.3ms\n",
      "video 1/1 (frame 931/3688) /home/hatsu/coding/CapProj/TestSeg_1/video_input/fight_6.mp4: 384x640 2 Fighters, 13.2ms\n",
      "video 1/1 (frame 932/3688) /home/hatsu/coding/CapProj/TestSeg_1/video_input/fight_6.mp4: 384x640 3 Fighters, 17.9ms\n",
      "video 1/1 (frame 933/3688) /home/hatsu/coding/CapProj/TestSeg_1/video_input/fight_6.mp4: 384x640 2 Fighters, 30.6ms\n",
      "video 1/1 (frame 934/3688) /home/hatsu/coding/CapProj/TestSeg_1/video_input/fight_6.mp4: 384x640 3 Fighters, 26.6ms\n",
      "video 1/1 (frame 935/3688) /home/hatsu/coding/CapProj/TestSeg_1/video_input/fight_6.mp4: 384x640 4 Fighters, 21.2ms\n",
      "video 1/1 (frame 936/3688) /home/hatsu/coding/CapProj/TestSeg_1/video_input/fight_6.mp4: 384x640 3 Fighters, 23.2ms\n",
      "video 1/1 (frame 937/3688) /home/hatsu/coding/CapProj/TestSeg_1/video_input/fight_6.mp4: 384x640 3 Fighters, 21.4ms\n",
      "video 1/1 (frame 938/3688) /home/hatsu/coding/CapProj/TestSeg_1/video_input/fight_6.mp4: 384x640 2 Fighters, 16.0ms\n",
      "video 1/1 (frame 939/3688) /home/hatsu/coding/CapProj/TestSeg_1/video_input/fight_6.mp4: 384x640 2 Fighters, 22.4ms\n",
      "video 1/1 (frame 940/3688) /home/hatsu/coding/CapProj/TestSeg_1/video_input/fight_6.mp4: 384x640 2 Fighters, 15.2ms\n",
      "video 1/1 (frame 941/3688) /home/hatsu/coding/CapProj/TestSeg_1/video_input/fight_6.mp4: 384x640 2 Fighters, 13.4ms\n",
      "video 1/1 (frame 942/3688) /home/hatsu/coding/CapProj/TestSeg_1/video_input/fight_6.mp4: 384x640 2 Fighters, 14.6ms\n",
      "video 1/1 (frame 943/3688) /home/hatsu/coding/CapProj/TestSeg_1/video_input/fight_6.mp4: 384x640 2 Fighters, 12.3ms\n",
      "video 1/1 (frame 944/3688) /home/hatsu/coding/CapProj/TestSeg_1/video_input/fight_6.mp4: 384x640 2 Fighters, 20.6ms\n",
      "video 1/1 (frame 945/3688) /home/hatsu/coding/CapProj/TestSeg_1/video_input/fight_6.mp4: 384x640 2 Fighters, 13.6ms\n",
      "video 1/1 (frame 946/3688) /home/hatsu/coding/CapProj/TestSeg_1/video_input/fight_6.mp4: 384x640 2 Fighters, 16.7ms\n",
      "video 1/1 (frame 947/3688) /home/hatsu/coding/CapProj/TestSeg_1/video_input/fight_6.mp4: 384x640 3 Fighters, 19.2ms\n",
      "video 1/1 (frame 948/3688) /home/hatsu/coding/CapProj/TestSeg_1/video_input/fight_6.mp4: 384x640 2 Fighters, 16.7ms\n",
      "video 1/1 (frame 949/3688) /home/hatsu/coding/CapProj/TestSeg_1/video_input/fight_6.mp4: 384x640 2 Fighters, 13.4ms\n",
      "video 1/1 (frame 950/3688) /home/hatsu/coding/CapProj/TestSeg_1/video_input/fight_6.mp4: 384x640 2 Fighters, 41.0ms\n",
      "video 1/1 (frame 951/3688) /home/hatsu/coding/CapProj/TestSeg_1/video_input/fight_6.mp4: 384x640 2 Fighters, 13.7ms\n",
      "video 1/1 (frame 952/3688) /home/hatsu/coding/CapProj/TestSeg_1/video_input/fight_6.mp4: 384x640 2 Fighters, 16.2ms\n",
      "video 1/1 (frame 953/3688) /home/hatsu/coding/CapProj/TestSeg_1/video_input/fight_6.mp4: 384x640 2 Fighters, 20.9ms\n",
      "video 1/1 (frame 954/3688) /home/hatsu/coding/CapProj/TestSeg_1/video_input/fight_6.mp4: 384x640 2 Fighters, 14.6ms\n",
      "video 1/1 (frame 955/3688) /home/hatsu/coding/CapProj/TestSeg_1/video_input/fight_6.mp4: 384x640 4 Fighters, 19.9ms\n",
      "video 1/1 (frame 956/3688) /home/hatsu/coding/CapProj/TestSeg_1/video_input/fight_6.mp4: 384x640 3 Fighters, 12.8ms\n",
      "video 1/1 (frame 957/3688) /home/hatsu/coding/CapProj/TestSeg_1/video_input/fight_6.mp4: 384x640 2 Fighters, 17.4ms\n",
      "video 1/1 (frame 958/3688) /home/hatsu/coding/CapProj/TestSeg_1/video_input/fight_6.mp4: 384x640 2 Fighters, 13.1ms\n",
      "video 1/1 (frame 959/3688) /home/hatsu/coding/CapProj/TestSeg_1/video_input/fight_6.mp4: 384x640 1 Fighter, 19.6ms\n",
      "video 1/1 (frame 960/3688) /home/hatsu/coding/CapProj/TestSeg_1/video_input/fight_6.mp4: 384x640 1 Fighter, 18.6ms\n",
      "video 1/1 (frame 961/3688) /home/hatsu/coding/CapProj/TestSeg_1/video_input/fight_6.mp4: 384x640 2 Fighters, 17.1ms\n",
      "video 1/1 (frame 962/3688) /home/hatsu/coding/CapProj/TestSeg_1/video_input/fight_6.mp4: 384x640 2 Fighters, 18.8ms\n",
      "video 1/1 (frame 963/3688) /home/hatsu/coding/CapProj/TestSeg_1/video_input/fight_6.mp4: 384x640 2 Fighters, 23.5ms\n",
      "video 1/1 (frame 964/3688) /home/hatsu/coding/CapProj/TestSeg_1/video_input/fight_6.mp4: 384x640 2 Fighters, 14.6ms\n",
      "video 1/1 (frame 965/3688) /home/hatsu/coding/CapProj/TestSeg_1/video_input/fight_6.mp4: 384x640 2 Fighters, 20.5ms\n",
      "video 1/1 (frame 966/3688) /home/hatsu/coding/CapProj/TestSeg_1/video_input/fight_6.mp4: 384x640 2 Fighters, 18.0ms\n",
      "video 1/1 (frame 967/3688) /home/hatsu/coding/CapProj/TestSeg_1/video_input/fight_6.mp4: 384x640 2 Fighters, 13.6ms\n",
      "video 1/1 (frame 968/3688) /home/hatsu/coding/CapProj/TestSeg_1/video_input/fight_6.mp4: 384x640 2 Fighters, 13.0ms\n",
      "video 1/1 (frame 969/3688) /home/hatsu/coding/CapProj/TestSeg_1/video_input/fight_6.mp4: 384x640 3 Fighters, 14.5ms\n",
      "video 1/1 (frame 970/3688) /home/hatsu/coding/CapProj/TestSeg_1/video_input/fight_6.mp4: 384x640 3 Fighters, 14.5ms\n",
      "video 1/1 (frame 971/3688) /home/hatsu/coding/CapProj/TestSeg_1/video_input/fight_6.mp4: 384x640 2 Fighters, 17.7ms\n",
      "video 1/1 (frame 972/3688) /home/hatsu/coding/CapProj/TestSeg_1/video_input/fight_6.mp4: 384x640 2 Fighters, 19.7ms\n",
      "video 1/1 (frame 973/3688) /home/hatsu/coding/CapProj/TestSeg_1/video_input/fight_6.mp4: 384x640 2 Fighters, 14.3ms\n",
      "video 1/1 (frame 974/3688) /home/hatsu/coding/CapProj/TestSeg_1/video_input/fight_6.mp4: 384x640 2 Fighters, 14.7ms\n",
      "video 1/1 (frame 975/3688) /home/hatsu/coding/CapProj/TestSeg_1/video_input/fight_6.mp4: 384x640 2 Fighters, 13.9ms\n",
      "video 1/1 (frame 976/3688) /home/hatsu/coding/CapProj/TestSeg_1/video_input/fight_6.mp4: 384x640 2 Fighters, 22.5ms\n",
      "video 1/1 (frame 977/3688) /home/hatsu/coding/CapProj/TestSeg_1/video_input/fight_6.mp4: 384x640 2 Fighters, 15.1ms\n",
      "video 1/1 (frame 978/3688) /home/hatsu/coding/CapProj/TestSeg_1/video_input/fight_6.mp4: 384x640 2 Fighters, 19.8ms\n",
      "video 1/1 (frame 979/3688) /home/hatsu/coding/CapProj/TestSeg_1/video_input/fight_6.mp4: 384x640 2 Fighters, 35.3ms\n",
      "video 1/1 (frame 980/3688) /home/hatsu/coding/CapProj/TestSeg_1/video_input/fight_6.mp4: 384x640 2 Fighters, 18.3ms\n",
      "video 1/1 (frame 981/3688) /home/hatsu/coding/CapProj/TestSeg_1/video_input/fight_6.mp4: 384x640 2 Fighters, 23.1ms\n",
      "video 1/1 (frame 982/3688) /home/hatsu/coding/CapProj/TestSeg_1/video_input/fight_6.mp4: 384x640 2 Fighters, 21.0ms\n",
      "video 1/1 (frame 983/3688) /home/hatsu/coding/CapProj/TestSeg_1/video_input/fight_6.mp4: 384x640 2 Fighters, 20.7ms\n",
      "video 1/1 (frame 984/3688) /home/hatsu/coding/CapProj/TestSeg_1/video_input/fight_6.mp4: 384x640 2 Fighters, 20.3ms\n",
      "video 1/1 (frame 985/3688) /home/hatsu/coding/CapProj/TestSeg_1/video_input/fight_6.mp4: 384x640 1 Fighter, 19.5ms\n",
      "video 1/1 (frame 986/3688) /home/hatsu/coding/CapProj/TestSeg_1/video_input/fight_6.mp4: 384x640 2 Fighters, 18.8ms\n",
      "video 1/1 (frame 987/3688) /home/hatsu/coding/CapProj/TestSeg_1/video_input/fight_6.mp4: 384x640 2 Fighters, 34.3ms\n",
      "video 1/1 (frame 988/3688) /home/hatsu/coding/CapProj/TestSeg_1/video_input/fight_6.mp4: 384x640 3 Fighters, 26.6ms\n",
      "video 1/1 (frame 989/3688) /home/hatsu/coding/CapProj/TestSeg_1/video_input/fight_6.mp4: 384x640 2 Fighters, 12.6ms\n",
      "video 1/1 (frame 990/3688) /home/hatsu/coding/CapProj/TestSeg_1/video_input/fight_6.mp4: 384x640 1 Fighter, 14.4ms\n",
      "video 1/1 (frame 991/3688) /home/hatsu/coding/CapProj/TestSeg_1/video_input/fight_6.mp4: 384x640 2 Fighters, 14.3ms\n",
      "video 1/1 (frame 992/3688) /home/hatsu/coding/CapProj/TestSeg_1/video_input/fight_6.mp4: 384x640 1 Fighter, 24.2ms\n",
      "video 1/1 (frame 993/3688) /home/hatsu/coding/CapProj/TestSeg_1/video_input/fight_6.mp4: 384x640 2 Fighters, 14.2ms\n",
      "video 1/1 (frame 994/3688) /home/hatsu/coding/CapProj/TestSeg_1/video_input/fight_6.mp4: 384x640 2 Fighters, 13.4ms\n",
      "video 1/1 (frame 995/3688) /home/hatsu/coding/CapProj/TestSeg_1/video_input/fight_6.mp4: 384x640 2 Fighters, 12.9ms\n",
      "video 1/1 (frame 996/3688) /home/hatsu/coding/CapProj/TestSeg_1/video_input/fight_6.mp4: 384x640 2 Fighters, 22.1ms\n",
      "video 1/1 (frame 997/3688) /home/hatsu/coding/CapProj/TestSeg_1/video_input/fight_6.mp4: 384x640 3 Fighters, 15.7ms\n",
      "video 1/1 (frame 998/3688) /home/hatsu/coding/CapProj/TestSeg_1/video_input/fight_6.mp4: 384x640 3 Fighters, 12.4ms\n",
      "video 1/1 (frame 999/3688) /home/hatsu/coding/CapProj/TestSeg_1/video_input/fight_6.mp4: 384x640 2 Fighters, 12.4ms\n",
      "video 1/1 (frame 1000/3688) /home/hatsu/coding/CapProj/TestSeg_1/video_input/fight_6.mp4: 384x640 2 Fighters, 13.8ms\n",
      "video 1/1 (frame 1001/3688) /home/hatsu/coding/CapProj/TestSeg_1/video_input/fight_6.mp4: 384x640 2 Fighters, 16.7ms\n",
      "video 1/1 (frame 1002/3688) /home/hatsu/coding/CapProj/TestSeg_1/video_input/fight_6.mp4: 384x640 3 Fighters, 13.2ms\n",
      "video 1/1 (frame 1003/3688) /home/hatsu/coding/CapProj/TestSeg_1/video_input/fight_6.mp4: 384x640 2 Fighters, 19.1ms\n",
      "video 1/1 (frame 1004/3688) /home/hatsu/coding/CapProj/TestSeg_1/video_input/fight_6.mp4: 384x640 2 Fighters, 13.4ms\n",
      "video 1/1 (frame 1005/3688) /home/hatsu/coding/CapProj/TestSeg_1/video_input/fight_6.mp4: 384x640 2 Fighters, 13.0ms\n",
      "video 1/1 (frame 1006/3688) /home/hatsu/coding/CapProj/TestSeg_1/video_input/fight_6.mp4: 384x640 2 Fighters, 14.1ms\n",
      "video 1/1 (frame 1007/3688) /home/hatsu/coding/CapProj/TestSeg_1/video_input/fight_6.mp4: 384x640 1 Fighter, 15.3ms\n",
      "video 1/1 (frame 1008/3688) /home/hatsu/coding/CapProj/TestSeg_1/video_input/fight_6.mp4: 384x640 2 Fighters, 12.0ms\n",
      "video 1/1 (frame 1009/3688) /home/hatsu/coding/CapProj/TestSeg_1/video_input/fight_6.mp4: 384x640 2 Fighters, 12.3ms\n",
      "video 1/1 (frame 1010/3688) /home/hatsu/coding/CapProj/TestSeg_1/video_input/fight_6.mp4: 384x640 2 Fighters, 12.3ms\n",
      "video 1/1 (frame 1011/3688) /home/hatsu/coding/CapProj/TestSeg_1/video_input/fight_6.mp4: 384x640 2 Fighters, 13.2ms\n",
      "video 1/1 (frame 1012/3688) /home/hatsu/coding/CapProj/TestSeg_1/video_input/fight_6.mp4: 384x640 2 Fighters, 14.0ms\n",
      "video 1/1 (frame 1013/3688) /home/hatsu/coding/CapProj/TestSeg_1/video_input/fight_6.mp4: 384x640 1 Fighter, 15.2ms\n",
      "video 1/1 (frame 1014/3688) /home/hatsu/coding/CapProj/TestSeg_1/video_input/fight_6.mp4: 384x640 1 Fighter, 13.4ms\n",
      "video 1/1 (frame 1015/3688) /home/hatsu/coding/CapProj/TestSeg_1/video_input/fight_6.mp4: 384x640 2 Fighters, 13.0ms\n",
      "video 1/1 (frame 1016/3688) /home/hatsu/coding/CapProj/TestSeg_1/video_input/fight_6.mp4: 384x640 2 Fighters, 12.8ms\n",
      "video 1/1 (frame 1017/3688) /home/hatsu/coding/CapProj/TestSeg_1/video_input/fight_6.mp4: 384x640 2 Fighters, 12.8ms\n",
      "video 1/1 (frame 1018/3688) /home/hatsu/coding/CapProj/TestSeg_1/video_input/fight_6.mp4: 384x640 2 Fighters, 29.1ms\n",
      "video 1/1 (frame 1019/3688) /home/hatsu/coding/CapProj/TestSeg_1/video_input/fight_6.mp4: 384x640 2 Fighters, 14.9ms\n",
      "video 1/1 (frame 1020/3688) /home/hatsu/coding/CapProj/TestSeg_1/video_input/fight_6.mp4: 384x640 2 Fighters, 12.6ms\n",
      "video 1/1 (frame 1021/3688) /home/hatsu/coding/CapProj/TestSeg_1/video_input/fight_6.mp4: 384x640 2 Fighters, 12.4ms\n",
      "video 1/1 (frame 1022/3688) /home/hatsu/coding/CapProj/TestSeg_1/video_input/fight_6.mp4: 384x640 2 Fighters, 12.5ms\n",
      "video 1/1 (frame 1023/3688) /home/hatsu/coding/CapProj/TestSeg_1/video_input/fight_6.mp4: 384x640 1 Fighter, 13.4ms\n",
      "video 1/1 (frame 1024/3688) /home/hatsu/coding/CapProj/TestSeg_1/video_input/fight_6.mp4: 384x640 1 Fighter, 13.4ms\n",
      "video 1/1 (frame 1025/3688) /home/hatsu/coding/CapProj/TestSeg_1/video_input/fight_6.mp4: 384x640 1 Fighter, 14.5ms\n",
      "video 1/1 (frame 1026/3688) /home/hatsu/coding/CapProj/TestSeg_1/video_input/fight_6.mp4: 384x640 1 Fighter, 12.2ms\n",
      "video 1/1 (frame 1027/3688) /home/hatsu/coding/CapProj/TestSeg_1/video_input/fight_6.mp4: 384x640 1 Fighter, 12.8ms\n",
      "video 1/1 (frame 1028/3688) /home/hatsu/coding/CapProj/TestSeg_1/video_input/fight_6.mp4: 384x640 1 Fighter, 13.1ms\n",
      "video 1/1 (frame 1029/3688) /home/hatsu/coding/CapProj/TestSeg_1/video_input/fight_6.mp4: 384x640 1 Fighter, 13.0ms\n",
      "video 1/1 (frame 1030/3688) /home/hatsu/coding/CapProj/TestSeg_1/video_input/fight_6.mp4: 384x640 1 Fighter, 12.9ms\n",
      "video 1/1 (frame 1031/3688) /home/hatsu/coding/CapProj/TestSeg_1/video_input/fight_6.mp4: 384x640 2 Fighters, 14.6ms\n",
      "video 1/1 (frame 1032/3688) /home/hatsu/coding/CapProj/TestSeg_1/video_input/fight_6.mp4: 384x640 2 Fighters, 12.9ms\n",
      "video 1/1 (frame 1033/3688) /home/hatsu/coding/CapProj/TestSeg_1/video_input/fight_6.mp4: 384x640 2 Fighters, 13.2ms\n",
      "video 1/1 (frame 1034/3688) /home/hatsu/coding/CapProj/TestSeg_1/video_input/fight_6.mp4: 384x640 2 Fighters, 28.3ms\n",
      "video 1/1 (frame 1035/3688) /home/hatsu/coding/CapProj/TestSeg_1/video_input/fight_6.mp4: 384x640 1 Fighter, 13.8ms\n",
      "video 1/1 (frame 1036/3688) /home/hatsu/coding/CapProj/TestSeg_1/video_input/fight_6.mp4: 384x640 1 Fighter, 14.9ms\n",
      "video 1/1 (frame 1037/3688) /home/hatsu/coding/CapProj/TestSeg_1/video_input/fight_6.mp4: 384x640 1 Fighter, 16.6ms\n",
      "video 1/1 (frame 1038/3688) /home/hatsu/coding/CapProj/TestSeg_1/video_input/fight_6.mp4: 384x640 1 Fighter, 13.4ms\n",
      "video 1/1 (frame 1039/3688) /home/hatsu/coding/CapProj/TestSeg_1/video_input/fight_6.mp4: 384x640 1 Fighter, 22.3ms\n",
      "video 1/1 (frame 1040/3688) /home/hatsu/coding/CapProj/TestSeg_1/video_input/fight_6.mp4: 384x640 1 Fighter, 14.0ms\n",
      "video 1/1 (frame 1041/3688) /home/hatsu/coding/CapProj/TestSeg_1/video_input/fight_6.mp4: 384x640 1 Fighter, 12.8ms\n",
      "video 1/1 (frame 1042/3688) /home/hatsu/coding/CapProj/TestSeg_1/video_input/fight_6.mp4: 384x640 2 Fighters, 14.1ms\n",
      "video 1/1 (frame 1043/3688) /home/hatsu/coding/CapProj/TestSeg_1/video_input/fight_6.mp4: 384x640 2 Fighters, 14.5ms\n",
      "video 1/1 (frame 1044/3688) /home/hatsu/coding/CapProj/TestSeg_1/video_input/fight_6.mp4: 384x640 2 Fighters, 12.7ms\n",
      "video 1/1 (frame 1045/3688) /home/hatsu/coding/CapProj/TestSeg_1/video_input/fight_6.mp4: 384x640 2 Fighters, 12.9ms\n",
      "video 1/1 (frame 1046/3688) /home/hatsu/coding/CapProj/TestSeg_1/video_input/fight_6.mp4: 384x640 1 Fighter, 13.2ms\n",
      "video 1/1 (frame 1047/3688) /home/hatsu/coding/CapProj/TestSeg_1/video_input/fight_6.mp4: 384x640 2 Fighters, 13.8ms\n",
      "video 1/1 (frame 1048/3688) /home/hatsu/coding/CapProj/TestSeg_1/video_input/fight_6.mp4: 384x640 2 Fighters, 12.7ms\n",
      "video 1/1 (frame 1049/3688) /home/hatsu/coding/CapProj/TestSeg_1/video_input/fight_6.mp4: 384x640 2 Fighters, 15.6ms\n",
      "video 1/1 (frame 1050/3688) /home/hatsu/coding/CapProj/TestSeg_1/video_input/fight_6.mp4: 384x640 2 Fighters, 11.6ms\n",
      "video 1/1 (frame 1051/3688) /home/hatsu/coding/CapProj/TestSeg_1/video_input/fight_6.mp4: 384x640 1 Fighter, 13.6ms\n",
      "video 1/1 (frame 1052/3688) /home/hatsu/coding/CapProj/TestSeg_1/video_input/fight_6.mp4: 384x640 1 Fighter, 17.3ms\n",
      "video 1/1 (frame 1053/3688) /home/hatsu/coding/CapProj/TestSeg_1/video_input/fight_6.mp4: 384x640 1 Fighter, 15.8ms\n",
      "video 1/1 (frame 1054/3688) /home/hatsu/coding/CapProj/TestSeg_1/video_input/fight_6.mp4: 384x640 1 Fighter, 19.6ms\n",
      "video 1/1 (frame 1055/3688) /home/hatsu/coding/CapProj/TestSeg_1/video_input/fight_6.mp4: 384x640 1 Fighter, 20.7ms\n",
      "video 1/1 (frame 1056/3688) /home/hatsu/coding/CapProj/TestSeg_1/video_input/fight_6.mp4: 384x640 2 Fighters, 19.0ms\n",
      "video 1/1 (frame 1057/3688) /home/hatsu/coding/CapProj/TestSeg_1/video_input/fight_6.mp4: 384x640 1 Fighter, 17.0ms\n",
      "video 1/1 (frame 1058/3688) /home/hatsu/coding/CapProj/TestSeg_1/video_input/fight_6.mp4: 384x640 1 Fighter, 19.9ms\n",
      "video 1/1 (frame 1059/3688) /home/hatsu/coding/CapProj/TestSeg_1/video_input/fight_6.mp4: 384x640 (no detections), 18.3ms\n",
      "video 1/1 (frame 1060/3688) /home/hatsu/coding/CapProj/TestSeg_1/video_input/fight_6.mp4: 384x640 (no detections), 18.1ms\n",
      "video 1/1 (frame 1061/3688) /home/hatsu/coding/CapProj/TestSeg_1/video_input/fight_6.mp4: 384x640 1 Fighter, 21.9ms\n",
      "video 1/1 (frame 1062/3688) /home/hatsu/coding/CapProj/TestSeg_1/video_input/fight_6.mp4: 384x640 (no detections), 14.4ms\n",
      "video 1/1 (frame 1063/3688) /home/hatsu/coding/CapProj/TestSeg_1/video_input/fight_6.mp4: 384x640 1 Fighter, 22.3ms\n",
      "video 1/1 (frame 1064/3688) /home/hatsu/coding/CapProj/TestSeg_1/video_input/fight_6.mp4: 384x640 1 Fighter, 21.1ms\n",
      "video 1/1 (frame 1065/3688) /home/hatsu/coding/CapProj/TestSeg_1/video_input/fight_6.mp4: 384x640 1 Fighter, 16.2ms\n",
      "video 1/1 (frame 1066/3688) /home/hatsu/coding/CapProj/TestSeg_1/video_input/fight_6.mp4: 384x640 1 Fighter, 18.1ms\n",
      "video 1/1 (frame 1067/3688) /home/hatsu/coding/CapProj/TestSeg_1/video_input/fight_6.mp4: 384x640 1 Fighter, 15.1ms\n",
      "video 1/1 (frame 1068/3688) /home/hatsu/coding/CapProj/TestSeg_1/video_input/fight_6.mp4: 384x640 1 Fighter, 18.6ms\n",
      "video 1/1 (frame 1069/3688) /home/hatsu/coding/CapProj/TestSeg_1/video_input/fight_6.mp4: 384x640 1 Fighter, 17.7ms\n",
      "video 1/1 (frame 1070/3688) /home/hatsu/coding/CapProj/TestSeg_1/video_input/fight_6.mp4: 384x640 2 Fighters, 15.7ms\n",
      "video 1/1 (frame 1071/3688) /home/hatsu/coding/CapProj/TestSeg_1/video_input/fight_6.mp4: 384x640 1 Fighter, 15.6ms\n",
      "video 1/1 (frame 1072/3688) /home/hatsu/coding/CapProj/TestSeg_1/video_input/fight_6.mp4: 384x640 1 Fighter, 13.3ms\n",
      "video 1/1 (frame 1073/3688) /home/hatsu/coding/CapProj/TestSeg_1/video_input/fight_6.mp4: 384x640 (no detections), 14.0ms\n",
      "video 1/1 (frame 1074/3688) /home/hatsu/coding/CapProj/TestSeg_1/video_input/fight_6.mp4: 384x640 1 Fighter, 12.7ms\n",
      "video 1/1 (frame 1075/3688) /home/hatsu/coding/CapProj/TestSeg_1/video_input/fight_6.mp4: 384x640 1 Fighter, 44.4ms\n",
      "video 1/1 (frame 1076/3688) /home/hatsu/coding/CapProj/TestSeg_1/video_input/fight_6.mp4: 384x640 1 Fighter, 12.6ms\n",
      "video 1/1 (frame 1077/3688) /home/hatsu/coding/CapProj/TestSeg_1/video_input/fight_6.mp4: 384x640 2 Fighters, 16.4ms\n",
      "video 1/1 (frame 1078/3688) /home/hatsu/coding/CapProj/TestSeg_1/video_input/fight_6.mp4: 384x640 2 Fighters, 12.6ms\n",
      "video 1/1 (frame 1079/3688) /home/hatsu/coding/CapProj/TestSeg_1/video_input/fight_6.mp4: 384x640 1 Fighter, 12.7ms\n",
      "video 1/1 (frame 1080/3688) /home/hatsu/coding/CapProj/TestSeg_1/video_input/fight_6.mp4: 384x640 1 Fighter, 12.7ms\n",
      "video 1/1 (frame 1081/3688) /home/hatsu/coding/CapProj/TestSeg_1/video_input/fight_6.mp4: 384x640 1 Fighter, 12.6ms\n",
      "video 1/1 (frame 1082/3688) /home/hatsu/coding/CapProj/TestSeg_1/video_input/fight_6.mp4: 384x640 1 Fighter, 14.4ms\n",
      "video 1/1 (frame 1083/3688) /home/hatsu/coding/CapProj/TestSeg_1/video_input/fight_6.mp4: 384x640 2 Fighters, 13.4ms\n",
      "video 1/1 (frame 1084/3688) /home/hatsu/coding/CapProj/TestSeg_1/video_input/fight_6.mp4: 384x640 3 Fighters, 14.2ms\n",
      "video 1/1 (frame 1085/3688) /home/hatsu/coding/CapProj/TestSeg_1/video_input/fight_6.mp4: 384x640 3 Fighters, 15.0ms\n",
      "video 1/1 (frame 1086/3688) /home/hatsu/coding/CapProj/TestSeg_1/video_input/fight_6.mp4: 384x640 3 Fighters, 14.0ms\n",
      "video 1/1 (frame 1087/3688) /home/hatsu/coding/CapProj/TestSeg_1/video_input/fight_6.mp4: 384x640 3 Fighters, 11.6ms\n",
      "video 1/1 (frame 1088/3688) /home/hatsu/coding/CapProj/TestSeg_1/video_input/fight_6.mp4: 384x640 3 Fighters, 12.9ms\n",
      "video 1/1 (frame 1089/3688) /home/hatsu/coding/CapProj/TestSeg_1/video_input/fight_6.mp4: 384x640 3 Fighters, 15.7ms\n",
      "video 1/1 (frame 1090/3688) /home/hatsu/coding/CapProj/TestSeg_1/video_input/fight_6.mp4: 384x640 3 Fighters, 13.5ms\n",
      "video 1/1 (frame 1091/3688) /home/hatsu/coding/CapProj/TestSeg_1/video_input/fight_6.mp4: 384x640 3 Fighters, 16.9ms\n",
      "video 1/1 (frame 1092/3688) /home/hatsu/coding/CapProj/TestSeg_1/video_input/fight_6.mp4: 384x640 2 Fighters, 12.3ms\n",
      "video 1/1 (frame 1093/3688) /home/hatsu/coding/CapProj/TestSeg_1/video_input/fight_6.mp4: 384x640 2 Fighters, 17.2ms\n",
      "video 1/1 (frame 1094/3688) /home/hatsu/coding/CapProj/TestSeg_1/video_input/fight_6.mp4: 384x640 2 Fighters, 14.1ms\n",
      "video 1/1 (frame 1095/3688) /home/hatsu/coding/CapProj/TestSeg_1/video_input/fight_6.mp4: 384x640 2 Fighters, 13.8ms\n",
      "video 1/1 (frame 1096/3688) /home/hatsu/coding/CapProj/TestSeg_1/video_input/fight_6.mp4: 384x640 2 Fighters, 12.4ms\n",
      "video 1/1 (frame 1097/3688) /home/hatsu/coding/CapProj/TestSeg_1/video_input/fight_6.mp4: 384x640 2 Fighters, 13.6ms\n",
      "video 1/1 (frame 1098/3688) /home/hatsu/coding/CapProj/TestSeg_1/video_input/fight_6.mp4: 384x640 2 Fighters, 12.8ms\n",
      "video 1/1 (frame 1099/3688) /home/hatsu/coding/CapProj/TestSeg_1/video_input/fight_6.mp4: 384x640 2 Fighters, 13.7ms\n",
      "video 1/1 (frame 1100/3688) /home/hatsu/coding/CapProj/TestSeg_1/video_input/fight_6.mp4: 384x640 3 Fighters, 13.4ms\n",
      "video 1/1 (frame 1101/3688) /home/hatsu/coding/CapProj/TestSeg_1/video_input/fight_6.mp4: 384x640 3 Fighters, 12.9ms\n",
      "video 1/1 (frame 1102/3688) /home/hatsu/coding/CapProj/TestSeg_1/video_input/fight_6.mp4: 384x640 4 Fighters, 17.6ms\n",
      "video 1/1 (frame 1103/3688) /home/hatsu/coding/CapProj/TestSeg_1/video_input/fight_6.mp4: 384x640 3 Fighters, 15.5ms\n",
      "video 1/1 (frame 1104/3688) /home/hatsu/coding/CapProj/TestSeg_1/video_input/fight_6.mp4: 384x640 3 Fighters, 13.2ms\n",
      "video 1/1 (frame 1105/3688) /home/hatsu/coding/CapProj/TestSeg_1/video_input/fight_6.mp4: 384x640 2 Fighters, 17.7ms\n",
      "video 1/1 (frame 1106/3688) /home/hatsu/coding/CapProj/TestSeg_1/video_input/fight_6.mp4: 384x640 1 Fighter, 18.8ms\n",
      "video 1/1 (frame 1107/3688) /home/hatsu/coding/CapProj/TestSeg_1/video_input/fight_6.mp4: 384x640 2 Fighters, 13.1ms\n",
      "video 1/1 (frame 1108/3688) /home/hatsu/coding/CapProj/TestSeg_1/video_input/fight_6.mp4: 384x640 2 Fighters, 12.8ms\n",
      "video 1/1 (frame 1109/3688) /home/hatsu/coding/CapProj/TestSeg_1/video_input/fight_6.mp4: 384x640 2 Fighters, 18.2ms\n",
      "video 1/1 (frame 1110/3688) /home/hatsu/coding/CapProj/TestSeg_1/video_input/fight_6.mp4: 384x640 2 Fighters, 18.6ms\n",
      "video 1/1 (frame 1111/3688) /home/hatsu/coding/CapProj/TestSeg_1/video_input/fight_6.mp4: 384x640 2 Fighters, 16.1ms\n",
      "video 1/1 (frame 1112/3688) /home/hatsu/coding/CapProj/TestSeg_1/video_input/fight_6.mp4: 384x640 2 Fighters, 17.9ms\n",
      "video 1/1 (frame 1113/3688) /home/hatsu/coding/CapProj/TestSeg_1/video_input/fight_6.mp4: 384x640 3 Fighters, 17.0ms\n",
      "video 1/1 (frame 1114/3688) /home/hatsu/coding/CapProj/TestSeg_1/video_input/fight_6.mp4: 384x640 5 Fighters, 17.3ms\n",
      "video 1/1 (frame 1115/3688) /home/hatsu/coding/CapProj/TestSeg_1/video_input/fight_6.mp4: 384x640 3 Fighters, 18.1ms\n",
      "video 1/1 (frame 1116/3688) /home/hatsu/coding/CapProj/TestSeg_1/video_input/fight_6.mp4: 384x640 3 Fighters, 40.0ms\n",
      "video 1/1 (frame 1117/3688) /home/hatsu/coding/CapProj/TestSeg_1/video_input/fight_6.mp4: 384x640 6 Fighters, 14.8ms\n",
      "video 1/1 (frame 1118/3688) /home/hatsu/coding/CapProj/TestSeg_1/video_input/fight_6.mp4: 384x640 5 Fighters, 17.1ms\n",
      "video 1/1 (frame 1119/3688) /home/hatsu/coding/CapProj/TestSeg_1/video_input/fight_6.mp4: 384x640 3 Fighters, 17.3ms\n",
      "video 1/1 (frame 1120/3688) /home/hatsu/coding/CapProj/TestSeg_1/video_input/fight_6.mp4: 384x640 3 Fighters, 16.9ms\n",
      "video 1/1 (frame 1121/3688) /home/hatsu/coding/CapProj/TestSeg_1/video_input/fight_6.mp4: 384x640 2 Fighters, 15.0ms\n",
      "video 1/1 (frame 1122/3688) /home/hatsu/coding/CapProj/TestSeg_1/video_input/fight_6.mp4: 384x640 2 Fighters, 19.9ms\n",
      "video 1/1 (frame 1123/3688) /home/hatsu/coding/CapProj/TestSeg_1/video_input/fight_6.mp4: 384x640 2 Fighters, 14.8ms\n",
      "video 1/1 (frame 1124/3688) /home/hatsu/coding/CapProj/TestSeg_1/video_input/fight_6.mp4: 384x640 2 Fighters, 14.4ms\n",
      "video 1/1 (frame 1125/3688) /home/hatsu/coding/CapProj/TestSeg_1/video_input/fight_6.mp4: 384x640 2 Fighters, 13.7ms\n",
      "video 1/1 (frame 1126/3688) /home/hatsu/coding/CapProj/TestSeg_1/video_input/fight_6.mp4: 384x640 2 Fighters, 35.1ms\n",
      "video 1/1 (frame 1127/3688) /home/hatsu/coding/CapProj/TestSeg_1/video_input/fight_6.mp4: 384x640 2 Fighters, 17.4ms\n",
      "video 1/1 (frame 1128/3688) /home/hatsu/coding/CapProj/TestSeg_1/video_input/fight_6.mp4: 384x640 2 Fighters, 17.5ms\n",
      "video 1/1 (frame 1129/3688) /home/hatsu/coding/CapProj/TestSeg_1/video_input/fight_6.mp4: 384x640 2 Fighters, 15.2ms\n",
      "video 1/1 (frame 1130/3688) /home/hatsu/coding/CapProj/TestSeg_1/video_input/fight_6.mp4: 384x640 2 Fighters, 19.8ms\n",
      "video 1/1 (frame 1131/3688) /home/hatsu/coding/CapProj/TestSeg_1/video_input/fight_6.mp4: 384x640 2 Fighters, 14.1ms\n",
      "video 1/1 (frame 1132/3688) /home/hatsu/coding/CapProj/TestSeg_1/video_input/fight_6.mp4: 384x640 2 Fighters, 14.2ms\n",
      "video 1/1 (frame 1133/3688) /home/hatsu/coding/CapProj/TestSeg_1/video_input/fight_6.mp4: 384x640 2 Fighters, 15.1ms\n",
      "video 1/1 (frame 1134/3688) /home/hatsu/coding/CapProj/TestSeg_1/video_input/fight_6.mp4: 384x640 2 Fighters, 19.3ms\n",
      "video 1/1 (frame 1135/3688) /home/hatsu/coding/CapProj/TestSeg_1/video_input/fight_6.mp4: 384x640 2 Fighters, 15.8ms\n",
      "video 1/1 (frame 1136/3688) /home/hatsu/coding/CapProj/TestSeg_1/video_input/fight_6.mp4: 384x640 3 Fighters, 12.9ms\n",
      "video 1/1 (frame 1137/3688) /home/hatsu/coding/CapProj/TestSeg_1/video_input/fight_6.mp4: 384x640 3 Fighters, 12.7ms\n",
      "video 1/1 (frame 1138/3688) /home/hatsu/coding/CapProj/TestSeg_1/video_input/fight_6.mp4: 384x640 2 Fighters, 13.2ms\n",
      "video 1/1 (frame 1139/3688) /home/hatsu/coding/CapProj/TestSeg_1/video_input/fight_6.mp4: 384x640 2 Fighters, 12.9ms\n",
      "video 1/1 (frame 1140/3688) /home/hatsu/coding/CapProj/TestSeg_1/video_input/fight_6.mp4: 384x640 2 Fighters, 16.4ms\n",
      "video 1/1 (frame 1141/3688) /home/hatsu/coding/CapProj/TestSeg_1/video_input/fight_6.mp4: 384x640 3 Fighters, 12.3ms\n",
      "video 1/1 (frame 1142/3688) /home/hatsu/coding/CapProj/TestSeg_1/video_input/fight_6.mp4: 384x640 3 Fighters, 12.6ms\n",
      "video 1/1 (frame 1143/3688) /home/hatsu/coding/CapProj/TestSeg_1/video_input/fight_6.mp4: 384x640 2 Fighters, 12.6ms\n",
      "video 1/1 (frame 1144/3688) /home/hatsu/coding/CapProj/TestSeg_1/video_input/fight_6.mp4: 384x640 2 Fighters, 13.7ms\n",
      "video 1/1 (frame 1145/3688) /home/hatsu/coding/CapProj/TestSeg_1/video_input/fight_6.mp4: 384x640 2 Fighters, 13.8ms\n",
      "video 1/1 (frame 1146/3688) /home/hatsu/coding/CapProj/TestSeg_1/video_input/fight_6.mp4: 384x640 2 Fighters, 13.2ms\n",
      "video 1/1 (frame 1147/3688) /home/hatsu/coding/CapProj/TestSeg_1/video_input/fight_6.mp4: 384x640 2 Fighters, 17.4ms\n",
      "video 1/1 (frame 1148/3688) /home/hatsu/coding/CapProj/TestSeg_1/video_input/fight_6.mp4: 384x640 2 Fighters, 13.8ms\n",
      "video 1/1 (frame 1149/3688) /home/hatsu/coding/CapProj/TestSeg_1/video_input/fight_6.mp4: 384x640 2 Fighters, 12.7ms\n",
      "video 1/1 (frame 1150/3688) /home/hatsu/coding/CapProj/TestSeg_1/video_input/fight_6.mp4: 384x640 2 Fighters, 13.4ms\n",
      "video 1/1 (frame 1151/3688) /home/hatsu/coding/CapProj/TestSeg_1/video_input/fight_6.mp4: 384x640 2 Fighters, 12.7ms\n",
      "video 1/1 (frame 1152/3688) /home/hatsu/coding/CapProj/TestSeg_1/video_input/fight_6.mp4: 384x640 2 Fighters, 12.3ms\n",
      "video 1/1 (frame 1153/3688) /home/hatsu/coding/CapProj/TestSeg_1/video_input/fight_6.mp4: 384x640 2 Fighters, 12.3ms\n",
      "video 1/1 (frame 1154/3688) /home/hatsu/coding/CapProj/TestSeg_1/video_input/fight_6.mp4: 384x640 2 Fighters, 15.2ms\n",
      "video 1/1 (frame 1155/3688) /home/hatsu/coding/CapProj/TestSeg_1/video_input/fight_6.mp4: 384x640 2 Fighters, 13.2ms\n",
      "video 1/1 (frame 1156/3688) /home/hatsu/coding/CapProj/TestSeg_1/video_input/fight_6.mp4: 384x640 2 Fighters, 14.0ms\n",
      "video 1/1 (frame 1157/3688) /home/hatsu/coding/CapProj/TestSeg_1/video_input/fight_6.mp4: 384x640 1 Fighter, 12.4ms\n",
      "video 1/1 (frame 1158/3688) /home/hatsu/coding/CapProj/TestSeg_1/video_input/fight_6.mp4: 384x640 1 Fighter, 13.7ms\n",
      "video 1/1 (frame 1159/3688) /home/hatsu/coding/CapProj/TestSeg_1/video_input/fight_6.mp4: 384x640 1 Fighter, 12.5ms\n",
      "video 1/1 (frame 1160/3688) /home/hatsu/coding/CapProj/TestSeg_1/video_input/fight_6.mp4: 384x640 1 Fighter, 20.4ms\n",
      "video 1/1 (frame 1161/3688) /home/hatsu/coding/CapProj/TestSeg_1/video_input/fight_6.mp4: 384x640 1 Fighter, 13.4ms\n",
      "video 1/1 (frame 1162/3688) /home/hatsu/coding/CapProj/TestSeg_1/video_input/fight_6.mp4: 384x640 1 Fighter, 13.6ms\n",
      "video 1/1 (frame 1163/3688) /home/hatsu/coding/CapProj/TestSeg_1/video_input/fight_6.mp4: 384x640 1 Fighter, 13.3ms\n",
      "video 1/1 (frame 1164/3688) /home/hatsu/coding/CapProj/TestSeg_1/video_input/fight_6.mp4: 384x640 1 Fighter, 12.9ms\n",
      "video 1/1 (frame 1165/3688) /home/hatsu/coding/CapProj/TestSeg_1/video_input/fight_6.mp4: 384x640 1 Fighter, 13.2ms\n",
      "video 1/1 (frame 1166/3688) /home/hatsu/coding/CapProj/TestSeg_1/video_input/fight_6.mp4: 384x640 2 Fighters, 13.5ms\n",
      "video 1/1 (frame 1167/3688) /home/hatsu/coding/CapProj/TestSeg_1/video_input/fight_6.mp4: 384x640 1 Fighter, 12.3ms\n",
      "video 1/1 (frame 1168/3688) /home/hatsu/coding/CapProj/TestSeg_1/video_input/fight_6.mp4: 384x640 1 Fighter, 14.1ms\n",
      "video 1/1 (frame 1169/3688) /home/hatsu/coding/CapProj/TestSeg_1/video_input/fight_6.mp4: 384x640 1 Fighter, 14.8ms\n",
      "video 1/1 (frame 1170/3688) /home/hatsu/coding/CapProj/TestSeg_1/video_input/fight_6.mp4: 384x640 1 Fighter, 13.4ms\n",
      "video 1/1 (frame 1171/3688) /home/hatsu/coding/CapProj/TestSeg_1/video_input/fight_6.mp4: 384x640 1 Fighter, 13.1ms\n",
      "video 1/1 (frame 1172/3688) /home/hatsu/coding/CapProj/TestSeg_1/video_input/fight_6.mp4: 384x640 2 Fighters, 13.2ms\n",
      "video 1/1 (frame 1173/3688) /home/hatsu/coding/CapProj/TestSeg_1/video_input/fight_6.mp4: 384x640 1 Fighter, 17.0ms\n",
      "video 1/1 (frame 1174/3688) /home/hatsu/coding/CapProj/TestSeg_1/video_input/fight_6.mp4: 384x640 1 Fighter, 13.6ms\n",
      "video 1/1 (frame 1175/3688) /home/hatsu/coding/CapProj/TestSeg_1/video_input/fight_6.mp4: 384x640 2 Fighters, 13.8ms\n",
      "video 1/1 (frame 1176/3688) /home/hatsu/coding/CapProj/TestSeg_1/video_input/fight_6.mp4: 384x640 1 Fighter, 12.6ms\n",
      "video 1/1 (frame 1177/3688) /home/hatsu/coding/CapProj/TestSeg_1/video_input/fight_6.mp4: 384x640 1 Fighter, 13.8ms\n",
      "video 1/1 (frame 1178/3688) /home/hatsu/coding/CapProj/TestSeg_1/video_input/fight_6.mp4: 384x640 1 Fighter, 14.6ms\n",
      "video 1/1 (frame 1179/3688) /home/hatsu/coding/CapProj/TestSeg_1/video_input/fight_6.mp4: 384x640 1 Fighter, 13.0ms\n",
      "video 1/1 (frame 1180/3688) /home/hatsu/coding/CapProj/TestSeg_1/video_input/fight_6.mp4: 384x640 1 Fighter, 13.0ms\n",
      "video 1/1 (frame 1181/3688) /home/hatsu/coding/CapProj/TestSeg_1/video_input/fight_6.mp4: 384x640 1 Fighter, 14.7ms\n",
      "video 1/1 (frame 1182/3688) /home/hatsu/coding/CapProj/TestSeg_1/video_input/fight_6.mp4: 384x640 1 Fighter, 33.8ms\n",
      "video 1/1 (frame 1183/3688) /home/hatsu/coding/CapProj/TestSeg_1/video_input/fight_6.mp4: 384x640 1 Fighter, 13.4ms\n",
      "video 1/1 (frame 1184/3688) /home/hatsu/coding/CapProj/TestSeg_1/video_input/fight_6.mp4: 384x640 1 Fighter, 14.3ms\n",
      "video 1/1 (frame 1185/3688) /home/hatsu/coding/CapProj/TestSeg_1/video_input/fight_6.mp4: 384x640 1 Fighter, 12.6ms\n",
      "video 1/1 (frame 1186/3688) /home/hatsu/coding/CapProj/TestSeg_1/video_input/fight_6.mp4: 384x640 1 Fighter, 12.9ms\n",
      "video 1/1 (frame 1187/3688) /home/hatsu/coding/CapProj/TestSeg_1/video_input/fight_6.mp4: 384x640 2 Fighters, 21.3ms\n",
      "video 1/1 (frame 1188/3688) /home/hatsu/coding/CapProj/TestSeg_1/video_input/fight_6.mp4: 384x640 1 Fighter, 14.4ms\n",
      "video 1/1 (frame 1189/3688) /home/hatsu/coding/CapProj/TestSeg_1/video_input/fight_6.mp4: 384x640 1 Fighter, 12.9ms\n",
      "video 1/1 (frame 1190/3688) /home/hatsu/coding/CapProj/TestSeg_1/video_input/fight_6.mp4: 384x640 1 Fighter, 16.5ms\n",
      "video 1/1 (frame 1191/3688) /home/hatsu/coding/CapProj/TestSeg_1/video_input/fight_6.mp4: 384x640 2 Fighters, 16.1ms\n",
      "video 1/1 (frame 1192/3688) /home/hatsu/coding/CapProj/TestSeg_1/video_input/fight_6.mp4: 384x640 2 Fighters, 14.2ms\n",
      "video 1/1 (frame 1193/3688) /home/hatsu/coding/CapProj/TestSeg_1/video_input/fight_6.mp4: 384x640 1 Fighter, 12.5ms\n",
      "video 1/1 (frame 1194/3688) /home/hatsu/coding/CapProj/TestSeg_1/video_input/fight_6.mp4: 384x640 2 Fighters, 14.8ms\n",
      "video 1/1 (frame 1195/3688) /home/hatsu/coding/CapProj/TestSeg_1/video_input/fight_6.mp4: 384x640 1 Fighter, 12.9ms\n",
      "video 1/1 (frame 1196/3688) /home/hatsu/coding/CapProj/TestSeg_1/video_input/fight_6.mp4: 384x640 1 Fighter, 12.4ms\n",
      "video 1/1 (frame 1197/3688) /home/hatsu/coding/CapProj/TestSeg_1/video_input/fight_6.mp4: 384x640 1 Fighter, 12.6ms\n",
      "video 1/1 (frame 1198/3688) /home/hatsu/coding/CapProj/TestSeg_1/video_input/fight_6.mp4: 384x640 1 Fighter, 22.7ms\n",
      "video 1/1 (frame 1199/3688) /home/hatsu/coding/CapProj/TestSeg_1/video_input/fight_6.mp4: 384x640 1 Fighter, 19.4ms\n",
      "video 1/1 (frame 1200/3688) /home/hatsu/coding/CapProj/TestSeg_1/video_input/fight_6.mp4: 384x640 1 Fighter, 20.5ms\n",
      "video 1/1 (frame 1201/3688) /home/hatsu/coding/CapProj/TestSeg_1/video_input/fight_6.mp4: 384x640 1 Fighter, 17.3ms\n",
      "video 1/1 (frame 1202/3688) /home/hatsu/coding/CapProj/TestSeg_1/video_input/fight_6.mp4: 384x640 1 Fighter, 23.2ms\n",
      "video 1/1 (frame 1203/3688) /home/hatsu/coding/CapProj/TestSeg_1/video_input/fight_6.mp4: 384x640 1 Fighter, 16.0ms\n",
      "video 1/1 (frame 1204/3688) /home/hatsu/coding/CapProj/TestSeg_1/video_input/fight_6.mp4: 384x640 1 Fighter, 21.0ms\n",
      "video 1/1 (frame 1205/3688) /home/hatsu/coding/CapProj/TestSeg_1/video_input/fight_6.mp4: 384x640 1 Fighter, 20.7ms\n",
      "video 1/1 (frame 1206/3688) /home/hatsu/coding/CapProj/TestSeg_1/video_input/fight_6.mp4: 384x640 2 Fighters, 25.5ms\n",
      "video 1/1 (frame 1207/3688) /home/hatsu/coding/CapProj/TestSeg_1/video_input/fight_6.mp4: 384x640 1 Fighter, 18.0ms\n",
      "video 1/1 (frame 1208/3688) /home/hatsu/coding/CapProj/TestSeg_1/video_input/fight_6.mp4: 384x640 1 Fighter, 20.6ms\n",
      "video 1/1 (frame 1209/3688) /home/hatsu/coding/CapProj/TestSeg_1/video_input/fight_6.mp4: 384x640 1 Fighter, 17.7ms\n",
      "video 1/1 (frame 1210/3688) /home/hatsu/coding/CapProj/TestSeg_1/video_input/fight_6.mp4: 384x640 1 Fighter, 20.3ms\n",
      "video 1/1 (frame 1211/3688) /home/hatsu/coding/CapProj/TestSeg_1/video_input/fight_6.mp4: 384x640 2 Fighters, 16.2ms\n",
      "video 1/1 (frame 1212/3688) /home/hatsu/coding/CapProj/TestSeg_1/video_input/fight_6.mp4: 384x640 2 Fighters, 18.9ms\n",
      "video 1/1 (frame 1213/3688) /home/hatsu/coding/CapProj/TestSeg_1/video_input/fight_6.mp4: 384x640 1 Fighter, 19.8ms\n",
      "video 1/1 (frame 1214/3688) /home/hatsu/coding/CapProj/TestSeg_1/video_input/fight_6.mp4: 384x640 2 Fighters, 17.6ms\n",
      "video 1/1 (frame 1215/3688) /home/hatsu/coding/CapProj/TestSeg_1/video_input/fight_6.mp4: 384x640 2 Fighters, 15.5ms\n",
      "video 1/1 (frame 1216/3688) /home/hatsu/coding/CapProj/TestSeg_1/video_input/fight_6.mp4: 384x640 2 Fighters, 15.9ms\n",
      "video 1/1 (frame 1217/3688) /home/hatsu/coding/CapProj/TestSeg_1/video_input/fight_6.mp4: 384x640 1 Fighter, 15.2ms\n",
      "video 1/1 (frame 1218/3688) /home/hatsu/coding/CapProj/TestSeg_1/video_input/fight_6.mp4: 384x640 2 Fighters, 13.0ms\n",
      "video 1/1 (frame 1219/3688) /home/hatsu/coding/CapProj/TestSeg_1/video_input/fight_6.mp4: 384x640 1 Fighter, 14.2ms\n",
      "video 1/1 (frame 1220/3688) /home/hatsu/coding/CapProj/TestSeg_1/video_input/fight_6.mp4: 384x640 1 Fighter, 14.9ms\n",
      "video 1/1 (frame 1221/3688) /home/hatsu/coding/CapProj/TestSeg_1/video_input/fight_6.mp4: 384x640 2 Fighters, 13.1ms\n",
      "video 1/1 (frame 1222/3688) /home/hatsu/coding/CapProj/TestSeg_1/video_input/fight_6.mp4: 384x640 2 Fighters, 12.5ms\n",
      "video 1/1 (frame 1223/3688) /home/hatsu/coding/CapProj/TestSeg_1/video_input/fight_6.mp4: 384x640 1 Fighter, 15.4ms\n",
      "video 1/1 (frame 1224/3688) /home/hatsu/coding/CapProj/TestSeg_1/video_input/fight_6.mp4: 384x640 1 Fighter, 12.7ms\n",
      "video 1/1 (frame 1225/3688) /home/hatsu/coding/CapProj/TestSeg_1/video_input/fight_6.mp4: 384x640 (no detections), 14.2ms\n",
      "video 1/1 (frame 1226/3688) /home/hatsu/coding/CapProj/TestSeg_1/video_input/fight_6.mp4: 384x640 1 Fighter, 19.2ms\n",
      "video 1/1 (frame 1227/3688) /home/hatsu/coding/CapProj/TestSeg_1/video_input/fight_6.mp4: 384x640 1 Fighter, 13.3ms\n",
      "video 1/1 (frame 1228/3688) /home/hatsu/coding/CapProj/TestSeg_1/video_input/fight_6.mp4: 384x640 1 Fighter, 15.0ms\n",
      "video 1/1 (frame 1229/3688) /home/hatsu/coding/CapProj/TestSeg_1/video_input/fight_6.mp4: 384x640 1 Fighter, 22.7ms\n",
      "video 1/1 (frame 1230/3688) /home/hatsu/coding/CapProj/TestSeg_1/video_input/fight_6.mp4: 384x640 1 Fighter, 22.9ms\n",
      "video 1/1 (frame 1231/3688) /home/hatsu/coding/CapProj/TestSeg_1/video_input/fight_6.mp4: 384x640 1 Fighter, 12.0ms\n",
      "video 1/1 (frame 1232/3688) /home/hatsu/coding/CapProj/TestSeg_1/video_input/fight_6.mp4: 384x640 1 Fighter, 12.9ms\n",
      "video 1/1 (frame 1233/3688) /home/hatsu/coding/CapProj/TestSeg_1/video_input/fight_6.mp4: 384x640 2 Fighters, 13.3ms\n",
      "video 1/1 (frame 1234/3688) /home/hatsu/coding/CapProj/TestSeg_1/video_input/fight_6.mp4: 384x640 2 Fighters, 12.7ms\n",
      "video 1/1 (frame 1235/3688) /home/hatsu/coding/CapProj/TestSeg_1/video_input/fight_6.mp4: 384x640 1 Fighter, 12.4ms\n",
      "video 1/1 (frame 1236/3688) /home/hatsu/coding/CapProj/TestSeg_1/video_input/fight_6.mp4: 384x640 1 Fighter, 12.5ms\n",
      "video 1/1 (frame 1237/3688) /home/hatsu/coding/CapProj/TestSeg_1/video_input/fight_6.mp4: 384x640 2 Fighters, 13.0ms\n",
      "video 1/1 (frame 1238/3688) /home/hatsu/coding/CapProj/TestSeg_1/video_input/fight_6.mp4: 384x640 2 Fighters, 36.7ms\n",
      "video 1/1 (frame 1239/3688) /home/hatsu/coding/CapProj/TestSeg_1/video_input/fight_6.mp4: 384x640 2 Fighters, 12.8ms\n",
      "video 1/1 (frame 1240/3688) /home/hatsu/coding/CapProj/TestSeg_1/video_input/fight_6.mp4: 384x640 2 Fighters, 12.1ms\n",
      "video 1/1 (frame 1241/3688) /home/hatsu/coding/CapProj/TestSeg_1/video_input/fight_6.mp4: 384x640 2 Fighters, 17.0ms\n",
      "video 1/1 (frame 1242/3688) /home/hatsu/coding/CapProj/TestSeg_1/video_input/fight_6.mp4: 384x640 1 Fighter, 31.6ms\n",
      "video 1/1 (frame 1243/3688) /home/hatsu/coding/CapProj/TestSeg_1/video_input/fight_6.mp4: 384x640 1 Fighter, 13.1ms\n",
      "video 1/1 (frame 1244/3688) /home/hatsu/coding/CapProj/TestSeg_1/video_input/fight_6.mp4: 384x640 1 Fighter, 13.6ms\n",
      "video 1/1 (frame 1245/3688) /home/hatsu/coding/CapProj/TestSeg_1/video_input/fight_6.mp4: 384x640 1 Fighter, 16.3ms\n",
      "video 1/1 (frame 1246/3688) /home/hatsu/coding/CapProj/TestSeg_1/video_input/fight_6.mp4: 384x640 2 Fighters, 12.2ms\n",
      "video 1/1 (frame 1247/3688) /home/hatsu/coding/CapProj/TestSeg_1/video_input/fight_6.mp4: 384x640 2 Fighters, 12.7ms\n",
      "video 1/1 (frame 1248/3688) /home/hatsu/coding/CapProj/TestSeg_1/video_input/fight_6.mp4: 384x640 1 Fighter, 13.4ms\n",
      "video 1/1 (frame 1249/3688) /home/hatsu/coding/CapProj/TestSeg_1/video_input/fight_6.mp4: 384x640 1 Fighter, 15.0ms\n",
      "video 1/1 (frame 1250/3688) /home/hatsu/coding/CapProj/TestSeg_1/video_input/fight_6.mp4: 384x640 1 Fighter, 18.0ms\n",
      "video 1/1 (frame 1251/3688) /home/hatsu/coding/CapProj/TestSeg_1/video_input/fight_6.mp4: 384x640 1 Fighter, 14.4ms\n",
      "video 1/1 (frame 1252/3688) /home/hatsu/coding/CapProj/TestSeg_1/video_input/fight_6.mp4: 384x640 1 Fighter, 15.6ms\n",
      "video 1/1 (frame 1253/3688) /home/hatsu/coding/CapProj/TestSeg_1/video_input/fight_6.mp4: 384x640 1 Fighter, 18.9ms\n",
      "video 1/1 (frame 1254/3688) /home/hatsu/coding/CapProj/TestSeg_1/video_input/fight_6.mp4: 384x640 2 Fighters, 18.0ms\n",
      "video 1/1 (frame 1255/3688) /home/hatsu/coding/CapProj/TestSeg_1/video_input/fight_6.mp4: 384x640 1 Fighter, 21.6ms\n",
      "video 1/1 (frame 1256/3688) /home/hatsu/coding/CapProj/TestSeg_1/video_input/fight_6.mp4: 384x640 1 Fighter, 16.4ms\n",
      "video 1/1 (frame 1257/3688) /home/hatsu/coding/CapProj/TestSeg_1/video_input/fight_6.mp4: 384x640 1 Fighter, 17.6ms\n",
      "video 1/1 (frame 1258/3688) /home/hatsu/coding/CapProj/TestSeg_1/video_input/fight_6.mp4: 384x640 1 Fighter, 18.7ms\n",
      "video 1/1 (frame 1259/3688) /home/hatsu/coding/CapProj/TestSeg_1/video_input/fight_6.mp4: 384x640 1 Fighter, 17.8ms\n",
      "video 1/1 (frame 1260/3688) /home/hatsu/coding/CapProj/TestSeg_1/video_input/fight_6.mp4: 384x640 1 Fighter, 16.7ms\n",
      "video 1/1 (frame 1261/3688) /home/hatsu/coding/CapProj/TestSeg_1/video_input/fight_6.mp4: 384x640 1 Fighter, 19.4ms\n",
      "video 1/1 (frame 1262/3688) /home/hatsu/coding/CapProj/TestSeg_1/video_input/fight_6.mp4: 384x640 1 Fighter, 36.4ms\n",
      "video 1/1 (frame 1263/3688) /home/hatsu/coding/CapProj/TestSeg_1/video_input/fight_6.mp4: 384x640 1 Fighter, 14.9ms\n",
      "video 1/1 (frame 1264/3688) /home/hatsu/coding/CapProj/TestSeg_1/video_input/fight_6.mp4: 384x640 1 Fighter, 21.4ms\n",
      "video 1/1 (frame 1265/3688) /home/hatsu/coding/CapProj/TestSeg_1/video_input/fight_6.mp4: 384x640 1 Fighter, 34.4ms\n",
      "video 1/1 (frame 1266/3688) /home/hatsu/coding/CapProj/TestSeg_1/video_input/fight_6.mp4: 384x640 1 Fighter, 29.8ms\n",
      "video 1/1 (frame 1267/3688) /home/hatsu/coding/CapProj/TestSeg_1/video_input/fight_6.mp4: 384x640 1 Fighter, 14.4ms\n",
      "video 1/1 (frame 1268/3688) /home/hatsu/coding/CapProj/TestSeg_1/video_input/fight_6.mp4: 384x640 1 Fighter, 19.5ms\n",
      "video 1/1 (frame 1269/3688) /home/hatsu/coding/CapProj/TestSeg_1/video_input/fight_6.mp4: 384x640 1 Fighter, 14.2ms\n",
      "video 1/1 (frame 1270/3688) /home/hatsu/coding/CapProj/TestSeg_1/video_input/fight_6.mp4: 384x640 1 Fighter, 20.5ms\n",
      "video 1/1 (frame 1271/3688) /home/hatsu/coding/CapProj/TestSeg_1/video_input/fight_6.mp4: 384x640 1 Fighter, 14.1ms\n",
      "video 1/1 (frame 1272/3688) /home/hatsu/coding/CapProj/TestSeg_1/video_input/fight_6.mp4: 384x640 1 Fighter, 20.1ms\n",
      "video 1/1 (frame 1273/3688) /home/hatsu/coding/CapProj/TestSeg_1/video_input/fight_6.mp4: 384x640 1 Fighter, 15.3ms\n",
      "video 1/1 (frame 1274/3688) /home/hatsu/coding/CapProj/TestSeg_1/video_input/fight_6.mp4: 384x640 1 Fighter, 19.2ms\n",
      "video 1/1 (frame 1275/3688) /home/hatsu/coding/CapProj/TestSeg_1/video_input/fight_6.mp4: 384x640 1 Fighter, 18.6ms\n",
      "video 1/1 (frame 1276/3688) /home/hatsu/coding/CapProj/TestSeg_1/video_input/fight_6.mp4: 384x640 1 Fighter, 19.6ms\n",
      "video 1/1 (frame 1277/3688) /home/hatsu/coding/CapProj/TestSeg_1/video_input/fight_6.mp4: 384x640 1 Fighter, 14.4ms\n",
      "video 1/1 (frame 1278/3688) /home/hatsu/coding/CapProj/TestSeg_1/video_input/fight_6.mp4: 384x640 2 Fighters, 12.4ms\n",
      "video 1/1 (frame 1279/3688) /home/hatsu/coding/CapProj/TestSeg_1/video_input/fight_6.mp4: 384x640 3 Fighters, 13.3ms\n",
      "video 1/1 (frame 1280/3688) /home/hatsu/coding/CapProj/TestSeg_1/video_input/fight_6.mp4: 384x640 3 Fighters, 31.1ms\n",
      "video 1/1 (frame 1281/3688) /home/hatsu/coding/CapProj/TestSeg_1/video_input/fight_6.mp4: 384x640 4 Fighters, 14.9ms\n",
      "video 1/1 (frame 1282/3688) /home/hatsu/coding/CapProj/TestSeg_1/video_input/fight_6.mp4: 384x640 4 Fighters, 12.7ms\n",
      "video 1/1 (frame 1283/3688) /home/hatsu/coding/CapProj/TestSeg_1/video_input/fight_6.mp4: 384x640 4 Fighters, 13.4ms\n",
      "video 1/1 (frame 1284/3688) /home/hatsu/coding/CapProj/TestSeg_1/video_input/fight_6.mp4: 384x640 2 Fighters, 12.7ms\n",
      "video 1/1 (frame 1285/3688) /home/hatsu/coding/CapProj/TestSeg_1/video_input/fight_6.mp4: 384x640 3 Fighters, 13.1ms\n",
      "video 1/1 (frame 1286/3688) /home/hatsu/coding/CapProj/TestSeg_1/video_input/fight_6.mp4: 384x640 2 Fighters, 12.5ms\n",
      "video 1/1 (frame 1287/3688) /home/hatsu/coding/CapProj/TestSeg_1/video_input/fight_6.mp4: 384x640 1 Fighter, 12.4ms\n",
      "video 1/1 (frame 1288/3688) /home/hatsu/coding/CapProj/TestSeg_1/video_input/fight_6.mp4: 384x640 1 Fighter, 17.4ms\n",
      "video 1/1 (frame 1289/3688) /home/hatsu/coding/CapProj/TestSeg_1/video_input/fight_6.mp4: 384x640 1 Fighter, 13.4ms\n",
      "video 1/1 (frame 1290/3688) /home/hatsu/coding/CapProj/TestSeg_1/video_input/fight_6.mp4: 384x640 1 Fighter, 12.3ms\n",
      "video 1/1 (frame 1291/3688) /home/hatsu/coding/CapProj/TestSeg_1/video_input/fight_6.mp4: 384x640 1 Fighter, 12.9ms\n",
      "video 1/1 (frame 1292/3688) /home/hatsu/coding/CapProj/TestSeg_1/video_input/fight_6.mp4: 384x640 1 Fighter, 19.0ms\n",
      "video 1/1 (frame 1293/3688) /home/hatsu/coding/CapProj/TestSeg_1/video_input/fight_6.mp4: 384x640 1 Fighter, 13.6ms\n",
      "video 1/1 (frame 1294/3688) /home/hatsu/coding/CapProj/TestSeg_1/video_input/fight_6.mp4: 384x640 2 Fighters, 13.4ms\n",
      "video 1/1 (frame 1295/3688) /home/hatsu/coding/CapProj/TestSeg_1/video_input/fight_6.mp4: 384x640 1 Fighter, 19.3ms\n",
      "video 1/1 (frame 1296/3688) /home/hatsu/coding/CapProj/TestSeg_1/video_input/fight_6.mp4: 384x640 2 Fighters, 17.9ms\n",
      "video 1/1 (frame 1297/3688) /home/hatsu/coding/CapProj/TestSeg_1/video_input/fight_6.mp4: 384x640 3 Fighters, 12.7ms\n",
      "video 1/1 (frame 1298/3688) /home/hatsu/coding/CapProj/TestSeg_1/video_input/fight_6.mp4: 384x640 1 Fighter, 12.5ms\n",
      "video 1/1 (frame 1299/3688) /home/hatsu/coding/CapProj/TestSeg_1/video_input/fight_6.mp4: 384x640 2 Fighters, 18.9ms\n",
      "video 1/1 (frame 1300/3688) /home/hatsu/coding/CapProj/TestSeg_1/video_input/fight_6.mp4: 384x640 2 Fighters, 19.5ms\n",
      "video 1/1 (frame 1301/3688) /home/hatsu/coding/CapProj/TestSeg_1/video_input/fight_6.mp4: 384x640 2 Fighters, 12.9ms\n",
      "video 1/1 (frame 1302/3688) /home/hatsu/coding/CapProj/TestSeg_1/video_input/fight_6.mp4: 384x640 1 Fighter, 12.2ms\n",
      "video 1/1 (frame 1303/3688) /home/hatsu/coding/CapProj/TestSeg_1/video_input/fight_6.mp4: 384x640 (no detections), 12.2ms\n",
      "video 1/1 (frame 1304/3688) /home/hatsu/coding/CapProj/TestSeg_1/video_input/fight_6.mp4: 384x640 (no detections), 12.6ms\n",
      "video 1/1 (frame 1305/3688) /home/hatsu/coding/CapProj/TestSeg_1/video_input/fight_6.mp4: 384x640 (no detections), 12.2ms\n",
      "video 1/1 (frame 1306/3688) /home/hatsu/coding/CapProj/TestSeg_1/video_input/fight_6.mp4: 384x640 1 Fighter, 14.5ms\n",
      "video 1/1 (frame 1307/3688) /home/hatsu/coding/CapProj/TestSeg_1/video_input/fight_6.mp4: 384x640 2 Fighters, 19.3ms\n",
      "video 1/1 (frame 1308/3688) /home/hatsu/coding/CapProj/TestSeg_1/video_input/fight_6.mp4: 384x640 2 Fighters, 12.7ms\n",
      "video 1/1 (frame 1309/3688) /home/hatsu/coding/CapProj/TestSeg_1/video_input/fight_6.mp4: 384x640 1 Fighter, 12.8ms\n",
      "video 1/1 (frame 1310/3688) /home/hatsu/coding/CapProj/TestSeg_1/video_input/fight_6.mp4: 384x640 1 Fighter, 14.5ms\n",
      "video 1/1 (frame 1311/3688) /home/hatsu/coding/CapProj/TestSeg_1/video_input/fight_6.mp4: 384x640 5 Fighters, 17.8ms\n",
      "video 1/1 (frame 1312/3688) /home/hatsu/coding/CapProj/TestSeg_1/video_input/fight_6.mp4: 384x640 1 Fighter, 12.5ms\n",
      "video 1/1 (frame 1313/3688) /home/hatsu/coding/CapProj/TestSeg_1/video_input/fight_6.mp4: 384x640 (no detections), 13.7ms\n",
      "video 1/1 (frame 1314/3688) /home/hatsu/coding/CapProj/TestSeg_1/video_input/fight_6.mp4: 384x640 1 Fighter, 13.2ms\n",
      "video 1/1 (frame 1315/3688) /home/hatsu/coding/CapProj/TestSeg_1/video_input/fight_6.mp4: 384x640 3 Fighters, 12.4ms\n",
      "video 1/1 (frame 1316/3688) /home/hatsu/coding/CapProj/TestSeg_1/video_input/fight_6.mp4: 384x640 1 Fighter, 13.8ms\n",
      "video 1/1 (frame 1317/3688) /home/hatsu/coding/CapProj/TestSeg_1/video_input/fight_6.mp4: 384x640 (no detections), 14.1ms\n",
      "video 1/1 (frame 1318/3688) /home/hatsu/coding/CapProj/TestSeg_1/video_input/fight_6.mp4: 384x640 1 Fighter, 23.6ms\n",
      "video 1/1 (frame 1319/3688) /home/hatsu/coding/CapProj/TestSeg_1/video_input/fight_6.mp4: 384x640 4 Fighters, 18.5ms\n",
      "video 1/1 (frame 1320/3688) /home/hatsu/coding/CapProj/TestSeg_1/video_input/fight_6.mp4: 384x640 3 Fighters, 16.1ms\n",
      "video 1/1 (frame 1321/3688) /home/hatsu/coding/CapProj/TestSeg_1/video_input/fight_6.mp4: 384x640 1 Fighter, 15.2ms\n",
      "video 1/1 (frame 1322/3688) /home/hatsu/coding/CapProj/TestSeg_1/video_input/fight_6.mp4: 384x640 1 Fighter, 24.4ms\n",
      "video 1/1 (frame 1323/3688) /home/hatsu/coding/CapProj/TestSeg_1/video_input/fight_6.mp4: 384x640 1 Fighter, 18.6ms\n",
      "video 1/1 (frame 1324/3688) /home/hatsu/coding/CapProj/TestSeg_1/video_input/fight_6.mp4: 384x640 1 Fighter, 19.1ms\n",
      "video 1/1 (frame 1325/3688) /home/hatsu/coding/CapProj/TestSeg_1/video_input/fight_6.mp4: 384x640 1 Fighter, 12.7ms\n",
      "video 1/1 (frame 1326/3688) /home/hatsu/coding/CapProj/TestSeg_1/video_input/fight_6.mp4: 384x640 1 Fighter, 12.6ms\n",
      "video 1/1 (frame 1327/3688) /home/hatsu/coding/CapProj/TestSeg_1/video_input/fight_6.mp4: 384x640 1 Fighter, 13.0ms\n",
      "video 1/1 (frame 1328/3688) /home/hatsu/coding/CapProj/TestSeg_1/video_input/fight_6.mp4: 384x640 2 Fighters, 12.5ms\n",
      "video 1/1 (frame 1329/3688) /home/hatsu/coding/CapProj/TestSeg_1/video_input/fight_6.mp4: 384x640 3 Fighters, 12.4ms\n",
      "video 1/1 (frame 1330/3688) /home/hatsu/coding/CapProj/TestSeg_1/video_input/fight_6.mp4: 384x640 5 Fighters, 12.9ms\n",
      "video 1/1 (frame 1331/3688) /home/hatsu/coding/CapProj/TestSeg_1/video_input/fight_6.mp4: 384x640 4 Fighters, 12.2ms\n",
      "video 1/1 (frame 1332/3688) /home/hatsu/coding/CapProj/TestSeg_1/video_input/fight_6.mp4: 384x640 2 Fighters, 32.8ms\n",
      "video 1/1 (frame 1333/3688) /home/hatsu/coding/CapProj/TestSeg_1/video_input/fight_6.mp4: 384x640 1 Fighter, 23.1ms\n",
      "video 1/1 (frame 1334/3688) /home/hatsu/coding/CapProj/TestSeg_1/video_input/fight_6.mp4: 384x640 1 Fighter, 12.6ms\n",
      "video 1/1 (frame 1335/3688) /home/hatsu/coding/CapProj/TestSeg_1/video_input/fight_6.mp4: 384x640 1 Fighter, 30.6ms\n",
      "video 1/1 (frame 1336/3688) /home/hatsu/coding/CapProj/TestSeg_1/video_input/fight_6.mp4: 384x640 1 Fighter, 12.9ms\n",
      "video 1/1 (frame 1337/3688) /home/hatsu/coding/CapProj/TestSeg_1/video_input/fight_6.mp4: 384x640 1 Fighter, 12.7ms\n",
      "video 1/1 (frame 1338/3688) /home/hatsu/coding/CapProj/TestSeg_1/video_input/fight_6.mp4: 384x640 1 Fighter, 13.5ms\n",
      "video 1/1 (frame 1339/3688) /home/hatsu/coding/CapProj/TestSeg_1/video_input/fight_6.mp4: 384x640 1 Fighter, 25.9ms\n",
      "video 1/1 (frame 1340/3688) /home/hatsu/coding/CapProj/TestSeg_1/video_input/fight_6.mp4: 384x640 1 Fighter, 13.6ms\n",
      "video 1/1 (frame 1341/3688) /home/hatsu/coding/CapProj/TestSeg_1/video_input/fight_6.mp4: 384x640 1 Fighter, 14.1ms\n",
      "video 1/1 (frame 1342/3688) /home/hatsu/coding/CapProj/TestSeg_1/video_input/fight_6.mp4: 384x640 1 Fighter, 12.9ms\n",
      "video 1/1 (frame 1343/3688) /home/hatsu/coding/CapProj/TestSeg_1/video_input/fight_6.mp4: 384x640 1 Fighter, 12.4ms\n",
      "video 1/1 (frame 1344/3688) /home/hatsu/coding/CapProj/TestSeg_1/video_input/fight_6.mp4: 384x640 1 Fighter, 33.0ms\n",
      "video 1/1 (frame 1345/3688) /home/hatsu/coding/CapProj/TestSeg_1/video_input/fight_6.mp4: 384x640 1 Fighter, 15.1ms\n",
      "video 1/1 (frame 1346/3688) /home/hatsu/coding/CapProj/TestSeg_1/video_input/fight_6.mp4: 384x640 1 Fighter, 22.4ms\n",
      "video 1/1 (frame 1347/3688) /home/hatsu/coding/CapProj/TestSeg_1/video_input/fight_6.mp4: 384x640 1 Fighter, 16.6ms\n",
      "video 1/1 (frame 1348/3688) /home/hatsu/coding/CapProj/TestSeg_1/video_input/fight_6.mp4: 384x640 1 Fighter, 12.8ms\n",
      "video 1/1 (frame 1349/3688) /home/hatsu/coding/CapProj/TestSeg_1/video_input/fight_6.mp4: 384x640 1 Fighter, 13.9ms\n",
      "video 1/1 (frame 1350/3688) /home/hatsu/coding/CapProj/TestSeg_1/video_input/fight_6.mp4: 384x640 1 Fighter, 13.1ms\n",
      "video 1/1 (frame 1351/3688) /home/hatsu/coding/CapProj/TestSeg_1/video_input/fight_6.mp4: 384x640 1 Fighter, 12.2ms\n",
      "video 1/1 (frame 1352/3688) /home/hatsu/coding/CapProj/TestSeg_1/video_input/fight_6.mp4: 384x640 1 Fighter, 12.8ms\n",
      "video 1/1 (frame 1353/3688) /home/hatsu/coding/CapProj/TestSeg_1/video_input/fight_6.mp4: 384x640 1 Fighter, 30.5ms\n",
      "video 1/1 (frame 1354/3688) /home/hatsu/coding/CapProj/TestSeg_1/video_input/fight_6.mp4: 384x640 1 Fighter, 14.0ms\n",
      "video 1/1 (frame 1355/3688) /home/hatsu/coding/CapProj/TestSeg_1/video_input/fight_6.mp4: 384x640 1 Fighter, 12.6ms\n",
      "video 1/1 (frame 1356/3688) /home/hatsu/coding/CapProj/TestSeg_1/video_input/fight_6.mp4: 384x640 1 Fighter, 15.8ms\n",
      "video 1/1 (frame 1357/3688) /home/hatsu/coding/CapProj/TestSeg_1/video_input/fight_6.mp4: 384x640 1 Fighter, 12.8ms\n",
      "video 1/1 (frame 1358/3688) /home/hatsu/coding/CapProj/TestSeg_1/video_input/fight_6.mp4: 384x640 1 Fighter, 13.3ms\n",
      "video 1/1 (frame 1359/3688) /home/hatsu/coding/CapProj/TestSeg_1/video_input/fight_6.mp4: 384x640 1 Fighter, 14.0ms\n",
      "video 1/1 (frame 1360/3688) /home/hatsu/coding/CapProj/TestSeg_1/video_input/fight_6.mp4: 384x640 1 Fighter, 13.5ms\n",
      "video 1/1 (frame 1361/3688) /home/hatsu/coding/CapProj/TestSeg_1/video_input/fight_6.mp4: 384x640 1 Fighter, 14.3ms\n",
      "video 1/1 (frame 1362/3688) /home/hatsu/coding/CapProj/TestSeg_1/video_input/fight_6.mp4: 384x640 1 Fighter, 18.9ms\n",
      "video 1/1 (frame 1363/3688) /home/hatsu/coding/CapProj/TestSeg_1/video_input/fight_6.mp4: 384x640 2 Fighters, 17.9ms\n",
      "video 1/1 (frame 1364/3688) /home/hatsu/coding/CapProj/TestSeg_1/video_input/fight_6.mp4: 384x640 2 Fighters, 17.6ms\n",
      "video 1/1 (frame 1365/3688) /home/hatsu/coding/CapProj/TestSeg_1/video_input/fight_6.mp4: 384x640 2 Fighters, 18.4ms\n",
      "video 1/1 (frame 1366/3688) /home/hatsu/coding/CapProj/TestSeg_1/video_input/fight_6.mp4: 384x640 2 Fighters, 16.8ms\n",
      "video 1/1 (frame 1367/3688) /home/hatsu/coding/CapProj/TestSeg_1/video_input/fight_6.mp4: 384x640 2 Fighters, 19.6ms\n",
      "video 1/1 (frame 1368/3688) /home/hatsu/coding/CapProj/TestSeg_1/video_input/fight_6.mp4: 384x640 2 Fighters, 16.3ms\n",
      "video 1/1 (frame 1369/3688) /home/hatsu/coding/CapProj/TestSeg_1/video_input/fight_6.mp4: 384x640 2 Fighters, 19.9ms\n",
      "video 1/1 (frame 1370/3688) /home/hatsu/coding/CapProj/TestSeg_1/video_input/fight_6.mp4: 384x640 2 Fighters, 15.9ms\n",
      "video 1/1 (frame 1371/3688) /home/hatsu/coding/CapProj/TestSeg_1/video_input/fight_6.mp4: 384x640 2 Fighters, 19.6ms\n",
      "video 1/1 (frame 1372/3688) /home/hatsu/coding/CapProj/TestSeg_1/video_input/fight_6.mp4: 384x640 2 Fighters, 15.4ms\n",
      "video 1/1 (frame 1373/3688) /home/hatsu/coding/CapProj/TestSeg_1/video_input/fight_6.mp4: 384x640 2 Fighters, 23.7ms\n",
      "video 1/1 (frame 1374/3688) /home/hatsu/coding/CapProj/TestSeg_1/video_input/fight_6.mp4: 384x640 2 Fighters, 19.3ms\n",
      "video 1/1 (frame 1375/3688) /home/hatsu/coding/CapProj/TestSeg_1/video_input/fight_6.mp4: 384x640 2 Fighters, 12.2ms\n",
      "video 1/1 (frame 1376/3688) /home/hatsu/coding/CapProj/TestSeg_1/video_input/fight_6.mp4: 384x640 2 Fighters, 13.3ms\n",
      "video 1/1 (frame 1377/3688) /home/hatsu/coding/CapProj/TestSeg_1/video_input/fight_6.mp4: 384x640 2 Fighters, 12.1ms\n",
      "video 1/1 (frame 1378/3688) /home/hatsu/coding/CapProj/TestSeg_1/video_input/fight_6.mp4: 384x640 2 Fighters, 37.8ms\n",
      "video 1/1 (frame 1379/3688) /home/hatsu/coding/CapProj/TestSeg_1/video_input/fight_6.mp4: 384x640 2 Fighters, 19.0ms\n",
      "video 1/1 (frame 1380/3688) /home/hatsu/coding/CapProj/TestSeg_1/video_input/fight_6.mp4: 384x640 2 Fighters, 12.9ms\n",
      "video 1/1 (frame 1381/3688) /home/hatsu/coding/CapProj/TestSeg_1/video_input/fight_6.mp4: 384x640 2 Fighters, 30.8ms\n",
      "video 1/1 (frame 1382/3688) /home/hatsu/coding/CapProj/TestSeg_1/video_input/fight_6.mp4: 384x640 2 Fighters, 25.1ms\n",
      "video 1/1 (frame 1383/3688) /home/hatsu/coding/CapProj/TestSeg_1/video_input/fight_6.mp4: 384x640 2 Fighters, 12.8ms\n",
      "video 1/1 (frame 1384/3688) /home/hatsu/coding/CapProj/TestSeg_1/video_input/fight_6.mp4: 384x640 2 Fighters, 12.8ms\n",
      "video 1/1 (frame 1385/3688) /home/hatsu/coding/CapProj/TestSeg_1/video_input/fight_6.mp4: 384x640 2 Fighters, 13.2ms\n",
      "video 1/1 (frame 1386/3688) /home/hatsu/coding/CapProj/TestSeg_1/video_input/fight_6.mp4: 384x640 2 Fighters, 13.6ms\n",
      "video 1/1 (frame 1387/3688) /home/hatsu/coding/CapProj/TestSeg_1/video_input/fight_6.mp4: 384x640 2 Fighters, 14.7ms\n",
      "video 1/1 (frame 1388/3688) /home/hatsu/coding/CapProj/TestSeg_1/video_input/fight_6.mp4: 384x640 2 Fighters, 13.1ms\n",
      "video 1/1 (frame 1389/3688) /home/hatsu/coding/CapProj/TestSeg_1/video_input/fight_6.mp4: 384x640 2 Fighters, 13.0ms\n",
      "video 1/1 (frame 1390/3688) /home/hatsu/coding/CapProj/TestSeg_1/video_input/fight_6.mp4: 384x640 2 Fighters, 15.7ms\n",
      "video 1/1 (frame 1391/3688) /home/hatsu/coding/CapProj/TestSeg_1/video_input/fight_6.mp4: 384x640 2 Fighters, 13.9ms\n",
      "video 1/1 (frame 1392/3688) /home/hatsu/coding/CapProj/TestSeg_1/video_input/fight_6.mp4: 384x640 2 Fighters, 12.7ms\n",
      "video 1/1 (frame 1393/3688) /home/hatsu/coding/CapProj/TestSeg_1/video_input/fight_6.mp4: 384x640 2 Fighters, 12.4ms\n",
      "video 1/1 (frame 1394/3688) /home/hatsu/coding/CapProj/TestSeg_1/video_input/fight_6.mp4: 384x640 2 Fighters, 13.2ms\n",
      "video 1/1 (frame 1395/3688) /home/hatsu/coding/CapProj/TestSeg_1/video_input/fight_6.mp4: 384x640 2 Fighters, 12.3ms\n",
      "video 1/1 (frame 1396/3688) /home/hatsu/coding/CapProj/TestSeg_1/video_input/fight_6.mp4: 384x640 2 Fighters, 15.1ms\n",
      "video 1/1 (frame 1397/3688) /home/hatsu/coding/CapProj/TestSeg_1/video_input/fight_6.mp4: 384x640 2 Fighters, 12.7ms\n",
      "video 1/1 (frame 1398/3688) /home/hatsu/coding/CapProj/TestSeg_1/video_input/fight_6.mp4: 384x640 2 Fighters, 13.3ms\n",
      "video 1/1 (frame 1399/3688) /home/hatsu/coding/CapProj/TestSeg_1/video_input/fight_6.mp4: 384x640 2 Fighters, 25.5ms\n",
      "video 1/1 (frame 1400/3688) /home/hatsu/coding/CapProj/TestSeg_1/video_input/fight_6.mp4: 384x640 2 Fighters, 13.1ms\n",
      "video 1/1 (frame 1401/3688) /home/hatsu/coding/CapProj/TestSeg_1/video_input/fight_6.mp4: 384x640 2 Fighters, 26.9ms\n",
      "video 1/1 (frame 1402/3688) /home/hatsu/coding/CapProj/TestSeg_1/video_input/fight_6.mp4: 384x640 2 Fighters, 12.3ms\n",
      "video 1/1 (frame 1403/3688) /home/hatsu/coding/CapProj/TestSeg_1/video_input/fight_6.mp4: 384x640 2 Fighters, 17.6ms\n",
      "video 1/1 (frame 1404/3688) /home/hatsu/coding/CapProj/TestSeg_1/video_input/fight_6.mp4: 384x640 2 Fighters, 12.5ms\n",
      "video 1/1 (frame 1405/3688) /home/hatsu/coding/CapProj/TestSeg_1/video_input/fight_6.mp4: 384x640 2 Fighters, 12.6ms\n",
      "video 1/1 (frame 1406/3688) /home/hatsu/coding/CapProj/TestSeg_1/video_input/fight_6.mp4: 384x640 2 Fighters, 13.2ms\n",
      "video 1/1 (frame 1407/3688) /home/hatsu/coding/CapProj/TestSeg_1/video_input/fight_6.mp4: 384x640 2 Fighters, 11.9ms\n",
      "video 1/1 (frame 1408/3688) /home/hatsu/coding/CapProj/TestSeg_1/video_input/fight_6.mp4: 384x640 2 Fighters, 17.2ms\n",
      "video 1/1 (frame 1409/3688) /home/hatsu/coding/CapProj/TestSeg_1/video_input/fight_6.mp4: 384x640 2 Fighters, 13.7ms\n",
      "video 1/1 (frame 1410/3688) /home/hatsu/coding/CapProj/TestSeg_1/video_input/fight_6.mp4: 384x640 2 Fighters, 12.5ms\n",
      "video 1/1 (frame 1411/3688) /home/hatsu/coding/CapProj/TestSeg_1/video_input/fight_6.mp4: 384x640 2 Fighters, 13.1ms\n",
      "video 1/1 (frame 1412/3688) /home/hatsu/coding/CapProj/TestSeg_1/video_input/fight_6.mp4: 384x640 2 Fighters, 19.0ms\n",
      "video 1/1 (frame 1413/3688) /home/hatsu/coding/CapProj/TestSeg_1/video_input/fight_6.mp4: 384x640 2 Fighters, 13.1ms\n",
      "video 1/1 (frame 1414/3688) /home/hatsu/coding/CapProj/TestSeg_1/video_input/fight_6.mp4: 384x640 2 Fighters, 13.3ms\n",
      "video 1/1 (frame 1415/3688) /home/hatsu/coding/CapProj/TestSeg_1/video_input/fight_6.mp4: 384x640 2 Fighters, 14.0ms\n",
      "video 1/1 (frame 1416/3688) /home/hatsu/coding/CapProj/TestSeg_1/video_input/fight_6.mp4: 384x640 2 Fighters, 12.6ms\n",
      "video 1/1 (frame 1417/3688) /home/hatsu/coding/CapProj/TestSeg_1/video_input/fight_6.mp4: 384x640 2 Fighters, 14.9ms\n",
      "video 1/1 (frame 1418/3688) /home/hatsu/coding/CapProj/TestSeg_1/video_input/fight_6.mp4: 384x640 2 Fighters, 13.9ms\n",
      "video 1/1 (frame 1419/3688) /home/hatsu/coding/CapProj/TestSeg_1/video_input/fight_6.mp4: 384x640 2 Fighters, 13.6ms\n",
      "video 1/1 (frame 1420/3688) /home/hatsu/coding/CapProj/TestSeg_1/video_input/fight_6.mp4: 384x640 2 Fighters, 12.9ms\n",
      "video 1/1 (frame 1421/3688) /home/hatsu/coding/CapProj/TestSeg_1/video_input/fight_6.mp4: 384x640 2 Fighters, 14.9ms\n",
      "video 1/1 (frame 1422/3688) /home/hatsu/coding/CapProj/TestSeg_1/video_input/fight_6.mp4: 384x640 2 Fighters, 13.1ms\n",
      "video 1/1 (frame 1423/3688) /home/hatsu/coding/CapProj/TestSeg_1/video_input/fight_6.mp4: 384x640 2 Fighters, 15.5ms\n",
      "video 1/1 (frame 1424/3688) /home/hatsu/coding/CapProj/TestSeg_1/video_input/fight_6.mp4: 384x640 2 Fighters, 12.5ms\n",
      "video 1/1 (frame 1425/3688) /home/hatsu/coding/CapProj/TestSeg_1/video_input/fight_6.mp4: 384x640 2 Fighters, 13.5ms\n",
      "video 1/1 (frame 1426/3688) /home/hatsu/coding/CapProj/TestSeg_1/video_input/fight_6.mp4: 384x640 2 Fighters, 17.2ms\n",
      "video 1/1 (frame 1427/3688) /home/hatsu/coding/CapProj/TestSeg_1/video_input/fight_6.mp4: 384x640 2 Fighters, 20.5ms\n",
      "video 1/1 (frame 1428/3688) /home/hatsu/coding/CapProj/TestSeg_1/video_input/fight_6.mp4: 384x640 2 Fighters, 20.8ms\n",
      "video 1/1 (frame 1429/3688) /home/hatsu/coding/CapProj/TestSeg_1/video_input/fight_6.mp4: 384x640 2 Fighters, 16.3ms\n",
      "video 1/1 (frame 1430/3688) /home/hatsu/coding/CapProj/TestSeg_1/video_input/fight_6.mp4: 384x640 2 Fighters, 18.4ms\n",
      "video 1/1 (frame 1431/3688) /home/hatsu/coding/CapProj/TestSeg_1/video_input/fight_6.mp4: 384x640 2 Fighters, 18.7ms\n",
      "video 1/1 (frame 1432/3688) /home/hatsu/coding/CapProj/TestSeg_1/video_input/fight_6.mp4: 384x640 2 Fighters, 23.7ms\n",
      "video 1/1 (frame 1433/3688) /home/hatsu/coding/CapProj/TestSeg_1/video_input/fight_6.mp4: 384x640 2 Fighters, 36.3ms\n",
      "video 1/1 (frame 1434/3688) /home/hatsu/coding/CapProj/TestSeg_1/video_input/fight_6.mp4: 384x640 2 Fighters, 18.1ms\n",
      "video 1/1 (frame 1435/3688) /home/hatsu/coding/CapProj/TestSeg_1/video_input/fight_6.mp4: 384x640 2 Fighters, 19.2ms\n",
      "video 1/1 (frame 1436/3688) /home/hatsu/coding/CapProj/TestSeg_1/video_input/fight_6.mp4: 384x640 2 Fighters, 16.8ms\n",
      "video 1/1 (frame 1437/3688) /home/hatsu/coding/CapProj/TestSeg_1/video_input/fight_6.mp4: 384x640 1 Fighter, 18.2ms\n",
      "video 1/1 (frame 1438/3688) /home/hatsu/coding/CapProj/TestSeg_1/video_input/fight_6.mp4: 384x640 1 Fighter, 16.7ms\n",
      "video 1/1 (frame 1439/3688) /home/hatsu/coding/CapProj/TestSeg_1/video_input/fight_6.mp4: 384x640 1 Fighter, 16.2ms\n",
      "video 1/1 (frame 1440/3688) /home/hatsu/coding/CapProj/TestSeg_1/video_input/fight_6.mp4: 384x640 1 Fighter, 20.5ms\n",
      "video 1/1 (frame 1441/3688) /home/hatsu/coding/CapProj/TestSeg_1/video_input/fight_6.mp4: 384x640 1 Fighter, 17.0ms\n",
      "video 1/1 (frame 1442/3688) /home/hatsu/coding/CapProj/TestSeg_1/video_input/fight_6.mp4: 384x640 1 Fighter, 20.2ms\n",
      "video 1/1 (frame 1443/3688) /home/hatsu/coding/CapProj/TestSeg_1/video_input/fight_6.mp4: 384x640 2 Fighters, 15.7ms\n",
      "video 1/1 (frame 1444/3688) /home/hatsu/coding/CapProj/TestSeg_1/video_input/fight_6.mp4: 384x640 2 Fighters, 21.7ms\n",
      "video 1/1 (frame 1445/3688) /home/hatsu/coding/CapProj/TestSeg_1/video_input/fight_6.mp4: 384x640 2 Fighters, 34.8ms\n",
      "video 1/1 (frame 1446/3688) /home/hatsu/coding/CapProj/TestSeg_1/video_input/fight_6.mp4: 384x640 2 Fighters, 14.1ms\n",
      "video 1/1 (frame 1447/3688) /home/hatsu/coding/CapProj/TestSeg_1/video_input/fight_6.mp4: 384x640 2 Fighters, 16.7ms\n",
      "video 1/1 (frame 1448/3688) /home/hatsu/coding/CapProj/TestSeg_1/video_input/fight_6.mp4: 384x640 1 Fighter, 14.3ms\n",
      "video 1/1 (frame 1449/3688) /home/hatsu/coding/CapProj/TestSeg_1/video_input/fight_6.mp4: 384x640 1 Fighter, 12.9ms\n",
      "video 1/1 (frame 1450/3688) /home/hatsu/coding/CapProj/TestSeg_1/video_input/fight_6.mp4: 384x640 1 Fighter, 14.3ms\n",
      "video 1/1 (frame 1451/3688) /home/hatsu/coding/CapProj/TestSeg_1/video_input/fight_6.mp4: 384x640 1 Fighter, 13.3ms\n",
      "video 1/1 (frame 1452/3688) /home/hatsu/coding/CapProj/TestSeg_1/video_input/fight_6.mp4: 384x640 1 Fighter, 13.6ms\n",
      "video 1/1 (frame 1453/3688) /home/hatsu/coding/CapProj/TestSeg_1/video_input/fight_6.mp4: 384x640 1 Fighter, 13.8ms\n",
      "video 1/1 (frame 1454/3688) /home/hatsu/coding/CapProj/TestSeg_1/video_input/fight_6.mp4: 384x640 1 Fighter, 14.1ms\n",
      "video 1/1 (frame 1455/3688) /home/hatsu/coding/CapProj/TestSeg_1/video_input/fight_6.mp4: 384x640 1 Fighter, 46.0ms\n",
      "video 1/1 (frame 1456/3688) /home/hatsu/coding/CapProj/TestSeg_1/video_input/fight_6.mp4: 384x640 1 Fighter, 27.7ms\n",
      "video 1/1 (frame 1457/3688) /home/hatsu/coding/CapProj/TestSeg_1/video_input/fight_6.mp4: 384x640 1 Fighter, 13.0ms\n",
      "video 1/1 (frame 1458/3688) /home/hatsu/coding/CapProj/TestSeg_1/video_input/fight_6.mp4: 384x640 1 Fighter, 14.0ms\n",
      "video 1/1 (frame 1459/3688) /home/hatsu/coding/CapProj/TestSeg_1/video_input/fight_6.mp4: 384x640 1 Fighter, 13.8ms\n",
      "video 1/1 (frame 1460/3688) /home/hatsu/coding/CapProj/TestSeg_1/video_input/fight_6.mp4: 384x640 1 Fighter, 12.9ms\n",
      "video 1/1 (frame 1461/3688) /home/hatsu/coding/CapProj/TestSeg_1/video_input/fight_6.mp4: 384x640 1 Fighter, 15.9ms\n",
      "video 1/1 (frame 1462/3688) /home/hatsu/coding/CapProj/TestSeg_1/video_input/fight_6.mp4: 384x640 1 Fighter, 18.6ms\n",
      "video 1/1 (frame 1463/3688) /home/hatsu/coding/CapProj/TestSeg_1/video_input/fight_6.mp4: 384x640 1 Fighter, 12.8ms\n",
      "video 1/1 (frame 1464/3688) /home/hatsu/coding/CapProj/TestSeg_1/video_input/fight_6.mp4: 384x640 1 Fighter, 31.0ms\n",
      "video 1/1 (frame 1465/3688) /home/hatsu/coding/CapProj/TestSeg_1/video_input/fight_6.mp4: 384x640 1 Fighter, 13.0ms\n",
      "video 1/1 (frame 1466/3688) /home/hatsu/coding/CapProj/TestSeg_1/video_input/fight_6.mp4: 384x640 1 Fighter, 13.2ms\n",
      "video 1/1 (frame 1467/3688) /home/hatsu/coding/CapProj/TestSeg_1/video_input/fight_6.mp4: 384x640 1 Fighter, 22.8ms\n",
      "video 1/1 (frame 1468/3688) /home/hatsu/coding/CapProj/TestSeg_1/video_input/fight_6.mp4: 384x640 1 Fighter, 12.9ms\n",
      "video 1/1 (frame 1469/3688) /home/hatsu/coding/CapProj/TestSeg_1/video_input/fight_6.mp4: 384x640 1 Fighter, 14.9ms\n",
      "video 1/1 (frame 1470/3688) /home/hatsu/coding/CapProj/TestSeg_1/video_input/fight_6.mp4: 384x640 1 Fighter, 13.3ms\n",
      "video 1/1 (frame 1471/3688) /home/hatsu/coding/CapProj/TestSeg_1/video_input/fight_6.mp4: 384x640 1 Fighter, 15.2ms\n",
      "video 1/1 (frame 1472/3688) /home/hatsu/coding/CapProj/TestSeg_1/video_input/fight_6.mp4: 384x640 1 Fighter, 14.0ms\n",
      "video 1/1 (frame 1473/3688) /home/hatsu/coding/CapProj/TestSeg_1/video_input/fight_6.mp4: 384x640 1 Fighter, 12.7ms\n",
      "video 1/1 (frame 1474/3688) /home/hatsu/coding/CapProj/TestSeg_1/video_input/fight_6.mp4: 384x640 1 Fighter, 30.2ms\n",
      "video 1/1 (frame 1475/3688) /home/hatsu/coding/CapProj/TestSeg_1/video_input/fight_6.mp4: 384x640 1 Fighter, 15.3ms\n",
      "video 1/1 (frame 1476/3688) /home/hatsu/coding/CapProj/TestSeg_1/video_input/fight_6.mp4: 384x640 1 Fighter, 13.3ms\n",
      "video 1/1 (frame 1477/3688) /home/hatsu/coding/CapProj/TestSeg_1/video_input/fight_6.mp4: 384x640 1 Fighter, 18.0ms\n",
      "video 1/1 (frame 1478/3688) /home/hatsu/coding/CapProj/TestSeg_1/video_input/fight_6.mp4: 384x640 1 Fighter, 12.8ms\n",
      "video 1/1 (frame 1479/3688) /home/hatsu/coding/CapProj/TestSeg_1/video_input/fight_6.mp4: 384x640 1 Fighter, 13.2ms\n",
      "video 1/1 (frame 1480/3688) /home/hatsu/coding/CapProj/TestSeg_1/video_input/fight_6.mp4: 384x640 1 Fighter, 12.4ms\n",
      "video 1/1 (frame 1481/3688) /home/hatsu/coding/CapProj/TestSeg_1/video_input/fight_6.mp4: 384x640 1 Fighter, 16.4ms\n",
      "video 1/1 (frame 1482/3688) /home/hatsu/coding/CapProj/TestSeg_1/video_input/fight_6.mp4: 384x640 1 Fighter, 15.8ms\n",
      "video 1/1 (frame 1483/3688) /home/hatsu/coding/CapProj/TestSeg_1/video_input/fight_6.mp4: 384x640 1 Fighter, 14.9ms\n",
      "video 1/1 (frame 1484/3688) /home/hatsu/coding/CapProj/TestSeg_1/video_input/fight_6.mp4: 384x640 1 Fighter, 15.8ms\n",
      "video 1/1 (frame 1485/3688) /home/hatsu/coding/CapProj/TestSeg_1/video_input/fight_6.mp4: 384x640 1 Fighter, 13.9ms\n",
      "video 1/1 (frame 1486/3688) /home/hatsu/coding/CapProj/TestSeg_1/video_input/fight_6.mp4: 384x640 1 Fighter, 15.1ms\n",
      "video 1/1 (frame 1487/3688) /home/hatsu/coding/CapProj/TestSeg_1/video_input/fight_6.mp4: 384x640 1 Fighter, 24.4ms\n",
      "video 1/1 (frame 1488/3688) /home/hatsu/coding/CapProj/TestSeg_1/video_input/fight_6.mp4: 384x640 1 Fighter, 15.2ms\n",
      "video 1/1 (frame 1489/3688) /home/hatsu/coding/CapProj/TestSeg_1/video_input/fight_6.mp4: 384x640 1 Fighter, 12.9ms\n",
      "video 1/1 (frame 1490/3688) /home/hatsu/coding/CapProj/TestSeg_1/video_input/fight_6.mp4: 384x640 1 Fighter, 37.0ms\n",
      "video 1/1 (frame 1491/3688) /home/hatsu/coding/CapProj/TestSeg_1/video_input/fight_6.mp4: 384x640 1 Fighter, 13.4ms\n",
      "video 1/1 (frame 1492/3688) /home/hatsu/coding/CapProj/TestSeg_1/video_input/fight_6.mp4: 384x640 1 Fighter, 16.0ms\n",
      "video 1/1 (frame 1493/3688) /home/hatsu/coding/CapProj/TestSeg_1/video_input/fight_6.mp4: 384x640 1 Fighter, 26.7ms\n",
      "video 1/1 (frame 1494/3688) /home/hatsu/coding/CapProj/TestSeg_1/video_input/fight_6.mp4: 384x640 1 Fighter, 25.1ms\n",
      "video 1/1 (frame 1495/3688) /home/hatsu/coding/CapProj/TestSeg_1/video_input/fight_6.mp4: 384x640 1 Fighter, 12.0ms\n",
      "video 1/1 (frame 1496/3688) /home/hatsu/coding/CapProj/TestSeg_1/video_input/fight_6.mp4: 384x640 1 Fighter, 18.5ms\n",
      "video 1/1 (frame 1497/3688) /home/hatsu/coding/CapProj/TestSeg_1/video_input/fight_6.mp4: 384x640 1 Fighter, 32.3ms\n",
      "video 1/1 (frame 1498/3688) /home/hatsu/coding/CapProj/TestSeg_1/video_input/fight_6.mp4: 384x640 1 Fighter, 20.4ms\n",
      "video 1/1 (frame 1499/3688) /home/hatsu/coding/CapProj/TestSeg_1/video_input/fight_6.mp4: 384x640 1 Fighter, 23.9ms\n",
      "video 1/1 (frame 1500/3688) /home/hatsu/coding/CapProj/TestSeg_1/video_input/fight_6.mp4: 384x640 1 Fighter, 23.9ms\n",
      "video 1/1 (frame 1501/3688) /home/hatsu/coding/CapProj/TestSeg_1/video_input/fight_6.mp4: 384x640 1 Fighter, 18.3ms\n",
      "video 1/1 (frame 1502/3688) /home/hatsu/coding/CapProj/TestSeg_1/video_input/fight_6.mp4: 384x640 1 Fighter, 15.6ms\n",
      "video 1/1 (frame 1503/3688) /home/hatsu/coding/CapProj/TestSeg_1/video_input/fight_6.mp4: 384x640 1 Fighter, 17.5ms\n",
      "video 1/1 (frame 1504/3688) /home/hatsu/coding/CapProj/TestSeg_1/video_input/fight_6.mp4: 384x640 1 Fighter, 17.5ms\n",
      "video 1/1 (frame 1505/3688) /home/hatsu/coding/CapProj/TestSeg_1/video_input/fight_6.mp4: 384x640 1 Fighter, 18.5ms\n",
      "video 1/1 (frame 1506/3688) /home/hatsu/coding/CapProj/TestSeg_1/video_input/fight_6.mp4: 384x640 1 Fighter, 32.4ms\n",
      "video 1/1 (frame 1507/3688) /home/hatsu/coding/CapProj/TestSeg_1/video_input/fight_6.mp4: 384x640 1 Fighter, 17.8ms\n",
      "video 1/1 (frame 1508/3688) /home/hatsu/coding/CapProj/TestSeg_1/video_input/fight_6.mp4: 384x640 1 Fighter, 20.8ms\n",
      "video 1/1 (frame 1509/3688) /home/hatsu/coding/CapProj/TestSeg_1/video_input/fight_6.mp4: 384x640 1 Fighter, 20.1ms\n",
      "video 1/1 (frame 1510/3688) /home/hatsu/coding/CapProj/TestSeg_1/video_input/fight_6.mp4: 384x640 1 Fighter, 23.8ms\n",
      "video 1/1 (frame 1511/3688) /home/hatsu/coding/CapProj/TestSeg_1/video_input/fight_6.mp4: 384x640 1 Fighter, 22.8ms\n",
      "video 1/1 (frame 1512/3688) /home/hatsu/coding/CapProj/TestSeg_1/video_input/fight_6.mp4: 384x640 1 Fighter, 15.7ms\n",
      "video 1/1 (frame 1513/3688) /home/hatsu/coding/CapProj/TestSeg_1/video_input/fight_6.mp4: 384x640 1 Fighter, 17.0ms\n",
      "video 1/1 (frame 1514/3688) /home/hatsu/coding/CapProj/TestSeg_1/video_input/fight_6.mp4: 384x640 1 Fighter, 17.6ms\n",
      "video 1/1 (frame 1515/3688) /home/hatsu/coding/CapProj/TestSeg_1/video_input/fight_6.mp4: 384x640 1 Fighter, 16.2ms\n",
      "video 1/1 (frame 1516/3688) /home/hatsu/coding/CapProj/TestSeg_1/video_input/fight_6.mp4: 384x640 1 Fighter, 37.8ms\n",
      "video 1/1 (frame 1517/3688) /home/hatsu/coding/CapProj/TestSeg_1/video_input/fight_6.mp4: 384x640 1 Fighter, 15.3ms\n",
      "video 1/1 (frame 1518/3688) /home/hatsu/coding/CapProj/TestSeg_1/video_input/fight_6.mp4: 384x640 1 Fighter, 16.7ms\n",
      "video 1/1 (frame 1519/3688) /home/hatsu/coding/CapProj/TestSeg_1/video_input/fight_6.mp4: 384x640 1 Fighter, 32.3ms\n",
      "video 1/1 (frame 1520/3688) /home/hatsu/coding/CapProj/TestSeg_1/video_input/fight_6.mp4: 384x640 1 Fighter, 17.7ms\n",
      "video 1/1 (frame 1521/3688) /home/hatsu/coding/CapProj/TestSeg_1/video_input/fight_6.mp4: 384x640 1 Fighter, 18.6ms\n",
      "video 1/1 (frame 1522/3688) /home/hatsu/coding/CapProj/TestSeg_1/video_input/fight_6.mp4: 384x640 1 Fighter, 15.8ms\n",
      "video 1/1 (frame 1523/3688) /home/hatsu/coding/CapProj/TestSeg_1/video_input/fight_6.mp4: 384x640 1 Fighter, 17.2ms\n",
      "video 1/1 (frame 1524/3688) /home/hatsu/coding/CapProj/TestSeg_1/video_input/fight_6.mp4: 384x640 1 Fighter, 14.8ms\n",
      "video 1/1 (frame 1525/3688) /home/hatsu/coding/CapProj/TestSeg_1/video_input/fight_6.mp4: 384x640 1 Fighter, 16.8ms\n",
      "video 1/1 (frame 1526/3688) /home/hatsu/coding/CapProj/TestSeg_1/video_input/fight_6.mp4: 384x640 1 Fighter, 48.0ms\n",
      "video 1/1 (frame 1527/3688) /home/hatsu/coding/CapProj/TestSeg_1/video_input/fight_6.mp4: 384x640 1 Fighter, 14.7ms\n",
      "video 1/1 (frame 1528/3688) /home/hatsu/coding/CapProj/TestSeg_1/video_input/fight_6.mp4: 384x640 1 Fighter, 14.7ms\n",
      "video 1/1 (frame 1529/3688) /home/hatsu/coding/CapProj/TestSeg_1/video_input/fight_6.mp4: 384x640 1 Fighter, 42.0ms\n",
      "video 1/1 (frame 1530/3688) /home/hatsu/coding/CapProj/TestSeg_1/video_input/fight_6.mp4: 384x640 1 Fighter, 18.7ms\n",
      "video 1/1 (frame 1531/3688) /home/hatsu/coding/CapProj/TestSeg_1/video_input/fight_6.mp4: 384x640 1 Fighter, 19.3ms\n",
      "video 1/1 (frame 1532/3688) /home/hatsu/coding/CapProj/TestSeg_1/video_input/fight_6.mp4: 384x640 1 Fighter, 21.2ms\n",
      "video 1/1 (frame 1533/3688) /home/hatsu/coding/CapProj/TestSeg_1/video_input/fight_6.mp4: 384x640 1 Fighter, 43.5ms\n",
      "video 1/1 (frame 1534/3688) /home/hatsu/coding/CapProj/TestSeg_1/video_input/fight_6.mp4: 384x640 1 Fighter, 20.6ms\n",
      "video 1/1 (frame 1535/3688) /home/hatsu/coding/CapProj/TestSeg_1/video_input/fight_6.mp4: 384x640 1 Fighter, 13.5ms\n",
      "video 1/1 (frame 1536/3688) /home/hatsu/coding/CapProj/TestSeg_1/video_input/fight_6.mp4: 384x640 1 Fighter, 15.2ms\n",
      "video 1/1 (frame 1537/3688) /home/hatsu/coding/CapProj/TestSeg_1/video_input/fight_6.mp4: 384x640 1 Fighter, 16.0ms\n",
      "video 1/1 (frame 1538/3688) /home/hatsu/coding/CapProj/TestSeg_1/video_input/fight_6.mp4: 384x640 1 Fighter, 14.1ms\n",
      "video 1/1 (frame 1539/3688) /home/hatsu/coding/CapProj/TestSeg_1/video_input/fight_6.mp4: 384x640 1 Fighter, 30.5ms\n",
      "video 1/1 (frame 1540/3688) /home/hatsu/coding/CapProj/TestSeg_1/video_input/fight_6.mp4: 384x640 1 Fighter, 22.1ms\n",
      "video 1/1 (frame 1541/3688) /home/hatsu/coding/CapProj/TestSeg_1/video_input/fight_6.mp4: 384x640 1 Fighter, 38.1ms\n",
      "video 1/1 (frame 1542/3688) /home/hatsu/coding/CapProj/TestSeg_1/video_input/fight_6.mp4: 384x640 1 Fighter, 18.4ms\n",
      "video 1/1 (frame 1543/3688) /home/hatsu/coding/CapProj/TestSeg_1/video_input/fight_6.mp4: 384x640 1 Fighter, 13.3ms\n",
      "video 1/1 (frame 1544/3688) /home/hatsu/coding/CapProj/TestSeg_1/video_input/fight_6.mp4: 384x640 1 Fighter, 16.4ms\n",
      "video 1/1 (frame 1545/3688) /home/hatsu/coding/CapProj/TestSeg_1/video_input/fight_6.mp4: 384x640 1 Fighter, 27.9ms\n",
      "video 1/1 (frame 1546/3688) /home/hatsu/coding/CapProj/TestSeg_1/video_input/fight_6.mp4: 384x640 1 Fighter, 18.4ms\n",
      "video 1/1 (frame 1547/3688) /home/hatsu/coding/CapProj/TestSeg_1/video_input/fight_6.mp4: 384x640 1 Fighter, 17.0ms\n",
      "video 1/1 (frame 1548/3688) /home/hatsu/coding/CapProj/TestSeg_1/video_input/fight_6.mp4: 384x640 1 Fighter, 15.9ms\n",
      "video 1/1 (frame 1549/3688) /home/hatsu/coding/CapProj/TestSeg_1/video_input/fight_6.mp4: 384x640 1 Fighter, 20.1ms\n",
      "video 1/1 (frame 1550/3688) /home/hatsu/coding/CapProj/TestSeg_1/video_input/fight_6.mp4: 384x640 1 Fighter, 22.7ms\n",
      "video 1/1 (frame 1551/3688) /home/hatsu/coding/CapProj/TestSeg_1/video_input/fight_6.mp4: 384x640 1 Fighter, 17.1ms\n",
      "video 1/1 (frame 1552/3688) /home/hatsu/coding/CapProj/TestSeg_1/video_input/fight_6.mp4: 384x640 1 Fighter, 18.4ms\n",
      "video 1/1 (frame 1553/3688) /home/hatsu/coding/CapProj/TestSeg_1/video_input/fight_6.mp4: 384x640 1 Fighter, 18.9ms\n",
      "video 1/1 (frame 1554/3688) /home/hatsu/coding/CapProj/TestSeg_1/video_input/fight_6.mp4: 384x640 1 Fighter, 17.2ms\n",
      "video 1/1 (frame 1555/3688) /home/hatsu/coding/CapProj/TestSeg_1/video_input/fight_6.mp4: 384x640 1 Fighter, 18.0ms\n",
      "video 1/1 (frame 1556/3688) /home/hatsu/coding/CapProj/TestSeg_1/video_input/fight_6.mp4: 384x640 1 Fighter, 14.3ms\n",
      "video 1/1 (frame 1557/3688) /home/hatsu/coding/CapProj/TestSeg_1/video_input/fight_6.mp4: 384x640 1 Fighter, 15.5ms\n",
      "video 1/1 (frame 1558/3688) /home/hatsu/coding/CapProj/TestSeg_1/video_input/fight_6.mp4: 384x640 2 Fighters, 17.3ms\n",
      "video 1/1 (frame 1559/3688) /home/hatsu/coding/CapProj/TestSeg_1/video_input/fight_6.mp4: 384x640 2 Fighters, 28.9ms\n",
      "video 1/1 (frame 1560/3688) /home/hatsu/coding/CapProj/TestSeg_1/video_input/fight_6.mp4: 384x640 2 Fighters, 21.6ms\n",
      "video 1/1 (frame 1561/3688) /home/hatsu/coding/CapProj/TestSeg_1/video_input/fight_6.mp4: 384x640 2 Fighters, 18.5ms\n",
      "video 1/1 (frame 1562/3688) /home/hatsu/coding/CapProj/TestSeg_1/video_input/fight_6.mp4: 384x640 1 Fighter, 20.7ms\n",
      "video 1/1 (frame 1563/3688) /home/hatsu/coding/CapProj/TestSeg_1/video_input/fight_6.mp4: 384x640 1 Fighter, 13.5ms\n",
      "video 1/1 (frame 1564/3688) /home/hatsu/coding/CapProj/TestSeg_1/video_input/fight_6.mp4: 384x640 1 Fighter, 12.6ms\n",
      "video 1/1 (frame 1565/3688) /home/hatsu/coding/CapProj/TestSeg_1/video_input/fight_6.mp4: 384x640 1 Fighter, 16.7ms\n",
      "video 1/1 (frame 1566/3688) /home/hatsu/coding/CapProj/TestSeg_1/video_input/fight_6.mp4: 384x640 1 Fighter, 17.0ms\n",
      "video 1/1 (frame 1567/3688) /home/hatsu/coding/CapProj/TestSeg_1/video_input/fight_6.mp4: 384x640 1 Fighter, 13.4ms\n",
      "video 1/1 (frame 1568/3688) /home/hatsu/coding/CapProj/TestSeg_1/video_input/fight_6.mp4: 384x640 1 Fighter, 13.8ms\n",
      "video 1/1 (frame 1569/3688) /home/hatsu/coding/CapProj/TestSeg_1/video_input/fight_6.mp4: 384x640 1 Fighter, 13.6ms\n",
      "video 1/1 (frame 1570/3688) /home/hatsu/coding/CapProj/TestSeg_1/video_input/fight_6.mp4: 384x640 1 Fighter, 18.9ms\n",
      "video 1/1 (frame 1571/3688) /home/hatsu/coding/CapProj/TestSeg_1/video_input/fight_6.mp4: 384x640 1 Fighter, 14.9ms\n",
      "video 1/1 (frame 1572/3688) /home/hatsu/coding/CapProj/TestSeg_1/video_input/fight_6.mp4: 384x640 1 Fighter, 20.4ms\n",
      "video 1/1 (frame 1573/3688) /home/hatsu/coding/CapProj/TestSeg_1/video_input/fight_6.mp4: 384x640 1 Fighter, 14.5ms\n",
      "video 1/1 (frame 1574/3688) /home/hatsu/coding/CapProj/TestSeg_1/video_input/fight_6.mp4: 384x640 1 Fighter, 13.0ms\n",
      "video 1/1 (frame 1575/3688) /home/hatsu/coding/CapProj/TestSeg_1/video_input/fight_6.mp4: 384x640 1 Fighter, 13.3ms\n",
      "video 1/1 (frame 1576/3688) /home/hatsu/coding/CapProj/TestSeg_1/video_input/fight_6.mp4: 384x640 1 Fighter, 13.4ms\n",
      "video 1/1 (frame 1577/3688) /home/hatsu/coding/CapProj/TestSeg_1/video_input/fight_6.mp4: 384x640 1 Fighter, 14.8ms\n",
      "video 1/1 (frame 1578/3688) /home/hatsu/coding/CapProj/TestSeg_1/video_input/fight_6.mp4: 384x640 1 Fighter, 12.7ms\n",
      "video 1/1 (frame 1579/3688) /home/hatsu/coding/CapProj/TestSeg_1/video_input/fight_6.mp4: 384x640 1 Fighter, 12.6ms\n",
      "video 1/1 (frame 1580/3688) /home/hatsu/coding/CapProj/TestSeg_1/video_input/fight_6.mp4: 384x640 1 Fighter, 14.2ms\n",
      "video 1/1 (frame 1581/3688) /home/hatsu/coding/CapProj/TestSeg_1/video_input/fight_6.mp4: 384x640 1 Fighter, 16.7ms\n",
      "video 1/1 (frame 1582/3688) /home/hatsu/coding/CapProj/TestSeg_1/video_input/fight_6.mp4: 384x640 1 Fighter, 17.1ms\n",
      "video 1/1 (frame 1583/3688) /home/hatsu/coding/CapProj/TestSeg_1/video_input/fight_6.mp4: 384x640 1 Fighter, 14.5ms\n",
      "video 1/1 (frame 1584/3688) /home/hatsu/coding/CapProj/TestSeg_1/video_input/fight_6.mp4: 384x640 1 Fighter, 13.1ms\n",
      "video 1/1 (frame 1585/3688) /home/hatsu/coding/CapProj/TestSeg_1/video_input/fight_6.mp4: 384x640 1 Fighter, 20.9ms\n",
      "video 1/1 (frame 1586/3688) /home/hatsu/coding/CapProj/TestSeg_1/video_input/fight_6.mp4: 384x640 1 Fighter, 22.1ms\n",
      "video 1/1 (frame 1587/3688) /home/hatsu/coding/CapProj/TestSeg_1/video_input/fight_6.mp4: 384x640 2 Fighters, 33.3ms\n",
      "video 1/1 (frame 1588/3688) /home/hatsu/coding/CapProj/TestSeg_1/video_input/fight_6.mp4: 384x640 2 Fighters, 16.0ms\n",
      "video 1/1 (frame 1589/3688) /home/hatsu/coding/CapProj/TestSeg_1/video_input/fight_6.mp4: 384x640 2 Fighters, 13.9ms\n",
      "video 1/1 (frame 1590/3688) /home/hatsu/coding/CapProj/TestSeg_1/video_input/fight_6.mp4: 384x640 2 Fighters, 13.1ms\n",
      "video 1/1 (frame 1591/3688) /home/hatsu/coding/CapProj/TestSeg_1/video_input/fight_6.mp4: 384x640 2 Fighters, 16.0ms\n",
      "video 1/1 (frame 1592/3688) /home/hatsu/coding/CapProj/TestSeg_1/video_input/fight_6.mp4: 384x640 2 Fighters, 15.8ms\n",
      "video 1/1 (frame 1593/3688) /home/hatsu/coding/CapProj/TestSeg_1/video_input/fight_6.mp4: 384x640 2 Fighters, 14.2ms\n",
      "video 1/1 (frame 1594/3688) /home/hatsu/coding/CapProj/TestSeg_1/video_input/fight_6.mp4: 384x640 2 Fighters, 13.2ms\n",
      "video 1/1 (frame 1595/3688) /home/hatsu/coding/CapProj/TestSeg_1/video_input/fight_6.mp4: 384x640 2 Fighters, 18.6ms\n",
      "video 1/1 (frame 1596/3688) /home/hatsu/coding/CapProj/TestSeg_1/video_input/fight_6.mp4: 384x640 2 Fighters, 24.6ms\n",
      "video 1/1 (frame 1597/3688) /home/hatsu/coding/CapProj/TestSeg_1/video_input/fight_6.mp4: 384x640 2 Fighters, 19.9ms\n",
      "video 1/1 (frame 1598/3688) /home/hatsu/coding/CapProj/TestSeg_1/video_input/fight_6.mp4: 384x640 2 Fighters, 28.6ms\n",
      "video 1/1 (frame 1599/3688) /home/hatsu/coding/CapProj/TestSeg_1/video_input/fight_6.mp4: 384x640 2 Fighters, 20.8ms\n",
      "video 1/1 (frame 1600/3688) /home/hatsu/coding/CapProj/TestSeg_1/video_input/fight_6.mp4: 384x640 2 Fighters, 18.4ms\n",
      "video 1/1 (frame 1601/3688) /home/hatsu/coding/CapProj/TestSeg_1/video_input/fight_6.mp4: 384x640 2 Fighters, 19.8ms\n",
      "video 1/1 (frame 1602/3688) /home/hatsu/coding/CapProj/TestSeg_1/video_input/fight_6.mp4: 384x640 2 Fighters, 21.1ms\n",
      "video 1/1 (frame 1603/3688) /home/hatsu/coding/CapProj/TestSeg_1/video_input/fight_6.mp4: 384x640 1 Fighter, 13.2ms\n",
      "video 1/1 (frame 1604/3688) /home/hatsu/coding/CapProj/TestSeg_1/video_input/fight_6.mp4: 384x640 1 Fighter, 13.3ms\n",
      "video 1/1 (frame 1605/3688) /home/hatsu/coding/CapProj/TestSeg_1/video_input/fight_6.mp4: 384x640 1 Fighter, 14.4ms\n",
      "video 1/1 (frame 1606/3688) /home/hatsu/coding/CapProj/TestSeg_1/video_input/fight_6.mp4: 384x640 1 Fighter, 23.9ms\n",
      "video 1/1 (frame 1607/3688) /home/hatsu/coding/CapProj/TestSeg_1/video_input/fight_6.mp4: 384x640 1 Fighter, 13.0ms\n",
      "video 1/1 (frame 1608/3688) /home/hatsu/coding/CapProj/TestSeg_1/video_input/fight_6.mp4: 384x640 1 Fighter, 14.6ms\n",
      "video 1/1 (frame 1609/3688) /home/hatsu/coding/CapProj/TestSeg_1/video_input/fight_6.mp4: 384x640 1 Fighter, 26.3ms\n",
      "video 1/1 (frame 1610/3688) /home/hatsu/coding/CapProj/TestSeg_1/video_input/fight_6.mp4: 384x640 1 Fighter, 14.0ms\n",
      "video 1/1 (frame 1611/3688) /home/hatsu/coding/CapProj/TestSeg_1/video_input/fight_6.mp4: 384x640 1 Fighter, 20.8ms\n",
      "video 1/1 (frame 1612/3688) /home/hatsu/coding/CapProj/TestSeg_1/video_input/fight_6.mp4: 384x640 1 Fighter, 13.3ms\n",
      "video 1/1 (frame 1613/3688) /home/hatsu/coding/CapProj/TestSeg_1/video_input/fight_6.mp4: 384x640 1 Fighter, 13.1ms\n",
      "video 1/1 (frame 1614/3688) /home/hatsu/coding/CapProj/TestSeg_1/video_input/fight_6.mp4: 384x640 1 Fighter, 13.8ms\n",
      "video 1/1 (frame 1615/3688) /home/hatsu/coding/CapProj/TestSeg_1/video_input/fight_6.mp4: 384x640 1 Fighter, 15.8ms\n",
      "video 1/1 (frame 1616/3688) /home/hatsu/coding/CapProj/TestSeg_1/video_input/fight_6.mp4: 384x640 1 Fighter, 13.0ms\n",
      "video 1/1 (frame 1617/3688) /home/hatsu/coding/CapProj/TestSeg_1/video_input/fight_6.mp4: 384x640 1 Fighter, 12.4ms\n",
      "video 1/1 (frame 1618/3688) /home/hatsu/coding/CapProj/TestSeg_1/video_input/fight_6.mp4: 384x640 1 Fighter, 13.7ms\n",
      "video 1/1 (frame 1619/3688) /home/hatsu/coding/CapProj/TestSeg_1/video_input/fight_6.mp4: 384x640 1 Fighter, 13.3ms\n",
      "video 1/1 (frame 1620/3688) /home/hatsu/coding/CapProj/TestSeg_1/video_input/fight_6.mp4: 384x640 (no detections), 12.7ms\n",
      "video 1/1 (frame 1621/3688) /home/hatsu/coding/CapProj/TestSeg_1/video_input/fight_6.mp4: 384x640 (no detections), 21.6ms\n",
      "video 1/1 (frame 1622/3688) /home/hatsu/coding/CapProj/TestSeg_1/video_input/fight_6.mp4: 384x640 (no detections), 23.9ms\n",
      "video 1/1 (frame 1623/3688) /home/hatsu/coding/CapProj/TestSeg_1/video_input/fight_6.mp4: 384x640 2 Fighters, 15.4ms\n",
      "video 1/1 (frame 1624/3688) /home/hatsu/coding/CapProj/TestSeg_1/video_input/fight_6.mp4: 384x640 2 Fighters, 11.9ms\n",
      "video 1/1 (frame 1625/3688) /home/hatsu/coding/CapProj/TestSeg_1/video_input/fight_6.mp4: 384x640 2 Fighters, 20.0ms\n",
      "video 1/1 (frame 1626/3688) /home/hatsu/coding/CapProj/TestSeg_1/video_input/fight_6.mp4: 384x640 1 Fighter, 13.3ms\n",
      "video 1/1 (frame 1627/3688) /home/hatsu/coding/CapProj/TestSeg_1/video_input/fight_6.mp4: 384x640 1 Fighter, 16.0ms\n",
      "video 1/1 (frame 1628/3688) /home/hatsu/coding/CapProj/TestSeg_1/video_input/fight_6.mp4: 384x640 1 Fighter, 13.2ms\n",
      "video 1/1 (frame 1629/3688) /home/hatsu/coding/CapProj/TestSeg_1/video_input/fight_6.mp4: 384x640 1 Fighter, 12.8ms\n",
      "video 1/1 (frame 1630/3688) /home/hatsu/coding/CapProj/TestSeg_1/video_input/fight_6.mp4: 384x640 2 Fighters, 16.3ms\n",
      "video 1/1 (frame 1631/3688) /home/hatsu/coding/CapProj/TestSeg_1/video_input/fight_6.mp4: 384x640 1 Fighter, 18.1ms\n",
      "video 1/1 (frame 1632/3688) /home/hatsu/coding/CapProj/TestSeg_1/video_input/fight_6.mp4: 384x640 1 Fighter, 22.2ms\n",
      "video 1/1 (frame 1633/3688) /home/hatsu/coding/CapProj/TestSeg_1/video_input/fight_6.mp4: 384x640 1 Fighter, 12.8ms\n",
      "video 1/1 (frame 1634/3688) /home/hatsu/coding/CapProj/TestSeg_1/video_input/fight_6.mp4: 384x640 2 Fighters, 13.2ms\n",
      "video 1/1 (frame 1635/3688) /home/hatsu/coding/CapProj/TestSeg_1/video_input/fight_6.mp4: 384x640 2 Fighters, 14.6ms\n",
      "video 1/1 (frame 1636/3688) /home/hatsu/coding/CapProj/TestSeg_1/video_input/fight_6.mp4: 384x640 2 Fighters, 22.1ms\n",
      "video 1/1 (frame 1637/3688) /home/hatsu/coding/CapProj/TestSeg_1/video_input/fight_6.mp4: 384x640 (no detections), 14.3ms\n",
      "video 1/1 (frame 1638/3688) /home/hatsu/coding/CapProj/TestSeg_1/video_input/fight_6.mp4: 384x640 2 Fighters, 15.1ms\n",
      "video 1/1 (frame 1639/3688) /home/hatsu/coding/CapProj/TestSeg_1/video_input/fight_6.mp4: 384x640 1 Fighter, 15.3ms\n",
      "video 1/1 (frame 1640/3688) /home/hatsu/coding/CapProj/TestSeg_1/video_input/fight_6.mp4: 384x640 2 Fighters, 39.6ms\n",
      "video 1/1 (frame 1641/3688) /home/hatsu/coding/CapProj/TestSeg_1/video_input/fight_6.mp4: 384x640 1 Fighter, 24.3ms\n",
      "video 1/1 (frame 1642/3688) /home/hatsu/coding/CapProj/TestSeg_1/video_input/fight_6.mp4: 384x640 1 Fighter, 12.8ms\n",
      "video 1/1 (frame 1643/3688) /home/hatsu/coding/CapProj/TestSeg_1/video_input/fight_6.mp4: 384x640 2 Fighters, 13.0ms\n",
      "video 1/1 (frame 1644/3688) /home/hatsu/coding/CapProj/TestSeg_1/video_input/fight_6.mp4: 384x640 2 Fighters, 15.1ms\n",
      "video 1/1 (frame 1645/3688) /home/hatsu/coding/CapProj/TestSeg_1/video_input/fight_6.mp4: 384x640 1 Fighter, 13.9ms\n",
      "video 1/1 (frame 1646/3688) /home/hatsu/coding/CapProj/TestSeg_1/video_input/fight_6.mp4: 384x640 1 Fighter, 25.9ms\n",
      "video 1/1 (frame 1647/3688) /home/hatsu/coding/CapProj/TestSeg_1/video_input/fight_6.mp4: 384x640 1 Fighter, 15.1ms\n",
      "video 1/1 (frame 1648/3688) /home/hatsu/coding/CapProj/TestSeg_1/video_input/fight_6.mp4: 384x640 1 Fighter, 13.5ms\n",
      "video 1/1 (frame 1649/3688) /home/hatsu/coding/CapProj/TestSeg_1/video_input/fight_6.mp4: 384x640 1 Fighter, 15.7ms\n",
      "video 1/1 (frame 1650/3688) /home/hatsu/coding/CapProj/TestSeg_1/video_input/fight_6.mp4: 384x640 1 Fighter, 26.2ms\n",
      "video 1/1 (frame 1651/3688) /home/hatsu/coding/CapProj/TestSeg_1/video_input/fight_6.mp4: 384x640 1 Fighter, 26.7ms\n",
      "video 1/1 (frame 1652/3688) /home/hatsu/coding/CapProj/TestSeg_1/video_input/fight_6.mp4: 384x640 1 Fighter, 17.9ms\n",
      "video 1/1 (frame 1653/3688) /home/hatsu/coding/CapProj/TestSeg_1/video_input/fight_6.mp4: 384x640 1 Fighter, 21.5ms\n",
      "video 1/1 (frame 1654/3688) /home/hatsu/coding/CapProj/TestSeg_1/video_input/fight_6.mp4: 384x640 1 Fighter, 31.6ms\n",
      "video 1/1 (frame 1655/3688) /home/hatsu/coding/CapProj/TestSeg_1/video_input/fight_6.mp4: 384x640 2 Fighters, 22.1ms\n",
      "video 1/1 (frame 1656/3688) /home/hatsu/coding/CapProj/TestSeg_1/video_input/fight_6.mp4: 384x640 2 Fighters, 21.7ms\n",
      "video 1/1 (frame 1657/3688) /home/hatsu/coding/CapProj/TestSeg_1/video_input/fight_6.mp4: 384x640 2 Fighters, 20.5ms\n",
      "video 1/1 (frame 1658/3688) /home/hatsu/coding/CapProj/TestSeg_1/video_input/fight_6.mp4: 384x640 2 Fighters, 27.1ms\n",
      "video 1/1 (frame 1659/3688) /home/hatsu/coding/CapProj/TestSeg_1/video_input/fight_6.mp4: 384x640 3 Fighters, 21.3ms\n",
      "video 1/1 (frame 1660/3688) /home/hatsu/coding/CapProj/TestSeg_1/video_input/fight_6.mp4: 384x640 3 Fighters, 19.0ms\n",
      "video 1/1 (frame 1661/3688) /home/hatsu/coding/CapProj/TestSeg_1/video_input/fight_6.mp4: 384x640 2 Fighters, 12.2ms\n",
      "video 1/1 (frame 1662/3688) /home/hatsu/coding/CapProj/TestSeg_1/video_input/fight_6.mp4: 384x640 2 Fighters, 24.9ms\n",
      "video 1/1 (frame 1663/3688) /home/hatsu/coding/CapProj/TestSeg_1/video_input/fight_6.mp4: 384x640 2 Fighters, 13.2ms\n",
      "video 1/1 (frame 1664/3688) /home/hatsu/coding/CapProj/TestSeg_1/video_input/fight_6.mp4: 384x640 2 Fighters, 15.4ms\n",
      "video 1/1 (frame 1665/3688) /home/hatsu/coding/CapProj/TestSeg_1/video_input/fight_6.mp4: 384x640 1 Fighter, 13.9ms\n",
      "video 1/1 (frame 1666/3688) /home/hatsu/coding/CapProj/TestSeg_1/video_input/fight_6.mp4: 384x640 2 Fighters, 18.1ms\n",
      "video 1/1 (frame 1667/3688) /home/hatsu/coding/CapProj/TestSeg_1/video_input/fight_6.mp4: 384x640 2 Fighters, 14.1ms\n",
      "video 1/1 (frame 1668/3688) /home/hatsu/coding/CapProj/TestSeg_1/video_input/fight_6.mp4: 384x640 2 Fighters, 16.1ms\n",
      "video 1/1 (frame 1669/3688) /home/hatsu/coding/CapProj/TestSeg_1/video_input/fight_6.mp4: 384x640 2 Fighters, 19.6ms\n",
      "video 1/1 (frame 1670/3688) /home/hatsu/coding/CapProj/TestSeg_1/video_input/fight_6.mp4: 384x640 2 Fighters, 12.5ms\n",
      "video 1/1 (frame 1671/3688) /home/hatsu/coding/CapProj/TestSeg_1/video_input/fight_6.mp4: 384x640 2 Fighters, 13.1ms\n",
      "video 1/1 (frame 1672/3688) /home/hatsu/coding/CapProj/TestSeg_1/video_input/fight_6.mp4: 384x640 2 Fighters, 14.0ms\n",
      "video 1/1 (frame 1673/3688) /home/hatsu/coding/CapProj/TestSeg_1/video_input/fight_6.mp4: 384x640 1 Fighter, 13.0ms\n",
      "video 1/1 (frame 1674/3688) /home/hatsu/coding/CapProj/TestSeg_1/video_input/fight_6.mp4: 384x640 1 Fighter, 12.9ms\n",
      "video 1/1 (frame 1675/3688) /home/hatsu/coding/CapProj/TestSeg_1/video_input/fight_6.mp4: 384x640 1 Fighter, 13.3ms\n",
      "video 1/1 (frame 1676/3688) /home/hatsu/coding/CapProj/TestSeg_1/video_input/fight_6.mp4: 384x640 1 Fighter, 12.7ms\n",
      "video 1/1 (frame 1677/3688) /home/hatsu/coding/CapProj/TestSeg_1/video_input/fight_6.mp4: 384x640 2 Fighters, 13.4ms\n",
      "video 1/1 (frame 1678/3688) /home/hatsu/coding/CapProj/TestSeg_1/video_input/fight_6.mp4: 384x640 2 Fighters, 19.7ms\n",
      "video 1/1 (frame 1679/3688) /home/hatsu/coding/CapProj/TestSeg_1/video_input/fight_6.mp4: 384x640 2 Fighters, 14.5ms\n",
      "video 1/1 (frame 1680/3688) /home/hatsu/coding/CapProj/TestSeg_1/video_input/fight_6.mp4: 384x640 1 Fighter, 13.4ms\n",
      "video 1/1 (frame 1681/3688) /home/hatsu/coding/CapProj/TestSeg_1/video_input/fight_6.mp4: 384x640 1 Fighter, 13.7ms\n",
      "video 1/1 (frame 1682/3688) /home/hatsu/coding/CapProj/TestSeg_1/video_input/fight_6.mp4: 384x640 1 Fighter, 18.5ms\n",
      "video 1/1 (frame 1683/3688) /home/hatsu/coding/CapProj/TestSeg_1/video_input/fight_6.mp4: 384x640 2 Fighters, 12.8ms\n",
      "video 1/1 (frame 1684/3688) /home/hatsu/coding/CapProj/TestSeg_1/video_input/fight_6.mp4: 384x640 2 Fighters, 13.6ms\n",
      "video 1/1 (frame 1685/3688) /home/hatsu/coding/CapProj/TestSeg_1/video_input/fight_6.mp4: 384x640 2 Fighters, 18.4ms\n",
      "video 1/1 (frame 1686/3688) /home/hatsu/coding/CapProj/TestSeg_1/video_input/fight_6.mp4: 384x640 2 Fighters, 13.2ms\n",
      "video 1/1 (frame 1687/3688) /home/hatsu/coding/CapProj/TestSeg_1/video_input/fight_6.mp4: 384x640 2 Fighters, 17.6ms\n",
      "video 1/1 (frame 1688/3688) /home/hatsu/coding/CapProj/TestSeg_1/video_input/fight_6.mp4: 384x640 2 Fighters, 16.2ms\n",
      "video 1/1 (frame 1689/3688) /home/hatsu/coding/CapProj/TestSeg_1/video_input/fight_6.mp4: 384x640 2 Fighters, 15.4ms\n",
      "video 1/1 (frame 1690/3688) /home/hatsu/coding/CapProj/TestSeg_1/video_input/fight_6.mp4: 384x640 2 Fighters, 14.1ms\n",
      "video 1/1 (frame 1691/3688) /home/hatsu/coding/CapProj/TestSeg_1/video_input/fight_6.mp4: 384x640 2 Fighters, 14.1ms\n",
      "video 1/1 (frame 1692/3688) /home/hatsu/coding/CapProj/TestSeg_1/video_input/fight_6.mp4: 384x640 2 Fighters, 12.5ms\n",
      "video 1/1 (frame 1693/3688) /home/hatsu/coding/CapProj/TestSeg_1/video_input/fight_6.mp4: 384x640 2 Fighters, 13.1ms\n",
      "video 1/1 (frame 1694/3688) /home/hatsu/coding/CapProj/TestSeg_1/video_input/fight_6.mp4: 384x640 2 Fighters, 14.9ms\n",
      "video 1/1 (frame 1695/3688) /home/hatsu/coding/CapProj/TestSeg_1/video_input/fight_6.mp4: 384x640 2 Fighters, 13.7ms\n",
      "video 1/1 (frame 1696/3688) /home/hatsu/coding/CapProj/TestSeg_1/video_input/fight_6.mp4: 384x640 2 Fighters, 14.8ms\n",
      "video 1/1 (frame 1697/3688) /home/hatsu/coding/CapProj/TestSeg_1/video_input/fight_6.mp4: 384x640 3 Fighters, 17.8ms\n",
      "video 1/1 (frame 1698/3688) /home/hatsu/coding/CapProj/TestSeg_1/video_input/fight_6.mp4: 384x640 3 Fighters, 33.6ms\n",
      "video 1/1 (frame 1699/3688) /home/hatsu/coding/CapProj/TestSeg_1/video_input/fight_6.mp4: 384x640 3 Fighters, 13.0ms\n",
      "video 1/1 (frame 1700/3688) /home/hatsu/coding/CapProj/TestSeg_1/video_input/fight_6.mp4: 384x640 3 Fighters, 13.6ms\n",
      "video 1/1 (frame 1701/3688) /home/hatsu/coding/CapProj/TestSeg_1/video_input/fight_6.mp4: 384x640 3 Fighters, 14.7ms\n",
      "video 1/1 (frame 1702/3688) /home/hatsu/coding/CapProj/TestSeg_1/video_input/fight_6.mp4: 384x640 3 Fighters, 32.5ms\n",
      "video 1/1 (frame 1703/3688) /home/hatsu/coding/CapProj/TestSeg_1/video_input/fight_6.mp4: 384x640 2 Fighters, 14.8ms\n",
      "video 1/1 (frame 1704/3688) /home/hatsu/coding/CapProj/TestSeg_1/video_input/fight_6.mp4: 384x640 2 Fighters, 14.1ms\n",
      "video 1/1 (frame 1705/3688) /home/hatsu/coding/CapProj/TestSeg_1/video_input/fight_6.mp4: 384x640 3 Fighters, 15.0ms\n",
      "video 1/1 (frame 1706/3688) /home/hatsu/coding/CapProj/TestSeg_1/video_input/fight_6.mp4: 384x640 3 Fighters, 19.7ms\n",
      "video 1/1 (frame 1707/3688) /home/hatsu/coding/CapProj/TestSeg_1/video_input/fight_6.mp4: 384x640 2 Fighters, 17.0ms\n",
      "video 1/1 (frame 1708/3688) /home/hatsu/coding/CapProj/TestSeg_1/video_input/fight_6.mp4: 384x640 2 Fighters, 17.3ms\n",
      "video 1/1 (frame 1709/3688) /home/hatsu/coding/CapProj/TestSeg_1/video_input/fight_6.mp4: 384x640 3 Fighters, 15.5ms\n",
      "video 1/1 (frame 1710/3688) /home/hatsu/coding/CapProj/TestSeg_1/video_input/fight_6.mp4: 384x640 3 Fighters, 14.1ms\n",
      "video 1/1 (frame 1711/3688) /home/hatsu/coding/CapProj/TestSeg_1/video_input/fight_6.mp4: 384x640 2 Fighters, 14.5ms\n",
      "video 1/1 (frame 1712/3688) /home/hatsu/coding/CapProj/TestSeg_1/video_input/fight_6.mp4: 384x640 2 Fighters, 14.0ms\n",
      "video 1/1 (frame 1713/3688) /home/hatsu/coding/CapProj/TestSeg_1/video_input/fight_6.mp4: 384x640 2 Fighters, 28.1ms\n",
      "video 1/1 (frame 1714/3688) /home/hatsu/coding/CapProj/TestSeg_1/video_input/fight_6.mp4: 384x640 2 Fighters, 13.1ms\n",
      "video 1/1 (frame 1715/3688) /home/hatsu/coding/CapProj/TestSeg_1/video_input/fight_6.mp4: 384x640 2 Fighters, 13.8ms\n",
      "video 1/1 (frame 1716/3688) /home/hatsu/coding/CapProj/TestSeg_1/video_input/fight_6.mp4: 384x640 2 Fighters, 40.7ms\n",
      "video 1/1 (frame 1717/3688) /home/hatsu/coding/CapProj/TestSeg_1/video_input/fight_6.mp4: 384x640 2 Fighters, 12.8ms\n",
      "video 1/1 (frame 1718/3688) /home/hatsu/coding/CapProj/TestSeg_1/video_input/fight_6.mp4: 384x640 2 Fighters, 14.4ms\n",
      "video 1/1 (frame 1719/3688) /home/hatsu/coding/CapProj/TestSeg_1/video_input/fight_6.mp4: 384x640 2 Fighters, 14.1ms\n",
      "video 1/1 (frame 1720/3688) /home/hatsu/coding/CapProj/TestSeg_1/video_input/fight_6.mp4: 384x640 2 Fighters, 14.2ms\n",
      "video 1/1 (frame 1721/3688) /home/hatsu/coding/CapProj/TestSeg_1/video_input/fight_6.mp4: 384x640 2 Fighters, 15.0ms\n",
      "video 1/1 (frame 1722/3688) /home/hatsu/coding/CapProj/TestSeg_1/video_input/fight_6.mp4: 384x640 2 Fighters, 16.5ms\n",
      "video 1/1 (frame 1723/3688) /home/hatsu/coding/CapProj/TestSeg_1/video_input/fight_6.mp4: 384x640 2 Fighters, 13.3ms\n",
      "video 1/1 (frame 1724/3688) /home/hatsu/coding/CapProj/TestSeg_1/video_input/fight_6.mp4: 384x640 2 Fighters, 15.2ms\n",
      "video 1/1 (frame 1725/3688) /home/hatsu/coding/CapProj/TestSeg_1/video_input/fight_6.mp4: 384x640 2 Fighters, 17.4ms\n",
      "video 1/1 (frame 1726/3688) /home/hatsu/coding/CapProj/TestSeg_1/video_input/fight_6.mp4: 384x640 2 Fighters, 15.2ms\n",
      "video 1/1 (frame 1727/3688) /home/hatsu/coding/CapProj/TestSeg_1/video_input/fight_6.mp4: 384x640 2 Fighters, 12.8ms\n",
      "video 1/1 (frame 1728/3688) /home/hatsu/coding/CapProj/TestSeg_1/video_input/fight_6.mp4: 384x640 2 Fighters, 13.8ms\n",
      "video 1/1 (frame 1729/3688) /home/hatsu/coding/CapProj/TestSeg_1/video_input/fight_6.mp4: 384x640 2 Fighters, 17.1ms\n",
      "video 1/1 (frame 1730/3688) /home/hatsu/coding/CapProj/TestSeg_1/video_input/fight_6.mp4: 384x640 2 Fighters, 16.2ms\n",
      "video 1/1 (frame 1731/3688) /home/hatsu/coding/CapProj/TestSeg_1/video_input/fight_6.mp4: 384x640 1 Fighter, 13.1ms\n",
      "video 1/1 (frame 1732/3688) /home/hatsu/coding/CapProj/TestSeg_1/video_input/fight_6.mp4: 384x640 1 Fighter, 15.2ms\n",
      "video 1/1 (frame 1733/3688) /home/hatsu/coding/CapProj/TestSeg_1/video_input/fight_6.mp4: 384x640 2 Fighters, 25.5ms\n",
      "video 1/1 (frame 1734/3688) /home/hatsu/coding/CapProj/TestSeg_1/video_input/fight_6.mp4: 384x640 2 Fighters, 30.3ms\n",
      "video 1/1 (frame 1735/3688) /home/hatsu/coding/CapProj/TestSeg_1/video_input/fight_6.mp4: 384x640 2 Fighters, 25.1ms\n",
      "video 1/1 (frame 1736/3688) /home/hatsu/coding/CapProj/TestSeg_1/video_input/fight_6.mp4: 384x640 2 Fighters, 23.3ms\n",
      "video 1/1 (frame 1737/3688) /home/hatsu/coding/CapProj/TestSeg_1/video_input/fight_6.mp4: 384x640 2 Fighters, 18.5ms\n",
      "video 1/1 (frame 1738/3688) /home/hatsu/coding/CapProj/TestSeg_1/video_input/fight_6.mp4: 384x640 2 Fighters, 19.9ms\n",
      "video 1/1 (frame 1739/3688) /home/hatsu/coding/CapProj/TestSeg_1/video_input/fight_6.mp4: 384x640 2 Fighters, 22.2ms\n",
      "video 1/1 (frame 1740/3688) /home/hatsu/coding/CapProj/TestSeg_1/video_input/fight_6.mp4: 384x640 2 Fighters, 17.4ms\n",
      "video 1/1 (frame 1741/3688) /home/hatsu/coding/CapProj/TestSeg_1/video_input/fight_6.mp4: 384x640 2 Fighters, 22.4ms\n",
      "video 1/1 (frame 1742/3688) /home/hatsu/coding/CapProj/TestSeg_1/video_input/fight_6.mp4: 384x640 2 Fighters, 20.7ms\n",
      "video 1/1 (frame 1743/3688) /home/hatsu/coding/CapProj/TestSeg_1/video_input/fight_6.mp4: 384x640 2 Fighters, 22.7ms\n",
      "video 1/1 (frame 1744/3688) /home/hatsu/coding/CapProj/TestSeg_1/video_input/fight_6.mp4: 384x640 2 Fighters, 18.2ms\n",
      "video 1/1 (frame 1745/3688) /home/hatsu/coding/CapProj/TestSeg_1/video_input/fight_6.mp4: 384x640 2 Fighters, 18.5ms\n",
      "video 1/1 (frame 1746/3688) /home/hatsu/coding/CapProj/TestSeg_1/video_input/fight_6.mp4: 384x640 2 Fighters, 31.3ms\n",
      "video 1/1 (frame 1747/3688) /home/hatsu/coding/CapProj/TestSeg_1/video_input/fight_6.mp4: 384x640 2 Fighters, 13.7ms\n",
      "video 1/1 (frame 1748/3688) /home/hatsu/coding/CapProj/TestSeg_1/video_input/fight_6.mp4: 384x640 2 Fighters, 14.5ms\n",
      "video 1/1 (frame 1749/3688) /home/hatsu/coding/CapProj/TestSeg_1/video_input/fight_6.mp4: 384x640 2 Fighters, 12.7ms\n",
      "video 1/1 (frame 1750/3688) /home/hatsu/coding/CapProj/TestSeg_1/video_input/fight_6.mp4: 384x640 3 Fighters, 13.8ms\n",
      "video 1/1 (frame 1751/3688) /home/hatsu/coding/CapProj/TestSeg_1/video_input/fight_6.mp4: 384x640 2 Fighters, 13.3ms\n",
      "video 1/1 (frame 1752/3688) /home/hatsu/coding/CapProj/TestSeg_1/video_input/fight_6.mp4: 384x640 2 Fighters, 19.2ms\n",
      "video 1/1 (frame 1753/3688) /home/hatsu/coding/CapProj/TestSeg_1/video_input/fight_6.mp4: 384x640 2 Fighters, 22.3ms\n",
      "video 1/1 (frame 1754/3688) /home/hatsu/coding/CapProj/TestSeg_1/video_input/fight_6.mp4: 384x640 2 Fighters, 16.7ms\n",
      "video 1/1 (frame 1755/3688) /home/hatsu/coding/CapProj/TestSeg_1/video_input/fight_6.mp4: 384x640 2 Fighters, 16.3ms\n",
      "video 1/1 (frame 1756/3688) /home/hatsu/coding/CapProj/TestSeg_1/video_input/fight_6.mp4: 384x640 2 Fighters, 13.2ms\n",
      "video 1/1 (frame 1757/3688) /home/hatsu/coding/CapProj/TestSeg_1/video_input/fight_6.mp4: 384x640 2 Fighters, 14.2ms\n",
      "video 1/1 (frame 1758/3688) /home/hatsu/coding/CapProj/TestSeg_1/video_input/fight_6.mp4: 384x640 2 Fighters, 16.9ms\n",
      "video 1/1 (frame 1759/3688) /home/hatsu/coding/CapProj/TestSeg_1/video_input/fight_6.mp4: 384x640 3 Fighters, 17.5ms\n",
      "video 1/1 (frame 1760/3688) /home/hatsu/coding/CapProj/TestSeg_1/video_input/fight_6.mp4: 384x640 2 Fighters, 14.9ms\n",
      "video 1/1 (frame 1761/3688) /home/hatsu/coding/CapProj/TestSeg_1/video_input/fight_6.mp4: 384x640 2 Fighters, 35.5ms\n",
      "video 1/1 (frame 1762/3688) /home/hatsu/coding/CapProj/TestSeg_1/video_input/fight_6.mp4: 384x640 2 Fighters, 17.3ms\n",
      "video 1/1 (frame 1763/3688) /home/hatsu/coding/CapProj/TestSeg_1/video_input/fight_6.mp4: 384x640 2 Fighters, 14.5ms\n",
      "video 1/1 (frame 1764/3688) /home/hatsu/coding/CapProj/TestSeg_1/video_input/fight_6.mp4: 384x640 2 Fighters, 14.6ms\n",
      "video 1/1 (frame 1765/3688) /home/hatsu/coding/CapProj/TestSeg_1/video_input/fight_6.mp4: 384x640 3 Fighters, 12.8ms\n",
      "video 1/1 (frame 1766/3688) /home/hatsu/coding/CapProj/TestSeg_1/video_input/fight_6.mp4: 384x640 3 Fighters, 15.4ms\n",
      "video 1/1 (frame 1767/3688) /home/hatsu/coding/CapProj/TestSeg_1/video_input/fight_6.mp4: 384x640 3 Fighters, 14.2ms\n",
      "video 1/1 (frame 1768/3688) /home/hatsu/coding/CapProj/TestSeg_1/video_input/fight_6.mp4: 384x640 3 Fighters, 30.1ms\n",
      "video 1/1 (frame 1769/3688) /home/hatsu/coding/CapProj/TestSeg_1/video_input/fight_6.mp4: 384x640 2 Fighters, 42.9ms\n",
      "video 1/1 (frame 1770/3688) /home/hatsu/coding/CapProj/TestSeg_1/video_input/fight_6.mp4: 384x640 2 Fighters, 15.8ms\n",
      "video 1/1 (frame 1771/3688) /home/hatsu/coding/CapProj/TestSeg_1/video_input/fight_6.mp4: 384x640 2 Fighters, 17.3ms\n",
      "video 1/1 (frame 1772/3688) /home/hatsu/coding/CapProj/TestSeg_1/video_input/fight_6.mp4: 384x640 2 Fighters, 13.9ms\n",
      "video 1/1 (frame 1773/3688) /home/hatsu/coding/CapProj/TestSeg_1/video_input/fight_6.mp4: 384x640 2 Fighters, 13.0ms\n",
      "video 1/1 (frame 1774/3688) /home/hatsu/coding/CapProj/TestSeg_1/video_input/fight_6.mp4: 384x640 2 Fighters, 12.7ms\n",
      "video 1/1 (frame 1775/3688) /home/hatsu/coding/CapProj/TestSeg_1/video_input/fight_6.mp4: 384x640 2 Fighters, 22.9ms\n",
      "video 1/1 (frame 1776/3688) /home/hatsu/coding/CapProj/TestSeg_1/video_input/fight_6.mp4: 384x640 2 Fighters, 14.4ms\n",
      "video 1/1 (frame 1777/3688) /home/hatsu/coding/CapProj/TestSeg_1/video_input/fight_6.mp4: 384x640 2 Fighters, 12.0ms\n",
      "video 1/1 (frame 1778/3688) /home/hatsu/coding/CapProj/TestSeg_1/video_input/fight_6.mp4: 384x640 2 Fighters, 12.9ms\n",
      "video 1/1 (frame 1779/3688) /home/hatsu/coding/CapProj/TestSeg_1/video_input/fight_6.mp4: 384x640 2 Fighters, 13.3ms\n",
      "video 1/1 (frame 1780/3688) /home/hatsu/coding/CapProj/TestSeg_1/video_input/fight_6.mp4: 384x640 2 Fighters, 20.7ms\n",
      "video 1/1 (frame 1781/3688) /home/hatsu/coding/CapProj/TestSeg_1/video_input/fight_6.mp4: 384x640 2 Fighters, 15.3ms\n",
      "video 1/1 (frame 1782/3688) /home/hatsu/coding/CapProj/TestSeg_1/video_input/fight_6.mp4: 384x640 2 Fighters, 14.6ms\n",
      "video 1/1 (frame 1783/3688) /home/hatsu/coding/CapProj/TestSeg_1/video_input/fight_6.mp4: 384x640 2 Fighters, 13.5ms\n",
      "video 1/1 (frame 1784/3688) /home/hatsu/coding/CapProj/TestSeg_1/video_input/fight_6.mp4: 384x640 2 Fighters, 13.5ms\n",
      "video 1/1 (frame 1785/3688) /home/hatsu/coding/CapProj/TestSeg_1/video_input/fight_6.mp4: 384x640 2 Fighters, 13.6ms\n",
      "video 1/1 (frame 1786/3688) /home/hatsu/coding/CapProj/TestSeg_1/video_input/fight_6.mp4: 384x640 2 Fighters, 14.5ms\n",
      "video 1/1 (frame 1787/3688) /home/hatsu/coding/CapProj/TestSeg_1/video_input/fight_6.mp4: 384x640 2 Fighters, 14.0ms\n",
      "video 1/1 (frame 1788/3688) /home/hatsu/coding/CapProj/TestSeg_1/video_input/fight_6.mp4: 384x640 2 Fighters, 18.3ms\n",
      "video 1/1 (frame 1789/3688) /home/hatsu/coding/CapProj/TestSeg_1/video_input/fight_6.mp4: 384x640 3 Fighters, 23.3ms\n",
      "video 1/1 (frame 1790/3688) /home/hatsu/coding/CapProj/TestSeg_1/video_input/fight_6.mp4: 384x640 3 Fighters, 13.1ms\n",
      "video 1/1 (frame 1791/3688) /home/hatsu/coding/CapProj/TestSeg_1/video_input/fight_6.mp4: 384x640 3 Fighters, 13.8ms\n",
      "video 1/1 (frame 1792/3688) /home/hatsu/coding/CapProj/TestSeg_1/video_input/fight_6.mp4: 384x640 3 Fighters, 14.6ms\n",
      "video 1/1 (frame 1793/3688) /home/hatsu/coding/CapProj/TestSeg_1/video_input/fight_6.mp4: 384x640 3 Fighters, 14.9ms\n",
      "video 1/1 (frame 1794/3688) /home/hatsu/coding/CapProj/TestSeg_1/video_input/fight_6.mp4: 384x640 3 Fighters, 14.4ms\n",
      "video 1/1 (frame 1795/3688) /home/hatsu/coding/CapProj/TestSeg_1/video_input/fight_6.mp4: 384x640 2 Fighters, 14.4ms\n",
      "video 1/1 (frame 1796/3688) /home/hatsu/coding/CapProj/TestSeg_1/video_input/fight_6.mp4: 384x640 3 Fighters, 14.0ms\n",
      "video 1/1 (frame 1797/3688) /home/hatsu/coding/CapProj/TestSeg_1/video_input/fight_6.mp4: 384x640 2 Fighters, 18.5ms\n",
      "video 1/1 (frame 1798/3688) /home/hatsu/coding/CapProj/TestSeg_1/video_input/fight_6.mp4: 384x640 2 Fighters, 13.2ms\n",
      "video 1/1 (frame 1799/3688) /home/hatsu/coding/CapProj/TestSeg_1/video_input/fight_6.mp4: 384x640 2 Fighters, 19.1ms\n",
      "video 1/1 (frame 1800/3688) /home/hatsu/coding/CapProj/TestSeg_1/video_input/fight_6.mp4: 384x640 2 Fighters, 14.3ms\n",
      "video 1/1 (frame 1801/3688) /home/hatsu/coding/CapProj/TestSeg_1/video_input/fight_6.mp4: 384x640 2 Fighters, 13.6ms\n",
      "video 1/1 (frame 1802/3688) /home/hatsu/coding/CapProj/TestSeg_1/video_input/fight_6.mp4: 384x640 2 Fighters, 16.5ms\n",
      "video 1/1 (frame 1803/3688) /home/hatsu/coding/CapProj/TestSeg_1/video_input/fight_6.mp4: 384x640 2 Fighters, 13.6ms\n",
      "video 1/1 (frame 1804/3688) /home/hatsu/coding/CapProj/TestSeg_1/video_input/fight_6.mp4: 384x640 3 Fighters, 13.8ms\n",
      "video 1/1 (frame 1805/3688) /home/hatsu/coding/CapProj/TestSeg_1/video_input/fight_6.mp4: 384x640 3 Fighters, 13.9ms\n",
      "video 1/1 (frame 1806/3688) /home/hatsu/coding/CapProj/TestSeg_1/video_input/fight_6.mp4: 384x640 2 Fighters, 25.8ms\n",
      "video 1/1 (frame 1807/3688) /home/hatsu/coding/CapProj/TestSeg_1/video_input/fight_6.mp4: 384x640 2 Fighters, 26.2ms\n",
      "video 1/1 (frame 1808/3688) /home/hatsu/coding/CapProj/TestSeg_1/video_input/fight_6.mp4: 384x640 3 Fighters, 19.9ms\n",
      "video 1/1 (frame 1809/3688) /home/hatsu/coding/CapProj/TestSeg_1/video_input/fight_6.mp4: 384x640 2 Fighters, 21.4ms\n",
      "video 1/1 (frame 1810/3688) /home/hatsu/coding/CapProj/TestSeg_1/video_input/fight_6.mp4: 384x640 3 Fighters, 26.6ms\n",
      "video 1/1 (frame 1811/3688) /home/hatsu/coding/CapProj/TestSeg_1/video_input/fight_6.mp4: 384x640 2 Fighters, 19.1ms\n",
      "video 1/1 (frame 1812/3688) /home/hatsu/coding/CapProj/TestSeg_1/video_input/fight_6.mp4: 384x640 2 Fighters, 21.8ms\n",
      "video 1/1 (frame 1813/3688) /home/hatsu/coding/CapProj/TestSeg_1/video_input/fight_6.mp4: 384x640 2 Fighters, 22.8ms\n",
      "video 1/1 (frame 1814/3688) /home/hatsu/coding/CapProj/TestSeg_1/video_input/fight_6.mp4: 384x640 2 Fighters, 34.4ms\n",
      "video 1/1 (frame 1815/3688) /home/hatsu/coding/CapProj/TestSeg_1/video_input/fight_6.mp4: 384x640 3 Fighters, 17.2ms\n",
      "video 1/1 (frame 1816/3688) /home/hatsu/coding/CapProj/TestSeg_1/video_input/fight_6.mp4: 384x640 3 Fighters, 21.4ms\n",
      "video 1/1 (frame 1817/3688) /home/hatsu/coding/CapProj/TestSeg_1/video_input/fight_6.mp4: 384x640 3 Fighters, 20.3ms\n",
      "video 1/1 (frame 1818/3688) /home/hatsu/coding/CapProj/TestSeg_1/video_input/fight_6.mp4: 384x640 2 Fighters, 13.5ms\n",
      "video 1/1 (frame 1819/3688) /home/hatsu/coding/CapProj/TestSeg_1/video_input/fight_6.mp4: 384x640 2 Fighters, 18.1ms\n",
      "video 1/1 (frame 1820/3688) /home/hatsu/coding/CapProj/TestSeg_1/video_input/fight_6.mp4: 384x640 2 Fighters, 13.7ms\n",
      "video 1/1 (frame 1821/3688) /home/hatsu/coding/CapProj/TestSeg_1/video_input/fight_6.mp4: 384x640 2 Fighters, 14.4ms\n",
      "video 1/1 (frame 1822/3688) /home/hatsu/coding/CapProj/TestSeg_1/video_input/fight_6.mp4: 384x640 2 Fighters, 15.7ms\n",
      "video 1/1 (frame 1823/3688) /home/hatsu/coding/CapProj/TestSeg_1/video_input/fight_6.mp4: 384x640 2 Fighters, 13.0ms\n",
      "video 1/1 (frame 1824/3688) /home/hatsu/coding/CapProj/TestSeg_1/video_input/fight_6.mp4: 384x640 2 Fighters, 14.4ms\n",
      "video 1/1 (frame 1825/3688) /home/hatsu/coding/CapProj/TestSeg_1/video_input/fight_6.mp4: 384x640 2 Fighters, 16.2ms\n",
      "video 1/1 (frame 1826/3688) /home/hatsu/coding/CapProj/TestSeg_1/video_input/fight_6.mp4: 384x640 2 Fighters, 15.6ms\n",
      "video 1/1 (frame 1827/3688) /home/hatsu/coding/CapProj/TestSeg_1/video_input/fight_6.mp4: 384x640 1 Fighter, 12.0ms\n",
      "video 1/1 (frame 1828/3688) /home/hatsu/coding/CapProj/TestSeg_1/video_input/fight_6.mp4: 384x640 1 Fighter, 17.5ms\n",
      "video 1/1 (frame 1829/3688) /home/hatsu/coding/CapProj/TestSeg_1/video_input/fight_6.mp4: 384x640 1 Fighter, 14.8ms\n",
      "video 1/1 (frame 1830/3688) /home/hatsu/coding/CapProj/TestSeg_1/video_input/fight_6.mp4: 384x640 2 Fighters, 13.9ms\n",
      "video 1/1 (frame 1831/3688) /home/hatsu/coding/CapProj/TestSeg_1/video_input/fight_6.mp4: 384x640 2 Fighters, 16.1ms\n",
      "video 1/1 (frame 1832/3688) /home/hatsu/coding/CapProj/TestSeg_1/video_input/fight_6.mp4: 384x640 1 Fighter, 12.6ms\n",
      "video 1/1 (frame 1833/3688) /home/hatsu/coding/CapProj/TestSeg_1/video_input/fight_6.mp4: 384x640 1 Fighter, 13.6ms\n",
      "video 1/1 (frame 1834/3688) /home/hatsu/coding/CapProj/TestSeg_1/video_input/fight_6.mp4: 384x640 1 Fighter, 15.3ms\n",
      "video 1/1 (frame 1835/3688) /home/hatsu/coding/CapProj/TestSeg_1/video_input/fight_6.mp4: 384x640 2 Fighters, 14.7ms\n",
      "video 1/1 (frame 1836/3688) /home/hatsu/coding/CapProj/TestSeg_1/video_input/fight_6.mp4: 384x640 2 Fighters, 15.4ms\n",
      "video 1/1 (frame 1837/3688) /home/hatsu/coding/CapProj/TestSeg_1/video_input/fight_6.mp4: 384x640 1 Fighter, 15.6ms\n",
      "video 1/1 (frame 1838/3688) /home/hatsu/coding/CapProj/TestSeg_1/video_input/fight_6.mp4: 384x640 3 Fighters, 14.3ms\n",
      "video 1/1 (frame 1839/3688) /home/hatsu/coding/CapProj/TestSeg_1/video_input/fight_6.mp4: 384x640 1 Fighter, 16.4ms\n",
      "video 1/1 (frame 1840/3688) /home/hatsu/coding/CapProj/TestSeg_1/video_input/fight_6.mp4: 384x640 2 Fighters, 19.3ms\n",
      "video 1/1 (frame 1841/3688) /home/hatsu/coding/CapProj/TestSeg_1/video_input/fight_6.mp4: 384x640 2 Fighters, 12.3ms\n",
      "video 1/1 (frame 1842/3688) /home/hatsu/coding/CapProj/TestSeg_1/video_input/fight_6.mp4: 384x640 1 Fighter, 13.9ms\n",
      "video 1/1 (frame 1843/3688) /home/hatsu/coding/CapProj/TestSeg_1/video_input/fight_6.mp4: 384x640 1 Fighter, 12.8ms\n",
      "video 1/1 (frame 1844/3688) /home/hatsu/coding/CapProj/TestSeg_1/video_input/fight_6.mp4: 384x640 2 Fighters, 12.2ms\n",
      "video 1/1 (frame 1845/3688) /home/hatsu/coding/CapProj/TestSeg_1/video_input/fight_6.mp4: 384x640 1 Fighter, 17.6ms\n",
      "video 1/1 (frame 1846/3688) /home/hatsu/coding/CapProj/TestSeg_1/video_input/fight_6.mp4: 384x640 1 Fighter, 12.2ms\n",
      "video 1/1 (frame 1847/3688) /home/hatsu/coding/CapProj/TestSeg_1/video_input/fight_6.mp4: 384x640 3 Fighters, 13.9ms\n",
      "video 1/1 (frame 1848/3688) /home/hatsu/coding/CapProj/TestSeg_1/video_input/fight_6.mp4: 384x640 3 Fighters, 13.0ms\n",
      "video 1/1 (frame 1849/3688) /home/hatsu/coding/CapProj/TestSeg_1/video_input/fight_6.mp4: 384x640 2 Fighters, 13.3ms\n",
      "video 1/1 (frame 1850/3688) /home/hatsu/coding/CapProj/TestSeg_1/video_input/fight_6.mp4: 384x640 3 Fighters, 22.3ms\n",
      "video 1/1 (frame 1851/3688) /home/hatsu/coding/CapProj/TestSeg_1/video_input/fight_6.mp4: 384x640 1 Fighter, 14.2ms\n",
      "video 1/1 (frame 1852/3688) /home/hatsu/coding/CapProj/TestSeg_1/video_input/fight_6.mp4: 384x640 1 Fighter, 13.1ms\n",
      "video 1/1 (frame 1853/3688) /home/hatsu/coding/CapProj/TestSeg_1/video_input/fight_6.mp4: 384x640 1 Fighter, 12.7ms\n",
      "video 1/1 (frame 1854/3688) /home/hatsu/coding/CapProj/TestSeg_1/video_input/fight_6.mp4: 384x640 1 Fighter, 39.4ms\n",
      "video 1/1 (frame 1855/3688) /home/hatsu/coding/CapProj/TestSeg_1/video_input/fight_6.mp4: 384x640 2 Fighters, 12.9ms\n",
      "video 1/1 (frame 1856/3688) /home/hatsu/coding/CapProj/TestSeg_1/video_input/fight_6.mp4: 384x640 1 Fighter, 14.0ms\n",
      "video 1/1 (frame 1857/3688) /home/hatsu/coding/CapProj/TestSeg_1/video_input/fight_6.mp4: 384x640 1 Fighter, 13.0ms\n",
      "video 1/1 (frame 1858/3688) /home/hatsu/coding/CapProj/TestSeg_1/video_input/fight_6.mp4: 384x640 1 Fighter, 15.0ms\n",
      "video 1/1 (frame 1859/3688) /home/hatsu/coding/CapProj/TestSeg_1/video_input/fight_6.mp4: 384x640 1 Fighter, 14.5ms\n",
      "video 1/1 (frame 1860/3688) /home/hatsu/coding/CapProj/TestSeg_1/video_input/fight_6.mp4: 384x640 4 Fighters, 14.0ms\n",
      "video 1/1 (frame 1861/3688) /home/hatsu/coding/CapProj/TestSeg_1/video_input/fight_6.mp4: 384x640 3 Fighters, 13.1ms\n",
      "video 1/1 (frame 1862/3688) /home/hatsu/coding/CapProj/TestSeg_1/video_input/fight_6.mp4: 384x640 5 Fighters, 18.5ms\n",
      "video 1/1 (frame 1863/3688) /home/hatsu/coding/CapProj/TestSeg_1/video_input/fight_6.mp4: 384x640 1 Fighter, 14.3ms\n",
      "video 1/1 (frame 1864/3688) /home/hatsu/coding/CapProj/TestSeg_1/video_input/fight_6.mp4: 384x640 1 Fighter, 13.9ms\n",
      "video 1/1 (frame 1865/3688) /home/hatsu/coding/CapProj/TestSeg_1/video_input/fight_6.mp4: 384x640 1 Fighter, 13.8ms\n",
      "video 1/1 (frame 1866/3688) /home/hatsu/coding/CapProj/TestSeg_1/video_input/fight_6.mp4: 384x640 1 Fighter, 14.2ms\n",
      "video 1/1 (frame 1867/3688) /home/hatsu/coding/CapProj/TestSeg_1/video_input/fight_6.mp4: 384x640 1 Fighter, 14.1ms\n",
      "video 1/1 (frame 1868/3688) /home/hatsu/coding/CapProj/TestSeg_1/video_input/fight_6.mp4: 384x640 4 Fighters, 16.1ms\n",
      "video 1/1 (frame 1869/3688) /home/hatsu/coding/CapProj/TestSeg_1/video_input/fight_6.mp4: 384x640 4 Fighters, 15.2ms\n",
      "video 1/1 (frame 1870/3688) /home/hatsu/coding/CapProj/TestSeg_1/video_input/fight_6.mp4: 384x640 1 Fighter, 20.5ms\n",
      "video 1/1 (frame 1871/3688) /home/hatsu/coding/CapProj/TestSeg_1/video_input/fight_6.mp4: 384x640 1 Fighter, 14.6ms\n",
      "video 1/1 (frame 1872/3688) /home/hatsu/coding/CapProj/TestSeg_1/video_input/fight_6.mp4: 384x640 2 Fighters, 16.4ms\n",
      "video 1/1 (frame 1873/3688) /home/hatsu/coding/CapProj/TestSeg_1/video_input/fight_6.mp4: 384x640 4 Fighters, 17.1ms\n",
      "video 1/1 (frame 1874/3688) /home/hatsu/coding/CapProj/TestSeg_1/video_input/fight_6.mp4: 384x640 4 Fighters, 17.4ms\n",
      "video 1/1 (frame 1875/3688) /home/hatsu/coding/CapProj/TestSeg_1/video_input/fight_6.mp4: 384x640 3 Fighters, 19.5ms\n",
      "video 1/1 (frame 1876/3688) /home/hatsu/coding/CapProj/TestSeg_1/video_input/fight_6.mp4: 384x640 3 Fighters, 16.7ms\n",
      "video 1/1 (frame 1877/3688) /home/hatsu/coding/CapProj/TestSeg_1/video_input/fight_6.mp4: 384x640 2 Fighters, 19.8ms\n",
      "video 1/1 (frame 1878/3688) /home/hatsu/coding/CapProj/TestSeg_1/video_input/fight_6.mp4: 384x640 3 Fighters, 23.6ms\n",
      "video 1/1 (frame 1879/3688) /home/hatsu/coding/CapProj/TestSeg_1/video_input/fight_6.mp4: 384x640 3 Fighters, 25.4ms\n",
      "video 1/1 (frame 1880/3688) /home/hatsu/coding/CapProj/TestSeg_1/video_input/fight_6.mp4: 384x640 3 Fighters, 18.3ms\n",
      "video 1/1 (frame 1881/3688) /home/hatsu/coding/CapProj/TestSeg_1/video_input/fight_6.mp4: 384x640 3 Fighters, 19.0ms\n",
      "video 1/1 (frame 1882/3688) /home/hatsu/coding/CapProj/TestSeg_1/video_input/fight_6.mp4: 384x640 3 Fighters, 24.2ms\n",
      "video 1/1 (frame 1883/3688) /home/hatsu/coding/CapProj/TestSeg_1/video_input/fight_6.mp4: 384x640 2 Fighters, 18.9ms\n",
      "video 1/1 (frame 1884/3688) /home/hatsu/coding/CapProj/TestSeg_1/video_input/fight_6.mp4: 384x640 2 Fighters, 19.0ms\n",
      "video 1/1 (frame 1885/3688) /home/hatsu/coding/CapProj/TestSeg_1/video_input/fight_6.mp4: 384x640 2 Fighters, 22.4ms\n",
      "video 1/1 (frame 1886/3688) /home/hatsu/coding/CapProj/TestSeg_1/video_input/fight_6.mp4: 384x640 1 Fighter, 16.6ms\n",
      "video 1/1 (frame 1887/3688) /home/hatsu/coding/CapProj/TestSeg_1/video_input/fight_6.mp4: 384x640 2 Fighters, 25.9ms\n",
      "video 1/1 (frame 1888/3688) /home/hatsu/coding/CapProj/TestSeg_1/video_input/fight_6.mp4: 384x640 2 Fighters, 25.3ms\n",
      "video 1/1 (frame 1889/3688) /home/hatsu/coding/CapProj/TestSeg_1/video_input/fight_6.mp4: 384x640 2 Fighters, 18.5ms\n",
      "video 1/1 (frame 1890/3688) /home/hatsu/coding/CapProj/TestSeg_1/video_input/fight_6.mp4: 384x640 1 Fighter, 12.6ms\n",
      "video 1/1 (frame 1891/3688) /home/hatsu/coding/CapProj/TestSeg_1/video_input/fight_6.mp4: 384x640 1 Fighter, 13.1ms\n",
      "video 1/1 (frame 1892/3688) /home/hatsu/coding/CapProj/TestSeg_1/video_input/fight_6.mp4: 384x640 2 Fighters, 14.5ms\n",
      "video 1/1 (frame 1893/3688) /home/hatsu/coding/CapProj/TestSeg_1/video_input/fight_6.mp4: 384x640 2 Fighters, 12.1ms\n",
      "video 1/1 (frame 1894/3688) /home/hatsu/coding/CapProj/TestSeg_1/video_input/fight_6.mp4: 384x640 2 Fighters, 14.0ms\n",
      "video 1/1 (frame 1895/3688) /home/hatsu/coding/CapProj/TestSeg_1/video_input/fight_6.mp4: 384x640 2 Fighters, 12.9ms\n",
      "video 1/1 (frame 1896/3688) /home/hatsu/coding/CapProj/TestSeg_1/video_input/fight_6.mp4: 384x640 1 Fighter, 13.5ms\n",
      "video 1/1 (frame 1897/3688) /home/hatsu/coding/CapProj/TestSeg_1/video_input/fight_6.mp4: 384x640 2 Fighters, 13.0ms\n",
      "video 1/1 (frame 1898/3688) /home/hatsu/coding/CapProj/TestSeg_1/video_input/fight_6.mp4: 384x640 2 Fighters, 13.6ms\n",
      "video 1/1 (frame 1899/3688) /home/hatsu/coding/CapProj/TestSeg_1/video_input/fight_6.mp4: 384x640 1 Fighter, 32.6ms\n",
      "video 1/1 (frame 1900/3688) /home/hatsu/coding/CapProj/TestSeg_1/video_input/fight_6.mp4: 384x640 1 Fighter, 13.2ms\n",
      "video 1/1 (frame 1901/3688) /home/hatsu/coding/CapProj/TestSeg_1/video_input/fight_6.mp4: 384x640 1 Fighter, 13.3ms\n",
      "video 1/1 (frame 1902/3688) /home/hatsu/coding/CapProj/TestSeg_1/video_input/fight_6.mp4: 384x640 2 Fighters, 14.5ms\n",
      "video 1/1 (frame 1903/3688) /home/hatsu/coding/CapProj/TestSeg_1/video_input/fight_6.mp4: 384x640 1 Fighter, 22.6ms\n",
      "video 1/1 (frame 1904/3688) /home/hatsu/coding/CapProj/TestSeg_1/video_input/fight_6.mp4: 384x640 3 Fighters, 13.4ms\n",
      "video 1/1 (frame 1905/3688) /home/hatsu/coding/CapProj/TestSeg_1/video_input/fight_6.mp4: 384x640 3 Fighters, 168.7ms\n",
      "video 1/1 (frame 1906/3688) /home/hatsu/coding/CapProj/TestSeg_1/video_input/fight_6.mp4: 384x640 4 Fighters, 15.5ms\n",
      "video 1/1 (frame 1907/3688) /home/hatsu/coding/CapProj/TestSeg_1/video_input/fight_6.mp4: 384x640 3 Fighters, 13.6ms\n",
      "video 1/1 (frame 1908/3688) /home/hatsu/coding/CapProj/TestSeg_1/video_input/fight_6.mp4: 384x640 3 Fighters, 15.3ms\n",
      "video 1/1 (frame 1909/3688) /home/hatsu/coding/CapProj/TestSeg_1/video_input/fight_6.mp4: 384x640 2 Fighters, 13.0ms\n",
      "video 1/1 (frame 1910/3688) /home/hatsu/coding/CapProj/TestSeg_1/video_input/fight_6.mp4: 384x640 2 Fighters, 25.1ms\n",
      "video 1/1 (frame 1911/3688) /home/hatsu/coding/CapProj/TestSeg_1/video_input/fight_6.mp4: 384x640 1 Fighter, 13.8ms\n",
      "video 1/1 (frame 1912/3688) /home/hatsu/coding/CapProj/TestSeg_1/video_input/fight_6.mp4: 384x640 1 Fighter, 18.0ms\n",
      "video 1/1 (frame 1913/3688) /home/hatsu/coding/CapProj/TestSeg_1/video_input/fight_6.mp4: 384x640 1 Fighter, 14.2ms\n",
      "video 1/1 (frame 1914/3688) /home/hatsu/coding/CapProj/TestSeg_1/video_input/fight_6.mp4: 384x640 1 Fighter, 13.3ms\n",
      "video 1/1 (frame 1915/3688) /home/hatsu/coding/CapProj/TestSeg_1/video_input/fight_6.mp4: 384x640 1 Fighter, 31.4ms\n",
      "video 1/1 (frame 1916/3688) /home/hatsu/coding/CapProj/TestSeg_1/video_input/fight_6.mp4: 384x640 (no detections), 17.0ms\n",
      "video 1/1 (frame 1917/3688) /home/hatsu/coding/CapProj/TestSeg_1/video_input/fight_6.mp4: 384x640 1 Fighter, 15.3ms\n",
      "video 1/1 (frame 1918/3688) /home/hatsu/coding/CapProj/TestSeg_1/video_input/fight_6.mp4: 384x640 1 Fighter, 15.1ms\n",
      "video 1/1 (frame 1919/3688) /home/hatsu/coding/CapProj/TestSeg_1/video_input/fight_6.mp4: 384x640 1 Fighter, 18.8ms\n",
      "video 1/1 (frame 1920/3688) /home/hatsu/coding/CapProj/TestSeg_1/video_input/fight_6.mp4: 384x640 (no detections), 30.0ms\n",
      "video 1/1 (frame 1921/3688) /home/hatsu/coding/CapProj/TestSeg_1/video_input/fight_6.mp4: 384x640 2 Fighters, 15.8ms\n",
      "video 1/1 (frame 1922/3688) /home/hatsu/coding/CapProj/TestSeg_1/video_input/fight_6.mp4: 384x640 1 Fighter, 22.3ms\n",
      "video 1/1 (frame 1923/3688) /home/hatsu/coding/CapProj/TestSeg_1/video_input/fight_6.mp4: 384x640 1 Fighter, 15.2ms\n",
      "video 1/1 (frame 1924/3688) /home/hatsu/coding/CapProj/TestSeg_1/video_input/fight_6.mp4: 384x640 2 Fighters, 14.3ms\n",
      "video 1/1 (frame 1925/3688) /home/hatsu/coding/CapProj/TestSeg_1/video_input/fight_6.mp4: 384x640 2 Fighters, 14.4ms\n",
      "video 1/1 (frame 1926/3688) /home/hatsu/coding/CapProj/TestSeg_1/video_input/fight_6.mp4: 384x640 (no detections), 14.0ms\n",
      "video 1/1 (frame 1927/3688) /home/hatsu/coding/CapProj/TestSeg_1/video_input/fight_6.mp4: 384x640 2 Fighters, 13.8ms\n",
      "video 1/1 (frame 1928/3688) /home/hatsu/coding/CapProj/TestSeg_1/video_input/fight_6.mp4: 384x640 1 Fighter, 19.0ms\n",
      "video 1/1 (frame 1929/3688) /home/hatsu/coding/CapProj/TestSeg_1/video_input/fight_6.mp4: 384x640 1 Fighter, 13.2ms\n",
      "video 1/1 (frame 1930/3688) /home/hatsu/coding/CapProj/TestSeg_1/video_input/fight_6.mp4: 384x640 1 Fighter, 17.3ms\n",
      "video 1/1 (frame 1931/3688) /home/hatsu/coding/CapProj/TestSeg_1/video_input/fight_6.mp4: 384x640 1 Fighter, 14.3ms\n",
      "video 1/1 (frame 1932/3688) /home/hatsu/coding/CapProj/TestSeg_1/video_input/fight_6.mp4: 384x640 1 Fighter, 13.2ms\n",
      "video 1/1 (frame 1933/3688) /home/hatsu/coding/CapProj/TestSeg_1/video_input/fight_6.mp4: 384x640 1 Fighter, 14.2ms\n",
      "video 1/1 (frame 1934/3688) /home/hatsu/coding/CapProj/TestSeg_1/video_input/fight_6.mp4: 384x640 1 Fighter, 15.4ms\n",
      "video 1/1 (frame 1935/3688) /home/hatsu/coding/CapProj/TestSeg_1/video_input/fight_6.mp4: 384x640 1 Fighter, 13.7ms\n",
      "video 1/1 (frame 1936/3688) /home/hatsu/coding/CapProj/TestSeg_1/video_input/fight_6.mp4: 384x640 1 Fighter, 21.1ms\n",
      "video 1/1 (frame 1937/3688) /home/hatsu/coding/CapProj/TestSeg_1/video_input/fight_6.mp4: 384x640 1 Fighter, 26.3ms\n",
      "video 1/1 (frame 1938/3688) /home/hatsu/coding/CapProj/TestSeg_1/video_input/fight_6.mp4: 384x640 2 Fighters, 15.9ms\n",
      "video 1/1 (frame 1939/3688) /home/hatsu/coding/CapProj/TestSeg_1/video_input/fight_6.mp4: 384x640 1 Fighter, 14.5ms\n",
      "video 1/1 (frame 1940/3688) /home/hatsu/coding/CapProj/TestSeg_1/video_input/fight_6.mp4: 384x640 1 Fighter, 13.7ms\n",
      "video 1/1 (frame 1941/3688) /home/hatsu/coding/CapProj/TestSeg_1/video_input/fight_6.mp4: 384x640 2 Fighters, 13.0ms\n",
      "video 1/1 (frame 1942/3688) /home/hatsu/coding/CapProj/TestSeg_1/video_input/fight_6.mp4: 384x640 2 Fighters, 15.8ms\n",
      "video 1/1 (frame 1943/3688) /home/hatsu/coding/CapProj/TestSeg_1/video_input/fight_6.mp4: 384x640 2 Fighters, 14.0ms\n",
      "video 1/1 (frame 1944/3688) /home/hatsu/coding/CapProj/TestSeg_1/video_input/fight_6.mp4: 384x640 2 Fighters, 17.0ms\n",
      "video 1/1 (frame 1945/3688) /home/hatsu/coding/CapProj/TestSeg_1/video_input/fight_6.mp4: 384x640 2 Fighters, 15.9ms\n",
      "video 1/1 (frame 1946/3688) /home/hatsu/coding/CapProj/TestSeg_1/video_input/fight_6.mp4: 384x640 2 Fighters, 13.6ms\n",
      "video 1/1 (frame 1947/3688) /home/hatsu/coding/CapProj/TestSeg_1/video_input/fight_6.mp4: 384x640 2 Fighters, 15.6ms\n",
      "video 1/1 (frame 1948/3688) /home/hatsu/coding/CapProj/TestSeg_1/video_input/fight_6.mp4: 384x640 2 Fighters, 27.9ms\n",
      "video 1/1 (frame 1949/3688) /home/hatsu/coding/CapProj/TestSeg_1/video_input/fight_6.mp4: 384x640 (no detections), 14.7ms\n",
      "video 1/1 (frame 1950/3688) /home/hatsu/coding/CapProj/TestSeg_1/video_input/fight_6.mp4: 384x640 (no detections), 15.7ms\n",
      "video 1/1 (frame 1951/3688) /home/hatsu/coding/CapProj/TestSeg_1/video_input/fight_6.mp4: 384x640 (no detections), 14.7ms\n",
      "video 1/1 (frame 1952/3688) /home/hatsu/coding/CapProj/TestSeg_1/video_input/fight_6.mp4: 384x640 (no detections), 22.8ms\n",
      "video 1/1 (frame 1953/3688) /home/hatsu/coding/CapProj/TestSeg_1/video_input/fight_6.mp4: 384x640 1 Fighter, 15.5ms\n",
      "video 1/1 (frame 1954/3688) /home/hatsu/coding/CapProj/TestSeg_1/video_input/fight_6.mp4: 384x640 1 Fighter, 13.9ms\n",
      "video 1/1 (frame 1955/3688) /home/hatsu/coding/CapProj/TestSeg_1/video_input/fight_6.mp4: 384x640 3 Fighters, 28.2ms\n",
      "video 1/1 (frame 1956/3688) /home/hatsu/coding/CapProj/TestSeg_1/video_input/fight_6.mp4: 384x640 2 Fighters, 15.2ms\n",
      "video 1/1 (frame 1957/3688) /home/hatsu/coding/CapProj/TestSeg_1/video_input/fight_6.mp4: 384x640 2 Fighters, 14.0ms\n",
      "video 1/1 (frame 1958/3688) /home/hatsu/coding/CapProj/TestSeg_1/video_input/fight_6.mp4: 384x640 2 Fighters, 14.7ms\n",
      "video 1/1 (frame 1959/3688) /home/hatsu/coding/CapProj/TestSeg_1/video_input/fight_6.mp4: 384x640 1 Fighter, 13.8ms\n",
      "video 1/1 (frame 1960/3688) /home/hatsu/coding/CapProj/TestSeg_1/video_input/fight_6.mp4: 384x640 1 Fighter, 20.3ms\n",
      "video 1/1 (frame 1961/3688) /home/hatsu/coding/CapProj/TestSeg_1/video_input/fight_6.mp4: 384x640 2 Fighters, 14.8ms\n",
      "video 1/1 (frame 1962/3688) /home/hatsu/coding/CapProj/TestSeg_1/video_input/fight_6.mp4: 384x640 2 Fighters, 13.0ms\n",
      "video 1/1 (frame 1963/3688) /home/hatsu/coding/CapProj/TestSeg_1/video_input/fight_6.mp4: 384x640 3 Fighters, 30.3ms\n",
      "video 1/1 (frame 1964/3688) /home/hatsu/coding/CapProj/TestSeg_1/video_input/fight_6.mp4: 384x640 3 Fighters, 24.0ms\n",
      "video 1/1 (frame 1965/3688) /home/hatsu/coding/CapProj/TestSeg_1/video_input/fight_6.mp4: 384x640 3 Fighters, 17.3ms\n",
      "video 1/1 (frame 1966/3688) /home/hatsu/coding/CapProj/TestSeg_1/video_input/fight_6.mp4: 384x640 3 Fighters, 20.2ms\n",
      "video 1/1 (frame 1967/3688) /home/hatsu/coding/CapProj/TestSeg_1/video_input/fight_6.mp4: 384x640 2 Fighters, 23.6ms\n",
      "video 1/1 (frame 1968/3688) /home/hatsu/coding/CapProj/TestSeg_1/video_input/fight_6.mp4: 384x640 2 Fighters, 21.8ms\n",
      "video 1/1 (frame 1969/3688) /home/hatsu/coding/CapProj/TestSeg_1/video_input/fight_6.mp4: 384x640 2 Fighters, 21.1ms\n",
      "video 1/1 (frame 1970/3688) /home/hatsu/coding/CapProj/TestSeg_1/video_input/fight_6.mp4: 384x640 2 Fighters, 23.6ms\n",
      "video 1/1 (frame 1971/3688) /home/hatsu/coding/CapProj/TestSeg_1/video_input/fight_6.mp4: 384x640 2 Fighters, 23.4ms\n",
      "video 1/1 (frame 1972/3688) /home/hatsu/coding/CapProj/TestSeg_1/video_input/fight_6.mp4: 384x640 2 Fighters, 16.7ms\n",
      "video 1/1 (frame 1973/3688) /home/hatsu/coding/CapProj/TestSeg_1/video_input/fight_6.mp4: 384x640 2 Fighters, 19.8ms\n",
      "video 1/1 (frame 1974/3688) /home/hatsu/coding/CapProj/TestSeg_1/video_input/fight_6.mp4: 384x640 2 Fighters, 12.8ms\n",
      "video 1/1 (frame 1975/3688) /home/hatsu/coding/CapProj/TestSeg_1/video_input/fight_6.mp4: 384x640 2 Fighters, 13.8ms\n",
      "video 1/1 (frame 1976/3688) /home/hatsu/coding/CapProj/TestSeg_1/video_input/fight_6.mp4: 384x640 1 Fighter, 18.3ms\n",
      "video 1/1 (frame 1977/3688) /home/hatsu/coding/CapProj/TestSeg_1/video_input/fight_6.mp4: 384x640 1 Fighter, 14.0ms\n",
      "video 1/1 (frame 1978/3688) /home/hatsu/coding/CapProj/TestSeg_1/video_input/fight_6.mp4: 384x640 1 Fighter, 13.7ms\n",
      "video 1/1 (frame 1979/3688) /home/hatsu/coding/CapProj/TestSeg_1/video_input/fight_6.mp4: 384x640 2 Fighters, 12.9ms\n",
      "video 1/1 (frame 1980/3688) /home/hatsu/coding/CapProj/TestSeg_1/video_input/fight_6.mp4: 384x640 (no detections), 32.0ms\n",
      "video 1/1 (frame 1981/3688) /home/hatsu/coding/CapProj/TestSeg_1/video_input/fight_6.mp4: 384x640 (no detections), 14.1ms\n",
      "video 1/1 (frame 1982/3688) /home/hatsu/coding/CapProj/TestSeg_1/video_input/fight_6.mp4: 384x640 1 Fighter, 13.4ms\n",
      "video 1/1 (frame 1983/3688) /home/hatsu/coding/CapProj/TestSeg_1/video_input/fight_6.mp4: 384x640 2 Fighters, 15.6ms\n",
      "video 1/1 (frame 1984/3688) /home/hatsu/coding/CapProj/TestSeg_1/video_input/fight_6.mp4: 384x640 2 Fighters, 19.5ms\n",
      "video 1/1 (frame 1985/3688) /home/hatsu/coding/CapProj/TestSeg_1/video_input/fight_6.mp4: 384x640 (no detections), 13.6ms\n",
      "video 1/1 (frame 1986/3688) /home/hatsu/coding/CapProj/TestSeg_1/video_input/fight_6.mp4: 384x640 2 Fighters, 45.9ms\n",
      "video 1/1 (frame 1987/3688) /home/hatsu/coding/CapProj/TestSeg_1/video_input/fight_6.mp4: 384x640 1 Fighter, 14.2ms\n",
      "video 1/1 (frame 1988/3688) /home/hatsu/coding/CapProj/TestSeg_1/video_input/fight_6.mp4: 384x640 2 Fighters, 12.4ms\n",
      "video 1/1 (frame 1989/3688) /home/hatsu/coding/CapProj/TestSeg_1/video_input/fight_6.mp4: 384x640 1 Fighter, 12.8ms\n",
      "video 1/1 (frame 1990/3688) /home/hatsu/coding/CapProj/TestSeg_1/video_input/fight_6.mp4: 384x640 2 Fighters, 13.5ms\n",
      "video 1/1 (frame 1991/3688) /home/hatsu/coding/CapProj/TestSeg_1/video_input/fight_6.mp4: 384x640 2 Fighters, 18.4ms\n",
      "video 1/1 (frame 1992/3688) /home/hatsu/coding/CapProj/TestSeg_1/video_input/fight_6.mp4: 384x640 1 Fighter, 17.5ms\n",
      "video 1/1 (frame 1993/3688) /home/hatsu/coding/CapProj/TestSeg_1/video_input/fight_6.mp4: 384x640 1 Fighter, 16.0ms\n",
      "video 1/1 (frame 1994/3688) /home/hatsu/coding/CapProj/TestSeg_1/video_input/fight_6.mp4: 384x640 1 Fighter, 15.3ms\n",
      "video 1/1 (frame 1995/3688) /home/hatsu/coding/CapProj/TestSeg_1/video_input/fight_6.mp4: 384x640 1 Fighter, 12.9ms\n",
      "video 1/1 (frame 1996/3688) /home/hatsu/coding/CapProj/TestSeg_1/video_input/fight_6.mp4: 384x640 1 Fighter, 13.4ms\n",
      "video 1/1 (frame 1997/3688) /home/hatsu/coding/CapProj/TestSeg_1/video_input/fight_6.mp4: 384x640 1 Fighter, 13.6ms\n",
      "video 1/1 (frame 1998/3688) /home/hatsu/coding/CapProj/TestSeg_1/video_input/fight_6.mp4: 384x640 1 Fighter, 14.9ms\n",
      "video 1/1 (frame 1999/3688) /home/hatsu/coding/CapProj/TestSeg_1/video_input/fight_6.mp4: 384x640 1 Fighter, 11.7ms\n",
      "video 1/1 (frame 2000/3688) /home/hatsu/coding/CapProj/TestSeg_1/video_input/fight_6.mp4: 384x640 (no detections), 18.5ms\n",
      "video 1/1 (frame 2001/3688) /home/hatsu/coding/CapProj/TestSeg_1/video_input/fight_6.mp4: 384x640 (no detections), 14.0ms\n",
      "video 1/1 (frame 2002/3688) /home/hatsu/coding/CapProj/TestSeg_1/video_input/fight_6.mp4: 384x640 (no detections), 23.5ms\n",
      "video 1/1 (frame 2003/3688) /home/hatsu/coding/CapProj/TestSeg_1/video_input/fight_6.mp4: 384x640 1 Fighter, 19.0ms\n",
      "video 1/1 (frame 2004/3688) /home/hatsu/coding/CapProj/TestSeg_1/video_input/fight_6.mp4: 384x640 1 Fighter, 12.3ms\n",
      "video 1/1 (frame 2005/3688) /home/hatsu/coding/CapProj/TestSeg_1/video_input/fight_6.mp4: 384x640 (no detections), 14.9ms\n",
      "video 1/1 (frame 2006/3688) /home/hatsu/coding/CapProj/TestSeg_1/video_input/fight_6.mp4: 384x640 (no detections), 16.7ms\n",
      "video 1/1 (frame 2007/3688) /home/hatsu/coding/CapProj/TestSeg_1/video_input/fight_6.mp4: 384x640 (no detections), 14.0ms\n",
      "video 1/1 (frame 2008/3688) /home/hatsu/coding/CapProj/TestSeg_1/video_input/fight_6.mp4: 384x640 (no detections), 17.7ms\n",
      "video 1/1 (frame 2009/3688) /home/hatsu/coding/CapProj/TestSeg_1/video_input/fight_6.mp4: 384x640 (no detections), 14.8ms\n",
      "video 1/1 (frame 2010/3688) /home/hatsu/coding/CapProj/TestSeg_1/video_input/fight_6.mp4: 384x640 (no detections), 12.7ms\n",
      "video 1/1 (frame 2011/3688) /home/hatsu/coding/CapProj/TestSeg_1/video_input/fight_6.mp4: 384x640 (no detections), 14.3ms\n",
      "video 1/1 (frame 2012/3688) /home/hatsu/coding/CapProj/TestSeg_1/video_input/fight_6.mp4: 384x640 (no detections), 14.5ms\n",
      "video 1/1 (frame 2013/3688) /home/hatsu/coding/CapProj/TestSeg_1/video_input/fight_6.mp4: 384x640 2 Fighters, 13.9ms\n",
      "video 1/1 (frame 2014/3688) /home/hatsu/coding/CapProj/TestSeg_1/video_input/fight_6.mp4: 384x640 2 Fighters, 15.4ms\n",
      "video 1/1 (frame 2015/3688) /home/hatsu/coding/CapProj/TestSeg_1/video_input/fight_6.mp4: 384x640 (no detections), 12.5ms\n",
      "video 1/1 (frame 2016/3688) /home/hatsu/coding/CapProj/TestSeg_1/video_input/fight_6.mp4: 384x640 (no detections), 19.3ms\n",
      "video 1/1 (frame 2017/3688) /home/hatsu/coding/CapProj/TestSeg_1/video_input/fight_6.mp4: 384x640 (no detections), 13.0ms\n",
      "video 1/1 (frame 2018/3688) /home/hatsu/coding/CapProj/TestSeg_1/video_input/fight_6.mp4: 384x640 (no detections), 13.1ms\n",
      "video 1/1 (frame 2019/3688) /home/hatsu/coding/CapProj/TestSeg_1/video_input/fight_6.mp4: 384x640 (no detections), 18.3ms\n",
      "video 1/1 (frame 2020/3688) /home/hatsu/coding/CapProj/TestSeg_1/video_input/fight_6.mp4: 384x640 (no detections), 12.7ms\n",
      "video 1/1 (frame 2021/3688) /home/hatsu/coding/CapProj/TestSeg_1/video_input/fight_6.mp4: 384x640 (no detections), 35.1ms\n",
      "video 1/1 (frame 2022/3688) /home/hatsu/coding/CapProj/TestSeg_1/video_input/fight_6.mp4: 384x640 1 Fighter, 14.1ms\n",
      "video 1/1 (frame 2023/3688) /home/hatsu/coding/CapProj/TestSeg_1/video_input/fight_6.mp4: 384x640 (no detections), 16.0ms\n",
      "video 1/1 (frame 2024/3688) /home/hatsu/coding/CapProj/TestSeg_1/video_input/fight_6.mp4: 384x640 (no detections), 18.5ms\n",
      "video 1/1 (frame 2025/3688) /home/hatsu/coding/CapProj/TestSeg_1/video_input/fight_6.mp4: 384x640 (no detections), 17.6ms\n",
      "video 1/1 (frame 2026/3688) /home/hatsu/coding/CapProj/TestSeg_1/video_input/fight_6.mp4: 384x640 (no detections), 14.2ms\n",
      "video 1/1 (frame 2027/3688) /home/hatsu/coding/CapProj/TestSeg_1/video_input/fight_6.mp4: 384x640 1 Fighter, 15.1ms\n",
      "video 1/1 (frame 2028/3688) /home/hatsu/coding/CapProj/TestSeg_1/video_input/fight_6.mp4: 384x640 1 Fighter, 13.0ms\n",
      "video 1/1 (frame 2029/3688) /home/hatsu/coding/CapProj/TestSeg_1/video_input/fight_6.mp4: 384x640 1 Fighter, 14.4ms\n",
      "video 1/1 (frame 2030/3688) /home/hatsu/coding/CapProj/TestSeg_1/video_input/fight_6.mp4: 384x640 1 Fighter, 12.5ms\n",
      "video 1/1 (frame 2031/3688) /home/hatsu/coding/CapProj/TestSeg_1/video_input/fight_6.mp4: 384x640 (no detections), 14.3ms\n",
      "video 1/1 (frame 2032/3688) /home/hatsu/coding/CapProj/TestSeg_1/video_input/fight_6.mp4: 384x640 (no detections), 18.3ms\n",
      "video 1/1 (frame 2033/3688) /home/hatsu/coding/CapProj/TestSeg_1/video_input/fight_6.mp4: 384x640 1 Fighter, 24.9ms\n",
      "video 1/1 (frame 2034/3688) /home/hatsu/coding/CapProj/TestSeg_1/video_input/fight_6.mp4: 384x640 1 Fighter, 18.6ms\n",
      "video 1/1 (frame 2035/3688) /home/hatsu/coding/CapProj/TestSeg_1/video_input/fight_6.mp4: 384x640 1 Fighter, 18.6ms\n",
      "video 1/1 (frame 2036/3688) /home/hatsu/coding/CapProj/TestSeg_1/video_input/fight_6.mp4: 384x640 1 Fighter, 12.8ms\n",
      "video 1/1 (frame 2037/3688) /home/hatsu/coding/CapProj/TestSeg_1/video_input/fight_6.mp4: 384x640 (no detections), 17.6ms\n",
      "video 1/1 (frame 2038/3688) /home/hatsu/coding/CapProj/TestSeg_1/video_input/fight_6.mp4: 384x640 (no detections), 26.4ms\n",
      "video 1/1 (frame 2039/3688) /home/hatsu/coding/CapProj/TestSeg_1/video_input/fight_6.mp4: 384x640 1 Fighter, 23.9ms\n",
      "video 1/1 (frame 2040/3688) /home/hatsu/coding/CapProj/TestSeg_1/video_input/fight_6.mp4: 384x640 (no detections), 18.2ms\n",
      "video 1/1 (frame 2041/3688) /home/hatsu/coding/CapProj/TestSeg_1/video_input/fight_6.mp4: 384x640 1 Fighter, 49.0ms\n",
      "video 1/1 (frame 2042/3688) /home/hatsu/coding/CapProj/TestSeg_1/video_input/fight_6.mp4: 384x640 2 Fighters, 26.1ms\n",
      "video 1/1 (frame 2043/3688) /home/hatsu/coding/CapProj/TestSeg_1/video_input/fight_6.mp4: 384x640 3 Fighters, 21.6ms\n",
      "video 1/1 (frame 2044/3688) /home/hatsu/coding/CapProj/TestSeg_1/video_input/fight_6.mp4: 384x640 3 Fighters, 18.3ms\n",
      "video 1/1 (frame 2045/3688) /home/hatsu/coding/CapProj/TestSeg_1/video_input/fight_6.mp4: 384x640 3 Fighters, 18.7ms\n",
      "video 1/1 (frame 2046/3688) /home/hatsu/coding/CapProj/TestSeg_1/video_input/fight_6.mp4: 384x640 3 Fighters, 27.0ms\n",
      "video 1/1 (frame 2047/3688) /home/hatsu/coding/CapProj/TestSeg_1/video_input/fight_6.mp4: 384x640 3 Fighters, 33.2ms\n",
      "video 1/1 (frame 2048/3688) /home/hatsu/coding/CapProj/TestSeg_1/video_input/fight_6.mp4: 384x640 1 Fighter, 24.6ms\n",
      "video 1/1 (frame 2049/3688) /home/hatsu/coding/CapProj/TestSeg_1/video_input/fight_6.mp4: 384x640 1 Fighter, 23.2ms\n",
      "video 1/1 (frame 2050/3688) /home/hatsu/coding/CapProj/TestSeg_1/video_input/fight_6.mp4: 384x640 1 Fighter, 22.9ms\n",
      "video 1/1 (frame 2051/3688) /home/hatsu/coding/CapProj/TestSeg_1/video_input/fight_6.mp4: 384x640 1 Fighter, 20.5ms\n",
      "video 1/1 (frame 2052/3688) /home/hatsu/coding/CapProj/TestSeg_1/video_input/fight_6.mp4: 384x640 2 Fighters, 21.1ms\n",
      "video 1/1 (frame 2053/3688) /home/hatsu/coding/CapProj/TestSeg_1/video_input/fight_6.mp4: 384x640 2 Fighters, 18.7ms\n",
      "video 1/1 (frame 2054/3688) /home/hatsu/coding/CapProj/TestSeg_1/video_input/fight_6.mp4: 384x640 2 Fighters, 22.0ms\n",
      "video 1/1 (frame 2055/3688) /home/hatsu/coding/CapProj/TestSeg_1/video_input/fight_6.mp4: 384x640 2 Fighters, 17.9ms\n",
      "video 1/1 (frame 2056/3688) /home/hatsu/coding/CapProj/TestSeg_1/video_input/fight_6.mp4: 384x640 2 Fighters, 23.2ms\n",
      "video 1/1 (frame 2057/3688) /home/hatsu/coding/CapProj/TestSeg_1/video_input/fight_6.mp4: 384x640 2 Fighters, 14.4ms\n",
      "video 1/1 (frame 2058/3688) /home/hatsu/coding/CapProj/TestSeg_1/video_input/fight_6.mp4: 384x640 2 Fighters, 22.2ms\n",
      "video 1/1 (frame 2059/3688) /home/hatsu/coding/CapProj/TestSeg_1/video_input/fight_6.mp4: 384x640 2 Fighters, 15.3ms\n",
      "video 1/1 (frame 2060/3688) /home/hatsu/coding/CapProj/TestSeg_1/video_input/fight_6.mp4: 384x640 3 Fighters, 14.9ms\n",
      "video 1/1 (frame 2061/3688) /home/hatsu/coding/CapProj/TestSeg_1/video_input/fight_6.mp4: 384x640 2 Fighters, 14.7ms\n",
      "video 1/1 (frame 2062/3688) /home/hatsu/coding/CapProj/TestSeg_1/video_input/fight_6.mp4: 384x640 2 Fighters, 14.0ms\n",
      "video 1/1 (frame 2063/3688) /home/hatsu/coding/CapProj/TestSeg_1/video_input/fight_6.mp4: 384x640 3 Fighters, 13.4ms\n",
      "video 1/1 (frame 2064/3688) /home/hatsu/coding/CapProj/TestSeg_1/video_input/fight_6.mp4: 384x640 3 Fighters, 13.9ms\n",
      "video 1/1 (frame 2065/3688) /home/hatsu/coding/CapProj/TestSeg_1/video_input/fight_6.mp4: 384x640 4 Fighters, 16.1ms\n",
      "video 1/1 (frame 2066/3688) /home/hatsu/coding/CapProj/TestSeg_1/video_input/fight_6.mp4: 384x640 2 Fighters, 20.2ms\n",
      "video 1/1 (frame 2067/3688) /home/hatsu/coding/CapProj/TestSeg_1/video_input/fight_6.mp4: 384x640 2 Fighters, 18.2ms\n",
      "video 1/1 (frame 2068/3688) /home/hatsu/coding/CapProj/TestSeg_1/video_input/fight_6.mp4: 384x640 2 Fighters, 17.8ms\n",
      "video 1/1 (frame 2069/3688) /home/hatsu/coding/CapProj/TestSeg_1/video_input/fight_6.mp4: 384x640 2 Fighters, 13.7ms\n",
      "video 1/1 (frame 2070/3688) /home/hatsu/coding/CapProj/TestSeg_1/video_input/fight_6.mp4: 384x640 2 Fighters, 21.7ms\n",
      "video 1/1 (frame 2071/3688) /home/hatsu/coding/CapProj/TestSeg_1/video_input/fight_6.mp4: 384x640 2 Fighters, 16.4ms\n",
      "video 1/1 (frame 2072/3688) /home/hatsu/coding/CapProj/TestSeg_1/video_input/fight_6.mp4: 384x640 4 Fighters, 13.4ms\n",
      "video 1/1 (frame 2073/3688) /home/hatsu/coding/CapProj/TestSeg_1/video_input/fight_6.mp4: 384x640 2 Fighters, 14.3ms\n",
      "video 1/1 (frame 2074/3688) /home/hatsu/coding/CapProj/TestSeg_1/video_input/fight_6.mp4: 384x640 2 Fighters, 46.2ms\n",
      "video 1/1 (frame 2075/3688) /home/hatsu/coding/CapProj/TestSeg_1/video_input/fight_6.mp4: 384x640 2 Fighters, 23.5ms\n",
      "video 1/1 (frame 2076/3688) /home/hatsu/coding/CapProj/TestSeg_1/video_input/fight_6.mp4: 384x640 2 Fighters, 14.5ms\n",
      "video 1/1 (frame 2077/3688) /home/hatsu/coding/CapProj/TestSeg_1/video_input/fight_6.mp4: 384x640 2 Fighters, 15.2ms\n",
      "video 1/1 (frame 2078/3688) /home/hatsu/coding/CapProj/TestSeg_1/video_input/fight_6.mp4: 384x640 3 Fighters, 16.6ms\n",
      "video 1/1 (frame 2079/3688) /home/hatsu/coding/CapProj/TestSeg_1/video_input/fight_6.mp4: 384x640 2 Fighters, 16.2ms\n",
      "video 1/1 (frame 2080/3688) /home/hatsu/coding/CapProj/TestSeg_1/video_input/fight_6.mp4: 384x640 2 Fighters, 17.9ms\n",
      "video 1/1 (frame 2081/3688) /home/hatsu/coding/CapProj/TestSeg_1/video_input/fight_6.mp4: 384x640 2 Fighters, 16.1ms\n",
      "video 1/1 (frame 2082/3688) /home/hatsu/coding/CapProj/TestSeg_1/video_input/fight_6.mp4: 384x640 2 Fighters, 24.8ms\n",
      "video 1/1 (frame 2083/3688) /home/hatsu/coding/CapProj/TestSeg_1/video_input/fight_6.mp4: 384x640 2 Fighters, 16.4ms\n",
      "video 1/1 (frame 2084/3688) /home/hatsu/coding/CapProj/TestSeg_1/video_input/fight_6.mp4: 384x640 3 Fighters, 14.6ms\n",
      "video 1/1 (frame 2085/3688) /home/hatsu/coding/CapProj/TestSeg_1/video_input/fight_6.mp4: 384x640 3 Fighters, 23.1ms\n",
      "video 1/1 (frame 2086/3688) /home/hatsu/coding/CapProj/TestSeg_1/video_input/fight_6.mp4: 384x640 3 Fighters, 13.0ms\n",
      "video 1/1 (frame 2087/3688) /home/hatsu/coding/CapProj/TestSeg_1/video_input/fight_6.mp4: 384x640 3 Fighters, 16.0ms\n",
      "video 1/1 (frame 2088/3688) /home/hatsu/coding/CapProj/TestSeg_1/video_input/fight_6.mp4: 384x640 3 Fighters, 15.4ms\n",
      "video 1/1 (frame 2089/3688) /home/hatsu/coding/CapProj/TestSeg_1/video_input/fight_6.mp4: 384x640 3 Fighters, 12.1ms\n",
      "video 1/1 (frame 2090/3688) /home/hatsu/coding/CapProj/TestSeg_1/video_input/fight_6.mp4: 384x640 3 Fighters, 20.6ms\n",
      "video 1/1 (frame 2091/3688) /home/hatsu/coding/CapProj/TestSeg_1/video_input/fight_6.mp4: 384x640 3 Fighters, 14.7ms\n",
      "video 1/1 (frame 2092/3688) /home/hatsu/coding/CapProj/TestSeg_1/video_input/fight_6.mp4: 384x640 3 Fighters, 15.7ms\n",
      "video 1/1 (frame 2093/3688) /home/hatsu/coding/CapProj/TestSeg_1/video_input/fight_6.mp4: 384x640 3 Fighters, 15.9ms\n",
      "video 1/1 (frame 2094/3688) /home/hatsu/coding/CapProj/TestSeg_1/video_input/fight_6.mp4: 384x640 3 Fighters, 23.4ms\n",
      "video 1/1 (frame 2095/3688) /home/hatsu/coding/CapProj/TestSeg_1/video_input/fight_6.mp4: 384x640 3 Fighters, 15.1ms\n",
      "video 1/1 (frame 2096/3688) /home/hatsu/coding/CapProj/TestSeg_1/video_input/fight_6.mp4: 384x640 3 Fighters, 14.0ms\n",
      "video 1/1 (frame 2097/3688) /home/hatsu/coding/CapProj/TestSeg_1/video_input/fight_6.mp4: 384x640 3 Fighters, 13.8ms\n",
      "video 1/1 (frame 2098/3688) /home/hatsu/coding/CapProj/TestSeg_1/video_input/fight_6.mp4: 384x640 3 Fighters, 19.2ms\n",
      "video 1/1 (frame 2099/3688) /home/hatsu/coding/CapProj/TestSeg_1/video_input/fight_6.mp4: 384x640 3 Fighters, 13.5ms\n",
      "video 1/1 (frame 2100/3688) /home/hatsu/coding/CapProj/TestSeg_1/video_input/fight_6.mp4: 384x640 3 Fighters, 14.6ms\n",
      "video 1/1 (frame 2101/3688) /home/hatsu/coding/CapProj/TestSeg_1/video_input/fight_6.mp4: 384x640 3 Fighters, 36.1ms\n",
      "video 1/1 (frame 2102/3688) /home/hatsu/coding/CapProj/TestSeg_1/video_input/fight_6.mp4: 384x640 3 Fighters, 13.3ms\n",
      "video 1/1 (frame 2103/3688) /home/hatsu/coding/CapProj/TestSeg_1/video_input/fight_6.mp4: 384x640 2 Fighters, 12.9ms\n",
      "video 1/1 (frame 2104/3688) /home/hatsu/coding/CapProj/TestSeg_1/video_input/fight_6.mp4: 384x640 2 Fighters, 15.6ms\n",
      "video 1/1 (frame 2105/3688) /home/hatsu/coding/CapProj/TestSeg_1/video_input/fight_6.mp4: 384x640 2 Fighters, 15.2ms\n",
      "video 1/1 (frame 2106/3688) /home/hatsu/coding/CapProj/TestSeg_1/video_input/fight_6.mp4: 384x640 2 Fighters, 18.2ms\n",
      "video 1/1 (frame 2107/3688) /home/hatsu/coding/CapProj/TestSeg_1/video_input/fight_6.mp4: 384x640 3 Fighters, 15.7ms\n",
      "video 1/1 (frame 2108/3688) /home/hatsu/coding/CapProj/TestSeg_1/video_input/fight_6.mp4: 384x640 3 Fighters, 14.1ms\n",
      "video 1/1 (frame 2109/3688) /home/hatsu/coding/CapProj/TestSeg_1/video_input/fight_6.mp4: 384x640 3 Fighters, 15.8ms\n",
      "video 1/1 (frame 2110/3688) /home/hatsu/coding/CapProj/TestSeg_1/video_input/fight_6.mp4: 384x640 3 Fighters, 15.3ms\n",
      "video 1/1 (frame 2111/3688) /home/hatsu/coding/CapProj/TestSeg_1/video_input/fight_6.mp4: 384x640 3 Fighters, 14.9ms\n",
      "video 1/1 (frame 2112/3688) /home/hatsu/coding/CapProj/TestSeg_1/video_input/fight_6.mp4: 384x640 2 Fighters, 14.6ms\n",
      "video 1/1 (frame 2113/3688) /home/hatsu/coding/CapProj/TestSeg_1/video_input/fight_6.mp4: 384x640 2 Fighters, 18.6ms\n",
      "video 1/1 (frame 2114/3688) /home/hatsu/coding/CapProj/TestSeg_1/video_input/fight_6.mp4: 384x640 2 Fighters, 16.1ms\n",
      "video 1/1 (frame 2115/3688) /home/hatsu/coding/CapProj/TestSeg_1/video_input/fight_6.mp4: 384x640 2 Fighters, 13.9ms\n",
      "video 1/1 (frame 2116/3688) /home/hatsu/coding/CapProj/TestSeg_1/video_input/fight_6.mp4: 384x640 2 Fighters, 14.3ms\n",
      "video 1/1 (frame 2117/3688) /home/hatsu/coding/CapProj/TestSeg_1/video_input/fight_6.mp4: 384x640 2 Fighters, 14.8ms\n",
      "video 1/1 (frame 2118/3688) /home/hatsu/coding/CapProj/TestSeg_1/video_input/fight_6.mp4: 384x640 2 Fighters, 14.8ms\n",
      "video 1/1 (frame 2119/3688) /home/hatsu/coding/CapProj/TestSeg_1/video_input/fight_6.mp4: 384x640 2 Fighters, 17.2ms\n",
      "video 1/1 (frame 2120/3688) /home/hatsu/coding/CapProj/TestSeg_1/video_input/fight_6.mp4: 384x640 2 Fighters, 15.1ms\n",
      "video 1/1 (frame 2121/3688) /home/hatsu/coding/CapProj/TestSeg_1/video_input/fight_6.mp4: 384x640 2 Fighters, 16.8ms\n",
      "video 1/1 (frame 2122/3688) /home/hatsu/coding/CapProj/TestSeg_1/video_input/fight_6.mp4: 384x640 2 Fighters, 24.3ms\n",
      "video 1/1 (frame 2123/3688) /home/hatsu/coding/CapProj/TestSeg_1/video_input/fight_6.mp4: 384x640 2 Fighters, 16.2ms\n",
      "video 1/1 (frame 2124/3688) /home/hatsu/coding/CapProj/TestSeg_1/video_input/fight_6.mp4: 384x640 2 Fighters, 25.8ms\n",
      "video 1/1 (frame 2125/3688) /home/hatsu/coding/CapProj/TestSeg_1/video_input/fight_6.mp4: 384x640 2 Fighters, 13.9ms\n",
      "video 1/1 (frame 2126/3688) /home/hatsu/coding/CapProj/TestSeg_1/video_input/fight_6.mp4: 384x640 2 Fighters, 19.6ms\n",
      "video 1/1 (frame 2127/3688) /home/hatsu/coding/CapProj/TestSeg_1/video_input/fight_6.mp4: 384x640 2 Fighters, 20.4ms\n",
      "video 1/1 (frame 2128/3688) /home/hatsu/coding/CapProj/TestSeg_1/video_input/fight_6.mp4: 384x640 2 Fighters, 26.0ms\n",
      "video 1/1 (frame 2129/3688) /home/hatsu/coding/CapProj/TestSeg_1/video_input/fight_6.mp4: 384x640 2 Fighters, 17.8ms\n",
      "video 1/1 (frame 2130/3688) /home/hatsu/coding/CapProj/TestSeg_1/video_input/fight_6.mp4: 384x640 2 Fighters, 20.1ms\n",
      "video 1/1 (frame 2131/3688) /home/hatsu/coding/CapProj/TestSeg_1/video_input/fight_6.mp4: 384x640 2 Fighters, 22.6ms\n",
      "video 1/1 (frame 2132/3688) /home/hatsu/coding/CapProj/TestSeg_1/video_input/fight_6.mp4: 384x640 3 Fighters, 22.1ms\n",
      "video 1/1 (frame 2133/3688) /home/hatsu/coding/CapProj/TestSeg_1/video_input/fight_6.mp4: 384x640 3 Fighters, 21.3ms\n",
      "video 1/1 (frame 2134/3688) /home/hatsu/coding/CapProj/TestSeg_1/video_input/fight_6.mp4: 384x640 3 Fighters, 17.8ms\n",
      "video 1/1 (frame 2135/3688) /home/hatsu/coding/CapProj/TestSeg_1/video_input/fight_6.mp4: 384x640 3 Fighters, 23.9ms\n",
      "video 1/1 (frame 2136/3688) /home/hatsu/coding/CapProj/TestSeg_1/video_input/fight_6.mp4: 384x640 1 Fighter, 22.7ms\n",
      "video 1/1 (frame 2137/3688) /home/hatsu/coding/CapProj/TestSeg_1/video_input/fight_6.mp4: 384x640 2 Fighters, 12.1ms\n",
      "video 1/1 (frame 2138/3688) /home/hatsu/coding/CapProj/TestSeg_1/video_input/fight_6.mp4: 384x640 1 Fighter, 12.6ms\n",
      "video 1/1 (frame 2139/3688) /home/hatsu/coding/CapProj/TestSeg_1/video_input/fight_6.mp4: 384x640 1 Fighter, 15.0ms\n",
      "video 1/1 (frame 2140/3688) /home/hatsu/coding/CapProj/TestSeg_1/video_input/fight_6.mp4: 384x640 1 Fighter, 13.5ms\n",
      "video 1/1 (frame 2141/3688) /home/hatsu/coding/CapProj/TestSeg_1/video_input/fight_6.mp4: 384x640 1 Fighter, 14.3ms\n",
      "video 1/1 (frame 2142/3688) /home/hatsu/coding/CapProj/TestSeg_1/video_input/fight_6.mp4: 384x640 2 Fighters, 14.2ms\n",
      "video 1/1 (frame 2143/3688) /home/hatsu/coding/CapProj/TestSeg_1/video_input/fight_6.mp4: 384x640 2 Fighters, 15.2ms\n",
      "video 1/1 (frame 2144/3688) /home/hatsu/coding/CapProj/TestSeg_1/video_input/fight_6.mp4: 384x640 1 Fighter, 20.4ms\n",
      "video 1/1 (frame 2145/3688) /home/hatsu/coding/CapProj/TestSeg_1/video_input/fight_6.mp4: 384x640 1 Fighter, 17.5ms\n",
      "video 1/1 (frame 2146/3688) /home/hatsu/coding/CapProj/TestSeg_1/video_input/fight_6.mp4: 384x640 1 Fighter, 14.1ms\n",
      "video 1/1 (frame 2147/3688) /home/hatsu/coding/CapProj/TestSeg_1/video_input/fight_6.mp4: 384x640 1 Fighter, 14.3ms\n",
      "video 1/1 (frame 2148/3688) /home/hatsu/coding/CapProj/TestSeg_1/video_input/fight_6.mp4: 384x640 1 Fighter, 16.8ms\n",
      "video 1/1 (frame 2149/3688) /home/hatsu/coding/CapProj/TestSeg_1/video_input/fight_6.mp4: 384x640 1 Fighter, 13.2ms\n",
      "video 1/1 (frame 2150/3688) /home/hatsu/coding/CapProj/TestSeg_1/video_input/fight_6.mp4: 384x640 1 Fighter, 19.6ms\n",
      "video 1/1 (frame 2151/3688) /home/hatsu/coding/CapProj/TestSeg_1/video_input/fight_6.mp4: 384x640 1 Fighter, 16.7ms\n",
      "video 1/1 (frame 2152/3688) /home/hatsu/coding/CapProj/TestSeg_1/video_input/fight_6.mp4: 384x640 1 Fighter, 21.5ms\n",
      "video 1/1 (frame 2153/3688) /home/hatsu/coding/CapProj/TestSeg_1/video_input/fight_6.mp4: 384x640 1 Fighter, 17.3ms\n",
      "video 1/1 (frame 2154/3688) /home/hatsu/coding/CapProj/TestSeg_1/video_input/fight_6.mp4: 384x640 1 Fighter, 13.0ms\n",
      "video 1/1 (frame 2155/3688) /home/hatsu/coding/CapProj/TestSeg_1/video_input/fight_6.mp4: 384x640 1 Fighter, 14.7ms\n",
      "video 1/1 (frame 2156/3688) /home/hatsu/coding/CapProj/TestSeg_1/video_input/fight_6.mp4: 384x640 1 Fighter, 13.5ms\n",
      "video 1/1 (frame 2157/3688) /home/hatsu/coding/CapProj/TestSeg_1/video_input/fight_6.mp4: 384x640 1 Fighter, 13.4ms\n",
      "video 1/1 (frame 2158/3688) /home/hatsu/coding/CapProj/TestSeg_1/video_input/fight_6.mp4: 384x640 1 Fighter, 14.4ms\n",
      "video 1/1 (frame 2159/3688) /home/hatsu/coding/CapProj/TestSeg_1/video_input/fight_6.mp4: 384x640 1 Fighter, 13.5ms\n",
      "video 1/1 (frame 2160/3688) /home/hatsu/coding/CapProj/TestSeg_1/video_input/fight_6.mp4: 384x640 1 Fighter, 33.5ms\n",
      "video 1/1 (frame 2161/3688) /home/hatsu/coding/CapProj/TestSeg_1/video_input/fight_6.mp4: 384x640 1 Fighter, 14.9ms\n",
      "video 1/1 (frame 2162/3688) /home/hatsu/coding/CapProj/TestSeg_1/video_input/fight_6.mp4: 384x640 1 Fighter, 12.6ms\n",
      "video 1/1 (frame 2163/3688) /home/hatsu/coding/CapProj/TestSeg_1/video_input/fight_6.mp4: 384x640 1 Fighter, 12.5ms\n",
      "video 1/1 (frame 2164/3688) /home/hatsu/coding/CapProj/TestSeg_1/video_input/fight_6.mp4: 384x640 1 Fighter, 14.2ms\n",
      "video 1/1 (frame 2165/3688) /home/hatsu/coding/CapProj/TestSeg_1/video_input/fight_6.mp4: 384x640 1 Fighter, 18.3ms\n",
      "video 1/1 (frame 2166/3688) /home/hatsu/coding/CapProj/TestSeg_1/video_input/fight_6.mp4: 384x640 1 Fighter, 13.4ms\n",
      "video 1/1 (frame 2167/3688) /home/hatsu/coding/CapProj/TestSeg_1/video_input/fight_6.mp4: 384x640 1 Fighter, 12.6ms\n",
      "video 1/1 (frame 2168/3688) /home/hatsu/coding/CapProj/TestSeg_1/video_input/fight_6.mp4: 384x640 1 Fighter, 16.2ms\n",
      "video 1/1 (frame 2169/3688) /home/hatsu/coding/CapProj/TestSeg_1/video_input/fight_6.mp4: 384x640 1 Fighter, 13.9ms\n",
      "video 1/1 (frame 2170/3688) /home/hatsu/coding/CapProj/TestSeg_1/video_input/fight_6.mp4: 384x640 1 Fighter, 13.6ms\n",
      "video 1/1 (frame 2171/3688) /home/hatsu/coding/CapProj/TestSeg_1/video_input/fight_6.mp4: 384x640 1 Fighter, 14.6ms\n",
      "video 1/1 (frame 2172/3688) /home/hatsu/coding/CapProj/TestSeg_1/video_input/fight_6.mp4: 384x640 1 Fighter, 14.2ms\n",
      "video 1/1 (frame 2173/3688) /home/hatsu/coding/CapProj/TestSeg_1/video_input/fight_6.mp4: 384x640 1 Fighter, 13.4ms\n",
      "video 1/1 (frame 2174/3688) /home/hatsu/coding/CapProj/TestSeg_1/video_input/fight_6.mp4: 384x640 2 Fighters, 14.7ms\n",
      "video 1/1 (frame 2175/3688) /home/hatsu/coding/CapProj/TestSeg_1/video_input/fight_6.mp4: 384x640 2 Fighters, 13.3ms\n",
      "video 1/1 (frame 2176/3688) /home/hatsu/coding/CapProj/TestSeg_1/video_input/fight_6.mp4: 384x640 2 Fighters, 16.9ms\n",
      "video 1/1 (frame 2177/3688) /home/hatsu/coding/CapProj/TestSeg_1/video_input/fight_6.mp4: 384x640 2 Fighters, 14.2ms\n",
      "video 1/1 (frame 2178/3688) /home/hatsu/coding/CapProj/TestSeg_1/video_input/fight_6.mp4: 384x640 2 Fighters, 14.0ms\n",
      "video 1/1 (frame 2179/3688) /home/hatsu/coding/CapProj/TestSeg_1/video_input/fight_6.mp4: 384x640 2 Fighters, 13.1ms\n",
      "video 1/1 (frame 2180/3688) /home/hatsu/coding/CapProj/TestSeg_1/video_input/fight_6.mp4: 384x640 2 Fighters, 13.2ms\n",
      "video 1/1 (frame 2181/3688) /home/hatsu/coding/CapProj/TestSeg_1/video_input/fight_6.mp4: 384x640 1 Fighter, 16.2ms\n",
      "video 1/1 (frame 2182/3688) /home/hatsu/coding/CapProj/TestSeg_1/video_input/fight_6.mp4: 384x640 1 Fighter, 12.6ms\n",
      "video 1/1 (frame 2183/3688) /home/hatsu/coding/CapProj/TestSeg_1/video_input/fight_6.mp4: 384x640 1 Fighter, 17.1ms\n",
      "video 1/1 (frame 2184/3688) /home/hatsu/coding/CapProj/TestSeg_1/video_input/fight_6.mp4: 384x640 1 Fighter, 18.7ms\n",
      "video 1/1 (frame 2185/3688) /home/hatsu/coding/CapProj/TestSeg_1/video_input/fight_6.mp4: 384x640 2 Fighters, 14.0ms\n",
      "video 1/1 (frame 2186/3688) /home/hatsu/coding/CapProj/TestSeg_1/video_input/fight_6.mp4: 384x640 2 Fighters, 15.5ms\n",
      "video 1/1 (frame 2187/3688) /home/hatsu/coding/CapProj/TestSeg_1/video_input/fight_6.mp4: 384x640 2 Fighters, 13.0ms\n",
      "video 1/1 (frame 2188/3688) /home/hatsu/coding/CapProj/TestSeg_1/video_input/fight_6.mp4: 384x640 2 Fighters, 13.0ms\n",
      "video 1/1 (frame 2189/3688) /home/hatsu/coding/CapProj/TestSeg_1/video_input/fight_6.mp4: 384x640 2 Fighters, 14.0ms\n",
      "video 1/1 (frame 2190/3688) /home/hatsu/coding/CapProj/TestSeg_1/video_input/fight_6.mp4: 384x640 2 Fighters, 14.6ms\n",
      "video 1/1 (frame 2191/3688) /home/hatsu/coding/CapProj/TestSeg_1/video_input/fight_6.mp4: 384x640 2 Fighters, 18.8ms\n",
      "video 1/1 (frame 2192/3688) /home/hatsu/coding/CapProj/TestSeg_1/video_input/fight_6.mp4: 384x640 2 Fighters, 12.8ms\n",
      "video 1/1 (frame 2193/3688) /home/hatsu/coding/CapProj/TestSeg_1/video_input/fight_6.mp4: 384x640 2 Fighters, 14.6ms\n",
      "video 1/1 (frame 2194/3688) /home/hatsu/coding/CapProj/TestSeg_1/video_input/fight_6.mp4: 384x640 2 Fighters, 24.6ms\n",
      "video 1/1 (frame 2195/3688) /home/hatsu/coding/CapProj/TestSeg_1/video_input/fight_6.mp4: 384x640 2 Fighters, 13.5ms\n",
      "video 1/1 (frame 2196/3688) /home/hatsu/coding/CapProj/TestSeg_1/video_input/fight_6.mp4: 384x640 2 Fighters, 13.4ms\n",
      "video 1/1 (frame 2197/3688) /home/hatsu/coding/CapProj/TestSeg_1/video_input/fight_6.mp4: 384x640 2 Fighters, 15.2ms\n",
      "video 1/1 (frame 2198/3688) /home/hatsu/coding/CapProj/TestSeg_1/video_input/fight_6.mp4: 384x640 2 Fighters, 39.1ms\n",
      "video 1/1 (frame 2199/3688) /home/hatsu/coding/CapProj/TestSeg_1/video_input/fight_6.mp4: 384x640 2 Fighters, 14.7ms\n",
      "video 1/1 (frame 2200/3688) /home/hatsu/coding/CapProj/TestSeg_1/video_input/fight_6.mp4: 384x640 2 Fighters, 19.7ms\n",
      "video 1/1 (frame 2201/3688) /home/hatsu/coding/CapProj/TestSeg_1/video_input/fight_6.mp4: 384x640 2 Fighters, 34.3ms\n",
      "video 1/1 (frame 2202/3688) /home/hatsu/coding/CapProj/TestSeg_1/video_input/fight_6.mp4: 384x640 2 Fighters, 25.6ms\n",
      "video 1/1 (frame 2203/3688) /home/hatsu/coding/CapProj/TestSeg_1/video_input/fight_6.mp4: 384x640 2 Fighters, 22.7ms\n",
      "video 1/1 (frame 2204/3688) /home/hatsu/coding/CapProj/TestSeg_1/video_input/fight_6.mp4: 384x640 2 Fighters, 22.2ms\n",
      "video 1/1 (frame 2205/3688) /home/hatsu/coding/CapProj/TestSeg_1/video_input/fight_6.mp4: 384x640 2 Fighters, 20.9ms\n",
      "video 1/1 (frame 2206/3688) /home/hatsu/coding/CapProj/TestSeg_1/video_input/fight_6.mp4: 384x640 2 Fighters, 20.4ms\n",
      "video 1/1 (frame 2207/3688) /home/hatsu/coding/CapProj/TestSeg_1/video_input/fight_6.mp4: 384x640 2 Fighters, 19.2ms\n",
      "video 1/1 (frame 2208/3688) /home/hatsu/coding/CapProj/TestSeg_1/video_input/fight_6.mp4: 384x640 2 Fighters, 19.2ms\n",
      "video 1/1 (frame 2209/3688) /home/hatsu/coding/CapProj/TestSeg_1/video_input/fight_6.mp4: 384x640 1 Fighter, 22.0ms\n",
      "video 1/1 (frame 2210/3688) /home/hatsu/coding/CapProj/TestSeg_1/video_input/fight_6.mp4: 384x640 1 Fighter, 18.1ms\n",
      "video 1/1 (frame 2211/3688) /home/hatsu/coding/CapProj/TestSeg_1/video_input/fight_6.mp4: 384x640 1 Fighter, 20.1ms\n",
      "video 1/1 (frame 2212/3688) /home/hatsu/coding/CapProj/TestSeg_1/video_input/fight_6.mp4: 384x640 1 Fighter, 16.7ms\n",
      "video 1/1 (frame 2213/3688) /home/hatsu/coding/CapProj/TestSeg_1/video_input/fight_6.mp4: 384x640 1 Fighter, 26.4ms\n",
      "video 1/1 (frame 2214/3688) /home/hatsu/coding/CapProj/TestSeg_1/video_input/fight_6.mp4: 384x640 1 Fighter, 17.7ms\n",
      "video 1/1 (frame 2215/3688) /home/hatsu/coding/CapProj/TestSeg_1/video_input/fight_6.mp4: 384x640 1 Fighter, 16.2ms\n",
      "video 1/1 (frame 2216/3688) /home/hatsu/coding/CapProj/TestSeg_1/video_input/fight_6.mp4: 384x640 1 Fighter, 18.2ms\n",
      "video 1/1 (frame 2217/3688) /home/hatsu/coding/CapProj/TestSeg_1/video_input/fight_6.mp4: 384x640 1 Fighter, 13.0ms\n",
      "video 1/1 (frame 2218/3688) /home/hatsu/coding/CapProj/TestSeg_1/video_input/fight_6.mp4: 384x640 1 Fighter, 14.4ms\n",
      "video 1/1 (frame 2219/3688) /home/hatsu/coding/CapProj/TestSeg_1/video_input/fight_6.mp4: 384x640 1 Fighter, 15.8ms\n",
      "video 1/1 (frame 2220/3688) /home/hatsu/coding/CapProj/TestSeg_1/video_input/fight_6.mp4: 384x640 1 Fighter, 15.1ms\n",
      "video 1/1 (frame 2221/3688) /home/hatsu/coding/CapProj/TestSeg_1/video_input/fight_6.mp4: 384x640 1 Fighter, 30.5ms\n",
      "video 1/1 (frame 2222/3688) /home/hatsu/coding/CapProj/TestSeg_1/video_input/fight_6.mp4: 384x640 1 Fighter, 18.2ms\n",
      "video 1/1 (frame 2223/3688) /home/hatsu/coding/CapProj/TestSeg_1/video_input/fight_6.mp4: 384x640 1 Fighter, 16.9ms\n",
      "video 1/1 (frame 2224/3688) /home/hatsu/coding/CapProj/TestSeg_1/video_input/fight_6.mp4: 384x640 1 Fighter, 14.8ms\n",
      "video 1/1 (frame 2225/3688) /home/hatsu/coding/CapProj/TestSeg_1/video_input/fight_6.mp4: 384x640 1 Fighter, 15.2ms\n",
      "video 1/1 (frame 2226/3688) /home/hatsu/coding/CapProj/TestSeg_1/video_input/fight_6.mp4: 384x640 1 Fighter, 14.2ms\n",
      "video 1/1 (frame 2227/3688) /home/hatsu/coding/CapProj/TestSeg_1/video_input/fight_6.mp4: 384x640 1 Fighter, 13.3ms\n",
      "video 1/1 (frame 2228/3688) /home/hatsu/coding/CapProj/TestSeg_1/video_input/fight_6.mp4: 384x640 1 Fighter, 13.7ms\n",
      "video 1/1 (frame 2229/3688) /home/hatsu/coding/CapProj/TestSeg_1/video_input/fight_6.mp4: 384x640 2 Fighters, 19.6ms\n",
      "video 1/1 (frame 2230/3688) /home/hatsu/coding/CapProj/TestSeg_1/video_input/fight_6.mp4: 384x640 2 Fighters, 17.2ms\n",
      "video 1/1 (frame 2231/3688) /home/hatsu/coding/CapProj/TestSeg_1/video_input/fight_6.mp4: 384x640 2 Fighters, 13.9ms\n",
      "video 1/1 (frame 2232/3688) /home/hatsu/coding/CapProj/TestSeg_1/video_input/fight_6.mp4: 384x640 2 Fighters, 14.7ms\n",
      "video 1/1 (frame 2233/3688) /home/hatsu/coding/CapProj/TestSeg_1/video_input/fight_6.mp4: 384x640 2 Fighters, 13.5ms\n",
      "video 1/1 (frame 2234/3688) /home/hatsu/coding/CapProj/TestSeg_1/video_input/fight_6.mp4: 384x640 2 Fighters, 14.1ms\n",
      "video 1/1 (frame 2235/3688) /home/hatsu/coding/CapProj/TestSeg_1/video_input/fight_6.mp4: 384x640 2 Fighters, 13.5ms\n",
      "video 1/1 (frame 2236/3688) /home/hatsu/coding/CapProj/TestSeg_1/video_input/fight_6.mp4: 384x640 2 Fighters, 15.6ms\n",
      "video 1/1 (frame 2237/3688) /home/hatsu/coding/CapProj/TestSeg_1/video_input/fight_6.mp4: 384x640 2 Fighters, 15.7ms\n",
      "video 1/1 (frame 2238/3688) /home/hatsu/coding/CapProj/TestSeg_1/video_input/fight_6.mp4: 384x640 2 Fighters, 14.1ms\n",
      "video 1/1 (frame 2239/3688) /home/hatsu/coding/CapProj/TestSeg_1/video_input/fight_6.mp4: 384x640 2 Fighters, 12.2ms\n",
      "video 1/1 (frame 2240/3688) /home/hatsu/coding/CapProj/TestSeg_1/video_input/fight_6.mp4: 384x640 2 Fighters, 13.6ms\n",
      "video 1/1 (frame 2241/3688) /home/hatsu/coding/CapProj/TestSeg_1/video_input/fight_6.mp4: 384x640 2 Fighters, 14.2ms\n",
      "video 1/1 (frame 2242/3688) /home/hatsu/coding/CapProj/TestSeg_1/video_input/fight_6.mp4: 384x640 2 Fighters, 13.2ms\n",
      "video 1/1 (frame 2243/3688) /home/hatsu/coding/CapProj/TestSeg_1/video_input/fight_6.mp4: 384x640 2 Fighters, 21.8ms\n",
      "video 1/1 (frame 2244/3688) /home/hatsu/coding/CapProj/TestSeg_1/video_input/fight_6.mp4: 384x640 2 Fighters, 14.2ms\n",
      "video 1/1 (frame 2245/3688) /home/hatsu/coding/CapProj/TestSeg_1/video_input/fight_6.mp4: 384x640 2 Fighters, 13.7ms\n",
      "video 1/1 (frame 2246/3688) /home/hatsu/coding/CapProj/TestSeg_1/video_input/fight_6.mp4: 384x640 2 Fighters, 14.5ms\n",
      "video 1/1 (frame 2247/3688) /home/hatsu/coding/CapProj/TestSeg_1/video_input/fight_6.mp4: 384x640 2 Fighters, 13.0ms\n",
      "video 1/1 (frame 2248/3688) /home/hatsu/coding/CapProj/TestSeg_1/video_input/fight_6.mp4: 384x640 2 Fighters, 12.9ms\n",
      "video 1/1 (frame 2249/3688) /home/hatsu/coding/CapProj/TestSeg_1/video_input/fight_6.mp4: 384x640 2 Fighters, 14.3ms\n",
      "video 1/1 (frame 2250/3688) /home/hatsu/coding/CapProj/TestSeg_1/video_input/fight_6.mp4: 384x640 2 Fighters, 13.5ms\n",
      "video 1/1 (frame 2251/3688) /home/hatsu/coding/CapProj/TestSeg_1/video_input/fight_6.mp4: 384x640 3 Fighters, 22.1ms\n",
      "video 1/1 (frame 2252/3688) /home/hatsu/coding/CapProj/TestSeg_1/video_input/fight_6.mp4: 384x640 3 Fighters, 19.9ms\n",
      "video 1/1 (frame 2253/3688) /home/hatsu/coding/CapProj/TestSeg_1/video_input/fight_6.mp4: 384x640 3 Fighters, 24.9ms\n",
      "video 1/1 (frame 2254/3688) /home/hatsu/coding/CapProj/TestSeg_1/video_input/fight_6.mp4: 384x640 3 Fighters, 20.5ms\n",
      "video 1/1 (frame 2255/3688) /home/hatsu/coding/CapProj/TestSeg_1/video_input/fight_6.mp4: 384x640 3 Fighters, 18.9ms\n",
      "video 1/1 (frame 2256/3688) /home/hatsu/coding/CapProj/TestSeg_1/video_input/fight_6.mp4: 384x640 2 Fighters, 30.2ms\n",
      "video 1/1 (frame 2257/3688) /home/hatsu/coding/CapProj/TestSeg_1/video_input/fight_6.mp4: 384x640 2 Fighters, 22.6ms\n",
      "video 1/1 (frame 2258/3688) /home/hatsu/coding/CapProj/TestSeg_1/video_input/fight_6.mp4: 384x640 2 Fighters, 17.5ms\n",
      "video 1/1 (frame 2259/3688) /home/hatsu/coding/CapProj/TestSeg_1/video_input/fight_6.mp4: 384x640 2 Fighters, 27.7ms\n",
      "video 1/1 (frame 2260/3688) /home/hatsu/coding/CapProj/TestSeg_1/video_input/fight_6.mp4: 384x640 2 Fighters, 32.0ms\n",
      "video 1/1 (frame 2261/3688) /home/hatsu/coding/CapProj/TestSeg_1/video_input/fight_6.mp4: 384x640 2 Fighters, 14.0ms\n",
      "video 1/1 (frame 2262/3688) /home/hatsu/coding/CapProj/TestSeg_1/video_input/fight_6.mp4: 384x640 2 Fighters, 14.4ms\n",
      "video 1/1 (frame 2263/3688) /home/hatsu/coding/CapProj/TestSeg_1/video_input/fight_6.mp4: 384x640 2 Fighters, 16.0ms\n",
      "video 1/1 (frame 2264/3688) /home/hatsu/coding/CapProj/TestSeg_1/video_input/fight_6.mp4: 384x640 2 Fighters, 27.8ms\n",
      "video 1/1 (frame 2265/3688) /home/hatsu/coding/CapProj/TestSeg_1/video_input/fight_6.mp4: 384x640 2 Fighters, 13.1ms\n",
      "video 1/1 (frame 2266/3688) /home/hatsu/coding/CapProj/TestSeg_1/video_input/fight_6.mp4: 384x640 2 Fighters, 13.2ms\n",
      "video 1/1 (frame 2267/3688) /home/hatsu/coding/CapProj/TestSeg_1/video_input/fight_6.mp4: 384x640 2 Fighters, 19.1ms\n",
      "video 1/1 (frame 2268/3688) /home/hatsu/coding/CapProj/TestSeg_1/video_input/fight_6.mp4: 384x640 2 Fighters, 13.9ms\n",
      "video 1/1 (frame 2269/3688) /home/hatsu/coding/CapProj/TestSeg_1/video_input/fight_6.mp4: 384x640 2 Fighters, 14.3ms\n",
      "video 1/1 (frame 2270/3688) /home/hatsu/coding/CapProj/TestSeg_1/video_input/fight_6.mp4: 384x640 2 Fighters, 13.2ms\n",
      "video 1/1 (frame 2271/3688) /home/hatsu/coding/CapProj/TestSeg_1/video_input/fight_6.mp4: 384x640 2 Fighters, 16.6ms\n",
      "video 1/1 (frame 2272/3688) /home/hatsu/coding/CapProj/TestSeg_1/video_input/fight_6.mp4: 384x640 2 Fighters, 15.4ms\n",
      "video 1/1 (frame 2273/3688) /home/hatsu/coding/CapProj/TestSeg_1/video_input/fight_6.mp4: 384x640 2 Fighters, 17.1ms\n",
      "video 1/1 (frame 2274/3688) /home/hatsu/coding/CapProj/TestSeg_1/video_input/fight_6.mp4: 384x640 2 Fighters, 28.8ms\n",
      "video 1/1 (frame 2275/3688) /home/hatsu/coding/CapProj/TestSeg_1/video_input/fight_6.mp4: 384x640 2 Fighters, 15.4ms\n",
      "video 1/1 (frame 2276/3688) /home/hatsu/coding/CapProj/TestSeg_1/video_input/fight_6.mp4: 384x640 2 Fighters, 32.2ms\n",
      "video 1/1 (frame 2277/3688) /home/hatsu/coding/CapProj/TestSeg_1/video_input/fight_6.mp4: 384x640 2 Fighters, 16.5ms\n",
      "video 1/1 (frame 2278/3688) /home/hatsu/coding/CapProj/TestSeg_1/video_input/fight_6.mp4: 384x640 2 Fighters, 15.9ms\n",
      "video 1/1 (frame 2279/3688) /home/hatsu/coding/CapProj/TestSeg_1/video_input/fight_6.mp4: 384x640 2 Fighters, 21.5ms\n",
      "video 1/1 (frame 2280/3688) /home/hatsu/coding/CapProj/TestSeg_1/video_input/fight_6.mp4: 384x640 2 Fighters, 19.4ms\n",
      "video 1/1 (frame 2281/3688) /home/hatsu/coding/CapProj/TestSeg_1/video_input/fight_6.mp4: 384x640 2 Fighters, 13.9ms\n",
      "video 1/1 (frame 2282/3688) /home/hatsu/coding/CapProj/TestSeg_1/video_input/fight_6.mp4: 384x640 2 Fighters, 18.0ms\n",
      "video 1/1 (frame 2283/3688) /home/hatsu/coding/CapProj/TestSeg_1/video_input/fight_6.mp4: 384x640 2 Fighters, 14.4ms\n",
      "video 1/1 (frame 2284/3688) /home/hatsu/coding/CapProj/TestSeg_1/video_input/fight_6.mp4: 384x640 2 Fighters, 12.7ms\n",
      "video 1/1 (frame 2285/3688) /home/hatsu/coding/CapProj/TestSeg_1/video_input/fight_6.mp4: 384x640 2 Fighters, 14.3ms\n",
      "video 1/1 (frame 2286/3688) /home/hatsu/coding/CapProj/TestSeg_1/video_input/fight_6.mp4: 384x640 2 Fighters, 13.5ms\n",
      "video 1/1 (frame 2287/3688) /home/hatsu/coding/CapProj/TestSeg_1/video_input/fight_6.mp4: 384x640 2 Fighters, 13.1ms\n",
      "video 1/1 (frame 2288/3688) /home/hatsu/coding/CapProj/TestSeg_1/video_input/fight_6.mp4: 384x640 2 Fighters, 35.3ms\n",
      "video 1/1 (frame 2289/3688) /home/hatsu/coding/CapProj/TestSeg_1/video_input/fight_6.mp4: 384x640 2 Fighters, 17.1ms\n",
      "video 1/1 (frame 2290/3688) /home/hatsu/coding/CapProj/TestSeg_1/video_input/fight_6.mp4: 384x640 2 Fighters, 18.1ms\n",
      "video 1/1 (frame 2291/3688) /home/hatsu/coding/CapProj/TestSeg_1/video_input/fight_6.mp4: 384x640 2 Fighters, 23.6ms\n",
      "video 1/1 (frame 2292/3688) /home/hatsu/coding/CapProj/TestSeg_1/video_input/fight_6.mp4: 384x640 2 Fighters, 22.1ms\n",
      "video 1/1 (frame 2293/3688) /home/hatsu/coding/CapProj/TestSeg_1/video_input/fight_6.mp4: 384x640 2 Fighters, 18.6ms\n",
      "video 1/1 (frame 2294/3688) /home/hatsu/coding/CapProj/TestSeg_1/video_input/fight_6.mp4: 384x640 2 Fighters, 19.9ms\n",
      "video 1/1 (frame 2295/3688) /home/hatsu/coding/CapProj/TestSeg_1/video_input/fight_6.mp4: 384x640 2 Fighters, 34.5ms\n",
      "video 1/1 (frame 2296/3688) /home/hatsu/coding/CapProj/TestSeg_1/video_input/fight_6.mp4: 384x640 2 Fighters, 17.0ms\n",
      "video 1/1 (frame 2297/3688) /home/hatsu/coding/CapProj/TestSeg_1/video_input/fight_6.mp4: 384x640 2 Fighters, 23.0ms\n",
      "video 1/1 (frame 2298/3688) /home/hatsu/coding/CapProj/TestSeg_1/video_input/fight_6.mp4: 384x640 2 Fighters, 18.3ms\n",
      "video 1/1 (frame 2299/3688) /home/hatsu/coding/CapProj/TestSeg_1/video_input/fight_6.mp4: 384x640 2 Fighters, 24.4ms\n",
      "video 1/1 (frame 2300/3688) /home/hatsu/coding/CapProj/TestSeg_1/video_input/fight_6.mp4: 384x640 2 Fighters, 16.8ms\n",
      "video 1/1 (frame 2301/3688) /home/hatsu/coding/CapProj/TestSeg_1/video_input/fight_6.mp4: 384x640 2 Fighters, 21.8ms\n",
      "video 1/1 (frame 2302/3688) /home/hatsu/coding/CapProj/TestSeg_1/video_input/fight_6.mp4: 384x640 2 Fighters, 13.5ms\n",
      "video 1/1 (frame 2303/3688) /home/hatsu/coding/CapProj/TestSeg_1/video_input/fight_6.mp4: 384x640 2 Fighters, 14.1ms\n",
      "video 1/1 (frame 2304/3688) /home/hatsu/coding/CapProj/TestSeg_1/video_input/fight_6.mp4: 384x640 2 Fighters, 18.5ms\n",
      "video 1/1 (frame 2305/3688) /home/hatsu/coding/CapProj/TestSeg_1/video_input/fight_6.mp4: 384x640 2 Fighters, 13.1ms\n",
      "video 1/1 (frame 2306/3688) /home/hatsu/coding/CapProj/TestSeg_1/video_input/fight_6.mp4: 384x640 2 Fighters, 13.3ms\n",
      "video 1/1 (frame 2307/3688) /home/hatsu/coding/CapProj/TestSeg_1/video_input/fight_6.mp4: 384x640 2 Fighters, 14.8ms\n",
      "video 1/1 (frame 2308/3688) /home/hatsu/coding/CapProj/TestSeg_1/video_input/fight_6.mp4: 384x640 2 Fighters, 12.2ms\n",
      "video 1/1 (frame 2309/3688) /home/hatsu/coding/CapProj/TestSeg_1/video_input/fight_6.mp4: 384x640 2 Fighters, 15.2ms\n",
      "video 1/1 (frame 2310/3688) /home/hatsu/coding/CapProj/TestSeg_1/video_input/fight_6.mp4: 384x640 2 Fighters, 13.1ms\n",
      "video 1/1 (frame 2311/3688) /home/hatsu/coding/CapProj/TestSeg_1/video_input/fight_6.mp4: 384x640 2 Fighters, 19.3ms\n",
      "video 1/1 (frame 2312/3688) /home/hatsu/coding/CapProj/TestSeg_1/video_input/fight_6.mp4: 384x640 2 Fighters, 16.2ms\n",
      "video 1/1 (frame 2313/3688) /home/hatsu/coding/CapProj/TestSeg_1/video_input/fight_6.mp4: 384x640 2 Fighters, 13.7ms\n",
      "video 1/1 (frame 2314/3688) /home/hatsu/coding/CapProj/TestSeg_1/video_input/fight_6.mp4: 384x640 2 Fighters, 13.8ms\n",
      "video 1/1 (frame 2315/3688) /home/hatsu/coding/CapProj/TestSeg_1/video_input/fight_6.mp4: 384x640 2 Fighters, 16.2ms\n",
      "video 1/1 (frame 2316/3688) /home/hatsu/coding/CapProj/TestSeg_1/video_input/fight_6.mp4: 384x640 2 Fighters, 13.5ms\n",
      "video 1/1 (frame 2317/3688) /home/hatsu/coding/CapProj/TestSeg_1/video_input/fight_6.mp4: 384x640 2 Fighters, 14.4ms\n",
      "video 1/1 (frame 2318/3688) /home/hatsu/coding/CapProj/TestSeg_1/video_input/fight_6.mp4: 384x640 2 Fighters, 14.4ms\n",
      "video 1/1 (frame 2319/3688) /home/hatsu/coding/CapProj/TestSeg_1/video_input/fight_6.mp4: 384x640 2 Fighters, 17.5ms\n",
      "video 1/1 (frame 2320/3688) /home/hatsu/coding/CapProj/TestSeg_1/video_input/fight_6.mp4: 384x640 2 Fighters, 14.1ms\n",
      "video 1/1 (frame 2321/3688) /home/hatsu/coding/CapProj/TestSeg_1/video_input/fight_6.mp4: 384x640 2 Fighters, 14.5ms\n",
      "video 1/1 (frame 2322/3688) /home/hatsu/coding/CapProj/TestSeg_1/video_input/fight_6.mp4: 384x640 2 Fighters, 13.9ms\n",
      "video 1/1 (frame 2323/3688) /home/hatsu/coding/CapProj/TestSeg_1/video_input/fight_6.mp4: 384x640 2 Fighters, 13.1ms\n",
      "video 1/1 (frame 2324/3688) /home/hatsu/coding/CapProj/TestSeg_1/video_input/fight_6.mp4: 384x640 2 Fighters, 15.5ms\n",
      "video 1/1 (frame 2325/3688) /home/hatsu/coding/CapProj/TestSeg_1/video_input/fight_6.mp4: 384x640 2 Fighters, 15.0ms\n",
      "video 1/1 (frame 2326/3688) /home/hatsu/coding/CapProj/TestSeg_1/video_input/fight_6.mp4: 384x640 2 Fighters, 18.2ms\n",
      "video 1/1 (frame 2327/3688) /home/hatsu/coding/CapProj/TestSeg_1/video_input/fight_6.mp4: 384x640 2 Fighters, 17.6ms\n",
      "video 1/1 (frame 2328/3688) /home/hatsu/coding/CapProj/TestSeg_1/video_input/fight_6.mp4: 384x640 2 Fighters, 14.5ms\n",
      "video 1/1 (frame 2329/3688) /home/hatsu/coding/CapProj/TestSeg_1/video_input/fight_6.mp4: 384x640 2 Fighters, 13.1ms\n",
      "video 1/1 (frame 2330/3688) /home/hatsu/coding/CapProj/TestSeg_1/video_input/fight_6.mp4: 384x640 2 Fighters, 14.5ms\n",
      "video 1/1 (frame 2331/3688) /home/hatsu/coding/CapProj/TestSeg_1/video_input/fight_6.mp4: 384x640 2 Fighters, 13.6ms\n",
      "video 1/1 (frame 2332/3688) /home/hatsu/coding/CapProj/TestSeg_1/video_input/fight_6.mp4: 384x640 2 Fighters, 13.3ms\n",
      "video 1/1 (frame 2333/3688) /home/hatsu/coding/CapProj/TestSeg_1/video_input/fight_6.mp4: 384x640 2 Fighters, 15.6ms\n",
      "video 1/1 (frame 2334/3688) /home/hatsu/coding/CapProj/TestSeg_1/video_input/fight_6.mp4: 384x640 2 Fighters, 20.1ms\n",
      "video 1/1 (frame 2335/3688) /home/hatsu/coding/CapProj/TestSeg_1/video_input/fight_6.mp4: 384x640 2 Fighters, 23.0ms\n",
      "video 1/1 (frame 2336/3688) /home/hatsu/coding/CapProj/TestSeg_1/video_input/fight_6.mp4: 384x640 2 Fighters, 16.0ms\n",
      "video 1/1 (frame 2337/3688) /home/hatsu/coding/CapProj/TestSeg_1/video_input/fight_6.mp4: 384x640 2 Fighters, 14.5ms\n",
      "video 1/1 (frame 2338/3688) /home/hatsu/coding/CapProj/TestSeg_1/video_input/fight_6.mp4: 384x640 2 Fighters, 16.8ms\n",
      "video 1/1 (frame 2339/3688) /home/hatsu/coding/CapProj/TestSeg_1/video_input/fight_6.mp4: 384x640 2 Fighters, 12.7ms\n",
      "video 1/1 (frame 2340/3688) /home/hatsu/coding/CapProj/TestSeg_1/video_input/fight_6.mp4: 384x640 2 Fighters, 15.5ms\n",
      "video 1/1 (frame 2341/3688) /home/hatsu/coding/CapProj/TestSeg_1/video_input/fight_6.mp4: 384x640 2 Fighters, 13.8ms\n",
      "video 1/1 (frame 2342/3688) /home/hatsu/coding/CapProj/TestSeg_1/video_input/fight_6.mp4: 384x640 2 Fighters, 21.2ms\n",
      "video 1/1 (frame 2343/3688) /home/hatsu/coding/CapProj/TestSeg_1/video_input/fight_6.mp4: 384x640 2 Fighters, 14.2ms\n",
      "video 1/1 (frame 2344/3688) /home/hatsu/coding/CapProj/TestSeg_1/video_input/fight_6.mp4: 384x640 2 Fighters, 13.1ms\n",
      "video 1/1 (frame 2345/3688) /home/hatsu/coding/CapProj/TestSeg_1/video_input/fight_6.mp4: 384x640 2 Fighters, 13.8ms\n",
      "video 1/1 (frame 2346/3688) /home/hatsu/coding/CapProj/TestSeg_1/video_input/fight_6.mp4: 384x640 2 Fighters, 15.4ms\n",
      "video 1/1 (frame 2347/3688) /home/hatsu/coding/CapProj/TestSeg_1/video_input/fight_6.mp4: 384x640 2 Fighters, 15.2ms\n",
      "video 1/1 (frame 2348/3688) /home/hatsu/coding/CapProj/TestSeg_1/video_input/fight_6.mp4: 384x640 2 Fighters, 14.4ms\n",
      "video 1/1 (frame 2349/3688) /home/hatsu/coding/CapProj/TestSeg_1/video_input/fight_6.mp4: 384x640 2 Fighters, 18.1ms\n",
      "video 1/1 (frame 2350/3688) /home/hatsu/coding/CapProj/TestSeg_1/video_input/fight_6.mp4: 384x640 2 Fighters, 14.7ms\n",
      "video 1/1 (frame 2351/3688) /home/hatsu/coding/CapProj/TestSeg_1/video_input/fight_6.mp4: 384x640 2 Fighters, 17.9ms\n",
      "video 1/1 (frame 2352/3688) /home/hatsu/coding/CapProj/TestSeg_1/video_input/fight_6.mp4: 384x640 2 Fighters, 13.7ms\n",
      "video 1/1 (frame 2353/3688) /home/hatsu/coding/CapProj/TestSeg_1/video_input/fight_6.mp4: 384x640 2 Fighters, 14.2ms\n",
      "video 1/1 (frame 2354/3688) /home/hatsu/coding/CapProj/TestSeg_1/video_input/fight_6.mp4: 384x640 2 Fighters, 14.4ms\n",
      "video 1/1 (frame 2355/3688) /home/hatsu/coding/CapProj/TestSeg_1/video_input/fight_6.mp4: 384x640 2 Fighters, 12.9ms\n",
      "video 1/1 (frame 2356/3688) /home/hatsu/coding/CapProj/TestSeg_1/video_input/fight_6.mp4: 384x640 2 Fighters, 31.1ms\n",
      "video 1/1 (frame 2357/3688) /home/hatsu/coding/CapProj/TestSeg_1/video_input/fight_6.mp4: 384x640 2 Fighters, 19.9ms\n",
      "video 1/1 (frame 2358/3688) /home/hatsu/coding/CapProj/TestSeg_1/video_input/fight_6.mp4: 384x640 2 Fighters, 26.9ms\n",
      "video 1/1 (frame 2359/3688) /home/hatsu/coding/CapProj/TestSeg_1/video_input/fight_6.mp4: 384x640 2 Fighters, 13.4ms\n",
      "video 1/1 (frame 2360/3688) /home/hatsu/coding/CapProj/TestSeg_1/video_input/fight_6.mp4: 384x640 2 Fighters, 15.9ms\n",
      "video 1/1 (frame 2361/3688) /home/hatsu/coding/CapProj/TestSeg_1/video_input/fight_6.mp4: 384x640 2 Fighters, 15.1ms\n",
      "video 1/1 (frame 2362/3688) /home/hatsu/coding/CapProj/TestSeg_1/video_input/fight_6.mp4: 384x640 2 Fighters, 21.5ms\n",
      "video 1/1 (frame 2363/3688) /home/hatsu/coding/CapProj/TestSeg_1/video_input/fight_6.mp4: 384x640 2 Fighters, 12.8ms\n",
      "video 1/1 (frame 2364/3688) /home/hatsu/coding/CapProj/TestSeg_1/video_input/fight_6.mp4: 384x640 2 Fighters, 21.2ms\n",
      "video 1/1 (frame 2365/3688) /home/hatsu/coding/CapProj/TestSeg_1/video_input/fight_6.mp4: 384x640 2 Fighters, 26.4ms\n",
      "video 1/1 (frame 2366/3688) /home/hatsu/coding/CapProj/TestSeg_1/video_input/fight_6.mp4: 384x640 2 Fighters, 22.1ms\n",
      "video 1/1 (frame 2367/3688) /home/hatsu/coding/CapProj/TestSeg_1/video_input/fight_6.mp4: 384x640 2 Fighters, 33.3ms\n",
      "video 1/1 (frame 2368/3688) /home/hatsu/coding/CapProj/TestSeg_1/video_input/fight_6.mp4: 384x640 2 Fighters, 30.7ms\n",
      "video 1/1 (frame 2369/3688) /home/hatsu/coding/CapProj/TestSeg_1/video_input/fight_6.mp4: 384x640 2 Fighters, 23.6ms\n",
      "video 1/1 (frame 2370/3688) /home/hatsu/coding/CapProj/TestSeg_1/video_input/fight_6.mp4: 384x640 2 Fighters, 16.8ms\n",
      "video 1/1 (frame 2371/3688) /home/hatsu/coding/CapProj/TestSeg_1/video_input/fight_6.mp4: 384x640 2 Fighters, 19.7ms\n",
      "video 1/1 (frame 2372/3688) /home/hatsu/coding/CapProj/TestSeg_1/video_input/fight_6.mp4: 384x640 2 Fighters, 21.7ms\n",
      "video 1/1 (frame 2373/3688) /home/hatsu/coding/CapProj/TestSeg_1/video_input/fight_6.mp4: 384x640 2 Fighters, 18.2ms\n",
      "video 1/1 (frame 2374/3688) /home/hatsu/coding/CapProj/TestSeg_1/video_input/fight_6.mp4: 384x640 2 Fighters, 21.0ms\n",
      "video 1/1 (frame 2375/3688) /home/hatsu/coding/CapProj/TestSeg_1/video_input/fight_6.mp4: 384x640 2 Fighters, 16.8ms\n",
      "video 1/1 (frame 2376/3688) /home/hatsu/coding/CapProj/TestSeg_1/video_input/fight_6.mp4: 384x640 2 Fighters, 20.5ms\n",
      "video 1/1 (frame 2377/3688) /home/hatsu/coding/CapProj/TestSeg_1/video_input/fight_6.mp4: 384x640 2 Fighters, 12.5ms\n",
      "video 1/1 (frame 2378/3688) /home/hatsu/coding/CapProj/TestSeg_1/video_input/fight_6.mp4: 384x640 2 Fighters, 21.6ms\n",
      "video 1/1 (frame 2379/3688) /home/hatsu/coding/CapProj/TestSeg_1/video_input/fight_6.mp4: 384x640 2 Fighters, 13.7ms\n",
      "video 1/1 (frame 2380/3688) /home/hatsu/coding/CapProj/TestSeg_1/video_input/fight_6.mp4: 384x640 2 Fighters, 13.7ms\n",
      "video 1/1 (frame 2381/3688) /home/hatsu/coding/CapProj/TestSeg_1/video_input/fight_6.mp4: 384x640 2 Fighters, 14.2ms\n",
      "video 1/1 (frame 2382/3688) /home/hatsu/coding/CapProj/TestSeg_1/video_input/fight_6.mp4: 384x640 2 Fighters, 14.2ms\n",
      "video 1/1 (frame 2383/3688) /home/hatsu/coding/CapProj/TestSeg_1/video_input/fight_6.mp4: 384x640 2 Fighters, 14.0ms\n",
      "video 1/1 (frame 2384/3688) /home/hatsu/coding/CapProj/TestSeg_1/video_input/fight_6.mp4: 384x640 2 Fighters, 30.9ms\n",
      "video 1/1 (frame 2385/3688) /home/hatsu/coding/CapProj/TestSeg_1/video_input/fight_6.mp4: 384x640 2 Fighters, 17.4ms\n",
      "video 1/1 (frame 2386/3688) /home/hatsu/coding/CapProj/TestSeg_1/video_input/fight_6.mp4: 384x640 2 Fighters, 13.8ms\n",
      "video 1/1 (frame 2387/3688) /home/hatsu/coding/CapProj/TestSeg_1/video_input/fight_6.mp4: 384x640 2 Fighters, 14.0ms\n",
      "video 1/1 (frame 2388/3688) /home/hatsu/coding/CapProj/TestSeg_1/video_input/fight_6.mp4: 384x640 2 Fighters, 14.4ms\n",
      "video 1/1 (frame 2389/3688) /home/hatsu/coding/CapProj/TestSeg_1/video_input/fight_6.mp4: 384x640 2 Fighters, 12.2ms\n",
      "video 1/1 (frame 2390/3688) /home/hatsu/coding/CapProj/TestSeg_1/video_input/fight_6.mp4: 384x640 2 Fighters, 14.2ms\n",
      "video 1/1 (frame 2391/3688) /home/hatsu/coding/CapProj/TestSeg_1/video_input/fight_6.mp4: 384x640 2 Fighters, 17.3ms\n",
      "video 1/1 (frame 2392/3688) /home/hatsu/coding/CapProj/TestSeg_1/video_input/fight_6.mp4: 384x640 2 Fighters, 26.5ms\n",
      "video 1/1 (frame 2393/3688) /home/hatsu/coding/CapProj/TestSeg_1/video_input/fight_6.mp4: 384x640 2 Fighters, 13.9ms\n",
      "video 1/1 (frame 2394/3688) /home/hatsu/coding/CapProj/TestSeg_1/video_input/fight_6.mp4: 384x640 2 Fighters, 15.3ms\n",
      "video 1/1 (frame 2395/3688) /home/hatsu/coding/CapProj/TestSeg_1/video_input/fight_6.mp4: 384x640 2 Fighters, 13.9ms\n",
      "video 1/1 (frame 2396/3688) /home/hatsu/coding/CapProj/TestSeg_1/video_input/fight_6.mp4: 384x640 2 Fighters, 13.8ms\n",
      "video 1/1 (frame 2397/3688) /home/hatsu/coding/CapProj/TestSeg_1/video_input/fight_6.mp4: 384x640 2 Fighters, 12.9ms\n",
      "video 1/1 (frame 2398/3688) /home/hatsu/coding/CapProj/TestSeg_1/video_input/fight_6.mp4: 384x640 2 Fighters, 13.7ms\n",
      "video 1/1 (frame 2399/3688) /home/hatsu/coding/CapProj/TestSeg_1/video_input/fight_6.mp4: 384x640 2 Fighters, 32.1ms\n",
      "video 1/1 (frame 2400/3688) /home/hatsu/coding/CapProj/TestSeg_1/video_input/fight_6.mp4: 384x640 2 Fighters, 34.7ms\n",
      "video 1/1 (frame 2401/3688) /home/hatsu/coding/CapProj/TestSeg_1/video_input/fight_6.mp4: 384x640 2 Fighters, 43.5ms\n",
      "video 1/1 (frame 2402/3688) /home/hatsu/coding/CapProj/TestSeg_1/video_input/fight_6.mp4: 384x640 2 Fighters, 13.5ms\n",
      "video 1/1 (frame 2403/3688) /home/hatsu/coding/CapProj/TestSeg_1/video_input/fight_6.mp4: 384x640 2 Fighters, 17.4ms\n",
      "video 1/1 (frame 2404/3688) /home/hatsu/coding/CapProj/TestSeg_1/video_input/fight_6.mp4: 384x640 2 Fighters, 15.5ms\n",
      "video 1/1 (frame 2405/3688) /home/hatsu/coding/CapProj/TestSeg_1/video_input/fight_6.mp4: 384x640 2 Fighters, 13.1ms\n",
      "video 1/1 (frame 2406/3688) /home/hatsu/coding/CapProj/TestSeg_1/video_input/fight_6.mp4: 384x640 2 Fighters, 33.7ms\n",
      "video 1/1 (frame 2407/3688) /home/hatsu/coding/CapProj/TestSeg_1/video_input/fight_6.mp4: 384x640 2 Fighters, 12.9ms\n",
      "video 1/1 (frame 2408/3688) /home/hatsu/coding/CapProj/TestSeg_1/video_input/fight_6.mp4: 384x640 2 Fighters, 19.5ms\n",
      "video 1/1 (frame 2409/3688) /home/hatsu/coding/CapProj/TestSeg_1/video_input/fight_6.mp4: 384x640 2 Fighters, 16.8ms\n",
      "video 1/1 (frame 2410/3688) /home/hatsu/coding/CapProj/TestSeg_1/video_input/fight_6.mp4: 384x640 2 Fighters, 13.9ms\n",
      "video 1/1 (frame 2411/3688) /home/hatsu/coding/CapProj/TestSeg_1/video_input/fight_6.mp4: 384x640 2 Fighters, 14.0ms\n",
      "video 1/1 (frame 2412/3688) /home/hatsu/coding/CapProj/TestSeg_1/video_input/fight_6.mp4: 384x640 2 Fighters, 14.5ms\n",
      "video 1/1 (frame 2413/3688) /home/hatsu/coding/CapProj/TestSeg_1/video_input/fight_6.mp4: 384x640 2 Fighters, 17.5ms\n",
      "video 1/1 (frame 2414/3688) /home/hatsu/coding/CapProj/TestSeg_1/video_input/fight_6.mp4: 384x640 2 Fighters, 14.5ms\n",
      "video 1/1 (frame 2415/3688) /home/hatsu/coding/CapProj/TestSeg_1/video_input/fight_6.mp4: 384x640 2 Fighters, 13.6ms\n",
      "video 1/1 (frame 2416/3688) /home/hatsu/coding/CapProj/TestSeg_1/video_input/fight_6.mp4: 384x640 2 Fighters, 22.2ms\n",
      "video 1/1 (frame 2417/3688) /home/hatsu/coding/CapProj/TestSeg_1/video_input/fight_6.mp4: 384x640 2 Fighters, 14.5ms\n",
      "video 1/1 (frame 2418/3688) /home/hatsu/coding/CapProj/TestSeg_1/video_input/fight_6.mp4: 384x640 2 Fighters, 13.8ms\n",
      "video 1/1 (frame 2419/3688) /home/hatsu/coding/CapProj/TestSeg_1/video_input/fight_6.mp4: 384x640 2 Fighters, 15.5ms\n",
      "video 1/1 (frame 2420/3688) /home/hatsu/coding/CapProj/TestSeg_1/video_input/fight_6.mp4: 384x640 2 Fighters, 31.3ms\n",
      "video 1/1 (frame 2421/3688) /home/hatsu/coding/CapProj/TestSeg_1/video_input/fight_6.mp4: 384x640 2 Fighters, 17.1ms\n",
      "video 1/1 (frame 2422/3688) /home/hatsu/coding/CapProj/TestSeg_1/video_input/fight_6.mp4: 384x640 2 Fighters, 15.9ms\n",
      "video 1/1 (frame 2423/3688) /home/hatsu/coding/CapProj/TestSeg_1/video_input/fight_6.mp4: 384x640 2 Fighters, 17.4ms\n",
      "video 1/1 (frame 2424/3688) /home/hatsu/coding/CapProj/TestSeg_1/video_input/fight_6.mp4: 384x640 2 Fighters, 18.9ms\n",
      "video 1/1 (frame 2425/3688) /home/hatsu/coding/CapProj/TestSeg_1/video_input/fight_6.mp4: 384x640 2 Fighters, 13.9ms\n",
      "video 1/1 (frame 2426/3688) /home/hatsu/coding/CapProj/TestSeg_1/video_input/fight_6.mp4: 384x640 2 Fighters, 14.8ms\n",
      "video 1/1 (frame 2427/3688) /home/hatsu/coding/CapProj/TestSeg_1/video_input/fight_6.mp4: 384x640 2 Fighters, 12.2ms\n",
      "video 1/1 (frame 2428/3688) /home/hatsu/coding/CapProj/TestSeg_1/video_input/fight_6.mp4: 384x640 2 Fighters, 15.7ms\n",
      "video 1/1 (frame 2429/3688) /home/hatsu/coding/CapProj/TestSeg_1/video_input/fight_6.mp4: 384x640 2 Fighters, 15.7ms\n",
      "video 1/1 (frame 2430/3688) /home/hatsu/coding/CapProj/TestSeg_1/video_input/fight_6.mp4: 384x640 2 Fighters, 14.4ms\n",
      "video 1/1 (frame 2431/3688) /home/hatsu/coding/CapProj/TestSeg_1/video_input/fight_6.mp4: 384x640 2 Fighters, 14.3ms\n",
      "video 1/1 (frame 2432/3688) /home/hatsu/coding/CapProj/TestSeg_1/video_input/fight_6.mp4: 384x640 2 Fighters, 35.6ms\n",
      "video 1/1 (frame 2433/3688) /home/hatsu/coding/CapProj/TestSeg_1/video_input/fight_6.mp4: 384x640 2 Fighters, 15.0ms\n",
      "video 1/1 (frame 2434/3688) /home/hatsu/coding/CapProj/TestSeg_1/video_input/fight_6.mp4: 384x640 2 Fighters, 15.4ms\n",
      "video 1/1 (frame 2435/3688) /home/hatsu/coding/CapProj/TestSeg_1/video_input/fight_6.mp4: 384x640 2 Fighters, 15.7ms\n",
      "video 1/1 (frame 2436/3688) /home/hatsu/coding/CapProj/TestSeg_1/video_input/fight_6.mp4: 384x640 2 Fighters, 13.7ms\n",
      "video 1/1 (frame 2437/3688) /home/hatsu/coding/CapProj/TestSeg_1/video_input/fight_6.mp4: 384x640 2 Fighters, 14.8ms\n",
      "video 1/1 (frame 2438/3688) /home/hatsu/coding/CapProj/TestSeg_1/video_input/fight_6.mp4: 384x640 2 Fighters, 14.5ms\n",
      "video 1/1 (frame 2439/3688) /home/hatsu/coding/CapProj/TestSeg_1/video_input/fight_6.mp4: 384x640 2 Fighters, 13.1ms\n",
      "video 1/1 (frame 2440/3688) /home/hatsu/coding/CapProj/TestSeg_1/video_input/fight_6.mp4: 384x640 2 Fighters, 20.9ms\n",
      "video 1/1 (frame 2441/3688) /home/hatsu/coding/CapProj/TestSeg_1/video_input/fight_6.mp4: 384x640 2 Fighters, 18.2ms\n",
      "video 1/1 (frame 2442/3688) /home/hatsu/coding/CapProj/TestSeg_1/video_input/fight_6.mp4: 384x640 2 Fighters, 17.4ms\n",
      "video 1/1 (frame 2443/3688) /home/hatsu/coding/CapProj/TestSeg_1/video_input/fight_6.mp4: 384x640 2 Fighters, 12.9ms\n",
      "video 1/1 (frame 2444/3688) /home/hatsu/coding/CapProj/TestSeg_1/video_input/fight_6.mp4: 384x640 2 Fighters, 13.0ms\n",
      "video 1/1 (frame 2445/3688) /home/hatsu/coding/CapProj/TestSeg_1/video_input/fight_6.mp4: 384x640 2 Fighters, 13.9ms\n",
      "video 1/1 (frame 2446/3688) /home/hatsu/coding/CapProj/TestSeg_1/video_input/fight_6.mp4: 384x640 2 Fighters, 15.5ms\n",
      "video 1/1 (frame 2447/3688) /home/hatsu/coding/CapProj/TestSeg_1/video_input/fight_6.mp4: 384x640 2 Fighters, 20.0ms\n",
      "video 1/1 (frame 2448/3688) /home/hatsu/coding/CapProj/TestSeg_1/video_input/fight_6.mp4: 384x640 2 Fighters, 15.1ms\n",
      "video 1/1 (frame 2449/3688) /home/hatsu/coding/CapProj/TestSeg_1/video_input/fight_6.mp4: 384x640 2 Fighters, 21.0ms\n",
      "video 1/1 (frame 2450/3688) /home/hatsu/coding/CapProj/TestSeg_1/video_input/fight_6.mp4: 384x640 2 Fighters, 25.5ms\n",
      "video 1/1 (frame 2451/3688) /home/hatsu/coding/CapProj/TestSeg_1/video_input/fight_6.mp4: 384x640 2 Fighters, 25.0ms\n",
      "video 1/1 (frame 2452/3688) /home/hatsu/coding/CapProj/TestSeg_1/video_input/fight_6.mp4: 384x640 2 Fighters, 19.4ms\n",
      "video 1/1 (frame 2453/3688) /home/hatsu/coding/CapProj/TestSeg_1/video_input/fight_6.mp4: 384x640 2 Fighters, 24.2ms\n",
      "video 1/1 (frame 2454/3688) /home/hatsu/coding/CapProj/TestSeg_1/video_input/fight_6.mp4: 384x640 2 Fighters, 27.0ms\n",
      "video 1/1 (frame 2455/3688) /home/hatsu/coding/CapProj/TestSeg_1/video_input/fight_6.mp4: 384x640 2 Fighters, 18.8ms\n",
      "video 1/1 (frame 2456/3688) /home/hatsu/coding/CapProj/TestSeg_1/video_input/fight_6.mp4: 384x640 2 Fighters, 23.5ms\n",
      "video 1/1 (frame 2457/3688) /home/hatsu/coding/CapProj/TestSeg_1/video_input/fight_6.mp4: 384x640 2 Fighters, 23.0ms\n",
      "video 1/1 (frame 2458/3688) /home/hatsu/coding/CapProj/TestSeg_1/video_input/fight_6.mp4: 384x640 2 Fighters, 19.3ms\n",
      "video 1/1 (frame 2459/3688) /home/hatsu/coding/CapProj/TestSeg_1/video_input/fight_6.mp4: 384x640 2 Fighters, 21.3ms\n",
      "video 1/1 (frame 2460/3688) /home/hatsu/coding/CapProj/TestSeg_1/video_input/fight_6.mp4: 384x640 2 Fighters, 19.1ms\n",
      "video 1/1 (frame 2461/3688) /home/hatsu/coding/CapProj/TestSeg_1/video_input/fight_6.mp4: 384x640 2 Fighters, 19.2ms\n",
      "video 1/1 (frame 2462/3688) /home/hatsu/coding/CapProj/TestSeg_1/video_input/fight_6.mp4: 384x640 2 Fighters, 24.3ms\n",
      "video 1/1 (frame 2463/3688) /home/hatsu/coding/CapProj/TestSeg_1/video_input/fight_6.mp4: 384x640 2 Fighters, 16.9ms\n",
      "video 1/1 (frame 2464/3688) /home/hatsu/coding/CapProj/TestSeg_1/video_input/fight_6.mp4: 384x640 2 Fighters, 21.0ms\n",
      "video 1/1 (frame 2465/3688) /home/hatsu/coding/CapProj/TestSeg_1/video_input/fight_6.mp4: 384x640 2 Fighters, 14.9ms\n",
      "video 1/1 (frame 2466/3688) /home/hatsu/coding/CapProj/TestSeg_1/video_input/fight_6.mp4: 384x640 2 Fighters, 15.2ms\n",
      "video 1/1 (frame 2467/3688) /home/hatsu/coding/CapProj/TestSeg_1/video_input/fight_6.mp4: 384x640 2 Fighters, 13.4ms\n",
      "video 1/1 (frame 2468/3688) /home/hatsu/coding/CapProj/TestSeg_1/video_input/fight_6.mp4: 384x640 2 Fighters, 16.0ms\n",
      "video 1/1 (frame 2469/3688) /home/hatsu/coding/CapProj/TestSeg_1/video_input/fight_6.mp4: 384x640 2 Fighters, 14.8ms\n",
      "video 1/1 (frame 2470/3688) /home/hatsu/coding/CapProj/TestSeg_1/video_input/fight_6.mp4: 384x640 2 Fighters, 12.0ms\n",
      "video 1/1 (frame 2471/3688) /home/hatsu/coding/CapProj/TestSeg_1/video_input/fight_6.mp4: 384x640 2 Fighters, 20.5ms\n",
      "video 1/1 (frame 2472/3688) /home/hatsu/coding/CapProj/TestSeg_1/video_input/fight_6.mp4: 384x640 2 Fighters, 15.3ms\n",
      "video 1/1 (frame 2473/3688) /home/hatsu/coding/CapProj/TestSeg_1/video_input/fight_6.mp4: 384x640 2 Fighters, 12.9ms\n",
      "video 1/1 (frame 2474/3688) /home/hatsu/coding/CapProj/TestSeg_1/video_input/fight_6.mp4: 384x640 2 Fighters, 13.2ms\n",
      "video 1/1 (frame 2475/3688) /home/hatsu/coding/CapProj/TestSeg_1/video_input/fight_6.mp4: 384x640 2 Fighters, 16.6ms\n",
      "video 1/1 (frame 2476/3688) /home/hatsu/coding/CapProj/TestSeg_1/video_input/fight_6.mp4: 384x640 2 Fighters, 13.2ms\n",
      "video 1/1 (frame 2477/3688) /home/hatsu/coding/CapProj/TestSeg_1/video_input/fight_6.mp4: 384x640 2 Fighters, 26.3ms\n",
      "video 1/1 (frame 2478/3688) /home/hatsu/coding/CapProj/TestSeg_1/video_input/fight_6.mp4: 384x640 2 Fighters, 13.0ms\n",
      "video 1/1 (frame 2479/3688) /home/hatsu/coding/CapProj/TestSeg_1/video_input/fight_6.mp4: 384x640 2 Fighters, 18.6ms\n",
      "video 1/1 (frame 2480/3688) /home/hatsu/coding/CapProj/TestSeg_1/video_input/fight_6.mp4: 384x640 2 Fighters, 14.6ms\n",
      "video 1/1 (frame 2481/3688) /home/hatsu/coding/CapProj/TestSeg_1/video_input/fight_6.mp4: 384x640 2 Fighters, 15.0ms\n",
      "video 1/1 (frame 2482/3688) /home/hatsu/coding/CapProj/TestSeg_1/video_input/fight_6.mp4: 384x640 2 Fighters, 24.8ms\n",
      "video 1/1 (frame 2483/3688) /home/hatsu/coding/CapProj/TestSeg_1/video_input/fight_6.mp4: 384x640 2 Fighters, 15.1ms\n",
      "video 1/1 (frame 2484/3688) /home/hatsu/coding/CapProj/TestSeg_1/video_input/fight_6.mp4: 384x640 2 Fighters, 14.9ms\n",
      "video 1/1 (frame 2485/3688) /home/hatsu/coding/CapProj/TestSeg_1/video_input/fight_6.mp4: 384x640 2 Fighters, 13.5ms\n",
      "video 1/1 (frame 2486/3688) /home/hatsu/coding/CapProj/TestSeg_1/video_input/fight_6.mp4: 384x640 2 Fighters, 16.2ms\n",
      "video 1/1 (frame 2487/3688) /home/hatsu/coding/CapProj/TestSeg_1/video_input/fight_6.mp4: 384x640 2 Fighters, 24.5ms\n",
      "video 1/1 (frame 2488/3688) /home/hatsu/coding/CapProj/TestSeg_1/video_input/fight_6.mp4: 384x640 2 Fighters, 15.5ms\n",
      "video 1/1 (frame 2489/3688) /home/hatsu/coding/CapProj/TestSeg_1/video_input/fight_6.mp4: 384x640 2 Fighters, 17.7ms\n",
      "video 1/1 (frame 2490/3688) /home/hatsu/coding/CapProj/TestSeg_1/video_input/fight_6.mp4: 384x640 2 Fighters, 14.1ms\n",
      "video 1/1 (frame 2491/3688) /home/hatsu/coding/CapProj/TestSeg_1/video_input/fight_6.mp4: 384x640 2 Fighters, 13.1ms\n",
      "video 1/1 (frame 2492/3688) /home/hatsu/coding/CapProj/TestSeg_1/video_input/fight_6.mp4: 384x640 2 Fighters, 14.1ms\n",
      "video 1/1 (frame 2493/3688) /home/hatsu/coding/CapProj/TestSeg_1/video_input/fight_6.mp4: 384x640 2 Fighters, 20.1ms\n",
      "video 1/1 (frame 2494/3688) /home/hatsu/coding/CapProj/TestSeg_1/video_input/fight_6.mp4: 384x640 2 Fighters, 20.7ms\n",
      "video 1/1 (frame 2495/3688) /home/hatsu/coding/CapProj/TestSeg_1/video_input/fight_6.mp4: 384x640 2 Fighters, 18.9ms\n",
      "video 1/1 (frame 2496/3688) /home/hatsu/coding/CapProj/TestSeg_1/video_input/fight_6.mp4: 384x640 2 Fighters, 15.9ms\n",
      "video 1/1 (frame 2497/3688) /home/hatsu/coding/CapProj/TestSeg_1/video_input/fight_6.mp4: 384x640 2 Fighters, 20.4ms\n",
      "video 1/1 (frame 2498/3688) /home/hatsu/coding/CapProj/TestSeg_1/video_input/fight_6.mp4: 384x640 2 Fighters, 17.0ms\n",
      "video 1/1 (frame 2499/3688) /home/hatsu/coding/CapProj/TestSeg_1/video_input/fight_6.mp4: 384x640 2 Fighters, 18.6ms\n",
      "video 1/1 (frame 2500/3688) /home/hatsu/coding/CapProj/TestSeg_1/video_input/fight_6.mp4: 384x640 2 Fighters, 22.3ms\n",
      "video 1/1 (frame 2501/3688) /home/hatsu/coding/CapProj/TestSeg_1/video_input/fight_6.mp4: 384x640 2 Fighters, 15.4ms\n",
      "video 1/1 (frame 2502/3688) /home/hatsu/coding/CapProj/TestSeg_1/video_input/fight_6.mp4: 384x640 2 Fighters, 18.2ms\n",
      "video 1/1 (frame 2503/3688) /home/hatsu/coding/CapProj/TestSeg_1/video_input/fight_6.mp4: 384x640 2 Fighters, 14.8ms\n",
      "video 1/1 (frame 2504/3688) /home/hatsu/coding/CapProj/TestSeg_1/video_input/fight_6.mp4: 384x640 2 Fighters, 15.5ms\n",
      "video 1/1 (frame 2505/3688) /home/hatsu/coding/CapProj/TestSeg_1/video_input/fight_6.mp4: 384x640 2 Fighters, 14.1ms\n",
      "video 1/1 (frame 2506/3688) /home/hatsu/coding/CapProj/TestSeg_1/video_input/fight_6.mp4: 384x640 2 Fighters, 15.6ms\n",
      "video 1/1 (frame 2507/3688) /home/hatsu/coding/CapProj/TestSeg_1/video_input/fight_6.mp4: 384x640 2 Fighters, 16.9ms\n",
      "video 1/1 (frame 2508/3688) /home/hatsu/coding/CapProj/TestSeg_1/video_input/fight_6.mp4: 384x640 2 Fighters, 34.7ms\n",
      "video 1/1 (frame 2509/3688) /home/hatsu/coding/CapProj/TestSeg_1/video_input/fight_6.mp4: 384x640 2 Fighters, 21.5ms\n",
      "video 1/1 (frame 2510/3688) /home/hatsu/coding/CapProj/TestSeg_1/video_input/fight_6.mp4: 384x640 2 Fighters, 25.3ms\n",
      "video 1/1 (frame 2511/3688) /home/hatsu/coding/CapProj/TestSeg_1/video_input/fight_6.mp4: 384x640 2 Fighters, 22.7ms\n",
      "video 1/1 (frame 2512/3688) /home/hatsu/coding/CapProj/TestSeg_1/video_input/fight_6.mp4: 384x640 2 Fighters, 26.3ms\n",
      "video 1/1 (frame 2513/3688) /home/hatsu/coding/CapProj/TestSeg_1/video_input/fight_6.mp4: 384x640 2 Fighters, 19.6ms\n",
      "video 1/1 (frame 2514/3688) /home/hatsu/coding/CapProj/TestSeg_1/video_input/fight_6.mp4: 384x640 2 Fighters, 26.1ms\n",
      "video 1/1 (frame 2515/3688) /home/hatsu/coding/CapProj/TestSeg_1/video_input/fight_6.mp4: 384x640 2 Fighters, 18.9ms\n",
      "video 1/1 (frame 2516/3688) /home/hatsu/coding/CapProj/TestSeg_1/video_input/fight_6.mp4: 384x640 2 Fighters, 21.0ms\n",
      "video 1/1 (frame 2517/3688) /home/hatsu/coding/CapProj/TestSeg_1/video_input/fight_6.mp4: 384x640 2 Fighters, 23.8ms\n",
      "video 1/1 (frame 2518/3688) /home/hatsu/coding/CapProj/TestSeg_1/video_input/fight_6.mp4: 384x640 2 Fighters, 23.7ms\n",
      "video 1/1 (frame 2519/3688) /home/hatsu/coding/CapProj/TestSeg_1/video_input/fight_6.mp4: 384x640 2 Fighters, 41.0ms\n",
      "video 1/1 (frame 2520/3688) /home/hatsu/coding/CapProj/TestSeg_1/video_input/fight_6.mp4: 384x640 2 Fighters, 22.4ms\n",
      "video 1/1 (frame 2521/3688) /home/hatsu/coding/CapProj/TestSeg_1/video_input/fight_6.mp4: 384x640 2 Fighters, 22.2ms\n",
      "video 1/1 (frame 2522/3688) /home/hatsu/coding/CapProj/TestSeg_1/video_input/fight_6.mp4: 384x640 2 Fighters, 18.4ms\n",
      "video 1/1 (frame 2523/3688) /home/hatsu/coding/CapProj/TestSeg_1/video_input/fight_6.mp4: 384x640 2 Fighters, 20.9ms\n",
      "video 1/1 (frame 2524/3688) /home/hatsu/coding/CapProj/TestSeg_1/video_input/fight_6.mp4: 384x640 2 Fighters, 32.2ms\n",
      "video 1/1 (frame 2525/3688) /home/hatsu/coding/CapProj/TestSeg_1/video_input/fight_6.mp4: 384x640 2 Fighters, 17.2ms\n",
      "video 1/1 (frame 2526/3688) /home/hatsu/coding/CapProj/TestSeg_1/video_input/fight_6.mp4: 384x640 2 Fighters, 19.5ms\n",
      "video 1/1 (frame 2527/3688) /home/hatsu/coding/CapProj/TestSeg_1/video_input/fight_6.mp4: 384x640 2 Fighters, 17.7ms\n",
      "video 1/1 (frame 2528/3688) /home/hatsu/coding/CapProj/TestSeg_1/video_input/fight_6.mp4: 384x640 2 Fighters, 14.2ms\n",
      "video 1/1 (frame 2529/3688) /home/hatsu/coding/CapProj/TestSeg_1/video_input/fight_6.mp4: 384x640 2 Fighters, 15.0ms\n",
      "video 1/1 (frame 2530/3688) /home/hatsu/coding/CapProj/TestSeg_1/video_input/fight_6.mp4: 384x640 2 Fighters, 15.8ms\n",
      "video 1/1 (frame 2531/3688) /home/hatsu/coding/CapProj/TestSeg_1/video_input/fight_6.mp4: 384x640 2 Fighters, 24.4ms\n",
      "video 1/1 (frame 2532/3688) /home/hatsu/coding/CapProj/TestSeg_1/video_input/fight_6.mp4: 384x640 2 Fighters, 16.2ms\n",
      "video 1/1 (frame 2533/3688) /home/hatsu/coding/CapProj/TestSeg_1/video_input/fight_6.mp4: 384x640 2 Fighters, 15.1ms\n",
      "video 1/1 (frame 2534/3688) /home/hatsu/coding/CapProj/TestSeg_1/video_input/fight_6.mp4: 384x640 2 Fighters, 13.5ms\n",
      "video 1/1 (frame 2535/3688) /home/hatsu/coding/CapProj/TestSeg_1/video_input/fight_6.mp4: 384x640 2 Fighters, 19.9ms\n",
      "video 1/1 (frame 2536/3688) /home/hatsu/coding/CapProj/TestSeg_1/video_input/fight_6.mp4: 384x640 2 Fighters, 13.0ms\n",
      "video 1/1 (frame 2537/3688) /home/hatsu/coding/CapProj/TestSeg_1/video_input/fight_6.mp4: 384x640 2 Fighters, 15.6ms\n",
      "video 1/1 (frame 2538/3688) /home/hatsu/coding/CapProj/TestSeg_1/video_input/fight_6.mp4: 384x640 2 Fighters, 20.5ms\n",
      "video 1/1 (frame 2539/3688) /home/hatsu/coding/CapProj/TestSeg_1/video_input/fight_6.mp4: 384x640 2 Fighters, 12.6ms\n",
      "video 1/1 (frame 2540/3688) /home/hatsu/coding/CapProj/TestSeg_1/video_input/fight_6.mp4: 384x640 2 Fighters, 17.5ms\n",
      "video 1/1 (frame 2541/3688) /home/hatsu/coding/CapProj/TestSeg_1/video_input/fight_6.mp4: 384x640 2 Fighters, 14.5ms\n",
      "video 1/1 (frame 2542/3688) /home/hatsu/coding/CapProj/TestSeg_1/video_input/fight_6.mp4: 384x640 2 Fighters, 17.4ms\n",
      "video 1/1 (frame 2543/3688) /home/hatsu/coding/CapProj/TestSeg_1/video_input/fight_6.mp4: 384x640 2 Fighters, 13.9ms\n",
      "video 1/1 (frame 2544/3688) /home/hatsu/coding/CapProj/TestSeg_1/video_input/fight_6.mp4: 384x640 2 Fighters, 13.2ms\n",
      "video 1/1 (frame 2545/3688) /home/hatsu/coding/CapProj/TestSeg_1/video_input/fight_6.mp4: 384x640 2 Fighters, 14.6ms\n",
      "video 1/1 (frame 2546/3688) /home/hatsu/coding/CapProj/TestSeg_1/video_input/fight_6.mp4: 384x640 2 Fighters, 18.2ms\n",
      "video 1/1 (frame 2547/3688) /home/hatsu/coding/CapProj/TestSeg_1/video_input/fight_6.mp4: 384x640 2 Fighters, 22.4ms\n",
      "video 1/1 (frame 2548/3688) /home/hatsu/coding/CapProj/TestSeg_1/video_input/fight_6.mp4: 384x640 2 Fighters, 13.2ms\n",
      "video 1/1 (frame 2549/3688) /home/hatsu/coding/CapProj/TestSeg_1/video_input/fight_6.mp4: 384x640 2 Fighters, 17.9ms\n",
      "video 1/1 (frame 2550/3688) /home/hatsu/coding/CapProj/TestSeg_1/video_input/fight_6.mp4: 384x640 2 Fighters, 31.0ms\n",
      "video 1/1 (frame 2551/3688) /home/hatsu/coding/CapProj/TestSeg_1/video_input/fight_6.mp4: 384x640 2 Fighters, 13.8ms\n",
      "video 1/1 (frame 2552/3688) /home/hatsu/coding/CapProj/TestSeg_1/video_input/fight_6.mp4: 384x640 2 Fighters, 16.2ms\n",
      "video 1/1 (frame 2553/3688) /home/hatsu/coding/CapProj/TestSeg_1/video_input/fight_6.mp4: 384x640 2 Fighters, 23.1ms\n",
      "video 1/1 (frame 2554/3688) /home/hatsu/coding/CapProj/TestSeg_1/video_input/fight_6.mp4: 384x640 2 Fighters, 14.0ms\n",
      "video 1/1 (frame 2555/3688) /home/hatsu/coding/CapProj/TestSeg_1/video_input/fight_6.mp4: 384x640 2 Fighters, 28.9ms\n",
      "video 1/1 (frame 2556/3688) /home/hatsu/coding/CapProj/TestSeg_1/video_input/fight_6.mp4: 384x640 2 Fighters, 14.5ms\n",
      "video 1/1 (frame 2557/3688) /home/hatsu/coding/CapProj/TestSeg_1/video_input/fight_6.mp4: 384x640 2 Fighters, 13.4ms\n",
      "video 1/1 (frame 2558/3688) /home/hatsu/coding/CapProj/TestSeg_1/video_input/fight_6.mp4: 384x640 2 Fighters, 13.4ms\n",
      "video 1/1 (frame 2559/3688) /home/hatsu/coding/CapProj/TestSeg_1/video_input/fight_6.mp4: 384x640 2 Fighters, 23.8ms\n",
      "video 1/1 (frame 2560/3688) /home/hatsu/coding/CapProj/TestSeg_1/video_input/fight_6.mp4: 384x640 2 Fighters, 21.6ms\n",
      "video 1/1 (frame 2561/3688) /home/hatsu/coding/CapProj/TestSeg_1/video_input/fight_6.mp4: 384x640 2 Fighters, 19.5ms\n",
      "video 1/1 (frame 2562/3688) /home/hatsu/coding/CapProj/TestSeg_1/video_input/fight_6.mp4: 384x640 2 Fighters, 21.0ms\n",
      "video 1/1 (frame 2563/3688) /home/hatsu/coding/CapProj/TestSeg_1/video_input/fight_6.mp4: 384x640 2 Fighters, 23.0ms\n",
      "video 1/1 (frame 2564/3688) /home/hatsu/coding/CapProj/TestSeg_1/video_input/fight_6.mp4: 384x640 2 Fighters, 20.8ms\n",
      "video 1/1 (frame 2565/3688) /home/hatsu/coding/CapProj/TestSeg_1/video_input/fight_6.mp4: 384x640 2 Fighters, 19.9ms\n",
      "video 1/1 (frame 2566/3688) /home/hatsu/coding/CapProj/TestSeg_1/video_input/fight_6.mp4: 384x640 2 Fighters, 40.2ms\n",
      "video 1/1 (frame 2567/3688) /home/hatsu/coding/CapProj/TestSeg_1/video_input/fight_6.mp4: 384x640 2 Fighters, 19.4ms\n",
      "video 1/1 (frame 2568/3688) /home/hatsu/coding/CapProj/TestSeg_1/video_input/fight_6.mp4: 384x640 2 Fighters, 22.3ms\n",
      "video 1/1 (frame 2569/3688) /home/hatsu/coding/CapProj/TestSeg_1/video_input/fight_6.mp4: 384x640 2 Fighters, 22.6ms\n",
      "video 1/1 (frame 2570/3688) /home/hatsu/coding/CapProj/TestSeg_1/video_input/fight_6.mp4: 384x640 2 Fighters, 21.2ms\n",
      "video 1/1 (frame 2571/3688) /home/hatsu/coding/CapProj/TestSeg_1/video_input/fight_6.mp4: 384x640 2 Fighters, 33.5ms\n",
      "video 1/1 (frame 2572/3688) /home/hatsu/coding/CapProj/TestSeg_1/video_input/fight_6.mp4: 384x640 2 Fighters, 39.0ms\n",
      "video 1/1 (frame 2573/3688) /home/hatsu/coding/CapProj/TestSeg_1/video_input/fight_6.mp4: 384x640 2 Fighters, 16.6ms\n",
      "video 1/1 (frame 2574/3688) /home/hatsu/coding/CapProj/TestSeg_1/video_input/fight_6.mp4: 384x640 2 Fighters, 30.4ms\n",
      "video 1/1 (frame 2575/3688) /home/hatsu/coding/CapProj/TestSeg_1/video_input/fight_6.mp4: 384x640 2 Fighters, 17.8ms\n",
      "video 1/1 (frame 2576/3688) /home/hatsu/coding/CapProj/TestSeg_1/video_input/fight_6.mp4: 384x640 2 Fighters, 16.4ms\n",
      "video 1/1 (frame 2577/3688) /home/hatsu/coding/CapProj/TestSeg_1/video_input/fight_6.mp4: 384x640 2 Fighters, 16.5ms\n",
      "video 1/1 (frame 2578/3688) /home/hatsu/coding/CapProj/TestSeg_1/video_input/fight_6.mp4: 384x640 2 Fighters, 14.1ms\n",
      "video 1/1 (frame 2579/3688) /home/hatsu/coding/CapProj/TestSeg_1/video_input/fight_6.mp4: 384x640 2 Fighters, 16.8ms\n",
      "video 1/1 (frame 2580/3688) /home/hatsu/coding/CapProj/TestSeg_1/video_input/fight_6.mp4: 384x640 2 Fighters, 13.6ms\n",
      "video 1/1 (frame 2581/3688) /home/hatsu/coding/CapProj/TestSeg_1/video_input/fight_6.mp4: 384x640 2 Fighters, 14.0ms\n",
      "video 1/1 (frame 2582/3688) /home/hatsu/coding/CapProj/TestSeg_1/video_input/fight_6.mp4: 384x640 2 Fighters, 14.6ms\n",
      "video 1/1 (frame 2583/3688) /home/hatsu/coding/CapProj/TestSeg_1/video_input/fight_6.mp4: 384x640 2 Fighters, 18.9ms\n",
      "video 1/1 (frame 2584/3688) /home/hatsu/coding/CapProj/TestSeg_1/video_input/fight_6.mp4: 384x640 2 Fighters, 13.7ms\n",
      "video 1/1 (frame 2585/3688) /home/hatsu/coding/CapProj/TestSeg_1/video_input/fight_6.mp4: 384x640 2 Fighters, 16.0ms\n",
      "video 1/1 (frame 2586/3688) /home/hatsu/coding/CapProj/TestSeg_1/video_input/fight_6.mp4: 384x640 2 Fighters, 14.1ms\n",
      "video 1/1 (frame 2587/3688) /home/hatsu/coding/CapProj/TestSeg_1/video_input/fight_6.mp4: 384x640 2 Fighters, 14.3ms\n",
      "video 1/1 (frame 2588/3688) /home/hatsu/coding/CapProj/TestSeg_1/video_input/fight_6.mp4: 384x640 2 Fighters, 30.5ms\n",
      "video 1/1 (frame 2589/3688) /home/hatsu/coding/CapProj/TestSeg_1/video_input/fight_6.mp4: 384x640 2 Fighters, 12.7ms\n",
      "video 1/1 (frame 2590/3688) /home/hatsu/coding/CapProj/TestSeg_1/video_input/fight_6.mp4: 384x640 2 Fighters, 13.5ms\n",
      "video 1/1 (frame 2591/3688) /home/hatsu/coding/CapProj/TestSeg_1/video_input/fight_6.mp4: 384x640 2 Fighters, 12.7ms\n",
      "video 1/1 (frame 2592/3688) /home/hatsu/coding/CapProj/TestSeg_1/video_input/fight_6.mp4: 384x640 2 Fighters, 19.6ms\n",
      "video 1/1 (frame 2593/3688) /home/hatsu/coding/CapProj/TestSeg_1/video_input/fight_6.mp4: 384x640 2 Fighters, 13.6ms\n",
      "video 1/1 (frame 2594/3688) /home/hatsu/coding/CapProj/TestSeg_1/video_input/fight_6.mp4: 384x640 2 Fighters, 14.2ms\n",
      "video 1/1 (frame 2595/3688) /home/hatsu/coding/CapProj/TestSeg_1/video_input/fight_6.mp4: 384x640 2 Fighters, 14.6ms\n",
      "video 1/1 (frame 2596/3688) /home/hatsu/coding/CapProj/TestSeg_1/video_input/fight_6.mp4: 384x640 2 Fighters, 13.6ms\n",
      "video 1/1 (frame 2597/3688) /home/hatsu/coding/CapProj/TestSeg_1/video_input/fight_6.mp4: 384x640 2 Fighters, 14.8ms\n",
      "video 1/1 (frame 2598/3688) /home/hatsu/coding/CapProj/TestSeg_1/video_input/fight_6.mp4: 384x640 2 Fighters, 13.9ms\n",
      "video 1/1 (frame 2599/3688) /home/hatsu/coding/CapProj/TestSeg_1/video_input/fight_6.mp4: 384x640 2 Fighters, 30.3ms\n",
      "video 1/1 (frame 2600/3688) /home/hatsu/coding/CapProj/TestSeg_1/video_input/fight_6.mp4: 384x640 2 Fighters, 39.3ms\n",
      "video 1/1 (frame 2601/3688) /home/hatsu/coding/CapProj/TestSeg_1/video_input/fight_6.mp4: 384x640 2 Fighters, 16.9ms\n",
      "video 1/1 (frame 2602/3688) /home/hatsu/coding/CapProj/TestSeg_1/video_input/fight_6.mp4: 384x640 2 Fighters, 13.1ms\n",
      "video 1/1 (frame 2603/3688) /home/hatsu/coding/CapProj/TestSeg_1/video_input/fight_6.mp4: 384x640 2 Fighters, 16.5ms\n",
      "video 1/1 (frame 2604/3688) /home/hatsu/coding/CapProj/TestSeg_1/video_input/fight_6.mp4: 384x640 2 Fighters, 14.9ms\n",
      "video 1/1 (frame 2605/3688) /home/hatsu/coding/CapProj/TestSeg_1/video_input/fight_6.mp4: 384x640 2 Fighters, 21.9ms\n",
      "video 1/1 (frame 2606/3688) /home/hatsu/coding/CapProj/TestSeg_1/video_input/fight_6.mp4: 384x640 2 Fighters, 13.5ms\n",
      "video 1/1 (frame 2607/3688) /home/hatsu/coding/CapProj/TestSeg_1/video_input/fight_6.mp4: 384x640 2 Fighters, 13.8ms\n",
      "video 1/1 (frame 2608/3688) /home/hatsu/coding/CapProj/TestSeg_1/video_input/fight_6.mp4: 384x640 2 Fighters, 13.4ms\n",
      "video 1/1 (frame 2609/3688) /home/hatsu/coding/CapProj/TestSeg_1/video_input/fight_6.mp4: 384x640 2 Fighters, 14.2ms\n",
      "video 1/1 (frame 2610/3688) /home/hatsu/coding/CapProj/TestSeg_1/video_input/fight_6.mp4: 384x640 2 Fighters, 19.1ms\n",
      "video 1/1 (frame 2611/3688) /home/hatsu/coding/CapProj/TestSeg_1/video_input/fight_6.mp4: 384x640 2 Fighters, 21.8ms\n",
      "video 1/1 (frame 2612/3688) /home/hatsu/coding/CapProj/TestSeg_1/video_input/fight_6.mp4: 384x640 2 Fighters, 30.7ms\n",
      "video 1/1 (frame 2613/3688) /home/hatsu/coding/CapProj/TestSeg_1/video_input/fight_6.mp4: 384x640 2 Fighters, 17.4ms\n",
      "video 1/1 (frame 2614/3688) /home/hatsu/coding/CapProj/TestSeg_1/video_input/fight_6.mp4: 384x640 2 Fighters, 27.9ms\n",
      "video 1/1 (frame 2615/3688) /home/hatsu/coding/CapProj/TestSeg_1/video_input/fight_6.mp4: 384x640 2 Fighters, 19.9ms\n",
      "video 1/1 (frame 2616/3688) /home/hatsu/coding/CapProj/TestSeg_1/video_input/fight_6.mp4: 384x640 2 Fighters, 17.2ms\n",
      "video 1/1 (frame 2617/3688) /home/hatsu/coding/CapProj/TestSeg_1/video_input/fight_6.mp4: 384x640 2 Fighters, 12.8ms\n",
      "video 1/1 (frame 2618/3688) /home/hatsu/coding/CapProj/TestSeg_1/video_input/fight_6.mp4: 384x640 2 Fighters, 39.9ms\n",
      "video 1/1 (frame 2619/3688) /home/hatsu/coding/CapProj/TestSeg_1/video_input/fight_6.mp4: 384x640 2 Fighters, 42.4ms\n",
      "video 1/1 (frame 2620/3688) /home/hatsu/coding/CapProj/TestSeg_1/video_input/fight_6.mp4: 384x640 2 Fighters, 27.4ms\n",
      "video 1/1 (frame 2621/3688) /home/hatsu/coding/CapProj/TestSeg_1/video_input/fight_6.mp4: 384x640 2 Fighters, 14.1ms\n",
      "video 1/1 (frame 2622/3688) /home/hatsu/coding/CapProj/TestSeg_1/video_input/fight_6.mp4: 384x640 2 Fighters, 13.0ms\n",
      "video 1/1 (frame 2623/3688) /home/hatsu/coding/CapProj/TestSeg_1/video_input/fight_6.mp4: 384x640 2 Fighters, 13.5ms\n",
      "video 1/1 (frame 2624/3688) /home/hatsu/coding/CapProj/TestSeg_1/video_input/fight_6.mp4: 384x640 2 Fighters, 19.7ms\n",
      "video 1/1 (frame 2625/3688) /home/hatsu/coding/CapProj/TestSeg_1/video_input/fight_6.mp4: 384x640 2 Fighters, 15.2ms\n",
      "video 1/1 (frame 2626/3688) /home/hatsu/coding/CapProj/TestSeg_1/video_input/fight_6.mp4: 384x640 2 Fighters, 12.8ms\n",
      "video 1/1 (frame 2627/3688) /home/hatsu/coding/CapProj/TestSeg_1/video_input/fight_6.mp4: 384x640 2 Fighters, 13.6ms\n",
      "video 1/1 (frame 2628/3688) /home/hatsu/coding/CapProj/TestSeg_1/video_input/fight_6.mp4: 384x640 2 Fighters, 13.1ms\n",
      "video 1/1 (frame 2629/3688) /home/hatsu/coding/CapProj/TestSeg_1/video_input/fight_6.mp4: 384x640 2 Fighters, 30.2ms\n",
      "video 1/1 (frame 2630/3688) /home/hatsu/coding/CapProj/TestSeg_1/video_input/fight_6.mp4: 384x640 2 Fighters, 17.6ms\n",
      "video 1/1 (frame 2631/3688) /home/hatsu/coding/CapProj/TestSeg_1/video_input/fight_6.mp4: 384x640 2 Fighters, 14.1ms\n",
      "video 1/1 (frame 2632/3688) /home/hatsu/coding/CapProj/TestSeg_1/video_input/fight_6.mp4: 384x640 2 Fighters, 14.8ms\n",
      "video 1/1 (frame 2633/3688) /home/hatsu/coding/CapProj/TestSeg_1/video_input/fight_6.mp4: 384x640 2 Fighters, 15.3ms\n",
      "video 1/1 (frame 2634/3688) /home/hatsu/coding/CapProj/TestSeg_1/video_input/fight_6.mp4: 384x640 2 Fighters, 13.4ms\n",
      "video 1/1 (frame 2635/3688) /home/hatsu/coding/CapProj/TestSeg_1/video_input/fight_6.mp4: 384x640 2 Fighters, 14.0ms\n",
      "video 1/1 (frame 2636/3688) /home/hatsu/coding/CapProj/TestSeg_1/video_input/fight_6.mp4: 384x640 2 Fighters, 26.6ms\n",
      "video 1/1 (frame 2637/3688) /home/hatsu/coding/CapProj/TestSeg_1/video_input/fight_6.mp4: 384x640 2 Fighters, 41.6ms\n",
      "video 1/1 (frame 2638/3688) /home/hatsu/coding/CapProj/TestSeg_1/video_input/fight_6.mp4: 384x640 2 Fighters, 13.2ms\n",
      "video 1/1 (frame 2639/3688) /home/hatsu/coding/CapProj/TestSeg_1/video_input/fight_6.mp4: 384x640 2 Fighters, 14.3ms\n",
      "video 1/1 (frame 2640/3688) /home/hatsu/coding/CapProj/TestSeg_1/video_input/fight_6.mp4: 384x640 2 Fighters, 15.2ms\n",
      "video 1/1 (frame 2641/3688) /home/hatsu/coding/CapProj/TestSeg_1/video_input/fight_6.mp4: 384x640 2 Fighters, 13.4ms\n",
      "video 1/1 (frame 2642/3688) /home/hatsu/coding/CapProj/TestSeg_1/video_input/fight_6.mp4: 384x640 2 Fighters, 14.9ms\n",
      "video 1/1 (frame 2643/3688) /home/hatsu/coding/CapProj/TestSeg_1/video_input/fight_6.mp4: 384x640 2 Fighters, 34.1ms\n",
      "video 1/1 (frame 2644/3688) /home/hatsu/coding/CapProj/TestSeg_1/video_input/fight_6.mp4: 384x640 2 Fighters, 23.7ms\n",
      "video 1/1 (frame 2645/3688) /home/hatsu/coding/CapProj/TestSeg_1/video_input/fight_6.mp4: 384x640 2 Fighters, 14.8ms\n",
      "video 1/1 (frame 2646/3688) /home/hatsu/coding/CapProj/TestSeg_1/video_input/fight_6.mp4: 384x640 2 Fighters, 16.2ms\n",
      "video 1/1 (frame 2647/3688) /home/hatsu/coding/CapProj/TestSeg_1/video_input/fight_6.mp4: 384x640 2 Fighters, 15.8ms\n",
      "video 1/1 (frame 2648/3688) /home/hatsu/coding/CapProj/TestSeg_1/video_input/fight_6.mp4: 384x640 2 Fighters, 13.9ms\n",
      "video 1/1 (frame 2649/3688) /home/hatsu/coding/CapProj/TestSeg_1/video_input/fight_6.mp4: 384x640 2 Fighters, 23.9ms\n",
      "video 1/1 (frame 2650/3688) /home/hatsu/coding/CapProj/TestSeg_1/video_input/fight_6.mp4: 384x640 2 Fighters, 21.6ms\n",
      "video 1/1 (frame 2651/3688) /home/hatsu/coding/CapProj/TestSeg_1/video_input/fight_6.mp4: 384x640 2 Fighters, 17.7ms\n",
      "video 1/1 (frame 2652/3688) /home/hatsu/coding/CapProj/TestSeg_1/video_input/fight_6.mp4: 384x640 2 Fighters, 14.3ms\n",
      "video 1/1 (frame 2653/3688) /home/hatsu/coding/CapProj/TestSeg_1/video_input/fight_6.mp4: 384x640 2 Fighters, 30.1ms\n",
      "video 1/1 (frame 2654/3688) /home/hatsu/coding/CapProj/TestSeg_1/video_input/fight_6.mp4: 384x640 2 Fighters, 15.3ms\n",
      "video 1/1 (frame 2655/3688) /home/hatsu/coding/CapProj/TestSeg_1/video_input/fight_6.mp4: 384x640 2 Fighters, 15.9ms\n",
      "video 1/1 (frame 2656/3688) /home/hatsu/coding/CapProj/TestSeg_1/video_input/fight_6.mp4: 384x640 2 Fighters, 35.9ms\n",
      "video 1/1 (frame 2657/3688) /home/hatsu/coding/CapProj/TestSeg_1/video_input/fight_6.mp4: 384x640 2 Fighters, 20.0ms\n",
      "video 1/1 (frame 2658/3688) /home/hatsu/coding/CapProj/TestSeg_1/video_input/fight_6.mp4: 384x640 2 Fighters, 14.6ms\n",
      "video 1/1 (frame 2659/3688) /home/hatsu/coding/CapProj/TestSeg_1/video_input/fight_6.mp4: 384x640 2 Fighters, 23.1ms\n",
      "video 1/1 (frame 2660/3688) /home/hatsu/coding/CapProj/TestSeg_1/video_input/fight_6.mp4: 384x640 2 Fighters, 23.7ms\n",
      "video 1/1 (frame 2661/3688) /home/hatsu/coding/CapProj/TestSeg_1/video_input/fight_6.mp4: 384x640 2 Fighters, 19.5ms\n",
      "video 1/1 (frame 2662/3688) /home/hatsu/coding/CapProj/TestSeg_1/video_input/fight_6.mp4: 384x640 2 Fighters, 18.9ms\n",
      "video 1/1 (frame 2663/3688) /home/hatsu/coding/CapProj/TestSeg_1/video_input/fight_6.mp4: 384x640 2 Fighters, 26.9ms\n",
      "video 1/1 (frame 2664/3688) /home/hatsu/coding/CapProj/TestSeg_1/video_input/fight_6.mp4: 384x640 2 Fighters, 19.0ms\n",
      "video 1/1 (frame 2665/3688) /home/hatsu/coding/CapProj/TestSeg_1/video_input/fight_6.mp4: 384x640 2 Fighters, 22.1ms\n",
      "video 1/1 (frame 2666/3688) /home/hatsu/coding/CapProj/TestSeg_1/video_input/fight_6.mp4: 384x640 2 Fighters, 20.7ms\n",
      "video 1/1 (frame 2667/3688) /home/hatsu/coding/CapProj/TestSeg_1/video_input/fight_6.mp4: 384x640 2 Fighters, 21.0ms\n",
      "video 1/1 (frame 2668/3688) /home/hatsu/coding/CapProj/TestSeg_1/video_input/fight_6.mp4: 384x640 2 Fighters, 23.7ms\n",
      "video 1/1 (frame 2669/3688) /home/hatsu/coding/CapProj/TestSeg_1/video_input/fight_6.mp4: 384x640 2 Fighters, 43.2ms\n",
      "video 1/1 (frame 2670/3688) /home/hatsu/coding/CapProj/TestSeg_1/video_input/fight_6.mp4: 384x640 2 Fighters, 25.2ms\n",
      "video 1/1 (frame 2671/3688) /home/hatsu/coding/CapProj/TestSeg_1/video_input/fight_6.mp4: 384x640 2 Fighters, 18.5ms\n",
      "video 1/1 (frame 2672/3688) /home/hatsu/coding/CapProj/TestSeg_1/video_input/fight_6.mp4: 384x640 2 Fighters, 22.0ms\n",
      "video 1/1 (frame 2673/3688) /home/hatsu/coding/CapProj/TestSeg_1/video_input/fight_6.mp4: 384x640 2 Fighters, 18.7ms\n",
      "video 1/1 (frame 2674/3688) /home/hatsu/coding/CapProj/TestSeg_1/video_input/fight_6.mp4: 384x640 2 Fighters, 17.8ms\n",
      "video 1/1 (frame 2675/3688) /home/hatsu/coding/CapProj/TestSeg_1/video_input/fight_6.mp4: 384x640 2 Fighters, 25.8ms\n",
      "video 1/1 (frame 2676/3688) /home/hatsu/coding/CapProj/TestSeg_1/video_input/fight_6.mp4: 384x640 2 Fighters, 15.1ms\n",
      "video 1/1 (frame 2677/3688) /home/hatsu/coding/CapProj/TestSeg_1/video_input/fight_6.mp4: 384x640 2 Fighters, 20.7ms\n",
      "video 1/1 (frame 2678/3688) /home/hatsu/coding/CapProj/TestSeg_1/video_input/fight_6.mp4: 384x640 2 Fighters, 18.7ms\n",
      "video 1/1 (frame 2679/3688) /home/hatsu/coding/CapProj/TestSeg_1/video_input/fight_6.mp4: 384x640 2 Fighters, 14.4ms\n",
      "video 1/1 (frame 2680/3688) /home/hatsu/coding/CapProj/TestSeg_1/video_input/fight_6.mp4: 384x640 2 Fighters, 15.3ms\n",
      "video 1/1 (frame 2681/3688) /home/hatsu/coding/CapProj/TestSeg_1/video_input/fight_6.mp4: 384x640 2 Fighters, 21.3ms\n",
      "video 1/1 (frame 2682/3688) /home/hatsu/coding/CapProj/TestSeg_1/video_input/fight_6.mp4: 384x640 2 Fighters, 31.1ms\n",
      "video 1/1 (frame 2683/3688) /home/hatsu/coding/CapProj/TestSeg_1/video_input/fight_6.mp4: 384x640 2 Fighters, 18.9ms\n",
      "video 1/1 (frame 2684/3688) /home/hatsu/coding/CapProj/TestSeg_1/video_input/fight_6.mp4: 384x640 2 Fighters, 15.8ms\n",
      "video 1/1 (frame 2685/3688) /home/hatsu/coding/CapProj/TestSeg_1/video_input/fight_6.mp4: 384x640 2 Fighters, 13.6ms\n",
      "video 1/1 (frame 2686/3688) /home/hatsu/coding/CapProj/TestSeg_1/video_input/fight_6.mp4: 384x640 2 Fighters, 13.5ms\n",
      "video 1/1 (frame 2687/3688) /home/hatsu/coding/CapProj/TestSeg_1/video_input/fight_6.mp4: 384x640 2 Fighters, 22.1ms\n",
      "video 1/1 (frame 2688/3688) /home/hatsu/coding/CapProj/TestSeg_1/video_input/fight_6.mp4: 384x640 2 Fighters, 14.0ms\n",
      "video 1/1 (frame 2689/3688) /home/hatsu/coding/CapProj/TestSeg_1/video_input/fight_6.mp4: 384x640 2 Fighters, 16.4ms\n",
      "video 1/1 (frame 2690/3688) /home/hatsu/coding/CapProj/TestSeg_1/video_input/fight_6.mp4: 384x640 2 Fighters, 13.3ms\n",
      "video 1/1 (frame 2691/3688) /home/hatsu/coding/CapProj/TestSeg_1/video_input/fight_6.mp4: 384x640 2 Fighters, 15.5ms\n",
      "video 1/1 (frame 2692/3688) /home/hatsu/coding/CapProj/TestSeg_1/video_input/fight_6.mp4: 384x640 2 Fighters, 16.0ms\n",
      "video 1/1 (frame 2693/3688) /home/hatsu/coding/CapProj/TestSeg_1/video_input/fight_6.mp4: 384x640 2 Fighters, 20.8ms\n",
      "video 1/1 (frame 2694/3688) /home/hatsu/coding/CapProj/TestSeg_1/video_input/fight_6.mp4: 384x640 2 Fighters, 16.7ms\n",
      "video 1/1 (frame 2695/3688) /home/hatsu/coding/CapProj/TestSeg_1/video_input/fight_6.mp4: 384x640 2 Fighters, 23.4ms\n",
      "video 1/1 (frame 2696/3688) /home/hatsu/coding/CapProj/TestSeg_1/video_input/fight_6.mp4: 384x640 2 Fighters, 15.3ms\n",
      "video 1/1 (frame 2697/3688) /home/hatsu/coding/CapProj/TestSeg_1/video_input/fight_6.mp4: 384x640 2 Fighters, 32.1ms\n",
      "video 1/1 (frame 2698/3688) /home/hatsu/coding/CapProj/TestSeg_1/video_input/fight_6.mp4: 384x640 2 Fighters, 12.9ms\n",
      "video 1/1 (frame 2699/3688) /home/hatsu/coding/CapProj/TestSeg_1/video_input/fight_6.mp4: 384x640 2 Fighters, 14.3ms\n",
      "video 1/1 (frame 2700/3688) /home/hatsu/coding/CapProj/TestSeg_1/video_input/fight_6.mp4: 384x640 2 Fighters, 14.7ms\n",
      "video 1/1 (frame 2701/3688) /home/hatsu/coding/CapProj/TestSeg_1/video_input/fight_6.mp4: 384x640 2 Fighters, 23.6ms\n",
      "video 1/1 (frame 2702/3688) /home/hatsu/coding/CapProj/TestSeg_1/video_input/fight_6.mp4: 384x640 2 Fighters, 13.8ms\n",
      "video 1/1 (frame 2703/3688) /home/hatsu/coding/CapProj/TestSeg_1/video_input/fight_6.mp4: 384x640 2 Fighters, 15.9ms\n",
      "video 1/1 (frame 2704/3688) /home/hatsu/coding/CapProj/TestSeg_1/video_input/fight_6.mp4: 384x640 2 Fighters, 14.7ms\n",
      "video 1/1 (frame 2705/3688) /home/hatsu/coding/CapProj/TestSeg_1/video_input/fight_6.mp4: 384x640 2 Fighters, 16.6ms\n",
      "video 1/1 (frame 2706/3688) /home/hatsu/coding/CapProj/TestSeg_1/video_input/fight_6.mp4: 384x640 2 Fighters, 14.3ms\n",
      "video 1/1 (frame 2707/3688) /home/hatsu/coding/CapProj/TestSeg_1/video_input/fight_6.mp4: 384x640 2 Fighters, 22.0ms\n",
      "video 1/1 (frame 2708/3688) /home/hatsu/coding/CapProj/TestSeg_1/video_input/fight_6.mp4: 384x640 2 Fighters, 21.9ms\n",
      "video 1/1 (frame 2709/3688) /home/hatsu/coding/CapProj/TestSeg_1/video_input/fight_6.mp4: 384x640 2 Fighters, 24.5ms\n",
      "video 1/1 (frame 2710/3688) /home/hatsu/coding/CapProj/TestSeg_1/video_input/fight_6.mp4: 384x640 2 Fighters, 30.7ms\n",
      "video 1/1 (frame 2711/3688) /home/hatsu/coding/CapProj/TestSeg_1/video_input/fight_6.mp4: 384x640 2 Fighters, 15.9ms\n",
      "video 1/1 (frame 2712/3688) /home/hatsu/coding/CapProj/TestSeg_1/video_input/fight_6.mp4: 384x640 2 Fighters, 18.8ms\n",
      "video 1/1 (frame 2713/3688) /home/hatsu/coding/CapProj/TestSeg_1/video_input/fight_6.mp4: 384x640 2 Fighters, 19.1ms\n",
      "video 1/1 (frame 2714/3688) /home/hatsu/coding/CapProj/TestSeg_1/video_input/fight_6.mp4: 384x640 2 Fighters, 32.4ms\n",
      "video 1/1 (frame 2715/3688) /home/hatsu/coding/CapProj/TestSeg_1/video_input/fight_6.mp4: 384x640 2 Fighters, 25.9ms\n",
      "video 1/1 (frame 2716/3688) /home/hatsu/coding/CapProj/TestSeg_1/video_input/fight_6.mp4: 384x640 2 Fighters, 28.6ms\n",
      "video 1/1 (frame 2717/3688) /home/hatsu/coding/CapProj/TestSeg_1/video_input/fight_6.mp4: 384x640 3 Fighters, 23.7ms\n",
      "video 1/1 (frame 2718/3688) /home/hatsu/coding/CapProj/TestSeg_1/video_input/fight_6.mp4: 384x640 2 Fighters, 23.7ms\n",
      "video 1/1 (frame 2719/3688) /home/hatsu/coding/CapProj/TestSeg_1/video_input/fight_6.mp4: 384x640 2 Fighters, 20.2ms\n",
      "video 1/1 (frame 2720/3688) /home/hatsu/coding/CapProj/TestSeg_1/video_input/fight_6.mp4: 384x640 2 Fighters, 20.8ms\n",
      "video 1/1 (frame 2721/3688) /home/hatsu/coding/CapProj/TestSeg_1/video_input/fight_6.mp4: 384x640 2 Fighters, 26.4ms\n",
      "video 1/1 (frame 2722/3688) /home/hatsu/coding/CapProj/TestSeg_1/video_input/fight_6.mp4: 384x640 2 Fighters, 26.8ms\n",
      "video 1/1 (frame 2723/3688) /home/hatsu/coding/CapProj/TestSeg_1/video_input/fight_6.mp4: 384x640 2 Fighters, 19.5ms\n",
      "video 1/1 (frame 2724/3688) /home/hatsu/coding/CapProj/TestSeg_1/video_input/fight_6.mp4: 384x640 2 Fighters, 21.8ms\n",
      "video 1/1 (frame 2725/3688) /home/hatsu/coding/CapProj/TestSeg_1/video_input/fight_6.mp4: 384x640 2 Fighters, 12.1ms\n",
      "video 1/1 (frame 2726/3688) /home/hatsu/coding/CapProj/TestSeg_1/video_input/fight_6.mp4: 384x640 2 Fighters, 13.6ms\n",
      "video 1/1 (frame 2727/3688) /home/hatsu/coding/CapProj/TestSeg_1/video_input/fight_6.mp4: 384x640 2 Fighters, 14.5ms\n",
      "video 1/1 (frame 2728/3688) /home/hatsu/coding/CapProj/TestSeg_1/video_input/fight_6.mp4: 384x640 2 Fighters, 13.1ms\n",
      "video 1/1 (frame 2729/3688) /home/hatsu/coding/CapProj/TestSeg_1/video_input/fight_6.mp4: 384x640 2 Fighters, 27.3ms\n",
      "video 1/1 (frame 2730/3688) /home/hatsu/coding/CapProj/TestSeg_1/video_input/fight_6.mp4: 384x640 2 Fighters, 12.3ms\n",
      "video 1/1 (frame 2731/3688) /home/hatsu/coding/CapProj/TestSeg_1/video_input/fight_6.mp4: 384x640 2 Fighters, 12.7ms\n",
      "video 1/1 (frame 2732/3688) /home/hatsu/coding/CapProj/TestSeg_1/video_input/fight_6.mp4: 384x640 2 Fighters, 14.2ms\n",
      "video 1/1 (frame 2733/3688) /home/hatsu/coding/CapProj/TestSeg_1/video_input/fight_6.mp4: 384x640 2 Fighters, 13.8ms\n",
      "video 1/1 (frame 2734/3688) /home/hatsu/coding/CapProj/TestSeg_1/video_input/fight_6.mp4: 384x640 1 Fighter, 13.2ms\n",
      "video 1/1 (frame 2735/3688) /home/hatsu/coding/CapProj/TestSeg_1/video_input/fight_6.mp4: 384x640 2 Fighters, 14.8ms\n",
      "video 1/1 (frame 2736/3688) /home/hatsu/coding/CapProj/TestSeg_1/video_input/fight_6.mp4: 384x640 2 Fighters, 15.0ms\n",
      "video 1/1 (frame 2737/3688) /home/hatsu/coding/CapProj/TestSeg_1/video_input/fight_6.mp4: 384x640 2 Fighters, 22.4ms\n",
      "video 1/1 (frame 2738/3688) /home/hatsu/coding/CapProj/TestSeg_1/video_input/fight_6.mp4: 384x640 2 Fighters, 13.6ms\n",
      "video 1/1 (frame 2739/3688) /home/hatsu/coding/CapProj/TestSeg_1/video_input/fight_6.mp4: 384x640 2 Fighters, 13.7ms\n",
      "video 1/1 (frame 2740/3688) /home/hatsu/coding/CapProj/TestSeg_1/video_input/fight_6.mp4: 384x640 2 Fighters, 13.9ms\n",
      "video 1/1 (frame 2741/3688) /home/hatsu/coding/CapProj/TestSeg_1/video_input/fight_6.mp4: 384x640 2 Fighters, 18.1ms\n",
      "video 1/1 (frame 2742/3688) /home/hatsu/coding/CapProj/TestSeg_1/video_input/fight_6.mp4: 384x640 2 Fighters, 15.1ms\n",
      "video 1/1 (frame 2743/3688) /home/hatsu/coding/CapProj/TestSeg_1/video_input/fight_6.mp4: 384x640 2 Fighters, 21.2ms\n",
      "video 1/1 (frame 2744/3688) /home/hatsu/coding/CapProj/TestSeg_1/video_input/fight_6.mp4: 384x640 2 Fighters, 16.3ms\n",
      "video 1/1 (frame 2745/3688) /home/hatsu/coding/CapProj/TestSeg_1/video_input/fight_6.mp4: 384x640 2 Fighters, 15.7ms\n",
      "video 1/1 (frame 2746/3688) /home/hatsu/coding/CapProj/TestSeg_1/video_input/fight_6.mp4: 384x640 2 Fighters, 14.7ms\n",
      "video 1/1 (frame 2747/3688) /home/hatsu/coding/CapProj/TestSeg_1/video_input/fight_6.mp4: 384x640 2 Fighters, 12.7ms\n",
      "video 1/1 (frame 2748/3688) /home/hatsu/coding/CapProj/TestSeg_1/video_input/fight_6.mp4: 384x640 2 Fighters, 12.3ms\n",
      "video 1/1 (frame 2749/3688) /home/hatsu/coding/CapProj/TestSeg_1/video_input/fight_6.mp4: 384x640 2 Fighters, 19.1ms\n",
      "video 1/1 (frame 2750/3688) /home/hatsu/coding/CapProj/TestSeg_1/video_input/fight_6.mp4: 384x640 2 Fighters, 15.9ms\n",
      "video 1/1 (frame 2751/3688) /home/hatsu/coding/CapProj/TestSeg_1/video_input/fight_6.mp4: 384x640 2 Fighters, 16.1ms\n",
      "video 1/1 (frame 2752/3688) /home/hatsu/coding/CapProj/TestSeg_1/video_input/fight_6.mp4: 384x640 2 Fighters, 13.4ms\n",
      "video 1/1 (frame 2753/3688) /home/hatsu/coding/CapProj/TestSeg_1/video_input/fight_6.mp4: 384x640 2 Fighters, 14.1ms\n",
      "video 1/1 (frame 2754/3688) /home/hatsu/coding/CapProj/TestSeg_1/video_input/fight_6.mp4: 384x640 2 Fighters, 13.2ms\n",
      "video 1/1 (frame 2755/3688) /home/hatsu/coding/CapProj/TestSeg_1/video_input/fight_6.mp4: 384x640 2 Fighters, 13.3ms\n",
      "video 1/1 (frame 2756/3688) /home/hatsu/coding/CapProj/TestSeg_1/video_input/fight_6.mp4: 384x640 2 Fighters, 14.9ms\n",
      "video 1/1 (frame 2757/3688) /home/hatsu/coding/CapProj/TestSeg_1/video_input/fight_6.mp4: 384x640 2 Fighters, 20.7ms\n",
      "video 1/1 (frame 2758/3688) /home/hatsu/coding/CapProj/TestSeg_1/video_input/fight_6.mp4: 384x640 2 Fighters, 13.7ms\n",
      "video 1/1 (frame 2759/3688) /home/hatsu/coding/CapProj/TestSeg_1/video_input/fight_6.mp4: 384x640 2 Fighters, 13.7ms\n",
      "video 1/1 (frame 2760/3688) /home/hatsu/coding/CapProj/TestSeg_1/video_input/fight_6.mp4: 384x640 2 Fighters, 17.7ms\n",
      "video 1/1 (frame 2761/3688) /home/hatsu/coding/CapProj/TestSeg_1/video_input/fight_6.mp4: 384x640 2 Fighters, 13.3ms\n",
      "video 1/1 (frame 2762/3688) /home/hatsu/coding/CapProj/TestSeg_1/video_input/fight_6.mp4: 384x640 2 Fighters, 13.3ms\n",
      "video 1/1 (frame 2763/3688) /home/hatsu/coding/CapProj/TestSeg_1/video_input/fight_6.mp4: 384x640 2 Fighters, 18.7ms\n",
      "video 1/1 (frame 2764/3688) /home/hatsu/coding/CapProj/TestSeg_1/video_input/fight_6.mp4: 384x640 2 Fighters, 14.0ms\n",
      "video 1/1 (frame 2765/3688) /home/hatsu/coding/CapProj/TestSeg_1/video_input/fight_6.mp4: 384x640 2 Fighters, 13.6ms\n",
      "video 1/1 (frame 2766/3688) /home/hatsu/coding/CapProj/TestSeg_1/video_input/fight_6.mp4: 384x640 2 Fighters, 13.0ms\n",
      "video 1/1 (frame 2767/3688) /home/hatsu/coding/CapProj/TestSeg_1/video_input/fight_6.mp4: 384x640 2 Fighters, 33.3ms\n",
      "video 1/1 (frame 2768/3688) /home/hatsu/coding/CapProj/TestSeg_1/video_input/fight_6.mp4: 384x640 2 Fighters, 14.6ms\n",
      "video 1/1 (frame 2769/3688) /home/hatsu/coding/CapProj/TestSeg_1/video_input/fight_6.mp4: 384x640 2 Fighters, 21.9ms\n",
      "video 1/1 (frame 2770/3688) /home/hatsu/coding/CapProj/TestSeg_1/video_input/fight_6.mp4: 384x640 3 Fighters, 13.6ms\n",
      "video 1/1 (frame 2771/3688) /home/hatsu/coding/CapProj/TestSeg_1/video_input/fight_6.mp4: 384x640 2 Fighters, 14.1ms\n",
      "video 1/1 (frame 2772/3688) /home/hatsu/coding/CapProj/TestSeg_1/video_input/fight_6.mp4: 384x640 2 Fighters, 13.9ms\n",
      "video 1/1 (frame 2773/3688) /home/hatsu/coding/CapProj/TestSeg_1/video_input/fight_6.mp4: 384x640 2 Fighters, 31.3ms\n",
      "video 1/1 (frame 2774/3688) /home/hatsu/coding/CapProj/TestSeg_1/video_input/fight_6.mp4: 384x640 2 Fighters, 14.7ms\n",
      "video 1/1 (frame 2775/3688) /home/hatsu/coding/CapProj/TestSeg_1/video_input/fight_6.mp4: 384x640 2 Fighters, 13.3ms\n",
      "video 1/1 (frame 2776/3688) /home/hatsu/coding/CapProj/TestSeg_1/video_input/fight_6.mp4: 384x640 2 Fighters, 16.1ms\n",
      "video 1/1 (frame 2777/3688) /home/hatsu/coding/CapProj/TestSeg_1/video_input/fight_6.mp4: 384x640 2 Fighters, 19.1ms\n",
      "video 1/1 (frame 2778/3688) /home/hatsu/coding/CapProj/TestSeg_1/video_input/fight_6.mp4: 384x640 2 Fighters, 13.8ms\n",
      "video 1/1 (frame 2779/3688) /home/hatsu/coding/CapProj/TestSeg_1/video_input/fight_6.mp4: 384x640 2 Fighters, 14.8ms\n",
      "video 1/1 (frame 2780/3688) /home/hatsu/coding/CapProj/TestSeg_1/video_input/fight_6.mp4: 384x640 2 Fighters, 15.3ms\n",
      "video 1/1 (frame 2781/3688) /home/hatsu/coding/CapProj/TestSeg_1/video_input/fight_6.mp4: 384x640 2 Fighters, 19.4ms\n",
      "video 1/1 (frame 2782/3688) /home/hatsu/coding/CapProj/TestSeg_1/video_input/fight_6.mp4: 384x640 2 Fighters, 14.4ms\n",
      "video 1/1 (frame 2783/3688) /home/hatsu/coding/CapProj/TestSeg_1/video_input/fight_6.mp4: 384x640 1 Fighter, 14.4ms\n",
      "video 1/1 (frame 2784/3688) /home/hatsu/coding/CapProj/TestSeg_1/video_input/fight_6.mp4: 384x640 1 Fighter, 13.8ms\n",
      "video 1/1 (frame 2785/3688) /home/hatsu/coding/CapProj/TestSeg_1/video_input/fight_6.mp4: 384x640 1 Fighter, 17.1ms\n",
      "video 1/1 (frame 2786/3688) /home/hatsu/coding/CapProj/TestSeg_1/video_input/fight_6.mp4: 384x640 2 Fighters, 13.9ms\n",
      "video 1/1 (frame 2787/3688) /home/hatsu/coding/CapProj/TestSeg_1/video_input/fight_6.mp4: 384x640 2 Fighters, 14.9ms\n",
      "video 1/1 (frame 2788/3688) /home/hatsu/coding/CapProj/TestSeg_1/video_input/fight_6.mp4: 384x640 2 Fighters, 15.7ms\n",
      "video 1/1 (frame 2789/3688) /home/hatsu/coding/CapProj/TestSeg_1/video_input/fight_6.mp4: 384x640 2 Fighters, 17.8ms\n",
      "video 1/1 (frame 2790/3688) /home/hatsu/coding/CapProj/TestSeg_1/video_input/fight_6.mp4: 384x640 2 Fighters, 15.9ms\n",
      "video 1/1 (frame 2791/3688) /home/hatsu/coding/CapProj/TestSeg_1/video_input/fight_6.mp4: 384x640 2 Fighters, 13.4ms\n",
      "video 1/1 (frame 2792/3688) /home/hatsu/coding/CapProj/TestSeg_1/video_input/fight_6.mp4: 384x640 2 Fighters, 16.5ms\n",
      "video 1/1 (frame 2793/3688) /home/hatsu/coding/CapProj/TestSeg_1/video_input/fight_6.mp4: 384x640 2 Fighters, 13.2ms\n",
      "video 1/1 (frame 2794/3688) /home/hatsu/coding/CapProj/TestSeg_1/video_input/fight_6.mp4: 384x640 3 Fighters, 14.0ms\n",
      "video 1/1 (frame 2795/3688) /home/hatsu/coding/CapProj/TestSeg_1/video_input/fight_6.mp4: 384x640 3 Fighters, 15.2ms\n",
      "video 1/1 (frame 2796/3688) /home/hatsu/coding/CapProj/TestSeg_1/video_input/fight_6.mp4: 384x640 3 Fighters, 13.3ms\n",
      "video 1/1 (frame 2797/3688) /home/hatsu/coding/CapProj/TestSeg_1/video_input/fight_6.mp4: 384x640 3 Fighters, 13.0ms\n",
      "video 1/1 (frame 2798/3688) /home/hatsu/coding/CapProj/TestSeg_1/video_input/fight_6.mp4: 384x640 3 Fighters, 25.6ms\n",
      "video 1/1 (frame 2799/3688) /home/hatsu/coding/CapProj/TestSeg_1/video_input/fight_6.mp4: 384x640 3 Fighters, 22.2ms\n",
      "video 1/1 (frame 2800/3688) /home/hatsu/coding/CapProj/TestSeg_1/video_input/fight_6.mp4: 384x640 3 Fighters, 24.4ms\n",
      "video 1/1 (frame 2801/3688) /home/hatsu/coding/CapProj/TestSeg_1/video_input/fight_6.mp4: 384x640 3 Fighters, 19.8ms\n",
      "video 1/1 (frame 2802/3688) /home/hatsu/coding/CapProj/TestSeg_1/video_input/fight_6.mp4: 384x640 3 Fighters, 22.1ms\n",
      "video 1/1 (frame 2803/3688) /home/hatsu/coding/CapProj/TestSeg_1/video_input/fight_6.mp4: 384x640 2 Fighters, 32.6ms\n",
      "video 1/1 (frame 2804/3688) /home/hatsu/coding/CapProj/TestSeg_1/video_input/fight_6.mp4: 384x640 2 Fighters, 21.6ms\n",
      "video 1/1 (frame 2805/3688) /home/hatsu/coding/CapProj/TestSeg_1/video_input/fight_6.mp4: 384x640 1 Fighter, 20.0ms\n",
      "video 1/1 (frame 2806/3688) /home/hatsu/coding/CapProj/TestSeg_1/video_input/fight_6.mp4: 384x640 1 Fighter, 19.0ms\n",
      "video 1/1 (frame 2807/3688) /home/hatsu/coding/CapProj/TestSeg_1/video_input/fight_6.mp4: 384x640 1 Fighter, 17.1ms\n",
      "video 1/1 (frame 2808/3688) /home/hatsu/coding/CapProj/TestSeg_1/video_input/fight_6.mp4: 384x640 (no detections), 19.5ms\n",
      "video 1/1 (frame 2809/3688) /home/hatsu/coding/CapProj/TestSeg_1/video_input/fight_6.mp4: 384x640 (no detections), 21.8ms\n",
      "video 1/1 (frame 2810/3688) /home/hatsu/coding/CapProj/TestSeg_1/video_input/fight_6.mp4: 384x640 1 Fighter, 14.4ms\n",
      "video 1/1 (frame 2811/3688) /home/hatsu/coding/CapProj/TestSeg_1/video_input/fight_6.mp4: 384x640 1 Fighter, 21.0ms\n",
      "video 1/1 (frame 2812/3688) /home/hatsu/coding/CapProj/TestSeg_1/video_input/fight_6.mp4: 384x640 1 Fighter, 13.9ms\n",
      "video 1/1 (frame 2813/3688) /home/hatsu/coding/CapProj/TestSeg_1/video_input/fight_6.mp4: 384x640 1 Fighter, 15.7ms\n",
      "video 1/1 (frame 2814/3688) /home/hatsu/coding/CapProj/TestSeg_1/video_input/fight_6.mp4: 384x640 1 Fighter, 13.3ms\n",
      "video 1/1 (frame 2815/3688) /home/hatsu/coding/CapProj/TestSeg_1/video_input/fight_6.mp4: 384x640 1 Fighter, 12.9ms\n",
      "video 1/1 (frame 2816/3688) /home/hatsu/coding/CapProj/TestSeg_1/video_input/fight_6.mp4: 384x640 1 Fighter, 14.8ms\n",
      "video 1/1 (frame 2817/3688) /home/hatsu/coding/CapProj/TestSeg_1/video_input/fight_6.mp4: 384x640 2 Fighters, 34.8ms\n",
      "video 1/1 (frame 2818/3688) /home/hatsu/coding/CapProj/TestSeg_1/video_input/fight_6.mp4: 384x640 2 Fighters, 19.2ms\n",
      "video 1/1 (frame 2819/3688) /home/hatsu/coding/CapProj/TestSeg_1/video_input/fight_6.mp4: 384x640 2 Fighters, 16.9ms\n",
      "video 1/1 (frame 2820/3688) /home/hatsu/coding/CapProj/TestSeg_1/video_input/fight_6.mp4: 384x640 2 Fighters, 14.4ms\n",
      "video 1/1 (frame 2821/3688) /home/hatsu/coding/CapProj/TestSeg_1/video_input/fight_6.mp4: 384x640 1 Fighter, 12.3ms\n",
      "video 1/1 (frame 2822/3688) /home/hatsu/coding/CapProj/TestSeg_1/video_input/fight_6.mp4: 384x640 2 Fighters, 13.7ms\n",
      "video 1/1 (frame 2823/3688) /home/hatsu/coding/CapProj/TestSeg_1/video_input/fight_6.mp4: 384x640 1 Fighter, 13.4ms\n",
      "video 1/1 (frame 2824/3688) /home/hatsu/coding/CapProj/TestSeg_1/video_input/fight_6.mp4: 384x640 1 Fighter, 21.8ms\n",
      "video 1/1 (frame 2825/3688) /home/hatsu/coding/CapProj/TestSeg_1/video_input/fight_6.mp4: 384x640 1 Fighter, 16.3ms\n",
      "video 1/1 (frame 2826/3688) /home/hatsu/coding/CapProj/TestSeg_1/video_input/fight_6.mp4: 384x640 1 Fighter, 16.7ms\n",
      "video 1/1 (frame 2827/3688) /home/hatsu/coding/CapProj/TestSeg_1/video_input/fight_6.mp4: 384x640 1 Fighter, 26.4ms\n",
      "video 1/1 (frame 2828/3688) /home/hatsu/coding/CapProj/TestSeg_1/video_input/fight_6.mp4: 384x640 1 Fighter, 13.1ms\n",
      "video 1/1 (frame 2829/3688) /home/hatsu/coding/CapProj/TestSeg_1/video_input/fight_6.mp4: 384x640 1 Fighter, 13.1ms\n",
      "video 1/1 (frame 2830/3688) /home/hatsu/coding/CapProj/TestSeg_1/video_input/fight_6.mp4: 384x640 1 Fighter, 19.5ms\n",
      "video 1/1 (frame 2831/3688) /home/hatsu/coding/CapProj/TestSeg_1/video_input/fight_6.mp4: 384x640 1 Fighter, 14.7ms\n",
      "video 1/1 (frame 2832/3688) /home/hatsu/coding/CapProj/TestSeg_1/video_input/fight_6.mp4: 384x640 1 Fighter, 13.4ms\n",
      "video 1/1 (frame 2833/3688) /home/hatsu/coding/CapProj/TestSeg_1/video_input/fight_6.mp4: 384x640 1 Fighter, 13.1ms\n",
      "video 1/1 (frame 2834/3688) /home/hatsu/coding/CapProj/TestSeg_1/video_input/fight_6.mp4: 384x640 1 Fighter, 13.8ms\n",
      "video 1/1 (frame 2835/3688) /home/hatsu/coding/CapProj/TestSeg_1/video_input/fight_6.mp4: 384x640 1 Fighter, 13.5ms\n",
      "video 1/1 (frame 2836/3688) /home/hatsu/coding/CapProj/TestSeg_1/video_input/fight_6.mp4: 384x640 1 Fighter, 19.9ms\n",
      "video 1/1 (frame 2837/3688) /home/hatsu/coding/CapProj/TestSeg_1/video_input/fight_6.mp4: 384x640 1 Fighter, 15.9ms\n",
      "video 1/1 (frame 2838/3688) /home/hatsu/coding/CapProj/TestSeg_1/video_input/fight_6.mp4: 384x640 1 Fighter, 13.8ms\n",
      "video 1/1 (frame 2839/3688) /home/hatsu/coding/CapProj/TestSeg_1/video_input/fight_6.mp4: 384x640 1 Fighter, 12.9ms\n",
      "video 1/1 (frame 2840/3688) /home/hatsu/coding/CapProj/TestSeg_1/video_input/fight_6.mp4: 384x640 1 Fighter, 14.4ms\n",
      "video 1/1 (frame 2841/3688) /home/hatsu/coding/CapProj/TestSeg_1/video_input/fight_6.mp4: 384x640 1 Fighter, 24.5ms\n",
      "video 1/1 (frame 2842/3688) /home/hatsu/coding/CapProj/TestSeg_1/video_input/fight_6.mp4: 384x640 (no detections), 20.5ms\n",
      "video 1/1 (frame 2843/3688) /home/hatsu/coding/CapProj/TestSeg_1/video_input/fight_6.mp4: 384x640 1 Fighter, 14.7ms\n",
      "video 1/1 (frame 2844/3688) /home/hatsu/coding/CapProj/TestSeg_1/video_input/fight_6.mp4: 384x640 1 Fighter, 13.7ms\n",
      "video 1/1 (frame 2845/3688) /home/hatsu/coding/CapProj/TestSeg_1/video_input/fight_6.mp4: 384x640 1 Fighter, 13.7ms\n",
      "video 1/1 (frame 2846/3688) /home/hatsu/coding/CapProj/TestSeg_1/video_input/fight_6.mp4: 384x640 2 Fighters, 13.7ms\n",
      "video 1/1 (frame 2847/3688) /home/hatsu/coding/CapProj/TestSeg_1/video_input/fight_6.mp4: 384x640 1 Fighter, 14.8ms\n",
      "video 1/1 (frame 2848/3688) /home/hatsu/coding/CapProj/TestSeg_1/video_input/fight_6.mp4: 384x640 1 Fighter, 13.1ms\n",
      "video 1/1 (frame 2849/3688) /home/hatsu/coding/CapProj/TestSeg_1/video_input/fight_6.mp4: 384x640 1 Fighter, 15.3ms\n",
      "video 1/1 (frame 2850/3688) /home/hatsu/coding/CapProj/TestSeg_1/video_input/fight_6.mp4: 384x640 2 Fighters, 36.2ms\n",
      "video 1/1 (frame 2851/3688) /home/hatsu/coding/CapProj/TestSeg_1/video_input/fight_6.mp4: 384x640 1 Fighter, 15.6ms\n",
      "video 1/1 (frame 2852/3688) /home/hatsu/coding/CapProj/TestSeg_1/video_input/fight_6.mp4: 384x640 1 Fighter, 13.6ms\n",
      "video 1/1 (frame 2853/3688) /home/hatsu/coding/CapProj/TestSeg_1/video_input/fight_6.mp4: 384x640 1 Fighter, 14.0ms\n",
      "video 1/1 (frame 2854/3688) /home/hatsu/coding/CapProj/TestSeg_1/video_input/fight_6.mp4: 384x640 1 Fighter, 14.9ms\n",
      "video 1/1 (frame 2855/3688) /home/hatsu/coding/CapProj/TestSeg_1/video_input/fight_6.mp4: 384x640 1 Fighter, 16.3ms\n",
      "video 1/1 (frame 2856/3688) /home/hatsu/coding/CapProj/TestSeg_1/video_input/fight_6.mp4: 384x640 1 Fighter, 27.3ms\n",
      "video 1/1 (frame 2857/3688) /home/hatsu/coding/CapProj/TestSeg_1/video_input/fight_6.mp4: 384x640 1 Fighter, 15.0ms\n",
      "video 1/1 (frame 2858/3688) /home/hatsu/coding/CapProj/TestSeg_1/video_input/fight_6.mp4: 384x640 1 Fighter, 13.3ms\n",
      "video 1/1 (frame 2859/3688) /home/hatsu/coding/CapProj/TestSeg_1/video_input/fight_6.mp4: 384x640 1 Fighter, 14.0ms\n",
      "video 1/1 (frame 2860/3688) /home/hatsu/coding/CapProj/TestSeg_1/video_input/fight_6.mp4: 384x640 1 Fighter, 17.7ms\n",
      "video 1/1 (frame 2861/3688) /home/hatsu/coding/CapProj/TestSeg_1/video_input/fight_6.mp4: 384x640 1 Fighter, 15.2ms\n",
      "video 1/1 (frame 2862/3688) /home/hatsu/coding/CapProj/TestSeg_1/video_input/fight_6.mp4: 384x640 1 Fighter, 19.1ms\n",
      "video 1/1 (frame 2863/3688) /home/hatsu/coding/CapProj/TestSeg_1/video_input/fight_6.mp4: 384x640 1 Fighter, 12.8ms\n",
      "video 1/1 (frame 2864/3688) /home/hatsu/coding/CapProj/TestSeg_1/video_input/fight_6.mp4: 384x640 2 Fighters, 13.1ms\n",
      "video 1/1 (frame 2865/3688) /home/hatsu/coding/CapProj/TestSeg_1/video_input/fight_6.mp4: 384x640 2 Fighters, 37.3ms\n",
      "video 1/1 (frame 2866/3688) /home/hatsu/coding/CapProj/TestSeg_1/video_input/fight_6.mp4: 384x640 2 Fighters, 14.1ms\n",
      "video 1/1 (frame 2867/3688) /home/hatsu/coding/CapProj/TestSeg_1/video_input/fight_6.mp4: 384x640 2 Fighters, 14.4ms\n",
      "video 1/1 (frame 2868/3688) /home/hatsu/coding/CapProj/TestSeg_1/video_input/fight_6.mp4: 384x640 2 Fighters, 14.4ms\n",
      "video 1/1 (frame 2869/3688) /home/hatsu/coding/CapProj/TestSeg_1/video_input/fight_6.mp4: 384x640 2 Fighters, 36.6ms\n",
      "video 1/1 (frame 2870/3688) /home/hatsu/coding/CapProj/TestSeg_1/video_input/fight_6.mp4: 384x640 2 Fighters, 14.8ms\n",
      "video 1/1 (frame 2871/3688) /home/hatsu/coding/CapProj/TestSeg_1/video_input/fight_6.mp4: 384x640 1 Fighter, 22.8ms\n",
      "video 1/1 (frame 2872/3688) /home/hatsu/coding/CapProj/TestSeg_1/video_input/fight_6.mp4: 384x640 1 Fighter, 22.1ms\n",
      "video 1/1 (frame 2873/3688) /home/hatsu/coding/CapProj/TestSeg_1/video_input/fight_6.mp4: 384x640 1 Fighter, 19.3ms\n",
      "video 1/1 (frame 2874/3688) /home/hatsu/coding/CapProj/TestSeg_1/video_input/fight_6.mp4: 384x640 1 Fighter, 27.4ms\n",
      "video 1/1 (frame 2875/3688) /home/hatsu/coding/CapProj/TestSeg_1/video_input/fight_6.mp4: 384x640 1 Fighter, 20.6ms\n",
      "video 1/1 (frame 2876/3688) /home/hatsu/coding/CapProj/TestSeg_1/video_input/fight_6.mp4: 384x640 1 Fighter, 21.7ms\n",
      "video 1/1 (frame 2877/3688) /home/hatsu/coding/CapProj/TestSeg_1/video_input/fight_6.mp4: 384x640 1 Fighter, 21.3ms\n",
      "video 1/1 (frame 2878/3688) /home/hatsu/coding/CapProj/TestSeg_1/video_input/fight_6.mp4: 384x640 1 Fighter, 18.2ms\n",
      "video 1/1 (frame 2879/3688) /home/hatsu/coding/CapProj/TestSeg_1/video_input/fight_6.mp4: 384x640 1 Fighter, 27.1ms\n",
      "video 1/1 (frame 2880/3688) /home/hatsu/coding/CapProj/TestSeg_1/video_input/fight_6.mp4: 384x640 1 Fighter, 18.9ms\n",
      "video 1/1 (frame 2881/3688) /home/hatsu/coding/CapProj/TestSeg_1/video_input/fight_6.mp4: 384x640 1 Fighter, 12.6ms\n",
      "video 1/1 (frame 2882/3688) /home/hatsu/coding/CapProj/TestSeg_1/video_input/fight_6.mp4: 384x640 1 Fighter, 12.8ms\n",
      "video 1/1 (frame 2883/3688) /home/hatsu/coding/CapProj/TestSeg_1/video_input/fight_6.mp4: 384x640 1 Fighter, 16.6ms\n",
      "video 1/1 (frame 2884/3688) /home/hatsu/coding/CapProj/TestSeg_1/video_input/fight_6.mp4: 384x640 1 Fighter, 14.7ms\n",
      "video 1/1 (frame 2885/3688) /home/hatsu/coding/CapProj/TestSeg_1/video_input/fight_6.mp4: 384x640 1 Fighter, 12.8ms\n",
      "video 1/1 (frame 2886/3688) /home/hatsu/coding/CapProj/TestSeg_1/video_input/fight_6.mp4: 384x640 1 Fighter, 13.2ms\n",
      "video 1/1 (frame 2887/3688) /home/hatsu/coding/CapProj/TestSeg_1/video_input/fight_6.mp4: 384x640 1 Fighter, 17.6ms\n",
      "video 1/1 (frame 2888/3688) /home/hatsu/coding/CapProj/TestSeg_1/video_input/fight_6.mp4: 384x640 1 Fighter, 13.3ms\n",
      "video 1/1 (frame 2889/3688) /home/hatsu/coding/CapProj/TestSeg_1/video_input/fight_6.mp4: 384x640 1 Fighter, 18.1ms\n",
      "video 1/1 (frame 2890/3688) /home/hatsu/coding/CapProj/TestSeg_1/video_input/fight_6.mp4: 384x640 1 Fighter, 13.9ms\n",
      "video 1/1 (frame 2891/3688) /home/hatsu/coding/CapProj/TestSeg_1/video_input/fight_6.mp4: 384x640 1 Fighter, 29.7ms\n",
      "video 1/1 (frame 2892/3688) /home/hatsu/coding/CapProj/TestSeg_1/video_input/fight_6.mp4: 384x640 1 Fighter, 15.8ms\n",
      "video 1/1 (frame 2893/3688) /home/hatsu/coding/CapProj/TestSeg_1/video_input/fight_6.mp4: 384x640 1 Fighter, 13.6ms\n",
      "video 1/1 (frame 2894/3688) /home/hatsu/coding/CapProj/TestSeg_1/video_input/fight_6.mp4: 384x640 1 Fighter, 14.7ms\n",
      "video 1/1 (frame 2895/3688) /home/hatsu/coding/CapProj/TestSeg_1/video_input/fight_6.mp4: 384x640 1 Fighter, 20.1ms\n",
      "video 1/1 (frame 2896/3688) /home/hatsu/coding/CapProj/TestSeg_1/video_input/fight_6.mp4: 384x640 1 Fighter, 15.5ms\n",
      "video 1/1 (frame 2897/3688) /home/hatsu/coding/CapProj/TestSeg_1/video_input/fight_6.mp4: 384x640 1 Fighter, 16.9ms\n",
      "video 1/1 (frame 2898/3688) /home/hatsu/coding/CapProj/TestSeg_1/video_input/fight_6.mp4: 384x640 2 Fighters, 14.6ms\n",
      "video 1/1 (frame 2899/3688) /home/hatsu/coding/CapProj/TestSeg_1/video_input/fight_6.mp4: 384x640 2 Fighters, 17.4ms\n",
      "video 1/1 (frame 2900/3688) /home/hatsu/coding/CapProj/TestSeg_1/video_input/fight_6.mp4: 384x640 2 Fighters, 13.7ms\n",
      "video 1/1 (frame 2901/3688) /home/hatsu/coding/CapProj/TestSeg_1/video_input/fight_6.mp4: 384x640 2 Fighters, 19.7ms\n",
      "video 1/1 (frame 2902/3688) /home/hatsu/coding/CapProj/TestSeg_1/video_input/fight_6.mp4: 384x640 2 Fighters, 14.0ms\n",
      "video 1/1 (frame 2903/3688) /home/hatsu/coding/CapProj/TestSeg_1/video_input/fight_6.mp4: 384x640 3 Fighters, 14.0ms\n",
      "video 1/1 (frame 2904/3688) /home/hatsu/coding/CapProj/TestSeg_1/video_input/fight_6.mp4: 384x640 3 Fighters, 13.6ms\n",
      "video 1/1 (frame 2905/3688) /home/hatsu/coding/CapProj/TestSeg_1/video_input/fight_6.mp4: 384x640 2 Fighters, 12.7ms\n",
      "video 1/1 (frame 2906/3688) /home/hatsu/coding/CapProj/TestSeg_1/video_input/fight_6.mp4: 384x640 2 Fighters, 14.1ms\n",
      "video 1/1 (frame 2907/3688) /home/hatsu/coding/CapProj/TestSeg_1/video_input/fight_6.mp4: 384x640 1 Fighter, 14.0ms\n",
      "video 1/1 (frame 2908/3688) /home/hatsu/coding/CapProj/TestSeg_1/video_input/fight_6.mp4: 384x640 1 Fighter, 17.9ms\n",
      "video 1/1 (frame 2909/3688) /home/hatsu/coding/CapProj/TestSeg_1/video_input/fight_6.mp4: 384x640 1 Fighter, 15.4ms\n",
      "video 1/1 (frame 2910/3688) /home/hatsu/coding/CapProj/TestSeg_1/video_input/fight_6.mp4: 384x640 1 Fighter, 13.1ms\n",
      "video 1/1 (frame 2911/3688) /home/hatsu/coding/CapProj/TestSeg_1/video_input/fight_6.mp4: 384x640 1 Fighter, 14.3ms\n",
      "video 1/1 (frame 2912/3688) /home/hatsu/coding/CapProj/TestSeg_1/video_input/fight_6.mp4: 384x640 1 Fighter, 15.7ms\n",
      "video 1/1 (frame 2913/3688) /home/hatsu/coding/CapProj/TestSeg_1/video_input/fight_6.mp4: 384x640 1 Fighter, 18.2ms\n",
      "video 1/1 (frame 2914/3688) /home/hatsu/coding/CapProj/TestSeg_1/video_input/fight_6.mp4: 384x640 1 Fighter, 33.9ms\n",
      "video 1/1 (frame 2915/3688) /home/hatsu/coding/CapProj/TestSeg_1/video_input/fight_6.mp4: 384x640 1 Fighter, 21.1ms\n",
      "video 1/1 (frame 2916/3688) /home/hatsu/coding/CapProj/TestSeg_1/video_input/fight_6.mp4: 384x640 1 Fighter, 20.2ms\n",
      "video 1/1 (frame 2917/3688) /home/hatsu/coding/CapProj/TestSeg_1/video_input/fight_6.mp4: 384x640 2 Fighters, 18.6ms\n",
      "video 1/1 (frame 2918/3688) /home/hatsu/coding/CapProj/TestSeg_1/video_input/fight_6.mp4: 384x640 2 Fighters, 20.6ms\n",
      "video 1/1 (frame 2919/3688) /home/hatsu/coding/CapProj/TestSeg_1/video_input/fight_6.mp4: 384x640 1 Fighter, 21.9ms\n",
      "video 1/1 (frame 2920/3688) /home/hatsu/coding/CapProj/TestSeg_1/video_input/fight_6.mp4: 384x640 1 Fighter, 15.3ms\n",
      "video 1/1 (frame 2921/3688) /home/hatsu/coding/CapProj/TestSeg_1/video_input/fight_6.mp4: 384x640 1 Fighter, 13.3ms\n",
      "video 1/1 (frame 2922/3688) /home/hatsu/coding/CapProj/TestSeg_1/video_input/fight_6.mp4: 384x640 1 Fighter, 13.1ms\n",
      "video 1/1 (frame 2923/3688) /home/hatsu/coding/CapProj/TestSeg_1/video_input/fight_6.mp4: 384x640 2 Fighters, 12.9ms\n",
      "video 1/1 (frame 2924/3688) /home/hatsu/coding/CapProj/TestSeg_1/video_input/fight_6.mp4: 384x640 2 Fighters, 14.9ms\n",
      "video 1/1 (frame 2925/3688) /home/hatsu/coding/CapProj/TestSeg_1/video_input/fight_6.mp4: 384x640 2 Fighters, 29.2ms\n",
      "video 1/1 (frame 2926/3688) /home/hatsu/coding/CapProj/TestSeg_1/video_input/fight_6.mp4: 384x640 2 Fighters, 24.1ms\n",
      "video 1/1 (frame 2927/3688) /home/hatsu/coding/CapProj/TestSeg_1/video_input/fight_6.mp4: 384x640 2 Fighters, 18.2ms\n",
      "video 1/1 (frame 2928/3688) /home/hatsu/coding/CapProj/TestSeg_1/video_input/fight_6.mp4: 384x640 2 Fighters, 15.0ms\n",
      "video 1/1 (frame 2929/3688) /home/hatsu/coding/CapProj/TestSeg_1/video_input/fight_6.mp4: 384x640 2 Fighters, 16.6ms\n",
      "video 1/1 (frame 2930/3688) /home/hatsu/coding/CapProj/TestSeg_1/video_input/fight_6.mp4: 384x640 2 Fighters, 47.7ms\n",
      "video 1/1 (frame 2931/3688) /home/hatsu/coding/CapProj/TestSeg_1/video_input/fight_6.mp4: 384x640 2 Fighters, 25.6ms\n",
      "video 1/1 (frame 2932/3688) /home/hatsu/coding/CapProj/TestSeg_1/video_input/fight_6.mp4: 384x640 2 Fighters, 14.1ms\n",
      "video 1/1 (frame 2933/3688) /home/hatsu/coding/CapProj/TestSeg_1/video_input/fight_6.mp4: 384x640 1 Fighter, 15.0ms\n",
      "video 1/1 (frame 2934/3688) /home/hatsu/coding/CapProj/TestSeg_1/video_input/fight_6.mp4: 384x640 2 Fighters, 13.9ms\n",
      "video 1/1 (frame 2935/3688) /home/hatsu/coding/CapProj/TestSeg_1/video_input/fight_6.mp4: 384x640 2 Fighters, 14.3ms\n",
      "video 1/1 (frame 2936/3688) /home/hatsu/coding/CapProj/TestSeg_1/video_input/fight_6.mp4: 384x640 2 Fighters, 19.8ms\n",
      "video 1/1 (frame 2937/3688) /home/hatsu/coding/CapProj/TestSeg_1/video_input/fight_6.mp4: 384x640 2 Fighters, 13.6ms\n",
      "video 1/1 (frame 2938/3688) /home/hatsu/coding/CapProj/TestSeg_1/video_input/fight_6.mp4: 384x640 2 Fighters, 17.4ms\n",
      "video 1/1 (frame 2939/3688) /home/hatsu/coding/CapProj/TestSeg_1/video_input/fight_6.mp4: 384x640 1 Fighter, 14.5ms\n",
      "video 1/1 (frame 2940/3688) /home/hatsu/coding/CapProj/TestSeg_1/video_input/fight_6.mp4: 384x640 1 Fighter, 15.3ms\n",
      "video 1/1 (frame 2941/3688) /home/hatsu/coding/CapProj/TestSeg_1/video_input/fight_6.mp4: 384x640 1 Fighter, 13.1ms\n",
      "video 1/1 (frame 2942/3688) /home/hatsu/coding/CapProj/TestSeg_1/video_input/fight_6.mp4: 384x640 1 Fighter, 18.7ms\n",
      "video 1/1 (frame 2943/3688) /home/hatsu/coding/CapProj/TestSeg_1/video_input/fight_6.mp4: 384x640 1 Fighter, 26.5ms\n",
      "video 1/1 (frame 2944/3688) /home/hatsu/coding/CapProj/TestSeg_1/video_input/fight_6.mp4: 384x640 1 Fighter, 15.0ms\n",
      "video 1/1 (frame 2945/3688) /home/hatsu/coding/CapProj/TestSeg_1/video_input/fight_6.mp4: 384x640 2 Fighters, 14.2ms\n",
      "video 1/1 (frame 2946/3688) /home/hatsu/coding/CapProj/TestSeg_1/video_input/fight_6.mp4: 384x640 1 Fighter, 31.2ms\n",
      "video 1/1 (frame 2947/3688) /home/hatsu/coding/CapProj/TestSeg_1/video_input/fight_6.mp4: 384x640 1 Fighter, 12.3ms\n",
      "video 1/1 (frame 2948/3688) /home/hatsu/coding/CapProj/TestSeg_1/video_input/fight_6.mp4: 384x640 1 Fighter, 16.7ms\n",
      "video 1/1 (frame 2949/3688) /home/hatsu/coding/CapProj/TestSeg_1/video_input/fight_6.mp4: 384x640 1 Fighter, 24.5ms\n",
      "video 1/1 (frame 2950/3688) /home/hatsu/coding/CapProj/TestSeg_1/video_input/fight_6.mp4: 384x640 1 Fighter, 15.6ms\n",
      "video 1/1 (frame 2951/3688) /home/hatsu/coding/CapProj/TestSeg_1/video_input/fight_6.mp4: 384x640 1 Fighter, 14.7ms\n",
      "video 1/1 (frame 2952/3688) /home/hatsu/coding/CapProj/TestSeg_1/video_input/fight_6.mp4: 384x640 1 Fighter, 13.5ms\n",
      "video 1/1 (frame 2953/3688) /home/hatsu/coding/CapProj/TestSeg_1/video_input/fight_6.mp4: 384x640 1 Fighter, 12.8ms\n",
      "video 1/1 (frame 2954/3688) /home/hatsu/coding/CapProj/TestSeg_1/video_input/fight_6.mp4: 384x640 1 Fighter, 25.5ms\n",
      "video 1/1 (frame 2955/3688) /home/hatsu/coding/CapProj/TestSeg_1/video_input/fight_6.mp4: 384x640 1 Fighter, 26.6ms\n",
      "video 1/1 (frame 2956/3688) /home/hatsu/coding/CapProj/TestSeg_1/video_input/fight_6.mp4: 384x640 1 Fighter, 44.7ms\n",
      "video 1/1 (frame 2957/3688) /home/hatsu/coding/CapProj/TestSeg_1/video_input/fight_6.mp4: 384x640 1 Fighter, 17.1ms\n",
      "video 1/1 (frame 2958/3688) /home/hatsu/coding/CapProj/TestSeg_1/video_input/fight_6.mp4: 384x640 1 Fighter, 20.9ms\n",
      "video 1/1 (frame 2959/3688) /home/hatsu/coding/CapProj/TestSeg_1/video_input/fight_6.mp4: 384x640 (no detections), 18.6ms\n",
      "video 1/1 (frame 2960/3688) /home/hatsu/coding/CapProj/TestSeg_1/video_input/fight_6.mp4: 384x640 1 Fighter, 25.9ms\n",
      "video 1/1 (frame 2961/3688) /home/hatsu/coding/CapProj/TestSeg_1/video_input/fight_6.mp4: 384x640 1 Fighter, 20.5ms\n",
      "video 1/1 (frame 2962/3688) /home/hatsu/coding/CapProj/TestSeg_1/video_input/fight_6.mp4: 384x640 1 Fighter, 21.9ms\n",
      "video 1/1 (frame 2963/3688) /home/hatsu/coding/CapProj/TestSeg_1/video_input/fight_6.mp4: 384x640 1 Fighter, 13.7ms\n",
      "video 1/1 (frame 2964/3688) /home/hatsu/coding/CapProj/TestSeg_1/video_input/fight_6.mp4: 384x640 1 Fighter, 14.4ms\n",
      "video 1/1 (frame 2965/3688) /home/hatsu/coding/CapProj/TestSeg_1/video_input/fight_6.mp4: 384x640 1 Fighter, 14.2ms\n",
      "video 1/1 (frame 2966/3688) /home/hatsu/coding/CapProj/TestSeg_1/video_input/fight_6.mp4: 384x640 1 Fighter, 24.9ms\n",
      "video 1/1 (frame 2967/3688) /home/hatsu/coding/CapProj/TestSeg_1/video_input/fight_6.mp4: 384x640 1 Fighter, 17.9ms\n",
      "video 1/1 (frame 2968/3688) /home/hatsu/coding/CapProj/TestSeg_1/video_input/fight_6.mp4: 384x640 1 Fighter, 18.2ms\n",
      "video 1/1 (frame 2969/3688) /home/hatsu/coding/CapProj/TestSeg_1/video_input/fight_6.mp4: 384x640 1 Fighter, 17.7ms\n",
      "video 1/1 (frame 2970/3688) /home/hatsu/coding/CapProj/TestSeg_1/video_input/fight_6.mp4: 384x640 1 Fighter, 14.8ms\n",
      "video 1/1 (frame 2971/3688) /home/hatsu/coding/CapProj/TestSeg_1/video_input/fight_6.mp4: 384x640 (no detections), 34.3ms\n",
      "video 1/1 (frame 2972/3688) /home/hatsu/coding/CapProj/TestSeg_1/video_input/fight_6.mp4: 384x640 (no detections), 14.4ms\n",
      "video 1/1 (frame 2973/3688) /home/hatsu/coding/CapProj/TestSeg_1/video_input/fight_6.mp4: 384x640 1 Fighter, 12.8ms\n",
      "video 1/1 (frame 2974/3688) /home/hatsu/coding/CapProj/TestSeg_1/video_input/fight_6.mp4: 384x640 3 Fighters, 13.7ms\n",
      "video 1/1 (frame 2975/3688) /home/hatsu/coding/CapProj/TestSeg_1/video_input/fight_6.mp4: 384x640 1 Fighter, 14.2ms\n",
      "video 1/1 (frame 2976/3688) /home/hatsu/coding/CapProj/TestSeg_1/video_input/fight_6.mp4: 384x640 1 Fighter, 17.9ms\n",
      "video 1/1 (frame 2977/3688) /home/hatsu/coding/CapProj/TestSeg_1/video_input/fight_6.mp4: 384x640 1 Fighter, 17.9ms\n",
      "video 1/1 (frame 2978/3688) /home/hatsu/coding/CapProj/TestSeg_1/video_input/fight_6.mp4: 384x640 1 Fighter, 13.6ms\n",
      "video 1/1 (frame 2979/3688) /home/hatsu/coding/CapProj/TestSeg_1/video_input/fight_6.mp4: 384x640 1 Fighter, 13.8ms\n",
      "video 1/1 (frame 2980/3688) /home/hatsu/coding/CapProj/TestSeg_1/video_input/fight_6.mp4: 384x640 1 Fighter, 14.0ms\n",
      "video 1/1 (frame 2981/3688) /home/hatsu/coding/CapProj/TestSeg_1/video_input/fight_6.mp4: 384x640 1 Fighter, 14.8ms\n",
      "video 1/1 (frame 2982/3688) /home/hatsu/coding/CapProj/TestSeg_1/video_input/fight_6.mp4: 384x640 1 Fighter, 13.7ms\n",
      "video 1/1 (frame 2983/3688) /home/hatsu/coding/CapProj/TestSeg_1/video_input/fight_6.mp4: 384x640 1 Fighter, 18.9ms\n",
      "video 1/1 (frame 2984/3688) /home/hatsu/coding/CapProj/TestSeg_1/video_input/fight_6.mp4: 384x640 1 Fighter, 14.9ms\n",
      "video 1/1 (frame 2985/3688) /home/hatsu/coding/CapProj/TestSeg_1/video_input/fight_6.mp4: 384x640 1 Fighter, 14.9ms\n",
      "video 1/1 (frame 2986/3688) /home/hatsu/coding/CapProj/TestSeg_1/video_input/fight_6.mp4: 384x640 1 Fighter, 14.5ms\n",
      "video 1/1 (frame 2987/3688) /home/hatsu/coding/CapProj/TestSeg_1/video_input/fight_6.mp4: 384x640 1 Fighter, 15.3ms\n",
      "video 1/1 (frame 2988/3688) /home/hatsu/coding/CapProj/TestSeg_1/video_input/fight_6.mp4: 384x640 2 Fighters, 24.5ms\n",
      "video 1/1 (frame 2989/3688) /home/hatsu/coding/CapProj/TestSeg_1/video_input/fight_6.mp4: 384x640 2 Fighters, 39.1ms\n",
      "video 1/1 (frame 2990/3688) /home/hatsu/coding/CapProj/TestSeg_1/video_input/fight_6.mp4: 384x640 2 Fighters, 13.0ms\n",
      "video 1/1 (frame 2991/3688) /home/hatsu/coding/CapProj/TestSeg_1/video_input/fight_6.mp4: 384x640 1 Fighter, 12.9ms\n",
      "video 1/1 (frame 2992/3688) /home/hatsu/coding/CapProj/TestSeg_1/video_input/fight_6.mp4: 384x640 4 Fighters, 29.4ms\n",
      "video 1/1 (frame 2993/3688) /home/hatsu/coding/CapProj/TestSeg_1/video_input/fight_6.mp4: 384x640 3 Fighters, 14.3ms\n",
      "video 1/1 (frame 2994/3688) /home/hatsu/coding/CapProj/TestSeg_1/video_input/fight_6.mp4: 384x640 2 Fighters, 13.7ms\n",
      "video 1/1 (frame 2995/3688) /home/hatsu/coding/CapProj/TestSeg_1/video_input/fight_6.mp4: 384x640 2 Fighters, 20.0ms\n",
      "video 1/1 (frame 2996/3688) /home/hatsu/coding/CapProj/TestSeg_1/video_input/fight_6.mp4: 384x640 2 Fighters, 25.3ms\n",
      "video 1/1 (frame 2997/3688) /home/hatsu/coding/CapProj/TestSeg_1/video_input/fight_6.mp4: 384x640 2 Fighters, 20.4ms\n",
      "video 1/1 (frame 2998/3688) /home/hatsu/coding/CapProj/TestSeg_1/video_input/fight_6.mp4: 384x640 2 Fighters, 19.3ms\n",
      "video 1/1 (frame 2999/3688) /home/hatsu/coding/CapProj/TestSeg_1/video_input/fight_6.mp4: 384x640 2 Fighters, 21.5ms\n",
      "video 1/1 (frame 3000/3688) /home/hatsu/coding/CapProj/TestSeg_1/video_input/fight_6.mp4: 384x640 2 Fighters, 20.7ms\n",
      "video 1/1 (frame 3001/3688) /home/hatsu/coding/CapProj/TestSeg_1/video_input/fight_6.mp4: 384x640 2 Fighters, 22.0ms\n",
      "video 1/1 (frame 3002/3688) /home/hatsu/coding/CapProj/TestSeg_1/video_input/fight_6.mp4: 384x640 2 Fighters, 16.8ms\n",
      "video 1/1 (frame 3003/3688) /home/hatsu/coding/CapProj/TestSeg_1/video_input/fight_6.mp4: 384x640 2 Fighters, 23.0ms\n",
      "video 1/1 (frame 3004/3688) /home/hatsu/coding/CapProj/TestSeg_1/video_input/fight_6.mp4: 384x640 2 Fighters, 24.1ms\n",
      "video 1/1 (frame 3005/3688) /home/hatsu/coding/CapProj/TestSeg_1/video_input/fight_6.mp4: 384x640 2 Fighters, 19.4ms\n",
      "video 1/1 (frame 3006/3688) /home/hatsu/coding/CapProj/TestSeg_1/video_input/fight_6.mp4: 384x640 2 Fighters, 13.2ms\n",
      "video 1/1 (frame 3007/3688) /home/hatsu/coding/CapProj/TestSeg_1/video_input/fight_6.mp4: 384x640 2 Fighters, 13.5ms\n",
      "video 1/1 (frame 3008/3688) /home/hatsu/coding/CapProj/TestSeg_1/video_input/fight_6.mp4: 384x640 2 Fighters, 17.3ms\n",
      "video 1/1 (frame 3009/3688) /home/hatsu/coding/CapProj/TestSeg_1/video_input/fight_6.mp4: 384x640 2 Fighters, 14.4ms\n",
      "video 1/1 (frame 3010/3688) /home/hatsu/coding/CapProj/TestSeg_1/video_input/fight_6.mp4: 384x640 2 Fighters, 18.7ms\n",
      "video 1/1 (frame 3011/3688) /home/hatsu/coding/CapProj/TestSeg_1/video_input/fight_6.mp4: 384x640 2 Fighters, 13.6ms\n",
      "video 1/1 (frame 3012/3688) /home/hatsu/coding/CapProj/TestSeg_1/video_input/fight_6.mp4: 384x640 2 Fighters, 26.2ms\n",
      "video 1/1 (frame 3013/3688) /home/hatsu/coding/CapProj/TestSeg_1/video_input/fight_6.mp4: 384x640 2 Fighters, 13.9ms\n",
      "video 1/1 (frame 3014/3688) /home/hatsu/coding/CapProj/TestSeg_1/video_input/fight_6.mp4: 384x640 2 Fighters, 12.5ms\n",
      "video 1/1 (frame 3015/3688) /home/hatsu/coding/CapProj/TestSeg_1/video_input/fight_6.mp4: 384x640 2 Fighters, 15.7ms\n",
      "video 1/1 (frame 3016/3688) /home/hatsu/coding/CapProj/TestSeg_1/video_input/fight_6.mp4: 384x640 2 Fighters, 18.1ms\n",
      "video 1/1 (frame 3017/3688) /home/hatsu/coding/CapProj/TestSeg_1/video_input/fight_6.mp4: 384x640 3 Fighters, 34.7ms\n",
      "video 1/1 (frame 3018/3688) /home/hatsu/coding/CapProj/TestSeg_1/video_input/fight_6.mp4: 384x640 3 Fighters, 14.0ms\n",
      "video 1/1 (frame 3019/3688) /home/hatsu/coding/CapProj/TestSeg_1/video_input/fight_6.mp4: 384x640 4 Fighters, 33.8ms\n",
      "video 1/1 (frame 3020/3688) /home/hatsu/coding/CapProj/TestSeg_1/video_input/fight_6.mp4: 384x640 4 Fighters, 14.2ms\n",
      "video 1/1 (frame 3021/3688) /home/hatsu/coding/CapProj/TestSeg_1/video_input/fight_6.mp4: 384x640 3 Fighters, 16.8ms\n",
      "video 1/1 (frame 3022/3688) /home/hatsu/coding/CapProj/TestSeg_1/video_input/fight_6.mp4: 384x640 3 Fighters, 18.5ms\n",
      "video 1/1 (frame 3023/3688) /home/hatsu/coding/CapProj/TestSeg_1/video_input/fight_6.mp4: 384x640 3 Fighters, 13.6ms\n",
      "video 1/1 (frame 3024/3688) /home/hatsu/coding/CapProj/TestSeg_1/video_input/fight_6.mp4: 384x640 2 Fighters, 12.7ms\n",
      "video 1/1 (frame 3025/3688) /home/hatsu/coding/CapProj/TestSeg_1/video_input/fight_6.mp4: 384x640 2 Fighters, 12.9ms\n",
      "video 1/1 (frame 3026/3688) /home/hatsu/coding/CapProj/TestSeg_1/video_input/fight_6.mp4: 384x640 2 Fighters, 14.8ms\n",
      "video 1/1 (frame 3027/3688) /home/hatsu/coding/CapProj/TestSeg_1/video_input/fight_6.mp4: 384x640 2 Fighters, 18.3ms\n",
      "video 1/1 (frame 3028/3688) /home/hatsu/coding/CapProj/TestSeg_1/video_input/fight_6.mp4: 384x640 2 Fighters, 14.8ms\n",
      "video 1/1 (frame 3029/3688) /home/hatsu/coding/CapProj/TestSeg_1/video_input/fight_6.mp4: 384x640 1 Fighter, 13.3ms\n",
      "video 1/1 (frame 3030/3688) /home/hatsu/coding/CapProj/TestSeg_1/video_input/fight_6.mp4: 384x640 3 Fighters, 14.1ms\n",
      "video 1/1 (frame 3031/3688) /home/hatsu/coding/CapProj/TestSeg_1/video_input/fight_6.mp4: 384x640 3 Fighters, 13.3ms\n",
      "video 1/1 (frame 3032/3688) /home/hatsu/coding/CapProj/TestSeg_1/video_input/fight_6.mp4: 384x640 3 Fighters, 13.0ms\n",
      "video 1/1 (frame 3033/3688) /home/hatsu/coding/CapProj/TestSeg_1/video_input/fight_6.mp4: 384x640 3 Fighters, 15.1ms\n",
      "video 1/1 (frame 3034/3688) /home/hatsu/coding/CapProj/TestSeg_1/video_input/fight_6.mp4: 384x640 3 Fighters, 13.7ms\n",
      "video 1/1 (frame 3035/3688) /home/hatsu/coding/CapProj/TestSeg_1/video_input/fight_6.mp4: 384x640 3 Fighters, 26.3ms\n",
      "video 1/1 (frame 3036/3688) /home/hatsu/coding/CapProj/TestSeg_1/video_input/fight_6.mp4: 384x640 3 Fighters, 19.2ms\n",
      "video 1/1 (frame 3037/3688) /home/hatsu/coding/CapProj/TestSeg_1/video_input/fight_6.mp4: 384x640 3 Fighters, 20.0ms\n",
      "video 1/1 (frame 3038/3688) /home/hatsu/coding/CapProj/TestSeg_1/video_input/fight_6.mp4: 384x640 2 Fighters, 18.3ms\n",
      "video 1/1 (frame 3039/3688) /home/hatsu/coding/CapProj/TestSeg_1/video_input/fight_6.mp4: 384x640 2 Fighters, 23.3ms\n",
      "video 1/1 (frame 3040/3688) /home/hatsu/coding/CapProj/TestSeg_1/video_input/fight_6.mp4: 384x640 2 Fighters, 21.2ms\n",
      "video 1/1 (frame 3041/3688) /home/hatsu/coding/CapProj/TestSeg_1/video_input/fight_6.mp4: 384x640 2 Fighters, 17.1ms\n",
      "video 1/1 (frame 3042/3688) /home/hatsu/coding/CapProj/TestSeg_1/video_input/fight_6.mp4: 384x640 4 Fighters, 22.3ms\n",
      "video 1/1 (frame 3043/3688) /home/hatsu/coding/CapProj/TestSeg_1/video_input/fight_6.mp4: 384x640 4 Fighters, 13.8ms\n",
      "video 1/1 (frame 3044/3688) /home/hatsu/coding/CapProj/TestSeg_1/video_input/fight_6.mp4: 384x640 4 Fighters, 19.0ms\n",
      "video 1/1 (frame 3045/3688) /home/hatsu/coding/CapProj/TestSeg_1/video_input/fight_6.mp4: 384x640 4 Fighters, 13.0ms\n",
      "video 1/1 (frame 3046/3688) /home/hatsu/coding/CapProj/TestSeg_1/video_input/fight_6.mp4: 384x640 4 Fighters, 15.1ms\n",
      "video 1/1 (frame 3047/3688) /home/hatsu/coding/CapProj/TestSeg_1/video_input/fight_6.mp4: 384x640 3 Fighters, 14.6ms\n",
      "video 1/1 (frame 3048/3688) /home/hatsu/coding/CapProj/TestSeg_1/video_input/fight_6.mp4: 384x640 4 Fighters, 15.9ms\n",
      "video 1/1 (frame 3049/3688) /home/hatsu/coding/CapProj/TestSeg_1/video_input/fight_6.mp4: 384x640 4 Fighters, 18.7ms\n",
      "video 1/1 (frame 3050/3688) /home/hatsu/coding/CapProj/TestSeg_1/video_input/fight_6.mp4: 384x640 4 Fighters, 13.2ms\n",
      "video 1/1 (frame 3051/3688) /home/hatsu/coding/CapProj/TestSeg_1/video_input/fight_6.mp4: 384x640 3 Fighters, 13.7ms\n",
      "video 1/1 (frame 3052/3688) /home/hatsu/coding/CapProj/TestSeg_1/video_input/fight_6.mp4: 384x640 3 Fighters, 13.9ms\n",
      "video 1/1 (frame 3053/3688) /home/hatsu/coding/CapProj/TestSeg_1/video_input/fight_6.mp4: 384x640 3 Fighters, 15.4ms\n",
      "video 1/1 (frame 3054/3688) /home/hatsu/coding/CapProj/TestSeg_1/video_input/fight_6.mp4: 384x640 3 Fighters, 22.2ms\n",
      "video 1/1 (frame 3055/3688) /home/hatsu/coding/CapProj/TestSeg_1/video_input/fight_6.mp4: 384x640 3 Fighters, 13.8ms\n",
      "video 1/1 (frame 3056/3688) /home/hatsu/coding/CapProj/TestSeg_1/video_input/fight_6.mp4: 384x640 3 Fighters, 13.4ms\n",
      "video 1/1 (frame 3057/3688) /home/hatsu/coding/CapProj/TestSeg_1/video_input/fight_6.mp4: 384x640 3 Fighters, 13.0ms\n",
      "video 1/1 (frame 3058/3688) /home/hatsu/coding/CapProj/TestSeg_1/video_input/fight_6.mp4: 384x640 3 Fighters, 16.9ms\n",
      "video 1/1 (frame 3059/3688) /home/hatsu/coding/CapProj/TestSeg_1/video_input/fight_6.mp4: 384x640 3 Fighters, 20.9ms\n",
      "video 1/1 (frame 3060/3688) /home/hatsu/coding/CapProj/TestSeg_1/video_input/fight_6.mp4: 384x640 3 Fighters, 42.7ms\n",
      "video 1/1 (frame 3061/3688) /home/hatsu/coding/CapProj/TestSeg_1/video_input/fight_6.mp4: 384x640 3 Fighters, 13.0ms\n",
      "video 1/1 (frame 3062/3688) /home/hatsu/coding/CapProj/TestSeg_1/video_input/fight_6.mp4: 384x640 1 Fighter, 13.0ms\n",
      "video 1/1 (frame 3063/3688) /home/hatsu/coding/CapProj/TestSeg_1/video_input/fight_6.mp4: 384x640 1 Fighter, 18.3ms\n",
      "video 1/1 (frame 3064/3688) /home/hatsu/coding/CapProj/TestSeg_1/video_input/fight_6.mp4: 384x640 1 Fighter, 16.8ms\n",
      "video 1/1 (frame 3065/3688) /home/hatsu/coding/CapProj/TestSeg_1/video_input/fight_6.mp4: 384x640 3 Fighters, 42.4ms\n",
      "video 1/1 (frame 3066/3688) /home/hatsu/coding/CapProj/TestSeg_1/video_input/fight_6.mp4: 384x640 2 Fighters, 12.8ms\n",
      "video 1/1 (frame 3067/3688) /home/hatsu/coding/CapProj/TestSeg_1/video_input/fight_6.mp4: 384x640 2 Fighters, 14.1ms\n",
      "video 1/1 (frame 3068/3688) /home/hatsu/coding/CapProj/TestSeg_1/video_input/fight_6.mp4: 384x640 1 Fighter, 13.4ms\n",
      "video 1/1 (frame 3069/3688) /home/hatsu/coding/CapProj/TestSeg_1/video_input/fight_6.mp4: 384x640 1 Fighter, 19.1ms\n",
      "video 1/1 (frame 3070/3688) /home/hatsu/coding/CapProj/TestSeg_1/video_input/fight_6.mp4: 384x640 1 Fighter, 25.8ms\n",
      "video 1/1 (frame 3071/3688) /home/hatsu/coding/CapProj/TestSeg_1/video_input/fight_6.mp4: 384x640 1 Fighter, 14.1ms\n",
      "video 1/1 (frame 3072/3688) /home/hatsu/coding/CapProj/TestSeg_1/video_input/fight_6.mp4: 384x640 2 Fighters, 13.5ms\n",
      "video 1/1 (frame 3073/3688) /home/hatsu/coding/CapProj/TestSeg_1/video_input/fight_6.mp4: 384x640 2 Fighters, 13.5ms\n",
      "video 1/1 (frame 3074/3688) /home/hatsu/coding/CapProj/TestSeg_1/video_input/fight_6.mp4: 384x640 1 Fighter, 16.7ms\n",
      "video 1/1 (frame 3075/3688) /home/hatsu/coding/CapProj/TestSeg_1/video_input/fight_6.mp4: 384x640 1 Fighter, 17.5ms\n",
      "video 1/1 (frame 3076/3688) /home/hatsu/coding/CapProj/TestSeg_1/video_input/fight_6.mp4: 384x640 1 Fighter, 13.5ms\n",
      "video 1/1 (frame 3077/3688) /home/hatsu/coding/CapProj/TestSeg_1/video_input/fight_6.mp4: 384x640 1 Fighter, 26.3ms\n",
      "video 1/1 (frame 3078/3688) /home/hatsu/coding/CapProj/TestSeg_1/video_input/fight_6.mp4: 384x640 1 Fighter, 16.9ms\n",
      "video 1/1 (frame 3079/3688) /home/hatsu/coding/CapProj/TestSeg_1/video_input/fight_6.mp4: 384x640 1 Fighter, 20.2ms\n",
      "video 1/1 (frame 3080/3688) /home/hatsu/coding/CapProj/TestSeg_1/video_input/fight_6.mp4: 384x640 1 Fighter, 37.4ms\n",
      "video 1/1 (frame 3081/3688) /home/hatsu/coding/CapProj/TestSeg_1/video_input/fight_6.mp4: 384x640 1 Fighter, 18.4ms\n",
      "video 1/1 (frame 3082/3688) /home/hatsu/coding/CapProj/TestSeg_1/video_input/fight_6.mp4: 384x640 2 Fighters, 30.9ms\n",
      "video 1/1 (frame 3083/3688) /home/hatsu/coding/CapProj/TestSeg_1/video_input/fight_6.mp4: 384x640 1 Fighter, 14.9ms\n",
      "video 1/1 (frame 3084/3688) /home/hatsu/coding/CapProj/TestSeg_1/video_input/fight_6.mp4: 384x640 2 Fighters, 35.0ms\n",
      "video 1/1 (frame 3085/3688) /home/hatsu/coding/CapProj/TestSeg_1/video_input/fight_6.mp4: 384x640 1 Fighter, 42.2ms\n",
      "video 1/1 (frame 3086/3688) /home/hatsu/coding/CapProj/TestSeg_1/video_input/fight_6.mp4: 384x640 1 Fighter, 13.5ms\n",
      "video 1/1 (frame 3087/3688) /home/hatsu/coding/CapProj/TestSeg_1/video_input/fight_6.mp4: 384x640 1 Fighter, 18.7ms\n",
      "video 1/1 (frame 3088/3688) /home/hatsu/coding/CapProj/TestSeg_1/video_input/fight_6.mp4: 384x640 1 Fighter, 22.1ms\n",
      "video 1/1 (frame 3089/3688) /home/hatsu/coding/CapProj/TestSeg_1/video_input/fight_6.mp4: 384x640 1 Fighter, 21.5ms\n",
      "video 1/1 (frame 3090/3688) /home/hatsu/coding/CapProj/TestSeg_1/video_input/fight_6.mp4: 384x640 1 Fighter, 27.5ms\n",
      "video 1/1 (frame 3091/3688) /home/hatsu/coding/CapProj/TestSeg_1/video_input/fight_6.mp4: 384x640 1 Fighter, 22.8ms\n",
      "video 1/1 (frame 3092/3688) /home/hatsu/coding/CapProj/TestSeg_1/video_input/fight_6.mp4: 384x640 1 Fighter, 29.8ms\n",
      "video 1/1 (frame 3093/3688) /home/hatsu/coding/CapProj/TestSeg_1/video_input/fight_6.mp4: 384x640 1 Fighter, 18.1ms\n",
      "video 1/1 (frame 3094/3688) /home/hatsu/coding/CapProj/TestSeg_1/video_input/fight_6.mp4: 384x640 1 Fighter, 22.8ms\n",
      "video 1/1 (frame 3095/3688) /home/hatsu/coding/CapProj/TestSeg_1/video_input/fight_6.mp4: 384x640 1 Fighter, 25.7ms\n",
      "video 1/1 (frame 3096/3688) /home/hatsu/coding/CapProj/TestSeg_1/video_input/fight_6.mp4: 384x640 2 Fighters, 16.5ms\n",
      "video 1/1 (frame 3097/3688) /home/hatsu/coding/CapProj/TestSeg_1/video_input/fight_6.mp4: 384x640 2 Fighters, 13.3ms\n",
      "video 1/1 (frame 3098/3688) /home/hatsu/coding/CapProj/TestSeg_1/video_input/fight_6.mp4: 384x640 2 Fighters, 13.6ms\n",
      "video 1/1 (frame 3099/3688) /home/hatsu/coding/CapProj/TestSeg_1/video_input/fight_6.mp4: 384x640 2 Fighters, 12.7ms\n",
      "video 1/1 (frame 3100/3688) /home/hatsu/coding/CapProj/TestSeg_1/video_input/fight_6.mp4: 384x640 2 Fighters, 19.0ms\n",
      "video 1/1 (frame 3101/3688) /home/hatsu/coding/CapProj/TestSeg_1/video_input/fight_6.mp4: 384x640 2 Fighters, 13.8ms\n",
      "video 1/1 (frame 3102/3688) /home/hatsu/coding/CapProj/TestSeg_1/video_input/fight_6.mp4: 384x640 2 Fighters, 16.1ms\n",
      "video 1/1 (frame 3103/3688) /home/hatsu/coding/CapProj/TestSeg_1/video_input/fight_6.mp4: 384x640 2 Fighters, 12.8ms\n",
      "video 1/1 (frame 3104/3688) /home/hatsu/coding/CapProj/TestSeg_1/video_input/fight_6.mp4: 384x640 2 Fighters, 12.2ms\n",
      "video 1/1 (frame 3105/3688) /home/hatsu/coding/CapProj/TestSeg_1/video_input/fight_6.mp4: 384x640 1 Fighter, 16.8ms\n",
      "video 1/1 (frame 3106/3688) /home/hatsu/coding/CapProj/TestSeg_1/video_input/fight_6.mp4: 384x640 1 Fighter, 23.7ms\n",
      "video 1/1 (frame 3107/3688) /home/hatsu/coding/CapProj/TestSeg_1/video_input/fight_6.mp4: 384x640 1 Fighter, 12.9ms\n",
      "video 1/1 (frame 3108/3688) /home/hatsu/coding/CapProj/TestSeg_1/video_input/fight_6.mp4: 384x640 2 Fighters, 14.7ms\n",
      "video 1/1 (frame 3109/3688) /home/hatsu/coding/CapProj/TestSeg_1/video_input/fight_6.mp4: 384x640 2 Fighters, 16.1ms\n",
      "video 1/1 (frame 3110/3688) /home/hatsu/coding/CapProj/TestSeg_1/video_input/fight_6.mp4: 384x640 1 Fighter, 15.1ms\n",
      "video 1/1 (frame 3111/3688) /home/hatsu/coding/CapProj/TestSeg_1/video_input/fight_6.mp4: 384x640 2 Fighters, 18.6ms\n",
      "video 1/1 (frame 3112/3688) /home/hatsu/coding/CapProj/TestSeg_1/video_input/fight_6.mp4: 384x640 2 Fighters, 13.1ms\n",
      "video 1/1 (frame 3113/3688) /home/hatsu/coding/CapProj/TestSeg_1/video_input/fight_6.mp4: 384x640 2 Fighters, 15.7ms\n",
      "video 1/1 (frame 3114/3688) /home/hatsu/coding/CapProj/TestSeg_1/video_input/fight_6.mp4: 384x640 2 Fighters, 13.2ms\n",
      "video 1/1 (frame 3115/3688) /home/hatsu/coding/CapProj/TestSeg_1/video_input/fight_6.mp4: 384x640 2 Fighters, 13.3ms\n",
      "video 1/1 (frame 3116/3688) /home/hatsu/coding/CapProj/TestSeg_1/video_input/fight_6.mp4: 384x640 2 Fighters, 15.0ms\n",
      "video 1/1 (frame 3117/3688) /home/hatsu/coding/CapProj/TestSeg_1/video_input/fight_6.mp4: 384x640 2 Fighters, 26.4ms\n",
      "video 1/1 (frame 3118/3688) /home/hatsu/coding/CapProj/TestSeg_1/video_input/fight_6.mp4: 384x640 2 Fighters, 13.9ms\n",
      "video 1/1 (frame 3119/3688) /home/hatsu/coding/CapProj/TestSeg_1/video_input/fight_6.mp4: 384x640 2 Fighters, 14.2ms\n",
      "video 1/1 (frame 3120/3688) /home/hatsu/coding/CapProj/TestSeg_1/video_input/fight_6.mp4: 384x640 2 Fighters, 13.5ms\n",
      "video 1/1 (frame 3121/3688) /home/hatsu/coding/CapProj/TestSeg_1/video_input/fight_6.mp4: 384x640 2 Fighters, 14.2ms\n",
      "video 1/1 (frame 3122/3688) /home/hatsu/coding/CapProj/TestSeg_1/video_input/fight_6.mp4: 384x640 2 Fighters, 19.2ms\n",
      "video 1/1 (frame 3123/3688) /home/hatsu/coding/CapProj/TestSeg_1/video_input/fight_6.mp4: 384x640 2 Fighters, 13.2ms\n",
      "video 1/1 (frame 3124/3688) /home/hatsu/coding/CapProj/TestSeg_1/video_input/fight_6.mp4: 384x640 2 Fighters, 14.3ms\n",
      "video 1/1 (frame 3125/3688) /home/hatsu/coding/CapProj/TestSeg_1/video_input/fight_6.mp4: 384x640 2 Fighters, 14.1ms\n",
      "video 1/1 (frame 3126/3688) /home/hatsu/coding/CapProj/TestSeg_1/video_input/fight_6.mp4: 384x640 2 Fighters, 13.9ms\n",
      "video 1/1 (frame 3127/3688) /home/hatsu/coding/CapProj/TestSeg_1/video_input/fight_6.mp4: 384x640 2 Fighters, 12.6ms\n",
      "video 1/1 (frame 3128/3688) /home/hatsu/coding/CapProj/TestSeg_1/video_input/fight_6.mp4: 384x640 2 Fighters, 24.9ms\n",
      "video 1/1 (frame 3129/3688) /home/hatsu/coding/CapProj/TestSeg_1/video_input/fight_6.mp4: 384x640 2 Fighters, 23.2ms\n",
      "video 1/1 (frame 3130/3688) /home/hatsu/coding/CapProj/TestSeg_1/video_input/fight_6.mp4: 384x640 2 Fighters, 18.7ms\n",
      "video 1/1 (frame 3131/3688) /home/hatsu/coding/CapProj/TestSeg_1/video_input/fight_6.mp4: 384x640 2 Fighters, 22.8ms\n",
      "video 1/1 (frame 3132/3688) /home/hatsu/coding/CapProj/TestSeg_1/video_input/fight_6.mp4: 384x640 2 Fighters, 23.4ms\n",
      "video 1/1 (frame 3133/3688) /home/hatsu/coding/CapProj/TestSeg_1/video_input/fight_6.mp4: 384x640 2 Fighters, 37.3ms\n",
      "video 1/1 (frame 3134/3688) /home/hatsu/coding/CapProj/TestSeg_1/video_input/fight_6.mp4: 384x640 2 Fighters, 20.7ms\n",
      "video 1/1 (frame 3135/3688) /home/hatsu/coding/CapProj/TestSeg_1/video_input/fight_6.mp4: 384x640 2 Fighters, 23.8ms\n",
      "video 1/1 (frame 3136/3688) /home/hatsu/coding/CapProj/TestSeg_1/video_input/fight_6.mp4: 384x640 2 Fighters, 17.3ms\n",
      "video 1/1 (frame 3137/3688) /home/hatsu/coding/CapProj/TestSeg_1/video_input/fight_6.mp4: 384x640 2 Fighters, 19.7ms\n",
      "video 1/1 (frame 3138/3688) /home/hatsu/coding/CapProj/TestSeg_1/video_input/fight_6.mp4: 384x640 2 Fighters, 21.7ms\n",
      "video 1/1 (frame 3139/3688) /home/hatsu/coding/CapProj/TestSeg_1/video_input/fight_6.mp4: 384x640 2 Fighters, 17.0ms\n",
      "video 1/1 (frame 3140/3688) /home/hatsu/coding/CapProj/TestSeg_1/video_input/fight_6.mp4: 384x640 2 Fighters, 13.1ms\n",
      "video 1/1 (frame 3141/3688) /home/hatsu/coding/CapProj/TestSeg_1/video_input/fight_6.mp4: 384x640 2 Fighters, 15.2ms\n",
      "video 1/1 (frame 3142/3688) /home/hatsu/coding/CapProj/TestSeg_1/video_input/fight_6.mp4: 384x640 2 Fighters, 12.3ms\n",
      "video 1/1 (frame 3143/3688) /home/hatsu/coding/CapProj/TestSeg_1/video_input/fight_6.mp4: 384x640 2 Fighters, 16.1ms\n",
      "video 1/1 (frame 3144/3688) /home/hatsu/coding/CapProj/TestSeg_1/video_input/fight_6.mp4: 384x640 2 Fighters, 16.6ms\n",
      "video 1/1 (frame 3145/3688) /home/hatsu/coding/CapProj/TestSeg_1/video_input/fight_6.mp4: 384x640 2 Fighters, 13.6ms\n",
      "video 1/1 (frame 3146/3688) /home/hatsu/coding/CapProj/TestSeg_1/video_input/fight_6.mp4: 384x640 2 Fighters, 15.3ms\n",
      "video 1/1 (frame 3147/3688) /home/hatsu/coding/CapProj/TestSeg_1/video_input/fight_6.mp4: 384x640 2 Fighters, 13.1ms\n",
      "video 1/1 (frame 3148/3688) /home/hatsu/coding/CapProj/TestSeg_1/video_input/fight_6.mp4: 384x640 2 Fighters, 18.4ms\n",
      "video 1/1 (frame 3149/3688) /home/hatsu/coding/CapProj/TestSeg_1/video_input/fight_6.mp4: 384x640 2 Fighters, 14.6ms\n",
      "video 1/1 (frame 3150/3688) /home/hatsu/coding/CapProj/TestSeg_1/video_input/fight_6.mp4: 384x640 2 Fighters, 15.0ms\n",
      "video 1/1 (frame 3151/3688) /home/hatsu/coding/CapProj/TestSeg_1/video_input/fight_6.mp4: 384x640 2 Fighters, 12.2ms\n",
      "video 1/1 (frame 3152/3688) /home/hatsu/coding/CapProj/TestSeg_1/video_input/fight_6.mp4: 384x640 2 Fighters, 16.2ms\n",
      "video 1/1 (frame 3153/3688) /home/hatsu/coding/CapProj/TestSeg_1/video_input/fight_6.mp4: 384x640 2 Fighters, 13.1ms\n",
      "video 1/1 (frame 3154/3688) /home/hatsu/coding/CapProj/TestSeg_1/video_input/fight_6.mp4: 384x640 2 Fighters, 19.8ms\n",
      "video 1/1 (frame 3155/3688) /home/hatsu/coding/CapProj/TestSeg_1/video_input/fight_6.mp4: 384x640 2 Fighters, 16.4ms\n",
      "video 1/1 (frame 3156/3688) /home/hatsu/coding/CapProj/TestSeg_1/video_input/fight_6.mp4: 384x640 2 Fighters, 12.4ms\n",
      "video 1/1 (frame 3157/3688) /home/hatsu/coding/CapProj/TestSeg_1/video_input/fight_6.mp4: 384x640 2 Fighters, 13.7ms\n",
      "video 1/1 (frame 3158/3688) /home/hatsu/coding/CapProj/TestSeg_1/video_input/fight_6.mp4: 384x640 2 Fighters, 16.7ms\n",
      "video 1/1 (frame 3159/3688) /home/hatsu/coding/CapProj/TestSeg_1/video_input/fight_6.mp4: 384x640 2 Fighters, 17.7ms\n",
      "video 1/1 (frame 3160/3688) /home/hatsu/coding/CapProj/TestSeg_1/video_input/fight_6.mp4: 384x640 2 Fighters, 16.1ms\n",
      "video 1/1 (frame 3161/3688) /home/hatsu/coding/CapProj/TestSeg_1/video_input/fight_6.mp4: 384x640 2 Fighters, 14.7ms\n",
      "video 1/1 (frame 3162/3688) /home/hatsu/coding/CapProj/TestSeg_1/video_input/fight_6.mp4: 384x640 2 Fighters, 13.8ms\n",
      "video 1/1 (frame 3163/3688) /home/hatsu/coding/CapProj/TestSeg_1/video_input/fight_6.mp4: 384x640 2 Fighters, 16.6ms\n",
      "video 1/1 (frame 3164/3688) /home/hatsu/coding/CapProj/TestSeg_1/video_input/fight_6.mp4: 384x640 2 Fighters, 13.1ms\n",
      "video 1/1 (frame 3165/3688) /home/hatsu/coding/CapProj/TestSeg_1/video_input/fight_6.mp4: 384x640 2 Fighters, 18.5ms\n",
      "video 1/1 (frame 3166/3688) /home/hatsu/coding/CapProj/TestSeg_1/video_input/fight_6.mp4: 384x640 2 Fighters, 35.3ms\n",
      "video 1/1 (frame 3167/3688) /home/hatsu/coding/CapProj/TestSeg_1/video_input/fight_6.mp4: 384x640 2 Fighters, 13.1ms\n",
      "video 1/1 (frame 3168/3688) /home/hatsu/coding/CapProj/TestSeg_1/video_input/fight_6.mp4: 384x640 2 Fighters, 17.3ms\n",
      "video 1/1 (frame 3169/3688) /home/hatsu/coding/CapProj/TestSeg_1/video_input/fight_6.mp4: 384x640 2 Fighters, 31.3ms\n",
      "video 1/1 (frame 3170/3688) /home/hatsu/coding/CapProj/TestSeg_1/video_input/fight_6.mp4: 384x640 2 Fighters, 19.0ms\n",
      "video 1/1 (frame 3171/3688) /home/hatsu/coding/CapProj/TestSeg_1/video_input/fight_6.mp4: 384x640 2 Fighters, 13.6ms\n",
      "video 1/1 (frame 3172/3688) /home/hatsu/coding/CapProj/TestSeg_1/video_input/fight_6.mp4: 384x640 2 Fighters, 28.2ms\n",
      "video 1/1 (frame 3173/3688) /home/hatsu/coding/CapProj/TestSeg_1/video_input/fight_6.mp4: 384x640 2 Fighters, 14.7ms\n",
      "video 1/1 (frame 3174/3688) /home/hatsu/coding/CapProj/TestSeg_1/video_input/fight_6.mp4: 384x640 2 Fighters, 13.0ms\n",
      "video 1/1 (frame 3175/3688) /home/hatsu/coding/CapProj/TestSeg_1/video_input/fight_6.mp4: 384x640 2 Fighters, 17.3ms\n",
      "video 1/1 (frame 3176/3688) /home/hatsu/coding/CapProj/TestSeg_1/video_input/fight_6.mp4: 384x640 2 Fighters, 16.6ms\n",
      "video 1/1 (frame 3177/3688) /home/hatsu/coding/CapProj/TestSeg_1/video_input/fight_6.mp4: 384x640 2 Fighters, 13.9ms\n",
      "video 1/1 (frame 3178/3688) /home/hatsu/coding/CapProj/TestSeg_1/video_input/fight_6.mp4: 384x640 2 Fighters, 16.2ms\n",
      "video 1/1 (frame 3179/3688) /home/hatsu/coding/CapProj/TestSeg_1/video_input/fight_6.mp4: 384x640 2 Fighters, 19.8ms\n",
      "video 1/1 (frame 3180/3688) /home/hatsu/coding/CapProj/TestSeg_1/video_input/fight_6.mp4: 384x640 2 Fighters, 18.6ms\n",
      "video 1/1 (frame 3181/3688) /home/hatsu/coding/CapProj/TestSeg_1/video_input/fight_6.mp4: 384x640 2 Fighters, 14.9ms\n",
      "video 1/1 (frame 3182/3688) /home/hatsu/coding/CapProj/TestSeg_1/video_input/fight_6.mp4: 384x640 2 Fighters, 14.1ms\n",
      "video 1/1 (frame 3183/3688) /home/hatsu/coding/CapProj/TestSeg_1/video_input/fight_6.mp4: 384x640 2 Fighters, 19.9ms\n",
      "video 1/1 (frame 3184/3688) /home/hatsu/coding/CapProj/TestSeg_1/video_input/fight_6.mp4: 384x640 2 Fighters, 18.7ms\n",
      "video 1/1 (frame 3185/3688) /home/hatsu/coding/CapProj/TestSeg_1/video_input/fight_6.mp4: 384x640 2 Fighters, 16.0ms\n",
      "video 1/1 (frame 3186/3688) /home/hatsu/coding/CapProj/TestSeg_1/video_input/fight_6.mp4: 384x640 2 Fighters, 15.5ms\n",
      "video 1/1 (frame 3187/3688) /home/hatsu/coding/CapProj/TestSeg_1/video_input/fight_6.mp4: 384x640 2 Fighters, 12.7ms\n",
      "video 1/1 (frame 3188/3688) /home/hatsu/coding/CapProj/TestSeg_1/video_input/fight_6.mp4: 384x640 2 Fighters, 16.9ms\n",
      "video 1/1 (frame 3189/3688) /home/hatsu/coding/CapProj/TestSeg_1/video_input/fight_6.mp4: 384x640 2 Fighters, 14.1ms\n",
      "video 1/1 (frame 3190/3688) /home/hatsu/coding/CapProj/TestSeg_1/video_input/fight_6.mp4: 384x640 2 Fighters, 13.9ms\n",
      "video 1/1 (frame 3191/3688) /home/hatsu/coding/CapProj/TestSeg_1/video_input/fight_6.mp4: 384x640 2 Fighters, 15.9ms\n",
      "video 1/1 (frame 3192/3688) /home/hatsu/coding/CapProj/TestSeg_1/video_input/fight_6.mp4: 384x640 2 Fighters, 13.3ms\n",
      "video 1/1 (frame 3193/3688) /home/hatsu/coding/CapProj/TestSeg_1/video_input/fight_6.mp4: 384x640 2 Fighters, 13.6ms\n",
      "video 1/1 (frame 3194/3688) /home/hatsu/coding/CapProj/TestSeg_1/video_input/fight_6.mp4: 384x640 2 Fighters, 14.2ms\n",
      "video 1/1 (frame 3195/3688) /home/hatsu/coding/CapProj/TestSeg_1/video_input/fight_6.mp4: 384x640 2 Fighters, 14.6ms\n",
      "video 1/1 (frame 3196/3688) /home/hatsu/coding/CapProj/TestSeg_1/video_input/fight_6.mp4: 384x640 2 Fighters, 17.1ms\n",
      "video 1/1 (frame 3197/3688) /home/hatsu/coding/CapProj/TestSeg_1/video_input/fight_6.mp4: 384x640 2 Fighters, 13.2ms\n",
      "video 1/1 (frame 3198/3688) /home/hatsu/coding/CapProj/TestSeg_1/video_input/fight_6.mp4: 384x640 2 Fighters, 13.9ms\n",
      "video 1/1 (frame 3199/3688) /home/hatsu/coding/CapProj/TestSeg_1/video_input/fight_6.mp4: 384x640 2 Fighters, 14.7ms\n",
      "video 1/1 (frame 3200/3688) /home/hatsu/coding/CapProj/TestSeg_1/video_input/fight_6.mp4: 384x640 2 Fighters, 14.8ms\n",
      "video 1/1 (frame 3201/3688) /home/hatsu/coding/CapProj/TestSeg_1/video_input/fight_6.mp4: 384x640 2 Fighters, 30.8ms\n",
      "video 1/1 (frame 3202/3688) /home/hatsu/coding/CapProj/TestSeg_1/video_input/fight_6.mp4: 384x640 2 Fighters, 20.8ms\n",
      "video 1/1 (frame 3203/3688) /home/hatsu/coding/CapProj/TestSeg_1/video_input/fight_6.mp4: 384x640 2 Fighters, 22.4ms\n",
      "video 1/1 (frame 3204/3688) /home/hatsu/coding/CapProj/TestSeg_1/video_input/fight_6.mp4: 384x640 2 Fighters, 30.3ms\n",
      "video 1/1 (frame 3205/3688) /home/hatsu/coding/CapProj/TestSeg_1/video_input/fight_6.mp4: 384x640 2 Fighters, 22.8ms\n",
      "video 1/1 (frame 3206/3688) /home/hatsu/coding/CapProj/TestSeg_1/video_input/fight_6.mp4: 384x640 2 Fighters, 20.9ms\n",
      "video 1/1 (frame 3207/3688) /home/hatsu/coding/CapProj/TestSeg_1/video_input/fight_6.mp4: 384x640 2 Fighters, 33.1ms\n",
      "video 1/1 (frame 3208/3688) /home/hatsu/coding/CapProj/TestSeg_1/video_input/fight_6.mp4: 384x640 2 Fighters, 17.8ms\n",
      "video 1/1 (frame 3209/3688) /home/hatsu/coding/CapProj/TestSeg_1/video_input/fight_6.mp4: 384x640 2 Fighters, 19.1ms\n",
      "video 1/1 (frame 3210/3688) /home/hatsu/coding/CapProj/TestSeg_1/video_input/fight_6.mp4: 384x640 2 Fighters, 12.6ms\n",
      "video 1/1 (frame 3211/3688) /home/hatsu/coding/CapProj/TestSeg_1/video_input/fight_6.mp4: 384x640 2 Fighters, 13.6ms\n",
      "video 1/1 (frame 3212/3688) /home/hatsu/coding/CapProj/TestSeg_1/video_input/fight_6.mp4: 384x640 2 Fighters, 40.3ms\n",
      "video 1/1 (frame 3213/3688) /home/hatsu/coding/CapProj/TestSeg_1/video_input/fight_6.mp4: 384x640 2 Fighters, 15.2ms\n",
      "video 1/1 (frame 3214/3688) /home/hatsu/coding/CapProj/TestSeg_1/video_input/fight_6.mp4: 384x640 2 Fighters, 17.7ms\n",
      "video 1/1 (frame 3215/3688) /home/hatsu/coding/CapProj/TestSeg_1/video_input/fight_6.mp4: 384x640 2 Fighters, 27.9ms\n",
      "video 1/1 (frame 3216/3688) /home/hatsu/coding/CapProj/TestSeg_1/video_input/fight_6.mp4: 384x640 2 Fighters, 15.9ms\n",
      "video 1/1 (frame 3217/3688) /home/hatsu/coding/CapProj/TestSeg_1/video_input/fight_6.mp4: 384x640 2 Fighters, 19.7ms\n",
      "video 1/1 (frame 3218/3688) /home/hatsu/coding/CapProj/TestSeg_1/video_input/fight_6.mp4: 384x640 2 Fighters, 13.5ms\n",
      "video 1/1 (frame 3219/3688) /home/hatsu/coding/CapProj/TestSeg_1/video_input/fight_6.mp4: 384x640 2 Fighters, 20.6ms\n",
      "video 1/1 (frame 3220/3688) /home/hatsu/coding/CapProj/TestSeg_1/video_input/fight_6.mp4: 384x640 2 Fighters, 14.8ms\n",
      "video 1/1 (frame 3221/3688) /home/hatsu/coding/CapProj/TestSeg_1/video_input/fight_6.mp4: 384x640 2 Fighters, 12.8ms\n",
      "video 1/1 (frame 3222/3688) /home/hatsu/coding/CapProj/TestSeg_1/video_input/fight_6.mp4: 384x640 2 Fighters, 21.9ms\n",
      "video 1/1 (frame 3223/3688) /home/hatsu/coding/CapProj/TestSeg_1/video_input/fight_6.mp4: 384x640 2 Fighters, 13.5ms\n",
      "video 1/1 (frame 3224/3688) /home/hatsu/coding/CapProj/TestSeg_1/video_input/fight_6.mp4: 384x640 2 Fighters, 14.7ms\n",
      "video 1/1 (frame 3225/3688) /home/hatsu/coding/CapProj/TestSeg_1/video_input/fight_6.mp4: 384x640 2 Fighters, 13.2ms\n",
      "video 1/1 (frame 3226/3688) /home/hatsu/coding/CapProj/TestSeg_1/video_input/fight_6.mp4: 384x640 2 Fighters, 13.6ms\n",
      "video 1/1 (frame 3227/3688) /home/hatsu/coding/CapProj/TestSeg_1/video_input/fight_6.mp4: 384x640 2 Fighters, 23.3ms\n",
      "video 1/1 (frame 3228/3688) /home/hatsu/coding/CapProj/TestSeg_1/video_input/fight_6.mp4: 384x640 2 Fighters, 13.2ms\n",
      "video 1/1 (frame 3229/3688) /home/hatsu/coding/CapProj/TestSeg_1/video_input/fight_6.mp4: 384x640 2 Fighters, 13.9ms\n",
      "video 1/1 (frame 3230/3688) /home/hatsu/coding/CapProj/TestSeg_1/video_input/fight_6.mp4: 384x640 2 Fighters, 13.8ms\n",
      "video 1/1 (frame 3231/3688) /home/hatsu/coding/CapProj/TestSeg_1/video_input/fight_6.mp4: 384x640 2 Fighters, 15.6ms\n",
      "video 1/1 (frame 3232/3688) /home/hatsu/coding/CapProj/TestSeg_1/video_input/fight_6.mp4: 384x640 2 Fighters, 24.6ms\n",
      "video 1/1 (frame 3233/3688) /home/hatsu/coding/CapProj/TestSeg_1/video_input/fight_6.mp4: 384x640 2 Fighters, 14.0ms\n",
      "video 1/1 (frame 3234/3688) /home/hatsu/coding/CapProj/TestSeg_1/video_input/fight_6.mp4: 384x640 2 Fighters, 13.3ms\n",
      "video 1/1 (frame 3235/3688) /home/hatsu/coding/CapProj/TestSeg_1/video_input/fight_6.mp4: 384x640 2 Fighters, 16.2ms\n",
      "video 1/1 (frame 3236/3688) /home/hatsu/coding/CapProj/TestSeg_1/video_input/fight_6.mp4: 384x640 2 Fighters, 16.8ms\n",
      "video 1/1 (frame 3237/3688) /home/hatsu/coding/CapProj/TestSeg_1/video_input/fight_6.mp4: 384x640 2 Fighters, 14.2ms\n",
      "video 1/1 (frame 3238/3688) /home/hatsu/coding/CapProj/TestSeg_1/video_input/fight_6.mp4: 384x640 2 Fighters, 17.9ms\n",
      "video 1/1 (frame 3239/3688) /home/hatsu/coding/CapProj/TestSeg_1/video_input/fight_6.mp4: 384x640 2 Fighters, 16.7ms\n",
      "video 1/1 (frame 3240/3688) /home/hatsu/coding/CapProj/TestSeg_1/video_input/fight_6.mp4: 384x640 2 Fighters, 13.5ms\n",
      "video 1/1 (frame 3241/3688) /home/hatsu/coding/CapProj/TestSeg_1/video_input/fight_6.mp4: 384x640 2 Fighters, 12.2ms\n",
      "video 1/1 (frame 3242/3688) /home/hatsu/coding/CapProj/TestSeg_1/video_input/fight_6.mp4: 384x640 2 Fighters, 29.1ms\n",
      "video 1/1 (frame 3243/3688) /home/hatsu/coding/CapProj/TestSeg_1/video_input/fight_6.mp4: 384x640 2 Fighters, 23.2ms\n",
      "video 1/1 (frame 3244/3688) /home/hatsu/coding/CapProj/TestSeg_1/video_input/fight_6.mp4: 384x640 2 Fighters, 18.6ms\n",
      "video 1/1 (frame 3245/3688) /home/hatsu/coding/CapProj/TestSeg_1/video_input/fight_6.mp4: 384x640 2 Fighters, 21.2ms\n",
      "video 1/1 (frame 3246/3688) /home/hatsu/coding/CapProj/TestSeg_1/video_input/fight_6.mp4: 384x640 2 Fighters, 19.3ms\n",
      "video 1/1 (frame 3247/3688) /home/hatsu/coding/CapProj/TestSeg_1/video_input/fight_6.mp4: 384x640 2 Fighters, 32.4ms\n",
      "video 1/1 (frame 3248/3688) /home/hatsu/coding/CapProj/TestSeg_1/video_input/fight_6.mp4: 384x640 2 Fighters, 25.0ms\n",
      "video 1/1 (frame 3249/3688) /home/hatsu/coding/CapProj/TestSeg_1/video_input/fight_6.mp4: 384x640 2 Fighters, 19.4ms\n",
      "video 1/1 (frame 3250/3688) /home/hatsu/coding/CapProj/TestSeg_1/video_input/fight_6.mp4: 384x640 2 Fighters, 19.0ms\n",
      "video 1/1 (frame 3251/3688) /home/hatsu/coding/CapProj/TestSeg_1/video_input/fight_6.mp4: 384x640 2 Fighters, 24.3ms\n",
      "video 1/1 (frame 3252/3688) /home/hatsu/coding/CapProj/TestSeg_1/video_input/fight_6.mp4: 384x640 2 Fighters, 19.2ms\n",
      "video 1/1 (frame 3253/3688) /home/hatsu/coding/CapProj/TestSeg_1/video_input/fight_6.mp4: 384x640 2 Fighters, 19.7ms\n",
      "video 1/1 (frame 3254/3688) /home/hatsu/coding/CapProj/TestSeg_1/video_input/fight_6.mp4: 384x640 2 Fighters, 21.3ms\n",
      "video 1/1 (frame 3255/3688) /home/hatsu/coding/CapProj/TestSeg_1/video_input/fight_6.mp4: 384x640 2 Fighters, 17.6ms\n",
      "video 1/1 (frame 3256/3688) /home/hatsu/coding/CapProj/TestSeg_1/video_input/fight_6.mp4: 384x640 2 Fighters, 21.2ms\n",
      "video 1/1 (frame 3257/3688) /home/hatsu/coding/CapProj/TestSeg_1/video_input/fight_6.mp4: 384x640 2 Fighters, 17.1ms\n",
      "video 1/1 (frame 3258/3688) /home/hatsu/coding/CapProj/TestSeg_1/video_input/fight_6.mp4: 384x640 2 Fighters, 14.2ms\n",
      "video 1/1 (frame 3259/3688) /home/hatsu/coding/CapProj/TestSeg_1/video_input/fight_6.mp4: 384x640 2 Fighters, 16.3ms\n",
      "video 1/1 (frame 3260/3688) /home/hatsu/coding/CapProj/TestSeg_1/video_input/fight_6.mp4: 384x640 2 Fighters, 19.8ms\n",
      "video 1/1 (frame 3261/3688) /home/hatsu/coding/CapProj/TestSeg_1/video_input/fight_6.mp4: 384x640 2 Fighters, 14.7ms\n",
      "video 1/1 (frame 3262/3688) /home/hatsu/coding/CapProj/TestSeg_1/video_input/fight_6.mp4: 384x640 2 Fighters, 13.2ms\n",
      "video 1/1 (frame 3263/3688) /home/hatsu/coding/CapProj/TestSeg_1/video_input/fight_6.mp4: 384x640 2 Fighters, 13.8ms\n",
      "video 1/1 (frame 3264/3688) /home/hatsu/coding/CapProj/TestSeg_1/video_input/fight_6.mp4: 384x640 2 Fighters, 17.1ms\n",
      "video 1/1 (frame 3265/3688) /home/hatsu/coding/CapProj/TestSeg_1/video_input/fight_6.mp4: 384x640 2 Fighters, 12.5ms\n",
      "video 1/1 (frame 3266/3688) /home/hatsu/coding/CapProj/TestSeg_1/video_input/fight_6.mp4: 384x640 2 Fighters, 14.6ms\n",
      "video 1/1 (frame 3267/3688) /home/hatsu/coding/CapProj/TestSeg_1/video_input/fight_6.mp4: 384x640 2 Fighters, 15.1ms\n",
      "video 1/1 (frame 3268/3688) /home/hatsu/coding/CapProj/TestSeg_1/video_input/fight_6.mp4: 384x640 2 Fighters, 16.1ms\n",
      "video 1/1 (frame 3269/3688) /home/hatsu/coding/CapProj/TestSeg_1/video_input/fight_6.mp4: 384x640 2 Fighters, 15.9ms\n",
      "video 1/1 (frame 3270/3688) /home/hatsu/coding/CapProj/TestSeg_1/video_input/fight_6.mp4: 384x640 2 Fighters, 33.7ms\n",
      "video 1/1 (frame 3271/3688) /home/hatsu/coding/CapProj/TestSeg_1/video_input/fight_6.mp4: 384x640 2 Fighters, 12.2ms\n",
      "video 1/1 (frame 3272/3688) /home/hatsu/coding/CapProj/TestSeg_1/video_input/fight_6.mp4: 384x640 2 Fighters, 13.1ms\n",
      "video 1/1 (frame 3273/3688) /home/hatsu/coding/CapProj/TestSeg_1/video_input/fight_6.mp4: 384x640 2 Fighters, 13.6ms\n",
      "video 1/1 (frame 3274/3688) /home/hatsu/coding/CapProj/TestSeg_1/video_input/fight_6.mp4: 384x640 2 Fighters, 13.9ms\n",
      "video 1/1 (frame 3275/3688) /home/hatsu/coding/CapProj/TestSeg_1/video_input/fight_6.mp4: 384x640 2 Fighters, 17.4ms\n",
      "video 1/1 (frame 3276/3688) /home/hatsu/coding/CapProj/TestSeg_1/video_input/fight_6.mp4: 384x640 2 Fighters, 13.6ms\n",
      "video 1/1 (frame 3277/3688) /home/hatsu/coding/CapProj/TestSeg_1/video_input/fight_6.mp4: 384x640 2 Fighters, 12.9ms\n",
      "video 1/1 (frame 3278/3688) /home/hatsu/coding/CapProj/TestSeg_1/video_input/fight_6.mp4: 384x640 2 Fighters, 13.7ms\n",
      "video 1/1 (frame 3279/3688) /home/hatsu/coding/CapProj/TestSeg_1/video_input/fight_6.mp4: 384x640 2 Fighters, 13.2ms\n",
      "video 1/1 (frame 3280/3688) /home/hatsu/coding/CapProj/TestSeg_1/video_input/fight_6.mp4: 384x640 2 Fighters, 18.4ms\n",
      "video 1/1 (frame 3281/3688) /home/hatsu/coding/CapProj/TestSeg_1/video_input/fight_6.mp4: 384x640 2 Fighters, 13.8ms\n",
      "video 1/1 (frame 3282/3688) /home/hatsu/coding/CapProj/TestSeg_1/video_input/fight_6.mp4: 384x640 2 Fighters, 16.5ms\n",
      "video 1/1 (frame 3283/3688) /home/hatsu/coding/CapProj/TestSeg_1/video_input/fight_6.mp4: 384x640 2 Fighters, 14.4ms\n",
      "video 1/1 (frame 3284/3688) /home/hatsu/coding/CapProj/TestSeg_1/video_input/fight_6.mp4: 384x640 2 Fighters, 13.6ms\n",
      "video 1/1 (frame 3285/3688) /home/hatsu/coding/CapProj/TestSeg_1/video_input/fight_6.mp4: 384x640 2 Fighters, 15.4ms\n",
      "video 1/1 (frame 3286/3688) /home/hatsu/coding/CapProj/TestSeg_1/video_input/fight_6.mp4: 384x640 2 Fighters, 15.7ms\n",
      "video 1/1 (frame 3287/3688) /home/hatsu/coding/CapProj/TestSeg_1/video_input/fight_6.mp4: 384x640 2 Fighters, 12.7ms\n",
      "video 1/1 (frame 3288/3688) /home/hatsu/coding/CapProj/TestSeg_1/video_input/fight_6.mp4: 384x640 2 Fighters, 14.3ms\n",
      "video 1/1 (frame 3289/3688) /home/hatsu/coding/CapProj/TestSeg_1/video_input/fight_6.mp4: 384x640 2 Fighters, 17.9ms\n",
      "video 1/1 (frame 3290/3688) /home/hatsu/coding/CapProj/TestSeg_1/video_input/fight_6.mp4: 384x640 2 Fighters, 18.5ms\n",
      "video 1/1 (frame 3291/3688) /home/hatsu/coding/CapProj/TestSeg_1/video_input/fight_6.mp4: 384x640 2 Fighters, 19.3ms\n",
      "video 1/1 (frame 3292/3688) /home/hatsu/coding/CapProj/TestSeg_1/video_input/fight_6.mp4: 384x640 2 Fighters, 16.4ms\n",
      "video 1/1 (frame 3293/3688) /home/hatsu/coding/CapProj/TestSeg_1/video_input/fight_6.mp4: 384x640 2 Fighters, 14.2ms\n",
      "video 1/1 (frame 3294/3688) /home/hatsu/coding/CapProj/TestSeg_1/video_input/fight_6.mp4: 384x640 2 Fighters, 22.6ms\n",
      "video 1/1 (frame 3295/3688) /home/hatsu/coding/CapProj/TestSeg_1/video_input/fight_6.mp4: 384x640 2 Fighters, 13.7ms\n",
      "video 1/1 (frame 3296/3688) /home/hatsu/coding/CapProj/TestSeg_1/video_input/fight_6.mp4: 384x640 2 Fighters, 13.7ms\n",
      "video 1/1 (frame 3297/3688) /home/hatsu/coding/CapProj/TestSeg_1/video_input/fight_6.mp4: 384x640 2 Fighters, 17.5ms\n",
      "video 1/1 (frame 3298/3688) /home/hatsu/coding/CapProj/TestSeg_1/video_input/fight_6.mp4: 384x640 3 Fighters, 12.7ms\n",
      "video 1/1 (frame 3299/3688) /home/hatsu/coding/CapProj/TestSeg_1/video_input/fight_6.mp4: 384x640 2 Fighters, 15.5ms\n",
      "video 1/1 (frame 3300/3688) /home/hatsu/coding/CapProj/TestSeg_1/video_input/fight_6.mp4: 384x640 2 Fighters, 13.9ms\n",
      "video 1/1 (frame 3301/3688) /home/hatsu/coding/CapProj/TestSeg_1/video_input/fight_6.mp4: 384x640 2 Fighters, 12.9ms\n",
      "video 1/1 (frame 3302/3688) /home/hatsu/coding/CapProj/TestSeg_1/video_input/fight_6.mp4: 384x640 2 Fighters, 23.9ms\n",
      "video 1/1 (frame 3303/3688) /home/hatsu/coding/CapProj/TestSeg_1/video_input/fight_6.mp4: 384x640 2 Fighters, 13.3ms\n",
      "video 1/1 (frame 3304/3688) /home/hatsu/coding/CapProj/TestSeg_1/video_input/fight_6.mp4: 384x640 2 Fighters, 15.3ms\n",
      "video 1/1 (frame 3305/3688) /home/hatsu/coding/CapProj/TestSeg_1/video_input/fight_6.mp4: 384x640 2 Fighters, 15.2ms\n",
      "video 1/1 (frame 3306/3688) /home/hatsu/coding/CapProj/TestSeg_1/video_input/fight_6.mp4: 384x640 2 Fighters, 22.3ms\n",
      "video 1/1 (frame 3307/3688) /home/hatsu/coding/CapProj/TestSeg_1/video_input/fight_6.mp4: 384x640 2 Fighters, 26.9ms\n",
      "video 1/1 (frame 3308/3688) /home/hatsu/coding/CapProj/TestSeg_1/video_input/fight_6.mp4: 384x640 2 Fighters, 23.8ms\n",
      "video 1/1 (frame 3309/3688) /home/hatsu/coding/CapProj/TestSeg_1/video_input/fight_6.mp4: 384x640 2 Fighters, 19.5ms\n",
      "video 1/1 (frame 3310/3688) /home/hatsu/coding/CapProj/TestSeg_1/video_input/fight_6.mp4: 384x640 2 Fighters, 18.4ms\n",
      "video 1/1 (frame 3311/3688) /home/hatsu/coding/CapProj/TestSeg_1/video_input/fight_6.mp4: 384x640 2 Fighters, 25.3ms\n",
      "video 1/1 (frame 3312/3688) /home/hatsu/coding/CapProj/TestSeg_1/video_input/fight_6.mp4: 384x640 2 Fighters, 24.3ms\n",
      "video 1/1 (frame 3313/3688) /home/hatsu/coding/CapProj/TestSeg_1/video_input/fight_6.mp4: 384x640 2 Fighters, 17.7ms\n",
      "video 1/1 (frame 3314/3688) /home/hatsu/coding/CapProj/TestSeg_1/video_input/fight_6.mp4: 384x640 2 Fighters, 19.5ms\n",
      "video 1/1 (frame 3315/3688) /home/hatsu/coding/CapProj/TestSeg_1/video_input/fight_6.mp4: 384x640 2 Fighters, 21.9ms\n",
      "video 1/1 (frame 3316/3688) /home/hatsu/coding/CapProj/TestSeg_1/video_input/fight_6.mp4: 384x640 2 Fighters, 16.6ms\n",
      "video 1/1 (frame 3317/3688) /home/hatsu/coding/CapProj/TestSeg_1/video_input/fight_6.mp4: 384x640 2 Fighters, 25.9ms\n",
      "video 1/1 (frame 3318/3688) /home/hatsu/coding/CapProj/TestSeg_1/video_input/fight_6.mp4: 384x640 2 Fighters, 14.1ms\n",
      "video 1/1 (frame 3319/3688) /home/hatsu/coding/CapProj/TestSeg_1/video_input/fight_6.mp4: 384x640 2 Fighters, 12.1ms\n",
      "video 1/1 (frame 3320/3688) /home/hatsu/coding/CapProj/TestSeg_1/video_input/fight_6.mp4: 384x640 2 Fighters, 13.4ms\n",
      "video 1/1 (frame 3321/3688) /home/hatsu/coding/CapProj/TestSeg_1/video_input/fight_6.mp4: 384x640 2 Fighters, 13.3ms\n",
      "video 1/1 (frame 3322/3688) /home/hatsu/coding/CapProj/TestSeg_1/video_input/fight_6.mp4: 384x640 2 Fighters, 28.7ms\n",
      "video 1/1 (frame 3323/3688) /home/hatsu/coding/CapProj/TestSeg_1/video_input/fight_6.mp4: 384x640 2 Fighters, 18.8ms\n",
      "video 1/1 (frame 3324/3688) /home/hatsu/coding/CapProj/TestSeg_1/video_input/fight_6.mp4: 384x640 2 Fighters, 12.1ms\n",
      "video 1/1 (frame 3325/3688) /home/hatsu/coding/CapProj/TestSeg_1/video_input/fight_6.mp4: 384x640 2 Fighters, 13.8ms\n",
      "video 1/1 (frame 3326/3688) /home/hatsu/coding/CapProj/TestSeg_1/video_input/fight_6.mp4: 384x640 2 Fighters, 13.0ms\n",
      "video 1/1 (frame 3327/3688) /home/hatsu/coding/CapProj/TestSeg_1/video_input/fight_6.mp4: 384x640 2 Fighters, 16.9ms\n",
      "video 1/1 (frame 3328/3688) /home/hatsu/coding/CapProj/TestSeg_1/video_input/fight_6.mp4: 384x640 2 Fighters, 13.3ms\n",
      "video 1/1 (frame 3329/3688) /home/hatsu/coding/CapProj/TestSeg_1/video_input/fight_6.mp4: 384x640 2 Fighters, 13.2ms\n",
      "video 1/1 (frame 3330/3688) /home/hatsu/coding/CapProj/TestSeg_1/video_input/fight_6.mp4: 384x640 2 Fighters, 12.5ms\n",
      "video 1/1 (frame 3331/3688) /home/hatsu/coding/CapProj/TestSeg_1/video_input/fight_6.mp4: 384x640 2 Fighters, 13.0ms\n",
      "video 1/1 (frame 3332/3688) /home/hatsu/coding/CapProj/TestSeg_1/video_input/fight_6.mp4: 384x640 2 Fighters, 13.7ms\n",
      "video 1/1 (frame 3333/3688) /home/hatsu/coding/CapProj/TestSeg_1/video_input/fight_6.mp4: 384x640 2 Fighters, 16.9ms\n",
      "video 1/1 (frame 3334/3688) /home/hatsu/coding/CapProj/TestSeg_1/video_input/fight_6.mp4: 384x640 2 Fighters, 12.7ms\n",
      "video 1/1 (frame 3335/3688) /home/hatsu/coding/CapProj/TestSeg_1/video_input/fight_6.mp4: 384x640 2 Fighters, 14.6ms\n",
      "video 1/1 (frame 3336/3688) /home/hatsu/coding/CapProj/TestSeg_1/video_input/fight_6.mp4: 384x640 2 Fighters, 13.9ms\n",
      "video 1/1 (frame 3337/3688) /home/hatsu/coding/CapProj/TestSeg_1/video_input/fight_6.mp4: 384x640 2 Fighters, 14.1ms\n",
      "video 1/1 (frame 3338/3688) /home/hatsu/coding/CapProj/TestSeg_1/video_input/fight_6.mp4: 384x640 2 Fighters, 27.1ms\n",
      "video 1/1 (frame 3339/3688) /home/hatsu/coding/CapProj/TestSeg_1/video_input/fight_6.mp4: 384x640 2 Fighters, 23.0ms\n",
      "video 1/1 (frame 3340/3688) /home/hatsu/coding/CapProj/TestSeg_1/video_input/fight_6.mp4: 384x640 2 Fighters, 17.1ms\n",
      "video 1/1 (frame 3341/3688) /home/hatsu/coding/CapProj/TestSeg_1/video_input/fight_6.mp4: 384x640 2 Fighters, 17.2ms\n",
      "video 1/1 (frame 3342/3688) /home/hatsu/coding/CapProj/TestSeg_1/video_input/fight_6.mp4: 384x640 2 Fighters, 14.3ms\n",
      "video 1/1 (frame 3343/3688) /home/hatsu/coding/CapProj/TestSeg_1/video_input/fight_6.mp4: 384x640 2 Fighters, 15.7ms\n",
      "video 1/1 (frame 3344/3688) /home/hatsu/coding/CapProj/TestSeg_1/video_input/fight_6.mp4: 384x640 2 Fighters, 13.1ms\n",
      "video 1/1 (frame 3345/3688) /home/hatsu/coding/CapProj/TestSeg_1/video_input/fight_6.mp4: 384x640 2 Fighters, 18.2ms\n",
      "video 1/1 (frame 3346/3688) /home/hatsu/coding/CapProj/TestSeg_1/video_input/fight_6.mp4: 384x640 2 Fighters, 12.6ms\n",
      "video 1/1 (frame 3347/3688) /home/hatsu/coding/CapProj/TestSeg_1/video_input/fight_6.mp4: 384x640 2 Fighters, 13.4ms\n",
      "video 1/1 (frame 3348/3688) /home/hatsu/coding/CapProj/TestSeg_1/video_input/fight_6.mp4: 384x640 2 Fighters, 16.2ms\n",
      "video 1/1 (frame 3349/3688) /home/hatsu/coding/CapProj/TestSeg_1/video_input/fight_6.mp4: 384x640 2 Fighters, 15.4ms\n",
      "video 1/1 (frame 3350/3688) /home/hatsu/coding/CapProj/TestSeg_1/video_input/fight_6.mp4: 384x640 2 Fighters, 14.3ms\n",
      "video 1/1 (frame 3351/3688) /home/hatsu/coding/CapProj/TestSeg_1/video_input/fight_6.mp4: 384x640 2 Fighters, 15.3ms\n",
      "video 1/1 (frame 3352/3688) /home/hatsu/coding/CapProj/TestSeg_1/video_input/fight_6.mp4: 384x640 2 Fighters, 19.2ms\n",
      "video 1/1 (frame 3353/3688) /home/hatsu/coding/CapProj/TestSeg_1/video_input/fight_6.mp4: 384x640 2 Fighters, 18.5ms\n",
      "video 1/1 (frame 3354/3688) /home/hatsu/coding/CapProj/TestSeg_1/video_input/fight_6.mp4: 384x640 2 Fighters, 13.6ms\n",
      "video 1/1 (frame 3355/3688) /home/hatsu/coding/CapProj/TestSeg_1/video_input/fight_6.mp4: 384x640 2 Fighters, 26.5ms\n",
      "video 1/1 (frame 3356/3688) /home/hatsu/coding/CapProj/TestSeg_1/video_input/fight_6.mp4: 384x640 2 Fighters, 16.2ms\n",
      "video 1/1 (frame 3357/3688) /home/hatsu/coding/CapProj/TestSeg_1/video_input/fight_6.mp4: 384x640 2 Fighters, 14.3ms\n",
      "video 1/1 (frame 3358/3688) /home/hatsu/coding/CapProj/TestSeg_1/video_input/fight_6.mp4: 384x640 2 Fighters, 20.4ms\n",
      "video 1/1 (frame 3359/3688) /home/hatsu/coding/CapProj/TestSeg_1/video_input/fight_6.mp4: 384x640 2 Fighters, 13.5ms\n",
      "video 1/1 (frame 3360/3688) /home/hatsu/coding/CapProj/TestSeg_1/video_input/fight_6.mp4: 384x640 2 Fighters, 26.4ms\n",
      "video 1/1 (frame 3361/3688) /home/hatsu/coding/CapProj/TestSeg_1/video_input/fight_6.mp4: 384x640 2 Fighters, 14.5ms\n",
      "video 1/1 (frame 3362/3688) /home/hatsu/coding/CapProj/TestSeg_1/video_input/fight_6.mp4: 384x640 2 Fighters, 15.0ms\n",
      "video 1/1 (frame 3363/3688) /home/hatsu/coding/CapProj/TestSeg_1/video_input/fight_6.mp4: 384x640 2 Fighters, 20.4ms\n",
      "video 1/1 (frame 3364/3688) /home/hatsu/coding/CapProj/TestSeg_1/video_input/fight_6.mp4: 384x640 2 Fighters, 14.8ms\n",
      "video 1/1 (frame 3365/3688) /home/hatsu/coding/CapProj/TestSeg_1/video_input/fight_6.mp4: 384x640 2 Fighters, 13.9ms\n",
      "video 1/1 (frame 3366/3688) /home/hatsu/coding/CapProj/TestSeg_1/video_input/fight_6.mp4: 384x640 2 Fighters, 13.0ms\n",
      "video 1/1 (frame 3367/3688) /home/hatsu/coding/CapProj/TestSeg_1/video_input/fight_6.mp4: 384x640 2 Fighters, 14.0ms\n",
      "video 1/1 (frame 3368/3688) /home/hatsu/coding/CapProj/TestSeg_1/video_input/fight_6.mp4: 384x640 2 Fighters, 33.3ms\n",
      "video 1/1 (frame 3369/3688) /home/hatsu/coding/CapProj/TestSeg_1/video_input/fight_6.mp4: 384x640 2 Fighters, 18.1ms\n",
      "video 1/1 (frame 3370/3688) /home/hatsu/coding/CapProj/TestSeg_1/video_input/fight_6.mp4: 384x640 2 Fighters, 13.1ms\n",
      "video 1/1 (frame 3371/3688) /home/hatsu/coding/CapProj/TestSeg_1/video_input/fight_6.mp4: 384x640 2 Fighters, 31.6ms\n",
      "video 1/1 (frame 3372/3688) /home/hatsu/coding/CapProj/TestSeg_1/video_input/fight_6.mp4: 384x640 2 Fighters, 15.3ms\n",
      "video 1/1 (frame 3373/3688) /home/hatsu/coding/CapProj/TestSeg_1/video_input/fight_6.mp4: 384x640 2 Fighters, 12.8ms\n",
      "video 1/1 (frame 3374/3688) /home/hatsu/coding/CapProj/TestSeg_1/video_input/fight_6.mp4: 384x640 2 Fighters, 16.8ms\n",
      "video 1/1 (frame 3375/3688) /home/hatsu/coding/CapProj/TestSeg_1/video_input/fight_6.mp4: 384x640 2 Fighters, 18.1ms\n",
      "video 1/1 (frame 3376/3688) /home/hatsu/coding/CapProj/TestSeg_1/video_input/fight_6.mp4: 384x640 2 Fighters, 14.4ms\n",
      "video 1/1 (frame 3377/3688) /home/hatsu/coding/CapProj/TestSeg_1/video_input/fight_6.mp4: 384x640 2 Fighters, 38.1ms\n",
      "video 1/1 (frame 3378/3688) /home/hatsu/coding/CapProj/TestSeg_1/video_input/fight_6.mp4: 384x640 2 Fighters, 24.6ms\n",
      "video 1/1 (frame 3379/3688) /home/hatsu/coding/CapProj/TestSeg_1/video_input/fight_6.mp4: 384x640 2 Fighters, 21.2ms\n",
      "video 1/1 (frame 3380/3688) /home/hatsu/coding/CapProj/TestSeg_1/video_input/fight_6.mp4: 384x640 2 Fighters, 23.0ms\n",
      "video 1/1 (frame 3381/3688) /home/hatsu/coding/CapProj/TestSeg_1/video_input/fight_6.mp4: 384x640 2 Fighters, 30.3ms\n",
      "video 1/1 (frame 3382/3688) /home/hatsu/coding/CapProj/TestSeg_1/video_input/fight_6.mp4: 384x640 2 Fighters, 30.0ms\n",
      "video 1/1 (frame 3383/3688) /home/hatsu/coding/CapProj/TestSeg_1/video_input/fight_6.mp4: 384x640 2 Fighters, 17.1ms\n",
      "video 1/1 (frame 3384/3688) /home/hatsu/coding/CapProj/TestSeg_1/video_input/fight_6.mp4: 384x640 2 Fighters, 20.2ms\n",
      "video 1/1 (frame 3385/3688) /home/hatsu/coding/CapProj/TestSeg_1/video_input/fight_6.mp4: 384x640 2 Fighters, 20.7ms\n",
      "video 1/1 (frame 3386/3688) /home/hatsu/coding/CapProj/TestSeg_1/video_input/fight_6.mp4: 384x640 2 Fighters, 22.1ms\n",
      "video 1/1 (frame 3387/3688) /home/hatsu/coding/CapProj/TestSeg_1/video_input/fight_6.mp4: 384x640 2 Fighters, 25.8ms\n",
      "video 1/1 (frame 3388/3688) /home/hatsu/coding/CapProj/TestSeg_1/video_input/fight_6.mp4: 384x640 2 Fighters, 28.6ms\n",
      "video 1/1 (frame 3389/3688) /home/hatsu/coding/CapProj/TestSeg_1/video_input/fight_6.mp4: 384x640 2 Fighters, 17.7ms\n",
      "video 1/1 (frame 3390/3688) /home/hatsu/coding/CapProj/TestSeg_1/video_input/fight_6.mp4: 384x640 2 Fighters, 14.0ms\n",
      "video 1/1 (frame 3391/3688) /home/hatsu/coding/CapProj/TestSeg_1/video_input/fight_6.mp4: 384x640 2 Fighters, 13.6ms\n",
      "video 1/1 (frame 3392/3688) /home/hatsu/coding/CapProj/TestSeg_1/video_input/fight_6.mp4: 384x640 2 Fighters, 17.9ms\n",
      "video 1/1 (frame 3393/3688) /home/hatsu/coding/CapProj/TestSeg_1/video_input/fight_6.mp4: 384x640 2 Fighters, 16.9ms\n",
      "video 1/1 (frame 3394/3688) /home/hatsu/coding/CapProj/TestSeg_1/video_input/fight_6.mp4: 384x640 2 Fighters, 15.2ms\n",
      "video 1/1 (frame 3395/3688) /home/hatsu/coding/CapProj/TestSeg_1/video_input/fight_6.mp4: 384x640 2 Fighters, 20.2ms\n",
      "video 1/1 (frame 3396/3688) /home/hatsu/coding/CapProj/TestSeg_1/video_input/fight_6.mp4: 384x640 2 Fighters, 14.9ms\n",
      "video 1/1 (frame 3397/3688) /home/hatsu/coding/CapProj/TestSeg_1/video_input/fight_6.mp4: 384x640 2 Fighters, 24.9ms\n",
      "video 1/1 (frame 3398/3688) /home/hatsu/coding/CapProj/TestSeg_1/video_input/fight_6.mp4: 384x640 2 Fighters, 18.8ms\n",
      "video 1/1 (frame 3399/3688) /home/hatsu/coding/CapProj/TestSeg_1/video_input/fight_6.mp4: 384x640 2 Fighters, 13.1ms\n",
      "video 1/1 (frame 3400/3688) /home/hatsu/coding/CapProj/TestSeg_1/video_input/fight_6.mp4: 384x640 2 Fighters, 13.3ms\n",
      "video 1/1 (frame 3401/3688) /home/hatsu/coding/CapProj/TestSeg_1/video_input/fight_6.mp4: 384x640 2 Fighters, 15.4ms\n",
      "video 1/1 (frame 3402/3688) /home/hatsu/coding/CapProj/TestSeg_1/video_input/fight_6.mp4: 384x640 2 Fighters, 13.3ms\n",
      "video 1/1 (frame 3403/3688) /home/hatsu/coding/CapProj/TestSeg_1/video_input/fight_6.mp4: 384x640 2 Fighters, 19.1ms\n",
      "video 1/1 (frame 3404/3688) /home/hatsu/coding/CapProj/TestSeg_1/video_input/fight_6.mp4: 384x640 2 Fighters, 13.9ms\n",
      "video 1/1 (frame 3405/3688) /home/hatsu/coding/CapProj/TestSeg_1/video_input/fight_6.mp4: 384x640 2 Fighters, 13.6ms\n",
      "video 1/1 (frame 3406/3688) /home/hatsu/coding/CapProj/TestSeg_1/video_input/fight_6.mp4: 384x640 2 Fighters, 17.8ms\n",
      "video 1/1 (frame 3407/3688) /home/hatsu/coding/CapProj/TestSeg_1/video_input/fight_6.mp4: 384x640 2 Fighters, 13.2ms\n",
      "video 1/1 (frame 3408/3688) /home/hatsu/coding/CapProj/TestSeg_1/video_input/fight_6.mp4: 384x640 2 Fighters, 13.6ms\n",
      "video 1/1 (frame 3409/3688) /home/hatsu/coding/CapProj/TestSeg_1/video_input/fight_6.mp4: 384x640 2 Fighters, 30.2ms\n",
      "video 1/1 (frame 3410/3688) /home/hatsu/coding/CapProj/TestSeg_1/video_input/fight_6.mp4: 384x640 2 Fighters, 14.1ms\n",
      "video 1/1 (frame 3411/3688) /home/hatsu/coding/CapProj/TestSeg_1/video_input/fight_6.mp4: 384x640 2 Fighters, 14.7ms\n",
      "video 1/1 (frame 3412/3688) /home/hatsu/coding/CapProj/TestSeg_1/video_input/fight_6.mp4: 384x640 2 Fighters, 15.2ms\n",
      "video 1/1 (frame 3413/3688) /home/hatsu/coding/CapProj/TestSeg_1/video_input/fight_6.mp4: 384x640 2 Fighters, 15.1ms\n",
      "video 1/1 (frame 3414/3688) /home/hatsu/coding/CapProj/TestSeg_1/video_input/fight_6.mp4: 384x640 2 Fighters, 27.7ms\n",
      "video 1/1 (frame 3415/3688) /home/hatsu/coding/CapProj/TestSeg_1/video_input/fight_6.mp4: 384x640 2 Fighters, 14.1ms\n",
      "video 1/1 (frame 3416/3688) /home/hatsu/coding/CapProj/TestSeg_1/video_input/fight_6.mp4: 384x640 2 Fighters, 12.4ms\n",
      "video 1/1 (frame 3417/3688) /home/hatsu/coding/CapProj/TestSeg_1/video_input/fight_6.mp4: 384x640 2 Fighters, 13.0ms\n",
      "video 1/1 (frame 3418/3688) /home/hatsu/coding/CapProj/TestSeg_1/video_input/fight_6.mp4: 384x640 2 Fighters, 11.2ms\n",
      "video 1/1 (frame 3419/3688) /home/hatsu/coding/CapProj/TestSeg_1/video_input/fight_6.mp4: 384x640 2 Fighters, 18.3ms\n",
      "video 1/1 (frame 3420/3688) /home/hatsu/coding/CapProj/TestSeg_1/video_input/fight_6.mp4: 384x640 2 Fighters, 17.8ms\n",
      "video 1/1 (frame 3421/3688) /home/hatsu/coding/CapProj/TestSeg_1/video_input/fight_6.mp4: 384x640 2 Fighters, 14.1ms\n",
      "video 1/1 (frame 3422/3688) /home/hatsu/coding/CapProj/TestSeg_1/video_input/fight_6.mp4: 384x640 2 Fighters, 15.2ms\n",
      "video 1/1 (frame 3423/3688) /home/hatsu/coding/CapProj/TestSeg_1/video_input/fight_6.mp4: 384x640 2 Fighters, 14.5ms\n",
      "video 1/1 (frame 3424/3688) /home/hatsu/coding/CapProj/TestSeg_1/video_input/fight_6.mp4: 384x640 2 Fighters, 15.4ms\n",
      "video 1/1 (frame 3425/3688) /home/hatsu/coding/CapProj/TestSeg_1/video_input/fight_6.mp4: 384x640 2 Fighters, 20.3ms\n",
      "video 1/1 (frame 3426/3688) /home/hatsu/coding/CapProj/TestSeg_1/video_input/fight_6.mp4: 384x640 2 Fighters, 25.7ms\n",
      "video 1/1 (frame 3427/3688) /home/hatsu/coding/CapProj/TestSeg_1/video_input/fight_6.mp4: 384x640 1 Fighter, 16.1ms\n",
      "video 1/1 (frame 3428/3688) /home/hatsu/coding/CapProj/TestSeg_1/video_input/fight_6.mp4: 384x640 1 Fighter, 14.8ms\n",
      "video 1/1 (frame 3429/3688) /home/hatsu/coding/CapProj/TestSeg_1/video_input/fight_6.mp4: 384x640 1 Fighter, 14.6ms\n",
      "video 1/1 (frame 3430/3688) /home/hatsu/coding/CapProj/TestSeg_1/video_input/fight_6.mp4: 384x640 1 Fighter, 36.5ms\n",
      "video 1/1 (frame 3431/3688) /home/hatsu/coding/CapProj/TestSeg_1/video_input/fight_6.mp4: 384x640 1 Fighter, 15.5ms\n",
      "video 1/1 (frame 3432/3688) /home/hatsu/coding/CapProj/TestSeg_1/video_input/fight_6.mp4: 384x640 1 Fighter, 15.6ms\n",
      "video 1/1 (frame 3433/3688) /home/hatsu/coding/CapProj/TestSeg_1/video_input/fight_6.mp4: 384x640 1 Fighter, 12.9ms\n",
      "video 1/1 (frame 3434/3688) /home/hatsu/coding/CapProj/TestSeg_1/video_input/fight_6.mp4: 384x640 1 Fighter, 15.4ms\n",
      "video 1/1 (frame 3435/3688) /home/hatsu/coding/CapProj/TestSeg_1/video_input/fight_6.mp4: 384x640 1 Fighter, 15.4ms\n",
      "video 1/1 (frame 3436/3688) /home/hatsu/coding/CapProj/TestSeg_1/video_input/fight_6.mp4: 384x640 1 Fighter, 18.6ms\n",
      "video 1/1 (frame 3437/3688) /home/hatsu/coding/CapProj/TestSeg_1/video_input/fight_6.mp4: 384x640 1 Fighter, 27.7ms\n",
      "video 1/1 (frame 3438/3688) /home/hatsu/coding/CapProj/TestSeg_1/video_input/fight_6.mp4: 384x640 1 Fighter, 22.0ms\n",
      "video 1/1 (frame 3439/3688) /home/hatsu/coding/CapProj/TestSeg_1/video_input/fight_6.mp4: 384x640 1 Fighter, 13.4ms\n",
      "video 1/1 (frame 3440/3688) /home/hatsu/coding/CapProj/TestSeg_1/video_input/fight_6.mp4: 384x640 1 Fighter, 25.1ms\n",
      "video 1/1 (frame 3441/3688) /home/hatsu/coding/CapProj/TestSeg_1/video_input/fight_6.mp4: 384x640 1 Fighter, 17.7ms\n",
      "video 1/1 (frame 3442/3688) /home/hatsu/coding/CapProj/TestSeg_1/video_input/fight_6.mp4: 384x640 1 Fighter, 14.9ms\n",
      "video 1/1 (frame 3443/3688) /home/hatsu/coding/CapProj/TestSeg_1/video_input/fight_6.mp4: 384x640 1 Fighter, 15.2ms\n",
      "video 1/1 (frame 3444/3688) /home/hatsu/coding/CapProj/TestSeg_1/video_input/fight_6.mp4: 384x640 1 Fighter, 22.9ms\n",
      "video 1/1 (frame 3445/3688) /home/hatsu/coding/CapProj/TestSeg_1/video_input/fight_6.mp4: 384x640 1 Fighter, 17.3ms\n",
      "video 1/1 (frame 3446/3688) /home/hatsu/coding/CapProj/TestSeg_1/video_input/fight_6.mp4: 384x640 1 Fighter, 17.1ms\n",
      "video 1/1 (frame 3447/3688) /home/hatsu/coding/CapProj/TestSeg_1/video_input/fight_6.mp4: 384x640 1 Fighter, 26.7ms\n",
      "video 1/1 (frame 3448/3688) /home/hatsu/coding/CapProj/TestSeg_1/video_input/fight_6.mp4: 384x640 1 Fighter, 23.7ms\n",
      "video 1/1 (frame 3449/3688) /home/hatsu/coding/CapProj/TestSeg_1/video_input/fight_6.mp4: 384x640 1 Fighter, 28.3ms\n",
      "video 1/1 (frame 3450/3688) /home/hatsu/coding/CapProj/TestSeg_1/video_input/fight_6.mp4: 384x640 1 Fighter, 24.0ms\n",
      "video 1/1 (frame 3451/3688) /home/hatsu/coding/CapProj/TestSeg_1/video_input/fight_6.mp4: 384x640 1 Fighter, 25.7ms\n",
      "video 1/1 (frame 3452/3688) /home/hatsu/coding/CapProj/TestSeg_1/video_input/fight_6.mp4: 384x640 1 Fighter, 23.3ms\n",
      "video 1/1 (frame 3453/3688) /home/hatsu/coding/CapProj/TestSeg_1/video_input/fight_6.mp4: 384x640 1 Fighter, 19.4ms\n",
      "video 1/1 (frame 3454/3688) /home/hatsu/coding/CapProj/TestSeg_1/video_input/fight_6.mp4: 384x640 1 Fighter, 17.1ms\n",
      "video 1/1 (frame 3455/3688) /home/hatsu/coding/CapProj/TestSeg_1/video_input/fight_6.mp4: 384x640 1 Fighter, 17.5ms\n",
      "video 1/1 (frame 3456/3688) /home/hatsu/coding/CapProj/TestSeg_1/video_input/fight_6.mp4: 384x640 1 Fighter, 22.1ms\n",
      "video 1/1 (frame 3457/3688) /home/hatsu/coding/CapProj/TestSeg_1/video_input/fight_6.mp4: 384x640 1 Fighter, 17.4ms\n",
      "video 1/1 (frame 3458/3688) /home/hatsu/coding/CapProj/TestSeg_1/video_input/fight_6.mp4: 384x640 1 Fighter, 24.8ms\n",
      "video 1/1 (frame 3459/3688) /home/hatsu/coding/CapProj/TestSeg_1/video_input/fight_6.mp4: 384x640 1 Fighter, 18.0ms\n",
      "video 1/1 (frame 3460/3688) /home/hatsu/coding/CapProj/TestSeg_1/video_input/fight_6.mp4: 384x640 1 Fighter, 25.2ms\n",
      "video 1/1 (frame 3461/3688) /home/hatsu/coding/CapProj/TestSeg_1/video_input/fight_6.mp4: 384x640 1 Fighter, 18.4ms\n",
      "video 1/1 (frame 3462/3688) /home/hatsu/coding/CapProj/TestSeg_1/video_input/fight_6.mp4: 384x640 1 Fighter, 20.1ms\n",
      "video 1/1 (frame 3463/3688) /home/hatsu/coding/CapProj/TestSeg_1/video_input/fight_6.mp4: 384x640 1 Fighter, 19.2ms\n",
      "video 1/1 (frame 3464/3688) /home/hatsu/coding/CapProj/TestSeg_1/video_input/fight_6.mp4: 384x640 1 Fighter, 14.9ms\n",
      "video 1/1 (frame 3465/3688) /home/hatsu/coding/CapProj/TestSeg_1/video_input/fight_6.mp4: 384x640 1 Fighter, 14.7ms\n",
      "video 1/1 (frame 3466/3688) /home/hatsu/coding/CapProj/TestSeg_1/video_input/fight_6.mp4: 384x640 2 Fighters, 13.2ms\n",
      "video 1/1 (frame 3467/3688) /home/hatsu/coding/CapProj/TestSeg_1/video_input/fight_6.mp4: 384x640 2 Fighters, 13.3ms\n",
      "video 1/1 (frame 3468/3688) /home/hatsu/coding/CapProj/TestSeg_1/video_input/fight_6.mp4: 384x640 1 Fighter, 17.9ms\n",
      "video 1/1 (frame 3469/3688) /home/hatsu/coding/CapProj/TestSeg_1/video_input/fight_6.mp4: 384x640 1 Fighter, 31.6ms\n",
      "video 1/1 (frame 3470/3688) /home/hatsu/coding/CapProj/TestSeg_1/video_input/fight_6.mp4: 384x640 1 Fighter, 14.3ms\n",
      "video 1/1 (frame 3471/3688) /home/hatsu/coding/CapProj/TestSeg_1/video_input/fight_6.mp4: 384x640 1 Fighter, 14.6ms\n",
      "video 1/1 (frame 3472/3688) /home/hatsu/coding/CapProj/TestSeg_1/video_input/fight_6.mp4: 384x640 1 Fighter, 14.7ms\n",
      "video 1/1 (frame 3473/3688) /home/hatsu/coding/CapProj/TestSeg_1/video_input/fight_6.mp4: 384x640 1 Fighter, 14.7ms\n",
      "video 1/1 (frame 3474/3688) /home/hatsu/coding/CapProj/TestSeg_1/video_input/fight_6.mp4: 384x640 1 Fighter, 18.0ms\n",
      "video 1/1 (frame 3475/3688) /home/hatsu/coding/CapProj/TestSeg_1/video_input/fight_6.mp4: 384x640 1 Fighter, 12.8ms\n",
      "video 1/1 (frame 3476/3688) /home/hatsu/coding/CapProj/TestSeg_1/video_input/fight_6.mp4: 384x640 1 Fighter, 13.2ms\n",
      "video 1/1 (frame 3477/3688) /home/hatsu/coding/CapProj/TestSeg_1/video_input/fight_6.mp4: 384x640 2 Fighters, 13.3ms\n",
      "video 1/1 (frame 3478/3688) /home/hatsu/coding/CapProj/TestSeg_1/video_input/fight_6.mp4: 384x640 3 Fighters, 13.5ms\n",
      "video 1/1 (frame 3479/3688) /home/hatsu/coding/CapProj/TestSeg_1/video_input/fight_6.mp4: 384x640 2 Fighters, 14.2ms\n",
      "video 1/1 (frame 3480/3688) /home/hatsu/coding/CapProj/TestSeg_1/video_input/fight_6.mp4: 384x640 2 Fighters, 16.3ms\n",
      "video 1/1 (frame 3481/3688) /home/hatsu/coding/CapProj/TestSeg_1/video_input/fight_6.mp4: 384x640 3 Fighters, 17.4ms\n",
      "video 1/1 (frame 3482/3688) /home/hatsu/coding/CapProj/TestSeg_1/video_input/fight_6.mp4: 384x640 3 Fighters, 14.1ms\n",
      "video 1/1 (frame 3483/3688) /home/hatsu/coding/CapProj/TestSeg_1/video_input/fight_6.mp4: 384x640 2 Fighters, 13.4ms\n",
      "video 1/1 (frame 3484/3688) /home/hatsu/coding/CapProj/TestSeg_1/video_input/fight_6.mp4: 384x640 2 Fighters, 13.4ms\n",
      "video 1/1 (frame 3485/3688) /home/hatsu/coding/CapProj/TestSeg_1/video_input/fight_6.mp4: 384x640 2 Fighters, 36.0ms\n",
      "video 1/1 (frame 3486/3688) /home/hatsu/coding/CapProj/TestSeg_1/video_input/fight_6.mp4: 384x640 2 Fighters, 12.9ms\n",
      "video 1/1 (frame 3487/3688) /home/hatsu/coding/CapProj/TestSeg_1/video_input/fight_6.mp4: 384x640 2 Fighters, 13.2ms\n",
      "video 1/1 (frame 3488/3688) /home/hatsu/coding/CapProj/TestSeg_1/video_input/fight_6.mp4: 384x640 2 Fighters, 12.8ms\n",
      "video 1/1 (frame 3489/3688) /home/hatsu/coding/CapProj/TestSeg_1/video_input/fight_6.mp4: 384x640 2 Fighters, 13.3ms\n",
      "video 1/1 (frame 3490/3688) /home/hatsu/coding/CapProj/TestSeg_1/video_input/fight_6.mp4: 384x640 2 Fighters, 17.2ms\n",
      "video 1/1 (frame 3491/3688) /home/hatsu/coding/CapProj/TestSeg_1/video_input/fight_6.mp4: 384x640 2 Fighters, 13.4ms\n",
      "video 1/1 (frame 3492/3688) /home/hatsu/coding/CapProj/TestSeg_1/video_input/fight_6.mp4: 384x640 2 Fighters, 14.3ms\n",
      "video 1/1 (frame 3493/3688) /home/hatsu/coding/CapProj/TestSeg_1/video_input/fight_6.mp4: 384x640 2 Fighters, 13.5ms\n",
      "video 1/1 (frame 3494/3688) /home/hatsu/coding/CapProj/TestSeg_1/video_input/fight_6.mp4: 384x640 2 Fighters, 14.2ms\n",
      "video 1/1 (frame 3495/3688) /home/hatsu/coding/CapProj/TestSeg_1/video_input/fight_6.mp4: 384x640 2 Fighters, 16.5ms\n",
      "video 1/1 (frame 3496/3688) /home/hatsu/coding/CapProj/TestSeg_1/video_input/fight_6.mp4: 384x640 2 Fighters, 18.7ms\n",
      "video 1/1 (frame 3497/3688) /home/hatsu/coding/CapProj/TestSeg_1/video_input/fight_6.mp4: 384x640 2 Fighters, 12.5ms\n",
      "video 1/1 (frame 3498/3688) /home/hatsu/coding/CapProj/TestSeg_1/video_input/fight_6.mp4: 384x640 2 Fighters, 14.2ms\n",
      "video 1/1 (frame 3499/3688) /home/hatsu/coding/CapProj/TestSeg_1/video_input/fight_6.mp4: 384x640 2 Fighters, 15.7ms\n",
      "video 1/1 (frame 3500/3688) /home/hatsu/coding/CapProj/TestSeg_1/video_input/fight_6.mp4: 384x640 2 Fighters, 24.0ms\n",
      "video 1/1 (frame 3501/3688) /home/hatsu/coding/CapProj/TestSeg_1/video_input/fight_6.mp4: 384x640 2 Fighters, 16.2ms\n",
      "video 1/1 (frame 3502/3688) /home/hatsu/coding/CapProj/TestSeg_1/video_input/fight_6.mp4: 384x640 2 Fighters, 14.3ms\n",
      "video 1/1 (frame 3503/3688) /home/hatsu/coding/CapProj/TestSeg_1/video_input/fight_6.mp4: 384x640 2 Fighters, 45.9ms\n",
      "video 1/1 (frame 3504/3688) /home/hatsu/coding/CapProj/TestSeg_1/video_input/fight_6.mp4: 384x640 2 Fighters, 15.7ms\n",
      "video 1/1 (frame 3505/3688) /home/hatsu/coding/CapProj/TestSeg_1/video_input/fight_6.mp4: 384x640 2 Fighters, 19.7ms\n",
      "video 1/1 (frame 3506/3688) /home/hatsu/coding/CapProj/TestSeg_1/video_input/fight_6.mp4: 384x640 2 Fighters, 15.4ms\n",
      "video 1/1 (frame 3507/3688) /home/hatsu/coding/CapProj/TestSeg_1/video_input/fight_6.mp4: 384x640 2 Fighters, 18.3ms\n",
      "video 1/1 (frame 3508/3688) /home/hatsu/coding/CapProj/TestSeg_1/video_input/fight_6.mp4: 384x640 2 Fighters, 15.7ms\n",
      "video 1/1 (frame 3509/3688) /home/hatsu/coding/CapProj/TestSeg_1/video_input/fight_6.mp4: 384x640 2 Fighters, 13.6ms\n",
      "video 1/1 (frame 3510/3688) /home/hatsu/coding/CapProj/TestSeg_1/video_input/fight_6.mp4: 384x640 2 Fighters, 15.9ms\n",
      "video 1/1 (frame 3511/3688) /home/hatsu/coding/CapProj/TestSeg_1/video_input/fight_6.mp4: 384x640 2 Fighters, 13.8ms\n",
      "video 1/1 (frame 3512/3688) /home/hatsu/coding/CapProj/TestSeg_1/video_input/fight_6.mp4: 384x640 2 Fighters, 18.0ms\n",
      "video 1/1 (frame 3513/3688) /home/hatsu/coding/CapProj/TestSeg_1/video_input/fight_6.mp4: 384x640 2 Fighters, 32.9ms\n",
      "video 1/1 (frame 3514/3688) /home/hatsu/coding/CapProj/TestSeg_1/video_input/fight_6.mp4: 384x640 2 Fighters, 22.9ms\n",
      "video 1/1 (frame 3515/3688) /home/hatsu/coding/CapProj/TestSeg_1/video_input/fight_6.mp4: 384x640 2 Fighters, 20.8ms\n",
      "video 1/1 (frame 3516/3688) /home/hatsu/coding/CapProj/TestSeg_1/video_input/fight_6.mp4: 384x640 2 Fighters, 25.5ms\n",
      "video 1/1 (frame 3517/3688) /home/hatsu/coding/CapProj/TestSeg_1/video_input/fight_6.mp4: 384x640 2 Fighters, 17.9ms\n",
      "video 1/1 (frame 3518/3688) /home/hatsu/coding/CapProj/TestSeg_1/video_input/fight_6.mp4: 384x640 2 Fighters, 20.5ms\n",
      "video 1/1 (frame 3519/3688) /home/hatsu/coding/CapProj/TestSeg_1/video_input/fight_6.mp4: 384x640 2 Fighters, 27.9ms\n",
      "video 1/1 (frame 3520/3688) /home/hatsu/coding/CapProj/TestSeg_1/video_input/fight_6.mp4: 384x640 2 Fighters, 19.6ms\n",
      "video 1/1 (frame 3521/3688) /home/hatsu/coding/CapProj/TestSeg_1/video_input/fight_6.mp4: 384x640 2 Fighters, 18.0ms\n",
      "video 1/1 (frame 3522/3688) /home/hatsu/coding/CapProj/TestSeg_1/video_input/fight_6.mp4: 384x640 2 Fighters, 42.9ms\n",
      "video 1/1 (frame 3523/3688) /home/hatsu/coding/CapProj/TestSeg_1/video_input/fight_6.mp4: 384x640 2 Fighters, 12.6ms\n",
      "video 1/1 (frame 3524/3688) /home/hatsu/coding/CapProj/TestSeg_1/video_input/fight_6.mp4: 384x640 2 Fighters, 14.2ms\n",
      "video 1/1 (frame 3525/3688) /home/hatsu/coding/CapProj/TestSeg_1/video_input/fight_6.mp4: 384x640 2 Fighters, 13.0ms\n",
      "video 1/1 (frame 3526/3688) /home/hatsu/coding/CapProj/TestSeg_1/video_input/fight_6.mp4: 384x640 2 Fighters, 13.2ms\n",
      "video 1/1 (frame 3527/3688) /home/hatsu/coding/CapProj/TestSeg_1/video_input/fight_6.mp4: 384x640 2 Fighters, 18.8ms\n",
      "video 1/1 (frame 3528/3688) /home/hatsu/coding/CapProj/TestSeg_1/video_input/fight_6.mp4: 384x640 2 Fighters, 14.0ms\n",
      "video 1/1 (frame 3529/3688) /home/hatsu/coding/CapProj/TestSeg_1/video_input/fight_6.mp4: 384x640 2 Fighters, 12.9ms\n",
      "video 1/1 (frame 3530/3688) /home/hatsu/coding/CapProj/TestSeg_1/video_input/fight_6.mp4: 384x640 2 Fighters, 13.8ms\n",
      "video 1/1 (frame 3531/3688) /home/hatsu/coding/CapProj/TestSeg_1/video_input/fight_6.mp4: 384x640 2 Fighters, 14.2ms\n",
      "video 1/1 (frame 3532/3688) /home/hatsu/coding/CapProj/TestSeg_1/video_input/fight_6.mp4: 384x640 2 Fighters, 17.0ms\n",
      "video 1/1 (frame 3533/3688) /home/hatsu/coding/CapProj/TestSeg_1/video_input/fight_6.mp4: 384x640 2 Fighters, 16.0ms\n",
      "video 1/1 (frame 3534/3688) /home/hatsu/coding/CapProj/TestSeg_1/video_input/fight_6.mp4: 384x640 2 Fighters, 15.0ms\n",
      "video 1/1 (frame 3535/3688) /home/hatsu/coding/CapProj/TestSeg_1/video_input/fight_6.mp4: 384x640 2 Fighters, 17.1ms\n",
      "video 1/1 (frame 3536/3688) /home/hatsu/coding/CapProj/TestSeg_1/video_input/fight_6.mp4: 384x640 2 Fighters, 21.6ms\n",
      "video 1/1 (frame 3537/3688) /home/hatsu/coding/CapProj/TestSeg_1/video_input/fight_6.mp4: 384x640 2 Fighters, 33.5ms\n",
      "video 1/1 (frame 3538/3688) /home/hatsu/coding/CapProj/TestSeg_1/video_input/fight_6.mp4: 384x640 2 Fighters, 16.4ms\n",
      "video 1/1 (frame 3539/3688) /home/hatsu/coding/CapProj/TestSeg_1/video_input/fight_6.mp4: 384x640 2 Fighters, 15.9ms\n",
      "video 1/1 (frame 3540/3688) /home/hatsu/coding/CapProj/TestSeg_1/video_input/fight_6.mp4: 384x640 2 Fighters, 13.9ms\n",
      "video 1/1 (frame 3541/3688) /home/hatsu/coding/CapProj/TestSeg_1/video_input/fight_6.mp4: 384x640 2 Fighters, 14.9ms\n",
      "video 1/1 (frame 3542/3688) /home/hatsu/coding/CapProj/TestSeg_1/video_input/fight_6.mp4: 384x640 2 Fighters, 13.2ms\n",
      "video 1/1 (frame 3543/3688) /home/hatsu/coding/CapProj/TestSeg_1/video_input/fight_6.mp4: 384x640 2 Fighters, 32.5ms\n",
      "video 1/1 (frame 3544/3688) /home/hatsu/coding/CapProj/TestSeg_1/video_input/fight_6.mp4: 384x640 2 Fighters, 14.0ms\n",
      "video 1/1 (frame 3545/3688) /home/hatsu/coding/CapProj/TestSeg_1/video_input/fight_6.mp4: 384x640 2 Fighters, 13.8ms\n",
      "video 1/1 (frame 3546/3688) /home/hatsu/coding/CapProj/TestSeg_1/video_input/fight_6.mp4: 384x640 2 Fighters, 14.5ms\n",
      "video 1/1 (frame 3547/3688) /home/hatsu/coding/CapProj/TestSeg_1/video_input/fight_6.mp4: 384x640 2 Fighters, 13.5ms\n",
      "video 1/1 (frame 3548/3688) /home/hatsu/coding/CapProj/TestSeg_1/video_input/fight_6.mp4: 384x640 2 Fighters, 14.0ms\n",
      "video 1/1 (frame 3549/3688) /home/hatsu/coding/CapProj/TestSeg_1/video_input/fight_6.mp4: 384x640 2 Fighters, 16.7ms\n",
      "video 1/1 (frame 3550/3688) /home/hatsu/coding/CapProj/TestSeg_1/video_input/fight_6.mp4: 384x640 2 Fighters, 14.3ms\n",
      "video 1/1 (frame 3551/3688) /home/hatsu/coding/CapProj/TestSeg_1/video_input/fight_6.mp4: 384x640 2 Fighters, 13.1ms\n",
      "video 1/1 (frame 3552/3688) /home/hatsu/coding/CapProj/TestSeg_1/video_input/fight_6.mp4: 384x640 2 Fighters, 13.1ms\n",
      "video 1/1 (frame 3553/3688) /home/hatsu/coding/CapProj/TestSeg_1/video_input/fight_6.mp4: 384x640 2 Fighters, 22.6ms\n",
      "video 1/1 (frame 3554/3688) /home/hatsu/coding/CapProj/TestSeg_1/video_input/fight_6.mp4: 384x640 2 Fighters, 23.9ms\n",
      "video 1/1 (frame 3555/3688) /home/hatsu/coding/CapProj/TestSeg_1/video_input/fight_6.mp4: 384x640 2 Fighters, 20.4ms\n",
      "video 1/1 (frame 3556/3688) /home/hatsu/coding/CapProj/TestSeg_1/video_input/fight_6.mp4: 384x640 2 Fighters, 33.1ms\n",
      "video 1/1 (frame 3557/3688) /home/hatsu/coding/CapProj/TestSeg_1/video_input/fight_6.mp4: 384x640 2 Fighters, 20.9ms\n",
      "video 1/1 (frame 3558/3688) /home/hatsu/coding/CapProj/TestSeg_1/video_input/fight_6.mp4: 384x640 2 Fighters, 19.6ms\n",
      "video 1/1 (frame 3559/3688) /home/hatsu/coding/CapProj/TestSeg_1/video_input/fight_6.mp4: 384x640 2 Fighters, 17.3ms\n",
      "video 1/1 (frame 3560/3688) /home/hatsu/coding/CapProj/TestSeg_1/video_input/fight_6.mp4: 384x640 2 Fighters, 22.4ms\n",
      "video 1/1 (frame 3561/3688) /home/hatsu/coding/CapProj/TestSeg_1/video_input/fight_6.mp4: 384x640 2 Fighters, 22.4ms\n",
      "video 1/1 (frame 3562/3688) /home/hatsu/coding/CapProj/TestSeg_1/video_input/fight_6.mp4: 384x640 2 Fighters, 12.8ms\n",
      "video 1/1 (frame 3563/3688) /home/hatsu/coding/CapProj/TestSeg_1/video_input/fight_6.mp4: 384x640 2 Fighters, 23.2ms\n",
      "video 1/1 (frame 3564/3688) /home/hatsu/coding/CapProj/TestSeg_1/video_input/fight_6.mp4: 384x640 2 Fighters, 14.8ms\n",
      "video 1/1 (frame 3565/3688) /home/hatsu/coding/CapProj/TestSeg_1/video_input/fight_6.mp4: 384x640 1 Fighter, 12.0ms\n",
      "video 1/1 (frame 3566/3688) /home/hatsu/coding/CapProj/TestSeg_1/video_input/fight_6.mp4: 384x640 1 Fighter, 18.9ms\n",
      "video 1/1 (frame 3567/3688) /home/hatsu/coding/CapProj/TestSeg_1/video_input/fight_6.mp4: 384x640 1 Fighter, 13.5ms\n",
      "video 1/1 (frame 3568/3688) /home/hatsu/coding/CapProj/TestSeg_1/video_input/fight_6.mp4: 384x640 1 Fighter, 13.2ms\n",
      "video 1/1 (frame 3569/3688) /home/hatsu/coding/CapProj/TestSeg_1/video_input/fight_6.mp4: 384x640 1 Fighter, 14.8ms\n",
      "video 1/1 (frame 3570/3688) /home/hatsu/coding/CapProj/TestSeg_1/video_input/fight_6.mp4: 384x640 1 Fighter, 20.4ms\n",
      "video 1/1 (frame 3571/3688) /home/hatsu/coding/CapProj/TestSeg_1/video_input/fight_6.mp4: 384x640 1 Fighter, 18.4ms\n",
      "video 1/1 (frame 3572/3688) /home/hatsu/coding/CapProj/TestSeg_1/video_input/fight_6.mp4: 384x640 1 Fighter, 14.9ms\n",
      "video 1/1 (frame 3573/3688) /home/hatsu/coding/CapProj/TestSeg_1/video_input/fight_6.mp4: 384x640 1 Fighter, 16.9ms\n",
      "video 1/1 (frame 3574/3688) /home/hatsu/coding/CapProj/TestSeg_1/video_input/fight_6.mp4: 384x640 1 Fighter, 12.7ms\n",
      "video 1/1 (frame 3575/3688) /home/hatsu/coding/CapProj/TestSeg_1/video_input/fight_6.mp4: 384x640 1 Fighter, 26.6ms\n",
      "video 1/1 (frame 3576/3688) /home/hatsu/coding/CapProj/TestSeg_1/video_input/fight_6.mp4: 384x640 1 Fighter, 19.2ms\n",
      "video 1/1 (frame 3577/3688) /home/hatsu/coding/CapProj/TestSeg_1/video_input/fight_6.mp4: 384x640 1 Fighter, 13.8ms\n",
      "video 1/1 (frame 3578/3688) /home/hatsu/coding/CapProj/TestSeg_1/video_input/fight_6.mp4: 384x640 1 Fighter, 14.9ms\n",
      "video 1/1 (frame 3579/3688) /home/hatsu/coding/CapProj/TestSeg_1/video_input/fight_6.mp4: 384x640 1 Fighter, 14.0ms\n",
      "video 1/1 (frame 3580/3688) /home/hatsu/coding/CapProj/TestSeg_1/video_input/fight_6.mp4: 384x640 2 Fighters, 14.7ms\n",
      "video 1/1 (frame 3581/3688) /home/hatsu/coding/CapProj/TestSeg_1/video_input/fight_6.mp4: 384x640 1 Fighter, 17.6ms\n",
      "video 1/1 (frame 3582/3688) /home/hatsu/coding/CapProj/TestSeg_1/video_input/fight_6.mp4: 384x640 1 Fighter, 13.6ms\n",
      "video 1/1 (frame 3583/3688) /home/hatsu/coding/CapProj/TestSeg_1/video_input/fight_6.mp4: 384x640 2 Fighters, 14.0ms\n",
      "video 1/1 (frame 3584/3688) /home/hatsu/coding/CapProj/TestSeg_1/video_input/fight_6.mp4: 384x640 2 Fighters, 13.1ms\n",
      "video 1/1 (frame 3585/3688) /home/hatsu/coding/CapProj/TestSeg_1/video_input/fight_6.mp4: 384x640 2 Fighters, 12.6ms\n",
      "video 1/1 (frame 3586/3688) /home/hatsu/coding/CapProj/TestSeg_1/video_input/fight_6.mp4: 384x640 2 Fighters, 19.0ms\n",
      "video 1/1 (frame 3587/3688) /home/hatsu/coding/CapProj/TestSeg_1/video_input/fight_6.mp4: 384x640 2 Fighters, 12.9ms\n",
      "video 1/1 (frame 3588/3688) /home/hatsu/coding/CapProj/TestSeg_1/video_input/fight_6.mp4: 384x640 2 Fighters, 17.2ms\n",
      "video 1/1 (frame 3589/3688) /home/hatsu/coding/CapProj/TestSeg_1/video_input/fight_6.mp4: 384x640 2 Fighters, 15.3ms\n",
      "video 1/1 (frame 3590/3688) /home/hatsu/coding/CapProj/TestSeg_1/video_input/fight_6.mp4: 384x640 2 Fighters, 22.9ms\n",
      "video 1/1 (frame 3591/3688) /home/hatsu/coding/CapProj/TestSeg_1/video_input/fight_6.mp4: 384x640 2 Fighters, 19.0ms\n",
      "video 1/1 (frame 3592/3688) /home/hatsu/coding/CapProj/TestSeg_1/video_input/fight_6.mp4: 384x640 2 Fighters, 14.5ms\n",
      "video 1/1 (frame 3593/3688) /home/hatsu/coding/CapProj/TestSeg_1/video_input/fight_6.mp4: 384x640 1 Fighter, 14.6ms\n",
      "video 1/1 (frame 3594/3688) /home/hatsu/coding/CapProj/TestSeg_1/video_input/fight_6.mp4: 384x640 1 Fighter, 19.7ms\n",
      "video 1/1 (frame 3595/3688) /home/hatsu/coding/CapProj/TestSeg_1/video_input/fight_6.mp4: 384x640 1 Fighter, 17.9ms\n",
      "video 1/1 (frame 3596/3688) /home/hatsu/coding/CapProj/TestSeg_1/video_input/fight_6.mp4: 384x640 1 Fighter, 23.4ms\n",
      "video 1/1 (frame 3597/3688) /home/hatsu/coding/CapProj/TestSeg_1/video_input/fight_6.mp4: 384x640 1 Fighter, 25.7ms\n",
      "video 1/1 (frame 3598/3688) /home/hatsu/coding/CapProj/TestSeg_1/video_input/fight_6.mp4: 384x640 1 Fighter, 18.0ms\n",
      "video 1/1 (frame 3599/3688) /home/hatsu/coding/CapProj/TestSeg_1/video_input/fight_6.mp4: 384x640 1 Fighter, 23.6ms\n",
      "video 1/1 (frame 3600/3688) /home/hatsu/coding/CapProj/TestSeg_1/video_input/fight_6.mp4: 384x640 1 Fighter, 20.3ms\n",
      "video 1/1 (frame 3601/3688) /home/hatsu/coding/CapProj/TestSeg_1/video_input/fight_6.mp4: 384x640 1 Fighter, 37.6ms\n",
      "video 1/1 (frame 3602/3688) /home/hatsu/coding/CapProj/TestSeg_1/video_input/fight_6.mp4: 384x640 1 Fighter, 21.3ms\n",
      "video 1/1 (frame 3603/3688) /home/hatsu/coding/CapProj/TestSeg_1/video_input/fight_6.mp4: 384x640 1 Fighter, 19.7ms\n",
      "video 1/1 (frame 3604/3688) /home/hatsu/coding/CapProj/TestSeg_1/video_input/fight_6.mp4: 384x640 1 Fighter, 25.6ms\n",
      "video 1/1 (frame 3605/3688) /home/hatsu/coding/CapProj/TestSeg_1/video_input/fight_6.mp4: 384x640 1 Fighter, 19.6ms\n",
      "video 1/1 (frame 3606/3688) /home/hatsu/coding/CapProj/TestSeg_1/video_input/fight_6.mp4: 384x640 2 Fighters, 19.3ms\n",
      "video 1/1 (frame 3607/3688) /home/hatsu/coding/CapProj/TestSeg_1/video_input/fight_6.mp4: 384x640 1 Fighter, 20.1ms\n",
      "video 1/1 (frame 3608/3688) /home/hatsu/coding/CapProj/TestSeg_1/video_input/fight_6.mp4: 384x640 2 Fighters, 18.7ms\n",
      "video 1/1 (frame 3609/3688) /home/hatsu/coding/CapProj/TestSeg_1/video_input/fight_6.mp4: 384x640 2 Fighters, 14.4ms\n",
      "video 1/1 (frame 3610/3688) /home/hatsu/coding/CapProj/TestSeg_1/video_input/fight_6.mp4: 384x640 2 Fighters, 18.9ms\n",
      "video 1/1 (frame 3611/3688) /home/hatsu/coding/CapProj/TestSeg_1/video_input/fight_6.mp4: 384x640 2 Fighters, 14.9ms\n",
      "video 1/1 (frame 3612/3688) /home/hatsu/coding/CapProj/TestSeg_1/video_input/fight_6.mp4: 384x640 1 Fighter, 13.4ms\n",
      "video 1/1 (frame 3613/3688) /home/hatsu/coding/CapProj/TestSeg_1/video_input/fight_6.mp4: 384x640 2 Fighters, 12.8ms\n",
      "video 1/1 (frame 3614/3688) /home/hatsu/coding/CapProj/TestSeg_1/video_input/fight_6.mp4: 384x640 2 Fighters, 17.2ms\n",
      "video 1/1 (frame 3615/3688) /home/hatsu/coding/CapProj/TestSeg_1/video_input/fight_6.mp4: 384x640 2 Fighters, 29.9ms\n",
      "video 1/1 (frame 3616/3688) /home/hatsu/coding/CapProj/TestSeg_1/video_input/fight_6.mp4: 384x640 3 Fighters, 16.6ms\n",
      "video 1/1 (frame 3617/3688) /home/hatsu/coding/CapProj/TestSeg_1/video_input/fight_6.mp4: 384x640 2 Fighters, 13.4ms\n",
      "video 1/1 (frame 3618/3688) /home/hatsu/coding/CapProj/TestSeg_1/video_input/fight_6.mp4: 384x640 2 Fighters, 13.0ms\n",
      "video 1/1 (frame 3619/3688) /home/hatsu/coding/CapProj/TestSeg_1/video_input/fight_6.mp4: 384x640 2 Fighters, 14.1ms\n",
      "video 1/1 (frame 3620/3688) /home/hatsu/coding/CapProj/TestSeg_1/video_input/fight_6.mp4: 384x640 1 Fighter, 35.1ms\n",
      "video 1/1 (frame 3621/3688) /home/hatsu/coding/CapProj/TestSeg_1/video_input/fight_6.mp4: 384x640 1 Fighter, 20.1ms\n",
      "video 1/1 (frame 3622/3688) /home/hatsu/coding/CapProj/TestSeg_1/video_input/fight_6.mp4: 384x640 2 Fighters, 17.1ms\n",
      "video 1/1 (frame 3623/3688) /home/hatsu/coding/CapProj/TestSeg_1/video_input/fight_6.mp4: 384x640 2 Fighters, 14.5ms\n",
      "video 1/1 (frame 3624/3688) /home/hatsu/coding/CapProj/TestSeg_1/video_input/fight_6.mp4: 384x640 2 Fighters, 34.4ms\n",
      "video 1/1 (frame 3625/3688) /home/hatsu/coding/CapProj/TestSeg_1/video_input/fight_6.mp4: 384x640 1 Fighter, 18.1ms\n",
      "video 1/1 (frame 3626/3688) /home/hatsu/coding/CapProj/TestSeg_1/video_input/fight_6.mp4: 384x640 1 Fighter, 13.7ms\n",
      "video 1/1 (frame 3627/3688) /home/hatsu/coding/CapProj/TestSeg_1/video_input/fight_6.mp4: 384x640 1 Fighter, 13.5ms\n",
      "video 1/1 (frame 3628/3688) /home/hatsu/coding/CapProj/TestSeg_1/video_input/fight_6.mp4: 384x640 1 Fighter, 12.4ms\n",
      "video 1/1 (frame 3629/3688) /home/hatsu/coding/CapProj/TestSeg_1/video_input/fight_6.mp4: 384x640 1 Fighter, 13.5ms\n",
      "video 1/1 (frame 3630/3688) /home/hatsu/coding/CapProj/TestSeg_1/video_input/fight_6.mp4: 384x640 1 Fighter, 20.7ms\n",
      "video 1/1 (frame 3631/3688) /home/hatsu/coding/CapProj/TestSeg_1/video_input/fight_6.mp4: 384x640 1 Fighter, 12.6ms\n",
      "video 1/1 (frame 3632/3688) /home/hatsu/coding/CapProj/TestSeg_1/video_input/fight_6.mp4: 384x640 1 Fighter, 13.5ms\n",
      "video 1/1 (frame 3633/3688) /home/hatsu/coding/CapProj/TestSeg_1/video_input/fight_6.mp4: 384x640 1 Fighter, 11.5ms\n",
      "video 1/1 (frame 3634/3688) /home/hatsu/coding/CapProj/TestSeg_1/video_input/fight_6.mp4: 384x640 1 Fighter, 14.5ms\n",
      "video 1/1 (frame 3635/3688) /home/hatsu/coding/CapProj/TestSeg_1/video_input/fight_6.mp4: 384x640 1 Fighter, 13.6ms\n",
      "video 1/1 (frame 3636/3688) /home/hatsu/coding/CapProj/TestSeg_1/video_input/fight_6.mp4: 384x640 2 Fighters, 18.7ms\n",
      "video 1/1 (frame 3637/3688) /home/hatsu/coding/CapProj/TestSeg_1/video_input/fight_6.mp4: 384x640 2 Fighters, 13.4ms\n",
      "video 1/1 (frame 3638/3688) /home/hatsu/coding/CapProj/TestSeg_1/video_input/fight_6.mp4: 384x640 2 Fighters, 13.6ms\n",
      "video 1/1 (frame 3639/3688) /home/hatsu/coding/CapProj/TestSeg_1/video_input/fight_6.mp4: 384x640 2 Fighters, 13.6ms\n",
      "video 1/1 (frame 3640/3688) /home/hatsu/coding/CapProj/TestSeg_1/video_input/fight_6.mp4: 384x640 2 Fighters, 13.7ms\n",
      "video 1/1 (frame 3641/3688) /home/hatsu/coding/CapProj/TestSeg_1/video_input/fight_6.mp4: 384x640 1 Fighter, 20.3ms\n",
      "video 1/1 (frame 3642/3688) /home/hatsu/coding/CapProj/TestSeg_1/video_input/fight_6.mp4: 384x640 1 Fighter, 16.5ms\n",
      "video 1/1 (frame 3643/3688) /home/hatsu/coding/CapProj/TestSeg_1/video_input/fight_6.mp4: 384x640 1 Fighter, 29.5ms\n",
      "video 1/1 (frame 3644/3688) /home/hatsu/coding/CapProj/TestSeg_1/video_input/fight_6.mp4: 384x640 2 Fighters, 37.4ms\n",
      "video 1/1 (frame 3645/3688) /home/hatsu/coding/CapProj/TestSeg_1/video_input/fight_6.mp4: 384x640 2 Fighters, 17.3ms\n",
      "video 1/1 (frame 3646/3688) /home/hatsu/coding/CapProj/TestSeg_1/video_input/fight_6.mp4: 384x640 3 Fighters, 29.6ms\n",
      "video 1/1 (frame 3647/3688) /home/hatsu/coding/CapProj/TestSeg_1/video_input/fight_6.mp4: 384x640 3 Fighters, 33.7ms\n",
      "video 1/1 (frame 3648/3688) /home/hatsu/coding/CapProj/TestSeg_1/video_input/fight_6.mp4: 384x640 3 Fighters, 15.9ms\n",
      "video 1/1 (frame 3649/3688) /home/hatsu/coding/CapProj/TestSeg_1/video_input/fight_6.mp4: 384x640 3 Fighters, 13.9ms\n",
      "video 1/1 (frame 3650/3688) /home/hatsu/coding/CapProj/TestSeg_1/video_input/fight_6.mp4: 384x640 3 Fighters, 15.6ms\n",
      "video 1/1 (frame 3651/3688) /home/hatsu/coding/CapProj/TestSeg_1/video_input/fight_6.mp4: 384x640 3 Fighters, 17.9ms\n",
      "video 1/1 (frame 3652/3688) /home/hatsu/coding/CapProj/TestSeg_1/video_input/fight_6.mp4: 384x640 3 Fighters, 19.1ms\n",
      "video 1/1 (frame 3653/3688) /home/hatsu/coding/CapProj/TestSeg_1/video_input/fight_6.mp4: 384x640 2 Fighters, 27.2ms\n",
      "video 1/1 (frame 3654/3688) /home/hatsu/coding/CapProj/TestSeg_1/video_input/fight_6.mp4: 384x640 2 Fighters, 15.4ms\n",
      "video 1/1 (frame 3655/3688) /home/hatsu/coding/CapProj/TestSeg_1/video_input/fight_6.mp4: 384x640 2 Fighters, 12.7ms\n",
      "video 1/1 (frame 3656/3688) /home/hatsu/coding/CapProj/TestSeg_1/video_input/fight_6.mp4: 384x640 2 Fighters, 14.1ms\n",
      "video 1/1 (frame 3657/3688) /home/hatsu/coding/CapProj/TestSeg_1/video_input/fight_6.mp4: 384x640 2 Fighters, 19.8ms\n",
      "video 1/1 (frame 3658/3688) /home/hatsu/coding/CapProj/TestSeg_1/video_input/fight_6.mp4: 384x640 2 Fighters, 13.8ms\n",
      "video 1/1 (frame 3659/3688) /home/hatsu/coding/CapProj/TestSeg_1/video_input/fight_6.mp4: 384x640 2 Fighters, 14.1ms\n",
      "video 1/1 (frame 3660/3688) /home/hatsu/coding/CapProj/TestSeg_1/video_input/fight_6.mp4: 384x640 2 Fighters, 17.6ms\n",
      "video 1/1 (frame 3661/3688) /home/hatsu/coding/CapProj/TestSeg_1/video_input/fight_6.mp4: 384x640 2 Fighters, 14.3ms\n",
      "video 1/1 (frame 3662/3688) /home/hatsu/coding/CapProj/TestSeg_1/video_input/fight_6.mp4: 384x640 2 Fighters, 32.3ms\n",
      "video 1/1 (frame 3663/3688) /home/hatsu/coding/CapProj/TestSeg_1/video_input/fight_6.mp4: 384x640 1 Fighter, 13.9ms\n",
      "video 1/1 (frame 3664/3688) /home/hatsu/coding/CapProj/TestSeg_1/video_input/fight_6.mp4: 384x640 1 Fighter, 14.2ms\n",
      "video 1/1 (frame 3665/3688) /home/hatsu/coding/CapProj/TestSeg_1/video_input/fight_6.mp4: 384x640 1 Fighter, 16.1ms\n",
      "video 1/1 (frame 3666/3688) /home/hatsu/coding/CapProj/TestSeg_1/video_input/fight_6.mp4: 384x640 1 Fighter, 12.7ms\n",
      "video 1/1 (frame 3667/3688) /home/hatsu/coding/CapProj/TestSeg_1/video_input/fight_6.mp4: 384x640 1 Fighter, 32.7ms\n",
      "video 1/1 (frame 3668/3688) /home/hatsu/coding/CapProj/TestSeg_1/video_input/fight_6.mp4: 384x640 1 Fighter, 14.7ms\n",
      "video 1/1 (frame 3669/3688) /home/hatsu/coding/CapProj/TestSeg_1/video_input/fight_6.mp4: 384x640 1 Fighter, 14.8ms\n",
      "video 1/1 (frame 3670/3688) /home/hatsu/coding/CapProj/TestSeg_1/video_input/fight_6.mp4: 384x640 1 Fighter, 13.3ms\n",
      "video 1/1 (frame 3671/3688) /home/hatsu/coding/CapProj/TestSeg_1/video_input/fight_6.mp4: 384x640 1 Fighter, 13.6ms\n",
      "video 1/1 (frame 3672/3688) /home/hatsu/coding/CapProj/TestSeg_1/video_input/fight_6.mp4: 384x640 2 Fighters, 13.8ms\n",
      "video 1/1 (frame 3673/3688) /home/hatsu/coding/CapProj/TestSeg_1/video_input/fight_6.mp4: 384x640 2 Fighters, 38.5ms\n",
      "video 1/1 (frame 3674/3688) /home/hatsu/coding/CapProj/TestSeg_1/video_input/fight_6.mp4: 384x640 2 Fighters, 14.0ms\n",
      "video 1/1 (frame 3675/3688) /home/hatsu/coding/CapProj/TestSeg_1/video_input/fight_6.mp4: 384x640 2 Fighters, 13.9ms\n",
      "video 1/1 (frame 3676/3688) /home/hatsu/coding/CapProj/TestSeg_1/video_input/fight_6.mp4: 384x640 2 Fighters, 14.0ms\n",
      "video 1/1 (frame 3677/3688) /home/hatsu/coding/CapProj/TestSeg_1/video_input/fight_6.mp4: 384x640 2 Fighters, 13.2ms\n",
      "video 1/1 (frame 3678/3688) /home/hatsu/coding/CapProj/TestSeg_1/video_input/fight_6.mp4: 384x640 2 Fighters, 23.0ms\n",
      "video 1/1 (frame 3679/3688) /home/hatsu/coding/CapProj/TestSeg_1/video_input/fight_6.mp4: 384x640 2 Fighters, 13.6ms\n",
      "video 1/1 (frame 3680/3688) /home/hatsu/coding/CapProj/TestSeg_1/video_input/fight_6.mp4: 384x640 2 Fighters, 13.9ms\n",
      "video 1/1 (frame 3681/3688) /home/hatsu/coding/CapProj/TestSeg_1/video_input/fight_6.mp4: 384x640 2 Fighters, 17.6ms\n",
      "video 1/1 (frame 3682/3688) /home/hatsu/coding/CapProj/TestSeg_1/video_input/fight_6.mp4: 384x640 2 Fighters, 28.3ms\n",
      "video 1/1 (frame 3683/3688) /home/hatsu/coding/CapProj/TestSeg_1/video_input/fight_6.mp4: 384x640 2 Fighters, 13.0ms\n",
      "video 1/1 (frame 3684/3688) /home/hatsu/coding/CapProj/TestSeg_1/video_input/fight_6.mp4: 384x640 2 Fighters, 20.6ms\n",
      "video 1/1 (frame 3685/3688) /home/hatsu/coding/CapProj/TestSeg_1/video_input/fight_6.mp4: 384x640 2 Fighters, 15.9ms\n",
      "video 1/1 (frame 3686/3688) /home/hatsu/coding/CapProj/TestSeg_1/video_input/fight_6.mp4: 384x640 1 Fighter, 15.7ms\n",
      "video 1/1 (frame 3687/3688) /home/hatsu/coding/CapProj/TestSeg_1/video_input/fight_6.mp4: 384x640 1 Fighter, 17.5ms\n",
      "video 1/1 (frame 3688/3688) /home/hatsu/coding/CapProj/TestSeg_1/video_input/fight_6.mp4: 384x640 1 Fighter, 17.7ms\n",
      "Speed: 2.4ms preprocess, 18.2ms inference, 2.8ms postprocess per image at shape (1, 3, 384, 640)\n"
     ]
    }
   ],
   "source": [
    "for result in results:\n",
    "    frame = result.plot()\n",
    "    \n",
    "    out.write(frame)\n",
    "\n",
    "    cv2.imshow(\"Fatality!!!\", frame)\n",
    "\n",
    "    if cv2.waitKey(1) & 0xFF == ord('q'):\n",
    "        break\n",
    "\n",
    "cv2.destroyAllWindows()"
   ]
  },
  {
   "cell_type": "markdown",
   "metadata": {},
   "source": [
    "Image Inference"
   ]
  },
  {
   "cell_type": "code",
   "execution_count": 5,
   "metadata": {},
   "outputs": [
    {
     "name": "stdout",
     "output_type": "stream",
     "text": [
      "\n",
      "image 1/1 /home/hatsu/coding/CapProj/TestSeg_1/image_input/frame_000003.PNG: 640x640 2 Fighters, 17.9ms\n",
      "Speed: 1.7ms preprocess, 17.9ms inference, 7.2ms postprocess per image at shape (1, 3, 640, 640)\n",
      "[ultralytics.engine.results.Results object with attributes:\n",
      "\n",
      "boxes: ultralytics.engine.results.Boxes object\n",
      "keypoints: None\n",
      "masks: ultralytics.engine.results.Masks object\n",
      "names: {0: 'Fighter'}\n",
      "obb: None\n",
      "orig_img: array([[[0, 0, 0],\n",
      "        [0, 0, 0],\n",
      "        [0, 0, 0],\n",
      "        ...,\n",
      "        [0, 0, 0],\n",
      "        [0, 0, 0],\n",
      "        [0, 0, 0]],\n",
      "\n",
      "       [[0, 0, 0],\n",
      "        [0, 0, 0],\n",
      "        [0, 0, 0],\n",
      "        ...,\n",
      "        [0, 0, 0],\n",
      "        [0, 0, 0],\n",
      "        [0, 0, 0]],\n",
      "\n",
      "       [[0, 0, 0],\n",
      "        [0, 0, 0],\n",
      "        [0, 0, 0],\n",
      "        ...,\n",
      "        [0, 0, 0],\n",
      "        [0, 0, 0],\n",
      "        [0, 0, 0]],\n",
      "\n",
      "       ...,\n",
      "\n",
      "       [[0, 0, 0],\n",
      "        [0, 0, 0],\n",
      "        [0, 0, 0],\n",
      "        ...,\n",
      "        [0, 0, 0],\n",
      "        [0, 0, 0],\n",
      "        [0, 0, 0]],\n",
      "\n",
      "       [[0, 0, 0],\n",
      "        [0, 0, 0],\n",
      "        [0, 0, 0],\n",
      "        ...,\n",
      "        [0, 0, 0],\n",
      "        [0, 0, 0],\n",
      "        [0, 0, 0]],\n",
      "\n",
      "       [[0, 0, 0],\n",
      "        [0, 0, 0],\n",
      "        [0, 0, 0],\n",
      "        ...,\n",
      "        [0, 0, 0],\n",
      "        [0, 0, 0],\n",
      "        [0, 0, 0]]], dtype=uint8)\n",
      "orig_shape: (640, 640)\n",
      "path: '/home/hatsu/coding/CapProj/TestSeg_1/image_input/frame_000003.PNG'\n",
      "probs: None\n",
      "save_dir: 'runs/segment/predict'\n",
      "speed: {'preprocess': 1.7056465148925781, 'inference': 17.90761947631836, 'postprocess': 7.1773529052734375}]\n"
     ]
    }
   ],
   "source": [
    "result = model.predict(source=\"image_input/frame_000003.PNG\", task=\"segment\", show=True)\n",
    "print(result)"
   ]
  }
 ],
 "metadata": {
  "kernelspec": {
   "display_name": "ultrapython",
   "language": "python",
   "name": "python3"
  },
  "language_info": {
   "codemirror_mode": {
    "name": "ipython",
    "version": 3
   },
   "file_extension": ".py",
   "mimetype": "text/x-python",
   "name": "python",
   "nbconvert_exporter": "python",
   "pygments_lexer": "ipython3",
   "version": "3.10.15"
  }
 },
 "nbformat": 4,
 "nbformat_minor": 2
}
