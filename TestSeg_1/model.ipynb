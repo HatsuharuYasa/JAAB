{
 "cells": [
  {
   "cell_type": "code",
   "execution_count": 1,
   "metadata": {},
   "outputs": [],
   "source": [
    "import torch\n",
    "import cv2\n",
    "import numpy as np\n",
    "from ultralytics import YOLO"
   ]
  },
  {
   "cell_type": "code",
   "execution_count": 2,
   "metadata": {},
   "outputs": [],
   "source": [
    "DEVICE = \"cuda:0\" if torch.cuda.is_available() else \"cpu\""
   ]
  },
  {
   "cell_type": "markdown",
   "metadata": {},
   "source": [
    "Train Dataset_1 from the base model"
   ]
  },
  {
   "cell_type": "code",
   "execution_count": null,
   "metadata": {},
   "outputs": [],
   "source": [
    "model = YOLO(\"checkpoint/yolo11n-seg.pt\")\n",
    "model.to(DEVICE)\n",
    "\n",
    "model.train(data=\"config_1.yaml\", epochs=100, imgsz=640)\n",
    "model.save(\"checkpoint/fighter_1.pt\")"
   ]
  },
  {
   "cell_type": "markdown",
   "metadata": {},
   "source": [
    "Train Dataset_2 from the base model"
   ]
  },
  {
   "cell_type": "code",
   "execution_count": 22,
   "metadata": {},
   "outputs": [
    {
     "name": "stdout",
     "output_type": "stream",
     "text": [
      "New https://pypi.org/project/ultralytics/8.3.48 available 😃 Update with 'pip install -U ultralytics'\n",
      "\u001b[34m\u001b[1mengine/trainer: \u001b[0mtask=segment, mode=train, model=checkpoint/fighter_1.pt, data=config_2.yaml, epochs=100, time=None, patience=100, batch=16, imgsz=640, save=True, save_period=-1, cache=False, device=cuda:0, workers=8, project=None, name=train9, exist_ok=False, pretrained=True, optimizer=auto, verbose=True, seed=0, deterministic=True, single_cls=False, rect=False, cos_lr=False, close_mosaic=10, resume=False, amp=True, fraction=1.0, profile=False, freeze=None, multi_scale=False, overlap_mask=True, mask_ratio=4, dropout=0.0, val=True, split=val, save_json=False, save_hybrid=False, conf=None, iou=0.7, max_det=300, half=False, dnn=False, plots=True, source=None, vid_stride=1, stream_buffer=False, visualize=False, augment=False, agnostic_nms=False, classes=None, retina_masks=False, embed=None, show=False, save_frames=False, save_txt=False, save_conf=False, save_crop=False, show_labels=True, show_conf=True, show_boxes=True, line_width=None, format=torchscript, keras=False, optimize=False, int8=False, dynamic=False, simplify=True, opset=None, workspace=None, nms=False, lr0=0.01, lrf=0.01, momentum=0.937, weight_decay=0.0005, warmup_epochs=3.0, warmup_momentum=0.8, warmup_bias_lr=0.1, box=7.5, cls=0.5, dfl=1.5, pose=12.0, kobj=1.0, nbs=64, hsv_h=0.015, hsv_s=0.7, hsv_v=0.4, degrees=0.0, translate=0.1, scale=0.5, shear=0.0, perspective=0.0, flipud=0.0, fliplr=0.5, bgr=0.0, mosaic=1.0, mixup=0.0, copy_paste=0.0, copy_paste_mode=flip, auto_augment=randaugment, erasing=0.4, crop_fraction=1.0, cfg=None, tracker=botsort.yaml, save_dir=runs/segment/train9\n",
      "\n",
      "                   from  n    params  module                                       arguments                     \n",
      "  0                  -1  1       464  ultralytics.nn.modules.conv.Conv             [3, 16, 3, 2]                 \n",
      "  1                  -1  1      4672  ultralytics.nn.modules.conv.Conv             [16, 32, 3, 2]                \n",
      "  2                  -1  1      6640  ultralytics.nn.modules.block.C3k2            [32, 64, 1, False, 0.25]      \n",
      "  3                  -1  1     36992  ultralytics.nn.modules.conv.Conv             [64, 64, 3, 2]                \n",
      "  4                  -1  1     26080  ultralytics.nn.modules.block.C3k2            [64, 128, 1, False, 0.25]     \n",
      "  5                  -1  1    147712  ultralytics.nn.modules.conv.Conv             [128, 128, 3, 2]              \n",
      "  6                  -1  1     87040  ultralytics.nn.modules.block.C3k2            [128, 128, 1, True]           \n",
      "  7                  -1  1    295424  ultralytics.nn.modules.conv.Conv             [128, 256, 3, 2]              \n",
      "  8                  -1  1    346112  ultralytics.nn.modules.block.C3k2            [256, 256, 1, True]           \n",
      "  9                  -1  1    164608  ultralytics.nn.modules.block.SPPF            [256, 256, 5]                 \n",
      " 10                  -1  1    249728  ultralytics.nn.modules.block.C2PSA           [256, 256, 1]                 \n",
      " 11                  -1  1         0  torch.nn.modules.upsampling.Upsample         [None, 2, 'nearest']          \n",
      " 12             [-1, 6]  1         0  ultralytics.nn.modules.conv.Concat           [1]                           \n",
      " 13                  -1  1    111296  ultralytics.nn.modules.block.C3k2            [384, 128, 1, False]          \n",
      " 14                  -1  1         0  torch.nn.modules.upsampling.Upsample         [None, 2, 'nearest']          \n",
      " 15             [-1, 4]  1         0  ultralytics.nn.modules.conv.Concat           [1]                           \n",
      " 16                  -1  1     32096  ultralytics.nn.modules.block.C3k2            [256, 64, 1, False]           \n",
      " 17                  -1  1     36992  ultralytics.nn.modules.conv.Conv             [64, 64, 3, 2]                \n",
      " 18            [-1, 13]  1         0  ultralytics.nn.modules.conv.Concat           [1]                           \n",
      " 19                  -1  1     86720  ultralytics.nn.modules.block.C3k2            [192, 128, 1, False]          \n",
      " 20                  -1  1    147712  ultralytics.nn.modules.conv.Conv             [128, 128, 3, 2]              \n",
      " 21            [-1, 10]  1         0  ultralytics.nn.modules.conv.Concat           [1]                           \n",
      " 22                  -1  1    378880  ultralytics.nn.modules.block.C3k2            [384, 256, 1, True]           \n",
      " 23        [16, 19, 22]  1    683635  ultralytics.nn.modules.head.Segment          [1, 32, 64, [64, 128, 256]]   \n",
      "YOLO11n-seg summary: 355 layers, 2,842,803 parameters, 2,842,787 gradients, 10.4 GFLOPs\n",
      "\n",
      "Transferred 561/561 items from pretrained weights\n",
      "\u001b[34m\u001b[1mTensorBoard: \u001b[0mStart with 'tensorboard --logdir runs/segment/train9', view at http://localhost:6006/\n",
      "Freezing layer 'model.23.dfl.conv.weight'\n",
      "\u001b[34m\u001b[1mAMP: \u001b[0mrunning Automatic Mixed Precision (AMP) checks...\n",
      "\u001b[34m\u001b[1mAMP: \u001b[0mchecks passed ✅\n"
     ]
    },
    {
     "name": "stderr",
     "output_type": "stream",
     "text": [
      "\u001b[34m\u001b[1mtrain: \u001b[0mScanning /home/hatsu/coding/CapProj/TestSeg_1/dataset_2/labels/train.cache... 125 images, 0 backgrounds, 0 corrupt: 100%|██████████| 125/125 [00:00<?, ?it/s]\n",
      "\u001b[34m\u001b[1mval: \u001b[0mScanning /home/hatsu/coding/CapProj/TestSeg_1/dataset_2/labels/val.cache... 2 images, 0 backgrounds, 0 corrupt: 100%|██████████| 2/2 [00:00<?, ?it/s]\n"
     ]
    },
    {
     "name": "stdout",
     "output_type": "stream",
     "text": [
      "Plotting labels to runs/segment/train9/labels.jpg... \n",
      "\u001b[34m\u001b[1moptimizer:\u001b[0m 'optimizer=auto' found, ignoring 'lr0=0.01' and 'momentum=0.937' and determining best 'optimizer', 'lr0' and 'momentum' automatically... \n",
      "\u001b[34m\u001b[1moptimizer:\u001b[0m AdamW(lr=0.002, momentum=0.9) with parameter groups 90 weight(decay=0.0), 101 weight(decay=0.0005), 100 bias(decay=0.0)\n",
      "\u001b[34m\u001b[1mTensorBoard: \u001b[0mmodel graph visualization added ✅\n",
      "Image sizes 640 train, 640 val\n",
      "Using 4 dataloader workers\n",
      "Logging results to \u001b[1mruns/segment/train9\u001b[0m\n",
      "Starting training for 100 epochs...\n",
      "\n",
      "      Epoch    GPU_mem   box_loss   seg_loss   cls_loss   dfl_loss  Instances       Size\n"
     ]
    },
    {
     "name": "stderr",
     "output_type": "stream",
     "text": [
      "      1/100      3.26G      1.222      3.642      1.356      1.517         53        640: 100%|██████████| 8/8 [00:03<00:00,  2.43it/s]\n",
      "                 Class     Images  Instances      Box(P          R      mAP50  mAP50-95)     Mask(P          R      mAP50  mAP50-95): 100%|██████████| 1/1 [00:00<00:00, 17.08it/s]"
     ]
    },
    {
     "name": "stdout",
     "output_type": "stream",
     "text": [
      "                   all          2          3      0.642      0.667       0.47      0.335      0.642      0.667       0.47      0.221\n"
     ]
    },
    {
     "name": "stderr",
     "output_type": "stream",
     "text": [
      "\n"
     ]
    },
    {
     "name": "stdout",
     "output_type": "stream",
     "text": [
      "\n",
      "      Epoch    GPU_mem   box_loss   seg_loss   cls_loss   dfl_loss  Instances       Size\n"
     ]
    },
    {
     "name": "stderr",
     "output_type": "stream",
     "text": [
      "      2/100      3.05G      1.025      1.849      1.165       1.36         60        640: 100%|██████████| 8/8 [00:02<00:00,  3.59it/s]\n",
      "                 Class     Images  Instances      Box(P          R      mAP50  mAP50-95)     Mask(P          R      mAP50  mAP50-95): 100%|██████████| 1/1 [00:00<00:00,  9.19it/s]"
     ]
    },
    {
     "name": "stdout",
     "output_type": "stream",
     "text": [
      "                   all          2          3       0.73          1      0.913      0.412      0.381      0.625      0.409     0.0767\n"
     ]
    },
    {
     "name": "stderr",
     "output_type": "stream",
     "text": [
      "\n"
     ]
    },
    {
     "name": "stdout",
     "output_type": "stream",
     "text": [
      "\n",
      "      Epoch    GPU_mem   box_loss   seg_loss   cls_loss   dfl_loss  Instances       Size\n"
     ]
    },
    {
     "name": "stderr",
     "output_type": "stream",
     "text": [
      "      3/100      3.06G     0.9165      1.273      1.043      1.316         60        640: 100%|██████████| 8/8 [00:01<00:00,  4.26it/s]\n",
      "                 Class     Images  Instances      Box(P          R      mAP50  mAP50-95)     Mask(P          R      mAP50  mAP50-95): 100%|██████████| 1/1 [00:00<00:00,  7.30it/s]"
     ]
    },
    {
     "name": "stdout",
     "output_type": "stream",
     "text": [
      "                   all          2          3      0.656      0.667       0.83      0.396      0.656      0.667       0.83      0.277\n"
     ]
    },
    {
     "name": "stderr",
     "output_type": "stream",
     "text": [
      "\n"
     ]
    },
    {
     "name": "stdout",
     "output_type": "stream",
     "text": [
      "\n",
      "      Epoch    GPU_mem   box_loss   seg_loss   cls_loss   dfl_loss  Instances       Size\n"
     ]
    },
    {
     "name": "stderr",
     "output_type": "stream",
     "text": [
      "      4/100      3.08G     0.8301       1.27     0.9976      1.235         49        640: 100%|██████████| 8/8 [00:01<00:00,  4.23it/s]\n",
      "                 Class     Images  Instances      Box(P          R      mAP50  mAP50-95)     Mask(P          R      mAP50  mAP50-95): 100%|██████████| 1/1 [00:00<00:00, 13.50it/s]"
     ]
    },
    {
     "name": "stdout",
     "output_type": "stream",
     "text": [
      "                   all          2          3      0.898      0.667      0.789      0.485      0.898      0.667      0.789      0.396\n"
     ]
    },
    {
     "name": "stderr",
     "output_type": "stream",
     "text": [
      "\n"
     ]
    },
    {
     "name": "stdout",
     "output_type": "stream",
     "text": [
      "\n",
      "      Epoch    GPU_mem   box_loss   seg_loss   cls_loss   dfl_loss  Instances       Size\n"
     ]
    },
    {
     "name": "stderr",
     "output_type": "stream",
     "text": [
      "      5/100      3.06G     0.8544      1.114     0.9232      1.247         52        640: 100%|██████████| 8/8 [00:01<00:00,  4.40it/s]\n",
      "                 Class     Images  Instances      Box(P          R      mAP50  mAP50-95)     Mask(P          R      mAP50  mAP50-95): 100%|██████████| 1/1 [00:00<00:00, 20.72it/s]"
     ]
    },
    {
     "name": "stdout",
     "output_type": "stream",
     "text": [
      "                   all          2          3          1      0.978      0.995      0.585      0.724      0.896       0.83      0.237\n"
     ]
    },
    {
     "name": "stderr",
     "output_type": "stream",
     "text": [
      "\n"
     ]
    },
    {
     "name": "stdout",
     "output_type": "stream",
     "text": [
      "\n",
      "      Epoch    GPU_mem   box_loss   seg_loss   cls_loss   dfl_loss  Instances       Size\n"
     ]
    },
    {
     "name": "stderr",
     "output_type": "stream",
     "text": [
      "      6/100      3.06G     0.8077      1.087     0.9279       1.19         58        640: 100%|██████████| 8/8 [00:01<00:00,  4.22it/s]\n",
      "                 Class     Images  Instances      Box(P          R      mAP50  mAP50-95)     Mask(P          R      mAP50  mAP50-95): 100%|██████████| 1/1 [00:00<00:00, 19.56it/s]"
     ]
    },
    {
     "name": "stdout",
     "output_type": "stream",
     "text": [
      "                   all          2          3      0.296          1       0.45      0.223      0.444      0.333      0.365      0.197\n"
     ]
    },
    {
     "name": "stderr",
     "output_type": "stream",
     "text": [
      "\n"
     ]
    },
    {
     "name": "stdout",
     "output_type": "stream",
     "text": [
      "\n",
      "      Epoch    GPU_mem   box_loss   seg_loss   cls_loss   dfl_loss  Instances       Size\n"
     ]
    },
    {
     "name": "stderr",
     "output_type": "stream",
     "text": [
      "      7/100      3.06G     0.8242      1.216       0.91      1.194         54        640: 100%|██████████| 8/8 [00:01<00:00,  4.05it/s]\n",
      "                 Class     Images  Instances      Box(P          R      mAP50  mAP50-95)     Mask(P          R      mAP50  mAP50-95): 100%|██████████| 1/1 [00:00<00:00, 17.42it/s]"
     ]
    },
    {
     "name": "stdout",
     "output_type": "stream",
     "text": [
      "                   all          2          3      0.194      0.667      0.332      0.191      0.194      0.667      0.332      0.135\n"
     ]
    },
    {
     "name": "stderr",
     "output_type": "stream",
     "text": [
      "\n"
     ]
    },
    {
     "name": "stdout",
     "output_type": "stream",
     "text": [
      "\n",
      "      Epoch    GPU_mem   box_loss   seg_loss   cls_loss   dfl_loss  Instances       Size\n"
     ]
    },
    {
     "name": "stderr",
     "output_type": "stream",
     "text": [
      "      8/100      3.04G     0.8057      1.101     0.8448      1.209         53        640: 100%|██████████| 8/8 [00:01<00:00,  4.31it/s]\n",
      "                 Class     Images  Instances      Box(P          R      mAP50  mAP50-95)     Mask(P          R      mAP50  mAP50-95): 100%|██████████| 1/1 [00:00<00:00, 20.52it/s]"
     ]
    },
    {
     "name": "stdout",
     "output_type": "stream",
     "text": [
      "                   all          2          3      0.967      0.667      0.806      0.544      0.967      0.667      0.806      0.423\n"
     ]
    },
    {
     "name": "stderr",
     "output_type": "stream",
     "text": [
      "\n"
     ]
    },
    {
     "name": "stdout",
     "output_type": "stream",
     "text": [
      "\n",
      "      Epoch    GPU_mem   box_loss   seg_loss   cls_loss   dfl_loss  Instances       Size\n"
     ]
    },
    {
     "name": "stderr",
     "output_type": "stream",
     "text": [
      "      9/100      3.04G     0.8111      1.024     0.8274      1.178         48        640: 100%|██████████| 8/8 [00:01<00:00,  4.55it/s]\n",
      "                 Class     Images  Instances      Box(P          R      mAP50  mAP50-95)     Mask(P          R      mAP50  mAP50-95): 100%|██████████| 1/1 [00:00<00:00, 18.88it/s]"
     ]
    },
    {
     "name": "stdout",
     "output_type": "stream",
     "text": [
      "                   all          2          3      0.638      0.667      0.665      0.405      0.638      0.667      0.553      0.316\n"
     ]
    },
    {
     "name": "stderr",
     "output_type": "stream",
     "text": [
      "\n"
     ]
    },
    {
     "name": "stdout",
     "output_type": "stream",
     "text": [
      "\n",
      "      Epoch    GPU_mem   box_loss   seg_loss   cls_loss   dfl_loss  Instances       Size\n"
     ]
    },
    {
     "name": "stderr",
     "output_type": "stream",
     "text": [
      "     10/100      3.08G     0.8288      1.024     0.8459      1.181         59        640: 100%|██████████| 8/8 [00:01<00:00,  4.67it/s]\n",
      "                 Class     Images  Instances      Box(P          R      mAP50  mAP50-95)     Mask(P          R      mAP50  mAP50-95): 100%|██████████| 1/1 [00:00<00:00, 19.27it/s]"
     ]
    },
    {
     "name": "stdout",
     "output_type": "stream",
     "text": [
      "                   all          2          3      0.622      0.667      0.509      0.198      0.281      0.653      0.201     0.0251\n"
     ]
    },
    {
     "name": "stderr",
     "output_type": "stream",
     "text": [
      "\n"
     ]
    },
    {
     "name": "stdout",
     "output_type": "stream",
     "text": [
      "\n",
      "      Epoch    GPU_mem   box_loss   seg_loss   cls_loss   dfl_loss  Instances       Size\n"
     ]
    },
    {
     "name": "stderr",
     "output_type": "stream",
     "text": [
      "     11/100      3.08G     0.8601      1.155     0.8537      1.215         59        640: 100%|██████████| 8/8 [00:01<00:00,  4.65it/s]\n",
      "                 Class     Images  Instances      Box(P          R      mAP50  mAP50-95)     Mask(P          R      mAP50  mAP50-95): 100%|██████████| 1/1 [00:00<00:00, 17.70it/s]"
     ]
    },
    {
     "name": "stdout",
     "output_type": "stream",
     "text": [
      "                   all          2          3      0.649      0.631      0.567      0.281      0.227      0.594      0.216     0.0344\n"
     ]
    },
    {
     "name": "stderr",
     "output_type": "stream",
     "text": [
      "\n"
     ]
    },
    {
     "name": "stdout",
     "output_type": "stream",
     "text": [
      "\n",
      "      Epoch    GPU_mem   box_loss   seg_loss   cls_loss   dfl_loss  Instances       Size\n"
     ]
    },
    {
     "name": "stderr",
     "output_type": "stream",
     "text": [
      "     12/100      3.04G      0.825      1.029     0.8713      1.216         60        640: 100%|██████████| 8/8 [00:01<00:00,  4.61it/s]\n",
      "                 Class     Images  Instances      Box(P          R      mAP50  mAP50-95)     Mask(P          R      mAP50  mAP50-95): 100%|██████████| 1/1 [00:00<00:00, 21.80it/s]"
     ]
    },
    {
     "name": "stdout",
     "output_type": "stream",
     "text": [
      "                   all          2          3      0.952      0.667      0.698      0.289      0.469      0.333      0.208     0.0765\n"
     ]
    },
    {
     "name": "stderr",
     "output_type": "stream",
     "text": [
      "\n"
     ]
    },
    {
     "name": "stdout",
     "output_type": "stream",
     "text": [
      "\n",
      "      Epoch    GPU_mem   box_loss   seg_loss   cls_loss   dfl_loss  Instances       Size\n"
     ]
    },
    {
     "name": "stderr",
     "output_type": "stream",
     "text": [
      "     13/100      3.06G     0.8504      1.036     0.8696      1.228         55        640: 100%|██████████| 8/8 [00:01<00:00,  4.74it/s]\n",
      "                 Class     Images  Instances      Box(P          R      mAP50  mAP50-95)     Mask(P          R      mAP50  mAP50-95): 100%|██████████| 1/1 [00:00<00:00, 19.77it/s]"
     ]
    },
    {
     "name": "stdout",
     "output_type": "stream",
     "text": [
      "                   all          2          3      0.928      0.667      0.764      0.263     0.0854      0.333     0.0936     0.0193\n"
     ]
    },
    {
     "name": "stderr",
     "output_type": "stream",
     "text": [
      "\n"
     ]
    },
    {
     "name": "stdout",
     "output_type": "stream",
     "text": [
      "\n",
      "      Epoch    GPU_mem   box_loss   seg_loss   cls_loss   dfl_loss  Instances       Size\n"
     ]
    },
    {
     "name": "stderr",
     "output_type": "stream",
     "text": [
      "     14/100      3.08G     0.9162      1.097     0.9274      1.287         52        640: 100%|██████████| 8/8 [00:01<00:00,  4.80it/s]\n",
      "                 Class     Images  Instances      Box(P          R      mAP50  mAP50-95)     Mask(P          R      mAP50  mAP50-95): 100%|██████████| 1/1 [00:00<00:00, 20.93it/s]"
     ]
    },
    {
     "name": "stdout",
     "output_type": "stream",
     "text": [
      "                   all          2          3      0.951          1      0.995      0.507      0.636      0.667       0.69      0.311\n"
     ]
    },
    {
     "name": "stderr",
     "output_type": "stream",
     "text": [
      "\n"
     ]
    },
    {
     "name": "stdout",
     "output_type": "stream",
     "text": [
      "\n",
      "      Epoch    GPU_mem   box_loss   seg_loss   cls_loss   dfl_loss  Instances       Size\n"
     ]
    },
    {
     "name": "stderr",
     "output_type": "stream",
     "text": [
      "     15/100      3.08G      0.785     0.9712      0.795      1.184         47        640: 100%|██████████| 8/8 [00:01<00:00,  4.82it/s]\n",
      "                 Class     Images  Instances      Box(P          R      mAP50  mAP50-95)     Mask(P          R      mAP50  mAP50-95): 100%|██████████| 1/1 [00:00<00:00, 21.26it/s]"
     ]
    },
    {
     "name": "stdout",
     "output_type": "stream",
     "text": [
      "                   all          2          3      0.947          1      0.995      0.331      0.728      0.667        0.7      0.225\n"
     ]
    },
    {
     "name": "stderr",
     "output_type": "stream",
     "text": [
      "\n"
     ]
    },
    {
     "name": "stdout",
     "output_type": "stream",
     "text": [
      "\n",
      "      Epoch    GPU_mem   box_loss   seg_loss   cls_loss   dfl_loss  Instances       Size\n"
     ]
    },
    {
     "name": "stderr",
     "output_type": "stream",
     "text": [
      "     16/100       3.1G     0.6937     0.9084     0.6991      1.098         64        640: 100%|██████████| 8/8 [00:01<00:00,  4.87it/s]\n",
      "                 Class     Images  Instances      Box(P          R      mAP50  mAP50-95)     Mask(P          R      mAP50  mAP50-95): 100%|██████████| 1/1 [00:00<00:00, 21.25it/s]"
     ]
    },
    {
     "name": "stdout",
     "output_type": "stream",
     "text": [
      "                   all          2          3      0.994          1      0.995      0.631      0.994          1      0.995      0.377\n"
     ]
    },
    {
     "name": "stderr",
     "output_type": "stream",
     "text": [
      "\n"
     ]
    },
    {
     "name": "stdout",
     "output_type": "stream",
     "text": [
      "\n",
      "      Epoch    GPU_mem   box_loss   seg_loss   cls_loss   dfl_loss  Instances       Size\n"
     ]
    },
    {
     "name": "stderr",
     "output_type": "stream",
     "text": [
      "     17/100      3.08G     0.8143      1.055     0.7972      1.185         49        640: 100%|██████████| 8/8 [00:01<00:00,  4.78it/s]\n",
      "                 Class     Images  Instances      Box(P          R      mAP50  mAP50-95)     Mask(P          R      mAP50  mAP50-95): 100%|██████████| 1/1 [00:00<00:00, 22.03it/s]"
     ]
    },
    {
     "name": "stdout",
     "output_type": "stream",
     "text": [
      "                   all          2          3          1      0.961      0.995      0.688          1      0.961      0.995      0.421\n"
     ]
    },
    {
     "name": "stderr",
     "output_type": "stream",
     "text": [
      "\n"
     ]
    },
    {
     "name": "stdout",
     "output_type": "stream",
     "text": [
      "\n",
      "      Epoch    GPU_mem   box_loss   seg_loss   cls_loss   dfl_loss  Instances       Size\n"
     ]
    },
    {
     "name": "stderr",
     "output_type": "stream",
     "text": [
      "     18/100      3.08G     0.7928     0.9256     0.7925      1.201         51        640: 100%|██████████| 8/8 [00:01<00:00,  4.69it/s]\n",
      "                 Class     Images  Instances      Box(P          R      mAP50  mAP50-95)     Mask(P          R      mAP50  mAP50-95): 100%|██████████| 1/1 [00:00<00:00, 21.77it/s]"
     ]
    },
    {
     "name": "stdout",
     "output_type": "stream",
     "text": [
      "                   all          2          3          1      0.981      0.995      0.538          1      0.981      0.995      0.317\n"
     ]
    },
    {
     "name": "stderr",
     "output_type": "stream",
     "text": [
      "\n"
     ]
    },
    {
     "name": "stdout",
     "output_type": "stream",
     "text": [
      "\n",
      "      Epoch    GPU_mem   box_loss   seg_loss   cls_loss   dfl_loss  Instances       Size\n"
     ]
    },
    {
     "name": "stderr",
     "output_type": "stream",
     "text": [
      "     19/100      3.06G     0.7809     0.9018     0.7444      1.153         59        640: 100%|██████████| 8/8 [00:01<00:00,  4.66it/s]\n",
      "                 Class     Images  Instances      Box(P          R      mAP50  mAP50-95)     Mask(P          R      mAP50  mAP50-95): 100%|██████████| 1/1 [00:00<00:00, 19.56it/s]"
     ]
    },
    {
     "name": "stdout",
     "output_type": "stream",
     "text": [
      "                   all          2          3       0.95      0.667      0.698      0.481       0.95      0.667      0.698      0.281\n"
     ]
    },
    {
     "name": "stderr",
     "output_type": "stream",
     "text": [
      "\n"
     ]
    },
    {
     "name": "stdout",
     "output_type": "stream",
     "text": [
      "\n",
      "      Epoch    GPU_mem   box_loss   seg_loss   cls_loss   dfl_loss  Instances       Size\n"
     ]
    },
    {
     "name": "stderr",
     "output_type": "stream",
     "text": [
      "     20/100      3.06G      0.786     0.9208     0.7726      1.206         55        640: 100%|██████████| 8/8 [00:01<00:00,  4.73it/s]\n",
      "                 Class     Images  Instances      Box(P          R      mAP50  mAP50-95)     Mask(P          R      mAP50  mAP50-95): 100%|██████████| 1/1 [00:00<00:00, 19.73it/s]"
     ]
    },
    {
     "name": "stdout",
     "output_type": "stream",
     "text": [
      "                   all          2          3      0.978      0.667      0.693      0.364      0.978      0.667      0.693      0.185\n"
     ]
    },
    {
     "name": "stderr",
     "output_type": "stream",
     "text": [
      "\n"
     ]
    },
    {
     "name": "stdout",
     "output_type": "stream",
     "text": [
      "\n",
      "      Epoch    GPU_mem   box_loss   seg_loss   cls_loss   dfl_loss  Instances       Size\n"
     ]
    },
    {
     "name": "stderr",
     "output_type": "stream",
     "text": [
      "     21/100      3.06G     0.8024     0.9166     0.7529      1.167         58        640: 100%|██████████| 8/8 [00:01<00:00,  4.42it/s]\n",
      "                 Class     Images  Instances      Box(P          R      mAP50  mAP50-95)     Mask(P          R      mAP50  mAP50-95): 100%|██████████| 1/1 [00:00<00:00, 14.60it/s]"
     ]
    },
    {
     "name": "stdout",
     "output_type": "stream",
     "text": [
      "                   all          2          3      0.917      0.667      0.863      0.491       0.59          1      0.731      0.404\n"
     ]
    },
    {
     "name": "stderr",
     "output_type": "stream",
     "text": [
      "\n"
     ]
    },
    {
     "name": "stdout",
     "output_type": "stream",
     "text": [
      "\n",
      "      Epoch    GPU_mem   box_loss   seg_loss   cls_loss   dfl_loss  Instances       Size\n"
     ]
    },
    {
     "name": "stderr",
     "output_type": "stream",
     "text": [
      "     22/100      3.02G     0.7647     0.9605     0.7427      1.181         52        640: 100%|██████████| 8/8 [00:01<00:00,  4.29it/s]\n",
      "                 Class     Images  Instances      Box(P          R      mAP50  mAP50-95)     Mask(P          R      mAP50  mAP50-95): 100%|██████████| 1/1 [00:00<00:00,  8.75it/s]"
     ]
    },
    {
     "name": "stdout",
     "output_type": "stream",
     "text": [
      "                   all          2          3      0.488          1       0.72      0.387      0.488          1       0.72      0.338\n"
     ]
    },
    {
     "name": "stderr",
     "output_type": "stream",
     "text": [
      "\n"
     ]
    },
    {
     "name": "stdout",
     "output_type": "stream",
     "text": [
      "\n",
      "      Epoch    GPU_mem   box_loss   seg_loss   cls_loss   dfl_loss  Instances       Size\n"
     ]
    },
    {
     "name": "stderr",
     "output_type": "stream",
     "text": [
      "     23/100      3.06G     0.7423     0.9827     0.7348      1.167         55        640: 100%|██████████| 8/8 [00:01<00:00,  4.07it/s]\n",
      "                 Class     Images  Instances      Box(P          R      mAP50  mAP50-95)     Mask(P          R      mAP50  mAP50-95): 100%|██████████| 1/1 [00:00<00:00, 19.45it/s]"
     ]
    },
    {
     "name": "stdout",
     "output_type": "stream",
     "text": [
      "                   all          2          3      0.979      0.667      0.717       0.42      0.497      0.333      0.353      0.208\n"
     ]
    },
    {
     "name": "stderr",
     "output_type": "stream",
     "text": [
      "\n"
     ]
    },
    {
     "name": "stdout",
     "output_type": "stream",
     "text": [
      "\n",
      "      Epoch    GPU_mem   box_loss   seg_loss   cls_loss   dfl_loss  Instances       Size\n"
     ]
    },
    {
     "name": "stderr",
     "output_type": "stream",
     "text": [
      "     24/100      3.08G     0.7562     0.8766     0.7471      1.188         54        640: 100%|██████████| 8/8 [00:01<00:00,  4.75it/s]\n",
      "                 Class     Images  Instances      Box(P          R      mAP50  mAP50-95)     Mask(P          R      mAP50  mAP50-95): 100%|██████████| 1/1 [00:00<00:00, 20.71it/s]"
     ]
    },
    {
     "name": "stdout",
     "output_type": "stream",
     "text": [
      "                   all          2          3      0.636      0.667      0.602      0.301      0.547      0.333      0.384      0.242\n"
     ]
    },
    {
     "name": "stderr",
     "output_type": "stream",
     "text": [
      "\n"
     ]
    },
    {
     "name": "stdout",
     "output_type": "stream",
     "text": [
      "\n",
      "      Epoch    GPU_mem   box_loss   seg_loss   cls_loss   dfl_loss  Instances       Size\n"
     ]
    },
    {
     "name": "stderr",
     "output_type": "stream",
     "text": [
      "     25/100      3.04G     0.7362     0.9251     0.7242      1.159         58        640: 100%|██████████| 8/8 [00:01<00:00,  4.14it/s]\n",
      "                 Class     Images  Instances      Box(P          R      mAP50  mAP50-95)     Mask(P          R      mAP50  mAP50-95): 100%|██████████| 1/1 [00:00<00:00, 13.52it/s]"
     ]
    },
    {
     "name": "stdout",
     "output_type": "stream",
     "text": [
      "                   all          2          3       0.97      0.667       0.71      0.144      0.469      0.333      0.236      0.152\n"
     ]
    },
    {
     "name": "stderr",
     "output_type": "stream",
     "text": [
      "\n"
     ]
    },
    {
     "name": "stdout",
     "output_type": "stream",
     "text": [
      "\n",
      "      Epoch    GPU_mem   box_loss   seg_loss   cls_loss   dfl_loss  Instances       Size\n"
     ]
    },
    {
     "name": "stderr",
     "output_type": "stream",
     "text": [
      "     26/100      3.08G     0.6615     0.8251     0.6473      1.088         63        640: 100%|██████████| 8/8 [00:01<00:00,  4.59it/s]\n",
      "                 Class     Images  Instances      Box(P          R      mAP50  mAP50-95)     Mask(P          R      mAP50  mAP50-95): 100%|██████████| 1/1 [00:00<00:00, 21.42it/s]"
     ]
    },
    {
     "name": "stdout",
     "output_type": "stream",
     "text": [
      "                   all          2          3      0.952      0.667      0.764      0.409      0.637      0.607      0.654      0.317\n"
     ]
    },
    {
     "name": "stderr",
     "output_type": "stream",
     "text": [
      "\n"
     ]
    },
    {
     "name": "stdout",
     "output_type": "stream",
     "text": [
      "\n",
      "      Epoch    GPU_mem   box_loss   seg_loss   cls_loss   dfl_loss  Instances       Size\n"
     ]
    },
    {
     "name": "stderr",
     "output_type": "stream",
     "text": [
      "     27/100      3.08G     0.7277     0.8708     0.6615      1.152         65        640: 100%|██████████| 8/8 [00:01<00:00,  4.32it/s]\n",
      "                 Class     Images  Instances      Box(P          R      mAP50  mAP50-95)     Mask(P          R      mAP50  mAP50-95): 100%|██████████| 1/1 [00:00<00:00, 16.42it/s]"
     ]
    },
    {
     "name": "stdout",
     "output_type": "stream",
     "text": [
      "                   all          2          3       0.95      0.667      0.806      0.463       0.95      0.667      0.806       0.33\n"
     ]
    },
    {
     "name": "stderr",
     "output_type": "stream",
     "text": [
      "\n"
     ]
    },
    {
     "name": "stdout",
     "output_type": "stream",
     "text": [
      "\n",
      "      Epoch    GPU_mem   box_loss   seg_loss   cls_loss   dfl_loss  Instances       Size\n"
     ]
    },
    {
     "name": "stderr",
     "output_type": "stream",
     "text": [
      "     28/100      3.02G     0.7305     0.8719     0.6513      1.106         54        640: 100%|██████████| 8/8 [00:01<00:00,  4.84it/s]\n",
      "                 Class     Images  Instances      Box(P          R      mAP50  mAP50-95)     Mask(P          R      mAP50  mAP50-95): 100%|██████████| 1/1 [00:00<00:00, 21.57it/s]"
     ]
    },
    {
     "name": "stdout",
     "output_type": "stream",
     "text": [
      "                   all          2          3      0.927      0.667       0.68      0.287      0.927      0.667      0.668      0.123\n"
     ]
    },
    {
     "name": "stderr",
     "output_type": "stream",
     "text": [
      "\n"
     ]
    },
    {
     "name": "stdout",
     "output_type": "stream",
     "text": [
      "\n",
      "      Epoch    GPU_mem   box_loss   seg_loss   cls_loss   dfl_loss  Instances       Size\n"
     ]
    },
    {
     "name": "stderr",
     "output_type": "stream",
     "text": [
      "     29/100      3.04G     0.6659     0.7846     0.6067      1.098         63        640: 100%|██████████| 8/8 [00:01<00:00,  4.75it/s]\n",
      "                 Class     Images  Instances      Box(P          R      mAP50  mAP50-95)     Mask(P          R      mAP50  mAP50-95): 100%|██████████| 1/1 [00:00<00:00, 22.44it/s]"
     ]
    },
    {
     "name": "stdout",
     "output_type": "stream",
     "text": [
      "                   all          2          3      0.654      0.667      0.668       0.28      0.484      0.667      0.362      0.145\n"
     ]
    },
    {
     "name": "stderr",
     "output_type": "stream",
     "text": [
      "\n"
     ]
    },
    {
     "name": "stdout",
     "output_type": "stream",
     "text": [
      "\n",
      "      Epoch    GPU_mem   box_loss   seg_loss   cls_loss   dfl_loss  Instances       Size\n"
     ]
    },
    {
     "name": "stderr",
     "output_type": "stream",
     "text": [
      "     30/100      3.04G     0.7011       0.86     0.6556      1.117         65        640: 100%|██████████| 8/8 [00:01<00:00,  4.87it/s]\n",
      "                 Class     Images  Instances      Box(P          R      mAP50  mAP50-95)     Mask(P          R      mAP50  mAP50-95): 100%|██████████| 1/1 [00:00<00:00, 22.60it/s]"
     ]
    },
    {
     "name": "stdout",
     "output_type": "stream",
     "text": [
      "                   all          2          3      0.729      0.915      0.913      0.311      0.492       0.65      0.514      0.223\n"
     ]
    },
    {
     "name": "stderr",
     "output_type": "stream",
     "text": [
      "\n"
     ]
    },
    {
     "name": "stdout",
     "output_type": "stream",
     "text": [
      "\n",
      "      Epoch    GPU_mem   box_loss   seg_loss   cls_loss   dfl_loss  Instances       Size\n"
     ]
    },
    {
     "name": "stderr",
     "output_type": "stream",
     "text": [
      "     31/100      3.08G     0.7001     0.8886     0.6333      1.151         54        640: 100%|██████████| 8/8 [00:01<00:00,  4.40it/s]\n",
      "                 Class     Images  Instances      Box(P          R      mAP50  mAP50-95)     Mask(P          R      mAP50  mAP50-95): 100%|██████████| 1/1 [00:00<00:00, 21.30it/s]"
     ]
    },
    {
     "name": "stdout",
     "output_type": "stream",
     "text": [
      "                   all          2          3       0.75          1      0.746       0.17       0.75          1      0.746      0.225\n"
     ]
    },
    {
     "name": "stderr",
     "output_type": "stream",
     "text": [
      "\n"
     ]
    },
    {
     "name": "stdout",
     "output_type": "stream",
     "text": [
      "\n",
      "      Epoch    GPU_mem   box_loss   seg_loss   cls_loss   dfl_loss  Instances       Size\n"
     ]
    },
    {
     "name": "stderr",
     "output_type": "stream",
     "text": [
      "     32/100      3.06G     0.6777     0.8234     0.6092      1.118         58        640: 100%|██████████| 8/8 [00:02<00:00,  3.34it/s]\n",
      "                 Class     Images  Instances      Box(P          R      mAP50  mAP50-95)     Mask(P          R      mAP50  mAP50-95): 100%|██████████| 1/1 [00:00<00:00,  5.49it/s]"
     ]
    },
    {
     "name": "stdout",
     "output_type": "stream",
     "text": [
      "                   all          2          3      0.642      0.667      0.592       0.14      0.321      0.333      0.151      0.056\n"
     ]
    },
    {
     "name": "stderr",
     "output_type": "stream",
     "text": [
      "\n"
     ]
    },
    {
     "name": "stdout",
     "output_type": "stream",
     "text": [
      "\n",
      "      Epoch    GPU_mem   box_loss   seg_loss   cls_loss   dfl_loss  Instances       Size\n"
     ]
    },
    {
     "name": "stderr",
     "output_type": "stream",
     "text": [
      "     33/100      3.08G     0.7185     0.8714     0.6541      1.148         59        640: 100%|██████████| 8/8 [00:01<00:00,  4.51it/s]\n",
      "                 Class     Images  Instances      Box(P          R      mAP50  mAP50-95)     Mask(P          R      mAP50  mAP50-95): 100%|██████████| 1/1 [00:00<00:00, 22.00it/s]"
     ]
    },
    {
     "name": "stdout",
     "output_type": "stream",
     "text": [
      "                   all          2          3      0.747          1       0.83      0.195       0.49      0.667       0.36      0.119\n"
     ]
    },
    {
     "name": "stderr",
     "output_type": "stream",
     "text": [
      "\n"
     ]
    },
    {
     "name": "stdout",
     "output_type": "stream",
     "text": [
      "\n",
      "      Epoch    GPU_mem   box_loss   seg_loss   cls_loss   dfl_loss  Instances       Size\n"
     ]
    },
    {
     "name": "stderr",
     "output_type": "stream",
     "text": [
      "     34/100      3.08G     0.6815     0.7805     0.6637      1.106         59        640: 100%|██████████| 8/8 [00:01<00:00,  4.84it/s]\n",
      "                 Class     Images  Instances      Box(P          R      mAP50  mAP50-95)     Mask(P          R      mAP50  mAP50-95): 100%|██████████| 1/1 [00:00<00:00, 16.09it/s]"
     ]
    },
    {
     "name": "stdout",
     "output_type": "stream",
     "text": [
      "                   all          2          3      0.737          1       0.83      0.142       0.49      0.667      0.353     0.0878\n"
     ]
    },
    {
     "name": "stderr",
     "output_type": "stream",
     "text": [
      "\n"
     ]
    },
    {
     "name": "stdout",
     "output_type": "stream",
     "text": [
      "\n",
      "      Epoch    GPU_mem   box_loss   seg_loss   cls_loss   dfl_loss  Instances       Size\n"
     ]
    },
    {
     "name": "stderr",
     "output_type": "stream",
     "text": [
      "     35/100      3.06G     0.7034     0.8284     0.6827      1.133         62        640: 100%|██████████| 8/8 [00:01<00:00,  4.59it/s]\n",
      "                 Class     Images  Instances      Box(P          R      mAP50  mAP50-95)     Mask(P          R      mAP50  mAP50-95): 100%|██████████| 1/1 [00:00<00:00, 20.35it/s]"
     ]
    },
    {
     "name": "stdout",
     "output_type": "stream",
     "text": [
      "                   all          2          3      0.497      0.331        0.2      0.133          1      0.625      0.681      0.267\n"
     ]
    },
    {
     "name": "stderr",
     "output_type": "stream",
     "text": [
      "\n"
     ]
    },
    {
     "name": "stdout",
     "output_type": "stream",
     "text": [
      "\n",
      "      Epoch    GPU_mem   box_loss   seg_loss   cls_loss   dfl_loss  Instances       Size\n"
     ]
    },
    {
     "name": "stderr",
     "output_type": "stream",
     "text": [
      "     36/100      3.08G     0.6739     0.8975       0.64      1.107         52        640: 100%|██████████| 8/8 [00:01<00:00,  4.34it/s]\n",
      "                 Class     Images  Instances      Box(P          R      mAP50  mAP50-95)     Mask(P          R      mAP50  mAP50-95): 100%|██████████| 1/1 [00:00<00:00, 17.67it/s]"
     ]
    },
    {
     "name": "stdout",
     "output_type": "stream",
     "text": [
      "                   all          2          3      0.973      0.667      0.678      0.224      0.973      0.667      0.678      0.148\n"
     ]
    },
    {
     "name": "stderr",
     "output_type": "stream",
     "text": [
      "\n"
     ]
    },
    {
     "name": "stdout",
     "output_type": "stream",
     "text": [
      "\n",
      "      Epoch    GPU_mem   box_loss   seg_loss   cls_loss   dfl_loss  Instances       Size\n"
     ]
    },
    {
     "name": "stderr",
     "output_type": "stream",
     "text": [
      "     37/100      3.02G     0.6189     0.8173     0.5849      1.092         47        640: 100%|██████████| 8/8 [00:01<00:00,  4.38it/s]\n",
      "                 Class     Images  Instances      Box(P          R      mAP50  mAP50-95)     Mask(P          R      mAP50  mAP50-95): 100%|██████████| 1/1 [00:00<00:00, 21.29it/s]"
     ]
    },
    {
     "name": "stdout",
     "output_type": "stream",
     "text": [
      "                   all          2          3      0.963      0.667      0.679       0.27      0.486      0.667      0.345       0.24\n"
     ]
    },
    {
     "name": "stderr",
     "output_type": "stream",
     "text": [
      "\n"
     ]
    },
    {
     "name": "stdout",
     "output_type": "stream",
     "text": [
      "\n",
      "      Epoch    GPU_mem   box_loss   seg_loss   cls_loss   dfl_loss  Instances       Size\n"
     ]
    },
    {
     "name": "stderr",
     "output_type": "stream",
     "text": [
      "     38/100      3.06G     0.6348     0.8191     0.5705      1.072         63        640: 100%|██████████| 8/8 [00:01<00:00,  4.62it/s]\n",
      "                 Class     Images  Instances      Box(P          R      mAP50  mAP50-95)     Mask(P          R      mAP50  mAP50-95): 100%|██████████| 1/1 [00:00<00:00, 21.17it/s]"
     ]
    },
    {
     "name": "stdout",
     "output_type": "stream",
     "text": [
      "                   all          2          3      0.945      0.667      0.696      0.258       0.46      0.333      0.293      0.168\n"
     ]
    },
    {
     "name": "stderr",
     "output_type": "stream",
     "text": [
      "\n"
     ]
    },
    {
     "name": "stdout",
     "output_type": "stream",
     "text": [
      "\n",
      "      Epoch    GPU_mem   box_loss   seg_loss   cls_loss   dfl_loss  Instances       Size\n"
     ]
    },
    {
     "name": "stderr",
     "output_type": "stream",
     "text": [
      "     39/100      3.04G     0.6517     0.7402     0.5792      1.087         55        640: 100%|██████████| 8/8 [00:01<00:00,  4.07it/s]\n",
      "                 Class     Images  Instances      Box(P          R      mAP50  mAP50-95)     Mask(P          R      mAP50  mAP50-95): 100%|██████████| 1/1 [00:00<00:00, 21.39it/s]"
     ]
    },
    {
     "name": "stdout",
     "output_type": "stream",
     "text": [
      "                   all          2          3      0.895      0.667      0.806      0.273      0.454      0.333      0.473      0.279\n"
     ]
    },
    {
     "name": "stderr",
     "output_type": "stream",
     "text": [
      "\n"
     ]
    },
    {
     "name": "stdout",
     "output_type": "stream",
     "text": [
      "\n",
      "      Epoch    GPU_mem   box_loss   seg_loss   cls_loss   dfl_loss  Instances       Size\n"
     ]
    },
    {
     "name": "stderr",
     "output_type": "stream",
     "text": [
      "     40/100      3.03G     0.7087     0.7675     0.6069      1.123         64        640: 100%|██████████| 8/8 [00:01<00:00,  4.49it/s]\n",
      "                 Class     Images  Instances      Box(P          R      mAP50  mAP50-95)     Mask(P          R      mAP50  mAP50-95): 100%|██████████| 1/1 [00:00<00:00, 20.76it/s]"
     ]
    },
    {
     "name": "stdout",
     "output_type": "stream",
     "text": [
      "                   all          2          3      0.626      0.667      0.567      0.162      0.317      0.667       0.23      0.114\n"
     ]
    },
    {
     "name": "stderr",
     "output_type": "stream",
     "text": [
      "\n"
     ]
    },
    {
     "name": "stdout",
     "output_type": "stream",
     "text": [
      "\n",
      "      Epoch    GPU_mem   box_loss   seg_loss   cls_loss   dfl_loss  Instances       Size\n"
     ]
    },
    {
     "name": "stderr",
     "output_type": "stream",
     "text": [
      "     41/100      3.06G     0.6572     0.8331     0.6107      1.119         51        640: 100%|██████████| 8/8 [00:01<00:00,  4.47it/s]\n",
      "                 Class     Images  Instances      Box(P          R      mAP50  mAP50-95)     Mask(P          R      mAP50  mAP50-95): 100%|██████████| 1/1 [00:00<00:00, 21.00it/s]"
     ]
    },
    {
     "name": "stdout",
     "output_type": "stream",
     "text": [
      "                   all          2          3      0.477      0.667       0.38      0.102      0.655      0.667      0.485      0.272\n"
     ]
    },
    {
     "name": "stderr",
     "output_type": "stream",
     "text": [
      "\n"
     ]
    },
    {
     "name": "stdout",
     "output_type": "stream",
     "text": [
      "\n",
      "      Epoch    GPU_mem   box_loss   seg_loss   cls_loss   dfl_loss  Instances       Size\n"
     ]
    },
    {
     "name": "stderr",
     "output_type": "stream",
     "text": [
      "     42/100      3.06G     0.6744     0.7661     0.5866      1.121         51        640: 100%|██████████| 8/8 [00:01<00:00,  4.55it/s]\n",
      "                 Class     Images  Instances      Box(P          R      mAP50  mAP50-95)     Mask(P          R      mAP50  mAP50-95): 100%|██████████| 1/1 [00:00<00:00, 16.73it/s]"
     ]
    },
    {
     "name": "stdout",
     "output_type": "stream",
     "text": [
      "                   all          2          3      0.738          1      0.746      0.241      0.492      0.667      0.344      0.234\n"
     ]
    },
    {
     "name": "stderr",
     "output_type": "stream",
     "text": [
      "\n"
     ]
    },
    {
     "name": "stdout",
     "output_type": "stream",
     "text": [
      "\n",
      "      Epoch    GPU_mem   box_loss   seg_loss   cls_loss   dfl_loss  Instances       Size\n"
     ]
    },
    {
     "name": "stderr",
     "output_type": "stream",
     "text": [
      "     43/100      3.08G     0.7018     0.7225     0.6145      1.101         62        640: 100%|██████████| 8/8 [00:01<00:00,  4.61it/s]\n",
      "                 Class     Images  Instances      Box(P          R      mAP50  mAP50-95)     Mask(P          R      mAP50  mAP50-95): 100%|██████████| 1/1 [00:00<00:00, 16.45it/s]"
     ]
    },
    {
     "name": "stdout",
     "output_type": "stream",
     "text": [
      "                   all          2          3      0.741          1      0.913      0.507      0.635      0.667      0.755      0.479\n"
     ]
    },
    {
     "name": "stderr",
     "output_type": "stream",
     "text": [
      "\n"
     ]
    },
    {
     "name": "stdout",
     "output_type": "stream",
     "text": [
      "\n",
      "      Epoch    GPU_mem   box_loss   seg_loss   cls_loss   dfl_loss  Instances       Size\n"
     ]
    },
    {
     "name": "stderr",
     "output_type": "stream",
     "text": [
      "     44/100      3.04G     0.6043     0.7477     0.5392      1.067         61        640: 100%|██████████| 8/8 [00:01<00:00,  4.58it/s]\n",
      "                 Class     Images  Instances      Box(P          R      mAP50  mAP50-95)     Mask(P          R      mAP50  mAP50-95): 100%|██████████| 1/1 [00:00<00:00, 19.01it/s]"
     ]
    },
    {
     "name": "stdout",
     "output_type": "stream",
     "text": [
      "                   all          2          3       0.74          1      0.746      0.367      0.497      0.667      0.498      0.321\n"
     ]
    },
    {
     "name": "stderr",
     "output_type": "stream",
     "text": [
      "\n"
     ]
    },
    {
     "name": "stdout",
     "output_type": "stream",
     "text": [
      "\n",
      "      Epoch    GPU_mem   box_loss   seg_loss   cls_loss   dfl_loss  Instances       Size\n"
     ]
    },
    {
     "name": "stderr",
     "output_type": "stream",
     "text": [
      "     45/100      3.08G     0.6097     0.7608     0.5784      1.098         64        640: 100%|██████████| 8/8 [00:01<00:00,  4.37it/s]\n",
      "                 Class     Images  Instances      Box(P          R      mAP50  mAP50-95)     Mask(P          R      mAP50  mAP50-95): 100%|██████████| 1/1 [00:00<00:00, 20.56it/s]"
     ]
    },
    {
     "name": "stdout",
     "output_type": "stream",
     "text": [
      "                   all          2          3       0.74          1      0.746      0.413       0.74          1      0.746      0.363\n"
     ]
    },
    {
     "name": "stderr",
     "output_type": "stream",
     "text": [
      "\n"
     ]
    },
    {
     "name": "stdout",
     "output_type": "stream",
     "text": [
      "\n",
      "      Epoch    GPU_mem   box_loss   seg_loss   cls_loss   dfl_loss  Instances       Size\n"
     ]
    },
    {
     "name": "stderr",
     "output_type": "stream",
     "text": [
      "     46/100      3.04G     0.5291     0.7169      0.496      1.028         55        640: 100%|██████████| 8/8 [00:01<00:00,  4.62it/s]\n",
      "                 Class     Images  Instances      Box(P          R      mAP50  mAP50-95)     Mask(P          R      mAP50  mAP50-95): 100%|██████████| 1/1 [00:00<00:00, 20.63it/s]"
     ]
    },
    {
     "name": "stdout",
     "output_type": "stream",
     "text": [
      "                   all          2          3      0.902      0.667      0.863      0.432      0.902      0.667      0.863      0.402\n"
     ]
    },
    {
     "name": "stderr",
     "output_type": "stream",
     "text": [
      "\n"
     ]
    },
    {
     "name": "stdout",
     "output_type": "stream",
     "text": [
      "\n",
      "      Epoch    GPU_mem   box_loss   seg_loss   cls_loss   dfl_loss  Instances       Size\n"
     ]
    },
    {
     "name": "stderr",
     "output_type": "stream",
     "text": [
      "     47/100      3.08G     0.6167     0.6972     0.5536      1.068         60        640: 100%|██████████| 8/8 [00:01<00:00,  4.65it/s]\n",
      "                 Class     Images  Instances      Box(P          R      mAP50  mAP50-95)     Mask(P          R      mAP50  mAP50-95): 100%|██████████| 1/1 [00:00<00:00, 18.97it/s]"
     ]
    },
    {
     "name": "stdout",
     "output_type": "stream",
     "text": [
      "                   all          2          3      0.593          1      0.753      0.267      0.505      0.667      0.654      0.233\n"
     ]
    },
    {
     "name": "stderr",
     "output_type": "stream",
     "text": [
      "\n"
     ]
    },
    {
     "name": "stdout",
     "output_type": "stream",
     "text": [
      "\n",
      "      Epoch    GPU_mem   box_loss   seg_loss   cls_loss   dfl_loss  Instances       Size\n"
     ]
    },
    {
     "name": "stderr",
     "output_type": "stream",
     "text": [
      "     48/100      3.06G     0.6191     0.7581     0.5557      1.073         68        640: 100%|██████████| 8/8 [00:01<00:00,  4.53it/s]\n",
      "                 Class     Images  Instances      Box(P          R      mAP50  mAP50-95)     Mask(P          R      mAP50  mAP50-95): 100%|██████████| 1/1 [00:00<00:00, 20.43it/s]"
     ]
    },
    {
     "name": "stdout",
     "output_type": "stream",
     "text": [
      "                   all          2          3      0.584          1      0.753      0.281      0.584          1      0.753      0.229\n"
     ]
    },
    {
     "name": "stderr",
     "output_type": "stream",
     "text": [
      "\n"
     ]
    },
    {
     "name": "stdout",
     "output_type": "stream",
     "text": [
      "\n",
      "      Epoch    GPU_mem   box_loss   seg_loss   cls_loss   dfl_loss  Instances       Size\n"
     ]
    },
    {
     "name": "stderr",
     "output_type": "stream",
     "text": [
      "     49/100      3.06G     0.6496     0.7063      0.568      1.102         65        640: 100%|██████████| 8/8 [00:01<00:00,  4.61it/s]\n",
      "                 Class     Images  Instances      Box(P          R      mAP50  mAP50-95)     Mask(P          R      mAP50  mAP50-95): 100%|██████████| 1/1 [00:00<00:00, 21.01it/s]"
     ]
    },
    {
     "name": "stdout",
     "output_type": "stream",
     "text": [
      "                   all          2          3      0.661      0.667      0.806      0.352      0.661      0.667      0.806      0.213\n"
     ]
    },
    {
     "name": "stderr",
     "output_type": "stream",
     "text": [
      "\n"
     ]
    },
    {
     "name": "stdout",
     "output_type": "stream",
     "text": [
      "\n",
      "      Epoch    GPU_mem   box_loss   seg_loss   cls_loss   dfl_loss  Instances       Size\n"
     ]
    },
    {
     "name": "stderr",
     "output_type": "stream",
     "text": [
      "     50/100      3.04G     0.6155     0.7846     0.5466      1.092         56        640: 100%|██████████| 8/8 [00:01<00:00,  4.62it/s]\n",
      "                 Class     Images  Instances      Box(P          R      mAP50  mAP50-95)     Mask(P          R      mAP50  mAP50-95): 100%|██████████| 1/1 [00:00<00:00, 20.81it/s]"
     ]
    },
    {
     "name": "stdout",
     "output_type": "stream",
     "text": [
      "                   all          2          3      0.969      0.667      0.731      0.325      0.969      0.667      0.731      0.218\n"
     ]
    },
    {
     "name": "stderr",
     "output_type": "stream",
     "text": [
      "\n"
     ]
    },
    {
     "name": "stdout",
     "output_type": "stream",
     "text": [
      "\n",
      "      Epoch    GPU_mem   box_loss   seg_loss   cls_loss   dfl_loss  Instances       Size\n"
     ]
    },
    {
     "name": "stderr",
     "output_type": "stream",
     "text": [
      "     51/100      3.06G     0.6565     0.7138     0.5664      1.115         53        640: 100%|██████████| 8/8 [00:01<00:00,  4.60it/s]\n",
      "                 Class     Images  Instances      Box(P          R      mAP50  mAP50-95)     Mask(P          R      mAP50  mAP50-95): 100%|██████████| 1/1 [00:00<00:00, 21.24it/s]"
     ]
    },
    {
     "name": "stdout",
     "output_type": "stream",
     "text": [
      "                   all          2          3      0.965      0.667      0.863      0.427      0.965      0.667      0.764      0.315\n"
     ]
    },
    {
     "name": "stderr",
     "output_type": "stream",
     "text": [
      "\n"
     ]
    },
    {
     "name": "stdout",
     "output_type": "stream",
     "text": [
      "\n",
      "      Epoch    GPU_mem   box_loss   seg_loss   cls_loss   dfl_loss  Instances       Size\n"
     ]
    },
    {
     "name": "stderr",
     "output_type": "stream",
     "text": [
      "     52/100      3.06G     0.5691      0.707     0.5087      1.046         57        640: 100%|██████████| 8/8 [00:01<00:00,  4.65it/s]\n",
      "                 Class     Images  Instances      Box(P          R      mAP50  mAP50-95)     Mask(P          R      mAP50  mAP50-95): 100%|██████████| 1/1 [00:00<00:00, 20.51it/s]"
     ]
    },
    {
     "name": "stdout",
     "output_type": "stream",
     "text": [
      "                   all          2          3      0.952      0.667      0.863      0.475      0.952      0.667      0.863      0.325\n"
     ]
    },
    {
     "name": "stderr",
     "output_type": "stream",
     "text": [
      "\n"
     ]
    },
    {
     "name": "stdout",
     "output_type": "stream",
     "text": [
      "\n",
      "      Epoch    GPU_mem   box_loss   seg_loss   cls_loss   dfl_loss  Instances       Size\n"
     ]
    },
    {
     "name": "stderr",
     "output_type": "stream",
     "text": [
      "     53/100      3.04G     0.6336     0.6693      0.531      1.102         54        640: 100%|██████████| 8/8 [00:01<00:00,  4.44it/s]\n",
      "                 Class     Images  Instances      Box(P          R      mAP50  mAP50-95)     Mask(P          R      mAP50  mAP50-95): 100%|██████████| 1/1 [00:00<00:00, 12.45it/s]"
     ]
    },
    {
     "name": "stdout",
     "output_type": "stream",
     "text": [
      "                   all          2          3      0.967      0.667      0.863      0.545      0.967      0.667      0.863      0.484\n"
     ]
    },
    {
     "name": "stderr",
     "output_type": "stream",
     "text": [
      "\n"
     ]
    },
    {
     "name": "stdout",
     "output_type": "stream",
     "text": [
      "\n",
      "      Epoch    GPU_mem   box_loss   seg_loss   cls_loss   dfl_loss  Instances       Size\n"
     ]
    },
    {
     "name": "stderr",
     "output_type": "stream",
     "text": [
      "     54/100      3.06G      0.611     0.6135     0.5197      1.085         55        640: 100%|██████████| 8/8 [00:01<00:00,  4.10it/s]\n",
      "                 Class     Images  Instances      Box(P          R      mAP50  mAP50-95)     Mask(P          R      mAP50  mAP50-95): 100%|██████████| 1/1 [00:00<00:00, 19.74it/s]"
     ]
    },
    {
     "name": "stdout",
     "output_type": "stream",
     "text": [
      "                   all          2          3      0.959      0.667      0.747      0.435      0.959      0.667      0.747      0.354\n"
     ]
    },
    {
     "name": "stderr",
     "output_type": "stream",
     "text": [
      "\n"
     ]
    },
    {
     "name": "stdout",
     "output_type": "stream",
     "text": [
      "\n",
      "      Epoch    GPU_mem   box_loss   seg_loss   cls_loss   dfl_loss  Instances       Size\n"
     ]
    },
    {
     "name": "stderr",
     "output_type": "stream",
     "text": [
      "     55/100      3.08G     0.6408     0.6635     0.5357      1.111         49        640: 100%|██████████| 8/8 [00:02<00:00,  3.74it/s]\n",
      "                 Class     Images  Instances      Box(P          R      mAP50  mAP50-95)     Mask(P          R      mAP50  mAP50-95): 100%|██████████| 1/1 [00:00<00:00,  8.35it/s]"
     ]
    },
    {
     "name": "stdout",
     "output_type": "stream",
     "text": [
      "                   all          2          3      0.941      0.667      0.708      0.389      0.941      0.667      0.708      0.407\n"
     ]
    },
    {
     "name": "stderr",
     "output_type": "stream",
     "text": [
      "\n"
     ]
    },
    {
     "name": "stdout",
     "output_type": "stream",
     "text": [
      "\n",
      "      Epoch    GPU_mem   box_loss   seg_loss   cls_loss   dfl_loss  Instances       Size\n"
     ]
    },
    {
     "name": "stderr",
     "output_type": "stream",
     "text": [
      "     56/100      3.04G     0.6152     0.6894     0.5427      1.079         45        640: 100%|██████████| 8/8 [00:02<00:00,  3.77it/s]\n",
      "                 Class     Images  Instances      Box(P          R      mAP50  mAP50-95)     Mask(P          R      mAP50  mAP50-95): 100%|██████████| 1/1 [00:00<00:00, 12.46it/s]"
     ]
    },
    {
     "name": "stdout",
     "output_type": "stream",
     "text": [
      "                   all          2          3      0.975      0.667      0.703      0.372      0.975      0.667      0.708      0.475\n"
     ]
    },
    {
     "name": "stderr",
     "output_type": "stream",
     "text": [
      "\n"
     ]
    },
    {
     "name": "stdout",
     "output_type": "stream",
     "text": [
      "\n",
      "      Epoch    GPU_mem   box_loss   seg_loss   cls_loss   dfl_loss  Instances       Size\n"
     ]
    },
    {
     "name": "stderr",
     "output_type": "stream",
     "text": [
      "     57/100      3.05G     0.5876     0.6595     0.5546      1.061         56        640: 100%|██████████| 8/8 [00:02<00:00,  3.96it/s]\n",
      "                 Class     Images  Instances      Box(P          R      mAP50  mAP50-95)     Mask(P          R      mAP50  mAP50-95): 100%|██████████| 1/1 [00:00<00:00, 15.79it/s]"
     ]
    },
    {
     "name": "stdout",
     "output_type": "stream",
     "text": [
      "                   all          2          3      0.973      0.667      0.693      0.552      0.734      0.938      0.913      0.645\n"
     ]
    },
    {
     "name": "stderr",
     "output_type": "stream",
     "text": [
      "\n"
     ]
    },
    {
     "name": "stdout",
     "output_type": "stream",
     "text": [
      "\n",
      "      Epoch    GPU_mem   box_loss   seg_loss   cls_loss   dfl_loss  Instances       Size\n"
     ]
    },
    {
     "name": "stderr",
     "output_type": "stream",
     "text": [
      "     58/100      3.06G     0.5644     0.6026     0.4961      1.029         58        640: 100%|██████████| 8/8 [00:01<00:00,  4.44it/s]\n",
      "                 Class     Images  Instances      Box(P          R      mAP50  mAP50-95)     Mask(P          R      mAP50  mAP50-95): 100%|██████████| 1/1 [00:00<00:00, 16.84it/s]"
     ]
    },
    {
     "name": "stdout",
     "output_type": "stream",
     "text": [
      "                   all          2          3      0.645      0.667      0.679       0.43      0.645      0.667       0.72      0.497\n"
     ]
    },
    {
     "name": "stderr",
     "output_type": "stream",
     "text": [
      "\n"
     ]
    },
    {
     "name": "stdout",
     "output_type": "stream",
     "text": [
      "\n",
      "      Epoch    GPU_mem   box_loss   seg_loss   cls_loss   dfl_loss  Instances       Size\n"
     ]
    },
    {
     "name": "stderr",
     "output_type": "stream",
     "text": [
      "     59/100      3.06G      0.567     0.6376     0.4958      1.051         58        640: 100%|██████████| 8/8 [00:01<00:00,  4.11it/s]\n",
      "                 Class     Images  Instances      Box(P          R      mAP50  mAP50-95)     Mask(P          R      mAP50  mAP50-95): 100%|██████████| 1/1 [00:00<00:00, 19.60it/s]"
     ]
    },
    {
     "name": "stdout",
     "output_type": "stream",
     "text": [
      "                   all          2          3      0.592      0.975      0.753      0.387      0.592      0.975      0.753      0.476\n"
     ]
    },
    {
     "name": "stderr",
     "output_type": "stream",
     "text": [
      "\n"
     ]
    },
    {
     "name": "stdout",
     "output_type": "stream",
     "text": [
      "\n",
      "      Epoch    GPU_mem   box_loss   seg_loss   cls_loss   dfl_loss  Instances       Size\n"
     ]
    },
    {
     "name": "stderr",
     "output_type": "stream",
     "text": [
      "     60/100      3.04G     0.5709     0.5666     0.4874      1.076         49        640: 100%|██████████| 8/8 [00:01<00:00,  4.31it/s]\n",
      "                 Class     Images  Instances      Box(P          R      mAP50  mAP50-95)     Mask(P          R      mAP50  mAP50-95): 100%|██████████| 1/1 [00:00<00:00, 18.92it/s]"
     ]
    },
    {
     "name": "stdout",
     "output_type": "stream",
     "text": [
      "                   all          2          3      0.937      0.667      0.789      0.457      0.937      0.667      0.789      0.272\n"
     ]
    },
    {
     "name": "stderr",
     "output_type": "stream",
     "text": [
      "\n"
     ]
    },
    {
     "name": "stdout",
     "output_type": "stream",
     "text": [
      "\n",
      "      Epoch    GPU_mem   box_loss   seg_loss   cls_loss   dfl_loss  Instances       Size\n"
     ]
    },
    {
     "name": "stderr",
     "output_type": "stream",
     "text": [
      "     61/100      3.04G     0.5955     0.6175     0.5111      1.052         57        640: 100%|██████████| 8/8 [00:01<00:00,  4.45it/s]\n",
      "                 Class     Images  Instances      Box(P          R      mAP50  mAP50-95)     Mask(P          R      mAP50  mAP50-95): 100%|██████████| 1/1 [00:00<00:00, 18.77it/s]"
     ]
    },
    {
     "name": "stdout",
     "output_type": "stream",
     "text": [
      "                   all          2          3      0.977      0.667      0.764      0.365      0.977      0.667      0.764      0.197\n"
     ]
    },
    {
     "name": "stderr",
     "output_type": "stream",
     "text": [
      "\n"
     ]
    },
    {
     "name": "stdout",
     "output_type": "stream",
     "text": [
      "\n",
      "      Epoch    GPU_mem   box_loss   seg_loss   cls_loss   dfl_loss  Instances       Size\n"
     ]
    },
    {
     "name": "stderr",
     "output_type": "stream",
     "text": [
      "     62/100      3.08G      0.605     0.6215     0.5239      1.062         49        640: 100%|██████████| 8/8 [00:01<00:00,  4.53it/s]\n",
      "                 Class     Images  Instances      Box(P          R      mAP50  mAP50-95)     Mask(P          R      mAP50  mAP50-95): 100%|██████████| 1/1 [00:00<00:00, 20.59it/s]"
     ]
    },
    {
     "name": "stdout",
     "output_type": "stream",
     "text": [
      "                   all          2          3      0.981      0.667      0.693      0.369      0.981      0.667      0.673       0.24\n"
     ]
    },
    {
     "name": "stderr",
     "output_type": "stream",
     "text": [
      "\n"
     ]
    },
    {
     "name": "stdout",
     "output_type": "stream",
     "text": [
      "\n",
      "      Epoch    GPU_mem   box_loss   seg_loss   cls_loss   dfl_loss  Instances       Size\n"
     ]
    },
    {
     "name": "stderr",
     "output_type": "stream",
     "text": [
      "     63/100      3.06G     0.5593     0.6607     0.4824      1.042         54        640: 100%|██████████| 8/8 [00:01<00:00,  4.21it/s]\n",
      "                 Class     Images  Instances      Box(P          R      mAP50  mAP50-95)     Mask(P          R      mAP50  mAP50-95): 100%|██████████| 1/1 [00:00<00:00, 19.13it/s]"
     ]
    },
    {
     "name": "stdout",
     "output_type": "stream",
     "text": [
      "                   all          2          3       0.98      0.667      0.698      0.282       0.98      0.667      0.698      0.256\n"
     ]
    },
    {
     "name": "stderr",
     "output_type": "stream",
     "text": [
      "\n"
     ]
    },
    {
     "name": "stdout",
     "output_type": "stream",
     "text": [
      "\n",
      "      Epoch    GPU_mem   box_loss   seg_loss   cls_loss   dfl_loss  Instances       Size\n"
     ]
    },
    {
     "name": "stderr",
     "output_type": "stream",
     "text": [
      "     64/100      3.04G     0.5602     0.6253     0.4975      1.044         53        640: 100%|██████████| 8/8 [00:01<00:00,  4.45it/s]\n",
      "                 Class     Images  Instances      Box(P          R      mAP50  mAP50-95)     Mask(P          R      mAP50  mAP50-95): 100%|██████████| 1/1 [00:00<00:00, 19.10it/s]"
     ]
    },
    {
     "name": "stdout",
     "output_type": "stream",
     "text": [
      "                   all          2          3       0.98      0.667      0.687      0.426       0.98      0.667      0.687      0.396\n"
     ]
    },
    {
     "name": "stderr",
     "output_type": "stream",
     "text": [
      "\n"
     ]
    },
    {
     "name": "stdout",
     "output_type": "stream",
     "text": [
      "\n",
      "      Epoch    GPU_mem   box_loss   seg_loss   cls_loss   dfl_loss  Instances       Size\n"
     ]
    },
    {
     "name": "stderr",
     "output_type": "stream",
     "text": [
      "     65/100      3.04G     0.5392     0.6539     0.4814       1.03         49        640: 100%|██████████| 8/8 [00:01<00:00,  4.39it/s]\n",
      "                 Class     Images  Instances      Box(P          R      mAP50  mAP50-95)     Mask(P          R      mAP50  mAP50-95): 100%|██████████| 1/1 [00:00<00:00, 17.90it/s]"
     ]
    },
    {
     "name": "stdout",
     "output_type": "stream",
     "text": [
      "                   all          2          3      0.981      0.667      0.679      0.417      0.981      0.667      0.679       0.36\n"
     ]
    },
    {
     "name": "stderr",
     "output_type": "stream",
     "text": [
      "\n"
     ]
    },
    {
     "name": "stdout",
     "output_type": "stream",
     "text": [
      "\n",
      "      Epoch    GPU_mem   box_loss   seg_loss   cls_loss   dfl_loss  Instances       Size\n"
     ]
    },
    {
     "name": "stderr",
     "output_type": "stream",
     "text": [
      "     66/100      3.08G     0.5677     0.5451     0.4712      1.053         55        640: 100%|██████████| 8/8 [00:01<00:00,  4.06it/s]\n",
      "                 Class     Images  Instances      Box(P          R      mAP50  mAP50-95)     Mask(P          R      mAP50  mAP50-95): 100%|██████████| 1/1 [00:00<00:00, 12.78it/s]"
     ]
    },
    {
     "name": "stdout",
     "output_type": "stream",
     "text": [
      "                   all          2          3      0.981      0.667       0.68      0.415      0.981      0.667       0.68      0.388\n"
     ]
    },
    {
     "name": "stderr",
     "output_type": "stream",
     "text": [
      "\n"
     ]
    },
    {
     "name": "stdout",
     "output_type": "stream",
     "text": [
      "\n",
      "      Epoch    GPU_mem   box_loss   seg_loss   cls_loss   dfl_loss  Instances       Size\n"
     ]
    },
    {
     "name": "stderr",
     "output_type": "stream",
     "text": [
      "     67/100      3.11G     0.5654     0.6446      0.512      1.041         73        640: 100%|██████████| 8/8 [00:01<00:00,  4.35it/s]\n",
      "                 Class     Images  Instances      Box(P          R      mAP50  mAP50-95)     Mask(P          R      mAP50  mAP50-95): 100%|██████████| 1/1 [00:00<00:00, 19.75it/s]"
     ]
    },
    {
     "name": "stdout",
     "output_type": "stream",
     "text": [
      "                   all          2          3      0.981      0.667      0.699       0.49      0.981      0.667      0.699      0.393\n"
     ]
    },
    {
     "name": "stderr",
     "output_type": "stream",
     "text": [
      "\n"
     ]
    },
    {
     "name": "stdout",
     "output_type": "stream",
     "text": [
      "\n",
      "      Epoch    GPU_mem   box_loss   seg_loss   cls_loss   dfl_loss  Instances       Size\n"
     ]
    },
    {
     "name": "stderr",
     "output_type": "stream",
     "text": [
      "     68/100      3.06G     0.5388      0.563      0.453      1.022         60        640: 100%|██████████| 8/8 [00:01<00:00,  4.32it/s]\n",
      "                 Class     Images  Instances      Box(P          R      mAP50  mAP50-95)     Mask(P          R      mAP50  mAP50-95): 100%|██████████| 1/1 [00:00<00:00, 18.53it/s]"
     ]
    },
    {
     "name": "stdout",
     "output_type": "stream",
     "text": [
      "                   all          2          3      0.978      0.667      0.755      0.406      0.978      0.667      0.755       0.36\n"
     ]
    },
    {
     "name": "stderr",
     "output_type": "stream",
     "text": [
      "\n"
     ]
    },
    {
     "name": "stdout",
     "output_type": "stream",
     "text": [
      "\n",
      "      Epoch    GPU_mem   box_loss   seg_loss   cls_loss   dfl_loss  Instances       Size\n"
     ]
    },
    {
     "name": "stderr",
     "output_type": "stream",
     "text": [
      "     69/100      3.06G     0.5608     0.6328     0.4932      1.058         47        640: 100%|██████████| 8/8 [00:01<00:00,  4.54it/s]\n",
      "                 Class     Images  Instances      Box(P          R      mAP50  mAP50-95)     Mask(P          R      mAP50  mAP50-95): 100%|██████████| 1/1 [00:00<00:00, 19.62it/s]"
     ]
    },
    {
     "name": "stdout",
     "output_type": "stream",
     "text": [
      "                   all          2          3       0.97      0.667      0.863      0.448       0.97      0.667      0.863      0.413\n"
     ]
    },
    {
     "name": "stderr",
     "output_type": "stream",
     "text": [
      "\n"
     ]
    },
    {
     "name": "stdout",
     "output_type": "stream",
     "text": [
      "\n",
      "      Epoch    GPU_mem   box_loss   seg_loss   cls_loss   dfl_loss  Instances       Size\n"
     ]
    },
    {
     "name": "stderr",
     "output_type": "stream",
     "text": [
      "     70/100      3.06G     0.5765     0.5912     0.4735      1.053         57        640: 100%|██████████| 8/8 [00:01<00:00,  4.32it/s]\n",
      "                 Class     Images  Instances      Box(P          R      mAP50  mAP50-95)     Mask(P          R      mAP50  mAP50-95): 100%|██████████| 1/1 [00:00<00:00, 15.06it/s]"
     ]
    },
    {
     "name": "stdout",
     "output_type": "stream",
     "text": [
      "                   all          2          3      0.959      0.667       0.83      0.453      0.959      0.667       0.83      0.394\n"
     ]
    },
    {
     "name": "stderr",
     "output_type": "stream",
     "text": [
      "\n"
     ]
    },
    {
     "name": "stdout",
     "output_type": "stream",
     "text": [
      "\n",
      "      Epoch    GPU_mem   box_loss   seg_loss   cls_loss   dfl_loss  Instances       Size\n"
     ]
    },
    {
     "name": "stderr",
     "output_type": "stream",
     "text": [
      "     71/100      3.06G     0.5034     0.5524     0.4541      1.023         53        640: 100%|██████████| 8/8 [00:01<00:00,  4.27it/s]\n",
      "                 Class     Images  Instances      Box(P          R      mAP50  mAP50-95)     Mask(P          R      mAP50  mAP50-95): 100%|██████████| 1/1 [00:00<00:00, 18.68it/s]"
     ]
    },
    {
     "name": "stdout",
     "output_type": "stream",
     "text": [
      "                   all          2          3      0.937      0.667      0.806      0.428      0.937      0.667      0.806      0.357\n"
     ]
    },
    {
     "name": "stderr",
     "output_type": "stream",
     "text": [
      "\n"
     ]
    },
    {
     "name": "stdout",
     "output_type": "stream",
     "text": [
      "\n",
      "      Epoch    GPU_mem   box_loss   seg_loss   cls_loss   dfl_loss  Instances       Size\n"
     ]
    },
    {
     "name": "stderr",
     "output_type": "stream",
     "text": [
      "     72/100      3.04G     0.5034     0.5655     0.4399      1.018         48        640: 100%|██████████| 8/8 [00:01<00:00,  4.34it/s]\n",
      "                 Class     Images  Instances      Box(P          R      mAP50  mAP50-95)     Mask(P          R      mAP50  mAP50-95): 100%|██████████| 1/1 [00:00<00:00, 16.88it/s]"
     ]
    },
    {
     "name": "stdout",
     "output_type": "stream",
     "text": [
      "                   all          2          3      0.957      0.667       0.83      0.445      0.957      0.667       0.83      0.393\n"
     ]
    },
    {
     "name": "stderr",
     "output_type": "stream",
     "text": [
      "\n"
     ]
    },
    {
     "name": "stdout",
     "output_type": "stream",
     "text": [
      "\n",
      "      Epoch    GPU_mem   box_loss   seg_loss   cls_loss   dfl_loss  Instances       Size\n"
     ]
    },
    {
     "name": "stderr",
     "output_type": "stream",
     "text": [
      "     73/100      3.04G     0.5146     0.6223     0.4696      1.041         59        640: 100%|██████████| 8/8 [00:01<00:00,  4.16it/s]\n",
      "                 Class     Images  Instances      Box(P          R      mAP50  mAP50-95)     Mask(P          R      mAP50  mAP50-95): 100%|██████████| 1/1 [00:00<00:00, 19.62it/s]"
     ]
    },
    {
     "name": "stdout",
     "output_type": "stream",
     "text": [
      "                   all          2          3      0.898      0.667      0.863      0.693      0.898      0.667      0.863      0.709\n"
     ]
    },
    {
     "name": "stderr",
     "output_type": "stream",
     "text": [
      "\n"
     ]
    },
    {
     "name": "stdout",
     "output_type": "stream",
     "text": [
      "\n",
      "      Epoch    GPU_mem   box_loss   seg_loss   cls_loss   dfl_loss  Instances       Size\n"
     ]
    },
    {
     "name": "stderr",
     "output_type": "stream",
     "text": [
      "     74/100      3.06G     0.5479      0.535     0.4801      1.071         44        640: 100%|██████████| 8/8 [00:01<00:00,  4.56it/s]\n",
      "                 Class     Images  Instances      Box(P          R      mAP50  mAP50-95)     Mask(P          R      mAP50  mAP50-95): 100%|██████████| 1/1 [00:00<00:00, 20.70it/s]"
     ]
    },
    {
     "name": "stdout",
     "output_type": "stream",
     "text": [
      "                   all          2          3      0.594      0.981      0.863      0.689      0.594      0.981      0.863      0.704\n"
     ]
    },
    {
     "name": "stderr",
     "output_type": "stream",
     "text": [
      "\n"
     ]
    },
    {
     "name": "stdout",
     "output_type": "stream",
     "text": [
      "\n",
      "      Epoch    GPU_mem   box_loss   seg_loss   cls_loss   dfl_loss  Instances       Size\n"
     ]
    },
    {
     "name": "stderr",
     "output_type": "stream",
     "text": [
      "     75/100      3.06G     0.4846     0.5663     0.4315      1.018         60        640: 100%|██████████| 8/8 [00:01<00:00,  4.47it/s]\n",
      "                 Class     Images  Instances      Box(P          R      mAP50  mAP50-95)     Mask(P          R      mAP50  mAP50-95): 100%|██████████| 1/1 [00:00<00:00, 15.66it/s]"
     ]
    },
    {
     "name": "stdout",
     "output_type": "stream",
     "text": [
      "                   all          2          3      0.592      0.972      0.753      0.594      0.592      0.972      0.753      0.578\n"
     ]
    },
    {
     "name": "stderr",
     "output_type": "stream",
     "text": [
      "\n"
     ]
    },
    {
     "name": "stdout",
     "output_type": "stream",
     "text": [
      "\n",
      "      Epoch    GPU_mem   box_loss   seg_loss   cls_loss   dfl_loss  Instances       Size\n"
     ]
    },
    {
     "name": "stderr",
     "output_type": "stream",
     "text": [
      "     76/100      3.04G     0.5123     0.5417     0.4439      1.055         53        640: 100%|██████████| 8/8 [00:01<00:00,  4.65it/s]\n",
      "                 Class     Images  Instances      Box(P          R      mAP50  mAP50-95)     Mask(P          R      mAP50  mAP50-95): 100%|██████████| 1/1 [00:00<00:00, 20.60it/s]"
     ]
    },
    {
     "name": "stdout",
     "output_type": "stream",
     "text": [
      "                   all          2          3      0.665      0.667       0.83      0.535      0.665      0.667       0.83      0.526\n"
     ]
    },
    {
     "name": "stderr",
     "output_type": "stream",
     "text": [
      "\n"
     ]
    },
    {
     "name": "stdout",
     "output_type": "stream",
     "text": [
      "\n",
      "      Epoch    GPU_mem   box_loss   seg_loss   cls_loss   dfl_loss  Instances       Size\n"
     ]
    },
    {
     "name": "stderr",
     "output_type": "stream",
     "text": [
      "     77/100      3.06G     0.4999     0.5663     0.4259     0.9946         67        640: 100%|██████████| 8/8 [00:01<00:00,  4.44it/s]\n",
      "                 Class     Images  Instances      Box(P          R      mAP50  mAP50-95)     Mask(P          R      mAP50  mAP50-95): 100%|██████████| 1/1 [00:00<00:00, 20.49it/s]"
     ]
    },
    {
     "name": "stdout",
     "output_type": "stream",
     "text": [
      "                   all          2          3      0.663      0.667       0.83      0.419      0.655      0.667       0.72      0.392\n"
     ]
    },
    {
     "name": "stderr",
     "output_type": "stream",
     "text": [
      "\n"
     ]
    },
    {
     "name": "stdout",
     "output_type": "stream",
     "text": [
      "\n",
      "      Epoch    GPU_mem   box_loss   seg_loss   cls_loss   dfl_loss  Instances       Size\n"
     ]
    },
    {
     "name": "stderr",
     "output_type": "stream",
     "text": [
      "     78/100      3.04G     0.5184     0.5735      0.447      1.044         57        640: 100%|██████████| 8/8 [00:01<00:00,  4.46it/s]\n",
      "                 Class     Images  Instances      Box(P          R      mAP50  mAP50-95)     Mask(P          R      mAP50  mAP50-95): 100%|██████████| 1/1 [00:00<00:00, 20.40it/s]"
     ]
    },
    {
     "name": "stdout",
     "output_type": "stream",
     "text": [
      "                   all          2          3      0.876      0.667       0.83      0.442      0.644      0.667       0.72      0.387\n"
     ]
    },
    {
     "name": "stderr",
     "output_type": "stream",
     "text": [
      "\n"
     ]
    },
    {
     "name": "stdout",
     "output_type": "stream",
     "text": [
      "\n",
      "      Epoch    GPU_mem   box_loss   seg_loss   cls_loss   dfl_loss  Instances       Size\n"
     ]
    },
    {
     "name": "stderr",
     "output_type": "stream",
     "text": [
      "     79/100      3.08G     0.5032     0.5279     0.4362     0.9908         65        640: 100%|██████████| 8/8 [00:01<00:00,  4.41it/s]\n",
      "                 Class     Images  Instances      Box(P          R      mAP50  mAP50-95)     Mask(P          R      mAP50  mAP50-95): 100%|██████████| 1/1 [00:00<00:00, 20.81it/s]"
     ]
    },
    {
     "name": "stdout",
     "output_type": "stream",
     "text": [
      "                   all          2          3      0.911      0.667      0.863       0.42      0.592      0.974      0.753      0.448\n"
     ]
    },
    {
     "name": "stderr",
     "output_type": "stream",
     "text": [
      "\n"
     ]
    },
    {
     "name": "stdout",
     "output_type": "stream",
     "text": [
      "\n",
      "      Epoch    GPU_mem   box_loss   seg_loss   cls_loss   dfl_loss  Instances       Size\n"
     ]
    },
    {
     "name": "stderr",
     "output_type": "stream",
     "text": [
      "     80/100      3.03G     0.4876     0.5599     0.4168      1.004         52        640: 100%|██████████| 8/8 [00:01<00:00,  4.21it/s]\n",
      "                 Class     Images  Instances      Box(P          R      mAP50  mAP50-95)     Mask(P          R      mAP50  mAP50-95): 100%|██████████| 1/1 [00:00<00:00, 18.73it/s]"
     ]
    },
    {
     "name": "stdout",
     "output_type": "stream",
     "text": [
      "                   all          2          3      0.949      0.667      0.863      0.534      0.949      0.667      0.863      0.614\n"
     ]
    },
    {
     "name": "stderr",
     "output_type": "stream",
     "text": [
      "\n"
     ]
    },
    {
     "name": "stdout",
     "output_type": "stream",
     "text": [
      "\n",
      "      Epoch    GPU_mem   box_loss   seg_loss   cls_loss   dfl_loss  Instances       Size\n"
     ]
    },
    {
     "name": "stderr",
     "output_type": "stream",
     "text": [
      "     81/100      3.04G     0.4876     0.5336     0.4327      1.039         67        640: 100%|██████████| 8/8 [00:01<00:00,  4.54it/s]\n",
      "                 Class     Images  Instances      Box(P          R      mAP50  mAP50-95)     Mask(P          R      mAP50  mAP50-95): 100%|██████████| 1/1 [00:00<00:00, 20.84it/s]"
     ]
    },
    {
     "name": "stdout",
     "output_type": "stream",
     "text": [
      "                   all          2          3      0.976      0.667       0.83      0.594      0.976      0.667       0.83       0.57\n"
     ]
    },
    {
     "name": "stderr",
     "output_type": "stream",
     "text": [
      "\n"
     ]
    },
    {
     "name": "stdout",
     "output_type": "stream",
     "text": [
      "\n",
      "      Epoch    GPU_mem   box_loss   seg_loss   cls_loss   dfl_loss  Instances       Size\n"
     ]
    },
    {
     "name": "stderr",
     "output_type": "stream",
     "text": [
      "     82/100      3.06G     0.4455     0.4813     0.3869     0.9915         58        640: 100%|██████████| 8/8 [00:01<00:00,  4.66it/s]\n",
      "                 Class     Images  Instances      Box(P          R      mAP50  mAP50-95)     Mask(P          R      mAP50  mAP50-95): 100%|██████████| 1/1 [00:00<00:00, 21.31it/s]"
     ]
    },
    {
     "name": "stdout",
     "output_type": "stream",
     "text": [
      "                   all          2          3       0.97      0.667      0.863      0.527       0.97      0.667      0.863      0.493\n"
     ]
    },
    {
     "name": "stderr",
     "output_type": "stream",
     "text": [
      "\n"
     ]
    },
    {
     "name": "stdout",
     "output_type": "stream",
     "text": [
      "\n",
      "      Epoch    GPU_mem   box_loss   seg_loss   cls_loss   dfl_loss  Instances       Size\n"
     ]
    },
    {
     "name": "stderr",
     "output_type": "stream",
     "text": [
      "     83/100      3.08G     0.4591     0.5089     0.4092     0.9859         66        640: 100%|██████████| 8/8 [00:01<00:00,  4.39it/s]\n",
      "                 Class     Images  Instances      Box(P          R      mAP50  mAP50-95)     Mask(P          R      mAP50  mAP50-95): 100%|██████████| 1/1 [00:00<00:00, 18.67it/s]"
     ]
    },
    {
     "name": "stdout",
     "output_type": "stream",
     "text": [
      "                   all          2          3      0.967      0.667      0.863      0.466      0.967      0.667      0.863      0.434\n"
     ]
    },
    {
     "name": "stderr",
     "output_type": "stream",
     "text": [
      "\n"
     ]
    },
    {
     "name": "stdout",
     "output_type": "stream",
     "text": [
      "\n",
      "      Epoch    GPU_mem   box_loss   seg_loss   cls_loss   dfl_loss  Instances       Size\n"
     ]
    },
    {
     "name": "stderr",
     "output_type": "stream",
     "text": [
      "     84/100      3.06G     0.4304     0.5102     0.3929     0.9963         57        640: 100%|██████████| 8/8 [00:01<00:00,  4.37it/s]\n",
      "                 Class     Images  Instances      Box(P          R      mAP50  mAP50-95)     Mask(P          R      mAP50  mAP50-95): 100%|██████████| 1/1 [00:00<00:00, 20.21it/s]"
     ]
    },
    {
     "name": "stdout",
     "output_type": "stream",
     "text": [
      "                   all          2          3       0.97      0.667      0.863      0.504       0.97      0.667      0.863      0.394\n"
     ]
    },
    {
     "name": "stderr",
     "output_type": "stream",
     "text": [
      "\n"
     ]
    },
    {
     "name": "stdout",
     "output_type": "stream",
     "text": [
      "\n",
      "      Epoch    GPU_mem   box_loss   seg_loss   cls_loss   dfl_loss  Instances       Size\n"
     ]
    },
    {
     "name": "stderr",
     "output_type": "stream",
     "text": [
      "     85/100       3.1G     0.4591     0.4929     0.4304      1.006         59        640: 100%|██████████| 8/8 [00:01<00:00,  4.57it/s]\n",
      "                 Class     Images  Instances      Box(P          R      mAP50  mAP50-95)     Mask(P          R      mAP50  mAP50-95): 100%|██████████| 1/1 [00:00<00:00, 20.45it/s]"
     ]
    },
    {
     "name": "stdout",
     "output_type": "stream",
     "text": [
      "                   all          2          3      0.998      0.667       0.83      0.413      0.998      0.667       0.83      0.324\n"
     ]
    },
    {
     "name": "stderr",
     "output_type": "stream",
     "text": [
      "\n"
     ]
    },
    {
     "name": "stdout",
     "output_type": "stream",
     "text": [
      "\n",
      "      Epoch    GPU_mem   box_loss   seg_loss   cls_loss   dfl_loss  Instances       Size\n"
     ]
    },
    {
     "name": "stderr",
     "output_type": "stream",
     "text": [
      "     86/100      3.04G     0.4759     0.4819     0.4071     0.9948         60        640: 100%|██████████| 8/8 [00:01<00:00,  4.58it/s]\n",
      "                 Class     Images  Instances      Box(P          R      mAP50  mAP50-95)     Mask(P          R      mAP50  mAP50-95): 100%|██████████| 1/1 [00:00<00:00, 21.06it/s]"
     ]
    },
    {
     "name": "stdout",
     "output_type": "stream",
     "text": [
      "                   all          2          3      0.978      0.667      0.764      0.431      0.978      0.667      0.764       0.32\n"
     ]
    },
    {
     "name": "stderr",
     "output_type": "stream",
     "text": [
      "\n"
     ]
    },
    {
     "name": "stdout",
     "output_type": "stream",
     "text": [
      "\n",
      "      Epoch    GPU_mem   box_loss   seg_loss   cls_loss   dfl_loss  Instances       Size\n"
     ]
    },
    {
     "name": "stderr",
     "output_type": "stream",
     "text": [
      "     87/100      3.06G     0.4642     0.4614     0.3939      0.983         57        640: 100%|██████████| 8/8 [00:01<00:00,  4.44it/s]\n",
      "                 Class     Images  Instances      Box(P          R      mAP50  mAP50-95)     Mask(P          R      mAP50  mAP50-95): 100%|██████████| 1/1 [00:00<00:00, 20.65it/s]"
     ]
    },
    {
     "name": "stdout",
     "output_type": "stream",
     "text": [
      "                   all          2          3      0.981      0.667      0.775      0.528      0.981      0.667      0.775      0.441\n"
     ]
    },
    {
     "name": "stderr",
     "output_type": "stream",
     "text": [
      "\n"
     ]
    },
    {
     "name": "stdout",
     "output_type": "stream",
     "text": [
      "\n",
      "      Epoch    GPU_mem   box_loss   seg_loss   cls_loss   dfl_loss  Instances       Size\n"
     ]
    },
    {
     "name": "stderr",
     "output_type": "stream",
     "text": [
      "     88/100      3.04G     0.4872     0.4738     0.4399      1.013         61        640: 100%|██████████| 8/8 [00:01<00:00,  4.59it/s]\n",
      "                 Class     Images  Instances      Box(P          R      mAP50  mAP50-95)     Mask(P          R      mAP50  mAP50-95): 100%|██████████| 1/1 [00:00<00:00, 20.28it/s]"
     ]
    },
    {
     "name": "stdout",
     "output_type": "stream",
     "text": [
      "                   all          2          3      0.981      0.667      0.723      0.502      0.981      0.667      0.723      0.409\n"
     ]
    },
    {
     "name": "stderr",
     "output_type": "stream",
     "text": [
      "\n"
     ]
    },
    {
     "name": "stdout",
     "output_type": "stream",
     "text": [
      "\n",
      "      Epoch    GPU_mem   box_loss   seg_loss   cls_loss   dfl_loss  Instances       Size\n"
     ]
    },
    {
     "name": "stderr",
     "output_type": "stream",
     "text": [
      "     89/100      3.04G     0.4628     0.4664     0.3947      1.007         55        640: 100%|██████████| 8/8 [00:01<00:00,  4.43it/s]\n",
      "                 Class     Images  Instances      Box(P          R      mAP50  mAP50-95)     Mask(P          R      mAP50  mAP50-95): 100%|██████████| 1/1 [00:00<00:00, 19.93it/s]"
     ]
    },
    {
     "name": "stdout",
     "output_type": "stream",
     "text": [
      "                   all          2          3      0.982      0.667       0.72      0.395      0.982      0.667       0.72      0.339\n"
     ]
    },
    {
     "name": "stderr",
     "output_type": "stream",
     "text": [
      "\n"
     ]
    },
    {
     "name": "stdout",
     "output_type": "stream",
     "text": [
      "\n",
      "      Epoch    GPU_mem   box_loss   seg_loss   cls_loss   dfl_loss  Instances       Size\n"
     ]
    },
    {
     "name": "stderr",
     "output_type": "stream",
     "text": [
      "     90/100      3.04G     0.4639     0.4648     0.3975      1.016         51        640: 100%|██████████| 8/8 [00:01<00:00,  4.61it/s]\n",
      "                 Class     Images  Instances      Box(P          R      mAP50  mAP50-95)     Mask(P          R      mAP50  mAP50-95): 100%|██████████| 1/1 [00:00<00:00, 19.04it/s]"
     ]
    },
    {
     "name": "stdout",
     "output_type": "stream",
     "text": [
      "                   all          2          3      0.982      0.667      0.727      0.399      0.982      0.667      0.727      0.344\n"
     ]
    },
    {
     "name": "stderr",
     "output_type": "stream",
     "text": [
      "\n"
     ]
    },
    {
     "name": "stdout",
     "output_type": "stream",
     "text": [
      "Closing dataloader mosaic\n",
      "\n",
      "      Epoch    GPU_mem   box_loss   seg_loss   cls_loss   dfl_loss  Instances       Size\n"
     ]
    },
    {
     "name": "stderr",
     "output_type": "stream",
     "text": [
      "     91/100      3.14G      0.288     0.5119     0.4232     0.9076         29        640:  50%|█████     | 4/8 [00:04<00:04,  1.05s/it]\n"
     ]
    },
    {
     "ename": "KeyboardInterrupt",
     "evalue": "",
     "output_type": "error",
     "traceback": [
      "\u001b[0;31m---------------------------------------------------------------------------\u001b[0m",
      "\u001b[0;31mKeyboardInterrupt\u001b[0m                         Traceback (most recent call last)",
      "Cell \u001b[0;32mIn[22], line 4\u001b[0m\n\u001b[1;32m      1\u001b[0m model \u001b[38;5;241m=\u001b[39m YOLO(\u001b[38;5;124m\"\u001b[39m\u001b[38;5;124mcheckpoint/fighter_1.pt\u001b[39m\u001b[38;5;124m\"\u001b[39m)\n\u001b[1;32m      2\u001b[0m model\u001b[38;5;241m.\u001b[39mto(DEVICE)\n\u001b[0;32m----> 4\u001b[0m \u001b[43mmodel\u001b[49m\u001b[38;5;241;43m.\u001b[39;49m\u001b[43mtrain\u001b[49m\u001b[43m(\u001b[49m\u001b[43mdata\u001b[49m\u001b[38;5;241;43m=\u001b[39;49m\u001b[38;5;124;43m\"\u001b[39;49m\u001b[38;5;124;43mconfig_2.yaml\u001b[39;49m\u001b[38;5;124;43m\"\u001b[39;49m\u001b[43m,\u001b[49m\u001b[43m \u001b[49m\u001b[43mepochs\u001b[49m\u001b[38;5;241;43m=\u001b[39;49m\u001b[38;5;241;43m100\u001b[39;49m\u001b[43m,\u001b[49m\u001b[43m \u001b[49m\u001b[43mimgsz\u001b[49m\u001b[38;5;241;43m=\u001b[39;49m\u001b[38;5;241;43m640\u001b[39;49m\u001b[43m)\u001b[49m\n\u001b[1;32m      5\u001b[0m model\u001b[38;5;241m.\u001b[39msave(\u001b[38;5;124m\"\u001b[39m\u001b[38;5;124mcheckpoint/fighter_2.pt\u001b[39m\u001b[38;5;124m\"\u001b[39m)\n",
      "File \u001b[0;32m~/miniconda3/envs/ultrapython/lib/python3.10/site-packages/ultralytics/engine/model.py:805\u001b[0m, in \u001b[0;36mModel.train\u001b[0;34m(self, trainer, **kwargs)\u001b[0m\n\u001b[1;32m    802\u001b[0m     \u001b[38;5;28mself\u001b[39m\u001b[38;5;241m.\u001b[39mmodel \u001b[38;5;241m=\u001b[39m \u001b[38;5;28mself\u001b[39m\u001b[38;5;241m.\u001b[39mtrainer\u001b[38;5;241m.\u001b[39mmodel\n\u001b[1;32m    804\u001b[0m \u001b[38;5;28mself\u001b[39m\u001b[38;5;241m.\u001b[39mtrainer\u001b[38;5;241m.\u001b[39mhub_session \u001b[38;5;241m=\u001b[39m \u001b[38;5;28mself\u001b[39m\u001b[38;5;241m.\u001b[39msession  \u001b[38;5;66;03m# attach optional HUB session\u001b[39;00m\n\u001b[0;32m--> 805\u001b[0m \u001b[38;5;28;43mself\u001b[39;49m\u001b[38;5;241;43m.\u001b[39;49m\u001b[43mtrainer\u001b[49m\u001b[38;5;241;43m.\u001b[39;49m\u001b[43mtrain\u001b[49m\u001b[43m(\u001b[49m\u001b[43m)\u001b[49m\n\u001b[1;32m    806\u001b[0m \u001b[38;5;66;03m# Update model and cfg after training\u001b[39;00m\n\u001b[1;32m    807\u001b[0m \u001b[38;5;28;01mif\u001b[39;00m RANK \u001b[38;5;129;01min\u001b[39;00m {\u001b[38;5;241m-\u001b[39m\u001b[38;5;241m1\u001b[39m, \u001b[38;5;241m0\u001b[39m}:\n",
      "File \u001b[0;32m~/miniconda3/envs/ultrapython/lib/python3.10/site-packages/ultralytics/engine/trainer.py:207\u001b[0m, in \u001b[0;36mBaseTrainer.train\u001b[0;34m(self)\u001b[0m\n\u001b[1;32m    204\u001b[0m         ddp_cleanup(\u001b[38;5;28mself\u001b[39m, \u001b[38;5;28mstr\u001b[39m(file))\n\u001b[1;32m    206\u001b[0m \u001b[38;5;28;01melse\u001b[39;00m:\n\u001b[0;32m--> 207\u001b[0m     \u001b[38;5;28;43mself\u001b[39;49m\u001b[38;5;241;43m.\u001b[39;49m\u001b[43m_do_train\u001b[49m\u001b[43m(\u001b[49m\u001b[43mworld_size\u001b[49m\u001b[43m)\u001b[49m\n",
      "File \u001b[0;32m~/miniconda3/envs/ultrapython/lib/python3.10/site-packages/ultralytics/engine/trainer.py:408\u001b[0m, in \u001b[0;36mBaseTrainer._do_train\u001b[0;34m(self, world_size)\u001b[0m\n\u001b[1;32m    406\u001b[0m \u001b[38;5;28;01mif\u001b[39;00m RANK \u001b[38;5;129;01min\u001b[39;00m {\u001b[38;5;241m-\u001b[39m\u001b[38;5;241m1\u001b[39m, \u001b[38;5;241m0\u001b[39m}:\n\u001b[1;32m    407\u001b[0m     loss_length \u001b[38;5;241m=\u001b[39m \u001b[38;5;28mself\u001b[39m\u001b[38;5;241m.\u001b[39mtloss\u001b[38;5;241m.\u001b[39mshape[\u001b[38;5;241m0\u001b[39m] \u001b[38;5;28;01mif\u001b[39;00m \u001b[38;5;28mlen\u001b[39m(\u001b[38;5;28mself\u001b[39m\u001b[38;5;241m.\u001b[39mtloss\u001b[38;5;241m.\u001b[39mshape) \u001b[38;5;28;01melse\u001b[39;00m \u001b[38;5;241m1\u001b[39m\n\u001b[0;32m--> 408\u001b[0m     \u001b[43mpbar\u001b[49m\u001b[38;5;241;43m.\u001b[39;49m\u001b[43mset_description\u001b[49m\u001b[43m(\u001b[49m\n\u001b[1;32m    409\u001b[0m \u001b[43m        \u001b[49m\u001b[43m(\u001b[49m\u001b[38;5;124;43m\"\u001b[39;49m\u001b[38;5;132;43;01m%11s\u001b[39;49;00m\u001b[38;5;124;43m\"\u001b[39;49m\u001b[43m \u001b[49m\u001b[38;5;241;43m*\u001b[39;49m\u001b[43m \u001b[49m\u001b[38;5;241;43m2\u001b[39;49m\u001b[43m \u001b[49m\u001b[38;5;241;43m+\u001b[39;49m\u001b[43m \u001b[49m\u001b[38;5;124;43m\"\u001b[39;49m\u001b[38;5;132;43;01m%11.4g\u001b[39;49;00m\u001b[38;5;124;43m\"\u001b[39;49m\u001b[43m \u001b[49m\u001b[38;5;241;43m*\u001b[39;49m\u001b[43m \u001b[49m\u001b[43m(\u001b[49m\u001b[38;5;241;43m2\u001b[39;49m\u001b[43m \u001b[49m\u001b[38;5;241;43m+\u001b[39;49m\u001b[43m \u001b[49m\u001b[43mloss_length\u001b[49m\u001b[43m)\u001b[49m\u001b[43m)\u001b[49m\n\u001b[1;32m    410\u001b[0m \u001b[43m        \u001b[49m\u001b[38;5;241;43m%\u001b[39;49m\u001b[43m \u001b[49m\u001b[43m(\u001b[49m\n\u001b[1;32m    411\u001b[0m \u001b[43m            \u001b[49m\u001b[38;5;124;43mf\u001b[39;49m\u001b[38;5;124;43m\"\u001b[39;49m\u001b[38;5;132;43;01m{\u001b[39;49;00m\u001b[43mepoch\u001b[49m\u001b[38;5;250;43m \u001b[39;49m\u001b[38;5;241;43m+\u001b[39;49m\u001b[38;5;250;43m \u001b[39;49m\u001b[38;5;241;43m1\u001b[39;49m\u001b[38;5;132;43;01m}\u001b[39;49;00m\u001b[38;5;124;43m/\u001b[39;49m\u001b[38;5;132;43;01m{\u001b[39;49;00m\u001b[38;5;28;43mself\u001b[39;49m\u001b[38;5;241;43m.\u001b[39;49m\u001b[43mepochs\u001b[49m\u001b[38;5;132;43;01m}\u001b[39;49;00m\u001b[38;5;124;43m\"\u001b[39;49m\u001b[43m,\u001b[49m\n\u001b[1;32m    412\u001b[0m \u001b[43m            \u001b[49m\u001b[38;5;124;43mf\u001b[39;49m\u001b[38;5;124;43m\"\u001b[39;49m\u001b[38;5;132;43;01m{\u001b[39;49;00m\u001b[38;5;28;43mself\u001b[39;49m\u001b[38;5;241;43m.\u001b[39;49m\u001b[43m_get_memory\u001b[49m\u001b[43m(\u001b[49m\u001b[43m)\u001b[49m\u001b[38;5;132;43;01m:\u001b[39;49;00m\u001b[38;5;124;43m.3g\u001b[39;49m\u001b[38;5;132;43;01m}\u001b[39;49;00m\u001b[38;5;124;43mG\u001b[39;49m\u001b[38;5;124;43m\"\u001b[39;49m\u001b[43m,\u001b[49m\u001b[43m  \u001b[49m\u001b[38;5;66;43;03m# (GB) GPU memory util\u001b[39;49;00m\n\u001b[1;32m    413\u001b[0m \u001b[43m            \u001b[49m\u001b[38;5;241;43m*\u001b[39;49m\u001b[43m(\u001b[49m\u001b[38;5;28;43mself\u001b[39;49m\u001b[38;5;241;43m.\u001b[39;49m\u001b[43mtloss\u001b[49m\u001b[43m \u001b[49m\u001b[38;5;28;43;01mif\u001b[39;49;00m\u001b[43m \u001b[49m\u001b[43mloss_length\u001b[49m\u001b[43m \u001b[49m\u001b[38;5;241;43m>\u001b[39;49m\u001b[43m \u001b[49m\u001b[38;5;241;43m1\u001b[39;49m\u001b[43m \u001b[49m\u001b[38;5;28;43;01melse\u001b[39;49;00m\u001b[43m \u001b[49m\u001b[43mtorch\u001b[49m\u001b[38;5;241;43m.\u001b[39;49m\u001b[43munsqueeze\u001b[49m\u001b[43m(\u001b[49m\u001b[38;5;28;43mself\u001b[39;49m\u001b[38;5;241;43m.\u001b[39;49m\u001b[43mtloss\u001b[49m\u001b[43m,\u001b[49m\u001b[43m \u001b[49m\u001b[38;5;241;43m0\u001b[39;49m\u001b[43m)\u001b[49m\u001b[43m)\u001b[49m\u001b[43m,\u001b[49m\u001b[43m  \u001b[49m\u001b[38;5;66;43;03m# losses\u001b[39;49;00m\n\u001b[1;32m    414\u001b[0m \u001b[43m            \u001b[49m\u001b[43mbatch\u001b[49m\u001b[43m[\u001b[49m\u001b[38;5;124;43m\"\u001b[39;49m\u001b[38;5;124;43mcls\u001b[39;49m\u001b[38;5;124;43m\"\u001b[39;49m\u001b[43m]\u001b[49m\u001b[38;5;241;43m.\u001b[39;49m\u001b[43mshape\u001b[49m\u001b[43m[\u001b[49m\u001b[38;5;241;43m0\u001b[39;49m\u001b[43m]\u001b[49m\u001b[43m,\u001b[49m\u001b[43m  \u001b[49m\u001b[38;5;66;43;03m# batch size, i.e. 8\u001b[39;49;00m\n\u001b[1;32m    415\u001b[0m \u001b[43m            \u001b[49m\u001b[43mbatch\u001b[49m\u001b[43m[\u001b[49m\u001b[38;5;124;43m\"\u001b[39;49m\u001b[38;5;124;43mimg\u001b[39;49m\u001b[38;5;124;43m\"\u001b[39;49m\u001b[43m]\u001b[49m\u001b[38;5;241;43m.\u001b[39;49m\u001b[43mshape\u001b[49m\u001b[43m[\u001b[49m\u001b[38;5;241;43m-\u001b[39;49m\u001b[38;5;241;43m1\u001b[39;49m\u001b[43m]\u001b[49m\u001b[43m,\u001b[49m\u001b[43m  \u001b[49m\u001b[38;5;66;43;03m# imgsz, i.e 640\u001b[39;49;00m\n\u001b[1;32m    416\u001b[0m \u001b[43m        \u001b[49m\u001b[43m)\u001b[49m\n\u001b[1;32m    417\u001b[0m \u001b[43m    \u001b[49m\u001b[43m)\u001b[49m\n\u001b[1;32m    418\u001b[0m     \u001b[38;5;28mself\u001b[39m\u001b[38;5;241m.\u001b[39mrun_callbacks(\u001b[38;5;124m\"\u001b[39m\u001b[38;5;124mon_batch_end\u001b[39m\u001b[38;5;124m\"\u001b[39m)\n\u001b[1;32m    419\u001b[0m     \u001b[38;5;28;01mif\u001b[39;00m \u001b[38;5;28mself\u001b[39m\u001b[38;5;241m.\u001b[39margs\u001b[38;5;241m.\u001b[39mplots \u001b[38;5;129;01mand\u001b[39;00m ni \u001b[38;5;129;01min\u001b[39;00m \u001b[38;5;28mself\u001b[39m\u001b[38;5;241m.\u001b[39mplot_idx:\n",
      "File \u001b[0;32m~/miniconda3/envs/ultrapython/lib/python3.10/site-packages/tqdm/std.py:1382\u001b[0m, in \u001b[0;36mtqdm.set_description\u001b[0;34m(self, desc, refresh)\u001b[0m\n\u001b[1;32m   1379\u001b[0m     \u001b[38;5;28mself\u001b[39m\u001b[38;5;241m.\u001b[39m_ema_miniters \u001b[38;5;241m=\u001b[39m EMA(\u001b[38;5;28mself\u001b[39m\u001b[38;5;241m.\u001b[39msmoothing)\n\u001b[1;32m   1380\u001b[0m     \u001b[38;5;28mself\u001b[39m\u001b[38;5;241m.\u001b[39mrefresh()\n\u001b[0;32m-> 1382\u001b[0m \u001b[38;5;28;01mdef\u001b[39;00m \u001b[38;5;21mset_description\u001b[39m(\u001b[38;5;28mself\u001b[39m, desc\u001b[38;5;241m=\u001b[39m\u001b[38;5;28;01mNone\u001b[39;00m, refresh\u001b[38;5;241m=\u001b[39m\u001b[38;5;28;01mTrue\u001b[39;00m):\n\u001b[1;32m   1383\u001b[0m \u001b[38;5;250m    \u001b[39m\u001b[38;5;124;03m\"\"\"\u001b[39;00m\n\u001b[1;32m   1384\u001b[0m \u001b[38;5;124;03m    Set/modify description of the progress bar.\u001b[39;00m\n\u001b[1;32m   1385\u001b[0m \n\u001b[0;32m   (...)\u001b[0m\n\u001b[1;32m   1390\u001b[0m \u001b[38;5;124;03m        Forces refresh [default: True].\u001b[39;00m\n\u001b[1;32m   1391\u001b[0m \u001b[38;5;124;03m    \"\"\"\u001b[39;00m\n\u001b[1;32m   1392\u001b[0m     \u001b[38;5;28mself\u001b[39m\u001b[38;5;241m.\u001b[39mdesc \u001b[38;5;241m=\u001b[39m desc \u001b[38;5;241m+\u001b[39m \u001b[38;5;124m'\u001b[39m\u001b[38;5;124m: \u001b[39m\u001b[38;5;124m'\u001b[39m \u001b[38;5;28;01mif\u001b[39;00m desc \u001b[38;5;28;01melse\u001b[39;00m \u001b[38;5;124m'\u001b[39m\u001b[38;5;124m'\u001b[39m\n",
      "\u001b[0;31mKeyboardInterrupt\u001b[0m: "
     ]
    }
   ],
   "source": [
    "model = YOLO(\"checkpoint/fighter_1.pt\")\n",
    "model.to(DEVICE)\n",
    "\n",
    "model.train(data=\"config_2.yaml\", epochs=100, imgsz=640)\n",
    "model.save(\"checkpoint/fighter_2.pt\")"
   ]
  },
  {
   "cell_type": "code",
   "execution_count": 23,
   "metadata": {},
   "outputs": [
    {
     "data": {
      "text/plain": [
       "YOLO(\n",
       "  (model): SegmentationModel(\n",
       "    (model): Sequential(\n",
       "      (0): Conv(\n",
       "        (conv): Conv2d(3, 16, kernel_size=(3, 3), stride=(2, 2), padding=(1, 1), bias=False)\n",
       "        (bn): BatchNorm2d(16, eps=0.001, momentum=0.03, affine=True, track_running_stats=True)\n",
       "        (act): SiLU(inplace=True)\n",
       "      )\n",
       "      (1): Conv(\n",
       "        (conv): Conv2d(16, 32, kernel_size=(3, 3), stride=(2, 2), padding=(1, 1), bias=False)\n",
       "        (bn): BatchNorm2d(32, eps=0.001, momentum=0.03, affine=True, track_running_stats=True)\n",
       "        (act): SiLU(inplace=True)\n",
       "      )\n",
       "      (2): C3k2(\n",
       "        (cv1): Conv(\n",
       "          (conv): Conv2d(32, 32, kernel_size=(1, 1), stride=(1, 1), bias=False)\n",
       "          (bn): BatchNorm2d(32, eps=0.001, momentum=0.03, affine=True, track_running_stats=True)\n",
       "          (act): SiLU(inplace=True)\n",
       "        )\n",
       "        (cv2): Conv(\n",
       "          (conv): Conv2d(48, 64, kernel_size=(1, 1), stride=(1, 1), bias=False)\n",
       "          (bn): BatchNorm2d(64, eps=0.001, momentum=0.03, affine=True, track_running_stats=True)\n",
       "          (act): SiLU(inplace=True)\n",
       "        )\n",
       "        (m): ModuleList(\n",
       "          (0): Bottleneck(\n",
       "            (cv1): Conv(\n",
       "              (conv): Conv2d(16, 8, kernel_size=(3, 3), stride=(1, 1), padding=(1, 1), bias=False)\n",
       "              (bn): BatchNorm2d(8, eps=0.001, momentum=0.03, affine=True, track_running_stats=True)\n",
       "              (act): SiLU(inplace=True)\n",
       "            )\n",
       "            (cv2): Conv(\n",
       "              (conv): Conv2d(8, 16, kernel_size=(3, 3), stride=(1, 1), padding=(1, 1), bias=False)\n",
       "              (bn): BatchNorm2d(16, eps=0.001, momentum=0.03, affine=True, track_running_stats=True)\n",
       "              (act): SiLU(inplace=True)\n",
       "            )\n",
       "          )\n",
       "        )\n",
       "      )\n",
       "      (3): Conv(\n",
       "        (conv): Conv2d(64, 64, kernel_size=(3, 3), stride=(2, 2), padding=(1, 1), bias=False)\n",
       "        (bn): BatchNorm2d(64, eps=0.001, momentum=0.03, affine=True, track_running_stats=True)\n",
       "        (act): SiLU(inplace=True)\n",
       "      )\n",
       "      (4): C3k2(\n",
       "        (cv1): Conv(\n",
       "          (conv): Conv2d(64, 64, kernel_size=(1, 1), stride=(1, 1), bias=False)\n",
       "          (bn): BatchNorm2d(64, eps=0.001, momentum=0.03, affine=True, track_running_stats=True)\n",
       "          (act): SiLU(inplace=True)\n",
       "        )\n",
       "        (cv2): Conv(\n",
       "          (conv): Conv2d(96, 128, kernel_size=(1, 1), stride=(1, 1), bias=False)\n",
       "          (bn): BatchNorm2d(128, eps=0.001, momentum=0.03, affine=True, track_running_stats=True)\n",
       "          (act): SiLU(inplace=True)\n",
       "        )\n",
       "        (m): ModuleList(\n",
       "          (0): Bottleneck(\n",
       "            (cv1): Conv(\n",
       "              (conv): Conv2d(32, 16, kernel_size=(3, 3), stride=(1, 1), padding=(1, 1), bias=False)\n",
       "              (bn): BatchNorm2d(16, eps=0.001, momentum=0.03, affine=True, track_running_stats=True)\n",
       "              (act): SiLU(inplace=True)\n",
       "            )\n",
       "            (cv2): Conv(\n",
       "              (conv): Conv2d(16, 32, kernel_size=(3, 3), stride=(1, 1), padding=(1, 1), bias=False)\n",
       "              (bn): BatchNorm2d(32, eps=0.001, momentum=0.03, affine=True, track_running_stats=True)\n",
       "              (act): SiLU(inplace=True)\n",
       "            )\n",
       "          )\n",
       "        )\n",
       "      )\n",
       "      (5): Conv(\n",
       "        (conv): Conv2d(128, 128, kernel_size=(3, 3), stride=(2, 2), padding=(1, 1), bias=False)\n",
       "        (bn): BatchNorm2d(128, eps=0.001, momentum=0.03, affine=True, track_running_stats=True)\n",
       "        (act): SiLU(inplace=True)\n",
       "      )\n",
       "      (6): C3k2(\n",
       "        (cv1): Conv(\n",
       "          (conv): Conv2d(128, 128, kernel_size=(1, 1), stride=(1, 1), bias=False)\n",
       "          (bn): BatchNorm2d(128, eps=0.001, momentum=0.03, affine=True, track_running_stats=True)\n",
       "          (act): SiLU(inplace=True)\n",
       "        )\n",
       "        (cv2): Conv(\n",
       "          (conv): Conv2d(192, 128, kernel_size=(1, 1), stride=(1, 1), bias=False)\n",
       "          (bn): BatchNorm2d(128, eps=0.001, momentum=0.03, affine=True, track_running_stats=True)\n",
       "          (act): SiLU(inplace=True)\n",
       "        )\n",
       "        (m): ModuleList(\n",
       "          (0): C3k(\n",
       "            (cv1): Conv(\n",
       "              (conv): Conv2d(64, 32, kernel_size=(1, 1), stride=(1, 1), bias=False)\n",
       "              (bn): BatchNorm2d(32, eps=0.001, momentum=0.03, affine=True, track_running_stats=True)\n",
       "              (act): SiLU(inplace=True)\n",
       "            )\n",
       "            (cv2): Conv(\n",
       "              (conv): Conv2d(64, 32, kernel_size=(1, 1), stride=(1, 1), bias=False)\n",
       "              (bn): BatchNorm2d(32, eps=0.001, momentum=0.03, affine=True, track_running_stats=True)\n",
       "              (act): SiLU(inplace=True)\n",
       "            )\n",
       "            (cv3): Conv(\n",
       "              (conv): Conv2d(64, 64, kernel_size=(1, 1), stride=(1, 1), bias=False)\n",
       "              (bn): BatchNorm2d(64, eps=0.001, momentum=0.03, affine=True, track_running_stats=True)\n",
       "              (act): SiLU(inplace=True)\n",
       "            )\n",
       "            (m): Sequential(\n",
       "              (0): Bottleneck(\n",
       "                (cv1): Conv(\n",
       "                  (conv): Conv2d(32, 32, kernel_size=(3, 3), stride=(1, 1), padding=(1, 1), bias=False)\n",
       "                  (bn): BatchNorm2d(32, eps=0.001, momentum=0.03, affine=True, track_running_stats=True)\n",
       "                  (act): SiLU(inplace=True)\n",
       "                )\n",
       "                (cv2): Conv(\n",
       "                  (conv): Conv2d(32, 32, kernel_size=(3, 3), stride=(1, 1), padding=(1, 1), bias=False)\n",
       "                  (bn): BatchNorm2d(32, eps=0.001, momentum=0.03, affine=True, track_running_stats=True)\n",
       "                  (act): SiLU(inplace=True)\n",
       "                )\n",
       "              )\n",
       "              (1): Bottleneck(\n",
       "                (cv1): Conv(\n",
       "                  (conv): Conv2d(32, 32, kernel_size=(3, 3), stride=(1, 1), padding=(1, 1), bias=False)\n",
       "                  (bn): BatchNorm2d(32, eps=0.001, momentum=0.03, affine=True, track_running_stats=True)\n",
       "                  (act): SiLU(inplace=True)\n",
       "                )\n",
       "                (cv2): Conv(\n",
       "                  (conv): Conv2d(32, 32, kernel_size=(3, 3), stride=(1, 1), padding=(1, 1), bias=False)\n",
       "                  (bn): BatchNorm2d(32, eps=0.001, momentum=0.03, affine=True, track_running_stats=True)\n",
       "                  (act): SiLU(inplace=True)\n",
       "                )\n",
       "              )\n",
       "            )\n",
       "          )\n",
       "        )\n",
       "      )\n",
       "      (7): Conv(\n",
       "        (conv): Conv2d(128, 256, kernel_size=(3, 3), stride=(2, 2), padding=(1, 1), bias=False)\n",
       "        (bn): BatchNorm2d(256, eps=0.001, momentum=0.03, affine=True, track_running_stats=True)\n",
       "        (act): SiLU(inplace=True)\n",
       "      )\n",
       "      (8): C3k2(\n",
       "        (cv1): Conv(\n",
       "          (conv): Conv2d(256, 256, kernel_size=(1, 1), stride=(1, 1), bias=False)\n",
       "          (bn): BatchNorm2d(256, eps=0.001, momentum=0.03, affine=True, track_running_stats=True)\n",
       "          (act): SiLU(inplace=True)\n",
       "        )\n",
       "        (cv2): Conv(\n",
       "          (conv): Conv2d(384, 256, kernel_size=(1, 1), stride=(1, 1), bias=False)\n",
       "          (bn): BatchNorm2d(256, eps=0.001, momentum=0.03, affine=True, track_running_stats=True)\n",
       "          (act): SiLU(inplace=True)\n",
       "        )\n",
       "        (m): ModuleList(\n",
       "          (0): C3k(\n",
       "            (cv1): Conv(\n",
       "              (conv): Conv2d(128, 64, kernel_size=(1, 1), stride=(1, 1), bias=False)\n",
       "              (bn): BatchNorm2d(64, eps=0.001, momentum=0.03, affine=True, track_running_stats=True)\n",
       "              (act): SiLU(inplace=True)\n",
       "            )\n",
       "            (cv2): Conv(\n",
       "              (conv): Conv2d(128, 64, kernel_size=(1, 1), stride=(1, 1), bias=False)\n",
       "              (bn): BatchNorm2d(64, eps=0.001, momentum=0.03, affine=True, track_running_stats=True)\n",
       "              (act): SiLU(inplace=True)\n",
       "            )\n",
       "            (cv3): Conv(\n",
       "              (conv): Conv2d(128, 128, kernel_size=(1, 1), stride=(1, 1), bias=False)\n",
       "              (bn): BatchNorm2d(128, eps=0.001, momentum=0.03, affine=True, track_running_stats=True)\n",
       "              (act): SiLU(inplace=True)\n",
       "            )\n",
       "            (m): Sequential(\n",
       "              (0): Bottleneck(\n",
       "                (cv1): Conv(\n",
       "                  (conv): Conv2d(64, 64, kernel_size=(3, 3), stride=(1, 1), padding=(1, 1), bias=False)\n",
       "                  (bn): BatchNorm2d(64, eps=0.001, momentum=0.03, affine=True, track_running_stats=True)\n",
       "                  (act): SiLU(inplace=True)\n",
       "                )\n",
       "                (cv2): Conv(\n",
       "                  (conv): Conv2d(64, 64, kernel_size=(3, 3), stride=(1, 1), padding=(1, 1), bias=False)\n",
       "                  (bn): BatchNorm2d(64, eps=0.001, momentum=0.03, affine=True, track_running_stats=True)\n",
       "                  (act): SiLU(inplace=True)\n",
       "                )\n",
       "              )\n",
       "              (1): Bottleneck(\n",
       "                (cv1): Conv(\n",
       "                  (conv): Conv2d(64, 64, kernel_size=(3, 3), stride=(1, 1), padding=(1, 1), bias=False)\n",
       "                  (bn): BatchNorm2d(64, eps=0.001, momentum=0.03, affine=True, track_running_stats=True)\n",
       "                  (act): SiLU(inplace=True)\n",
       "                )\n",
       "                (cv2): Conv(\n",
       "                  (conv): Conv2d(64, 64, kernel_size=(3, 3), stride=(1, 1), padding=(1, 1), bias=False)\n",
       "                  (bn): BatchNorm2d(64, eps=0.001, momentum=0.03, affine=True, track_running_stats=True)\n",
       "                  (act): SiLU(inplace=True)\n",
       "                )\n",
       "              )\n",
       "            )\n",
       "          )\n",
       "        )\n",
       "      )\n",
       "      (9): SPPF(\n",
       "        (cv1): Conv(\n",
       "          (conv): Conv2d(256, 128, kernel_size=(1, 1), stride=(1, 1), bias=False)\n",
       "          (bn): BatchNorm2d(128, eps=0.001, momentum=0.03, affine=True, track_running_stats=True)\n",
       "          (act): SiLU(inplace=True)\n",
       "        )\n",
       "        (cv2): Conv(\n",
       "          (conv): Conv2d(512, 256, kernel_size=(1, 1), stride=(1, 1), bias=False)\n",
       "          (bn): BatchNorm2d(256, eps=0.001, momentum=0.03, affine=True, track_running_stats=True)\n",
       "          (act): SiLU(inplace=True)\n",
       "        )\n",
       "        (m): MaxPool2d(kernel_size=5, stride=1, padding=2, dilation=1, ceil_mode=False)\n",
       "      )\n",
       "      (10): C2PSA(\n",
       "        (cv1): Conv(\n",
       "          (conv): Conv2d(256, 256, kernel_size=(1, 1), stride=(1, 1), bias=False)\n",
       "          (bn): BatchNorm2d(256, eps=0.001, momentum=0.03, affine=True, track_running_stats=True)\n",
       "          (act): SiLU(inplace=True)\n",
       "        )\n",
       "        (cv2): Conv(\n",
       "          (conv): Conv2d(256, 256, kernel_size=(1, 1), stride=(1, 1), bias=False)\n",
       "          (bn): BatchNorm2d(256, eps=0.001, momentum=0.03, affine=True, track_running_stats=True)\n",
       "          (act): SiLU(inplace=True)\n",
       "        )\n",
       "        (m): Sequential(\n",
       "          (0): PSABlock(\n",
       "            (attn): Attention(\n",
       "              (qkv): Conv(\n",
       "                (conv): Conv2d(128, 256, kernel_size=(1, 1), stride=(1, 1), bias=False)\n",
       "                (bn): BatchNorm2d(256, eps=0.001, momentum=0.03, affine=True, track_running_stats=True)\n",
       "                (act): Identity()\n",
       "              )\n",
       "              (proj): Conv(\n",
       "                (conv): Conv2d(128, 128, kernel_size=(1, 1), stride=(1, 1), bias=False)\n",
       "                (bn): BatchNorm2d(128, eps=0.001, momentum=0.03, affine=True, track_running_stats=True)\n",
       "                (act): Identity()\n",
       "              )\n",
       "              (pe): Conv(\n",
       "                (conv): Conv2d(128, 128, kernel_size=(3, 3), stride=(1, 1), padding=(1, 1), groups=128, bias=False)\n",
       "                (bn): BatchNorm2d(128, eps=0.001, momentum=0.03, affine=True, track_running_stats=True)\n",
       "                (act): Identity()\n",
       "              )\n",
       "            )\n",
       "            (ffn): Sequential(\n",
       "              (0): Conv(\n",
       "                (conv): Conv2d(128, 256, kernel_size=(1, 1), stride=(1, 1), bias=False)\n",
       "                (bn): BatchNorm2d(256, eps=0.001, momentum=0.03, affine=True, track_running_stats=True)\n",
       "                (act): SiLU(inplace=True)\n",
       "              )\n",
       "              (1): Conv(\n",
       "                (conv): Conv2d(256, 128, kernel_size=(1, 1), stride=(1, 1), bias=False)\n",
       "                (bn): BatchNorm2d(128, eps=0.001, momentum=0.03, affine=True, track_running_stats=True)\n",
       "                (act): Identity()\n",
       "              )\n",
       "            )\n",
       "          )\n",
       "        )\n",
       "      )\n",
       "      (11): Upsample(scale_factor=2.0, mode='nearest')\n",
       "      (12): Concat()\n",
       "      (13): C3k2(\n",
       "        (cv1): Conv(\n",
       "          (conv): Conv2d(384, 128, kernel_size=(1, 1), stride=(1, 1), bias=False)\n",
       "          (bn): BatchNorm2d(128, eps=0.001, momentum=0.03, affine=True, track_running_stats=True)\n",
       "          (act): SiLU(inplace=True)\n",
       "        )\n",
       "        (cv2): Conv(\n",
       "          (conv): Conv2d(192, 128, kernel_size=(1, 1), stride=(1, 1), bias=False)\n",
       "          (bn): BatchNorm2d(128, eps=0.001, momentum=0.03, affine=True, track_running_stats=True)\n",
       "          (act): SiLU(inplace=True)\n",
       "        )\n",
       "        (m): ModuleList(\n",
       "          (0): Bottleneck(\n",
       "            (cv1): Conv(\n",
       "              (conv): Conv2d(64, 32, kernel_size=(3, 3), stride=(1, 1), padding=(1, 1), bias=False)\n",
       "              (bn): BatchNorm2d(32, eps=0.001, momentum=0.03, affine=True, track_running_stats=True)\n",
       "              (act): SiLU(inplace=True)\n",
       "            )\n",
       "            (cv2): Conv(\n",
       "              (conv): Conv2d(32, 64, kernel_size=(3, 3), stride=(1, 1), padding=(1, 1), bias=False)\n",
       "              (bn): BatchNorm2d(64, eps=0.001, momentum=0.03, affine=True, track_running_stats=True)\n",
       "              (act): SiLU(inplace=True)\n",
       "            )\n",
       "          )\n",
       "        )\n",
       "      )\n",
       "      (14): Upsample(scale_factor=2.0, mode='nearest')\n",
       "      (15): Concat()\n",
       "      (16): C3k2(\n",
       "        (cv1): Conv(\n",
       "          (conv): Conv2d(256, 64, kernel_size=(1, 1), stride=(1, 1), bias=False)\n",
       "          (bn): BatchNorm2d(64, eps=0.001, momentum=0.03, affine=True, track_running_stats=True)\n",
       "          (act): SiLU(inplace=True)\n",
       "        )\n",
       "        (cv2): Conv(\n",
       "          (conv): Conv2d(96, 64, kernel_size=(1, 1), stride=(1, 1), bias=False)\n",
       "          (bn): BatchNorm2d(64, eps=0.001, momentum=0.03, affine=True, track_running_stats=True)\n",
       "          (act): SiLU(inplace=True)\n",
       "        )\n",
       "        (m): ModuleList(\n",
       "          (0): Bottleneck(\n",
       "            (cv1): Conv(\n",
       "              (conv): Conv2d(32, 16, kernel_size=(3, 3), stride=(1, 1), padding=(1, 1), bias=False)\n",
       "              (bn): BatchNorm2d(16, eps=0.001, momentum=0.03, affine=True, track_running_stats=True)\n",
       "              (act): SiLU(inplace=True)\n",
       "            )\n",
       "            (cv2): Conv(\n",
       "              (conv): Conv2d(16, 32, kernel_size=(3, 3), stride=(1, 1), padding=(1, 1), bias=False)\n",
       "              (bn): BatchNorm2d(32, eps=0.001, momentum=0.03, affine=True, track_running_stats=True)\n",
       "              (act): SiLU(inplace=True)\n",
       "            )\n",
       "          )\n",
       "        )\n",
       "      )\n",
       "      (17): Conv(\n",
       "        (conv): Conv2d(64, 64, kernel_size=(3, 3), stride=(2, 2), padding=(1, 1), bias=False)\n",
       "        (bn): BatchNorm2d(64, eps=0.001, momentum=0.03, affine=True, track_running_stats=True)\n",
       "        (act): SiLU(inplace=True)\n",
       "      )\n",
       "      (18): Concat()\n",
       "      (19): C3k2(\n",
       "        (cv1): Conv(\n",
       "          (conv): Conv2d(192, 128, kernel_size=(1, 1), stride=(1, 1), bias=False)\n",
       "          (bn): BatchNorm2d(128, eps=0.001, momentum=0.03, affine=True, track_running_stats=True)\n",
       "          (act): SiLU(inplace=True)\n",
       "        )\n",
       "        (cv2): Conv(\n",
       "          (conv): Conv2d(192, 128, kernel_size=(1, 1), stride=(1, 1), bias=False)\n",
       "          (bn): BatchNorm2d(128, eps=0.001, momentum=0.03, affine=True, track_running_stats=True)\n",
       "          (act): SiLU(inplace=True)\n",
       "        )\n",
       "        (m): ModuleList(\n",
       "          (0): Bottleneck(\n",
       "            (cv1): Conv(\n",
       "              (conv): Conv2d(64, 32, kernel_size=(3, 3), stride=(1, 1), padding=(1, 1), bias=False)\n",
       "              (bn): BatchNorm2d(32, eps=0.001, momentum=0.03, affine=True, track_running_stats=True)\n",
       "              (act): SiLU(inplace=True)\n",
       "            )\n",
       "            (cv2): Conv(\n",
       "              (conv): Conv2d(32, 64, kernel_size=(3, 3), stride=(1, 1), padding=(1, 1), bias=False)\n",
       "              (bn): BatchNorm2d(64, eps=0.001, momentum=0.03, affine=True, track_running_stats=True)\n",
       "              (act): SiLU(inplace=True)\n",
       "            )\n",
       "          )\n",
       "        )\n",
       "      )\n",
       "      (20): Conv(\n",
       "        (conv): Conv2d(128, 128, kernel_size=(3, 3), stride=(2, 2), padding=(1, 1), bias=False)\n",
       "        (bn): BatchNorm2d(128, eps=0.001, momentum=0.03, affine=True, track_running_stats=True)\n",
       "        (act): SiLU(inplace=True)\n",
       "      )\n",
       "      (21): Concat()\n",
       "      (22): C3k2(\n",
       "        (cv1): Conv(\n",
       "          (conv): Conv2d(384, 256, kernel_size=(1, 1), stride=(1, 1), bias=False)\n",
       "          (bn): BatchNorm2d(256, eps=0.001, momentum=0.03, affine=True, track_running_stats=True)\n",
       "          (act): SiLU(inplace=True)\n",
       "        )\n",
       "        (cv2): Conv(\n",
       "          (conv): Conv2d(384, 256, kernel_size=(1, 1), stride=(1, 1), bias=False)\n",
       "          (bn): BatchNorm2d(256, eps=0.001, momentum=0.03, affine=True, track_running_stats=True)\n",
       "          (act): SiLU(inplace=True)\n",
       "        )\n",
       "        (m): ModuleList(\n",
       "          (0): C3k(\n",
       "            (cv1): Conv(\n",
       "              (conv): Conv2d(128, 64, kernel_size=(1, 1), stride=(1, 1), bias=False)\n",
       "              (bn): BatchNorm2d(64, eps=0.001, momentum=0.03, affine=True, track_running_stats=True)\n",
       "              (act): SiLU(inplace=True)\n",
       "            )\n",
       "            (cv2): Conv(\n",
       "              (conv): Conv2d(128, 64, kernel_size=(1, 1), stride=(1, 1), bias=False)\n",
       "              (bn): BatchNorm2d(64, eps=0.001, momentum=0.03, affine=True, track_running_stats=True)\n",
       "              (act): SiLU(inplace=True)\n",
       "            )\n",
       "            (cv3): Conv(\n",
       "              (conv): Conv2d(128, 128, kernel_size=(1, 1), stride=(1, 1), bias=False)\n",
       "              (bn): BatchNorm2d(128, eps=0.001, momentum=0.03, affine=True, track_running_stats=True)\n",
       "              (act): SiLU(inplace=True)\n",
       "            )\n",
       "            (m): Sequential(\n",
       "              (0): Bottleneck(\n",
       "                (cv1): Conv(\n",
       "                  (conv): Conv2d(64, 64, kernel_size=(3, 3), stride=(1, 1), padding=(1, 1), bias=False)\n",
       "                  (bn): BatchNorm2d(64, eps=0.001, momentum=0.03, affine=True, track_running_stats=True)\n",
       "                  (act): SiLU(inplace=True)\n",
       "                )\n",
       "                (cv2): Conv(\n",
       "                  (conv): Conv2d(64, 64, kernel_size=(3, 3), stride=(1, 1), padding=(1, 1), bias=False)\n",
       "                  (bn): BatchNorm2d(64, eps=0.001, momentum=0.03, affine=True, track_running_stats=True)\n",
       "                  (act): SiLU(inplace=True)\n",
       "                )\n",
       "              )\n",
       "              (1): Bottleneck(\n",
       "                (cv1): Conv(\n",
       "                  (conv): Conv2d(64, 64, kernel_size=(3, 3), stride=(1, 1), padding=(1, 1), bias=False)\n",
       "                  (bn): BatchNorm2d(64, eps=0.001, momentum=0.03, affine=True, track_running_stats=True)\n",
       "                  (act): SiLU(inplace=True)\n",
       "                )\n",
       "                (cv2): Conv(\n",
       "                  (conv): Conv2d(64, 64, kernel_size=(3, 3), stride=(1, 1), padding=(1, 1), bias=False)\n",
       "                  (bn): BatchNorm2d(64, eps=0.001, momentum=0.03, affine=True, track_running_stats=True)\n",
       "                  (act): SiLU(inplace=True)\n",
       "                )\n",
       "              )\n",
       "            )\n",
       "          )\n",
       "        )\n",
       "      )\n",
       "      (23): Segment(\n",
       "        (cv2): ModuleList(\n",
       "          (0): Sequential(\n",
       "            (0): Conv(\n",
       "              (conv): Conv2d(64, 64, kernel_size=(3, 3), stride=(1, 1), padding=(1, 1), bias=False)\n",
       "              (bn): BatchNorm2d(64, eps=0.001, momentum=0.03, affine=True, track_running_stats=True)\n",
       "              (act): SiLU(inplace=True)\n",
       "            )\n",
       "            (1): Conv(\n",
       "              (conv): Conv2d(64, 64, kernel_size=(3, 3), stride=(1, 1), padding=(1, 1), bias=False)\n",
       "              (bn): BatchNorm2d(64, eps=0.001, momentum=0.03, affine=True, track_running_stats=True)\n",
       "              (act): SiLU(inplace=True)\n",
       "            )\n",
       "            (2): Conv2d(64, 64, kernel_size=(1, 1), stride=(1, 1))\n",
       "          )\n",
       "          (1): Sequential(\n",
       "            (0): Conv(\n",
       "              (conv): Conv2d(128, 64, kernel_size=(3, 3), stride=(1, 1), padding=(1, 1), bias=False)\n",
       "              (bn): BatchNorm2d(64, eps=0.001, momentum=0.03, affine=True, track_running_stats=True)\n",
       "              (act): SiLU(inplace=True)\n",
       "            )\n",
       "            (1): Conv(\n",
       "              (conv): Conv2d(64, 64, kernel_size=(3, 3), stride=(1, 1), padding=(1, 1), bias=False)\n",
       "              (bn): BatchNorm2d(64, eps=0.001, momentum=0.03, affine=True, track_running_stats=True)\n",
       "              (act): SiLU(inplace=True)\n",
       "            )\n",
       "            (2): Conv2d(64, 64, kernel_size=(1, 1), stride=(1, 1))\n",
       "          )\n",
       "          (2): Sequential(\n",
       "            (0): Conv(\n",
       "              (conv): Conv2d(256, 64, kernel_size=(3, 3), stride=(1, 1), padding=(1, 1), bias=False)\n",
       "              (bn): BatchNorm2d(64, eps=0.001, momentum=0.03, affine=True, track_running_stats=True)\n",
       "              (act): SiLU(inplace=True)\n",
       "            )\n",
       "            (1): Conv(\n",
       "              (conv): Conv2d(64, 64, kernel_size=(3, 3), stride=(1, 1), padding=(1, 1), bias=False)\n",
       "              (bn): BatchNorm2d(64, eps=0.001, momentum=0.03, affine=True, track_running_stats=True)\n",
       "              (act): SiLU(inplace=True)\n",
       "            )\n",
       "            (2): Conv2d(64, 64, kernel_size=(1, 1), stride=(1, 1))\n",
       "          )\n",
       "        )\n",
       "        (cv3): ModuleList(\n",
       "          (0): Sequential(\n",
       "            (0): Sequential(\n",
       "              (0): DWConv(\n",
       "                (conv): Conv2d(64, 64, kernel_size=(3, 3), stride=(1, 1), padding=(1, 1), groups=64, bias=False)\n",
       "                (bn): BatchNorm2d(64, eps=0.001, momentum=0.03, affine=True, track_running_stats=True)\n",
       "                (act): SiLU(inplace=True)\n",
       "              )\n",
       "              (1): Conv(\n",
       "                (conv): Conv2d(64, 64, kernel_size=(1, 1), stride=(1, 1), bias=False)\n",
       "                (bn): BatchNorm2d(64, eps=0.001, momentum=0.03, affine=True, track_running_stats=True)\n",
       "                (act): SiLU(inplace=True)\n",
       "              )\n",
       "            )\n",
       "            (1): Sequential(\n",
       "              (0): DWConv(\n",
       "                (conv): Conv2d(64, 64, kernel_size=(3, 3), stride=(1, 1), padding=(1, 1), groups=64, bias=False)\n",
       "                (bn): BatchNorm2d(64, eps=0.001, momentum=0.03, affine=True, track_running_stats=True)\n",
       "                (act): SiLU(inplace=True)\n",
       "              )\n",
       "              (1): Conv(\n",
       "                (conv): Conv2d(64, 64, kernel_size=(1, 1), stride=(1, 1), bias=False)\n",
       "                (bn): BatchNorm2d(64, eps=0.001, momentum=0.03, affine=True, track_running_stats=True)\n",
       "                (act): SiLU(inplace=True)\n",
       "              )\n",
       "            )\n",
       "            (2): Conv2d(64, 1, kernel_size=(1, 1), stride=(1, 1))\n",
       "          )\n",
       "          (1): Sequential(\n",
       "            (0): Sequential(\n",
       "              (0): DWConv(\n",
       "                (conv): Conv2d(128, 128, kernel_size=(3, 3), stride=(1, 1), padding=(1, 1), groups=128, bias=False)\n",
       "                (bn): BatchNorm2d(128, eps=0.001, momentum=0.03, affine=True, track_running_stats=True)\n",
       "                (act): SiLU(inplace=True)\n",
       "              )\n",
       "              (1): Conv(\n",
       "                (conv): Conv2d(128, 64, kernel_size=(1, 1), stride=(1, 1), bias=False)\n",
       "                (bn): BatchNorm2d(64, eps=0.001, momentum=0.03, affine=True, track_running_stats=True)\n",
       "                (act): SiLU(inplace=True)\n",
       "              )\n",
       "            )\n",
       "            (1): Sequential(\n",
       "              (0): DWConv(\n",
       "                (conv): Conv2d(64, 64, kernel_size=(3, 3), stride=(1, 1), padding=(1, 1), groups=64, bias=False)\n",
       "                (bn): BatchNorm2d(64, eps=0.001, momentum=0.03, affine=True, track_running_stats=True)\n",
       "                (act): SiLU(inplace=True)\n",
       "              )\n",
       "              (1): Conv(\n",
       "                (conv): Conv2d(64, 64, kernel_size=(1, 1), stride=(1, 1), bias=False)\n",
       "                (bn): BatchNorm2d(64, eps=0.001, momentum=0.03, affine=True, track_running_stats=True)\n",
       "                (act): SiLU(inplace=True)\n",
       "              )\n",
       "            )\n",
       "            (2): Conv2d(64, 1, kernel_size=(1, 1), stride=(1, 1))\n",
       "          )\n",
       "          (2): Sequential(\n",
       "            (0): Sequential(\n",
       "              (0): DWConv(\n",
       "                (conv): Conv2d(256, 256, kernel_size=(3, 3), stride=(1, 1), padding=(1, 1), groups=256, bias=False)\n",
       "                (bn): BatchNorm2d(256, eps=0.001, momentum=0.03, affine=True, track_running_stats=True)\n",
       "                (act): SiLU(inplace=True)\n",
       "              )\n",
       "              (1): Conv(\n",
       "                (conv): Conv2d(256, 64, kernel_size=(1, 1), stride=(1, 1), bias=False)\n",
       "                (bn): BatchNorm2d(64, eps=0.001, momentum=0.03, affine=True, track_running_stats=True)\n",
       "                (act): SiLU(inplace=True)\n",
       "              )\n",
       "            )\n",
       "            (1): Sequential(\n",
       "              (0): DWConv(\n",
       "                (conv): Conv2d(64, 64, kernel_size=(3, 3), stride=(1, 1), padding=(1, 1), groups=64, bias=False)\n",
       "                (bn): BatchNorm2d(64, eps=0.001, momentum=0.03, affine=True, track_running_stats=True)\n",
       "                (act): SiLU(inplace=True)\n",
       "              )\n",
       "              (1): Conv(\n",
       "                (conv): Conv2d(64, 64, kernel_size=(1, 1), stride=(1, 1), bias=False)\n",
       "                (bn): BatchNorm2d(64, eps=0.001, momentum=0.03, affine=True, track_running_stats=True)\n",
       "                (act): SiLU(inplace=True)\n",
       "              )\n",
       "            )\n",
       "            (2): Conv2d(64, 1, kernel_size=(1, 1), stride=(1, 1))\n",
       "          )\n",
       "        )\n",
       "        (dfl): DFL(\n",
       "          (conv): Conv2d(16, 1, kernel_size=(1, 1), stride=(1, 1), bias=False)\n",
       "        )\n",
       "        (proto): Proto(\n",
       "          (cv1): Conv(\n",
       "            (conv): Conv2d(64, 64, kernel_size=(3, 3), stride=(1, 1), padding=(1, 1), bias=False)\n",
       "            (bn): BatchNorm2d(64, eps=0.001, momentum=0.03, affine=True, track_running_stats=True)\n",
       "            (act): SiLU(inplace=True)\n",
       "          )\n",
       "          (upsample): ConvTranspose2d(64, 64, kernel_size=(2, 2), stride=(2, 2))\n",
       "          (cv2): Conv(\n",
       "            (conv): Conv2d(64, 64, kernel_size=(3, 3), stride=(1, 1), padding=(1, 1), bias=False)\n",
       "            (bn): BatchNorm2d(64, eps=0.001, momentum=0.03, affine=True, track_running_stats=True)\n",
       "            (act): SiLU(inplace=True)\n",
       "          )\n",
       "          (cv3): Conv(\n",
       "            (conv): Conv2d(64, 32, kernel_size=(1, 1), stride=(1, 1), bias=False)\n",
       "            (bn): BatchNorm2d(32, eps=0.001, momentum=0.03, affine=True, track_running_stats=True)\n",
       "            (act): SiLU(inplace=True)\n",
       "          )\n",
       "        )\n",
       "        (cv4): ModuleList(\n",
       "          (0): Sequential(\n",
       "            (0): Conv(\n",
       "              (conv): Conv2d(64, 32, kernel_size=(3, 3), stride=(1, 1), padding=(1, 1), bias=False)\n",
       "              (bn): BatchNorm2d(32, eps=0.001, momentum=0.03, affine=True, track_running_stats=True)\n",
       "              (act): SiLU(inplace=True)\n",
       "            )\n",
       "            (1): Conv(\n",
       "              (conv): Conv2d(32, 32, kernel_size=(3, 3), stride=(1, 1), padding=(1, 1), bias=False)\n",
       "              (bn): BatchNorm2d(32, eps=0.001, momentum=0.03, affine=True, track_running_stats=True)\n",
       "              (act): SiLU(inplace=True)\n",
       "            )\n",
       "            (2): Conv2d(32, 32, kernel_size=(1, 1), stride=(1, 1))\n",
       "          )\n",
       "          (1): Sequential(\n",
       "            (0): Conv(\n",
       "              (conv): Conv2d(128, 32, kernel_size=(3, 3), stride=(1, 1), padding=(1, 1), bias=False)\n",
       "              (bn): BatchNorm2d(32, eps=0.001, momentum=0.03, affine=True, track_running_stats=True)\n",
       "              (act): SiLU(inplace=True)\n",
       "            )\n",
       "            (1): Conv(\n",
       "              (conv): Conv2d(32, 32, kernel_size=(3, 3), stride=(1, 1), padding=(1, 1), bias=False)\n",
       "              (bn): BatchNorm2d(32, eps=0.001, momentum=0.03, affine=True, track_running_stats=True)\n",
       "              (act): SiLU(inplace=True)\n",
       "            )\n",
       "            (2): Conv2d(32, 32, kernel_size=(1, 1), stride=(1, 1))\n",
       "          )\n",
       "          (2): Sequential(\n",
       "            (0): Conv(\n",
       "              (conv): Conv2d(256, 32, kernel_size=(3, 3), stride=(1, 1), padding=(1, 1), bias=False)\n",
       "              (bn): BatchNorm2d(32, eps=0.001, momentum=0.03, affine=True, track_running_stats=True)\n",
       "              (act): SiLU(inplace=True)\n",
       "            )\n",
       "            (1): Conv(\n",
       "              (conv): Conv2d(32, 32, kernel_size=(3, 3), stride=(1, 1), padding=(1, 1), bias=False)\n",
       "              (bn): BatchNorm2d(32, eps=0.001, momentum=0.03, affine=True, track_running_stats=True)\n",
       "              (act): SiLU(inplace=True)\n",
       "            )\n",
       "            (2): Conv2d(32, 32, kernel_size=(1, 1), stride=(1, 1))\n",
       "          )\n",
       "        )\n",
       "      )\n",
       "    )\n",
       "  )\n",
       ")"
      ]
     },
     "execution_count": 23,
     "metadata": {},
     "output_type": "execute_result"
    }
   ],
   "source": [
    "model = YOLO(\"checkpoint/fighter_2.pt\")\n",
    "model.to(DEVICE)"
   ]
  },
  {
   "cell_type": "markdown",
   "metadata": {},
   "source": [
    "Video Inference"
   ]
  },
  {
   "cell_type": "code",
   "execution_count": 32,
   "metadata": {},
   "outputs": [],
   "source": [
    "input_path = \"video_input/fight_3.mp4\"\n",
    "output_path = \"video_output/fight_3.avi\"\n",
    "\n",
    "cap = cv2.VideoCapture(input_path)\n",
    "\n",
    "fps = int(cap.get(cv2.CAP_PROP_FPS))\n",
    "width = int(cap.get(cv2.CAP_PROP_FRAME_WIDTH))\n",
    "height = int(cap.get(cv2.CAP_PROP_FRAME_HEIGHT))\n",
    "fourcc = cv2.VideoWriter_fourcc(*'XVID')\n",
    "out = cv2.VideoWriter(output_path, fourcc, fps, (width, height))\n",
    "\n",
    "results = model.track(source=input_path, task=\"segment\", stream=True)\n"
   ]
  },
  {
   "cell_type": "code",
   "execution_count": 33,
   "metadata": {},
   "outputs": [
    {
     "name": "stdout",
     "output_type": "stream",
     "text": [
      "\n",
      "video 1/1 (frame 1/275) /home/hatsu/coding/CapProj/TestSeg_1/video_input/fight_3.mp4: 384x640 2 Fighters, 309.4ms\n",
      "video 1/1 (frame 2/275) /home/hatsu/coding/CapProj/TestSeg_1/video_input/fight_3.mp4: 384x640 2 Fighters, 18.4ms\n",
      "video 1/1 (frame 3/275) /home/hatsu/coding/CapProj/TestSeg_1/video_input/fight_3.mp4: 384x640 2 Fighters, 14.1ms\n",
      "video 1/1 (frame 4/275) /home/hatsu/coding/CapProj/TestSeg_1/video_input/fight_3.mp4: 384x640 2 Fighters, 13.1ms\n",
      "video 1/1 (frame 5/275) /home/hatsu/coding/CapProj/TestSeg_1/video_input/fight_3.mp4: 384x640 1 Fighter, 13.2ms\n",
      "video 1/1 (frame 6/275) /home/hatsu/coding/CapProj/TestSeg_1/video_input/fight_3.mp4: 384x640 1 Fighter, 13.5ms\n",
      "video 1/1 (frame 7/275) /home/hatsu/coding/CapProj/TestSeg_1/video_input/fight_3.mp4: 384x640 1 Fighter, 50.1ms\n",
      "video 1/1 (frame 8/275) /home/hatsu/coding/CapProj/TestSeg_1/video_input/fight_3.mp4: 384x640 1 Fighter, 17.7ms\n",
      "video 1/1 (frame 9/275) /home/hatsu/coding/CapProj/TestSeg_1/video_input/fight_3.mp4: 384x640 1 Fighter, 13.1ms\n",
      "video 1/1 (frame 10/275) /home/hatsu/coding/CapProj/TestSeg_1/video_input/fight_3.mp4: 384x640 1 Fighter, 17.4ms\n",
      "video 1/1 (frame 11/275) /home/hatsu/coding/CapProj/TestSeg_1/video_input/fight_3.mp4: 384x640 1 Fighter, 15.0ms\n",
      "video 1/1 (frame 12/275) /home/hatsu/coding/CapProj/TestSeg_1/video_input/fight_3.mp4: 384x640 2 Fighters, 15.7ms\n",
      "video 1/1 (frame 13/275) /home/hatsu/coding/CapProj/TestSeg_1/video_input/fight_3.mp4: 384x640 2 Fighters, 14.3ms\n",
      "video 1/1 (frame 14/275) /home/hatsu/coding/CapProj/TestSeg_1/video_input/fight_3.mp4: 384x640 2 Fighters, 36.3ms\n",
      "video 1/1 (frame 15/275) /home/hatsu/coding/CapProj/TestSeg_1/video_input/fight_3.mp4: 384x640 1 Fighter, 13.3ms\n",
      "video 1/1 (frame 16/275) /home/hatsu/coding/CapProj/TestSeg_1/video_input/fight_3.mp4: 384x640 2 Fighters, 13.1ms\n",
      "video 1/1 (frame 17/275) /home/hatsu/coding/CapProj/TestSeg_1/video_input/fight_3.mp4: 384x640 1 Fighter, 12.5ms\n",
      "video 1/1 (frame 18/275) /home/hatsu/coding/CapProj/TestSeg_1/video_input/fight_3.mp4: 384x640 1 Fighter, 14.8ms\n",
      "video 1/1 (frame 19/275) /home/hatsu/coding/CapProj/TestSeg_1/video_input/fight_3.mp4: 384x640 1 Fighter, 15.4ms\n",
      "video 1/1 (frame 20/275) /home/hatsu/coding/CapProj/TestSeg_1/video_input/fight_3.mp4: 384x640 1 Fighter, 12.9ms\n",
      "video 1/1 (frame 21/275) /home/hatsu/coding/CapProj/TestSeg_1/video_input/fight_3.mp4: 384x640 1 Fighter, 13.3ms\n",
      "video 1/1 (frame 22/275) /home/hatsu/coding/CapProj/TestSeg_1/video_input/fight_3.mp4: 384x640 1 Fighter, 13.2ms\n",
      "video 1/1 (frame 23/275) /home/hatsu/coding/CapProj/TestSeg_1/video_input/fight_3.mp4: 384x640 1 Fighter, 15.0ms\n",
      "video 1/1 (frame 24/275) /home/hatsu/coding/CapProj/TestSeg_1/video_input/fight_3.mp4: 384x640 1 Fighter, 11.9ms\n",
      "video 1/1 (frame 25/275) /home/hatsu/coding/CapProj/TestSeg_1/video_input/fight_3.mp4: 384x640 1 Fighter, 13.0ms\n",
      "video 1/1 (frame 26/275) /home/hatsu/coding/CapProj/TestSeg_1/video_input/fight_3.mp4: 384x640 2 Fighters, 14.6ms\n",
      "video 1/1 (frame 27/275) /home/hatsu/coding/CapProj/TestSeg_1/video_input/fight_3.mp4: 384x640 3 Fighters, 16.2ms\n",
      "video 1/1 (frame 28/275) /home/hatsu/coding/CapProj/TestSeg_1/video_input/fight_3.mp4: 384x640 3 Fighters, 47.4ms\n",
      "video 1/1 (frame 29/275) /home/hatsu/coding/CapProj/TestSeg_1/video_input/fight_3.mp4: 384x640 3 Fighters, 17.1ms\n",
      "video 1/1 (frame 30/275) /home/hatsu/coding/CapProj/TestSeg_1/video_input/fight_3.mp4: 384x640 3 Fighters, 20.1ms\n",
      "video 1/1 (frame 31/275) /home/hatsu/coding/CapProj/TestSeg_1/video_input/fight_3.mp4: 384x640 3 Fighters, 15.8ms\n",
      "video 1/1 (frame 32/275) /home/hatsu/coding/CapProj/TestSeg_1/video_input/fight_3.mp4: 384x640 3 Fighters, 19.6ms\n",
      "video 1/1 (frame 33/275) /home/hatsu/coding/CapProj/TestSeg_1/video_input/fight_3.mp4: 384x640 3 Fighters, 16.2ms\n",
      "video 1/1 (frame 34/275) /home/hatsu/coding/CapProj/TestSeg_1/video_input/fight_3.mp4: 384x640 3 Fighters, 14.6ms\n",
      "video 1/1 (frame 35/275) /home/hatsu/coding/CapProj/TestSeg_1/video_input/fight_3.mp4: 384x640 3 Fighters, 14.7ms\n",
      "video 1/1 (frame 36/275) /home/hatsu/coding/CapProj/TestSeg_1/video_input/fight_3.mp4: 384x640 3 Fighters, 19.0ms\n",
      "video 1/1 (frame 37/275) /home/hatsu/coding/CapProj/TestSeg_1/video_input/fight_3.mp4: 384x640 1 Fighter, 14.5ms\n",
      "video 1/1 (frame 38/275) /home/hatsu/coding/CapProj/TestSeg_1/video_input/fight_3.mp4: 384x640 1 Fighter, 18.6ms\n",
      "video 1/1 (frame 39/275) /home/hatsu/coding/CapProj/TestSeg_1/video_input/fight_3.mp4: 384x640 1 Fighter, 19.9ms\n",
      "video 1/1 (frame 40/275) /home/hatsu/coding/CapProj/TestSeg_1/video_input/fight_3.mp4: 384x640 1 Fighter, 14.1ms\n",
      "video 1/1 (frame 41/275) /home/hatsu/coding/CapProj/TestSeg_1/video_input/fight_3.mp4: 384x640 1 Fighter, 17.7ms\n",
      "video 1/1 (frame 42/275) /home/hatsu/coding/CapProj/TestSeg_1/video_input/fight_3.mp4: 384x640 1 Fighter, 12.8ms\n",
      "video 1/1 (frame 43/275) /home/hatsu/coding/CapProj/TestSeg_1/video_input/fight_3.mp4: 384x640 1 Fighter, 16.1ms\n",
      "video 1/1 (frame 44/275) /home/hatsu/coding/CapProj/TestSeg_1/video_input/fight_3.mp4: 384x640 1 Fighter, 20.7ms\n",
      "video 1/1 (frame 45/275) /home/hatsu/coding/CapProj/TestSeg_1/video_input/fight_3.mp4: 384x640 1 Fighter, 14.2ms\n",
      "video 1/1 (frame 46/275) /home/hatsu/coding/CapProj/TestSeg_1/video_input/fight_3.mp4: 384x640 1 Fighter, 12.1ms\n",
      "video 1/1 (frame 47/275) /home/hatsu/coding/CapProj/TestSeg_1/video_input/fight_3.mp4: 384x640 1 Fighter, 13.0ms\n",
      "video 1/1 (frame 48/275) /home/hatsu/coding/CapProj/TestSeg_1/video_input/fight_3.mp4: 384x640 1 Fighter, 18.1ms\n",
      "video 1/1 (frame 49/275) /home/hatsu/coding/CapProj/TestSeg_1/video_input/fight_3.mp4: 384x640 1 Fighter, 14.1ms\n",
      "video 1/1 (frame 50/275) /home/hatsu/coding/CapProj/TestSeg_1/video_input/fight_3.mp4: 384x640 1 Fighter, 15.4ms\n",
      "video 1/1 (frame 51/275) /home/hatsu/coding/CapProj/TestSeg_1/video_input/fight_3.mp4: 384x640 1 Fighter, 12.6ms\n",
      "video 1/1 (frame 52/275) /home/hatsu/coding/CapProj/TestSeg_1/video_input/fight_3.mp4: 384x640 1 Fighter, 12.4ms\n",
      "video 1/1 (frame 53/275) /home/hatsu/coding/CapProj/TestSeg_1/video_input/fight_3.mp4: 384x640 1 Fighter, 12.1ms\n",
      "video 1/1 (frame 54/275) /home/hatsu/coding/CapProj/TestSeg_1/video_input/fight_3.mp4: 384x640 1 Fighter, 14.7ms\n",
      "video 1/1 (frame 55/275) /home/hatsu/coding/CapProj/TestSeg_1/video_input/fight_3.mp4: 384x640 1 Fighter, 14.6ms\n",
      "video 1/1 (frame 56/275) /home/hatsu/coding/CapProj/TestSeg_1/video_input/fight_3.mp4: 384x640 1 Fighter, 16.9ms\n",
      "video 1/1 (frame 57/275) /home/hatsu/coding/CapProj/TestSeg_1/video_input/fight_3.mp4: 384x640 1 Fighter, 41.4ms\n",
      "video 1/1 (frame 58/275) /home/hatsu/coding/CapProj/TestSeg_1/video_input/fight_3.mp4: 384x640 1 Fighter, 24.1ms\n",
      "video 1/1 (frame 59/275) /home/hatsu/coding/CapProj/TestSeg_1/video_input/fight_3.mp4: 384x640 1 Fighter, 24.1ms\n",
      "video 1/1 (frame 60/275) /home/hatsu/coding/CapProj/TestSeg_1/video_input/fight_3.mp4: 384x640 1 Fighter, 25.2ms\n",
      "video 1/1 (frame 61/275) /home/hatsu/coding/CapProj/TestSeg_1/video_input/fight_3.mp4: 384x640 1 Fighter, 20.5ms\n",
      "video 1/1 (frame 62/275) /home/hatsu/coding/CapProj/TestSeg_1/video_input/fight_3.mp4: 384x640 1 Fighter, 24.4ms\n",
      "video 1/1 (frame 63/275) /home/hatsu/coding/CapProj/TestSeg_1/video_input/fight_3.mp4: 384x640 1 Fighter, 32.6ms\n",
      "video 1/1 (frame 64/275) /home/hatsu/coding/CapProj/TestSeg_1/video_input/fight_3.mp4: 384x640 1 Fighter, 23.0ms\n",
      "video 1/1 (frame 65/275) /home/hatsu/coding/CapProj/TestSeg_1/video_input/fight_3.mp4: 384x640 1 Fighter, 22.0ms\n",
      "video 1/1 (frame 66/275) /home/hatsu/coding/CapProj/TestSeg_1/video_input/fight_3.mp4: 384x640 1 Fighter, 15.8ms\n",
      "video 1/1 (frame 67/275) /home/hatsu/coding/CapProj/TestSeg_1/video_input/fight_3.mp4: 384x640 1 Fighter, 13.3ms\n",
      "video 1/1 (frame 68/275) /home/hatsu/coding/CapProj/TestSeg_1/video_input/fight_3.mp4: 384x640 1 Fighter, 14.9ms\n",
      "video 1/1 (frame 69/275) /home/hatsu/coding/CapProj/TestSeg_1/video_input/fight_3.mp4: 384x640 1 Fighter, 19.9ms\n",
      "video 1/1 (frame 70/275) /home/hatsu/coding/CapProj/TestSeg_1/video_input/fight_3.mp4: 384x640 1 Fighter, 17.3ms\n",
      "video 1/1 (frame 71/275) /home/hatsu/coding/CapProj/TestSeg_1/video_input/fight_3.mp4: 384x640 1 Fighter, 15.6ms\n",
      "video 1/1 (frame 72/275) /home/hatsu/coding/CapProj/TestSeg_1/video_input/fight_3.mp4: 384x640 1 Fighter, 12.9ms\n",
      "video 1/1 (frame 73/275) /home/hatsu/coding/CapProj/TestSeg_1/video_input/fight_3.mp4: 384x640 1 Fighter, 12.4ms\n",
      "video 1/1 (frame 74/275) /home/hatsu/coding/CapProj/TestSeg_1/video_input/fight_3.mp4: 384x640 1 Fighter, 17.3ms\n",
      "video 1/1 (frame 75/275) /home/hatsu/coding/CapProj/TestSeg_1/video_input/fight_3.mp4: 384x640 1 Fighter, 12.2ms\n",
      "video 1/1 (frame 76/275) /home/hatsu/coding/CapProj/TestSeg_1/video_input/fight_3.mp4: 384x640 1 Fighter, 19.9ms\n",
      "video 1/1 (frame 77/275) /home/hatsu/coding/CapProj/TestSeg_1/video_input/fight_3.mp4: 384x640 1 Fighter, 15.0ms\n",
      "video 1/1 (frame 78/275) /home/hatsu/coding/CapProj/TestSeg_1/video_input/fight_3.mp4: 384x640 1 Fighter, 16.5ms\n",
      "video 1/1 (frame 79/275) /home/hatsu/coding/CapProj/TestSeg_1/video_input/fight_3.mp4: 384x640 1 Fighter, 18.4ms\n",
      "video 1/1 (frame 80/275) /home/hatsu/coding/CapProj/TestSeg_1/video_input/fight_3.mp4: 384x640 1 Fighter, 13.9ms\n",
      "video 1/1 (frame 81/275) /home/hatsu/coding/CapProj/TestSeg_1/video_input/fight_3.mp4: 384x640 1 Fighter, 18.0ms\n",
      "video 1/1 (frame 82/275) /home/hatsu/coding/CapProj/TestSeg_1/video_input/fight_3.mp4: 384x640 1 Fighter, 14.0ms\n",
      "video 1/1 (frame 83/275) /home/hatsu/coding/CapProj/TestSeg_1/video_input/fight_3.mp4: 384x640 1 Fighter, 14.6ms\n",
      "video 1/1 (frame 84/275) /home/hatsu/coding/CapProj/TestSeg_1/video_input/fight_3.mp4: 384x640 2 Fighters, 13.4ms\n",
      "video 1/1 (frame 85/275) /home/hatsu/coding/CapProj/TestSeg_1/video_input/fight_3.mp4: 384x640 2 Fighters, 15.2ms\n",
      "video 1/1 (frame 86/275) /home/hatsu/coding/CapProj/TestSeg_1/video_input/fight_3.mp4: 384x640 1 Fighter, 14.0ms\n",
      "video 1/1 (frame 87/275) /home/hatsu/coding/CapProj/TestSeg_1/video_input/fight_3.mp4: 384x640 2 Fighters, 15.8ms\n",
      "video 1/1 (frame 88/275) /home/hatsu/coding/CapProj/TestSeg_1/video_input/fight_3.mp4: 384x640 1 Fighter, 17.5ms\n",
      "video 1/1 (frame 89/275) /home/hatsu/coding/CapProj/TestSeg_1/video_input/fight_3.mp4: 384x640 1 Fighter, 13.7ms\n",
      "video 1/1 (frame 90/275) /home/hatsu/coding/CapProj/TestSeg_1/video_input/fight_3.mp4: 384x640 1 Fighter, 13.0ms\n",
      "video 1/1 (frame 91/275) /home/hatsu/coding/CapProj/TestSeg_1/video_input/fight_3.mp4: 384x640 1 Fighter, 11.9ms\n",
      "video 1/1 (frame 92/275) /home/hatsu/coding/CapProj/TestSeg_1/video_input/fight_3.mp4: 384x640 1 Fighter, 18.6ms\n",
      "video 1/1 (frame 93/275) /home/hatsu/coding/CapProj/TestSeg_1/video_input/fight_3.mp4: 384x640 1 Fighter, 14.0ms\n",
      "video 1/1 (frame 94/275) /home/hatsu/coding/CapProj/TestSeg_1/video_input/fight_3.mp4: 384x640 1 Fighter, 13.0ms\n",
      "video 1/1 (frame 95/275) /home/hatsu/coding/CapProj/TestSeg_1/video_input/fight_3.mp4: 384x640 1 Fighter, 14.4ms\n",
      "video 1/1 (frame 96/275) /home/hatsu/coding/CapProj/TestSeg_1/video_input/fight_3.mp4: 384x640 1 Fighter, 15.1ms\n",
      "video 1/1 (frame 97/275) /home/hatsu/coding/CapProj/TestSeg_1/video_input/fight_3.mp4: 384x640 1 Fighter, 15.0ms\n",
      "video 1/1 (frame 98/275) /home/hatsu/coding/CapProj/TestSeg_1/video_input/fight_3.mp4: 384x640 1 Fighter, 13.6ms\n",
      "video 1/1 (frame 99/275) /home/hatsu/coding/CapProj/TestSeg_1/video_input/fight_3.mp4: 384x640 1 Fighter, 12.2ms\n",
      "video 1/1 (frame 100/275) /home/hatsu/coding/CapProj/TestSeg_1/video_input/fight_3.mp4: 384x640 1 Fighter, 14.7ms\n",
      "video 1/1 (frame 101/275) /home/hatsu/coding/CapProj/TestSeg_1/video_input/fight_3.mp4: 384x640 1 Fighter, 17.4ms\n",
      "video 1/1 (frame 102/275) /home/hatsu/coding/CapProj/TestSeg_1/video_input/fight_3.mp4: 384x640 1 Fighter, 13.1ms\n",
      "video 1/1 (frame 103/275) /home/hatsu/coding/CapProj/TestSeg_1/video_input/fight_3.mp4: 384x640 1 Fighter, 14.8ms\n",
      "video 1/1 (frame 104/275) /home/hatsu/coding/CapProj/TestSeg_1/video_input/fight_3.mp4: 384x640 1 Fighter, 15.7ms\n",
      "video 1/1 (frame 105/275) /home/hatsu/coding/CapProj/TestSeg_1/video_input/fight_3.mp4: 384x640 1 Fighter, 19.2ms\n",
      "video 1/1 (frame 106/275) /home/hatsu/coding/CapProj/TestSeg_1/video_input/fight_3.mp4: 384x640 1 Fighter, 18.1ms\n",
      "video 1/1 (frame 107/275) /home/hatsu/coding/CapProj/TestSeg_1/video_input/fight_3.mp4: 384x640 1 Fighter, 14.1ms\n",
      "video 1/1 (frame 108/275) /home/hatsu/coding/CapProj/TestSeg_1/video_input/fight_3.mp4: 384x640 1 Fighter, 17.6ms\n",
      "video 1/1 (frame 109/275) /home/hatsu/coding/CapProj/TestSeg_1/video_input/fight_3.mp4: 384x640 1 Fighter, 19.6ms\n",
      "video 1/1 (frame 110/275) /home/hatsu/coding/CapProj/TestSeg_1/video_input/fight_3.mp4: 384x640 1 Fighter, 12.3ms\n",
      "video 1/1 (frame 111/275) /home/hatsu/coding/CapProj/TestSeg_1/video_input/fight_3.mp4: 384x640 1 Fighter, 12.5ms\n",
      "video 1/1 (frame 112/275) /home/hatsu/coding/CapProj/TestSeg_1/video_input/fight_3.mp4: 384x640 1 Fighter, 14.5ms\n",
      "video 1/1 (frame 113/275) /home/hatsu/coding/CapProj/TestSeg_1/video_input/fight_3.mp4: 384x640 1 Fighter, 20.2ms\n",
      "video 1/1 (frame 114/275) /home/hatsu/coding/CapProj/TestSeg_1/video_input/fight_3.mp4: 384x640 1 Fighter, 14.5ms\n",
      "video 1/1 (frame 115/275) /home/hatsu/coding/CapProj/TestSeg_1/video_input/fight_3.mp4: 384x640 1 Fighter, 14.5ms\n",
      "video 1/1 (frame 116/275) /home/hatsu/coding/CapProj/TestSeg_1/video_input/fight_3.mp4: 384x640 1 Fighter, 14.5ms\n",
      "video 1/1 (frame 117/275) /home/hatsu/coding/CapProj/TestSeg_1/video_input/fight_3.mp4: 384x640 1 Fighter, 15.0ms\n",
      "video 1/1 (frame 118/275) /home/hatsu/coding/CapProj/TestSeg_1/video_input/fight_3.mp4: 384x640 1 Fighter, 18.8ms\n",
      "video 1/1 (frame 119/275) /home/hatsu/coding/CapProj/TestSeg_1/video_input/fight_3.mp4: 384x640 1 Fighter, 15.5ms\n",
      "video 1/1 (frame 120/275) /home/hatsu/coding/CapProj/TestSeg_1/video_input/fight_3.mp4: 384x640 1 Fighter, 15.8ms\n",
      "video 1/1 (frame 121/275) /home/hatsu/coding/CapProj/TestSeg_1/video_input/fight_3.mp4: 384x640 1 Fighter, 14.0ms\n",
      "video 1/1 (frame 122/275) /home/hatsu/coding/CapProj/TestSeg_1/video_input/fight_3.mp4: 384x640 1 Fighter, 16.1ms\n",
      "video 1/1 (frame 123/275) /home/hatsu/coding/CapProj/TestSeg_1/video_input/fight_3.mp4: 384x640 1 Fighter, 12.1ms\n",
      "video 1/1 (frame 124/275) /home/hatsu/coding/CapProj/TestSeg_1/video_input/fight_3.mp4: 384x640 1 Fighter, 26.6ms\n",
      "video 1/1 (frame 125/275) /home/hatsu/coding/CapProj/TestSeg_1/video_input/fight_3.mp4: 384x640 1 Fighter, 31.7ms\n",
      "video 1/1 (frame 126/275) /home/hatsu/coding/CapProj/TestSeg_1/video_input/fight_3.mp4: 384x640 1 Fighter, 13.5ms\n",
      "video 1/1 (frame 127/275) /home/hatsu/coding/CapProj/TestSeg_1/video_input/fight_3.mp4: 384x640 1 Fighter, 12.5ms\n",
      "video 1/1 (frame 128/275) /home/hatsu/coding/CapProj/TestSeg_1/video_input/fight_3.mp4: 384x640 1 Fighter, 14.0ms\n",
      "video 1/1 (frame 129/275) /home/hatsu/coding/CapProj/TestSeg_1/video_input/fight_3.mp4: 384x640 1 Fighter, 14.7ms\n",
      "video 1/1 (frame 130/275) /home/hatsu/coding/CapProj/TestSeg_1/video_input/fight_3.mp4: 384x640 1 Fighter, 13.4ms\n",
      "video 1/1 (frame 131/275) /home/hatsu/coding/CapProj/TestSeg_1/video_input/fight_3.mp4: 384x640 1 Fighter, 12.7ms\n",
      "video 1/1 (frame 132/275) /home/hatsu/coding/CapProj/TestSeg_1/video_input/fight_3.mp4: 384x640 1 Fighter, 14.2ms\n",
      "video 1/1 (frame 133/275) /home/hatsu/coding/CapProj/TestSeg_1/video_input/fight_3.mp4: 384x640 1 Fighter, 16.8ms\n",
      "video 1/1 (frame 134/275) /home/hatsu/coding/CapProj/TestSeg_1/video_input/fight_3.mp4: 384x640 1 Fighter, 23.6ms\n",
      "video 1/1 (frame 135/275) /home/hatsu/coding/CapProj/TestSeg_1/video_input/fight_3.mp4: 384x640 1 Fighter, 16.1ms\n",
      "video 1/1 (frame 136/275) /home/hatsu/coding/CapProj/TestSeg_1/video_input/fight_3.mp4: 384x640 1 Fighter, 13.8ms\n",
      "video 1/1 (frame 137/275) /home/hatsu/coding/CapProj/TestSeg_1/video_input/fight_3.mp4: 384x640 1 Fighter, 18.8ms\n",
      "video 1/1 (frame 138/275) /home/hatsu/coding/CapProj/TestSeg_1/video_input/fight_3.mp4: 384x640 1 Fighter, 14.8ms\n",
      "video 1/1 (frame 139/275) /home/hatsu/coding/CapProj/TestSeg_1/video_input/fight_3.mp4: 384x640 1 Fighter, 14.7ms\n",
      "video 1/1 (frame 140/275) /home/hatsu/coding/CapProj/TestSeg_1/video_input/fight_3.mp4: 384x640 1 Fighter, 18.4ms\n",
      "video 1/1 (frame 141/275) /home/hatsu/coding/CapProj/TestSeg_1/video_input/fight_3.mp4: 384x640 2 Fighters, 15.5ms\n",
      "video 1/1 (frame 142/275) /home/hatsu/coding/CapProj/TestSeg_1/video_input/fight_3.mp4: 384x640 2 Fighters, 15.5ms\n",
      "video 1/1 (frame 143/275) /home/hatsu/coding/CapProj/TestSeg_1/video_input/fight_3.mp4: 384x640 2 Fighters, 20.0ms\n",
      "video 1/1 (frame 144/275) /home/hatsu/coding/CapProj/TestSeg_1/video_input/fight_3.mp4: 384x640 2 Fighters, 24.9ms\n",
      "video 1/1 (frame 145/275) /home/hatsu/coding/CapProj/TestSeg_1/video_input/fight_3.mp4: 384x640 2 Fighters, 12.0ms\n",
      "video 1/1 (frame 146/275) /home/hatsu/coding/CapProj/TestSeg_1/video_input/fight_3.mp4: 384x640 2 Fighters, 14.7ms\n",
      "video 1/1 (frame 147/275) /home/hatsu/coding/CapProj/TestSeg_1/video_input/fight_3.mp4: 384x640 2 Fighters, 29.5ms\n",
      "video 1/1 (frame 148/275) /home/hatsu/coding/CapProj/TestSeg_1/video_input/fight_3.mp4: 384x640 3 Fighters, 27.9ms\n",
      "video 1/1 (frame 149/275) /home/hatsu/coding/CapProj/TestSeg_1/video_input/fight_3.mp4: 384x640 2 Fighters, 16.9ms\n",
      "video 1/1 (frame 150/275) /home/hatsu/coding/CapProj/TestSeg_1/video_input/fight_3.mp4: 384x640 2 Fighters, 13.5ms\n",
      "video 1/1 (frame 151/275) /home/hatsu/coding/CapProj/TestSeg_1/video_input/fight_3.mp4: 384x640 2 Fighters, 15.1ms\n",
      "video 1/1 (frame 152/275) /home/hatsu/coding/CapProj/TestSeg_1/video_input/fight_3.mp4: 384x640 2 Fighters, 12.1ms\n",
      "video 1/1 (frame 153/275) /home/hatsu/coding/CapProj/TestSeg_1/video_input/fight_3.mp4: 384x640 2 Fighters, 14.7ms\n",
      "video 1/1 (frame 154/275) /home/hatsu/coding/CapProj/TestSeg_1/video_input/fight_3.mp4: 384x640 2 Fighters, 15.4ms\n",
      "video 1/1 (frame 155/275) /home/hatsu/coding/CapProj/TestSeg_1/video_input/fight_3.mp4: 384x640 2 Fighters, 13.5ms\n",
      "video 1/1 (frame 156/275) /home/hatsu/coding/CapProj/TestSeg_1/video_input/fight_3.mp4: 384x640 2 Fighters, 13.4ms\n",
      "video 1/1 (frame 157/275) /home/hatsu/coding/CapProj/TestSeg_1/video_input/fight_3.mp4: 384x640 2 Fighters, 19.5ms\n",
      "video 1/1 (frame 158/275) /home/hatsu/coding/CapProj/TestSeg_1/video_input/fight_3.mp4: 384x640 2 Fighters, 14.8ms\n",
      "video 1/1 (frame 159/275) /home/hatsu/coding/CapProj/TestSeg_1/video_input/fight_3.mp4: 384x640 2 Fighters, 15.7ms\n",
      "video 1/1 (frame 160/275) /home/hatsu/coding/CapProj/TestSeg_1/video_input/fight_3.mp4: 384x640 2 Fighters, 41.2ms\n",
      "video 1/1 (frame 161/275) /home/hatsu/coding/CapProj/TestSeg_1/video_input/fight_3.mp4: 384x640 2 Fighters, 15.2ms\n",
      "video 1/1 (frame 162/275) /home/hatsu/coding/CapProj/TestSeg_1/video_input/fight_3.mp4: 384x640 2 Fighters, 14.7ms\n",
      "video 1/1 (frame 163/275) /home/hatsu/coding/CapProj/TestSeg_1/video_input/fight_3.mp4: 384x640 2 Fighters, 13.2ms\n",
      "video 1/1 (frame 164/275) /home/hatsu/coding/CapProj/TestSeg_1/video_input/fight_3.mp4: 384x640 2 Fighters, 16.7ms\n",
      "video 1/1 (frame 165/275) /home/hatsu/coding/CapProj/TestSeg_1/video_input/fight_3.mp4: 384x640 3 Fighters, 16.1ms\n",
      "video 1/1 (frame 166/275) /home/hatsu/coding/CapProj/TestSeg_1/video_input/fight_3.mp4: 384x640 2 Fighters, 12.6ms\n",
      "video 1/1 (frame 167/275) /home/hatsu/coding/CapProj/TestSeg_1/video_input/fight_3.mp4: 384x640 2 Fighters, 21.7ms\n",
      "video 1/1 (frame 168/275) /home/hatsu/coding/CapProj/TestSeg_1/video_input/fight_3.mp4: 384x640 2 Fighters, 18.7ms\n",
      "video 1/1 (frame 169/275) /home/hatsu/coding/CapProj/TestSeg_1/video_input/fight_3.mp4: 384x640 2 Fighters, 15.1ms\n",
      "video 1/1 (frame 170/275) /home/hatsu/coding/CapProj/TestSeg_1/video_input/fight_3.mp4: 384x640 2 Fighters, 16.9ms\n",
      "video 1/1 (frame 171/275) /home/hatsu/coding/CapProj/TestSeg_1/video_input/fight_3.mp4: 384x640 2 Fighters, 13.4ms\n",
      "video 1/1 (frame 172/275) /home/hatsu/coding/CapProj/TestSeg_1/video_input/fight_3.mp4: 384x640 2 Fighters, 13.4ms\n",
      "video 1/1 (frame 173/275) /home/hatsu/coding/CapProj/TestSeg_1/video_input/fight_3.mp4: 384x640 2 Fighters, 16.1ms\n",
      "video 1/1 (frame 174/275) /home/hatsu/coding/CapProj/TestSeg_1/video_input/fight_3.mp4: 384x640 3 Fighters, 16.4ms\n",
      "video 1/1 (frame 175/275) /home/hatsu/coding/CapProj/TestSeg_1/video_input/fight_3.mp4: 384x640 3 Fighters, 16.6ms\n",
      "video 1/1 (frame 176/275) /home/hatsu/coding/CapProj/TestSeg_1/video_input/fight_3.mp4: 384x640 3 Fighters, 16.1ms\n",
      "video 1/1 (frame 177/275) /home/hatsu/coding/CapProj/TestSeg_1/video_input/fight_3.mp4: 384x640 3 Fighters, 20.8ms\n",
      "video 1/1 (frame 178/275) /home/hatsu/coding/CapProj/TestSeg_1/video_input/fight_3.mp4: 384x640 3 Fighters, 13.3ms\n",
      "video 1/1 (frame 179/275) /home/hatsu/coding/CapProj/TestSeg_1/video_input/fight_3.mp4: 384x640 3 Fighters, 14.5ms\n",
      "video 1/1 (frame 180/275) /home/hatsu/coding/CapProj/TestSeg_1/video_input/fight_3.mp4: 384x640 3 Fighters, 16.3ms\n",
      "video 1/1 (frame 181/275) /home/hatsu/coding/CapProj/TestSeg_1/video_input/fight_3.mp4: 384x640 2 Fighters, 16.1ms\n",
      "video 1/1 (frame 182/275) /home/hatsu/coding/CapProj/TestSeg_1/video_input/fight_3.mp4: 384x640 2 Fighters, 22.1ms\n",
      "video 1/1 (frame 183/275) /home/hatsu/coding/CapProj/TestSeg_1/video_input/fight_3.mp4: 384x640 2 Fighters, 14.1ms\n",
      "video 1/1 (frame 184/275) /home/hatsu/coding/CapProj/TestSeg_1/video_input/fight_3.mp4: 384x640 3 Fighters, 18.6ms\n",
      "video 1/1 (frame 185/275) /home/hatsu/coding/CapProj/TestSeg_1/video_input/fight_3.mp4: 384x640 3 Fighters, 23.7ms\n",
      "video 1/1 (frame 186/275) /home/hatsu/coding/CapProj/TestSeg_1/video_input/fight_3.mp4: 384x640 2 Fighters, 16.4ms\n",
      "video 1/1 (frame 187/275) /home/hatsu/coding/CapProj/TestSeg_1/video_input/fight_3.mp4: 384x640 2 Fighters, 17.0ms\n",
      "video 1/1 (frame 188/275) /home/hatsu/coding/CapProj/TestSeg_1/video_input/fight_3.mp4: 384x640 2 Fighters, 27.8ms\n",
      "video 1/1 (frame 189/275) /home/hatsu/coding/CapProj/TestSeg_1/video_input/fight_3.mp4: 384x640 2 Fighters, 13.3ms\n",
      "video 1/1 (frame 190/275) /home/hatsu/coding/CapProj/TestSeg_1/video_input/fight_3.mp4: 384x640 2 Fighters, 16.2ms\n",
      "video 1/1 (frame 191/275) /home/hatsu/coding/CapProj/TestSeg_1/video_input/fight_3.mp4: 384x640 2 Fighters, 17.0ms\n",
      "video 1/1 (frame 192/275) /home/hatsu/coding/CapProj/TestSeg_1/video_input/fight_3.mp4: 384x640 2 Fighters, 37.3ms\n",
      "video 1/1 (frame 193/275) /home/hatsu/coding/CapProj/TestSeg_1/video_input/fight_3.mp4: 384x640 2 Fighters, 17.0ms\n",
      "video 1/1 (frame 194/275) /home/hatsu/coding/CapProj/TestSeg_1/video_input/fight_3.mp4: 384x640 2 Fighters, 15.9ms\n",
      "video 1/1 (frame 195/275) /home/hatsu/coding/CapProj/TestSeg_1/video_input/fight_3.mp4: 384x640 2 Fighters, 21.2ms\n",
      "video 1/1 (frame 196/275) /home/hatsu/coding/CapProj/TestSeg_1/video_input/fight_3.mp4: 384x640 2 Fighters, 35.2ms\n",
      "video 1/1 (frame 197/275) /home/hatsu/coding/CapProj/TestSeg_1/video_input/fight_3.mp4: 384x640 3 Fighters, 18.6ms\n",
      "video 1/1 (frame 198/275) /home/hatsu/coding/CapProj/TestSeg_1/video_input/fight_3.mp4: 384x640 3 Fighters, 22.7ms\n",
      "video 1/1 (frame 199/275) /home/hatsu/coding/CapProj/TestSeg_1/video_input/fight_3.mp4: 384x640 2 Fighters, 14.6ms\n",
      "video 1/1 (frame 200/275) /home/hatsu/coding/CapProj/TestSeg_1/video_input/fight_3.mp4: 384x640 2 Fighters, 14.3ms\n",
      "video 1/1 (frame 201/275) /home/hatsu/coding/CapProj/TestSeg_1/video_input/fight_3.mp4: 384x640 2 Fighters, 15.0ms\n",
      "video 1/1 (frame 202/275) /home/hatsu/coding/CapProj/TestSeg_1/video_input/fight_3.mp4: 384x640 2 Fighters, 14.5ms\n",
      "video 1/1 (frame 203/275) /home/hatsu/coding/CapProj/TestSeg_1/video_input/fight_3.mp4: 384x640 2 Fighters, 13.5ms\n",
      "video 1/1 (frame 204/275) /home/hatsu/coding/CapProj/TestSeg_1/video_input/fight_3.mp4: 384x640 2 Fighters, 12.6ms\n",
      "video 1/1 (frame 205/275) /home/hatsu/coding/CapProj/TestSeg_1/video_input/fight_3.mp4: 384x640 2 Fighters, 14.0ms\n",
      "video 1/1 (frame 206/275) /home/hatsu/coding/CapProj/TestSeg_1/video_input/fight_3.mp4: 384x640 2 Fighters, 13.7ms\n",
      "video 1/1 (frame 207/275) /home/hatsu/coding/CapProj/TestSeg_1/video_input/fight_3.mp4: 384x640 1 Fighter, 30.1ms\n",
      "video 1/1 (frame 208/275) /home/hatsu/coding/CapProj/TestSeg_1/video_input/fight_3.mp4: 384x640 1 Fighter, 14.2ms\n",
      "video 1/1 (frame 209/275) /home/hatsu/coding/CapProj/TestSeg_1/video_input/fight_3.mp4: 384x640 1 Fighter, 15.5ms\n",
      "video 1/1 (frame 210/275) /home/hatsu/coding/CapProj/TestSeg_1/video_input/fight_3.mp4: 384x640 1 Fighter, 15.4ms\n",
      "video 1/1 (frame 211/275) /home/hatsu/coding/CapProj/TestSeg_1/video_input/fight_3.mp4: 384x640 1 Fighter, 14.1ms\n",
      "video 1/1 (frame 212/275) /home/hatsu/coding/CapProj/TestSeg_1/video_input/fight_3.mp4: 384x640 2 Fighters, 13.2ms\n",
      "video 1/1 (frame 213/275) /home/hatsu/coding/CapProj/TestSeg_1/video_input/fight_3.mp4: 384x640 2 Fighters, 14.1ms\n",
      "video 1/1 (frame 214/275) /home/hatsu/coding/CapProj/TestSeg_1/video_input/fight_3.mp4: 384x640 2 Fighters, 16.1ms\n",
      "video 1/1 (frame 215/275) /home/hatsu/coding/CapProj/TestSeg_1/video_input/fight_3.mp4: 384x640 1 Fighter, 13.5ms\n",
      "video 1/1 (frame 216/275) /home/hatsu/coding/CapProj/TestSeg_1/video_input/fight_3.mp4: 384x640 2 Fighters, 13.3ms\n",
      "video 1/1 (frame 217/275) /home/hatsu/coding/CapProj/TestSeg_1/video_input/fight_3.mp4: 384x640 2 Fighters, 15.3ms\n",
      "video 1/1 (frame 218/275) /home/hatsu/coding/CapProj/TestSeg_1/video_input/fight_3.mp4: 384x640 2 Fighters, 14.8ms\n",
      "video 1/1 (frame 219/275) /home/hatsu/coding/CapProj/TestSeg_1/video_input/fight_3.mp4: 384x640 2 Fighters, 12.2ms\n",
      "video 1/1 (frame 220/275) /home/hatsu/coding/CapProj/TestSeg_1/video_input/fight_3.mp4: 384x640 2 Fighters, 17.9ms\n",
      "video 1/1 (frame 221/275) /home/hatsu/coding/CapProj/TestSeg_1/video_input/fight_3.mp4: 384x640 2 Fighters, 15.2ms\n",
      "video 1/1 (frame 222/275) /home/hatsu/coding/CapProj/TestSeg_1/video_input/fight_3.mp4: 384x640 2 Fighters, 14.0ms\n",
      "video 1/1 (frame 223/275) /home/hatsu/coding/CapProj/TestSeg_1/video_input/fight_3.mp4: 384x640 1 Fighter, 14.4ms\n",
      "video 1/1 (frame 224/275) /home/hatsu/coding/CapProj/TestSeg_1/video_input/fight_3.mp4: 384x640 2 Fighters, 12.1ms\n",
      "video 1/1 (frame 225/275) /home/hatsu/coding/CapProj/TestSeg_1/video_input/fight_3.mp4: 384x640 2 Fighters, 15.7ms\n",
      "video 1/1 (frame 226/275) /home/hatsu/coding/CapProj/TestSeg_1/video_input/fight_3.mp4: 384x640 2 Fighters, 11.4ms\n",
      "video 1/1 (frame 227/275) /home/hatsu/coding/CapProj/TestSeg_1/video_input/fight_3.mp4: 384x640 2 Fighters, 15.4ms\n",
      "video 1/1 (frame 228/275) /home/hatsu/coding/CapProj/TestSeg_1/video_input/fight_3.mp4: 384x640 2 Fighters, 12.4ms\n",
      "video 1/1 (frame 229/275) /home/hatsu/coding/CapProj/TestSeg_1/video_input/fight_3.mp4: 384x640 2 Fighters, 12.1ms\n",
      "video 1/1 (frame 230/275) /home/hatsu/coding/CapProj/TestSeg_1/video_input/fight_3.mp4: 384x640 2 Fighters, 12.2ms\n",
      "video 1/1 (frame 231/275) /home/hatsu/coding/CapProj/TestSeg_1/video_input/fight_3.mp4: 384x640 2 Fighters, 17.0ms\n",
      "video 1/1 (frame 232/275) /home/hatsu/coding/CapProj/TestSeg_1/video_input/fight_3.mp4: 384x640 2 Fighters, 16.7ms\n",
      "video 1/1 (frame 233/275) /home/hatsu/coding/CapProj/TestSeg_1/video_input/fight_3.mp4: 384x640 2 Fighters, 15.8ms\n",
      "video 1/1 (frame 234/275) /home/hatsu/coding/CapProj/TestSeg_1/video_input/fight_3.mp4: 384x640 2 Fighters, 12.8ms\n",
      "video 1/1 (frame 235/275) /home/hatsu/coding/CapProj/TestSeg_1/video_input/fight_3.mp4: 384x640 2 Fighters, 21.5ms\n",
      "video 1/1 (frame 236/275) /home/hatsu/coding/CapProj/TestSeg_1/video_input/fight_3.mp4: 384x640 2 Fighters, 15.6ms\n",
      "video 1/1 (frame 237/275) /home/hatsu/coding/CapProj/TestSeg_1/video_input/fight_3.mp4: 384x640 1 Fighter, 15.0ms\n",
      "video 1/1 (frame 238/275) /home/hatsu/coding/CapProj/TestSeg_1/video_input/fight_3.mp4: 384x640 1 Fighter, 12.3ms\n",
      "video 1/1 (frame 239/275) /home/hatsu/coding/CapProj/TestSeg_1/video_input/fight_3.mp4: 384x640 1 Fighter, 13.6ms\n",
      "video 1/1 (frame 240/275) /home/hatsu/coding/CapProj/TestSeg_1/video_input/fight_3.mp4: 384x640 1 Fighter, 17.0ms\n",
      "video 1/1 (frame 241/275) /home/hatsu/coding/CapProj/TestSeg_1/video_input/fight_3.mp4: 384x640 1 Fighter, 16.7ms\n",
      "video 1/1 (frame 242/275) /home/hatsu/coding/CapProj/TestSeg_1/video_input/fight_3.mp4: 384x640 1 Fighter, 15.3ms\n",
      "video 1/1 (frame 243/275) /home/hatsu/coding/CapProj/TestSeg_1/video_input/fight_3.mp4: 384x640 1 Fighter, 12.2ms\n",
      "video 1/1 (frame 244/275) /home/hatsu/coding/CapProj/TestSeg_1/video_input/fight_3.mp4: 384x640 1 Fighter, 12.3ms\n",
      "video 1/1 (frame 245/275) /home/hatsu/coding/CapProj/TestSeg_1/video_input/fight_3.mp4: 384x640 1 Fighter, 16.1ms\n",
      "video 1/1 (frame 246/275) /home/hatsu/coding/CapProj/TestSeg_1/video_input/fight_3.mp4: 384x640 1 Fighter, 14.3ms\n",
      "video 1/1 (frame 247/275) /home/hatsu/coding/CapProj/TestSeg_1/video_input/fight_3.mp4: 384x640 1 Fighter, 12.4ms\n",
      "video 1/1 (frame 248/275) /home/hatsu/coding/CapProj/TestSeg_1/video_input/fight_3.mp4: 384x640 1 Fighter, 17.5ms\n",
      "video 1/1 (frame 249/275) /home/hatsu/coding/CapProj/TestSeg_1/video_input/fight_3.mp4: 384x640 1 Fighter, 16.2ms\n",
      "video 1/1 (frame 250/275) /home/hatsu/coding/CapProj/TestSeg_1/video_input/fight_3.mp4: 384x640 2 Fighters, 13.7ms\n",
      "video 1/1 (frame 251/275) /home/hatsu/coding/CapProj/TestSeg_1/video_input/fight_3.mp4: 384x640 1 Fighter, 11.8ms\n",
      "video 1/1 (frame 252/275) /home/hatsu/coding/CapProj/TestSeg_1/video_input/fight_3.mp4: 384x640 2 Fighters, 19.9ms\n",
      "video 1/1 (frame 253/275) /home/hatsu/coding/CapProj/TestSeg_1/video_input/fight_3.mp4: 384x640 2 Fighters, 16.4ms\n",
      "video 1/1 (frame 254/275) /home/hatsu/coding/CapProj/TestSeg_1/video_input/fight_3.mp4: 384x640 3 Fighters, 13.8ms\n",
      "video 1/1 (frame 255/275) /home/hatsu/coding/CapProj/TestSeg_1/video_input/fight_3.mp4: 384x640 1 Fighter, 12.1ms\n",
      "video 1/1 (frame 256/275) /home/hatsu/coding/CapProj/TestSeg_1/video_input/fight_3.mp4: 384x640 1 Fighter, 15.1ms\n",
      "video 1/1 (frame 257/275) /home/hatsu/coding/CapProj/TestSeg_1/video_input/fight_3.mp4: 384x640 1 Fighter, 12.5ms\n",
      "video 1/1 (frame 258/275) /home/hatsu/coding/CapProj/TestSeg_1/video_input/fight_3.mp4: 384x640 1 Fighter, 16.9ms\n",
      "video 1/1 (frame 259/275) /home/hatsu/coding/CapProj/TestSeg_1/video_input/fight_3.mp4: 384x640 1 Fighter, 12.6ms\n",
      "video 1/1 (frame 260/275) /home/hatsu/coding/CapProj/TestSeg_1/video_input/fight_3.mp4: 384x640 1 Fighter, 18.8ms\n",
      "video 1/1 (frame 261/275) /home/hatsu/coding/CapProj/TestSeg_1/video_input/fight_3.mp4: 384x640 1 Fighter, 17.6ms\n",
      "video 1/1 (frame 262/275) /home/hatsu/coding/CapProj/TestSeg_1/video_input/fight_3.mp4: 384x640 2 Fighters, 13.8ms\n",
      "video 1/1 (frame 263/275) /home/hatsu/coding/CapProj/TestSeg_1/video_input/fight_3.mp4: 384x640 2 Fighters, 16.3ms\n",
      "video 1/1 (frame 264/275) /home/hatsu/coding/CapProj/TestSeg_1/video_input/fight_3.mp4: 384x640 2 Fighters, 17.7ms\n",
      "video 1/1 (frame 265/275) /home/hatsu/coding/CapProj/TestSeg_1/video_input/fight_3.mp4: 384x640 2 Fighters, 13.4ms\n",
      "video 1/1 (frame 266/275) /home/hatsu/coding/CapProj/TestSeg_1/video_input/fight_3.mp4: 384x640 2 Fighters, 17.1ms\n",
      "video 1/1 (frame 267/275) /home/hatsu/coding/CapProj/TestSeg_1/video_input/fight_3.mp4: 384x640 2 Fighters, 18.8ms\n",
      "video 1/1 (frame 268/275) /home/hatsu/coding/CapProj/TestSeg_1/video_input/fight_3.mp4: 384x640 2 Fighters, 24.6ms\n",
      "video 1/1 (frame 269/275) /home/hatsu/coding/CapProj/TestSeg_1/video_input/fight_3.mp4: 384x640 2 Fighters, 40.1ms\n",
      "video 1/1 (frame 270/275) /home/hatsu/coding/CapProj/TestSeg_1/video_input/fight_3.mp4: 384x640 3 Fighters, 33.7ms\n",
      "video 1/1 (frame 271/275) /home/hatsu/coding/CapProj/TestSeg_1/video_input/fight_3.mp4: 384x640 3 Fighters, 24.5ms\n",
      "video 1/1 (frame 272/275) /home/hatsu/coding/CapProj/TestSeg_1/video_input/fight_3.mp4: 384x640 3 Fighters, 13.6ms\n",
      "video 1/1 (frame 273/275) /home/hatsu/coding/CapProj/TestSeg_1/video_input/fight_3.mp4: 384x640 3 Fighters, 14.5ms\n",
      "video 1/1 (frame 274/275) /home/hatsu/coding/CapProj/TestSeg_1/video_input/fight_3.mp4: 384x640 2 Fighters, 13.2ms\n",
      "video 1/1 (frame 275/275) /home/hatsu/coding/CapProj/TestSeg_1/video_input/fight_3.mp4: 384x640 2 Fighters, 14.8ms\n",
      "Speed: 2.8ms preprocess, 17.9ms inference, 5.3ms postprocess per image at shape (1, 3, 384, 640)\n"
     ]
    }
   ],
   "source": [
    "for result in results:\n",
    "    frame = result.plot()\n",
    "    \n",
    "    out.write(frame)\n",
    "\n",
    "    cv2.imshow(\"Fatality!!!\", frame)\n",
    "\n",
    "    if cv2.waitKey(1) & 0xFF == ord('q'):\n",
    "        break\n",
    "\n",
    "cv2.destroyAllWindows()"
   ]
  },
  {
   "cell_type": "markdown",
   "metadata": {},
   "source": [
    "Image Inference"
   ]
  },
  {
   "cell_type": "code",
   "execution_count": 12,
   "metadata": {},
   "outputs": [
    {
     "name": "stdout",
     "output_type": "stream",
     "text": [
      "\n",
      "image 1/1 /home/hatsu/coding/CapProj/TestSeg_1/image_input/frame_000003.PNG: 640x640 2 Fighters, 12.2ms\n",
      "Speed: 1.6ms preprocess, 12.2ms inference, 5.1ms postprocess per image at shape (1, 3, 640, 640)\n",
      "[ultralytics.engine.results.Results object with attributes:\n",
      "\n",
      "boxes: ultralytics.engine.results.Boxes object\n",
      "keypoints: None\n",
      "masks: ultralytics.engine.results.Masks object\n",
      "names: {0: 'Fighter'}\n",
      "obb: None\n",
      "orig_img: array([[[0, 0, 0],\n",
      "        [0, 0, 0],\n",
      "        [0, 0, 0],\n",
      "        ...,\n",
      "        [0, 0, 0],\n",
      "        [0, 0, 0],\n",
      "        [0, 0, 0]],\n",
      "\n",
      "       [[0, 0, 0],\n",
      "        [0, 0, 0],\n",
      "        [0, 0, 0],\n",
      "        ...,\n",
      "        [0, 0, 0],\n",
      "        [0, 0, 0],\n",
      "        [0, 0, 0]],\n",
      "\n",
      "       [[0, 0, 0],\n",
      "        [0, 0, 0],\n",
      "        [0, 0, 0],\n",
      "        ...,\n",
      "        [0, 0, 0],\n",
      "        [0, 0, 0],\n",
      "        [0, 0, 0]],\n",
      "\n",
      "       ...,\n",
      "\n",
      "       [[0, 0, 0],\n",
      "        [0, 0, 0],\n",
      "        [0, 0, 0],\n",
      "        ...,\n",
      "        [0, 0, 0],\n",
      "        [0, 0, 0],\n",
      "        [0, 0, 0]],\n",
      "\n",
      "       [[0, 0, 0],\n",
      "        [0, 0, 0],\n",
      "        [0, 0, 0],\n",
      "        ...,\n",
      "        [0, 0, 0],\n",
      "        [0, 0, 0],\n",
      "        [0, 0, 0]],\n",
      "\n",
      "       [[0, 0, 0],\n",
      "        [0, 0, 0],\n",
      "        [0, 0, 0],\n",
      "        ...,\n",
      "        [0, 0, 0],\n",
      "        [0, 0, 0],\n",
      "        [0, 0, 0]]], dtype=uint8)\n",
      "orig_shape: (640, 640)\n",
      "path: '/home/hatsu/coding/CapProj/TestSeg_1/image_input/frame_000003.PNG'\n",
      "probs: None\n",
      "save_dir: 'runs/segment/predict'\n",
      "speed: {'preprocess': 1.5597343444824219, 'inference': 12.246131896972656, 'postprocess': 5.080223083496094}]\n"
     ]
    }
   ],
   "source": [
    "result = model.predict(source=\"image_input/frame_000003.PNG\", task=\"segment\", show=True)\n",
    "print(result)"
   ]
  }
 ],
 "metadata": {
  "kernelspec": {
   "display_name": "ultrapython",
   "language": "python",
   "name": "python3"
  },
  "language_info": {
   "codemirror_mode": {
    "name": "ipython",
    "version": 3
   },
   "file_extension": ".py",
   "mimetype": "text/x-python",
   "name": "python",
   "nbconvert_exporter": "python",
   "pygments_lexer": "ipython3",
   "version": "3.10.15"
  }
 },
 "nbformat": 4,
 "nbformat_minor": 2
}
