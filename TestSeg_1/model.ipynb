{
 "cells": [
  {
   "cell_type": "code",
   "execution_count": 28,
   "metadata": {},
   "outputs": [],
   "source": [
    "import torch\n",
    "import cv2\n",
    "import numpy as np\n",
    "from ultralytics import YOLO"
   ]
  },
  {
   "cell_type": "code",
   "execution_count": 29,
   "metadata": {},
   "outputs": [],
   "source": [
    "DEVICE = \"cuda:0\" if torch.cuda.is_available() else \"cpu\""
   ]
  },
  {
   "cell_type": "markdown",
   "metadata": {},
   "source": [
    "Train Dataset_1 from the base model"
   ]
  },
  {
   "cell_type": "code",
   "execution_count": null,
   "metadata": {},
   "outputs": [],
   "source": [
    "model = YOLO(\"checkpoint/yolo11n-seg.pt\")\n",
    "model.to(DEVICE)\n",
    "\n",
    "model.train(data=\"config_1.yaml\", epochs=100, imgsz=640)\n",
    "model.save(\"checkpoint/fighter_1.pt\")"
   ]
  },
  {
   "cell_type": "markdown",
   "metadata": {},
   "source": [
    "Train Dataset_2 from the base model"
   ]
  },
  {
   "cell_type": "code",
   "execution_count": null,
   "metadata": {},
   "outputs": [],
   "source": [
    "model = YOLO(\"checkpoint/yolo11n-seg.pt\")\n",
    "model.to(DEVICE)\n",
    "\n",
    "model.train(data=\"config_2.yaml\", epochs=100, imgsz=640)\n",
    "model.save(\"checkpoint/fighter_2.pt\")"
   ]
  },
  {
   "cell_type": "markdown",
   "metadata": {},
   "source": [
    "Train Dataset_3 from the fighter_2 chkpoint"
   ]
  },
  {
   "cell_type": "code",
   "execution_count": null,
   "metadata": {},
   "outputs": [],
   "source": [
    "model = YOLO(\"checkpoint/fighter_2.pt\")\n",
    "model.to(DEVICE)\n",
    "\n",
    "model.train(data=\"config_3.yaml\", epochs=100, imgsz=640)\n",
    "model.save(\"checkpoint/fighter_3.pt\")"
   ]
  },
  {
   "cell_type": "markdown",
   "metadata": {},
   "source": [
    "Train Dataset_4 from the fighter_3 chkpoint"
   ]
  },
  {
   "cell_type": "code",
   "execution_count": 32,
   "metadata": {},
   "outputs": [
    {
     "name": "stdout",
     "output_type": "stream",
     "text": [
      "New https://pypi.org/project/ultralytics/8.3.50 available 😃 Update with 'pip install -U ultralytics'\n",
      "\u001b[34m\u001b[1mengine/trainer: \u001b[0mtask=segment, mode=train, model=checkpoint/fighter_3.pt, data=config_4.yaml, epochs=100, time=None, patience=100, batch=16, imgsz=640, save=True, save_period=-1, cache=False, device=cuda:0, workers=8, project=None, name=train13, exist_ok=False, pretrained=True, optimizer=auto, verbose=True, seed=0, deterministic=True, single_cls=False, rect=False, cos_lr=False, close_mosaic=10, resume=False, amp=True, fraction=1.0, profile=False, freeze=None, multi_scale=False, overlap_mask=True, mask_ratio=4, dropout=0.0, val=True, split=val, save_json=False, save_hybrid=False, conf=None, iou=0.7, max_det=300, half=False, dnn=False, plots=True, source=None, vid_stride=1, stream_buffer=False, visualize=False, augment=False, agnostic_nms=False, classes=None, retina_masks=False, embed=None, show=False, save_frames=False, save_txt=False, save_conf=False, save_crop=False, show_labels=True, show_conf=True, show_boxes=True, line_width=None, format=torchscript, keras=False, optimize=False, int8=False, dynamic=False, simplify=True, opset=None, workspace=None, nms=False, lr0=0.01, lrf=0.01, momentum=0.937, weight_decay=0.0005, warmup_epochs=3.0, warmup_momentum=0.8, warmup_bias_lr=0.1, box=7.5, cls=0.5, dfl=1.5, pose=12.0, kobj=1.0, nbs=64, hsv_h=0.015, hsv_s=0.7, hsv_v=0.4, degrees=0.0, translate=0.1, scale=0.5, shear=0.0, perspective=0.0, flipud=0.0, fliplr=0.5, bgr=0.0, mosaic=1.0, mixup=0.0, copy_paste=0.0, copy_paste_mode=flip, auto_augment=randaugment, erasing=0.4, crop_fraction=1.0, cfg=None, tracker=botsort.yaml, save_dir=runs/segment/train13\n",
      "\n",
      "                   from  n    params  module                                       arguments                     \n",
      "  0                  -1  1       464  ultralytics.nn.modules.conv.Conv             [3, 16, 3, 2]                 \n",
      "  1                  -1  1      4672  ultralytics.nn.modules.conv.Conv             [16, 32, 3, 2]                \n",
      "  2                  -1  1      6640  ultralytics.nn.modules.block.C3k2            [32, 64, 1, False, 0.25]      \n",
      "  3                  -1  1     36992  ultralytics.nn.modules.conv.Conv             [64, 64, 3, 2]                \n",
      "  4                  -1  1     26080  ultralytics.nn.modules.block.C3k2            [64, 128, 1, False, 0.25]     \n",
      "  5                  -1  1    147712  ultralytics.nn.modules.conv.Conv             [128, 128, 3, 2]              \n",
      "  6                  -1  1     87040  ultralytics.nn.modules.block.C3k2            [128, 128, 1, True]           \n",
      "  7                  -1  1    295424  ultralytics.nn.modules.conv.Conv             [128, 256, 3, 2]              \n",
      "  8                  -1  1    346112  ultralytics.nn.modules.block.C3k2            [256, 256, 1, True]           \n",
      "  9                  -1  1    164608  ultralytics.nn.modules.block.SPPF            [256, 256, 5]                 \n",
      " 10                  -1  1    249728  ultralytics.nn.modules.block.C2PSA           [256, 256, 1]                 \n",
      " 11                  -1  1         0  torch.nn.modules.upsampling.Upsample         [None, 2, 'nearest']          \n",
      " 12             [-1, 6]  1         0  ultralytics.nn.modules.conv.Concat           [1]                           \n",
      " 13                  -1  1    111296  ultralytics.nn.modules.block.C3k2            [384, 128, 1, False]          \n",
      " 14                  -1  1         0  torch.nn.modules.upsampling.Upsample         [None, 2, 'nearest']          \n",
      " 15             [-1, 4]  1         0  ultralytics.nn.modules.conv.Concat           [1]                           \n",
      " 16                  -1  1     32096  ultralytics.nn.modules.block.C3k2            [256, 64, 1, False]           \n",
      " 17                  -1  1     36992  ultralytics.nn.modules.conv.Conv             [64, 64, 3, 2]                \n",
      " 18            [-1, 13]  1         0  ultralytics.nn.modules.conv.Concat           [1]                           \n",
      " 19                  -1  1     86720  ultralytics.nn.modules.block.C3k2            [192, 128, 1, False]          \n",
      " 20                  -1  1    147712  ultralytics.nn.modules.conv.Conv             [128, 128, 3, 2]              \n",
      " 21            [-1, 10]  1         0  ultralytics.nn.modules.conv.Concat           [1]                           \n",
      " 22                  -1  1    378880  ultralytics.nn.modules.block.C3k2            [384, 256, 1, True]           \n",
      " 23        [16, 19, 22]  1    683635  ultralytics.nn.modules.head.Segment          [1, 32, 64, [64, 128, 256]]   \n",
      "YOLO11n-seg summary: 355 layers, 2,842,803 parameters, 2,842,787 gradients, 10.4 GFLOPs\n",
      "\n",
      "Transferred 561/561 items from pretrained weights\n",
      "\u001b[34m\u001b[1mTensorBoard: \u001b[0mStart with 'tensorboard --logdir runs/segment/train13', view at http://localhost:6006/\n",
      "Freezing layer 'model.23.dfl.conv.weight'\n",
      "\u001b[34m\u001b[1mAMP: \u001b[0mrunning Automatic Mixed Precision (AMP) checks...\n",
      "\u001b[34m\u001b[1mAMP: \u001b[0mchecks passed ✅\n"
     ]
    },
    {
     "name": "stderr",
     "output_type": "stream",
     "text": [
      "\u001b[34m\u001b[1mtrain: \u001b[0mScanning /home/hatsu/coding/CapProj/TestSeg_1/dataset_4/labels/train... 250 images, 0 backgrounds, 0 corrupt: 100%|██████████| 250/250 [00:00<00:00, 830.04it/s]"
     ]
    },
    {
     "name": "stdout",
     "output_type": "stream",
     "text": [
      "\u001b[34m\u001b[1mtrain: \u001b[0mNew cache created: /home/hatsu/coding/CapProj/TestSeg_1/dataset_4/labels/train.cache\n"
     ]
    },
    {
     "name": "stderr",
     "output_type": "stream",
     "text": [
      "\n",
      "\u001b[34m\u001b[1mval: \u001b[0mScanning /home/hatsu/coding/CapProj/TestSeg_1/dataset_4/labels/val... 10 images, 0 backgrounds, 0 corrupt: 100%|██████████| 10/10 [00:00<00:00, 301.33it/s]"
     ]
    },
    {
     "name": "stdout",
     "output_type": "stream",
     "text": [
      "\u001b[34m\u001b[1mval: \u001b[0mNew cache created: /home/hatsu/coding/CapProj/TestSeg_1/dataset_4/labels/val.cache\n"
     ]
    },
    {
     "name": "stderr",
     "output_type": "stream",
     "text": [
      "\n"
     ]
    },
    {
     "name": "stdout",
     "output_type": "stream",
     "text": [
      "Plotting labels to runs/segment/train13/labels.jpg... \n",
      "\u001b[34m\u001b[1moptimizer:\u001b[0m 'optimizer=auto' found, ignoring 'lr0=0.01' and 'momentum=0.937' and determining best 'optimizer', 'lr0' and 'momentum' automatically... \n",
      "\u001b[34m\u001b[1moptimizer:\u001b[0m AdamW(lr=0.002, momentum=0.9) with parameter groups 90 weight(decay=0.0), 101 weight(decay=0.0005), 100 bias(decay=0.0)\n",
      "\u001b[34m\u001b[1mTensorBoard: \u001b[0mmodel graph visualization added ✅\n",
      "Image sizes 640 train, 640 val\n",
      "Using 4 dataloader workers\n",
      "Logging results to \u001b[1mruns/segment/train13\u001b[0m\n",
      "Starting training for 100 epochs...\n",
      "\n",
      "      Epoch    GPU_mem   box_loss   seg_loss   cls_loss   dfl_loss  Instances       Size\n"
     ]
    },
    {
     "name": "stderr",
     "output_type": "stream",
     "text": [
      "      1/100      3.16G     0.8576      1.477      0.695      1.187         58        640: 100%|██████████| 16/16 [00:06<00:00,  2.41it/s]\n",
      "                 Class     Images  Instances      Box(P          R      mAP50  mAP50-95)     Mask(P          R      mAP50  mAP50-95): 100%|██████████| 1/1 [00:00<00:00,  4.59it/s]"
     ]
    },
    {
     "name": "stdout",
     "output_type": "stream",
     "text": [
      "                   all         10         18      0.841      0.944      0.925      0.711      0.891          1      0.978       0.66\n"
     ]
    },
    {
     "name": "stderr",
     "output_type": "stream",
     "text": [
      "\n"
     ]
    },
    {
     "name": "stdout",
     "output_type": "stream",
     "text": [
      "\n",
      "      Epoch    GPU_mem   box_loss   seg_loss   cls_loss   dfl_loss  Instances       Size\n"
     ]
    },
    {
     "name": "stderr",
     "output_type": "stream",
     "text": [
      "      2/100       3.2G     0.7465      1.165     0.6489      1.105         52        640: 100%|██████████| 16/16 [00:03<00:00,  4.42it/s]\n",
      "                 Class     Images  Instances      Box(P          R      mAP50  mAP50-95)     Mask(P          R      mAP50  mAP50-95): 100%|██████████| 1/1 [00:00<00:00,  8.46it/s]"
     ]
    },
    {
     "name": "stdout",
     "output_type": "stream",
     "text": [
      "                   all         10         18      0.894      0.944      0.955      0.686      0.894      0.944      0.963      0.508\n"
     ]
    },
    {
     "name": "stderr",
     "output_type": "stream",
     "text": [
      "\n"
     ]
    },
    {
     "name": "stdout",
     "output_type": "stream",
     "text": [
      "\n",
      "      Epoch    GPU_mem   box_loss   seg_loss   cls_loss   dfl_loss  Instances       Size\n"
     ]
    },
    {
     "name": "stderr",
     "output_type": "stream",
     "text": [
      "      3/100      3.16G     0.7698       1.11     0.6612      1.092         68        640: 100%|██████████| 16/16 [00:03<00:00,  4.41it/s]\n",
      "                 Class     Images  Instances      Box(P          R      mAP50  mAP50-95)     Mask(P          R      mAP50  mAP50-95): 100%|██████████| 1/1 [00:00<00:00,  7.74it/s]"
     ]
    },
    {
     "name": "stdout",
     "output_type": "stream",
     "text": [
      "                   all         10         18      0.945          1      0.995      0.753      0.945      0.889      0.967      0.592\n"
     ]
    },
    {
     "name": "stderr",
     "output_type": "stream",
     "text": [
      "\n"
     ]
    },
    {
     "name": "stdout",
     "output_type": "stream",
     "text": [
      "\n",
      "      Epoch    GPU_mem   box_loss   seg_loss   cls_loss   dfl_loss  Instances       Size\n"
     ]
    },
    {
     "name": "stderr",
     "output_type": "stream",
     "text": [
      "      4/100      3.18G     0.8019       1.11     0.6797      1.112         45        640: 100%|██████████| 16/16 [00:03<00:00,  4.60it/s]\n",
      "                 Class     Images  Instances      Box(P          R      mAP50  mAP50-95)     Mask(P          R      mAP50  mAP50-95): 100%|██████████| 1/1 [00:00<00:00,  6.88it/s]"
     ]
    },
    {
     "name": "stdout",
     "output_type": "stream",
     "text": [
      "                   all         10         18      0.776      0.769      0.861      0.544      0.831      0.823      0.876      0.448\n"
     ]
    },
    {
     "name": "stderr",
     "output_type": "stream",
     "text": [
      "\n"
     ]
    },
    {
     "name": "stdout",
     "output_type": "stream",
     "text": [
      "\n",
      "      Epoch    GPU_mem   box_loss   seg_loss   cls_loss   dfl_loss  Instances       Size\n"
     ]
    },
    {
     "name": "stderr",
     "output_type": "stream",
     "text": [
      "      5/100      3.17G     0.8126      1.157     0.6762      1.111         63        640: 100%|██████████| 16/16 [00:03<00:00,  4.62it/s]\n",
      "                 Class     Images  Instances      Box(P          R      mAP50  mAP50-95)     Mask(P          R      mAP50  mAP50-95): 100%|██████████| 1/1 [00:00<00:00,  8.10it/s]"
     ]
    },
    {
     "name": "stdout",
     "output_type": "stream",
     "text": [
      "                   all         10         18      0.641      0.795      0.782      0.479      0.671      0.778      0.823      0.458\n"
     ]
    },
    {
     "name": "stderr",
     "output_type": "stream",
     "text": [
      "\n"
     ]
    },
    {
     "name": "stdout",
     "output_type": "stream",
     "text": [
      "\n",
      "      Epoch    GPU_mem   box_loss   seg_loss   cls_loss   dfl_loss  Instances       Size\n"
     ]
    },
    {
     "name": "stderr",
     "output_type": "stream",
     "text": [
      "      6/100      3.19G     0.7996      1.169     0.6932      1.112         61        640: 100%|██████████| 16/16 [00:03<00:00,  4.62it/s]\n",
      "                 Class     Images  Instances      Box(P          R      mAP50  mAP50-95)     Mask(P          R      mAP50  mAP50-95): 100%|██████████| 1/1 [00:00<00:00,  8.32it/s]"
     ]
    },
    {
     "name": "stdout",
     "output_type": "stream",
     "text": [
      "                   all         10         18      0.538      0.778      0.703      0.312      0.639      0.722      0.709      0.234\n"
     ]
    },
    {
     "name": "stderr",
     "output_type": "stream",
     "text": [
      "\n"
     ]
    },
    {
     "name": "stdout",
     "output_type": "stream",
     "text": [
      "\n",
      "      Epoch    GPU_mem   box_loss   seg_loss   cls_loss   dfl_loss  Instances       Size\n"
     ]
    },
    {
     "name": "stderr",
     "output_type": "stream",
     "text": [
      "      7/100      3.13G     0.8164      1.203     0.7027       1.11         52        640: 100%|██████████| 16/16 [00:03<00:00,  4.54it/s]\n",
      "                 Class     Images  Instances      Box(P          R      mAP50  mAP50-95)     Mask(P          R      mAP50  mAP50-95): 100%|██████████| 1/1 [00:00<00:00,  8.40it/s]"
     ]
    },
    {
     "name": "stdout",
     "output_type": "stream",
     "text": [
      "                   all         10         18       0.69      0.833      0.784      0.469      0.798      0.833      0.872      0.381\n"
     ]
    },
    {
     "name": "stderr",
     "output_type": "stream",
     "text": [
      "\n"
     ]
    },
    {
     "name": "stdout",
     "output_type": "stream",
     "text": [
      "\n",
      "      Epoch    GPU_mem   box_loss   seg_loss   cls_loss   dfl_loss  Instances       Size\n"
     ]
    },
    {
     "name": "stderr",
     "output_type": "stream",
     "text": [
      "      8/100      3.19G     0.7911      1.151     0.6562      1.095         58        640: 100%|██████████| 16/16 [00:03<00:00,  4.59it/s]\n",
      "                 Class     Images  Instances      Box(P          R      mAP50  mAP50-95)     Mask(P          R      mAP50  mAP50-95): 100%|██████████| 1/1 [00:00<00:00,  8.51it/s]"
     ]
    },
    {
     "name": "stdout",
     "output_type": "stream",
     "text": [
      "                   all         10         18      0.771      0.944      0.774      0.509       0.72      0.889      0.784      0.335\n"
     ]
    },
    {
     "name": "stderr",
     "output_type": "stream",
     "text": [
      "\n"
     ]
    },
    {
     "name": "stdout",
     "output_type": "stream",
     "text": [
      "\n",
      "      Epoch    GPU_mem   box_loss   seg_loss   cls_loss   dfl_loss  Instances       Size\n"
     ]
    },
    {
     "name": "stderr",
     "output_type": "stream",
     "text": [
      "      9/100      3.19G     0.7859      1.065      0.634      1.112         51        640: 100%|██████████| 16/16 [00:03<00:00,  4.57it/s]\n",
      "                 Class     Images  Instances      Box(P          R      mAP50  mAP50-95)     Mask(P          R      mAP50  mAP50-95): 100%|██████████| 1/1 [00:00<00:00,  8.70it/s]"
     ]
    },
    {
     "name": "stdout",
     "output_type": "stream",
     "text": [
      "                   all         10         18      0.894      0.833      0.959      0.736      0.894      0.833      0.959      0.517\n"
     ]
    },
    {
     "name": "stderr",
     "output_type": "stream",
     "text": [
      "\n"
     ]
    },
    {
     "name": "stdout",
     "output_type": "stream",
     "text": [
      "\n",
      "      Epoch    GPU_mem   box_loss   seg_loss   cls_loss   dfl_loss  Instances       Size\n"
     ]
    },
    {
     "name": "stderr",
     "output_type": "stream",
     "text": [
      "     10/100      3.17G     0.7907      1.105     0.6612        1.1         49        640: 100%|██████████| 16/16 [00:03<00:00,  4.37it/s]\n",
      "                 Class     Images  Instances      Box(P          R      mAP50  mAP50-95)     Mask(P          R      mAP50  mAP50-95): 100%|██████████| 1/1 [00:00<00:00,  9.03it/s]"
     ]
    },
    {
     "name": "stdout",
     "output_type": "stream",
     "text": [
      "                   all         10         18      0.792      0.944      0.858      0.571      0.792      0.944      0.913      0.491\n"
     ]
    },
    {
     "name": "stderr",
     "output_type": "stream",
     "text": [
      "\n"
     ]
    },
    {
     "name": "stdout",
     "output_type": "stream",
     "text": [
      "\n",
      "      Epoch    GPU_mem   box_loss   seg_loss   cls_loss   dfl_loss  Instances       Size\n"
     ]
    },
    {
     "name": "stderr",
     "output_type": "stream",
     "text": [
      "     11/100      3.19G     0.7521      1.041     0.6376       1.07         53        640: 100%|██████████| 16/16 [00:03<00:00,  4.53it/s]\n",
      "                 Class     Images  Instances      Box(P          R      mAP50  mAP50-95)     Mask(P          R      mAP50  mAP50-95): 100%|██████████| 1/1 [00:00<00:00,  7.89it/s]"
     ]
    },
    {
     "name": "stdout",
     "output_type": "stream",
     "text": [
      "                   all         10         18      0.505      0.944       0.72      0.381      0.555      0.624       0.56      0.234\n"
     ]
    },
    {
     "name": "stderr",
     "output_type": "stream",
     "text": [
      "\n"
     ]
    },
    {
     "name": "stdout",
     "output_type": "stream",
     "text": [
      "\n",
      "      Epoch    GPU_mem   box_loss   seg_loss   cls_loss   dfl_loss  Instances       Size\n"
     ]
    },
    {
     "name": "stderr",
     "output_type": "stream",
     "text": [
      "     12/100      3.17G     0.7439      1.075     0.6151      1.076         45        640: 100%|██████████| 16/16 [00:03<00:00,  4.46it/s]\n",
      "                 Class     Images  Instances      Box(P          R      mAP50  mAP50-95)     Mask(P          R      mAP50  mAP50-95): 100%|██████████| 1/1 [00:00<00:00,  8.93it/s]"
     ]
    },
    {
     "name": "stdout",
     "output_type": "stream",
     "text": [
      "                   all         10         18      0.882          1      0.984      0.534      0.935      0.802      0.869      0.355\n"
     ]
    },
    {
     "name": "stderr",
     "output_type": "stream",
     "text": [
      "\n"
     ]
    },
    {
     "name": "stdout",
     "output_type": "stream",
     "text": [
      "\n",
      "      Epoch    GPU_mem   box_loss   seg_loss   cls_loss   dfl_loss  Instances       Size\n"
     ]
    },
    {
     "name": "stderr",
     "output_type": "stream",
     "text": [
      "     13/100      3.11G       0.73      1.043     0.6044      1.063         45        640: 100%|██████████| 16/16 [00:03<00:00,  4.51it/s]\n",
      "                 Class     Images  Instances      Box(P          R      mAP50  mAP50-95)     Mask(P          R      mAP50  mAP50-95): 100%|██████████| 1/1 [00:00<00:00,  6.52it/s]"
     ]
    },
    {
     "name": "stdout",
     "output_type": "stream",
     "text": [
      "                   all         10         18      0.742          1      0.931       0.57      0.817      0.778      0.834      0.342\n"
     ]
    },
    {
     "name": "stderr",
     "output_type": "stream",
     "text": [
      "\n"
     ]
    },
    {
     "name": "stdout",
     "output_type": "stream",
     "text": [
      "\n",
      "      Epoch    GPU_mem   box_loss   seg_loss   cls_loss   dfl_loss  Instances       Size\n"
     ]
    },
    {
     "name": "stderr",
     "output_type": "stream",
     "text": [
      "     14/100      3.19G     0.7531      1.034     0.6167      1.083         53        640: 100%|██████████| 16/16 [00:03<00:00,  4.65it/s]\n",
      "                 Class     Images  Instances      Box(P          R      mAP50  mAP50-95)     Mask(P          R      mAP50  mAP50-95): 100%|██████████| 1/1 [00:00<00:00,  8.63it/s]"
     ]
    },
    {
     "name": "stdout",
     "output_type": "stream",
     "text": [
      "                   all         10         18      0.805      0.918      0.905      0.636      0.856      0.833      0.888      0.453\n"
     ]
    },
    {
     "name": "stderr",
     "output_type": "stream",
     "text": [
      "\n"
     ]
    },
    {
     "name": "stdout",
     "output_type": "stream",
     "text": [
      "\n",
      "      Epoch    GPU_mem   box_loss   seg_loss   cls_loss   dfl_loss  Instances       Size\n"
     ]
    },
    {
     "name": "stderr",
     "output_type": "stream",
     "text": [
      "     15/100      3.17G     0.7364      1.023     0.6126      1.063         56        640: 100%|██████████| 16/16 [00:03<00:00,  4.59it/s]\n",
      "                 Class     Images  Instances      Box(P          R      mAP50  mAP50-95)     Mask(P          R      mAP50  mAP50-95): 100%|██████████| 1/1 [00:00<00:00,  8.83it/s]"
     ]
    },
    {
     "name": "stdout",
     "output_type": "stream",
     "text": [
      "                   all         10         18      0.734      0.944      0.829      0.588      0.801      0.778      0.862       0.45\n"
     ]
    },
    {
     "name": "stderr",
     "output_type": "stream",
     "text": [
      "\n"
     ]
    },
    {
     "name": "stdout",
     "output_type": "stream",
     "text": [
      "\n",
      "      Epoch    GPU_mem   box_loss   seg_loss   cls_loss   dfl_loss  Instances       Size\n"
     ]
    },
    {
     "name": "stderr",
     "output_type": "stream",
     "text": [
      "     16/100      3.19G     0.7253     0.9804     0.6028      1.065         55        640: 100%|██████████| 16/16 [00:03<00:00,  4.14it/s]\n",
      "                 Class     Images  Instances      Box(P          R      mAP50  mAP50-95)     Mask(P          R      mAP50  mAP50-95): 100%|██████████| 1/1 [00:00<00:00,  6.18it/s]"
     ]
    },
    {
     "name": "stdout",
     "output_type": "stream",
     "text": [
      "                   all         10         18      0.828      0.944      0.923      0.651      0.839      0.871      0.915      0.514\n"
     ]
    },
    {
     "name": "stderr",
     "output_type": "stream",
     "text": [
      "\n"
     ]
    },
    {
     "name": "stdout",
     "output_type": "stream",
     "text": [
      "\n",
      "      Epoch    GPU_mem   box_loss   seg_loss   cls_loss   dfl_loss  Instances       Size\n"
     ]
    },
    {
     "name": "stderr",
     "output_type": "stream",
     "text": [
      "     17/100      3.16G     0.6918      1.027     0.5762      1.041         64        640: 100%|██████████| 16/16 [00:03<00:00,  4.58it/s]\n",
      "                 Class     Images  Instances      Box(P          R      mAP50  mAP50-95)     Mask(P          R      mAP50  mAP50-95): 100%|██████████| 1/1 [00:00<00:00,  9.01it/s]"
     ]
    },
    {
     "name": "stdout",
     "output_type": "stream",
     "text": [
      "                   all         10         18      0.669      0.778      0.789      0.422      0.621      0.722      0.704      0.375\n"
     ]
    },
    {
     "name": "stderr",
     "output_type": "stream",
     "text": [
      "\n"
     ]
    },
    {
     "name": "stdout",
     "output_type": "stream",
     "text": [
      "\n",
      "      Epoch    GPU_mem   box_loss   seg_loss   cls_loss   dfl_loss  Instances       Size\n"
     ]
    },
    {
     "name": "stderr",
     "output_type": "stream",
     "text": [
      "     18/100      3.17G     0.7069     0.9937     0.5711      1.075         48        640: 100%|██████████| 16/16 [00:03<00:00,  4.56it/s]\n",
      "                 Class     Images  Instances      Box(P          R      mAP50  mAP50-95)     Mask(P          R      mAP50  mAP50-95): 100%|██████████| 1/1 [00:00<00:00,  8.98it/s]"
     ]
    },
    {
     "name": "stdout",
     "output_type": "stream",
     "text": [
      "                   all         10         18      0.727      0.887      0.859      0.657      0.751      0.889      0.862      0.538\n"
     ]
    },
    {
     "name": "stderr",
     "output_type": "stream",
     "text": [
      "\n"
     ]
    },
    {
     "name": "stdout",
     "output_type": "stream",
     "text": [
      "\n",
      "      Epoch    GPU_mem   box_loss   seg_loss   cls_loss   dfl_loss  Instances       Size\n"
     ]
    },
    {
     "name": "stderr",
     "output_type": "stream",
     "text": [
      "     19/100      3.13G     0.6956     0.9939     0.5625      1.053         51        640: 100%|██████████| 16/16 [00:03<00:00,  4.59it/s]\n",
      "                 Class     Images  Instances      Box(P          R      mAP50  mAP50-95)     Mask(P          R      mAP50  mAP50-95): 100%|██████████| 1/1 [00:00<00:00,  8.00it/s]"
     ]
    },
    {
     "name": "stdout",
     "output_type": "stream",
     "text": [
      "                   all         10         18      0.813          1       0.93      0.599      0.786      0.889      0.843      0.432\n"
     ]
    },
    {
     "name": "stderr",
     "output_type": "stream",
     "text": [
      "\n"
     ]
    },
    {
     "name": "stdout",
     "output_type": "stream",
     "text": [
      "\n",
      "      Epoch    GPU_mem   box_loss   seg_loss   cls_loss   dfl_loss  Instances       Size\n"
     ]
    },
    {
     "name": "stderr",
     "output_type": "stream",
     "text": [
      "     20/100      3.15G     0.6917     0.9507     0.5483      1.049         59        640: 100%|██████████| 16/16 [00:03<00:00,  4.56it/s]\n",
      "                 Class     Images  Instances      Box(P          R      mAP50  mAP50-95)     Mask(P          R      mAP50  mAP50-95): 100%|██████████| 1/1 [00:00<00:00,  8.16it/s]"
     ]
    },
    {
     "name": "stdout",
     "output_type": "stream",
     "text": [
      "                   all         10         18      0.735      0.833      0.722      0.478      0.854      0.722      0.686       0.26\n"
     ]
    },
    {
     "name": "stderr",
     "output_type": "stream",
     "text": [
      "\n"
     ]
    },
    {
     "name": "stdout",
     "output_type": "stream",
     "text": [
      "\n",
      "      Epoch    GPU_mem   box_loss   seg_loss   cls_loss   dfl_loss  Instances       Size\n"
     ]
    },
    {
     "name": "stderr",
     "output_type": "stream",
     "text": [
      "     21/100      3.21G     0.6943     0.9253     0.5518      1.049         41        640: 100%|██████████| 16/16 [00:03<00:00,  4.53it/s]\n",
      "                 Class     Images  Instances      Box(P          R      mAP50  mAP50-95)     Mask(P          R      mAP50  mAP50-95): 100%|██████████| 1/1 [00:00<00:00,  7.82it/s]"
     ]
    },
    {
     "name": "stdout",
     "output_type": "stream",
     "text": [
      "                   all         10         18      0.865      0.889      0.933      0.583      0.803      0.833      0.844      0.423\n"
     ]
    },
    {
     "name": "stderr",
     "output_type": "stream",
     "text": [
      "\n"
     ]
    },
    {
     "name": "stdout",
     "output_type": "stream",
     "text": [
      "\n",
      "      Epoch    GPU_mem   box_loss   seg_loss   cls_loss   dfl_loss  Instances       Size\n"
     ]
    },
    {
     "name": "stderr",
     "output_type": "stream",
     "text": [
      "     22/100      3.16G     0.6753     0.9849      0.548      1.032         55        640: 100%|██████████| 16/16 [00:03<00:00,  4.51it/s]\n",
      "                 Class     Images  Instances      Box(P          R      mAP50  mAP50-95)     Mask(P          R      mAP50  mAP50-95): 100%|██████████| 1/1 [00:00<00:00,  7.53it/s]"
     ]
    },
    {
     "name": "stdout",
     "output_type": "stream",
     "text": [
      "                   all         10         18      0.875      0.944      0.921      0.641      0.928          1      0.987      0.512\n"
     ]
    },
    {
     "name": "stderr",
     "output_type": "stream",
     "text": [
      "\n"
     ]
    },
    {
     "name": "stdout",
     "output_type": "stream",
     "text": [
      "\n",
      "      Epoch    GPU_mem   box_loss   seg_loss   cls_loss   dfl_loss  Instances       Size\n"
     ]
    },
    {
     "name": "stderr",
     "output_type": "stream",
     "text": [
      "     23/100      3.17G     0.6505     0.9018     0.5352      1.031         46        640: 100%|██████████| 16/16 [00:03<00:00,  4.52it/s]\n",
      "                 Class     Images  Instances      Box(P          R      mAP50  mAP50-95)     Mask(P          R      mAP50  mAP50-95): 100%|██████████| 1/1 [00:00<00:00,  7.85it/s]"
     ]
    },
    {
     "name": "stdout",
     "output_type": "stream",
     "text": [
      "                   all         10         18      0.898          1      0.978      0.581      0.934      0.944      0.964      0.515\n"
     ]
    },
    {
     "name": "stderr",
     "output_type": "stream",
     "text": [
      "\n"
     ]
    },
    {
     "name": "stdout",
     "output_type": "stream",
     "text": [
      "\n",
      "      Epoch    GPU_mem   box_loss   seg_loss   cls_loss   dfl_loss  Instances       Size\n"
     ]
    },
    {
     "name": "stderr",
     "output_type": "stream",
     "text": [
      "     24/100      3.17G     0.6958      0.958     0.5619      1.068         58        640: 100%|██████████| 16/16 [00:03<00:00,  4.53it/s]\n",
      "                 Class     Images  Instances      Box(P          R      mAP50  mAP50-95)     Mask(P          R      mAP50  mAP50-95): 100%|██████████| 1/1 [00:00<00:00,  7.86it/s]"
     ]
    },
    {
     "name": "stdout",
     "output_type": "stream",
     "text": [
      "                   all         10         18      0.953      0.889       0.97      0.624      0.834      0.778      0.798      0.457\n"
     ]
    },
    {
     "name": "stderr",
     "output_type": "stream",
     "text": [
      "\n"
     ]
    },
    {
     "name": "stdout",
     "output_type": "stream",
     "text": [
      "\n",
      "      Epoch    GPU_mem   box_loss   seg_loss   cls_loss   dfl_loss  Instances       Size\n"
     ]
    },
    {
     "name": "stderr",
     "output_type": "stream",
     "text": [
      "     25/100      3.15G     0.6675     0.9177     0.5392      1.044         51        640: 100%|██████████| 16/16 [00:03<00:00,  4.21it/s]\n",
      "                 Class     Images  Instances      Box(P          R      mAP50  mAP50-95)     Mask(P          R      mAP50  mAP50-95): 100%|██████████| 1/1 [00:00<00:00,  7.76it/s]"
     ]
    },
    {
     "name": "stdout",
     "output_type": "stream",
     "text": [
      "                   all         10         18      0.943      0.926      0.963      0.719      0.943      0.926      0.972      0.535\n"
     ]
    },
    {
     "name": "stderr",
     "output_type": "stream",
     "text": [
      "\n"
     ]
    },
    {
     "name": "stdout",
     "output_type": "stream",
     "text": [
      "\n",
      "      Epoch    GPU_mem   box_loss   seg_loss   cls_loss   dfl_loss  Instances       Size\n"
     ]
    },
    {
     "name": "stderr",
     "output_type": "stream",
     "text": [
      "     26/100      3.15G     0.6846     0.8738     0.5202      1.036         53        640: 100%|██████████| 16/16 [00:03<00:00,  4.41it/s]\n",
      "                 Class     Images  Instances      Box(P          R      mAP50  mAP50-95)     Mask(P          R      mAP50  mAP50-95): 100%|██████████| 1/1 [00:00<00:00,  8.74it/s]"
     ]
    },
    {
     "name": "stdout",
     "output_type": "stream",
     "text": [
      "                   all         10         18      0.719      0.889      0.807      0.548      0.674      0.833      0.735      0.401\n"
     ]
    },
    {
     "name": "stderr",
     "output_type": "stream",
     "text": [
      "\n"
     ]
    },
    {
     "name": "stdout",
     "output_type": "stream",
     "text": [
      "\n",
      "      Epoch    GPU_mem   box_loss   seg_loss   cls_loss   dfl_loss  Instances       Size\n"
     ]
    },
    {
     "name": "stderr",
     "output_type": "stream",
     "text": [
      "     27/100      3.19G     0.6839     0.9183     0.5221      1.051         45        640: 100%|██████████| 16/16 [00:03<00:00,  4.57it/s]\n",
      "                 Class     Images  Instances      Box(P          R      mAP50  mAP50-95)     Mask(P          R      mAP50  mAP50-95): 100%|██████████| 1/1 [00:00<00:00,  8.28it/s]"
     ]
    },
    {
     "name": "stdout",
     "output_type": "stream",
     "text": [
      "                   all         10         18      0.724      0.778       0.83      0.573      0.665      0.722      0.744      0.358\n"
     ]
    },
    {
     "name": "stderr",
     "output_type": "stream",
     "text": [
      "\n"
     ]
    },
    {
     "name": "stdout",
     "output_type": "stream",
     "text": [
      "\n",
      "      Epoch    GPU_mem   box_loss   seg_loss   cls_loss   dfl_loss  Instances       Size\n"
     ]
    },
    {
     "name": "stderr",
     "output_type": "stream",
     "text": [
      "     28/100      3.17G     0.6926     0.9097     0.5509      1.037         47        640: 100%|██████████| 16/16 [00:03<00:00,  4.54it/s]\n",
      "                 Class     Images  Instances      Box(P          R      mAP50  mAP50-95)     Mask(P          R      mAP50  mAP50-95): 100%|██████████| 1/1 [00:00<00:00,  8.60it/s]"
     ]
    },
    {
     "name": "stdout",
     "output_type": "stream",
     "text": [
      "                   all         10         18        0.9      0.995      0.945       0.65      0.923      0.833      0.878      0.482\n"
     ]
    },
    {
     "name": "stderr",
     "output_type": "stream",
     "text": [
      "\n"
     ]
    },
    {
     "name": "stdout",
     "output_type": "stream",
     "text": [
      "\n",
      "      Epoch    GPU_mem   box_loss   seg_loss   cls_loss   dfl_loss  Instances       Size\n"
     ]
    },
    {
     "name": "stderr",
     "output_type": "stream",
     "text": [
      "     29/100      3.17G     0.6797     0.8495     0.5311       1.04         63        640: 100%|██████████| 16/16 [00:03<00:00,  4.66it/s]\n",
      "                 Class     Images  Instances      Box(P          R      mAP50  mAP50-95)     Mask(P          R      mAP50  mAP50-95): 100%|██████████| 1/1 [00:00<00:00,  8.32it/s]"
     ]
    },
    {
     "name": "stdout",
     "output_type": "stream",
     "text": [
      "                   all         10         18      0.851      0.889      0.825      0.609      0.911      0.944      0.915      0.517\n"
     ]
    },
    {
     "name": "stderr",
     "output_type": "stream",
     "text": [
      "\n"
     ]
    },
    {
     "name": "stdout",
     "output_type": "stream",
     "text": [
      "\n",
      "      Epoch    GPU_mem   box_loss   seg_loss   cls_loss   dfl_loss  Instances       Size\n"
     ]
    },
    {
     "name": "stderr",
     "output_type": "stream",
     "text": [
      "     30/100      3.17G     0.6581     0.8041     0.5118      1.049         51        640: 100%|██████████| 16/16 [00:03<00:00,  4.43it/s]\n",
      "                 Class     Images  Instances      Box(P          R      mAP50  mAP50-95)     Mask(P          R      mAP50  mAP50-95): 100%|██████████| 1/1 [00:00<00:00,  7.34it/s]"
     ]
    },
    {
     "name": "stdout",
     "output_type": "stream",
     "text": [
      "                   all         10         18      0.868      0.944      0.936      0.615      0.947      0.989      0.992      0.561\n"
     ]
    },
    {
     "name": "stderr",
     "output_type": "stream",
     "text": [
      "\n"
     ]
    },
    {
     "name": "stdout",
     "output_type": "stream",
     "text": [
      "\n",
      "      Epoch    GPU_mem   box_loss   seg_loss   cls_loss   dfl_loss  Instances       Size\n"
     ]
    },
    {
     "name": "stderr",
     "output_type": "stream",
     "text": [
      "     31/100      3.13G     0.6482     0.8062      0.537      1.021         47        640: 100%|██████████| 16/16 [00:03<00:00,  4.18it/s]\n",
      "                 Class     Images  Instances      Box(P          R      mAP50  mAP50-95)     Mask(P          R      mAP50  mAP50-95): 100%|██████████| 1/1 [00:00<00:00,  6.88it/s]"
     ]
    },
    {
     "name": "stdout",
     "output_type": "stream",
     "text": [
      "                   all         10         18      0.809      0.944      0.935      0.663      0.809      0.944      0.935      0.552\n"
     ]
    },
    {
     "name": "stderr",
     "output_type": "stream",
     "text": [
      "\n"
     ]
    },
    {
     "name": "stdout",
     "output_type": "stream",
     "text": [
      "\n",
      "      Epoch    GPU_mem   box_loss   seg_loss   cls_loss   dfl_loss  Instances       Size\n"
     ]
    },
    {
     "name": "stderr",
     "output_type": "stream",
     "text": [
      "     32/100      3.17G     0.6503      0.866       0.53      1.022         54        640: 100%|██████████| 16/16 [00:03<00:00,  4.27it/s]\n",
      "                 Class     Images  Instances      Box(P          R      mAP50  mAP50-95)     Mask(P          R      mAP50  mAP50-95): 100%|██████████| 1/1 [00:00<00:00,  7.63it/s]"
     ]
    },
    {
     "name": "stdout",
     "output_type": "stream",
     "text": [
      "                   all         10         18      0.946      0.983      0.983      0.739      0.943      0.921      0.989      0.613\n"
     ]
    },
    {
     "name": "stderr",
     "output_type": "stream",
     "text": [
      "\n"
     ]
    },
    {
     "name": "stdout",
     "output_type": "stream",
     "text": [
      "\n",
      "      Epoch    GPU_mem   box_loss   seg_loss   cls_loss   dfl_loss  Instances       Size\n"
     ]
    },
    {
     "name": "stderr",
     "output_type": "stream",
     "text": [
      "     33/100      3.16G     0.6432     0.8687     0.5133      1.028         54        640: 100%|██████████| 16/16 [00:03<00:00,  4.30it/s]\n",
      "                 Class     Images  Instances      Box(P          R      mAP50  mAP50-95)     Mask(P          R      mAP50  mAP50-95): 100%|██████████| 1/1 [00:00<00:00,  6.96it/s]"
     ]
    },
    {
     "name": "stdout",
     "output_type": "stream",
     "text": [
      "                   all         10         18      0.886      0.889      0.931      0.719      0.942      0.944      0.983      0.584\n"
     ]
    },
    {
     "name": "stderr",
     "output_type": "stream",
     "text": [
      "\n"
     ]
    },
    {
     "name": "stdout",
     "output_type": "stream",
     "text": [
      "\n",
      "      Epoch    GPU_mem   box_loss   seg_loss   cls_loss   dfl_loss  Instances       Size\n"
     ]
    },
    {
     "name": "stderr",
     "output_type": "stream",
     "text": [
      "     34/100      3.19G     0.5765     0.7533      0.465     0.9901         56        640: 100%|██████████| 16/16 [00:03<00:00,  4.44it/s]\n",
      "                 Class     Images  Instances      Box(P          R      mAP50  mAP50-95)     Mask(P          R      mAP50  mAP50-95): 100%|██████████| 1/1 [00:00<00:00,  7.77it/s]"
     ]
    },
    {
     "name": "stdout",
     "output_type": "stream",
     "text": [
      "                   all         10         18      0.839      0.944      0.919      0.655      0.845      0.944      0.932      0.602\n"
     ]
    },
    {
     "name": "stderr",
     "output_type": "stream",
     "text": [
      "\n"
     ]
    },
    {
     "name": "stdout",
     "output_type": "stream",
     "text": [
      "\n",
      "      Epoch    GPU_mem   box_loss   seg_loss   cls_loss   dfl_loss  Instances       Size\n"
     ]
    },
    {
     "name": "stderr",
     "output_type": "stream",
     "text": [
      "     35/100      3.19G     0.6175     0.8322     0.5143      1.031         53        640: 100%|██████████| 16/16 [00:03<00:00,  4.35it/s]\n",
      "                 Class     Images  Instances      Box(P          R      mAP50  mAP50-95)     Mask(P          R      mAP50  mAP50-95): 100%|██████████| 1/1 [00:00<00:00,  8.94it/s]"
     ]
    },
    {
     "name": "stdout",
     "output_type": "stream",
     "text": [
      "                   all         10         18      0.802      0.944      0.932      0.656       0.83      0.814      0.859      0.481\n"
     ]
    },
    {
     "name": "stderr",
     "output_type": "stream",
     "text": [
      "\n"
     ]
    },
    {
     "name": "stdout",
     "output_type": "stream",
     "text": [
      "\n",
      "      Epoch    GPU_mem   box_loss   seg_loss   cls_loss   dfl_loss  Instances       Size\n"
     ]
    },
    {
     "name": "stderr",
     "output_type": "stream",
     "text": [
      "     36/100      3.17G     0.5997     0.7917     0.4856     0.9975         54        640: 100%|██████████| 16/16 [00:03<00:00,  4.43it/s]\n",
      "                 Class     Images  Instances      Box(P          R      mAP50  mAP50-95)     Mask(P          R      mAP50  mAP50-95): 100%|██████████| 1/1 [00:00<00:00,  8.83it/s]"
     ]
    },
    {
     "name": "stdout",
     "output_type": "stream",
     "text": [
      "                   all         10         18      0.803      0.908      0.893      0.626      0.852      0.961      0.973      0.487\n"
     ]
    },
    {
     "name": "stderr",
     "output_type": "stream",
     "text": [
      "\n"
     ]
    },
    {
     "name": "stdout",
     "output_type": "stream",
     "text": [
      "\n",
      "      Epoch    GPU_mem   box_loss   seg_loss   cls_loss   dfl_loss  Instances       Size\n"
     ]
    },
    {
     "name": "stderr",
     "output_type": "stream",
     "text": [
      "     37/100      3.13G     0.6503     0.7841     0.5361      1.057         43        640: 100%|██████████| 16/16 [00:03<00:00,  4.57it/s]\n",
      "                 Class     Images  Instances      Box(P          R      mAP50  mAP50-95)     Mask(P          R      mAP50  mAP50-95): 100%|██████████| 1/1 [00:00<00:00,  7.38it/s]"
     ]
    },
    {
     "name": "stdout",
     "output_type": "stream",
     "text": [
      "                   all         10         18      0.944          1      0.963       0.71      0.944          1      0.978      0.537\n"
     ]
    },
    {
     "name": "stderr",
     "output_type": "stream",
     "text": [
      "\n"
     ]
    },
    {
     "name": "stdout",
     "output_type": "stream",
     "text": [
      "\n",
      "      Epoch    GPU_mem   box_loss   seg_loss   cls_loss   dfl_loss  Instances       Size\n"
     ]
    },
    {
     "name": "stderr",
     "output_type": "stream",
     "text": [
      "     38/100      3.19G     0.6183     0.7224     0.5055      1.022         51        640: 100%|██████████| 16/16 [00:03<00:00,  4.60it/s]\n",
      "                 Class     Images  Instances      Box(P          R      mAP50  mAP50-95)     Mask(P          R      mAP50  mAP50-95): 100%|██████████| 1/1 [00:00<00:00,  8.29it/s]"
     ]
    },
    {
     "name": "stdout",
     "output_type": "stream",
     "text": [
      "                   all         10         18      0.818          1      0.956      0.751      0.818          1      0.969      0.597\n"
     ]
    },
    {
     "name": "stderr",
     "output_type": "stream",
     "text": [
      "\n"
     ]
    },
    {
     "name": "stdout",
     "output_type": "stream",
     "text": [
      "\n",
      "      Epoch    GPU_mem   box_loss   seg_loss   cls_loss   dfl_loss  Instances       Size\n"
     ]
    },
    {
     "name": "stderr",
     "output_type": "stream",
     "text": [
      "     39/100      3.15G     0.6273     0.8187     0.4983      1.025         48        640: 100%|██████████| 16/16 [00:03<00:00,  4.46it/s]\n",
      "                 Class     Images  Instances      Box(P          R      mAP50  mAP50-95)     Mask(P          R      mAP50  mAP50-95): 100%|██████████| 1/1 [00:00<00:00,  8.97it/s]"
     ]
    },
    {
     "name": "stdout",
     "output_type": "stream",
     "text": [
      "                   all         10         18      0.887      0.875      0.895      0.667      0.913      0.889      0.912      0.547\n"
     ]
    },
    {
     "name": "stderr",
     "output_type": "stream",
     "text": [
      "\n"
     ]
    },
    {
     "name": "stdout",
     "output_type": "stream",
     "text": [
      "\n",
      "      Epoch    GPU_mem   box_loss   seg_loss   cls_loss   dfl_loss  Instances       Size\n"
     ]
    },
    {
     "name": "stderr",
     "output_type": "stream",
     "text": [
      "     40/100      3.17G     0.6012     0.7663     0.4839     0.9991         56        640: 100%|██████████| 16/16 [00:03<00:00,  4.51it/s]\n",
      "                 Class     Images  Instances      Box(P          R      mAP50  mAP50-95)     Mask(P          R      mAP50  mAP50-95): 100%|██████████| 1/1 [00:00<00:00,  7.34it/s]"
     ]
    },
    {
     "name": "stdout",
     "output_type": "stream",
     "text": [
      "                   all         10         18          1      0.936      0.988      0.756      0.986      0.889      0.961      0.614\n"
     ]
    },
    {
     "name": "stderr",
     "output_type": "stream",
     "text": [
      "\n"
     ]
    },
    {
     "name": "stdout",
     "output_type": "stream",
     "text": [
      "\n",
      "      Epoch    GPU_mem   box_loss   seg_loss   cls_loss   dfl_loss  Instances       Size\n"
     ]
    },
    {
     "name": "stderr",
     "output_type": "stream",
     "text": [
      "     41/100      3.12G     0.6061     0.7634     0.4841      1.024         54        640: 100%|██████████| 16/16 [00:03<00:00,  4.45it/s]\n",
      "                 Class     Images  Instances      Box(P          R      mAP50  mAP50-95)     Mask(P          R      mAP50  mAP50-95): 100%|██████████| 1/1 [00:00<00:00,  8.78it/s]"
     ]
    },
    {
     "name": "stdout",
     "output_type": "stream",
     "text": [
      "                   all         10         18      0.825      0.889      0.869      0.575      0.773      0.833      0.845      0.522\n"
     ]
    },
    {
     "name": "stderr",
     "output_type": "stream",
     "text": [
      "\n"
     ]
    },
    {
     "name": "stdout",
     "output_type": "stream",
     "text": [
      "\n",
      "      Epoch    GPU_mem   box_loss   seg_loss   cls_loss   dfl_loss  Instances       Size\n"
     ]
    },
    {
     "name": "stderr",
     "output_type": "stream",
     "text": [
      "     42/100       3.2G     0.5865     0.7276     0.4668     0.9986         56        640: 100%|██████████| 16/16 [00:03<00:00,  4.62it/s]\n",
      "                 Class     Images  Instances      Box(P          R      mAP50  mAP50-95)     Mask(P          R      mAP50  mAP50-95): 100%|██████████| 1/1 [00:00<00:00,  8.37it/s]"
     ]
    },
    {
     "name": "stdout",
     "output_type": "stream",
     "text": [
      "                   all         10         18      0.738       0.94      0.832      0.603      0.815      0.778       0.83      0.489\n"
     ]
    },
    {
     "name": "stderr",
     "output_type": "stream",
     "text": [
      "\n"
     ]
    },
    {
     "name": "stdout",
     "output_type": "stream",
     "text": [
      "\n",
      "      Epoch    GPU_mem   box_loss   seg_loss   cls_loss   dfl_loss  Instances       Size\n"
     ]
    },
    {
     "name": "stderr",
     "output_type": "stream",
     "text": [
      "     43/100      3.17G     0.6091     0.7818     0.4826      1.013         51        640: 100%|██████████| 16/16 [00:03<00:00,  4.61it/s]\n",
      "                 Class     Images  Instances      Box(P          R      mAP50  mAP50-95)     Mask(P          R      mAP50  mAP50-95): 100%|██████████| 1/1 [00:00<00:00,  7.67it/s]"
     ]
    },
    {
     "name": "stdout",
     "output_type": "stream",
     "text": [
      "                   all         10         18       0.85      0.942      0.906      0.662      0.767      0.944      0.858      0.529\n"
     ]
    },
    {
     "name": "stderr",
     "output_type": "stream",
     "text": [
      "\n"
     ]
    },
    {
     "name": "stdout",
     "output_type": "stream",
     "text": [
      "\n",
      "      Epoch    GPU_mem   box_loss   seg_loss   cls_loss   dfl_loss  Instances       Size\n"
     ]
    },
    {
     "name": "stderr",
     "output_type": "stream",
     "text": [
      "     44/100      3.15G     0.5546     0.7253     0.4607     0.9816         70        640: 100%|██████████| 16/16 [00:03<00:00,  4.43it/s]\n",
      "                 Class     Images  Instances      Box(P          R      mAP50  mAP50-95)     Mask(P          R      mAP50  mAP50-95): 100%|██████████| 1/1 [00:00<00:00,  7.56it/s]"
     ]
    },
    {
     "name": "stdout",
     "output_type": "stream",
     "text": [
      "                   all         10         18      0.938          1      0.992      0.817      0.938          1      0.992      0.618\n"
     ]
    },
    {
     "name": "stderr",
     "output_type": "stream",
     "text": [
      "\n"
     ]
    },
    {
     "name": "stdout",
     "output_type": "stream",
     "text": [
      "\n",
      "      Epoch    GPU_mem   box_loss   seg_loss   cls_loss   dfl_loss  Instances       Size\n"
     ]
    },
    {
     "name": "stderr",
     "output_type": "stream",
     "text": [
      "     45/100      3.17G     0.5543     0.7126      0.459     0.9917         53        640: 100%|██████████| 16/16 [00:03<00:00,  4.27it/s]\n",
      "                 Class     Images  Instances      Box(P          R      mAP50  mAP50-95)     Mask(P          R      mAP50  mAP50-95): 100%|██████████| 1/1 [00:00<00:00,  8.37it/s]"
     ]
    },
    {
     "name": "stdout",
     "output_type": "stream",
     "text": [
      "                   all         10         18      0.814      0.944      0.891      0.678      0.867          1      0.978      0.563\n"
     ]
    },
    {
     "name": "stderr",
     "output_type": "stream",
     "text": [
      "\n"
     ]
    },
    {
     "name": "stdout",
     "output_type": "stream",
     "text": [
      "\n",
      "      Epoch    GPU_mem   box_loss   seg_loss   cls_loss   dfl_loss  Instances       Size\n"
     ]
    },
    {
     "name": "stderr",
     "output_type": "stream",
     "text": [
      "     46/100      3.19G     0.5853      0.745     0.4681      1.016         44        640: 100%|██████████| 16/16 [00:03<00:00,  4.62it/s]\n",
      "                 Class     Images  Instances      Box(P          R      mAP50  mAP50-95)     Mask(P          R      mAP50  mAP50-95): 100%|██████████| 1/1 [00:00<00:00,  9.05it/s]"
     ]
    },
    {
     "name": "stdout",
     "output_type": "stream",
     "text": [
      "                   all         10         18      0.806          1      0.897      0.698      0.894          1      0.968      0.581\n"
     ]
    },
    {
     "name": "stderr",
     "output_type": "stream",
     "text": [
      "\n"
     ]
    },
    {
     "name": "stdout",
     "output_type": "stream",
     "text": [
      "\n",
      "      Epoch    GPU_mem   box_loss   seg_loss   cls_loss   dfl_loss  Instances       Size\n"
     ]
    },
    {
     "name": "stderr",
     "output_type": "stream",
     "text": [
      "     47/100      3.12G     0.5735     0.7403     0.4709      1.008         57        640: 100%|██████████| 16/16 [00:03<00:00,  4.62it/s]\n",
      "                 Class     Images  Instances      Box(P          R      mAP50  mAP50-95)     Mask(P          R      mAP50  mAP50-95): 100%|██████████| 1/1 [00:00<00:00,  9.40it/s]"
     ]
    },
    {
     "name": "stdout",
     "output_type": "stream",
     "text": [
      "                   all         10         18       0.81          1      0.922      0.721      0.935      0.944      0.978       0.56\n"
     ]
    },
    {
     "name": "stderr",
     "output_type": "stream",
     "text": [
      "\n"
     ]
    },
    {
     "name": "stdout",
     "output_type": "stream",
     "text": [
      "\n",
      "      Epoch    GPU_mem   box_loss   seg_loss   cls_loss   dfl_loss  Instances       Size\n"
     ]
    },
    {
     "name": "stderr",
     "output_type": "stream",
     "text": [
      "     48/100      3.19G     0.5726     0.7476     0.4693     0.9955         58        640: 100%|██████████| 16/16 [00:03<00:00,  4.69it/s]\n",
      "                 Class     Images  Instances      Box(P          R      mAP50  mAP50-95)     Mask(P          R      mAP50  mAP50-95): 100%|██████████| 1/1 [00:00<00:00,  8.95it/s]"
     ]
    },
    {
     "name": "stdout",
     "output_type": "stream",
     "text": [
      "                   all         10         18      0.746      0.944      0.939      0.731      0.768      0.889      0.926       0.58\n"
     ]
    },
    {
     "name": "stderr",
     "output_type": "stream",
     "text": [
      "\n"
     ]
    },
    {
     "name": "stdout",
     "output_type": "stream",
     "text": [
      "\n",
      "      Epoch    GPU_mem   box_loss   seg_loss   cls_loss   dfl_loss  Instances       Size\n"
     ]
    },
    {
     "name": "stderr",
     "output_type": "stream",
     "text": [
      "     49/100      3.15G     0.5739     0.7019      0.463      1.016         52        640: 100%|██████████| 16/16 [00:03<00:00,  4.31it/s]\n",
      "                 Class     Images  Instances      Box(P          R      mAP50  mAP50-95)     Mask(P          R      mAP50  mAP50-95): 100%|██████████| 1/1 [00:00<00:00,  8.15it/s]"
     ]
    },
    {
     "name": "stdout",
     "output_type": "stream",
     "text": [
      "                   all         10         18      0.846      0.889      0.938      0.653      0.836      0.889      0.932      0.538\n"
     ]
    },
    {
     "name": "stderr",
     "output_type": "stream",
     "text": [
      "\n"
     ]
    },
    {
     "name": "stdout",
     "output_type": "stream",
     "text": [
      "\n",
      "      Epoch    GPU_mem   box_loss   seg_loss   cls_loss   dfl_loss  Instances       Size\n"
     ]
    },
    {
     "name": "stderr",
     "output_type": "stream",
     "text": [
      "     50/100      3.16G     0.5677     0.6707     0.4616     0.9884         49        640: 100%|██████████| 16/16 [00:03<00:00,  4.49it/s]\n",
      "                 Class     Images  Instances      Box(P          R      mAP50  mAP50-95)     Mask(P          R      mAP50  mAP50-95): 100%|██████████| 1/1 [00:00<00:00,  8.39it/s]"
     ]
    },
    {
     "name": "stdout",
     "output_type": "stream",
     "text": [
      "                   all         10         18      0.893      0.928      0.882      0.646      0.926      0.944      0.934      0.563\n"
     ]
    },
    {
     "name": "stderr",
     "output_type": "stream",
     "text": [
      "\n"
     ]
    },
    {
     "name": "stdout",
     "output_type": "stream",
     "text": [
      "\n",
      "      Epoch    GPU_mem   box_loss   seg_loss   cls_loss   dfl_loss  Instances       Size\n"
     ]
    },
    {
     "name": "stderr",
     "output_type": "stream",
     "text": [
      "     51/100      3.15G     0.5406     0.6743     0.4281     0.9746         55        640: 100%|██████████| 16/16 [00:03<00:00,  4.66it/s]\n",
      "                 Class     Images  Instances      Box(P          R      mAP50  mAP50-95)     Mask(P          R      mAP50  mAP50-95): 100%|██████████| 1/1 [00:00<00:00,  8.90it/s]"
     ]
    },
    {
     "name": "stdout",
     "output_type": "stream",
     "text": [
      "                   all         10         18      0.803      0.944      0.901        0.6      0.971      0.833      0.903      0.519\n"
     ]
    },
    {
     "name": "stderr",
     "output_type": "stream",
     "text": [
      "\n"
     ]
    },
    {
     "name": "stdout",
     "output_type": "stream",
     "text": [
      "\n",
      "      Epoch    GPU_mem   box_loss   seg_loss   cls_loss   dfl_loss  Instances       Size\n"
     ]
    },
    {
     "name": "stderr",
     "output_type": "stream",
     "text": [
      "     52/100      3.16G     0.5914     0.6943     0.4731      1.022         35        640: 100%|██████████| 16/16 [00:03<00:00,  4.67it/s]\n",
      "                 Class     Images  Instances      Box(P          R      mAP50  mAP50-95)     Mask(P          R      mAP50  mAP50-95): 100%|██████████| 1/1 [00:00<00:00,  8.79it/s]"
     ]
    },
    {
     "name": "stdout",
     "output_type": "stream",
     "text": [
      "                   all         10         18      0.891      0.944       0.95      0.644      0.824      0.889      0.917      0.583\n"
     ]
    },
    {
     "name": "stderr",
     "output_type": "stream",
     "text": [
      "\n"
     ]
    },
    {
     "name": "stdout",
     "output_type": "stream",
     "text": [
      "\n",
      "      Epoch    GPU_mem   box_loss   seg_loss   cls_loss   dfl_loss  Instances       Size\n"
     ]
    },
    {
     "name": "stderr",
     "output_type": "stream",
     "text": [
      "     53/100      3.15G     0.5477     0.6571     0.4308     0.9912         51        640: 100%|██████████| 16/16 [00:03<00:00,  4.72it/s]\n",
      "                 Class     Images  Instances      Box(P          R      mAP50  mAP50-95)     Mask(P          R      mAP50  mAP50-95): 100%|██████████| 1/1 [00:00<00:00,  8.19it/s]"
     ]
    },
    {
     "name": "stdout",
     "output_type": "stream",
     "text": [
      "                   all         10         18      0.944      0.944      0.951      0.711      0.985      0.889      0.976      0.643\n"
     ]
    },
    {
     "name": "stderr",
     "output_type": "stream",
     "text": [
      "\n"
     ]
    },
    {
     "name": "stdout",
     "output_type": "stream",
     "text": [
      "\n",
      "      Epoch    GPU_mem   box_loss   seg_loss   cls_loss   dfl_loss  Instances       Size\n"
     ]
    },
    {
     "name": "stderr",
     "output_type": "stream",
     "text": [
      "     54/100      3.17G     0.5199     0.6689     0.4203     0.9752         42        640: 100%|██████████| 16/16 [00:03<00:00,  4.70it/s]\n",
      "                 Class     Images  Instances      Box(P          R      mAP50  mAP50-95)     Mask(P          R      mAP50  mAP50-95): 100%|██████████| 1/1 [00:00<00:00,  8.43it/s]"
     ]
    },
    {
     "name": "stdout",
     "output_type": "stream",
     "text": [
      "                   all         10         18      0.943      0.926      0.954      0.727          1      0.982      0.995      0.633\n"
     ]
    },
    {
     "name": "stderr",
     "output_type": "stream",
     "text": [
      "\n"
     ]
    },
    {
     "name": "stdout",
     "output_type": "stream",
     "text": [
      "\n",
      "      Epoch    GPU_mem   box_loss   seg_loss   cls_loss   dfl_loss  Instances       Size\n"
     ]
    },
    {
     "name": "stderr",
     "output_type": "stream",
     "text": [
      "     55/100      3.17G     0.5403     0.6537     0.4376     0.9865         42        640: 100%|██████████| 16/16 [00:03<00:00,  4.67it/s]\n",
      "                 Class     Images  Instances      Box(P          R      mAP50  mAP50-95)     Mask(P          R      mAP50  mAP50-95): 100%|██████████| 1/1 [00:00<00:00,  9.36it/s]"
     ]
    },
    {
     "name": "stdout",
     "output_type": "stream",
     "text": [
      "                   all         10         18      0.899          1      0.978      0.757      0.973          1      0.995      0.696\n"
     ]
    },
    {
     "name": "stderr",
     "output_type": "stream",
     "text": [
      "\n"
     ]
    },
    {
     "name": "stdout",
     "output_type": "stream",
     "text": [
      "\n",
      "      Epoch    GPU_mem   box_loss   seg_loss   cls_loss   dfl_loss  Instances       Size\n"
     ]
    },
    {
     "name": "stderr",
     "output_type": "stream",
     "text": [
      "     56/100      3.15G     0.5509     0.6879     0.4441     0.9932         59        640: 100%|██████████| 16/16 [00:03<00:00,  4.40it/s]\n",
      "                 Class     Images  Instances      Box(P          R      mAP50  mAP50-95)     Mask(P          R      mAP50  mAP50-95): 100%|██████████| 1/1 [00:00<00:00,  7.69it/s]"
     ]
    },
    {
     "name": "stdout",
     "output_type": "stream",
     "text": [
      "                   all         10         18      0.947      0.999      0.954      0.748      0.947      0.999      0.981      0.664\n"
     ]
    },
    {
     "name": "stderr",
     "output_type": "stream",
     "text": [
      "\n"
     ]
    },
    {
     "name": "stdout",
     "output_type": "stream",
     "text": [
      "\n",
      "      Epoch    GPU_mem   box_loss   seg_loss   cls_loss   dfl_loss  Instances       Size\n"
     ]
    },
    {
     "name": "stderr",
     "output_type": "stream",
     "text": [
      "     57/100      3.17G     0.5219     0.6395     0.4237     0.9859         45        640: 100%|██████████| 16/16 [00:03<00:00,  4.19it/s]\n",
      "                 Class     Images  Instances      Box(P          R      mAP50  mAP50-95)     Mask(P          R      mAP50  mAP50-95): 100%|██████████| 1/1 [00:00<00:00,  7.59it/s]"
     ]
    },
    {
     "name": "stdout",
     "output_type": "stream",
     "text": [
      "                   all         10         18      0.892      0.919      0.917      0.723      0.946      0.974      0.989      0.644\n"
     ]
    },
    {
     "name": "stderr",
     "output_type": "stream",
     "text": [
      "\n"
     ]
    },
    {
     "name": "stdout",
     "output_type": "stream",
     "text": [
      "\n",
      "      Epoch    GPU_mem   box_loss   seg_loss   cls_loss   dfl_loss  Instances       Size\n"
     ]
    },
    {
     "name": "stderr",
     "output_type": "stream",
     "text": [
      "     58/100      3.13G     0.5278      0.669     0.4302     0.9806         60        640: 100%|██████████| 16/16 [00:03<00:00,  4.31it/s]\n",
      "                 Class     Images  Instances      Box(P          R      mAP50  mAP50-95)     Mask(P          R      mAP50  mAP50-95): 100%|██████████| 1/1 [00:00<00:00,  9.17it/s]"
     ]
    },
    {
     "name": "stdout",
     "output_type": "stream",
     "text": [
      "                   all         10         18      0.947      0.984      0.983      0.794      0.971          1      0.995      0.716\n"
     ]
    },
    {
     "name": "stderr",
     "output_type": "stream",
     "text": [
      "\n"
     ]
    },
    {
     "name": "stdout",
     "output_type": "stream",
     "text": [
      "\n",
      "      Epoch    GPU_mem   box_loss   seg_loss   cls_loss   dfl_loss  Instances       Size\n"
     ]
    },
    {
     "name": "stderr",
     "output_type": "stream",
     "text": [
      "     59/100      3.15G     0.4879     0.6269     0.4048     0.9659         57        640: 100%|██████████| 16/16 [00:03<00:00,  4.35it/s]\n",
      "                 Class     Images  Instances      Box(P          R      mAP50  mAP50-95)     Mask(P          R      mAP50  mAP50-95): 100%|██████████| 1/1 [00:00<00:00,  8.72it/s]"
     ]
    },
    {
     "name": "stdout",
     "output_type": "stream",
     "text": [
      "                   all         10         18       0.94          1      0.995      0.805      0.931          1      0.989      0.703\n"
     ]
    },
    {
     "name": "stderr",
     "output_type": "stream",
     "text": [
      "\n"
     ]
    },
    {
     "name": "stdout",
     "output_type": "stream",
     "text": [
      "\n",
      "      Epoch    GPU_mem   box_loss   seg_loss   cls_loss   dfl_loss  Instances       Size\n"
     ]
    },
    {
     "name": "stderr",
     "output_type": "stream",
     "text": [
      "     60/100      3.19G     0.4928     0.6178     0.3952     0.9643         45        640: 100%|██████████| 16/16 [00:03<00:00,  4.27it/s]\n",
      "                 Class     Images  Instances      Box(P          R      mAP50  mAP50-95)     Mask(P          R      mAP50  mAP50-95): 100%|██████████| 1/1 [00:00<00:00,  8.50it/s]"
     ]
    },
    {
     "name": "stdout",
     "output_type": "stream",
     "text": [
      "                   all         10         18      0.884      0.944      0.957      0.714      0.936          1      0.992      0.661\n"
     ]
    },
    {
     "name": "stderr",
     "output_type": "stream",
     "text": [
      "\n"
     ]
    },
    {
     "name": "stdout",
     "output_type": "stream",
     "text": [
      "\n",
      "      Epoch    GPU_mem   box_loss   seg_loss   cls_loss   dfl_loss  Instances       Size\n"
     ]
    },
    {
     "name": "stderr",
     "output_type": "stream",
     "text": [
      "     61/100      3.15G     0.5159     0.6537     0.4257     0.9898         44        640: 100%|██████████| 16/16 [00:03<00:00,  4.26it/s]\n",
      "                 Class     Images  Instances      Box(P          R      mAP50  mAP50-95)     Mask(P          R      mAP50  mAP50-95): 100%|██████████| 1/1 [00:00<00:00,  8.04it/s]"
     ]
    },
    {
     "name": "stdout",
     "output_type": "stream",
     "text": [
      "                   all         10         18      0.883      0.944      0.914      0.685      0.883      0.944      0.945      0.574\n"
     ]
    },
    {
     "name": "stderr",
     "output_type": "stream",
     "text": [
      "\n"
     ]
    },
    {
     "name": "stdout",
     "output_type": "stream",
     "text": [
      "\n",
      "      Epoch    GPU_mem   box_loss   seg_loss   cls_loss   dfl_loss  Instances       Size\n"
     ]
    },
    {
     "name": "stderr",
     "output_type": "stream",
     "text": [
      "     62/100      3.17G     0.5245     0.6119     0.4189     0.9893         49        640: 100%|██████████| 16/16 [00:03<00:00,  4.47it/s]\n",
      "                 Class     Images  Instances      Box(P          R      mAP50  mAP50-95)     Mask(P          R      mAP50  mAP50-95): 100%|██████████| 1/1 [00:00<00:00,  6.08it/s]"
     ]
    },
    {
     "name": "stdout",
     "output_type": "stream",
     "text": [
      "                   all         10         18      0.898      0.889       0.92      0.711      0.898      0.889      0.944       0.55\n"
     ]
    },
    {
     "name": "stderr",
     "output_type": "stream",
     "text": [
      "\n"
     ]
    },
    {
     "name": "stdout",
     "output_type": "stream",
     "text": [
      "\n",
      "      Epoch    GPU_mem   box_loss   seg_loss   cls_loss   dfl_loss  Instances       Size\n"
     ]
    },
    {
     "name": "stderr",
     "output_type": "stream",
     "text": [
      "     63/100      3.17G     0.4842     0.6711     0.4028     0.9621         58        640: 100%|██████████| 16/16 [00:04<00:00,  3.86it/s]\n",
      "                 Class     Images  Instances      Box(P          R      mAP50  mAP50-95)     Mask(P          R      mAP50  mAP50-95): 100%|██████████| 1/1 [00:00<00:00,  7.44it/s]"
     ]
    },
    {
     "name": "stdout",
     "output_type": "stream",
     "text": [
      "                   all         10         18      0.889      0.944      0.939      0.702      0.943          1      0.992      0.574\n"
     ]
    },
    {
     "name": "stderr",
     "output_type": "stream",
     "text": [
      "\n"
     ]
    },
    {
     "name": "stdout",
     "output_type": "stream",
     "text": [
      "\n",
      "      Epoch    GPU_mem   box_loss   seg_loss   cls_loss   dfl_loss  Instances       Size\n"
     ]
    },
    {
     "name": "stderr",
     "output_type": "stream",
     "text": [
      "     64/100      3.19G     0.5028     0.6202     0.4026     0.9754         50        640: 100%|██████████| 16/16 [00:04<00:00,  3.72it/s]\n",
      "                 Class     Images  Instances      Box(P          R      mAP50  mAP50-95)     Mask(P          R      mAP50  mAP50-95): 100%|██████████| 1/1 [00:00<00:00,  4.69it/s]"
     ]
    },
    {
     "name": "stdout",
     "output_type": "stream",
     "text": [
      "                   all         10         18      0.928      0.944      0.957      0.726      0.928      0.944       0.97       0.61\n"
     ]
    },
    {
     "name": "stderr",
     "output_type": "stream",
     "text": [
      "\n"
     ]
    },
    {
     "name": "stdout",
     "output_type": "stream",
     "text": [
      "\n",
      "      Epoch    GPU_mem   box_loss   seg_loss   cls_loss   dfl_loss  Instances       Size\n"
     ]
    },
    {
     "name": "stderr",
     "output_type": "stream",
     "text": [
      "     65/100      3.19G     0.5084      0.641     0.4119     0.9684         52        640: 100%|██████████| 16/16 [00:03<00:00,  4.47it/s]\n",
      "                 Class     Images  Instances      Box(P          R      mAP50  mAP50-95)     Mask(P          R      mAP50  mAP50-95): 100%|██████████| 1/1 [00:00<00:00,  8.37it/s]"
     ]
    },
    {
     "name": "stdout",
     "output_type": "stream",
     "text": [
      "                   all         10         18      0.893          1      0.951      0.746      0.893          1      0.987      0.627\n"
     ]
    },
    {
     "name": "stderr",
     "output_type": "stream",
     "text": [
      "\n"
     ]
    },
    {
     "name": "stdout",
     "output_type": "stream",
     "text": [
      "\n",
      "      Epoch    GPU_mem   box_loss   seg_loss   cls_loss   dfl_loss  Instances       Size\n"
     ]
    },
    {
     "name": "stderr",
     "output_type": "stream",
     "text": [
      "     66/100      3.17G     0.4989     0.6022     0.3962     0.9561         50        640: 100%|██████████| 16/16 [00:03<00:00,  4.60it/s]\n",
      "                 Class     Images  Instances      Box(P          R      mAP50  mAP50-95)     Mask(P          R      mAP50  mAP50-95): 100%|██████████| 1/1 [00:00<00:00,  8.47it/s]"
     ]
    },
    {
     "name": "stdout",
     "output_type": "stream",
     "text": [
      "                   all         10         18      0.893          1      0.947      0.765      0.893          1      0.965       0.66\n"
     ]
    },
    {
     "name": "stderr",
     "output_type": "stream",
     "text": [
      "\n"
     ]
    },
    {
     "name": "stdout",
     "output_type": "stream",
     "text": [
      "\n",
      "      Epoch    GPU_mem   box_loss   seg_loss   cls_loss   dfl_loss  Instances       Size\n"
     ]
    },
    {
     "name": "stderr",
     "output_type": "stream",
     "text": [
      "     67/100      3.13G     0.5318     0.6295     0.4198     0.9966         41        640: 100%|██████████| 16/16 [00:03<00:00,  4.57it/s]\n",
      "                 Class     Images  Instances      Box(P          R      mAP50  mAP50-95)     Mask(P          R      mAP50  mAP50-95): 100%|██████████| 1/1 [00:00<00:00,  8.51it/s]"
     ]
    },
    {
     "name": "stdout",
     "output_type": "stream",
     "text": [
      "                   all         10         18      0.899      0.987      0.938      0.729          1      0.986      0.995       0.63\n"
     ]
    },
    {
     "name": "stderr",
     "output_type": "stream",
     "text": [
      "\n"
     ]
    },
    {
     "name": "stdout",
     "output_type": "stream",
     "text": [
      "\n",
      "      Epoch    GPU_mem   box_loss   seg_loss   cls_loss   dfl_loss  Instances       Size\n"
     ]
    },
    {
     "name": "stderr",
     "output_type": "stream",
     "text": [
      "     68/100      3.15G     0.5071     0.6056     0.4029     0.9731         48        640: 100%|██████████| 16/16 [00:03<00:00,  4.18it/s]\n",
      "                 Class     Images  Instances      Box(P          R      mAP50  mAP50-95)     Mask(P          R      mAP50  mAP50-95): 100%|██████████| 1/1 [00:00<00:00,  8.58it/s]"
     ]
    },
    {
     "name": "stdout",
     "output_type": "stream",
     "text": [
      "                   all         10         18      0.943          1      0.946      0.784      0.943          1      0.954       0.64\n"
     ]
    },
    {
     "name": "stderr",
     "output_type": "stream",
     "text": [
      "\n"
     ]
    },
    {
     "name": "stdout",
     "output_type": "stream",
     "text": [
      "\n",
      "      Epoch    GPU_mem   box_loss   seg_loss   cls_loss   dfl_loss  Instances       Size\n"
     ]
    },
    {
     "name": "stderr",
     "output_type": "stream",
     "text": [
      "     69/100      3.14G     0.5001     0.6071     0.4048     0.9831         52        640: 100%|██████████| 16/16 [00:03<00:00,  4.56it/s]\n",
      "                 Class     Images  Instances      Box(P          R      mAP50  mAP50-95)     Mask(P          R      mAP50  mAP50-95): 100%|██████████| 1/1 [00:00<00:00,  7.93it/s]"
     ]
    },
    {
     "name": "stdout",
     "output_type": "stream",
     "text": [
      "                   all         10         18      0.998          1      0.995      0.849      0.998          1      0.995      0.716\n"
     ]
    },
    {
     "name": "stderr",
     "output_type": "stream",
     "text": [
      "\n"
     ]
    },
    {
     "name": "stdout",
     "output_type": "stream",
     "text": [
      "\n",
      "      Epoch    GPU_mem   box_loss   seg_loss   cls_loss   dfl_loss  Instances       Size\n"
     ]
    },
    {
     "name": "stderr",
     "output_type": "stream",
     "text": [
      "     70/100      3.17G     0.4724     0.6065      0.385     0.9577         49        640: 100%|██████████| 16/16 [00:03<00:00,  4.57it/s]\n",
      "                 Class     Images  Instances      Box(P          R      mAP50  mAP50-95)     Mask(P          R      mAP50  mAP50-95): 100%|██████████| 1/1 [00:00<00:00,  8.87it/s]"
     ]
    },
    {
     "name": "stdout",
     "output_type": "stream",
     "text": [
      "                   all         10         18      0.906          1      0.987      0.799      0.906          1      0.987      0.685\n"
     ]
    },
    {
     "name": "stderr",
     "output_type": "stream",
     "text": [
      "\n"
     ]
    },
    {
     "name": "stdout",
     "output_type": "stream",
     "text": [
      "\n",
      "      Epoch    GPU_mem   box_loss   seg_loss   cls_loss   dfl_loss  Instances       Size\n"
     ]
    },
    {
     "name": "stderr",
     "output_type": "stream",
     "text": [
      "     71/100      3.19G     0.4791     0.6023      0.395     0.9678         44        640: 100%|██████████| 16/16 [00:03<00:00,  4.54it/s]\n",
      "                 Class     Images  Instances      Box(P          R      mAP50  mAP50-95)     Mask(P          R      mAP50  mAP50-95): 100%|██████████| 1/1 [00:00<00:00,  8.95it/s]"
     ]
    },
    {
     "name": "stdout",
     "output_type": "stream",
     "text": [
      "                   all         10         18      0.938          1      0.983       0.79      0.938          1      0.978      0.667\n"
     ]
    },
    {
     "name": "stderr",
     "output_type": "stream",
     "text": [
      "\n"
     ]
    },
    {
     "name": "stdout",
     "output_type": "stream",
     "text": [
      "\n",
      "      Epoch    GPU_mem   box_loss   seg_loss   cls_loss   dfl_loss  Instances       Size\n"
     ]
    },
    {
     "name": "stderr",
     "output_type": "stream",
     "text": [
      "     72/100       3.1G     0.4659     0.6202     0.3798     0.9645         57        640: 100%|██████████| 16/16 [00:03<00:00,  4.51it/s]\n",
      "                 Class     Images  Instances      Box(P          R      mAP50  mAP50-95)     Mask(P          R      mAP50  mAP50-95): 100%|██████████| 1/1 [00:00<00:00,  8.79it/s]"
     ]
    },
    {
     "name": "stdout",
     "output_type": "stream",
     "text": [
      "                   all         10         18      0.945          1      0.995      0.855      0.945          1      0.995      0.717\n"
     ]
    },
    {
     "name": "stderr",
     "output_type": "stream",
     "text": [
      "\n"
     ]
    },
    {
     "name": "stdout",
     "output_type": "stream",
     "text": [
      "\n",
      "      Epoch    GPU_mem   box_loss   seg_loss   cls_loss   dfl_loss  Instances       Size\n"
     ]
    },
    {
     "name": "stderr",
     "output_type": "stream",
     "text": [
      "     73/100      3.17G     0.4735      0.589     0.3766     0.9552         59        640: 100%|██████████| 16/16 [00:03<00:00,  4.56it/s]\n",
      "                 Class     Images  Instances      Box(P          R      mAP50  mAP50-95)     Mask(P          R      mAP50  mAP50-95): 100%|██████████| 1/1 [00:00<00:00,  6.49it/s]"
     ]
    },
    {
     "name": "stdout",
     "output_type": "stream",
     "text": [
      "                   all         10         18      0.942          1      0.992      0.857      0.942          1      0.992      0.722\n"
     ]
    },
    {
     "name": "stderr",
     "output_type": "stream",
     "text": [
      "\n"
     ]
    },
    {
     "name": "stdout",
     "output_type": "stream",
     "text": [
      "\n",
      "      Epoch    GPU_mem   box_loss   seg_loss   cls_loss   dfl_loss  Instances       Size\n"
     ]
    },
    {
     "name": "stderr",
     "output_type": "stream",
     "text": [
      "     74/100      3.15G      0.469     0.5945     0.3824     0.9568         58        640: 100%|██████████| 16/16 [00:03<00:00,  4.54it/s]\n",
      "                 Class     Images  Instances      Box(P          R      mAP50  mAP50-95)     Mask(P          R      mAP50  mAP50-95): 100%|██████████| 1/1 [00:00<00:00,  8.78it/s]"
     ]
    },
    {
     "name": "stdout",
     "output_type": "stream",
     "text": [
      "                   all         10         18      0.933          1      0.987      0.813      0.933          1      0.987      0.679\n"
     ]
    },
    {
     "name": "stderr",
     "output_type": "stream",
     "text": [
      "\n"
     ]
    },
    {
     "name": "stdout",
     "output_type": "stream",
     "text": [
      "\n",
      "      Epoch    GPU_mem   box_loss   seg_loss   cls_loss   dfl_loss  Instances       Size\n"
     ]
    },
    {
     "name": "stderr",
     "output_type": "stream",
     "text": [
      "     75/100      3.17G     0.4727     0.5897     0.3827     0.9549         58        640: 100%|██████████| 16/16 [00:03<00:00,  4.56it/s]\n",
      "                 Class     Images  Instances      Box(P          R      mAP50  mAP50-95)     Mask(P          R      mAP50  mAP50-95): 100%|██████████| 1/1 [00:00<00:00,  8.31it/s]"
     ]
    },
    {
     "name": "stdout",
     "output_type": "stream",
     "text": [
      "                   all         10         18      0.934          1       0.96      0.776      0.882      0.944      0.951      0.632\n"
     ]
    },
    {
     "name": "stderr",
     "output_type": "stream",
     "text": [
      "\n"
     ]
    },
    {
     "name": "stdout",
     "output_type": "stream",
     "text": [
      "\n",
      "      Epoch    GPU_mem   box_loss   seg_loss   cls_loss   dfl_loss  Instances       Size\n"
     ]
    },
    {
     "name": "stderr",
     "output_type": "stream",
     "text": [
      "     76/100      3.17G     0.4583     0.5966     0.3889     0.9597         47        640: 100%|██████████| 16/16 [00:03<00:00,  4.62it/s]\n",
      "                 Class     Images  Instances      Box(P          R      mAP50  mAP50-95)     Mask(P          R      mAP50  mAP50-95): 100%|██████████| 1/1 [00:00<00:00,  8.28it/s]"
     ]
    },
    {
     "name": "stdout",
     "output_type": "stream",
     "text": [
      "                   all         10         18       0.89      0.944      0.943      0.791      0.942          1      0.992      0.674\n"
     ]
    },
    {
     "name": "stderr",
     "output_type": "stream",
     "text": [
      "\n"
     ]
    },
    {
     "name": "stdout",
     "output_type": "stream",
     "text": [
      "\n",
      "      Epoch    GPU_mem   box_loss   seg_loss   cls_loss   dfl_loss  Instances       Size\n"
     ]
    },
    {
     "name": "stderr",
     "output_type": "stream",
     "text": [
      "     77/100      3.13G     0.4808      0.571      0.385     0.9646         50        640: 100%|██████████| 16/16 [00:03<00:00,  4.51it/s]\n",
      "                 Class     Images  Instances      Box(P          R      mAP50  mAP50-95)     Mask(P          R      mAP50  mAP50-95): 100%|██████████| 1/1 [00:00<00:00,  7.50it/s]"
     ]
    },
    {
     "name": "stdout",
     "output_type": "stream",
     "text": [
      "                   all         10         18        0.9      0.998      0.944       0.78      0.999          1      0.995      0.647\n"
     ]
    },
    {
     "name": "stderr",
     "output_type": "stream",
     "text": [
      "\n"
     ]
    },
    {
     "name": "stdout",
     "output_type": "stream",
     "text": [
      "\n",
      "      Epoch    GPU_mem   box_loss   seg_loss   cls_loss   dfl_loss  Instances       Size\n"
     ]
    },
    {
     "name": "stderr",
     "output_type": "stream",
     "text": [
      "     78/100      3.15G     0.4926     0.5592     0.3865      0.986         51        640: 100%|██████████| 16/16 [00:03<00:00,  4.57it/s]\n",
      "                 Class     Images  Instances      Box(P          R      mAP50  mAP50-95)     Mask(P          R      mAP50  mAP50-95): 100%|██████████| 1/1 [00:00<00:00,  9.24it/s]"
     ]
    },
    {
     "name": "stdout",
     "output_type": "stream",
     "text": [
      "                   all         10         18      0.897          1      0.953      0.805      0.978          1      0.995      0.681\n"
     ]
    },
    {
     "name": "stderr",
     "output_type": "stream",
     "text": [
      "\n"
     ]
    },
    {
     "name": "stdout",
     "output_type": "stream",
     "text": [
      "\n",
      "      Epoch    GPU_mem   box_loss   seg_loss   cls_loss   dfl_loss  Instances       Size\n"
     ]
    },
    {
     "name": "stderr",
     "output_type": "stream",
     "text": [
      "     79/100      3.14G     0.4681     0.5935     0.3828     0.9725         55        640: 100%|██████████| 16/16 [00:03<00:00,  4.50it/s]\n",
      "                 Class     Images  Instances      Box(P          R      mAP50  mAP50-95)     Mask(P          R      mAP50  mAP50-95): 100%|██████████| 1/1 [00:00<00:00,  8.90it/s]"
     ]
    },
    {
     "name": "stdout",
     "output_type": "stream",
     "text": [
      "                   all         10         18      0.898          1       0.94      0.811      0.939          1      0.987      0.668\n"
     ]
    },
    {
     "name": "stderr",
     "output_type": "stream",
     "text": [
      "\n"
     ]
    },
    {
     "name": "stdout",
     "output_type": "stream",
     "text": [
      "\n",
      "      Epoch    GPU_mem   box_loss   seg_loss   cls_loss   dfl_loss  Instances       Size\n"
     ]
    },
    {
     "name": "stderr",
     "output_type": "stream",
     "text": [
      "     80/100      3.15G     0.4434     0.5445     0.3629     0.9462         60        640: 100%|██████████| 16/16 [00:03<00:00,  4.56it/s]\n",
      "                 Class     Images  Instances      Box(P          R      mAP50  mAP50-95)     Mask(P          R      mAP50  mAP50-95): 100%|██████████| 1/1 [00:00<00:00,  8.62it/s]"
     ]
    },
    {
     "name": "stdout",
     "output_type": "stream",
     "text": [
      "                   all         10         18        0.9      0.998      0.944      0.767      0.987          1      0.995      0.685\n"
     ]
    },
    {
     "name": "stderr",
     "output_type": "stream",
     "text": [
      "\n"
     ]
    },
    {
     "name": "stdout",
     "output_type": "stream",
     "text": [
      "\n",
      "      Epoch    GPU_mem   box_loss   seg_loss   cls_loss   dfl_loss  Instances       Size\n"
     ]
    },
    {
     "name": "stderr",
     "output_type": "stream",
     "text": [
      "     81/100      3.12G     0.4736     0.5718     0.3796     0.9591         52        640: 100%|██████████| 16/16 [00:03<00:00,  4.55it/s]\n",
      "                 Class     Images  Instances      Box(P          R      mAP50  mAP50-95)     Mask(P          R      mAP50  mAP50-95): 100%|██████████| 1/1 [00:00<00:00,  8.34it/s]"
     ]
    },
    {
     "name": "stdout",
     "output_type": "stream",
     "text": [
      "                   all         10         18      0.935      0.944      0.929      0.738      0.991          1      0.995      0.677\n"
     ]
    },
    {
     "name": "stderr",
     "output_type": "stream",
     "text": [
      "\n"
     ]
    },
    {
     "name": "stdout",
     "output_type": "stream",
     "text": [
      "\n",
      "      Epoch    GPU_mem   box_loss   seg_loss   cls_loss   dfl_loss  Instances       Size\n"
     ]
    },
    {
     "name": "stderr",
     "output_type": "stream",
     "text": [
      "     82/100      3.17G     0.4781     0.5592     0.3735     0.9635         53        640: 100%|██████████| 16/16 [00:03<00:00,  4.47it/s]\n",
      "                 Class     Images  Instances      Box(P          R      mAP50  mAP50-95)     Mask(P          R      mAP50  mAP50-95): 100%|██████████| 1/1 [00:00<00:00,  8.60it/s]"
     ]
    },
    {
     "name": "stdout",
     "output_type": "stream",
     "text": [
      "                   all         10         18      0.938      0.944      0.924      0.734      0.993          1      0.995      0.711\n"
     ]
    },
    {
     "name": "stderr",
     "output_type": "stream",
     "text": [
      "\n"
     ]
    },
    {
     "name": "stdout",
     "output_type": "stream",
     "text": [
      "\n",
      "      Epoch    GPU_mem   box_loss   seg_loss   cls_loss   dfl_loss  Instances       Size\n"
     ]
    },
    {
     "name": "stderr",
     "output_type": "stream",
     "text": [
      "     83/100      3.14G       0.49     0.5444     0.3906     0.9764         64        640: 100%|██████████| 16/16 [00:03<00:00,  4.53it/s]\n",
      "                 Class     Images  Instances      Box(P          R      mAP50  mAP50-95)     Mask(P          R      mAP50  mAP50-95): 100%|██████████| 1/1 [00:00<00:00,  7.09it/s]"
     ]
    },
    {
     "name": "stdout",
     "output_type": "stream",
     "text": [
      "                   all         10         18      0.941      0.944      0.928      0.761      0.996          1      0.995      0.687\n"
     ]
    },
    {
     "name": "stderr",
     "output_type": "stream",
     "text": [
      "\n"
     ]
    },
    {
     "name": "stdout",
     "output_type": "stream",
     "text": [
      "\n",
      "      Epoch    GPU_mem   box_loss   seg_loss   cls_loss   dfl_loss  Instances       Size\n"
     ]
    },
    {
     "name": "stderr",
     "output_type": "stream",
     "text": [
      "     84/100      3.19G     0.4497      0.544     0.3752     0.9499         49        640: 100%|██████████| 16/16 [00:03<00:00,  4.63it/s]\n",
      "                 Class     Images  Instances      Box(P          R      mAP50  mAP50-95)     Mask(P          R      mAP50  mAP50-95): 100%|██████████| 1/1 [00:00<00:00,  8.11it/s]"
     ]
    },
    {
     "name": "stdout",
     "output_type": "stream",
     "text": [
      "                   all         10         18       0.94      0.944      0.938      0.772      0.995          1      0.995      0.681\n"
     ]
    },
    {
     "name": "stderr",
     "output_type": "stream",
     "text": [
      "\n"
     ]
    },
    {
     "name": "stdout",
     "output_type": "stream",
     "text": [
      "\n",
      "      Epoch    GPU_mem   box_loss   seg_loss   cls_loss   dfl_loss  Instances       Size\n"
     ]
    },
    {
     "name": "stderr",
     "output_type": "stream",
     "text": [
      "     85/100      3.17G     0.4746     0.5371     0.3769     0.9779         48        640: 100%|██████████| 16/16 [00:03<00:00,  4.56it/s]\n",
      "                 Class     Images  Instances      Box(P          R      mAP50  mAP50-95)     Mask(P          R      mAP50  mAP50-95): 100%|██████████| 1/1 [00:00<00:00,  8.61it/s]"
     ]
    },
    {
     "name": "stdout",
     "output_type": "stream",
     "text": [
      "                   all         10         18        0.9          1      0.956      0.783      0.992          1      0.995      0.684\n"
     ]
    },
    {
     "name": "stderr",
     "output_type": "stream",
     "text": [
      "\n"
     ]
    },
    {
     "name": "stdout",
     "output_type": "stream",
     "text": [
      "\n",
      "      Epoch    GPU_mem   box_loss   seg_loss   cls_loss   dfl_loss  Instances       Size\n"
     ]
    },
    {
     "name": "stderr",
     "output_type": "stream",
     "text": [
      "     86/100      3.17G     0.4461     0.4908     0.3542     0.9533         62        640: 100%|██████████| 16/16 [00:03<00:00,  4.60it/s]\n",
      "                 Class     Images  Instances      Box(P          R      mAP50  mAP50-95)     Mask(P          R      mAP50  mAP50-95): 100%|██████████| 1/1 [00:00<00:00,  8.00it/s]"
     ]
    },
    {
     "name": "stdout",
     "output_type": "stream",
     "text": [
      "                   all         10         18      0.946      0.978      0.975      0.794      0.985          1      0.995      0.695\n"
     ]
    },
    {
     "name": "stderr",
     "output_type": "stream",
     "text": [
      "\n"
     ]
    },
    {
     "name": "stdout",
     "output_type": "stream",
     "text": [
      "\n",
      "      Epoch    GPU_mem   box_loss   seg_loss   cls_loss   dfl_loss  Instances       Size\n"
     ]
    },
    {
     "name": "stderr",
     "output_type": "stream",
     "text": [
      "     87/100      3.21G     0.4124     0.5131     0.3414     0.9332         51        640: 100%|██████████| 16/16 [00:03<00:00,  4.55it/s]\n",
      "                 Class     Images  Instances      Box(P          R      mAP50  mAP50-95)     Mask(P          R      mAP50  mAP50-95): 100%|██████████| 1/1 [00:00<00:00,  8.38it/s]"
     ]
    },
    {
     "name": "stdout",
     "output_type": "stream",
     "text": [
      "                   all         10         18      0.897          1      0.978       0.83      0.988          1      0.995      0.712\n"
     ]
    },
    {
     "name": "stderr",
     "output_type": "stream",
     "text": [
      "\n"
     ]
    },
    {
     "name": "stdout",
     "output_type": "stream",
     "text": [
      "\n",
      "      Epoch    GPU_mem   box_loss   seg_loss   cls_loss   dfl_loss  Instances       Size\n"
     ]
    },
    {
     "name": "stderr",
     "output_type": "stream",
     "text": [
      "     88/100      3.12G     0.4534     0.5853     0.3687     0.9606         54        640: 100%|██████████| 16/16 [00:03<00:00,  4.44it/s]\n",
      "                 Class     Images  Instances      Box(P          R      mAP50  mAP50-95)     Mask(P          R      mAP50  mAP50-95): 100%|██████████| 1/1 [00:00<00:00,  8.98it/s]"
     ]
    },
    {
     "name": "stdout",
     "output_type": "stream",
     "text": [
      "                   all         10         18      0.894          1      0.975      0.839      0.975      0.944      0.992      0.712\n"
     ]
    },
    {
     "name": "stderr",
     "output_type": "stream",
     "text": [
      "\n"
     ]
    },
    {
     "name": "stdout",
     "output_type": "stream",
     "text": [
      "\n",
      "      Epoch    GPU_mem   box_loss   seg_loss   cls_loss   dfl_loss  Instances       Size\n"
     ]
    },
    {
     "name": "stderr",
     "output_type": "stream",
     "text": [
      "     89/100      3.19G     0.4128     0.5271     0.3315     0.9246         48        640: 100%|██████████| 16/16 [00:03<00:00,  4.58it/s]\n",
      "                 Class     Images  Instances      Box(P          R      mAP50  mAP50-95)     Mask(P          R      mAP50  mAP50-95): 100%|██████████| 1/1 [00:00<00:00,  8.64it/s]"
     ]
    },
    {
     "name": "stdout",
     "output_type": "stream",
     "text": [
      "                   all         10         18      0.898          1      0.981      0.846      0.941      0.944       0.99      0.713\n"
     ]
    },
    {
     "name": "stderr",
     "output_type": "stream",
     "text": [
      "\n"
     ]
    },
    {
     "name": "stdout",
     "output_type": "stream",
     "text": [
      "\n",
      "      Epoch    GPU_mem   box_loss   seg_loss   cls_loss   dfl_loss  Instances       Size\n"
     ]
    },
    {
     "name": "stderr",
     "output_type": "stream",
     "text": [
      "     90/100      3.15G      0.456     0.5358     0.3689     0.9571         53        640: 100%|██████████| 16/16 [00:03<00:00,  4.49it/s]\n",
      "                 Class     Images  Instances      Box(P          R      mAP50  mAP50-95)     Mask(P          R      mAP50  mAP50-95): 100%|██████████| 1/1 [00:00<00:00,  8.05it/s]"
     ]
    },
    {
     "name": "stdout",
     "output_type": "stream",
     "text": [
      "                   all         10         18      0.899      0.993      0.981      0.842       0.98      0.944       0.99      0.698\n"
     ]
    },
    {
     "name": "stderr",
     "output_type": "stream",
     "text": [
      "\n"
     ]
    },
    {
     "name": "stdout",
     "output_type": "stream",
     "text": [
      "Closing dataloader mosaic\n",
      "\n",
      "      Epoch    GPU_mem   box_loss   seg_loss   cls_loss   dfl_loss  Instances       Size\n"
     ]
    },
    {
     "name": "stderr",
     "output_type": "stream",
     "text": [
      "     91/100      3.26G     0.2603     0.4837     0.3024     0.8468         20        640: 100%|██████████| 16/16 [00:04<00:00,  3.21it/s]\n",
      "                 Class     Images  Instances      Box(P          R      mAP50  mAP50-95)     Mask(P          R      mAP50  mAP50-95): 100%|██████████| 1/1 [00:00<00:00,  7.95it/s]"
     ]
    },
    {
     "name": "stdout",
     "output_type": "stream",
     "text": [
      "                   all         10         18        0.9      0.996      0.981      0.832        0.9      0.996      0.984      0.695\n"
     ]
    },
    {
     "name": "stderr",
     "output_type": "stream",
     "text": [
      "\n"
     ]
    },
    {
     "name": "stdout",
     "output_type": "stream",
     "text": [
      "\n",
      "      Epoch    GPU_mem   box_loss   seg_loss   cls_loss   dfl_loss  Instances       Size\n"
     ]
    },
    {
     "name": "stderr",
     "output_type": "stream",
     "text": [
      "     92/100      3.03G     0.2593      0.449     0.2446     0.8193         24        640: 100%|██████████| 16/16 [00:03<00:00,  4.65it/s]\n",
      "                 Class     Images  Instances      Box(P          R      mAP50  mAP50-95)     Mask(P          R      mAP50  mAP50-95): 100%|██████████| 1/1 [00:00<00:00,  8.68it/s]"
     ]
    },
    {
     "name": "stdout",
     "output_type": "stream",
     "text": [
      "                   all         10         18      0.936      0.944       0.97      0.825      0.936      0.944       0.97      0.694\n"
     ]
    },
    {
     "name": "stderr",
     "output_type": "stream",
     "text": [
      "\n"
     ]
    },
    {
     "name": "stdout",
     "output_type": "stream",
     "text": [
      "\n",
      "      Epoch    GPU_mem   box_loss   seg_loss   cls_loss   dfl_loss  Instances       Size\n"
     ]
    },
    {
     "name": "stderr",
     "output_type": "stream",
     "text": [
      "     93/100      3.05G     0.2494     0.4081     0.2153     0.8327         20        640: 100%|██████████| 16/16 [00:03<00:00,  4.62it/s]\n",
      "                 Class     Images  Instances      Box(P          R      mAP50  mAP50-95)     Mask(P          R      mAP50  mAP50-95): 100%|██████████| 1/1 [00:00<00:00,  8.59it/s]"
     ]
    },
    {
     "name": "stdout",
     "output_type": "stream",
     "text": [
      "                   all         10         18      0.944      0.933      0.963       0.83      0.944      0.933       0.97      0.696\n"
     ]
    },
    {
     "name": "stderr",
     "output_type": "stream",
     "text": [
      "\n"
     ]
    },
    {
     "name": "stdout",
     "output_type": "stream",
     "text": [
      "\n",
      "      Epoch    GPU_mem   box_loss   seg_loss   cls_loss   dfl_loss  Instances       Size\n"
     ]
    },
    {
     "name": "stderr",
     "output_type": "stream",
     "text": [
      "     94/100      3.03G     0.2353     0.3956     0.2114     0.8163         21        640: 100%|██████████| 16/16 [00:03<00:00,  4.66it/s]\n",
      "                 Class     Images  Instances      Box(P          R      mAP50  mAP50-95)     Mask(P          R      mAP50  mAP50-95): 100%|██████████| 1/1 [00:00<00:00,  9.03it/s]"
     ]
    },
    {
     "name": "stdout",
     "output_type": "stream",
     "text": [
      "                   all         10         18      0.891      0.944      0.956      0.813        0.9          1      0.964      0.686\n"
     ]
    },
    {
     "name": "stderr",
     "output_type": "stream",
     "text": [
      "\n"
     ]
    },
    {
     "name": "stdout",
     "output_type": "stream",
     "text": [
      "\n",
      "      Epoch    GPU_mem   box_loss   seg_loss   cls_loss   dfl_loss  Instances       Size\n"
     ]
    },
    {
     "name": "stderr",
     "output_type": "stream",
     "text": [
      "     95/100      3.02G     0.2255     0.3842     0.2074     0.8124         20        640: 100%|██████████| 16/16 [00:03<00:00,  4.70it/s]\n",
      "                 Class     Images  Instances      Box(P          R      mAP50  mAP50-95)     Mask(P          R      mAP50  mAP50-95): 100%|██████████| 1/1 [00:00<00:00,  6.90it/s]"
     ]
    },
    {
     "name": "stdout",
     "output_type": "stream",
     "text": [
      "                   all         10         18      0.899          1      0.966      0.808      0.899          1      0.962      0.676\n"
     ]
    },
    {
     "name": "stderr",
     "output_type": "stream",
     "text": [
      "\n"
     ]
    },
    {
     "name": "stdout",
     "output_type": "stream",
     "text": [
      "\n",
      "      Epoch    GPU_mem   box_loss   seg_loss   cls_loss   dfl_loss  Instances       Size\n"
     ]
    },
    {
     "name": "stderr",
     "output_type": "stream",
     "text": [
      "     96/100      3.02G     0.2269     0.3843     0.2011     0.8213         23        640: 100%|██████████| 16/16 [00:03<00:00,  4.70it/s]\n",
      "                 Class     Images  Instances      Box(P          R      mAP50  mAP50-95)     Mask(P          R      mAP50  mAP50-95): 100%|██████████| 1/1 [00:00<00:00,  9.09it/s]"
     ]
    },
    {
     "name": "stdout",
     "output_type": "stream",
     "text": [
      "                   all         10         18      0.899          1       0.96      0.796      0.899          1      0.962      0.676\n"
     ]
    },
    {
     "name": "stderr",
     "output_type": "stream",
     "text": [
      "\n"
     ]
    },
    {
     "name": "stdout",
     "output_type": "stream",
     "text": [
      "\n",
      "      Epoch    GPU_mem   box_loss   seg_loss   cls_loss   dfl_loss  Instances       Size\n"
     ]
    },
    {
     "name": "stderr",
     "output_type": "stream",
     "text": [
      "     97/100      3.02G     0.2356     0.3895      0.208     0.8355         20        640: 100%|██████████| 16/16 [00:03<00:00,  4.37it/s]\n",
      "                 Class     Images  Instances      Box(P          R      mAP50  mAP50-95)     Mask(P          R      mAP50  mAP50-95): 100%|██████████| 1/1 [00:00<00:00,  8.43it/s]"
     ]
    },
    {
     "name": "stdout",
     "output_type": "stream",
     "text": [
      "                   all         10         18        0.9      0.996      0.952      0.812        0.9      0.996      0.972      0.656\n"
     ]
    },
    {
     "name": "stderr",
     "output_type": "stream",
     "text": [
      "\n"
     ]
    },
    {
     "name": "stdout",
     "output_type": "stream",
     "text": [
      "\n",
      "      Epoch    GPU_mem   box_loss   seg_loss   cls_loss   dfl_loss  Instances       Size\n"
     ]
    },
    {
     "name": "stderr",
     "output_type": "stream",
     "text": [
      "     98/100      3.02G      0.226     0.3876     0.1957     0.8334         20        640: 100%|██████████| 16/16 [00:03<00:00,  4.68it/s]\n",
      "                 Class     Images  Instances      Box(P          R      mAP50  mAP50-95)     Mask(P          R      mAP50  mAP50-95): 100%|██████████| 1/1 [00:00<00:00,  7.65it/s]"
     ]
    },
    {
     "name": "stdout",
     "output_type": "stream",
     "text": [
      "                   all         10         18      0.857      0.998      0.948       0.81      0.924      0.944      0.978      0.663\n"
     ]
    },
    {
     "name": "stderr",
     "output_type": "stream",
     "text": [
      "\n"
     ]
    },
    {
     "name": "stdout",
     "output_type": "stream",
     "text": [
      "\n",
      "      Epoch    GPU_mem   box_loss   seg_loss   cls_loss   dfl_loss  Instances       Size\n"
     ]
    },
    {
     "name": "stderr",
     "output_type": "stream",
     "text": [
      "     99/100      3.02G     0.2265     0.3707     0.1983     0.8349         20        640: 100%|██████████| 16/16 [00:03<00:00,  4.47it/s]\n",
      "                 Class     Images  Instances      Box(P          R      mAP50  mAP50-95)     Mask(P          R      mAP50  mAP50-95): 100%|██████████| 1/1 [00:00<00:00,  8.61it/s]"
     ]
    },
    {
     "name": "stdout",
     "output_type": "stream",
     "text": [
      "                   all         10         18      0.885      0.944      0.946        0.8      0.885      0.944      0.977      0.679\n"
     ]
    },
    {
     "name": "stderr",
     "output_type": "stream",
     "text": [
      "\n"
     ]
    },
    {
     "name": "stdout",
     "output_type": "stream",
     "text": [
      "\n",
      "      Epoch    GPU_mem   box_loss   seg_loss   cls_loss   dfl_loss  Instances       Size\n"
     ]
    },
    {
     "name": "stderr",
     "output_type": "stream",
     "text": [
      "    100/100      3.03G     0.2211     0.3725     0.2025     0.8204         22        640: 100%|██████████| 16/16 [00:03<00:00,  4.68it/s]\n",
      "                 Class     Images  Instances      Box(P          R      mAP50  mAP50-95)     Mask(P          R      mAP50  mAP50-95): 100%|██████████| 1/1 [00:00<00:00,  8.35it/s]"
     ]
    },
    {
     "name": "stdout",
     "output_type": "stream",
     "text": [
      "                   all         10         18      0.886      0.944      0.953      0.806      0.886      0.944      0.974      0.683\n"
     ]
    },
    {
     "name": "stderr",
     "output_type": "stream",
     "text": [
      "\n"
     ]
    },
    {
     "name": "stdout",
     "output_type": "stream",
     "text": [
      "\n",
      "100 epochs completed in 0.121 hours.\n",
      "Optimizer stripped from runs/segment/train13/weights/last.pt, 6.0MB\n",
      "Optimizer stripped from runs/segment/train13/weights/best.pt, 6.0MB\n",
      "\n",
      "Validating runs/segment/train13/weights/best.pt...\n",
      "Ultralytics 8.3.40 🚀 Python-3.10.15 torch-2.5.1+cu118 CUDA:0 (NVIDIA GeForce RTX 3060, 12287MiB)\n",
      "YOLO11n-seg summary (fused): 265 layers, 2,834,763 parameters, 0 gradients, 10.2 GFLOPs\n"
     ]
    },
    {
     "name": "stderr",
     "output_type": "stream",
     "text": [
      "                 Class     Images  Instances      Box(P          R      mAP50  mAP50-95)     Mask(P          R      mAP50  mAP50-95): 100%|██████████| 1/1 [00:00<00:00,  8.24it/s]\n"
     ]
    },
    {
     "name": "stdout",
     "output_type": "stream",
     "text": [
      "                   all         10         18      0.942          1      0.992      0.857      0.942          1      0.992      0.722\n",
      "Speed: 0.4ms preprocess, 2.8ms inference, 0.0ms loss, 0.9ms postprocess per image\n",
      "Results saved to \u001b[1mruns/segment/train13\u001b[0m\n"
     ]
    }
   ],
   "source": [
    "model = YOLO(\"checkpoint/fighter_3.pt\")\n",
    "model.to(DEVICE)\n",
    "\n",
    "model.train(data=\"config_4.yaml\", epochs=100, imgsz=640)\n",
    "model.save(\"checkpoint/fighter_4.pt\")"
   ]
  },
  {
   "cell_type": "code",
   "execution_count": 33,
   "metadata": {},
   "outputs": [
    {
     "ename": "AttributeError",
     "evalue": "'SegmentationModel' object has no attribute 'plot'",
     "output_type": "error",
     "traceback": [
      "\u001b[0;31m---------------------------------------------------------------------------\u001b[0m",
      "\u001b[0;31mAttributeError\u001b[0m                            Traceback (most recent call last)",
      "Cell \u001b[0;32mIn[33], line 1\u001b[0m\n\u001b[0;32m----> 1\u001b[0m \u001b[43mmodel\u001b[49m\u001b[38;5;241;43m.\u001b[39;49m\u001b[43mplot\u001b[49m()\n",
      "File \u001b[0;32m~/miniconda3/envs/ultrapython/lib/python3.10/site-packages/ultralytics/engine/model.py:1174\u001b[0m, in \u001b[0;36mModel.__getattr__\u001b[0;34m(self, name)\u001b[0m\n\u001b[1;32m   1172\u001b[0m \u001b[38;5;28;01mif\u001b[39;00m name \u001b[38;5;241m==\u001b[39m \u001b[38;5;124m\"\u001b[39m\u001b[38;5;124mmodel\u001b[39m\u001b[38;5;124m\"\u001b[39m:\n\u001b[1;32m   1173\u001b[0m     \u001b[38;5;28;01mreturn\u001b[39;00m \u001b[38;5;28mself\u001b[39m\u001b[38;5;241m.\u001b[39m_modules[\u001b[38;5;124m\"\u001b[39m\u001b[38;5;124mmodel\u001b[39m\u001b[38;5;124m\"\u001b[39m]\n\u001b[0;32m-> 1174\u001b[0m \u001b[38;5;28;01mreturn\u001b[39;00m \u001b[38;5;28;43mgetattr\u001b[39;49m\u001b[43m(\u001b[49m\u001b[38;5;28;43mself\u001b[39;49m\u001b[38;5;241;43m.\u001b[39;49m\u001b[43mmodel\u001b[49m\u001b[43m,\u001b[49m\u001b[43m \u001b[49m\u001b[43mname\u001b[49m\u001b[43m)\u001b[49m\n",
      "File \u001b[0;32m~/miniconda3/envs/ultrapython/lib/python3.10/site-packages/torch/nn/modules/module.py:1931\u001b[0m, in \u001b[0;36mModule.__getattr__\u001b[0;34m(self, name)\u001b[0m\n\u001b[1;32m   1929\u001b[0m     \u001b[38;5;28;01mif\u001b[39;00m name \u001b[38;5;129;01min\u001b[39;00m modules:\n\u001b[1;32m   1930\u001b[0m         \u001b[38;5;28;01mreturn\u001b[39;00m modules[name]\n\u001b[0;32m-> 1931\u001b[0m \u001b[38;5;28;01mraise\u001b[39;00m \u001b[38;5;167;01mAttributeError\u001b[39;00m(\n\u001b[1;32m   1932\u001b[0m     \u001b[38;5;124mf\u001b[39m\u001b[38;5;124m\"\u001b[39m\u001b[38;5;124m'\u001b[39m\u001b[38;5;132;01m{\u001b[39;00m\u001b[38;5;28mtype\u001b[39m(\u001b[38;5;28mself\u001b[39m)\u001b[38;5;241m.\u001b[39m\u001b[38;5;18m__name__\u001b[39m\u001b[38;5;132;01m}\u001b[39;00m\u001b[38;5;124m'\u001b[39m\u001b[38;5;124m object has no attribute \u001b[39m\u001b[38;5;124m'\u001b[39m\u001b[38;5;132;01m{\u001b[39;00mname\u001b[38;5;132;01m}\u001b[39;00m\u001b[38;5;124m'\u001b[39m\u001b[38;5;124m\"\u001b[39m\n\u001b[1;32m   1933\u001b[0m )\n",
      "\u001b[0;31mAttributeError\u001b[0m: 'SegmentationModel' object has no attribute 'plot'"
     ]
    }
   ],
   "source": [
    "model.plot()"
   ]
  },
  {
   "cell_type": "code",
   "execution_count": 34,
   "metadata": {},
   "outputs": [
    {
     "data": {
      "text/plain": [
       "YOLO(\n",
       "  (model): SegmentationModel(\n",
       "    (model): Sequential(\n",
       "      (0): Conv(\n",
       "        (conv): Conv2d(3, 16, kernel_size=(3, 3), stride=(2, 2), padding=(1, 1), bias=False)\n",
       "        (bn): BatchNorm2d(16, eps=0.001, momentum=0.03, affine=True, track_running_stats=True)\n",
       "        (act): SiLU(inplace=True)\n",
       "      )\n",
       "      (1): Conv(\n",
       "        (conv): Conv2d(16, 32, kernel_size=(3, 3), stride=(2, 2), padding=(1, 1), bias=False)\n",
       "        (bn): BatchNorm2d(32, eps=0.001, momentum=0.03, affine=True, track_running_stats=True)\n",
       "        (act): SiLU(inplace=True)\n",
       "      )\n",
       "      (2): C3k2(\n",
       "        (cv1): Conv(\n",
       "          (conv): Conv2d(32, 32, kernel_size=(1, 1), stride=(1, 1), bias=False)\n",
       "          (bn): BatchNorm2d(32, eps=0.001, momentum=0.03, affine=True, track_running_stats=True)\n",
       "          (act): SiLU(inplace=True)\n",
       "        )\n",
       "        (cv2): Conv(\n",
       "          (conv): Conv2d(48, 64, kernel_size=(1, 1), stride=(1, 1), bias=False)\n",
       "          (bn): BatchNorm2d(64, eps=0.001, momentum=0.03, affine=True, track_running_stats=True)\n",
       "          (act): SiLU(inplace=True)\n",
       "        )\n",
       "        (m): ModuleList(\n",
       "          (0): Bottleneck(\n",
       "            (cv1): Conv(\n",
       "              (conv): Conv2d(16, 8, kernel_size=(3, 3), stride=(1, 1), padding=(1, 1), bias=False)\n",
       "              (bn): BatchNorm2d(8, eps=0.001, momentum=0.03, affine=True, track_running_stats=True)\n",
       "              (act): SiLU(inplace=True)\n",
       "            )\n",
       "            (cv2): Conv(\n",
       "              (conv): Conv2d(8, 16, kernel_size=(3, 3), stride=(1, 1), padding=(1, 1), bias=False)\n",
       "              (bn): BatchNorm2d(16, eps=0.001, momentum=0.03, affine=True, track_running_stats=True)\n",
       "              (act): SiLU(inplace=True)\n",
       "            )\n",
       "          )\n",
       "        )\n",
       "      )\n",
       "      (3): Conv(\n",
       "        (conv): Conv2d(64, 64, kernel_size=(3, 3), stride=(2, 2), padding=(1, 1), bias=False)\n",
       "        (bn): BatchNorm2d(64, eps=0.001, momentum=0.03, affine=True, track_running_stats=True)\n",
       "        (act): SiLU(inplace=True)\n",
       "      )\n",
       "      (4): C3k2(\n",
       "        (cv1): Conv(\n",
       "          (conv): Conv2d(64, 64, kernel_size=(1, 1), stride=(1, 1), bias=False)\n",
       "          (bn): BatchNorm2d(64, eps=0.001, momentum=0.03, affine=True, track_running_stats=True)\n",
       "          (act): SiLU(inplace=True)\n",
       "        )\n",
       "        (cv2): Conv(\n",
       "          (conv): Conv2d(96, 128, kernel_size=(1, 1), stride=(1, 1), bias=False)\n",
       "          (bn): BatchNorm2d(128, eps=0.001, momentum=0.03, affine=True, track_running_stats=True)\n",
       "          (act): SiLU(inplace=True)\n",
       "        )\n",
       "        (m): ModuleList(\n",
       "          (0): Bottleneck(\n",
       "            (cv1): Conv(\n",
       "              (conv): Conv2d(32, 16, kernel_size=(3, 3), stride=(1, 1), padding=(1, 1), bias=False)\n",
       "              (bn): BatchNorm2d(16, eps=0.001, momentum=0.03, affine=True, track_running_stats=True)\n",
       "              (act): SiLU(inplace=True)\n",
       "            )\n",
       "            (cv2): Conv(\n",
       "              (conv): Conv2d(16, 32, kernel_size=(3, 3), stride=(1, 1), padding=(1, 1), bias=False)\n",
       "              (bn): BatchNorm2d(32, eps=0.001, momentum=0.03, affine=True, track_running_stats=True)\n",
       "              (act): SiLU(inplace=True)\n",
       "            )\n",
       "          )\n",
       "        )\n",
       "      )\n",
       "      (5): Conv(\n",
       "        (conv): Conv2d(128, 128, kernel_size=(3, 3), stride=(2, 2), padding=(1, 1), bias=False)\n",
       "        (bn): BatchNorm2d(128, eps=0.001, momentum=0.03, affine=True, track_running_stats=True)\n",
       "        (act): SiLU(inplace=True)\n",
       "      )\n",
       "      (6): C3k2(\n",
       "        (cv1): Conv(\n",
       "          (conv): Conv2d(128, 128, kernel_size=(1, 1), stride=(1, 1), bias=False)\n",
       "          (bn): BatchNorm2d(128, eps=0.001, momentum=0.03, affine=True, track_running_stats=True)\n",
       "          (act): SiLU(inplace=True)\n",
       "        )\n",
       "        (cv2): Conv(\n",
       "          (conv): Conv2d(192, 128, kernel_size=(1, 1), stride=(1, 1), bias=False)\n",
       "          (bn): BatchNorm2d(128, eps=0.001, momentum=0.03, affine=True, track_running_stats=True)\n",
       "          (act): SiLU(inplace=True)\n",
       "        )\n",
       "        (m): ModuleList(\n",
       "          (0): C3k(\n",
       "            (cv1): Conv(\n",
       "              (conv): Conv2d(64, 32, kernel_size=(1, 1), stride=(1, 1), bias=False)\n",
       "              (bn): BatchNorm2d(32, eps=0.001, momentum=0.03, affine=True, track_running_stats=True)\n",
       "              (act): SiLU(inplace=True)\n",
       "            )\n",
       "            (cv2): Conv(\n",
       "              (conv): Conv2d(64, 32, kernel_size=(1, 1), stride=(1, 1), bias=False)\n",
       "              (bn): BatchNorm2d(32, eps=0.001, momentum=0.03, affine=True, track_running_stats=True)\n",
       "              (act): SiLU(inplace=True)\n",
       "            )\n",
       "            (cv3): Conv(\n",
       "              (conv): Conv2d(64, 64, kernel_size=(1, 1), stride=(1, 1), bias=False)\n",
       "              (bn): BatchNorm2d(64, eps=0.001, momentum=0.03, affine=True, track_running_stats=True)\n",
       "              (act): SiLU(inplace=True)\n",
       "            )\n",
       "            (m): Sequential(\n",
       "              (0): Bottleneck(\n",
       "                (cv1): Conv(\n",
       "                  (conv): Conv2d(32, 32, kernel_size=(3, 3), stride=(1, 1), padding=(1, 1), bias=False)\n",
       "                  (bn): BatchNorm2d(32, eps=0.001, momentum=0.03, affine=True, track_running_stats=True)\n",
       "                  (act): SiLU(inplace=True)\n",
       "                )\n",
       "                (cv2): Conv(\n",
       "                  (conv): Conv2d(32, 32, kernel_size=(3, 3), stride=(1, 1), padding=(1, 1), bias=False)\n",
       "                  (bn): BatchNorm2d(32, eps=0.001, momentum=0.03, affine=True, track_running_stats=True)\n",
       "                  (act): SiLU(inplace=True)\n",
       "                )\n",
       "              )\n",
       "              (1): Bottleneck(\n",
       "                (cv1): Conv(\n",
       "                  (conv): Conv2d(32, 32, kernel_size=(3, 3), stride=(1, 1), padding=(1, 1), bias=False)\n",
       "                  (bn): BatchNorm2d(32, eps=0.001, momentum=0.03, affine=True, track_running_stats=True)\n",
       "                  (act): SiLU(inplace=True)\n",
       "                )\n",
       "                (cv2): Conv(\n",
       "                  (conv): Conv2d(32, 32, kernel_size=(3, 3), stride=(1, 1), padding=(1, 1), bias=False)\n",
       "                  (bn): BatchNorm2d(32, eps=0.001, momentum=0.03, affine=True, track_running_stats=True)\n",
       "                  (act): SiLU(inplace=True)\n",
       "                )\n",
       "              )\n",
       "            )\n",
       "          )\n",
       "        )\n",
       "      )\n",
       "      (7): Conv(\n",
       "        (conv): Conv2d(128, 256, kernel_size=(3, 3), stride=(2, 2), padding=(1, 1), bias=False)\n",
       "        (bn): BatchNorm2d(256, eps=0.001, momentum=0.03, affine=True, track_running_stats=True)\n",
       "        (act): SiLU(inplace=True)\n",
       "      )\n",
       "      (8): C3k2(\n",
       "        (cv1): Conv(\n",
       "          (conv): Conv2d(256, 256, kernel_size=(1, 1), stride=(1, 1), bias=False)\n",
       "          (bn): BatchNorm2d(256, eps=0.001, momentum=0.03, affine=True, track_running_stats=True)\n",
       "          (act): SiLU(inplace=True)\n",
       "        )\n",
       "        (cv2): Conv(\n",
       "          (conv): Conv2d(384, 256, kernel_size=(1, 1), stride=(1, 1), bias=False)\n",
       "          (bn): BatchNorm2d(256, eps=0.001, momentum=0.03, affine=True, track_running_stats=True)\n",
       "          (act): SiLU(inplace=True)\n",
       "        )\n",
       "        (m): ModuleList(\n",
       "          (0): C3k(\n",
       "            (cv1): Conv(\n",
       "              (conv): Conv2d(128, 64, kernel_size=(1, 1), stride=(1, 1), bias=False)\n",
       "              (bn): BatchNorm2d(64, eps=0.001, momentum=0.03, affine=True, track_running_stats=True)\n",
       "              (act): SiLU(inplace=True)\n",
       "            )\n",
       "            (cv2): Conv(\n",
       "              (conv): Conv2d(128, 64, kernel_size=(1, 1), stride=(1, 1), bias=False)\n",
       "              (bn): BatchNorm2d(64, eps=0.001, momentum=0.03, affine=True, track_running_stats=True)\n",
       "              (act): SiLU(inplace=True)\n",
       "            )\n",
       "            (cv3): Conv(\n",
       "              (conv): Conv2d(128, 128, kernel_size=(1, 1), stride=(1, 1), bias=False)\n",
       "              (bn): BatchNorm2d(128, eps=0.001, momentum=0.03, affine=True, track_running_stats=True)\n",
       "              (act): SiLU(inplace=True)\n",
       "            )\n",
       "            (m): Sequential(\n",
       "              (0): Bottleneck(\n",
       "                (cv1): Conv(\n",
       "                  (conv): Conv2d(64, 64, kernel_size=(3, 3), stride=(1, 1), padding=(1, 1), bias=False)\n",
       "                  (bn): BatchNorm2d(64, eps=0.001, momentum=0.03, affine=True, track_running_stats=True)\n",
       "                  (act): SiLU(inplace=True)\n",
       "                )\n",
       "                (cv2): Conv(\n",
       "                  (conv): Conv2d(64, 64, kernel_size=(3, 3), stride=(1, 1), padding=(1, 1), bias=False)\n",
       "                  (bn): BatchNorm2d(64, eps=0.001, momentum=0.03, affine=True, track_running_stats=True)\n",
       "                  (act): SiLU(inplace=True)\n",
       "                )\n",
       "              )\n",
       "              (1): Bottleneck(\n",
       "                (cv1): Conv(\n",
       "                  (conv): Conv2d(64, 64, kernel_size=(3, 3), stride=(1, 1), padding=(1, 1), bias=False)\n",
       "                  (bn): BatchNorm2d(64, eps=0.001, momentum=0.03, affine=True, track_running_stats=True)\n",
       "                  (act): SiLU(inplace=True)\n",
       "                )\n",
       "                (cv2): Conv(\n",
       "                  (conv): Conv2d(64, 64, kernel_size=(3, 3), stride=(1, 1), padding=(1, 1), bias=False)\n",
       "                  (bn): BatchNorm2d(64, eps=0.001, momentum=0.03, affine=True, track_running_stats=True)\n",
       "                  (act): SiLU(inplace=True)\n",
       "                )\n",
       "              )\n",
       "            )\n",
       "          )\n",
       "        )\n",
       "      )\n",
       "      (9): SPPF(\n",
       "        (cv1): Conv(\n",
       "          (conv): Conv2d(256, 128, kernel_size=(1, 1), stride=(1, 1), bias=False)\n",
       "          (bn): BatchNorm2d(128, eps=0.001, momentum=0.03, affine=True, track_running_stats=True)\n",
       "          (act): SiLU(inplace=True)\n",
       "        )\n",
       "        (cv2): Conv(\n",
       "          (conv): Conv2d(512, 256, kernel_size=(1, 1), stride=(1, 1), bias=False)\n",
       "          (bn): BatchNorm2d(256, eps=0.001, momentum=0.03, affine=True, track_running_stats=True)\n",
       "          (act): SiLU(inplace=True)\n",
       "        )\n",
       "        (m): MaxPool2d(kernel_size=5, stride=1, padding=2, dilation=1, ceil_mode=False)\n",
       "      )\n",
       "      (10): C2PSA(\n",
       "        (cv1): Conv(\n",
       "          (conv): Conv2d(256, 256, kernel_size=(1, 1), stride=(1, 1), bias=False)\n",
       "          (bn): BatchNorm2d(256, eps=0.001, momentum=0.03, affine=True, track_running_stats=True)\n",
       "          (act): SiLU(inplace=True)\n",
       "        )\n",
       "        (cv2): Conv(\n",
       "          (conv): Conv2d(256, 256, kernel_size=(1, 1), stride=(1, 1), bias=False)\n",
       "          (bn): BatchNorm2d(256, eps=0.001, momentum=0.03, affine=True, track_running_stats=True)\n",
       "          (act): SiLU(inplace=True)\n",
       "        )\n",
       "        (m): Sequential(\n",
       "          (0): PSABlock(\n",
       "            (attn): Attention(\n",
       "              (qkv): Conv(\n",
       "                (conv): Conv2d(128, 256, kernel_size=(1, 1), stride=(1, 1), bias=False)\n",
       "                (bn): BatchNorm2d(256, eps=0.001, momentum=0.03, affine=True, track_running_stats=True)\n",
       "                (act): Identity()\n",
       "              )\n",
       "              (proj): Conv(\n",
       "                (conv): Conv2d(128, 128, kernel_size=(1, 1), stride=(1, 1), bias=False)\n",
       "                (bn): BatchNorm2d(128, eps=0.001, momentum=0.03, affine=True, track_running_stats=True)\n",
       "                (act): Identity()\n",
       "              )\n",
       "              (pe): Conv(\n",
       "                (conv): Conv2d(128, 128, kernel_size=(3, 3), stride=(1, 1), padding=(1, 1), groups=128, bias=False)\n",
       "                (bn): BatchNorm2d(128, eps=0.001, momentum=0.03, affine=True, track_running_stats=True)\n",
       "                (act): Identity()\n",
       "              )\n",
       "            )\n",
       "            (ffn): Sequential(\n",
       "              (0): Conv(\n",
       "                (conv): Conv2d(128, 256, kernel_size=(1, 1), stride=(1, 1), bias=False)\n",
       "                (bn): BatchNorm2d(256, eps=0.001, momentum=0.03, affine=True, track_running_stats=True)\n",
       "                (act): SiLU(inplace=True)\n",
       "              )\n",
       "              (1): Conv(\n",
       "                (conv): Conv2d(256, 128, kernel_size=(1, 1), stride=(1, 1), bias=False)\n",
       "                (bn): BatchNorm2d(128, eps=0.001, momentum=0.03, affine=True, track_running_stats=True)\n",
       "                (act): Identity()\n",
       "              )\n",
       "            )\n",
       "          )\n",
       "        )\n",
       "      )\n",
       "      (11): Upsample(scale_factor=2.0, mode='nearest')\n",
       "      (12): Concat()\n",
       "      (13): C3k2(\n",
       "        (cv1): Conv(\n",
       "          (conv): Conv2d(384, 128, kernel_size=(1, 1), stride=(1, 1), bias=False)\n",
       "          (bn): BatchNorm2d(128, eps=0.001, momentum=0.03, affine=True, track_running_stats=True)\n",
       "          (act): SiLU(inplace=True)\n",
       "        )\n",
       "        (cv2): Conv(\n",
       "          (conv): Conv2d(192, 128, kernel_size=(1, 1), stride=(1, 1), bias=False)\n",
       "          (bn): BatchNorm2d(128, eps=0.001, momentum=0.03, affine=True, track_running_stats=True)\n",
       "          (act): SiLU(inplace=True)\n",
       "        )\n",
       "        (m): ModuleList(\n",
       "          (0): Bottleneck(\n",
       "            (cv1): Conv(\n",
       "              (conv): Conv2d(64, 32, kernel_size=(3, 3), stride=(1, 1), padding=(1, 1), bias=False)\n",
       "              (bn): BatchNorm2d(32, eps=0.001, momentum=0.03, affine=True, track_running_stats=True)\n",
       "              (act): SiLU(inplace=True)\n",
       "            )\n",
       "            (cv2): Conv(\n",
       "              (conv): Conv2d(32, 64, kernel_size=(3, 3), stride=(1, 1), padding=(1, 1), bias=False)\n",
       "              (bn): BatchNorm2d(64, eps=0.001, momentum=0.03, affine=True, track_running_stats=True)\n",
       "              (act): SiLU(inplace=True)\n",
       "            )\n",
       "          )\n",
       "        )\n",
       "      )\n",
       "      (14): Upsample(scale_factor=2.0, mode='nearest')\n",
       "      (15): Concat()\n",
       "      (16): C3k2(\n",
       "        (cv1): Conv(\n",
       "          (conv): Conv2d(256, 64, kernel_size=(1, 1), stride=(1, 1), bias=False)\n",
       "          (bn): BatchNorm2d(64, eps=0.001, momentum=0.03, affine=True, track_running_stats=True)\n",
       "          (act): SiLU(inplace=True)\n",
       "        )\n",
       "        (cv2): Conv(\n",
       "          (conv): Conv2d(96, 64, kernel_size=(1, 1), stride=(1, 1), bias=False)\n",
       "          (bn): BatchNorm2d(64, eps=0.001, momentum=0.03, affine=True, track_running_stats=True)\n",
       "          (act): SiLU(inplace=True)\n",
       "        )\n",
       "        (m): ModuleList(\n",
       "          (0): Bottleneck(\n",
       "            (cv1): Conv(\n",
       "              (conv): Conv2d(32, 16, kernel_size=(3, 3), stride=(1, 1), padding=(1, 1), bias=False)\n",
       "              (bn): BatchNorm2d(16, eps=0.001, momentum=0.03, affine=True, track_running_stats=True)\n",
       "              (act): SiLU(inplace=True)\n",
       "            )\n",
       "            (cv2): Conv(\n",
       "              (conv): Conv2d(16, 32, kernel_size=(3, 3), stride=(1, 1), padding=(1, 1), bias=False)\n",
       "              (bn): BatchNorm2d(32, eps=0.001, momentum=0.03, affine=True, track_running_stats=True)\n",
       "              (act): SiLU(inplace=True)\n",
       "            )\n",
       "          )\n",
       "        )\n",
       "      )\n",
       "      (17): Conv(\n",
       "        (conv): Conv2d(64, 64, kernel_size=(3, 3), stride=(2, 2), padding=(1, 1), bias=False)\n",
       "        (bn): BatchNorm2d(64, eps=0.001, momentum=0.03, affine=True, track_running_stats=True)\n",
       "        (act): SiLU(inplace=True)\n",
       "      )\n",
       "      (18): Concat()\n",
       "      (19): C3k2(\n",
       "        (cv1): Conv(\n",
       "          (conv): Conv2d(192, 128, kernel_size=(1, 1), stride=(1, 1), bias=False)\n",
       "          (bn): BatchNorm2d(128, eps=0.001, momentum=0.03, affine=True, track_running_stats=True)\n",
       "          (act): SiLU(inplace=True)\n",
       "        )\n",
       "        (cv2): Conv(\n",
       "          (conv): Conv2d(192, 128, kernel_size=(1, 1), stride=(1, 1), bias=False)\n",
       "          (bn): BatchNorm2d(128, eps=0.001, momentum=0.03, affine=True, track_running_stats=True)\n",
       "          (act): SiLU(inplace=True)\n",
       "        )\n",
       "        (m): ModuleList(\n",
       "          (0): Bottleneck(\n",
       "            (cv1): Conv(\n",
       "              (conv): Conv2d(64, 32, kernel_size=(3, 3), stride=(1, 1), padding=(1, 1), bias=False)\n",
       "              (bn): BatchNorm2d(32, eps=0.001, momentum=0.03, affine=True, track_running_stats=True)\n",
       "              (act): SiLU(inplace=True)\n",
       "            )\n",
       "            (cv2): Conv(\n",
       "              (conv): Conv2d(32, 64, kernel_size=(3, 3), stride=(1, 1), padding=(1, 1), bias=False)\n",
       "              (bn): BatchNorm2d(64, eps=0.001, momentum=0.03, affine=True, track_running_stats=True)\n",
       "              (act): SiLU(inplace=True)\n",
       "            )\n",
       "          )\n",
       "        )\n",
       "      )\n",
       "      (20): Conv(\n",
       "        (conv): Conv2d(128, 128, kernel_size=(3, 3), stride=(2, 2), padding=(1, 1), bias=False)\n",
       "        (bn): BatchNorm2d(128, eps=0.001, momentum=0.03, affine=True, track_running_stats=True)\n",
       "        (act): SiLU(inplace=True)\n",
       "      )\n",
       "      (21): Concat()\n",
       "      (22): C3k2(\n",
       "        (cv1): Conv(\n",
       "          (conv): Conv2d(384, 256, kernel_size=(1, 1), stride=(1, 1), bias=False)\n",
       "          (bn): BatchNorm2d(256, eps=0.001, momentum=0.03, affine=True, track_running_stats=True)\n",
       "          (act): SiLU(inplace=True)\n",
       "        )\n",
       "        (cv2): Conv(\n",
       "          (conv): Conv2d(384, 256, kernel_size=(1, 1), stride=(1, 1), bias=False)\n",
       "          (bn): BatchNorm2d(256, eps=0.001, momentum=0.03, affine=True, track_running_stats=True)\n",
       "          (act): SiLU(inplace=True)\n",
       "        )\n",
       "        (m): ModuleList(\n",
       "          (0): C3k(\n",
       "            (cv1): Conv(\n",
       "              (conv): Conv2d(128, 64, kernel_size=(1, 1), stride=(1, 1), bias=False)\n",
       "              (bn): BatchNorm2d(64, eps=0.001, momentum=0.03, affine=True, track_running_stats=True)\n",
       "              (act): SiLU(inplace=True)\n",
       "            )\n",
       "            (cv2): Conv(\n",
       "              (conv): Conv2d(128, 64, kernel_size=(1, 1), stride=(1, 1), bias=False)\n",
       "              (bn): BatchNorm2d(64, eps=0.001, momentum=0.03, affine=True, track_running_stats=True)\n",
       "              (act): SiLU(inplace=True)\n",
       "            )\n",
       "            (cv3): Conv(\n",
       "              (conv): Conv2d(128, 128, kernel_size=(1, 1), stride=(1, 1), bias=False)\n",
       "              (bn): BatchNorm2d(128, eps=0.001, momentum=0.03, affine=True, track_running_stats=True)\n",
       "              (act): SiLU(inplace=True)\n",
       "            )\n",
       "            (m): Sequential(\n",
       "              (0): Bottleneck(\n",
       "                (cv1): Conv(\n",
       "                  (conv): Conv2d(64, 64, kernel_size=(3, 3), stride=(1, 1), padding=(1, 1), bias=False)\n",
       "                  (bn): BatchNorm2d(64, eps=0.001, momentum=0.03, affine=True, track_running_stats=True)\n",
       "                  (act): SiLU(inplace=True)\n",
       "                )\n",
       "                (cv2): Conv(\n",
       "                  (conv): Conv2d(64, 64, kernel_size=(3, 3), stride=(1, 1), padding=(1, 1), bias=False)\n",
       "                  (bn): BatchNorm2d(64, eps=0.001, momentum=0.03, affine=True, track_running_stats=True)\n",
       "                  (act): SiLU(inplace=True)\n",
       "                )\n",
       "              )\n",
       "              (1): Bottleneck(\n",
       "                (cv1): Conv(\n",
       "                  (conv): Conv2d(64, 64, kernel_size=(3, 3), stride=(1, 1), padding=(1, 1), bias=False)\n",
       "                  (bn): BatchNorm2d(64, eps=0.001, momentum=0.03, affine=True, track_running_stats=True)\n",
       "                  (act): SiLU(inplace=True)\n",
       "                )\n",
       "                (cv2): Conv(\n",
       "                  (conv): Conv2d(64, 64, kernel_size=(3, 3), stride=(1, 1), padding=(1, 1), bias=False)\n",
       "                  (bn): BatchNorm2d(64, eps=0.001, momentum=0.03, affine=True, track_running_stats=True)\n",
       "                  (act): SiLU(inplace=True)\n",
       "                )\n",
       "              )\n",
       "            )\n",
       "          )\n",
       "        )\n",
       "      )\n",
       "      (23): Segment(\n",
       "        (cv2): ModuleList(\n",
       "          (0): Sequential(\n",
       "            (0): Conv(\n",
       "              (conv): Conv2d(64, 64, kernel_size=(3, 3), stride=(1, 1), padding=(1, 1), bias=False)\n",
       "              (bn): BatchNorm2d(64, eps=0.001, momentum=0.03, affine=True, track_running_stats=True)\n",
       "              (act): SiLU(inplace=True)\n",
       "            )\n",
       "            (1): Conv(\n",
       "              (conv): Conv2d(64, 64, kernel_size=(3, 3), stride=(1, 1), padding=(1, 1), bias=False)\n",
       "              (bn): BatchNorm2d(64, eps=0.001, momentum=0.03, affine=True, track_running_stats=True)\n",
       "              (act): SiLU(inplace=True)\n",
       "            )\n",
       "            (2): Conv2d(64, 64, kernel_size=(1, 1), stride=(1, 1))\n",
       "          )\n",
       "          (1): Sequential(\n",
       "            (0): Conv(\n",
       "              (conv): Conv2d(128, 64, kernel_size=(3, 3), stride=(1, 1), padding=(1, 1), bias=False)\n",
       "              (bn): BatchNorm2d(64, eps=0.001, momentum=0.03, affine=True, track_running_stats=True)\n",
       "              (act): SiLU(inplace=True)\n",
       "            )\n",
       "            (1): Conv(\n",
       "              (conv): Conv2d(64, 64, kernel_size=(3, 3), stride=(1, 1), padding=(1, 1), bias=False)\n",
       "              (bn): BatchNorm2d(64, eps=0.001, momentum=0.03, affine=True, track_running_stats=True)\n",
       "              (act): SiLU(inplace=True)\n",
       "            )\n",
       "            (2): Conv2d(64, 64, kernel_size=(1, 1), stride=(1, 1))\n",
       "          )\n",
       "          (2): Sequential(\n",
       "            (0): Conv(\n",
       "              (conv): Conv2d(256, 64, kernel_size=(3, 3), stride=(1, 1), padding=(1, 1), bias=False)\n",
       "              (bn): BatchNorm2d(64, eps=0.001, momentum=0.03, affine=True, track_running_stats=True)\n",
       "              (act): SiLU(inplace=True)\n",
       "            )\n",
       "            (1): Conv(\n",
       "              (conv): Conv2d(64, 64, kernel_size=(3, 3), stride=(1, 1), padding=(1, 1), bias=False)\n",
       "              (bn): BatchNorm2d(64, eps=0.001, momentum=0.03, affine=True, track_running_stats=True)\n",
       "              (act): SiLU(inplace=True)\n",
       "            )\n",
       "            (2): Conv2d(64, 64, kernel_size=(1, 1), stride=(1, 1))\n",
       "          )\n",
       "        )\n",
       "        (cv3): ModuleList(\n",
       "          (0): Sequential(\n",
       "            (0): Sequential(\n",
       "              (0): DWConv(\n",
       "                (conv): Conv2d(64, 64, kernel_size=(3, 3), stride=(1, 1), padding=(1, 1), groups=64, bias=False)\n",
       "                (bn): BatchNorm2d(64, eps=0.001, momentum=0.03, affine=True, track_running_stats=True)\n",
       "                (act): SiLU(inplace=True)\n",
       "              )\n",
       "              (1): Conv(\n",
       "                (conv): Conv2d(64, 64, kernel_size=(1, 1), stride=(1, 1), bias=False)\n",
       "                (bn): BatchNorm2d(64, eps=0.001, momentum=0.03, affine=True, track_running_stats=True)\n",
       "                (act): SiLU(inplace=True)\n",
       "              )\n",
       "            )\n",
       "            (1): Sequential(\n",
       "              (0): DWConv(\n",
       "                (conv): Conv2d(64, 64, kernel_size=(3, 3), stride=(1, 1), padding=(1, 1), groups=64, bias=False)\n",
       "                (bn): BatchNorm2d(64, eps=0.001, momentum=0.03, affine=True, track_running_stats=True)\n",
       "                (act): SiLU(inplace=True)\n",
       "              )\n",
       "              (1): Conv(\n",
       "                (conv): Conv2d(64, 64, kernel_size=(1, 1), stride=(1, 1), bias=False)\n",
       "                (bn): BatchNorm2d(64, eps=0.001, momentum=0.03, affine=True, track_running_stats=True)\n",
       "                (act): SiLU(inplace=True)\n",
       "              )\n",
       "            )\n",
       "            (2): Conv2d(64, 1, kernel_size=(1, 1), stride=(1, 1))\n",
       "          )\n",
       "          (1): Sequential(\n",
       "            (0): Sequential(\n",
       "              (0): DWConv(\n",
       "                (conv): Conv2d(128, 128, kernel_size=(3, 3), stride=(1, 1), padding=(1, 1), groups=128, bias=False)\n",
       "                (bn): BatchNorm2d(128, eps=0.001, momentum=0.03, affine=True, track_running_stats=True)\n",
       "                (act): SiLU(inplace=True)\n",
       "              )\n",
       "              (1): Conv(\n",
       "                (conv): Conv2d(128, 64, kernel_size=(1, 1), stride=(1, 1), bias=False)\n",
       "                (bn): BatchNorm2d(64, eps=0.001, momentum=0.03, affine=True, track_running_stats=True)\n",
       "                (act): SiLU(inplace=True)\n",
       "              )\n",
       "            )\n",
       "            (1): Sequential(\n",
       "              (0): DWConv(\n",
       "                (conv): Conv2d(64, 64, kernel_size=(3, 3), stride=(1, 1), padding=(1, 1), groups=64, bias=False)\n",
       "                (bn): BatchNorm2d(64, eps=0.001, momentum=0.03, affine=True, track_running_stats=True)\n",
       "                (act): SiLU(inplace=True)\n",
       "              )\n",
       "              (1): Conv(\n",
       "                (conv): Conv2d(64, 64, kernel_size=(1, 1), stride=(1, 1), bias=False)\n",
       "                (bn): BatchNorm2d(64, eps=0.001, momentum=0.03, affine=True, track_running_stats=True)\n",
       "                (act): SiLU(inplace=True)\n",
       "              )\n",
       "            )\n",
       "            (2): Conv2d(64, 1, kernel_size=(1, 1), stride=(1, 1))\n",
       "          )\n",
       "          (2): Sequential(\n",
       "            (0): Sequential(\n",
       "              (0): DWConv(\n",
       "                (conv): Conv2d(256, 256, kernel_size=(3, 3), stride=(1, 1), padding=(1, 1), groups=256, bias=False)\n",
       "                (bn): BatchNorm2d(256, eps=0.001, momentum=0.03, affine=True, track_running_stats=True)\n",
       "                (act): SiLU(inplace=True)\n",
       "              )\n",
       "              (1): Conv(\n",
       "                (conv): Conv2d(256, 64, kernel_size=(1, 1), stride=(1, 1), bias=False)\n",
       "                (bn): BatchNorm2d(64, eps=0.001, momentum=0.03, affine=True, track_running_stats=True)\n",
       "                (act): SiLU(inplace=True)\n",
       "              )\n",
       "            )\n",
       "            (1): Sequential(\n",
       "              (0): DWConv(\n",
       "                (conv): Conv2d(64, 64, kernel_size=(3, 3), stride=(1, 1), padding=(1, 1), groups=64, bias=False)\n",
       "                (bn): BatchNorm2d(64, eps=0.001, momentum=0.03, affine=True, track_running_stats=True)\n",
       "                (act): SiLU(inplace=True)\n",
       "              )\n",
       "              (1): Conv(\n",
       "                (conv): Conv2d(64, 64, kernel_size=(1, 1), stride=(1, 1), bias=False)\n",
       "                (bn): BatchNorm2d(64, eps=0.001, momentum=0.03, affine=True, track_running_stats=True)\n",
       "                (act): SiLU(inplace=True)\n",
       "              )\n",
       "            )\n",
       "            (2): Conv2d(64, 1, kernel_size=(1, 1), stride=(1, 1))\n",
       "          )\n",
       "        )\n",
       "        (dfl): DFL(\n",
       "          (conv): Conv2d(16, 1, kernel_size=(1, 1), stride=(1, 1), bias=False)\n",
       "        )\n",
       "        (proto): Proto(\n",
       "          (cv1): Conv(\n",
       "            (conv): Conv2d(64, 64, kernel_size=(3, 3), stride=(1, 1), padding=(1, 1), bias=False)\n",
       "            (bn): BatchNorm2d(64, eps=0.001, momentum=0.03, affine=True, track_running_stats=True)\n",
       "            (act): SiLU(inplace=True)\n",
       "          )\n",
       "          (upsample): ConvTranspose2d(64, 64, kernel_size=(2, 2), stride=(2, 2))\n",
       "          (cv2): Conv(\n",
       "            (conv): Conv2d(64, 64, kernel_size=(3, 3), stride=(1, 1), padding=(1, 1), bias=False)\n",
       "            (bn): BatchNorm2d(64, eps=0.001, momentum=0.03, affine=True, track_running_stats=True)\n",
       "            (act): SiLU(inplace=True)\n",
       "          )\n",
       "          (cv3): Conv(\n",
       "            (conv): Conv2d(64, 32, kernel_size=(1, 1), stride=(1, 1), bias=False)\n",
       "            (bn): BatchNorm2d(32, eps=0.001, momentum=0.03, affine=True, track_running_stats=True)\n",
       "            (act): SiLU(inplace=True)\n",
       "          )\n",
       "        )\n",
       "        (cv4): ModuleList(\n",
       "          (0): Sequential(\n",
       "            (0): Conv(\n",
       "              (conv): Conv2d(64, 32, kernel_size=(3, 3), stride=(1, 1), padding=(1, 1), bias=False)\n",
       "              (bn): BatchNorm2d(32, eps=0.001, momentum=0.03, affine=True, track_running_stats=True)\n",
       "              (act): SiLU(inplace=True)\n",
       "            )\n",
       "            (1): Conv(\n",
       "              (conv): Conv2d(32, 32, kernel_size=(3, 3), stride=(1, 1), padding=(1, 1), bias=False)\n",
       "              (bn): BatchNorm2d(32, eps=0.001, momentum=0.03, affine=True, track_running_stats=True)\n",
       "              (act): SiLU(inplace=True)\n",
       "            )\n",
       "            (2): Conv2d(32, 32, kernel_size=(1, 1), stride=(1, 1))\n",
       "          )\n",
       "          (1): Sequential(\n",
       "            (0): Conv(\n",
       "              (conv): Conv2d(128, 32, kernel_size=(3, 3), stride=(1, 1), padding=(1, 1), bias=False)\n",
       "              (bn): BatchNorm2d(32, eps=0.001, momentum=0.03, affine=True, track_running_stats=True)\n",
       "              (act): SiLU(inplace=True)\n",
       "            )\n",
       "            (1): Conv(\n",
       "              (conv): Conv2d(32, 32, kernel_size=(3, 3), stride=(1, 1), padding=(1, 1), bias=False)\n",
       "              (bn): BatchNorm2d(32, eps=0.001, momentum=0.03, affine=True, track_running_stats=True)\n",
       "              (act): SiLU(inplace=True)\n",
       "            )\n",
       "            (2): Conv2d(32, 32, kernel_size=(1, 1), stride=(1, 1))\n",
       "          )\n",
       "          (2): Sequential(\n",
       "            (0): Conv(\n",
       "              (conv): Conv2d(256, 32, kernel_size=(3, 3), stride=(1, 1), padding=(1, 1), bias=False)\n",
       "              (bn): BatchNorm2d(32, eps=0.001, momentum=0.03, affine=True, track_running_stats=True)\n",
       "              (act): SiLU(inplace=True)\n",
       "            )\n",
       "            (1): Conv(\n",
       "              (conv): Conv2d(32, 32, kernel_size=(3, 3), stride=(1, 1), padding=(1, 1), bias=False)\n",
       "              (bn): BatchNorm2d(32, eps=0.001, momentum=0.03, affine=True, track_running_stats=True)\n",
       "              (act): SiLU(inplace=True)\n",
       "            )\n",
       "            (2): Conv2d(32, 32, kernel_size=(1, 1), stride=(1, 1))\n",
       "          )\n",
       "        )\n",
       "      )\n",
       "    )\n",
       "  )\n",
       ")"
      ]
     },
     "execution_count": 34,
     "metadata": {},
     "output_type": "execute_result"
    }
   ],
   "source": [
    "model = YOLO(\"checkpoint/fighter_4.pt\")\n",
    "model.to(DEVICE)"
   ]
  },
  {
   "cell_type": "markdown",
   "metadata": {},
   "source": [
    "Video Inference"
   ]
  },
  {
   "cell_type": "code",
   "execution_count": 59,
   "metadata": {},
   "outputs": [],
   "source": [
    "input_path = \"video_input/fight_5.mp4\"\n",
    "output_path = \"video_output/fight_5.avi\"\n",
    "\n",
    "cap = cv2.VideoCapture(input_path)\n",
    "\n",
    "fps = int(cap.get(cv2.CAP_PROP_FPS))\n",
    "width = int(cap.get(cv2.CAP_PROP_FRAME_WIDTH))\n",
    "height = int(cap.get(cv2.CAP_PROP_FRAME_HEIGHT))\n",
    "fourcc = cv2.VideoWriter_fourcc(*'XVID')\n",
    "out = cv2.VideoWriter(output_path, fourcc, fps, (width, height))\n",
    "\n",
    "results = model.track(source=input_path, task=\"segment\", stream=True)\n"
   ]
  },
  {
   "cell_type": "code",
   "execution_count": 60,
   "metadata": {},
   "outputs": [
    {
     "name": "stdout",
     "output_type": "stream",
     "text": [
      "\n",
      "video 1/1 (frame 1/3810) /home/hatsu/coding/CapProj/TestSeg_1/video_input/fight_5.mp4: 384x640 2 Fighters, 50.3ms\n",
      "video 1/1 (frame 2/3810) /home/hatsu/coding/CapProj/TestSeg_1/video_input/fight_5.mp4: 384x640 2 Fighters, 102.3ms\n",
      "video 1/1 (frame 3/3810) /home/hatsu/coding/CapProj/TestSeg_1/video_input/fight_5.mp4: 384x640 2 Fighters, 39.5ms\n",
      "video 1/1 (frame 4/3810) /home/hatsu/coding/CapProj/TestSeg_1/video_input/fight_5.mp4: 384x640 2 Fighters, 14.7ms\n",
      "video 1/1 (frame 5/3810) /home/hatsu/coding/CapProj/TestSeg_1/video_input/fight_5.mp4: 384x640 2 Fighters, 14.8ms\n",
      "video 1/1 (frame 6/3810) /home/hatsu/coding/CapProj/TestSeg_1/video_input/fight_5.mp4: 384x640 2 Fighters, 35.7ms\n",
      "video 1/1 (frame 7/3810) /home/hatsu/coding/CapProj/TestSeg_1/video_input/fight_5.mp4: 384x640 2 Fighters, 16.3ms\n",
      "video 1/1 (frame 8/3810) /home/hatsu/coding/CapProj/TestSeg_1/video_input/fight_5.mp4: 384x640 2 Fighters, 16.1ms\n",
      "video 1/1 (frame 9/3810) /home/hatsu/coding/CapProj/TestSeg_1/video_input/fight_5.mp4: 384x640 2 Fighters, 23.1ms\n",
      "video 1/1 (frame 10/3810) /home/hatsu/coding/CapProj/TestSeg_1/video_input/fight_5.mp4: 384x640 2 Fighters, 15.0ms\n",
      "video 1/1 (frame 11/3810) /home/hatsu/coding/CapProj/TestSeg_1/video_input/fight_5.mp4: 384x640 2 Fighters, 28.1ms\n",
      "video 1/1 (frame 12/3810) /home/hatsu/coding/CapProj/TestSeg_1/video_input/fight_5.mp4: 384x640 2 Fighters, 13.8ms\n",
      "video 1/1 (frame 13/3810) /home/hatsu/coding/CapProj/TestSeg_1/video_input/fight_5.mp4: 384x640 2 Fighters, 13.0ms\n",
      "video 1/1 (frame 14/3810) /home/hatsu/coding/CapProj/TestSeg_1/video_input/fight_5.mp4: 384x640 2 Fighters, 16.0ms\n",
      "video 1/1 (frame 15/3810) /home/hatsu/coding/CapProj/TestSeg_1/video_input/fight_5.mp4: 384x640 2 Fighters, 15.8ms\n",
      "video 1/1 (frame 16/3810) /home/hatsu/coding/CapProj/TestSeg_1/video_input/fight_5.mp4: 384x640 2 Fighters, 13.2ms\n",
      "video 1/1 (frame 17/3810) /home/hatsu/coding/CapProj/TestSeg_1/video_input/fight_5.mp4: 384x640 2 Fighters, 14.7ms\n",
      "video 1/1 (frame 18/3810) /home/hatsu/coding/CapProj/TestSeg_1/video_input/fight_5.mp4: 384x640 2 Fighters, 15.9ms\n",
      "video 1/1 (frame 19/3810) /home/hatsu/coding/CapProj/TestSeg_1/video_input/fight_5.mp4: 384x640 2 Fighters, 13.1ms\n",
      "video 1/1 (frame 20/3810) /home/hatsu/coding/CapProj/TestSeg_1/video_input/fight_5.mp4: 384x640 2 Fighters, 14.1ms\n",
      "video 1/1 (frame 21/3810) /home/hatsu/coding/CapProj/TestSeg_1/video_input/fight_5.mp4: 384x640 2 Fighters, 16.9ms\n",
      "video 1/1 (frame 22/3810) /home/hatsu/coding/CapProj/TestSeg_1/video_input/fight_5.mp4: 384x640 2 Fighters, 14.9ms\n",
      "video 1/1 (frame 23/3810) /home/hatsu/coding/CapProj/TestSeg_1/video_input/fight_5.mp4: 384x640 2 Fighters, 13.8ms\n",
      "video 1/1 (frame 24/3810) /home/hatsu/coding/CapProj/TestSeg_1/video_input/fight_5.mp4: 384x640 2 Fighters, 18.5ms\n",
      "video 1/1 (frame 25/3810) /home/hatsu/coding/CapProj/TestSeg_1/video_input/fight_5.mp4: 384x640 2 Fighters, 18.2ms\n",
      "video 1/1 (frame 26/3810) /home/hatsu/coding/CapProj/TestSeg_1/video_input/fight_5.mp4: 384x640 2 Fighters, 14.3ms\n",
      "video 1/1 (frame 27/3810) /home/hatsu/coding/CapProj/TestSeg_1/video_input/fight_5.mp4: 384x640 2 Fighters, 14.6ms\n",
      "video 1/1 (frame 28/3810) /home/hatsu/coding/CapProj/TestSeg_1/video_input/fight_5.mp4: 384x640 2 Fighters, 14.2ms\n",
      "video 1/1 (frame 29/3810) /home/hatsu/coding/CapProj/TestSeg_1/video_input/fight_5.mp4: 384x640 2 Fighters, 13.5ms\n",
      "video 1/1 (frame 30/3810) /home/hatsu/coding/CapProj/TestSeg_1/video_input/fight_5.mp4: 384x640 2 Fighters, 12.9ms\n",
      "video 1/1 (frame 31/3810) /home/hatsu/coding/CapProj/TestSeg_1/video_input/fight_5.mp4: 384x640 2 Fighters, 13.6ms\n",
      "video 1/1 (frame 32/3810) /home/hatsu/coding/CapProj/TestSeg_1/video_input/fight_5.mp4: 384x640 2 Fighters, 13.4ms\n",
      "video 1/1 (frame 33/3810) /home/hatsu/coding/CapProj/TestSeg_1/video_input/fight_5.mp4: 384x640 2 Fighters, 15.2ms\n",
      "video 1/1 (frame 34/3810) /home/hatsu/coding/CapProj/TestSeg_1/video_input/fight_5.mp4: 384x640 2 Fighters, 12.9ms\n",
      "video 1/1 (frame 35/3810) /home/hatsu/coding/CapProj/TestSeg_1/video_input/fight_5.mp4: 384x640 2 Fighters, 13.3ms\n",
      "video 1/1 (frame 36/3810) /home/hatsu/coding/CapProj/TestSeg_1/video_input/fight_5.mp4: 384x640 2 Fighters, 13.8ms\n",
      "video 1/1 (frame 37/3810) /home/hatsu/coding/CapProj/TestSeg_1/video_input/fight_5.mp4: 384x640 2 Fighters, 22.9ms\n",
      "video 1/1 (frame 38/3810) /home/hatsu/coding/CapProj/TestSeg_1/video_input/fight_5.mp4: 384x640 1 Fighter, 14.3ms\n",
      "video 1/1 (frame 39/3810) /home/hatsu/coding/CapProj/TestSeg_1/video_input/fight_5.mp4: 384x640 1 Fighter, 15.3ms\n",
      "video 1/1 (frame 40/3810) /home/hatsu/coding/CapProj/TestSeg_1/video_input/fight_5.mp4: 384x640 1 Fighter, 13.1ms\n",
      "video 1/1 (frame 41/3810) /home/hatsu/coding/CapProj/TestSeg_1/video_input/fight_5.mp4: 384x640 1 Fighter, 15.8ms\n",
      "video 1/1 (frame 42/3810) /home/hatsu/coding/CapProj/TestSeg_1/video_input/fight_5.mp4: 384x640 1 Fighter, 14.1ms\n",
      "video 1/1 (frame 43/3810) /home/hatsu/coding/CapProj/TestSeg_1/video_input/fight_5.mp4: 384x640 1 Fighter, 14.3ms\n",
      "video 1/1 (frame 44/3810) /home/hatsu/coding/CapProj/TestSeg_1/video_input/fight_5.mp4: 384x640 1 Fighter, 15.5ms\n",
      "video 1/1 (frame 45/3810) /home/hatsu/coding/CapProj/TestSeg_1/video_input/fight_5.mp4: 384x640 1 Fighter, 29.5ms\n",
      "video 1/1 (frame 46/3810) /home/hatsu/coding/CapProj/TestSeg_1/video_input/fight_5.mp4: 384x640 2 Fighters, 13.4ms\n",
      "video 1/1 (frame 47/3810) /home/hatsu/coding/CapProj/TestSeg_1/video_input/fight_5.mp4: 384x640 2 Fighters, 14.8ms\n",
      "video 1/1 (frame 48/3810) /home/hatsu/coding/CapProj/TestSeg_1/video_input/fight_5.mp4: 384x640 2 Fighters, 17.1ms\n",
      "video 1/1 (frame 49/3810) /home/hatsu/coding/CapProj/TestSeg_1/video_input/fight_5.mp4: 384x640 2 Fighters, 13.2ms\n",
      "video 1/1 (frame 50/3810) /home/hatsu/coding/CapProj/TestSeg_1/video_input/fight_5.mp4: 384x640 2 Fighters, 15.9ms\n",
      "video 1/1 (frame 51/3810) /home/hatsu/coding/CapProj/TestSeg_1/video_input/fight_5.mp4: 384x640 2 Fighters, 17.6ms\n",
      "video 1/1 (frame 52/3810) /home/hatsu/coding/CapProj/TestSeg_1/video_input/fight_5.mp4: 384x640 2 Fighters, 13.2ms\n",
      "video 1/1 (frame 53/3810) /home/hatsu/coding/CapProj/TestSeg_1/video_input/fight_5.mp4: 384x640 2 Fighters, 12.8ms\n",
      "video 1/1 (frame 54/3810) /home/hatsu/coding/CapProj/TestSeg_1/video_input/fight_5.mp4: 384x640 2 Fighters, 13.6ms\n",
      "video 1/1 (frame 55/3810) /home/hatsu/coding/CapProj/TestSeg_1/video_input/fight_5.mp4: 384x640 2 Fighters, 14.1ms\n",
      "video 1/1 (frame 56/3810) /home/hatsu/coding/CapProj/TestSeg_1/video_input/fight_5.mp4: 384x640 2 Fighters, 13.8ms\n",
      "video 1/1 (frame 57/3810) /home/hatsu/coding/CapProj/TestSeg_1/video_input/fight_5.mp4: 384x640 2 Fighters, 13.4ms\n",
      "video 1/1 (frame 58/3810) /home/hatsu/coding/CapProj/TestSeg_1/video_input/fight_5.mp4: 384x640 2 Fighters, 13.7ms\n",
      "video 1/1 (frame 59/3810) /home/hatsu/coding/CapProj/TestSeg_1/video_input/fight_5.mp4: 384x640 2 Fighters, 14.1ms\n",
      "video 1/1 (frame 60/3810) /home/hatsu/coding/CapProj/TestSeg_1/video_input/fight_5.mp4: 384x640 2 Fighters, 12.5ms\n",
      "video 1/1 (frame 61/3810) /home/hatsu/coding/CapProj/TestSeg_1/video_input/fight_5.mp4: 384x640 2 Fighters, 13.5ms\n",
      "video 1/1 (frame 62/3810) /home/hatsu/coding/CapProj/TestSeg_1/video_input/fight_5.mp4: 384x640 2 Fighters, 32.9ms\n",
      "video 1/1 (frame 63/3810) /home/hatsu/coding/CapProj/TestSeg_1/video_input/fight_5.mp4: 384x640 2 Fighters, 16.3ms\n",
      "video 1/1 (frame 64/3810) /home/hatsu/coding/CapProj/TestSeg_1/video_input/fight_5.mp4: 384x640 2 Fighters, 13.5ms\n",
      "video 1/1 (frame 65/3810) /home/hatsu/coding/CapProj/TestSeg_1/video_input/fight_5.mp4: 384x640 2 Fighters, 44.5ms\n",
      "video 1/1 (frame 66/3810) /home/hatsu/coding/CapProj/TestSeg_1/video_input/fight_5.mp4: 384x640 2 Fighters, 32.9ms\n",
      "video 1/1 (frame 67/3810) /home/hatsu/coding/CapProj/TestSeg_1/video_input/fight_5.mp4: 384x640 2 Fighters, 22.9ms\n",
      "video 1/1 (frame 68/3810) /home/hatsu/coding/CapProj/TestSeg_1/video_input/fight_5.mp4: 384x640 2 Fighters, 13.5ms\n",
      "video 1/1 (frame 69/3810) /home/hatsu/coding/CapProj/TestSeg_1/video_input/fight_5.mp4: 384x640 2 Fighters, 13.9ms\n",
      "video 1/1 (frame 70/3810) /home/hatsu/coding/CapProj/TestSeg_1/video_input/fight_5.mp4: 384x640 2 Fighters, 12.8ms\n",
      "video 1/1 (frame 71/3810) /home/hatsu/coding/CapProj/TestSeg_1/video_input/fight_5.mp4: 384x640 2 Fighters, 14.7ms\n",
      "video 1/1 (frame 72/3810) /home/hatsu/coding/CapProj/TestSeg_1/video_input/fight_5.mp4: 384x640 2 Fighters, 13.2ms\n",
      "video 1/1 (frame 73/3810) /home/hatsu/coding/CapProj/TestSeg_1/video_input/fight_5.mp4: 384x640 2 Fighters, 13.9ms\n",
      "video 1/1 (frame 74/3810) /home/hatsu/coding/CapProj/TestSeg_1/video_input/fight_5.mp4: 384x640 2 Fighters, 13.9ms\n",
      "video 1/1 (frame 75/3810) /home/hatsu/coding/CapProj/TestSeg_1/video_input/fight_5.mp4: 384x640 2 Fighters, 13.8ms\n",
      "video 1/1 (frame 76/3810) /home/hatsu/coding/CapProj/TestSeg_1/video_input/fight_5.mp4: 384x640 2 Fighters, 14.7ms\n",
      "video 1/1 (frame 77/3810) /home/hatsu/coding/CapProj/TestSeg_1/video_input/fight_5.mp4: 384x640 2 Fighters, 14.7ms\n",
      "video 1/1 (frame 78/3810) /home/hatsu/coding/CapProj/TestSeg_1/video_input/fight_5.mp4: 384x640 2 Fighters, 14.4ms\n",
      "video 1/1 (frame 79/3810) /home/hatsu/coding/CapProj/TestSeg_1/video_input/fight_5.mp4: 384x640 2 Fighters, 16.2ms\n",
      "video 1/1 (frame 80/3810) /home/hatsu/coding/CapProj/TestSeg_1/video_input/fight_5.mp4: 384x640 2 Fighters, 13.5ms\n",
      "video 1/1 (frame 81/3810) /home/hatsu/coding/CapProj/TestSeg_1/video_input/fight_5.mp4: 384x640 2 Fighters, 13.8ms\n",
      "video 1/1 (frame 82/3810) /home/hatsu/coding/CapProj/TestSeg_1/video_input/fight_5.mp4: 384x640 2 Fighters, 14.4ms\n",
      "video 1/1 (frame 83/3810) /home/hatsu/coding/CapProj/TestSeg_1/video_input/fight_5.mp4: 384x640 2 Fighters, 16.0ms\n",
      "video 1/1 (frame 84/3810) /home/hatsu/coding/CapProj/TestSeg_1/video_input/fight_5.mp4: 384x640 2 Fighters, 14.4ms\n",
      "video 1/1 (frame 85/3810) /home/hatsu/coding/CapProj/TestSeg_1/video_input/fight_5.mp4: 384x640 2 Fighters, 13.5ms\n",
      "video 1/1 (frame 86/3810) /home/hatsu/coding/CapProj/TestSeg_1/video_input/fight_5.mp4: 384x640 2 Fighters, 13.8ms\n",
      "video 1/1 (frame 87/3810) /home/hatsu/coding/CapProj/TestSeg_1/video_input/fight_5.mp4: 384x640 2 Fighters, 14.3ms\n",
      "video 1/1 (frame 88/3810) /home/hatsu/coding/CapProj/TestSeg_1/video_input/fight_5.mp4: 384x640 2 Fighters, 17.3ms\n",
      "video 1/1 (frame 89/3810) /home/hatsu/coding/CapProj/TestSeg_1/video_input/fight_5.mp4: 384x640 2 Fighters, 14.0ms\n",
      "video 1/1 (frame 90/3810) /home/hatsu/coding/CapProj/TestSeg_1/video_input/fight_5.mp4: 384x640 2 Fighters, 32.3ms\n",
      "video 1/1 (frame 91/3810) /home/hatsu/coding/CapProj/TestSeg_1/video_input/fight_5.mp4: 384x640 2 Fighters, 14.6ms\n",
      "video 1/1 (frame 92/3810) /home/hatsu/coding/CapProj/TestSeg_1/video_input/fight_5.mp4: 384x640 2 Fighters, 14.2ms\n",
      "video 1/1 (frame 93/3810) /home/hatsu/coding/CapProj/TestSeg_1/video_input/fight_5.mp4: 384x640 2 Fighters, 15.4ms\n",
      "video 1/1 (frame 94/3810) /home/hatsu/coding/CapProj/TestSeg_1/video_input/fight_5.mp4: 384x640 2 Fighters, 13.8ms\n",
      "video 1/1 (frame 95/3810) /home/hatsu/coding/CapProj/TestSeg_1/video_input/fight_5.mp4: 384x640 2 Fighters, 13.4ms\n",
      "video 1/1 (frame 96/3810) /home/hatsu/coding/CapProj/TestSeg_1/video_input/fight_5.mp4: 384x640 2 Fighters, 18.8ms\n",
      "video 1/1 (frame 97/3810) /home/hatsu/coding/CapProj/TestSeg_1/video_input/fight_5.mp4: 384x640 2 Fighters, 20.4ms\n",
      "video 1/1 (frame 98/3810) /home/hatsu/coding/CapProj/TestSeg_1/video_input/fight_5.mp4: 384x640 2 Fighters, 21.6ms\n",
      "video 1/1 (frame 99/3810) /home/hatsu/coding/CapProj/TestSeg_1/video_input/fight_5.mp4: 384x640 2 Fighters, 19.9ms\n",
      "video 1/1 (frame 100/3810) /home/hatsu/coding/CapProj/TestSeg_1/video_input/fight_5.mp4: 384x640 2 Fighters, 20.4ms\n",
      "video 1/1 (frame 101/3810) /home/hatsu/coding/CapProj/TestSeg_1/video_input/fight_5.mp4: 384x640 2 Fighters, 14.4ms\n",
      "video 1/1 (frame 102/3810) /home/hatsu/coding/CapProj/TestSeg_1/video_input/fight_5.mp4: 384x640 2 Fighters, 13.7ms\n",
      "video 1/1 (frame 103/3810) /home/hatsu/coding/CapProj/TestSeg_1/video_input/fight_5.mp4: 384x640 2 Fighters, 15.0ms\n",
      "video 1/1 (frame 104/3810) /home/hatsu/coding/CapProj/TestSeg_1/video_input/fight_5.mp4: 384x640 2 Fighters, 13.5ms\n",
      "video 1/1 (frame 105/3810) /home/hatsu/coding/CapProj/TestSeg_1/video_input/fight_5.mp4: 384x640 2 Fighters, 15.1ms\n",
      "video 1/1 (frame 106/3810) /home/hatsu/coding/CapProj/TestSeg_1/video_input/fight_5.mp4: 384x640 2 Fighters, 13.5ms\n",
      "video 1/1 (frame 107/3810) /home/hatsu/coding/CapProj/TestSeg_1/video_input/fight_5.mp4: 384x640 2 Fighters, 12.6ms\n",
      "video 1/1 (frame 108/3810) /home/hatsu/coding/CapProj/TestSeg_1/video_input/fight_5.mp4: 384x640 2 Fighters, 15.3ms\n",
      "video 1/1 (frame 109/3810) /home/hatsu/coding/CapProj/TestSeg_1/video_input/fight_5.mp4: 384x640 2 Fighters, 14.2ms\n",
      "video 1/1 (frame 110/3810) /home/hatsu/coding/CapProj/TestSeg_1/video_input/fight_5.mp4: 384x640 2 Fighters, 14.1ms\n",
      "video 1/1 (frame 111/3810) /home/hatsu/coding/CapProj/TestSeg_1/video_input/fight_5.mp4: 384x640 2 Fighters, 14.7ms\n",
      "video 1/1 (frame 112/3810) /home/hatsu/coding/CapProj/TestSeg_1/video_input/fight_5.mp4: 384x640 2 Fighters, 12.8ms\n",
      "video 1/1 (frame 113/3810) /home/hatsu/coding/CapProj/TestSeg_1/video_input/fight_5.mp4: 384x640 2 Fighters, 14.2ms\n",
      "video 1/1 (frame 114/3810) /home/hatsu/coding/CapProj/TestSeg_1/video_input/fight_5.mp4: 384x640 3 Fighters, 33.9ms\n",
      "video 1/1 (frame 115/3810) /home/hatsu/coding/CapProj/TestSeg_1/video_input/fight_5.mp4: 384x640 2 Fighters, 13.5ms\n",
      "video 1/1 (frame 116/3810) /home/hatsu/coding/CapProj/TestSeg_1/video_input/fight_5.mp4: 384x640 2 Fighters, 17.3ms\n",
      "video 1/1 (frame 117/3810) /home/hatsu/coding/CapProj/TestSeg_1/video_input/fight_5.mp4: 384x640 2 Fighters, 14.4ms\n",
      "video 1/1 (frame 118/3810) /home/hatsu/coding/CapProj/TestSeg_1/video_input/fight_5.mp4: 384x640 2 Fighters, 13.8ms\n",
      "video 1/1 (frame 119/3810) /home/hatsu/coding/CapProj/TestSeg_1/video_input/fight_5.mp4: 384x640 2 Fighters, 16.2ms\n",
      "video 1/1 (frame 120/3810) /home/hatsu/coding/CapProj/TestSeg_1/video_input/fight_5.mp4: 384x640 2 Fighters, 17.4ms\n",
      "video 1/1 (frame 121/3810) /home/hatsu/coding/CapProj/TestSeg_1/video_input/fight_5.mp4: 384x640 2 Fighters, 14.8ms\n",
      "video 1/1 (frame 122/3810) /home/hatsu/coding/CapProj/TestSeg_1/video_input/fight_5.mp4: 384x640 2 Fighters, 15.7ms\n",
      "video 1/1 (frame 123/3810) /home/hatsu/coding/CapProj/TestSeg_1/video_input/fight_5.mp4: 384x640 2 Fighters, 14.3ms\n",
      "video 1/1 (frame 124/3810) /home/hatsu/coding/CapProj/TestSeg_1/video_input/fight_5.mp4: 384x640 2 Fighters, 14.3ms\n",
      "video 1/1 (frame 125/3810) /home/hatsu/coding/CapProj/TestSeg_1/video_input/fight_5.mp4: 384x640 2 Fighters, 15.1ms\n",
      "video 1/1 (frame 126/3810) /home/hatsu/coding/CapProj/TestSeg_1/video_input/fight_5.mp4: 384x640 2 Fighters, 14.4ms\n",
      "video 1/1 (frame 127/3810) /home/hatsu/coding/CapProj/TestSeg_1/video_input/fight_5.mp4: 384x640 2 Fighters, 18.4ms\n",
      "video 1/1 (frame 128/3810) /home/hatsu/coding/CapProj/TestSeg_1/video_input/fight_5.mp4: 384x640 2 Fighters, 14.2ms\n",
      "video 1/1 (frame 129/3810) /home/hatsu/coding/CapProj/TestSeg_1/video_input/fight_5.mp4: 384x640 2 Fighters, 14.5ms\n",
      "video 1/1 (frame 130/3810) /home/hatsu/coding/CapProj/TestSeg_1/video_input/fight_5.mp4: 384x640 2 Fighters, 15.0ms\n",
      "video 1/1 (frame 131/3810) /home/hatsu/coding/CapProj/TestSeg_1/video_input/fight_5.mp4: 384x640 2 Fighters, 34.1ms\n",
      "video 1/1 (frame 132/3810) /home/hatsu/coding/CapProj/TestSeg_1/video_input/fight_5.mp4: 384x640 2 Fighters, 14.4ms\n",
      "video 1/1 (frame 133/3810) /home/hatsu/coding/CapProj/TestSeg_1/video_input/fight_5.mp4: 384x640 2 Fighters, 14.9ms\n",
      "video 1/1 (frame 134/3810) /home/hatsu/coding/CapProj/TestSeg_1/video_input/fight_5.mp4: 384x640 2 Fighters, 14.1ms\n",
      "video 1/1 (frame 135/3810) /home/hatsu/coding/CapProj/TestSeg_1/video_input/fight_5.mp4: 384x640 2 Fighters, 13.9ms\n",
      "video 1/1 (frame 136/3810) /home/hatsu/coding/CapProj/TestSeg_1/video_input/fight_5.mp4: 384x640 2 Fighters, 14.1ms\n",
      "video 1/1 (frame 137/3810) /home/hatsu/coding/CapProj/TestSeg_1/video_input/fight_5.mp4: 384x640 2 Fighters, 13.9ms\n",
      "video 1/1 (frame 138/3810) /home/hatsu/coding/CapProj/TestSeg_1/video_input/fight_5.mp4: 384x640 2 Fighters, 14.6ms\n",
      "video 1/1 (frame 139/3810) /home/hatsu/coding/CapProj/TestSeg_1/video_input/fight_5.mp4: 384x640 2 Fighters, 14.1ms\n",
      "video 1/1 (frame 140/3810) /home/hatsu/coding/CapProj/TestSeg_1/video_input/fight_5.mp4: 384x640 2 Fighters, 13.3ms\n",
      "video 1/1 (frame 141/3810) /home/hatsu/coding/CapProj/TestSeg_1/video_input/fight_5.mp4: 384x640 2 Fighters, 14.7ms\n",
      "video 1/1 (frame 142/3810) /home/hatsu/coding/CapProj/TestSeg_1/video_input/fight_5.mp4: 384x640 2 Fighters, 14.2ms\n",
      "video 1/1 (frame 143/3810) /home/hatsu/coding/CapProj/TestSeg_1/video_input/fight_5.mp4: 384x640 2 Fighters, 13.6ms\n",
      "video 1/1 (frame 144/3810) /home/hatsu/coding/CapProj/TestSeg_1/video_input/fight_5.mp4: 384x640 2 Fighters, 14.2ms\n",
      "video 1/1 (frame 145/3810) /home/hatsu/coding/CapProj/TestSeg_1/video_input/fight_5.mp4: 384x640 2 Fighters, 23.7ms\n",
      "video 1/1 (frame 146/3810) /home/hatsu/coding/CapProj/TestSeg_1/video_input/fight_5.mp4: 384x640 2 Fighters, 27.0ms\n",
      "video 1/1 (frame 147/3810) /home/hatsu/coding/CapProj/TestSeg_1/video_input/fight_5.mp4: 384x640 2 Fighters, 13.7ms\n",
      "video 1/1 (frame 148/3810) /home/hatsu/coding/CapProj/TestSeg_1/video_input/fight_5.mp4: 384x640 2 Fighters, 13.3ms\n",
      "video 1/1 (frame 149/3810) /home/hatsu/coding/CapProj/TestSeg_1/video_input/fight_5.mp4: 384x640 2 Fighters, 32.5ms\n",
      "video 1/1 (frame 150/3810) /home/hatsu/coding/CapProj/TestSeg_1/video_input/fight_5.mp4: 384x640 2 Fighters, 13.5ms\n",
      "video 1/1 (frame 151/3810) /home/hatsu/coding/CapProj/TestSeg_1/video_input/fight_5.mp4: 384x640 2 Fighters, 14.0ms\n",
      "video 1/1 (frame 152/3810) /home/hatsu/coding/CapProj/TestSeg_1/video_input/fight_5.mp4: 384x640 2 Fighters, 13.9ms\n",
      "video 1/1 (frame 153/3810) /home/hatsu/coding/CapProj/TestSeg_1/video_input/fight_5.mp4: 384x640 2 Fighters, 42.3ms\n",
      "video 1/1 (frame 154/3810) /home/hatsu/coding/CapProj/TestSeg_1/video_input/fight_5.mp4: 384x640 2 Fighters, 25.6ms\n",
      "video 1/1 (frame 155/3810) /home/hatsu/coding/CapProj/TestSeg_1/video_input/fight_5.mp4: 384x640 2 Fighters, 33.4ms\n",
      "video 1/1 (frame 156/3810) /home/hatsu/coding/CapProj/TestSeg_1/video_input/fight_5.mp4: 384x640 2 Fighters, 19.7ms\n",
      "video 1/1 (frame 157/3810) /home/hatsu/coding/CapProj/TestSeg_1/video_input/fight_5.mp4: 384x640 2 Fighters, 18.8ms\n",
      "video 1/1 (frame 158/3810) /home/hatsu/coding/CapProj/TestSeg_1/video_input/fight_5.mp4: 384x640 2 Fighters, 19.9ms\n",
      "video 1/1 (frame 159/3810) /home/hatsu/coding/CapProj/TestSeg_1/video_input/fight_5.mp4: 384x640 3 Fighters, 34.4ms\n",
      "video 1/1 (frame 160/3810) /home/hatsu/coding/CapProj/TestSeg_1/video_input/fight_5.mp4: 384x640 2 Fighters, 43.6ms\n",
      "video 1/1 (frame 161/3810) /home/hatsu/coding/CapProj/TestSeg_1/video_input/fight_5.mp4: 384x640 2 Fighters, 28.6ms\n",
      "video 1/1 (frame 162/3810) /home/hatsu/coding/CapProj/TestSeg_1/video_input/fight_5.mp4: 384x640 2 Fighters, 14.6ms\n",
      "video 1/1 (frame 163/3810) /home/hatsu/coding/CapProj/TestSeg_1/video_input/fight_5.mp4: 384x640 2 Fighters, 15.4ms\n",
      "video 1/1 (frame 164/3810) /home/hatsu/coding/CapProj/TestSeg_1/video_input/fight_5.mp4: 384x640 2 Fighters, 14.0ms\n",
      "video 1/1 (frame 165/3810) /home/hatsu/coding/CapProj/TestSeg_1/video_input/fight_5.mp4: 384x640 2 Fighters, 30.5ms\n",
      "video 1/1 (frame 166/3810) /home/hatsu/coding/CapProj/TestSeg_1/video_input/fight_5.mp4: 384x640 2 Fighters, 12.6ms\n",
      "video 1/1 (frame 167/3810) /home/hatsu/coding/CapProj/TestSeg_1/video_input/fight_5.mp4: 384x640 3 Fighters, 16.0ms\n",
      "video 1/1 (frame 168/3810) /home/hatsu/coding/CapProj/TestSeg_1/video_input/fight_5.mp4: 384x640 2 Fighters, 13.0ms\n",
      "video 1/1 (frame 169/3810) /home/hatsu/coding/CapProj/TestSeg_1/video_input/fight_5.mp4: 384x640 2 Fighters, 13.9ms\n",
      "video 1/1 (frame 170/3810) /home/hatsu/coding/CapProj/TestSeg_1/video_input/fight_5.mp4: 384x640 2 Fighters, 13.5ms\n",
      "video 1/1 (frame 171/3810) /home/hatsu/coding/CapProj/TestSeg_1/video_input/fight_5.mp4: 384x640 2 Fighters, 17.1ms\n",
      "video 1/1 (frame 172/3810) /home/hatsu/coding/CapProj/TestSeg_1/video_input/fight_5.mp4: 384x640 2 Fighters, 14.2ms\n",
      "video 1/1 (frame 173/3810) /home/hatsu/coding/CapProj/TestSeg_1/video_input/fight_5.mp4: 384x640 2 Fighters, 15.6ms\n",
      "video 1/1 (frame 174/3810) /home/hatsu/coding/CapProj/TestSeg_1/video_input/fight_5.mp4: 384x640 2 Fighters, 14.0ms\n",
      "video 1/1 (frame 175/3810) /home/hatsu/coding/CapProj/TestSeg_1/video_input/fight_5.mp4: 384x640 2 Fighters, 13.6ms\n",
      "video 1/1 (frame 176/3810) /home/hatsu/coding/CapProj/TestSeg_1/video_input/fight_5.mp4: 384x640 2 Fighters, 13.6ms\n",
      "video 1/1 (frame 177/3810) /home/hatsu/coding/CapProj/TestSeg_1/video_input/fight_5.mp4: 384x640 2 Fighters, 13.5ms\n",
      "video 1/1 (frame 178/3810) /home/hatsu/coding/CapProj/TestSeg_1/video_input/fight_5.mp4: 384x640 2 Fighters, 23.8ms\n",
      "video 1/1 (frame 179/3810) /home/hatsu/coding/CapProj/TestSeg_1/video_input/fight_5.mp4: 384x640 2 Fighters, 14.1ms\n",
      "video 1/1 (frame 180/3810) /home/hatsu/coding/CapProj/TestSeg_1/video_input/fight_5.mp4: 384x640 2 Fighters, 14.2ms\n",
      "video 1/1 (frame 181/3810) /home/hatsu/coding/CapProj/TestSeg_1/video_input/fight_5.mp4: 384x640 2 Fighters, 14.8ms\n",
      "video 1/1 (frame 182/3810) /home/hatsu/coding/CapProj/TestSeg_1/video_input/fight_5.mp4: 384x640 2 Fighters, 13.6ms\n",
      "video 1/1 (frame 183/3810) /home/hatsu/coding/CapProj/TestSeg_1/video_input/fight_5.mp4: 384x640 2 Fighters, 14.3ms\n",
      "video 1/1 (frame 184/3810) /home/hatsu/coding/CapProj/TestSeg_1/video_input/fight_5.mp4: 384x640 2 Fighters, 13.0ms\n",
      "video 1/1 (frame 185/3810) /home/hatsu/coding/CapProj/TestSeg_1/video_input/fight_5.mp4: 384x640 2 Fighters, 22.9ms\n",
      "video 1/1 (frame 186/3810) /home/hatsu/coding/CapProj/TestSeg_1/video_input/fight_5.mp4: 384x640 2 Fighters, 14.6ms\n",
      "video 1/1 (frame 187/3810) /home/hatsu/coding/CapProj/TestSeg_1/video_input/fight_5.mp4: 384x640 2 Fighters, 12.8ms\n",
      "video 1/1 (frame 188/3810) /home/hatsu/coding/CapProj/TestSeg_1/video_input/fight_5.mp4: 384x640 2 Fighters, 14.0ms\n",
      "video 1/1 (frame 189/3810) /home/hatsu/coding/CapProj/TestSeg_1/video_input/fight_5.mp4: 384x640 2 Fighters, 17.1ms\n",
      "video 1/1 (frame 190/3810) /home/hatsu/coding/CapProj/TestSeg_1/video_input/fight_5.mp4: 384x640 2 Fighters, 14.7ms\n",
      "video 1/1 (frame 191/3810) /home/hatsu/coding/CapProj/TestSeg_1/video_input/fight_5.mp4: 384x640 2 Fighters, 14.2ms\n",
      "video 1/1 (frame 192/3810) /home/hatsu/coding/CapProj/TestSeg_1/video_input/fight_5.mp4: 384x640 2 Fighters, 13.9ms\n",
      "video 1/1 (frame 193/3810) /home/hatsu/coding/CapProj/TestSeg_1/video_input/fight_5.mp4: 384x640 2 Fighters, 21.7ms\n",
      "video 1/1 (frame 194/3810) /home/hatsu/coding/CapProj/TestSeg_1/video_input/fight_5.mp4: 384x640 2 Fighters, 22.5ms\n",
      "video 1/1 (frame 195/3810) /home/hatsu/coding/CapProj/TestSeg_1/video_input/fight_5.mp4: 384x640 2 Fighters, 21.2ms\n",
      "video 1/1 (frame 196/3810) /home/hatsu/coding/CapProj/TestSeg_1/video_input/fight_5.mp4: 384x640 2 Fighters, 13.3ms\n",
      "video 1/1 (frame 197/3810) /home/hatsu/coding/CapProj/TestSeg_1/video_input/fight_5.mp4: 384x640 2 Fighters, 15.2ms\n",
      "video 1/1 (frame 198/3810) /home/hatsu/coding/CapProj/TestSeg_1/video_input/fight_5.mp4: 384x640 2 Fighters, 14.0ms\n",
      "video 1/1 (frame 199/3810) /home/hatsu/coding/CapProj/TestSeg_1/video_input/fight_5.mp4: 384x640 2 Fighters, 15.4ms\n",
      "video 1/1 (frame 200/3810) /home/hatsu/coding/CapProj/TestSeg_1/video_input/fight_5.mp4: 384x640 2 Fighters, 28.7ms\n",
      "video 1/1 (frame 201/3810) /home/hatsu/coding/CapProj/TestSeg_1/video_input/fight_5.mp4: 384x640 2 Fighters, 13.7ms\n",
      "video 1/1 (frame 202/3810) /home/hatsu/coding/CapProj/TestSeg_1/video_input/fight_5.mp4: 384x640 2 Fighters, 14.1ms\n",
      "video 1/1 (frame 203/3810) /home/hatsu/coding/CapProj/TestSeg_1/video_input/fight_5.mp4: 384x640 2 Fighters, 13.6ms\n",
      "video 1/1 (frame 204/3810) /home/hatsu/coding/CapProj/TestSeg_1/video_input/fight_5.mp4: 384x640 2 Fighters, 13.6ms\n",
      "video 1/1 (frame 205/3810) /home/hatsu/coding/CapProj/TestSeg_1/video_input/fight_5.mp4: 384x640 2 Fighters, 12.7ms\n",
      "video 1/1 (frame 206/3810) /home/hatsu/coding/CapProj/TestSeg_1/video_input/fight_5.mp4: 384x640 2 Fighters, 13.6ms\n",
      "video 1/1 (frame 207/3810) /home/hatsu/coding/CapProj/TestSeg_1/video_input/fight_5.mp4: 384x640 2 Fighters, 14.0ms\n",
      "video 1/1 (frame 208/3810) /home/hatsu/coding/CapProj/TestSeg_1/video_input/fight_5.mp4: 384x640 2 Fighters, 13.4ms\n",
      "video 1/1 (frame 209/3810) /home/hatsu/coding/CapProj/TestSeg_1/video_input/fight_5.mp4: 384x640 2 Fighters, 14.2ms\n",
      "video 1/1 (frame 210/3810) /home/hatsu/coding/CapProj/TestSeg_1/video_input/fight_5.mp4: 384x640 2 Fighters, 14.9ms\n",
      "video 1/1 (frame 211/3810) /home/hatsu/coding/CapProj/TestSeg_1/video_input/fight_5.mp4: 384x640 2 Fighters, 13.3ms\n",
      "video 1/1 (frame 212/3810) /home/hatsu/coding/CapProj/TestSeg_1/video_input/fight_5.mp4: 384x640 2 Fighters, 12.6ms\n",
      "video 1/1 (frame 213/3810) /home/hatsu/coding/CapProj/TestSeg_1/video_input/fight_5.mp4: 384x640 2 Fighters, 13.5ms\n",
      "video 1/1 (frame 214/3810) /home/hatsu/coding/CapProj/TestSeg_1/video_input/fight_5.mp4: 384x640 2 Fighters, 14.1ms\n",
      "video 1/1 (frame 215/3810) /home/hatsu/coding/CapProj/TestSeg_1/video_input/fight_5.mp4: 384x640 2 Fighters, 13.7ms\n",
      "video 1/1 (frame 216/3810) /home/hatsu/coding/CapProj/TestSeg_1/video_input/fight_5.mp4: 384x640 2 Fighters, 12.4ms\n",
      "video 1/1 (frame 217/3810) /home/hatsu/coding/CapProj/TestSeg_1/video_input/fight_5.mp4: 384x640 2 Fighters, 12.4ms\n",
      "video 1/1 (frame 218/3810) /home/hatsu/coding/CapProj/TestSeg_1/video_input/fight_5.mp4: 384x640 2 Fighters, 13.4ms\n",
      "video 1/1 (frame 219/3810) /home/hatsu/coding/CapProj/TestSeg_1/video_input/fight_5.mp4: 384x640 2 Fighters, 13.1ms\n",
      "video 1/1 (frame 220/3810) /home/hatsu/coding/CapProj/TestSeg_1/video_input/fight_5.mp4: 384x640 2 Fighters, 14.9ms\n",
      "video 1/1 (frame 221/3810) /home/hatsu/coding/CapProj/TestSeg_1/video_input/fight_5.mp4: 384x640 2 Fighters, 14.3ms\n",
      "video 1/1 (frame 222/3810) /home/hatsu/coding/CapProj/TestSeg_1/video_input/fight_5.mp4: 384x640 2 Fighters, 14.7ms\n",
      "video 1/1 (frame 223/3810) /home/hatsu/coding/CapProj/TestSeg_1/video_input/fight_5.mp4: 384x640 2 Fighters, 12.6ms\n",
      "video 1/1 (frame 224/3810) /home/hatsu/coding/CapProj/TestSeg_1/video_input/fight_5.mp4: 384x640 2 Fighters, 12.6ms\n",
      "video 1/1 (frame 225/3810) /home/hatsu/coding/CapProj/TestSeg_1/video_input/fight_5.mp4: 384x640 2 Fighters, 31.1ms\n",
      "video 1/1 (frame 226/3810) /home/hatsu/coding/CapProj/TestSeg_1/video_input/fight_5.mp4: 384x640 2 Fighters, 43.7ms\n",
      "video 1/1 (frame 227/3810) /home/hatsu/coding/CapProj/TestSeg_1/video_input/fight_5.mp4: 384x640 2 Fighters, 15.1ms\n",
      "video 1/1 (frame 228/3810) /home/hatsu/coding/CapProj/TestSeg_1/video_input/fight_5.mp4: 384x640 2 Fighters, 13.5ms\n",
      "video 1/1 (frame 229/3810) /home/hatsu/coding/CapProj/TestSeg_1/video_input/fight_5.mp4: 384x640 2 Fighters, 14.4ms\n",
      "video 1/1 (frame 230/3810) /home/hatsu/coding/CapProj/TestSeg_1/video_input/fight_5.mp4: 384x640 2 Fighters, 14.3ms\n",
      "video 1/1 (frame 231/3810) /home/hatsu/coding/CapProj/TestSeg_1/video_input/fight_5.mp4: 384x640 2 Fighters, 16.3ms\n",
      "video 1/1 (frame 232/3810) /home/hatsu/coding/CapProj/TestSeg_1/video_input/fight_5.mp4: 384x640 2 Fighters, 19.6ms\n",
      "video 1/1 (frame 233/3810) /home/hatsu/coding/CapProj/TestSeg_1/video_input/fight_5.mp4: 384x640 2 Fighters, 18.9ms\n",
      "video 1/1 (frame 234/3810) /home/hatsu/coding/CapProj/TestSeg_1/video_input/fight_5.mp4: 384x640 2 Fighters, 18.2ms\n",
      "video 1/1 (frame 235/3810) /home/hatsu/coding/CapProj/TestSeg_1/video_input/fight_5.mp4: 384x640 2 Fighters, 35.3ms\n",
      "video 1/1 (frame 236/3810) /home/hatsu/coding/CapProj/TestSeg_1/video_input/fight_5.mp4: 384x640 2 Fighters, 18.6ms\n",
      "video 1/1 (frame 237/3810) /home/hatsu/coding/CapProj/TestSeg_1/video_input/fight_5.mp4: 384x640 2 Fighters, 13.2ms\n",
      "video 1/1 (frame 238/3810) /home/hatsu/coding/CapProj/TestSeg_1/video_input/fight_5.mp4: 384x640 2 Fighters, 22.5ms\n",
      "video 1/1 (frame 239/3810) /home/hatsu/coding/CapProj/TestSeg_1/video_input/fight_5.mp4: 384x640 2 Fighters, 14.3ms\n",
      "video 1/1 (frame 240/3810) /home/hatsu/coding/CapProj/TestSeg_1/video_input/fight_5.mp4: 384x640 2 Fighters, 14.4ms\n",
      "video 1/1 (frame 241/3810) /home/hatsu/coding/CapProj/TestSeg_1/video_input/fight_5.mp4: 384x640 2 Fighters, 13.9ms\n",
      "video 1/1 (frame 242/3810) /home/hatsu/coding/CapProj/TestSeg_1/video_input/fight_5.mp4: 384x640 2 Fighters, 15.7ms\n",
      "video 1/1 (frame 243/3810) /home/hatsu/coding/CapProj/TestSeg_1/video_input/fight_5.mp4: 384x640 2 Fighters, 16.1ms\n",
      "video 1/1 (frame 244/3810) /home/hatsu/coding/CapProj/TestSeg_1/video_input/fight_5.mp4: 384x640 2 Fighters, 14.3ms\n",
      "video 1/1 (frame 245/3810) /home/hatsu/coding/CapProj/TestSeg_1/video_input/fight_5.mp4: 384x640 2 Fighters, 12.4ms\n",
      "video 1/1 (frame 246/3810) /home/hatsu/coding/CapProj/TestSeg_1/video_input/fight_5.mp4: 384x640 2 Fighters, 14.6ms\n",
      "video 1/1 (frame 247/3810) /home/hatsu/coding/CapProj/TestSeg_1/video_input/fight_5.mp4: 384x640 2 Fighters, 17.5ms\n",
      "video 1/1 (frame 248/3810) /home/hatsu/coding/CapProj/TestSeg_1/video_input/fight_5.mp4: 384x640 2 Fighters, 14.9ms\n",
      "video 1/1 (frame 249/3810) /home/hatsu/coding/CapProj/TestSeg_1/video_input/fight_5.mp4: 384x640 2 Fighters, 16.7ms\n",
      "video 1/1 (frame 250/3810) /home/hatsu/coding/CapProj/TestSeg_1/video_input/fight_5.mp4: 384x640 2 Fighters, 13.1ms\n",
      "video 1/1 (frame 251/3810) /home/hatsu/coding/CapProj/TestSeg_1/video_input/fight_5.mp4: 384x640 2 Fighters, 14.7ms\n",
      "video 1/1 (frame 252/3810) /home/hatsu/coding/CapProj/TestSeg_1/video_input/fight_5.mp4: 384x640 2 Fighters, 14.6ms\n",
      "video 1/1 (frame 253/3810) /home/hatsu/coding/CapProj/TestSeg_1/video_input/fight_5.mp4: 384x640 2 Fighters, 14.3ms\n",
      "video 1/1 (frame 254/3810) /home/hatsu/coding/CapProj/TestSeg_1/video_input/fight_5.mp4: 384x640 2 Fighters, 16.4ms\n",
      "video 1/1 (frame 255/3810) /home/hatsu/coding/CapProj/TestSeg_1/video_input/fight_5.mp4: 384x640 2 Fighters, 15.8ms\n",
      "video 1/1 (frame 256/3810) /home/hatsu/coding/CapProj/TestSeg_1/video_input/fight_5.mp4: 384x640 2 Fighters, 38.0ms\n",
      "video 1/1 (frame 257/3810) /home/hatsu/coding/CapProj/TestSeg_1/video_input/fight_5.mp4: 384x640 2 Fighters, 17.8ms\n",
      "video 1/1 (frame 258/3810) /home/hatsu/coding/CapProj/TestSeg_1/video_input/fight_5.mp4: 384x640 2 Fighters, 14.0ms\n",
      "video 1/1 (frame 259/3810) /home/hatsu/coding/CapProj/TestSeg_1/video_input/fight_5.mp4: 384x640 2 Fighters, 14.3ms\n",
      "video 1/1 (frame 260/3810) /home/hatsu/coding/CapProj/TestSeg_1/video_input/fight_5.mp4: 384x640 2 Fighters, 15.0ms\n",
      "video 1/1 (frame 261/3810) /home/hatsu/coding/CapProj/TestSeg_1/video_input/fight_5.mp4: 384x640 2 Fighters, 14.7ms\n",
      "video 1/1 (frame 262/3810) /home/hatsu/coding/CapProj/TestSeg_1/video_input/fight_5.mp4: 384x640 2 Fighters, 14.6ms\n",
      "video 1/1 (frame 263/3810) /home/hatsu/coding/CapProj/TestSeg_1/video_input/fight_5.mp4: 384x640 2 Fighters, 14.5ms\n",
      "video 1/1 (frame 264/3810) /home/hatsu/coding/CapProj/TestSeg_1/video_input/fight_5.mp4: 384x640 2 Fighters, 14.4ms\n",
      "video 1/1 (frame 265/3810) /home/hatsu/coding/CapProj/TestSeg_1/video_input/fight_5.mp4: 384x640 2 Fighters, 13.7ms\n",
      "video 1/1 (frame 266/3810) /home/hatsu/coding/CapProj/TestSeg_1/video_input/fight_5.mp4: 384x640 2 Fighters, 14.9ms\n",
      "video 1/1 (frame 267/3810) /home/hatsu/coding/CapProj/TestSeg_1/video_input/fight_5.mp4: 384x640 2 Fighters, 13.9ms\n",
      "video 1/1 (frame 268/3810) /home/hatsu/coding/CapProj/TestSeg_1/video_input/fight_5.mp4: 384x640 2 Fighters, 14.9ms\n",
      "video 1/1 (frame 269/3810) /home/hatsu/coding/CapProj/TestSeg_1/video_input/fight_5.mp4: 384x640 2 Fighters, 14.9ms\n",
      "video 1/1 (frame 270/3810) /home/hatsu/coding/CapProj/TestSeg_1/video_input/fight_5.mp4: 384x640 2 Fighters, 14.6ms\n",
      "video 1/1 (frame 271/3810) /home/hatsu/coding/CapProj/TestSeg_1/video_input/fight_5.mp4: 384x640 2 Fighters, 15.2ms\n",
      "video 1/1 (frame 272/3810) /home/hatsu/coding/CapProj/TestSeg_1/video_input/fight_5.mp4: 384x640 2 Fighters, 17.1ms\n",
      "video 1/1 (frame 273/3810) /home/hatsu/coding/CapProj/TestSeg_1/video_input/fight_5.mp4: 384x640 2 Fighters, 14.8ms\n",
      "video 1/1 (frame 274/3810) /home/hatsu/coding/CapProj/TestSeg_1/video_input/fight_5.mp4: 384x640 2 Fighters, 16.8ms\n",
      "video 1/1 (frame 275/3810) /home/hatsu/coding/CapProj/TestSeg_1/video_input/fight_5.mp4: 384x640 2 Fighters, 17.1ms\n",
      "video 1/1 (frame 276/3810) /home/hatsu/coding/CapProj/TestSeg_1/video_input/fight_5.mp4: 384x640 2 Fighters, 13.8ms\n",
      "video 1/1 (frame 277/3810) /home/hatsu/coding/CapProj/TestSeg_1/video_input/fight_5.mp4: 384x640 2 Fighters, 12.6ms\n",
      "video 1/1 (frame 278/3810) /home/hatsu/coding/CapProj/TestSeg_1/video_input/fight_5.mp4: 384x640 2 Fighters, 14.6ms\n",
      "video 1/1 (frame 279/3810) /home/hatsu/coding/CapProj/TestSeg_1/video_input/fight_5.mp4: 384x640 2 Fighters, 15.4ms\n",
      "video 1/1 (frame 280/3810) /home/hatsu/coding/CapProj/TestSeg_1/video_input/fight_5.mp4: 384x640 2 Fighters, 14.3ms\n",
      "video 1/1 (frame 281/3810) /home/hatsu/coding/CapProj/TestSeg_1/video_input/fight_5.mp4: 384x640 2 Fighters, 14.7ms\n",
      "video 1/1 (frame 282/3810) /home/hatsu/coding/CapProj/TestSeg_1/video_input/fight_5.mp4: 384x640 2 Fighters, 13.7ms\n",
      "video 1/1 (frame 283/3810) /home/hatsu/coding/CapProj/TestSeg_1/video_input/fight_5.mp4: 384x640 2 Fighters, 14.3ms\n",
      "video 1/1 (frame 284/3810) /home/hatsu/coding/CapProj/TestSeg_1/video_input/fight_5.mp4: 384x640 2 Fighters, 14.8ms\n",
      "video 1/1 (frame 285/3810) /home/hatsu/coding/CapProj/TestSeg_1/video_input/fight_5.mp4: 384x640 2 Fighters, 14.8ms\n",
      "video 1/1 (frame 286/3810) /home/hatsu/coding/CapProj/TestSeg_1/video_input/fight_5.mp4: 384x640 2 Fighters, 23.1ms\n",
      "video 1/1 (frame 287/3810) /home/hatsu/coding/CapProj/TestSeg_1/video_input/fight_5.mp4: 384x640 2 Fighters, 22.2ms\n",
      "video 1/1 (frame 288/3810) /home/hatsu/coding/CapProj/TestSeg_1/video_input/fight_5.mp4: 384x640 2 Fighters, 20.6ms\n",
      "video 1/1 (frame 289/3810) /home/hatsu/coding/CapProj/TestSeg_1/video_input/fight_5.mp4: 384x640 2 Fighters, 22.4ms\n",
      "video 1/1 (frame 290/3810) /home/hatsu/coding/CapProj/TestSeg_1/video_input/fight_5.mp4: 384x640 2 Fighters, 21.0ms\n",
      "video 1/1 (frame 291/3810) /home/hatsu/coding/CapProj/TestSeg_1/video_input/fight_5.mp4: 384x640 2 Fighters, 18.5ms\n",
      "video 1/1 (frame 292/3810) /home/hatsu/coding/CapProj/TestSeg_1/video_input/fight_5.mp4: 384x640 2 Fighters, 19.1ms\n",
      "video 1/1 (frame 293/3810) /home/hatsu/coding/CapProj/TestSeg_1/video_input/fight_5.mp4: 384x640 2 Fighters, 22.0ms\n",
      "video 1/1 (frame 294/3810) /home/hatsu/coding/CapProj/TestSeg_1/video_input/fight_5.mp4: 384x640 2 Fighters, 16.1ms\n",
      "video 1/1 (frame 295/3810) /home/hatsu/coding/CapProj/TestSeg_1/video_input/fight_5.mp4: 384x640 2 Fighters, 16.1ms\n",
      "video 1/1 (frame 296/3810) /home/hatsu/coding/CapProj/TestSeg_1/video_input/fight_5.mp4: 384x640 2 Fighters, 13.9ms\n",
      "video 1/1 (frame 297/3810) /home/hatsu/coding/CapProj/TestSeg_1/video_input/fight_5.mp4: 384x640 2 Fighters, 14.3ms\n",
      "video 1/1 (frame 298/3810) /home/hatsu/coding/CapProj/TestSeg_1/video_input/fight_5.mp4: 384x640 2 Fighters, 16.0ms\n",
      "video 1/1 (frame 299/3810) /home/hatsu/coding/CapProj/TestSeg_1/video_input/fight_5.mp4: 384x640 2 Fighters, 13.8ms\n",
      "video 1/1 (frame 300/3810) /home/hatsu/coding/CapProj/TestSeg_1/video_input/fight_5.mp4: 384x640 2 Fighters, 15.2ms\n",
      "video 1/1 (frame 301/3810) /home/hatsu/coding/CapProj/TestSeg_1/video_input/fight_5.mp4: 384x640 2 Fighters, 12.7ms\n",
      "video 1/1 (frame 302/3810) /home/hatsu/coding/CapProj/TestSeg_1/video_input/fight_5.mp4: 384x640 2 Fighters, 14.5ms\n",
      "video 1/1 (frame 303/3810) /home/hatsu/coding/CapProj/TestSeg_1/video_input/fight_5.mp4: 384x640 2 Fighters, 13.7ms\n",
      "video 1/1 (frame 304/3810) /home/hatsu/coding/CapProj/TestSeg_1/video_input/fight_5.mp4: 384x640 2 Fighters, 17.8ms\n",
      "video 1/1 (frame 305/3810) /home/hatsu/coding/CapProj/TestSeg_1/video_input/fight_5.mp4: 384x640 2 Fighters, 16.1ms\n",
      "video 1/1 (frame 306/3810) /home/hatsu/coding/CapProj/TestSeg_1/video_input/fight_5.mp4: 384x640 2 Fighters, 14.8ms\n",
      "video 1/1 (frame 307/3810) /home/hatsu/coding/CapProj/TestSeg_1/video_input/fight_5.mp4: 384x640 2 Fighters, 30.1ms\n",
      "video 1/1 (frame 308/3810) /home/hatsu/coding/CapProj/TestSeg_1/video_input/fight_5.mp4: 384x640 2 Fighters, 12.6ms\n",
      "video 1/1 (frame 309/3810) /home/hatsu/coding/CapProj/TestSeg_1/video_input/fight_5.mp4: 384x640 2 Fighters, 14.7ms\n",
      "video 1/1 (frame 310/3810) /home/hatsu/coding/CapProj/TestSeg_1/video_input/fight_5.mp4: 384x640 3 Fighters, 16.8ms\n",
      "video 1/1 (frame 311/3810) /home/hatsu/coding/CapProj/TestSeg_1/video_input/fight_5.mp4: 384x640 2 Fighters, 14.8ms\n",
      "video 1/1 (frame 312/3810) /home/hatsu/coding/CapProj/TestSeg_1/video_input/fight_5.mp4: 384x640 2 Fighters, 14.6ms\n",
      "video 1/1 (frame 313/3810) /home/hatsu/coding/CapProj/TestSeg_1/video_input/fight_5.mp4: 384x640 2 Fighters, 16.9ms\n",
      "video 1/1 (frame 314/3810) /home/hatsu/coding/CapProj/TestSeg_1/video_input/fight_5.mp4: 384x640 2 Fighters, 16.0ms\n",
      "video 1/1 (frame 315/3810) /home/hatsu/coding/CapProj/TestSeg_1/video_input/fight_5.mp4: 384x640 2 Fighters, 18.3ms\n",
      "video 1/1 (frame 316/3810) /home/hatsu/coding/CapProj/TestSeg_1/video_input/fight_5.mp4: 384x640 2 Fighters, 14.4ms\n",
      "video 1/1 (frame 317/3810) /home/hatsu/coding/CapProj/TestSeg_1/video_input/fight_5.mp4: 384x640 2 Fighters, 15.9ms\n",
      "video 1/1 (frame 318/3810) /home/hatsu/coding/CapProj/TestSeg_1/video_input/fight_5.mp4: 384x640 2 Fighters, 13.0ms\n",
      "video 1/1 (frame 319/3810) /home/hatsu/coding/CapProj/TestSeg_1/video_input/fight_5.mp4: 384x640 2 Fighters, 12.5ms\n",
      "video 1/1 (frame 320/3810) /home/hatsu/coding/CapProj/TestSeg_1/video_input/fight_5.mp4: 384x640 2 Fighters, 12.8ms\n",
      "video 1/1 (frame 321/3810) /home/hatsu/coding/CapProj/TestSeg_1/video_input/fight_5.mp4: 384x640 2 Fighters, 13.5ms\n",
      "video 1/1 (frame 322/3810) /home/hatsu/coding/CapProj/TestSeg_1/video_input/fight_5.mp4: 384x640 2 Fighters, 14.6ms\n",
      "video 1/1 (frame 323/3810) /home/hatsu/coding/CapProj/TestSeg_1/video_input/fight_5.mp4: 384x640 2 Fighters, 12.8ms\n",
      "video 1/1 (frame 324/3810) /home/hatsu/coding/CapProj/TestSeg_1/video_input/fight_5.mp4: 384x640 2 Fighters, 13.7ms\n",
      "video 1/1 (frame 325/3810) /home/hatsu/coding/CapProj/TestSeg_1/video_input/fight_5.mp4: 384x640 2 Fighters, 21.3ms\n",
      "video 1/1 (frame 326/3810) /home/hatsu/coding/CapProj/TestSeg_1/video_input/fight_5.mp4: 384x640 2 Fighters, 19.5ms\n",
      "video 1/1 (frame 327/3810) /home/hatsu/coding/CapProj/TestSeg_1/video_input/fight_5.mp4: 384x640 2 Fighters, 18.2ms\n",
      "video 1/1 (frame 328/3810) /home/hatsu/coding/CapProj/TestSeg_1/video_input/fight_5.mp4: 384x640 2 Fighters, 14.4ms\n",
      "video 1/1 (frame 329/3810) /home/hatsu/coding/CapProj/TestSeg_1/video_input/fight_5.mp4: 384x640 2 Fighters, 14.0ms\n",
      "video 1/1 (frame 330/3810) /home/hatsu/coding/CapProj/TestSeg_1/video_input/fight_5.mp4: 384x640 2 Fighters, 13.3ms\n",
      "video 1/1 (frame 331/3810) /home/hatsu/coding/CapProj/TestSeg_1/video_input/fight_5.mp4: 384x640 2 Fighters, 14.5ms\n",
      "video 1/1 (frame 332/3810) /home/hatsu/coding/CapProj/TestSeg_1/video_input/fight_5.mp4: 384x640 2 Fighters, 14.4ms\n",
      "video 1/1 (frame 333/3810) /home/hatsu/coding/CapProj/TestSeg_1/video_input/fight_5.mp4: 384x640 2 Fighters, 14.4ms\n",
      "video 1/1 (frame 334/3810) /home/hatsu/coding/CapProj/TestSeg_1/video_input/fight_5.mp4: 384x640 2 Fighters, 23.2ms\n",
      "video 1/1 (frame 335/3810) /home/hatsu/coding/CapProj/TestSeg_1/video_input/fight_5.mp4: 384x640 2 Fighters, 14.5ms\n",
      "video 1/1 (frame 336/3810) /home/hatsu/coding/CapProj/TestSeg_1/video_input/fight_5.mp4: 384x640 2 Fighters, 16.7ms\n",
      "video 1/1 (frame 337/3810) /home/hatsu/coding/CapProj/TestSeg_1/video_input/fight_5.mp4: 384x640 2 Fighters, 18.7ms\n",
      "video 1/1 (frame 338/3810) /home/hatsu/coding/CapProj/TestSeg_1/video_input/fight_5.mp4: 384x640 2 Fighters, 15.5ms\n",
      "video 1/1 (frame 339/3810) /home/hatsu/coding/CapProj/TestSeg_1/video_input/fight_5.mp4: 384x640 2 Fighters, 13.8ms\n",
      "video 1/1 (frame 340/3810) /home/hatsu/coding/CapProj/TestSeg_1/video_input/fight_5.mp4: 384x640 2 Fighters, 18.2ms\n",
      "video 1/1 (frame 341/3810) /home/hatsu/coding/CapProj/TestSeg_1/video_input/fight_5.mp4: 384x640 2 Fighters, 17.4ms\n",
      "video 1/1 (frame 342/3810) /home/hatsu/coding/CapProj/TestSeg_1/video_input/fight_5.mp4: 384x640 2 Fighters, 14.4ms\n",
      "video 1/1 (frame 343/3810) /home/hatsu/coding/CapProj/TestSeg_1/video_input/fight_5.mp4: 384x640 2 Fighters, 14.3ms\n",
      "video 1/1 (frame 344/3810) /home/hatsu/coding/CapProj/TestSeg_1/video_input/fight_5.mp4: 384x640 6 Fighters, 35.3ms\n",
      "video 1/1 (frame 345/3810) /home/hatsu/coding/CapProj/TestSeg_1/video_input/fight_5.mp4: 384x640 1 Fighter, 14.7ms\n",
      "video 1/1 (frame 346/3810) /home/hatsu/coding/CapProj/TestSeg_1/video_input/fight_5.mp4: 384x640 1 Fighter, 12.7ms\n",
      "video 1/1 (frame 347/3810) /home/hatsu/coding/CapProj/TestSeg_1/video_input/fight_5.mp4: 384x640 1 Fighter, 15.0ms\n",
      "video 1/1 (frame 348/3810) /home/hatsu/coding/CapProj/TestSeg_1/video_input/fight_5.mp4: 384x640 1 Fighter, 33.5ms\n",
      "video 1/1 (frame 349/3810) /home/hatsu/coding/CapProj/TestSeg_1/video_input/fight_5.mp4: 384x640 1 Fighter, 13.0ms\n",
      "video 1/1 (frame 350/3810) /home/hatsu/coding/CapProj/TestSeg_1/video_input/fight_5.mp4: 384x640 1 Fighter, 13.7ms\n",
      "video 1/1 (frame 351/3810) /home/hatsu/coding/CapProj/TestSeg_1/video_input/fight_5.mp4: 384x640 1 Fighter, 14.5ms\n",
      "video 1/1 (frame 352/3810) /home/hatsu/coding/CapProj/TestSeg_1/video_input/fight_5.mp4: 384x640 2 Fighters, 14.5ms\n",
      "video 1/1 (frame 353/3810) /home/hatsu/coding/CapProj/TestSeg_1/video_input/fight_5.mp4: 384x640 2 Fighters, 18.4ms\n",
      "video 1/1 (frame 354/3810) /home/hatsu/coding/CapProj/TestSeg_1/video_input/fight_5.mp4: 384x640 1 Fighter, 12.6ms\n",
      "video 1/1 (frame 355/3810) /home/hatsu/coding/CapProj/TestSeg_1/video_input/fight_5.mp4: 384x640 1 Fighter, 16.8ms\n",
      "video 1/1 (frame 356/3810) /home/hatsu/coding/CapProj/TestSeg_1/video_input/fight_5.mp4: 384x640 1 Fighter, 13.0ms\n",
      "video 1/1 (frame 357/3810) /home/hatsu/coding/CapProj/TestSeg_1/video_input/fight_5.mp4: 384x640 1 Fighter, 17.1ms\n",
      "video 1/1 (frame 358/3810) /home/hatsu/coding/CapProj/TestSeg_1/video_input/fight_5.mp4: 384x640 1 Fighter, 13.6ms\n",
      "video 1/1 (frame 359/3810) /home/hatsu/coding/CapProj/TestSeg_1/video_input/fight_5.mp4: 384x640 1 Fighter, 14.0ms\n",
      "video 1/1 (frame 360/3810) /home/hatsu/coding/CapProj/TestSeg_1/video_input/fight_5.mp4: 384x640 1 Fighter, 14.5ms\n",
      "video 1/1 (frame 361/3810) /home/hatsu/coding/CapProj/TestSeg_1/video_input/fight_5.mp4: 384x640 1 Fighter, 12.5ms\n",
      "video 1/1 (frame 362/3810) /home/hatsu/coding/CapProj/TestSeg_1/video_input/fight_5.mp4: 384x640 1 Fighter, 13.9ms\n",
      "video 1/1 (frame 363/3810) /home/hatsu/coding/CapProj/TestSeg_1/video_input/fight_5.mp4: 384x640 1 Fighter, 13.0ms\n",
      "video 1/1 (frame 364/3810) /home/hatsu/coding/CapProj/TestSeg_1/video_input/fight_5.mp4: 384x640 1 Fighter, 16.1ms\n",
      "video 1/1 (frame 365/3810) /home/hatsu/coding/CapProj/TestSeg_1/video_input/fight_5.mp4: 384x640 1 Fighter, 13.1ms\n",
      "video 1/1 (frame 366/3810) /home/hatsu/coding/CapProj/TestSeg_1/video_input/fight_5.mp4: 384x640 1 Fighter, 14.4ms\n",
      "video 1/1 (frame 367/3810) /home/hatsu/coding/CapProj/TestSeg_1/video_input/fight_5.mp4: 384x640 1 Fighter, 17.5ms\n",
      "video 1/1 (frame 368/3810) /home/hatsu/coding/CapProj/TestSeg_1/video_input/fight_5.mp4: 384x640 1 Fighter, 13.5ms\n",
      "video 1/1 (frame 369/3810) /home/hatsu/coding/CapProj/TestSeg_1/video_input/fight_5.mp4: 384x640 2 Fighters, 14.8ms\n",
      "video 1/1 (frame 370/3810) /home/hatsu/coding/CapProj/TestSeg_1/video_input/fight_5.mp4: 384x640 2 Fighters, 14.8ms\n",
      "video 1/1 (frame 371/3810) /home/hatsu/coding/CapProj/TestSeg_1/video_input/fight_5.mp4: 384x640 1 Fighter, 14.2ms\n",
      "video 1/1 (frame 372/3810) /home/hatsu/coding/CapProj/TestSeg_1/video_input/fight_5.mp4: 384x640 1 Fighter, 16.1ms\n",
      "video 1/1 (frame 373/3810) /home/hatsu/coding/CapProj/TestSeg_1/video_input/fight_5.mp4: 384x640 1 Fighter, 14.9ms\n",
      "video 1/1 (frame 374/3810) /home/hatsu/coding/CapProj/TestSeg_1/video_input/fight_5.mp4: 384x640 1 Fighter, 15.8ms\n",
      "video 1/1 (frame 375/3810) /home/hatsu/coding/CapProj/TestSeg_1/video_input/fight_5.mp4: 384x640 2 Fighters, 21.9ms\n",
      "video 1/1 (frame 376/3810) /home/hatsu/coding/CapProj/TestSeg_1/video_input/fight_5.mp4: 384x640 1 Fighter, 14.4ms\n",
      "video 1/1 (frame 377/3810) /home/hatsu/coding/CapProj/TestSeg_1/video_input/fight_5.mp4: 384x640 2 Fighters, 31.2ms\n",
      "video 1/1 (frame 378/3810) /home/hatsu/coding/CapProj/TestSeg_1/video_input/fight_5.mp4: 384x640 1 Fighter, 13.1ms\n",
      "video 1/1 (frame 379/3810) /home/hatsu/coding/CapProj/TestSeg_1/video_input/fight_5.mp4: 384x640 1 Fighter, 18.6ms\n",
      "video 1/1 (frame 380/3810) /home/hatsu/coding/CapProj/TestSeg_1/video_input/fight_5.mp4: 384x640 1 Fighter, 30.6ms\n",
      "video 1/1 (frame 381/3810) /home/hatsu/coding/CapProj/TestSeg_1/video_input/fight_5.mp4: 384x640 2 Fighters, 14.1ms\n",
      "video 1/1 (frame 382/3810) /home/hatsu/coding/CapProj/TestSeg_1/video_input/fight_5.mp4: 384x640 2 Fighters, 15.7ms\n",
      "video 1/1 (frame 383/3810) /home/hatsu/coding/CapProj/TestSeg_1/video_input/fight_5.mp4: 384x640 2 Fighters, 13.8ms\n",
      "video 1/1 (frame 384/3810) /home/hatsu/coding/CapProj/TestSeg_1/video_input/fight_5.mp4: 384x640 1 Fighter, 13.6ms\n",
      "video 1/1 (frame 385/3810) /home/hatsu/coding/CapProj/TestSeg_1/video_input/fight_5.mp4: 384x640 1 Fighter, 14.4ms\n",
      "video 1/1 (frame 386/3810) /home/hatsu/coding/CapProj/TestSeg_1/video_input/fight_5.mp4: 384x640 1 Fighter, 15.6ms\n",
      "video 1/1 (frame 387/3810) /home/hatsu/coding/CapProj/TestSeg_1/video_input/fight_5.mp4: 384x640 1 Fighter, 14.5ms\n",
      "video 1/1 (frame 388/3810) /home/hatsu/coding/CapProj/TestSeg_1/video_input/fight_5.mp4: 384x640 1 Fighter, 20.3ms\n",
      "video 1/1 (frame 389/3810) /home/hatsu/coding/CapProj/TestSeg_1/video_input/fight_5.mp4: 384x640 1 Fighter, 14.4ms\n",
      "video 1/1 (frame 390/3810) /home/hatsu/coding/CapProj/TestSeg_1/video_input/fight_5.mp4: 384x640 1 Fighter, 15.2ms\n",
      "video 1/1 (frame 391/3810) /home/hatsu/coding/CapProj/TestSeg_1/video_input/fight_5.mp4: 384x640 1 Fighter, 15.0ms\n",
      "video 1/1 (frame 392/3810) /home/hatsu/coding/CapProj/TestSeg_1/video_input/fight_5.mp4: 384x640 1 Fighter, 15.3ms\n",
      "video 1/1 (frame 393/3810) /home/hatsu/coding/CapProj/TestSeg_1/video_input/fight_5.mp4: 384x640 1 Fighter, 19.4ms\n",
      "video 1/1 (frame 394/3810) /home/hatsu/coding/CapProj/TestSeg_1/video_input/fight_5.mp4: 384x640 2 Fighters, 14.8ms\n",
      "video 1/1 (frame 395/3810) /home/hatsu/coding/CapProj/TestSeg_1/video_input/fight_5.mp4: 384x640 1 Fighter, 16.9ms\n",
      "video 1/1 (frame 396/3810) /home/hatsu/coding/CapProj/TestSeg_1/video_input/fight_5.mp4: 384x640 1 Fighter, 14.4ms\n",
      "video 1/1 (frame 397/3810) /home/hatsu/coding/CapProj/TestSeg_1/video_input/fight_5.mp4: 384x640 1 Fighter, 14.4ms\n",
      "video 1/1 (frame 398/3810) /home/hatsu/coding/CapProj/TestSeg_1/video_input/fight_5.mp4: 384x640 1 Fighter, 14.9ms\n",
      "video 1/1 (frame 399/3810) /home/hatsu/coding/CapProj/TestSeg_1/video_input/fight_5.mp4: 384x640 1 Fighter, 14.9ms\n",
      "video 1/1 (frame 400/3810) /home/hatsu/coding/CapProj/TestSeg_1/video_input/fight_5.mp4: 384x640 1 Fighter, 19.8ms\n",
      "video 1/1 (frame 401/3810) /home/hatsu/coding/CapProj/TestSeg_1/video_input/fight_5.mp4: 384x640 2 Fighters, 20.6ms\n",
      "video 1/1 (frame 402/3810) /home/hatsu/coding/CapProj/TestSeg_1/video_input/fight_5.mp4: 384x640 2 Fighters, 33.2ms\n",
      "video 1/1 (frame 403/3810) /home/hatsu/coding/CapProj/TestSeg_1/video_input/fight_5.mp4: 384x640 2 Fighters, 14.8ms\n",
      "video 1/1 (frame 404/3810) /home/hatsu/coding/CapProj/TestSeg_1/video_input/fight_5.mp4: 384x640 1 Fighter, 14.0ms\n",
      "video 1/1 (frame 405/3810) /home/hatsu/coding/CapProj/TestSeg_1/video_input/fight_5.mp4: 384x640 2 Fighters, 14.5ms\n",
      "video 1/1 (frame 406/3810) /home/hatsu/coding/CapProj/TestSeg_1/video_input/fight_5.mp4: 384x640 2 Fighters, 14.4ms\n",
      "video 1/1 (frame 407/3810) /home/hatsu/coding/CapProj/TestSeg_1/video_input/fight_5.mp4: 384x640 3 Fighters, 15.1ms\n",
      "video 1/1 (frame 408/3810) /home/hatsu/coding/CapProj/TestSeg_1/video_input/fight_5.mp4: 384x640 2 Fighters, 16.3ms\n",
      "video 1/1 (frame 409/3810) /home/hatsu/coding/CapProj/TestSeg_1/video_input/fight_5.mp4: 384x640 1 Fighter, 13.9ms\n",
      "video 1/1 (frame 410/3810) /home/hatsu/coding/CapProj/TestSeg_1/video_input/fight_5.mp4: 384x640 1 Fighter, 12.3ms\n",
      "video 1/1 (frame 411/3810) /home/hatsu/coding/CapProj/TestSeg_1/video_input/fight_5.mp4: 384x640 4 Fighters, 17.4ms\n",
      "video 1/1 (frame 412/3810) /home/hatsu/coding/CapProj/TestSeg_1/video_input/fight_5.mp4: 384x640 1 Fighter, 20.6ms\n",
      "video 1/1 (frame 413/3810) /home/hatsu/coding/CapProj/TestSeg_1/video_input/fight_5.mp4: 384x640 2 Fighters, 42.6ms\n",
      "video 1/1 (frame 414/3810) /home/hatsu/coding/CapProj/TestSeg_1/video_input/fight_5.mp4: 384x640 2 Fighters, 42.8ms\n",
      "video 1/1 (frame 415/3810) /home/hatsu/coding/CapProj/TestSeg_1/video_input/fight_5.mp4: 384x640 1 Fighter, 22.3ms\n",
      "video 1/1 (frame 416/3810) /home/hatsu/coding/CapProj/TestSeg_1/video_input/fight_5.mp4: 384x640 1 Fighter, 18.4ms\n",
      "video 1/1 (frame 417/3810) /home/hatsu/coding/CapProj/TestSeg_1/video_input/fight_5.mp4: 384x640 1 Fighter, 19.9ms\n",
      "video 1/1 (frame 418/3810) /home/hatsu/coding/CapProj/TestSeg_1/video_input/fight_5.mp4: 384x640 1 Fighter, 17.9ms\n",
      "video 1/1 (frame 419/3810) /home/hatsu/coding/CapProj/TestSeg_1/video_input/fight_5.mp4: 384x640 1 Fighter, 19.4ms\n",
      "video 1/1 (frame 420/3810) /home/hatsu/coding/CapProj/TestSeg_1/video_input/fight_5.mp4: 384x640 1 Fighter, 19.2ms\n",
      "video 1/1 (frame 421/3810) /home/hatsu/coding/CapProj/TestSeg_1/video_input/fight_5.mp4: 384x640 1 Fighter, 15.2ms\n",
      "video 1/1 (frame 422/3810) /home/hatsu/coding/CapProj/TestSeg_1/video_input/fight_5.mp4: 384x640 1 Fighter, 14.9ms\n",
      "video 1/1 (frame 423/3810) /home/hatsu/coding/CapProj/TestSeg_1/video_input/fight_5.mp4: 384x640 1 Fighter, 14.2ms\n",
      "video 1/1 (frame 424/3810) /home/hatsu/coding/CapProj/TestSeg_1/video_input/fight_5.mp4: 384x640 1 Fighter, 12.6ms\n",
      "video 1/1 (frame 425/3810) /home/hatsu/coding/CapProj/TestSeg_1/video_input/fight_5.mp4: 384x640 1 Fighter, 13.0ms\n",
      "video 1/1 (frame 426/3810) /home/hatsu/coding/CapProj/TestSeg_1/video_input/fight_5.mp4: 384x640 2 Fighters, 12.8ms\n",
      "video 1/1 (frame 427/3810) /home/hatsu/coding/CapProj/TestSeg_1/video_input/fight_5.mp4: 384x640 2 Fighters, 13.6ms\n",
      "video 1/1 (frame 428/3810) /home/hatsu/coding/CapProj/TestSeg_1/video_input/fight_5.mp4: 384x640 3 Fighters, 25.6ms\n",
      "video 1/1 (frame 429/3810) /home/hatsu/coding/CapProj/TestSeg_1/video_input/fight_5.mp4: 384x640 2 Fighters, 14.7ms\n",
      "video 1/1 (frame 430/3810) /home/hatsu/coding/CapProj/TestSeg_1/video_input/fight_5.mp4: 384x640 2 Fighters, 12.9ms\n",
      "video 1/1 (frame 431/3810) /home/hatsu/coding/CapProj/TestSeg_1/video_input/fight_5.mp4: 384x640 2 Fighters, 13.5ms\n",
      "video 1/1 (frame 432/3810) /home/hatsu/coding/CapProj/TestSeg_1/video_input/fight_5.mp4: 384x640 2 Fighters, 13.8ms\n",
      "video 1/1 (frame 433/3810) /home/hatsu/coding/CapProj/TestSeg_1/video_input/fight_5.mp4: 384x640 3 Fighters, 35.8ms\n",
      "video 1/1 (frame 434/3810) /home/hatsu/coding/CapProj/TestSeg_1/video_input/fight_5.mp4: 384x640 2 Fighters, 16.4ms\n",
      "video 1/1 (frame 435/3810) /home/hatsu/coding/CapProj/TestSeg_1/video_input/fight_5.mp4: 384x640 2 Fighters, 14.9ms\n",
      "video 1/1 (frame 436/3810) /home/hatsu/coding/CapProj/TestSeg_1/video_input/fight_5.mp4: 384x640 3 Fighters, 14.6ms\n",
      "video 1/1 (frame 437/3810) /home/hatsu/coding/CapProj/TestSeg_1/video_input/fight_5.mp4: 384x640 4 Fighters, 14.6ms\n",
      "video 1/1 (frame 438/3810) /home/hatsu/coding/CapProj/TestSeg_1/video_input/fight_5.mp4: 384x640 3 Fighters, 14.0ms\n",
      "video 1/1 (frame 439/3810) /home/hatsu/coding/CapProj/TestSeg_1/video_input/fight_5.mp4: 384x640 3 Fighters, 13.3ms\n",
      "video 1/1 (frame 440/3810) /home/hatsu/coding/CapProj/TestSeg_1/video_input/fight_5.mp4: 384x640 4 Fighters, 29.5ms\n",
      "video 1/1 (frame 441/3810) /home/hatsu/coding/CapProj/TestSeg_1/video_input/fight_5.mp4: 384x640 4 Fighters, 12.4ms\n",
      "video 1/1 (frame 442/3810) /home/hatsu/coding/CapProj/TestSeg_1/video_input/fight_5.mp4: 384x640 4 Fighters, 12.7ms\n",
      "video 1/1 (frame 443/3810) /home/hatsu/coding/CapProj/TestSeg_1/video_input/fight_5.mp4: 384x640 3 Fighters, 35.6ms\n",
      "video 1/1 (frame 444/3810) /home/hatsu/coding/CapProj/TestSeg_1/video_input/fight_5.mp4: 384x640 2 Fighters, 18.1ms\n",
      "video 1/1 (frame 445/3810) /home/hatsu/coding/CapProj/TestSeg_1/video_input/fight_5.mp4: 384x640 1 Fighter, 15.1ms\n",
      "video 1/1 (frame 446/3810) /home/hatsu/coding/CapProj/TestSeg_1/video_input/fight_5.mp4: 384x640 2 Fighters, 15.2ms\n",
      "video 1/1 (frame 447/3810) /home/hatsu/coding/CapProj/TestSeg_1/video_input/fight_5.mp4: 384x640 3 Fighters, 20.2ms\n",
      "video 1/1 (frame 448/3810) /home/hatsu/coding/CapProj/TestSeg_1/video_input/fight_5.mp4: 384x640 3 Fighters, 13.4ms\n",
      "video 1/1 (frame 449/3810) /home/hatsu/coding/CapProj/TestSeg_1/video_input/fight_5.mp4: 384x640 1 Fighter, 14.3ms\n",
      "video 1/1 (frame 450/3810) /home/hatsu/coding/CapProj/TestSeg_1/video_input/fight_5.mp4: 384x640 1 Fighter, 45.4ms\n",
      "video 1/1 (frame 451/3810) /home/hatsu/coding/CapProj/TestSeg_1/video_input/fight_5.mp4: 384x640 1 Fighter, 15.2ms\n",
      "video 1/1 (frame 452/3810) /home/hatsu/coding/CapProj/TestSeg_1/video_input/fight_5.mp4: 384x640 1 Fighter, 13.0ms\n",
      "video 1/1 (frame 453/3810) /home/hatsu/coding/CapProj/TestSeg_1/video_input/fight_5.mp4: 384x640 1 Fighter, 15.7ms\n",
      "video 1/1 (frame 454/3810) /home/hatsu/coding/CapProj/TestSeg_1/video_input/fight_5.mp4: 384x640 1 Fighter, 19.4ms\n",
      "video 1/1 (frame 455/3810) /home/hatsu/coding/CapProj/TestSeg_1/video_input/fight_5.mp4: 384x640 1 Fighter, 16.0ms\n",
      "video 1/1 (frame 456/3810) /home/hatsu/coding/CapProj/TestSeg_1/video_input/fight_5.mp4: 384x640 1 Fighter, 13.8ms\n",
      "video 1/1 (frame 457/3810) /home/hatsu/coding/CapProj/TestSeg_1/video_input/fight_5.mp4: 384x640 1 Fighter, 14.0ms\n",
      "video 1/1 (frame 458/3810) /home/hatsu/coding/CapProj/TestSeg_1/video_input/fight_5.mp4: 384x640 3 Fighters, 14.3ms\n",
      "video 1/1 (frame 459/3810) /home/hatsu/coding/CapProj/TestSeg_1/video_input/fight_5.mp4: 384x640 3 Fighters, 13.2ms\n",
      "video 1/1 (frame 460/3810) /home/hatsu/coding/CapProj/TestSeg_1/video_input/fight_5.mp4: 384x640 4 Fighters, 13.2ms\n",
      "video 1/1 (frame 461/3810) /home/hatsu/coding/CapProj/TestSeg_1/video_input/fight_5.mp4: 384x640 3 Fighters, 14.2ms\n",
      "video 1/1 (frame 462/3810) /home/hatsu/coding/CapProj/TestSeg_1/video_input/fight_5.mp4: 384x640 4 Fighters, 13.8ms\n",
      "video 1/1 (frame 463/3810) /home/hatsu/coding/CapProj/TestSeg_1/video_input/fight_5.mp4: 384x640 2 Fighters, 13.6ms\n",
      "video 1/1 (frame 464/3810) /home/hatsu/coding/CapProj/TestSeg_1/video_input/fight_5.mp4: 384x640 1 Fighter, 14.9ms\n",
      "video 1/1 (frame 465/3810) /home/hatsu/coding/CapProj/TestSeg_1/video_input/fight_5.mp4: 384x640 1 Fighter, 13.2ms\n",
      "video 1/1 (frame 466/3810) /home/hatsu/coding/CapProj/TestSeg_1/video_input/fight_5.mp4: 384x640 2 Fighters, 13.9ms\n",
      "video 1/1 (frame 467/3810) /home/hatsu/coding/CapProj/TestSeg_1/video_input/fight_5.mp4: 384x640 2 Fighters, 13.4ms\n",
      "video 1/1 (frame 468/3810) /home/hatsu/coding/CapProj/TestSeg_1/video_input/fight_5.mp4: 384x640 3 Fighters, 13.7ms\n",
      "video 1/1 (frame 469/3810) /home/hatsu/coding/CapProj/TestSeg_1/video_input/fight_5.mp4: 384x640 2 Fighters, 12.5ms\n",
      "video 1/1 (frame 470/3810) /home/hatsu/coding/CapProj/TestSeg_1/video_input/fight_5.mp4: 384x640 2 Fighters, 15.6ms\n",
      "video 1/1 (frame 471/3810) /home/hatsu/coding/CapProj/TestSeg_1/video_input/fight_5.mp4: 384x640 1 Fighter, 13.7ms\n",
      "video 1/1 (frame 472/3810) /home/hatsu/coding/CapProj/TestSeg_1/video_input/fight_5.mp4: 384x640 2 Fighters, 13.4ms\n",
      "video 1/1 (frame 473/3810) /home/hatsu/coding/CapProj/TestSeg_1/video_input/fight_5.mp4: 384x640 2 Fighters, 13.7ms\n",
      "video 1/1 (frame 474/3810) /home/hatsu/coding/CapProj/TestSeg_1/video_input/fight_5.mp4: 384x640 3 Fighters, 14.0ms\n",
      "video 1/1 (frame 475/3810) /home/hatsu/coding/CapProj/TestSeg_1/video_input/fight_5.mp4: 384x640 1 Fighter, 14.3ms\n",
      "video 1/1 (frame 476/3810) /home/hatsu/coding/CapProj/TestSeg_1/video_input/fight_5.mp4: 384x640 1 Fighter, 13.6ms\n",
      "video 1/1 (frame 477/3810) /home/hatsu/coding/CapProj/TestSeg_1/video_input/fight_5.mp4: 384x640 1 Fighter, 14.8ms\n",
      "video 1/1 (frame 478/3810) /home/hatsu/coding/CapProj/TestSeg_1/video_input/fight_5.mp4: 384x640 1 Fighter, 14.8ms\n",
      "video 1/1 (frame 479/3810) /home/hatsu/coding/CapProj/TestSeg_1/video_input/fight_5.mp4: 384x640 1 Fighter, 30.9ms\n",
      "video 1/1 (frame 480/3810) /home/hatsu/coding/CapProj/TestSeg_1/video_input/fight_5.mp4: 384x640 1 Fighter, 14.3ms\n",
      "video 1/1 (frame 481/3810) /home/hatsu/coding/CapProj/TestSeg_1/video_input/fight_5.mp4: 384x640 (no detections), 13.4ms\n",
      "video 1/1 (frame 482/3810) /home/hatsu/coding/CapProj/TestSeg_1/video_input/fight_5.mp4: 384x640 2 Fighters, 17.1ms\n",
      "video 1/1 (frame 483/3810) /home/hatsu/coding/CapProj/TestSeg_1/video_input/fight_5.mp4: 384x640 1 Fighter, 13.7ms\n",
      "video 1/1 (frame 484/3810) /home/hatsu/coding/CapProj/TestSeg_1/video_input/fight_5.mp4: 384x640 1 Fighter, 14.3ms\n",
      "video 1/1 (frame 485/3810) /home/hatsu/coding/CapProj/TestSeg_1/video_input/fight_5.mp4: 384x640 1 Fighter, 15.4ms\n",
      "video 1/1 (frame 486/3810) /home/hatsu/coding/CapProj/TestSeg_1/video_input/fight_5.mp4: 384x640 1 Fighter, 16.3ms\n",
      "video 1/1 (frame 487/3810) /home/hatsu/coding/CapProj/TestSeg_1/video_input/fight_5.mp4: 384x640 1 Fighter, 18.0ms\n",
      "video 1/1 (frame 488/3810) /home/hatsu/coding/CapProj/TestSeg_1/video_input/fight_5.mp4: 384x640 1 Fighter, 13.1ms\n",
      "video 1/1 (frame 489/3810) /home/hatsu/coding/CapProj/TestSeg_1/video_input/fight_5.mp4: 384x640 1 Fighter, 14.1ms\n",
      "video 1/1 (frame 490/3810) /home/hatsu/coding/CapProj/TestSeg_1/video_input/fight_5.mp4: 384x640 1 Fighter, 14.8ms\n",
      "video 1/1 (frame 491/3810) /home/hatsu/coding/CapProj/TestSeg_1/video_input/fight_5.mp4: 384x640 1 Fighter, 13.8ms\n",
      "video 1/1 (frame 492/3810) /home/hatsu/coding/CapProj/TestSeg_1/video_input/fight_5.mp4: 384x640 1 Fighter, 13.7ms\n",
      "video 1/1 (frame 493/3810) /home/hatsu/coding/CapProj/TestSeg_1/video_input/fight_5.mp4: 384x640 1 Fighter, 13.4ms\n",
      "video 1/1 (frame 494/3810) /home/hatsu/coding/CapProj/TestSeg_1/video_input/fight_5.mp4: 384x640 1 Fighter, 15.1ms\n",
      "video 1/1 (frame 495/3810) /home/hatsu/coding/CapProj/TestSeg_1/video_input/fight_5.mp4: 384x640 1 Fighter, 11.9ms\n",
      "video 1/1 (frame 496/3810) /home/hatsu/coding/CapProj/TestSeg_1/video_input/fight_5.mp4: 384x640 1 Fighter, 15.3ms\n",
      "video 1/1 (frame 497/3810) /home/hatsu/coding/CapProj/TestSeg_1/video_input/fight_5.mp4: 384x640 1 Fighter, 14.4ms\n",
      "video 1/1 (frame 498/3810) /home/hatsu/coding/CapProj/TestSeg_1/video_input/fight_5.mp4: 384x640 1 Fighter, 14.2ms\n",
      "video 1/1 (frame 499/3810) /home/hatsu/coding/CapProj/TestSeg_1/video_input/fight_5.mp4: 384x640 1 Fighter, 14.0ms\n",
      "video 1/1 (frame 500/3810) /home/hatsu/coding/CapProj/TestSeg_1/video_input/fight_5.mp4: 384x640 1 Fighter, 15.9ms\n",
      "video 1/1 (frame 501/3810) /home/hatsu/coding/CapProj/TestSeg_1/video_input/fight_5.mp4: 384x640 1 Fighter, 13.9ms\n",
      "video 1/1 (frame 502/3810) /home/hatsu/coding/CapProj/TestSeg_1/video_input/fight_5.mp4: 384x640 1 Fighter, 20.6ms\n",
      "video 1/1 (frame 503/3810) /home/hatsu/coding/CapProj/TestSeg_1/video_input/fight_5.mp4: 384x640 1 Fighter, 13.3ms\n",
      "video 1/1 (frame 504/3810) /home/hatsu/coding/CapProj/TestSeg_1/video_input/fight_5.mp4: 384x640 1 Fighter, 16.8ms\n",
      "video 1/1 (frame 505/3810) /home/hatsu/coding/CapProj/TestSeg_1/video_input/fight_5.mp4: 384x640 1 Fighter, 20.8ms\n",
      "video 1/1 (frame 506/3810) /home/hatsu/coding/CapProj/TestSeg_1/video_input/fight_5.mp4: 384x640 1 Fighter, 20.0ms\n",
      "video 1/1 (frame 507/3810) /home/hatsu/coding/CapProj/TestSeg_1/video_input/fight_5.mp4: 384x640 1 Fighter, 21.4ms\n",
      "video 1/1 (frame 508/3810) /home/hatsu/coding/CapProj/TestSeg_1/video_input/fight_5.mp4: 384x640 1 Fighter, 16.9ms\n",
      "video 1/1 (frame 509/3810) /home/hatsu/coding/CapProj/TestSeg_1/video_input/fight_5.mp4: 384x640 1 Fighter, 34.8ms\n",
      "video 1/1 (frame 510/3810) /home/hatsu/coding/CapProj/TestSeg_1/video_input/fight_5.mp4: 384x640 1 Fighter, 16.1ms\n",
      "video 1/1 (frame 511/3810) /home/hatsu/coding/CapProj/TestSeg_1/video_input/fight_5.mp4: 384x640 1 Fighter, 20.5ms\n",
      "video 1/1 (frame 512/3810) /home/hatsu/coding/CapProj/TestSeg_1/video_input/fight_5.mp4: 384x640 1 Fighter, 17.2ms\n",
      "video 1/1 (frame 513/3810) /home/hatsu/coding/CapProj/TestSeg_1/video_input/fight_5.mp4: 384x640 1 Fighter, 23.7ms\n",
      "video 1/1 (frame 514/3810) /home/hatsu/coding/CapProj/TestSeg_1/video_input/fight_5.mp4: 384x640 1 Fighter, 14.6ms\n",
      "video 1/1 (frame 515/3810) /home/hatsu/coding/CapProj/TestSeg_1/video_input/fight_5.mp4: 384x640 1 Fighter, 14.5ms\n",
      "video 1/1 (frame 516/3810) /home/hatsu/coding/CapProj/TestSeg_1/video_input/fight_5.mp4: 384x640 1 Fighter, 14.3ms\n",
      "video 1/1 (frame 517/3810) /home/hatsu/coding/CapProj/TestSeg_1/video_input/fight_5.mp4: 384x640 1 Fighter, 15.2ms\n",
      "video 1/1 (frame 518/3810) /home/hatsu/coding/CapProj/TestSeg_1/video_input/fight_5.mp4: 384x640 1 Fighter, 15.6ms\n",
      "video 1/1 (frame 519/3810) /home/hatsu/coding/CapProj/TestSeg_1/video_input/fight_5.mp4: 384x640 1 Fighter, 14.0ms\n",
      "video 1/1 (frame 520/3810) /home/hatsu/coding/CapProj/TestSeg_1/video_input/fight_5.mp4: 384x640 1 Fighter, 13.8ms\n",
      "video 1/1 (frame 521/3810) /home/hatsu/coding/CapProj/TestSeg_1/video_input/fight_5.mp4: 384x640 1 Fighter, 14.5ms\n",
      "video 1/1 (frame 522/3810) /home/hatsu/coding/CapProj/TestSeg_1/video_input/fight_5.mp4: 384x640 1 Fighter, 13.7ms\n",
      "video 1/1 (frame 523/3810) /home/hatsu/coding/CapProj/TestSeg_1/video_input/fight_5.mp4: 384x640 1 Fighter, 14.2ms\n",
      "video 1/1 (frame 524/3810) /home/hatsu/coding/CapProj/TestSeg_1/video_input/fight_5.mp4: 384x640 1 Fighter, 14.5ms\n",
      "video 1/1 (frame 525/3810) /home/hatsu/coding/CapProj/TestSeg_1/video_input/fight_5.mp4: 384x640 1 Fighter, 12.7ms\n",
      "video 1/1 (frame 526/3810) /home/hatsu/coding/CapProj/TestSeg_1/video_input/fight_5.mp4: 384x640 1 Fighter, 13.7ms\n",
      "video 1/1 (frame 527/3810) /home/hatsu/coding/CapProj/TestSeg_1/video_input/fight_5.mp4: 384x640 1 Fighter, 14.2ms\n",
      "video 1/1 (frame 528/3810) /home/hatsu/coding/CapProj/TestSeg_1/video_input/fight_5.mp4: 384x640 1 Fighter, 14.1ms\n",
      "video 1/1 (frame 529/3810) /home/hatsu/coding/CapProj/TestSeg_1/video_input/fight_5.mp4: 384x640 1 Fighter, 14.0ms\n",
      "video 1/1 (frame 530/3810) /home/hatsu/coding/CapProj/TestSeg_1/video_input/fight_5.mp4: 384x640 1 Fighter, 12.5ms\n",
      "video 1/1 (frame 531/3810) /home/hatsu/coding/CapProj/TestSeg_1/video_input/fight_5.mp4: 384x640 1 Fighter, 13.6ms\n",
      "video 1/1 (frame 532/3810) /home/hatsu/coding/CapProj/TestSeg_1/video_input/fight_5.mp4: 384x640 1 Fighter, 12.8ms\n",
      "video 1/1 (frame 533/3810) /home/hatsu/coding/CapProj/TestSeg_1/video_input/fight_5.mp4: 384x640 1 Fighter, 18.2ms\n",
      "video 1/1 (frame 534/3810) /home/hatsu/coding/CapProj/TestSeg_1/video_input/fight_5.mp4: 384x640 1 Fighter, 13.0ms\n",
      "video 1/1 (frame 535/3810) /home/hatsu/coding/CapProj/TestSeg_1/video_input/fight_5.mp4: 384x640 1 Fighter, 15.4ms\n",
      "video 1/1 (frame 536/3810) /home/hatsu/coding/CapProj/TestSeg_1/video_input/fight_5.mp4: 384x640 1 Fighter, 12.5ms\n",
      "video 1/1 (frame 537/3810) /home/hatsu/coding/CapProj/TestSeg_1/video_input/fight_5.mp4: 384x640 1 Fighter, 20.7ms\n",
      "video 1/1 (frame 538/3810) /home/hatsu/coding/CapProj/TestSeg_1/video_input/fight_5.mp4: 384x640 1 Fighter, 13.9ms\n",
      "video 1/1 (frame 539/3810) /home/hatsu/coding/CapProj/TestSeg_1/video_input/fight_5.mp4: 384x640 1 Fighter, 14.7ms\n",
      "video 1/1 (frame 540/3810) /home/hatsu/coding/CapProj/TestSeg_1/video_input/fight_5.mp4: 384x640 1 Fighter, 12.8ms\n",
      "video 1/1 (frame 541/3810) /home/hatsu/coding/CapProj/TestSeg_1/video_input/fight_5.mp4: 384x640 1 Fighter, 14.1ms\n",
      "video 1/1 (frame 542/3810) /home/hatsu/coding/CapProj/TestSeg_1/video_input/fight_5.mp4: 384x640 1 Fighter, 25.6ms\n",
      "video 1/1 (frame 543/3810) /home/hatsu/coding/CapProj/TestSeg_1/video_input/fight_5.mp4: 384x640 1 Fighter, 13.9ms\n",
      "video 1/1 (frame 544/3810) /home/hatsu/coding/CapProj/TestSeg_1/video_input/fight_5.mp4: 384x640 1 Fighter, 13.4ms\n",
      "video 1/1 (frame 545/3810) /home/hatsu/coding/CapProj/TestSeg_1/video_input/fight_5.mp4: 384x640 1 Fighter, 13.5ms\n",
      "video 1/1 (frame 546/3810) /home/hatsu/coding/CapProj/TestSeg_1/video_input/fight_5.mp4: 384x640 1 Fighter, 12.9ms\n",
      "video 1/1 (frame 547/3810) /home/hatsu/coding/CapProj/TestSeg_1/video_input/fight_5.mp4: 384x640 1 Fighter, 19.0ms\n",
      "video 1/1 (frame 548/3810) /home/hatsu/coding/CapProj/TestSeg_1/video_input/fight_5.mp4: 384x640 1 Fighter, 19.0ms\n",
      "video 1/1 (frame 549/3810) /home/hatsu/coding/CapProj/TestSeg_1/video_input/fight_5.mp4: 384x640 1 Fighter, 17.1ms\n",
      "video 1/1 (frame 550/3810) /home/hatsu/coding/CapProj/TestSeg_1/video_input/fight_5.mp4: 384x640 1 Fighter, 18.2ms\n",
      "video 1/1 (frame 551/3810) /home/hatsu/coding/CapProj/TestSeg_1/video_input/fight_5.mp4: 384x640 1 Fighter, 19.2ms\n",
      "video 1/1 (frame 552/3810) /home/hatsu/coding/CapProj/TestSeg_1/video_input/fight_5.mp4: 384x640 1 Fighter, 18.7ms\n",
      "video 1/1 (frame 553/3810) /home/hatsu/coding/CapProj/TestSeg_1/video_input/fight_5.mp4: 384x640 1 Fighter, 13.9ms\n",
      "video 1/1 (frame 554/3810) /home/hatsu/coding/CapProj/TestSeg_1/video_input/fight_5.mp4: 384x640 1 Fighter, 14.3ms\n",
      "video 1/1 (frame 555/3810) /home/hatsu/coding/CapProj/TestSeg_1/video_input/fight_5.mp4: 384x640 1 Fighter, 14.1ms\n",
      "video 1/1 (frame 556/3810) /home/hatsu/coding/CapProj/TestSeg_1/video_input/fight_5.mp4: 384x640 1 Fighter, 15.1ms\n",
      "video 1/1 (frame 557/3810) /home/hatsu/coding/CapProj/TestSeg_1/video_input/fight_5.mp4: 384x640 1 Fighter, 14.7ms\n",
      "video 1/1 (frame 558/3810) /home/hatsu/coding/CapProj/TestSeg_1/video_input/fight_5.mp4: 384x640 1 Fighter, 17.3ms\n",
      "video 1/1 (frame 559/3810) /home/hatsu/coding/CapProj/TestSeg_1/video_input/fight_5.mp4: 384x640 1 Fighter, 12.9ms\n",
      "video 1/1 (frame 560/3810) /home/hatsu/coding/CapProj/TestSeg_1/video_input/fight_5.mp4: 384x640 1 Fighter, 18.9ms\n",
      "video 1/1 (frame 561/3810) /home/hatsu/coding/CapProj/TestSeg_1/video_input/fight_5.mp4: 384x640 1 Fighter, 13.8ms\n",
      "video 1/1 (frame 562/3810) /home/hatsu/coding/CapProj/TestSeg_1/video_input/fight_5.mp4: 384x640 1 Fighter, 17.7ms\n",
      "video 1/1 (frame 563/3810) /home/hatsu/coding/CapProj/TestSeg_1/video_input/fight_5.mp4: 384x640 1 Fighter, 28.5ms\n",
      "video 1/1 (frame 564/3810) /home/hatsu/coding/CapProj/TestSeg_1/video_input/fight_5.mp4: 384x640 1 Fighter, 39.3ms\n",
      "video 1/1 (frame 565/3810) /home/hatsu/coding/CapProj/TestSeg_1/video_input/fight_5.mp4: 384x640 1 Fighter, 15.2ms\n",
      "video 1/1 (frame 566/3810) /home/hatsu/coding/CapProj/TestSeg_1/video_input/fight_5.mp4: 384x640 1 Fighter, 14.5ms\n",
      "video 1/1 (frame 567/3810) /home/hatsu/coding/CapProj/TestSeg_1/video_input/fight_5.mp4: 384x640 1 Fighter, 13.7ms\n",
      "video 1/1 (frame 568/3810) /home/hatsu/coding/CapProj/TestSeg_1/video_input/fight_5.mp4: 384x640 1 Fighter, 32.1ms\n",
      "video 1/1 (frame 569/3810) /home/hatsu/coding/CapProj/TestSeg_1/video_input/fight_5.mp4: 384x640 1 Fighter, 15.4ms\n",
      "video 1/1 (frame 570/3810) /home/hatsu/coding/CapProj/TestSeg_1/video_input/fight_5.mp4: 384x640 1 Fighter, 15.9ms\n",
      "video 1/1 (frame 571/3810) /home/hatsu/coding/CapProj/TestSeg_1/video_input/fight_5.mp4: 384x640 1 Fighter, 31.4ms\n",
      "video 1/1 (frame 572/3810) /home/hatsu/coding/CapProj/TestSeg_1/video_input/fight_5.mp4: 384x640 1 Fighter, 14.6ms\n",
      "video 1/1 (frame 573/3810) /home/hatsu/coding/CapProj/TestSeg_1/video_input/fight_5.mp4: 384x640 1 Fighter, 15.0ms\n",
      "video 1/1 (frame 574/3810) /home/hatsu/coding/CapProj/TestSeg_1/video_input/fight_5.mp4: 384x640 1 Fighter, 13.7ms\n",
      "video 1/1 (frame 575/3810) /home/hatsu/coding/CapProj/TestSeg_1/video_input/fight_5.mp4: 384x640 1 Fighter, 15.5ms\n",
      "video 1/1 (frame 576/3810) /home/hatsu/coding/CapProj/TestSeg_1/video_input/fight_5.mp4: 384x640 1 Fighter, 13.1ms\n",
      "video 1/1 (frame 577/3810) /home/hatsu/coding/CapProj/TestSeg_1/video_input/fight_5.mp4: 384x640 1 Fighter, 14.7ms\n",
      "video 1/1 (frame 578/3810) /home/hatsu/coding/CapProj/TestSeg_1/video_input/fight_5.mp4: 384x640 1 Fighter, 12.6ms\n",
      "video 1/1 (frame 579/3810) /home/hatsu/coding/CapProj/TestSeg_1/video_input/fight_5.mp4: 384x640 1 Fighter, 14.7ms\n",
      "video 1/1 (frame 580/3810) /home/hatsu/coding/CapProj/TestSeg_1/video_input/fight_5.mp4: 384x640 1 Fighter, 15.3ms\n",
      "video 1/1 (frame 581/3810) /home/hatsu/coding/CapProj/TestSeg_1/video_input/fight_5.mp4: 384x640 1 Fighter, 14.2ms\n",
      "video 1/1 (frame 582/3810) /home/hatsu/coding/CapProj/TestSeg_1/video_input/fight_5.mp4: 384x640 1 Fighter, 13.4ms\n",
      "video 1/1 (frame 583/3810) /home/hatsu/coding/CapProj/TestSeg_1/video_input/fight_5.mp4: 384x640 1 Fighter, 26.2ms\n",
      "video 1/1 (frame 584/3810) /home/hatsu/coding/CapProj/TestSeg_1/video_input/fight_5.mp4: 384x640 1 Fighter, 13.5ms\n",
      "video 1/1 (frame 585/3810) /home/hatsu/coding/CapProj/TestSeg_1/video_input/fight_5.mp4: 384x640 1 Fighter, 12.7ms\n",
      "video 1/1 (frame 586/3810) /home/hatsu/coding/CapProj/TestSeg_1/video_input/fight_5.mp4: 384x640 1 Fighter, 18.3ms\n",
      "video 1/1 (frame 587/3810) /home/hatsu/coding/CapProj/TestSeg_1/video_input/fight_5.mp4: 384x640 1 Fighter, 21.8ms\n",
      "video 1/1 (frame 588/3810) /home/hatsu/coding/CapProj/TestSeg_1/video_input/fight_5.mp4: 384x640 1 Fighter, 21.6ms\n",
      "video 1/1 (frame 589/3810) /home/hatsu/coding/CapProj/TestSeg_1/video_input/fight_5.mp4: 384x640 1 Fighter, 19.7ms\n",
      "video 1/1 (frame 590/3810) /home/hatsu/coding/CapProj/TestSeg_1/video_input/fight_5.mp4: 384x640 1 Fighter, 16.7ms\n",
      "video 1/1 (frame 591/3810) /home/hatsu/coding/CapProj/TestSeg_1/video_input/fight_5.mp4: 384x640 1 Fighter, 20.3ms\n",
      "video 1/1 (frame 592/3810) /home/hatsu/coding/CapProj/TestSeg_1/video_input/fight_5.mp4: 384x640 1 Fighter, 13.9ms\n",
      "video 1/1 (frame 593/3810) /home/hatsu/coding/CapProj/TestSeg_1/video_input/fight_5.mp4: 384x640 1 Fighter, 17.1ms\n",
      "video 1/1 (frame 594/3810) /home/hatsu/coding/CapProj/TestSeg_1/video_input/fight_5.mp4: 384x640 1 Fighter, 15.6ms\n",
      "video 1/1 (frame 595/3810) /home/hatsu/coding/CapProj/TestSeg_1/video_input/fight_5.mp4: 384x640 1 Fighter, 13.4ms\n",
      "video 1/1 (frame 596/3810) /home/hatsu/coding/CapProj/TestSeg_1/video_input/fight_5.mp4: 384x640 1 Fighter, 14.8ms\n",
      "video 1/1 (frame 597/3810) /home/hatsu/coding/CapProj/TestSeg_1/video_input/fight_5.mp4: 384x640 1 Fighter, 13.7ms\n",
      "video 1/1 (frame 598/3810) /home/hatsu/coding/CapProj/TestSeg_1/video_input/fight_5.mp4: 384x640 1 Fighter, 33.3ms\n",
      "video 1/1 (frame 599/3810) /home/hatsu/coding/CapProj/TestSeg_1/video_input/fight_5.mp4: 384x640 1 Fighter, 26.3ms\n",
      "video 1/1 (frame 600/3810) /home/hatsu/coding/CapProj/TestSeg_1/video_input/fight_5.mp4: 384x640 1 Fighter, 14.9ms\n",
      "video 1/1 (frame 601/3810) /home/hatsu/coding/CapProj/TestSeg_1/video_input/fight_5.mp4: 384x640 1 Fighter, 13.0ms\n",
      "video 1/1 (frame 602/3810) /home/hatsu/coding/CapProj/TestSeg_1/video_input/fight_5.mp4: 384x640 1 Fighter, 13.6ms\n",
      "video 1/1 (frame 603/3810) /home/hatsu/coding/CapProj/TestSeg_1/video_input/fight_5.mp4: 384x640 1 Fighter, 13.9ms\n",
      "video 1/1 (frame 604/3810) /home/hatsu/coding/CapProj/TestSeg_1/video_input/fight_5.mp4: 384x640 1 Fighter, 14.0ms\n",
      "video 1/1 (frame 605/3810) /home/hatsu/coding/CapProj/TestSeg_1/video_input/fight_5.mp4: 384x640 1 Fighter, 14.1ms\n",
      "video 1/1 (frame 606/3810) /home/hatsu/coding/CapProj/TestSeg_1/video_input/fight_5.mp4: 384x640 1 Fighter, 13.5ms\n",
      "video 1/1 (frame 607/3810) /home/hatsu/coding/CapProj/TestSeg_1/video_input/fight_5.mp4: 384x640 1 Fighter, 13.8ms\n",
      "video 1/1 (frame 608/3810) /home/hatsu/coding/CapProj/TestSeg_1/video_input/fight_5.mp4: 384x640 1 Fighter, 13.3ms\n",
      "video 1/1 (frame 609/3810) /home/hatsu/coding/CapProj/TestSeg_1/video_input/fight_5.mp4: 384x640 1 Fighter, 13.2ms\n",
      "video 1/1 (frame 610/3810) /home/hatsu/coding/CapProj/TestSeg_1/video_input/fight_5.mp4: 384x640 1 Fighter, 13.1ms\n",
      "video 1/1 (frame 611/3810) /home/hatsu/coding/CapProj/TestSeg_1/video_input/fight_5.mp4: 384x640 1 Fighter, 16.5ms\n",
      "video 1/1 (frame 612/3810) /home/hatsu/coding/CapProj/TestSeg_1/video_input/fight_5.mp4: 384x640 1 Fighter, 13.9ms\n",
      "video 1/1 (frame 613/3810) /home/hatsu/coding/CapProj/TestSeg_1/video_input/fight_5.mp4: 384x640 1 Fighter, 14.4ms\n",
      "video 1/1 (frame 614/3810) /home/hatsu/coding/CapProj/TestSeg_1/video_input/fight_5.mp4: 384x640 1 Fighter, 14.7ms\n",
      "video 1/1 (frame 615/3810) /home/hatsu/coding/CapProj/TestSeg_1/video_input/fight_5.mp4: 384x640 1 Fighter, 19.9ms\n",
      "video 1/1 (frame 616/3810) /home/hatsu/coding/CapProj/TestSeg_1/video_input/fight_5.mp4: 384x640 1 Fighter, 17.0ms\n",
      "video 1/1 (frame 617/3810) /home/hatsu/coding/CapProj/TestSeg_1/video_input/fight_5.mp4: 384x640 1 Fighter, 15.8ms\n",
      "video 1/1 (frame 618/3810) /home/hatsu/coding/CapProj/TestSeg_1/video_input/fight_5.mp4: 384x640 1 Fighter, 14.9ms\n",
      "video 1/1 (frame 619/3810) /home/hatsu/coding/CapProj/TestSeg_1/video_input/fight_5.mp4: 384x640 1 Fighter, 14.6ms\n",
      "video 1/1 (frame 620/3810) /home/hatsu/coding/CapProj/TestSeg_1/video_input/fight_5.mp4: 384x640 1 Fighter, 12.7ms\n",
      "video 1/1 (frame 621/3810) /home/hatsu/coding/CapProj/TestSeg_1/video_input/fight_5.mp4: 384x640 1 Fighter, 13.4ms\n",
      "video 1/1 (frame 622/3810) /home/hatsu/coding/CapProj/TestSeg_1/video_input/fight_5.mp4: 384x640 1 Fighter, 14.8ms\n",
      "video 1/1 (frame 623/3810) /home/hatsu/coding/CapProj/TestSeg_1/video_input/fight_5.mp4: 384x640 1 Fighter, 13.8ms\n",
      "video 1/1 (frame 624/3810) /home/hatsu/coding/CapProj/TestSeg_1/video_input/fight_5.mp4: 384x640 1 Fighter, 14.2ms\n",
      "video 1/1 (frame 625/3810) /home/hatsu/coding/CapProj/TestSeg_1/video_input/fight_5.mp4: 384x640 1 Fighter, 12.8ms\n",
      "video 1/1 (frame 626/3810) /home/hatsu/coding/CapProj/TestSeg_1/video_input/fight_5.mp4: 384x640 1 Fighter, 14.6ms\n",
      "video 1/1 (frame 627/3810) /home/hatsu/coding/CapProj/TestSeg_1/video_input/fight_5.mp4: 384x640 1 Fighter, 13.7ms\n",
      "video 1/1 (frame 628/3810) /home/hatsu/coding/CapProj/TestSeg_1/video_input/fight_5.mp4: 384x640 1 Fighter, 14.8ms\n",
      "video 1/1 (frame 629/3810) /home/hatsu/coding/CapProj/TestSeg_1/video_input/fight_5.mp4: 384x640 1 Fighter, 14.4ms\n",
      "video 1/1 (frame 630/3810) /home/hatsu/coding/CapProj/TestSeg_1/video_input/fight_5.mp4: 384x640 1 Fighter, 18.5ms\n",
      "video 1/1 (frame 631/3810) /home/hatsu/coding/CapProj/TestSeg_1/video_input/fight_5.mp4: 384x640 1 Fighter, 13.9ms\n",
      "video 1/1 (frame 632/3810) /home/hatsu/coding/CapProj/TestSeg_1/video_input/fight_5.mp4: 384x640 1 Fighter, 15.2ms\n",
      "video 1/1 (frame 633/3810) /home/hatsu/coding/CapProj/TestSeg_1/video_input/fight_5.mp4: 384x640 1 Fighter, 12.8ms\n",
      "video 1/1 (frame 634/3810) /home/hatsu/coding/CapProj/TestSeg_1/video_input/fight_5.mp4: 384x640 1 Fighter, 14.9ms\n",
      "video 1/1 (frame 635/3810) /home/hatsu/coding/CapProj/TestSeg_1/video_input/fight_5.mp4: 384x640 1 Fighter, 19.4ms\n",
      "video 1/1 (frame 636/3810) /home/hatsu/coding/CapProj/TestSeg_1/video_input/fight_5.mp4: 384x640 1 Fighter, 13.8ms\n",
      "video 1/1 (frame 637/3810) /home/hatsu/coding/CapProj/TestSeg_1/video_input/fight_5.mp4: 384x640 1 Fighter, 13.4ms\n",
      "video 1/1 (frame 638/3810) /home/hatsu/coding/CapProj/TestSeg_1/video_input/fight_5.mp4: 384x640 1 Fighter, 22.9ms\n",
      "video 1/1 (frame 639/3810) /home/hatsu/coding/CapProj/TestSeg_1/video_input/fight_5.mp4: 384x640 1 Fighter, 19.9ms\n",
      "video 1/1 (frame 640/3810) /home/hatsu/coding/CapProj/TestSeg_1/video_input/fight_5.mp4: 384x640 1 Fighter, 19.8ms\n",
      "video 1/1 (frame 641/3810) /home/hatsu/coding/CapProj/TestSeg_1/video_input/fight_5.mp4: 384x640 1 Fighter, 20.6ms\n",
      "video 1/1 (frame 642/3810) /home/hatsu/coding/CapProj/TestSeg_1/video_input/fight_5.mp4: 384x640 1 Fighter, 18.0ms\n",
      "video 1/1 (frame 643/3810) /home/hatsu/coding/CapProj/TestSeg_1/video_input/fight_5.mp4: 384x640 1 Fighter, 18.1ms\n",
      "video 1/1 (frame 644/3810) /home/hatsu/coding/CapProj/TestSeg_1/video_input/fight_5.mp4: 384x640 1 Fighter, 14.4ms\n",
      "video 1/1 (frame 645/3810) /home/hatsu/coding/CapProj/TestSeg_1/video_input/fight_5.mp4: 384x640 1 Fighter, 12.7ms\n",
      "video 1/1 (frame 646/3810) /home/hatsu/coding/CapProj/TestSeg_1/video_input/fight_5.mp4: 384x640 1 Fighter, 13.8ms\n",
      "video 1/1 (frame 647/3810) /home/hatsu/coding/CapProj/TestSeg_1/video_input/fight_5.mp4: 384x640 1 Fighter, 12.8ms\n",
      "video 1/1 (frame 648/3810) /home/hatsu/coding/CapProj/TestSeg_1/video_input/fight_5.mp4: 384x640 1 Fighter, 15.0ms\n",
      "video 1/1 (frame 649/3810) /home/hatsu/coding/CapProj/TestSeg_1/video_input/fight_5.mp4: 384x640 1 Fighter, 13.1ms\n",
      "video 1/1 (frame 650/3810) /home/hatsu/coding/CapProj/TestSeg_1/video_input/fight_5.mp4: 384x640 1 Fighter, 14.1ms\n",
      "video 1/1 (frame 651/3810) /home/hatsu/coding/CapProj/TestSeg_1/video_input/fight_5.mp4: 384x640 1 Fighter, 13.6ms\n",
      "video 1/1 (frame 652/3810) /home/hatsu/coding/CapProj/TestSeg_1/video_input/fight_5.mp4: 384x640 1 Fighter, 13.8ms\n",
      "video 1/1 (frame 653/3810) /home/hatsu/coding/CapProj/TestSeg_1/video_input/fight_5.mp4: 384x640 1 Fighter, 13.7ms\n",
      "video 1/1 (frame 654/3810) /home/hatsu/coding/CapProj/TestSeg_1/video_input/fight_5.mp4: 384x640 1 Fighter, 13.9ms\n",
      "video 1/1 (frame 655/3810) /home/hatsu/coding/CapProj/TestSeg_1/video_input/fight_5.mp4: 384x640 1 Fighter, 12.8ms\n",
      "video 1/1 (frame 656/3810) /home/hatsu/coding/CapProj/TestSeg_1/video_input/fight_5.mp4: 384x640 1 Fighter, 31.1ms\n",
      "video 1/1 (frame 657/3810) /home/hatsu/coding/CapProj/TestSeg_1/video_input/fight_5.mp4: 384x640 1 Fighter, 16.6ms\n",
      "video 1/1 (frame 658/3810) /home/hatsu/coding/CapProj/TestSeg_1/video_input/fight_5.mp4: 384x640 1 Fighter, 31.0ms\n",
      "video 1/1 (frame 659/3810) /home/hatsu/coding/CapProj/TestSeg_1/video_input/fight_5.mp4: 384x640 2 Fighters, 15.7ms\n",
      "video 1/1 (frame 660/3810) /home/hatsu/coding/CapProj/TestSeg_1/video_input/fight_5.mp4: 384x640 2 Fighters, 14.5ms\n",
      "video 1/1 (frame 661/3810) /home/hatsu/coding/CapProj/TestSeg_1/video_input/fight_5.mp4: 384x640 1 Fighter, 26.3ms\n",
      "video 1/1 (frame 662/3810) /home/hatsu/coding/CapProj/TestSeg_1/video_input/fight_5.mp4: 384x640 1 Fighter, 15.6ms\n",
      "video 1/1 (frame 663/3810) /home/hatsu/coding/CapProj/TestSeg_1/video_input/fight_5.mp4: 384x640 1 Fighter, 14.7ms\n",
      "video 1/1 (frame 664/3810) /home/hatsu/coding/CapProj/TestSeg_1/video_input/fight_5.mp4: 384x640 1 Fighter, 13.4ms\n",
      "video 1/1 (frame 665/3810) /home/hatsu/coding/CapProj/TestSeg_1/video_input/fight_5.mp4: 384x640 2 Fighters, 12.3ms\n",
      "video 1/1 (frame 666/3810) /home/hatsu/coding/CapProj/TestSeg_1/video_input/fight_5.mp4: 384x640 2 Fighters, 17.7ms\n",
      "video 1/1 (frame 667/3810) /home/hatsu/coding/CapProj/TestSeg_1/video_input/fight_5.mp4: 384x640 2 Fighters, 14.4ms\n",
      "video 1/1 (frame 668/3810) /home/hatsu/coding/CapProj/TestSeg_1/video_input/fight_5.mp4: 384x640 2 Fighters, 36.3ms\n",
      "video 1/1 (frame 669/3810) /home/hatsu/coding/CapProj/TestSeg_1/video_input/fight_5.mp4: 384x640 2 Fighters, 18.8ms\n",
      "video 1/1 (frame 670/3810) /home/hatsu/coding/CapProj/TestSeg_1/video_input/fight_5.mp4: 384x640 2 Fighters, 15.0ms\n",
      "video 1/1 (frame 671/3810) /home/hatsu/coding/CapProj/TestSeg_1/video_input/fight_5.mp4: 384x640 2 Fighters, 15.1ms\n",
      "video 1/1 (frame 672/3810) /home/hatsu/coding/CapProj/TestSeg_1/video_input/fight_5.mp4: 384x640 2 Fighters, 13.4ms\n",
      "video 1/1 (frame 673/3810) /home/hatsu/coding/CapProj/TestSeg_1/video_input/fight_5.mp4: 384x640 2 Fighters, 14.4ms\n",
      "video 1/1 (frame 674/3810) /home/hatsu/coding/CapProj/TestSeg_1/video_input/fight_5.mp4: 384x640 2 Fighters, 15.3ms\n",
      "video 1/1 (frame 675/3810) /home/hatsu/coding/CapProj/TestSeg_1/video_input/fight_5.mp4: 384x640 2 Fighters, 13.1ms\n",
      "video 1/1 (frame 676/3810) /home/hatsu/coding/CapProj/TestSeg_1/video_input/fight_5.mp4: 384x640 2 Fighters, 15.4ms\n",
      "video 1/1 (frame 677/3810) /home/hatsu/coding/CapProj/TestSeg_1/video_input/fight_5.mp4: 384x640 2 Fighters, 15.4ms\n",
      "video 1/1 (frame 678/3810) /home/hatsu/coding/CapProj/TestSeg_1/video_input/fight_5.mp4: 384x640 2 Fighters, 15.1ms\n",
      "video 1/1 (frame 679/3810) /home/hatsu/coding/CapProj/TestSeg_1/video_input/fight_5.mp4: 384x640 2 Fighters, 13.4ms\n",
      "video 1/1 (frame 680/3810) /home/hatsu/coding/CapProj/TestSeg_1/video_input/fight_5.mp4: 384x640 2 Fighters, 12.8ms\n",
      "video 1/1 (frame 681/3810) /home/hatsu/coding/CapProj/TestSeg_1/video_input/fight_5.mp4: 384x640 2 Fighters, 22.6ms\n",
      "video 1/1 (frame 682/3810) /home/hatsu/coding/CapProj/TestSeg_1/video_input/fight_5.mp4: 384x640 2 Fighters, 15.2ms\n",
      "video 1/1 (frame 683/3810) /home/hatsu/coding/CapProj/TestSeg_1/video_input/fight_5.mp4: 384x640 1 Fighter, 15.9ms\n",
      "video 1/1 (frame 684/3810) /home/hatsu/coding/CapProj/TestSeg_1/video_input/fight_5.mp4: 384x640 1 Fighter, 15.1ms\n",
      "video 1/1 (frame 685/3810) /home/hatsu/coding/CapProj/TestSeg_1/video_input/fight_5.mp4: 384x640 1 Fighter, 14.1ms\n",
      "video 1/1 (frame 686/3810) /home/hatsu/coding/CapProj/TestSeg_1/video_input/fight_5.mp4: 384x640 1 Fighter, 15.1ms\n",
      "video 1/1 (frame 687/3810) /home/hatsu/coding/CapProj/TestSeg_1/video_input/fight_5.mp4: 384x640 1 Fighter, 14.4ms\n",
      "video 1/1 (frame 688/3810) /home/hatsu/coding/CapProj/TestSeg_1/video_input/fight_5.mp4: 384x640 1 Fighter, 14.0ms\n",
      "video 1/1 (frame 689/3810) /home/hatsu/coding/CapProj/TestSeg_1/video_input/fight_5.mp4: 384x640 1 Fighter, 14.5ms\n",
      "video 1/1 (frame 690/3810) /home/hatsu/coding/CapProj/TestSeg_1/video_input/fight_5.mp4: 384x640 1 Fighter, 19.0ms\n",
      "video 1/1 (frame 691/3810) /home/hatsu/coding/CapProj/TestSeg_1/video_input/fight_5.mp4: 384x640 1 Fighter, 20.1ms\n",
      "video 1/1 (frame 692/3810) /home/hatsu/coding/CapProj/TestSeg_1/video_input/fight_5.mp4: 384x640 1 Fighter, 17.7ms\n",
      "video 1/1 (frame 693/3810) /home/hatsu/coding/CapProj/TestSeg_1/video_input/fight_5.mp4: 384x640 1 Fighter, 23.0ms\n",
      "video 1/1 (frame 694/3810) /home/hatsu/coding/CapProj/TestSeg_1/video_input/fight_5.mp4: 384x640 1 Fighter, 20.1ms\n",
      "video 1/1 (frame 695/3810) /home/hatsu/coding/CapProj/TestSeg_1/video_input/fight_5.mp4: 384x640 1 Fighter, 30.9ms\n",
      "video 1/1 (frame 696/3810) /home/hatsu/coding/CapProj/TestSeg_1/video_input/fight_5.mp4: 384x640 1 Fighter, 18.4ms\n",
      "video 1/1 (frame 697/3810) /home/hatsu/coding/CapProj/TestSeg_1/video_input/fight_5.mp4: 384x640 1 Fighter, 17.9ms\n",
      "video 1/1 (frame 698/3810) /home/hatsu/coding/CapProj/TestSeg_1/video_input/fight_5.mp4: 384x640 1 Fighter, 12.9ms\n",
      "video 1/1 (frame 699/3810) /home/hatsu/coding/CapProj/TestSeg_1/video_input/fight_5.mp4: 384x640 1 Fighter, 14.6ms\n",
      "video 1/1 (frame 700/3810) /home/hatsu/coding/CapProj/TestSeg_1/video_input/fight_5.mp4: 384x640 1 Fighter, 14.5ms\n",
      "video 1/1 (frame 701/3810) /home/hatsu/coding/CapProj/TestSeg_1/video_input/fight_5.mp4: 384x640 1 Fighter, 13.4ms\n",
      "video 1/1 (frame 702/3810) /home/hatsu/coding/CapProj/TestSeg_1/video_input/fight_5.mp4: 384x640 1 Fighter, 13.8ms\n",
      "video 1/1 (frame 703/3810) /home/hatsu/coding/CapProj/TestSeg_1/video_input/fight_5.mp4: 384x640 1 Fighter, 13.8ms\n",
      "video 1/1 (frame 704/3810) /home/hatsu/coding/CapProj/TestSeg_1/video_input/fight_5.mp4: 384x640 1 Fighter, 14.2ms\n",
      "video 1/1 (frame 705/3810) /home/hatsu/coding/CapProj/TestSeg_1/video_input/fight_5.mp4: 384x640 1 Fighter, 17.1ms\n",
      "video 1/1 (frame 706/3810) /home/hatsu/coding/CapProj/TestSeg_1/video_input/fight_5.mp4: 384x640 1 Fighter, 15.4ms\n",
      "video 1/1 (frame 707/3810) /home/hatsu/coding/CapProj/TestSeg_1/video_input/fight_5.mp4: 384x640 1 Fighter, 15.1ms\n",
      "video 1/1 (frame 708/3810) /home/hatsu/coding/CapProj/TestSeg_1/video_input/fight_5.mp4: 384x640 1 Fighter, 15.2ms\n",
      "video 1/1 (frame 709/3810) /home/hatsu/coding/CapProj/TestSeg_1/video_input/fight_5.mp4: 384x640 1 Fighter, 14.2ms\n",
      "video 1/1 (frame 710/3810) /home/hatsu/coding/CapProj/TestSeg_1/video_input/fight_5.mp4: 384x640 1 Fighter, 15.6ms\n",
      "video 1/1 (frame 711/3810) /home/hatsu/coding/CapProj/TestSeg_1/video_input/fight_5.mp4: 384x640 1 Fighter, 14.3ms\n",
      "video 1/1 (frame 712/3810) /home/hatsu/coding/CapProj/TestSeg_1/video_input/fight_5.mp4: 384x640 1 Fighter, 13.4ms\n",
      "video 1/1 (frame 713/3810) /home/hatsu/coding/CapProj/TestSeg_1/video_input/fight_5.mp4: 384x640 1 Fighter, 15.2ms\n",
      "video 1/1 (frame 714/3810) /home/hatsu/coding/CapProj/TestSeg_1/video_input/fight_5.mp4: 384x640 1 Fighter, 14.3ms\n",
      "video 1/1 (frame 715/3810) /home/hatsu/coding/CapProj/TestSeg_1/video_input/fight_5.mp4: 384x640 1 Fighter, 13.1ms\n",
      "video 1/1 (frame 716/3810) /home/hatsu/coding/CapProj/TestSeg_1/video_input/fight_5.mp4: 384x640 1 Fighter, 13.9ms\n",
      "video 1/1 (frame 717/3810) /home/hatsu/coding/CapProj/TestSeg_1/video_input/fight_5.mp4: 384x640 1 Fighter, 12.8ms\n",
      "video 1/1 (frame 718/3810) /home/hatsu/coding/CapProj/TestSeg_1/video_input/fight_5.mp4: 384x640 1 Fighter, 12.7ms\n",
      "video 1/1 (frame 719/3810) /home/hatsu/coding/CapProj/TestSeg_1/video_input/fight_5.mp4: 384x640 1 Fighter, 17.0ms\n",
      "video 1/1 (frame 720/3810) /home/hatsu/coding/CapProj/TestSeg_1/video_input/fight_5.mp4: 384x640 1 Fighter, 15.2ms\n",
      "video 1/1 (frame 721/3810) /home/hatsu/coding/CapProj/TestSeg_1/video_input/fight_5.mp4: 384x640 1 Fighter, 13.8ms\n",
      "video 1/1 (frame 722/3810) /home/hatsu/coding/CapProj/TestSeg_1/video_input/fight_5.mp4: 384x640 1 Fighter, 14.6ms\n",
      "video 1/1 (frame 723/3810) /home/hatsu/coding/CapProj/TestSeg_1/video_input/fight_5.mp4: 384x640 1 Fighter, 17.2ms\n",
      "video 1/1 (frame 724/3810) /home/hatsu/coding/CapProj/TestSeg_1/video_input/fight_5.mp4: 384x640 1 Fighter, 13.9ms\n",
      "video 1/1 (frame 725/3810) /home/hatsu/coding/CapProj/TestSeg_1/video_input/fight_5.mp4: 384x640 1 Fighter, 16.6ms\n",
      "video 1/1 (frame 726/3810) /home/hatsu/coding/CapProj/TestSeg_1/video_input/fight_5.mp4: 384x640 1 Fighter, 15.4ms\n",
      "video 1/1 (frame 727/3810) /home/hatsu/coding/CapProj/TestSeg_1/video_input/fight_5.mp4: 384x640 1 Fighter, 21.5ms\n",
      "video 1/1 (frame 728/3810) /home/hatsu/coding/CapProj/TestSeg_1/video_input/fight_5.mp4: 384x640 1 Fighter, 14.8ms\n",
      "video 1/1 (frame 729/3810) /home/hatsu/coding/CapProj/TestSeg_1/video_input/fight_5.mp4: 384x640 1 Fighter, 14.4ms\n",
      "video 1/1 (frame 730/3810) /home/hatsu/coding/CapProj/TestSeg_1/video_input/fight_5.mp4: 384x640 1 Fighter, 14.8ms\n",
      "video 1/1 (frame 731/3810) /home/hatsu/coding/CapProj/TestSeg_1/video_input/fight_5.mp4: 384x640 1 Fighter, 20.6ms\n",
      "video 1/1 (frame 732/3810) /home/hatsu/coding/CapProj/TestSeg_1/video_input/fight_5.mp4: 384x640 1 Fighter, 20.4ms\n",
      "video 1/1 (frame 733/3810) /home/hatsu/coding/CapProj/TestSeg_1/video_input/fight_5.mp4: 384x640 1 Fighter, 21.7ms\n",
      "video 1/1 (frame 734/3810) /home/hatsu/coding/CapProj/TestSeg_1/video_input/fight_5.mp4: 384x640 1 Fighter, 19.2ms\n",
      "video 1/1 (frame 735/3810) /home/hatsu/coding/CapProj/TestSeg_1/video_input/fight_5.mp4: 384x640 1 Fighter, 21.5ms\n",
      "video 1/1 (frame 736/3810) /home/hatsu/coding/CapProj/TestSeg_1/video_input/fight_5.mp4: 384x640 1 Fighter, 32.9ms\n",
      "video 1/1 (frame 737/3810) /home/hatsu/coding/CapProj/TestSeg_1/video_input/fight_5.mp4: 384x640 1 Fighter, 18.0ms\n",
      "video 1/1 (frame 738/3810) /home/hatsu/coding/CapProj/TestSeg_1/video_input/fight_5.mp4: 384x640 1 Fighter, 26.0ms\n",
      "video 1/1 (frame 739/3810) /home/hatsu/coding/CapProj/TestSeg_1/video_input/fight_5.mp4: 384x640 1 Fighter, 17.4ms\n",
      "video 1/1 (frame 740/3810) /home/hatsu/coding/CapProj/TestSeg_1/video_input/fight_5.mp4: 384x640 1 Fighter, 34.5ms\n",
      "video 1/1 (frame 741/3810) /home/hatsu/coding/CapProj/TestSeg_1/video_input/fight_5.mp4: 384x640 1 Fighter, 14.0ms\n",
      "video 1/1 (frame 742/3810) /home/hatsu/coding/CapProj/TestSeg_1/video_input/fight_5.mp4: 384x640 1 Fighter, 13.4ms\n",
      "video 1/1 (frame 743/3810) /home/hatsu/coding/CapProj/TestSeg_1/video_input/fight_5.mp4: 384x640 1 Fighter, 15.3ms\n",
      "video 1/1 (frame 744/3810) /home/hatsu/coding/CapProj/TestSeg_1/video_input/fight_5.mp4: 384x640 1 Fighter, 15.3ms\n",
      "video 1/1 (frame 745/3810) /home/hatsu/coding/CapProj/TestSeg_1/video_input/fight_5.mp4: 384x640 1 Fighter, 14.2ms\n",
      "video 1/1 (frame 746/3810) /home/hatsu/coding/CapProj/TestSeg_1/video_input/fight_5.mp4: 384x640 1 Fighter, 15.1ms\n",
      "video 1/1 (frame 747/3810) /home/hatsu/coding/CapProj/TestSeg_1/video_input/fight_5.mp4: 384x640 1 Fighter, 15.7ms\n",
      "video 1/1 (frame 748/3810) /home/hatsu/coding/CapProj/TestSeg_1/video_input/fight_5.mp4: 384x640 1 Fighter, 19.1ms\n",
      "video 1/1 (frame 749/3810) /home/hatsu/coding/CapProj/TestSeg_1/video_input/fight_5.mp4: 384x640 1 Fighter, 14.4ms\n",
      "video 1/1 (frame 750/3810) /home/hatsu/coding/CapProj/TestSeg_1/video_input/fight_5.mp4: 384x640 1 Fighter, 13.0ms\n",
      "video 1/1 (frame 751/3810) /home/hatsu/coding/CapProj/TestSeg_1/video_input/fight_5.mp4: 384x640 1 Fighter, 12.4ms\n",
      "video 1/1 (frame 752/3810) /home/hatsu/coding/CapProj/TestSeg_1/video_input/fight_5.mp4: 384x640 1 Fighter, 13.4ms\n",
      "video 1/1 (frame 753/3810) /home/hatsu/coding/CapProj/TestSeg_1/video_input/fight_5.mp4: 384x640 1 Fighter, 14.4ms\n",
      "video 1/1 (frame 754/3810) /home/hatsu/coding/CapProj/TestSeg_1/video_input/fight_5.mp4: 384x640 1 Fighter, 12.6ms\n",
      "video 1/1 (frame 755/3810) /home/hatsu/coding/CapProj/TestSeg_1/video_input/fight_5.mp4: 384x640 1 Fighter, 14.0ms\n",
      "video 1/1 (frame 756/3810) /home/hatsu/coding/CapProj/TestSeg_1/video_input/fight_5.mp4: 384x640 2 Fighters, 14.3ms\n",
      "video 1/1 (frame 757/3810) /home/hatsu/coding/CapProj/TestSeg_1/video_input/fight_5.mp4: 384x640 2 Fighters, 12.9ms\n",
      "video 1/1 (frame 758/3810) /home/hatsu/coding/CapProj/TestSeg_1/video_input/fight_5.mp4: 384x640 2 Fighters, 16.3ms\n",
      "video 1/1 (frame 759/3810) /home/hatsu/coding/CapProj/TestSeg_1/video_input/fight_5.mp4: 384x640 2 Fighters, 16.9ms\n",
      "video 1/1 (frame 760/3810) /home/hatsu/coding/CapProj/TestSeg_1/video_input/fight_5.mp4: 384x640 2 Fighters, 16.1ms\n",
      "video 1/1 (frame 761/3810) /home/hatsu/coding/CapProj/TestSeg_1/video_input/fight_5.mp4: 384x640 2 Fighters, 15.5ms\n",
      "video 1/1 (frame 762/3810) /home/hatsu/coding/CapProj/TestSeg_1/video_input/fight_5.mp4: 384x640 2 Fighters, 12.8ms\n",
      "video 1/1 (frame 763/3810) /home/hatsu/coding/CapProj/TestSeg_1/video_input/fight_5.mp4: 384x640 2 Fighters, 14.7ms\n",
      "video 1/1 (frame 764/3810) /home/hatsu/coding/CapProj/TestSeg_1/video_input/fight_5.mp4: 384x640 2 Fighters, 14.9ms\n",
      "video 1/1 (frame 765/3810) /home/hatsu/coding/CapProj/TestSeg_1/video_input/fight_5.mp4: 384x640 2 Fighters, 12.8ms\n",
      "video 1/1 (frame 766/3810) /home/hatsu/coding/CapProj/TestSeg_1/video_input/fight_5.mp4: 384x640 2 Fighters, 14.2ms\n",
      "video 1/1 (frame 767/3810) /home/hatsu/coding/CapProj/TestSeg_1/video_input/fight_5.mp4: 384x640 2 Fighters, 15.2ms\n",
      "video 1/1 (frame 768/3810) /home/hatsu/coding/CapProj/TestSeg_1/video_input/fight_5.mp4: 384x640 2 Fighters, 20.2ms\n",
      "video 1/1 (frame 769/3810) /home/hatsu/coding/CapProj/TestSeg_1/video_input/fight_5.mp4: 384x640 2 Fighters, 12.9ms\n",
      "video 1/1 (frame 770/3810) /home/hatsu/coding/CapProj/TestSeg_1/video_input/fight_5.mp4: 384x640 2 Fighters, 14.9ms\n",
      "video 1/1 (frame 771/3810) /home/hatsu/coding/CapProj/TestSeg_1/video_input/fight_5.mp4: 384x640 2 Fighters, 35.6ms\n",
      "video 1/1 (frame 772/3810) /home/hatsu/coding/CapProj/TestSeg_1/video_input/fight_5.mp4: 384x640 2 Fighters, 20.1ms\n",
      "video 1/1 (frame 773/3810) /home/hatsu/coding/CapProj/TestSeg_1/video_input/fight_5.mp4: 384x640 2 Fighters, 21.7ms\n",
      "video 1/1 (frame 774/3810) /home/hatsu/coding/CapProj/TestSeg_1/video_input/fight_5.mp4: 384x640 2 Fighters, 31.0ms\n",
      "video 1/1 (frame 775/3810) /home/hatsu/coding/CapProj/TestSeg_1/video_input/fight_5.mp4: 384x640 2 Fighters, 17.4ms\n",
      "video 1/1 (frame 776/3810) /home/hatsu/coding/CapProj/TestSeg_1/video_input/fight_5.mp4: 384x640 2 Fighters, 20.4ms\n",
      "video 1/1 (frame 777/3810) /home/hatsu/coding/CapProj/TestSeg_1/video_input/fight_5.mp4: 384x640 2 Fighters, 15.2ms\n",
      "video 1/1 (frame 778/3810) /home/hatsu/coding/CapProj/TestSeg_1/video_input/fight_5.mp4: 384x640 2 Fighters, 13.5ms\n",
      "video 1/1 (frame 779/3810) /home/hatsu/coding/CapProj/TestSeg_1/video_input/fight_5.mp4: 384x640 2 Fighters, 16.9ms\n",
      "video 1/1 (frame 780/3810) /home/hatsu/coding/CapProj/TestSeg_1/video_input/fight_5.mp4: 384x640 2 Fighters, 14.6ms\n",
      "video 1/1 (frame 781/3810) /home/hatsu/coding/CapProj/TestSeg_1/video_input/fight_5.mp4: 384x640 2 Fighters, 41.4ms\n",
      "video 1/1 (frame 782/3810) /home/hatsu/coding/CapProj/TestSeg_1/video_input/fight_5.mp4: 384x640 2 Fighters, 16.4ms\n",
      "video 1/1 (frame 783/3810) /home/hatsu/coding/CapProj/TestSeg_1/video_input/fight_5.mp4: 384x640 2 Fighters, 19.2ms\n",
      "video 1/1 (frame 784/3810) /home/hatsu/coding/CapProj/TestSeg_1/video_input/fight_5.mp4: 384x640 2 Fighters, 16.2ms\n",
      "video 1/1 (frame 785/3810) /home/hatsu/coding/CapProj/TestSeg_1/video_input/fight_5.mp4: 384x640 2 Fighters, 13.8ms\n",
      "video 1/1 (frame 786/3810) /home/hatsu/coding/CapProj/TestSeg_1/video_input/fight_5.mp4: 384x640 2 Fighters, 15.3ms\n",
      "video 1/1 (frame 787/3810) /home/hatsu/coding/CapProj/TestSeg_1/video_input/fight_5.mp4: 384x640 2 Fighters, 26.3ms\n",
      "video 1/1 (frame 788/3810) /home/hatsu/coding/CapProj/TestSeg_1/video_input/fight_5.mp4: 384x640 2 Fighters, 15.0ms\n",
      "video 1/1 (frame 789/3810) /home/hatsu/coding/CapProj/TestSeg_1/video_input/fight_5.mp4: 384x640 2 Fighters, 13.9ms\n",
      "video 1/1 (frame 790/3810) /home/hatsu/coding/CapProj/TestSeg_1/video_input/fight_5.mp4: 384x640 2 Fighters, 18.1ms\n",
      "video 1/1 (frame 791/3810) /home/hatsu/coding/CapProj/TestSeg_1/video_input/fight_5.mp4: 384x640 2 Fighters, 14.4ms\n",
      "video 1/1 (frame 792/3810) /home/hatsu/coding/CapProj/TestSeg_1/video_input/fight_5.mp4: 384x640 2 Fighters, 15.6ms\n",
      "video 1/1 (frame 793/3810) /home/hatsu/coding/CapProj/TestSeg_1/video_input/fight_5.mp4: 384x640 2 Fighters, 13.1ms\n",
      "video 1/1 (frame 794/3810) /home/hatsu/coding/CapProj/TestSeg_1/video_input/fight_5.mp4: 384x640 2 Fighters, 17.0ms\n",
      "video 1/1 (frame 795/3810) /home/hatsu/coding/CapProj/TestSeg_1/video_input/fight_5.mp4: 384x640 2 Fighters, 16.5ms\n",
      "video 1/1 (frame 796/3810) /home/hatsu/coding/CapProj/TestSeg_1/video_input/fight_5.mp4: 384x640 2 Fighters, 12.5ms\n",
      "video 1/1 (frame 797/3810) /home/hatsu/coding/CapProj/TestSeg_1/video_input/fight_5.mp4: 384x640 2 Fighters, 12.4ms\n",
      "video 1/1 (frame 798/3810) /home/hatsu/coding/CapProj/TestSeg_1/video_input/fight_5.mp4: 384x640 2 Fighters, 14.1ms\n",
      "video 1/1 (frame 799/3810) /home/hatsu/coding/CapProj/TestSeg_1/video_input/fight_5.mp4: 384x640 2 Fighters, 13.7ms\n",
      "video 1/1 (frame 800/3810) /home/hatsu/coding/CapProj/TestSeg_1/video_input/fight_5.mp4: 384x640 2 Fighters, 15.6ms\n",
      "video 1/1 (frame 801/3810) /home/hatsu/coding/CapProj/TestSeg_1/video_input/fight_5.mp4: 384x640 2 Fighters, 26.3ms\n",
      "video 1/1 (frame 802/3810) /home/hatsu/coding/CapProj/TestSeg_1/video_input/fight_5.mp4: 384x640 2 Fighters, 12.2ms\n",
      "video 1/1 (frame 803/3810) /home/hatsu/coding/CapProj/TestSeg_1/video_input/fight_5.mp4: 384x640 2 Fighters, 15.0ms\n",
      "video 1/1 (frame 804/3810) /home/hatsu/coding/CapProj/TestSeg_1/video_input/fight_5.mp4: 384x640 2 Fighters, 14.1ms\n",
      "video 1/1 (frame 805/3810) /home/hatsu/coding/CapProj/TestSeg_1/video_input/fight_5.mp4: 384x640 2 Fighters, 35.4ms\n",
      "video 1/1 (frame 806/3810) /home/hatsu/coding/CapProj/TestSeg_1/video_input/fight_5.mp4: 384x640 2 Fighters, 19.4ms\n",
      "video 1/1 (frame 807/3810) /home/hatsu/coding/CapProj/TestSeg_1/video_input/fight_5.mp4: 384x640 2 Fighters, 14.1ms\n",
      "video 1/1 (frame 808/3810) /home/hatsu/coding/CapProj/TestSeg_1/video_input/fight_5.mp4: 384x640 2 Fighters, 14.4ms\n",
      "video 1/1 (frame 809/3810) /home/hatsu/coding/CapProj/TestSeg_1/video_input/fight_5.mp4: 384x640 2 Fighters, 34.4ms\n",
      "video 1/1 (frame 810/3810) /home/hatsu/coding/CapProj/TestSeg_1/video_input/fight_5.mp4: 384x640 2 Fighters, 13.9ms\n",
      "video 1/1 (frame 811/3810) /home/hatsu/coding/CapProj/TestSeg_1/video_input/fight_5.mp4: 384x640 2 Fighters, 17.9ms\n",
      "video 1/1 (frame 812/3810) /home/hatsu/coding/CapProj/TestSeg_1/video_input/fight_5.mp4: 384x640 2 Fighters, 14.3ms\n",
      "video 1/1 (frame 813/3810) /home/hatsu/coding/CapProj/TestSeg_1/video_input/fight_5.mp4: 384x640 2 Fighters, 15.5ms\n",
      "video 1/1 (frame 814/3810) /home/hatsu/coding/CapProj/TestSeg_1/video_input/fight_5.mp4: 384x640 2 Fighters, 13.1ms\n",
      "video 1/1 (frame 815/3810) /home/hatsu/coding/CapProj/TestSeg_1/video_input/fight_5.mp4: 384x640 2 Fighters, 14.1ms\n",
      "video 1/1 (frame 816/3810) /home/hatsu/coding/CapProj/TestSeg_1/video_input/fight_5.mp4: 384x640 2 Fighters, 15.1ms\n",
      "video 1/1 (frame 817/3810) /home/hatsu/coding/CapProj/TestSeg_1/video_input/fight_5.mp4: 384x640 2 Fighters, 13.2ms\n",
      "video 1/1 (frame 818/3810) /home/hatsu/coding/CapProj/TestSeg_1/video_input/fight_5.mp4: 384x640 2 Fighters, 14.7ms\n",
      "video 1/1 (frame 819/3810) /home/hatsu/coding/CapProj/TestSeg_1/video_input/fight_5.mp4: 384x640 2 Fighters, 14.5ms\n",
      "video 1/1 (frame 820/3810) /home/hatsu/coding/CapProj/TestSeg_1/video_input/fight_5.mp4: 384x640 2 Fighters, 14.2ms\n",
      "video 1/1 (frame 821/3810) /home/hatsu/coding/CapProj/TestSeg_1/video_input/fight_5.mp4: 384x640 2 Fighters, 14.3ms\n",
      "video 1/1 (frame 822/3810) /home/hatsu/coding/CapProj/TestSeg_1/video_input/fight_5.mp4: 384x640 2 Fighters, 14.9ms\n",
      "video 1/1 (frame 823/3810) /home/hatsu/coding/CapProj/TestSeg_1/video_input/fight_5.mp4: 384x640 2 Fighters, 14.4ms\n",
      "video 1/1 (frame 824/3810) /home/hatsu/coding/CapProj/TestSeg_1/video_input/fight_5.mp4: 384x640 2 Fighters, 17.4ms\n",
      "video 1/1 (frame 825/3810) /home/hatsu/coding/CapProj/TestSeg_1/video_input/fight_5.mp4: 384x640 2 Fighters, 15.5ms\n",
      "video 1/1 (frame 826/3810) /home/hatsu/coding/CapProj/TestSeg_1/video_input/fight_5.mp4: 384x640 2 Fighters, 15.5ms\n",
      "video 1/1 (frame 827/3810) /home/hatsu/coding/CapProj/TestSeg_1/video_input/fight_5.mp4: 384x640 2 Fighters, 15.4ms\n",
      "video 1/1 (frame 828/3810) /home/hatsu/coding/CapProj/TestSeg_1/video_input/fight_5.mp4: 384x640 2 Fighters, 15.2ms\n",
      "video 1/1 (frame 829/3810) /home/hatsu/coding/CapProj/TestSeg_1/video_input/fight_5.mp4: 384x640 2 Fighters, 14.2ms\n",
      "video 1/1 (frame 830/3810) /home/hatsu/coding/CapProj/TestSeg_1/video_input/fight_5.mp4: 384x640 2 Fighters, 16.6ms\n",
      "video 1/1 (frame 831/3810) /home/hatsu/coding/CapProj/TestSeg_1/video_input/fight_5.mp4: 384x640 2 Fighters, 23.3ms\n",
      "video 1/1 (frame 832/3810) /home/hatsu/coding/CapProj/TestSeg_1/video_input/fight_5.mp4: 384x640 2 Fighters, 20.8ms\n",
      "video 1/1 (frame 833/3810) /home/hatsu/coding/CapProj/TestSeg_1/video_input/fight_5.mp4: 384x640 2 Fighters, 20.6ms\n",
      "video 1/1 (frame 834/3810) /home/hatsu/coding/CapProj/TestSeg_1/video_input/fight_5.mp4: 384x640 2 Fighters, 20.6ms\n",
      "video 1/1 (frame 835/3810) /home/hatsu/coding/CapProj/TestSeg_1/video_input/fight_5.mp4: 384x640 2 Fighters, 18.2ms\n",
      "video 1/1 (frame 836/3810) /home/hatsu/coding/CapProj/TestSeg_1/video_input/fight_5.mp4: 384x640 2 Fighters, 21.0ms\n",
      "video 1/1 (frame 837/3810) /home/hatsu/coding/CapProj/TestSeg_1/video_input/fight_5.mp4: 384x640 2 Fighters, 14.2ms\n",
      "video 1/1 (frame 838/3810) /home/hatsu/coding/CapProj/TestSeg_1/video_input/fight_5.mp4: 384x640 2 Fighters, 13.1ms\n",
      "video 1/1 (frame 839/3810) /home/hatsu/coding/CapProj/TestSeg_1/video_input/fight_5.mp4: 384x640 2 Fighters, 14.1ms\n",
      "video 1/1 (frame 840/3810) /home/hatsu/coding/CapProj/TestSeg_1/video_input/fight_5.mp4: 384x640 2 Fighters, 14.3ms\n",
      "video 1/1 (frame 841/3810) /home/hatsu/coding/CapProj/TestSeg_1/video_input/fight_5.mp4: 384x640 2 Fighters, 14.2ms\n",
      "video 1/1 (frame 842/3810) /home/hatsu/coding/CapProj/TestSeg_1/video_input/fight_5.mp4: 384x640 2 Fighters, 42.1ms\n",
      "video 1/1 (frame 843/3810) /home/hatsu/coding/CapProj/TestSeg_1/video_input/fight_5.mp4: 384x640 2 Fighters, 13.8ms\n",
      "video 1/1 (frame 844/3810) /home/hatsu/coding/CapProj/TestSeg_1/video_input/fight_5.mp4: 384x640 2 Fighters, 14.8ms\n",
      "video 1/1 (frame 845/3810) /home/hatsu/coding/CapProj/TestSeg_1/video_input/fight_5.mp4: 384x640 2 Fighters, 13.0ms\n",
      "video 1/1 (frame 846/3810) /home/hatsu/coding/CapProj/TestSeg_1/video_input/fight_5.mp4: 384x640 2 Fighters, 13.7ms\n",
      "video 1/1 (frame 847/3810) /home/hatsu/coding/CapProj/TestSeg_1/video_input/fight_5.mp4: 384x640 2 Fighters, 14.6ms\n",
      "video 1/1 (frame 848/3810) /home/hatsu/coding/CapProj/TestSeg_1/video_input/fight_5.mp4: 384x640 2 Fighters, 13.2ms\n",
      "video 1/1 (frame 849/3810) /home/hatsu/coding/CapProj/TestSeg_1/video_input/fight_5.mp4: 384x640 2 Fighters, 14.4ms\n",
      "video 1/1 (frame 850/3810) /home/hatsu/coding/CapProj/TestSeg_1/video_input/fight_5.mp4: 384x640 2 Fighters, 12.7ms\n",
      "video 1/1 (frame 851/3810) /home/hatsu/coding/CapProj/TestSeg_1/video_input/fight_5.mp4: 384x640 2 Fighters, 18.3ms\n",
      "video 1/1 (frame 852/3810) /home/hatsu/coding/CapProj/TestSeg_1/video_input/fight_5.mp4: 384x640 2 Fighters, 12.6ms\n",
      "video 1/1 (frame 853/3810) /home/hatsu/coding/CapProj/TestSeg_1/video_input/fight_5.mp4: 384x640 2 Fighters, 12.6ms\n",
      "video 1/1 (frame 854/3810) /home/hatsu/coding/CapProj/TestSeg_1/video_input/fight_5.mp4: 384x640 2 Fighters, 18.9ms\n",
      "video 1/1 (frame 855/3810) /home/hatsu/coding/CapProj/TestSeg_1/video_input/fight_5.mp4: 384x640 2 Fighters, 14.5ms\n",
      "video 1/1 (frame 856/3810) /home/hatsu/coding/CapProj/TestSeg_1/video_input/fight_5.mp4: 384x640 2 Fighters, 17.3ms\n",
      "video 1/1 (frame 857/3810) /home/hatsu/coding/CapProj/TestSeg_1/video_input/fight_5.mp4: 384x640 2 Fighters, 13.5ms\n",
      "video 1/1 (frame 858/3810) /home/hatsu/coding/CapProj/TestSeg_1/video_input/fight_5.mp4: 384x640 2 Fighters, 15.2ms\n",
      "video 1/1 (frame 859/3810) /home/hatsu/coding/CapProj/TestSeg_1/video_input/fight_5.mp4: 384x640 2 Fighters, 15.7ms\n",
      "video 1/1 (frame 860/3810) /home/hatsu/coding/CapProj/TestSeg_1/video_input/fight_5.mp4: 384x640 2 Fighters, 21.8ms\n",
      "video 1/1 (frame 861/3810) /home/hatsu/coding/CapProj/TestSeg_1/video_input/fight_5.mp4: 384x640 2 Fighters, 44.9ms\n",
      "video 1/1 (frame 862/3810) /home/hatsu/coding/CapProj/TestSeg_1/video_input/fight_5.mp4: 384x640 2 Fighters, 13.2ms\n",
      "video 1/1 (frame 863/3810) /home/hatsu/coding/CapProj/TestSeg_1/video_input/fight_5.mp4: 384x640 2 Fighters, 15.2ms\n",
      "video 1/1 (frame 864/3810) /home/hatsu/coding/CapProj/TestSeg_1/video_input/fight_5.mp4: 384x640 2 Fighters, 13.8ms\n",
      "video 1/1 (frame 865/3810) /home/hatsu/coding/CapProj/TestSeg_1/video_input/fight_5.mp4: 384x640 2 Fighters, 13.0ms\n",
      "video 1/1 (frame 866/3810) /home/hatsu/coding/CapProj/TestSeg_1/video_input/fight_5.mp4: 384x640 2 Fighters, 13.9ms\n",
      "video 1/1 (frame 867/3810) /home/hatsu/coding/CapProj/TestSeg_1/video_input/fight_5.mp4: 384x640 2 Fighters, 14.0ms\n",
      "video 1/1 (frame 868/3810) /home/hatsu/coding/CapProj/TestSeg_1/video_input/fight_5.mp4: 384x640 2 Fighters, 13.8ms\n",
      "video 1/1 (frame 869/3810) /home/hatsu/coding/CapProj/TestSeg_1/video_input/fight_5.mp4: 384x640 2 Fighters, 14.6ms\n",
      "video 1/1 (frame 870/3810) /home/hatsu/coding/CapProj/TestSeg_1/video_input/fight_5.mp4: 384x640 2 Fighters, 14.7ms\n",
      "video 1/1 (frame 871/3810) /home/hatsu/coding/CapProj/TestSeg_1/video_input/fight_5.mp4: 384x640 2 Fighters, 12.9ms\n",
      "video 1/1 (frame 872/3810) /home/hatsu/coding/CapProj/TestSeg_1/video_input/fight_5.mp4: 384x640 2 Fighters, 14.7ms\n",
      "video 1/1 (frame 873/3810) /home/hatsu/coding/CapProj/TestSeg_1/video_input/fight_5.mp4: 384x640 2 Fighters, 25.1ms\n",
      "video 1/1 (frame 874/3810) /home/hatsu/coding/CapProj/TestSeg_1/video_input/fight_5.mp4: 384x640 2 Fighters, 14.9ms\n",
      "video 1/1 (frame 875/3810) /home/hatsu/coding/CapProj/TestSeg_1/video_input/fight_5.mp4: 384x640 2 Fighters, 14.1ms\n",
      "video 1/1 (frame 876/3810) /home/hatsu/coding/CapProj/TestSeg_1/video_input/fight_5.mp4: 384x640 2 Fighters, 15.6ms\n",
      "video 1/1 (frame 877/3810) /home/hatsu/coding/CapProj/TestSeg_1/video_input/fight_5.mp4: 384x640 2 Fighters, 22.1ms\n",
      "video 1/1 (frame 878/3810) /home/hatsu/coding/CapProj/TestSeg_1/video_input/fight_5.mp4: 384x640 2 Fighters, 14.1ms\n",
      "video 1/1 (frame 879/3810) /home/hatsu/coding/CapProj/TestSeg_1/video_input/fight_5.mp4: 384x640 2 Fighters, 13.6ms\n",
      "video 1/1 (frame 880/3810) /home/hatsu/coding/CapProj/TestSeg_1/video_input/fight_5.mp4: 384x640 2 Fighters, 14.2ms\n",
      "video 1/1 (frame 881/3810) /home/hatsu/coding/CapProj/TestSeg_1/video_input/fight_5.mp4: 384x640 2 Fighters, 13.8ms\n",
      "video 1/1 (frame 882/3810) /home/hatsu/coding/CapProj/TestSeg_1/video_input/fight_5.mp4: 384x640 2 Fighters, 27.7ms\n",
      "video 1/1 (frame 883/3810) /home/hatsu/coding/CapProj/TestSeg_1/video_input/fight_5.mp4: 384x640 2 Fighters, 13.2ms\n",
      "video 1/1 (frame 884/3810) /home/hatsu/coding/CapProj/TestSeg_1/video_input/fight_5.mp4: 384x640 2 Fighters, 12.7ms\n",
      "video 1/1 (frame 885/3810) /home/hatsu/coding/CapProj/TestSeg_1/video_input/fight_5.mp4: 384x640 2 Fighters, 14.1ms\n",
      "video 1/1 (frame 886/3810) /home/hatsu/coding/CapProj/TestSeg_1/video_input/fight_5.mp4: 384x640 2 Fighters, 14.0ms\n",
      "video 1/1 (frame 887/3810) /home/hatsu/coding/CapProj/TestSeg_1/video_input/fight_5.mp4: 384x640 2 Fighters, 15.3ms\n",
      "video 1/1 (frame 888/3810) /home/hatsu/coding/CapProj/TestSeg_1/video_input/fight_5.mp4: 384x640 2 Fighters, 14.1ms\n",
      "video 1/1 (frame 889/3810) /home/hatsu/coding/CapProj/TestSeg_1/video_input/fight_5.mp4: 384x640 2 Fighters, 14.4ms\n",
      "video 1/1 (frame 890/3810) /home/hatsu/coding/CapProj/TestSeg_1/video_input/fight_5.mp4: 384x640 2 Fighters, 13.0ms\n",
      "video 1/1 (frame 891/3810) /home/hatsu/coding/CapProj/TestSeg_1/video_input/fight_5.mp4: 384x640 2 Fighters, 14.7ms\n",
      "video 1/1 (frame 892/3810) /home/hatsu/coding/CapProj/TestSeg_1/video_input/fight_5.mp4: 384x640 2 Fighters, 43.9ms\n",
      "video 1/1 (frame 893/3810) /home/hatsu/coding/CapProj/TestSeg_1/video_input/fight_5.mp4: 384x640 2 Fighters, 13.3ms\n",
      "video 1/1 (frame 894/3810) /home/hatsu/coding/CapProj/TestSeg_1/video_input/fight_5.mp4: 384x640 2 Fighters, 13.7ms\n",
      "video 1/1 (frame 895/3810) /home/hatsu/coding/CapProj/TestSeg_1/video_input/fight_5.mp4: 384x640 2 Fighters, 24.9ms\n",
      "video 1/1 (frame 896/3810) /home/hatsu/coding/CapProj/TestSeg_1/video_input/fight_5.mp4: 384x640 2 Fighters, 14.3ms\n",
      "video 1/1 (frame 897/3810) /home/hatsu/coding/CapProj/TestSeg_1/video_input/fight_5.mp4: 384x640 2 Fighters, 13.8ms\n",
      "video 1/1 (frame 898/3810) /home/hatsu/coding/CapProj/TestSeg_1/video_input/fight_5.mp4: 384x640 2 Fighters, 12.8ms\n",
      "video 1/1 (frame 899/3810) /home/hatsu/coding/CapProj/TestSeg_1/video_input/fight_5.mp4: 384x640 2 Fighters, 13.1ms\n",
      "video 1/1 (frame 900/3810) /home/hatsu/coding/CapProj/TestSeg_1/video_input/fight_5.mp4: 384x640 2 Fighters, 14.0ms\n",
      "video 1/1 (frame 901/3810) /home/hatsu/coding/CapProj/TestSeg_1/video_input/fight_5.mp4: 384x640 2 Fighters, 14.0ms\n",
      "video 1/1 (frame 902/3810) /home/hatsu/coding/CapProj/TestSeg_1/video_input/fight_5.mp4: 384x640 2 Fighters, 18.2ms\n",
      "video 1/1 (frame 903/3810) /home/hatsu/coding/CapProj/TestSeg_1/video_input/fight_5.mp4: 384x640 2 Fighters, 20.4ms\n",
      "video 1/1 (frame 904/3810) /home/hatsu/coding/CapProj/TestSeg_1/video_input/fight_5.mp4: 384x640 2 Fighters, 19.7ms\n",
      "video 1/1 (frame 905/3810) /home/hatsu/coding/CapProj/TestSeg_1/video_input/fight_5.mp4: 384x640 2 Fighters, 17.8ms\n",
      "video 1/1 (frame 906/3810) /home/hatsu/coding/CapProj/TestSeg_1/video_input/fight_5.mp4: 384x640 2 Fighters, 20.7ms\n",
      "video 1/1 (frame 907/3810) /home/hatsu/coding/CapProj/TestSeg_1/video_input/fight_5.mp4: 384x640 2 Fighters, 19.4ms\n",
      "video 1/1 (frame 908/3810) /home/hatsu/coding/CapProj/TestSeg_1/video_input/fight_5.mp4: 384x640 2 Fighters, 14.9ms\n",
      "video 1/1 (frame 909/3810) /home/hatsu/coding/CapProj/TestSeg_1/video_input/fight_5.mp4: 384x640 2 Fighters, 16.6ms\n",
      "video 1/1 (frame 910/3810) /home/hatsu/coding/CapProj/TestSeg_1/video_input/fight_5.mp4: 384x640 2 Fighters, 14.6ms\n",
      "video 1/1 (frame 911/3810) /home/hatsu/coding/CapProj/TestSeg_1/video_input/fight_5.mp4: 384x640 2 Fighters, 12.6ms\n",
      "video 1/1 (frame 912/3810) /home/hatsu/coding/CapProj/TestSeg_1/video_input/fight_5.mp4: 384x640 2 Fighters, 14.1ms\n",
      "video 1/1 (frame 913/3810) /home/hatsu/coding/CapProj/TestSeg_1/video_input/fight_5.mp4: 384x640 2 Fighters, 28.8ms\n",
      "video 1/1 (frame 914/3810) /home/hatsu/coding/CapProj/TestSeg_1/video_input/fight_5.mp4: 384x640 2 Fighters, 13.4ms\n",
      "video 1/1 (frame 915/3810) /home/hatsu/coding/CapProj/TestSeg_1/video_input/fight_5.mp4: 384x640 2 Fighters, 17.0ms\n",
      "video 1/1 (frame 916/3810) /home/hatsu/coding/CapProj/TestSeg_1/video_input/fight_5.mp4: 384x640 2 Fighters, 13.2ms\n",
      "video 1/1 (frame 917/3810) /home/hatsu/coding/CapProj/TestSeg_1/video_input/fight_5.mp4: 384x640 2 Fighters, 13.0ms\n",
      "video 1/1 (frame 918/3810) /home/hatsu/coding/CapProj/TestSeg_1/video_input/fight_5.mp4: 384x640 2 Fighters, 13.4ms\n",
      "video 1/1 (frame 919/3810) /home/hatsu/coding/CapProj/TestSeg_1/video_input/fight_5.mp4: 384x640 2 Fighters, 13.3ms\n",
      "video 1/1 (frame 920/3810) /home/hatsu/coding/CapProj/TestSeg_1/video_input/fight_5.mp4: 384x640 2 Fighters, 14.5ms\n",
      "video 1/1 (frame 921/3810) /home/hatsu/coding/CapProj/TestSeg_1/video_input/fight_5.mp4: 384x640 2 Fighters, 14.3ms\n",
      "video 1/1 (frame 922/3810) /home/hatsu/coding/CapProj/TestSeg_1/video_input/fight_5.mp4: 384x640 2 Fighters, 14.7ms\n",
      "video 1/1 (frame 923/3810) /home/hatsu/coding/CapProj/TestSeg_1/video_input/fight_5.mp4: 384x640 2 Fighters, 14.5ms\n",
      "video 1/1 (frame 924/3810) /home/hatsu/coding/CapProj/TestSeg_1/video_input/fight_5.mp4: 384x640 2 Fighters, 17.9ms\n",
      "video 1/1 (frame 925/3810) /home/hatsu/coding/CapProj/TestSeg_1/video_input/fight_5.mp4: 384x640 2 Fighters, 14.7ms\n",
      "video 1/1 (frame 926/3810) /home/hatsu/coding/CapProj/TestSeg_1/video_input/fight_5.mp4: 384x640 2 Fighters, 13.6ms\n",
      "video 1/1 (frame 927/3810) /home/hatsu/coding/CapProj/TestSeg_1/video_input/fight_5.mp4: 384x640 2 Fighters, 14.1ms\n",
      "video 1/1 (frame 928/3810) /home/hatsu/coding/CapProj/TestSeg_1/video_input/fight_5.mp4: 384x640 2 Fighters, 14.8ms\n",
      "video 1/1 (frame 929/3810) /home/hatsu/coding/CapProj/TestSeg_1/video_input/fight_5.mp4: 384x640 2 Fighters, 18.8ms\n",
      "video 1/1 (frame 930/3810) /home/hatsu/coding/CapProj/TestSeg_1/video_input/fight_5.mp4: 384x640 2 Fighters, 15.9ms\n",
      "video 1/1 (frame 931/3810) /home/hatsu/coding/CapProj/TestSeg_1/video_input/fight_5.mp4: 384x640 2 Fighters, 20.5ms\n",
      "video 1/1 (frame 932/3810) /home/hatsu/coding/CapProj/TestSeg_1/video_input/fight_5.mp4: 384x640 2 Fighters, 14.1ms\n",
      "video 1/1 (frame 933/3810) /home/hatsu/coding/CapProj/TestSeg_1/video_input/fight_5.mp4: 384x640 2 Fighters, 14.4ms\n",
      "video 1/1 (frame 934/3810) /home/hatsu/coding/CapProj/TestSeg_1/video_input/fight_5.mp4: 384x640 2 Fighters, 35.5ms\n",
      "video 1/1 (frame 935/3810) /home/hatsu/coding/CapProj/TestSeg_1/video_input/fight_5.mp4: 384x640 2 Fighters, 21.7ms\n",
      "video 1/1 (frame 936/3810) /home/hatsu/coding/CapProj/TestSeg_1/video_input/fight_5.mp4: 384x640 2 Fighters, 13.4ms\n",
      "video 1/1 (frame 937/3810) /home/hatsu/coding/CapProj/TestSeg_1/video_input/fight_5.mp4: 384x640 2 Fighters, 14.6ms\n",
      "video 1/1 (frame 938/3810) /home/hatsu/coding/CapProj/TestSeg_1/video_input/fight_5.mp4: 384x640 2 Fighters, 14.1ms\n",
      "video 1/1 (frame 939/3810) /home/hatsu/coding/CapProj/TestSeg_1/video_input/fight_5.mp4: 384x640 2 Fighters, 15.1ms\n",
      "video 1/1 (frame 940/3810) /home/hatsu/coding/CapProj/TestSeg_1/video_input/fight_5.mp4: 384x640 2 Fighters, 13.9ms\n",
      "video 1/1 (frame 941/3810) /home/hatsu/coding/CapProj/TestSeg_1/video_input/fight_5.mp4: 384x640 2 Fighters, 14.1ms\n",
      "video 1/1 (frame 942/3810) /home/hatsu/coding/CapProj/TestSeg_1/video_input/fight_5.mp4: 384x640 2 Fighters, 13.9ms\n",
      "video 1/1 (frame 943/3810) /home/hatsu/coding/CapProj/TestSeg_1/video_input/fight_5.mp4: 384x640 2 Fighters, 12.9ms\n",
      "video 1/1 (frame 944/3810) /home/hatsu/coding/CapProj/TestSeg_1/video_input/fight_5.mp4: 384x640 2 Fighters, 14.1ms\n",
      "video 1/1 (frame 945/3810) /home/hatsu/coding/CapProj/TestSeg_1/video_input/fight_5.mp4: 384x640 2 Fighters, 21.8ms\n",
      "video 1/1 (frame 946/3810) /home/hatsu/coding/CapProj/TestSeg_1/video_input/fight_5.mp4: 384x640 2 Fighters, 14.3ms\n",
      "video 1/1 (frame 947/3810) /home/hatsu/coding/CapProj/TestSeg_1/video_input/fight_5.mp4: 384x640 2 Fighters, 15.0ms\n",
      "video 1/1 (frame 948/3810) /home/hatsu/coding/CapProj/TestSeg_1/video_input/fight_5.mp4: 384x640 2 Fighters, 14.4ms\n",
      "video 1/1 (frame 949/3810) /home/hatsu/coding/CapProj/TestSeg_1/video_input/fight_5.mp4: 384x640 2 Fighters, 13.6ms\n",
      "video 1/1 (frame 950/3810) /home/hatsu/coding/CapProj/TestSeg_1/video_input/fight_5.mp4: 384x640 2 Fighters, 14.2ms\n",
      "video 1/1 (frame 951/3810) /home/hatsu/coding/CapProj/TestSeg_1/video_input/fight_5.mp4: 384x640 2 Fighters, 14.1ms\n",
      "video 1/1 (frame 952/3810) /home/hatsu/coding/CapProj/TestSeg_1/video_input/fight_5.mp4: 384x640 2 Fighters, 14.1ms\n",
      "video 1/1 (frame 953/3810) /home/hatsu/coding/CapProj/TestSeg_1/video_input/fight_5.mp4: 384x640 2 Fighters, 16.8ms\n",
      "video 1/1 (frame 954/3810) /home/hatsu/coding/CapProj/TestSeg_1/video_input/fight_5.mp4: 384x640 2 Fighters, 13.1ms\n",
      "video 1/1 (frame 955/3810) /home/hatsu/coding/CapProj/TestSeg_1/video_input/fight_5.mp4: 384x640 2 Fighters, 14.0ms\n",
      "video 1/1 (frame 956/3810) /home/hatsu/coding/CapProj/TestSeg_1/video_input/fight_5.mp4: 384x640 2 Fighters, 13.3ms\n",
      "video 1/1 (frame 957/3810) /home/hatsu/coding/CapProj/TestSeg_1/video_input/fight_5.mp4: 384x640 2 Fighters, 16.3ms\n",
      "video 1/1 (frame 958/3810) /home/hatsu/coding/CapProj/TestSeg_1/video_input/fight_5.mp4: 384x640 2 Fighters, 14.9ms\n",
      "video 1/1 (frame 959/3810) /home/hatsu/coding/CapProj/TestSeg_1/video_input/fight_5.mp4: 384x640 2 Fighters, 13.7ms\n",
      "video 1/1 (frame 960/3810) /home/hatsu/coding/CapProj/TestSeg_1/video_input/fight_5.mp4: 384x640 2 Fighters, 14.0ms\n",
      "video 1/1 (frame 961/3810) /home/hatsu/coding/CapProj/TestSeg_1/video_input/fight_5.mp4: 384x640 2 Fighters, 14.7ms\n",
      "video 1/1 (frame 962/3810) /home/hatsu/coding/CapProj/TestSeg_1/video_input/fight_5.mp4: 384x640 2 Fighters, 21.4ms\n",
      "video 1/1 (frame 963/3810) /home/hatsu/coding/CapProj/TestSeg_1/video_input/fight_5.mp4: 384x640 2 Fighters, 22.2ms\n",
      "video 1/1 (frame 964/3810) /home/hatsu/coding/CapProj/TestSeg_1/video_input/fight_5.mp4: 384x640 2 Fighters, 20.9ms\n",
      "video 1/1 (frame 965/3810) /home/hatsu/coding/CapProj/TestSeg_1/video_input/fight_5.mp4: 384x640 2 Fighters, 22.4ms\n",
      "video 1/1 (frame 966/3810) /home/hatsu/coding/CapProj/TestSeg_1/video_input/fight_5.mp4: 384x640 2 Fighters, 19.1ms\n",
      "video 1/1 (frame 967/3810) /home/hatsu/coding/CapProj/TestSeg_1/video_input/fight_5.mp4: 384x640 2 Fighters, 18.6ms\n",
      "video 1/1 (frame 968/3810) /home/hatsu/coding/CapProj/TestSeg_1/video_input/fight_5.mp4: 384x640 2 Fighters, 17.0ms\n",
      "video 1/1 (frame 969/3810) /home/hatsu/coding/CapProj/TestSeg_1/video_input/fight_5.mp4: 384x640 2 Fighters, 33.4ms\n",
      "video 1/1 (frame 970/3810) /home/hatsu/coding/CapProj/TestSeg_1/video_input/fight_5.mp4: 384x640 2 Fighters, 30.9ms\n",
      "video 1/1 (frame 971/3810) /home/hatsu/coding/CapProj/TestSeg_1/video_input/fight_5.mp4: 384x640 2 Fighters, 13.6ms\n",
      "video 1/1 (frame 972/3810) /home/hatsu/coding/CapProj/TestSeg_1/video_input/fight_5.mp4: 384x640 2 Fighters, 14.2ms\n",
      "video 1/1 (frame 973/3810) /home/hatsu/coding/CapProj/TestSeg_1/video_input/fight_5.mp4: 384x640 2 Fighters, 12.2ms\n",
      "video 1/1 (frame 974/3810) /home/hatsu/coding/CapProj/TestSeg_1/video_input/fight_5.mp4: 384x640 2 Fighters, 13.1ms\n",
      "video 1/1 (frame 975/3810) /home/hatsu/coding/CapProj/TestSeg_1/video_input/fight_5.mp4: 384x640 2 Fighters, 12.7ms\n",
      "video 1/1 (frame 976/3810) /home/hatsu/coding/CapProj/TestSeg_1/video_input/fight_5.mp4: 384x640 2 Fighters, 15.2ms\n",
      "video 1/1 (frame 977/3810) /home/hatsu/coding/CapProj/TestSeg_1/video_input/fight_5.mp4: 384x640 2 Fighters, 22.5ms\n",
      "video 1/1 (frame 978/3810) /home/hatsu/coding/CapProj/TestSeg_1/video_input/fight_5.mp4: 384x640 2 Fighters, 15.4ms\n",
      "video 1/1 (frame 979/3810) /home/hatsu/coding/CapProj/TestSeg_1/video_input/fight_5.mp4: 384x640 2 Fighters, 15.1ms\n",
      "video 1/1 (frame 980/3810) /home/hatsu/coding/CapProj/TestSeg_1/video_input/fight_5.mp4: 384x640 2 Fighters, 14.1ms\n",
      "video 1/1 (frame 981/3810) /home/hatsu/coding/CapProj/TestSeg_1/video_input/fight_5.mp4: 384x640 2 Fighters, 40.5ms\n",
      "video 1/1 (frame 982/3810) /home/hatsu/coding/CapProj/TestSeg_1/video_input/fight_5.mp4: 384x640 2 Fighters, 13.0ms\n",
      "video 1/1 (frame 983/3810) /home/hatsu/coding/CapProj/TestSeg_1/video_input/fight_5.mp4: 384x640 2 Fighters, 13.7ms\n",
      "video 1/1 (frame 984/3810) /home/hatsu/coding/CapProj/TestSeg_1/video_input/fight_5.mp4: 384x640 2 Fighters, 28.3ms\n",
      "video 1/1 (frame 985/3810) /home/hatsu/coding/CapProj/TestSeg_1/video_input/fight_5.mp4: 384x640 2 Fighters, 13.4ms\n",
      "video 1/1 (frame 986/3810) /home/hatsu/coding/CapProj/TestSeg_1/video_input/fight_5.mp4: 384x640 2 Fighters, 15.2ms\n",
      "video 1/1 (frame 987/3810) /home/hatsu/coding/CapProj/TestSeg_1/video_input/fight_5.mp4: 384x640 2 Fighters, 15.3ms\n",
      "video 1/1 (frame 988/3810) /home/hatsu/coding/CapProj/TestSeg_1/video_input/fight_5.mp4: 384x640 2 Fighters, 15.0ms\n",
      "video 1/1 (frame 989/3810) /home/hatsu/coding/CapProj/TestSeg_1/video_input/fight_5.mp4: 384x640 2 Fighters, 14.5ms\n",
      "video 1/1 (frame 990/3810) /home/hatsu/coding/CapProj/TestSeg_1/video_input/fight_5.mp4: 384x640 2 Fighters, 14.2ms\n",
      "video 1/1 (frame 991/3810) /home/hatsu/coding/CapProj/TestSeg_1/video_input/fight_5.mp4: 384x640 2 Fighters, 17.8ms\n",
      "video 1/1 (frame 992/3810) /home/hatsu/coding/CapProj/TestSeg_1/video_input/fight_5.mp4: 384x640 2 Fighters, 17.0ms\n",
      "video 1/1 (frame 993/3810) /home/hatsu/coding/CapProj/TestSeg_1/video_input/fight_5.mp4: 384x640 2 Fighters, 21.6ms\n",
      "video 1/1 (frame 994/3810) /home/hatsu/coding/CapProj/TestSeg_1/video_input/fight_5.mp4: 384x640 2 Fighters, 13.1ms\n",
      "video 1/1 (frame 995/3810) /home/hatsu/coding/CapProj/TestSeg_1/video_input/fight_5.mp4: 384x640 2 Fighters, 14.4ms\n",
      "video 1/1 (frame 996/3810) /home/hatsu/coding/CapProj/TestSeg_1/video_input/fight_5.mp4: 384x640 2 Fighters, 15.1ms\n",
      "video 1/1 (frame 997/3810) /home/hatsu/coding/CapProj/TestSeg_1/video_input/fight_5.mp4: 384x640 2 Fighters, 14.0ms\n",
      "video 1/1 (frame 998/3810) /home/hatsu/coding/CapProj/TestSeg_1/video_input/fight_5.mp4: 384x640 2 Fighters, 14.3ms\n",
      "video 1/1 (frame 999/3810) /home/hatsu/coding/CapProj/TestSeg_1/video_input/fight_5.mp4: 384x640 2 Fighters, 14.6ms\n",
      "video 1/1 (frame 1000/3810) /home/hatsu/coding/CapProj/TestSeg_1/video_input/fight_5.mp4: 384x640 2 Fighters, 18.7ms\n",
      "video 1/1 (frame 1001/3810) /home/hatsu/coding/CapProj/TestSeg_1/video_input/fight_5.mp4: 384x640 2 Fighters, 21.7ms\n",
      "video 1/1 (frame 1002/3810) /home/hatsu/coding/CapProj/TestSeg_1/video_input/fight_5.mp4: 384x640 2 Fighters, 18.0ms\n",
      "video 1/1 (frame 1003/3810) /home/hatsu/coding/CapProj/TestSeg_1/video_input/fight_5.mp4: 384x640 2 Fighters, 17.1ms\n",
      "video 1/1 (frame 1004/3810) /home/hatsu/coding/CapProj/TestSeg_1/video_input/fight_5.mp4: 384x640 2 Fighters, 20.2ms\n",
      "video 1/1 (frame 1005/3810) /home/hatsu/coding/CapProj/TestSeg_1/video_input/fight_5.mp4: 384x640 2 Fighters, 42.8ms\n",
      "video 1/1 (frame 1006/3810) /home/hatsu/coding/CapProj/TestSeg_1/video_input/fight_5.mp4: 384x640 2 Fighters, 13.2ms\n",
      "video 1/1 (frame 1007/3810) /home/hatsu/coding/CapProj/TestSeg_1/video_input/fight_5.mp4: 384x640 2 Fighters, 14.7ms\n",
      "video 1/1 (frame 1008/3810) /home/hatsu/coding/CapProj/TestSeg_1/video_input/fight_5.mp4: 384x640 2 Fighters, 23.6ms\n",
      "video 1/1 (frame 1009/3810) /home/hatsu/coding/CapProj/TestSeg_1/video_input/fight_5.mp4: 384x640 2 Fighters, 12.5ms\n",
      "video 1/1 (frame 1010/3810) /home/hatsu/coding/CapProj/TestSeg_1/video_input/fight_5.mp4: 384x640 1 Fighter, 14.1ms\n",
      "video 1/1 (frame 1011/3810) /home/hatsu/coding/CapProj/TestSeg_1/video_input/fight_5.mp4: 384x640 1 Fighter, 14.1ms\n",
      "video 1/1 (frame 1012/3810) /home/hatsu/coding/CapProj/TestSeg_1/video_input/fight_5.mp4: 384x640 1 Fighter, 12.8ms\n",
      "video 1/1 (frame 1013/3810) /home/hatsu/coding/CapProj/TestSeg_1/video_input/fight_5.mp4: 384x640 1 Fighter, 14.7ms\n",
      "video 1/1 (frame 1014/3810) /home/hatsu/coding/CapProj/TestSeg_1/video_input/fight_5.mp4: 384x640 2 Fighters, 14.8ms\n",
      "video 1/1 (frame 1015/3810) /home/hatsu/coding/CapProj/TestSeg_1/video_input/fight_5.mp4: 384x640 2 Fighters, 14.1ms\n",
      "video 1/1 (frame 1016/3810) /home/hatsu/coding/CapProj/TestSeg_1/video_input/fight_5.mp4: 384x640 2 Fighters, 13.7ms\n",
      "video 1/1 (frame 1017/3810) /home/hatsu/coding/CapProj/TestSeg_1/video_input/fight_5.mp4: 384x640 2 Fighters, 14.6ms\n",
      "video 1/1 (frame 1018/3810) /home/hatsu/coding/CapProj/TestSeg_1/video_input/fight_5.mp4: 384x640 2 Fighters, 14.2ms\n",
      "video 1/1 (frame 1019/3810) /home/hatsu/coding/CapProj/TestSeg_1/video_input/fight_5.mp4: 384x640 2 Fighters, 13.8ms\n",
      "video 1/1 (frame 1020/3810) /home/hatsu/coding/CapProj/TestSeg_1/video_input/fight_5.mp4: 384x640 2 Fighters, 14.5ms\n",
      "video 1/1 (frame 1021/3810) /home/hatsu/coding/CapProj/TestSeg_1/video_input/fight_5.mp4: 384x640 2 Fighters, 12.9ms\n",
      "video 1/1 (frame 1022/3810) /home/hatsu/coding/CapProj/TestSeg_1/video_input/fight_5.mp4: 384x640 2 Fighters, 14.0ms\n",
      "video 1/1 (frame 1023/3810) /home/hatsu/coding/CapProj/TestSeg_1/video_input/fight_5.mp4: 384x640 2 Fighters, 42.8ms\n",
      "video 1/1 (frame 1024/3810) /home/hatsu/coding/CapProj/TestSeg_1/video_input/fight_5.mp4: 384x640 2 Fighters, 13.5ms\n",
      "video 1/1 (frame 1025/3810) /home/hatsu/coding/CapProj/TestSeg_1/video_input/fight_5.mp4: 384x640 2 Fighters, 13.4ms\n",
      "video 1/1 (frame 1026/3810) /home/hatsu/coding/CapProj/TestSeg_1/video_input/fight_5.mp4: 384x640 2 Fighters, 13.7ms\n",
      "video 1/1 (frame 1027/3810) /home/hatsu/coding/CapProj/TestSeg_1/video_input/fight_5.mp4: 384x640 2 Fighters, 36.5ms\n",
      "video 1/1 (frame 1028/3810) /home/hatsu/coding/CapProj/TestSeg_1/video_input/fight_5.mp4: 384x640 1 Fighter, 44.6ms\n",
      "video 1/1 (frame 1029/3810) /home/hatsu/coding/CapProj/TestSeg_1/video_input/fight_5.mp4: 384x640 1 Fighter, 13.1ms\n",
      "video 1/1 (frame 1030/3810) /home/hatsu/coding/CapProj/TestSeg_1/video_input/fight_5.mp4: 384x640 1 Fighter, 17.0ms\n",
      "video 1/1 (frame 1031/3810) /home/hatsu/coding/CapProj/TestSeg_1/video_input/fight_5.mp4: 384x640 1 Fighter, 14.0ms\n",
      "video 1/1 (frame 1032/3810) /home/hatsu/coding/CapProj/TestSeg_1/video_input/fight_5.mp4: 384x640 1 Fighter, 32.4ms\n",
      "video 1/1 (frame 1033/3810) /home/hatsu/coding/CapProj/TestSeg_1/video_input/fight_5.mp4: 384x640 1 Fighter, 12.6ms\n",
      "video 1/1 (frame 1034/3810) /home/hatsu/coding/CapProj/TestSeg_1/video_input/fight_5.mp4: 384x640 1 Fighter, 35.9ms\n",
      "video 1/1 (frame 1035/3810) /home/hatsu/coding/CapProj/TestSeg_1/video_input/fight_5.mp4: 384x640 1 Fighter, 13.1ms\n",
      "video 1/1 (frame 1036/3810) /home/hatsu/coding/CapProj/TestSeg_1/video_input/fight_5.mp4: 384x640 1 Fighter, 13.4ms\n",
      "video 1/1 (frame 1037/3810) /home/hatsu/coding/CapProj/TestSeg_1/video_input/fight_5.mp4: 384x640 1 Fighter, 15.7ms\n",
      "video 1/1 (frame 1038/3810) /home/hatsu/coding/CapProj/TestSeg_1/video_input/fight_5.mp4: 384x640 1 Fighter, 19.8ms\n",
      "video 1/1 (frame 1039/3810) /home/hatsu/coding/CapProj/TestSeg_1/video_input/fight_5.mp4: 384x640 1 Fighter, 13.3ms\n",
      "video 1/1 (frame 1040/3810) /home/hatsu/coding/CapProj/TestSeg_1/video_input/fight_5.mp4: 384x640 1 Fighter, 13.8ms\n",
      "video 1/1 (frame 1041/3810) /home/hatsu/coding/CapProj/TestSeg_1/video_input/fight_5.mp4: 384x640 1 Fighter, 30.3ms\n",
      "video 1/1 (frame 1042/3810) /home/hatsu/coding/CapProj/TestSeg_1/video_input/fight_5.mp4: 384x640 1 Fighter, 27.7ms\n",
      "video 1/1 (frame 1043/3810) /home/hatsu/coding/CapProj/TestSeg_1/video_input/fight_5.mp4: 384x640 1 Fighter, 14.0ms\n",
      "video 1/1 (frame 1044/3810) /home/hatsu/coding/CapProj/TestSeg_1/video_input/fight_5.mp4: 384x640 1 Fighter, 15.0ms\n",
      "video 1/1 (frame 1045/3810) /home/hatsu/coding/CapProj/TestSeg_1/video_input/fight_5.mp4: 384x640 1 Fighter, 14.8ms\n",
      "video 1/1 (frame 1046/3810) /home/hatsu/coding/CapProj/TestSeg_1/video_input/fight_5.mp4: 384x640 1 Fighter, 13.3ms\n",
      "video 1/1 (frame 1047/3810) /home/hatsu/coding/CapProj/TestSeg_1/video_input/fight_5.mp4: 384x640 2 Fighters, 15.0ms\n",
      "video 1/1 (frame 1048/3810) /home/hatsu/coding/CapProj/TestSeg_1/video_input/fight_5.mp4: 384x640 2 Fighters, 21.4ms\n",
      "video 1/1 (frame 1049/3810) /home/hatsu/coding/CapProj/TestSeg_1/video_input/fight_5.mp4: 384x640 2 Fighters, 21.0ms\n",
      "video 1/1 (frame 1050/3810) /home/hatsu/coding/CapProj/TestSeg_1/video_input/fight_5.mp4: 384x640 2 Fighters, 21.6ms\n",
      "video 1/1 (frame 1051/3810) /home/hatsu/coding/CapProj/TestSeg_1/video_input/fight_5.mp4: 384x640 2 Fighters, 18.5ms\n",
      "video 1/1 (frame 1052/3810) /home/hatsu/coding/CapProj/TestSeg_1/video_input/fight_5.mp4: 384x640 2 Fighters, 19.6ms\n",
      "video 1/1 (frame 1053/3810) /home/hatsu/coding/CapProj/TestSeg_1/video_input/fight_5.mp4: 384x640 2 Fighters, 21.6ms\n",
      "video 1/1 (frame 1054/3810) /home/hatsu/coding/CapProj/TestSeg_1/video_input/fight_5.mp4: 384x640 2 Fighters, 12.7ms\n",
      "video 1/1 (frame 1055/3810) /home/hatsu/coding/CapProj/TestSeg_1/video_input/fight_5.mp4: 384x640 2 Fighters, 14.2ms\n",
      "video 1/1 (frame 1056/3810) /home/hatsu/coding/CapProj/TestSeg_1/video_input/fight_5.mp4: 384x640 2 Fighters, 35.4ms\n",
      "video 1/1 (frame 1057/3810) /home/hatsu/coding/CapProj/TestSeg_1/video_input/fight_5.mp4: 384x640 2 Fighters, 14.7ms\n",
      "video 1/1 (frame 1058/3810) /home/hatsu/coding/CapProj/TestSeg_1/video_input/fight_5.mp4: 384x640 2 Fighters, 14.9ms\n",
      "video 1/1 (frame 1059/3810) /home/hatsu/coding/CapProj/TestSeg_1/video_input/fight_5.mp4: 384x640 2 Fighters, 14.0ms\n",
      "video 1/1 (frame 1060/3810) /home/hatsu/coding/CapProj/TestSeg_1/video_input/fight_5.mp4: 384x640 2 Fighters, 14.8ms\n",
      "video 1/1 (frame 1061/3810) /home/hatsu/coding/CapProj/TestSeg_1/video_input/fight_5.mp4: 384x640 1 Fighter, 14.9ms\n",
      "video 1/1 (frame 1062/3810) /home/hatsu/coding/CapProj/TestSeg_1/video_input/fight_5.mp4: 384x640 1 Fighter, 15.1ms\n",
      "video 1/1 (frame 1063/3810) /home/hatsu/coding/CapProj/TestSeg_1/video_input/fight_5.mp4: 384x640 1 Fighter, 13.5ms\n",
      "video 1/1 (frame 1064/3810) /home/hatsu/coding/CapProj/TestSeg_1/video_input/fight_5.mp4: 384x640 1 Fighter, 13.0ms\n",
      "video 1/1 (frame 1065/3810) /home/hatsu/coding/CapProj/TestSeg_1/video_input/fight_5.mp4: 384x640 1 Fighter, 20.1ms\n",
      "video 1/1 (frame 1066/3810) /home/hatsu/coding/CapProj/TestSeg_1/video_input/fight_5.mp4: 384x640 1 Fighter, 34.6ms\n",
      "video 1/1 (frame 1067/3810) /home/hatsu/coding/CapProj/TestSeg_1/video_input/fight_5.mp4: 384x640 1 Fighter, 21.9ms\n",
      "video 1/1 (frame 1068/3810) /home/hatsu/coding/CapProj/TestSeg_1/video_input/fight_5.mp4: 384x640 1 Fighter, 18.0ms\n",
      "video 1/1 (frame 1069/3810) /home/hatsu/coding/CapProj/TestSeg_1/video_input/fight_5.mp4: 384x640 1 Fighter, 13.6ms\n",
      "video 1/1 (frame 1070/3810) /home/hatsu/coding/CapProj/TestSeg_1/video_input/fight_5.mp4: 384x640 1 Fighter, 14.0ms\n",
      "video 1/1 (frame 1071/3810) /home/hatsu/coding/CapProj/TestSeg_1/video_input/fight_5.mp4: 384x640 1 Fighter, 14.8ms\n",
      "video 1/1 (frame 1072/3810) /home/hatsu/coding/CapProj/TestSeg_1/video_input/fight_5.mp4: 384x640 1 Fighter, 13.1ms\n",
      "video 1/1 (frame 1073/3810) /home/hatsu/coding/CapProj/TestSeg_1/video_input/fight_5.mp4: 384x640 1 Fighter, 14.5ms\n",
      "video 1/1 (frame 1074/3810) /home/hatsu/coding/CapProj/TestSeg_1/video_input/fight_5.mp4: 384x640 1 Fighter, 16.2ms\n",
      "video 1/1 (frame 1075/3810) /home/hatsu/coding/CapProj/TestSeg_1/video_input/fight_5.mp4: 384x640 1 Fighter, 13.7ms\n",
      "video 1/1 (frame 1076/3810) /home/hatsu/coding/CapProj/TestSeg_1/video_input/fight_5.mp4: 384x640 1 Fighter, 14.2ms\n",
      "video 1/1 (frame 1077/3810) /home/hatsu/coding/CapProj/TestSeg_1/video_input/fight_5.mp4: 384x640 1 Fighter, 15.1ms\n",
      "video 1/1 (frame 1078/3810) /home/hatsu/coding/CapProj/TestSeg_1/video_input/fight_5.mp4: 384x640 1 Fighter, 14.9ms\n",
      "video 1/1 (frame 1079/3810) /home/hatsu/coding/CapProj/TestSeg_1/video_input/fight_5.mp4: 384x640 1 Fighter, 43.5ms\n",
      "video 1/1 (frame 1080/3810) /home/hatsu/coding/CapProj/TestSeg_1/video_input/fight_5.mp4: 384x640 1 Fighter, 27.4ms\n",
      "video 1/1 (frame 1081/3810) /home/hatsu/coding/CapProj/TestSeg_1/video_input/fight_5.mp4: 384x640 1 Fighter, 22.7ms\n",
      "video 1/1 (frame 1082/3810) /home/hatsu/coding/CapProj/TestSeg_1/video_input/fight_5.mp4: 384x640 1 Fighter, 12.9ms\n",
      "video 1/1 (frame 1083/3810) /home/hatsu/coding/CapProj/TestSeg_1/video_input/fight_5.mp4: 384x640 1 Fighter, 12.8ms\n",
      "video 1/1 (frame 1084/3810) /home/hatsu/coding/CapProj/TestSeg_1/video_input/fight_5.mp4: 384x640 1 Fighter, 14.9ms\n",
      "video 1/1 (frame 1085/3810) /home/hatsu/coding/CapProj/TestSeg_1/video_input/fight_5.mp4: 384x640 1 Fighter, 17.9ms\n",
      "video 1/1 (frame 1086/3810) /home/hatsu/coding/CapProj/TestSeg_1/video_input/fight_5.mp4: 384x640 1 Fighter, 12.7ms\n",
      "video 1/1 (frame 1087/3810) /home/hatsu/coding/CapProj/TestSeg_1/video_input/fight_5.mp4: 384x640 1 Fighter, 14.5ms\n",
      "video 1/1 (frame 1088/3810) /home/hatsu/coding/CapProj/TestSeg_1/video_input/fight_5.mp4: 384x640 2 Fighters, 15.1ms\n",
      "video 1/1 (frame 1089/3810) /home/hatsu/coding/CapProj/TestSeg_1/video_input/fight_5.mp4: 384x640 2 Fighters, 15.6ms\n",
      "video 1/1 (frame 1090/3810) /home/hatsu/coding/CapProj/TestSeg_1/video_input/fight_5.mp4: 384x640 2 Fighters, 35.2ms\n",
      "video 1/1 (frame 1091/3810) /home/hatsu/coding/CapProj/TestSeg_1/video_input/fight_5.mp4: 384x640 2 Fighters, 21.5ms\n",
      "video 1/1 (frame 1092/3810) /home/hatsu/coding/CapProj/TestSeg_1/video_input/fight_5.mp4: 384x640 3 Fighters, 13.2ms\n",
      "video 1/1 (frame 1093/3810) /home/hatsu/coding/CapProj/TestSeg_1/video_input/fight_5.mp4: 384x640 2 Fighters, 14.8ms\n",
      "video 1/1 (frame 1094/3810) /home/hatsu/coding/CapProj/TestSeg_1/video_input/fight_5.mp4: 384x640 2 Fighters, 28.9ms\n",
      "video 1/1 (frame 1095/3810) /home/hatsu/coding/CapProj/TestSeg_1/video_input/fight_5.mp4: 384x640 2 Fighters, 21.4ms\n",
      "video 1/1 (frame 1096/3810) /home/hatsu/coding/CapProj/TestSeg_1/video_input/fight_5.mp4: 384x640 2 Fighters, 18.1ms\n",
      "video 1/1 (frame 1097/3810) /home/hatsu/coding/CapProj/TestSeg_1/video_input/fight_5.mp4: 384x640 3 Fighters, 13.0ms\n",
      "video 1/1 (frame 1098/3810) /home/hatsu/coding/CapProj/TestSeg_1/video_input/fight_5.mp4: 384x640 3 Fighters, 14.5ms\n",
      "video 1/1 (frame 1099/3810) /home/hatsu/coding/CapProj/TestSeg_1/video_input/fight_5.mp4: 384x640 3 Fighters, 14.0ms\n",
      "video 1/1 (frame 1100/3810) /home/hatsu/coding/CapProj/TestSeg_1/video_input/fight_5.mp4: 384x640 2 Fighters, 15.8ms\n",
      "video 1/1 (frame 1101/3810) /home/hatsu/coding/CapProj/TestSeg_1/video_input/fight_5.mp4: 384x640 2 Fighters, 17.5ms\n",
      "video 1/1 (frame 1102/3810) /home/hatsu/coding/CapProj/TestSeg_1/video_input/fight_5.mp4: 384x640 2 Fighters, 14.1ms\n",
      "video 1/1 (frame 1103/3810) /home/hatsu/coding/CapProj/TestSeg_1/video_input/fight_5.mp4: 384x640 2 Fighters, 15.8ms\n",
      "video 1/1 (frame 1104/3810) /home/hatsu/coding/CapProj/TestSeg_1/video_input/fight_5.mp4: 384x640 2 Fighters, 13.4ms\n",
      "video 1/1 (frame 1105/3810) /home/hatsu/coding/CapProj/TestSeg_1/video_input/fight_5.mp4: 384x640 2 Fighters, 14.3ms\n",
      "video 1/1 (frame 1106/3810) /home/hatsu/coding/CapProj/TestSeg_1/video_input/fight_5.mp4: 384x640 2 Fighters, 16.3ms\n",
      "video 1/1 (frame 1107/3810) /home/hatsu/coding/CapProj/TestSeg_1/video_input/fight_5.mp4: 384x640 3 Fighters, 14.1ms\n",
      "video 1/1 (frame 1108/3810) /home/hatsu/coding/CapProj/TestSeg_1/video_input/fight_5.mp4: 384x640 3 Fighters, 14.8ms\n",
      "video 1/1 (frame 1109/3810) /home/hatsu/coding/CapProj/TestSeg_1/video_input/fight_5.mp4: 384x640 3 Fighters, 39.9ms\n",
      "video 1/1 (frame 1110/3810) /home/hatsu/coding/CapProj/TestSeg_1/video_input/fight_5.mp4: 384x640 3 Fighters, 14.0ms\n",
      "video 1/1 (frame 1111/3810) /home/hatsu/coding/CapProj/TestSeg_1/video_input/fight_5.mp4: 384x640 3 Fighters, 15.3ms\n",
      "video 1/1 (frame 1112/3810) /home/hatsu/coding/CapProj/TestSeg_1/video_input/fight_5.mp4: 384x640 3 Fighters, 14.4ms\n",
      "video 1/1 (frame 1113/3810) /home/hatsu/coding/CapProj/TestSeg_1/video_input/fight_5.mp4: 384x640 3 Fighters, 14.4ms\n",
      "video 1/1 (frame 1114/3810) /home/hatsu/coding/CapProj/TestSeg_1/video_input/fight_5.mp4: 384x640 3 Fighters, 14.1ms\n",
      "video 1/1 (frame 1115/3810) /home/hatsu/coding/CapProj/TestSeg_1/video_input/fight_5.mp4: 384x640 2 Fighters, 12.2ms\n",
      "video 1/1 (frame 1116/3810) /home/hatsu/coding/CapProj/TestSeg_1/video_input/fight_5.mp4: 384x640 2 Fighters, 14.3ms\n",
      "video 1/1 (frame 1117/3810) /home/hatsu/coding/CapProj/TestSeg_1/video_input/fight_5.mp4: 384x640 2 Fighters, 14.3ms\n",
      "video 1/1 (frame 1118/3810) /home/hatsu/coding/CapProj/TestSeg_1/video_input/fight_5.mp4: 384x640 2 Fighters, 12.8ms\n",
      "video 1/1 (frame 1119/3810) /home/hatsu/coding/CapProj/TestSeg_1/video_input/fight_5.mp4: 384x640 2 Fighters, 15.6ms\n",
      "video 1/1 (frame 1120/3810) /home/hatsu/coding/CapProj/TestSeg_1/video_input/fight_5.mp4: 384x640 2 Fighters, 13.9ms\n",
      "video 1/1 (frame 1121/3810) /home/hatsu/coding/CapProj/TestSeg_1/video_input/fight_5.mp4: 384x640 2 Fighters, 13.8ms\n",
      "video 1/1 (frame 1122/3810) /home/hatsu/coding/CapProj/TestSeg_1/video_input/fight_5.mp4: 384x640 2 Fighters, 14.5ms\n",
      "video 1/1 (frame 1123/3810) /home/hatsu/coding/CapProj/TestSeg_1/video_input/fight_5.mp4: 384x640 2 Fighters, 13.6ms\n",
      "video 1/1 (frame 1124/3810) /home/hatsu/coding/CapProj/TestSeg_1/video_input/fight_5.mp4: 384x640 2 Fighters, 18.6ms\n",
      "video 1/1 (frame 1125/3810) /home/hatsu/coding/CapProj/TestSeg_1/video_input/fight_5.mp4: 384x640 2 Fighters, 14.1ms\n",
      "video 1/1 (frame 1126/3810) /home/hatsu/coding/CapProj/TestSeg_1/video_input/fight_5.mp4: 384x640 2 Fighters, 22.9ms\n",
      "video 1/1 (frame 1127/3810) /home/hatsu/coding/CapProj/TestSeg_1/video_input/fight_5.mp4: 384x640 3 Fighters, 31.9ms\n",
      "video 1/1 (frame 1128/3810) /home/hatsu/coding/CapProj/TestSeg_1/video_input/fight_5.mp4: 384x640 2 Fighters, 15.1ms\n",
      "video 1/1 (frame 1129/3810) /home/hatsu/coding/CapProj/TestSeg_1/video_input/fight_5.mp4: 384x640 2 Fighters, 13.3ms\n",
      "video 1/1 (frame 1130/3810) /home/hatsu/coding/CapProj/TestSeg_1/video_input/fight_5.mp4: 384x640 1 Fighter, 16.1ms\n",
      "video 1/1 (frame 1131/3810) /home/hatsu/coding/CapProj/TestSeg_1/video_input/fight_5.mp4: 384x640 1 Fighter, 14.5ms\n",
      "video 1/1 (frame 1132/3810) /home/hatsu/coding/CapProj/TestSeg_1/video_input/fight_5.mp4: 384x640 1 Fighter, 15.5ms\n",
      "video 1/1 (frame 1133/3810) /home/hatsu/coding/CapProj/TestSeg_1/video_input/fight_5.mp4: 384x640 2 Fighters, 15.5ms\n",
      "video 1/1 (frame 1134/3810) /home/hatsu/coding/CapProj/TestSeg_1/video_input/fight_5.mp4: 384x640 2 Fighters, 20.6ms\n",
      "video 1/1 (frame 1135/3810) /home/hatsu/coding/CapProj/TestSeg_1/video_input/fight_5.mp4: 384x640 2 Fighters, 16.0ms\n",
      "video 1/1 (frame 1136/3810) /home/hatsu/coding/CapProj/TestSeg_1/video_input/fight_5.mp4: 384x640 1 Fighter, 43.1ms\n",
      "video 1/1 (frame 1137/3810) /home/hatsu/coding/CapProj/TestSeg_1/video_input/fight_5.mp4: 384x640 2 Fighters, 30.0ms\n",
      "video 1/1 (frame 1138/3810) /home/hatsu/coding/CapProj/TestSeg_1/video_input/fight_5.mp4: 384x640 2 Fighters, 21.0ms\n",
      "video 1/1 (frame 1139/3810) /home/hatsu/coding/CapProj/TestSeg_1/video_input/fight_5.mp4: 384x640 2 Fighters, 22.6ms\n",
      "video 1/1 (frame 1140/3810) /home/hatsu/coding/CapProj/TestSeg_1/video_input/fight_5.mp4: 384x640 2 Fighters, 19.6ms\n",
      "video 1/1 (frame 1141/3810) /home/hatsu/coding/CapProj/TestSeg_1/video_input/fight_5.mp4: 384x640 1 Fighter, 25.9ms\n",
      "video 1/1 (frame 1142/3810) /home/hatsu/coding/CapProj/TestSeg_1/video_input/fight_5.mp4: 384x640 1 Fighter, 22.3ms\n",
      "video 1/1 (frame 1143/3810) /home/hatsu/coding/CapProj/TestSeg_1/video_input/fight_5.mp4: 384x640 1 Fighter, 21.8ms\n",
      "video 1/1 (frame 1144/3810) /home/hatsu/coding/CapProj/TestSeg_1/video_input/fight_5.mp4: 384x640 1 Fighter, 17.9ms\n",
      "video 1/1 (frame 1145/3810) /home/hatsu/coding/CapProj/TestSeg_1/video_input/fight_5.mp4: 384x640 1 Fighter, 16.5ms\n",
      "video 1/1 (frame 1146/3810) /home/hatsu/coding/CapProj/TestSeg_1/video_input/fight_5.mp4: 384x640 1 Fighter, 13.9ms\n",
      "video 1/1 (frame 1147/3810) /home/hatsu/coding/CapProj/TestSeg_1/video_input/fight_5.mp4: 384x640 1 Fighter, 12.5ms\n",
      "video 1/1 (frame 1148/3810) /home/hatsu/coding/CapProj/TestSeg_1/video_input/fight_5.mp4: 384x640 1 Fighter, 13.7ms\n",
      "video 1/1 (frame 1149/3810) /home/hatsu/coding/CapProj/TestSeg_1/video_input/fight_5.mp4: 384x640 1 Fighter, 14.2ms\n",
      "video 1/1 (frame 1150/3810) /home/hatsu/coding/CapProj/TestSeg_1/video_input/fight_5.mp4: 384x640 1 Fighter, 31.4ms\n",
      "video 1/1 (frame 1151/3810) /home/hatsu/coding/CapProj/TestSeg_1/video_input/fight_5.mp4: 384x640 1 Fighter, 18.3ms\n",
      "video 1/1 (frame 1152/3810) /home/hatsu/coding/CapProj/TestSeg_1/video_input/fight_5.mp4: 384x640 1 Fighter, 14.6ms\n",
      "video 1/1 (frame 1153/3810) /home/hatsu/coding/CapProj/TestSeg_1/video_input/fight_5.mp4: 384x640 1 Fighter, 13.7ms\n",
      "video 1/1 (frame 1154/3810) /home/hatsu/coding/CapProj/TestSeg_1/video_input/fight_5.mp4: 384x640 1 Fighter, 14.4ms\n",
      "video 1/1 (frame 1155/3810) /home/hatsu/coding/CapProj/TestSeg_1/video_input/fight_5.mp4: 384x640 1 Fighter, 14.8ms\n",
      "video 1/1 (frame 1156/3810) /home/hatsu/coding/CapProj/TestSeg_1/video_input/fight_5.mp4: 384x640 1 Fighter, 12.5ms\n",
      "video 1/1 (frame 1157/3810) /home/hatsu/coding/CapProj/TestSeg_1/video_input/fight_5.mp4: 384x640 1 Fighter, 14.5ms\n",
      "video 1/1 (frame 1158/3810) /home/hatsu/coding/CapProj/TestSeg_1/video_input/fight_5.mp4: 384x640 1 Fighter, 12.4ms\n",
      "video 1/1 (frame 1159/3810) /home/hatsu/coding/CapProj/TestSeg_1/video_input/fight_5.mp4: 384x640 1 Fighter, 37.6ms\n",
      "video 1/1 (frame 1160/3810) /home/hatsu/coding/CapProj/TestSeg_1/video_input/fight_5.mp4: 384x640 1 Fighter, 13.9ms\n",
      "video 1/1 (frame 1161/3810) /home/hatsu/coding/CapProj/TestSeg_1/video_input/fight_5.mp4: 384x640 1 Fighter, 17.8ms\n",
      "video 1/1 (frame 1162/3810) /home/hatsu/coding/CapProj/TestSeg_1/video_input/fight_5.mp4: 384x640 1 Fighter, 13.1ms\n",
      "video 1/1 (frame 1163/3810) /home/hatsu/coding/CapProj/TestSeg_1/video_input/fight_5.mp4: 384x640 1 Fighter, 36.7ms\n",
      "video 1/1 (frame 1164/3810) /home/hatsu/coding/CapProj/TestSeg_1/video_input/fight_5.mp4: 384x640 1 Fighter, 13.4ms\n",
      "video 1/1 (frame 1165/3810) /home/hatsu/coding/CapProj/TestSeg_1/video_input/fight_5.mp4: 384x640 2 Fighters, 13.9ms\n",
      "video 1/1 (frame 1166/3810) /home/hatsu/coding/CapProj/TestSeg_1/video_input/fight_5.mp4: 384x640 2 Fighters, 15.4ms\n",
      "video 1/1 (frame 1167/3810) /home/hatsu/coding/CapProj/TestSeg_1/video_input/fight_5.mp4: 384x640 2 Fighters, 14.1ms\n",
      "video 1/1 (frame 1168/3810) /home/hatsu/coding/CapProj/TestSeg_1/video_input/fight_5.mp4: 384x640 1 Fighter, 13.2ms\n",
      "video 1/1 (frame 1169/3810) /home/hatsu/coding/CapProj/TestSeg_1/video_input/fight_5.mp4: 384x640 2 Fighters, 13.8ms\n",
      "video 1/1 (frame 1170/3810) /home/hatsu/coding/CapProj/TestSeg_1/video_input/fight_5.mp4: 384x640 2 Fighters, 22.7ms\n",
      "video 1/1 (frame 1171/3810) /home/hatsu/coding/CapProj/TestSeg_1/video_input/fight_5.mp4: 384x640 2 Fighters, 13.8ms\n",
      "video 1/1 (frame 1172/3810) /home/hatsu/coding/CapProj/TestSeg_1/video_input/fight_5.mp4: 384x640 2 Fighters, 14.7ms\n",
      "video 1/1 (frame 1173/3810) /home/hatsu/coding/CapProj/TestSeg_1/video_input/fight_5.mp4: 384x640 1 Fighter, 13.9ms\n",
      "video 1/1 (frame 1174/3810) /home/hatsu/coding/CapProj/TestSeg_1/video_input/fight_5.mp4: 384x640 1 Fighter, 13.5ms\n",
      "video 1/1 (frame 1175/3810) /home/hatsu/coding/CapProj/TestSeg_1/video_input/fight_5.mp4: 384x640 1 Fighter, 21.6ms\n",
      "video 1/1 (frame 1176/3810) /home/hatsu/coding/CapProj/TestSeg_1/video_input/fight_5.mp4: 384x640 (no detections), 28.5ms\n",
      "video 1/1 (frame 1177/3810) /home/hatsu/coding/CapProj/TestSeg_1/video_input/fight_5.mp4: 384x640 (no detections), 20.5ms\n",
      "video 1/1 (frame 1178/3810) /home/hatsu/coding/CapProj/TestSeg_1/video_input/fight_5.mp4: 384x640 1 Fighter, 19.9ms\n",
      "video 1/1 (frame 1179/3810) /home/hatsu/coding/CapProj/TestSeg_1/video_input/fight_5.mp4: 384x640 1 Fighter, 18.4ms\n",
      "video 1/1 (frame 1180/3810) /home/hatsu/coding/CapProj/TestSeg_1/video_input/fight_5.mp4: 384x640 1 Fighter, 17.5ms\n",
      "video 1/1 (frame 1181/3810) /home/hatsu/coding/CapProj/TestSeg_1/video_input/fight_5.mp4: 384x640 1 Fighter, 22.2ms\n",
      "video 1/1 (frame 1182/3810) /home/hatsu/coding/CapProj/TestSeg_1/video_input/fight_5.mp4: 384x640 1 Fighter, 19.6ms\n",
      "video 1/1 (frame 1183/3810) /home/hatsu/coding/CapProj/TestSeg_1/video_input/fight_5.mp4: 384x640 1 Fighter, 16.1ms\n",
      "video 1/1 (frame 1184/3810) /home/hatsu/coding/CapProj/TestSeg_1/video_input/fight_5.mp4: 384x640 1 Fighter, 15.0ms\n",
      "video 1/1 (frame 1185/3810) /home/hatsu/coding/CapProj/TestSeg_1/video_input/fight_5.mp4: 384x640 1 Fighter, 13.5ms\n",
      "video 1/1 (frame 1186/3810) /home/hatsu/coding/CapProj/TestSeg_1/video_input/fight_5.mp4: 384x640 1 Fighter, 15.2ms\n",
      "video 1/1 (frame 1187/3810) /home/hatsu/coding/CapProj/TestSeg_1/video_input/fight_5.mp4: 384x640 1 Fighter, 17.9ms\n",
      "video 1/1 (frame 1188/3810) /home/hatsu/coding/CapProj/TestSeg_1/video_input/fight_5.mp4: 384x640 1 Fighter, 14.6ms\n",
      "video 1/1 (frame 1189/3810) /home/hatsu/coding/CapProj/TestSeg_1/video_input/fight_5.mp4: 384x640 1 Fighter, 24.3ms\n",
      "video 1/1 (frame 1190/3810) /home/hatsu/coding/CapProj/TestSeg_1/video_input/fight_5.mp4: 384x640 1 Fighter, 14.9ms\n",
      "video 1/1 (frame 1191/3810) /home/hatsu/coding/CapProj/TestSeg_1/video_input/fight_5.mp4: 384x640 1 Fighter, 14.7ms\n",
      "video 1/1 (frame 1192/3810) /home/hatsu/coding/CapProj/TestSeg_1/video_input/fight_5.mp4: 384x640 2 Fighters, 13.4ms\n",
      "video 1/1 (frame 1193/3810) /home/hatsu/coding/CapProj/TestSeg_1/video_input/fight_5.mp4: 384x640 2 Fighters, 14.4ms\n",
      "video 1/1 (frame 1194/3810) /home/hatsu/coding/CapProj/TestSeg_1/video_input/fight_5.mp4: 384x640 2 Fighters, 14.4ms\n",
      "video 1/1 (frame 1195/3810) /home/hatsu/coding/CapProj/TestSeg_1/video_input/fight_5.mp4: 384x640 2 Fighters, 12.9ms\n",
      "video 1/1 (frame 1196/3810) /home/hatsu/coding/CapProj/TestSeg_1/video_input/fight_5.mp4: 384x640 2 Fighters, 14.7ms\n",
      "video 1/1 (frame 1197/3810) /home/hatsu/coding/CapProj/TestSeg_1/video_input/fight_5.mp4: 384x640 2 Fighters, 13.2ms\n",
      "video 1/1 (frame 1198/3810) /home/hatsu/coding/CapProj/TestSeg_1/video_input/fight_5.mp4: 384x640 2 Fighters, 14.6ms\n",
      "video 1/1 (frame 1199/3810) /home/hatsu/coding/CapProj/TestSeg_1/video_input/fight_5.mp4: 384x640 2 Fighters, 14.3ms\n",
      "video 1/1 (frame 1200/3810) /home/hatsu/coding/CapProj/TestSeg_1/video_input/fight_5.mp4: 384x640 2 Fighters, 13.9ms\n",
      "video 1/1 (frame 1201/3810) /home/hatsu/coding/CapProj/TestSeg_1/video_input/fight_5.mp4: 384x640 2 Fighters, 15.0ms\n",
      "video 1/1 (frame 1202/3810) /home/hatsu/coding/CapProj/TestSeg_1/video_input/fight_5.mp4: 384x640 2 Fighters, 20.6ms\n",
      "video 1/1 (frame 1203/3810) /home/hatsu/coding/CapProj/TestSeg_1/video_input/fight_5.mp4: 384x640 2 Fighters, 13.7ms\n",
      "video 1/1 (frame 1204/3810) /home/hatsu/coding/CapProj/TestSeg_1/video_input/fight_5.mp4: 384x640 2 Fighters, 14.9ms\n",
      "video 1/1 (frame 1205/3810) /home/hatsu/coding/CapProj/TestSeg_1/video_input/fight_5.mp4: 384x640 2 Fighters, 14.3ms\n",
      "video 1/1 (frame 1206/3810) /home/hatsu/coding/CapProj/TestSeg_1/video_input/fight_5.mp4: 384x640 2 Fighters, 14.5ms\n",
      "video 1/1 (frame 1207/3810) /home/hatsu/coding/CapProj/TestSeg_1/video_input/fight_5.mp4: 384x640 2 Fighters, 16.5ms\n",
      "video 1/1 (frame 1208/3810) /home/hatsu/coding/CapProj/TestSeg_1/video_input/fight_5.mp4: 384x640 2 Fighters, 18.1ms\n",
      "video 1/1 (frame 1209/3810) /home/hatsu/coding/CapProj/TestSeg_1/video_input/fight_5.mp4: 384x640 2 Fighters, 18.3ms\n",
      "video 1/1 (frame 1210/3810) /home/hatsu/coding/CapProj/TestSeg_1/video_input/fight_5.mp4: 384x640 2 Fighters, 13.8ms\n",
      "video 1/1 (frame 1211/3810) /home/hatsu/coding/CapProj/TestSeg_1/video_input/fight_5.mp4: 384x640 2 Fighters, 14.3ms\n",
      "video 1/1 (frame 1212/3810) /home/hatsu/coding/CapProj/TestSeg_1/video_input/fight_5.mp4: 384x640 2 Fighters, 13.6ms\n",
      "video 1/1 (frame 1213/3810) /home/hatsu/coding/CapProj/TestSeg_1/video_input/fight_5.mp4: 384x640 2 Fighters, 13.3ms\n",
      "video 1/1 (frame 1214/3810) /home/hatsu/coding/CapProj/TestSeg_1/video_input/fight_5.mp4: 384x640 2 Fighters, 13.4ms\n",
      "video 1/1 (frame 1215/3810) /home/hatsu/coding/CapProj/TestSeg_1/video_input/fight_5.mp4: 384x640 2 Fighters, 22.6ms\n",
      "video 1/1 (frame 1216/3810) /home/hatsu/coding/CapProj/TestSeg_1/video_input/fight_5.mp4: 384x640 2 Fighters, 14.7ms\n",
      "video 1/1 (frame 1217/3810) /home/hatsu/coding/CapProj/TestSeg_1/video_input/fight_5.mp4: 384x640 2 Fighters, 14.2ms\n",
      "video 1/1 (frame 1218/3810) /home/hatsu/coding/CapProj/TestSeg_1/video_input/fight_5.mp4: 384x640 2 Fighters, 15.3ms\n",
      "video 1/1 (frame 1219/3810) /home/hatsu/coding/CapProj/TestSeg_1/video_input/fight_5.mp4: 384x640 2 Fighters, 25.0ms\n",
      "video 1/1 (frame 1220/3810) /home/hatsu/coding/CapProj/TestSeg_1/video_input/fight_5.mp4: 384x640 2 Fighters, 22.4ms\n",
      "video 1/1 (frame 1221/3810) /home/hatsu/coding/CapProj/TestSeg_1/video_input/fight_5.mp4: 384x640 2 Fighters, 14.4ms\n",
      "video 1/1 (frame 1222/3810) /home/hatsu/coding/CapProj/TestSeg_1/video_input/fight_5.mp4: 384x640 2 Fighters, 15.2ms\n",
      "video 1/1 (frame 1223/3810) /home/hatsu/coding/CapProj/TestSeg_1/video_input/fight_5.mp4: 384x640 2 Fighters, 15.0ms\n",
      "video 1/1 (frame 1224/3810) /home/hatsu/coding/CapProj/TestSeg_1/video_input/fight_5.mp4: 384x640 2 Fighters, 19.5ms\n",
      "video 1/1 (frame 1225/3810) /home/hatsu/coding/CapProj/TestSeg_1/video_input/fight_5.mp4: 384x640 2 Fighters, 14.5ms\n",
      "video 1/1 (frame 1226/3810) /home/hatsu/coding/CapProj/TestSeg_1/video_input/fight_5.mp4: 384x640 2 Fighters, 14.3ms\n",
      "video 1/1 (frame 1227/3810) /home/hatsu/coding/CapProj/TestSeg_1/video_input/fight_5.mp4: 384x640 2 Fighters, 14.1ms\n",
      "video 1/1 (frame 1228/3810) /home/hatsu/coding/CapProj/TestSeg_1/video_input/fight_5.mp4: 384x640 2 Fighters, 20.9ms\n",
      "video 1/1 (frame 1229/3810) /home/hatsu/coding/CapProj/TestSeg_1/video_input/fight_5.mp4: 384x640 2 Fighters, 13.6ms\n",
      "video 1/1 (frame 1230/3810) /home/hatsu/coding/CapProj/TestSeg_1/video_input/fight_5.mp4: 384x640 2 Fighters, 14.9ms\n",
      "video 1/1 (frame 1231/3810) /home/hatsu/coding/CapProj/TestSeg_1/video_input/fight_5.mp4: 384x640 2 Fighters, 13.7ms\n",
      "video 1/1 (frame 1232/3810) /home/hatsu/coding/CapProj/TestSeg_1/video_input/fight_5.mp4: 384x640 2 Fighters, 14.1ms\n",
      "video 1/1 (frame 1233/3810) /home/hatsu/coding/CapProj/TestSeg_1/video_input/fight_5.mp4: 384x640 2 Fighters, 14.1ms\n",
      "video 1/1 (frame 1234/3810) /home/hatsu/coding/CapProj/TestSeg_1/video_input/fight_5.mp4: 384x640 2 Fighters, 14.0ms\n",
      "video 1/1 (frame 1235/3810) /home/hatsu/coding/CapProj/TestSeg_1/video_input/fight_5.mp4: 384x640 2 Fighters, 15.4ms\n",
      "video 1/1 (frame 1236/3810) /home/hatsu/coding/CapProj/TestSeg_1/video_input/fight_5.mp4: 384x640 2 Fighters, 15.4ms\n",
      "video 1/1 (frame 1237/3810) /home/hatsu/coding/CapProj/TestSeg_1/video_input/fight_5.mp4: 384x640 2 Fighters, 14.6ms\n",
      "video 1/1 (frame 1238/3810) /home/hatsu/coding/CapProj/TestSeg_1/video_input/fight_5.mp4: 384x640 2 Fighters, 13.6ms\n",
      "video 1/1 (frame 1239/3810) /home/hatsu/coding/CapProj/TestSeg_1/video_input/fight_5.mp4: 384x640 2 Fighters, 14.4ms\n",
      "video 1/1 (frame 1240/3810) /home/hatsu/coding/CapProj/TestSeg_1/video_input/fight_5.mp4: 384x640 2 Fighters, 21.0ms\n",
      "video 1/1 (frame 1241/3810) /home/hatsu/coding/CapProj/TestSeg_1/video_input/fight_5.mp4: 384x640 2 Fighters, 15.3ms\n",
      "video 1/1 (frame 1242/3810) /home/hatsu/coding/CapProj/TestSeg_1/video_input/fight_5.mp4: 384x640 2 Fighters, 13.6ms\n",
      "video 1/1 (frame 1243/3810) /home/hatsu/coding/CapProj/TestSeg_1/video_input/fight_5.mp4: 384x640 2 Fighters, 16.0ms\n",
      "video 1/1 (frame 1244/3810) /home/hatsu/coding/CapProj/TestSeg_1/video_input/fight_5.mp4: 384x640 2 Fighters, 14.6ms\n",
      "video 1/1 (frame 1245/3810) /home/hatsu/coding/CapProj/TestSeg_1/video_input/fight_5.mp4: 384x640 2 Fighters, 14.6ms\n",
      "video 1/1 (frame 1246/3810) /home/hatsu/coding/CapProj/TestSeg_1/video_input/fight_5.mp4: 384x640 2 Fighters, 14.4ms\n",
      "video 1/1 (frame 1247/3810) /home/hatsu/coding/CapProj/TestSeg_1/video_input/fight_5.mp4: 384x640 2 Fighters, 13.8ms\n",
      "video 1/1 (frame 1248/3810) /home/hatsu/coding/CapProj/TestSeg_1/video_input/fight_5.mp4: 384x640 2 Fighters, 14.5ms\n",
      "video 1/1 (frame 1249/3810) /home/hatsu/coding/CapProj/TestSeg_1/video_input/fight_5.mp4: 384x640 2 Fighters, 14.3ms\n",
      "video 1/1 (frame 1250/3810) /home/hatsu/coding/CapProj/TestSeg_1/video_input/fight_5.mp4: 384x640 2 Fighters, 22.0ms\n",
      "video 1/1 (frame 1251/3810) /home/hatsu/coding/CapProj/TestSeg_1/video_input/fight_5.mp4: 384x640 2 Fighters, 19.8ms\n",
      "video 1/1 (frame 1252/3810) /home/hatsu/coding/CapProj/TestSeg_1/video_input/fight_5.mp4: 384x640 2 Fighters, 21.6ms\n",
      "video 1/1 (frame 1253/3810) /home/hatsu/coding/CapProj/TestSeg_1/video_input/fight_5.mp4: 384x640 2 Fighters, 19.2ms\n",
      "video 1/1 (frame 1254/3810) /home/hatsu/coding/CapProj/TestSeg_1/video_input/fight_5.mp4: 384x640 2 Fighters, 19.3ms\n",
      "video 1/1 (frame 1255/3810) /home/hatsu/coding/CapProj/TestSeg_1/video_input/fight_5.mp4: 384x640 2 Fighters, 36.5ms\n",
      "video 1/1 (frame 1256/3810) /home/hatsu/coding/CapProj/TestSeg_1/video_input/fight_5.mp4: 384x640 2 Fighters, 20.5ms\n",
      "video 1/1 (frame 1257/3810) /home/hatsu/coding/CapProj/TestSeg_1/video_input/fight_5.mp4: 384x640 2 Fighters, 20.5ms\n",
      "video 1/1 (frame 1258/3810) /home/hatsu/coding/CapProj/TestSeg_1/video_input/fight_5.mp4: 384x640 2 Fighters, 21.3ms\n",
      "video 1/1 (frame 1259/3810) /home/hatsu/coding/CapProj/TestSeg_1/video_input/fight_5.mp4: 384x640 2 Fighters, 20.3ms\n",
      "video 1/1 (frame 1260/3810) /home/hatsu/coding/CapProj/TestSeg_1/video_input/fight_5.mp4: 384x640 2 Fighters, 31.1ms\n",
      "video 1/1 (frame 1261/3810) /home/hatsu/coding/CapProj/TestSeg_1/video_input/fight_5.mp4: 384x640 2 Fighters, 13.2ms\n",
      "video 1/1 (frame 1262/3810) /home/hatsu/coding/CapProj/TestSeg_1/video_input/fight_5.mp4: 384x640 2 Fighters, 14.6ms\n",
      "video 1/1 (frame 1263/3810) /home/hatsu/coding/CapProj/TestSeg_1/video_input/fight_5.mp4: 384x640 2 Fighters, 13.3ms\n",
      "video 1/1 (frame 1264/3810) /home/hatsu/coding/CapProj/TestSeg_1/video_input/fight_5.mp4: 384x640 2 Fighters, 14.4ms\n",
      "video 1/1 (frame 1265/3810) /home/hatsu/coding/CapProj/TestSeg_1/video_input/fight_5.mp4: 384x640 2 Fighters, 18.3ms\n",
      "video 1/1 (frame 1266/3810) /home/hatsu/coding/CapProj/TestSeg_1/video_input/fight_5.mp4: 384x640 2 Fighters, 13.4ms\n",
      "video 1/1 (frame 1267/3810) /home/hatsu/coding/CapProj/TestSeg_1/video_input/fight_5.mp4: 384x640 2 Fighters, 13.7ms\n",
      "video 1/1 (frame 1268/3810) /home/hatsu/coding/CapProj/TestSeg_1/video_input/fight_5.mp4: 384x640 2 Fighters, 15.0ms\n",
      "video 1/1 (frame 1269/3810) /home/hatsu/coding/CapProj/TestSeg_1/video_input/fight_5.mp4: 384x640 2 Fighters, 17.5ms\n",
      "video 1/1 (frame 1270/3810) /home/hatsu/coding/CapProj/TestSeg_1/video_input/fight_5.mp4: 384x640 2 Fighters, 15.6ms\n",
      "video 1/1 (frame 1271/3810) /home/hatsu/coding/CapProj/TestSeg_1/video_input/fight_5.mp4: 384x640 2 Fighters, 13.7ms\n",
      "video 1/1 (frame 1272/3810) /home/hatsu/coding/CapProj/TestSeg_1/video_input/fight_5.mp4: 384x640 2 Fighters, 13.5ms\n",
      "video 1/1 (frame 1273/3810) /home/hatsu/coding/CapProj/TestSeg_1/video_input/fight_5.mp4: 384x640 2 Fighters, 31.1ms\n",
      "video 1/1 (frame 1274/3810) /home/hatsu/coding/CapProj/TestSeg_1/video_input/fight_5.mp4: 384x640 2 Fighters, 13.4ms\n",
      "video 1/1 (frame 1275/3810) /home/hatsu/coding/CapProj/TestSeg_1/video_input/fight_5.mp4: 384x640 2 Fighters, 12.6ms\n",
      "video 1/1 (frame 1276/3810) /home/hatsu/coding/CapProj/TestSeg_1/video_input/fight_5.mp4: 384x640 2 Fighters, 14.8ms\n",
      "video 1/1 (frame 1277/3810) /home/hatsu/coding/CapProj/TestSeg_1/video_input/fight_5.mp4: 384x640 2 Fighters, 24.3ms\n",
      "video 1/1 (frame 1278/3810) /home/hatsu/coding/CapProj/TestSeg_1/video_input/fight_5.mp4: 384x640 2 Fighters, 32.0ms\n",
      "video 1/1 (frame 1279/3810) /home/hatsu/coding/CapProj/TestSeg_1/video_input/fight_5.mp4: 384x640 2 Fighters, 21.6ms\n",
      "video 1/1 (frame 1280/3810) /home/hatsu/coding/CapProj/TestSeg_1/video_input/fight_5.mp4: 384x640 2 Fighters, 14.1ms\n",
      "video 1/1 (frame 1281/3810) /home/hatsu/coding/CapProj/TestSeg_1/video_input/fight_5.mp4: 384x640 2 Fighters, 12.2ms\n",
      "video 1/1 (frame 1282/3810) /home/hatsu/coding/CapProj/TestSeg_1/video_input/fight_5.mp4: 384x640 2 Fighters, 14.8ms\n",
      "video 1/1 (frame 1283/3810) /home/hatsu/coding/CapProj/TestSeg_1/video_input/fight_5.mp4: 384x640 2 Fighters, 15.2ms\n",
      "video 1/1 (frame 1284/3810) /home/hatsu/coding/CapProj/TestSeg_1/video_input/fight_5.mp4: 384x640 2 Fighters, 14.6ms\n",
      "video 1/1 (frame 1285/3810) /home/hatsu/coding/CapProj/TestSeg_1/video_input/fight_5.mp4: 384x640 2 Fighters, 15.8ms\n",
      "video 1/1 (frame 1286/3810) /home/hatsu/coding/CapProj/TestSeg_1/video_input/fight_5.mp4: 384x640 2 Fighters, 13.8ms\n",
      "video 1/1 (frame 1287/3810) /home/hatsu/coding/CapProj/TestSeg_1/video_input/fight_5.mp4: 384x640 2 Fighters, 15.3ms\n",
      "video 1/1 (frame 1288/3810) /home/hatsu/coding/CapProj/TestSeg_1/video_input/fight_5.mp4: 384x640 2 Fighters, 15.0ms\n",
      "video 1/1 (frame 1289/3810) /home/hatsu/coding/CapProj/TestSeg_1/video_input/fight_5.mp4: 384x640 2 Fighters, 22.9ms\n",
      "video 1/1 (frame 1290/3810) /home/hatsu/coding/CapProj/TestSeg_1/video_input/fight_5.mp4: 384x640 2 Fighters, 12.5ms\n",
      "video 1/1 (frame 1291/3810) /home/hatsu/coding/CapProj/TestSeg_1/video_input/fight_5.mp4: 384x640 2 Fighters, 14.0ms\n",
      "video 1/1 (frame 1292/3810) /home/hatsu/coding/CapProj/TestSeg_1/video_input/fight_5.mp4: 384x640 2 Fighters, 13.9ms\n",
      "video 1/1 (frame 1293/3810) /home/hatsu/coding/CapProj/TestSeg_1/video_input/fight_5.mp4: 384x640 2 Fighters, 13.2ms\n",
      "video 1/1 (frame 1294/3810) /home/hatsu/coding/CapProj/TestSeg_1/video_input/fight_5.mp4: 384x640 2 Fighters, 14.6ms\n",
      "video 1/1 (frame 1295/3810) /home/hatsu/coding/CapProj/TestSeg_1/video_input/fight_5.mp4: 384x640 2 Fighters, 14.2ms\n",
      "video 1/1 (frame 1296/3810) /home/hatsu/coding/CapProj/TestSeg_1/video_input/fight_5.mp4: 384x640 2 Fighters, 20.0ms\n",
      "video 1/1 (frame 1297/3810) /home/hatsu/coding/CapProj/TestSeg_1/video_input/fight_5.mp4: 384x640 2 Fighters, 20.8ms\n",
      "video 1/1 (frame 1298/3810) /home/hatsu/coding/CapProj/TestSeg_1/video_input/fight_5.mp4: 384x640 2 Fighters, 28.1ms\n",
      "video 1/1 (frame 1299/3810) /home/hatsu/coding/CapProj/TestSeg_1/video_input/fight_5.mp4: 384x640 2 Fighters, 13.1ms\n",
      "video 1/1 (frame 1300/3810) /home/hatsu/coding/CapProj/TestSeg_1/video_input/fight_5.mp4: 384x640 2 Fighters, 18.2ms\n",
      "video 1/1 (frame 1301/3810) /home/hatsu/coding/CapProj/TestSeg_1/video_input/fight_5.mp4: 384x640 2 Fighters, 20.5ms\n",
      "video 1/1 (frame 1302/3810) /home/hatsu/coding/CapProj/TestSeg_1/video_input/fight_5.mp4: 384x640 2 Fighters, 14.0ms\n",
      "video 1/1 (frame 1303/3810) /home/hatsu/coding/CapProj/TestSeg_1/video_input/fight_5.mp4: 384x640 2 Fighters, 14.1ms\n",
      "video 1/1 (frame 1304/3810) /home/hatsu/coding/CapProj/TestSeg_1/video_input/fight_5.mp4: 384x640 2 Fighters, 13.3ms\n",
      "video 1/1 (frame 1305/3810) /home/hatsu/coding/CapProj/TestSeg_1/video_input/fight_5.mp4: 384x640 2 Fighters, 16.2ms\n",
      "video 1/1 (frame 1306/3810) /home/hatsu/coding/CapProj/TestSeg_1/video_input/fight_5.mp4: 384x640 2 Fighters, 13.8ms\n",
      "video 1/1 (frame 1307/3810) /home/hatsu/coding/CapProj/TestSeg_1/video_input/fight_5.mp4: 384x640 2 Fighters, 14.4ms\n",
      "video 1/1 (frame 1308/3810) /home/hatsu/coding/CapProj/TestSeg_1/video_input/fight_5.mp4: 384x640 2 Fighters, 12.7ms\n",
      "video 1/1 (frame 1309/3810) /home/hatsu/coding/CapProj/TestSeg_1/video_input/fight_5.mp4: 384x640 2 Fighters, 13.3ms\n",
      "video 1/1 (frame 1310/3810) /home/hatsu/coding/CapProj/TestSeg_1/video_input/fight_5.mp4: 384x640 3 Fighters, 14.2ms\n",
      "video 1/1 (frame 1311/3810) /home/hatsu/coding/CapProj/TestSeg_1/video_input/fight_5.mp4: 384x640 2 Fighters, 17.2ms\n",
      "video 1/1 (frame 1312/3810) /home/hatsu/coding/CapProj/TestSeg_1/video_input/fight_5.mp4: 384x640 2 Fighters, 15.0ms\n",
      "video 1/1 (frame 1313/3810) /home/hatsu/coding/CapProj/TestSeg_1/video_input/fight_5.mp4: 384x640 3 Fighters, 18.4ms\n",
      "video 1/1 (frame 1314/3810) /home/hatsu/coding/CapProj/TestSeg_1/video_input/fight_5.mp4: 384x640 2 Fighters, 17.9ms\n",
      "video 1/1 (frame 1315/3810) /home/hatsu/coding/CapProj/TestSeg_1/video_input/fight_5.mp4: 384x640 3 Fighters, 13.3ms\n",
      "video 1/1 (frame 1316/3810) /home/hatsu/coding/CapProj/TestSeg_1/video_input/fight_5.mp4: 384x640 2 Fighters, 13.9ms\n",
      "video 1/1 (frame 1317/3810) /home/hatsu/coding/CapProj/TestSeg_1/video_input/fight_5.mp4: 384x640 2 Fighters, 17.9ms\n",
      "video 1/1 (frame 1318/3810) /home/hatsu/coding/CapProj/TestSeg_1/video_input/fight_5.mp4: 384x640 2 Fighters, 13.5ms\n",
      "video 1/1 (frame 1319/3810) /home/hatsu/coding/CapProj/TestSeg_1/video_input/fight_5.mp4: 384x640 2 Fighters, 16.0ms\n",
      "video 1/1 (frame 1320/3810) /home/hatsu/coding/CapProj/TestSeg_1/video_input/fight_5.mp4: 384x640 3 Fighters, 14.5ms\n",
      "video 1/1 (frame 1321/3810) /home/hatsu/coding/CapProj/TestSeg_1/video_input/fight_5.mp4: 384x640 2 Fighters, 34.4ms\n",
      "video 1/1 (frame 1322/3810) /home/hatsu/coding/CapProj/TestSeg_1/video_input/fight_5.mp4: 384x640 2 Fighters, 14.1ms\n",
      "video 1/1 (frame 1323/3810) /home/hatsu/coding/CapProj/TestSeg_1/video_input/fight_5.mp4: 384x640 2 Fighters, 13.9ms\n",
      "video 1/1 (frame 1324/3810) /home/hatsu/coding/CapProj/TestSeg_1/video_input/fight_5.mp4: 384x640 2 Fighters, 22.8ms\n",
      "video 1/1 (frame 1325/3810) /home/hatsu/coding/CapProj/TestSeg_1/video_input/fight_5.mp4: 384x640 2 Fighters, 15.1ms\n",
      "video 1/1 (frame 1326/3810) /home/hatsu/coding/CapProj/TestSeg_1/video_input/fight_5.mp4: 384x640 2 Fighters, 15.4ms\n",
      "video 1/1 (frame 1327/3810) /home/hatsu/coding/CapProj/TestSeg_1/video_input/fight_5.mp4: 384x640 2 Fighters, 32.7ms\n",
      "video 1/1 (frame 1328/3810) /home/hatsu/coding/CapProj/TestSeg_1/video_input/fight_5.mp4: 384x640 2 Fighters, 15.0ms\n",
      "video 1/1 (frame 1329/3810) /home/hatsu/coding/CapProj/TestSeg_1/video_input/fight_5.mp4: 384x640 2 Fighters, 14.8ms\n",
      "video 1/1 (frame 1330/3810) /home/hatsu/coding/CapProj/TestSeg_1/video_input/fight_5.mp4: 384x640 2 Fighters, 14.4ms\n",
      "video 1/1 (frame 1331/3810) /home/hatsu/coding/CapProj/TestSeg_1/video_input/fight_5.mp4: 384x640 2 Fighters, 16.2ms\n",
      "video 1/1 (frame 1332/3810) /home/hatsu/coding/CapProj/TestSeg_1/video_input/fight_5.mp4: 384x640 2 Fighters, 15.4ms\n",
      "video 1/1 (frame 1333/3810) /home/hatsu/coding/CapProj/TestSeg_1/video_input/fight_5.mp4: 384x640 2 Fighters, 14.9ms\n",
      "video 1/1 (frame 1334/3810) /home/hatsu/coding/CapProj/TestSeg_1/video_input/fight_5.mp4: 384x640 2 Fighters, 14.9ms\n",
      "video 1/1 (frame 1335/3810) /home/hatsu/coding/CapProj/TestSeg_1/video_input/fight_5.mp4: 384x640 2 Fighters, 20.0ms\n",
      "video 1/1 (frame 1336/3810) /home/hatsu/coding/CapProj/TestSeg_1/video_input/fight_5.mp4: 384x640 2 Fighters, 32.0ms\n",
      "video 1/1 (frame 1337/3810) /home/hatsu/coding/CapProj/TestSeg_1/video_input/fight_5.mp4: 384x640 2 Fighters, 15.5ms\n",
      "video 1/1 (frame 1338/3810) /home/hatsu/coding/CapProj/TestSeg_1/video_input/fight_5.mp4: 384x640 2 Fighters, 26.1ms\n",
      "video 1/1 (frame 1339/3810) /home/hatsu/coding/CapProj/TestSeg_1/video_input/fight_5.mp4: 384x640 2 Fighters, 28.4ms\n",
      "video 1/1 (frame 1340/3810) /home/hatsu/coding/CapProj/TestSeg_1/video_input/fight_5.mp4: 384x640 2 Fighters, 21.7ms\n",
      "video 1/1 (frame 1341/3810) /home/hatsu/coding/CapProj/TestSeg_1/video_input/fight_5.mp4: 384x640 2 Fighters, 22.4ms\n",
      "video 1/1 (frame 1342/3810) /home/hatsu/coding/CapProj/TestSeg_1/video_input/fight_5.mp4: 384x640 2 Fighters, 20.3ms\n",
      "video 1/1 (frame 1343/3810) /home/hatsu/coding/CapProj/TestSeg_1/video_input/fight_5.mp4: 384x640 2 Fighters, 18.4ms\n",
      "video 1/1 (frame 1344/3810) /home/hatsu/coding/CapProj/TestSeg_1/video_input/fight_5.mp4: 384x640 2 Fighters, 18.5ms\n",
      "video 1/1 (frame 1345/3810) /home/hatsu/coding/CapProj/TestSeg_1/video_input/fight_5.mp4: 384x640 2 Fighters, 19.0ms\n",
      "video 1/1 (frame 1346/3810) /home/hatsu/coding/CapProj/TestSeg_1/video_input/fight_5.mp4: 384x640 2 Fighters, 18.8ms\n",
      "video 1/1 (frame 1347/3810) /home/hatsu/coding/CapProj/TestSeg_1/video_input/fight_5.mp4: 384x640 3 Fighters, 15.2ms\n",
      "video 1/1 (frame 1348/3810) /home/hatsu/coding/CapProj/TestSeg_1/video_input/fight_5.mp4: 384x640 3 Fighters, 12.7ms\n",
      "video 1/1 (frame 1349/3810) /home/hatsu/coding/CapProj/TestSeg_1/video_input/fight_5.mp4: 384x640 2 Fighters, 30.4ms\n",
      "video 1/1 (frame 1350/3810) /home/hatsu/coding/CapProj/TestSeg_1/video_input/fight_5.mp4: 384x640 2 Fighters, 14.8ms\n",
      "video 1/1 (frame 1351/3810) /home/hatsu/coding/CapProj/TestSeg_1/video_input/fight_5.mp4: 384x640 2 Fighters, 14.5ms\n",
      "video 1/1 (frame 1352/3810) /home/hatsu/coding/CapProj/TestSeg_1/video_input/fight_5.mp4: 384x640 2 Fighters, 31.5ms\n",
      "video 1/1 (frame 1353/3810) /home/hatsu/coding/CapProj/TestSeg_1/video_input/fight_5.mp4: 384x640 2 Fighters, 14.0ms\n",
      "video 1/1 (frame 1354/3810) /home/hatsu/coding/CapProj/TestSeg_1/video_input/fight_5.mp4: 384x640 2 Fighters, 13.3ms\n",
      "video 1/1 (frame 1355/3810) /home/hatsu/coding/CapProj/TestSeg_1/video_input/fight_5.mp4: 384x640 2 Fighters, 14.8ms\n",
      "video 1/1 (frame 1356/3810) /home/hatsu/coding/CapProj/TestSeg_1/video_input/fight_5.mp4: 384x640 2 Fighters, 12.9ms\n",
      "video 1/1 (frame 1357/3810) /home/hatsu/coding/CapProj/TestSeg_1/video_input/fight_5.mp4: 384x640 2 Fighters, 32.9ms\n",
      "video 1/1 (frame 1358/3810) /home/hatsu/coding/CapProj/TestSeg_1/video_input/fight_5.mp4: 384x640 2 Fighters, 40.2ms\n",
      "video 1/1 (frame 1359/3810) /home/hatsu/coding/CapProj/TestSeg_1/video_input/fight_5.mp4: 384x640 2 Fighters, 14.9ms\n",
      "video 1/1 (frame 1360/3810) /home/hatsu/coding/CapProj/TestSeg_1/video_input/fight_5.mp4: 384x640 2 Fighters, 13.4ms\n",
      "video 1/1 (frame 1361/3810) /home/hatsu/coding/CapProj/TestSeg_1/video_input/fight_5.mp4: 384x640 2 Fighters, 13.2ms\n",
      "video 1/1 (frame 1362/3810) /home/hatsu/coding/CapProj/TestSeg_1/video_input/fight_5.mp4: 384x640 2 Fighters, 14.0ms\n",
      "video 1/1 (frame 1363/3810) /home/hatsu/coding/CapProj/TestSeg_1/video_input/fight_5.mp4: 384x640 3 Fighters, 13.6ms\n",
      "video 1/1 (frame 1364/3810) /home/hatsu/coding/CapProj/TestSeg_1/video_input/fight_5.mp4: 384x640 3 Fighters, 14.1ms\n",
      "video 1/1 (frame 1365/3810) /home/hatsu/coding/CapProj/TestSeg_1/video_input/fight_5.mp4: 384x640 2 Fighters, 16.8ms\n",
      "video 1/1 (frame 1366/3810) /home/hatsu/coding/CapProj/TestSeg_1/video_input/fight_5.mp4: 384x640 2 Fighters, 13.2ms\n",
      "video 1/1 (frame 1367/3810) /home/hatsu/coding/CapProj/TestSeg_1/video_input/fight_5.mp4: 384x640 2 Fighters, 16.7ms\n",
      "video 1/1 (frame 1368/3810) /home/hatsu/coding/CapProj/TestSeg_1/video_input/fight_5.mp4: 384x640 2 Fighters, 19.6ms\n",
      "video 1/1 (frame 1369/3810) /home/hatsu/coding/CapProj/TestSeg_1/video_input/fight_5.mp4: 384x640 2 Fighters, 17.6ms\n",
      "video 1/1 (frame 1370/3810) /home/hatsu/coding/CapProj/TestSeg_1/video_input/fight_5.mp4: 384x640 2 Fighters, 12.1ms\n",
      "video 1/1 (frame 1371/3810) /home/hatsu/coding/CapProj/TestSeg_1/video_input/fight_5.mp4: 384x640 2 Fighters, 14.6ms\n",
      "video 1/1 (frame 1372/3810) /home/hatsu/coding/CapProj/TestSeg_1/video_input/fight_5.mp4: 384x640 2 Fighters, 14.7ms\n",
      "video 1/1 (frame 1373/3810) /home/hatsu/coding/CapProj/TestSeg_1/video_input/fight_5.mp4: 384x640 2 Fighters, 14.4ms\n",
      "video 1/1 (frame 1374/3810) /home/hatsu/coding/CapProj/TestSeg_1/video_input/fight_5.mp4: 384x640 2 Fighters, 14.5ms\n",
      "video 1/1 (frame 1375/3810) /home/hatsu/coding/CapProj/TestSeg_1/video_input/fight_5.mp4: 384x640 2 Fighters, 15.5ms\n",
      "video 1/1 (frame 1376/3810) /home/hatsu/coding/CapProj/TestSeg_1/video_input/fight_5.mp4: 384x640 2 Fighters, 20.0ms\n",
      "video 1/1 (frame 1377/3810) /home/hatsu/coding/CapProj/TestSeg_1/video_input/fight_5.mp4: 384x640 2 Fighters, 18.0ms\n",
      "video 1/1 (frame 1378/3810) /home/hatsu/coding/CapProj/TestSeg_1/video_input/fight_5.mp4: 384x640 2 Fighters, 13.0ms\n",
      "video 1/1 (frame 1379/3810) /home/hatsu/coding/CapProj/TestSeg_1/video_input/fight_5.mp4: 384x640 1 Fighter, 22.3ms\n",
      "video 1/1 (frame 1380/3810) /home/hatsu/coding/CapProj/TestSeg_1/video_input/fight_5.mp4: 384x640 1 Fighter, 14.9ms\n",
      "video 1/1 (frame 1381/3810) /home/hatsu/coding/CapProj/TestSeg_1/video_input/fight_5.mp4: 384x640 1 Fighter, 18.8ms\n",
      "video 1/1 (frame 1382/3810) /home/hatsu/coding/CapProj/TestSeg_1/video_input/fight_5.mp4: 384x640 2 Fighters, 14.1ms\n",
      "video 1/1 (frame 1383/3810) /home/hatsu/coding/CapProj/TestSeg_1/video_input/fight_5.mp4: 384x640 2 Fighters, 14.6ms\n",
      "video 1/1 (frame 1384/3810) /home/hatsu/coding/CapProj/TestSeg_1/video_input/fight_5.mp4: 384x640 3 Fighters, 16.8ms\n",
      "video 1/1 (frame 1385/3810) /home/hatsu/coding/CapProj/TestSeg_1/video_input/fight_5.mp4: 384x640 2 Fighters, 13.6ms\n",
      "video 1/1 (frame 1386/3810) /home/hatsu/coding/CapProj/TestSeg_1/video_input/fight_5.mp4: 384x640 2 Fighters, 15.4ms\n",
      "video 1/1 (frame 1387/3810) /home/hatsu/coding/CapProj/TestSeg_1/video_input/fight_5.mp4: 384x640 2 Fighters, 14.4ms\n",
      "video 1/1 (frame 1388/3810) /home/hatsu/coding/CapProj/TestSeg_1/video_input/fight_5.mp4: 384x640 2 Fighters, 14.3ms\n",
      "video 1/1 (frame 1389/3810) /home/hatsu/coding/CapProj/TestSeg_1/video_input/fight_5.mp4: 384x640 2 Fighters, 13.8ms\n",
      "video 1/1 (frame 1390/3810) /home/hatsu/coding/CapProj/TestSeg_1/video_input/fight_5.mp4: 384x640 2 Fighters, 20.0ms\n",
      "video 1/1 (frame 1391/3810) /home/hatsu/coding/CapProj/TestSeg_1/video_input/fight_5.mp4: 384x640 2 Fighters, 18.8ms\n",
      "video 1/1 (frame 1392/3810) /home/hatsu/coding/CapProj/TestSeg_1/video_input/fight_5.mp4: 384x640 2 Fighters, 14.7ms\n",
      "video 1/1 (frame 1393/3810) /home/hatsu/coding/CapProj/TestSeg_1/video_input/fight_5.mp4: 384x640 2 Fighters, 14.3ms\n",
      "video 1/1 (frame 1394/3810) /home/hatsu/coding/CapProj/TestSeg_1/video_input/fight_5.mp4: 384x640 2 Fighters, 15.5ms\n",
      "video 1/1 (frame 1395/3810) /home/hatsu/coding/CapProj/TestSeg_1/video_input/fight_5.mp4: 384x640 3 Fighters, 22.4ms\n",
      "video 1/1 (frame 1396/3810) /home/hatsu/coding/CapProj/TestSeg_1/video_input/fight_5.mp4: 384x640 2 Fighters, 18.5ms\n",
      "video 1/1 (frame 1397/3810) /home/hatsu/coding/CapProj/TestSeg_1/video_input/fight_5.mp4: 384x640 3 Fighters, 14.0ms\n",
      "video 1/1 (frame 1398/3810) /home/hatsu/coding/CapProj/TestSeg_1/video_input/fight_5.mp4: 384x640 3 Fighters, 14.9ms\n",
      "video 1/1 (frame 1399/3810) /home/hatsu/coding/CapProj/TestSeg_1/video_input/fight_5.mp4: 384x640 3 Fighters, 13.0ms\n",
      "video 1/1 (frame 1400/3810) /home/hatsu/coding/CapProj/TestSeg_1/video_input/fight_5.mp4: 384x640 3 Fighters, 14.3ms\n",
      "video 1/1 (frame 1401/3810) /home/hatsu/coding/CapProj/TestSeg_1/video_input/fight_5.mp4: 384x640 3 Fighters, 19.1ms\n",
      "video 1/1 (frame 1402/3810) /home/hatsu/coding/CapProj/TestSeg_1/video_input/fight_5.mp4: 384x640 3 Fighters, 13.0ms\n",
      "video 1/1 (frame 1403/3810) /home/hatsu/coding/CapProj/TestSeg_1/video_input/fight_5.mp4: 384x640 3 Fighters, 14.3ms\n",
      "video 1/1 (frame 1404/3810) /home/hatsu/coding/CapProj/TestSeg_1/video_input/fight_5.mp4: 384x640 2 Fighters, 13.1ms\n",
      "video 1/1 (frame 1405/3810) /home/hatsu/coding/CapProj/TestSeg_1/video_input/fight_5.mp4: 384x640 2 Fighters, 18.1ms\n",
      "video 1/1 (frame 1406/3810) /home/hatsu/coding/CapProj/TestSeg_1/video_input/fight_5.mp4: 384x640 2 Fighters, 12.9ms\n",
      "video 1/1 (frame 1407/3810) /home/hatsu/coding/CapProj/TestSeg_1/video_input/fight_5.mp4: 384x640 2 Fighters, 12.6ms\n",
      "video 1/1 (frame 1408/3810) /home/hatsu/coding/CapProj/TestSeg_1/video_input/fight_5.mp4: 384x640 2 Fighters, 13.2ms\n",
      "video 1/1 (frame 1409/3810) /home/hatsu/coding/CapProj/TestSeg_1/video_input/fight_5.mp4: 384x640 2 Fighters, 13.0ms\n",
      "video 1/1 (frame 1410/3810) /home/hatsu/coding/CapProj/TestSeg_1/video_input/fight_5.mp4: 384x640 2 Fighters, 27.5ms\n",
      "video 1/1 (frame 1411/3810) /home/hatsu/coding/CapProj/TestSeg_1/video_input/fight_5.mp4: 384x640 2 Fighters, 14.3ms\n",
      "video 1/1 (frame 1412/3810) /home/hatsu/coding/CapProj/TestSeg_1/video_input/fight_5.mp4: 384x640 3 Fighters, 37.6ms\n",
      "video 1/1 (frame 1413/3810) /home/hatsu/coding/CapProj/TestSeg_1/video_input/fight_5.mp4: 384x640 3 Fighters, 13.5ms\n",
      "video 1/1 (frame 1414/3810) /home/hatsu/coding/CapProj/TestSeg_1/video_input/fight_5.mp4: 384x640 3 Fighters, 13.1ms\n",
      "video 1/1 (frame 1415/3810) /home/hatsu/coding/CapProj/TestSeg_1/video_input/fight_5.mp4: 384x640 3 Fighters, 14.3ms\n",
      "video 1/1 (frame 1416/3810) /home/hatsu/coding/CapProj/TestSeg_1/video_input/fight_5.mp4: 384x640 2 Fighters, 25.1ms\n",
      "video 1/1 (frame 1417/3810) /home/hatsu/coding/CapProj/TestSeg_1/video_input/fight_5.mp4: 384x640 3 Fighters, 13.5ms\n",
      "video 1/1 (frame 1418/3810) /home/hatsu/coding/CapProj/TestSeg_1/video_input/fight_5.mp4: 384x640 3 Fighters, 13.8ms\n",
      "video 1/1 (frame 1419/3810) /home/hatsu/coding/CapProj/TestSeg_1/video_input/fight_5.mp4: 384x640 3 Fighters, 14.5ms\n",
      "video 1/1 (frame 1420/3810) /home/hatsu/coding/CapProj/TestSeg_1/video_input/fight_5.mp4: 384x640 3 Fighters, 43.3ms\n",
      "video 1/1 (frame 1421/3810) /home/hatsu/coding/CapProj/TestSeg_1/video_input/fight_5.mp4: 384x640 2 Fighters, 13.8ms\n",
      "video 1/1 (frame 1422/3810) /home/hatsu/coding/CapProj/TestSeg_1/video_input/fight_5.mp4: 384x640 2 Fighters, 14.1ms\n",
      "video 1/1 (frame 1423/3810) /home/hatsu/coding/CapProj/TestSeg_1/video_input/fight_5.mp4: 384x640 3 Fighters, 20.0ms\n",
      "video 1/1 (frame 1424/3810) /home/hatsu/coding/CapProj/TestSeg_1/video_input/fight_5.mp4: 384x640 2 Fighters, 13.2ms\n",
      "video 1/1 (frame 1425/3810) /home/hatsu/coding/CapProj/TestSeg_1/video_input/fight_5.mp4: 384x640 3 Fighters, 16.0ms\n",
      "video 1/1 (frame 1426/3810) /home/hatsu/coding/CapProj/TestSeg_1/video_input/fight_5.mp4: 384x640 3 Fighters, 13.6ms\n",
      "video 1/1 (frame 1427/3810) /home/hatsu/coding/CapProj/TestSeg_1/video_input/fight_5.mp4: 384x640 2 Fighters, 15.6ms\n",
      "video 1/1 (frame 1428/3810) /home/hatsu/coding/CapProj/TestSeg_1/video_input/fight_5.mp4: 384x640 3 Fighters, 14.1ms\n",
      "video 1/1 (frame 1429/3810) /home/hatsu/coding/CapProj/TestSeg_1/video_input/fight_5.mp4: 384x640 2 Fighters, 13.6ms\n",
      "video 1/1 (frame 1430/3810) /home/hatsu/coding/CapProj/TestSeg_1/video_input/fight_5.mp4: 384x640 2 Fighters, 14.2ms\n",
      "video 1/1 (frame 1431/3810) /home/hatsu/coding/CapProj/TestSeg_1/video_input/fight_5.mp4: 384x640 2 Fighters, 18.7ms\n",
      "video 1/1 (frame 1432/3810) /home/hatsu/coding/CapProj/TestSeg_1/video_input/fight_5.mp4: 384x640 2 Fighters, 13.8ms\n",
      "video 1/1 (frame 1433/3810) /home/hatsu/coding/CapProj/TestSeg_1/video_input/fight_5.mp4: 384x640 2 Fighters, 14.8ms\n",
      "video 1/1 (frame 1434/3810) /home/hatsu/coding/CapProj/TestSeg_1/video_input/fight_5.mp4: 384x640 3 Fighters, 17.2ms\n",
      "video 1/1 (frame 1435/3810) /home/hatsu/coding/CapProj/TestSeg_1/video_input/fight_5.mp4: 384x640 3 Fighters, 22.7ms\n",
      "video 1/1 (frame 1436/3810) /home/hatsu/coding/CapProj/TestSeg_1/video_input/fight_5.mp4: 384x640 2 Fighters, 31.2ms\n",
      "video 1/1 (frame 1437/3810) /home/hatsu/coding/CapProj/TestSeg_1/video_input/fight_5.mp4: 384x640 2 Fighters, 15.3ms\n",
      "video 1/1 (frame 1438/3810) /home/hatsu/coding/CapProj/TestSeg_1/video_input/fight_5.mp4: 384x640 2 Fighters, 35.2ms\n",
      "video 1/1 (frame 1439/3810) /home/hatsu/coding/CapProj/TestSeg_1/video_input/fight_5.mp4: 384x640 2 Fighters, 15.3ms\n",
      "video 1/1 (frame 1440/3810) /home/hatsu/coding/CapProj/TestSeg_1/video_input/fight_5.mp4: 384x640 2 Fighters, 14.5ms\n",
      "video 1/1 (frame 1441/3810) /home/hatsu/coding/CapProj/TestSeg_1/video_input/fight_5.mp4: 384x640 2 Fighters, 13.2ms\n",
      "video 1/1 (frame 1442/3810) /home/hatsu/coding/CapProj/TestSeg_1/video_input/fight_5.mp4: 384x640 2 Fighters, 22.0ms\n",
      "video 1/1 (frame 1443/3810) /home/hatsu/coding/CapProj/TestSeg_1/video_input/fight_5.mp4: 384x640 2 Fighters, 13.9ms\n",
      "video 1/1 (frame 1444/3810) /home/hatsu/coding/CapProj/TestSeg_1/video_input/fight_5.mp4: 384x640 2 Fighters, 13.8ms\n",
      "video 1/1 (frame 1445/3810) /home/hatsu/coding/CapProj/TestSeg_1/video_input/fight_5.mp4: 384x640 2 Fighters, 19.5ms\n",
      "video 1/1 (frame 1446/3810) /home/hatsu/coding/CapProj/TestSeg_1/video_input/fight_5.mp4: 384x640 2 Fighters, 14.2ms\n",
      "video 1/1 (frame 1447/3810) /home/hatsu/coding/CapProj/TestSeg_1/video_input/fight_5.mp4: 384x640 2 Fighters, 16.2ms\n",
      "video 1/1 (frame 1448/3810) /home/hatsu/coding/CapProj/TestSeg_1/video_input/fight_5.mp4: 384x640 2 Fighters, 14.8ms\n",
      "video 1/1 (frame 1449/3810) /home/hatsu/coding/CapProj/TestSeg_1/video_input/fight_5.mp4: 384x640 2 Fighters, 27.6ms\n",
      "video 1/1 (frame 1450/3810) /home/hatsu/coding/CapProj/TestSeg_1/video_input/fight_5.mp4: 384x640 2 Fighters, 13.7ms\n",
      "video 1/1 (frame 1451/3810) /home/hatsu/coding/CapProj/TestSeg_1/video_input/fight_5.mp4: 384x640 2 Fighters, 14.2ms\n",
      "video 1/1 (frame 1452/3810) /home/hatsu/coding/CapProj/TestSeg_1/video_input/fight_5.mp4: 384x640 2 Fighters, 14.5ms\n",
      "video 1/1 (frame 1453/3810) /home/hatsu/coding/CapProj/TestSeg_1/video_input/fight_5.mp4: 384x640 2 Fighters, 13.6ms\n",
      "video 1/1 (frame 1454/3810) /home/hatsu/coding/CapProj/TestSeg_1/video_input/fight_5.mp4: 384x640 2 Fighters, 24.1ms\n",
      "video 1/1 (frame 1455/3810) /home/hatsu/coding/CapProj/TestSeg_1/video_input/fight_5.mp4: 384x640 1 Fighter, 24.8ms\n",
      "video 1/1 (frame 1456/3810) /home/hatsu/coding/CapProj/TestSeg_1/video_input/fight_5.mp4: 384x640 1 Fighter, 20.8ms\n",
      "video 1/1 (frame 1457/3810) /home/hatsu/coding/CapProj/TestSeg_1/video_input/fight_5.mp4: 384x640 1 Fighter, 18.5ms\n",
      "video 1/1 (frame 1458/3810) /home/hatsu/coding/CapProj/TestSeg_1/video_input/fight_5.mp4: 384x640 1 Fighter, 20.7ms\n",
      "video 1/1 (frame 1459/3810) /home/hatsu/coding/CapProj/TestSeg_1/video_input/fight_5.mp4: 384x640 1 Fighter, 18.3ms\n",
      "video 1/1 (frame 1460/3810) /home/hatsu/coding/CapProj/TestSeg_1/video_input/fight_5.mp4: 384x640 1 Fighter, 21.7ms\n",
      "video 1/1 (frame 1461/3810) /home/hatsu/coding/CapProj/TestSeg_1/video_input/fight_5.mp4: 384x640 1 Fighter, 21.2ms\n",
      "video 1/1 (frame 1462/3810) /home/hatsu/coding/CapProj/TestSeg_1/video_input/fight_5.mp4: 384x640 1 Fighter, 19.0ms\n",
      "video 1/1 (frame 1463/3810) /home/hatsu/coding/CapProj/TestSeg_1/video_input/fight_5.mp4: 384x640 1 Fighter, 21.2ms\n",
      "video 1/1 (frame 1464/3810) /home/hatsu/coding/CapProj/TestSeg_1/video_input/fight_5.mp4: 384x640 1 Fighter, 16.3ms\n",
      "video 1/1 (frame 1465/3810) /home/hatsu/coding/CapProj/TestSeg_1/video_input/fight_5.mp4: 384x640 1 Fighter, 16.5ms\n",
      "video 1/1 (frame 1466/3810) /home/hatsu/coding/CapProj/TestSeg_1/video_input/fight_5.mp4: 384x640 1 Fighter, 13.3ms\n",
      "video 1/1 (frame 1467/3810) /home/hatsu/coding/CapProj/TestSeg_1/video_input/fight_5.mp4: 384x640 1 Fighter, 25.2ms\n",
      "video 1/1 (frame 1468/3810) /home/hatsu/coding/CapProj/TestSeg_1/video_input/fight_5.mp4: 384x640 1 Fighter, 13.1ms\n",
      "video 1/1 (frame 1469/3810) /home/hatsu/coding/CapProj/TestSeg_1/video_input/fight_5.mp4: 384x640 1 Fighter, 14.5ms\n",
      "video 1/1 (frame 1470/3810) /home/hatsu/coding/CapProj/TestSeg_1/video_input/fight_5.mp4: 384x640 1 Fighter, 13.8ms\n",
      "video 1/1 (frame 1471/3810) /home/hatsu/coding/CapProj/TestSeg_1/video_input/fight_5.mp4: 384x640 1 Fighter, 13.3ms\n",
      "video 1/1 (frame 1472/3810) /home/hatsu/coding/CapProj/TestSeg_1/video_input/fight_5.mp4: 384x640 1 Fighter, 13.5ms\n",
      "video 1/1 (frame 1473/3810) /home/hatsu/coding/CapProj/TestSeg_1/video_input/fight_5.mp4: 384x640 1 Fighter, 16.8ms\n",
      "video 1/1 (frame 1474/3810) /home/hatsu/coding/CapProj/TestSeg_1/video_input/fight_5.mp4: 384x640 1 Fighter, 14.9ms\n",
      "video 1/1 (frame 1475/3810) /home/hatsu/coding/CapProj/TestSeg_1/video_input/fight_5.mp4: 384x640 1 Fighter, 15.2ms\n",
      "video 1/1 (frame 1476/3810) /home/hatsu/coding/CapProj/TestSeg_1/video_input/fight_5.mp4: 384x640 1 Fighter, 15.8ms\n",
      "video 1/1 (frame 1477/3810) /home/hatsu/coding/CapProj/TestSeg_1/video_input/fight_5.mp4: 384x640 1 Fighter, 14.4ms\n",
      "video 1/1 (frame 1478/3810) /home/hatsu/coding/CapProj/TestSeg_1/video_input/fight_5.mp4: 384x640 1 Fighter, 19.9ms\n",
      "video 1/1 (frame 1479/3810) /home/hatsu/coding/CapProj/TestSeg_1/video_input/fight_5.mp4: 384x640 1 Fighter, 31.6ms\n",
      "video 1/1 (frame 1480/3810) /home/hatsu/coding/CapProj/TestSeg_1/video_input/fight_5.mp4: 384x640 1 Fighter, 12.8ms\n",
      "video 1/1 (frame 1481/3810) /home/hatsu/coding/CapProj/TestSeg_1/video_input/fight_5.mp4: 384x640 1 Fighter, 15.1ms\n",
      "video 1/1 (frame 1482/3810) /home/hatsu/coding/CapProj/TestSeg_1/video_input/fight_5.mp4: 384x640 1 Fighter, 13.0ms\n",
      "video 1/1 (frame 1483/3810) /home/hatsu/coding/CapProj/TestSeg_1/video_input/fight_5.mp4: 384x640 1 Fighter, 12.7ms\n",
      "video 1/1 (frame 1484/3810) /home/hatsu/coding/CapProj/TestSeg_1/video_input/fight_5.mp4: 384x640 1 Fighter, 13.1ms\n",
      "video 1/1 (frame 1485/3810) /home/hatsu/coding/CapProj/TestSeg_1/video_input/fight_5.mp4: 384x640 1 Fighter, 15.3ms\n",
      "video 1/1 (frame 1486/3810) /home/hatsu/coding/CapProj/TestSeg_1/video_input/fight_5.mp4: 384x640 1 Fighter, 32.0ms\n",
      "video 1/1 (frame 1487/3810) /home/hatsu/coding/CapProj/TestSeg_1/video_input/fight_5.mp4: 384x640 1 Fighter, 14.8ms\n",
      "video 1/1 (frame 1488/3810) /home/hatsu/coding/CapProj/TestSeg_1/video_input/fight_5.mp4: 384x640 1 Fighter, 14.4ms\n",
      "video 1/1 (frame 1489/3810) /home/hatsu/coding/CapProj/TestSeg_1/video_input/fight_5.mp4: 384x640 2 Fighters, 30.8ms\n",
      "video 1/1 (frame 1490/3810) /home/hatsu/coding/CapProj/TestSeg_1/video_input/fight_5.mp4: 384x640 2 Fighters, 21.4ms\n",
      "video 1/1 (frame 1491/3810) /home/hatsu/coding/CapProj/TestSeg_1/video_input/fight_5.mp4: 384x640 2 Fighters, 43.7ms\n",
      "video 1/1 (frame 1492/3810) /home/hatsu/coding/CapProj/TestSeg_1/video_input/fight_5.mp4: 384x640 2 Fighters, 15.2ms\n",
      "video 1/1 (frame 1493/3810) /home/hatsu/coding/CapProj/TestSeg_1/video_input/fight_5.mp4: 384x640 2 Fighters, 14.0ms\n",
      "video 1/1 (frame 1494/3810) /home/hatsu/coding/CapProj/TestSeg_1/video_input/fight_5.mp4: 384x640 2 Fighters, 14.3ms\n",
      "video 1/1 (frame 1495/3810) /home/hatsu/coding/CapProj/TestSeg_1/video_input/fight_5.mp4: 384x640 2 Fighters, 13.5ms\n",
      "video 1/1 (frame 1496/3810) /home/hatsu/coding/CapProj/TestSeg_1/video_input/fight_5.mp4: 384x640 2 Fighters, 14.8ms\n",
      "video 1/1 (frame 1497/3810) /home/hatsu/coding/CapProj/TestSeg_1/video_input/fight_5.mp4: 384x640 2 Fighters, 35.2ms\n",
      "video 1/1 (frame 1498/3810) /home/hatsu/coding/CapProj/TestSeg_1/video_input/fight_5.mp4: 384x640 2 Fighters, 13.5ms\n",
      "video 1/1 (frame 1499/3810) /home/hatsu/coding/CapProj/TestSeg_1/video_input/fight_5.mp4: 384x640 2 Fighters, 20.8ms\n",
      "video 1/1 (frame 1500/3810) /home/hatsu/coding/CapProj/TestSeg_1/video_input/fight_5.mp4: 384x640 2 Fighters, 15.1ms\n",
      "video 1/1 (frame 1501/3810) /home/hatsu/coding/CapProj/TestSeg_1/video_input/fight_5.mp4: 384x640 2 Fighters, 14.2ms\n",
      "video 1/1 (frame 1502/3810) /home/hatsu/coding/CapProj/TestSeg_1/video_input/fight_5.mp4: 384x640 2 Fighters, 14.8ms\n",
      "video 1/1 (frame 1503/3810) /home/hatsu/coding/CapProj/TestSeg_1/video_input/fight_5.mp4: 384x640 2 Fighters, 13.9ms\n",
      "video 1/1 (frame 1504/3810) /home/hatsu/coding/CapProj/TestSeg_1/video_input/fight_5.mp4: 384x640 2 Fighters, 14.4ms\n",
      "video 1/1 (frame 1505/3810) /home/hatsu/coding/CapProj/TestSeg_1/video_input/fight_5.mp4: 384x640 2 Fighters, 14.6ms\n",
      "video 1/1 (frame 1506/3810) /home/hatsu/coding/CapProj/TestSeg_1/video_input/fight_5.mp4: 384x640 2 Fighters, 13.2ms\n",
      "video 1/1 (frame 1507/3810) /home/hatsu/coding/CapProj/TestSeg_1/video_input/fight_5.mp4: 384x640 2 Fighters, 13.7ms\n",
      "video 1/1 (frame 1508/3810) /home/hatsu/coding/CapProj/TestSeg_1/video_input/fight_5.mp4: 384x640 2 Fighters, 13.2ms\n",
      "video 1/1 (frame 1509/3810) /home/hatsu/coding/CapProj/TestSeg_1/video_input/fight_5.mp4: 384x640 2 Fighters, 36.5ms\n",
      "video 1/1 (frame 1510/3810) /home/hatsu/coding/CapProj/TestSeg_1/video_input/fight_5.mp4: 384x640 3 Fighters, 14.4ms\n",
      "video 1/1 (frame 1511/3810) /home/hatsu/coding/CapProj/TestSeg_1/video_input/fight_5.mp4: 384x640 3 Fighters, 13.3ms\n",
      "video 1/1 (frame 1512/3810) /home/hatsu/coding/CapProj/TestSeg_1/video_input/fight_5.mp4: 384x640 3 Fighters, 15.3ms\n",
      "video 1/1 (frame 1513/3810) /home/hatsu/coding/CapProj/TestSeg_1/video_input/fight_5.mp4: 384x640 3 Fighters, 12.7ms\n",
      "video 1/1 (frame 1514/3810) /home/hatsu/coding/CapProj/TestSeg_1/video_input/fight_5.mp4: 384x640 3 Fighters, 13.6ms\n",
      "video 1/1 (frame 1515/3810) /home/hatsu/coding/CapProj/TestSeg_1/video_input/fight_5.mp4: 384x640 3 Fighters, 32.2ms\n",
      "video 1/1 (frame 1516/3810) /home/hatsu/coding/CapProj/TestSeg_1/video_input/fight_5.mp4: 384x640 3 Fighters, 16.5ms\n",
      "video 1/1 (frame 1517/3810) /home/hatsu/coding/CapProj/TestSeg_1/video_input/fight_5.mp4: 384x640 3 Fighters, 13.9ms\n",
      "video 1/1 (frame 1518/3810) /home/hatsu/coding/CapProj/TestSeg_1/video_input/fight_5.mp4: 384x640 3 Fighters, 13.7ms\n",
      "video 1/1 (frame 1519/3810) /home/hatsu/coding/CapProj/TestSeg_1/video_input/fight_5.mp4: 384x640 3 Fighters, 14.3ms\n",
      "video 1/1 (frame 1520/3810) /home/hatsu/coding/CapProj/TestSeg_1/video_input/fight_5.mp4: 384x640 3 Fighters, 19.3ms\n",
      "video 1/1 (frame 1521/3810) /home/hatsu/coding/CapProj/TestSeg_1/video_input/fight_5.mp4: 384x640 2 Fighters, 14.8ms\n",
      "video 1/1 (frame 1522/3810) /home/hatsu/coding/CapProj/TestSeg_1/video_input/fight_5.mp4: 384x640 2 Fighters, 13.6ms\n",
      "video 1/1 (frame 1523/3810) /home/hatsu/coding/CapProj/TestSeg_1/video_input/fight_5.mp4: 384x640 2 Fighters, 16.8ms\n",
      "video 1/1 (frame 1524/3810) /home/hatsu/coding/CapProj/TestSeg_1/video_input/fight_5.mp4: 384x640 2 Fighters, 16.7ms\n",
      "video 1/1 (frame 1525/3810) /home/hatsu/coding/CapProj/TestSeg_1/video_input/fight_5.mp4: 384x640 3 Fighters, 25.6ms\n",
      "video 1/1 (frame 1526/3810) /home/hatsu/coding/CapProj/TestSeg_1/video_input/fight_5.mp4: 384x640 2 Fighters, 34.3ms\n",
      "video 1/1 (frame 1527/3810) /home/hatsu/coding/CapProj/TestSeg_1/video_input/fight_5.mp4: 384x640 2 Fighters, 18.6ms\n",
      "video 1/1 (frame 1528/3810) /home/hatsu/coding/CapProj/TestSeg_1/video_input/fight_5.mp4: 384x640 2 Fighters, 16.5ms\n",
      "video 1/1 (frame 1529/3810) /home/hatsu/coding/CapProj/TestSeg_1/video_input/fight_5.mp4: 384x640 2 Fighters, 14.4ms\n",
      "video 1/1 (frame 1530/3810) /home/hatsu/coding/CapProj/TestSeg_1/video_input/fight_5.mp4: 384x640 2 Fighters, 18.2ms\n",
      "video 1/1 (frame 1531/3810) /home/hatsu/coding/CapProj/TestSeg_1/video_input/fight_5.mp4: 384x640 2 Fighters, 17.4ms\n",
      "video 1/1 (frame 1532/3810) /home/hatsu/coding/CapProj/TestSeg_1/video_input/fight_5.mp4: 384x640 2 Fighters, 17.9ms\n",
      "video 1/1 (frame 1533/3810) /home/hatsu/coding/CapProj/TestSeg_1/video_input/fight_5.mp4: 384x640 2 Fighters, 14.7ms\n",
      "video 1/1 (frame 1534/3810) /home/hatsu/coding/CapProj/TestSeg_1/video_input/fight_5.mp4: 384x640 2 Fighters, 16.2ms\n",
      "video 1/1 (frame 1535/3810) /home/hatsu/coding/CapProj/TestSeg_1/video_input/fight_5.mp4: 384x640 2 Fighters, 17.3ms\n",
      "video 1/1 (frame 1536/3810) /home/hatsu/coding/CapProj/TestSeg_1/video_input/fight_5.mp4: 384x640 2 Fighters, 16.9ms\n",
      "video 1/1 (frame 1537/3810) /home/hatsu/coding/CapProj/TestSeg_1/video_input/fight_5.mp4: 384x640 2 Fighters, 21.0ms\n",
      "video 1/1 (frame 1538/3810) /home/hatsu/coding/CapProj/TestSeg_1/video_input/fight_5.mp4: 384x640 2 Fighters, 40.6ms\n",
      "video 1/1 (frame 1539/3810) /home/hatsu/coding/CapProj/TestSeg_1/video_input/fight_5.mp4: 384x640 2 Fighters, 21.0ms\n",
      "video 1/1 (frame 1540/3810) /home/hatsu/coding/CapProj/TestSeg_1/video_input/fight_5.mp4: 384x640 2 Fighters, 24.5ms\n",
      "video 1/1 (frame 1541/3810) /home/hatsu/coding/CapProj/TestSeg_1/video_input/fight_5.mp4: 384x640 2 Fighters, 24.2ms\n",
      "video 1/1 (frame 1542/3810) /home/hatsu/coding/CapProj/TestSeg_1/video_input/fight_5.mp4: 384x640 2 Fighters, 20.0ms\n",
      "video 1/1 (frame 1543/3810) /home/hatsu/coding/CapProj/TestSeg_1/video_input/fight_5.mp4: 384x640 2 Fighters, 34.9ms\n",
      "video 1/1 (frame 1544/3810) /home/hatsu/coding/CapProj/TestSeg_1/video_input/fight_5.mp4: 384x640 2 Fighters, 19.5ms\n",
      "video 1/1 (frame 1545/3810) /home/hatsu/coding/CapProj/TestSeg_1/video_input/fight_5.mp4: 384x640 2 Fighters, 18.9ms\n",
      "video 1/1 (frame 1546/3810) /home/hatsu/coding/CapProj/TestSeg_1/video_input/fight_5.mp4: 384x640 2 Fighters, 22.3ms\n",
      "video 1/1 (frame 1547/3810) /home/hatsu/coding/CapProj/TestSeg_1/video_input/fight_5.mp4: 384x640 2 Fighters, 13.3ms\n",
      "video 1/1 (frame 1548/3810) /home/hatsu/coding/CapProj/TestSeg_1/video_input/fight_5.mp4: 384x640 2 Fighters, 13.8ms\n",
      "video 1/1 (frame 1549/3810) /home/hatsu/coding/CapProj/TestSeg_1/video_input/fight_5.mp4: 384x640 2 Fighters, 13.8ms\n",
      "video 1/1 (frame 1550/3810) /home/hatsu/coding/CapProj/TestSeg_1/video_input/fight_5.mp4: 384x640 2 Fighters, 16.9ms\n",
      "video 1/1 (frame 1551/3810) /home/hatsu/coding/CapProj/TestSeg_1/video_input/fight_5.mp4: 384x640 2 Fighters, 17.2ms\n",
      "video 1/1 (frame 1552/3810) /home/hatsu/coding/CapProj/TestSeg_1/video_input/fight_5.mp4: 384x640 2 Fighters, 13.3ms\n",
      "video 1/1 (frame 1553/3810) /home/hatsu/coding/CapProj/TestSeg_1/video_input/fight_5.mp4: 384x640 2 Fighters, 15.5ms\n",
      "video 1/1 (frame 1554/3810) /home/hatsu/coding/CapProj/TestSeg_1/video_input/fight_5.mp4: 384x640 2 Fighters, 14.0ms\n",
      "video 1/1 (frame 1555/3810) /home/hatsu/coding/CapProj/TestSeg_1/video_input/fight_5.mp4: 384x640 2 Fighters, 20.9ms\n",
      "video 1/1 (frame 1556/3810) /home/hatsu/coding/CapProj/TestSeg_1/video_input/fight_5.mp4: 384x640 2 Fighters, 17.3ms\n",
      "video 1/1 (frame 1557/3810) /home/hatsu/coding/CapProj/TestSeg_1/video_input/fight_5.mp4: 384x640 2 Fighters, 13.7ms\n",
      "video 1/1 (frame 1558/3810) /home/hatsu/coding/CapProj/TestSeg_1/video_input/fight_5.mp4: 384x640 2 Fighters, 14.3ms\n",
      "video 1/1 (frame 1559/3810) /home/hatsu/coding/CapProj/TestSeg_1/video_input/fight_5.mp4: 384x640 2 Fighters, 14.5ms\n",
      "video 1/1 (frame 1560/3810) /home/hatsu/coding/CapProj/TestSeg_1/video_input/fight_5.mp4: 384x640 2 Fighters, 13.4ms\n",
      "video 1/1 (frame 1561/3810) /home/hatsu/coding/CapProj/TestSeg_1/video_input/fight_5.mp4: 384x640 2 Fighters, 16.8ms\n",
      "video 1/1 (frame 1562/3810) /home/hatsu/coding/CapProj/TestSeg_1/video_input/fight_5.mp4: 384x640 2 Fighters, 15.7ms\n",
      "video 1/1 (frame 1563/3810) /home/hatsu/coding/CapProj/TestSeg_1/video_input/fight_5.mp4: 384x640 2 Fighters, 15.9ms\n",
      "video 1/1 (frame 1564/3810) /home/hatsu/coding/CapProj/TestSeg_1/video_input/fight_5.mp4: 384x640 2 Fighters, 14.3ms\n",
      "video 1/1 (frame 1565/3810) /home/hatsu/coding/CapProj/TestSeg_1/video_input/fight_5.mp4: 384x640 2 Fighters, 14.0ms\n",
      "video 1/1 (frame 1566/3810) /home/hatsu/coding/CapProj/TestSeg_1/video_input/fight_5.mp4: 384x640 1 Fighter, 16.4ms\n",
      "video 1/1 (frame 1567/3810) /home/hatsu/coding/CapProj/TestSeg_1/video_input/fight_5.mp4: 384x640 1 Fighter, 15.2ms\n",
      "video 1/1 (frame 1568/3810) /home/hatsu/coding/CapProj/TestSeg_1/video_input/fight_5.mp4: 384x640 1 Fighter, 16.0ms\n",
      "video 1/1 (frame 1569/3810) /home/hatsu/coding/CapProj/TestSeg_1/video_input/fight_5.mp4: 384x640 1 Fighter, 14.9ms\n",
      "video 1/1 (frame 1570/3810) /home/hatsu/coding/CapProj/TestSeg_1/video_input/fight_5.mp4: 384x640 1 Fighter, 14.6ms\n",
      "video 1/1 (frame 1571/3810) /home/hatsu/coding/CapProj/TestSeg_1/video_input/fight_5.mp4: 384x640 1 Fighter, 21.3ms\n",
      "video 1/1 (frame 1572/3810) /home/hatsu/coding/CapProj/TestSeg_1/video_input/fight_5.mp4: 384x640 1 Fighter, 15.7ms\n",
      "video 1/1 (frame 1573/3810) /home/hatsu/coding/CapProj/TestSeg_1/video_input/fight_5.mp4: 384x640 2 Fighters, 14.4ms\n",
      "video 1/1 (frame 1574/3810) /home/hatsu/coding/CapProj/TestSeg_1/video_input/fight_5.mp4: 384x640 2 Fighters, 14.0ms\n",
      "video 1/1 (frame 1575/3810) /home/hatsu/coding/CapProj/TestSeg_1/video_input/fight_5.mp4: 384x640 2 Fighters, 13.9ms\n",
      "video 1/1 (frame 1576/3810) /home/hatsu/coding/CapProj/TestSeg_1/video_input/fight_5.mp4: 384x640 2 Fighters, 12.6ms\n",
      "video 1/1 (frame 1577/3810) /home/hatsu/coding/CapProj/TestSeg_1/video_input/fight_5.mp4: 384x640 2 Fighters, 14.6ms\n",
      "video 1/1 (frame 1578/3810) /home/hatsu/coding/CapProj/TestSeg_1/video_input/fight_5.mp4: 384x640 2 Fighters, 15.1ms\n",
      "video 1/1 (frame 1579/3810) /home/hatsu/coding/CapProj/TestSeg_1/video_input/fight_5.mp4: 384x640 2 Fighters, 13.8ms\n",
      "video 1/1 (frame 1580/3810) /home/hatsu/coding/CapProj/TestSeg_1/video_input/fight_5.mp4: 384x640 2 Fighters, 22.0ms\n",
      "video 1/1 (frame 1581/3810) /home/hatsu/coding/CapProj/TestSeg_1/video_input/fight_5.mp4: 384x640 2 Fighters, 16.0ms\n",
      "video 1/1 (frame 1582/3810) /home/hatsu/coding/CapProj/TestSeg_1/video_input/fight_5.mp4: 384x640 2 Fighters, 22.1ms\n",
      "video 1/1 (frame 1583/3810) /home/hatsu/coding/CapProj/TestSeg_1/video_input/fight_5.mp4: 384x640 2 Fighters, 27.9ms\n",
      "video 1/1 (frame 1584/3810) /home/hatsu/coding/CapProj/TestSeg_1/video_input/fight_5.mp4: 384x640 2 Fighters, 12.7ms\n",
      "video 1/1 (frame 1585/3810) /home/hatsu/coding/CapProj/TestSeg_1/video_input/fight_5.mp4: 384x640 2 Fighters, 26.8ms\n",
      "video 1/1 (frame 1586/3810) /home/hatsu/coding/CapProj/TestSeg_1/video_input/fight_5.mp4: 384x640 2 Fighters, 14.6ms\n",
      "video 1/1 (frame 1587/3810) /home/hatsu/coding/CapProj/TestSeg_1/video_input/fight_5.mp4: 384x640 1 Fighter, 14.0ms\n",
      "video 1/1 (frame 1588/3810) /home/hatsu/coding/CapProj/TestSeg_1/video_input/fight_5.mp4: 384x640 1 Fighter, 13.7ms\n",
      "video 1/1 (frame 1589/3810) /home/hatsu/coding/CapProj/TestSeg_1/video_input/fight_5.mp4: 384x640 1 Fighter, 18.3ms\n",
      "video 1/1 (frame 1590/3810) /home/hatsu/coding/CapProj/TestSeg_1/video_input/fight_5.mp4: 384x640 1 Fighter, 13.0ms\n",
      "video 1/1 (frame 1591/3810) /home/hatsu/coding/CapProj/TestSeg_1/video_input/fight_5.mp4: 384x640 1 Fighter, 13.7ms\n",
      "video 1/1 (frame 1592/3810) /home/hatsu/coding/CapProj/TestSeg_1/video_input/fight_5.mp4: 384x640 1 Fighter, 15.4ms\n",
      "video 1/1 (frame 1593/3810) /home/hatsu/coding/CapProj/TestSeg_1/video_input/fight_5.mp4: 384x640 1 Fighter, 17.0ms\n",
      "video 1/1 (frame 1594/3810) /home/hatsu/coding/CapProj/TestSeg_1/video_input/fight_5.mp4: 384x640 1 Fighter, 13.7ms\n",
      "video 1/1 (frame 1595/3810) /home/hatsu/coding/CapProj/TestSeg_1/video_input/fight_5.mp4: 384x640 1 Fighter, 14.9ms\n",
      "video 1/1 (frame 1596/3810) /home/hatsu/coding/CapProj/TestSeg_1/video_input/fight_5.mp4: 384x640 1 Fighter, 17.3ms\n",
      "video 1/1 (frame 1597/3810) /home/hatsu/coding/CapProj/TestSeg_1/video_input/fight_5.mp4: 384x640 1 Fighter, 17.4ms\n",
      "video 1/1 (frame 1598/3810) /home/hatsu/coding/CapProj/TestSeg_1/video_input/fight_5.mp4: 384x640 1 Fighter, 18.4ms\n",
      "video 1/1 (frame 1599/3810) /home/hatsu/coding/CapProj/TestSeg_1/video_input/fight_5.mp4: 384x640 1 Fighter, 15.0ms\n",
      "video 1/1 (frame 1600/3810) /home/hatsu/coding/CapProj/TestSeg_1/video_input/fight_5.mp4: 384x640 1 Fighter, 14.2ms\n",
      "video 1/1 (frame 1601/3810) /home/hatsu/coding/CapProj/TestSeg_1/video_input/fight_5.mp4: 384x640 1 Fighter, 14.9ms\n",
      "video 1/1 (frame 1602/3810) /home/hatsu/coding/CapProj/TestSeg_1/video_input/fight_5.mp4: 384x640 1 Fighter, 14.6ms\n",
      "video 1/1 (frame 1603/3810) /home/hatsu/coding/CapProj/TestSeg_1/video_input/fight_5.mp4: 384x640 1 Fighter, 19.8ms\n",
      "video 1/1 (frame 1604/3810) /home/hatsu/coding/CapProj/TestSeg_1/video_input/fight_5.mp4: 384x640 1 Fighter, 14.9ms\n",
      "video 1/1 (frame 1605/3810) /home/hatsu/coding/CapProj/TestSeg_1/video_input/fight_5.mp4: 384x640 1 Fighter, 13.9ms\n",
      "video 1/1 (frame 1606/3810) /home/hatsu/coding/CapProj/TestSeg_1/video_input/fight_5.mp4: 384x640 1 Fighter, 26.3ms\n",
      "video 1/1 (frame 1607/3810) /home/hatsu/coding/CapProj/TestSeg_1/video_input/fight_5.mp4: 384x640 1 Fighter, 16.4ms\n",
      "video 1/1 (frame 1608/3810) /home/hatsu/coding/CapProj/TestSeg_1/video_input/fight_5.mp4: 384x640 1 Fighter, 34.8ms\n",
      "video 1/1 (frame 1609/3810) /home/hatsu/coding/CapProj/TestSeg_1/video_input/fight_5.mp4: 384x640 2 Fighters, 14.2ms\n",
      "video 1/1 (frame 1610/3810) /home/hatsu/coding/CapProj/TestSeg_1/video_input/fight_5.mp4: 384x640 2 Fighters, 14.5ms\n",
      "video 1/1 (frame 1611/3810) /home/hatsu/coding/CapProj/TestSeg_1/video_input/fight_5.mp4: 384x640 1 Fighter, 16.9ms\n",
      "video 1/1 (frame 1612/3810) /home/hatsu/coding/CapProj/TestSeg_1/video_input/fight_5.mp4: 384x640 2 Fighters, 14.8ms\n",
      "video 1/1 (frame 1613/3810) /home/hatsu/coding/CapProj/TestSeg_1/video_input/fight_5.mp4: 384x640 2 Fighters, 20.0ms\n",
      "video 1/1 (frame 1614/3810) /home/hatsu/coding/CapProj/TestSeg_1/video_input/fight_5.mp4: 384x640 2 Fighters, 14.7ms\n",
      "video 1/1 (frame 1615/3810) /home/hatsu/coding/CapProj/TestSeg_1/video_input/fight_5.mp4: 384x640 2 Fighters, 18.2ms\n",
      "video 1/1 (frame 1616/3810) /home/hatsu/coding/CapProj/TestSeg_1/video_input/fight_5.mp4: 384x640 2 Fighters, 18.7ms\n",
      "video 1/1 (frame 1617/3810) /home/hatsu/coding/CapProj/TestSeg_1/video_input/fight_5.mp4: 384x640 2 Fighters, 18.5ms\n",
      "video 1/1 (frame 1618/3810) /home/hatsu/coding/CapProj/TestSeg_1/video_input/fight_5.mp4: 384x640 2 Fighters, 21.6ms\n",
      "video 1/1 (frame 1619/3810) /home/hatsu/coding/CapProj/TestSeg_1/video_input/fight_5.mp4: 384x640 2 Fighters, 18.4ms\n",
      "video 1/1 (frame 1620/3810) /home/hatsu/coding/CapProj/TestSeg_1/video_input/fight_5.mp4: 384x640 2 Fighters, 17.9ms\n",
      "video 1/1 (frame 1621/3810) /home/hatsu/coding/CapProj/TestSeg_1/video_input/fight_5.mp4: 384x640 2 Fighters, 17.5ms\n",
      "video 1/1 (frame 1622/3810) /home/hatsu/coding/CapProj/TestSeg_1/video_input/fight_5.mp4: 384x640 2 Fighters, 19.5ms\n",
      "video 1/1 (frame 1623/3810) /home/hatsu/coding/CapProj/TestSeg_1/video_input/fight_5.mp4: 384x640 2 Fighters, 19.5ms\n",
      "video 1/1 (frame 1624/3810) /home/hatsu/coding/CapProj/TestSeg_1/video_input/fight_5.mp4: 384x640 2 Fighters, 15.7ms\n",
      "video 1/1 (frame 1625/3810) /home/hatsu/coding/CapProj/TestSeg_1/video_input/fight_5.mp4: 384x640 2 Fighters, 13.5ms\n",
      "video 1/1 (frame 1626/3810) /home/hatsu/coding/CapProj/TestSeg_1/video_input/fight_5.mp4: 384x640 2 Fighters, 16.8ms\n",
      "video 1/1 (frame 1627/3810) /home/hatsu/coding/CapProj/TestSeg_1/video_input/fight_5.mp4: 384x640 2 Fighters, 15.6ms\n",
      "video 1/1 (frame 1628/3810) /home/hatsu/coding/CapProj/TestSeg_1/video_input/fight_5.mp4: 384x640 2 Fighters, 21.6ms\n",
      "video 1/1 (frame 1629/3810) /home/hatsu/coding/CapProj/TestSeg_1/video_input/fight_5.mp4: 384x640 1 Fighter, 13.5ms\n",
      "video 1/1 (frame 1630/3810) /home/hatsu/coding/CapProj/TestSeg_1/video_input/fight_5.mp4: 384x640 1 Fighter, 19.3ms\n",
      "video 1/1 (frame 1631/3810) /home/hatsu/coding/CapProj/TestSeg_1/video_input/fight_5.mp4: 384x640 1 Fighter, 15.0ms\n",
      "video 1/1 (frame 1632/3810) /home/hatsu/coding/CapProj/TestSeg_1/video_input/fight_5.mp4: 384x640 1 Fighter, 12.3ms\n",
      "video 1/1 (frame 1633/3810) /home/hatsu/coding/CapProj/TestSeg_1/video_input/fight_5.mp4: 384x640 1 Fighter, 13.6ms\n",
      "video 1/1 (frame 1634/3810) /home/hatsu/coding/CapProj/TestSeg_1/video_input/fight_5.mp4: 384x640 1 Fighter, 19.3ms\n",
      "video 1/1 (frame 1635/3810) /home/hatsu/coding/CapProj/TestSeg_1/video_input/fight_5.mp4: 384x640 1 Fighter, 17.1ms\n",
      "video 1/1 (frame 1636/3810) /home/hatsu/coding/CapProj/TestSeg_1/video_input/fight_5.mp4: 384x640 2 Fighters, 14.5ms\n",
      "video 1/1 (frame 1637/3810) /home/hatsu/coding/CapProj/TestSeg_1/video_input/fight_5.mp4: 384x640 1 Fighter, 15.0ms\n",
      "video 1/1 (frame 1638/3810) /home/hatsu/coding/CapProj/TestSeg_1/video_input/fight_5.mp4: 384x640 1 Fighter, 15.6ms\n",
      "video 1/1 (frame 1639/3810) /home/hatsu/coding/CapProj/TestSeg_1/video_input/fight_5.mp4: 384x640 1 Fighter, 14.4ms\n",
      "video 1/1 (frame 1640/3810) /home/hatsu/coding/CapProj/TestSeg_1/video_input/fight_5.mp4: 384x640 1 Fighter, 14.1ms\n",
      "video 1/1 (frame 1641/3810) /home/hatsu/coding/CapProj/TestSeg_1/video_input/fight_5.mp4: 384x640 1 Fighter, 15.6ms\n",
      "video 1/1 (frame 1642/3810) /home/hatsu/coding/CapProj/TestSeg_1/video_input/fight_5.mp4: 384x640 1 Fighter, 13.9ms\n",
      "video 1/1 (frame 1643/3810) /home/hatsu/coding/CapProj/TestSeg_1/video_input/fight_5.mp4: 384x640 1 Fighter, 16.0ms\n",
      "video 1/1 (frame 1644/3810) /home/hatsu/coding/CapProj/TestSeg_1/video_input/fight_5.mp4: 384x640 1 Fighter, 18.5ms\n",
      "video 1/1 (frame 1645/3810) /home/hatsu/coding/CapProj/TestSeg_1/video_input/fight_5.mp4: 384x640 3 Fighters, 13.8ms\n",
      "video 1/1 (frame 1646/3810) /home/hatsu/coding/CapProj/TestSeg_1/video_input/fight_5.mp4: 384x640 3 Fighters, 13.2ms\n",
      "video 1/1 (frame 1647/3810) /home/hatsu/coding/CapProj/TestSeg_1/video_input/fight_5.mp4: 384x640 3 Fighters, 13.8ms\n",
      "video 1/1 (frame 1648/3810) /home/hatsu/coding/CapProj/TestSeg_1/video_input/fight_5.mp4: 384x640 3 Fighters, 14.5ms\n",
      "video 1/1 (frame 1649/3810) /home/hatsu/coding/CapProj/TestSeg_1/video_input/fight_5.mp4: 384x640 2 Fighters, 12.7ms\n",
      "video 1/1 (frame 1650/3810) /home/hatsu/coding/CapProj/TestSeg_1/video_input/fight_5.mp4: 384x640 1 Fighter, 14.4ms\n",
      "video 1/1 (frame 1651/3810) /home/hatsu/coding/CapProj/TestSeg_1/video_input/fight_5.mp4: 384x640 1 Fighter, 13.6ms\n",
      "video 1/1 (frame 1652/3810) /home/hatsu/coding/CapProj/TestSeg_1/video_input/fight_5.mp4: 384x640 1 Fighter, 13.4ms\n",
      "video 1/1 (frame 1653/3810) /home/hatsu/coding/CapProj/TestSeg_1/video_input/fight_5.mp4: 384x640 1 Fighter, 14.3ms\n",
      "video 1/1 (frame 1654/3810) /home/hatsu/coding/CapProj/TestSeg_1/video_input/fight_5.mp4: 384x640 1 Fighter, 19.6ms\n",
      "video 1/1 (frame 1655/3810) /home/hatsu/coding/CapProj/TestSeg_1/video_input/fight_5.mp4: 384x640 1 Fighter, 17.0ms\n",
      "video 1/1 (frame 1656/3810) /home/hatsu/coding/CapProj/TestSeg_1/video_input/fight_5.mp4: 384x640 1 Fighter, 14.1ms\n",
      "video 1/1 (frame 1657/3810) /home/hatsu/coding/CapProj/TestSeg_1/video_input/fight_5.mp4: 384x640 1 Fighter, 14.7ms\n",
      "video 1/1 (frame 1658/3810) /home/hatsu/coding/CapProj/TestSeg_1/video_input/fight_5.mp4: 384x640 1 Fighter, 12.8ms\n",
      "video 1/1 (frame 1659/3810) /home/hatsu/coding/CapProj/TestSeg_1/video_input/fight_5.mp4: 384x640 1 Fighter, 13.1ms\n",
      "video 1/1 (frame 1660/3810) /home/hatsu/coding/CapProj/TestSeg_1/video_input/fight_5.mp4: 384x640 2 Fighters, 14.0ms\n",
      "video 1/1 (frame 1661/3810) /home/hatsu/coding/CapProj/TestSeg_1/video_input/fight_5.mp4: 384x640 2 Fighters, 13.6ms\n",
      "video 1/1 (frame 1662/3810) /home/hatsu/coding/CapProj/TestSeg_1/video_input/fight_5.mp4: 384x640 1 Fighter, 14.8ms\n",
      "video 1/1 (frame 1663/3810) /home/hatsu/coding/CapProj/TestSeg_1/video_input/fight_5.mp4: 384x640 1 Fighter, 14.5ms\n",
      "video 1/1 (frame 1664/3810) /home/hatsu/coding/CapProj/TestSeg_1/video_input/fight_5.mp4: 384x640 1 Fighter, 22.9ms\n",
      "video 1/1 (frame 1665/3810) /home/hatsu/coding/CapProj/TestSeg_1/video_input/fight_5.mp4: 384x640 1 Fighter, 14.6ms\n",
      "video 1/1 (frame 1666/3810) /home/hatsu/coding/CapProj/TestSeg_1/video_input/fight_5.mp4: 384x640 1 Fighter, 14.5ms\n",
      "video 1/1 (frame 1667/3810) /home/hatsu/coding/CapProj/TestSeg_1/video_input/fight_5.mp4: 384x640 2 Fighters, 20.0ms\n",
      "video 1/1 (frame 1668/3810) /home/hatsu/coding/CapProj/TestSeg_1/video_input/fight_5.mp4: 384x640 1 Fighter, 13.3ms\n",
      "video 1/1 (frame 1669/3810) /home/hatsu/coding/CapProj/TestSeg_1/video_input/fight_5.mp4: 384x640 1 Fighter, 14.3ms\n",
      "video 1/1 (frame 1670/3810) /home/hatsu/coding/CapProj/TestSeg_1/video_input/fight_5.mp4: 384x640 2 Fighters, 15.2ms\n",
      "video 1/1 (frame 1671/3810) /home/hatsu/coding/CapProj/TestSeg_1/video_input/fight_5.mp4: 384x640 3 Fighters, 30.6ms\n",
      "video 1/1 (frame 1672/3810) /home/hatsu/coding/CapProj/TestSeg_1/video_input/fight_5.mp4: 384x640 3 Fighters, 14.6ms\n",
      "video 1/1 (frame 1673/3810) /home/hatsu/coding/CapProj/TestSeg_1/video_input/fight_5.mp4: 384x640 3 Fighters, 23.6ms\n",
      "video 1/1 (frame 1674/3810) /home/hatsu/coding/CapProj/TestSeg_1/video_input/fight_5.mp4: 384x640 3 Fighters, 20.9ms\n",
      "video 1/1 (frame 1675/3810) /home/hatsu/coding/CapProj/TestSeg_1/video_input/fight_5.mp4: 384x640 2 Fighters, 13.4ms\n",
      "video 1/1 (frame 1676/3810) /home/hatsu/coding/CapProj/TestSeg_1/video_input/fight_5.mp4: 384x640 2 Fighters, 13.4ms\n",
      "video 1/1 (frame 1677/3810) /home/hatsu/coding/CapProj/TestSeg_1/video_input/fight_5.mp4: 384x640 2 Fighters, 15.1ms\n",
      "video 1/1 (frame 1678/3810) /home/hatsu/coding/CapProj/TestSeg_1/video_input/fight_5.mp4: 384x640 2 Fighters, 13.5ms\n",
      "video 1/1 (frame 1679/3810) /home/hatsu/coding/CapProj/TestSeg_1/video_input/fight_5.mp4: 384x640 2 Fighters, 14.4ms\n",
      "video 1/1 (frame 1680/3810) /home/hatsu/coding/CapProj/TestSeg_1/video_input/fight_5.mp4: 384x640 2 Fighters, 14.8ms\n",
      "video 1/1 (frame 1681/3810) /home/hatsu/coding/CapProj/TestSeg_1/video_input/fight_5.mp4: 384x640 2 Fighters, 14.3ms\n",
      "video 1/1 (frame 1682/3810) /home/hatsu/coding/CapProj/TestSeg_1/video_input/fight_5.mp4: 384x640 2 Fighters, 13.0ms\n",
      "video 1/1 (frame 1683/3810) /home/hatsu/coding/CapProj/TestSeg_1/video_input/fight_5.mp4: 384x640 2 Fighters, 15.1ms\n",
      "video 1/1 (frame 1684/3810) /home/hatsu/coding/CapProj/TestSeg_1/video_input/fight_5.mp4: 384x640 2 Fighters, 24.0ms\n",
      "video 1/1 (frame 1685/3810) /home/hatsu/coding/CapProj/TestSeg_1/video_input/fight_5.mp4: 384x640 2 Fighters, 16.0ms\n",
      "video 1/1 (frame 1686/3810) /home/hatsu/coding/CapProj/TestSeg_1/video_input/fight_5.mp4: 384x640 2 Fighters, 15.4ms\n",
      "video 1/1 (frame 1687/3810) /home/hatsu/coding/CapProj/TestSeg_1/video_input/fight_5.mp4: 384x640 2 Fighters, 16.1ms\n",
      "video 1/1 (frame 1688/3810) /home/hatsu/coding/CapProj/TestSeg_1/video_input/fight_5.mp4: 384x640 2 Fighters, 16.2ms\n",
      "video 1/1 (frame 1689/3810) /home/hatsu/coding/CapProj/TestSeg_1/video_input/fight_5.mp4: 384x640 2 Fighters, 14.6ms\n",
      "video 1/1 (frame 1690/3810) /home/hatsu/coding/CapProj/TestSeg_1/video_input/fight_5.mp4: 384x640 2 Fighters, 16.8ms\n",
      "video 1/1 (frame 1691/3810) /home/hatsu/coding/CapProj/TestSeg_1/video_input/fight_5.mp4: 384x640 2 Fighters, 14.0ms\n",
      "video 1/1 (frame 1692/3810) /home/hatsu/coding/CapProj/TestSeg_1/video_input/fight_5.mp4: 384x640 2 Fighters, 16.2ms\n",
      "video 1/1 (frame 1693/3810) /home/hatsu/coding/CapProj/TestSeg_1/video_input/fight_5.mp4: 384x640 2 Fighters, 13.1ms\n",
      "video 1/1 (frame 1694/3810) /home/hatsu/coding/CapProj/TestSeg_1/video_input/fight_5.mp4: 384x640 2 Fighters, 31.5ms\n",
      "video 1/1 (frame 1695/3810) /home/hatsu/coding/CapProj/TestSeg_1/video_input/fight_5.mp4: 384x640 2 Fighters, 13.5ms\n",
      "video 1/1 (frame 1696/3810) /home/hatsu/coding/CapProj/TestSeg_1/video_input/fight_5.mp4: 384x640 2 Fighters, 14.2ms\n",
      "video 1/1 (frame 1697/3810) /home/hatsu/coding/CapProj/TestSeg_1/video_input/fight_5.mp4: 384x640 2 Fighters, 15.3ms\n",
      "video 1/1 (frame 1698/3810) /home/hatsu/coding/CapProj/TestSeg_1/video_input/fight_5.mp4: 384x640 2 Fighters, 14.2ms\n",
      "video 1/1 (frame 1699/3810) /home/hatsu/coding/CapProj/TestSeg_1/video_input/fight_5.mp4: 384x640 1 Fighter, 15.0ms\n",
      "video 1/1 (frame 1700/3810) /home/hatsu/coding/CapProj/TestSeg_1/video_input/fight_5.mp4: 384x640 1 Fighter, 13.6ms\n",
      "video 1/1 (frame 1701/3810) /home/hatsu/coding/CapProj/TestSeg_1/video_input/fight_5.mp4: 384x640 1 Fighter, 15.3ms\n",
      "video 1/1 (frame 1702/3810) /home/hatsu/coding/CapProj/TestSeg_1/video_input/fight_5.mp4: 384x640 1 Fighter, 13.6ms\n",
      "video 1/1 (frame 1703/3810) /home/hatsu/coding/CapProj/TestSeg_1/video_input/fight_5.mp4: 384x640 1 Fighter, 20.9ms\n",
      "video 1/1 (frame 1704/3810) /home/hatsu/coding/CapProj/TestSeg_1/video_input/fight_5.mp4: 384x640 1 Fighter, 14.1ms\n",
      "video 1/1 (frame 1705/3810) /home/hatsu/coding/CapProj/TestSeg_1/video_input/fight_5.mp4: 384x640 2 Fighters, 14.2ms\n",
      "video 1/1 (frame 1706/3810) /home/hatsu/coding/CapProj/TestSeg_1/video_input/fight_5.mp4: 384x640 2 Fighters, 16.1ms\n",
      "video 1/1 (frame 1707/3810) /home/hatsu/coding/CapProj/TestSeg_1/video_input/fight_5.mp4: 384x640 2 Fighters, 14.6ms\n",
      "video 1/1 (frame 1708/3810) /home/hatsu/coding/CapProj/TestSeg_1/video_input/fight_5.mp4: 384x640 3 Fighters, 21.3ms\n",
      "video 1/1 (frame 1709/3810) /home/hatsu/coding/CapProj/TestSeg_1/video_input/fight_5.mp4: 384x640 3 Fighters, 13.9ms\n",
      "video 1/1 (frame 1710/3810) /home/hatsu/coding/CapProj/TestSeg_1/video_input/fight_5.mp4: 384x640 3 Fighters, 14.8ms\n",
      "video 1/1 (frame 1711/3810) /home/hatsu/coding/CapProj/TestSeg_1/video_input/fight_5.mp4: 384x640 3 Fighters, 13.6ms\n",
      "video 1/1 (frame 1712/3810) /home/hatsu/coding/CapProj/TestSeg_1/video_input/fight_5.mp4: 384x640 3 Fighters, 21.8ms\n",
      "video 1/1 (frame 1713/3810) /home/hatsu/coding/CapProj/TestSeg_1/video_input/fight_5.mp4: 384x640 3 Fighters, 14.0ms\n",
      "video 1/1 (frame 1714/3810) /home/hatsu/coding/CapProj/TestSeg_1/video_input/fight_5.mp4: 384x640 3 Fighters, 27.9ms\n",
      "video 1/1 (frame 1715/3810) /home/hatsu/coding/CapProj/TestSeg_1/video_input/fight_5.mp4: 384x640 3 Fighters, 15.4ms\n",
      "video 1/1 (frame 1716/3810) /home/hatsu/coding/CapProj/TestSeg_1/video_input/fight_5.mp4: 384x640 3 Fighters, 18.3ms\n",
      "video 1/1 (frame 1717/3810) /home/hatsu/coding/CapProj/TestSeg_1/video_input/fight_5.mp4: 384x640 2 Fighters, 12.9ms\n",
      "video 1/1 (frame 1718/3810) /home/hatsu/coding/CapProj/TestSeg_1/video_input/fight_5.mp4: 384x640 2 Fighters, 42.0ms\n",
      "video 1/1 (frame 1719/3810) /home/hatsu/coding/CapProj/TestSeg_1/video_input/fight_5.mp4: 384x640 2 Fighters, 15.6ms\n",
      "video 1/1 (frame 1720/3810) /home/hatsu/coding/CapProj/TestSeg_1/video_input/fight_5.mp4: 384x640 3 Fighters, 20.2ms\n",
      "video 1/1 (frame 1721/3810) /home/hatsu/coding/CapProj/TestSeg_1/video_input/fight_5.mp4: 384x640 3 Fighters, 19.3ms\n",
      "video 1/1 (frame 1722/3810) /home/hatsu/coding/CapProj/TestSeg_1/video_input/fight_5.mp4: 384x640 4 Fighters, 15.4ms\n",
      "video 1/1 (frame 1723/3810) /home/hatsu/coding/CapProj/TestSeg_1/video_input/fight_5.mp4: 384x640 4 Fighters, 13.4ms\n",
      "video 1/1 (frame 1724/3810) /home/hatsu/coding/CapProj/TestSeg_1/video_input/fight_5.mp4: 384x640 4 Fighters, 15.6ms\n",
      "video 1/1 (frame 1725/3810) /home/hatsu/coding/CapProj/TestSeg_1/video_input/fight_5.mp4: 384x640 3 Fighters, 14.1ms\n",
      "video 1/1 (frame 1726/3810) /home/hatsu/coding/CapProj/TestSeg_1/video_input/fight_5.mp4: 384x640 3 Fighters, 14.1ms\n",
      "video 1/1 (frame 1727/3810) /home/hatsu/coding/CapProj/TestSeg_1/video_input/fight_5.mp4: 384x640 3 Fighters, 13.8ms\n",
      "video 1/1 (frame 1728/3810) /home/hatsu/coding/CapProj/TestSeg_1/video_input/fight_5.mp4: 384x640 3 Fighters, 13.2ms\n",
      "video 1/1 (frame 1729/3810) /home/hatsu/coding/CapProj/TestSeg_1/video_input/fight_5.mp4: 384x640 2 Fighters, 31.3ms\n",
      "video 1/1 (frame 1730/3810) /home/hatsu/coding/CapProj/TestSeg_1/video_input/fight_5.mp4: 384x640 2 Fighters, 41.3ms\n",
      "video 1/1 (frame 1731/3810) /home/hatsu/coding/CapProj/TestSeg_1/video_input/fight_5.mp4: 384x640 2 Fighters, 15.6ms\n",
      "video 1/1 (frame 1732/3810) /home/hatsu/coding/CapProj/TestSeg_1/video_input/fight_5.mp4: 384x640 2 Fighters, 14.1ms\n",
      "video 1/1 (frame 1733/3810) /home/hatsu/coding/CapProj/TestSeg_1/video_input/fight_5.mp4: 384x640 2 Fighters, 14.8ms\n",
      "video 1/1 (frame 1734/3810) /home/hatsu/coding/CapProj/TestSeg_1/video_input/fight_5.mp4: 384x640 2 Fighters, 13.8ms\n",
      "video 1/1 (frame 1735/3810) /home/hatsu/coding/CapProj/TestSeg_1/video_input/fight_5.mp4: 384x640 2 Fighters, 16.1ms\n",
      "video 1/1 (frame 1736/3810) /home/hatsu/coding/CapProj/TestSeg_1/video_input/fight_5.mp4: 384x640 3 Fighters, 18.6ms\n",
      "video 1/1 (frame 1737/3810) /home/hatsu/coding/CapProj/TestSeg_1/video_input/fight_5.mp4: 384x640 4 Fighters, 15.3ms\n",
      "video 1/1 (frame 1738/3810) /home/hatsu/coding/CapProj/TestSeg_1/video_input/fight_5.mp4: 384x640 4 Fighters, 17.9ms\n",
      "video 1/1 (frame 1739/3810) /home/hatsu/coding/CapProj/TestSeg_1/video_input/fight_5.mp4: 384x640 3 Fighters, 22.6ms\n",
      "video 1/1 (frame 1740/3810) /home/hatsu/coding/CapProj/TestSeg_1/video_input/fight_5.mp4: 384x640 3 Fighters, 14.8ms\n",
      "video 1/1 (frame 1741/3810) /home/hatsu/coding/CapProj/TestSeg_1/video_input/fight_5.mp4: 384x640 4 Fighters, 15.7ms\n",
      "video 1/1 (frame 1742/3810) /home/hatsu/coding/CapProj/TestSeg_1/video_input/fight_5.mp4: 384x640 4 Fighters, 15.2ms\n",
      "video 1/1 (frame 1743/3810) /home/hatsu/coding/CapProj/TestSeg_1/video_input/fight_5.mp4: 384x640 4 Fighters, 14.4ms\n",
      "video 1/1 (frame 1744/3810) /home/hatsu/coding/CapProj/TestSeg_1/video_input/fight_5.mp4: 384x640 5 Fighters, 17.2ms\n",
      "video 1/1 (frame 1745/3810) /home/hatsu/coding/CapProj/TestSeg_1/video_input/fight_5.mp4: 384x640 5 Fighters, 14.9ms\n",
      "video 1/1 (frame 1746/3810) /home/hatsu/coding/CapProj/TestSeg_1/video_input/fight_5.mp4: 384x640 4 Fighters, 15.6ms\n",
      "video 1/1 (frame 1747/3810) /home/hatsu/coding/CapProj/TestSeg_1/video_input/fight_5.mp4: 384x640 4 Fighters, 14.7ms\n",
      "video 1/1 (frame 1748/3810) /home/hatsu/coding/CapProj/TestSeg_1/video_input/fight_5.mp4: 384x640 3 Fighters, 25.3ms\n",
      "video 1/1 (frame 1749/3810) /home/hatsu/coding/CapProj/TestSeg_1/video_input/fight_5.mp4: 384x640 3 Fighters, 14.1ms\n",
      "video 1/1 (frame 1750/3810) /home/hatsu/coding/CapProj/TestSeg_1/video_input/fight_5.mp4: 384x640 3 Fighters, 14.9ms\n",
      "video 1/1 (frame 1751/3810) /home/hatsu/coding/CapProj/TestSeg_1/video_input/fight_5.mp4: 384x640 3 Fighters, 15.2ms\n",
      "video 1/1 (frame 1752/3810) /home/hatsu/coding/CapProj/TestSeg_1/video_input/fight_5.mp4: 384x640 3 Fighters, 21.0ms\n",
      "video 1/1 (frame 1753/3810) /home/hatsu/coding/CapProj/TestSeg_1/video_input/fight_5.mp4: 384x640 3 Fighters, 16.0ms\n",
      "video 1/1 (frame 1754/3810) /home/hatsu/coding/CapProj/TestSeg_1/video_input/fight_5.mp4: 384x640 3 Fighters, 15.5ms\n",
      "video 1/1 (frame 1755/3810) /home/hatsu/coding/CapProj/TestSeg_1/video_input/fight_5.mp4: 384x640 1 Fighter, 17.1ms\n",
      "video 1/1 (frame 1756/3810) /home/hatsu/coding/CapProj/TestSeg_1/video_input/fight_5.mp4: 384x640 1 Fighter, 15.9ms\n",
      "video 1/1 (frame 1757/3810) /home/hatsu/coding/CapProj/TestSeg_1/video_input/fight_5.mp4: 384x640 1 Fighter, 21.5ms\n",
      "video 1/1 (frame 1758/3810) /home/hatsu/coding/CapProj/TestSeg_1/video_input/fight_5.mp4: 384x640 1 Fighter, 15.9ms\n",
      "video 1/1 (frame 1759/3810) /home/hatsu/coding/CapProj/TestSeg_1/video_input/fight_5.mp4: 384x640 1 Fighter, 14.3ms\n",
      "video 1/1 (frame 1760/3810) /home/hatsu/coding/CapProj/TestSeg_1/video_input/fight_5.mp4: 384x640 1 Fighter, 21.7ms\n",
      "video 1/1 (frame 1761/3810) /home/hatsu/coding/CapProj/TestSeg_1/video_input/fight_5.mp4: 384x640 1 Fighter, 14.9ms\n",
      "video 1/1 (frame 1762/3810) /home/hatsu/coding/CapProj/TestSeg_1/video_input/fight_5.mp4: 384x640 1 Fighter, 18.2ms\n",
      "video 1/1 (frame 1763/3810) /home/hatsu/coding/CapProj/TestSeg_1/video_input/fight_5.mp4: 384x640 1 Fighter, 16.5ms\n",
      "video 1/1 (frame 1764/3810) /home/hatsu/coding/CapProj/TestSeg_1/video_input/fight_5.mp4: 384x640 1 Fighter, 14.3ms\n",
      "video 1/1 (frame 1765/3810) /home/hatsu/coding/CapProj/TestSeg_1/video_input/fight_5.mp4: 384x640 1 Fighter, 14.9ms\n",
      "video 1/1 (frame 1766/3810) /home/hatsu/coding/CapProj/TestSeg_1/video_input/fight_5.mp4: 384x640 1 Fighter, 21.7ms\n",
      "video 1/1 (frame 1767/3810) /home/hatsu/coding/CapProj/TestSeg_1/video_input/fight_5.mp4: 384x640 1 Fighter, 13.4ms\n",
      "video 1/1 (frame 1768/3810) /home/hatsu/coding/CapProj/TestSeg_1/video_input/fight_5.mp4: 384x640 1 Fighter, 15.2ms\n",
      "video 1/1 (frame 1769/3810) /home/hatsu/coding/CapProj/TestSeg_1/video_input/fight_5.mp4: 384x640 1 Fighter, 17.0ms\n",
      "video 1/1 (frame 1770/3810) /home/hatsu/coding/CapProj/TestSeg_1/video_input/fight_5.mp4: 384x640 1 Fighter, 14.7ms\n",
      "video 1/1 (frame 1771/3810) /home/hatsu/coding/CapProj/TestSeg_1/video_input/fight_5.mp4: 384x640 1 Fighter, 17.6ms\n",
      "video 1/1 (frame 1772/3810) /home/hatsu/coding/CapProj/TestSeg_1/video_input/fight_5.mp4: 384x640 1 Fighter, 14.2ms\n",
      "video 1/1 (frame 1773/3810) /home/hatsu/coding/CapProj/TestSeg_1/video_input/fight_5.mp4: 384x640 1 Fighter, 16.8ms\n",
      "video 1/1 (frame 1774/3810) /home/hatsu/coding/CapProj/TestSeg_1/video_input/fight_5.mp4: 384x640 1 Fighter, 14.3ms\n",
      "video 1/1 (frame 1775/3810) /home/hatsu/coding/CapProj/TestSeg_1/video_input/fight_5.mp4: 384x640 1 Fighter, 35.5ms\n",
      "video 1/1 (frame 1776/3810) /home/hatsu/coding/CapProj/TestSeg_1/video_input/fight_5.mp4: 384x640 1 Fighter, 14.6ms\n",
      "video 1/1 (frame 1777/3810) /home/hatsu/coding/CapProj/TestSeg_1/video_input/fight_5.mp4: 384x640 1 Fighter, 16.2ms\n",
      "video 1/1 (frame 1778/3810) /home/hatsu/coding/CapProj/TestSeg_1/video_input/fight_5.mp4: 384x640 1 Fighter, 15.0ms\n",
      "video 1/1 (frame 1779/3810) /home/hatsu/coding/CapProj/TestSeg_1/video_input/fight_5.mp4: 384x640 1 Fighter, 15.7ms\n",
      "video 1/1 (frame 1780/3810) /home/hatsu/coding/CapProj/TestSeg_1/video_input/fight_5.mp4: 384x640 2 Fighters, 29.0ms\n",
      "video 1/1 (frame 1781/3810) /home/hatsu/coding/CapProj/TestSeg_1/video_input/fight_5.mp4: 384x640 2 Fighters, 30.7ms\n",
      "video 1/1 (frame 1782/3810) /home/hatsu/coding/CapProj/TestSeg_1/video_input/fight_5.mp4: 384x640 2 Fighters, 15.1ms\n",
      "video 1/1 (frame 1783/3810) /home/hatsu/coding/CapProj/TestSeg_1/video_input/fight_5.mp4: 384x640 2 Fighters, 15.1ms\n",
      "video 1/1 (frame 1784/3810) /home/hatsu/coding/CapProj/TestSeg_1/video_input/fight_5.mp4: 384x640 1 Fighter, 22.1ms\n",
      "video 1/1 (frame 1785/3810) /home/hatsu/coding/CapProj/TestSeg_1/video_input/fight_5.mp4: 384x640 1 Fighter, 21.9ms\n",
      "video 1/1 (frame 1786/3810) /home/hatsu/coding/CapProj/TestSeg_1/video_input/fight_5.mp4: 384x640 1 Fighter, 25.6ms\n",
      "video 1/1 (frame 1787/3810) /home/hatsu/coding/CapProj/TestSeg_1/video_input/fight_5.mp4: 384x640 1 Fighter, 21.7ms\n",
      "video 1/1 (frame 1788/3810) /home/hatsu/coding/CapProj/TestSeg_1/video_input/fight_5.mp4: 384x640 1 Fighter, 22.7ms\n",
      "video 1/1 (frame 1789/3810) /home/hatsu/coding/CapProj/TestSeg_1/video_input/fight_5.mp4: 384x640 2 Fighters, 21.0ms\n",
      "video 1/1 (frame 1790/3810) /home/hatsu/coding/CapProj/TestSeg_1/video_input/fight_5.mp4: 384x640 2 Fighters, 21.9ms\n",
      "video 1/1 (frame 1791/3810) /home/hatsu/coding/CapProj/TestSeg_1/video_input/fight_5.mp4: 384x640 1 Fighter, 20.4ms\n",
      "video 1/1 (frame 1792/3810) /home/hatsu/coding/CapProj/TestSeg_1/video_input/fight_5.mp4: 384x640 1 Fighter, 15.7ms\n",
      "video 1/1 (frame 1793/3810) /home/hatsu/coding/CapProj/TestSeg_1/video_input/fight_5.mp4: 384x640 1 Fighter, 24.0ms\n",
      "video 1/1 (frame 1794/3810) /home/hatsu/coding/CapProj/TestSeg_1/video_input/fight_5.mp4: 384x640 1 Fighter, 16.8ms\n",
      "video 1/1 (frame 1795/3810) /home/hatsu/coding/CapProj/TestSeg_1/video_input/fight_5.mp4: 384x640 1 Fighter, 19.0ms\n",
      "video 1/1 (frame 1796/3810) /home/hatsu/coding/CapProj/TestSeg_1/video_input/fight_5.mp4: 384x640 1 Fighter, 12.6ms\n",
      "video 1/1 (frame 1797/3810) /home/hatsu/coding/CapProj/TestSeg_1/video_input/fight_5.mp4: 384x640 1 Fighter, 15.0ms\n",
      "video 1/1 (frame 1798/3810) /home/hatsu/coding/CapProj/TestSeg_1/video_input/fight_5.mp4: 384x640 1 Fighter, 15.0ms\n",
      "video 1/1 (frame 1799/3810) /home/hatsu/coding/CapProj/TestSeg_1/video_input/fight_5.mp4: 384x640 2 Fighters, 15.2ms\n",
      "video 1/1 (frame 1800/3810) /home/hatsu/coding/CapProj/TestSeg_1/video_input/fight_5.mp4: 384x640 2 Fighters, 15.0ms\n",
      "video 1/1 (frame 1801/3810) /home/hatsu/coding/CapProj/TestSeg_1/video_input/fight_5.mp4: 384x640 2 Fighters, 13.3ms\n",
      "video 1/1 (frame 1802/3810) /home/hatsu/coding/CapProj/TestSeg_1/video_input/fight_5.mp4: 384x640 2 Fighters, 27.7ms\n",
      "video 1/1 (frame 1803/3810) /home/hatsu/coding/CapProj/TestSeg_1/video_input/fight_5.mp4: 384x640 2 Fighters, 13.7ms\n",
      "video 1/1 (frame 1804/3810) /home/hatsu/coding/CapProj/TestSeg_1/video_input/fight_5.mp4: 384x640 2 Fighters, 45.1ms\n",
      "video 1/1 (frame 1805/3810) /home/hatsu/coding/CapProj/TestSeg_1/video_input/fight_5.mp4: 384x640 2 Fighters, 15.0ms\n",
      "video 1/1 (frame 1806/3810) /home/hatsu/coding/CapProj/TestSeg_1/video_input/fight_5.mp4: 384x640 2 Fighters, 14.3ms\n",
      "video 1/1 (frame 1807/3810) /home/hatsu/coding/CapProj/TestSeg_1/video_input/fight_5.mp4: 384x640 2 Fighters, 14.1ms\n",
      "video 1/1 (frame 1808/3810) /home/hatsu/coding/CapProj/TestSeg_1/video_input/fight_5.mp4: 384x640 2 Fighters, 13.8ms\n",
      "video 1/1 (frame 1809/3810) /home/hatsu/coding/CapProj/TestSeg_1/video_input/fight_5.mp4: 384x640 2 Fighters, 14.1ms\n",
      "video 1/1 (frame 1810/3810) /home/hatsu/coding/CapProj/TestSeg_1/video_input/fight_5.mp4: 384x640 2 Fighters, 14.2ms\n",
      "video 1/1 (frame 1811/3810) /home/hatsu/coding/CapProj/TestSeg_1/video_input/fight_5.mp4: 384x640 2 Fighters, 17.1ms\n",
      "video 1/1 (frame 1812/3810) /home/hatsu/coding/CapProj/TestSeg_1/video_input/fight_5.mp4: 384x640 2 Fighters, 17.2ms\n",
      "video 1/1 (frame 1813/3810) /home/hatsu/coding/CapProj/TestSeg_1/video_input/fight_5.mp4: 384x640 2 Fighters, 12.6ms\n",
      "video 1/1 (frame 1814/3810) /home/hatsu/coding/CapProj/TestSeg_1/video_input/fight_5.mp4: 384x640 2 Fighters, 14.9ms\n",
      "video 1/1 (frame 1815/3810) /home/hatsu/coding/CapProj/TestSeg_1/video_input/fight_5.mp4: 384x640 2 Fighters, 14.2ms\n",
      "video 1/1 (frame 1816/3810) /home/hatsu/coding/CapProj/TestSeg_1/video_input/fight_5.mp4: 384x640 2 Fighters, 20.6ms\n",
      "video 1/1 (frame 1817/3810) /home/hatsu/coding/CapProj/TestSeg_1/video_input/fight_5.mp4: 384x640 2 Fighters, 14.4ms\n",
      "video 1/1 (frame 1818/3810) /home/hatsu/coding/CapProj/TestSeg_1/video_input/fight_5.mp4: 384x640 2 Fighters, 13.6ms\n",
      "video 1/1 (frame 1819/3810) /home/hatsu/coding/CapProj/TestSeg_1/video_input/fight_5.mp4: 384x640 2 Fighters, 12.5ms\n",
      "video 1/1 (frame 1820/3810) /home/hatsu/coding/CapProj/TestSeg_1/video_input/fight_5.mp4: 384x640 2 Fighters, 17.5ms\n",
      "video 1/1 (frame 1821/3810) /home/hatsu/coding/CapProj/TestSeg_1/video_input/fight_5.mp4: 384x640 2 Fighters, 13.1ms\n",
      "video 1/1 (frame 1822/3810) /home/hatsu/coding/CapProj/TestSeg_1/video_input/fight_5.mp4: 384x640 2 Fighters, 19.4ms\n",
      "video 1/1 (frame 1823/3810) /home/hatsu/coding/CapProj/TestSeg_1/video_input/fight_5.mp4: 384x640 2 Fighters, 15.3ms\n",
      "video 1/1 (frame 1824/3810) /home/hatsu/coding/CapProj/TestSeg_1/video_input/fight_5.mp4: 384x640 2 Fighters, 17.9ms\n",
      "video 1/1 (frame 1825/3810) /home/hatsu/coding/CapProj/TestSeg_1/video_input/fight_5.mp4: 384x640 2 Fighters, 12.9ms\n",
      "video 1/1 (frame 1826/3810) /home/hatsu/coding/CapProj/TestSeg_1/video_input/fight_5.mp4: 384x640 2 Fighters, 14.2ms\n",
      "video 1/1 (frame 1827/3810) /home/hatsu/coding/CapProj/TestSeg_1/video_input/fight_5.mp4: 384x640 2 Fighters, 15.5ms\n",
      "video 1/1 (frame 1828/3810) /home/hatsu/coding/CapProj/TestSeg_1/video_input/fight_5.mp4: 384x640 2 Fighters, 43.3ms\n",
      "video 1/1 (frame 1829/3810) /home/hatsu/coding/CapProj/TestSeg_1/video_input/fight_5.mp4: 384x640 2 Fighters, 14.4ms\n",
      "video 1/1 (frame 1830/3810) /home/hatsu/coding/CapProj/TestSeg_1/video_input/fight_5.mp4: 384x640 2 Fighters, 13.8ms\n",
      "video 1/1 (frame 1831/3810) /home/hatsu/coding/CapProj/TestSeg_1/video_input/fight_5.mp4: 384x640 2 Fighters, 24.2ms\n",
      "video 1/1 (frame 1832/3810) /home/hatsu/coding/CapProj/TestSeg_1/video_input/fight_5.mp4: 384x640 2 Fighters, 14.7ms\n",
      "video 1/1 (frame 1833/3810) /home/hatsu/coding/CapProj/TestSeg_1/video_input/fight_5.mp4: 384x640 1 Fighter, 17.8ms\n",
      "video 1/1 (frame 1834/3810) /home/hatsu/coding/CapProj/TestSeg_1/video_input/fight_5.mp4: 384x640 1 Fighter, 14.5ms\n",
      "video 1/1 (frame 1835/3810) /home/hatsu/coding/CapProj/TestSeg_1/video_input/fight_5.mp4: 384x640 1 Fighter, 17.1ms\n",
      "video 1/1 (frame 1836/3810) /home/hatsu/coding/CapProj/TestSeg_1/video_input/fight_5.mp4: 384x640 1 Fighter, 14.4ms\n",
      "video 1/1 (frame 1837/3810) /home/hatsu/coding/CapProj/TestSeg_1/video_input/fight_5.mp4: 384x640 1 Fighter, 13.6ms\n",
      "video 1/1 (frame 1838/3810) /home/hatsu/coding/CapProj/TestSeg_1/video_input/fight_5.mp4: 384x640 2 Fighters, 14.4ms\n",
      "video 1/1 (frame 1839/3810) /home/hatsu/coding/CapProj/TestSeg_1/video_input/fight_5.mp4: 384x640 2 Fighters, 12.6ms\n",
      "video 1/1 (frame 1840/3810) /home/hatsu/coding/CapProj/TestSeg_1/video_input/fight_5.mp4: 384x640 2 Fighters, 22.2ms\n",
      "video 1/1 (frame 1841/3810) /home/hatsu/coding/CapProj/TestSeg_1/video_input/fight_5.mp4: 384x640 2 Fighters, 20.9ms\n",
      "video 1/1 (frame 1842/3810) /home/hatsu/coding/CapProj/TestSeg_1/video_input/fight_5.mp4: 384x640 2 Fighters, 13.4ms\n",
      "video 1/1 (frame 1843/3810) /home/hatsu/coding/CapProj/TestSeg_1/video_input/fight_5.mp4: 384x640 2 Fighters, 14.5ms\n",
      "video 1/1 (frame 1844/3810) /home/hatsu/coding/CapProj/TestSeg_1/video_input/fight_5.mp4: 384x640 2 Fighters, 15.3ms\n",
      "video 1/1 (frame 1845/3810) /home/hatsu/coding/CapProj/TestSeg_1/video_input/fight_5.mp4: 384x640 2 Fighters, 39.9ms\n",
      "video 1/1 (frame 1846/3810) /home/hatsu/coding/CapProj/TestSeg_1/video_input/fight_5.mp4: 384x640 2 Fighters, 13.4ms\n",
      "video 1/1 (frame 1847/3810) /home/hatsu/coding/CapProj/TestSeg_1/video_input/fight_5.mp4: 384x640 2 Fighters, 15.5ms\n",
      "video 1/1 (frame 1848/3810) /home/hatsu/coding/CapProj/TestSeg_1/video_input/fight_5.mp4: 384x640 2 Fighters, 14.2ms\n",
      "video 1/1 (frame 1849/3810) /home/hatsu/coding/CapProj/TestSeg_1/video_input/fight_5.mp4: 384x640 2 Fighters, 17.7ms\n",
      "video 1/1 (frame 1850/3810) /home/hatsu/coding/CapProj/TestSeg_1/video_input/fight_5.mp4: 384x640 2 Fighters, 25.6ms\n",
      "video 1/1 (frame 1851/3810) /home/hatsu/coding/CapProj/TestSeg_1/video_input/fight_5.mp4: 384x640 2 Fighters, 13.1ms\n",
      "video 1/1 (frame 1852/3810) /home/hatsu/coding/CapProj/TestSeg_1/video_input/fight_5.mp4: 384x640 2 Fighters, 15.8ms\n",
      "video 1/1 (frame 1853/3810) /home/hatsu/coding/CapProj/TestSeg_1/video_input/fight_5.mp4: 384x640 2 Fighters, 15.1ms\n",
      "video 1/1 (frame 1854/3810) /home/hatsu/coding/CapProj/TestSeg_1/video_input/fight_5.mp4: 384x640 1 Fighter, 14.7ms\n",
      "video 1/1 (frame 1855/3810) /home/hatsu/coding/CapProj/TestSeg_1/video_input/fight_5.mp4: 384x640 1 Fighter, 14.1ms\n",
      "video 1/1 (frame 1856/3810) /home/hatsu/coding/CapProj/TestSeg_1/video_input/fight_5.mp4: 384x640 1 Fighter, 14.8ms\n",
      "video 1/1 (frame 1857/3810) /home/hatsu/coding/CapProj/TestSeg_1/video_input/fight_5.mp4: 384x640 1 Fighter, 14.2ms\n",
      "video 1/1 (frame 1858/3810) /home/hatsu/coding/CapProj/TestSeg_1/video_input/fight_5.mp4: 384x640 1 Fighter, 21.5ms\n",
      "video 1/1 (frame 1859/3810) /home/hatsu/coding/CapProj/TestSeg_1/video_input/fight_5.mp4: 384x640 1 Fighter, 15.9ms\n",
      "video 1/1 (frame 1860/3810) /home/hatsu/coding/CapProj/TestSeg_1/video_input/fight_5.mp4: 384x640 2 Fighters, 18.8ms\n",
      "video 1/1 (frame 1861/3810) /home/hatsu/coding/CapProj/TestSeg_1/video_input/fight_5.mp4: 384x640 2 Fighters, 14.4ms\n",
      "video 1/1 (frame 1862/3810) /home/hatsu/coding/CapProj/TestSeg_1/video_input/fight_5.mp4: 384x640 2 Fighters, 34.8ms\n",
      "video 1/1 (frame 1863/3810) /home/hatsu/coding/CapProj/TestSeg_1/video_input/fight_5.mp4: 384x640 1 Fighter, 19.6ms\n",
      "video 1/1 (frame 1864/3810) /home/hatsu/coding/CapProj/TestSeg_1/video_input/fight_5.mp4: 384x640 1 Fighter, 19.8ms\n",
      "video 1/1 (frame 1865/3810) /home/hatsu/coding/CapProj/TestSeg_1/video_input/fight_5.mp4: 384x640 2 Fighters, 18.8ms\n",
      "video 1/1 (frame 1866/3810) /home/hatsu/coding/CapProj/TestSeg_1/video_input/fight_5.mp4: 384x640 2 Fighters, 33.2ms\n",
      "video 1/1 (frame 1867/3810) /home/hatsu/coding/CapProj/TestSeg_1/video_input/fight_5.mp4: 384x640 2 Fighters, 17.0ms\n",
      "video 1/1 (frame 1868/3810) /home/hatsu/coding/CapProj/TestSeg_1/video_input/fight_5.mp4: 384x640 2 Fighters, 21.4ms\n",
      "video 1/1 (frame 1869/3810) /home/hatsu/coding/CapProj/TestSeg_1/video_input/fight_5.mp4: 384x640 2 Fighters, 18.2ms\n",
      "video 1/1 (frame 1870/3810) /home/hatsu/coding/CapProj/TestSeg_1/video_input/fight_5.mp4: 384x640 2 Fighters, 12.7ms\n",
      "video 1/1 (frame 1871/3810) /home/hatsu/coding/CapProj/TestSeg_1/video_input/fight_5.mp4: 384x640 2 Fighters, 14.6ms\n",
      "video 1/1 (frame 1872/3810) /home/hatsu/coding/CapProj/TestSeg_1/video_input/fight_5.mp4: 384x640 2 Fighters, 14.0ms\n",
      "video 1/1 (frame 1873/3810) /home/hatsu/coding/CapProj/TestSeg_1/video_input/fight_5.mp4: 384x640 2 Fighters, 14.9ms\n",
      "video 1/1 (frame 1874/3810) /home/hatsu/coding/CapProj/TestSeg_1/video_input/fight_5.mp4: 384x640 2 Fighters, 15.3ms\n",
      "video 1/1 (frame 1875/3810) /home/hatsu/coding/CapProj/TestSeg_1/video_input/fight_5.mp4: 384x640 2 Fighters, 22.7ms\n",
      "video 1/1 (frame 1876/3810) /home/hatsu/coding/CapProj/TestSeg_1/video_input/fight_5.mp4: 384x640 2 Fighters, 13.3ms\n",
      "video 1/1 (frame 1877/3810) /home/hatsu/coding/CapProj/TestSeg_1/video_input/fight_5.mp4: 384x640 2 Fighters, 15.3ms\n",
      "video 1/1 (frame 1878/3810) /home/hatsu/coding/CapProj/TestSeg_1/video_input/fight_5.mp4: 384x640 2 Fighters, 13.1ms\n",
      "video 1/1 (frame 1879/3810) /home/hatsu/coding/CapProj/TestSeg_1/video_input/fight_5.mp4: 384x640 2 Fighters, 14.5ms\n",
      "video 1/1 (frame 1880/3810) /home/hatsu/coding/CapProj/TestSeg_1/video_input/fight_5.mp4: 384x640 2 Fighters, 14.7ms\n",
      "video 1/1 (frame 1881/3810) /home/hatsu/coding/CapProj/TestSeg_1/video_input/fight_5.mp4: 384x640 2 Fighters, 13.6ms\n",
      "video 1/1 (frame 1882/3810) /home/hatsu/coding/CapProj/TestSeg_1/video_input/fight_5.mp4: 384x640 2 Fighters, 14.1ms\n",
      "video 1/1 (frame 1883/3810) /home/hatsu/coding/CapProj/TestSeg_1/video_input/fight_5.mp4: 384x640 2 Fighters, 15.7ms\n",
      "video 1/1 (frame 1884/3810) /home/hatsu/coding/CapProj/TestSeg_1/video_input/fight_5.mp4: 384x640 2 Fighters, 20.4ms\n",
      "video 1/1 (frame 1885/3810) /home/hatsu/coding/CapProj/TestSeg_1/video_input/fight_5.mp4: 384x640 2 Fighters, 12.8ms\n",
      "video 1/1 (frame 1886/3810) /home/hatsu/coding/CapProj/TestSeg_1/video_input/fight_5.mp4: 384x640 2 Fighters, 14.0ms\n",
      "video 1/1 (frame 1887/3810) /home/hatsu/coding/CapProj/TestSeg_1/video_input/fight_5.mp4: 384x640 2 Fighters, 19.7ms\n",
      "video 1/1 (frame 1888/3810) /home/hatsu/coding/CapProj/TestSeg_1/video_input/fight_5.mp4: 384x640 2 Fighters, 12.8ms\n",
      "video 1/1 (frame 1889/3810) /home/hatsu/coding/CapProj/TestSeg_1/video_input/fight_5.mp4: 384x640 2 Fighters, 14.0ms\n",
      "video 1/1 (frame 1890/3810) /home/hatsu/coding/CapProj/TestSeg_1/video_input/fight_5.mp4: 384x640 1 Fighter, 14.6ms\n",
      "video 1/1 (frame 1891/3810) /home/hatsu/coding/CapProj/TestSeg_1/video_input/fight_5.mp4: 384x640 2 Fighters, 13.9ms\n",
      "video 1/1 (frame 1892/3810) /home/hatsu/coding/CapProj/TestSeg_1/video_input/fight_5.mp4: 384x640 2 Fighters, 20.8ms\n",
      "video 1/1 (frame 1893/3810) /home/hatsu/coding/CapProj/TestSeg_1/video_input/fight_5.mp4: 384x640 2 Fighters, 12.7ms\n",
      "video 1/1 (frame 1894/3810) /home/hatsu/coding/CapProj/TestSeg_1/video_input/fight_5.mp4: 384x640 2 Fighters, 13.5ms\n",
      "video 1/1 (frame 1895/3810) /home/hatsu/coding/CapProj/TestSeg_1/video_input/fight_5.mp4: 384x640 2 Fighters, 15.4ms\n",
      "video 1/1 (frame 1896/3810) /home/hatsu/coding/CapProj/TestSeg_1/video_input/fight_5.mp4: 384x640 2 Fighters, 12.6ms\n",
      "video 1/1 (frame 1897/3810) /home/hatsu/coding/CapProj/TestSeg_1/video_input/fight_5.mp4: 384x640 2 Fighters, 12.6ms\n",
      "video 1/1 (frame 1898/3810) /home/hatsu/coding/CapProj/TestSeg_1/video_input/fight_5.mp4: 384x640 2 Fighters, 31.1ms\n",
      "video 1/1 (frame 1899/3810) /home/hatsu/coding/CapProj/TestSeg_1/video_input/fight_5.mp4: 384x640 2 Fighters, 14.0ms\n",
      "video 1/1 (frame 1900/3810) /home/hatsu/coding/CapProj/TestSeg_1/video_input/fight_5.mp4: 384x640 2 Fighters, 20.7ms\n",
      "video 1/1 (frame 1901/3810) /home/hatsu/coding/CapProj/TestSeg_1/video_input/fight_5.mp4: 384x640 2 Fighters, 18.4ms\n",
      "video 1/1 (frame 1902/3810) /home/hatsu/coding/CapProj/TestSeg_1/video_input/fight_5.mp4: 384x640 2 Fighters, 20.0ms\n",
      "video 1/1 (frame 1903/3810) /home/hatsu/coding/CapProj/TestSeg_1/video_input/fight_5.mp4: 384x640 2 Fighters, 18.7ms\n",
      "video 1/1 (frame 1904/3810) /home/hatsu/coding/CapProj/TestSeg_1/video_input/fight_5.mp4: 384x640 2 Fighters, 20.7ms\n",
      "video 1/1 (frame 1905/3810) /home/hatsu/coding/CapProj/TestSeg_1/video_input/fight_5.mp4: 384x640 2 Fighters, 20.4ms\n",
      "video 1/1 (frame 1906/3810) /home/hatsu/coding/CapProj/TestSeg_1/video_input/fight_5.mp4: 384x640 2 Fighters, 16.7ms\n",
      "video 1/1 (frame 1907/3810) /home/hatsu/coding/CapProj/TestSeg_1/video_input/fight_5.mp4: 384x640 2 Fighters, 15.3ms\n",
      "video 1/1 (frame 1908/3810) /home/hatsu/coding/CapProj/TestSeg_1/video_input/fight_5.mp4: 384x640 2 Fighters, 17.6ms\n",
      "video 1/1 (frame 1909/3810) /home/hatsu/coding/CapProj/TestSeg_1/video_input/fight_5.mp4: 384x640 2 Fighters, 21.2ms\n",
      "video 1/1 (frame 1910/3810) /home/hatsu/coding/CapProj/TestSeg_1/video_input/fight_5.mp4: 384x640 2 Fighters, 18.5ms\n",
      "video 1/1 (frame 1911/3810) /home/hatsu/coding/CapProj/TestSeg_1/video_input/fight_5.mp4: 384x640 2 Fighters, 13.7ms\n",
      "video 1/1 (frame 1912/3810) /home/hatsu/coding/CapProj/TestSeg_1/video_input/fight_5.mp4: 384x640 2 Fighters, 14.2ms\n",
      "video 1/1 (frame 1913/3810) /home/hatsu/coding/CapProj/TestSeg_1/video_input/fight_5.mp4: 384x640 2 Fighters, 12.9ms\n",
      "video 1/1 (frame 1914/3810) /home/hatsu/coding/CapProj/TestSeg_1/video_input/fight_5.mp4: 384x640 1 Fighter, 15.8ms\n",
      "video 1/1 (frame 1915/3810) /home/hatsu/coding/CapProj/TestSeg_1/video_input/fight_5.mp4: 384x640 1 Fighter, 16.2ms\n",
      "video 1/1 (frame 1916/3810) /home/hatsu/coding/CapProj/TestSeg_1/video_input/fight_5.mp4: 384x640 1 Fighter, 14.5ms\n",
      "video 1/1 (frame 1917/3810) /home/hatsu/coding/CapProj/TestSeg_1/video_input/fight_5.mp4: 384x640 1 Fighter, 20.4ms\n",
      "video 1/1 (frame 1918/3810) /home/hatsu/coding/CapProj/TestSeg_1/video_input/fight_5.mp4: 384x640 1 Fighter, 13.6ms\n",
      "video 1/1 (frame 1919/3810) /home/hatsu/coding/CapProj/TestSeg_1/video_input/fight_5.mp4: 384x640 1 Fighter, 17.2ms\n",
      "video 1/1 (frame 1920/3810) /home/hatsu/coding/CapProj/TestSeg_1/video_input/fight_5.mp4: 384x640 1 Fighter, 13.8ms\n",
      "video 1/1 (frame 1921/3810) /home/hatsu/coding/CapProj/TestSeg_1/video_input/fight_5.mp4: 384x640 1 Fighter, 13.9ms\n",
      "video 1/1 (frame 1922/3810) /home/hatsu/coding/CapProj/TestSeg_1/video_input/fight_5.mp4: 384x640 1 Fighter, 14.5ms\n",
      "video 1/1 (frame 1923/3810) /home/hatsu/coding/CapProj/TestSeg_1/video_input/fight_5.mp4: 384x640 1 Fighter, 14.1ms\n",
      "video 1/1 (frame 1924/3810) /home/hatsu/coding/CapProj/TestSeg_1/video_input/fight_5.mp4: 384x640 1 Fighter, 17.6ms\n",
      "video 1/1 (frame 1925/3810) /home/hatsu/coding/CapProj/TestSeg_1/video_input/fight_5.mp4: 384x640 1 Fighter, 15.9ms\n",
      "video 1/1 (frame 1926/3810) /home/hatsu/coding/CapProj/TestSeg_1/video_input/fight_5.mp4: 384x640 1 Fighter, 22.4ms\n",
      "video 1/1 (frame 1927/3810) /home/hatsu/coding/CapProj/TestSeg_1/video_input/fight_5.mp4: 384x640 1 Fighter, 14.8ms\n",
      "video 1/1 (frame 1928/3810) /home/hatsu/coding/CapProj/TestSeg_1/video_input/fight_5.mp4: 384x640 1 Fighter, 13.7ms\n",
      "video 1/1 (frame 1929/3810) /home/hatsu/coding/CapProj/TestSeg_1/video_input/fight_5.mp4: 384x640 2 Fighters, 29.6ms\n",
      "video 1/1 (frame 1930/3810) /home/hatsu/coding/CapProj/TestSeg_1/video_input/fight_5.mp4: 384x640 2 Fighters, 14.3ms\n",
      "video 1/1 (frame 1931/3810) /home/hatsu/coding/CapProj/TestSeg_1/video_input/fight_5.mp4: 384x640 2 Fighters, 14.6ms\n",
      "video 1/1 (frame 1932/3810) /home/hatsu/coding/CapProj/TestSeg_1/video_input/fight_5.mp4: 384x640 2 Fighters, 14.9ms\n",
      "video 1/1 (frame 1933/3810) /home/hatsu/coding/CapProj/TestSeg_1/video_input/fight_5.mp4: 384x640 1 Fighter, 14.5ms\n",
      "video 1/1 (frame 1934/3810) /home/hatsu/coding/CapProj/TestSeg_1/video_input/fight_5.mp4: 384x640 1 Fighter, 13.6ms\n",
      "video 1/1 (frame 1935/3810) /home/hatsu/coding/CapProj/TestSeg_1/video_input/fight_5.mp4: 384x640 1 Fighter, 18.7ms\n",
      "video 1/1 (frame 1936/3810) /home/hatsu/coding/CapProj/TestSeg_1/video_input/fight_5.mp4: 384x640 1 Fighter, 15.1ms\n",
      "video 1/1 (frame 1937/3810) /home/hatsu/coding/CapProj/TestSeg_1/video_input/fight_5.mp4: 384x640 1 Fighter, 15.0ms\n",
      "video 1/1 (frame 1938/3810) /home/hatsu/coding/CapProj/TestSeg_1/video_input/fight_5.mp4: 384x640 1 Fighter, 15.9ms\n",
      "video 1/1 (frame 1939/3810) /home/hatsu/coding/CapProj/TestSeg_1/video_input/fight_5.mp4: 384x640 1 Fighter, 13.5ms\n",
      "video 1/1 (frame 1940/3810) /home/hatsu/coding/CapProj/TestSeg_1/video_input/fight_5.mp4: 384x640 1 Fighter, 15.1ms\n",
      "video 1/1 (frame 1941/3810) /home/hatsu/coding/CapProj/TestSeg_1/video_input/fight_5.mp4: 384x640 1 Fighter, 17.7ms\n",
      "video 1/1 (frame 1942/3810) /home/hatsu/coding/CapProj/TestSeg_1/video_input/fight_5.mp4: 384x640 1 Fighter, 14.4ms\n",
      "video 1/1 (frame 1943/3810) /home/hatsu/coding/CapProj/TestSeg_1/video_input/fight_5.mp4: 384x640 1 Fighter, 17.2ms\n",
      "video 1/1 (frame 1944/3810) /home/hatsu/coding/CapProj/TestSeg_1/video_input/fight_5.mp4: 384x640 1 Fighter, 21.1ms\n",
      "video 1/1 (frame 1945/3810) /home/hatsu/coding/CapProj/TestSeg_1/video_input/fight_5.mp4: 384x640 1 Fighter, 14.5ms\n",
      "video 1/1 (frame 1946/3810) /home/hatsu/coding/CapProj/TestSeg_1/video_input/fight_5.mp4: 384x640 1 Fighter, 14.9ms\n",
      "video 1/1 (frame 1947/3810) /home/hatsu/coding/CapProj/TestSeg_1/video_input/fight_5.mp4: 384x640 1 Fighter, 14.7ms\n",
      "video 1/1 (frame 1948/3810) /home/hatsu/coding/CapProj/TestSeg_1/video_input/fight_5.mp4: 384x640 1 Fighter, 15.3ms\n",
      "video 1/1 (frame 1949/3810) /home/hatsu/coding/CapProj/TestSeg_1/video_input/fight_5.mp4: 384x640 1 Fighter, 15.2ms\n",
      "video 1/1 (frame 1950/3810) /home/hatsu/coding/CapProj/TestSeg_1/video_input/fight_5.mp4: 384x640 1 Fighter, 13.7ms\n",
      "video 1/1 (frame 1951/3810) /home/hatsu/coding/CapProj/TestSeg_1/video_input/fight_5.mp4: 384x640 1 Fighter, 14.6ms\n",
      "video 1/1 (frame 1952/3810) /home/hatsu/coding/CapProj/TestSeg_1/video_input/fight_5.mp4: 384x640 1 Fighter, 21.6ms\n",
      "video 1/1 (frame 1953/3810) /home/hatsu/coding/CapProj/TestSeg_1/video_input/fight_5.mp4: 384x640 1 Fighter, 35.1ms\n",
      "video 1/1 (frame 1954/3810) /home/hatsu/coding/CapProj/TestSeg_1/video_input/fight_5.mp4: 384x640 1 Fighter, 15.4ms\n",
      "video 1/1 (frame 1955/3810) /home/hatsu/coding/CapProj/TestSeg_1/video_input/fight_5.mp4: 384x640 1 Fighter, 14.5ms\n",
      "video 1/1 (frame 1956/3810) /home/hatsu/coding/CapProj/TestSeg_1/video_input/fight_5.mp4: 384x640 1 Fighter, 17.2ms\n",
      "video 1/1 (frame 1957/3810) /home/hatsu/coding/CapProj/TestSeg_1/video_input/fight_5.mp4: 384x640 1 Fighter, 13.9ms\n",
      "video 1/1 (frame 1958/3810) /home/hatsu/coding/CapProj/TestSeg_1/video_input/fight_5.mp4: 384x640 1 Fighter, 35.7ms\n",
      "video 1/1 (frame 1959/3810) /home/hatsu/coding/CapProj/TestSeg_1/video_input/fight_5.mp4: 384x640 1 Fighter, 16.4ms\n",
      "video 1/1 (frame 1960/3810) /home/hatsu/coding/CapProj/TestSeg_1/video_input/fight_5.mp4: 384x640 1 Fighter, 21.4ms\n",
      "video 1/1 (frame 1961/3810) /home/hatsu/coding/CapProj/TestSeg_1/video_input/fight_5.mp4: 384x640 1 Fighter, 15.6ms\n",
      "video 1/1 (frame 1962/3810) /home/hatsu/coding/CapProj/TestSeg_1/video_input/fight_5.mp4: 384x640 1 Fighter, 19.3ms\n",
      "video 1/1 (frame 1963/3810) /home/hatsu/coding/CapProj/TestSeg_1/video_input/fight_5.mp4: 384x640 1 Fighter, 17.8ms\n",
      "video 1/1 (frame 1964/3810) /home/hatsu/coding/CapProj/TestSeg_1/video_input/fight_5.mp4: 384x640 1 Fighter, 20.6ms\n",
      "video 1/1 (frame 1965/3810) /home/hatsu/coding/CapProj/TestSeg_1/video_input/fight_5.mp4: 384x640 1 Fighter, 35.1ms\n",
      "video 1/1 (frame 1966/3810) /home/hatsu/coding/CapProj/TestSeg_1/video_input/fight_5.mp4: 384x640 1 Fighter, 20.0ms\n",
      "video 1/1 (frame 1967/3810) /home/hatsu/coding/CapProj/TestSeg_1/video_input/fight_5.mp4: 384x640 1 Fighter, 29.7ms\n",
      "video 1/1 (frame 1968/3810) /home/hatsu/coding/CapProj/TestSeg_1/video_input/fight_5.mp4: 384x640 1 Fighter, 26.6ms\n",
      "video 1/1 (frame 1969/3810) /home/hatsu/coding/CapProj/TestSeg_1/video_input/fight_5.mp4: 384x640 1 Fighter, 19.3ms\n",
      "video 1/1 (frame 1970/3810) /home/hatsu/coding/CapProj/TestSeg_1/video_input/fight_5.mp4: 384x640 1 Fighter, 14.4ms\n",
      "video 1/1 (frame 1971/3810) /home/hatsu/coding/CapProj/TestSeg_1/video_input/fight_5.mp4: 384x640 2 Fighters, 15.6ms\n",
      "video 1/1 (frame 1972/3810) /home/hatsu/coding/CapProj/TestSeg_1/video_input/fight_5.mp4: 384x640 2 Fighters, 15.5ms\n",
      "video 1/1 (frame 1973/3810) /home/hatsu/coding/CapProj/TestSeg_1/video_input/fight_5.mp4: 384x640 2 Fighters, 15.0ms\n",
      "video 1/1 (frame 1974/3810) /home/hatsu/coding/CapProj/TestSeg_1/video_input/fight_5.mp4: 384x640 2 Fighters, 14.2ms\n",
      "video 1/1 (frame 1975/3810) /home/hatsu/coding/CapProj/TestSeg_1/video_input/fight_5.mp4: 384x640 2 Fighters, 14.6ms\n",
      "video 1/1 (frame 1976/3810) /home/hatsu/coding/CapProj/TestSeg_1/video_input/fight_5.mp4: 384x640 2 Fighters, 13.9ms\n",
      "video 1/1 (frame 1977/3810) /home/hatsu/coding/CapProj/TestSeg_1/video_input/fight_5.mp4: 384x640 2 Fighters, 21.9ms\n",
      "video 1/1 (frame 1978/3810) /home/hatsu/coding/CapProj/TestSeg_1/video_input/fight_5.mp4: 384x640 2 Fighters, 14.4ms\n",
      "video 1/1 (frame 1979/3810) /home/hatsu/coding/CapProj/TestSeg_1/video_input/fight_5.mp4: 384x640 2 Fighters, 14.6ms\n",
      "video 1/1 (frame 1980/3810) /home/hatsu/coding/CapProj/TestSeg_1/video_input/fight_5.mp4: 384x640 2 Fighters, 14.6ms\n",
      "video 1/1 (frame 1981/3810) /home/hatsu/coding/CapProj/TestSeg_1/video_input/fight_5.mp4: 384x640 1 Fighter, 16.6ms\n",
      "video 1/1 (frame 1982/3810) /home/hatsu/coding/CapProj/TestSeg_1/video_input/fight_5.mp4: 384x640 1 Fighter, 16.9ms\n",
      "video 1/1 (frame 1983/3810) /home/hatsu/coding/CapProj/TestSeg_1/video_input/fight_5.mp4: 384x640 1 Fighter, 16.5ms\n",
      "video 1/1 (frame 1984/3810) /home/hatsu/coding/CapProj/TestSeg_1/video_input/fight_5.mp4: 384x640 1 Fighter, 14.3ms\n",
      "video 1/1 (frame 1985/3810) /home/hatsu/coding/CapProj/TestSeg_1/video_input/fight_5.mp4: 384x640 1 Fighter, 18.1ms\n",
      "video 1/1 (frame 1986/3810) /home/hatsu/coding/CapProj/TestSeg_1/video_input/fight_5.mp4: 384x640 1 Fighter, 14.9ms\n",
      "video 1/1 (frame 1987/3810) /home/hatsu/coding/CapProj/TestSeg_1/video_input/fight_5.mp4: 384x640 1 Fighter, 14.3ms\n",
      "video 1/1 (frame 1988/3810) /home/hatsu/coding/CapProj/TestSeg_1/video_input/fight_5.mp4: 384x640 1 Fighter, 14.6ms\n",
      "video 1/1 (frame 1989/3810) /home/hatsu/coding/CapProj/TestSeg_1/video_input/fight_5.mp4: 384x640 1 Fighter, 13.0ms\n",
      "video 1/1 (frame 1990/3810) /home/hatsu/coding/CapProj/TestSeg_1/video_input/fight_5.mp4: 384x640 1 Fighter, 16.2ms\n",
      "video 1/1 (frame 1991/3810) /home/hatsu/coding/CapProj/TestSeg_1/video_input/fight_5.mp4: 384x640 1 Fighter, 14.1ms\n",
      "video 1/1 (frame 1992/3810) /home/hatsu/coding/CapProj/TestSeg_1/video_input/fight_5.mp4: 384x640 1 Fighter, 13.9ms\n",
      "video 1/1 (frame 1993/3810) /home/hatsu/coding/CapProj/TestSeg_1/video_input/fight_5.mp4: 384x640 1 Fighter, 23.7ms\n",
      "video 1/1 (frame 1994/3810) /home/hatsu/coding/CapProj/TestSeg_1/video_input/fight_5.mp4: 384x640 1 Fighter, 14.3ms\n",
      "video 1/1 (frame 1995/3810) /home/hatsu/coding/CapProj/TestSeg_1/video_input/fight_5.mp4: 384x640 1 Fighter, 13.9ms\n",
      "video 1/1 (frame 1996/3810) /home/hatsu/coding/CapProj/TestSeg_1/video_input/fight_5.mp4: 384x640 1 Fighter, 31.5ms\n",
      "video 1/1 (frame 1997/3810) /home/hatsu/coding/CapProj/TestSeg_1/video_input/fight_5.mp4: 384x640 1 Fighter, 14.6ms\n",
      "video 1/1 (frame 1998/3810) /home/hatsu/coding/CapProj/TestSeg_1/video_input/fight_5.mp4: 384x640 1 Fighter, 13.7ms\n",
      "video 1/1 (frame 1999/3810) /home/hatsu/coding/CapProj/TestSeg_1/video_input/fight_5.mp4: 384x640 1 Fighter, 14.1ms\n",
      "video 1/1 (frame 2000/3810) /home/hatsu/coding/CapProj/TestSeg_1/video_input/fight_5.mp4: 384x640 1 Fighter, 14.4ms\n",
      "video 1/1 (frame 2001/3810) /home/hatsu/coding/CapProj/TestSeg_1/video_input/fight_5.mp4: 384x640 1 Fighter, 23.3ms\n",
      "video 1/1 (frame 2002/3810) /home/hatsu/coding/CapProj/TestSeg_1/video_input/fight_5.mp4: 384x640 1 Fighter, 19.8ms\n",
      "video 1/1 (frame 2003/3810) /home/hatsu/coding/CapProj/TestSeg_1/video_input/fight_5.mp4: 384x640 1 Fighter, 20.3ms\n",
      "video 1/1 (frame 2004/3810) /home/hatsu/coding/CapProj/TestSeg_1/video_input/fight_5.mp4: 384x640 1 Fighter, 33.5ms\n",
      "video 1/1 (frame 2005/3810) /home/hatsu/coding/CapProj/TestSeg_1/video_input/fight_5.mp4: 384x640 1 Fighter, 28.7ms\n",
      "video 1/1 (frame 2006/3810) /home/hatsu/coding/CapProj/TestSeg_1/video_input/fight_5.mp4: 384x640 1 Fighter, 20.7ms\n",
      "video 1/1 (frame 2007/3810) /home/hatsu/coding/CapProj/TestSeg_1/video_input/fight_5.mp4: 384x640 1 Fighter, 19.4ms\n",
      "video 1/1 (frame 2008/3810) /home/hatsu/coding/CapProj/TestSeg_1/video_input/fight_5.mp4: 384x640 1 Fighter, 18.8ms\n",
      "video 1/1 (frame 2009/3810) /home/hatsu/coding/CapProj/TestSeg_1/video_input/fight_5.mp4: 384x640 1 Fighter, 23.9ms\n",
      "video 1/1 (frame 2010/3810) /home/hatsu/coding/CapProj/TestSeg_1/video_input/fight_5.mp4: 384x640 1 Fighter, 16.6ms\n",
      "video 1/1 (frame 2011/3810) /home/hatsu/coding/CapProj/TestSeg_1/video_input/fight_5.mp4: 384x640 1 Fighter, 18.4ms\n",
      "video 1/1 (frame 2012/3810) /home/hatsu/coding/CapProj/TestSeg_1/video_input/fight_5.mp4: 384x640 1 Fighter, 14.1ms\n",
      "video 1/1 (frame 2013/3810) /home/hatsu/coding/CapProj/TestSeg_1/video_input/fight_5.mp4: 384x640 1 Fighter, 13.9ms\n",
      "video 1/1 (frame 2014/3810) /home/hatsu/coding/CapProj/TestSeg_1/video_input/fight_5.mp4: 384x640 1 Fighter, 15.0ms\n",
      "video 1/1 (frame 2015/3810) /home/hatsu/coding/CapProj/TestSeg_1/video_input/fight_5.mp4: 384x640 1 Fighter, 31.5ms\n",
      "video 1/1 (frame 2016/3810) /home/hatsu/coding/CapProj/TestSeg_1/video_input/fight_5.mp4: 384x640 1 Fighter, 14.3ms\n",
      "video 1/1 (frame 2017/3810) /home/hatsu/coding/CapProj/TestSeg_1/video_input/fight_5.mp4: 384x640 1 Fighter, 19.0ms\n",
      "video 1/1 (frame 2018/3810) /home/hatsu/coding/CapProj/TestSeg_1/video_input/fight_5.mp4: 384x640 1 Fighter, 13.2ms\n",
      "video 1/1 (frame 2019/3810) /home/hatsu/coding/CapProj/TestSeg_1/video_input/fight_5.mp4: 384x640 1 Fighter, 27.9ms\n",
      "video 1/1 (frame 2020/3810) /home/hatsu/coding/CapProj/TestSeg_1/video_input/fight_5.mp4: 384x640 1 Fighter, 14.3ms\n",
      "video 1/1 (frame 2021/3810) /home/hatsu/coding/CapProj/TestSeg_1/video_input/fight_5.mp4: 384x640 1 Fighter, 16.7ms\n",
      "video 1/1 (frame 2022/3810) /home/hatsu/coding/CapProj/TestSeg_1/video_input/fight_5.mp4: 384x640 1 Fighter, 13.4ms\n",
      "video 1/1 (frame 2023/3810) /home/hatsu/coding/CapProj/TestSeg_1/video_input/fight_5.mp4: 384x640 1 Fighter, 14.2ms\n",
      "video 1/1 (frame 2024/3810) /home/hatsu/coding/CapProj/TestSeg_1/video_input/fight_5.mp4: 384x640 1 Fighter, 16.3ms\n",
      "video 1/1 (frame 2025/3810) /home/hatsu/coding/CapProj/TestSeg_1/video_input/fight_5.mp4: 384x640 1 Fighter, 18.6ms\n",
      "video 1/1 (frame 2026/3810) /home/hatsu/coding/CapProj/TestSeg_1/video_input/fight_5.mp4: 384x640 1 Fighter, 13.0ms\n",
      "video 1/1 (frame 2027/3810) /home/hatsu/coding/CapProj/TestSeg_1/video_input/fight_5.mp4: 384x640 1 Fighter, 15.4ms\n",
      "video 1/1 (frame 2028/3810) /home/hatsu/coding/CapProj/TestSeg_1/video_input/fight_5.mp4: 384x640 1 Fighter, 14.3ms\n",
      "video 1/1 (frame 2029/3810) /home/hatsu/coding/CapProj/TestSeg_1/video_input/fight_5.mp4: 384x640 1 Fighter, 12.2ms\n",
      "video 1/1 (frame 2030/3810) /home/hatsu/coding/CapProj/TestSeg_1/video_input/fight_5.mp4: 384x640 1 Fighter, 15.1ms\n",
      "video 1/1 (frame 2031/3810) /home/hatsu/coding/CapProj/TestSeg_1/video_input/fight_5.mp4: 384x640 1 Fighter, 17.1ms\n",
      "video 1/1 (frame 2032/3810) /home/hatsu/coding/CapProj/TestSeg_1/video_input/fight_5.mp4: 384x640 1 Fighter, 35.6ms\n",
      "video 1/1 (frame 2033/3810) /home/hatsu/coding/CapProj/TestSeg_1/video_input/fight_5.mp4: 384x640 1 Fighter, 17.3ms\n",
      "video 1/1 (frame 2034/3810) /home/hatsu/coding/CapProj/TestSeg_1/video_input/fight_5.mp4: 384x640 2 Fighters, 21.1ms\n",
      "video 1/1 (frame 2035/3810) /home/hatsu/coding/CapProj/TestSeg_1/video_input/fight_5.mp4: 384x640 2 Fighters, 13.5ms\n",
      "video 1/1 (frame 2036/3810) /home/hatsu/coding/CapProj/TestSeg_1/video_input/fight_5.mp4: 384x640 2 Fighters, 18.7ms\n",
      "video 1/1 (frame 2037/3810) /home/hatsu/coding/CapProj/TestSeg_1/video_input/fight_5.mp4: 384x640 2 Fighters, 13.8ms\n",
      "video 1/1 (frame 2038/3810) /home/hatsu/coding/CapProj/TestSeg_1/video_input/fight_5.mp4: 384x640 2 Fighters, 15.1ms\n",
      "video 1/1 (frame 2039/3810) /home/hatsu/coding/CapProj/TestSeg_1/video_input/fight_5.mp4: 384x640 2 Fighters, 15.9ms\n",
      "video 1/1 (frame 2040/3810) /home/hatsu/coding/CapProj/TestSeg_1/video_input/fight_5.mp4: 384x640 2 Fighters, 15.8ms\n",
      "video 1/1 (frame 2041/3810) /home/hatsu/coding/CapProj/TestSeg_1/video_input/fight_5.mp4: 384x640 2 Fighters, 15.6ms\n",
      "video 1/1 (frame 2042/3810) /home/hatsu/coding/CapProj/TestSeg_1/video_input/fight_5.mp4: 384x640 2 Fighters, 20.2ms\n",
      "video 1/1 (frame 2043/3810) /home/hatsu/coding/CapProj/TestSeg_1/video_input/fight_5.mp4: 384x640 2 Fighters, 18.0ms\n",
      "video 1/1 (frame 2044/3810) /home/hatsu/coding/CapProj/TestSeg_1/video_input/fight_5.mp4: 384x640 2 Fighters, 19.3ms\n",
      "video 1/1 (frame 2045/3810) /home/hatsu/coding/CapProj/TestSeg_1/video_input/fight_5.mp4: 384x640 2 Fighters, 21.6ms\n",
      "video 1/1 (frame 2046/3810) /home/hatsu/coding/CapProj/TestSeg_1/video_input/fight_5.mp4: 384x640 2 Fighters, 19.0ms\n",
      "video 1/1 (frame 2047/3810) /home/hatsu/coding/CapProj/TestSeg_1/video_input/fight_5.mp4: 384x640 2 Fighters, 18.7ms\n",
      "video 1/1 (frame 2048/3810) /home/hatsu/coding/CapProj/TestSeg_1/video_input/fight_5.mp4: 384x640 2 Fighters, 15.1ms\n",
      "video 1/1 (frame 2049/3810) /home/hatsu/coding/CapProj/TestSeg_1/video_input/fight_5.mp4: 384x640 2 Fighters, 12.7ms\n",
      "video 1/1 (frame 2050/3810) /home/hatsu/coding/CapProj/TestSeg_1/video_input/fight_5.mp4: 384x640 2 Fighters, 21.8ms\n",
      "video 1/1 (frame 2051/3810) /home/hatsu/coding/CapProj/TestSeg_1/video_input/fight_5.mp4: 384x640 2 Fighters, 14.5ms\n",
      "video 1/1 (frame 2052/3810) /home/hatsu/coding/CapProj/TestSeg_1/video_input/fight_5.mp4: 384x640 2 Fighters, 16.5ms\n",
      "video 1/1 (frame 2053/3810) /home/hatsu/coding/CapProj/TestSeg_1/video_input/fight_5.mp4: 384x640 2 Fighters, 18.2ms\n",
      "video 1/1 (frame 2054/3810) /home/hatsu/coding/CapProj/TestSeg_1/video_input/fight_5.mp4: 384x640 2 Fighters, 14.7ms\n",
      "video 1/1 (frame 2055/3810) /home/hatsu/coding/CapProj/TestSeg_1/video_input/fight_5.mp4: 384x640 1 Fighter, 14.6ms\n",
      "video 1/1 (frame 2056/3810) /home/hatsu/coding/CapProj/TestSeg_1/video_input/fight_5.mp4: 384x640 1 Fighter, 17.0ms\n",
      "video 1/1 (frame 2057/3810) /home/hatsu/coding/CapProj/TestSeg_1/video_input/fight_5.mp4: 384x640 1 Fighter, 14.4ms\n",
      "video 1/1 (frame 2058/3810) /home/hatsu/coding/CapProj/TestSeg_1/video_input/fight_5.mp4: 384x640 1 Fighter, 22.2ms\n",
      "video 1/1 (frame 2059/3810) /home/hatsu/coding/CapProj/TestSeg_1/video_input/fight_5.mp4: 384x640 1 Fighter, 16.6ms\n",
      "video 1/1 (frame 2060/3810) /home/hatsu/coding/CapProj/TestSeg_1/video_input/fight_5.mp4: 384x640 1 Fighter, 14.6ms\n",
      "video 1/1 (frame 2061/3810) /home/hatsu/coding/CapProj/TestSeg_1/video_input/fight_5.mp4: 384x640 1 Fighter, 14.1ms\n",
      "video 1/1 (frame 2062/3810) /home/hatsu/coding/CapProj/TestSeg_1/video_input/fight_5.mp4: 384x640 1 Fighter, 16.1ms\n",
      "video 1/1 (frame 2063/3810) /home/hatsu/coding/CapProj/TestSeg_1/video_input/fight_5.mp4: 384x640 1 Fighter, 14.8ms\n",
      "video 1/1 (frame 2064/3810) /home/hatsu/coding/CapProj/TestSeg_1/video_input/fight_5.mp4: 384x640 1 Fighter, 15.2ms\n",
      "video 1/1 (frame 2065/3810) /home/hatsu/coding/CapProj/TestSeg_1/video_input/fight_5.mp4: 384x640 1 Fighter, 13.7ms\n",
      "video 1/1 (frame 2066/3810) /home/hatsu/coding/CapProj/TestSeg_1/video_input/fight_5.mp4: 384x640 1 Fighter, 24.1ms\n",
      "video 1/1 (frame 2067/3810) /home/hatsu/coding/CapProj/TestSeg_1/video_input/fight_5.mp4: 384x640 1 Fighter, 16.1ms\n",
      "video 1/1 (frame 2068/3810) /home/hatsu/coding/CapProj/TestSeg_1/video_input/fight_5.mp4: 384x640 1 Fighter, 14.4ms\n",
      "video 1/1 (frame 2069/3810) /home/hatsu/coding/CapProj/TestSeg_1/video_input/fight_5.mp4: 384x640 1 Fighter, 15.0ms\n",
      "video 1/1 (frame 2070/3810) /home/hatsu/coding/CapProj/TestSeg_1/video_input/fight_5.mp4: 384x640 1 Fighter, 20.6ms\n",
      "video 1/1 (frame 2071/3810) /home/hatsu/coding/CapProj/TestSeg_1/video_input/fight_5.mp4: 384x640 1 Fighter, 20.8ms\n",
      "video 1/1 (frame 2072/3810) /home/hatsu/coding/CapProj/TestSeg_1/video_input/fight_5.mp4: 384x640 1 Fighter, 26.9ms\n",
      "video 1/1 (frame 2073/3810) /home/hatsu/coding/CapProj/TestSeg_1/video_input/fight_5.mp4: 384x640 1 Fighter, 18.6ms\n",
      "video 1/1 (frame 2074/3810) /home/hatsu/coding/CapProj/TestSeg_1/video_input/fight_5.mp4: 384x640 1 Fighter, 23.5ms\n",
      "video 1/1 (frame 2075/3810) /home/hatsu/coding/CapProj/TestSeg_1/video_input/fight_5.mp4: 384x640 1 Fighter, 19.6ms\n",
      "video 1/1 (frame 2076/3810) /home/hatsu/coding/CapProj/TestSeg_1/video_input/fight_5.mp4: 384x640 1 Fighter, 18.9ms\n",
      "video 1/1 (frame 2077/3810) /home/hatsu/coding/CapProj/TestSeg_1/video_input/fight_5.mp4: 384x640 (no detections), 18.8ms\n",
      "video 1/1 (frame 2078/3810) /home/hatsu/coding/CapProj/TestSeg_1/video_input/fight_5.mp4: 384x640 (no detections), 19.4ms\n",
      "video 1/1 (frame 2079/3810) /home/hatsu/coding/CapProj/TestSeg_1/video_input/fight_5.mp4: 384x640 1 Fighter, 15.7ms\n",
      "video 1/1 (frame 2080/3810) /home/hatsu/coding/CapProj/TestSeg_1/video_input/fight_5.mp4: 384x640 1 Fighter, 28.6ms\n",
      "video 1/1 (frame 2081/3810) /home/hatsu/coding/CapProj/TestSeg_1/video_input/fight_5.mp4: 384x640 1 Fighter, 17.4ms\n",
      "video 1/1 (frame 2082/3810) /home/hatsu/coding/CapProj/TestSeg_1/video_input/fight_5.mp4: 384x640 1 Fighter, 15.7ms\n",
      "video 1/1 (frame 2083/3810) /home/hatsu/coding/CapProj/TestSeg_1/video_input/fight_5.mp4: 384x640 1 Fighter, 12.9ms\n",
      "video 1/1 (frame 2084/3810) /home/hatsu/coding/CapProj/TestSeg_1/video_input/fight_5.mp4: 384x640 1 Fighter, 13.8ms\n",
      "video 1/1 (frame 2085/3810) /home/hatsu/coding/CapProj/TestSeg_1/video_input/fight_5.mp4: 384x640 1 Fighter, 16.6ms\n",
      "video 1/1 (frame 2086/3810) /home/hatsu/coding/CapProj/TestSeg_1/video_input/fight_5.mp4: 384x640 1 Fighter, 14.6ms\n",
      "video 1/1 (frame 2087/3810) /home/hatsu/coding/CapProj/TestSeg_1/video_input/fight_5.mp4: 384x640 1 Fighter, 35.1ms\n",
      "video 1/1 (frame 2088/3810) /home/hatsu/coding/CapProj/TestSeg_1/video_input/fight_5.mp4: 384x640 1 Fighter, 13.4ms\n",
      "video 1/1 (frame 2089/3810) /home/hatsu/coding/CapProj/TestSeg_1/video_input/fight_5.mp4: 384x640 1 Fighter, 35.8ms\n",
      "video 1/1 (frame 2090/3810) /home/hatsu/coding/CapProj/TestSeg_1/video_input/fight_5.mp4: 384x640 1 Fighter, 15.2ms\n",
      "video 1/1 (frame 2091/3810) /home/hatsu/coding/CapProj/TestSeg_1/video_input/fight_5.mp4: 384x640 1 Fighter, 13.9ms\n",
      "video 1/1 (frame 2092/3810) /home/hatsu/coding/CapProj/TestSeg_1/video_input/fight_5.mp4: 384x640 1 Fighter, 15.0ms\n",
      "video 1/1 (frame 2093/3810) /home/hatsu/coding/CapProj/TestSeg_1/video_input/fight_5.mp4: 384x640 1 Fighter, 14.5ms\n",
      "video 1/1 (frame 2094/3810) /home/hatsu/coding/CapProj/TestSeg_1/video_input/fight_5.mp4: 384x640 1 Fighter, 16.1ms\n",
      "video 1/1 (frame 2095/3810) /home/hatsu/coding/CapProj/TestSeg_1/video_input/fight_5.mp4: 384x640 1 Fighter, 15.5ms\n",
      "video 1/1 (frame 2096/3810) /home/hatsu/coding/CapProj/TestSeg_1/video_input/fight_5.mp4: 384x640 1 Fighter, 20.8ms\n",
      "video 1/1 (frame 2097/3810) /home/hatsu/coding/CapProj/TestSeg_1/video_input/fight_5.mp4: 384x640 1 Fighter, 15.3ms\n",
      "video 1/1 (frame 2098/3810) /home/hatsu/coding/CapProj/TestSeg_1/video_input/fight_5.mp4: 384x640 1 Fighter, 15.8ms\n",
      "video 1/1 (frame 2099/3810) /home/hatsu/coding/CapProj/TestSeg_1/video_input/fight_5.mp4: 384x640 1 Fighter, 14.8ms\n",
      "video 1/1 (frame 2100/3810) /home/hatsu/coding/CapProj/TestSeg_1/video_input/fight_5.mp4: 384x640 1 Fighter, 15.3ms\n",
      "video 1/1 (frame 2101/3810) /home/hatsu/coding/CapProj/TestSeg_1/video_input/fight_5.mp4: 384x640 1 Fighter, 13.7ms\n",
      "video 1/1 (frame 2102/3810) /home/hatsu/coding/CapProj/TestSeg_1/video_input/fight_5.mp4: 384x640 1 Fighter, 16.0ms\n",
      "video 1/1 (frame 2103/3810) /home/hatsu/coding/CapProj/TestSeg_1/video_input/fight_5.mp4: 384x640 1 Fighter, 12.9ms\n",
      "video 1/1 (frame 2104/3810) /home/hatsu/coding/CapProj/TestSeg_1/video_input/fight_5.mp4: 384x640 1 Fighter, 23.7ms\n",
      "video 1/1 (frame 2105/3810) /home/hatsu/coding/CapProj/TestSeg_1/video_input/fight_5.mp4: 384x640 1 Fighter, 14.9ms\n",
      "video 1/1 (frame 2106/3810) /home/hatsu/coding/CapProj/TestSeg_1/video_input/fight_5.mp4: 384x640 1 Fighter, 12.7ms\n",
      "video 1/1 (frame 2107/3810) /home/hatsu/coding/CapProj/TestSeg_1/video_input/fight_5.mp4: 384x640 1 Fighter, 14.9ms\n",
      "video 1/1 (frame 2108/3810) /home/hatsu/coding/CapProj/TestSeg_1/video_input/fight_5.mp4: 384x640 1 Fighter, 12.8ms\n",
      "video 1/1 (frame 2109/3810) /home/hatsu/coding/CapProj/TestSeg_1/video_input/fight_5.mp4: 384x640 1 Fighter, 13.7ms\n",
      "video 1/1 (frame 2110/3810) /home/hatsu/coding/CapProj/TestSeg_1/video_input/fight_5.mp4: 384x640 1 Fighter, 19.2ms\n",
      "video 1/1 (frame 2111/3810) /home/hatsu/coding/CapProj/TestSeg_1/video_input/fight_5.mp4: 384x640 1 Fighter, 20.7ms\n",
      "video 1/1 (frame 2112/3810) /home/hatsu/coding/CapProj/TestSeg_1/video_input/fight_5.mp4: 384x640 1 Fighter, 20.5ms\n",
      "video 1/1 (frame 2113/3810) /home/hatsu/coding/CapProj/TestSeg_1/video_input/fight_5.mp4: 384x640 1 Fighter, 23.9ms\n",
      "video 1/1 (frame 2114/3810) /home/hatsu/coding/CapProj/TestSeg_1/video_input/fight_5.mp4: 384x640 2 Fighters, 21.0ms\n",
      "video 1/1 (frame 2115/3810) /home/hatsu/coding/CapProj/TestSeg_1/video_input/fight_5.mp4: 384x640 2 Fighters, 18.1ms\n",
      "video 1/1 (frame 2116/3810) /home/hatsu/coding/CapProj/TestSeg_1/video_input/fight_5.mp4: 384x640 2 Fighters, 12.7ms\n",
      "video 1/1 (frame 2117/3810) /home/hatsu/coding/CapProj/TestSeg_1/video_input/fight_5.mp4: 384x640 2 Fighters, 17.0ms\n",
      "video 1/1 (frame 2118/3810) /home/hatsu/coding/CapProj/TestSeg_1/video_input/fight_5.mp4: 384x640 2 Fighters, 14.3ms\n",
      "video 1/1 (frame 2119/3810) /home/hatsu/coding/CapProj/TestSeg_1/video_input/fight_5.mp4: 384x640 2 Fighters, 12.8ms\n",
      "video 1/1 (frame 2120/3810) /home/hatsu/coding/CapProj/TestSeg_1/video_input/fight_5.mp4: 384x640 2 Fighters, 29.4ms\n",
      "video 1/1 (frame 2121/3810) /home/hatsu/coding/CapProj/TestSeg_1/video_input/fight_5.mp4: 384x640 2 Fighters, 14.4ms\n",
      "video 1/1 (frame 2122/3810) /home/hatsu/coding/CapProj/TestSeg_1/video_input/fight_5.mp4: 384x640 2 Fighters, 14.4ms\n",
      "video 1/1 (frame 2123/3810) /home/hatsu/coding/CapProj/TestSeg_1/video_input/fight_5.mp4: 384x640 2 Fighters, 14.6ms\n",
      "video 1/1 (frame 2124/3810) /home/hatsu/coding/CapProj/TestSeg_1/video_input/fight_5.mp4: 384x640 2 Fighters, 14.7ms\n",
      "video 1/1 (frame 2125/3810) /home/hatsu/coding/CapProj/TestSeg_1/video_input/fight_5.mp4: 384x640 2 Fighters, 14.5ms\n",
      "video 1/1 (frame 2126/3810) /home/hatsu/coding/CapProj/TestSeg_1/video_input/fight_5.mp4: 384x640 2 Fighters, 12.6ms\n",
      "video 1/1 (frame 2127/3810) /home/hatsu/coding/CapProj/TestSeg_1/video_input/fight_5.mp4: 384x640 2 Fighters, 23.7ms\n",
      "video 1/1 (frame 2128/3810) /home/hatsu/coding/CapProj/TestSeg_1/video_input/fight_5.mp4: 384x640 2 Fighters, 14.5ms\n",
      "video 1/1 (frame 2129/3810) /home/hatsu/coding/CapProj/TestSeg_1/video_input/fight_5.mp4: 384x640 2 Fighters, 39.4ms\n",
      "video 1/1 (frame 2130/3810) /home/hatsu/coding/CapProj/TestSeg_1/video_input/fight_5.mp4: 384x640 2 Fighters, 17.6ms\n",
      "video 1/1 (frame 2131/3810) /home/hatsu/coding/CapProj/TestSeg_1/video_input/fight_5.mp4: 384x640 2 Fighters, 17.5ms\n",
      "video 1/1 (frame 2132/3810) /home/hatsu/coding/CapProj/TestSeg_1/video_input/fight_5.mp4: 384x640 2 Fighters, 16.0ms\n",
      "video 1/1 (frame 2133/3810) /home/hatsu/coding/CapProj/TestSeg_1/video_input/fight_5.mp4: 384x640 2 Fighters, 15.9ms\n",
      "video 1/1 (frame 2134/3810) /home/hatsu/coding/CapProj/TestSeg_1/video_input/fight_5.mp4: 384x640 2 Fighters, 12.8ms\n",
      "video 1/1 (frame 2135/3810) /home/hatsu/coding/CapProj/TestSeg_1/video_input/fight_5.mp4: 384x640 2 Fighters, 20.7ms\n",
      "video 1/1 (frame 2136/3810) /home/hatsu/coding/CapProj/TestSeg_1/video_input/fight_5.mp4: 384x640 3 Fighters, 12.7ms\n",
      "video 1/1 (frame 2137/3810) /home/hatsu/coding/CapProj/TestSeg_1/video_input/fight_5.mp4: 384x640 2 Fighters, 14.4ms\n",
      "video 1/1 (frame 2138/3810) /home/hatsu/coding/CapProj/TestSeg_1/video_input/fight_5.mp4: 384x640 2 Fighters, 15.4ms\n",
      "video 1/1 (frame 2139/3810) /home/hatsu/coding/CapProj/TestSeg_1/video_input/fight_5.mp4: 384x640 2 Fighters, 15.0ms\n",
      "video 1/1 (frame 2140/3810) /home/hatsu/coding/CapProj/TestSeg_1/video_input/fight_5.mp4: 384x640 2 Fighters, 17.4ms\n",
      "video 1/1 (frame 2141/3810) /home/hatsu/coding/CapProj/TestSeg_1/video_input/fight_5.mp4: 384x640 2 Fighters, 15.1ms\n",
      "video 1/1 (frame 2142/3810) /home/hatsu/coding/CapProj/TestSeg_1/video_input/fight_5.mp4: 384x640 2 Fighters, 14.6ms\n",
      "video 1/1 (frame 2143/3810) /home/hatsu/coding/CapProj/TestSeg_1/video_input/fight_5.mp4: 384x640 2 Fighters, 20.8ms\n",
      "video 1/1 (frame 2144/3810) /home/hatsu/coding/CapProj/TestSeg_1/video_input/fight_5.mp4: 384x640 2 Fighters, 14.6ms\n",
      "video 1/1 (frame 2145/3810) /home/hatsu/coding/CapProj/TestSeg_1/video_input/fight_5.mp4: 384x640 2 Fighters, 15.3ms\n",
      "video 1/1 (frame 2146/3810) /home/hatsu/coding/CapProj/TestSeg_1/video_input/fight_5.mp4: 384x640 2 Fighters, 14.7ms\n",
      "video 1/1 (frame 2147/3810) /home/hatsu/coding/CapProj/TestSeg_1/video_input/fight_5.mp4: 384x640 2 Fighters, 13.7ms\n",
      "video 1/1 (frame 2148/3810) /home/hatsu/coding/CapProj/TestSeg_1/video_input/fight_5.mp4: 384x640 2 Fighters, 14.2ms\n",
      "video 1/1 (frame 2149/3810) /home/hatsu/coding/CapProj/TestSeg_1/video_input/fight_5.mp4: 384x640 2 Fighters, 18.8ms\n",
      "video 1/1 (frame 2150/3810) /home/hatsu/coding/CapProj/TestSeg_1/video_input/fight_5.mp4: 384x640 2 Fighters, 20.8ms\n",
      "video 1/1 (frame 2151/3810) /home/hatsu/coding/CapProj/TestSeg_1/video_input/fight_5.mp4: 384x640 2 Fighters, 14.4ms\n",
      "video 1/1 (frame 2152/3810) /home/hatsu/coding/CapProj/TestSeg_1/video_input/fight_5.mp4: 384x640 2 Fighters, 17.5ms\n",
      "video 1/1 (frame 2153/3810) /home/hatsu/coding/CapProj/TestSeg_1/video_input/fight_5.mp4: 384x640 2 Fighters, 13.7ms\n",
      "video 1/1 (frame 2154/3810) /home/hatsu/coding/CapProj/TestSeg_1/video_input/fight_5.mp4: 384x640 2 Fighters, 14.3ms\n",
      "video 1/1 (frame 2155/3810) /home/hatsu/coding/CapProj/TestSeg_1/video_input/fight_5.mp4: 384x640 2 Fighters, 25.6ms\n",
      "video 1/1 (frame 2156/3810) /home/hatsu/coding/CapProj/TestSeg_1/video_input/fight_5.mp4: 384x640 2 Fighters, 16.5ms\n",
      "video 1/1 (frame 2157/3810) /home/hatsu/coding/CapProj/TestSeg_1/video_input/fight_5.mp4: 384x640 2 Fighters, 18.7ms\n",
      "video 1/1 (frame 2158/3810) /home/hatsu/coding/CapProj/TestSeg_1/video_input/fight_5.mp4: 384x640 2 Fighters, 15.4ms\n",
      "video 1/1 (frame 2159/3810) /home/hatsu/coding/CapProj/TestSeg_1/video_input/fight_5.mp4: 384x640 1 Fighter, 16.1ms\n",
      "video 1/1 (frame 2160/3810) /home/hatsu/coding/CapProj/TestSeg_1/video_input/fight_5.mp4: 384x640 1 Fighter, 15.2ms\n",
      "video 1/1 (frame 2161/3810) /home/hatsu/coding/CapProj/TestSeg_1/video_input/fight_5.mp4: 384x640 1 Fighter, 15.1ms\n",
      "video 1/1 (frame 2162/3810) /home/hatsu/coding/CapProj/TestSeg_1/video_input/fight_5.mp4: 384x640 1 Fighter, 13.1ms\n",
      "video 1/1 (frame 2163/3810) /home/hatsu/coding/CapProj/TestSeg_1/video_input/fight_5.mp4: 384x640 1 Fighter, 14.6ms\n",
      "video 1/1 (frame 2164/3810) /home/hatsu/coding/CapProj/TestSeg_1/video_input/fight_5.mp4: 384x640 1 Fighter, 20.9ms\n",
      "video 1/1 (frame 2165/3810) /home/hatsu/coding/CapProj/TestSeg_1/video_input/fight_5.mp4: 384x640 1 Fighter, 15.1ms\n",
      "video 1/1 (frame 2166/3810) /home/hatsu/coding/CapProj/TestSeg_1/video_input/fight_5.mp4: 384x640 1 Fighter, 14.9ms\n",
      "video 1/1 (frame 2167/3810) /home/hatsu/coding/CapProj/TestSeg_1/video_input/fight_5.mp4: 384x640 1 Fighter, 16.6ms\n",
      "video 1/1 (frame 2168/3810) /home/hatsu/coding/CapProj/TestSeg_1/video_input/fight_5.mp4: 384x640 1 Fighter, 14.1ms\n",
      "video 1/1 (frame 2169/3810) /home/hatsu/coding/CapProj/TestSeg_1/video_input/fight_5.mp4: 384x640 1 Fighter, 13.5ms\n",
      "video 1/1 (frame 2170/3810) /home/hatsu/coding/CapProj/TestSeg_1/video_input/fight_5.mp4: 384x640 1 Fighter, 14.8ms\n",
      "video 1/1 (frame 2171/3810) /home/hatsu/coding/CapProj/TestSeg_1/video_input/fight_5.mp4: 384x640 1 Fighter, 15.0ms\n",
      "video 1/1 (frame 2172/3810) /home/hatsu/coding/CapProj/TestSeg_1/video_input/fight_5.mp4: 384x640 1 Fighter, 37.7ms\n",
      "video 1/1 (frame 2173/3810) /home/hatsu/coding/CapProj/TestSeg_1/video_input/fight_5.mp4: 384x640 1 Fighter, 15.3ms\n",
      "video 1/1 (frame 2174/3810) /home/hatsu/coding/CapProj/TestSeg_1/video_input/fight_5.mp4: 384x640 1 Fighter, 15.4ms\n",
      "video 1/1 (frame 2175/3810) /home/hatsu/coding/CapProj/TestSeg_1/video_input/fight_5.mp4: 384x640 1 Fighter, 14.4ms\n",
      "video 1/1 (frame 2176/3810) /home/hatsu/coding/CapProj/TestSeg_1/video_input/fight_5.mp4: 384x640 1 Fighter, 34.5ms\n",
      "video 1/1 (frame 2177/3810) /home/hatsu/coding/CapProj/TestSeg_1/video_input/fight_5.mp4: 384x640 1 Fighter, 15.0ms\n",
      "video 1/1 (frame 2178/3810) /home/hatsu/coding/CapProj/TestSeg_1/video_input/fight_5.mp4: 384x640 1 Fighter, 15.3ms\n",
      "video 1/1 (frame 2179/3810) /home/hatsu/coding/CapProj/TestSeg_1/video_input/fight_5.mp4: 384x640 2 Fighters, 17.4ms\n",
      "video 1/1 (frame 2180/3810) /home/hatsu/coding/CapProj/TestSeg_1/video_input/fight_5.mp4: 384x640 2 Fighters, 14.1ms\n",
      "video 1/1 (frame 2181/3810) /home/hatsu/coding/CapProj/TestSeg_1/video_input/fight_5.mp4: 384x640 2 Fighters, 13.0ms\n",
      "video 1/1 (frame 2182/3810) /home/hatsu/coding/CapProj/TestSeg_1/video_input/fight_5.mp4: 384x640 2 Fighters, 21.0ms\n",
      "video 1/1 (frame 2183/3810) /home/hatsu/coding/CapProj/TestSeg_1/video_input/fight_5.mp4: 384x640 1 Fighter, 22.4ms\n",
      "video 1/1 (frame 2184/3810) /home/hatsu/coding/CapProj/TestSeg_1/video_input/fight_5.mp4: 384x640 2 Fighters, 19.7ms\n",
      "video 1/1 (frame 2185/3810) /home/hatsu/coding/CapProj/TestSeg_1/video_input/fight_5.mp4: 384x640 1 Fighter, 18.6ms\n",
      "video 1/1 (frame 2186/3810) /home/hatsu/coding/CapProj/TestSeg_1/video_input/fight_5.mp4: 384x640 2 Fighters, 23.0ms\n",
      "video 1/1 (frame 2187/3810) /home/hatsu/coding/CapProj/TestSeg_1/video_input/fight_5.mp4: 384x640 2 Fighters, 14.5ms\n",
      "video 1/1 (frame 2188/3810) /home/hatsu/coding/CapProj/TestSeg_1/video_input/fight_5.mp4: 384x640 2 Fighters, 14.0ms\n",
      "video 1/1 (frame 2189/3810) /home/hatsu/coding/CapProj/TestSeg_1/video_input/fight_5.mp4: 384x640 3 Fighters, 14.5ms\n",
      "video 1/1 (frame 2190/3810) /home/hatsu/coding/CapProj/TestSeg_1/video_input/fight_5.mp4: 384x640 3 Fighters, 14.4ms\n",
      "video 1/1 (frame 2191/3810) /home/hatsu/coding/CapProj/TestSeg_1/video_input/fight_5.mp4: 384x640 3 Fighters, 22.4ms\n",
      "video 1/1 (frame 2192/3810) /home/hatsu/coding/CapProj/TestSeg_1/video_input/fight_5.mp4: 384x640 3 Fighters, 13.9ms\n",
      "video 1/1 (frame 2193/3810) /home/hatsu/coding/CapProj/TestSeg_1/video_input/fight_5.mp4: 384x640 3 Fighters, 18.5ms\n",
      "video 1/1 (frame 2194/3810) /home/hatsu/coding/CapProj/TestSeg_1/video_input/fight_5.mp4: 384x640 3 Fighters, 15.7ms\n",
      "video 1/1 (frame 2195/3810) /home/hatsu/coding/CapProj/TestSeg_1/video_input/fight_5.mp4: 384x640 3 Fighters, 14.3ms\n",
      "video 1/1 (frame 2196/3810) /home/hatsu/coding/CapProj/TestSeg_1/video_input/fight_5.mp4: 384x640 3 Fighters, 13.4ms\n",
      "video 1/1 (frame 2197/3810) /home/hatsu/coding/CapProj/TestSeg_1/video_input/fight_5.mp4: 384x640 3 Fighters, 13.6ms\n",
      "video 1/1 (frame 2198/3810) /home/hatsu/coding/CapProj/TestSeg_1/video_input/fight_5.mp4: 384x640 3 Fighters, 14.9ms\n",
      "video 1/1 (frame 2199/3810) /home/hatsu/coding/CapProj/TestSeg_1/video_input/fight_5.mp4: 384x640 3 Fighters, 15.2ms\n",
      "video 1/1 (frame 2200/3810) /home/hatsu/coding/CapProj/TestSeg_1/video_input/fight_5.mp4: 384x640 3 Fighters, 19.9ms\n",
      "video 1/1 (frame 2201/3810) /home/hatsu/coding/CapProj/TestSeg_1/video_input/fight_5.mp4: 384x640 3 Fighters, 14.2ms\n",
      "video 1/1 (frame 2202/3810) /home/hatsu/coding/CapProj/TestSeg_1/video_input/fight_5.mp4: 384x640 2 Fighters, 16.5ms\n",
      "video 1/1 (frame 2203/3810) /home/hatsu/coding/CapProj/TestSeg_1/video_input/fight_5.mp4: 384x640 3 Fighters, 14.5ms\n",
      "video 1/1 (frame 2204/3810) /home/hatsu/coding/CapProj/TestSeg_1/video_input/fight_5.mp4: 384x640 3 Fighters, 15.8ms\n",
      "video 1/1 (frame 2205/3810) /home/hatsu/coding/CapProj/TestSeg_1/video_input/fight_5.mp4: 384x640 3 Fighters, 14.3ms\n",
      "video 1/1 (frame 2206/3810) /home/hatsu/coding/CapProj/TestSeg_1/video_input/fight_5.mp4: 384x640 3 Fighters, 15.2ms\n",
      "video 1/1 (frame 2207/3810) /home/hatsu/coding/CapProj/TestSeg_1/video_input/fight_5.mp4: 384x640 3 Fighters, 20.2ms\n",
      "video 1/1 (frame 2208/3810) /home/hatsu/coding/CapProj/TestSeg_1/video_input/fight_5.mp4: 384x640 3 Fighters, 14.1ms\n",
      "video 1/1 (frame 2209/3810) /home/hatsu/coding/CapProj/TestSeg_1/video_input/fight_5.mp4: 384x640 3 Fighters, 15.1ms\n",
      "video 1/1 (frame 2210/3810) /home/hatsu/coding/CapProj/TestSeg_1/video_input/fight_5.mp4: 384x640 3 Fighters, 14.2ms\n",
      "video 1/1 (frame 2211/3810) /home/hatsu/coding/CapProj/TestSeg_1/video_input/fight_5.mp4: 384x640 3 Fighters, 14.0ms\n",
      "video 1/1 (frame 2212/3810) /home/hatsu/coding/CapProj/TestSeg_1/video_input/fight_5.mp4: 384x640 3 Fighters, 35.3ms\n",
      "video 1/1 (frame 2213/3810) /home/hatsu/coding/CapProj/TestSeg_1/video_input/fight_5.mp4: 384x640 3 Fighters, 14.5ms\n",
      "video 1/1 (frame 2214/3810) /home/hatsu/coding/CapProj/TestSeg_1/video_input/fight_5.mp4: 384x640 2 Fighters, 20.1ms\n",
      "video 1/1 (frame 2215/3810) /home/hatsu/coding/CapProj/TestSeg_1/video_input/fight_5.mp4: 384x640 2 Fighters, 14.5ms\n",
      "video 1/1 (frame 2216/3810) /home/hatsu/coding/CapProj/TestSeg_1/video_input/fight_5.mp4: 384x640 2 Fighters, 14.4ms\n",
      "video 1/1 (frame 2217/3810) /home/hatsu/coding/CapProj/TestSeg_1/video_input/fight_5.mp4: 384x640 2 Fighters, 15.4ms\n",
      "video 1/1 (frame 2218/3810) /home/hatsu/coding/CapProj/TestSeg_1/video_input/fight_5.mp4: 384x640 2 Fighters, 15.5ms\n",
      "video 1/1 (frame 2219/3810) /home/hatsu/coding/CapProj/TestSeg_1/video_input/fight_5.mp4: 384x640 2 Fighters, 15.0ms\n",
      "video 1/1 (frame 2220/3810) /home/hatsu/coding/CapProj/TestSeg_1/video_input/fight_5.mp4: 384x640 2 Fighters, 14.9ms\n",
      "video 1/1 (frame 2221/3810) /home/hatsu/coding/CapProj/TestSeg_1/video_input/fight_5.mp4: 384x640 2 Fighters, 14.5ms\n",
      "video 1/1 (frame 2222/3810) /home/hatsu/coding/CapProj/TestSeg_1/video_input/fight_5.mp4: 384x640 2 Fighters, 18.9ms\n",
      "video 1/1 (frame 2223/3810) /home/hatsu/coding/CapProj/TestSeg_1/video_input/fight_5.mp4: 384x640 2 Fighters, 12.8ms\n",
      "video 1/1 (frame 2224/3810) /home/hatsu/coding/CapProj/TestSeg_1/video_input/fight_5.mp4: 384x640 2 Fighters, 16.4ms\n",
      "video 1/1 (frame 2225/3810) /home/hatsu/coding/CapProj/TestSeg_1/video_input/fight_5.mp4: 384x640 2 Fighters, 13.4ms\n",
      "video 1/1 (frame 2226/3810) /home/hatsu/coding/CapProj/TestSeg_1/video_input/fight_5.mp4: 384x640 2 Fighters, 21.8ms\n",
      "video 1/1 (frame 2227/3810) /home/hatsu/coding/CapProj/TestSeg_1/video_input/fight_5.mp4: 384x640 2 Fighters, 15.6ms\n",
      "video 1/1 (frame 2228/3810) /home/hatsu/coding/CapProj/TestSeg_1/video_input/fight_5.mp4: 384x640 2 Fighters, 17.0ms\n",
      "video 1/1 (frame 2229/3810) /home/hatsu/coding/CapProj/TestSeg_1/video_input/fight_5.mp4: 384x640 2 Fighters, 15.1ms\n",
      "video 1/1 (frame 2230/3810) /home/hatsu/coding/CapProj/TestSeg_1/video_input/fight_5.mp4: 384x640 2 Fighters, 22.1ms\n",
      "video 1/1 (frame 2231/3810) /home/hatsu/coding/CapProj/TestSeg_1/video_input/fight_5.mp4: 384x640 2 Fighters, 15.0ms\n",
      "video 1/1 (frame 2232/3810) /home/hatsu/coding/CapProj/TestSeg_1/video_input/fight_5.mp4: 384x640 2 Fighters, 14.6ms\n",
      "video 1/1 (frame 2233/3810) /home/hatsu/coding/CapProj/TestSeg_1/video_input/fight_5.mp4: 384x640 2 Fighters, 17.4ms\n",
      "video 1/1 (frame 2234/3810) /home/hatsu/coding/CapProj/TestSeg_1/video_input/fight_5.mp4: 384x640 2 Fighters, 14.8ms\n",
      "video 1/1 (frame 2235/3810) /home/hatsu/coding/CapProj/TestSeg_1/video_input/fight_5.mp4: 384x640 2 Fighters, 15.4ms\n",
      "video 1/1 (frame 2236/3810) /home/hatsu/coding/CapProj/TestSeg_1/video_input/fight_5.mp4: 384x640 2 Fighters, 15.6ms\n",
      "video 1/1 (frame 2237/3810) /home/hatsu/coding/CapProj/TestSeg_1/video_input/fight_5.mp4: 384x640 2 Fighters, 14.8ms\n",
      "video 1/1 (frame 2238/3810) /home/hatsu/coding/CapProj/TestSeg_1/video_input/fight_5.mp4: 384x640 2 Fighters, 17.5ms\n",
      "video 1/1 (frame 2239/3810) /home/hatsu/coding/CapProj/TestSeg_1/video_input/fight_5.mp4: 384x640 2 Fighters, 13.7ms\n",
      "video 1/1 (frame 2240/3810) /home/hatsu/coding/CapProj/TestSeg_1/video_input/fight_5.mp4: 384x640 2 Fighters, 16.3ms\n",
      "video 1/1 (frame 2241/3810) /home/hatsu/coding/CapProj/TestSeg_1/video_input/fight_5.mp4: 384x640 2 Fighters, 14.8ms\n",
      "video 1/1 (frame 2242/3810) /home/hatsu/coding/CapProj/TestSeg_1/video_input/fight_5.mp4: 384x640 2 Fighters, 35.5ms\n",
      "video 1/1 (frame 2243/3810) /home/hatsu/coding/CapProj/TestSeg_1/video_input/fight_5.mp4: 384x640 2 Fighters, 14.8ms\n",
      "video 1/1 (frame 2244/3810) /home/hatsu/coding/CapProj/TestSeg_1/video_input/fight_5.mp4: 384x640 2 Fighters, 14.7ms\n",
      "video 1/1 (frame 2245/3810) /home/hatsu/coding/CapProj/TestSeg_1/video_input/fight_5.mp4: 384x640 2 Fighters, 20.6ms\n",
      "video 1/1 (frame 2246/3810) /home/hatsu/coding/CapProj/TestSeg_1/video_input/fight_5.mp4: 384x640 2 Fighters, 18.1ms\n",
      "video 1/1 (frame 2247/3810) /home/hatsu/coding/CapProj/TestSeg_1/video_input/fight_5.mp4: 384x640 2 Fighters, 15.3ms\n",
      "video 1/1 (frame 2248/3810) /home/hatsu/coding/CapProj/TestSeg_1/video_input/fight_5.mp4: 384x640 2 Fighters, 14.0ms\n",
      "video 1/1 (frame 2249/3810) /home/hatsu/coding/CapProj/TestSeg_1/video_input/fight_5.mp4: 384x640 2 Fighters, 14.6ms\n",
      "video 1/1 (frame 2250/3810) /home/hatsu/coding/CapProj/TestSeg_1/video_input/fight_5.mp4: 384x640 2 Fighters, 16.5ms\n",
      "video 1/1 (frame 2251/3810) /home/hatsu/coding/CapProj/TestSeg_1/video_input/fight_5.mp4: 384x640 2 Fighters, 14.6ms\n",
      "video 1/1 (frame 2252/3810) /home/hatsu/coding/CapProj/TestSeg_1/video_input/fight_5.mp4: 384x640 2 Fighters, 21.5ms\n",
      "video 1/1 (frame 2253/3810) /home/hatsu/coding/CapProj/TestSeg_1/video_input/fight_5.mp4: 384x640 1 Fighter, 14.7ms\n",
      "video 1/1 (frame 2254/3810) /home/hatsu/coding/CapProj/TestSeg_1/video_input/fight_5.mp4: 384x640 1 Fighter, 14.6ms\n",
      "video 1/1 (frame 2255/3810) /home/hatsu/coding/CapProj/TestSeg_1/video_input/fight_5.mp4: 384x640 1 Fighter, 15.2ms\n",
      "video 1/1 (frame 2256/3810) /home/hatsu/coding/CapProj/TestSeg_1/video_input/fight_5.mp4: 384x640 1 Fighter, 15.0ms\n",
      "video 1/1 (frame 2257/3810) /home/hatsu/coding/CapProj/TestSeg_1/video_input/fight_5.mp4: 384x640 1 Fighter, 16.4ms\n",
      "video 1/1 (frame 2258/3810) /home/hatsu/coding/CapProj/TestSeg_1/video_input/fight_5.mp4: 384x640 1 Fighter, 14.3ms\n",
      "video 1/1 (frame 2259/3810) /home/hatsu/coding/CapProj/TestSeg_1/video_input/fight_5.mp4: 384x640 1 Fighter, 37.1ms\n",
      "video 1/1 (frame 2260/3810) /home/hatsu/coding/CapProj/TestSeg_1/video_input/fight_5.mp4: 384x640 1 Fighter, 21.8ms\n",
      "video 1/1 (frame 2261/3810) /home/hatsu/coding/CapProj/TestSeg_1/video_input/fight_5.mp4: 384x640 1 Fighter, 15.9ms\n",
      "video 1/1 (frame 2262/3810) /home/hatsu/coding/CapProj/TestSeg_1/video_input/fight_5.mp4: 384x640 1 Fighter, 16.4ms\n",
      "video 1/1 (frame 2263/3810) /home/hatsu/coding/CapProj/TestSeg_1/video_input/fight_5.mp4: 384x640 1 Fighter, 23.5ms\n",
      "video 1/1 (frame 2264/3810) /home/hatsu/coding/CapProj/TestSeg_1/video_input/fight_5.mp4: 384x640 1 Fighter, 23.0ms\n",
      "video 1/1 (frame 2265/3810) /home/hatsu/coding/CapProj/TestSeg_1/video_input/fight_5.mp4: 384x640 1 Fighter, 22.8ms\n",
      "video 1/1 (frame 2266/3810) /home/hatsu/coding/CapProj/TestSeg_1/video_input/fight_5.mp4: 384x640 1 Fighter, 18.8ms\n",
      "video 1/1 (frame 2267/3810) /home/hatsu/coding/CapProj/TestSeg_1/video_input/fight_5.mp4: 384x640 1 Fighter, 25.0ms\n",
      "video 1/1 (frame 2268/3810) /home/hatsu/coding/CapProj/TestSeg_1/video_input/fight_5.mp4: 384x640 1 Fighter, 20.8ms\n",
      "video 1/1 (frame 2269/3810) /home/hatsu/coding/CapProj/TestSeg_1/video_input/fight_5.mp4: 384x640 1 Fighter, 19.6ms\n",
      "video 1/1 (frame 2270/3810) /home/hatsu/coding/CapProj/TestSeg_1/video_input/fight_5.mp4: 384x640 2 Fighters, 19.2ms\n",
      "video 1/1 (frame 2271/3810) /home/hatsu/coding/CapProj/TestSeg_1/video_input/fight_5.mp4: 384x640 1 Fighter, 20.2ms\n",
      "video 1/1 (frame 2272/3810) /home/hatsu/coding/CapProj/TestSeg_1/video_input/fight_5.mp4: 384x640 1 Fighter, 19.2ms\n",
      "video 1/1 (frame 2273/3810) /home/hatsu/coding/CapProj/TestSeg_1/video_input/fight_5.mp4: 384x640 1 Fighter, 18.5ms\n",
      "video 1/1 (frame 2274/3810) /home/hatsu/coding/CapProj/TestSeg_1/video_input/fight_5.mp4: 384x640 1 Fighter, 17.5ms\n",
      "video 1/1 (frame 2275/3810) /home/hatsu/coding/CapProj/TestSeg_1/video_input/fight_5.mp4: 384x640 1 Fighter, 14.6ms\n",
      "video 1/1 (frame 2276/3810) /home/hatsu/coding/CapProj/TestSeg_1/video_input/fight_5.mp4: 384x640 1 Fighter, 14.0ms\n",
      "video 1/1 (frame 2277/3810) /home/hatsu/coding/CapProj/TestSeg_1/video_input/fight_5.mp4: 384x640 2 Fighters, 14.5ms\n",
      "video 1/1 (frame 2278/3810) /home/hatsu/coding/CapProj/TestSeg_1/video_input/fight_5.mp4: 384x640 2 Fighters, 15.5ms\n",
      "video 1/1 (frame 2279/3810) /home/hatsu/coding/CapProj/TestSeg_1/video_input/fight_5.mp4: 384x640 2 Fighters, 14.1ms\n",
      "video 1/1 (frame 2280/3810) /home/hatsu/coding/CapProj/TestSeg_1/video_input/fight_5.mp4: 384x640 2 Fighters, 13.4ms\n",
      "video 1/1 (frame 2281/3810) /home/hatsu/coding/CapProj/TestSeg_1/video_input/fight_5.mp4: 384x640 2 Fighters, 22.2ms\n",
      "video 1/1 (frame 2282/3810) /home/hatsu/coding/CapProj/TestSeg_1/video_input/fight_5.mp4: 384x640 2 Fighters, 14.9ms\n",
      "video 1/1 (frame 2283/3810) /home/hatsu/coding/CapProj/TestSeg_1/video_input/fight_5.mp4: 384x640 2 Fighters, 15.2ms\n",
      "video 1/1 (frame 2284/3810) /home/hatsu/coding/CapProj/TestSeg_1/video_input/fight_5.mp4: 384x640 2 Fighters, 15.3ms\n",
      "video 1/1 (frame 2285/3810) /home/hatsu/coding/CapProj/TestSeg_1/video_input/fight_5.mp4: 384x640 2 Fighters, 13.4ms\n",
      "video 1/1 (frame 2286/3810) /home/hatsu/coding/CapProj/TestSeg_1/video_input/fight_5.mp4: 384x640 2 Fighters, 13.7ms\n",
      "video 1/1 (frame 2287/3810) /home/hatsu/coding/CapProj/TestSeg_1/video_input/fight_5.mp4: 384x640 2 Fighters, 14.4ms\n",
      "video 1/1 (frame 2288/3810) /home/hatsu/coding/CapProj/TestSeg_1/video_input/fight_5.mp4: 384x640 2 Fighters, 19.2ms\n",
      "video 1/1 (frame 2289/3810) /home/hatsu/coding/CapProj/TestSeg_1/video_input/fight_5.mp4: 384x640 2 Fighters, 13.3ms\n",
      "video 1/1 (frame 2290/3810) /home/hatsu/coding/CapProj/TestSeg_1/video_input/fight_5.mp4: 384x640 2 Fighters, 15.2ms\n",
      "video 1/1 (frame 2291/3810) /home/hatsu/coding/CapProj/TestSeg_1/video_input/fight_5.mp4: 384x640 2 Fighters, 42.8ms\n",
      "video 1/1 (frame 2292/3810) /home/hatsu/coding/CapProj/TestSeg_1/video_input/fight_5.mp4: 384x640 3 Fighters, 13.5ms\n",
      "video 1/1 (frame 2293/3810) /home/hatsu/coding/CapProj/TestSeg_1/video_input/fight_5.mp4: 384x640 3 Fighters, 14.7ms\n",
      "video 1/1 (frame 2294/3810) /home/hatsu/coding/CapProj/TestSeg_1/video_input/fight_5.mp4: 384x640 3 Fighters, 18.1ms\n",
      "video 1/1 (frame 2295/3810) /home/hatsu/coding/CapProj/TestSeg_1/video_input/fight_5.mp4: 384x640 3 Fighters, 14.9ms\n",
      "video 1/1 (frame 2296/3810) /home/hatsu/coding/CapProj/TestSeg_1/video_input/fight_5.mp4: 384x640 3 Fighters, 18.8ms\n",
      "video 1/1 (frame 2297/3810) /home/hatsu/coding/CapProj/TestSeg_1/video_input/fight_5.mp4: 384x640 3 Fighters, 17.0ms\n",
      "video 1/1 (frame 2298/3810) /home/hatsu/coding/CapProj/TestSeg_1/video_input/fight_5.mp4: 384x640 3 Fighters, 14.9ms\n",
      "video 1/1 (frame 2299/3810) /home/hatsu/coding/CapProj/TestSeg_1/video_input/fight_5.mp4: 384x640 2 Fighters, 14.3ms\n",
      "video 1/1 (frame 2300/3810) /home/hatsu/coding/CapProj/TestSeg_1/video_input/fight_5.mp4: 384x640 2 Fighters, 24.7ms\n",
      "video 1/1 (frame 2301/3810) /home/hatsu/coding/CapProj/TestSeg_1/video_input/fight_5.mp4: 384x640 2 Fighters, 15.5ms\n",
      "video 1/1 (frame 2302/3810) /home/hatsu/coding/CapProj/TestSeg_1/video_input/fight_5.mp4: 384x640 2 Fighters, 14.9ms\n",
      "video 1/1 (frame 2303/3810) /home/hatsu/coding/CapProj/TestSeg_1/video_input/fight_5.mp4: 384x640 2 Fighters, 35.3ms\n",
      "video 1/1 (frame 2304/3810) /home/hatsu/coding/CapProj/TestSeg_1/video_input/fight_5.mp4: 384x640 2 Fighters, 16.0ms\n",
      "video 1/1 (frame 2305/3810) /home/hatsu/coding/CapProj/TestSeg_1/video_input/fight_5.mp4: 384x640 2 Fighters, 13.4ms\n",
      "video 1/1 (frame 2306/3810) /home/hatsu/coding/CapProj/TestSeg_1/video_input/fight_5.mp4: 384x640 2 Fighters, 15.2ms\n",
      "video 1/1 (frame 2307/3810) /home/hatsu/coding/CapProj/TestSeg_1/video_input/fight_5.mp4: 384x640 2 Fighters, 13.2ms\n",
      "video 1/1 (frame 2308/3810) /home/hatsu/coding/CapProj/TestSeg_1/video_input/fight_5.mp4: 384x640 3 Fighters, 15.8ms\n",
      "video 1/1 (frame 2309/3810) /home/hatsu/coding/CapProj/TestSeg_1/video_input/fight_5.mp4: 384x640 2 Fighters, 14.1ms\n",
      "video 1/1 (frame 2310/3810) /home/hatsu/coding/CapProj/TestSeg_1/video_input/fight_5.mp4: 384x640 2 Fighters, 15.1ms\n",
      "video 1/1 (frame 2311/3810) /home/hatsu/coding/CapProj/TestSeg_1/video_input/fight_5.mp4: 384x640 2 Fighters, 19.3ms\n",
      "video 1/1 (frame 2312/3810) /home/hatsu/coding/CapProj/TestSeg_1/video_input/fight_5.mp4: 384x640 2 Fighters, 14.3ms\n",
      "video 1/1 (frame 2313/3810) /home/hatsu/coding/CapProj/TestSeg_1/video_input/fight_5.mp4: 384x640 1 Fighter, 16.1ms\n",
      "video 1/1 (frame 2314/3810) /home/hatsu/coding/CapProj/TestSeg_1/video_input/fight_5.mp4: 384x640 1 Fighter, 14.6ms\n",
      "video 1/1 (frame 2315/3810) /home/hatsu/coding/CapProj/TestSeg_1/video_input/fight_5.mp4: 384x640 1 Fighter, 15.7ms\n",
      "video 1/1 (frame 2316/3810) /home/hatsu/coding/CapProj/TestSeg_1/video_input/fight_5.mp4: 384x640 1 Fighter, 13.3ms\n",
      "video 1/1 (frame 2317/3810) /home/hatsu/coding/CapProj/TestSeg_1/video_input/fight_5.mp4: 384x640 1 Fighter, 43.6ms\n",
      "video 1/1 (frame 2318/3810) /home/hatsu/coding/CapProj/TestSeg_1/video_input/fight_5.mp4: 384x640 1 Fighter, 20.9ms\n",
      "video 1/1 (frame 2319/3810) /home/hatsu/coding/CapProj/TestSeg_1/video_input/fight_5.mp4: 384x640 1 Fighter, 14.1ms\n",
      "video 1/1 (frame 2320/3810) /home/hatsu/coding/CapProj/TestSeg_1/video_input/fight_5.mp4: 384x640 1 Fighter, 16.3ms\n",
      "video 1/1 (frame 2321/3810) /home/hatsu/coding/CapProj/TestSeg_1/video_input/fight_5.mp4: 384x640 1 Fighter, 15.2ms\n",
      "video 1/1 (frame 2322/3810) /home/hatsu/coding/CapProj/TestSeg_1/video_input/fight_5.mp4: 384x640 1 Fighter, 14.6ms\n",
      "video 1/1 (frame 2323/3810) /home/hatsu/coding/CapProj/TestSeg_1/video_input/fight_5.mp4: 384x640 2 Fighters, 14.3ms\n",
      "video 1/1 (frame 2324/3810) /home/hatsu/coding/CapProj/TestSeg_1/video_input/fight_5.mp4: 384x640 2 Fighters, 14.3ms\n",
      "video 1/1 (frame 2325/3810) /home/hatsu/coding/CapProj/TestSeg_1/video_input/fight_5.mp4: 384x640 2 Fighters, 16.1ms\n",
      "video 1/1 (frame 2326/3810) /home/hatsu/coding/CapProj/TestSeg_1/video_input/fight_5.mp4: 384x640 2 Fighters, 14.7ms\n",
      "video 1/1 (frame 2327/3810) /home/hatsu/coding/CapProj/TestSeg_1/video_input/fight_5.mp4: 384x640 2 Fighters, 16.7ms\n",
      "video 1/1 (frame 2328/3810) /home/hatsu/coding/CapProj/TestSeg_1/video_input/fight_5.mp4: 384x640 2 Fighters, 14.7ms\n",
      "video 1/1 (frame 2329/3810) /home/hatsu/coding/CapProj/TestSeg_1/video_input/fight_5.mp4: 384x640 2 Fighters, 15.3ms\n",
      "video 1/1 (frame 2330/3810) /home/hatsu/coding/CapProj/TestSeg_1/video_input/fight_5.mp4: 384x640 2 Fighters, 14.1ms\n",
      "video 1/1 (frame 2331/3810) /home/hatsu/coding/CapProj/TestSeg_1/video_input/fight_5.mp4: 384x640 3 Fighters, 14.0ms\n",
      "video 1/1 (frame 2332/3810) /home/hatsu/coding/CapProj/TestSeg_1/video_input/fight_5.mp4: 384x640 3 Fighters, 15.1ms\n",
      "video 1/1 (frame 2333/3810) /home/hatsu/coding/CapProj/TestSeg_1/video_input/fight_5.mp4: 384x640 3 Fighters, 20.7ms\n",
      "video 1/1 (frame 2334/3810) /home/hatsu/coding/CapProj/TestSeg_1/video_input/fight_5.mp4: 384x640 2 Fighters, 14.5ms\n",
      "video 1/1 (frame 2335/3810) /home/hatsu/coding/CapProj/TestSeg_1/video_input/fight_5.mp4: 384x640 3 Fighters, 15.2ms\n",
      "video 1/1 (frame 2336/3810) /home/hatsu/coding/CapProj/TestSeg_1/video_input/fight_5.mp4: 384x640 2 Fighters, 22.6ms\n",
      "video 1/1 (frame 2337/3810) /home/hatsu/coding/CapProj/TestSeg_1/video_input/fight_5.mp4: 384x640 2 Fighters, 14.0ms\n",
      "video 1/1 (frame 2338/3810) /home/hatsu/coding/CapProj/TestSeg_1/video_input/fight_5.mp4: 384x640 2 Fighters, 12.9ms\n",
      "video 1/1 (frame 2339/3810) /home/hatsu/coding/CapProj/TestSeg_1/video_input/fight_5.mp4: 384x640 2 Fighters, 15.2ms\n",
      "video 1/1 (frame 2340/3810) /home/hatsu/coding/CapProj/TestSeg_1/video_input/fight_5.mp4: 384x640 2 Fighters, 20.3ms\n",
      "video 1/1 (frame 2341/3810) /home/hatsu/coding/CapProj/TestSeg_1/video_input/fight_5.mp4: 384x640 2 Fighters, 15.8ms\n",
      "video 1/1 (frame 2342/3810) /home/hatsu/coding/CapProj/TestSeg_1/video_input/fight_5.mp4: 384x640 2 Fighters, 32.7ms\n",
      "video 1/1 (frame 2343/3810) /home/hatsu/coding/CapProj/TestSeg_1/video_input/fight_5.mp4: 384x640 3 Fighters, 13.6ms\n",
      "video 1/1 (frame 2344/3810) /home/hatsu/coding/CapProj/TestSeg_1/video_input/fight_5.mp4: 384x640 3 Fighters, 14.1ms\n",
      "video 1/1 (frame 2345/3810) /home/hatsu/coding/CapProj/TestSeg_1/video_input/fight_5.mp4: 384x640 2 Fighters, 13.6ms\n",
      "video 1/1 (frame 2346/3810) /home/hatsu/coding/CapProj/TestSeg_1/video_input/fight_5.mp4: 384x640 2 Fighters, 14.2ms\n",
      "video 1/1 (frame 2347/3810) /home/hatsu/coding/CapProj/TestSeg_1/video_input/fight_5.mp4: 384x640 2 Fighters, 15.1ms\n",
      "video 1/1 (frame 2348/3810) /home/hatsu/coding/CapProj/TestSeg_1/video_input/fight_5.mp4: 384x640 2 Fighters, 21.0ms\n",
      "video 1/1 (frame 2349/3810) /home/hatsu/coding/CapProj/TestSeg_1/video_input/fight_5.mp4: 384x640 1 Fighter, 14.8ms\n",
      "video 1/1 (frame 2350/3810) /home/hatsu/coding/CapProj/TestSeg_1/video_input/fight_5.mp4: 384x640 1 Fighter, 13.5ms\n",
      "video 1/1 (frame 2351/3810) /home/hatsu/coding/CapProj/TestSeg_1/video_input/fight_5.mp4: 384x640 1 Fighter, 17.0ms\n",
      "video 1/1 (frame 2352/3810) /home/hatsu/coding/CapProj/TestSeg_1/video_input/fight_5.mp4: 384x640 1 Fighter, 15.7ms\n",
      "video 1/1 (frame 2353/3810) /home/hatsu/coding/CapProj/TestSeg_1/video_input/fight_5.mp4: 384x640 1 Fighter, 26.9ms\n",
      "video 1/1 (frame 2354/3810) /home/hatsu/coding/CapProj/TestSeg_1/video_input/fight_5.mp4: 384x640 1 Fighter, 14.3ms\n",
      "video 1/1 (frame 2355/3810) /home/hatsu/coding/CapProj/TestSeg_1/video_input/fight_5.mp4: 384x640 1 Fighter, 21.5ms\n",
      "video 1/1 (frame 2356/3810) /home/hatsu/coding/CapProj/TestSeg_1/video_input/fight_5.mp4: 384x640 1 Fighter, 14.2ms\n",
      "video 1/1 (frame 2357/3810) /home/hatsu/coding/CapProj/TestSeg_1/video_input/fight_5.mp4: 384x640 1 Fighter, 16.9ms\n",
      "video 1/1 (frame 2358/3810) /home/hatsu/coding/CapProj/TestSeg_1/video_input/fight_5.mp4: 384x640 1 Fighter, 35.2ms\n",
      "video 1/1 (frame 2359/3810) /home/hatsu/coding/CapProj/TestSeg_1/video_input/fight_5.mp4: 384x640 1 Fighter, 13.9ms\n",
      "video 1/1 (frame 2360/3810) /home/hatsu/coding/CapProj/TestSeg_1/video_input/fight_5.mp4: 384x640 1 Fighter, 14.5ms\n",
      "video 1/1 (frame 2361/3810) /home/hatsu/coding/CapProj/TestSeg_1/video_input/fight_5.mp4: 384x640 1 Fighter, 25.7ms\n",
      "video 1/1 (frame 2362/3810) /home/hatsu/coding/CapProj/TestSeg_1/video_input/fight_5.mp4: 384x640 1 Fighter, 26.6ms\n",
      "video 1/1 (frame 2363/3810) /home/hatsu/coding/CapProj/TestSeg_1/video_input/fight_5.mp4: 384x640 1 Fighter, 22.6ms\n",
      "video 1/1 (frame 2364/3810) /home/hatsu/coding/CapProj/TestSeg_1/video_input/fight_5.mp4: 384x640 1 Fighter, 21.0ms\n",
      "video 1/1 (frame 2365/3810) /home/hatsu/coding/CapProj/TestSeg_1/video_input/fight_5.mp4: 384x640 1 Fighter, 35.2ms\n",
      "video 1/1 (frame 2366/3810) /home/hatsu/coding/CapProj/TestSeg_1/video_input/fight_5.mp4: 384x640 1 Fighter, 18.5ms\n",
      "video 1/1 (frame 2367/3810) /home/hatsu/coding/CapProj/TestSeg_1/video_input/fight_5.mp4: 384x640 1 Fighter, 20.8ms\n",
      "video 1/1 (frame 2368/3810) /home/hatsu/coding/CapProj/TestSeg_1/video_input/fight_5.mp4: 384x640 2 Fighters, 17.2ms\n",
      "video 1/1 (frame 2369/3810) /home/hatsu/coding/CapProj/TestSeg_1/video_input/fight_5.mp4: 384x640 2 Fighters, 28.0ms\n",
      "video 1/1 (frame 2370/3810) /home/hatsu/coding/CapProj/TestSeg_1/video_input/fight_5.mp4: 384x640 2 Fighters, 15.4ms\n",
      "video 1/1 (frame 2371/3810) /home/hatsu/coding/CapProj/TestSeg_1/video_input/fight_5.mp4: 384x640 1 Fighter, 13.8ms\n",
      "video 1/1 (frame 2372/3810) /home/hatsu/coding/CapProj/TestSeg_1/video_input/fight_5.mp4: 384x640 1 Fighter, 26.3ms\n",
      "video 1/1 (frame 2373/3810) /home/hatsu/coding/CapProj/TestSeg_1/video_input/fight_5.mp4: 384x640 1 Fighter, 14.1ms\n",
      "video 1/1 (frame 2374/3810) /home/hatsu/coding/CapProj/TestSeg_1/video_input/fight_5.mp4: 384x640 1 Fighter, 26.7ms\n",
      "video 1/1 (frame 2375/3810) /home/hatsu/coding/CapProj/TestSeg_1/video_input/fight_5.mp4: 384x640 1 Fighter, 24.6ms\n",
      "video 1/1 (frame 2376/3810) /home/hatsu/coding/CapProj/TestSeg_1/video_input/fight_5.mp4: 384x640 1 Fighter, 17.0ms\n",
      "video 1/1 (frame 2377/3810) /home/hatsu/coding/CapProj/TestSeg_1/video_input/fight_5.mp4: 384x640 1 Fighter, 13.9ms\n",
      "video 1/1 (frame 2378/3810) /home/hatsu/coding/CapProj/TestSeg_1/video_input/fight_5.mp4: 384x640 1 Fighter, 13.6ms\n",
      "video 1/1 (frame 2379/3810) /home/hatsu/coding/CapProj/TestSeg_1/video_input/fight_5.mp4: 384x640 1 Fighter, 12.7ms\n",
      "video 1/1 (frame 2380/3810) /home/hatsu/coding/CapProj/TestSeg_1/video_input/fight_5.mp4: 384x640 1 Fighter, 14.8ms\n",
      "video 1/1 (frame 2381/3810) /home/hatsu/coding/CapProj/TestSeg_1/video_input/fight_5.mp4: 384x640 1 Fighter, 15.6ms\n",
      "video 1/1 (frame 2382/3810) /home/hatsu/coding/CapProj/TestSeg_1/video_input/fight_5.mp4: 384x640 1 Fighter, 14.4ms\n",
      "video 1/1 (frame 2383/3810) /home/hatsu/coding/CapProj/TestSeg_1/video_input/fight_5.mp4: 384x640 1 Fighter, 21.3ms\n",
      "video 1/1 (frame 2384/3810) /home/hatsu/coding/CapProj/TestSeg_1/video_input/fight_5.mp4: 384x640 1 Fighter, 13.2ms\n",
      "video 1/1 (frame 2385/3810) /home/hatsu/coding/CapProj/TestSeg_1/video_input/fight_5.mp4: 384x640 1 Fighter, 15.0ms\n",
      "video 1/1 (frame 2386/3810) /home/hatsu/coding/CapProj/TestSeg_1/video_input/fight_5.mp4: 384x640 1 Fighter, 13.7ms\n",
      "video 1/1 (frame 2387/3810) /home/hatsu/coding/CapProj/TestSeg_1/video_input/fight_5.mp4: 384x640 2 Fighters, 15.1ms\n",
      "video 1/1 (frame 2388/3810) /home/hatsu/coding/CapProj/TestSeg_1/video_input/fight_5.mp4: 384x640 2 Fighters, 26.3ms\n",
      "video 1/1 (frame 2389/3810) /home/hatsu/coding/CapProj/TestSeg_1/video_input/fight_5.mp4: 384x640 2 Fighters, 23.5ms\n",
      "video 1/1 (frame 2390/3810) /home/hatsu/coding/CapProj/TestSeg_1/video_input/fight_5.mp4: 384x640 2 Fighters, 17.9ms\n",
      "video 1/1 (frame 2391/3810) /home/hatsu/coding/CapProj/TestSeg_1/video_input/fight_5.mp4: 384x640 2 Fighters, 16.6ms\n",
      "video 1/1 (frame 2392/3810) /home/hatsu/coding/CapProj/TestSeg_1/video_input/fight_5.mp4: 384x640 2 Fighters, 13.8ms\n",
      "video 1/1 (frame 2393/3810) /home/hatsu/coding/CapProj/TestSeg_1/video_input/fight_5.mp4: 384x640 2 Fighters, 17.4ms\n",
      "video 1/1 (frame 2394/3810) /home/hatsu/coding/CapProj/TestSeg_1/video_input/fight_5.mp4: 384x640 2 Fighters, 14.0ms\n",
      "video 1/1 (frame 2395/3810) /home/hatsu/coding/CapProj/TestSeg_1/video_input/fight_5.mp4: 384x640 2 Fighters, 15.4ms\n",
      "video 1/1 (frame 2396/3810) /home/hatsu/coding/CapProj/TestSeg_1/video_input/fight_5.mp4: 384x640 2 Fighters, 15.1ms\n",
      "video 1/1 (frame 2397/3810) /home/hatsu/coding/CapProj/TestSeg_1/video_input/fight_5.mp4: 384x640 2 Fighters, 20.7ms\n",
      "video 1/1 (frame 2398/3810) /home/hatsu/coding/CapProj/TestSeg_1/video_input/fight_5.mp4: 384x640 2 Fighters, 14.7ms\n",
      "video 1/1 (frame 2399/3810) /home/hatsu/coding/CapProj/TestSeg_1/video_input/fight_5.mp4: 384x640 1 Fighter, 14.3ms\n",
      "video 1/1 (frame 2400/3810) /home/hatsu/coding/CapProj/TestSeg_1/video_input/fight_5.mp4: 384x640 1 Fighter, 19.3ms\n",
      "video 1/1 (frame 2401/3810) /home/hatsu/coding/CapProj/TestSeg_1/video_input/fight_5.mp4: 384x640 1 Fighter, 17.6ms\n",
      "video 1/1 (frame 2402/3810) /home/hatsu/coding/CapProj/TestSeg_1/video_input/fight_5.mp4: 384x640 1 Fighter, 18.8ms\n",
      "video 1/1 (frame 2403/3810) /home/hatsu/coding/CapProj/TestSeg_1/video_input/fight_5.mp4: 384x640 1 Fighter, 29.1ms\n",
      "video 1/1 (frame 2404/3810) /home/hatsu/coding/CapProj/TestSeg_1/video_input/fight_5.mp4: 384x640 1 Fighter, 27.5ms\n",
      "video 1/1 (frame 2405/3810) /home/hatsu/coding/CapProj/TestSeg_1/video_input/fight_5.mp4: 384x640 1 Fighter, 17.5ms\n",
      "video 1/1 (frame 2406/3810) /home/hatsu/coding/CapProj/TestSeg_1/video_input/fight_5.mp4: 384x640 (no detections), 19.5ms\n",
      "video 1/1 (frame 2407/3810) /home/hatsu/coding/CapProj/TestSeg_1/video_input/fight_5.mp4: 384x640 (no detections), 20.1ms\n",
      "video 1/1 (frame 2408/3810) /home/hatsu/coding/CapProj/TestSeg_1/video_input/fight_5.mp4: 384x640 (no detections), 19.9ms\n",
      "video 1/1 (frame 2409/3810) /home/hatsu/coding/CapProj/TestSeg_1/video_input/fight_5.mp4: 384x640 (no detections), 16.4ms\n",
      "video 1/1 (frame 2410/3810) /home/hatsu/coding/CapProj/TestSeg_1/video_input/fight_5.mp4: 384x640 (no detections), 15.2ms\n",
      "video 1/1 (frame 2411/3810) /home/hatsu/coding/CapProj/TestSeg_1/video_input/fight_5.mp4: 384x640 (no detections), 42.2ms\n",
      "video 1/1 (frame 2412/3810) /home/hatsu/coding/CapProj/TestSeg_1/video_input/fight_5.mp4: 384x640 (no detections), 18.9ms\n",
      "video 1/1 (frame 2413/3810) /home/hatsu/coding/CapProj/TestSeg_1/video_input/fight_5.mp4: 384x640 (no detections), 17.3ms\n",
      "video 1/1 (frame 2414/3810) /home/hatsu/coding/CapProj/TestSeg_1/video_input/fight_5.mp4: 384x640 (no detections), 17.3ms\n",
      "video 1/1 (frame 2415/3810) /home/hatsu/coding/CapProj/TestSeg_1/video_input/fight_5.mp4: 384x640 (no detections), 16.6ms\n",
      "video 1/1 (frame 2416/3810) /home/hatsu/coding/CapProj/TestSeg_1/video_input/fight_5.mp4: 384x640 (no detections), 15.3ms\n",
      "video 1/1 (frame 2417/3810) /home/hatsu/coding/CapProj/TestSeg_1/video_input/fight_5.mp4: 384x640 1 Fighter, 15.5ms\n",
      "video 1/1 (frame 2418/3810) /home/hatsu/coding/CapProj/TestSeg_1/video_input/fight_5.mp4: 384x640 1 Fighter, 14.7ms\n",
      "video 1/1 (frame 2419/3810) /home/hatsu/coding/CapProj/TestSeg_1/video_input/fight_5.mp4: 384x640 (no detections), 17.6ms\n",
      "video 1/1 (frame 2420/3810) /home/hatsu/coding/CapProj/TestSeg_1/video_input/fight_5.mp4: 384x640 (no detections), 37.5ms\n",
      "video 1/1 (frame 2421/3810) /home/hatsu/coding/CapProj/TestSeg_1/video_input/fight_5.mp4: 384x640 (no detections), 15.6ms\n",
      "video 1/1 (frame 2422/3810) /home/hatsu/coding/CapProj/TestSeg_1/video_input/fight_5.mp4: 384x640 (no detections), 16.4ms\n",
      "video 1/1 (frame 2423/3810) /home/hatsu/coding/CapProj/TestSeg_1/video_input/fight_5.mp4: 384x640 (no detections), 13.9ms\n",
      "video 1/1 (frame 2424/3810) /home/hatsu/coding/CapProj/TestSeg_1/video_input/fight_5.mp4: 384x640 1 Fighter, 41.9ms\n",
      "video 1/1 (frame 2425/3810) /home/hatsu/coding/CapProj/TestSeg_1/video_input/fight_5.mp4: 384x640 1 Fighter, 13.1ms\n",
      "video 1/1 (frame 2426/3810) /home/hatsu/coding/CapProj/TestSeg_1/video_input/fight_5.mp4: 384x640 (no detections), 20.3ms\n",
      "video 1/1 (frame 2427/3810) /home/hatsu/coding/CapProj/TestSeg_1/video_input/fight_5.mp4: 384x640 1 Fighter, 16.8ms\n",
      "video 1/1 (frame 2428/3810) /home/hatsu/coding/CapProj/TestSeg_1/video_input/fight_5.mp4: 384x640 1 Fighter, 14.5ms\n",
      "video 1/1 (frame 2429/3810) /home/hatsu/coding/CapProj/TestSeg_1/video_input/fight_5.mp4: 384x640 2 Fighters, 15.3ms\n",
      "video 1/1 (frame 2430/3810) /home/hatsu/coding/CapProj/TestSeg_1/video_input/fight_5.mp4: 384x640 (no detections), 15.4ms\n",
      "video 1/1 (frame 2431/3810) /home/hatsu/coding/CapProj/TestSeg_1/video_input/fight_5.mp4: 384x640 (no detections), 13.5ms\n",
      "video 1/1 (frame 2432/3810) /home/hatsu/coding/CapProj/TestSeg_1/video_input/fight_5.mp4: 384x640 2 Fighters, 16.4ms\n",
      "video 1/1 (frame 2433/3810) /home/hatsu/coding/CapProj/TestSeg_1/video_input/fight_5.mp4: 384x640 1 Fighter, 42.2ms\n",
      "video 1/1 (frame 2434/3810) /home/hatsu/coding/CapProj/TestSeg_1/video_input/fight_5.mp4: 384x640 1 Fighter, 15.4ms\n",
      "video 1/1 (frame 2435/3810) /home/hatsu/coding/CapProj/TestSeg_1/video_input/fight_5.mp4: 384x640 1 Fighter, 15.2ms\n",
      "video 1/1 (frame 2436/3810) /home/hatsu/coding/CapProj/TestSeg_1/video_input/fight_5.mp4: 384x640 (no detections), 24.6ms\n",
      "video 1/1 (frame 2437/3810) /home/hatsu/coding/CapProj/TestSeg_1/video_input/fight_5.mp4: 384x640 (no detections), 13.2ms\n",
      "video 1/1 (frame 2438/3810) /home/hatsu/coding/CapProj/TestSeg_1/video_input/fight_5.mp4: 384x640 (no detections), 14.0ms\n",
      "video 1/1 (frame 2439/3810) /home/hatsu/coding/CapProj/TestSeg_1/video_input/fight_5.mp4: 384x640 (no detections), 43.6ms\n",
      "video 1/1 (frame 2440/3810) /home/hatsu/coding/CapProj/TestSeg_1/video_input/fight_5.mp4: 384x640 (no detections), 15.6ms\n",
      "video 1/1 (frame 2441/3810) /home/hatsu/coding/CapProj/TestSeg_1/video_input/fight_5.mp4: 384x640 (no detections), 16.7ms\n",
      "video 1/1 (frame 2442/3810) /home/hatsu/coding/CapProj/TestSeg_1/video_input/fight_5.mp4: 384x640 (no detections), 15.0ms\n",
      "video 1/1 (frame 2443/3810) /home/hatsu/coding/CapProj/TestSeg_1/video_input/fight_5.mp4: 384x640 (no detections), 15.9ms\n",
      "video 1/1 (frame 2444/3810) /home/hatsu/coding/CapProj/TestSeg_1/video_input/fight_5.mp4: 384x640 (no detections), 17.2ms\n",
      "video 1/1 (frame 2445/3810) /home/hatsu/coding/CapProj/TestSeg_1/video_input/fight_5.mp4: 384x640 (no detections), 18.1ms\n",
      "video 1/1 (frame 2446/3810) /home/hatsu/coding/CapProj/TestSeg_1/video_input/fight_5.mp4: 384x640 (no detections), 16.8ms\n",
      "video 1/1 (frame 2447/3810) /home/hatsu/coding/CapProj/TestSeg_1/video_input/fight_5.mp4: 384x640 1 Fighter, 35.7ms\n",
      "video 1/1 (frame 2448/3810) /home/hatsu/coding/CapProj/TestSeg_1/video_input/fight_5.mp4: 384x640 1 Fighter, 15.4ms\n",
      "video 1/1 (frame 2449/3810) /home/hatsu/coding/CapProj/TestSeg_1/video_input/fight_5.mp4: 384x640 1 Fighter, 19.5ms\n",
      "video 1/1 (frame 2450/3810) /home/hatsu/coding/CapProj/TestSeg_1/video_input/fight_5.mp4: 384x640 1 Fighter, 18.6ms\n",
      "video 1/1 (frame 2451/3810) /home/hatsu/coding/CapProj/TestSeg_1/video_input/fight_5.mp4: 384x640 1 Fighter, 25.4ms\n",
      "video 1/1 (frame 2452/3810) /home/hatsu/coding/CapProj/TestSeg_1/video_input/fight_5.mp4: 384x640 1 Fighter, 19.8ms\n",
      "video 1/1 (frame 2453/3810) /home/hatsu/coding/CapProj/TestSeg_1/video_input/fight_5.mp4: 384x640 (no detections), 45.1ms\n",
      "video 1/1 (frame 2454/3810) /home/hatsu/coding/CapProj/TestSeg_1/video_input/fight_5.mp4: 384x640 1 Fighter, 16.1ms\n",
      "video 1/1 (frame 2455/3810) /home/hatsu/coding/CapProj/TestSeg_1/video_input/fight_5.mp4: 384x640 1 Fighter, 13.7ms\n",
      "video 1/1 (frame 2456/3810) /home/hatsu/coding/CapProj/TestSeg_1/video_input/fight_5.mp4: 384x640 1 Fighter, 31.6ms\n",
      "video 1/1 (frame 2457/3810) /home/hatsu/coding/CapProj/TestSeg_1/video_input/fight_5.mp4: 384x640 1 Fighter, 15.0ms\n",
      "video 1/1 (frame 2458/3810) /home/hatsu/coding/CapProj/TestSeg_1/video_input/fight_5.mp4: 384x640 2 Fighters, 15.2ms\n",
      "video 1/1 (frame 2459/3810) /home/hatsu/coding/CapProj/TestSeg_1/video_input/fight_5.mp4: 384x640 1 Fighter, 20.2ms\n",
      "video 1/1 (frame 2460/3810) /home/hatsu/coding/CapProj/TestSeg_1/video_input/fight_5.mp4: 384x640 1 Fighter, 15.5ms\n",
      "video 1/1 (frame 2461/3810) /home/hatsu/coding/CapProj/TestSeg_1/video_input/fight_5.mp4: 384x640 1 Fighter, 13.2ms\n",
      "video 1/1 (frame 2462/3810) /home/hatsu/coding/CapProj/TestSeg_1/video_input/fight_5.mp4: 384x640 1 Fighter, 13.8ms\n",
      "video 1/1 (frame 2463/3810) /home/hatsu/coding/CapProj/TestSeg_1/video_input/fight_5.mp4: 384x640 1 Fighter, 12.7ms\n",
      "video 1/1 (frame 2464/3810) /home/hatsu/coding/CapProj/TestSeg_1/video_input/fight_5.mp4: 384x640 1 Fighter, 16.0ms\n",
      "video 1/1 (frame 2465/3810) /home/hatsu/coding/CapProj/TestSeg_1/video_input/fight_5.mp4: 384x640 1 Fighter, 15.7ms\n",
      "video 1/1 (frame 2466/3810) /home/hatsu/coding/CapProj/TestSeg_1/video_input/fight_5.mp4: 384x640 1 Fighter, 17.5ms\n",
      "video 1/1 (frame 2467/3810) /home/hatsu/coding/CapProj/TestSeg_1/video_input/fight_5.mp4: 384x640 (no detections), 17.3ms\n",
      "video 1/1 (frame 2468/3810) /home/hatsu/coding/CapProj/TestSeg_1/video_input/fight_5.mp4: 384x640 1 Fighter, 24.8ms\n",
      "video 1/1 (frame 2469/3810) /home/hatsu/coding/CapProj/TestSeg_1/video_input/fight_5.mp4: 384x640 (no detections), 15.8ms\n",
      "video 1/1 (frame 2470/3810) /home/hatsu/coding/CapProj/TestSeg_1/video_input/fight_5.mp4: 384x640 (no detections), 13.4ms\n",
      "video 1/1 (frame 2471/3810) /home/hatsu/coding/CapProj/TestSeg_1/video_input/fight_5.mp4: 384x640 (no detections), 14.9ms\n",
      "video 1/1 (frame 2472/3810) /home/hatsu/coding/CapProj/TestSeg_1/video_input/fight_5.mp4: 384x640 (no detections), 16.8ms\n",
      "video 1/1 (frame 2473/3810) /home/hatsu/coding/CapProj/TestSeg_1/video_input/fight_5.mp4: 384x640 1 Fighter, 15.5ms\n",
      "video 1/1 (frame 2474/3810) /home/hatsu/coding/CapProj/TestSeg_1/video_input/fight_5.mp4: 384x640 2 Fighters, 18.6ms\n",
      "video 1/1 (frame 2475/3810) /home/hatsu/coding/CapProj/TestSeg_1/video_input/fight_5.mp4: 384x640 1 Fighter, 16.6ms\n",
      "video 1/1 (frame 2476/3810) /home/hatsu/coding/CapProj/TestSeg_1/video_input/fight_5.mp4: 384x640 1 Fighter, 13.4ms\n",
      "video 1/1 (frame 2477/3810) /home/hatsu/coding/CapProj/TestSeg_1/video_input/fight_5.mp4: 384x640 1 Fighter, 14.4ms\n",
      "video 1/1 (frame 2478/3810) /home/hatsu/coding/CapProj/TestSeg_1/video_input/fight_5.mp4: 384x640 1 Fighter, 15.3ms\n",
      "video 1/1 (frame 2479/3810) /home/hatsu/coding/CapProj/TestSeg_1/video_input/fight_5.mp4: 384x640 1 Fighter, 14.4ms\n",
      "video 1/1 (frame 2480/3810) /home/hatsu/coding/CapProj/TestSeg_1/video_input/fight_5.mp4: 384x640 1 Fighter, 16.5ms\n",
      "video 1/1 (frame 2481/3810) /home/hatsu/coding/CapProj/TestSeg_1/video_input/fight_5.mp4: 384x640 1 Fighter, 19.3ms\n",
      "video 1/1 (frame 2482/3810) /home/hatsu/coding/CapProj/TestSeg_1/video_input/fight_5.mp4: 384x640 1 Fighter, 15.0ms\n",
      "video 1/1 (frame 2483/3810) /home/hatsu/coding/CapProj/TestSeg_1/video_input/fight_5.mp4: 384x640 1 Fighter, 14.7ms\n",
      "video 1/1 (frame 2484/3810) /home/hatsu/coding/CapProj/TestSeg_1/video_input/fight_5.mp4: 384x640 1 Fighter, 35.1ms\n",
      "video 1/1 (frame 2485/3810) /home/hatsu/coding/CapProj/TestSeg_1/video_input/fight_5.mp4: 384x640 1 Fighter, 14.5ms\n",
      "video 1/1 (frame 2486/3810) /home/hatsu/coding/CapProj/TestSeg_1/video_input/fight_5.mp4: 384x640 1 Fighter, 35.7ms\n",
      "video 1/1 (frame 2487/3810) /home/hatsu/coding/CapProj/TestSeg_1/video_input/fight_5.mp4: 384x640 1 Fighter, 14.3ms\n",
      "video 1/1 (frame 2488/3810) /home/hatsu/coding/CapProj/TestSeg_1/video_input/fight_5.mp4: 384x640 1 Fighter, 20.6ms\n",
      "video 1/1 (frame 2489/3810) /home/hatsu/coding/CapProj/TestSeg_1/video_input/fight_5.mp4: 384x640 1 Fighter, 15.0ms\n",
      "video 1/1 (frame 2490/3810) /home/hatsu/coding/CapProj/TestSeg_1/video_input/fight_5.mp4: 384x640 1 Fighter, 18.0ms\n",
      "video 1/1 (frame 2491/3810) /home/hatsu/coding/CapProj/TestSeg_1/video_input/fight_5.mp4: 384x640 1 Fighter, 14.6ms\n",
      "video 1/1 (frame 2492/3810) /home/hatsu/coding/CapProj/TestSeg_1/video_input/fight_5.mp4: 384x640 (no detections), 13.9ms\n",
      "video 1/1 (frame 2493/3810) /home/hatsu/coding/CapProj/TestSeg_1/video_input/fight_5.mp4: 384x640 1 Fighter, 14.5ms\n",
      "video 1/1 (frame 2494/3810) /home/hatsu/coding/CapProj/TestSeg_1/video_input/fight_5.mp4: 384x640 1 Fighter, 13.8ms\n",
      "video 1/1 (frame 2495/3810) /home/hatsu/coding/CapProj/TestSeg_1/video_input/fight_5.mp4: 384x640 1 Fighter, 12.9ms\n",
      "video 1/1 (frame 2496/3810) /home/hatsu/coding/CapProj/TestSeg_1/video_input/fight_5.mp4: 384x640 1 Fighter, 14.5ms\n",
      "video 1/1 (frame 2497/3810) /home/hatsu/coding/CapProj/TestSeg_1/video_input/fight_5.mp4: 384x640 1 Fighter, 14.1ms\n",
      "video 1/1 (frame 2498/3810) /home/hatsu/coding/CapProj/TestSeg_1/video_input/fight_5.mp4: 384x640 1 Fighter, 16.1ms\n",
      "video 1/1 (frame 2499/3810) /home/hatsu/coding/CapProj/TestSeg_1/video_input/fight_5.mp4: 384x640 1 Fighter, 14.8ms\n",
      "video 1/1 (frame 2500/3810) /home/hatsu/coding/CapProj/TestSeg_1/video_input/fight_5.mp4: 384x640 1 Fighter, 25.1ms\n",
      "video 1/1 (frame 2501/3810) /home/hatsu/coding/CapProj/TestSeg_1/video_input/fight_5.mp4: 384x640 1 Fighter, 18.5ms\n",
      "video 1/1 (frame 2502/3810) /home/hatsu/coding/CapProj/TestSeg_1/video_input/fight_5.mp4: 384x640 1 Fighter, 13.8ms\n",
      "video 1/1 (frame 2503/3810) /home/hatsu/coding/CapProj/TestSeg_1/video_input/fight_5.mp4: 384x640 1 Fighter, 14.4ms\n",
      "video 1/1 (frame 2504/3810) /home/hatsu/coding/CapProj/TestSeg_1/video_input/fight_5.mp4: 384x640 1 Fighter, 13.9ms\n",
      "video 1/1 (frame 2505/3810) /home/hatsu/coding/CapProj/TestSeg_1/video_input/fight_5.mp4: 384x640 1 Fighter, 15.2ms\n",
      "video 1/1 (frame 2506/3810) /home/hatsu/coding/CapProj/TestSeg_1/video_input/fight_5.mp4: 384x640 1 Fighter, 12.6ms\n",
      "video 1/1 (frame 2507/3810) /home/hatsu/coding/CapProj/TestSeg_1/video_input/fight_5.mp4: 384x640 1 Fighter, 14.8ms\n",
      "video 1/1 (frame 2508/3810) /home/hatsu/coding/CapProj/TestSeg_1/video_input/fight_5.mp4: 384x640 1 Fighter, 15.5ms\n",
      "video 1/1 (frame 2509/3810) /home/hatsu/coding/CapProj/TestSeg_1/video_input/fight_5.mp4: 384x640 1 Fighter, 24.8ms\n",
      "video 1/1 (frame 2510/3810) /home/hatsu/coding/CapProj/TestSeg_1/video_input/fight_5.mp4: 384x640 1 Fighter, 19.1ms\n",
      "video 1/1 (frame 2511/3810) /home/hatsu/coding/CapProj/TestSeg_1/video_input/fight_5.mp4: 384x640 1 Fighter, 16.0ms\n",
      "video 1/1 (frame 2512/3810) /home/hatsu/coding/CapProj/TestSeg_1/video_input/fight_5.mp4: 384x640 1 Fighter, 14.5ms\n",
      "video 1/1 (frame 2513/3810) /home/hatsu/coding/CapProj/TestSeg_1/video_input/fight_5.mp4: 384x640 1 Fighter, 20.7ms\n",
      "video 1/1 (frame 2514/3810) /home/hatsu/coding/CapProj/TestSeg_1/video_input/fight_5.mp4: 384x640 1 Fighter, 21.4ms\n",
      "video 1/1 (frame 2515/3810) /home/hatsu/coding/CapProj/TestSeg_1/video_input/fight_5.mp4: 384x640 1 Fighter, 21.2ms\n",
      "video 1/1 (frame 2516/3810) /home/hatsu/coding/CapProj/TestSeg_1/video_input/fight_5.mp4: 384x640 1 Fighter, 23.7ms\n",
      "video 1/1 (frame 2517/3810) /home/hatsu/coding/CapProj/TestSeg_1/video_input/fight_5.mp4: 384x640 1 Fighter, 17.6ms\n",
      "video 1/1 (frame 2518/3810) /home/hatsu/coding/CapProj/TestSeg_1/video_input/fight_5.mp4: 384x640 1 Fighter, 22.0ms\n",
      "video 1/1 (frame 2519/3810) /home/hatsu/coding/CapProj/TestSeg_1/video_input/fight_5.mp4: 384x640 1 Fighter, 12.5ms\n",
      "video 1/1 (frame 2520/3810) /home/hatsu/coding/CapProj/TestSeg_1/video_input/fight_5.mp4: 384x640 1 Fighter, 14.2ms\n",
      "video 1/1 (frame 2521/3810) /home/hatsu/coding/CapProj/TestSeg_1/video_input/fight_5.mp4: 384x640 1 Fighter, 13.7ms\n",
      "video 1/1 (frame 2522/3810) /home/hatsu/coding/CapProj/TestSeg_1/video_input/fight_5.mp4: 384x640 1 Fighter, 15.7ms\n",
      "video 1/1 (frame 2523/3810) /home/hatsu/coding/CapProj/TestSeg_1/video_input/fight_5.mp4: 384x640 1 Fighter, 22.0ms\n",
      "video 1/1 (frame 2524/3810) /home/hatsu/coding/CapProj/TestSeg_1/video_input/fight_5.mp4: 384x640 1 Fighter, 13.5ms\n",
      "video 1/1 (frame 2525/3810) /home/hatsu/coding/CapProj/TestSeg_1/video_input/fight_5.mp4: 384x640 1 Fighter, 16.4ms\n",
      "video 1/1 (frame 2526/3810) /home/hatsu/coding/CapProj/TestSeg_1/video_input/fight_5.mp4: 384x640 1 Fighter, 16.8ms\n",
      "video 1/1 (frame 2527/3810) /home/hatsu/coding/CapProj/TestSeg_1/video_input/fight_5.mp4: 384x640 1 Fighter, 14.8ms\n",
      "video 1/1 (frame 2528/3810) /home/hatsu/coding/CapProj/TestSeg_1/video_input/fight_5.mp4: 384x640 1 Fighter, 16.1ms\n",
      "video 1/1 (frame 2529/3810) /home/hatsu/coding/CapProj/TestSeg_1/video_input/fight_5.mp4: 384x640 1 Fighter, 17.6ms\n",
      "video 1/1 (frame 2530/3810) /home/hatsu/coding/CapProj/TestSeg_1/video_input/fight_5.mp4: 384x640 1 Fighter, 48.8ms\n",
      "video 1/1 (frame 2531/3810) /home/hatsu/coding/CapProj/TestSeg_1/video_input/fight_5.mp4: 384x640 1 Fighter, 16.5ms\n",
      "video 1/1 (frame 2532/3810) /home/hatsu/coding/CapProj/TestSeg_1/video_input/fight_5.mp4: 384x640 1 Fighter, 15.1ms\n",
      "video 1/1 (frame 2533/3810) /home/hatsu/coding/CapProj/TestSeg_1/video_input/fight_5.mp4: 384x640 1 Fighter, 12.8ms\n",
      "video 1/1 (frame 2534/3810) /home/hatsu/coding/CapProj/TestSeg_1/video_input/fight_5.mp4: 384x640 1 Fighter, 14.1ms\n",
      "video 1/1 (frame 2535/3810) /home/hatsu/coding/CapProj/TestSeg_1/video_input/fight_5.mp4: 384x640 1 Fighter, 15.1ms\n",
      "video 1/1 (frame 2536/3810) /home/hatsu/coding/CapProj/TestSeg_1/video_input/fight_5.mp4: 384x640 1 Fighter, 14.5ms\n",
      "video 1/1 (frame 2537/3810) /home/hatsu/coding/CapProj/TestSeg_1/video_input/fight_5.mp4: 384x640 1 Fighter, 17.7ms\n",
      "video 1/1 (frame 2538/3810) /home/hatsu/coding/CapProj/TestSeg_1/video_input/fight_5.mp4: 384x640 1 Fighter, 19.7ms\n",
      "video 1/1 (frame 2539/3810) /home/hatsu/coding/CapProj/TestSeg_1/video_input/fight_5.mp4: 384x640 1 Fighter, 12.3ms\n",
      "video 1/1 (frame 2540/3810) /home/hatsu/coding/CapProj/TestSeg_1/video_input/fight_5.mp4: 384x640 1 Fighter, 15.5ms\n",
      "video 1/1 (frame 2541/3810) /home/hatsu/coding/CapProj/TestSeg_1/video_input/fight_5.mp4: 384x640 1 Fighter, 15.5ms\n",
      "video 1/1 (frame 2542/3810) /home/hatsu/coding/CapProj/TestSeg_1/video_input/fight_5.mp4: 384x640 1 Fighter, 13.4ms\n",
      "video 1/1 (frame 2543/3810) /home/hatsu/coding/CapProj/TestSeg_1/video_input/fight_5.mp4: 384x640 1 Fighter, 14.7ms\n",
      "video 1/1 (frame 2544/3810) /home/hatsu/coding/CapProj/TestSeg_1/video_input/fight_5.mp4: 384x640 1 Fighter, 25.1ms\n",
      "video 1/1 (frame 2545/3810) /home/hatsu/coding/CapProj/TestSeg_1/video_input/fight_5.mp4: 384x640 1 Fighter, 12.9ms\n",
      "video 1/1 (frame 2546/3810) /home/hatsu/coding/CapProj/TestSeg_1/video_input/fight_5.mp4: 384x640 1 Fighter, 14.3ms\n",
      "video 1/1 (frame 2547/3810) /home/hatsu/coding/CapProj/TestSeg_1/video_input/fight_5.mp4: 384x640 1 Fighter, 16.4ms\n",
      "video 1/1 (frame 2548/3810) /home/hatsu/coding/CapProj/TestSeg_1/video_input/fight_5.mp4: 384x640 1 Fighter, 18.1ms\n",
      "video 1/1 (frame 2549/3810) /home/hatsu/coding/CapProj/TestSeg_1/video_input/fight_5.mp4: 384x640 1 Fighter, 14.8ms\n",
      "video 1/1 (frame 2550/3810) /home/hatsu/coding/CapProj/TestSeg_1/video_input/fight_5.mp4: 384x640 1 Fighter, 15.3ms\n",
      "video 1/1 (frame 2551/3810) /home/hatsu/coding/CapProj/TestSeg_1/video_input/fight_5.mp4: 384x640 1 Fighter, 23.0ms\n",
      "video 1/1 (frame 2552/3810) /home/hatsu/coding/CapProj/TestSeg_1/video_input/fight_5.mp4: 384x640 1 Fighter, 14.7ms\n",
      "video 1/1 (frame 2553/3810) /home/hatsu/coding/CapProj/TestSeg_1/video_input/fight_5.mp4: 384x640 1 Fighter, 14.1ms\n",
      "video 1/1 (frame 2554/3810) /home/hatsu/coding/CapProj/TestSeg_1/video_input/fight_5.mp4: 384x640 1 Fighter, 29.9ms\n",
      "video 1/1 (frame 2555/3810) /home/hatsu/coding/CapProj/TestSeg_1/video_input/fight_5.mp4: 384x640 1 Fighter, 15.3ms\n",
      "video 1/1 (frame 2556/3810) /home/hatsu/coding/CapProj/TestSeg_1/video_input/fight_5.mp4: 384x640 1 Fighter, 18.9ms\n",
      "video 1/1 (frame 2557/3810) /home/hatsu/coding/CapProj/TestSeg_1/video_input/fight_5.mp4: 384x640 1 Fighter, 13.2ms\n",
      "video 1/1 (frame 2558/3810) /home/hatsu/coding/CapProj/TestSeg_1/video_input/fight_5.mp4: 384x640 1 Fighter, 18.7ms\n",
      "video 1/1 (frame 2559/3810) /home/hatsu/coding/CapProj/TestSeg_1/video_input/fight_5.mp4: 384x640 1 Fighter, 15.1ms\n",
      "video 1/1 (frame 2560/3810) /home/hatsu/coding/CapProj/TestSeg_1/video_input/fight_5.mp4: 384x640 1 Fighter, 15.1ms\n",
      "video 1/1 (frame 2561/3810) /home/hatsu/coding/CapProj/TestSeg_1/video_input/fight_5.mp4: 384x640 1 Fighter, 15.5ms\n",
      "video 1/1 (frame 2562/3810) /home/hatsu/coding/CapProj/TestSeg_1/video_input/fight_5.mp4: 384x640 1 Fighter, 13.6ms\n",
      "video 1/1 (frame 2563/3810) /home/hatsu/coding/CapProj/TestSeg_1/video_input/fight_5.mp4: 384x640 1 Fighter, 35.8ms\n",
      "video 1/1 (frame 2564/3810) /home/hatsu/coding/CapProj/TestSeg_1/video_input/fight_5.mp4: 384x640 2 Fighters, 35.8ms\n",
      "video 1/1 (frame 2565/3810) /home/hatsu/coding/CapProj/TestSeg_1/video_input/fight_5.mp4: 384x640 2 Fighters, 21.5ms\n",
      "video 1/1 (frame 2566/3810) /home/hatsu/coding/CapProj/TestSeg_1/video_input/fight_5.mp4: 384x640 2 Fighters, 21.6ms\n",
      "video 1/1 (frame 2567/3810) /home/hatsu/coding/CapProj/TestSeg_1/video_input/fight_5.mp4: 384x640 1 Fighter, 20.6ms\n",
      "video 1/1 (frame 2568/3810) /home/hatsu/coding/CapProj/TestSeg_1/video_input/fight_5.mp4: 384x640 2 Fighters, 19.1ms\n",
      "video 1/1 (frame 2569/3810) /home/hatsu/coding/CapProj/TestSeg_1/video_input/fight_5.mp4: 384x640 2 Fighters, 18.4ms\n",
      "video 1/1 (frame 2570/3810) /home/hatsu/coding/CapProj/TestSeg_1/video_input/fight_5.mp4: 384x640 2 Fighters, 18.2ms\n",
      "video 1/1 (frame 2571/3810) /home/hatsu/coding/CapProj/TestSeg_1/video_input/fight_5.mp4: 384x640 2 Fighters, 17.3ms\n",
      "video 1/1 (frame 2572/3810) /home/hatsu/coding/CapProj/TestSeg_1/video_input/fight_5.mp4: 384x640 2 Fighters, 15.4ms\n",
      "video 1/1 (frame 2573/3810) /home/hatsu/coding/CapProj/TestSeg_1/video_input/fight_5.mp4: 384x640 2 Fighters, 18.4ms\n",
      "video 1/1 (frame 2574/3810) /home/hatsu/coding/CapProj/TestSeg_1/video_input/fight_5.mp4: 384x640 2 Fighters, 15.0ms\n",
      "video 1/1 (frame 2575/3810) /home/hatsu/coding/CapProj/TestSeg_1/video_input/fight_5.mp4: 384x640 2 Fighters, 15.4ms\n",
      "video 1/1 (frame 2576/3810) /home/hatsu/coding/CapProj/TestSeg_1/video_input/fight_5.mp4: 384x640 2 Fighters, 12.9ms\n",
      "video 1/1 (frame 2577/3810) /home/hatsu/coding/CapProj/TestSeg_1/video_input/fight_5.mp4: 384x640 2 Fighters, 15.0ms\n",
      "video 1/1 (frame 2578/3810) /home/hatsu/coding/CapProj/TestSeg_1/video_input/fight_5.mp4: 384x640 2 Fighters, 14.6ms\n",
      "video 1/1 (frame 2579/3810) /home/hatsu/coding/CapProj/TestSeg_1/video_input/fight_5.mp4: 384x640 2 Fighters, 25.3ms\n",
      "video 1/1 (frame 2580/3810) /home/hatsu/coding/CapProj/TestSeg_1/video_input/fight_5.mp4: 384x640 2 Fighters, 15.6ms\n",
      "video 1/1 (frame 2581/3810) /home/hatsu/coding/CapProj/TestSeg_1/video_input/fight_5.mp4: 384x640 2 Fighters, 12.5ms\n",
      "video 1/1 (frame 2582/3810) /home/hatsu/coding/CapProj/TestSeg_1/video_input/fight_5.mp4: 384x640 2 Fighters, 14.8ms\n",
      "video 1/1 (frame 2583/3810) /home/hatsu/coding/CapProj/TestSeg_1/video_input/fight_5.mp4: 384x640 2 Fighters, 13.9ms\n",
      "video 1/1 (frame 2584/3810) /home/hatsu/coding/CapProj/TestSeg_1/video_input/fight_5.mp4: 384x640 2 Fighters, 14.4ms\n",
      "video 1/1 (frame 2585/3810) /home/hatsu/coding/CapProj/TestSeg_1/video_input/fight_5.mp4: 384x640 1 Fighter, 15.7ms\n",
      "video 1/1 (frame 2586/3810) /home/hatsu/coding/CapProj/TestSeg_1/video_input/fight_5.mp4: 384x640 1 Fighter, 21.2ms\n",
      "video 1/1 (frame 2587/3810) /home/hatsu/coding/CapProj/TestSeg_1/video_input/fight_5.mp4: 384x640 1 Fighter, 14.0ms\n",
      "video 1/1 (frame 2588/3810) /home/hatsu/coding/CapProj/TestSeg_1/video_input/fight_5.mp4: 384x640 1 Fighter, 18.1ms\n",
      "video 1/1 (frame 2589/3810) /home/hatsu/coding/CapProj/TestSeg_1/video_input/fight_5.mp4: 384x640 1 Fighter, 14.5ms\n",
      "video 1/1 (frame 2590/3810) /home/hatsu/coding/CapProj/TestSeg_1/video_input/fight_5.mp4: 384x640 1 Fighter, 14.5ms\n",
      "video 1/1 (frame 2591/3810) /home/hatsu/coding/CapProj/TestSeg_1/video_input/fight_5.mp4: 384x640 1 Fighter, 12.9ms\n",
      "video 1/1 (frame 2592/3810) /home/hatsu/coding/CapProj/TestSeg_1/video_input/fight_5.mp4: 384x640 1 Fighter, 12.8ms\n",
      "video 1/1 (frame 2593/3810) /home/hatsu/coding/CapProj/TestSeg_1/video_input/fight_5.mp4: 384x640 1 Fighter, 19.9ms\n",
      "video 1/1 (frame 2594/3810) /home/hatsu/coding/CapProj/TestSeg_1/video_input/fight_5.mp4: 384x640 1 Fighter, 13.8ms\n",
      "video 1/1 (frame 2595/3810) /home/hatsu/coding/CapProj/TestSeg_1/video_input/fight_5.mp4: 384x640 1 Fighter, 19.0ms\n",
      "video 1/1 (frame 2596/3810) /home/hatsu/coding/CapProj/TestSeg_1/video_input/fight_5.mp4: 384x640 1 Fighter, 14.3ms\n",
      "video 1/1 (frame 2597/3810) /home/hatsu/coding/CapProj/TestSeg_1/video_input/fight_5.mp4: 384x640 1 Fighter, 14.5ms\n",
      "video 1/1 (frame 2598/3810) /home/hatsu/coding/CapProj/TestSeg_1/video_input/fight_5.mp4: 384x640 1 Fighter, 15.1ms\n",
      "video 1/1 (frame 2599/3810) /home/hatsu/coding/CapProj/TestSeg_1/video_input/fight_5.mp4: 384x640 1 Fighter, 19.4ms\n",
      "video 1/1 (frame 2600/3810) /home/hatsu/coding/CapProj/TestSeg_1/video_input/fight_5.mp4: 384x640 1 Fighter, 39.1ms\n",
      "video 1/1 (frame 2601/3810) /home/hatsu/coding/CapProj/TestSeg_1/video_input/fight_5.mp4: 384x640 1 Fighter, 21.4ms\n",
      "video 1/1 (frame 2602/3810) /home/hatsu/coding/CapProj/TestSeg_1/video_input/fight_5.mp4: 384x640 1 Fighter, 19.2ms\n",
      "video 1/1 (frame 2603/3810) /home/hatsu/coding/CapProj/TestSeg_1/video_input/fight_5.mp4: 384x640 1 Fighter, 18.0ms\n",
      "video 1/1 (frame 2604/3810) /home/hatsu/coding/CapProj/TestSeg_1/video_input/fight_5.mp4: 384x640 1 Fighter, 18.6ms\n",
      "video 1/1 (frame 2605/3810) /home/hatsu/coding/CapProj/TestSeg_1/video_input/fight_5.mp4: 384x640 1 Fighter, 17.3ms\n",
      "video 1/1 (frame 2606/3810) /home/hatsu/coding/CapProj/TestSeg_1/video_input/fight_5.mp4: 384x640 1 Fighter, 28.5ms\n",
      "video 1/1 (frame 2607/3810) /home/hatsu/coding/CapProj/TestSeg_1/video_input/fight_5.mp4: 384x640 1 Fighter, 13.9ms\n",
      "video 1/1 (frame 2608/3810) /home/hatsu/coding/CapProj/TestSeg_1/video_input/fight_5.mp4: 384x640 1 Fighter, 14.2ms\n",
      "video 1/1 (frame 2609/3810) /home/hatsu/coding/CapProj/TestSeg_1/video_input/fight_5.mp4: 384x640 1 Fighter, 15.6ms\n",
      "video 1/1 (frame 2610/3810) /home/hatsu/coding/CapProj/TestSeg_1/video_input/fight_5.mp4: 384x640 1 Fighter, 14.2ms\n",
      "video 1/1 (frame 2611/3810) /home/hatsu/coding/CapProj/TestSeg_1/video_input/fight_5.mp4: 384x640 1 Fighter, 15.0ms\n",
      "video 1/1 (frame 2612/3810) /home/hatsu/coding/CapProj/TestSeg_1/video_input/fight_5.mp4: 384x640 1 Fighter, 18.1ms\n",
      "video 1/1 (frame 2613/3810) /home/hatsu/coding/CapProj/TestSeg_1/video_input/fight_5.mp4: 384x640 1 Fighter, 15.8ms\n",
      "video 1/1 (frame 2614/3810) /home/hatsu/coding/CapProj/TestSeg_1/video_input/fight_5.mp4: 384x640 1 Fighter, 14.7ms\n",
      "video 1/1 (frame 2615/3810) /home/hatsu/coding/CapProj/TestSeg_1/video_input/fight_5.mp4: 384x640 1 Fighter, 15.3ms\n",
      "video 1/1 (frame 2616/3810) /home/hatsu/coding/CapProj/TestSeg_1/video_input/fight_5.mp4: 384x640 1 Fighter, 14.7ms\n",
      "video 1/1 (frame 2617/3810) /home/hatsu/coding/CapProj/TestSeg_1/video_input/fight_5.mp4: 384x640 1 Fighter, 13.1ms\n",
      "video 1/1 (frame 2618/3810) /home/hatsu/coding/CapProj/TestSeg_1/video_input/fight_5.mp4: 384x640 1 Fighter, 13.6ms\n",
      "video 1/1 (frame 2619/3810) /home/hatsu/coding/CapProj/TestSeg_1/video_input/fight_5.mp4: 384x640 1 Fighter, 22.1ms\n",
      "video 1/1 (frame 2620/3810) /home/hatsu/coding/CapProj/TestSeg_1/video_input/fight_5.mp4: 384x640 1 Fighter, 15.2ms\n",
      "video 1/1 (frame 2621/3810) /home/hatsu/coding/CapProj/TestSeg_1/video_input/fight_5.mp4: 384x640 1 Fighter, 15.1ms\n",
      "video 1/1 (frame 2622/3810) /home/hatsu/coding/CapProj/TestSeg_1/video_input/fight_5.mp4: 384x640 1 Fighter, 16.1ms\n",
      "video 1/1 (frame 2623/3810) /home/hatsu/coding/CapProj/TestSeg_1/video_input/fight_5.mp4: 384x640 1 Fighter, 14.3ms\n",
      "video 1/1 (frame 2624/3810) /home/hatsu/coding/CapProj/TestSeg_1/video_input/fight_5.mp4: 384x640 1 Fighter, 15.8ms\n",
      "video 1/1 (frame 2625/3810) /home/hatsu/coding/CapProj/TestSeg_1/video_input/fight_5.mp4: 384x640 1 Fighter, 20.7ms\n",
      "video 1/1 (frame 2626/3810) /home/hatsu/coding/CapProj/TestSeg_1/video_input/fight_5.mp4: 384x640 1 Fighter, 21.9ms\n",
      "video 1/1 (frame 2627/3810) /home/hatsu/coding/CapProj/TestSeg_1/video_input/fight_5.mp4: 384x640 1 Fighter, 13.4ms\n",
      "video 1/1 (frame 2628/3810) /home/hatsu/coding/CapProj/TestSeg_1/video_input/fight_5.mp4: 384x640 1 Fighter, 16.5ms\n",
      "video 1/1 (frame 2629/3810) /home/hatsu/coding/CapProj/TestSeg_1/video_input/fight_5.mp4: 384x640 1 Fighter, 16.5ms\n",
      "video 1/1 (frame 2630/3810) /home/hatsu/coding/CapProj/TestSeg_1/video_input/fight_5.mp4: 384x640 1 Fighter, 16.8ms\n",
      "video 1/1 (frame 2631/3810) /home/hatsu/coding/CapProj/TestSeg_1/video_input/fight_5.mp4: 384x640 1 Fighter, 16.9ms\n",
      "video 1/1 (frame 2632/3810) /home/hatsu/coding/CapProj/TestSeg_1/video_input/fight_5.mp4: 384x640 1 Fighter, 20.2ms\n",
      "video 1/1 (frame 2633/3810) /home/hatsu/coding/CapProj/TestSeg_1/video_input/fight_5.mp4: 384x640 1 Fighter, 15.5ms\n",
      "video 1/1 (frame 2634/3810) /home/hatsu/coding/CapProj/TestSeg_1/video_input/fight_5.mp4: 384x640 1 Fighter, 13.7ms\n",
      "video 1/1 (frame 2635/3810) /home/hatsu/coding/CapProj/TestSeg_1/video_input/fight_5.mp4: 384x640 1 Fighter, 13.7ms\n",
      "video 1/1 (frame 2636/3810) /home/hatsu/coding/CapProj/TestSeg_1/video_input/fight_5.mp4: 384x640 1 Fighter, 23.1ms\n",
      "video 1/1 (frame 2637/3810) /home/hatsu/coding/CapProj/TestSeg_1/video_input/fight_5.mp4: 384x640 1 Fighter, 14.7ms\n",
      "video 1/1 (frame 2638/3810) /home/hatsu/coding/CapProj/TestSeg_1/video_input/fight_5.mp4: 384x640 1 Fighter, 15.7ms\n",
      "video 1/1 (frame 2639/3810) /home/hatsu/coding/CapProj/TestSeg_1/video_input/fight_5.mp4: 384x640 1 Fighter, 15.4ms\n",
      "video 1/1 (frame 2640/3810) /home/hatsu/coding/CapProj/TestSeg_1/video_input/fight_5.mp4: 384x640 1 Fighter, 37.7ms\n",
      "video 1/1 (frame 2641/3810) /home/hatsu/coding/CapProj/TestSeg_1/video_input/fight_5.mp4: 384x640 1 Fighter, 19.3ms\n",
      "video 1/1 (frame 2642/3810) /home/hatsu/coding/CapProj/TestSeg_1/video_input/fight_5.mp4: 384x640 1 Fighter, 18.5ms\n",
      "video 1/1 (frame 2643/3810) /home/hatsu/coding/CapProj/TestSeg_1/video_input/fight_5.mp4: 384x640 1 Fighter, 20.3ms\n",
      "video 1/1 (frame 2644/3810) /home/hatsu/coding/CapProj/TestSeg_1/video_input/fight_5.mp4: 384x640 1 Fighter, 20.3ms\n",
      "video 1/1 (frame 2645/3810) /home/hatsu/coding/CapProj/TestSeg_1/video_input/fight_5.mp4: 384x640 1 Fighter, 24.9ms\n",
      "video 1/1 (frame 2646/3810) /home/hatsu/coding/CapProj/TestSeg_1/video_input/fight_5.mp4: 384x640 1 Fighter, 21.1ms\n",
      "video 1/1 (frame 2647/3810) /home/hatsu/coding/CapProj/TestSeg_1/video_input/fight_5.mp4: 384x640 1 Fighter, 13.3ms\n",
      "video 1/1 (frame 2648/3810) /home/hatsu/coding/CapProj/TestSeg_1/video_input/fight_5.mp4: 384x640 1 Fighter, 12.8ms\n",
      "video 1/1 (frame 2649/3810) /home/hatsu/coding/CapProj/TestSeg_1/video_input/fight_5.mp4: 384x640 1 Fighter, 13.7ms\n",
      "video 1/1 (frame 2650/3810) /home/hatsu/coding/CapProj/TestSeg_1/video_input/fight_5.mp4: 384x640 1 Fighter, 15.9ms\n",
      "video 1/1 (frame 2651/3810) /home/hatsu/coding/CapProj/TestSeg_1/video_input/fight_5.mp4: 384x640 1 Fighter, 19.5ms\n",
      "video 1/1 (frame 2652/3810) /home/hatsu/coding/CapProj/TestSeg_1/video_input/fight_5.mp4: 384x640 1 Fighter, 14.1ms\n",
      "video 1/1 (frame 2653/3810) /home/hatsu/coding/CapProj/TestSeg_1/video_input/fight_5.mp4: 384x640 1 Fighter, 17.1ms\n",
      "video 1/1 (frame 2654/3810) /home/hatsu/coding/CapProj/TestSeg_1/video_input/fight_5.mp4: 384x640 1 Fighter, 15.0ms\n",
      "video 1/1 (frame 2655/3810) /home/hatsu/coding/CapProj/TestSeg_1/video_input/fight_5.mp4: 384x640 1 Fighter, 14.2ms\n",
      "video 1/1 (frame 2656/3810) /home/hatsu/coding/CapProj/TestSeg_1/video_input/fight_5.mp4: 384x640 1 Fighter, 15.2ms\n",
      "video 1/1 (frame 2657/3810) /home/hatsu/coding/CapProj/TestSeg_1/video_input/fight_5.mp4: 384x640 1 Fighter, 18.9ms\n",
      "video 1/1 (frame 2658/3810) /home/hatsu/coding/CapProj/TestSeg_1/video_input/fight_5.mp4: 384x640 1 Fighter, 22.5ms\n",
      "video 1/1 (frame 2659/3810) /home/hatsu/coding/CapProj/TestSeg_1/video_input/fight_5.mp4: 384x640 1 Fighter, 21.3ms\n",
      "video 1/1 (frame 2660/3810) /home/hatsu/coding/CapProj/TestSeg_1/video_input/fight_5.mp4: 384x640 1 Fighter, 16.4ms\n",
      "video 1/1 (frame 2661/3810) /home/hatsu/coding/CapProj/TestSeg_1/video_input/fight_5.mp4: 384x640 1 Fighter, 13.5ms\n",
      "video 1/1 (frame 2662/3810) /home/hatsu/coding/CapProj/TestSeg_1/video_input/fight_5.mp4: 384x640 1 Fighter, 12.7ms\n",
      "video 1/1 (frame 2663/3810) /home/hatsu/coding/CapProj/TestSeg_1/video_input/fight_5.mp4: 384x640 1 Fighter, 14.8ms\n",
      "video 1/1 (frame 2664/3810) /home/hatsu/coding/CapProj/TestSeg_1/video_input/fight_5.mp4: 384x640 1 Fighter, 14.0ms\n",
      "video 1/1 (frame 2665/3810) /home/hatsu/coding/CapProj/TestSeg_1/video_input/fight_5.mp4: 384x640 1 Fighter, 19.1ms\n",
      "video 1/1 (frame 2666/3810) /home/hatsu/coding/CapProj/TestSeg_1/video_input/fight_5.mp4: 384x640 1 Fighter, 15.0ms\n",
      "video 1/1 (frame 2667/3810) /home/hatsu/coding/CapProj/TestSeg_1/video_input/fight_5.mp4: 384x640 1 Fighter, 13.7ms\n",
      "video 1/1 (frame 2668/3810) /home/hatsu/coding/CapProj/TestSeg_1/video_input/fight_5.mp4: 384x640 1 Fighter, 13.2ms\n",
      "video 1/1 (frame 2669/3810) /home/hatsu/coding/CapProj/TestSeg_1/video_input/fight_5.mp4: 384x640 1 Fighter, 14.8ms\n",
      "video 1/1 (frame 2670/3810) /home/hatsu/coding/CapProj/TestSeg_1/video_input/fight_5.mp4: 384x640 1 Fighter, 15.4ms\n",
      "video 1/1 (frame 2671/3810) /home/hatsu/coding/CapProj/TestSeg_1/video_input/fight_5.mp4: 384x640 1 Fighter, 16.1ms\n",
      "video 1/1 (frame 2672/3810) /home/hatsu/coding/CapProj/TestSeg_1/video_input/fight_5.mp4: 384x640 1 Fighter, 22.9ms\n",
      "video 1/1 (frame 2673/3810) /home/hatsu/coding/CapProj/TestSeg_1/video_input/fight_5.mp4: 384x640 1 Fighter, 13.8ms\n",
      "video 1/1 (frame 2674/3810) /home/hatsu/coding/CapProj/TestSeg_1/video_input/fight_5.mp4: 384x640 1 Fighter, 14.8ms\n",
      "video 1/1 (frame 2675/3810) /home/hatsu/coding/CapProj/TestSeg_1/video_input/fight_5.mp4: 384x640 1 Fighter, 31.1ms\n",
      "video 1/1 (frame 2676/3810) /home/hatsu/coding/CapProj/TestSeg_1/video_input/fight_5.mp4: 384x640 1 Fighter, 13.8ms\n",
      "video 1/1 (frame 2677/3810) /home/hatsu/coding/CapProj/TestSeg_1/video_input/fight_5.mp4: 384x640 1 Fighter, 13.4ms\n",
      "video 1/1 (frame 2678/3810) /home/hatsu/coding/CapProj/TestSeg_1/video_input/fight_5.mp4: 384x640 1 Fighter, 14.2ms\n",
      "video 1/1 (frame 2679/3810) /home/hatsu/coding/CapProj/TestSeg_1/video_input/fight_5.mp4: 384x640 1 Fighter, 22.6ms\n",
      "video 1/1 (frame 2680/3810) /home/hatsu/coding/CapProj/TestSeg_1/video_input/fight_5.mp4: 384x640 1 Fighter, 20.0ms\n",
      "video 1/1 (frame 2681/3810) /home/hatsu/coding/CapProj/TestSeg_1/video_input/fight_5.mp4: 384x640 1 Fighter, 18.1ms\n",
      "video 1/1 (frame 2682/3810) /home/hatsu/coding/CapProj/TestSeg_1/video_input/fight_5.mp4: 384x640 1 Fighter, 33.8ms\n",
      "video 1/1 (frame 2683/3810) /home/hatsu/coding/CapProj/TestSeg_1/video_input/fight_5.mp4: 384x640 1 Fighter, 18.2ms\n",
      "video 1/1 (frame 2684/3810) /home/hatsu/coding/CapProj/TestSeg_1/video_input/fight_5.mp4: 384x640 1 Fighter, 21.8ms\n",
      "video 1/1 (frame 2685/3810) /home/hatsu/coding/CapProj/TestSeg_1/video_input/fight_5.mp4: 384x640 1 Fighter, 22.3ms\n",
      "video 1/1 (frame 2686/3810) /home/hatsu/coding/CapProj/TestSeg_1/video_input/fight_5.mp4: 384x640 1 Fighter, 16.9ms\n",
      "video 1/1 (frame 2687/3810) /home/hatsu/coding/CapProj/TestSeg_1/video_input/fight_5.mp4: 384x640 1 Fighter, 21.0ms\n",
      "video 1/1 (frame 2688/3810) /home/hatsu/coding/CapProj/TestSeg_1/video_input/fight_5.mp4: 384x640 1 Fighter, 18.9ms\n",
      "video 1/1 (frame 2689/3810) /home/hatsu/coding/CapProj/TestSeg_1/video_input/fight_5.mp4: 384x640 1 Fighter, 16.1ms\n",
      "video 1/1 (frame 2690/3810) /home/hatsu/coding/CapProj/TestSeg_1/video_input/fight_5.mp4: 384x640 1 Fighter, 15.9ms\n",
      "video 1/1 (frame 2691/3810) /home/hatsu/coding/CapProj/TestSeg_1/video_input/fight_5.mp4: 384x640 1 Fighter, 13.6ms\n",
      "video 1/1 (frame 2692/3810) /home/hatsu/coding/CapProj/TestSeg_1/video_input/fight_5.mp4: 384x640 1 Fighter, 39.6ms\n",
      "video 1/1 (frame 2693/3810) /home/hatsu/coding/CapProj/TestSeg_1/video_input/fight_5.mp4: 384x640 1 Fighter, 18.1ms\n",
      "video 1/1 (frame 2694/3810) /home/hatsu/coding/CapProj/TestSeg_1/video_input/fight_5.mp4: 384x640 1 Fighter, 26.0ms\n",
      "video 1/1 (frame 2695/3810) /home/hatsu/coding/CapProj/TestSeg_1/video_input/fight_5.mp4: 384x640 1 Fighter, 13.8ms\n",
      "video 1/1 (frame 2696/3810) /home/hatsu/coding/CapProj/TestSeg_1/video_input/fight_5.mp4: 384x640 1 Fighter, 14.9ms\n",
      "video 1/1 (frame 2697/3810) /home/hatsu/coding/CapProj/TestSeg_1/video_input/fight_5.mp4: 384x640 1 Fighter, 14.3ms\n",
      "video 1/1 (frame 2698/3810) /home/hatsu/coding/CapProj/TestSeg_1/video_input/fight_5.mp4: 384x640 1 Fighter, 32.3ms\n",
      "video 1/1 (frame 2699/3810) /home/hatsu/coding/CapProj/TestSeg_1/video_input/fight_5.mp4: 384x640 1 Fighter, 19.3ms\n",
      "video 1/1 (frame 2700/3810) /home/hatsu/coding/CapProj/TestSeg_1/video_input/fight_5.mp4: 384x640 1 Fighter, 15.9ms\n",
      "video 1/1 (frame 2701/3810) /home/hatsu/coding/CapProj/TestSeg_1/video_input/fight_5.mp4: 384x640 1 Fighter, 13.3ms\n",
      "video 1/1 (frame 2702/3810) /home/hatsu/coding/CapProj/TestSeg_1/video_input/fight_5.mp4: 384x640 1 Fighter, 15.4ms\n",
      "video 1/1 (frame 2703/3810) /home/hatsu/coding/CapProj/TestSeg_1/video_input/fight_5.mp4: 384x640 1 Fighter, 13.6ms\n",
      "video 1/1 (frame 2704/3810) /home/hatsu/coding/CapProj/TestSeg_1/video_input/fight_5.mp4: 384x640 1 Fighter, 15.8ms\n",
      "video 1/1 (frame 2705/3810) /home/hatsu/coding/CapProj/TestSeg_1/video_input/fight_5.mp4: 384x640 1 Fighter, 20.5ms\n",
      "video 1/1 (frame 2706/3810) /home/hatsu/coding/CapProj/TestSeg_1/video_input/fight_5.mp4: 384x640 1 Fighter, 16.6ms\n",
      "video 1/1 (frame 2707/3810) /home/hatsu/coding/CapProj/TestSeg_1/video_input/fight_5.mp4: 384x640 1 Fighter, 13.6ms\n",
      "video 1/1 (frame 2708/3810) /home/hatsu/coding/CapProj/TestSeg_1/video_input/fight_5.mp4: 384x640 1 Fighter, 14.6ms\n",
      "video 1/1 (frame 2709/3810) /home/hatsu/coding/CapProj/TestSeg_1/video_input/fight_5.mp4: 384x640 1 Fighter, 14.0ms\n",
      "video 1/1 (frame 2710/3810) /home/hatsu/coding/CapProj/TestSeg_1/video_input/fight_5.mp4: 384x640 1 Fighter, 15.2ms\n",
      "video 1/1 (frame 2711/3810) /home/hatsu/coding/CapProj/TestSeg_1/video_input/fight_5.mp4: 384x640 1 Fighter, 20.3ms\n",
      "video 1/1 (frame 2712/3810) /home/hatsu/coding/CapProj/TestSeg_1/video_input/fight_5.mp4: 384x640 1 Fighter, 15.3ms\n",
      "video 1/1 (frame 2713/3810) /home/hatsu/coding/CapProj/TestSeg_1/video_input/fight_5.mp4: 384x640 1 Fighter, 12.8ms\n",
      "video 1/1 (frame 2714/3810) /home/hatsu/coding/CapProj/TestSeg_1/video_input/fight_5.mp4: 384x640 1 Fighter, 32.7ms\n",
      "video 1/1 (frame 2715/3810) /home/hatsu/coding/CapProj/TestSeg_1/video_input/fight_5.mp4: 384x640 1 Fighter, 12.9ms\n",
      "video 1/1 (frame 2716/3810) /home/hatsu/coding/CapProj/TestSeg_1/video_input/fight_5.mp4: 384x640 2 Fighters, 13.4ms\n",
      "video 1/1 (frame 2717/3810) /home/hatsu/coding/CapProj/TestSeg_1/video_input/fight_5.mp4: 384x640 1 Fighter, 15.5ms\n",
      "video 1/1 (frame 2718/3810) /home/hatsu/coding/CapProj/TestSeg_1/video_input/fight_5.mp4: 384x640 1 Fighter, 28.1ms\n",
      "video 1/1 (frame 2719/3810) /home/hatsu/coding/CapProj/TestSeg_1/video_input/fight_5.mp4: 384x640 1 Fighter, 21.3ms\n",
      "video 1/1 (frame 2720/3810) /home/hatsu/coding/CapProj/TestSeg_1/video_input/fight_5.mp4: 384x640 1 Fighter, 41.8ms\n",
      "video 1/1 (frame 2721/3810) /home/hatsu/coding/CapProj/TestSeg_1/video_input/fight_5.mp4: 384x640 1 Fighter, 20.6ms\n",
      "video 1/1 (frame 2722/3810) /home/hatsu/coding/CapProj/TestSeg_1/video_input/fight_5.mp4: 384x640 1 Fighter, 19.5ms\n",
      "video 1/1 (frame 2723/3810) /home/hatsu/coding/CapProj/TestSeg_1/video_input/fight_5.mp4: 384x640 1 Fighter, 20.2ms\n",
      "video 1/1 (frame 2724/3810) /home/hatsu/coding/CapProj/TestSeg_1/video_input/fight_5.mp4: 384x640 1 Fighter, 21.5ms\n",
      "video 1/1 (frame 2725/3810) /home/hatsu/coding/CapProj/TestSeg_1/video_input/fight_5.mp4: 384x640 1 Fighter, 18.0ms\n",
      "video 1/1 (frame 2726/3810) /home/hatsu/coding/CapProj/TestSeg_1/video_input/fight_5.mp4: 384x640 1 Fighter, 14.3ms\n",
      "video 1/1 (frame 2727/3810) /home/hatsu/coding/CapProj/TestSeg_1/video_input/fight_5.mp4: 384x640 1 Fighter, 15.0ms\n",
      "video 1/1 (frame 2728/3810) /home/hatsu/coding/CapProj/TestSeg_1/video_input/fight_5.mp4: 384x640 1 Fighter, 13.8ms\n",
      "video 1/1 (frame 2729/3810) /home/hatsu/coding/CapProj/TestSeg_1/video_input/fight_5.mp4: 384x640 1 Fighter, 14.8ms\n",
      "video 1/1 (frame 2730/3810) /home/hatsu/coding/CapProj/TestSeg_1/video_input/fight_5.mp4: 384x640 1 Fighter, 22.7ms\n",
      "video 1/1 (frame 2731/3810) /home/hatsu/coding/CapProj/TestSeg_1/video_input/fight_5.mp4: 384x640 1 Fighter, 13.5ms\n",
      "video 1/1 (frame 2732/3810) /home/hatsu/coding/CapProj/TestSeg_1/video_input/fight_5.mp4: 384x640 1 Fighter, 14.8ms\n",
      "video 1/1 (frame 2733/3810) /home/hatsu/coding/CapProj/TestSeg_1/video_input/fight_5.mp4: 384x640 1 Fighter, 16.9ms\n",
      "video 1/1 (frame 2734/3810) /home/hatsu/coding/CapProj/TestSeg_1/video_input/fight_5.mp4: 384x640 1 Fighter, 14.4ms\n",
      "video 1/1 (frame 2735/3810) /home/hatsu/coding/CapProj/TestSeg_1/video_input/fight_5.mp4: 384x640 1 Fighter, 16.6ms\n",
      "video 1/1 (frame 2736/3810) /home/hatsu/coding/CapProj/TestSeg_1/video_input/fight_5.mp4: 384x640 1 Fighter, 23.0ms\n",
      "video 1/1 (frame 2737/3810) /home/hatsu/coding/CapProj/TestSeg_1/video_input/fight_5.mp4: 384x640 1 Fighter, 14.2ms\n",
      "video 1/1 (frame 2738/3810) /home/hatsu/coding/CapProj/TestSeg_1/video_input/fight_5.mp4: 384x640 1 Fighter, 14.2ms\n",
      "video 1/1 (frame 2739/3810) /home/hatsu/coding/CapProj/TestSeg_1/video_input/fight_5.mp4: 384x640 1 Fighter, 14.3ms\n",
      "video 1/1 (frame 2740/3810) /home/hatsu/coding/CapProj/TestSeg_1/video_input/fight_5.mp4: 384x640 1 Fighter, 17.0ms\n",
      "video 1/1 (frame 2741/3810) /home/hatsu/coding/CapProj/TestSeg_1/video_input/fight_5.mp4: 384x640 1 Fighter, 17.8ms\n",
      "video 1/1 (frame 2742/3810) /home/hatsu/coding/CapProj/TestSeg_1/video_input/fight_5.mp4: 384x640 1 Fighter, 22.0ms\n",
      "video 1/1 (frame 2743/3810) /home/hatsu/coding/CapProj/TestSeg_1/video_input/fight_5.mp4: 384x640 1 Fighter, 14.3ms\n",
      "video 1/1 (frame 2744/3810) /home/hatsu/coding/CapProj/TestSeg_1/video_input/fight_5.mp4: 384x640 1 Fighter, 14.8ms\n",
      "video 1/1 (frame 2745/3810) /home/hatsu/coding/CapProj/TestSeg_1/video_input/fight_5.mp4: 384x640 2 Fighters, 14.8ms\n",
      "video 1/1 (frame 2746/3810) /home/hatsu/coding/CapProj/TestSeg_1/video_input/fight_5.mp4: 384x640 2 Fighters, 30.6ms\n",
      "video 1/1 (frame 2747/3810) /home/hatsu/coding/CapProj/TestSeg_1/video_input/fight_5.mp4: 384x640 2 Fighters, 21.8ms\n",
      "video 1/1 (frame 2748/3810) /home/hatsu/coding/CapProj/TestSeg_1/video_input/fight_5.mp4: 384x640 1 Fighter, 14.4ms\n",
      "video 1/1 (frame 2749/3810) /home/hatsu/coding/CapProj/TestSeg_1/video_input/fight_5.mp4: 384x640 1 Fighter, 13.5ms\n",
      "video 1/1 (frame 2750/3810) /home/hatsu/coding/CapProj/TestSeg_1/video_input/fight_5.mp4: 384x640 1 Fighter, 25.4ms\n",
      "video 1/1 (frame 2751/3810) /home/hatsu/coding/CapProj/TestSeg_1/video_input/fight_5.mp4: 384x640 1 Fighter, 13.3ms\n",
      "video 1/1 (frame 2752/3810) /home/hatsu/coding/CapProj/TestSeg_1/video_input/fight_5.mp4: 384x640 1 Fighter, 15.6ms\n",
      "video 1/1 (frame 2753/3810) /home/hatsu/coding/CapProj/TestSeg_1/video_input/fight_5.mp4: 384x640 1 Fighter, 15.2ms\n",
      "video 1/1 (frame 2754/3810) /home/hatsu/coding/CapProj/TestSeg_1/video_input/fight_5.mp4: 384x640 1 Fighter, 16.6ms\n",
      "video 1/1 (frame 2755/3810) /home/hatsu/coding/CapProj/TestSeg_1/video_input/fight_5.mp4: 384x640 1 Fighter, 15.5ms\n",
      "video 1/1 (frame 2756/3810) /home/hatsu/coding/CapProj/TestSeg_1/video_input/fight_5.mp4: 384x640 1 Fighter, 21.7ms\n",
      "video 1/1 (frame 2757/3810) /home/hatsu/coding/CapProj/TestSeg_1/video_input/fight_5.mp4: 384x640 1 Fighter, 20.3ms\n",
      "video 1/1 (frame 2758/3810) /home/hatsu/coding/CapProj/TestSeg_1/video_input/fight_5.mp4: 384x640 1 Fighter, 40.5ms\n",
      "video 1/1 (frame 2759/3810) /home/hatsu/coding/CapProj/TestSeg_1/video_input/fight_5.mp4: 384x640 1 Fighter, 19.9ms\n",
      "video 1/1 (frame 2760/3810) /home/hatsu/coding/CapProj/TestSeg_1/video_input/fight_5.mp4: 384x640 1 Fighter, 18.7ms\n",
      "video 1/1 (frame 2761/3810) /home/hatsu/coding/CapProj/TestSeg_1/video_input/fight_5.mp4: 384x640 1 Fighter, 19.7ms\n",
      "video 1/1 (frame 2762/3810) /home/hatsu/coding/CapProj/TestSeg_1/video_input/fight_5.mp4: 384x640 2 Fighters, 13.5ms\n",
      "video 1/1 (frame 2763/3810) /home/hatsu/coding/CapProj/TestSeg_1/video_input/fight_5.mp4: 384x640 1 Fighter, 22.7ms\n",
      "video 1/1 (frame 2764/3810) /home/hatsu/coding/CapProj/TestSeg_1/video_input/fight_5.mp4: 384x640 1 Fighter, 15.2ms\n",
      "video 1/1 (frame 2765/3810) /home/hatsu/coding/CapProj/TestSeg_1/video_input/fight_5.mp4: 384x640 1 Fighter, 14.9ms\n",
      "video 1/1 (frame 2766/3810) /home/hatsu/coding/CapProj/TestSeg_1/video_input/fight_5.mp4: 384x640 1 Fighter, 16.5ms\n",
      "video 1/1 (frame 2767/3810) /home/hatsu/coding/CapProj/TestSeg_1/video_input/fight_5.mp4: 384x640 1 Fighter, 13.9ms\n",
      "video 1/1 (frame 2768/3810) /home/hatsu/coding/CapProj/TestSeg_1/video_input/fight_5.mp4: 384x640 1 Fighter, 14.7ms\n",
      "video 1/1 (frame 2769/3810) /home/hatsu/coding/CapProj/TestSeg_1/video_input/fight_5.mp4: 384x640 1 Fighter, 19.0ms\n",
      "video 1/1 (frame 2770/3810) /home/hatsu/coding/CapProj/TestSeg_1/video_input/fight_5.mp4: 384x640 1 Fighter, 14.4ms\n",
      "video 1/1 (frame 2771/3810) /home/hatsu/coding/CapProj/TestSeg_1/video_input/fight_5.mp4: 384x640 1 Fighter, 16.4ms\n",
      "video 1/1 (frame 2772/3810) /home/hatsu/coding/CapProj/TestSeg_1/video_input/fight_5.mp4: 384x640 1 Fighter, 15.9ms\n",
      "video 1/1 (frame 2773/3810) /home/hatsu/coding/CapProj/TestSeg_1/video_input/fight_5.mp4: 384x640 2 Fighters, 14.6ms\n",
      "video 1/1 (frame 2774/3810) /home/hatsu/coding/CapProj/TestSeg_1/video_input/fight_5.mp4: 384x640 1 Fighter, 16.9ms\n",
      "video 1/1 (frame 2775/3810) /home/hatsu/coding/CapProj/TestSeg_1/video_input/fight_5.mp4: 384x640 1 Fighter, 19.8ms\n",
      "video 1/1 (frame 2776/3810) /home/hatsu/coding/CapProj/TestSeg_1/video_input/fight_5.mp4: 384x640 1 Fighter, 13.9ms\n",
      "video 1/1 (frame 2777/3810) /home/hatsu/coding/CapProj/TestSeg_1/video_input/fight_5.mp4: 384x640 1 Fighter, 18.7ms\n",
      "video 1/1 (frame 2778/3810) /home/hatsu/coding/CapProj/TestSeg_1/video_input/fight_5.mp4: 384x640 1 Fighter, 20.3ms\n",
      "video 1/1 (frame 2779/3810) /home/hatsu/coding/CapProj/TestSeg_1/video_input/fight_5.mp4: 384x640 1 Fighter, 14.6ms\n",
      "video 1/1 (frame 2780/3810) /home/hatsu/coding/CapProj/TestSeg_1/video_input/fight_5.mp4: 384x640 1 Fighter, 13.0ms\n",
      "video 1/1 (frame 2781/3810) /home/hatsu/coding/CapProj/TestSeg_1/video_input/fight_5.mp4: 384x640 1 Fighter, 43.3ms\n",
      "video 1/1 (frame 2782/3810) /home/hatsu/coding/CapProj/TestSeg_1/video_input/fight_5.mp4: 384x640 1 Fighter, 21.4ms\n",
      "video 1/1 (frame 2783/3810) /home/hatsu/coding/CapProj/TestSeg_1/video_input/fight_5.mp4: 384x640 1 Fighter, 15.4ms\n",
      "video 1/1 (frame 2784/3810) /home/hatsu/coding/CapProj/TestSeg_1/video_input/fight_5.mp4: 384x640 1 Fighter, 15.5ms\n",
      "video 1/1 (frame 2785/3810) /home/hatsu/coding/CapProj/TestSeg_1/video_input/fight_5.mp4: 384x640 1 Fighter, 18.0ms\n",
      "video 1/1 (frame 2786/3810) /home/hatsu/coding/CapProj/TestSeg_1/video_input/fight_5.mp4: 384x640 1 Fighter, 17.4ms\n",
      "video 1/1 (frame 2787/3810) /home/hatsu/coding/CapProj/TestSeg_1/video_input/fight_5.mp4: 384x640 1 Fighter, 21.9ms\n",
      "video 1/1 (frame 2788/3810) /home/hatsu/coding/CapProj/TestSeg_1/video_input/fight_5.mp4: 384x640 1 Fighter, 14.3ms\n",
      "video 1/1 (frame 2789/3810) /home/hatsu/coding/CapProj/TestSeg_1/video_input/fight_5.mp4: 384x640 1 Fighter, 34.8ms\n",
      "video 1/1 (frame 2790/3810) /home/hatsu/coding/CapProj/TestSeg_1/video_input/fight_5.mp4: 384x640 1 Fighter, 14.1ms\n",
      "video 1/1 (frame 2791/3810) /home/hatsu/coding/CapProj/TestSeg_1/video_input/fight_5.mp4: 384x640 1 Fighter, 13.2ms\n",
      "video 1/1 (frame 2792/3810) /home/hatsu/coding/CapProj/TestSeg_1/video_input/fight_5.mp4: 384x640 1 Fighter, 13.6ms\n",
      "video 1/1 (frame 2793/3810) /home/hatsu/coding/CapProj/TestSeg_1/video_input/fight_5.mp4: 384x640 1 Fighter, 14.7ms\n",
      "video 1/1 (frame 2794/3810) /home/hatsu/coding/CapProj/TestSeg_1/video_input/fight_5.mp4: 384x640 1 Fighter, 21.1ms\n",
      "video 1/1 (frame 2795/3810) /home/hatsu/coding/CapProj/TestSeg_1/video_input/fight_5.mp4: 384x640 1 Fighter, 22.6ms\n",
      "video 1/1 (frame 2796/3810) /home/hatsu/coding/CapProj/TestSeg_1/video_input/fight_5.mp4: 384x640 1 Fighter, 20.4ms\n",
      "video 1/1 (frame 2797/3810) /home/hatsu/coding/CapProj/TestSeg_1/video_input/fight_5.mp4: 384x640 1 Fighter, 21.7ms\n",
      "video 1/1 (frame 2798/3810) /home/hatsu/coding/CapProj/TestSeg_1/video_input/fight_5.mp4: 384x640 1 Fighter, 25.6ms\n",
      "video 1/1 (frame 2799/3810) /home/hatsu/coding/CapProj/TestSeg_1/video_input/fight_5.mp4: 384x640 1 Fighter, 19.1ms\n",
      "video 1/1 (frame 2800/3810) /home/hatsu/coding/CapProj/TestSeg_1/video_input/fight_5.mp4: 384x640 1 Fighter, 24.4ms\n",
      "video 1/1 (frame 2801/3810) /home/hatsu/coding/CapProj/TestSeg_1/video_input/fight_5.mp4: 384x640 1 Fighter, 18.5ms\n",
      "video 1/1 (frame 2802/3810) /home/hatsu/coding/CapProj/TestSeg_1/video_input/fight_5.mp4: 384x640 1 Fighter, 19.7ms\n",
      "video 1/1 (frame 2803/3810) /home/hatsu/coding/CapProj/TestSeg_1/video_input/fight_5.mp4: 384x640 1 Fighter, 20.7ms\n",
      "video 1/1 (frame 2804/3810) /home/hatsu/coding/CapProj/TestSeg_1/video_input/fight_5.mp4: 384x640 1 Fighter, 15.0ms\n",
      "video 1/1 (frame 2805/3810) /home/hatsu/coding/CapProj/TestSeg_1/video_input/fight_5.mp4: 384x640 1 Fighter, 15.2ms\n",
      "video 1/1 (frame 2806/3810) /home/hatsu/coding/CapProj/TestSeg_1/video_input/fight_5.mp4: 384x640 1 Fighter, 23.2ms\n",
      "video 1/1 (frame 2807/3810) /home/hatsu/coding/CapProj/TestSeg_1/video_input/fight_5.mp4: 384x640 1 Fighter, 19.4ms\n",
      "video 1/1 (frame 2808/3810) /home/hatsu/coding/CapProj/TestSeg_1/video_input/fight_5.mp4: 384x640 1 Fighter, 15.6ms\n",
      "video 1/1 (frame 2809/3810) /home/hatsu/coding/CapProj/TestSeg_1/video_input/fight_5.mp4: 384x640 1 Fighter, 43.8ms\n",
      "video 1/1 (frame 2810/3810) /home/hatsu/coding/CapProj/TestSeg_1/video_input/fight_5.mp4: 384x640 1 Fighter, 17.9ms\n",
      "video 1/1 (frame 2811/3810) /home/hatsu/coding/CapProj/TestSeg_1/video_input/fight_5.mp4: 384x640 1 Fighter, 31.9ms\n",
      "video 1/1 (frame 2812/3810) /home/hatsu/coding/CapProj/TestSeg_1/video_input/fight_5.mp4: 384x640 1 Fighter, 41.0ms\n",
      "video 1/1 (frame 2813/3810) /home/hatsu/coding/CapProj/TestSeg_1/video_input/fight_5.mp4: 384x640 1 Fighter, 20.4ms\n",
      "video 1/1 (frame 2814/3810) /home/hatsu/coding/CapProj/TestSeg_1/video_input/fight_5.mp4: 384x640 1 Fighter, 14.0ms\n",
      "video 1/1 (frame 2815/3810) /home/hatsu/coding/CapProj/TestSeg_1/video_input/fight_5.mp4: 384x640 4 Fighters, 14.6ms\n",
      "video 1/1 (frame 2816/3810) /home/hatsu/coding/CapProj/TestSeg_1/video_input/fight_5.mp4: 384x640 2 Fighters, 13.5ms\n",
      "video 1/1 (frame 2817/3810) /home/hatsu/coding/CapProj/TestSeg_1/video_input/fight_5.mp4: 384x640 2 Fighters, 16.2ms\n",
      "video 1/1 (frame 2818/3810) /home/hatsu/coding/CapProj/TestSeg_1/video_input/fight_5.mp4: 384x640 2 Fighters, 34.9ms\n",
      "video 1/1 (frame 2819/3810) /home/hatsu/coding/CapProj/TestSeg_1/video_input/fight_5.mp4: 384x640 2 Fighters, 16.8ms\n",
      "video 1/1 (frame 2820/3810) /home/hatsu/coding/CapProj/TestSeg_1/video_input/fight_5.mp4: 384x640 2 Fighters, 14.3ms\n",
      "video 1/1 (frame 2821/3810) /home/hatsu/coding/CapProj/TestSeg_1/video_input/fight_5.mp4: 384x640 3 Fighters, 14.0ms\n",
      "video 1/1 (frame 2822/3810) /home/hatsu/coding/CapProj/TestSeg_1/video_input/fight_5.mp4: 384x640 3 Fighters, 14.5ms\n",
      "video 1/1 (frame 2823/3810) /home/hatsu/coding/CapProj/TestSeg_1/video_input/fight_5.mp4: 384x640 3 Fighters, 14.3ms\n",
      "video 1/1 (frame 2824/3810) /home/hatsu/coding/CapProj/TestSeg_1/video_input/fight_5.mp4: 384x640 4 Fighters, 16.8ms\n",
      "video 1/1 (frame 2825/3810) /home/hatsu/coding/CapProj/TestSeg_1/video_input/fight_5.mp4: 384x640 3 Fighters, 24.1ms\n",
      "video 1/1 (frame 2826/3810) /home/hatsu/coding/CapProj/TestSeg_1/video_input/fight_5.mp4: 384x640 4 Fighters, 15.0ms\n",
      "video 1/1 (frame 2827/3810) /home/hatsu/coding/CapProj/TestSeg_1/video_input/fight_5.mp4: 384x640 4 Fighters, 15.5ms\n",
      "video 1/1 (frame 2828/3810) /home/hatsu/coding/CapProj/TestSeg_1/video_input/fight_5.mp4: 384x640 4 Fighters, 12.9ms\n",
      "video 1/1 (frame 2829/3810) /home/hatsu/coding/CapProj/TestSeg_1/video_input/fight_5.mp4: 384x640 4 Fighters, 31.8ms\n",
      "video 1/1 (frame 2830/3810) /home/hatsu/coding/CapProj/TestSeg_1/video_input/fight_5.mp4: 384x640 4 Fighters, 15.0ms\n",
      "video 1/1 (frame 2831/3810) /home/hatsu/coding/CapProj/TestSeg_1/video_input/fight_5.mp4: 384x640 4 Fighters, 13.3ms\n",
      "video 1/1 (frame 2832/3810) /home/hatsu/coding/CapProj/TestSeg_1/video_input/fight_5.mp4: 384x640 2 Fighters, 14.4ms\n",
      "video 1/1 (frame 2833/3810) /home/hatsu/coding/CapProj/TestSeg_1/video_input/fight_5.mp4: 384x640 3 Fighters, 18.6ms\n",
      "video 1/1 (frame 2834/3810) /home/hatsu/coding/CapProj/TestSeg_1/video_input/fight_5.mp4: 384x640 3 Fighters, 13.5ms\n",
      "video 1/1 (frame 2835/3810) /home/hatsu/coding/CapProj/TestSeg_1/video_input/fight_5.mp4: 384x640 3 Fighters, 18.9ms\n",
      "video 1/1 (frame 2836/3810) /home/hatsu/coding/CapProj/TestSeg_1/video_input/fight_5.mp4: 384x640 3 Fighters, 15.5ms\n",
      "video 1/1 (frame 2837/3810) /home/hatsu/coding/CapProj/TestSeg_1/video_input/fight_5.mp4: 384x640 4 Fighters, 14.9ms\n",
      "video 1/1 (frame 2838/3810) /home/hatsu/coding/CapProj/TestSeg_1/video_input/fight_5.mp4: 384x640 2 Fighters, 20.2ms\n",
      "video 1/1 (frame 2839/3810) /home/hatsu/coding/CapProj/TestSeg_1/video_input/fight_5.mp4: 384x640 2 Fighters, 14.4ms\n",
      "video 1/1 (frame 2840/3810) /home/hatsu/coding/CapProj/TestSeg_1/video_input/fight_5.mp4: 384x640 2 Fighters, 19.9ms\n",
      "video 1/1 (frame 2841/3810) /home/hatsu/coding/CapProj/TestSeg_1/video_input/fight_5.mp4: 384x640 2 Fighters, 15.4ms\n",
      "video 1/1 (frame 2842/3810) /home/hatsu/coding/CapProj/TestSeg_1/video_input/fight_5.mp4: 384x640 3 Fighters, 14.8ms\n",
      "video 1/1 (frame 2843/3810) /home/hatsu/coding/CapProj/TestSeg_1/video_input/fight_5.mp4: 384x640 3 Fighters, 14.7ms\n",
      "video 1/1 (frame 2844/3810) /home/hatsu/coding/CapProj/TestSeg_1/video_input/fight_5.mp4: 384x640 3 Fighters, 15.0ms\n",
      "video 1/1 (frame 2845/3810) /home/hatsu/coding/CapProj/TestSeg_1/video_input/fight_5.mp4: 384x640 3 Fighters, 15.8ms\n",
      "video 1/1 (frame 2846/3810) /home/hatsu/coding/CapProj/TestSeg_1/video_input/fight_5.mp4: 384x640 3 Fighters, 24.5ms\n",
      "video 1/1 (frame 2847/3810) /home/hatsu/coding/CapProj/TestSeg_1/video_input/fight_5.mp4: 384x640 3 Fighters, 15.1ms\n",
      "video 1/1 (frame 2848/3810) /home/hatsu/coding/CapProj/TestSeg_1/video_input/fight_5.mp4: 384x640 3 Fighters, 12.8ms\n",
      "video 1/1 (frame 2849/3810) /home/hatsu/coding/CapProj/TestSeg_1/video_input/fight_5.mp4: 384x640 3 Fighters, 14.4ms\n",
      "video 1/1 (frame 2850/3810) /home/hatsu/coding/CapProj/TestSeg_1/video_input/fight_5.mp4: 384x640 3 Fighters, 13.4ms\n",
      "video 1/1 (frame 2851/3810) /home/hatsu/coding/CapProj/TestSeg_1/video_input/fight_5.mp4: 384x640 3 Fighters, 14.3ms\n",
      "video 1/1 (frame 2852/3810) /home/hatsu/coding/CapProj/TestSeg_1/video_input/fight_5.mp4: 384x640 3 Fighters, 16.5ms\n",
      "video 1/1 (frame 2853/3810) /home/hatsu/coding/CapProj/TestSeg_1/video_input/fight_5.mp4: 384x640 3 Fighters, 18.3ms\n",
      "video 1/1 (frame 2854/3810) /home/hatsu/coding/CapProj/TestSeg_1/video_input/fight_5.mp4: 384x640 3 Fighters, 17.6ms\n",
      "video 1/1 (frame 2855/3810) /home/hatsu/coding/CapProj/TestSeg_1/video_input/fight_5.mp4: 384x640 2 Fighters, 15.2ms\n",
      "video 1/1 (frame 2856/3810) /home/hatsu/coding/CapProj/TestSeg_1/video_input/fight_5.mp4: 384x640 2 Fighters, 15.0ms\n",
      "video 1/1 (frame 2857/3810) /home/hatsu/coding/CapProj/TestSeg_1/video_input/fight_5.mp4: 384x640 2 Fighters, 17.8ms\n",
      "video 1/1 (frame 2858/3810) /home/hatsu/coding/CapProj/TestSeg_1/video_input/fight_5.mp4: 384x640 2 Fighters, 13.9ms\n",
      "video 1/1 (frame 2859/3810) /home/hatsu/coding/CapProj/TestSeg_1/video_input/fight_5.mp4: 384x640 2 Fighters, 14.3ms\n",
      "video 1/1 (frame 2860/3810) /home/hatsu/coding/CapProj/TestSeg_1/video_input/fight_5.mp4: 384x640 2 Fighters, 14.6ms\n",
      "video 1/1 (frame 2861/3810) /home/hatsu/coding/CapProj/TestSeg_1/video_input/fight_5.mp4: 384x640 2 Fighters, 23.3ms\n",
      "video 1/1 (frame 2862/3810) /home/hatsu/coding/CapProj/TestSeg_1/video_input/fight_5.mp4: 384x640 3 Fighters, 15.9ms\n",
      "video 1/1 (frame 2863/3810) /home/hatsu/coding/CapProj/TestSeg_1/video_input/fight_5.mp4: 384x640 3 Fighters, 19.0ms\n",
      "video 1/1 (frame 2864/3810) /home/hatsu/coding/CapProj/TestSeg_1/video_input/fight_5.mp4: 384x640 3 Fighters, 13.3ms\n",
      "video 1/1 (frame 2865/3810) /home/hatsu/coding/CapProj/TestSeg_1/video_input/fight_5.mp4: 384x640 3 Fighters, 15.8ms\n",
      "video 1/1 (frame 2866/3810) /home/hatsu/coding/CapProj/TestSeg_1/video_input/fight_5.mp4: 384x640 3 Fighters, 14.9ms\n",
      "video 1/1 (frame 2867/3810) /home/hatsu/coding/CapProj/TestSeg_1/video_input/fight_5.mp4: 384x640 3 Fighters, 21.8ms\n",
      "video 1/1 (frame 2868/3810) /home/hatsu/coding/CapProj/TestSeg_1/video_input/fight_5.mp4: 384x640 3 Fighters, 15.7ms\n",
      "video 1/1 (frame 2869/3810) /home/hatsu/coding/CapProj/TestSeg_1/video_input/fight_5.mp4: 384x640 3 Fighters, 13.0ms\n",
      "video 1/1 (frame 2870/3810) /home/hatsu/coding/CapProj/TestSeg_1/video_input/fight_5.mp4: 384x640 3 Fighters, 16.2ms\n",
      "video 1/1 (frame 2871/3810) /home/hatsu/coding/CapProj/TestSeg_1/video_input/fight_5.mp4: 384x640 3 Fighters, 31.1ms\n",
      "video 1/1 (frame 2872/3810) /home/hatsu/coding/CapProj/TestSeg_1/video_input/fight_5.mp4: 384x640 3 Fighters, 14.4ms\n",
      "video 1/1 (frame 2873/3810) /home/hatsu/coding/CapProj/TestSeg_1/video_input/fight_5.mp4: 384x640 4 Fighters, 14.4ms\n",
      "video 1/1 (frame 2874/3810) /home/hatsu/coding/CapProj/TestSeg_1/video_input/fight_5.mp4: 384x640 3 Fighters, 21.6ms\n",
      "video 1/1 (frame 2875/3810) /home/hatsu/coding/CapProj/TestSeg_1/video_input/fight_5.mp4: 384x640 2 Fighters, 14.2ms\n",
      "video 1/1 (frame 2876/3810) /home/hatsu/coding/CapProj/TestSeg_1/video_input/fight_5.mp4: 384x640 2 Fighters, 12.7ms\n",
      "video 1/1 (frame 2877/3810) /home/hatsu/coding/CapProj/TestSeg_1/video_input/fight_5.mp4: 384x640 2 Fighters, 15.8ms\n",
      "video 1/1 (frame 2878/3810) /home/hatsu/coding/CapProj/TestSeg_1/video_input/fight_5.mp4: 384x640 2 Fighters, 18.1ms\n",
      "video 1/1 (frame 2879/3810) /home/hatsu/coding/CapProj/TestSeg_1/video_input/fight_5.mp4: 384x640 2 Fighters, 15.7ms\n",
      "video 1/1 (frame 2880/3810) /home/hatsu/coding/CapProj/TestSeg_1/video_input/fight_5.mp4: 384x640 2 Fighters, 14.3ms\n",
      "video 1/1 (frame 2881/3810) /home/hatsu/coding/CapProj/TestSeg_1/video_input/fight_5.mp4: 384x640 2 Fighters, 14.9ms\n",
      "video 1/1 (frame 2882/3810) /home/hatsu/coding/CapProj/TestSeg_1/video_input/fight_5.mp4: 384x640 2 Fighters, 23.6ms\n",
      "video 1/1 (frame 2883/3810) /home/hatsu/coding/CapProj/TestSeg_1/video_input/fight_5.mp4: 384x640 1 Fighter, 15.8ms\n",
      "video 1/1 (frame 2884/3810) /home/hatsu/coding/CapProj/TestSeg_1/video_input/fight_5.mp4: 384x640 1 Fighter, 17.0ms\n",
      "video 1/1 (frame 2885/3810) /home/hatsu/coding/CapProj/TestSeg_1/video_input/fight_5.mp4: 384x640 1 Fighter, 13.3ms\n",
      "video 1/1 (frame 2886/3810) /home/hatsu/coding/CapProj/TestSeg_1/video_input/fight_5.mp4: 384x640 1 Fighter, 18.6ms\n",
      "video 1/1 (frame 2887/3810) /home/hatsu/coding/CapProj/TestSeg_1/video_input/fight_5.mp4: 384x640 1 Fighter, 16.6ms\n",
      "video 1/1 (frame 2888/3810) /home/hatsu/coding/CapProj/TestSeg_1/video_input/fight_5.mp4: 384x640 1 Fighter, 34.1ms\n",
      "video 1/1 (frame 2889/3810) /home/hatsu/coding/CapProj/TestSeg_1/video_input/fight_5.mp4: 384x640 1 Fighter, 13.7ms\n",
      "video 1/1 (frame 2890/3810) /home/hatsu/coding/CapProj/TestSeg_1/video_input/fight_5.mp4: 384x640 1 Fighter, 14.9ms\n",
      "video 1/1 (frame 2891/3810) /home/hatsu/coding/CapProj/TestSeg_1/video_input/fight_5.mp4: 384x640 1 Fighter, 16.7ms\n",
      "video 1/1 (frame 2892/3810) /home/hatsu/coding/CapProj/TestSeg_1/video_input/fight_5.mp4: 384x640 1 Fighter, 20.9ms\n",
      "video 1/1 (frame 2893/3810) /home/hatsu/coding/CapProj/TestSeg_1/video_input/fight_5.mp4: 384x640 2 Fighters, 15.9ms\n",
      "video 1/1 (frame 2894/3810) /home/hatsu/coding/CapProj/TestSeg_1/video_input/fight_5.mp4: 384x640 2 Fighters, 32.0ms\n",
      "video 1/1 (frame 2895/3810) /home/hatsu/coding/CapProj/TestSeg_1/video_input/fight_5.mp4: 384x640 3 Fighters, 15.2ms\n",
      "video 1/1 (frame 2896/3810) /home/hatsu/coding/CapProj/TestSeg_1/video_input/fight_5.mp4: 384x640 3 Fighters, 14.5ms\n",
      "video 1/1 (frame 2897/3810) /home/hatsu/coding/CapProj/TestSeg_1/video_input/fight_5.mp4: 384x640 3 Fighters, 15.7ms\n",
      "video 1/1 (frame 2898/3810) /home/hatsu/coding/CapProj/TestSeg_1/video_input/fight_5.mp4: 384x640 3 Fighters, 15.9ms\n",
      "video 1/1 (frame 2899/3810) /home/hatsu/coding/CapProj/TestSeg_1/video_input/fight_5.mp4: 384x640 3 Fighters, 14.2ms\n",
      "video 1/1 (frame 2900/3810) /home/hatsu/coding/CapProj/TestSeg_1/video_input/fight_5.mp4: 384x640 3 Fighters, 20.1ms\n",
      "video 1/1 (frame 2901/3810) /home/hatsu/coding/CapProj/TestSeg_1/video_input/fight_5.mp4: 384x640 3 Fighters, 16.3ms\n",
      "video 1/1 (frame 2902/3810) /home/hatsu/coding/CapProj/TestSeg_1/video_input/fight_5.mp4: 384x640 3 Fighters, 16.9ms\n",
      "video 1/1 (frame 2903/3810) /home/hatsu/coding/CapProj/TestSeg_1/video_input/fight_5.mp4: 384x640 3 Fighters, 15.5ms\n",
      "video 1/1 (frame 2904/3810) /home/hatsu/coding/CapProj/TestSeg_1/video_input/fight_5.mp4: 384x640 3 Fighters, 15.3ms\n",
      "video 1/1 (frame 2905/3810) /home/hatsu/coding/CapProj/TestSeg_1/video_input/fight_5.mp4: 384x640 2 Fighters, 14.5ms\n",
      "video 1/1 (frame 2906/3810) /home/hatsu/coding/CapProj/TestSeg_1/video_input/fight_5.mp4: 384x640 2 Fighters, 14.5ms\n",
      "video 1/1 (frame 2907/3810) /home/hatsu/coding/CapProj/TestSeg_1/video_input/fight_5.mp4: 384x640 3 Fighters, 20.7ms\n",
      "video 1/1 (frame 2908/3810) /home/hatsu/coding/CapProj/TestSeg_1/video_input/fight_5.mp4: 384x640 3 Fighters, 34.4ms\n",
      "video 1/1 (frame 2909/3810) /home/hatsu/coding/CapProj/TestSeg_1/video_input/fight_5.mp4: 384x640 3 Fighters, 14.6ms\n",
      "video 1/1 (frame 2910/3810) /home/hatsu/coding/CapProj/TestSeg_1/video_input/fight_5.mp4: 384x640 3 Fighters, 14.9ms\n",
      "video 1/1 (frame 2911/3810) /home/hatsu/coding/CapProj/TestSeg_1/video_input/fight_5.mp4: 384x640 2 Fighters, 13.8ms\n",
      "video 1/1 (frame 2912/3810) /home/hatsu/coding/CapProj/TestSeg_1/video_input/fight_5.mp4: 384x640 2 Fighters, 14.2ms\n",
      "video 1/1 (frame 2913/3810) /home/hatsu/coding/CapProj/TestSeg_1/video_input/fight_5.mp4: 384x640 2 Fighters, 15.0ms\n",
      "video 1/1 (frame 2914/3810) /home/hatsu/coding/CapProj/TestSeg_1/video_input/fight_5.mp4: 384x640 2 Fighters, 23.8ms\n",
      "video 1/1 (frame 2915/3810) /home/hatsu/coding/CapProj/TestSeg_1/video_input/fight_5.mp4: 384x640 2 Fighters, 17.6ms\n",
      "video 1/1 (frame 2916/3810) /home/hatsu/coding/CapProj/TestSeg_1/video_input/fight_5.mp4: 384x640 2 Fighters, 16.1ms\n",
      "video 1/1 (frame 2917/3810) /home/hatsu/coding/CapProj/TestSeg_1/video_input/fight_5.mp4: 384x640 2 Fighters, 15.1ms\n",
      "video 1/1 (frame 2918/3810) /home/hatsu/coding/CapProj/TestSeg_1/video_input/fight_5.mp4: 384x640 3 Fighters, 14.8ms\n",
      "video 1/1 (frame 2919/3810) /home/hatsu/coding/CapProj/TestSeg_1/video_input/fight_5.mp4: 384x640 3 Fighters, 37.9ms\n",
      "video 1/1 (frame 2920/3810) /home/hatsu/coding/CapProj/TestSeg_1/video_input/fight_5.mp4: 384x640 3 Fighters, 24.4ms\n",
      "video 1/1 (frame 2921/3810) /home/hatsu/coding/CapProj/TestSeg_1/video_input/fight_5.mp4: 384x640 3 Fighters, 19.9ms\n",
      "video 1/1 (frame 2922/3810) /home/hatsu/coding/CapProj/TestSeg_1/video_input/fight_5.mp4: 384x640 4 Fighters, 13.6ms\n",
      "video 1/1 (frame 2923/3810) /home/hatsu/coding/CapProj/TestSeg_1/video_input/fight_5.mp4: 384x640 3 Fighters, 25.6ms\n",
      "video 1/1 (frame 2924/3810) /home/hatsu/coding/CapProj/TestSeg_1/video_input/fight_5.mp4: 384x640 3 Fighters, 16.5ms\n",
      "video 1/1 (frame 2925/3810) /home/hatsu/coding/CapProj/TestSeg_1/video_input/fight_5.mp4: 384x640 3 Fighters, 14.0ms\n",
      "video 1/1 (frame 2926/3810) /home/hatsu/coding/CapProj/TestSeg_1/video_input/fight_5.mp4: 384x640 3 Fighters, 15.4ms\n",
      "video 1/1 (frame 2927/3810) /home/hatsu/coding/CapProj/TestSeg_1/video_input/fight_5.mp4: 384x640 2 Fighters, 22.5ms\n",
      "video 1/1 (frame 2928/3810) /home/hatsu/coding/CapProj/TestSeg_1/video_input/fight_5.mp4: 384x640 3 Fighters, 16.0ms\n",
      "video 1/1 (frame 2929/3810) /home/hatsu/coding/CapProj/TestSeg_1/video_input/fight_5.mp4: 384x640 3 Fighters, 15.9ms\n",
      "video 1/1 (frame 2930/3810) /home/hatsu/coding/CapProj/TestSeg_1/video_input/fight_5.mp4: 384x640 3 Fighters, 15.9ms\n",
      "video 1/1 (frame 2931/3810) /home/hatsu/coding/CapProj/TestSeg_1/video_input/fight_5.mp4: 384x640 3 Fighters, 15.9ms\n",
      "video 1/1 (frame 2932/3810) /home/hatsu/coding/CapProj/TestSeg_1/video_input/fight_5.mp4: 384x640 2 Fighters, 15.2ms\n",
      "video 1/1 (frame 2933/3810) /home/hatsu/coding/CapProj/TestSeg_1/video_input/fight_5.mp4: 384x640 2 Fighters, 20.6ms\n",
      "video 1/1 (frame 2934/3810) /home/hatsu/coding/CapProj/TestSeg_1/video_input/fight_5.mp4: 384x640 2 Fighters, 16.5ms\n",
      "video 1/1 (frame 2935/3810) /home/hatsu/coding/CapProj/TestSeg_1/video_input/fight_5.mp4: 384x640 2 Fighters, 14.2ms\n",
      "video 1/1 (frame 2936/3810) /home/hatsu/coding/CapProj/TestSeg_1/video_input/fight_5.mp4: 384x640 2 Fighters, 16.6ms\n",
      "video 1/1 (frame 2937/3810) /home/hatsu/coding/CapProj/TestSeg_1/video_input/fight_5.mp4: 384x640 2 Fighters, 14.5ms\n",
      "video 1/1 (frame 2938/3810) /home/hatsu/coding/CapProj/TestSeg_1/video_input/fight_5.mp4: 384x640 2 Fighters, 21.9ms\n",
      "video 1/1 (frame 2939/3810) /home/hatsu/coding/CapProj/TestSeg_1/video_input/fight_5.mp4: 384x640 1 Fighter, 17.7ms\n",
      "video 1/1 (frame 2940/3810) /home/hatsu/coding/CapProj/TestSeg_1/video_input/fight_5.mp4: 384x640 1 Fighter, 14.9ms\n",
      "video 1/1 (frame 2941/3810) /home/hatsu/coding/CapProj/TestSeg_1/video_input/fight_5.mp4: 384x640 1 Fighter, 15.2ms\n",
      "video 1/1 (frame 2942/3810) /home/hatsu/coding/CapProj/TestSeg_1/video_input/fight_5.mp4: 384x640 1 Fighter, 22.4ms\n",
      "video 1/1 (frame 2943/3810) /home/hatsu/coding/CapProj/TestSeg_1/video_input/fight_5.mp4: 384x640 1 Fighter, 15.3ms\n",
      "video 1/1 (frame 2944/3810) /home/hatsu/coding/CapProj/TestSeg_1/video_input/fight_5.mp4: 384x640 1 Fighter, 16.2ms\n",
      "video 1/1 (frame 2945/3810) /home/hatsu/coding/CapProj/TestSeg_1/video_input/fight_5.mp4: 384x640 1 Fighter, 44.5ms\n",
      "video 1/1 (frame 2946/3810) /home/hatsu/coding/CapProj/TestSeg_1/video_input/fight_5.mp4: 384x640 2 Fighters, 15.9ms\n",
      "video 1/1 (frame 2947/3810) /home/hatsu/coding/CapProj/TestSeg_1/video_input/fight_5.mp4: 384x640 2 Fighters, 17.6ms\n",
      "video 1/1 (frame 2948/3810) /home/hatsu/coding/CapProj/TestSeg_1/video_input/fight_5.mp4: 384x640 2 Fighters, 22.4ms\n",
      "video 1/1 (frame 2949/3810) /home/hatsu/coding/CapProj/TestSeg_1/video_input/fight_5.mp4: 384x640 2 Fighters, 16.4ms\n",
      "video 1/1 (frame 2950/3810) /home/hatsu/coding/CapProj/TestSeg_1/video_input/fight_5.mp4: 384x640 2 Fighters, 17.3ms\n",
      "video 1/1 (frame 2951/3810) /home/hatsu/coding/CapProj/TestSeg_1/video_input/fight_5.mp4: 384x640 2 Fighters, 14.9ms\n",
      "video 1/1 (frame 2952/3810) /home/hatsu/coding/CapProj/TestSeg_1/video_input/fight_5.mp4: 384x640 2 Fighters, 19.3ms\n",
      "video 1/1 (frame 2953/3810) /home/hatsu/coding/CapProj/TestSeg_1/video_input/fight_5.mp4: 384x640 2 Fighters, 17.9ms\n",
      "video 1/1 (frame 2954/3810) /home/hatsu/coding/CapProj/TestSeg_1/video_input/fight_5.mp4: 384x640 2 Fighters, 22.2ms\n",
      "video 1/1 (frame 2955/3810) /home/hatsu/coding/CapProj/TestSeg_1/video_input/fight_5.mp4: 384x640 2 Fighters, 15.6ms\n",
      "video 1/1 (frame 2956/3810) /home/hatsu/coding/CapProj/TestSeg_1/video_input/fight_5.mp4: 384x640 2 Fighters, 15.6ms\n",
      "video 1/1 (frame 2957/3810) /home/hatsu/coding/CapProj/TestSeg_1/video_input/fight_5.mp4: 384x640 2 Fighters, 16.6ms\n",
      "video 1/1 (frame 2958/3810) /home/hatsu/coding/CapProj/TestSeg_1/video_input/fight_5.mp4: 384x640 2 Fighters, 20.7ms\n",
      "video 1/1 (frame 2959/3810) /home/hatsu/coding/CapProj/TestSeg_1/video_input/fight_5.mp4: 384x640 2 Fighters, 16.4ms\n",
      "video 1/1 (frame 2960/3810) /home/hatsu/coding/CapProj/TestSeg_1/video_input/fight_5.mp4: 384x640 2 Fighters, 15.6ms\n",
      "video 1/1 (frame 2961/3810) /home/hatsu/coding/CapProj/TestSeg_1/video_input/fight_5.mp4: 384x640 2 Fighters, 35.4ms\n",
      "video 1/1 (frame 2962/3810) /home/hatsu/coding/CapProj/TestSeg_1/video_input/fight_5.mp4: 384x640 2 Fighters, 15.5ms\n",
      "video 1/1 (frame 2963/3810) /home/hatsu/coding/CapProj/TestSeg_1/video_input/fight_5.mp4: 384x640 2 Fighters, 30.9ms\n",
      "video 1/1 (frame 2964/3810) /home/hatsu/coding/CapProj/TestSeg_1/video_input/fight_5.mp4: 384x640 2 Fighters, 15.2ms\n",
      "video 1/1 (frame 2965/3810) /home/hatsu/coding/CapProj/TestSeg_1/video_input/fight_5.mp4: 384x640 2 Fighters, 20.3ms\n",
      "video 1/1 (frame 2966/3810) /home/hatsu/coding/CapProj/TestSeg_1/video_input/fight_5.mp4: 384x640 2 Fighters, 15.8ms\n",
      "video 1/1 (frame 2967/3810) /home/hatsu/coding/CapProj/TestSeg_1/video_input/fight_5.mp4: 384x640 2 Fighters, 14.7ms\n",
      "video 1/1 (frame 2968/3810) /home/hatsu/coding/CapProj/TestSeg_1/video_input/fight_5.mp4: 384x640 3 Fighters, 31.2ms\n",
      "video 1/1 (frame 2969/3810) /home/hatsu/coding/CapProj/TestSeg_1/video_input/fight_5.mp4: 384x640 3 Fighters, 31.1ms\n",
      "video 1/1 (frame 2970/3810) /home/hatsu/coding/CapProj/TestSeg_1/video_input/fight_5.mp4: 384x640 2 Fighters, 22.5ms\n",
      "video 1/1 (frame 2971/3810) /home/hatsu/coding/CapProj/TestSeg_1/video_input/fight_5.mp4: 384x640 2 Fighters, 15.4ms\n",
      "video 1/1 (frame 2972/3810) /home/hatsu/coding/CapProj/TestSeg_1/video_input/fight_5.mp4: 384x640 2 Fighters, 15.7ms\n",
      "video 1/1 (frame 2973/3810) /home/hatsu/coding/CapProj/TestSeg_1/video_input/fight_5.mp4: 384x640 2 Fighters, 24.9ms\n",
      "video 1/1 (frame 2974/3810) /home/hatsu/coding/CapProj/TestSeg_1/video_input/fight_5.mp4: 384x640 2 Fighters, 17.6ms\n",
      "video 1/1 (frame 2975/3810) /home/hatsu/coding/CapProj/TestSeg_1/video_input/fight_5.mp4: 384x640 2 Fighters, 18.3ms\n",
      "video 1/1 (frame 2976/3810) /home/hatsu/coding/CapProj/TestSeg_1/video_input/fight_5.mp4: 384x640 2 Fighters, 21.9ms\n",
      "video 1/1 (frame 2977/3810) /home/hatsu/coding/CapProj/TestSeg_1/video_input/fight_5.mp4: 384x640 2 Fighters, 17.1ms\n",
      "video 1/1 (frame 2978/3810) /home/hatsu/coding/CapProj/TestSeg_1/video_input/fight_5.mp4: 384x640 2 Fighters, 18.4ms\n",
      "video 1/1 (frame 2979/3810) /home/hatsu/coding/CapProj/TestSeg_1/video_input/fight_5.mp4: 384x640 3 Fighters, 15.4ms\n",
      "video 1/1 (frame 2980/3810) /home/hatsu/coding/CapProj/TestSeg_1/video_input/fight_5.mp4: 384x640 4 Fighters, 14.9ms\n",
      "video 1/1 (frame 2981/3810) /home/hatsu/coding/CapProj/TestSeg_1/video_input/fight_5.mp4: 384x640 4 Fighters, 14.9ms\n",
      "video 1/1 (frame 2982/3810) /home/hatsu/coding/CapProj/TestSeg_1/video_input/fight_5.mp4: 384x640 4 Fighters, 21.2ms\n",
      "video 1/1 (frame 2983/3810) /home/hatsu/coding/CapProj/TestSeg_1/video_input/fight_5.mp4: 384x640 4 Fighters, 16.6ms\n",
      "video 1/1 (frame 2984/3810) /home/hatsu/coding/CapProj/TestSeg_1/video_input/fight_5.mp4: 384x640 4 Fighters, 15.2ms\n",
      "video 1/1 (frame 2985/3810) /home/hatsu/coding/CapProj/TestSeg_1/video_input/fight_5.mp4: 384x640 4 Fighters, 19.3ms\n",
      "video 1/1 (frame 2986/3810) /home/hatsu/coding/CapProj/TestSeg_1/video_input/fight_5.mp4: 384x640 4 Fighters, 14.4ms\n",
      "video 1/1 (frame 2987/3810) /home/hatsu/coding/CapProj/TestSeg_1/video_input/fight_5.mp4: 384x640 3 Fighters, 16.5ms\n",
      "video 1/1 (frame 2988/3810) /home/hatsu/coding/CapProj/TestSeg_1/video_input/fight_5.mp4: 384x640 3 Fighters, 27.9ms\n",
      "video 1/1 (frame 2989/3810) /home/hatsu/coding/CapProj/TestSeg_1/video_input/fight_5.mp4: 384x640 5 Fighters, 21.7ms\n",
      "video 1/1 (frame 2990/3810) /home/hatsu/coding/CapProj/TestSeg_1/video_input/fight_5.mp4: 384x640 5 Fighters, 44.8ms\n",
      "video 1/1 (frame 2991/3810) /home/hatsu/coding/CapProj/TestSeg_1/video_input/fight_5.mp4: 384x640 5 Fighters, 16.7ms\n",
      "video 1/1 (frame 2992/3810) /home/hatsu/coding/CapProj/TestSeg_1/video_input/fight_5.mp4: 384x640 5 Fighters, 15.2ms\n",
      "video 1/1 (frame 2993/3810) /home/hatsu/coding/CapProj/TestSeg_1/video_input/fight_5.mp4: 384x640 3 Fighters, 15.8ms\n",
      "video 1/1 (frame 2994/3810) /home/hatsu/coding/CapProj/TestSeg_1/video_input/fight_5.mp4: 384x640 3 Fighters, 14.7ms\n",
      "video 1/1 (frame 2995/3810) /home/hatsu/coding/CapProj/TestSeg_1/video_input/fight_5.mp4: 384x640 3 Fighters, 41.2ms\n",
      "video 1/1 (frame 2996/3810) /home/hatsu/coding/CapProj/TestSeg_1/video_input/fight_5.mp4: 384x640 4 Fighters, 16.2ms\n",
      "video 1/1 (frame 2997/3810) /home/hatsu/coding/CapProj/TestSeg_1/video_input/fight_5.mp4: 384x640 4 Fighters, 16.5ms\n",
      "video 1/1 (frame 2998/3810) /home/hatsu/coding/CapProj/TestSeg_1/video_input/fight_5.mp4: 384x640 4 Fighters, 15.4ms\n",
      "video 1/1 (frame 2999/3810) /home/hatsu/coding/CapProj/TestSeg_1/video_input/fight_5.mp4: 384x640 4 Fighters, 15.2ms\n",
      "video 1/1 (frame 3000/3810) /home/hatsu/coding/CapProj/TestSeg_1/video_input/fight_5.mp4: 384x640 3 Fighters, 15.7ms\n",
      "video 1/1 (frame 3001/3810) /home/hatsu/coding/CapProj/TestSeg_1/video_input/fight_5.mp4: 384x640 3 Fighters, 18.8ms\n",
      "video 1/1 (frame 3002/3810) /home/hatsu/coding/CapProj/TestSeg_1/video_input/fight_5.mp4: 384x640 3 Fighters, 26.5ms\n",
      "video 1/1 (frame 3003/3810) /home/hatsu/coding/CapProj/TestSeg_1/video_input/fight_5.mp4: 384x640 2 Fighters, 28.6ms\n",
      "video 1/1 (frame 3004/3810) /home/hatsu/coding/CapProj/TestSeg_1/video_input/fight_5.mp4: 384x640 2 Fighters, 16.1ms\n",
      "video 1/1 (frame 3005/3810) /home/hatsu/coding/CapProj/TestSeg_1/video_input/fight_5.mp4: 384x640 2 Fighters, 29.4ms\n",
      "video 1/1 (frame 3006/3810) /home/hatsu/coding/CapProj/TestSeg_1/video_input/fight_5.mp4: 384x640 2 Fighters, 16.5ms\n",
      "video 1/1 (frame 3007/3810) /home/hatsu/coding/CapProj/TestSeg_1/video_input/fight_5.mp4: 384x640 1 Fighter, 22.6ms\n",
      "video 1/1 (frame 3008/3810) /home/hatsu/coding/CapProj/TestSeg_1/video_input/fight_5.mp4: 384x640 1 Fighter, 17.8ms\n",
      "video 1/1 (frame 3009/3810) /home/hatsu/coding/CapProj/TestSeg_1/video_input/fight_5.mp4: 384x640 1 Fighter, 14.4ms\n",
      "video 1/1 (frame 3010/3810) /home/hatsu/coding/CapProj/TestSeg_1/video_input/fight_5.mp4: 384x640 1 Fighter, 15.2ms\n",
      "video 1/1 (frame 3011/3810) /home/hatsu/coding/CapProj/TestSeg_1/video_input/fight_5.mp4: 384x640 1 Fighter, 15.3ms\n",
      "video 1/1 (frame 3012/3810) /home/hatsu/coding/CapProj/TestSeg_1/video_input/fight_5.mp4: 384x640 1 Fighter, 17.8ms\n",
      "video 1/1 (frame 3013/3810) /home/hatsu/coding/CapProj/TestSeg_1/video_input/fight_5.mp4: 384x640 1 Fighter, 21.9ms\n",
      "video 1/1 (frame 3014/3810) /home/hatsu/coding/CapProj/TestSeg_1/video_input/fight_5.mp4: 384x640 1 Fighter, 16.6ms\n",
      "video 1/1 (frame 3015/3810) /home/hatsu/coding/CapProj/TestSeg_1/video_input/fight_5.mp4: 384x640 1 Fighter, 16.0ms\n",
      "video 1/1 (frame 3016/3810) /home/hatsu/coding/CapProj/TestSeg_1/video_input/fight_5.mp4: 384x640 2 Fighters, 17.4ms\n",
      "video 1/1 (frame 3017/3810) /home/hatsu/coding/CapProj/TestSeg_1/video_input/fight_5.mp4: 384x640 1 Fighter, 16.9ms\n",
      "video 1/1 (frame 3018/3810) /home/hatsu/coding/CapProj/TestSeg_1/video_input/fight_5.mp4: 384x640 1 Fighter, 24.6ms\n",
      "video 1/1 (frame 3019/3810) /home/hatsu/coding/CapProj/TestSeg_1/video_input/fight_5.mp4: 384x640 1 Fighter, 15.4ms\n",
      "video 1/1 (frame 3020/3810) /home/hatsu/coding/CapProj/TestSeg_1/video_input/fight_5.mp4: 384x640 1 Fighter, 16.8ms\n",
      "video 1/1 (frame 3021/3810) /home/hatsu/coding/CapProj/TestSeg_1/video_input/fight_5.mp4: 384x640 1 Fighter, 18.4ms\n",
      "video 1/1 (frame 3022/3810) /home/hatsu/coding/CapProj/TestSeg_1/video_input/fight_5.mp4: 384x640 1 Fighter, 15.7ms\n",
      "video 1/1 (frame 3023/3810) /home/hatsu/coding/CapProj/TestSeg_1/video_input/fight_5.mp4: 384x640 1 Fighter, 21.1ms\n",
      "video 1/1 (frame 3024/3810) /home/hatsu/coding/CapProj/TestSeg_1/video_input/fight_5.mp4: 384x640 1 Fighter, 15.5ms\n",
      "video 1/1 (frame 3025/3810) /home/hatsu/coding/CapProj/TestSeg_1/video_input/fight_5.mp4: 384x640 2 Fighters, 16.1ms\n",
      "video 1/1 (frame 3026/3810) /home/hatsu/coding/CapProj/TestSeg_1/video_input/fight_5.mp4: 384x640 2 Fighters, 16.4ms\n",
      "video 1/1 (frame 3027/3810) /home/hatsu/coding/CapProj/TestSeg_1/video_input/fight_5.mp4: 384x640 2 Fighters, 14.8ms\n",
      "video 1/1 (frame 3028/3810) /home/hatsu/coding/CapProj/TestSeg_1/video_input/fight_5.mp4: 384x640 2 Fighters, 21.2ms\n",
      "video 1/1 (frame 3029/3810) /home/hatsu/coding/CapProj/TestSeg_1/video_input/fight_5.mp4: 384x640 2 Fighters, 20.6ms\n",
      "video 1/1 (frame 3030/3810) /home/hatsu/coding/CapProj/TestSeg_1/video_input/fight_5.mp4: 384x640 1 Fighter, 15.4ms\n",
      "video 1/1 (frame 3031/3810) /home/hatsu/coding/CapProj/TestSeg_1/video_input/fight_5.mp4: 384x640 1 Fighter, 16.0ms\n",
      "video 1/1 (frame 3032/3810) /home/hatsu/coding/CapProj/TestSeg_1/video_input/fight_5.mp4: 384x640 1 Fighter, 15.2ms\n",
      "video 1/1 (frame 3033/3810) /home/hatsu/coding/CapProj/TestSeg_1/video_input/fight_5.mp4: 384x640 1 Fighter, 22.3ms\n",
      "video 1/1 (frame 3034/3810) /home/hatsu/coding/CapProj/TestSeg_1/video_input/fight_5.mp4: 384x640 1 Fighter, 25.3ms\n",
      "video 1/1 (frame 3035/3810) /home/hatsu/coding/CapProj/TestSeg_1/video_input/fight_5.mp4: 384x640 1 Fighter, 27.3ms\n",
      "video 1/1 (frame 3036/3810) /home/hatsu/coding/CapProj/TestSeg_1/video_input/fight_5.mp4: 384x640 1 Fighter, 20.3ms\n",
      "video 1/1 (frame 3037/3810) /home/hatsu/coding/CapProj/TestSeg_1/video_input/fight_5.mp4: 384x640 1 Fighter, 21.3ms\n",
      "video 1/1 (frame 3038/3810) /home/hatsu/coding/CapProj/TestSeg_1/video_input/fight_5.mp4: 384x640 1 Fighter, 21.2ms\n",
      "video 1/1 (frame 3039/3810) /home/hatsu/coding/CapProj/TestSeg_1/video_input/fight_5.mp4: 384x640 1 Fighter, 20.4ms\n",
      "video 1/1 (frame 3040/3810) /home/hatsu/coding/CapProj/TestSeg_1/video_input/fight_5.mp4: 384x640 1 Fighter, 20.1ms\n",
      "video 1/1 (frame 3041/3810) /home/hatsu/coding/CapProj/TestSeg_1/video_input/fight_5.mp4: 384x640 1 Fighter, 20.6ms\n",
      "video 1/1 (frame 3042/3810) /home/hatsu/coding/CapProj/TestSeg_1/video_input/fight_5.mp4: 384x640 1 Fighter, 22.8ms\n",
      "video 1/1 (frame 3043/3810) /home/hatsu/coding/CapProj/TestSeg_1/video_input/fight_5.mp4: 384x640 1 Fighter, 18.8ms\n",
      "video 1/1 (frame 3044/3810) /home/hatsu/coding/CapProj/TestSeg_1/video_input/fight_5.mp4: 384x640 1 Fighter, 14.7ms\n",
      "video 1/1 (frame 3045/3810) /home/hatsu/coding/CapProj/TestSeg_1/video_input/fight_5.mp4: 384x640 1 Fighter, 20.8ms\n",
      "video 1/1 (frame 3046/3810) /home/hatsu/coding/CapProj/TestSeg_1/video_input/fight_5.mp4: 384x640 1 Fighter, 14.4ms\n",
      "video 1/1 (frame 3047/3810) /home/hatsu/coding/CapProj/TestSeg_1/video_input/fight_5.mp4: 384x640 1 Fighter, 16.4ms\n",
      "video 1/1 (frame 3048/3810) /home/hatsu/coding/CapProj/TestSeg_1/video_input/fight_5.mp4: 384x640 2 Fighters, 14.3ms\n",
      "video 1/1 (frame 3049/3810) /home/hatsu/coding/CapProj/TestSeg_1/video_input/fight_5.mp4: 384x640 2 Fighters, 14.4ms\n",
      "video 1/1 (frame 3050/3810) /home/hatsu/coding/CapProj/TestSeg_1/video_input/fight_5.mp4: 384x640 2 Fighters, 16.5ms\n",
      "video 1/1 (frame 3051/3810) /home/hatsu/coding/CapProj/TestSeg_1/video_input/fight_5.mp4: 384x640 2 Fighters, 26.9ms\n",
      "video 1/1 (frame 3052/3810) /home/hatsu/coding/CapProj/TestSeg_1/video_input/fight_5.mp4: 384x640 2 Fighters, 19.2ms\n",
      "video 1/1 (frame 3053/3810) /home/hatsu/coding/CapProj/TestSeg_1/video_input/fight_5.mp4: 384x640 2 Fighters, 15.3ms\n",
      "video 1/1 (frame 3054/3810) /home/hatsu/coding/CapProj/TestSeg_1/video_input/fight_5.mp4: 384x640 1 Fighter, 18.4ms\n",
      "video 1/1 (frame 3055/3810) /home/hatsu/coding/CapProj/TestSeg_1/video_input/fight_5.mp4: 384x640 1 Fighter, 15.6ms\n",
      "video 1/1 (frame 3056/3810) /home/hatsu/coding/CapProj/TestSeg_1/video_input/fight_5.mp4: 384x640 1 Fighter, 18.7ms\n",
      "video 1/1 (frame 3057/3810) /home/hatsu/coding/CapProj/TestSeg_1/video_input/fight_5.mp4: 384x640 1 Fighter, 15.6ms\n",
      "video 1/1 (frame 3058/3810) /home/hatsu/coding/CapProj/TestSeg_1/video_input/fight_5.mp4: 384x640 1 Fighter, 14.1ms\n",
      "video 1/1 (frame 3059/3810) /home/hatsu/coding/CapProj/TestSeg_1/video_input/fight_5.mp4: 384x640 1 Fighter, 15.2ms\n",
      "video 1/1 (frame 3060/3810) /home/hatsu/coding/CapProj/TestSeg_1/video_input/fight_5.mp4: 384x640 1 Fighter, 26.3ms\n",
      "video 1/1 (frame 3061/3810) /home/hatsu/coding/CapProj/TestSeg_1/video_input/fight_5.mp4: 384x640 1 Fighter, 13.9ms\n",
      "video 1/1 (frame 3062/3810) /home/hatsu/coding/CapProj/TestSeg_1/video_input/fight_5.mp4: 384x640 1 Fighter, 17.9ms\n",
      "video 1/1 (frame 3063/3810) /home/hatsu/coding/CapProj/TestSeg_1/video_input/fight_5.mp4: 384x640 1 Fighter, 12.8ms\n",
      "video 1/1 (frame 3064/3810) /home/hatsu/coding/CapProj/TestSeg_1/video_input/fight_5.mp4: 384x640 1 Fighter, 12.4ms\n",
      "video 1/1 (frame 3065/3810) /home/hatsu/coding/CapProj/TestSeg_1/video_input/fight_5.mp4: 384x640 1 Fighter, 14.2ms\n",
      "video 1/1 (frame 3066/3810) /home/hatsu/coding/CapProj/TestSeg_1/video_input/fight_5.mp4: 384x640 1 Fighter, 14.2ms\n",
      "video 1/1 (frame 3067/3810) /home/hatsu/coding/CapProj/TestSeg_1/video_input/fight_5.mp4: 384x640 1 Fighter, 14.2ms\n",
      "video 1/1 (frame 3068/3810) /home/hatsu/coding/CapProj/TestSeg_1/video_input/fight_5.mp4: 384x640 1 Fighter, 43.9ms\n",
      "video 1/1 (frame 3069/3810) /home/hatsu/coding/CapProj/TestSeg_1/video_input/fight_5.mp4: 384x640 1 Fighter, 19.8ms\n",
      "video 1/1 (frame 3070/3810) /home/hatsu/coding/CapProj/TestSeg_1/video_input/fight_5.mp4: 384x640 1 Fighter, 12.7ms\n",
      "video 1/1 (frame 3071/3810) /home/hatsu/coding/CapProj/TestSeg_1/video_input/fight_5.mp4: 384x640 1 Fighter, 16.3ms\n",
      "video 1/1 (frame 3072/3810) /home/hatsu/coding/CapProj/TestSeg_1/video_input/fight_5.mp4: 384x640 1 Fighter, 12.9ms\n",
      "video 1/1 (frame 3073/3810) /home/hatsu/coding/CapProj/TestSeg_1/video_input/fight_5.mp4: 384x640 1 Fighter, 18.6ms\n",
      "video 1/1 (frame 3074/3810) /home/hatsu/coding/CapProj/TestSeg_1/video_input/fight_5.mp4: 384x640 1 Fighter, 15.1ms\n",
      "video 1/1 (frame 3075/3810) /home/hatsu/coding/CapProj/TestSeg_1/video_input/fight_5.mp4: 384x640 1 Fighter, 14.9ms\n",
      "video 1/1 (frame 3076/3810) /home/hatsu/coding/CapProj/TestSeg_1/video_input/fight_5.mp4: 384x640 1 Fighter, 18.2ms\n",
      "video 1/1 (frame 3077/3810) /home/hatsu/coding/CapProj/TestSeg_1/video_input/fight_5.mp4: 384x640 1 Fighter, 20.1ms\n",
      "video 1/1 (frame 3078/3810) /home/hatsu/coding/CapProj/TestSeg_1/video_input/fight_5.mp4: 384x640 1 Fighter, 18.0ms\n",
      "video 1/1 (frame 3079/3810) /home/hatsu/coding/CapProj/TestSeg_1/video_input/fight_5.mp4: 384x640 (no detections), 13.6ms\n",
      "video 1/1 (frame 3080/3810) /home/hatsu/coding/CapProj/TestSeg_1/video_input/fight_5.mp4: 384x640 1 Fighter, 13.6ms\n",
      "video 1/1 (frame 3081/3810) /home/hatsu/coding/CapProj/TestSeg_1/video_input/fight_5.mp4: 384x640 1 Fighter, 19.5ms\n",
      "video 1/1 (frame 3082/3810) /home/hatsu/coding/CapProj/TestSeg_1/video_input/fight_5.mp4: 384x640 1 Fighter, 17.6ms\n",
      "video 1/1 (frame 3083/3810) /home/hatsu/coding/CapProj/TestSeg_1/video_input/fight_5.mp4: 384x640 1 Fighter, 22.0ms\n",
      "video 1/1 (frame 3084/3810) /home/hatsu/coding/CapProj/TestSeg_1/video_input/fight_5.mp4: 384x640 1 Fighter, 14.7ms\n",
      "video 1/1 (frame 3085/3810) /home/hatsu/coding/CapProj/TestSeg_1/video_input/fight_5.mp4: 384x640 1 Fighter, 15.1ms\n",
      "video 1/1 (frame 3086/3810) /home/hatsu/coding/CapProj/TestSeg_1/video_input/fight_5.mp4: 384x640 1 Fighter, 15.8ms\n",
      "video 1/1 (frame 3087/3810) /home/hatsu/coding/CapProj/TestSeg_1/video_input/fight_5.mp4: 384x640 1 Fighter, 15.2ms\n",
      "video 1/1 (frame 3088/3810) /home/hatsu/coding/CapProj/TestSeg_1/video_input/fight_5.mp4: 384x640 1 Fighter, 20.9ms\n",
      "video 1/1 (frame 3089/3810) /home/hatsu/coding/CapProj/TestSeg_1/video_input/fight_5.mp4: 384x640 (no detections), 20.3ms\n",
      "video 1/1 (frame 3090/3810) /home/hatsu/coding/CapProj/TestSeg_1/video_input/fight_5.mp4: 384x640 1 Fighter, 13.8ms\n",
      "video 1/1 (frame 3091/3810) /home/hatsu/coding/CapProj/TestSeg_1/video_input/fight_5.mp4: 384x640 1 Fighter, 14.8ms\n",
      "video 1/1 (frame 3092/3810) /home/hatsu/coding/CapProj/TestSeg_1/video_input/fight_5.mp4: 384x640 1 Fighter, 18.5ms\n",
      "video 1/1 (frame 3093/3810) /home/hatsu/coding/CapProj/TestSeg_1/video_input/fight_5.mp4: 384x640 1 Fighter, 17.0ms\n",
      "video 1/1 (frame 3094/3810) /home/hatsu/coding/CapProj/TestSeg_1/video_input/fight_5.mp4: 384x640 1 Fighter, 21.7ms\n",
      "video 1/1 (frame 3095/3810) /home/hatsu/coding/CapProj/TestSeg_1/video_input/fight_5.mp4: 384x640 1 Fighter, 15.9ms\n",
      "video 1/1 (frame 3096/3810) /home/hatsu/coding/CapProj/TestSeg_1/video_input/fight_5.mp4: 384x640 1 Fighter, 15.2ms\n",
      "video 1/1 (frame 3097/3810) /home/hatsu/coding/CapProj/TestSeg_1/video_input/fight_5.mp4: 384x640 1 Fighter, 14.1ms\n",
      "video 1/1 (frame 3098/3810) /home/hatsu/coding/CapProj/TestSeg_1/video_input/fight_5.mp4: 384x640 1 Fighter, 38.8ms\n",
      "video 1/1 (frame 3099/3810) /home/hatsu/coding/CapProj/TestSeg_1/video_input/fight_5.mp4: 384x640 1 Fighter, 18.8ms\n",
      "video 1/1 (frame 3100/3810) /home/hatsu/coding/CapProj/TestSeg_1/video_input/fight_5.mp4: 384x640 1 Fighter, 34.6ms\n",
      "video 1/1 (frame 3101/3810) /home/hatsu/coding/CapProj/TestSeg_1/video_input/fight_5.mp4: 384x640 1 Fighter, 32.8ms\n",
      "video 1/1 (frame 3102/3810) /home/hatsu/coding/CapProj/TestSeg_1/video_input/fight_5.mp4: 384x640 1 Fighter, 26.8ms\n",
      "video 1/1 (frame 3103/3810) /home/hatsu/coding/CapProj/TestSeg_1/video_input/fight_5.mp4: 384x640 1 Fighter, 20.2ms\n",
      "video 1/1 (frame 3104/3810) /home/hatsu/coding/CapProj/TestSeg_1/video_input/fight_5.mp4: 384x640 1 Fighter, 21.2ms\n",
      "video 1/1 (frame 3105/3810) /home/hatsu/coding/CapProj/TestSeg_1/video_input/fight_5.mp4: 384x640 1 Fighter, 22.0ms\n",
      "video 1/1 (frame 3106/3810) /home/hatsu/coding/CapProj/TestSeg_1/video_input/fight_5.mp4: 384x640 1 Fighter, 25.8ms\n",
      "video 1/1 (frame 3107/3810) /home/hatsu/coding/CapProj/TestSeg_1/video_input/fight_5.mp4: 384x640 1 Fighter, 19.9ms\n",
      "video 1/1 (frame 3108/3810) /home/hatsu/coding/CapProj/TestSeg_1/video_input/fight_5.mp4: 384x640 1 Fighter, 19.0ms\n",
      "video 1/1 (frame 3109/3810) /home/hatsu/coding/CapProj/TestSeg_1/video_input/fight_5.mp4: 384x640 1 Fighter, 20.8ms\n",
      "video 1/1 (frame 3110/3810) /home/hatsu/coding/CapProj/TestSeg_1/video_input/fight_5.mp4: 384x640 1 Fighter, 14.9ms\n",
      "video 1/1 (frame 3111/3810) /home/hatsu/coding/CapProj/TestSeg_1/video_input/fight_5.mp4: 384x640 1 Fighter, 13.1ms\n",
      "video 1/1 (frame 3112/3810) /home/hatsu/coding/CapProj/TestSeg_1/video_input/fight_5.mp4: 384x640 1 Fighter, 14.4ms\n",
      "video 1/1 (frame 3113/3810) /home/hatsu/coding/CapProj/TestSeg_1/video_input/fight_5.mp4: 384x640 1 Fighter, 15.4ms\n",
      "video 1/1 (frame 3114/3810) /home/hatsu/coding/CapProj/TestSeg_1/video_input/fight_5.mp4: 384x640 1 Fighter, 21.2ms\n",
      "video 1/1 (frame 3115/3810) /home/hatsu/coding/CapProj/TestSeg_1/video_input/fight_5.mp4: 384x640 1 Fighter, 41.4ms\n",
      "video 1/1 (frame 3116/3810) /home/hatsu/coding/CapProj/TestSeg_1/video_input/fight_5.mp4: 384x640 1 Fighter, 15.1ms\n",
      "video 1/1 (frame 3117/3810) /home/hatsu/coding/CapProj/TestSeg_1/video_input/fight_5.mp4: 384x640 1 Fighter, 12.7ms\n",
      "video 1/1 (frame 3118/3810) /home/hatsu/coding/CapProj/TestSeg_1/video_input/fight_5.mp4: 384x640 1 Fighter, 15.0ms\n",
      "video 1/1 (frame 3119/3810) /home/hatsu/coding/CapProj/TestSeg_1/video_input/fight_5.mp4: 384x640 1 Fighter, 24.7ms\n",
      "video 1/1 (frame 3120/3810) /home/hatsu/coding/CapProj/TestSeg_1/video_input/fight_5.mp4: 384x640 1 Fighter, 16.3ms\n",
      "video 1/1 (frame 3121/3810) /home/hatsu/coding/CapProj/TestSeg_1/video_input/fight_5.mp4: 384x640 1 Fighter, 13.5ms\n",
      "video 1/1 (frame 3122/3810) /home/hatsu/coding/CapProj/TestSeg_1/video_input/fight_5.mp4: 384x640 1 Fighter, 21.8ms\n",
      "video 1/1 (frame 3123/3810) /home/hatsu/coding/CapProj/TestSeg_1/video_input/fight_5.mp4: 384x640 1 Fighter, 32.5ms\n",
      "video 1/1 (frame 3124/3810) /home/hatsu/coding/CapProj/TestSeg_1/video_input/fight_5.mp4: 384x640 2 Fighters, 19.5ms\n",
      "video 1/1 (frame 3125/3810) /home/hatsu/coding/CapProj/TestSeg_1/video_input/fight_5.mp4: 384x640 1 Fighter, 42.2ms\n",
      "video 1/1 (frame 3126/3810) /home/hatsu/coding/CapProj/TestSeg_1/video_input/fight_5.mp4: 384x640 1 Fighter, 45.4ms\n",
      "video 1/1 (frame 3127/3810) /home/hatsu/coding/CapProj/TestSeg_1/video_input/fight_5.mp4: 384x640 1 Fighter, 12.9ms\n",
      "video 1/1 (frame 3128/3810) /home/hatsu/coding/CapProj/TestSeg_1/video_input/fight_5.mp4: 384x640 1 Fighter, 15.3ms\n",
      "video 1/1 (frame 3129/3810) /home/hatsu/coding/CapProj/TestSeg_1/video_input/fight_5.mp4: 384x640 1 Fighter, 14.8ms\n",
      "video 1/1 (frame 3130/3810) /home/hatsu/coding/CapProj/TestSeg_1/video_input/fight_5.mp4: 384x640 1 Fighter, 21.4ms\n",
      "video 1/1 (frame 3131/3810) /home/hatsu/coding/CapProj/TestSeg_1/video_input/fight_5.mp4: 384x640 1 Fighter, 16.0ms\n",
      "video 1/1 (frame 3132/3810) /home/hatsu/coding/CapProj/TestSeg_1/video_input/fight_5.mp4: 384x640 1 Fighter, 21.2ms\n",
      "video 1/1 (frame 3133/3810) /home/hatsu/coding/CapProj/TestSeg_1/video_input/fight_5.mp4: 384x640 1 Fighter, 14.1ms\n",
      "video 1/1 (frame 3134/3810) /home/hatsu/coding/CapProj/TestSeg_1/video_input/fight_5.mp4: 384x640 2 Fighters, 14.7ms\n",
      "video 1/1 (frame 3135/3810) /home/hatsu/coding/CapProj/TestSeg_1/video_input/fight_5.mp4: 384x640 2 Fighters, 21.8ms\n",
      "video 1/1 (frame 3136/3810) /home/hatsu/coding/CapProj/TestSeg_1/video_input/fight_5.mp4: 384x640 2 Fighters, 33.2ms\n",
      "video 1/1 (frame 3137/3810) /home/hatsu/coding/CapProj/TestSeg_1/video_input/fight_5.mp4: 384x640 2 Fighters, 20.0ms\n",
      "video 1/1 (frame 3138/3810) /home/hatsu/coding/CapProj/TestSeg_1/video_input/fight_5.mp4: 384x640 2 Fighters, 20.7ms\n",
      "video 1/1 (frame 3139/3810) /home/hatsu/coding/CapProj/TestSeg_1/video_input/fight_5.mp4: 384x640 2 Fighters, 18.2ms\n",
      "video 1/1 (frame 3140/3810) /home/hatsu/coding/CapProj/TestSeg_1/video_input/fight_5.mp4: 384x640 1 Fighter, 20.9ms\n",
      "video 1/1 (frame 3141/3810) /home/hatsu/coding/CapProj/TestSeg_1/video_input/fight_5.mp4: 384x640 1 Fighter, 18.6ms\n",
      "video 1/1 (frame 3142/3810) /home/hatsu/coding/CapProj/TestSeg_1/video_input/fight_5.mp4: 384x640 1 Fighter, 21.8ms\n",
      "video 1/1 (frame 3143/3810) /home/hatsu/coding/CapProj/TestSeg_1/video_input/fight_5.mp4: 384x640 1 Fighter, 13.5ms\n",
      "video 1/1 (frame 3144/3810) /home/hatsu/coding/CapProj/TestSeg_1/video_input/fight_5.mp4: 384x640 1 Fighter, 13.8ms\n",
      "video 1/1 (frame 3145/3810) /home/hatsu/coding/CapProj/TestSeg_1/video_input/fight_5.mp4: 384x640 1 Fighter, 31.8ms\n",
      "video 1/1 (frame 3146/3810) /home/hatsu/coding/CapProj/TestSeg_1/video_input/fight_5.mp4: 384x640 1 Fighter, 19.1ms\n",
      "video 1/1 (frame 3147/3810) /home/hatsu/coding/CapProj/TestSeg_1/video_input/fight_5.mp4: 384x640 1 Fighter, 14.4ms\n",
      "video 1/1 (frame 3148/3810) /home/hatsu/coding/CapProj/TestSeg_1/video_input/fight_5.mp4: 384x640 1 Fighter, 13.2ms\n",
      "video 1/1 (frame 3149/3810) /home/hatsu/coding/CapProj/TestSeg_1/video_input/fight_5.mp4: 384x640 1 Fighter, 14.0ms\n",
      "video 1/1 (frame 3150/3810) /home/hatsu/coding/CapProj/TestSeg_1/video_input/fight_5.mp4: 384x640 1 Fighter, 20.3ms\n",
      "video 1/1 (frame 3151/3810) /home/hatsu/coding/CapProj/TestSeg_1/video_input/fight_5.mp4: 384x640 1 Fighter, 13.7ms\n",
      "video 1/1 (frame 3152/3810) /home/hatsu/coding/CapProj/TestSeg_1/video_input/fight_5.mp4: 384x640 1 Fighter, 18.1ms\n",
      "video 1/1 (frame 3153/3810) /home/hatsu/coding/CapProj/TestSeg_1/video_input/fight_5.mp4: 384x640 1 Fighter, 15.4ms\n",
      "video 1/1 (frame 3154/3810) /home/hatsu/coding/CapProj/TestSeg_1/video_input/fight_5.mp4: 384x640 1 Fighter, 14.9ms\n",
      "video 1/1 (frame 3155/3810) /home/hatsu/coding/CapProj/TestSeg_1/video_input/fight_5.mp4: 384x640 1 Fighter, 20.5ms\n",
      "video 1/1 (frame 3156/3810) /home/hatsu/coding/CapProj/TestSeg_1/video_input/fight_5.mp4: 384x640 1 Fighter, 14.5ms\n",
      "video 1/1 (frame 3157/3810) /home/hatsu/coding/CapProj/TestSeg_1/video_input/fight_5.mp4: 384x640 1 Fighter, 13.7ms\n",
      "video 1/1 (frame 3158/3810) /home/hatsu/coding/CapProj/TestSeg_1/video_input/fight_5.mp4: 384x640 1 Fighter, 14.4ms\n",
      "video 1/1 (frame 3159/3810) /home/hatsu/coding/CapProj/TestSeg_1/video_input/fight_5.mp4: 384x640 1 Fighter, 13.1ms\n",
      "video 1/1 (frame 3160/3810) /home/hatsu/coding/CapProj/TestSeg_1/video_input/fight_5.mp4: 384x640 1 Fighter, 16.1ms\n",
      "video 1/1 (frame 3161/3810) /home/hatsu/coding/CapProj/TestSeg_1/video_input/fight_5.mp4: 384x640 1 Fighter, 20.3ms\n",
      "video 1/1 (frame 3162/3810) /home/hatsu/coding/CapProj/TestSeg_1/video_input/fight_5.mp4: 384x640 1 Fighter, 33.8ms\n",
      "video 1/1 (frame 3163/3810) /home/hatsu/coding/CapProj/TestSeg_1/video_input/fight_5.mp4: 384x640 1 Fighter, 15.4ms\n",
      "video 1/1 (frame 3164/3810) /home/hatsu/coding/CapProj/TestSeg_1/video_input/fight_5.mp4: 384x640 1 Fighter, 13.0ms\n",
      "video 1/1 (frame 3165/3810) /home/hatsu/coding/CapProj/TestSeg_1/video_input/fight_5.mp4: 384x640 1 Fighter, 14.9ms\n",
      "video 1/1 (frame 3166/3810) /home/hatsu/coding/CapProj/TestSeg_1/video_input/fight_5.mp4: 384x640 1 Fighter, 23.4ms\n",
      "video 1/1 (frame 3167/3810) /home/hatsu/coding/CapProj/TestSeg_1/video_input/fight_5.mp4: 384x640 1 Fighter, 14.3ms\n",
      "video 1/1 (frame 3168/3810) /home/hatsu/coding/CapProj/TestSeg_1/video_input/fight_5.mp4: 384x640 1 Fighter, 25.2ms\n",
      "video 1/1 (frame 3169/3810) /home/hatsu/coding/CapProj/TestSeg_1/video_input/fight_5.mp4: 384x640 1 Fighter, 14.2ms\n",
      "video 1/1 (frame 3170/3810) /home/hatsu/coding/CapProj/TestSeg_1/video_input/fight_5.mp4: 384x640 1 Fighter, 14.5ms\n",
      "video 1/1 (frame 3171/3810) /home/hatsu/coding/CapProj/TestSeg_1/video_input/fight_5.mp4: 384x640 1 Fighter, 17.9ms\n",
      "video 1/1 (frame 3172/3810) /home/hatsu/coding/CapProj/TestSeg_1/video_input/fight_5.mp4: 384x640 1 Fighter, 24.8ms\n",
      "video 1/1 (frame 3173/3810) /home/hatsu/coding/CapProj/TestSeg_1/video_input/fight_5.mp4: 384x640 1 Fighter, 15.1ms\n",
      "video 1/1 (frame 3174/3810) /home/hatsu/coding/CapProj/TestSeg_1/video_input/fight_5.mp4: 384x640 1 Fighter, 38.9ms\n",
      "video 1/1 (frame 3175/3810) /home/hatsu/coding/CapProj/TestSeg_1/video_input/fight_5.mp4: 384x640 1 Fighter, 14.6ms\n",
      "video 1/1 (frame 3176/3810) /home/hatsu/coding/CapProj/TestSeg_1/video_input/fight_5.mp4: 384x640 1 Fighter, 16.1ms\n",
      "video 1/1 (frame 3177/3810) /home/hatsu/coding/CapProj/TestSeg_1/video_input/fight_5.mp4: 384x640 1 Fighter, 21.0ms\n",
      "video 1/1 (frame 3178/3810) /home/hatsu/coding/CapProj/TestSeg_1/video_input/fight_5.mp4: 384x640 1 Fighter, 30.5ms\n",
      "video 1/1 (frame 3179/3810) /home/hatsu/coding/CapProj/TestSeg_1/video_input/fight_5.mp4: 384x640 1 Fighter, 15.8ms\n",
      "video 1/1 (frame 3180/3810) /home/hatsu/coding/CapProj/TestSeg_1/video_input/fight_5.mp4: 384x640 1 Fighter, 44.0ms\n",
      "video 1/1 (frame 3181/3810) /home/hatsu/coding/CapProj/TestSeg_1/video_input/fight_5.mp4: 384x640 1 Fighter, 14.7ms\n",
      "video 1/1 (frame 3182/3810) /home/hatsu/coding/CapProj/TestSeg_1/video_input/fight_5.mp4: 384x640 1 Fighter, 16.3ms\n",
      "video 1/1 (frame 3183/3810) /home/hatsu/coding/CapProj/TestSeg_1/video_input/fight_5.mp4: 384x640 1 Fighter, 16.0ms\n",
      "video 1/1 (frame 3184/3810) /home/hatsu/coding/CapProj/TestSeg_1/video_input/fight_5.mp4: 384x640 1 Fighter, 18.9ms\n",
      "video 1/1 (frame 3185/3810) /home/hatsu/coding/CapProj/TestSeg_1/video_input/fight_5.mp4: 384x640 1 Fighter, 22.1ms\n",
      "video 1/1 (frame 3186/3810) /home/hatsu/coding/CapProj/TestSeg_1/video_input/fight_5.mp4: 384x640 1 Fighter, 34.8ms\n",
      "video 1/1 (frame 3187/3810) /home/hatsu/coding/CapProj/TestSeg_1/video_input/fight_5.mp4: 384x640 1 Fighter, 21.1ms\n",
      "video 1/1 (frame 3188/3810) /home/hatsu/coding/CapProj/TestSeg_1/video_input/fight_5.mp4: 384x640 1 Fighter, 20.9ms\n",
      "video 1/1 (frame 3189/3810) /home/hatsu/coding/CapProj/TestSeg_1/video_input/fight_5.mp4: 384x640 1 Fighter, 19.5ms\n",
      "video 1/1 (frame 3190/3810) /home/hatsu/coding/CapProj/TestSeg_1/video_input/fight_5.mp4: 384x640 1 Fighter, 20.0ms\n",
      "video 1/1 (frame 3191/3810) /home/hatsu/coding/CapProj/TestSeg_1/video_input/fight_5.mp4: 384x640 1 Fighter, 18.5ms\n",
      "video 1/1 (frame 3192/3810) /home/hatsu/coding/CapProj/TestSeg_1/video_input/fight_5.mp4: 384x640 1 Fighter, 14.9ms\n",
      "video 1/1 (frame 3193/3810) /home/hatsu/coding/CapProj/TestSeg_1/video_input/fight_5.mp4: 384x640 1 Fighter, 18.0ms\n",
      "video 1/1 (frame 3194/3810) /home/hatsu/coding/CapProj/TestSeg_1/video_input/fight_5.mp4: 384x640 1 Fighter, 25.8ms\n",
      "video 1/1 (frame 3195/3810) /home/hatsu/coding/CapProj/TestSeg_1/video_input/fight_5.mp4: 384x640 1 Fighter, 15.4ms\n",
      "video 1/1 (frame 3196/3810) /home/hatsu/coding/CapProj/TestSeg_1/video_input/fight_5.mp4: 384x640 1 Fighter, 14.4ms\n",
      "video 1/1 (frame 3197/3810) /home/hatsu/coding/CapProj/TestSeg_1/video_input/fight_5.mp4: 384x640 1 Fighter, 15.7ms\n",
      "video 1/1 (frame 3198/3810) /home/hatsu/coding/CapProj/TestSeg_1/video_input/fight_5.mp4: 384x640 1 Fighter, 14.9ms\n",
      "video 1/1 (frame 3199/3810) /home/hatsu/coding/CapProj/TestSeg_1/video_input/fight_5.mp4: 384x640 1 Fighter, 16.3ms\n",
      "video 1/1 (frame 3200/3810) /home/hatsu/coding/CapProj/TestSeg_1/video_input/fight_5.mp4: 384x640 1 Fighter, 16.5ms\n",
      "video 1/1 (frame 3201/3810) /home/hatsu/coding/CapProj/TestSeg_1/video_input/fight_5.mp4: 384x640 1 Fighter, 15.3ms\n",
      "video 1/1 (frame 3202/3810) /home/hatsu/coding/CapProj/TestSeg_1/video_input/fight_5.mp4: 384x640 1 Fighter, 14.6ms\n",
      "video 1/1 (frame 3203/3810) /home/hatsu/coding/CapProj/TestSeg_1/video_input/fight_5.mp4: 384x640 1 Fighter, 16.9ms\n",
      "video 1/1 (frame 3204/3810) /home/hatsu/coding/CapProj/TestSeg_1/video_input/fight_5.mp4: 384x640 1 Fighter, 19.4ms\n",
      "video 1/1 (frame 3205/3810) /home/hatsu/coding/CapProj/TestSeg_1/video_input/fight_5.mp4: 384x640 1 Fighter, 14.0ms\n",
      "video 1/1 (frame 3206/3810) /home/hatsu/coding/CapProj/TestSeg_1/video_input/fight_5.mp4: 384x640 1 Fighter, 14.2ms\n",
      "video 1/1 (frame 3207/3810) /home/hatsu/coding/CapProj/TestSeg_1/video_input/fight_5.mp4: 384x640 1 Fighter, 13.7ms\n",
      "video 1/1 (frame 3208/3810) /home/hatsu/coding/CapProj/TestSeg_1/video_input/fight_5.mp4: 384x640 2 Fighters, 15.3ms\n",
      "video 1/1 (frame 3209/3810) /home/hatsu/coding/CapProj/TestSeg_1/video_input/fight_5.mp4: 384x640 2 Fighters, 20.6ms\n",
      "video 1/1 (frame 3210/3810) /home/hatsu/coding/CapProj/TestSeg_1/video_input/fight_5.mp4: 384x640 1 Fighter, 16.2ms\n",
      "video 1/1 (frame 3211/3810) /home/hatsu/coding/CapProj/TestSeg_1/video_input/fight_5.mp4: 384x640 1 Fighter, 12.8ms\n",
      "video 1/1 (frame 3212/3810) /home/hatsu/coding/CapProj/TestSeg_1/video_input/fight_5.mp4: 384x640 1 Fighter, 14.4ms\n",
      "video 1/1 (frame 3213/3810) /home/hatsu/coding/CapProj/TestSeg_1/video_input/fight_5.mp4: 384x640 1 Fighter, 14.5ms\n",
      "video 1/1 (frame 3214/3810) /home/hatsu/coding/CapProj/TestSeg_1/video_input/fight_5.mp4: 384x640 1 Fighter, 13.9ms\n",
      "video 1/1 (frame 3215/3810) /home/hatsu/coding/CapProj/TestSeg_1/video_input/fight_5.mp4: 384x640 1 Fighter, 39.5ms\n",
      "video 1/1 (frame 3216/3810) /home/hatsu/coding/CapProj/TestSeg_1/video_input/fight_5.mp4: 384x640 1 Fighter, 13.0ms\n",
      "video 1/1 (frame 3217/3810) /home/hatsu/coding/CapProj/TestSeg_1/video_input/fight_5.mp4: 384x640 1 Fighter, 15.3ms\n",
      "video 1/1 (frame 3218/3810) /home/hatsu/coding/CapProj/TestSeg_1/video_input/fight_5.mp4: 384x640 1 Fighter, 21.9ms\n",
      "video 1/1 (frame 3219/3810) /home/hatsu/coding/CapProj/TestSeg_1/video_input/fight_5.mp4: 384x640 1 Fighter, 20.1ms\n",
      "video 1/1 (frame 3220/3810) /home/hatsu/coding/CapProj/TestSeg_1/video_input/fight_5.mp4: 384x640 1 Fighter, 17.6ms\n",
      "video 1/1 (frame 3221/3810) /home/hatsu/coding/CapProj/TestSeg_1/video_input/fight_5.mp4: 384x640 1 Fighter, 24.3ms\n",
      "video 1/1 (frame 3222/3810) /home/hatsu/coding/CapProj/TestSeg_1/video_input/fight_5.mp4: 384x640 1 Fighter, 17.0ms\n",
      "video 1/1 (frame 3223/3810) /home/hatsu/coding/CapProj/TestSeg_1/video_input/fight_5.mp4: 384x640 1 Fighter, 14.5ms\n",
      "video 1/1 (frame 3224/3810) /home/hatsu/coding/CapProj/TestSeg_1/video_input/fight_5.mp4: 384x640 1 Fighter, 15.2ms\n",
      "video 1/1 (frame 3225/3810) /home/hatsu/coding/CapProj/TestSeg_1/video_input/fight_5.mp4: 384x640 1 Fighter, 18.0ms\n",
      "video 1/1 (frame 3226/3810) /home/hatsu/coding/CapProj/TestSeg_1/video_input/fight_5.mp4: 384x640 1 Fighter, 13.3ms\n",
      "video 1/1 (frame 3227/3810) /home/hatsu/coding/CapProj/TestSeg_1/video_input/fight_5.mp4: 384x640 1 Fighter, 16.5ms\n",
      "video 1/1 (frame 3228/3810) /home/hatsu/coding/CapProj/TestSeg_1/video_input/fight_5.mp4: 384x640 1 Fighter, 31.5ms\n",
      "video 1/1 (frame 3229/3810) /home/hatsu/coding/CapProj/TestSeg_1/video_input/fight_5.mp4: 384x640 1 Fighter, 18.9ms\n",
      "video 1/1 (frame 3230/3810) /home/hatsu/coding/CapProj/TestSeg_1/video_input/fight_5.mp4: 384x640 1 Fighter, 41.8ms\n",
      "video 1/1 (frame 3231/3810) /home/hatsu/coding/CapProj/TestSeg_1/video_input/fight_5.mp4: 384x640 1 Fighter, 14.2ms\n",
      "video 1/1 (frame 3232/3810) /home/hatsu/coding/CapProj/TestSeg_1/video_input/fight_5.mp4: 384x640 1 Fighter, 17.9ms\n",
      "video 1/1 (frame 3233/3810) /home/hatsu/coding/CapProj/TestSeg_1/video_input/fight_5.mp4: 384x640 1 Fighter, 14.0ms\n",
      "video 1/1 (frame 3234/3810) /home/hatsu/coding/CapProj/TestSeg_1/video_input/fight_5.mp4: 384x640 1 Fighter, 15.4ms\n",
      "video 1/1 (frame 3235/3810) /home/hatsu/coding/CapProj/TestSeg_1/video_input/fight_5.mp4: 384x640 1 Fighter, 15.1ms\n",
      "video 1/1 (frame 3236/3810) /home/hatsu/coding/CapProj/TestSeg_1/video_input/fight_5.mp4: 384x640 1 Fighter, 20.4ms\n",
      "video 1/1 (frame 3237/3810) /home/hatsu/coding/CapProj/TestSeg_1/video_input/fight_5.mp4: 384x640 1 Fighter, 13.3ms\n",
      "video 1/1 (frame 3238/3810) /home/hatsu/coding/CapProj/TestSeg_1/video_input/fight_5.mp4: 384x640 1 Fighter, 13.6ms\n",
      "video 1/1 (frame 3239/3810) /home/hatsu/coding/CapProj/TestSeg_1/video_input/fight_5.mp4: 384x640 1 Fighter, 15.7ms\n",
      "video 1/1 (frame 3240/3810) /home/hatsu/coding/CapProj/TestSeg_1/video_input/fight_5.mp4: 384x640 1 Fighter, 15.0ms\n",
      "video 1/1 (frame 3241/3810) /home/hatsu/coding/CapProj/TestSeg_1/video_input/fight_5.mp4: 384x640 1 Fighter, 21.5ms\n",
      "video 1/1 (frame 3242/3810) /home/hatsu/coding/CapProj/TestSeg_1/video_input/fight_5.mp4: 384x640 1 Fighter, 21.6ms\n",
      "video 1/1 (frame 3243/3810) /home/hatsu/coding/CapProj/TestSeg_1/video_input/fight_5.mp4: 384x640 1 Fighter, 20.3ms\n",
      "video 1/1 (frame 3244/3810) /home/hatsu/coding/CapProj/TestSeg_1/video_input/fight_5.mp4: 384x640 1 Fighter, 18.9ms\n",
      "video 1/1 (frame 3245/3810) /home/hatsu/coding/CapProj/TestSeg_1/video_input/fight_5.mp4: 384x640 1 Fighter, 19.2ms\n",
      "video 1/1 (frame 3246/3810) /home/hatsu/coding/CapProj/TestSeg_1/video_input/fight_5.mp4: 384x640 1 Fighter, 22.5ms\n",
      "video 1/1 (frame 3247/3810) /home/hatsu/coding/CapProj/TestSeg_1/video_input/fight_5.mp4: 384x640 1 Fighter, 17.8ms\n",
      "video 1/1 (frame 3248/3810) /home/hatsu/coding/CapProj/TestSeg_1/video_input/fight_5.mp4: 384x640 1 Fighter, 17.8ms\n",
      "video 1/1 (frame 3249/3810) /home/hatsu/coding/CapProj/TestSeg_1/video_input/fight_5.mp4: 384x640 1 Fighter, 26.6ms\n",
      "video 1/1 (frame 3250/3810) /home/hatsu/coding/CapProj/TestSeg_1/video_input/fight_5.mp4: 384x640 1 Fighter, 34.2ms\n",
      "video 1/1 (frame 3251/3810) /home/hatsu/coding/CapProj/TestSeg_1/video_input/fight_5.mp4: 384x640 1 Fighter, 20.9ms\n",
      "video 1/1 (frame 3252/3810) /home/hatsu/coding/CapProj/TestSeg_1/video_input/fight_5.mp4: 384x640 1 Fighter, 18.0ms\n",
      "video 1/1 (frame 3253/3810) /home/hatsu/coding/CapProj/TestSeg_1/video_input/fight_5.mp4: 384x640 1 Fighter, 16.9ms\n",
      "video 1/1 (frame 3254/3810) /home/hatsu/coding/CapProj/TestSeg_1/video_input/fight_5.mp4: 384x640 1 Fighter, 19.2ms\n",
      "video 1/1 (frame 3255/3810) /home/hatsu/coding/CapProj/TestSeg_1/video_input/fight_5.mp4: 384x640 1 Fighter, 19.1ms\n",
      "video 1/1 (frame 3256/3810) /home/hatsu/coding/CapProj/TestSeg_1/video_input/fight_5.mp4: 384x640 1 Fighter, 17.1ms\n",
      "video 1/1 (frame 3257/3810) /home/hatsu/coding/CapProj/TestSeg_1/video_input/fight_5.mp4: 384x640 1 Fighter, 19.0ms\n",
      "video 1/1 (frame 3258/3810) /home/hatsu/coding/CapProj/TestSeg_1/video_input/fight_5.mp4: 384x640 1 Fighter, 12.9ms\n",
      "video 1/1 (frame 3259/3810) /home/hatsu/coding/CapProj/TestSeg_1/video_input/fight_5.mp4: 384x640 1 Fighter, 30.1ms\n",
      "video 1/1 (frame 3260/3810) /home/hatsu/coding/CapProj/TestSeg_1/video_input/fight_5.mp4: 384x640 1 Fighter, 13.6ms\n",
      "video 1/1 (frame 3261/3810) /home/hatsu/coding/CapProj/TestSeg_1/video_input/fight_5.mp4: 384x640 1 Fighter, 29.9ms\n",
      "video 1/1 (frame 3262/3810) /home/hatsu/coding/CapProj/TestSeg_1/video_input/fight_5.mp4: 384x640 1 Fighter, 21.8ms\n",
      "video 1/1 (frame 3263/3810) /home/hatsu/coding/CapProj/TestSeg_1/video_input/fight_5.mp4: 384x640 1 Fighter, 17.5ms\n",
      "video 1/1 (frame 3264/3810) /home/hatsu/coding/CapProj/TestSeg_1/video_input/fight_5.mp4: 384x640 1 Fighter, 13.6ms\n",
      "video 1/1 (frame 3265/3810) /home/hatsu/coding/CapProj/TestSeg_1/video_input/fight_5.mp4: 384x640 1 Fighter, 15.4ms\n",
      "video 1/1 (frame 3266/3810) /home/hatsu/coding/CapProj/TestSeg_1/video_input/fight_5.mp4: 384x640 1 Fighter, 14.8ms\n",
      "video 1/1 (frame 3267/3810) /home/hatsu/coding/CapProj/TestSeg_1/video_input/fight_5.mp4: 384x640 2 Fighters, 21.2ms\n",
      "video 1/1 (frame 3268/3810) /home/hatsu/coding/CapProj/TestSeg_1/video_input/fight_5.mp4: 384x640 2 Fighters, 28.9ms\n",
      "video 1/1 (frame 3269/3810) /home/hatsu/coding/CapProj/TestSeg_1/video_input/fight_5.mp4: 384x640 2 Fighters, 17.1ms\n",
      "video 1/1 (frame 3270/3810) /home/hatsu/coding/CapProj/TestSeg_1/video_input/fight_5.mp4: 384x640 3 Fighters, 14.4ms\n",
      "video 1/1 (frame 3271/3810) /home/hatsu/coding/CapProj/TestSeg_1/video_input/fight_5.mp4: 384x640 3 Fighters, 13.2ms\n",
      "video 1/1 (frame 3272/3810) /home/hatsu/coding/CapProj/TestSeg_1/video_input/fight_5.mp4: 384x640 3 Fighters, 17.9ms\n",
      "video 1/1 (frame 3273/3810) /home/hatsu/coding/CapProj/TestSeg_1/video_input/fight_5.mp4: 384x640 2 Fighters, 13.3ms\n",
      "video 1/1 (frame 3274/3810) /home/hatsu/coding/CapProj/TestSeg_1/video_input/fight_5.mp4: 384x640 2 Fighters, 13.9ms\n",
      "video 1/1 (frame 3275/3810) /home/hatsu/coding/CapProj/TestSeg_1/video_input/fight_5.mp4: 384x640 2 Fighters, 14.7ms\n",
      "video 1/1 (frame 3276/3810) /home/hatsu/coding/CapProj/TestSeg_1/video_input/fight_5.mp4: 384x640 3 Fighters, 21.9ms\n",
      "video 1/1 (frame 3277/3810) /home/hatsu/coding/CapProj/TestSeg_1/video_input/fight_5.mp4: 384x640 2 Fighters, 14.2ms\n",
      "video 1/1 (frame 3278/3810) /home/hatsu/coding/CapProj/TestSeg_1/video_input/fight_5.mp4: 384x640 2 Fighters, 19.2ms\n",
      "video 1/1 (frame 3279/3810) /home/hatsu/coding/CapProj/TestSeg_1/video_input/fight_5.mp4: 384x640 2 Fighters, 35.5ms\n",
      "video 1/1 (frame 3280/3810) /home/hatsu/coding/CapProj/TestSeg_1/video_input/fight_5.mp4: 384x640 2 Fighters, 14.6ms\n",
      "video 1/1 (frame 3281/3810) /home/hatsu/coding/CapProj/TestSeg_1/video_input/fight_5.mp4: 384x640 2 Fighters, 15.6ms\n",
      "video 1/1 (frame 3282/3810) /home/hatsu/coding/CapProj/TestSeg_1/video_input/fight_5.mp4: 384x640 2 Fighters, 14.4ms\n",
      "video 1/1 (frame 3283/3810) /home/hatsu/coding/CapProj/TestSeg_1/video_input/fight_5.mp4: 384x640 2 Fighters, 17.0ms\n",
      "video 1/1 (frame 3284/3810) /home/hatsu/coding/CapProj/TestSeg_1/video_input/fight_5.mp4: 384x640 2 Fighters, 13.3ms\n",
      "video 1/1 (frame 3285/3810) /home/hatsu/coding/CapProj/TestSeg_1/video_input/fight_5.mp4: 384x640 2 Fighters, 15.3ms\n",
      "video 1/1 (frame 3286/3810) /home/hatsu/coding/CapProj/TestSeg_1/video_input/fight_5.mp4: 384x640 2 Fighters, 14.2ms\n",
      "video 1/1 (frame 3287/3810) /home/hatsu/coding/CapProj/TestSeg_1/video_input/fight_5.mp4: 384x640 2 Fighters, 15.1ms\n",
      "video 1/1 (frame 3288/3810) /home/hatsu/coding/CapProj/TestSeg_1/video_input/fight_5.mp4: 384x640 2 Fighters, 18.7ms\n",
      "video 1/1 (frame 3289/3810) /home/hatsu/coding/CapProj/TestSeg_1/video_input/fight_5.mp4: 384x640 2 Fighters, 15.3ms\n",
      "video 1/1 (frame 3290/3810) /home/hatsu/coding/CapProj/TestSeg_1/video_input/fight_5.mp4: 384x640 2 Fighters, 21.3ms\n",
      "video 1/1 (frame 3291/3810) /home/hatsu/coding/CapProj/TestSeg_1/video_input/fight_5.mp4: 384x640 2 Fighters, 14.4ms\n",
      "video 1/1 (frame 3292/3810) /home/hatsu/coding/CapProj/TestSeg_1/video_input/fight_5.mp4: 384x640 3 Fighters, 15.2ms\n",
      "video 1/1 (frame 3293/3810) /home/hatsu/coding/CapProj/TestSeg_1/video_input/fight_5.mp4: 384x640 3 Fighters, 35.4ms\n",
      "video 1/1 (frame 3294/3810) /home/hatsu/coding/CapProj/TestSeg_1/video_input/fight_5.mp4: 384x640 3 Fighters, 19.8ms\n",
      "video 1/1 (frame 3295/3810) /home/hatsu/coding/CapProj/TestSeg_1/video_input/fight_5.mp4: 384x640 2 Fighters, 14.5ms\n",
      "video 1/1 (frame 3296/3810) /home/hatsu/coding/CapProj/TestSeg_1/video_input/fight_5.mp4: 384x640 3 Fighters, 15.0ms\n",
      "video 1/1 (frame 3297/3810) /home/hatsu/coding/CapProj/TestSeg_1/video_input/fight_5.mp4: 384x640 2 Fighters, 30.1ms\n",
      "video 1/1 (frame 3298/3810) /home/hatsu/coding/CapProj/TestSeg_1/video_input/fight_5.mp4: 384x640 2 Fighters, 14.0ms\n",
      "video 1/1 (frame 3299/3810) /home/hatsu/coding/CapProj/TestSeg_1/video_input/fight_5.mp4: 384x640 2 Fighters, 20.9ms\n",
      "video 1/1 (frame 3300/3810) /home/hatsu/coding/CapProj/TestSeg_1/video_input/fight_5.mp4: 384x640 2 Fighters, 15.8ms\n",
      "video 1/1 (frame 3301/3810) /home/hatsu/coding/CapProj/TestSeg_1/video_input/fight_5.mp4: 384x640 2 Fighters, 30.0ms\n",
      "video 1/1 (frame 3302/3810) /home/hatsu/coding/CapProj/TestSeg_1/video_input/fight_5.mp4: 384x640 2 Fighters, 14.4ms\n",
      "video 1/1 (frame 3303/3810) /home/hatsu/coding/CapProj/TestSeg_1/video_input/fight_5.mp4: 384x640 1 Fighter, 14.0ms\n",
      "video 1/1 (frame 3304/3810) /home/hatsu/coding/CapProj/TestSeg_1/video_input/fight_5.mp4: 384x640 1 Fighter, 23.2ms\n",
      "video 1/1 (frame 3305/3810) /home/hatsu/coding/CapProj/TestSeg_1/video_input/fight_5.mp4: 384x640 1 Fighter, 13.7ms\n",
      "video 1/1 (frame 3306/3810) /home/hatsu/coding/CapProj/TestSeg_1/video_input/fight_5.mp4: 384x640 1 Fighter, 15.6ms\n",
      "video 1/1 (frame 3307/3810) /home/hatsu/coding/CapProj/TestSeg_1/video_input/fight_5.mp4: 384x640 1 Fighter, 13.8ms\n",
      "video 1/1 (frame 3308/3810) /home/hatsu/coding/CapProj/TestSeg_1/video_input/fight_5.mp4: 384x640 1 Fighter, 19.6ms\n",
      "video 1/1 (frame 3309/3810) /home/hatsu/coding/CapProj/TestSeg_1/video_input/fight_5.mp4: 384x640 1 Fighter, 35.8ms\n",
      "video 1/1 (frame 3310/3810) /home/hatsu/coding/CapProj/TestSeg_1/video_input/fight_5.mp4: 384x640 1 Fighter, 25.6ms\n",
      "video 1/1 (frame 3311/3810) /home/hatsu/coding/CapProj/TestSeg_1/video_input/fight_5.mp4: 384x640 1 Fighter, 13.7ms\n",
      "video 1/1 (frame 3312/3810) /home/hatsu/coding/CapProj/TestSeg_1/video_input/fight_5.mp4: 384x640 1 Fighter, 14.3ms\n",
      "video 1/1 (frame 3313/3810) /home/hatsu/coding/CapProj/TestSeg_1/video_input/fight_5.mp4: 384x640 1 Fighter, 12.7ms\n",
      "video 1/1 (frame 3314/3810) /home/hatsu/coding/CapProj/TestSeg_1/video_input/fight_5.mp4: 384x640 1 Fighter, 30.3ms\n",
      "video 1/1 (frame 3315/3810) /home/hatsu/coding/CapProj/TestSeg_1/video_input/fight_5.mp4: 384x640 1 Fighter, 16.0ms\n",
      "video 1/1 (frame 3316/3810) /home/hatsu/coding/CapProj/TestSeg_1/video_input/fight_5.mp4: 384x640 1 Fighter, 14.2ms\n",
      "video 1/1 (frame 3317/3810) /home/hatsu/coding/CapProj/TestSeg_1/video_input/fight_5.mp4: 384x640 1 Fighter, 16.0ms\n",
      "video 1/1 (frame 3318/3810) /home/hatsu/coding/CapProj/TestSeg_1/video_input/fight_5.mp4: 384x640 1 Fighter, 13.4ms\n",
      "video 1/1 (frame 3319/3810) /home/hatsu/coding/CapProj/TestSeg_1/video_input/fight_5.mp4: 384x640 1 Fighter, 14.5ms\n",
      "video 1/1 (frame 3320/3810) /home/hatsu/coding/CapProj/TestSeg_1/video_input/fight_5.mp4: 384x640 1 Fighter, 20.4ms\n",
      "video 1/1 (frame 3321/3810) /home/hatsu/coding/CapProj/TestSeg_1/video_input/fight_5.mp4: 384x640 1 Fighter, 14.3ms\n",
      "video 1/1 (frame 3322/3810) /home/hatsu/coding/CapProj/TestSeg_1/video_input/fight_5.mp4: 384x640 1 Fighter, 12.7ms\n",
      "video 1/1 (frame 3323/3810) /home/hatsu/coding/CapProj/TestSeg_1/video_input/fight_5.mp4: 384x640 1 Fighter, 14.0ms\n",
      "video 1/1 (frame 3324/3810) /home/hatsu/coding/CapProj/TestSeg_1/video_input/fight_5.mp4: 384x640 1 Fighter, 14.6ms\n",
      "video 1/1 (frame 3325/3810) /home/hatsu/coding/CapProj/TestSeg_1/video_input/fight_5.mp4: 384x640 1 Fighter, 39.8ms\n",
      "video 1/1 (frame 3326/3810) /home/hatsu/coding/CapProj/TestSeg_1/video_input/fight_5.mp4: 384x640 1 Fighter, 14.9ms\n",
      "video 1/1 (frame 3327/3810) /home/hatsu/coding/CapProj/TestSeg_1/video_input/fight_5.mp4: 384x640 1 Fighter, 14.5ms\n",
      "video 1/1 (frame 3328/3810) /home/hatsu/coding/CapProj/TestSeg_1/video_input/fight_5.mp4: 384x640 1 Fighter, 15.9ms\n",
      "video 1/1 (frame 3329/3810) /home/hatsu/coding/CapProj/TestSeg_1/video_input/fight_5.mp4: 384x640 1 Fighter, 24.2ms\n",
      "video 1/1 (frame 3330/3810) /home/hatsu/coding/CapProj/TestSeg_1/video_input/fight_5.mp4: 384x640 1 Fighter, 20.2ms\n",
      "video 1/1 (frame 3331/3810) /home/hatsu/coding/CapProj/TestSeg_1/video_input/fight_5.mp4: 384x640 1 Fighter, 14.5ms\n",
      "video 1/1 (frame 3332/3810) /home/hatsu/coding/CapProj/TestSeg_1/video_input/fight_5.mp4: 384x640 1 Fighter, 31.0ms\n",
      "video 1/1 (frame 3333/3810) /home/hatsu/coding/CapProj/TestSeg_1/video_input/fight_5.mp4: 384x640 1 Fighter, 13.5ms\n",
      "video 1/1 (frame 3334/3810) /home/hatsu/coding/CapProj/TestSeg_1/video_input/fight_5.mp4: 384x640 1 Fighter, 14.5ms\n",
      "video 1/1 (frame 3335/3810) /home/hatsu/coding/CapProj/TestSeg_1/video_input/fight_5.mp4: 384x640 1 Fighter, 20.5ms\n",
      "video 1/1 (frame 3336/3810) /home/hatsu/coding/CapProj/TestSeg_1/video_input/fight_5.mp4: 384x640 1 Fighter, 21.7ms\n",
      "video 1/1 (frame 3337/3810) /home/hatsu/coding/CapProj/TestSeg_1/video_input/fight_5.mp4: 384x640 1 Fighter, 19.8ms\n",
      "video 1/1 (frame 3338/3810) /home/hatsu/coding/CapProj/TestSeg_1/video_input/fight_5.mp4: 384x640 1 Fighter, 19.6ms\n",
      "video 1/1 (frame 3339/3810) /home/hatsu/coding/CapProj/TestSeg_1/video_input/fight_5.mp4: 384x640 1 Fighter, 20.3ms\n",
      "video 1/1 (frame 3340/3810) /home/hatsu/coding/CapProj/TestSeg_1/video_input/fight_5.mp4: 384x640 1 Fighter, 22.4ms\n",
      "video 1/1 (frame 3341/3810) /home/hatsu/coding/CapProj/TestSeg_1/video_input/fight_5.mp4: 384x640 1 Fighter, 20.1ms\n",
      "video 1/1 (frame 3342/3810) /home/hatsu/coding/CapProj/TestSeg_1/video_input/fight_5.mp4: 384x640 1 Fighter, 17.7ms\n",
      "video 1/1 (frame 3343/3810) /home/hatsu/coding/CapProj/TestSeg_1/video_input/fight_5.mp4: 384x640 1 Fighter, 14.3ms\n",
      "video 1/1 (frame 3344/3810) /home/hatsu/coding/CapProj/TestSeg_1/video_input/fight_5.mp4: 384x640 1 Fighter, 14.9ms\n",
      "video 1/1 (frame 3345/3810) /home/hatsu/coding/CapProj/TestSeg_1/video_input/fight_5.mp4: 384x640 1 Fighter, 18.2ms\n",
      "video 1/1 (frame 3346/3810) /home/hatsu/coding/CapProj/TestSeg_1/video_input/fight_5.mp4: 384x640 1 Fighter, 39.0ms\n",
      "video 1/1 (frame 3347/3810) /home/hatsu/coding/CapProj/TestSeg_1/video_input/fight_5.mp4: 384x640 1 Fighter, 15.1ms\n",
      "video 1/1 (frame 3348/3810) /home/hatsu/coding/CapProj/TestSeg_1/video_input/fight_5.mp4: 384x640 1 Fighter, 15.5ms\n",
      "video 1/1 (frame 3349/3810) /home/hatsu/coding/CapProj/TestSeg_1/video_input/fight_5.mp4: 384x640 1 Fighter, 15.0ms\n",
      "video 1/1 (frame 3350/3810) /home/hatsu/coding/CapProj/TestSeg_1/video_input/fight_5.mp4: 384x640 1 Fighter, 18.9ms\n",
      "video 1/1 (frame 3351/3810) /home/hatsu/coding/CapProj/TestSeg_1/video_input/fight_5.mp4: 384x640 1 Fighter, 14.6ms\n",
      "video 1/1 (frame 3352/3810) /home/hatsu/coding/CapProj/TestSeg_1/video_input/fight_5.mp4: 384x640 1 Fighter, 13.3ms\n",
      "video 1/1 (frame 3353/3810) /home/hatsu/coding/CapProj/TestSeg_1/video_input/fight_5.mp4: 384x640 1 Fighter, 13.7ms\n",
      "video 1/1 (frame 3354/3810) /home/hatsu/coding/CapProj/TestSeg_1/video_input/fight_5.mp4: 384x640 1 Fighter, 21.0ms\n",
      "video 1/1 (frame 3355/3810) /home/hatsu/coding/CapProj/TestSeg_1/video_input/fight_5.mp4: 384x640 1 Fighter, 14.5ms\n",
      "video 1/1 (frame 3356/3810) /home/hatsu/coding/CapProj/TestSeg_1/video_input/fight_5.mp4: 384x640 1 Fighter, 18.2ms\n",
      "video 1/1 (frame 3357/3810) /home/hatsu/coding/CapProj/TestSeg_1/video_input/fight_5.mp4: 384x640 1 Fighter, 15.4ms\n",
      "video 1/1 (frame 3358/3810) /home/hatsu/coding/CapProj/TestSeg_1/video_input/fight_5.mp4: 384x640 1 Fighter, 13.5ms\n",
      "video 1/1 (frame 3359/3810) /home/hatsu/coding/CapProj/TestSeg_1/video_input/fight_5.mp4: 384x640 1 Fighter, 15.8ms\n",
      "video 1/1 (frame 3360/3810) /home/hatsu/coding/CapProj/TestSeg_1/video_input/fight_5.mp4: 384x640 1 Fighter, 14.9ms\n",
      "video 1/1 (frame 3361/3810) /home/hatsu/coding/CapProj/TestSeg_1/video_input/fight_5.mp4: 384x640 1 Fighter, 20.5ms\n",
      "video 1/1 (frame 3362/3810) /home/hatsu/coding/CapProj/TestSeg_1/video_input/fight_5.mp4: 384x640 1 Fighter, 15.0ms\n",
      "video 1/1 (frame 3363/3810) /home/hatsu/coding/CapProj/TestSeg_1/video_input/fight_5.mp4: 384x640 1 Fighter, 15.4ms\n",
      "video 1/1 (frame 3364/3810) /home/hatsu/coding/CapProj/TestSeg_1/video_input/fight_5.mp4: 384x640 1 Fighter, 16.6ms\n",
      "video 1/1 (frame 3365/3810) /home/hatsu/coding/CapProj/TestSeg_1/video_input/fight_5.mp4: 384x640 1 Fighter, 15.7ms\n",
      "video 1/1 (frame 3366/3810) /home/hatsu/coding/CapProj/TestSeg_1/video_input/fight_5.mp4: 384x640 1 Fighter, 18.9ms\n",
      "video 1/1 (frame 3367/3810) /home/hatsu/coding/CapProj/TestSeg_1/video_input/fight_5.mp4: 384x640 1 Fighter, 13.6ms\n",
      "video 1/1 (frame 3368/3810) /home/hatsu/coding/CapProj/TestSeg_1/video_input/fight_5.mp4: 384x640 1 Fighter, 14.0ms\n",
      "video 1/1 (frame 3369/3810) /home/hatsu/coding/CapProj/TestSeg_1/video_input/fight_5.mp4: 384x640 1 Fighter, 13.2ms\n",
      "video 1/1 (frame 3370/3810) /home/hatsu/coding/CapProj/TestSeg_1/video_input/fight_5.mp4: 384x640 1 Fighter, 13.6ms\n",
      "video 1/1 (frame 3371/3810) /home/hatsu/coding/CapProj/TestSeg_1/video_input/fight_5.mp4: 384x640 1 Fighter, 14.2ms\n",
      "video 1/1 (frame 3372/3810) /home/hatsu/coding/CapProj/TestSeg_1/video_input/fight_5.mp4: 384x640 1 Fighter, 20.7ms\n",
      "video 1/1 (frame 3373/3810) /home/hatsu/coding/CapProj/TestSeg_1/video_input/fight_5.mp4: 384x640 1 Fighter, 15.6ms\n",
      "video 1/1 (frame 3374/3810) /home/hatsu/coding/CapProj/TestSeg_1/video_input/fight_5.mp4: 384x640 1 Fighter, 15.9ms\n",
      "video 1/1 (frame 3375/3810) /home/hatsu/coding/CapProj/TestSeg_1/video_input/fight_5.mp4: 384x640 1 Fighter, 14.0ms\n",
      "video 1/1 (frame 3376/3810) /home/hatsu/coding/CapProj/TestSeg_1/video_input/fight_5.mp4: 384x640 1 Fighter, 37.1ms\n",
      "video 1/1 (frame 3377/3810) /home/hatsu/coding/CapProj/TestSeg_1/video_input/fight_5.mp4: 384x640 1 Fighter, 32.7ms\n",
      "video 1/1 (frame 3378/3810) /home/hatsu/coding/CapProj/TestSeg_1/video_input/fight_5.mp4: 384x640 1 Fighter, 19.1ms\n",
      "video 1/1 (frame 3379/3810) /home/hatsu/coding/CapProj/TestSeg_1/video_input/fight_5.mp4: 384x640 1 Fighter, 25.4ms\n",
      "video 1/1 (frame 3380/3810) /home/hatsu/coding/CapProj/TestSeg_1/video_input/fight_5.mp4: 384x640 1 Fighter, 20.3ms\n",
      "video 1/1 (frame 3381/3810) /home/hatsu/coding/CapProj/TestSeg_1/video_input/fight_5.mp4: 384x640 1 Fighter, 21.4ms\n",
      "video 1/1 (frame 3382/3810) /home/hatsu/coding/CapProj/TestSeg_1/video_input/fight_5.mp4: 384x640 1 Fighter, 20.8ms\n",
      "video 1/1 (frame 3383/3810) /home/hatsu/coding/CapProj/TestSeg_1/video_input/fight_5.mp4: 384x640 1 Fighter, 25.5ms\n",
      "video 1/1 (frame 3384/3810) /home/hatsu/coding/CapProj/TestSeg_1/video_input/fight_5.mp4: 384x640 1 Fighter, 31.6ms\n",
      "video 1/1 (frame 3385/3810) /home/hatsu/coding/CapProj/TestSeg_1/video_input/fight_5.mp4: 384x640 1 Fighter, 17.7ms\n",
      "video 1/1 (frame 3386/3810) /home/hatsu/coding/CapProj/TestSeg_1/video_input/fight_5.mp4: 384x640 1 Fighter, 25.0ms\n",
      "video 1/1 (frame 3387/3810) /home/hatsu/coding/CapProj/TestSeg_1/video_input/fight_5.mp4: 384x640 1 Fighter, 17.7ms\n",
      "video 1/1 (frame 3388/3810) /home/hatsu/coding/CapProj/TestSeg_1/video_input/fight_5.mp4: 384x640 1 Fighter, 22.5ms\n",
      "video 1/1 (frame 3389/3810) /home/hatsu/coding/CapProj/TestSeg_1/video_input/fight_5.mp4: 384x640 1 Fighter, 15.4ms\n",
      "video 1/1 (frame 3390/3810) /home/hatsu/coding/CapProj/TestSeg_1/video_input/fight_5.mp4: 384x640 1 Fighter, 13.9ms\n",
      "video 1/1 (frame 3391/3810) /home/hatsu/coding/CapProj/TestSeg_1/video_input/fight_5.mp4: 384x640 1 Fighter, 15.7ms\n",
      "video 1/1 (frame 3392/3810) /home/hatsu/coding/CapProj/TestSeg_1/video_input/fight_5.mp4: 384x640 1 Fighter, 14.7ms\n",
      "video 1/1 (frame 3393/3810) /home/hatsu/coding/CapProj/TestSeg_1/video_input/fight_5.mp4: 384x640 1 Fighter, 21.9ms\n",
      "video 1/1 (frame 3394/3810) /home/hatsu/coding/CapProj/TestSeg_1/video_input/fight_5.mp4: 384x640 1 Fighter, 17.5ms\n",
      "video 1/1 (frame 3395/3810) /home/hatsu/coding/CapProj/TestSeg_1/video_input/fight_5.mp4: 384x640 1 Fighter, 16.2ms\n",
      "video 1/1 (frame 3396/3810) /home/hatsu/coding/CapProj/TestSeg_1/video_input/fight_5.mp4: 384x640 1 Fighter, 15.2ms\n",
      "video 1/1 (frame 3397/3810) /home/hatsu/coding/CapProj/TestSeg_1/video_input/fight_5.mp4: 384x640 1 Fighter, 15.6ms\n",
      "video 1/1 (frame 3398/3810) /home/hatsu/coding/CapProj/TestSeg_1/video_input/fight_5.mp4: 384x640 1 Fighter, 21.1ms\n",
      "video 1/1 (frame 3399/3810) /home/hatsu/coding/CapProj/TestSeg_1/video_input/fight_5.mp4: 384x640 1 Fighter, 14.4ms\n",
      "video 1/1 (frame 3400/3810) /home/hatsu/coding/CapProj/TestSeg_1/video_input/fight_5.mp4: 384x640 1 Fighter, 15.5ms\n",
      "video 1/1 (frame 3401/3810) /home/hatsu/coding/CapProj/TestSeg_1/video_input/fight_5.mp4: 384x640 1 Fighter, 20.9ms\n",
      "video 1/1 (frame 3402/3810) /home/hatsu/coding/CapProj/TestSeg_1/video_input/fight_5.mp4: 384x640 1 Fighter, 14.7ms\n",
      "video 1/1 (frame 3403/3810) /home/hatsu/coding/CapProj/TestSeg_1/video_input/fight_5.mp4: 384x640 1 Fighter, 20.8ms\n",
      "video 1/1 (frame 3404/3810) /home/hatsu/coding/CapProj/TestSeg_1/video_input/fight_5.mp4: 384x640 1 Fighter, 18.8ms\n",
      "video 1/1 (frame 3405/3810) /home/hatsu/coding/CapProj/TestSeg_1/video_input/fight_5.mp4: 384x640 1 Fighter, 14.0ms\n",
      "video 1/1 (frame 3406/3810) /home/hatsu/coding/CapProj/TestSeg_1/video_input/fight_5.mp4: 384x640 1 Fighter, 15.3ms\n",
      "video 1/1 (frame 3407/3810) /home/hatsu/coding/CapProj/TestSeg_1/video_input/fight_5.mp4: 384x640 1 Fighter, 15.1ms\n",
      "video 1/1 (frame 3408/3810) /home/hatsu/coding/CapProj/TestSeg_1/video_input/fight_5.mp4: 384x640 1 Fighter, 20.7ms\n",
      "video 1/1 (frame 3409/3810) /home/hatsu/coding/CapProj/TestSeg_1/video_input/fight_5.mp4: 384x640 1 Fighter, 14.3ms\n",
      "video 1/1 (frame 3410/3810) /home/hatsu/coding/CapProj/TestSeg_1/video_input/fight_5.mp4: 384x640 1 Fighter, 17.3ms\n",
      "video 1/1 (frame 3411/3810) /home/hatsu/coding/CapProj/TestSeg_1/video_input/fight_5.mp4: 384x640 1 Fighter, 30.3ms\n",
      "video 1/1 (frame 3412/3810) /home/hatsu/coding/CapProj/TestSeg_1/video_input/fight_5.mp4: 384x640 1 Fighter, 14.1ms\n",
      "video 1/1 (frame 3413/3810) /home/hatsu/coding/CapProj/TestSeg_1/video_input/fight_5.mp4: 384x640 1 Fighter, 14.1ms\n",
      "video 1/1 (frame 3414/3810) /home/hatsu/coding/CapProj/TestSeg_1/video_input/fight_5.mp4: 384x640 1 Fighter, 22.7ms\n",
      "video 1/1 (frame 3415/3810) /home/hatsu/coding/CapProj/TestSeg_1/video_input/fight_5.mp4: 384x640 1 Fighter, 13.2ms\n",
      "video 1/1 (frame 3416/3810) /home/hatsu/coding/CapProj/TestSeg_1/video_input/fight_5.mp4: 384x640 1 Fighter, 15.8ms\n",
      "video 1/1 (frame 3417/3810) /home/hatsu/coding/CapProj/TestSeg_1/video_input/fight_5.mp4: 384x640 1 Fighter, 15.6ms\n",
      "video 1/1 (frame 3418/3810) /home/hatsu/coding/CapProj/TestSeg_1/video_input/fight_5.mp4: 384x640 1 Fighter, 15.5ms\n",
      "video 1/1 (frame 3419/3810) /home/hatsu/coding/CapProj/TestSeg_1/video_input/fight_5.mp4: 384x640 1 Fighter, 22.2ms\n",
      "video 1/1 (frame 3420/3810) /home/hatsu/coding/CapProj/TestSeg_1/video_input/fight_5.mp4: 384x640 1 Fighter, 16.7ms\n",
      "video 1/1 (frame 3421/3810) /home/hatsu/coding/CapProj/TestSeg_1/video_input/fight_5.mp4: 384x640 1 Fighter, 17.1ms\n",
      "video 1/1 (frame 3422/3810) /home/hatsu/coding/CapProj/TestSeg_1/video_input/fight_5.mp4: 384x640 1 Fighter, 14.2ms\n",
      "video 1/1 (frame 3423/3810) /home/hatsu/coding/CapProj/TestSeg_1/video_input/fight_5.mp4: 384x640 1 Fighter, 15.7ms\n",
      "video 1/1 (frame 3424/3810) /home/hatsu/coding/CapProj/TestSeg_1/video_input/fight_5.mp4: 384x640 1 Fighter, 21.5ms\n",
      "video 1/1 (frame 3425/3810) /home/hatsu/coding/CapProj/TestSeg_1/video_input/fight_5.mp4: 384x640 1 Fighter, 16.0ms\n",
      "video 1/1 (frame 3426/3810) /home/hatsu/coding/CapProj/TestSeg_1/video_input/fight_5.mp4: 384x640 1 Fighter, 13.8ms\n",
      "video 1/1 (frame 3427/3810) /home/hatsu/coding/CapProj/TestSeg_1/video_input/fight_5.mp4: 384x640 1 Fighter, 31.5ms\n",
      "video 1/1 (frame 3428/3810) /home/hatsu/coding/CapProj/TestSeg_1/video_input/fight_5.mp4: 384x640 1 Fighter, 14.8ms\n",
      "video 1/1 (frame 3429/3810) /home/hatsu/coding/CapProj/TestSeg_1/video_input/fight_5.mp4: 384x640 1 Fighter, 22.8ms\n",
      "video 1/1 (frame 3430/3810) /home/hatsu/coding/CapProj/TestSeg_1/video_input/fight_5.mp4: 384x640 1 Fighter, 17.1ms\n",
      "video 1/1 (frame 3431/3810) /home/hatsu/coding/CapProj/TestSeg_1/video_input/fight_5.mp4: 384x640 1 Fighter, 16.5ms\n",
      "video 1/1 (frame 3432/3810) /home/hatsu/coding/CapProj/TestSeg_1/video_input/fight_5.mp4: 384x640 1 Fighter, 15.6ms\n",
      "video 1/1 (frame 3433/3810) /home/hatsu/coding/CapProj/TestSeg_1/video_input/fight_5.mp4: 384x640 1 Fighter, 18.4ms\n",
      "video 1/1 (frame 3434/3810) /home/hatsu/coding/CapProj/TestSeg_1/video_input/fight_5.mp4: 384x640 1 Fighter, 18.6ms\n",
      "video 1/1 (frame 3435/3810) /home/hatsu/coding/CapProj/TestSeg_1/video_input/fight_5.mp4: 384x640 1 Fighter, 15.9ms\n",
      "video 1/1 (frame 3436/3810) /home/hatsu/coding/CapProj/TestSeg_1/video_input/fight_5.mp4: 384x640 1 Fighter, 25.9ms\n",
      "video 1/1 (frame 3437/3810) /home/hatsu/coding/CapProj/TestSeg_1/video_input/fight_5.mp4: 384x640 1 Fighter, 24.9ms\n",
      "video 1/1 (frame 3438/3810) /home/hatsu/coding/CapProj/TestSeg_1/video_input/fight_5.mp4: 384x640 1 Fighter, 23.2ms\n",
      "video 1/1 (frame 3439/3810) /home/hatsu/coding/CapProj/TestSeg_1/video_input/fight_5.mp4: 384x640 1 Fighter, 24.1ms\n",
      "video 1/1 (frame 3440/3810) /home/hatsu/coding/CapProj/TestSeg_1/video_input/fight_5.mp4: 384x640 1 Fighter, 22.5ms\n",
      "video 1/1 (frame 3441/3810) /home/hatsu/coding/CapProj/TestSeg_1/video_input/fight_5.mp4: 384x640 1 Fighter, 18.9ms\n",
      "video 1/1 (frame 3442/3810) /home/hatsu/coding/CapProj/TestSeg_1/video_input/fight_5.mp4: 384x640 1 Fighter, 21.4ms\n",
      "video 1/1 (frame 3443/3810) /home/hatsu/coding/CapProj/TestSeg_1/video_input/fight_5.mp4: 384x640 1 Fighter, 22.5ms\n",
      "video 1/1 (frame 3444/3810) /home/hatsu/coding/CapProj/TestSeg_1/video_input/fight_5.mp4: 384x640 1 Fighter, 22.2ms\n",
      "video 1/1 (frame 3445/3810) /home/hatsu/coding/CapProj/TestSeg_1/video_input/fight_5.mp4: 384x640 1 Fighter, 24.7ms\n",
      "video 1/1 (frame 3446/3810) /home/hatsu/coding/CapProj/TestSeg_1/video_input/fight_5.mp4: 384x640 1 Fighter, 14.4ms\n",
      "video 1/1 (frame 3447/3810) /home/hatsu/coding/CapProj/TestSeg_1/video_input/fight_5.mp4: 384x640 1 Fighter, 13.9ms\n",
      "video 1/1 (frame 3448/3810) /home/hatsu/coding/CapProj/TestSeg_1/video_input/fight_5.mp4: 384x640 1 Fighter, 15.4ms\n",
      "video 1/1 (frame 3449/3810) /home/hatsu/coding/CapProj/TestSeg_1/video_input/fight_5.mp4: 384x640 1 Fighter, 15.3ms\n",
      "video 1/1 (frame 3450/3810) /home/hatsu/coding/CapProj/TestSeg_1/video_input/fight_5.mp4: 384x640 1 Fighter, 15.0ms\n",
      "video 1/1 (frame 3451/3810) /home/hatsu/coding/CapProj/TestSeg_1/video_input/fight_5.mp4: 384x640 1 Fighter, 25.7ms\n",
      "video 1/1 (frame 3452/3810) /home/hatsu/coding/CapProj/TestSeg_1/video_input/fight_5.mp4: 384x640 1 Fighter, 18.0ms\n",
      "video 1/1 (frame 3453/3810) /home/hatsu/coding/CapProj/TestSeg_1/video_input/fight_5.mp4: 384x640 1 Fighter, 14.0ms\n",
      "video 1/1 (frame 3454/3810) /home/hatsu/coding/CapProj/TestSeg_1/video_input/fight_5.mp4: 384x640 1 Fighter, 13.3ms\n",
      "video 1/1 (frame 3455/3810) /home/hatsu/coding/CapProj/TestSeg_1/video_input/fight_5.mp4: 384x640 1 Fighter, 16.0ms\n",
      "video 1/1 (frame 3456/3810) /home/hatsu/coding/CapProj/TestSeg_1/video_input/fight_5.mp4: 384x640 1 Fighter, 25.5ms\n",
      "video 1/1 (frame 3457/3810) /home/hatsu/coding/CapProj/TestSeg_1/video_input/fight_5.mp4: 384x640 1 Fighter, 14.4ms\n",
      "video 1/1 (frame 3458/3810) /home/hatsu/coding/CapProj/TestSeg_1/video_input/fight_5.mp4: 384x640 1 Fighter, 13.9ms\n",
      "video 1/1 (frame 3459/3810) /home/hatsu/coding/CapProj/TestSeg_1/video_input/fight_5.mp4: 384x640 1 Fighter, 16.9ms\n",
      "video 1/1 (frame 3460/3810) /home/hatsu/coding/CapProj/TestSeg_1/video_input/fight_5.mp4: 384x640 1 Fighter, 15.9ms\n",
      "video 1/1 (frame 3461/3810) /home/hatsu/coding/CapProj/TestSeg_1/video_input/fight_5.mp4: 384x640 1 Fighter, 18.9ms\n",
      "video 1/1 (frame 3462/3810) /home/hatsu/coding/CapProj/TestSeg_1/video_input/fight_5.mp4: 384x640 1 Fighter, 13.6ms\n",
      "video 1/1 (frame 3463/3810) /home/hatsu/coding/CapProj/TestSeg_1/video_input/fight_5.mp4: 384x640 1 Fighter, 14.0ms\n",
      "video 1/1 (frame 3464/3810) /home/hatsu/coding/CapProj/TestSeg_1/video_input/fight_5.mp4: 384x640 1 Fighter, 14.4ms\n",
      "video 1/1 (frame 3465/3810) /home/hatsu/coding/CapProj/TestSeg_1/video_input/fight_5.mp4: 384x640 1 Fighter, 15.9ms\n",
      "video 1/1 (frame 3466/3810) /home/hatsu/coding/CapProj/TestSeg_1/video_input/fight_5.mp4: 384x640 1 Fighter, 18.0ms\n",
      "video 1/1 (frame 3467/3810) /home/hatsu/coding/CapProj/TestSeg_1/video_input/fight_5.mp4: 384x640 1 Fighter, 16.3ms\n",
      "video 1/1 (frame 3468/3810) /home/hatsu/coding/CapProj/TestSeg_1/video_input/fight_5.mp4: 384x640 1 Fighter, 14.5ms\n",
      "video 1/1 (frame 3469/3810) /home/hatsu/coding/CapProj/TestSeg_1/video_input/fight_5.mp4: 384x640 1 Fighter, 13.8ms\n",
      "video 1/1 (frame 3470/3810) /home/hatsu/coding/CapProj/TestSeg_1/video_input/fight_5.mp4: 384x640 1 Fighter, 13.7ms\n",
      "video 1/1 (frame 3471/3810) /home/hatsu/coding/CapProj/TestSeg_1/video_input/fight_5.mp4: 384x640 1 Fighter, 20.2ms\n",
      "video 1/1 (frame 3472/3810) /home/hatsu/coding/CapProj/TestSeg_1/video_input/fight_5.mp4: 384x640 1 Fighter, 13.0ms\n",
      "video 1/1 (frame 3473/3810) /home/hatsu/coding/CapProj/TestSeg_1/video_input/fight_5.mp4: 384x640 1 Fighter, 16.3ms\n",
      "video 1/1 (frame 3474/3810) /home/hatsu/coding/CapProj/TestSeg_1/video_input/fight_5.mp4: 384x640 (no detections), 14.9ms\n",
      "video 1/1 (frame 3475/3810) /home/hatsu/coding/CapProj/TestSeg_1/video_input/fight_5.mp4: 384x640 4 Fighters, 14.4ms\n",
      "video 1/1 (frame 3476/3810) /home/hatsu/coding/CapProj/TestSeg_1/video_input/fight_5.mp4: 384x640 1 Fighter, 14.8ms\n",
      "video 1/1 (frame 3477/3810) /home/hatsu/coding/CapProj/TestSeg_1/video_input/fight_5.mp4: 384x640 1 Fighter, 22.2ms\n",
      "video 1/1 (frame 3478/3810) /home/hatsu/coding/CapProj/TestSeg_1/video_input/fight_5.mp4: 384x640 1 Fighter, 14.4ms\n",
      "video 1/1 (frame 3479/3810) /home/hatsu/coding/CapProj/TestSeg_1/video_input/fight_5.mp4: 384x640 1 Fighter, 24.9ms\n",
      "video 1/1 (frame 3480/3810) /home/hatsu/coding/CapProj/TestSeg_1/video_input/fight_5.mp4: 384x640 5 Fighters, 33.8ms\n",
      "video 1/1 (frame 3481/3810) /home/hatsu/coding/CapProj/TestSeg_1/video_input/fight_5.mp4: 384x640 4 Fighters, 14.3ms\n",
      "video 1/1 (frame 3482/3810) /home/hatsu/coding/CapProj/TestSeg_1/video_input/fight_5.mp4: 384x640 6 Fighters, 34.9ms\n",
      "video 1/1 (frame 3483/3810) /home/hatsu/coding/CapProj/TestSeg_1/video_input/fight_5.mp4: 384x640 5 Fighters, 14.8ms\n",
      "video 1/1 (frame 3484/3810) /home/hatsu/coding/CapProj/TestSeg_1/video_input/fight_5.mp4: 384x640 3 Fighters, 13.4ms\n",
      "video 1/1 (frame 3485/3810) /home/hatsu/coding/CapProj/TestSeg_1/video_input/fight_5.mp4: 384x640 3 Fighters, 18.2ms\n",
      "video 1/1 (frame 3486/3810) /home/hatsu/coding/CapProj/TestSeg_1/video_input/fight_5.mp4: 384x640 5 Fighters, 14.1ms\n",
      "video 1/1 (frame 3487/3810) /home/hatsu/coding/CapProj/TestSeg_1/video_input/fight_5.mp4: 384x640 3 Fighters, 13.6ms\n",
      "video 1/1 (frame 3488/3810) /home/hatsu/coding/CapProj/TestSeg_1/video_input/fight_5.mp4: 384x640 1 Fighter, 21.1ms\n",
      "video 1/1 (frame 3489/3810) /home/hatsu/coding/CapProj/TestSeg_1/video_input/fight_5.mp4: 384x640 1 Fighter, 14.0ms\n",
      "video 1/1 (frame 3490/3810) /home/hatsu/coding/CapProj/TestSeg_1/video_input/fight_5.mp4: 384x640 1 Fighter, 12.7ms\n",
      "video 1/1 (frame 3491/3810) /home/hatsu/coding/CapProj/TestSeg_1/video_input/fight_5.mp4: 384x640 2 Fighters, 13.4ms\n",
      "video 1/1 (frame 3492/3810) /home/hatsu/coding/CapProj/TestSeg_1/video_input/fight_5.mp4: 384x640 1 Fighter, 14.4ms\n",
      "video 1/1 (frame 3493/3810) /home/hatsu/coding/CapProj/TestSeg_1/video_input/fight_5.mp4: 384x640 1 Fighter, 15.8ms\n",
      "video 1/1 (frame 3494/3810) /home/hatsu/coding/CapProj/TestSeg_1/video_input/fight_5.mp4: 384x640 1 Fighter, 18.7ms\n",
      "video 1/1 (frame 3495/3810) /home/hatsu/coding/CapProj/TestSeg_1/video_input/fight_5.mp4: 384x640 1 Fighter, 16.0ms\n",
      "video 1/1 (frame 3496/3810) /home/hatsu/coding/CapProj/TestSeg_1/video_input/fight_5.mp4: 384x640 1 Fighter, 14.8ms\n",
      "video 1/1 (frame 3497/3810) /home/hatsu/coding/CapProj/TestSeg_1/video_input/fight_5.mp4: 384x640 1 Fighter, 15.4ms\n",
      "video 1/1 (frame 3498/3810) /home/hatsu/coding/CapProj/TestSeg_1/video_input/fight_5.mp4: 384x640 (no detections), 14.1ms\n",
      "video 1/1 (frame 3499/3810) /home/hatsu/coding/CapProj/TestSeg_1/video_input/fight_5.mp4: 384x640 (no detections), 22.5ms\n",
      "video 1/1 (frame 3500/3810) /home/hatsu/coding/CapProj/TestSeg_1/video_input/fight_5.mp4: 384x640 1 Fighter, 14.9ms\n",
      "video 1/1 (frame 3501/3810) /home/hatsu/coding/CapProj/TestSeg_1/video_input/fight_5.mp4: 384x640 (no detections), 15.8ms\n",
      "video 1/1 (frame 3502/3810) /home/hatsu/coding/CapProj/TestSeg_1/video_input/fight_5.mp4: 384x640 (no detections), 15.2ms\n",
      "video 1/1 (frame 3503/3810) /home/hatsu/coding/CapProj/TestSeg_1/video_input/fight_5.mp4: 384x640 1 Fighter, 16.9ms\n",
      "video 1/1 (frame 3504/3810) /home/hatsu/coding/CapProj/TestSeg_1/video_input/fight_5.mp4: 384x640 1 Fighter, 33.9ms\n",
      "video 1/1 (frame 3505/3810) /home/hatsu/coding/CapProj/TestSeg_1/video_input/fight_5.mp4: 384x640 1 Fighter, 16.2ms\n",
      "video 1/1 (frame 3506/3810) /home/hatsu/coding/CapProj/TestSeg_1/video_input/fight_5.mp4: 384x640 1 Fighter, 16.1ms\n",
      "video 1/1 (frame 3507/3810) /home/hatsu/coding/CapProj/TestSeg_1/video_input/fight_5.mp4: 384x640 1 Fighter, 30.5ms\n",
      "video 1/1 (frame 3508/3810) /home/hatsu/coding/CapProj/TestSeg_1/video_input/fight_5.mp4: 384x640 1 Fighter, 14.2ms\n",
      "video 1/1 (frame 3509/3810) /home/hatsu/coding/CapProj/TestSeg_1/video_input/fight_5.mp4: 384x640 1 Fighter, 38.7ms\n",
      "video 1/1 (frame 3510/3810) /home/hatsu/coding/CapProj/TestSeg_1/video_input/fight_5.mp4: 384x640 1 Fighter, 15.9ms\n",
      "video 1/1 (frame 3511/3810) /home/hatsu/coding/CapProj/TestSeg_1/video_input/fight_5.mp4: 384x640 1 Fighter, 13.6ms\n",
      "video 1/1 (frame 3512/3810) /home/hatsu/coding/CapProj/TestSeg_1/video_input/fight_5.mp4: 384x640 1 Fighter, 15.2ms\n",
      "video 1/1 (frame 3513/3810) /home/hatsu/coding/CapProj/TestSeg_1/video_input/fight_5.mp4: 384x640 2 Fighters, 14.8ms\n",
      "video 1/1 (frame 3514/3810) /home/hatsu/coding/CapProj/TestSeg_1/video_input/fight_5.mp4: 384x640 3 Fighters, 23.0ms\n",
      "video 1/1 (frame 3515/3810) /home/hatsu/coding/CapProj/TestSeg_1/video_input/fight_5.mp4: 384x640 3 Fighters, 21.4ms\n",
      "video 1/1 (frame 3516/3810) /home/hatsu/coding/CapProj/TestSeg_1/video_input/fight_5.mp4: 384x640 2 Fighters, 19.8ms\n",
      "video 1/1 (frame 3517/3810) /home/hatsu/coding/CapProj/TestSeg_1/video_input/fight_5.mp4: 384x640 2 Fighters, 19.7ms\n",
      "video 1/1 (frame 3518/3810) /home/hatsu/coding/CapProj/TestSeg_1/video_input/fight_5.mp4: 384x640 2 Fighters, 20.1ms\n",
      "video 1/1 (frame 3519/3810) /home/hatsu/coding/CapProj/TestSeg_1/video_input/fight_5.mp4: 384x640 3 Fighters, 21.8ms\n",
      "video 1/1 (frame 3520/3810) /home/hatsu/coding/CapProj/TestSeg_1/video_input/fight_5.mp4: 384x640 3 Fighters, 21.5ms\n",
      "video 1/1 (frame 3521/3810) /home/hatsu/coding/CapProj/TestSeg_1/video_input/fight_5.mp4: 384x640 3 Fighters, 20.7ms\n",
      "video 1/1 (frame 3522/3810) /home/hatsu/coding/CapProj/TestSeg_1/video_input/fight_5.mp4: 384x640 3 Fighters, 13.4ms\n",
      "video 1/1 (frame 3523/3810) /home/hatsu/coding/CapProj/TestSeg_1/video_input/fight_5.mp4: 384x640 3 Fighters, 14.5ms\n",
      "video 1/1 (frame 3524/3810) /home/hatsu/coding/CapProj/TestSeg_1/video_input/fight_5.mp4: 384x640 3 Fighters, 15.0ms\n",
      "video 1/1 (frame 3525/3810) /home/hatsu/coding/CapProj/TestSeg_1/video_input/fight_5.mp4: 384x640 1 Fighter, 20.3ms\n",
      "video 1/1 (frame 3526/3810) /home/hatsu/coding/CapProj/TestSeg_1/video_input/fight_5.mp4: 384x640 1 Fighter, 14.0ms\n",
      "video 1/1 (frame 3527/3810) /home/hatsu/coding/CapProj/TestSeg_1/video_input/fight_5.mp4: 384x640 1 Fighter, 14.3ms\n",
      "video 1/1 (frame 3528/3810) /home/hatsu/coding/CapProj/TestSeg_1/video_input/fight_5.mp4: 384x640 1 Fighter, 19.1ms\n",
      "video 1/1 (frame 3529/3810) /home/hatsu/coding/CapProj/TestSeg_1/video_input/fight_5.mp4: 384x640 1 Fighter, 18.2ms\n",
      "video 1/1 (frame 3530/3810) /home/hatsu/coding/CapProj/TestSeg_1/video_input/fight_5.mp4: 384x640 1 Fighter, 22.5ms\n",
      "video 1/1 (frame 3531/3810) /home/hatsu/coding/CapProj/TestSeg_1/video_input/fight_5.mp4: 384x640 1 Fighter, 13.9ms\n",
      "video 1/1 (frame 3532/3810) /home/hatsu/coding/CapProj/TestSeg_1/video_input/fight_5.mp4: 384x640 1 Fighter, 14.8ms\n",
      "video 1/1 (frame 3533/3810) /home/hatsu/coding/CapProj/TestSeg_1/video_input/fight_5.mp4: 384x640 1 Fighter, 14.2ms\n",
      "video 1/1 (frame 3534/3810) /home/hatsu/coding/CapProj/TestSeg_1/video_input/fight_5.mp4: 384x640 1 Fighter, 14.2ms\n",
      "video 1/1 (frame 3535/3810) /home/hatsu/coding/CapProj/TestSeg_1/video_input/fight_5.mp4: 384x640 1 Fighter, 14.6ms\n",
      "video 1/1 (frame 3536/3810) /home/hatsu/coding/CapProj/TestSeg_1/video_input/fight_5.mp4: 384x640 1 Fighter, 19.6ms\n",
      "video 1/1 (frame 3537/3810) /home/hatsu/coding/CapProj/TestSeg_1/video_input/fight_5.mp4: 384x640 1 Fighter, 13.1ms\n",
      "video 1/1 (frame 3538/3810) /home/hatsu/coding/CapProj/TestSeg_1/video_input/fight_5.mp4: 384x640 1 Fighter, 17.6ms\n",
      "video 1/1 (frame 3539/3810) /home/hatsu/coding/CapProj/TestSeg_1/video_input/fight_5.mp4: 384x640 1 Fighter, 15.4ms\n",
      "video 1/1 (frame 3540/3810) /home/hatsu/coding/CapProj/TestSeg_1/video_input/fight_5.mp4: 384x640 1 Fighter, 14.2ms\n",
      "video 1/1 (frame 3541/3810) /home/hatsu/coding/CapProj/TestSeg_1/video_input/fight_5.mp4: 384x640 1 Fighter, 21.7ms\n",
      "video 1/1 (frame 3542/3810) /home/hatsu/coding/CapProj/TestSeg_1/video_input/fight_5.mp4: 384x640 1 Fighter, 18.1ms\n",
      "video 1/1 (frame 3543/3810) /home/hatsu/coding/CapProj/TestSeg_1/video_input/fight_5.mp4: 384x640 1 Fighter, 14.7ms\n",
      "video 1/1 (frame 3544/3810) /home/hatsu/coding/CapProj/TestSeg_1/video_input/fight_5.mp4: 384x640 1 Fighter, 14.4ms\n",
      "video 1/1 (frame 3545/3810) /home/hatsu/coding/CapProj/TestSeg_1/video_input/fight_5.mp4: 384x640 1 Fighter, 15.0ms\n",
      "video 1/1 (frame 3546/3810) /home/hatsu/coding/CapProj/TestSeg_1/video_input/fight_5.mp4: 384x640 1 Fighter, 13.8ms\n",
      "video 1/1 (frame 3547/3810) /home/hatsu/coding/CapProj/TestSeg_1/video_input/fight_5.mp4: 384x640 1 Fighter, 14.8ms\n",
      "video 1/1 (frame 3548/3810) /home/hatsu/coding/CapProj/TestSeg_1/video_input/fight_5.mp4: 384x640 1 Fighter, 17.6ms\n",
      "video 1/1 (frame 3549/3810) /home/hatsu/coding/CapProj/TestSeg_1/video_input/fight_5.mp4: 384x640 1 Fighter, 21.0ms\n",
      "video 1/1 (frame 3550/3810) /home/hatsu/coding/CapProj/TestSeg_1/video_input/fight_5.mp4: 384x640 1 Fighter, 15.0ms\n",
      "video 1/1 (frame 3551/3810) /home/hatsu/coding/CapProj/TestSeg_1/video_input/fight_5.mp4: 384x640 1 Fighter, 28.2ms\n",
      "video 1/1 (frame 3552/3810) /home/hatsu/coding/CapProj/TestSeg_1/video_input/fight_5.mp4: 384x640 1 Fighter, 21.9ms\n",
      "video 1/1 (frame 3553/3810) /home/hatsu/coding/CapProj/TestSeg_1/video_input/fight_5.mp4: 384x640 1 Fighter, 15.3ms\n",
      "video 1/1 (frame 3554/3810) /home/hatsu/coding/CapProj/TestSeg_1/video_input/fight_5.mp4: 384x640 1 Fighter, 21.4ms\n",
      "video 1/1 (frame 3555/3810) /home/hatsu/coding/CapProj/TestSeg_1/video_input/fight_5.mp4: 384x640 1 Fighter, 15.4ms\n",
      "video 1/1 (frame 3556/3810) /home/hatsu/coding/CapProj/TestSeg_1/video_input/fight_5.mp4: 384x640 1 Fighter, 13.3ms\n",
      "video 1/1 (frame 3557/3810) /home/hatsu/coding/CapProj/TestSeg_1/video_input/fight_5.mp4: 384x640 1 Fighter, 18.8ms\n",
      "video 1/1 (frame 3558/3810) /home/hatsu/coding/CapProj/TestSeg_1/video_input/fight_5.mp4: 384x640 1 Fighter, 20.4ms\n",
      "video 1/1 (frame 3559/3810) /home/hatsu/coding/CapProj/TestSeg_1/video_input/fight_5.mp4: 384x640 1 Fighter, 20.1ms\n",
      "video 1/1 (frame 3560/3810) /home/hatsu/coding/CapProj/TestSeg_1/video_input/fight_5.mp4: 384x640 1 Fighter, 20.8ms\n",
      "video 1/1 (frame 3561/3810) /home/hatsu/coding/CapProj/TestSeg_1/video_input/fight_5.mp4: 384x640 1 Fighter, 12.6ms\n",
      "video 1/1 (frame 3562/3810) /home/hatsu/coding/CapProj/TestSeg_1/video_input/fight_5.mp4: 384x640 1 Fighter, 15.6ms\n",
      "video 1/1 (frame 3563/3810) /home/hatsu/coding/CapProj/TestSeg_1/video_input/fight_5.mp4: 384x640 1 Fighter, 15.3ms\n",
      "video 1/1 (frame 3564/3810) /home/hatsu/coding/CapProj/TestSeg_1/video_input/fight_5.mp4: 384x640 1 Fighter, 26.6ms\n",
      "video 1/1 (frame 3565/3810) /home/hatsu/coding/CapProj/TestSeg_1/video_input/fight_5.mp4: 384x640 1 Fighter, 35.9ms\n",
      "video 1/1 (frame 3566/3810) /home/hatsu/coding/CapProj/TestSeg_1/video_input/fight_5.mp4: 384x640 1 Fighter, 15.8ms\n",
      "video 1/1 (frame 3567/3810) /home/hatsu/coding/CapProj/TestSeg_1/video_input/fight_5.mp4: 384x640 1 Fighter, 18.3ms\n",
      "video 1/1 (frame 3568/3810) /home/hatsu/coding/CapProj/TestSeg_1/video_input/fight_5.mp4: 384x640 1 Fighter, 16.1ms\n",
      "video 1/1 (frame 3569/3810) /home/hatsu/coding/CapProj/TestSeg_1/video_input/fight_5.mp4: 384x640 1 Fighter, 47.0ms\n",
      "video 1/1 (frame 3570/3810) /home/hatsu/coding/CapProj/TestSeg_1/video_input/fight_5.mp4: 384x640 1 Fighter, 16.1ms\n",
      "video 1/1 (frame 3571/3810) /home/hatsu/coding/CapProj/TestSeg_1/video_input/fight_5.mp4: 384x640 1 Fighter, 12.3ms\n",
      "video 1/1 (frame 3572/3810) /home/hatsu/coding/CapProj/TestSeg_1/video_input/fight_5.mp4: 384x640 1 Fighter, 13.2ms\n",
      "video 1/1 (frame 3573/3810) /home/hatsu/coding/CapProj/TestSeg_1/video_input/fight_5.mp4: 384x640 1 Fighter, 16.3ms\n",
      "video 1/1 (frame 3574/3810) /home/hatsu/coding/CapProj/TestSeg_1/video_input/fight_5.mp4: 384x640 1 Fighter, 19.3ms\n",
      "video 1/1 (frame 3575/3810) /home/hatsu/coding/CapProj/TestSeg_1/video_input/fight_5.mp4: 384x640 1 Fighter, 16.3ms\n",
      "video 1/1 (frame 3576/3810) /home/hatsu/coding/CapProj/TestSeg_1/video_input/fight_5.mp4: 384x640 1 Fighter, 13.3ms\n",
      "video 1/1 (frame 3577/3810) /home/hatsu/coding/CapProj/TestSeg_1/video_input/fight_5.mp4: 384x640 1 Fighter, 34.3ms\n",
      "video 1/1 (frame 3578/3810) /home/hatsu/coding/CapProj/TestSeg_1/video_input/fight_5.mp4: 384x640 1 Fighter, 15.4ms\n",
      "video 1/1 (frame 3579/3810) /home/hatsu/coding/CapProj/TestSeg_1/video_input/fight_5.mp4: 384x640 (no detections), 20.4ms\n",
      "video 1/1 (frame 3580/3810) /home/hatsu/coding/CapProj/TestSeg_1/video_input/fight_5.mp4: 384x640 (no detections), 14.5ms\n",
      "video 1/1 (frame 3581/3810) /home/hatsu/coding/CapProj/TestSeg_1/video_input/fight_5.mp4: 384x640 4 Fighters, 15.4ms\n",
      "video 1/1 (frame 3582/3810) /home/hatsu/coding/CapProj/TestSeg_1/video_input/fight_5.mp4: 384x640 1 Fighter, 13.3ms\n",
      "video 1/1 (frame 3583/3810) /home/hatsu/coding/CapProj/TestSeg_1/video_input/fight_5.mp4: 384x640 1 Fighter, 14.8ms\n",
      "video 1/1 (frame 3584/3810) /home/hatsu/coding/CapProj/TestSeg_1/video_input/fight_5.mp4: 384x640 1 Fighter, 15.8ms\n",
      "video 1/1 (frame 3585/3810) /home/hatsu/coding/CapProj/TestSeg_1/video_input/fight_5.mp4: 384x640 2 Fighters, 20.5ms\n",
      "video 1/1 (frame 3586/3810) /home/hatsu/coding/CapProj/TestSeg_1/video_input/fight_5.mp4: 384x640 2 Fighters, 21.8ms\n",
      "video 1/1 (frame 3587/3810) /home/hatsu/coding/CapProj/TestSeg_1/video_input/fight_5.mp4: 384x640 2 Fighters, 14.6ms\n",
      "video 1/1 (frame 3588/3810) /home/hatsu/coding/CapProj/TestSeg_1/video_input/fight_5.mp4: 384x640 2 Fighters, 14.2ms\n",
      "video 1/1 (frame 3589/3810) /home/hatsu/coding/CapProj/TestSeg_1/video_input/fight_5.mp4: 384x640 3 Fighters, 14.7ms\n",
      "video 1/1 (frame 3590/3810) /home/hatsu/coding/CapProj/TestSeg_1/video_input/fight_5.mp4: 384x640 3 Fighters, 20.8ms\n",
      "video 1/1 (frame 3591/3810) /home/hatsu/coding/CapProj/TestSeg_1/video_input/fight_5.mp4: 384x640 4 Fighters, 15.1ms\n",
      "video 1/1 (frame 3592/3810) /home/hatsu/coding/CapProj/TestSeg_1/video_input/fight_5.mp4: 384x640 4 Fighters, 12.4ms\n",
      "video 1/1 (frame 3593/3810) /home/hatsu/coding/CapProj/TestSeg_1/video_input/fight_5.mp4: 384x640 4 Fighters, 14.2ms\n",
      "video 1/1 (frame 3594/3810) /home/hatsu/coding/CapProj/TestSeg_1/video_input/fight_5.mp4: 384x640 3 Fighters, 15.2ms\n",
      "video 1/1 (frame 3595/3810) /home/hatsu/coding/CapProj/TestSeg_1/video_input/fight_5.mp4: 384x640 2 Fighters, 12.8ms\n",
      "video 1/1 (frame 3596/3810) /home/hatsu/coding/CapProj/TestSeg_1/video_input/fight_5.mp4: 384x640 3 Fighters, 18.1ms\n",
      "video 1/1 (frame 3597/3810) /home/hatsu/coding/CapProj/TestSeg_1/video_input/fight_5.mp4: 384x640 1 Fighter, 15.1ms\n",
      "video 1/1 (frame 3598/3810) /home/hatsu/coding/CapProj/TestSeg_1/video_input/fight_5.mp4: 384x640 2 Fighters, 14.4ms\n",
      "video 1/1 (frame 3599/3810) /home/hatsu/coding/CapProj/TestSeg_1/video_input/fight_5.mp4: 384x640 2 Fighters, 26.7ms\n",
      "video 1/1 (frame 3600/3810) /home/hatsu/coding/CapProj/TestSeg_1/video_input/fight_5.mp4: 384x640 2 Fighters, 12.9ms\n",
      "video 1/1 (frame 3601/3810) /home/hatsu/coding/CapProj/TestSeg_1/video_input/fight_5.mp4: 384x640 3 Fighters, 15.3ms\n",
      "video 1/1 (frame 3602/3810) /home/hatsu/coding/CapProj/TestSeg_1/video_input/fight_5.mp4: 384x640 3 Fighters, 31.4ms\n",
      "video 1/1 (frame 3603/3810) /home/hatsu/coding/CapProj/TestSeg_1/video_input/fight_5.mp4: 384x640 3 Fighters, 14.5ms\n",
      "video 1/1 (frame 3604/3810) /home/hatsu/coding/CapProj/TestSeg_1/video_input/fight_5.mp4: 384x640 3 Fighters, 14.6ms\n",
      "video 1/1 (frame 3605/3810) /home/hatsu/coding/CapProj/TestSeg_1/video_input/fight_5.mp4: 384x640 3 Fighters, 14.1ms\n",
      "video 1/1 (frame 3606/3810) /home/hatsu/coding/CapProj/TestSeg_1/video_input/fight_5.mp4: 384x640 3 Fighters, 19.7ms\n",
      "video 1/1 (frame 3607/3810) /home/hatsu/coding/CapProj/TestSeg_1/video_input/fight_5.mp4: 384x640 3 Fighters, 14.3ms\n",
      "video 1/1 (frame 3608/3810) /home/hatsu/coding/CapProj/TestSeg_1/video_input/fight_5.mp4: 384x640 3 Fighters, 13.5ms\n",
      "video 1/1 (frame 3609/3810) /home/hatsu/coding/CapProj/TestSeg_1/video_input/fight_5.mp4: 384x640 3 Fighters, 16.9ms\n",
      "video 1/1 (frame 3610/3810) /home/hatsu/coding/CapProj/TestSeg_1/video_input/fight_5.mp4: 384x640 4 Fighters, 14.9ms\n",
      "video 1/1 (frame 3611/3810) /home/hatsu/coding/CapProj/TestSeg_1/video_input/fight_5.mp4: 384x640 4 Fighters, 21.5ms\n",
      "video 1/1 (frame 3612/3810) /home/hatsu/coding/CapProj/TestSeg_1/video_input/fight_5.mp4: 384x640 3 Fighters, 14.9ms\n",
      "video 1/1 (frame 3613/3810) /home/hatsu/coding/CapProj/TestSeg_1/video_input/fight_5.mp4: 384x640 3 Fighters, 31.0ms\n",
      "video 1/1 (frame 3614/3810) /home/hatsu/coding/CapProj/TestSeg_1/video_input/fight_5.mp4: 384x640 1 Fighter, 16.7ms\n",
      "video 1/1 (frame 3615/3810) /home/hatsu/coding/CapProj/TestSeg_1/video_input/fight_5.mp4: 384x640 2 Fighters, 23.6ms\n",
      "video 1/1 (frame 3616/3810) /home/hatsu/coding/CapProj/TestSeg_1/video_input/fight_5.mp4: 384x640 3 Fighters, 17.1ms\n",
      "video 1/1 (frame 3617/3810) /home/hatsu/coding/CapProj/TestSeg_1/video_input/fight_5.mp4: 384x640 3 Fighters, 20.3ms\n",
      "video 1/1 (frame 3618/3810) /home/hatsu/coding/CapProj/TestSeg_1/video_input/fight_5.mp4: 384x640 2 Fighters, 15.7ms\n",
      "video 1/1 (frame 3619/3810) /home/hatsu/coding/CapProj/TestSeg_1/video_input/fight_5.mp4: 384x640 2 Fighters, 13.9ms\n",
      "video 1/1 (frame 3620/3810) /home/hatsu/coding/CapProj/TestSeg_1/video_input/fight_5.mp4: 384x640 2 Fighters, 14.3ms\n",
      "video 1/1 (frame 3621/3810) /home/hatsu/coding/CapProj/TestSeg_1/video_input/fight_5.mp4: 384x640 1 Fighter, 15.3ms\n",
      "video 1/1 (frame 3622/3810) /home/hatsu/coding/CapProj/TestSeg_1/video_input/fight_5.mp4: 384x640 1 Fighter, 31.5ms\n",
      "video 1/1 (frame 3623/3810) /home/hatsu/coding/CapProj/TestSeg_1/video_input/fight_5.mp4: 384x640 1 Fighter, 15.2ms\n",
      "video 1/1 (frame 3624/3810) /home/hatsu/coding/CapProj/TestSeg_1/video_input/fight_5.mp4: 384x640 2 Fighters, 45.1ms\n",
      "video 1/1 (frame 3625/3810) /home/hatsu/coding/CapProj/TestSeg_1/video_input/fight_5.mp4: 384x640 1 Fighter, 15.0ms\n",
      "video 1/1 (frame 3626/3810) /home/hatsu/coding/CapProj/TestSeg_1/video_input/fight_5.mp4: 384x640 1 Fighter, 22.8ms\n",
      "video 1/1 (frame 3627/3810) /home/hatsu/coding/CapProj/TestSeg_1/video_input/fight_5.mp4: 384x640 1 Fighter, 19.6ms\n",
      "video 1/1 (frame 3628/3810) /home/hatsu/coding/CapProj/TestSeg_1/video_input/fight_5.mp4: 384x640 2 Fighters, 15.6ms\n",
      "video 1/1 (frame 3629/3810) /home/hatsu/coding/CapProj/TestSeg_1/video_input/fight_5.mp4: 384x640 (no detections), 14.7ms\n",
      "video 1/1 (frame 3630/3810) /home/hatsu/coding/CapProj/TestSeg_1/video_input/fight_5.mp4: 384x640 2 Fighters, 17.3ms\n",
      "video 1/1 (frame 3631/3810) /home/hatsu/coding/CapProj/TestSeg_1/video_input/fight_5.mp4: 384x640 1 Fighter, 14.8ms\n",
      "video 1/1 (frame 3632/3810) /home/hatsu/coding/CapProj/TestSeg_1/video_input/fight_5.mp4: 384x640 1 Fighter, 21.8ms\n",
      "video 1/1 (frame 3633/3810) /home/hatsu/coding/CapProj/TestSeg_1/video_input/fight_5.mp4: 384x640 1 Fighter, 14.6ms\n",
      "video 1/1 (frame 3634/3810) /home/hatsu/coding/CapProj/TestSeg_1/video_input/fight_5.mp4: 384x640 1 Fighter, 15.5ms\n",
      "video 1/1 (frame 3635/3810) /home/hatsu/coding/CapProj/TestSeg_1/video_input/fight_5.mp4: 384x640 1 Fighter, 15.3ms\n",
      "video 1/1 (frame 3636/3810) /home/hatsu/coding/CapProj/TestSeg_1/video_input/fight_5.mp4: 384x640 1 Fighter, 16.3ms\n",
      "video 1/1 (frame 3637/3810) /home/hatsu/coding/CapProj/TestSeg_1/video_input/fight_5.mp4: 384x640 1 Fighter, 15.7ms\n",
      "video 1/1 (frame 3638/3810) /home/hatsu/coding/CapProj/TestSeg_1/video_input/fight_5.mp4: 384x640 1 Fighter, 17.5ms\n",
      "video 1/1 (frame 3639/3810) /home/hatsu/coding/CapProj/TestSeg_1/video_input/fight_5.mp4: 384x640 1 Fighter, 17.7ms\n",
      "video 1/1 (frame 3640/3810) /home/hatsu/coding/CapProj/TestSeg_1/video_input/fight_5.mp4: 384x640 1 Fighter, 44.3ms\n",
      "video 1/1 (frame 3641/3810) /home/hatsu/coding/CapProj/TestSeg_1/video_input/fight_5.mp4: 384x640 1 Fighter, 43.4ms\n",
      "video 1/1 (frame 3642/3810) /home/hatsu/coding/CapProj/TestSeg_1/video_input/fight_5.mp4: 384x640 1 Fighter, 22.8ms\n",
      "video 1/1 (frame 3643/3810) /home/hatsu/coding/CapProj/TestSeg_1/video_input/fight_5.mp4: 384x640 2 Fighters, 15.5ms\n",
      "video 1/1 (frame 3644/3810) /home/hatsu/coding/CapProj/TestSeg_1/video_input/fight_5.mp4: 384x640 2 Fighters, 19.7ms\n",
      "video 1/1 (frame 3645/3810) /home/hatsu/coding/CapProj/TestSeg_1/video_input/fight_5.mp4: 384x640 2 Fighters, 13.6ms\n",
      "video 1/1 (frame 3646/3810) /home/hatsu/coding/CapProj/TestSeg_1/video_input/fight_5.mp4: 384x640 2 Fighters, 15.1ms\n",
      "video 1/1 (frame 3647/3810) /home/hatsu/coding/CapProj/TestSeg_1/video_input/fight_5.mp4: 384x640 2 Fighters, 22.2ms\n",
      "video 1/1 (frame 3648/3810) /home/hatsu/coding/CapProj/TestSeg_1/video_input/fight_5.mp4: 384x640 2 Fighters, 21.8ms\n",
      "video 1/1 (frame 3649/3810) /home/hatsu/coding/CapProj/TestSeg_1/video_input/fight_5.mp4: 384x640 2 Fighters, 47.8ms\n",
      "video 1/1 (frame 3650/3810) /home/hatsu/coding/CapProj/TestSeg_1/video_input/fight_5.mp4: 384x640 3 Fighters, 20.8ms\n",
      "video 1/1 (frame 3651/3810) /home/hatsu/coding/CapProj/TestSeg_1/video_input/fight_5.mp4: 384x640 2 Fighters, 19.8ms\n",
      "video 1/1 (frame 3652/3810) /home/hatsu/coding/CapProj/TestSeg_1/video_input/fight_5.mp4: 384x640 3 Fighters, 26.0ms\n",
      "video 1/1 (frame 3653/3810) /home/hatsu/coding/CapProj/TestSeg_1/video_input/fight_5.mp4: 384x640 3 Fighters, 18.6ms\n",
      "video 1/1 (frame 3654/3810) /home/hatsu/coding/CapProj/TestSeg_1/video_input/fight_5.mp4: 384x640 2 Fighters, 19.8ms\n",
      "video 1/1 (frame 3655/3810) /home/hatsu/coding/CapProj/TestSeg_1/video_input/fight_5.mp4: 384x640 4 Fighters, 19.8ms\n",
      "video 1/1 (frame 3656/3810) /home/hatsu/coding/CapProj/TestSeg_1/video_input/fight_5.mp4: 384x640 3 Fighters, 17.4ms\n",
      "video 1/1 (frame 3657/3810) /home/hatsu/coding/CapProj/TestSeg_1/video_input/fight_5.mp4: 384x640 3 Fighters, 15.9ms\n",
      "video 1/1 (frame 3658/3810) /home/hatsu/coding/CapProj/TestSeg_1/video_input/fight_5.mp4: 384x640 3 Fighters, 17.0ms\n",
      "video 1/1 (frame 3659/3810) /home/hatsu/coding/CapProj/TestSeg_1/video_input/fight_5.mp4: 384x640 3 Fighters, 22.5ms\n",
      "video 1/1 (frame 3660/3810) /home/hatsu/coding/CapProj/TestSeg_1/video_input/fight_5.mp4: 384x640 3 Fighters, 15.5ms\n",
      "video 1/1 (frame 3661/3810) /home/hatsu/coding/CapProj/TestSeg_1/video_input/fight_5.mp4: 384x640 3 Fighters, 16.3ms\n",
      "video 1/1 (frame 3662/3810) /home/hatsu/coding/CapProj/TestSeg_1/video_input/fight_5.mp4: 384x640 2 Fighters, 38.4ms\n",
      "video 1/1 (frame 3663/3810) /home/hatsu/coding/CapProj/TestSeg_1/video_input/fight_5.mp4: 384x640 2 Fighters, 15.5ms\n",
      "video 1/1 (frame 3664/3810) /home/hatsu/coding/CapProj/TestSeg_1/video_input/fight_5.mp4: 384x640 2 Fighters, 42.8ms\n",
      "video 1/1 (frame 3665/3810) /home/hatsu/coding/CapProj/TestSeg_1/video_input/fight_5.mp4: 384x640 2 Fighters, 20.5ms\n",
      "video 1/1 (frame 3666/3810) /home/hatsu/coding/CapProj/TestSeg_1/video_input/fight_5.mp4: 384x640 2 Fighters, 14.2ms\n",
      "video 1/1 (frame 3667/3810) /home/hatsu/coding/CapProj/TestSeg_1/video_input/fight_5.mp4: 384x640 2 Fighters, 14.2ms\n",
      "video 1/1 (frame 3668/3810) /home/hatsu/coding/CapProj/TestSeg_1/video_input/fight_5.mp4: 384x640 2 Fighters, 14.1ms\n",
      "video 1/1 (frame 3669/3810) /home/hatsu/coding/CapProj/TestSeg_1/video_input/fight_5.mp4: 384x640 1 Fighter, 21.5ms\n",
      "video 1/1 (frame 3670/3810) /home/hatsu/coding/CapProj/TestSeg_1/video_input/fight_5.mp4: 384x640 1 Fighter, 13.9ms\n",
      "video 1/1 (frame 3671/3810) /home/hatsu/coding/CapProj/TestSeg_1/video_input/fight_5.mp4: 384x640 1 Fighter, 16.2ms\n",
      "video 1/1 (frame 3672/3810) /home/hatsu/coding/CapProj/TestSeg_1/video_input/fight_5.mp4: 384x640 1 Fighter, 14.1ms\n",
      "video 1/1 (frame 3673/3810) /home/hatsu/coding/CapProj/TestSeg_1/video_input/fight_5.mp4: 384x640 1 Fighter, 12.9ms\n",
      "video 1/1 (frame 3674/3810) /home/hatsu/coding/CapProj/TestSeg_1/video_input/fight_5.mp4: 384x640 2 Fighters, 23.1ms\n",
      "video 1/1 (frame 3675/3810) /home/hatsu/coding/CapProj/TestSeg_1/video_input/fight_5.mp4: 384x640 (no detections), 22.1ms\n",
      "video 1/1 (frame 3676/3810) /home/hatsu/coding/CapProj/TestSeg_1/video_input/fight_5.mp4: 384x640 (no detections), 32.2ms\n",
      "video 1/1 (frame 3677/3810) /home/hatsu/coding/CapProj/TestSeg_1/video_input/fight_5.mp4: 384x640 1 Fighter, 15.0ms\n",
      "video 1/1 (frame 3678/3810) /home/hatsu/coding/CapProj/TestSeg_1/video_input/fight_5.mp4: 384x640 1 Fighter, 15.2ms\n",
      "video 1/1 (frame 3679/3810) /home/hatsu/coding/CapProj/TestSeg_1/video_input/fight_5.mp4: 384x640 1 Fighter, 18.5ms\n",
      "video 1/1 (frame 3680/3810) /home/hatsu/coding/CapProj/TestSeg_1/video_input/fight_5.mp4: 384x640 1 Fighter, 32.0ms\n",
      "video 1/1 (frame 3681/3810) /home/hatsu/coding/CapProj/TestSeg_1/video_input/fight_5.mp4: 384x640 1 Fighter, 17.7ms\n",
      "video 1/1 (frame 3682/3810) /home/hatsu/coding/CapProj/TestSeg_1/video_input/fight_5.mp4: 384x640 1 Fighter, 12.8ms\n",
      "video 1/1 (frame 3683/3810) /home/hatsu/coding/CapProj/TestSeg_1/video_input/fight_5.mp4: 384x640 1 Fighter, 16.0ms\n",
      "video 1/1 (frame 3684/3810) /home/hatsu/coding/CapProj/TestSeg_1/video_input/fight_5.mp4: 384x640 1 Fighter, 15.4ms\n",
      "video 1/1 (frame 3685/3810) /home/hatsu/coding/CapProj/TestSeg_1/video_input/fight_5.mp4: 384x640 1 Fighter, 12.9ms\n",
      "video 1/1 (frame 3686/3810) /home/hatsu/coding/CapProj/TestSeg_1/video_input/fight_5.mp4: 384x640 1 Fighter, 19.5ms\n",
      "video 1/1 (frame 3687/3810) /home/hatsu/coding/CapProj/TestSeg_1/video_input/fight_5.mp4: 384x640 1 Fighter, 15.1ms\n",
      "video 1/1 (frame 3688/3810) /home/hatsu/coding/CapProj/TestSeg_1/video_input/fight_5.mp4: 384x640 1 Fighter, 13.6ms\n",
      "video 1/1 (frame 3689/3810) /home/hatsu/coding/CapProj/TestSeg_1/video_input/fight_5.mp4: 384x640 1 Fighter, 13.4ms\n",
      "video 1/1 (frame 3690/3810) /home/hatsu/coding/CapProj/TestSeg_1/video_input/fight_5.mp4: 384x640 1 Fighter, 30.8ms\n",
      "video 1/1 (frame 3691/3810) /home/hatsu/coding/CapProj/TestSeg_1/video_input/fight_5.mp4: 384x640 1 Fighter, 19.5ms\n",
      "video 1/1 (frame 3692/3810) /home/hatsu/coding/CapProj/TestSeg_1/video_input/fight_5.mp4: 384x640 1 Fighter, 13.7ms\n",
      "video 1/1 (frame 3693/3810) /home/hatsu/coding/CapProj/TestSeg_1/video_input/fight_5.mp4: 384x640 1 Fighter, 14.5ms\n",
      "video 1/1 (frame 3694/3810) /home/hatsu/coding/CapProj/TestSeg_1/video_input/fight_5.mp4: 384x640 1 Fighter, 16.4ms\n",
      "video 1/1 (frame 3695/3810) /home/hatsu/coding/CapProj/TestSeg_1/video_input/fight_5.mp4: 384x640 1 Fighter, 20.8ms\n",
      "video 1/1 (frame 3696/3810) /home/hatsu/coding/CapProj/TestSeg_1/video_input/fight_5.mp4: 384x640 1 Fighter, 14.5ms\n",
      "video 1/1 (frame 3697/3810) /home/hatsu/coding/CapProj/TestSeg_1/video_input/fight_5.mp4: 384x640 1 Fighter, 15.2ms\n",
      "video 1/1 (frame 3698/3810) /home/hatsu/coding/CapProj/TestSeg_1/video_input/fight_5.mp4: 384x640 1 Fighter, 15.8ms\n",
      "video 1/1 (frame 3699/3810) /home/hatsu/coding/CapProj/TestSeg_1/video_input/fight_5.mp4: 384x640 1 Fighter, 16.0ms\n",
      "video 1/1 (frame 3700/3810) /home/hatsu/coding/CapProj/TestSeg_1/video_input/fight_5.mp4: 384x640 1 Fighter, 36.0ms\n",
      "video 1/1 (frame 3701/3810) /home/hatsu/coding/CapProj/TestSeg_1/video_input/fight_5.mp4: 384x640 1 Fighter, 15.9ms\n",
      "video 1/1 (frame 3702/3810) /home/hatsu/coding/CapProj/TestSeg_1/video_input/fight_5.mp4: 384x640 1 Fighter, 14.2ms\n",
      "video 1/1 (frame 3703/3810) /home/hatsu/coding/CapProj/TestSeg_1/video_input/fight_5.mp4: 384x640 1 Fighter, 16.3ms\n",
      "video 1/1 (frame 3704/3810) /home/hatsu/coding/CapProj/TestSeg_1/video_input/fight_5.mp4: 384x640 1 Fighter, 14.2ms\n",
      "video 1/1 (frame 3705/3810) /home/hatsu/coding/CapProj/TestSeg_1/video_input/fight_5.mp4: 384x640 1 Fighter, 17.7ms\n",
      "video 1/1 (frame 3706/3810) /home/hatsu/coding/CapProj/TestSeg_1/video_input/fight_5.mp4: 384x640 2 Fighters, 15.5ms\n",
      "video 1/1 (frame 3707/3810) /home/hatsu/coding/CapProj/TestSeg_1/video_input/fight_5.mp4: 384x640 2 Fighters, 13.7ms\n",
      "video 1/1 (frame 3708/3810) /home/hatsu/coding/CapProj/TestSeg_1/video_input/fight_5.mp4: 384x640 3 Fighters, 27.4ms\n",
      "video 1/1 (frame 3709/3810) /home/hatsu/coding/CapProj/TestSeg_1/video_input/fight_5.mp4: 384x640 2 Fighters, 14.3ms\n",
      "video 1/1 (frame 3710/3810) /home/hatsu/coding/CapProj/TestSeg_1/video_input/fight_5.mp4: 384x640 2 Fighters, 21.1ms\n",
      "video 1/1 (frame 3711/3810) /home/hatsu/coding/CapProj/TestSeg_1/video_input/fight_5.mp4: 384x640 2 Fighters, 14.8ms\n",
      "video 1/1 (frame 3712/3810) /home/hatsu/coding/CapProj/TestSeg_1/video_input/fight_5.mp4: 384x640 2 Fighters, 15.4ms\n",
      "video 1/1 (frame 3713/3810) /home/hatsu/coding/CapProj/TestSeg_1/video_input/fight_5.mp4: 384x640 2 Fighters, 14.0ms\n",
      "video 1/1 (frame 3714/3810) /home/hatsu/coding/CapProj/TestSeg_1/video_input/fight_5.mp4: 384x640 2 Fighters, 16.9ms\n",
      "video 1/1 (frame 3715/3810) /home/hatsu/coding/CapProj/TestSeg_1/video_input/fight_5.mp4: 384x640 2 Fighters, 12.9ms\n",
      "video 1/1 (frame 3716/3810) /home/hatsu/coding/CapProj/TestSeg_1/video_input/fight_5.mp4: 384x640 3 Fighters, 14.3ms\n",
      "video 1/1 (frame 3717/3810) /home/hatsu/coding/CapProj/TestSeg_1/video_input/fight_5.mp4: 384x640 3 Fighters, 14.1ms\n",
      "video 1/1 (frame 3718/3810) /home/hatsu/coding/CapProj/TestSeg_1/video_input/fight_5.mp4: 384x640 3 Fighters, 16.6ms\n",
      "video 1/1 (frame 3719/3810) /home/hatsu/coding/CapProj/TestSeg_1/video_input/fight_5.mp4: 384x640 3 Fighters, 15.4ms\n",
      "video 1/1 (frame 3720/3810) /home/hatsu/coding/CapProj/TestSeg_1/video_input/fight_5.mp4: 384x640 3 Fighters, 16.0ms\n",
      "video 1/1 (frame 3721/3810) /home/hatsu/coding/CapProj/TestSeg_1/video_input/fight_5.mp4: 384x640 3 Fighters, 13.7ms\n",
      "video 1/1 (frame 3722/3810) /home/hatsu/coding/CapProj/TestSeg_1/video_input/fight_5.mp4: 384x640 3 Fighters, 14.6ms\n",
      "video 1/1 (frame 3723/3810) /home/hatsu/coding/CapProj/TestSeg_1/video_input/fight_5.mp4: 384x640 2 Fighters, 14.7ms\n",
      "video 1/1 (frame 3724/3810) /home/hatsu/coding/CapProj/TestSeg_1/video_input/fight_5.mp4: 384x640 4 Fighters, 19.5ms\n",
      "video 1/1 (frame 3725/3810) /home/hatsu/coding/CapProj/TestSeg_1/video_input/fight_5.mp4: 384x640 5 Fighters, 16.9ms\n",
      "video 1/1 (frame 3726/3810) /home/hatsu/coding/CapProj/TestSeg_1/video_input/fight_5.mp4: 384x640 5 Fighters, 13.9ms\n",
      "video 1/1 (frame 3727/3810) /home/hatsu/coding/CapProj/TestSeg_1/video_input/fight_5.mp4: 384x640 5 Fighters, 14.3ms\n",
      "video 1/1 (frame 3728/3810) /home/hatsu/coding/CapProj/TestSeg_1/video_input/fight_5.mp4: 384x640 5 Fighters, 14.9ms\n",
      "video 1/1 (frame 3729/3810) /home/hatsu/coding/CapProj/TestSeg_1/video_input/fight_5.mp4: 384x640 5 Fighters, 19.2ms\n",
      "video 1/1 (frame 3730/3810) /home/hatsu/coding/CapProj/TestSeg_1/video_input/fight_5.mp4: 384x640 5 Fighters, 13.7ms\n",
      "video 1/1 (frame 3731/3810) /home/hatsu/coding/CapProj/TestSeg_1/video_input/fight_5.mp4: 384x640 5 Fighters, 14.8ms\n",
      "video 1/1 (frame 3732/3810) /home/hatsu/coding/CapProj/TestSeg_1/video_input/fight_5.mp4: 384x640 5 Fighters, 15.1ms\n",
      "video 1/1 (frame 3733/3810) /home/hatsu/coding/CapProj/TestSeg_1/video_input/fight_5.mp4: 384x640 5 Fighters, 14.4ms\n",
      "video 1/1 (frame 3734/3810) /home/hatsu/coding/CapProj/TestSeg_1/video_input/fight_5.mp4: 384x640 5 Fighters, 21.8ms\n",
      "video 1/1 (frame 3735/3810) /home/hatsu/coding/CapProj/TestSeg_1/video_input/fight_5.mp4: 384x640 6 Fighters, 15.1ms\n",
      "video 1/1 (frame 3736/3810) /home/hatsu/coding/CapProj/TestSeg_1/video_input/fight_5.mp4: 384x640 6 Fighters, 14.2ms\n",
      "video 1/1 (frame 3737/3810) /home/hatsu/coding/CapProj/TestSeg_1/video_input/fight_5.mp4: 384x640 7 Fighters, 15.7ms\n",
      "video 1/1 (frame 3738/3810) /home/hatsu/coding/CapProj/TestSeg_1/video_input/fight_5.mp4: 384x640 7 Fighters, 18.6ms\n",
      "video 1/1 (frame 3739/3810) /home/hatsu/coding/CapProj/TestSeg_1/video_input/fight_5.mp4: 384x640 6 Fighters, 16.2ms\n",
      "video 1/1 (frame 3740/3810) /home/hatsu/coding/CapProj/TestSeg_1/video_input/fight_5.mp4: 384x640 5 Fighters, 14.1ms\n",
      "video 1/1 (frame 3741/3810) /home/hatsu/coding/CapProj/TestSeg_1/video_input/fight_5.mp4: 384x640 4 Fighters, 15.9ms\n",
      "video 1/1 (frame 3742/3810) /home/hatsu/coding/CapProj/TestSeg_1/video_input/fight_5.mp4: 384x640 4 Fighters, 18.5ms\n",
      "video 1/1 (frame 3743/3810) /home/hatsu/coding/CapProj/TestSeg_1/video_input/fight_5.mp4: 384x640 4 Fighters, 24.5ms\n",
      "video 1/1 (frame 3744/3810) /home/hatsu/coding/CapProj/TestSeg_1/video_input/fight_5.mp4: 384x640 4 Fighters, 17.8ms\n",
      "video 1/1 (frame 3745/3810) /home/hatsu/coding/CapProj/TestSeg_1/video_input/fight_5.mp4: 384x640 2 Fighters, 14.0ms\n",
      "video 1/1 (frame 3746/3810) /home/hatsu/coding/CapProj/TestSeg_1/video_input/fight_5.mp4: 384x640 2 Fighters, 16.2ms\n",
      "video 1/1 (frame 3747/3810) /home/hatsu/coding/CapProj/TestSeg_1/video_input/fight_5.mp4: 384x640 2 Fighters, 15.0ms\n",
      "video 1/1 (frame 3748/3810) /home/hatsu/coding/CapProj/TestSeg_1/video_input/fight_5.mp4: 384x640 3 Fighters, 29.6ms\n",
      "video 1/1 (frame 3749/3810) /home/hatsu/coding/CapProj/TestSeg_1/video_input/fight_5.mp4: 384x640 3 Fighters, 15.7ms\n",
      "video 1/1 (frame 3750/3810) /home/hatsu/coding/CapProj/TestSeg_1/video_input/fight_5.mp4: 384x640 2 Fighters, 17.0ms\n",
      "video 1/1 (frame 3751/3810) /home/hatsu/coding/CapProj/TestSeg_1/video_input/fight_5.mp4: 384x640 3 Fighters, 15.0ms\n",
      "video 1/1 (frame 3752/3810) /home/hatsu/coding/CapProj/TestSeg_1/video_input/fight_5.mp4: 384x640 3 Fighters, 14.4ms\n",
      "video 1/1 (frame 3753/3810) /home/hatsu/coding/CapProj/TestSeg_1/video_input/fight_5.mp4: 384x640 3 Fighters, 21.3ms\n",
      "video 1/1 (frame 3754/3810) /home/hatsu/coding/CapProj/TestSeg_1/video_input/fight_5.mp4: 384x640 3 Fighters, 15.1ms\n",
      "video 1/1 (frame 3755/3810) /home/hatsu/coding/CapProj/TestSeg_1/video_input/fight_5.mp4: 384x640 2 Fighters, 16.4ms\n",
      "video 1/1 (frame 3756/3810) /home/hatsu/coding/CapProj/TestSeg_1/video_input/fight_5.mp4: 384x640 3 Fighters, 14.9ms\n",
      "video 1/1 (frame 3757/3810) /home/hatsu/coding/CapProj/TestSeg_1/video_input/fight_5.mp4: 384x640 2 Fighters, 14.5ms\n",
      "video 1/1 (frame 3758/3810) /home/hatsu/coding/CapProj/TestSeg_1/video_input/fight_5.mp4: 384x640 2 Fighters, 18.5ms\n",
      "video 1/1 (frame 3759/3810) /home/hatsu/coding/CapProj/TestSeg_1/video_input/fight_5.mp4: 384x640 2 Fighters, 15.3ms\n",
      "video 1/1 (frame 3760/3810) /home/hatsu/coding/CapProj/TestSeg_1/video_input/fight_5.mp4: 384x640 3 Fighters, 15.1ms\n",
      "video 1/1 (frame 3761/3810) /home/hatsu/coding/CapProj/TestSeg_1/video_input/fight_5.mp4: 384x640 2 Fighters, 17.0ms\n",
      "video 1/1 (frame 3762/3810) /home/hatsu/coding/CapProj/TestSeg_1/video_input/fight_5.mp4: 384x640 2 Fighters, 15.5ms\n",
      "video 1/1 (frame 3763/3810) /home/hatsu/coding/CapProj/TestSeg_1/video_input/fight_5.mp4: 384x640 3 Fighters, 19.8ms\n",
      "video 1/1 (frame 3764/3810) /home/hatsu/coding/CapProj/TestSeg_1/video_input/fight_5.mp4: 384x640 3 Fighters, 17.8ms\n",
      "video 1/1 (frame 3765/3810) /home/hatsu/coding/CapProj/TestSeg_1/video_input/fight_5.mp4: 384x640 4 Fighters, 15.7ms\n",
      "video 1/1 (frame 3766/3810) /home/hatsu/coding/CapProj/TestSeg_1/video_input/fight_5.mp4: 384x640 4 Fighters, 14.6ms\n",
      "video 1/1 (frame 3767/3810) /home/hatsu/coding/CapProj/TestSeg_1/video_input/fight_5.mp4: 384x640 4 Fighters, 15.2ms\n",
      "video 1/1 (frame 3768/3810) /home/hatsu/coding/CapProj/TestSeg_1/video_input/fight_5.mp4: 384x640 4 Fighters, 17.7ms\n",
      "video 1/1 (frame 3769/3810) /home/hatsu/coding/CapProj/TestSeg_1/video_input/fight_5.mp4: 384x640 3 Fighters, 21.0ms\n",
      "video 1/1 (frame 3770/3810) /home/hatsu/coding/CapProj/TestSeg_1/video_input/fight_5.mp4: 384x640 3 Fighters, 15.7ms\n",
      "video 1/1 (frame 3771/3810) /home/hatsu/coding/CapProj/TestSeg_1/video_input/fight_5.mp4: 384x640 2 Fighters, 16.0ms\n",
      "video 1/1 (frame 3772/3810) /home/hatsu/coding/CapProj/TestSeg_1/video_input/fight_5.mp4: 384x640 2 Fighters, 15.4ms\n",
      "video 1/1 (frame 3773/3810) /home/hatsu/coding/CapProj/TestSeg_1/video_input/fight_5.mp4: 384x640 2 Fighters, 15.1ms\n",
      "video 1/1 (frame 3774/3810) /home/hatsu/coding/CapProj/TestSeg_1/video_input/fight_5.mp4: 384x640 3 Fighters, 30.9ms\n",
      "video 1/1 (frame 3775/3810) /home/hatsu/coding/CapProj/TestSeg_1/video_input/fight_5.mp4: 384x640 3 Fighters, 32.0ms\n",
      "video 1/1 (frame 3776/3810) /home/hatsu/coding/CapProj/TestSeg_1/video_input/fight_5.mp4: 384x640 3 Fighters, 14.7ms\n",
      "video 1/1 (frame 3777/3810) /home/hatsu/coding/CapProj/TestSeg_1/video_input/fight_5.mp4: 384x640 3 Fighters, 14.8ms\n",
      "video 1/1 (frame 3778/3810) /home/hatsu/coding/CapProj/TestSeg_1/video_input/fight_5.mp4: 384x640 3 Fighters, 17.5ms\n",
      "video 1/1 (frame 3779/3810) /home/hatsu/coding/CapProj/TestSeg_1/video_input/fight_5.mp4: 384x640 3 Fighters, 25.1ms\n",
      "video 1/1 (frame 3780/3810) /home/hatsu/coding/CapProj/TestSeg_1/video_input/fight_5.mp4: 384x640 3 Fighters, 17.0ms\n",
      "video 1/1 (frame 3781/3810) /home/hatsu/coding/CapProj/TestSeg_1/video_input/fight_5.mp4: 384x640 3 Fighters, 15.0ms\n",
      "video 1/1 (frame 3782/3810) /home/hatsu/coding/CapProj/TestSeg_1/video_input/fight_5.mp4: 384x640 3 Fighters, 15.5ms\n",
      "video 1/1 (frame 3783/3810) /home/hatsu/coding/CapProj/TestSeg_1/video_input/fight_5.mp4: 384x640 3 Fighters, 15.2ms\n",
      "video 1/1 (frame 3784/3810) /home/hatsu/coding/CapProj/TestSeg_1/video_input/fight_5.mp4: 384x640 3 Fighters, 24.5ms\n",
      "video 1/1 (frame 3785/3810) /home/hatsu/coding/CapProj/TestSeg_1/video_input/fight_5.mp4: 384x640 3 Fighters, 15.6ms\n",
      "video 1/1 (frame 3786/3810) /home/hatsu/coding/CapProj/TestSeg_1/video_input/fight_5.mp4: 384x640 3 Fighters, 14.4ms\n",
      "video 1/1 (frame 3787/3810) /home/hatsu/coding/CapProj/TestSeg_1/video_input/fight_5.mp4: 384x640 3 Fighters, 14.6ms\n",
      "video 1/1 (frame 3788/3810) /home/hatsu/coding/CapProj/TestSeg_1/video_input/fight_5.mp4: 384x640 3 Fighters, 31.4ms\n",
      "video 1/1 (frame 3789/3810) /home/hatsu/coding/CapProj/TestSeg_1/video_input/fight_5.mp4: 384x640 3 Fighters, 30.2ms\n",
      "video 1/1 (frame 3790/3810) /home/hatsu/coding/CapProj/TestSeg_1/video_input/fight_5.mp4: 384x640 3 Fighters, 15.8ms\n",
      "video 1/1 (frame 3791/3810) /home/hatsu/coding/CapProj/TestSeg_1/video_input/fight_5.mp4: 384x640 3 Fighters, 16.9ms\n",
      "video 1/1 (frame 3792/3810) /home/hatsu/coding/CapProj/TestSeg_1/video_input/fight_5.mp4: 384x640 3 Fighters, 17.6ms\n",
      "video 1/1 (frame 3793/3810) /home/hatsu/coding/CapProj/TestSeg_1/video_input/fight_5.mp4: 384x640 3 Fighters, 23.3ms\n",
      "video 1/1 (frame 3794/3810) /home/hatsu/coding/CapProj/TestSeg_1/video_input/fight_5.mp4: 384x640 4 Fighters, 15.9ms\n",
      "video 1/1 (frame 3795/3810) /home/hatsu/coding/CapProj/TestSeg_1/video_input/fight_5.mp4: 384x640 3 Fighters, 18.0ms\n",
      "video 1/1 (frame 3796/3810) /home/hatsu/coding/CapProj/TestSeg_1/video_input/fight_5.mp4: 384x640 3 Fighters, 16.8ms\n",
      "video 1/1 (frame 3797/3810) /home/hatsu/coding/CapProj/TestSeg_1/video_input/fight_5.mp4: 384x640 2 Fighters, 14.4ms\n",
      "video 1/1 (frame 3798/3810) /home/hatsu/coding/CapProj/TestSeg_1/video_input/fight_5.mp4: 384x640 2 Fighters, 33.2ms\n",
      "video 1/1 (frame 3799/3810) /home/hatsu/coding/CapProj/TestSeg_1/video_input/fight_5.mp4: 384x640 1 Fighter, 36.3ms\n",
      "video 1/1 (frame 3800/3810) /home/hatsu/coding/CapProj/TestSeg_1/video_input/fight_5.mp4: 384x640 1 Fighter, 16.1ms\n",
      "video 1/1 (frame 3801/3810) /home/hatsu/coding/CapProj/TestSeg_1/video_input/fight_5.mp4: 384x640 5 Fighters, 22.8ms\n",
      "video 1/1 (frame 3802/3810) /home/hatsu/coding/CapProj/TestSeg_1/video_input/fight_5.mp4: 384x640 1 Fighter, 14.0ms\n",
      "video 1/1 (frame 3803/3810) /home/hatsu/coding/CapProj/TestSeg_1/video_input/fight_5.mp4: 384x640 1 Fighter, 21.0ms\n",
      "video 1/1 (frame 3804/3810) /home/hatsu/coding/CapProj/TestSeg_1/video_input/fight_5.mp4: 384x640 2 Fighters, 15.8ms\n",
      "video 1/1 (frame 3805/3810) /home/hatsu/coding/CapProj/TestSeg_1/video_input/fight_5.mp4: 384x640 3 Fighters, 14.2ms\n",
      "video 1/1 (frame 3806/3810) /home/hatsu/coding/CapProj/TestSeg_1/video_input/fight_5.mp4: 384x640 3 Fighters, 15.5ms\n",
      "video 1/1 (frame 3807/3810) /home/hatsu/coding/CapProj/TestSeg_1/video_input/fight_5.mp4: 384x640 2 Fighters, 21.7ms\n",
      "video 1/1 (frame 3808/3810) /home/hatsu/coding/CapProj/TestSeg_1/video_input/fight_5.mp4: 384x640 2 Fighters, 13.0ms\n",
      "video 1/1 (frame 3809/3810) /home/hatsu/coding/CapProj/TestSeg_1/video_input/fight_5.mp4: 384x640 (no detections), 18.3ms\n",
      "video 1/1 (frame 3810/3810) /home/hatsu/coding/CapProj/TestSeg_1/video_input/fight_5.mp4: 384x640 2 Fighters, 13.8ms\n",
      "Speed: 2.6ms preprocess, 17.6ms inference, 5.0ms postprocess per image at shape (1, 3, 384, 640)\n"
     ]
    }
   ],
   "source": [
    "for result in results:\n",
    "    frame = result.plot()\n",
    "    \n",
    "    out.write(frame)\n",
    "\n",
    "    cv2.imshow(\"Fatality!!!\", frame)\n",
    "\n",
    "    if cv2.waitKey(1) & 0xFF == ord('q'):\n",
    "        break\n",
    "\n",
    "cv2.destroyAllWindows()"
   ]
  },
  {
   "cell_type": "markdown",
   "metadata": {},
   "source": [
    "Image Inference"
   ]
  },
  {
   "cell_type": "code",
   "execution_count": 5,
   "metadata": {},
   "outputs": [
    {
     "name": "stdout",
     "output_type": "stream",
     "text": [
      "\n",
      "image 1/1 /home/hatsu/coding/CapProj/TestSeg_1/image_input/frame_000003.PNG: 640x640 2 Fighters, 17.9ms\n",
      "Speed: 1.7ms preprocess, 17.9ms inference, 7.2ms postprocess per image at shape (1, 3, 640, 640)\n",
      "[ultralytics.engine.results.Results object with attributes:\n",
      "\n",
      "boxes: ultralytics.engine.results.Boxes object\n",
      "keypoints: None\n",
      "masks: ultralytics.engine.results.Masks object\n",
      "names: {0: 'Fighter'}\n",
      "obb: None\n",
      "orig_img: array([[[0, 0, 0],\n",
      "        [0, 0, 0],\n",
      "        [0, 0, 0],\n",
      "        ...,\n",
      "        [0, 0, 0],\n",
      "        [0, 0, 0],\n",
      "        [0, 0, 0]],\n",
      "\n",
      "       [[0, 0, 0],\n",
      "        [0, 0, 0],\n",
      "        [0, 0, 0],\n",
      "        ...,\n",
      "        [0, 0, 0],\n",
      "        [0, 0, 0],\n",
      "        [0, 0, 0]],\n",
      "\n",
      "       [[0, 0, 0],\n",
      "        [0, 0, 0],\n",
      "        [0, 0, 0],\n",
      "        ...,\n",
      "        [0, 0, 0],\n",
      "        [0, 0, 0],\n",
      "        [0, 0, 0]],\n",
      "\n",
      "       ...,\n",
      "\n",
      "       [[0, 0, 0],\n",
      "        [0, 0, 0],\n",
      "        [0, 0, 0],\n",
      "        ...,\n",
      "        [0, 0, 0],\n",
      "        [0, 0, 0],\n",
      "        [0, 0, 0]],\n",
      "\n",
      "       [[0, 0, 0],\n",
      "        [0, 0, 0],\n",
      "        [0, 0, 0],\n",
      "        ...,\n",
      "        [0, 0, 0],\n",
      "        [0, 0, 0],\n",
      "        [0, 0, 0]],\n",
      "\n",
      "       [[0, 0, 0],\n",
      "        [0, 0, 0],\n",
      "        [0, 0, 0],\n",
      "        ...,\n",
      "        [0, 0, 0],\n",
      "        [0, 0, 0],\n",
      "        [0, 0, 0]]], dtype=uint8)\n",
      "orig_shape: (640, 640)\n",
      "path: '/home/hatsu/coding/CapProj/TestSeg_1/image_input/frame_000003.PNG'\n",
      "probs: None\n",
      "save_dir: 'runs/segment/predict'\n",
      "speed: {'preprocess': 1.7056465148925781, 'inference': 17.90761947631836, 'postprocess': 7.1773529052734375}]\n"
     ]
    }
   ],
   "source": [
    "result = model.predict(source=\"image_input/frame_000003.PNG\", task=\"segment\", show=True)\n",
    "print(result)"
   ]
  }
 ],
 "metadata": {
  "kernelspec": {
   "display_name": "ultrapython",
   "language": "python",
   "name": "python3"
  },
  "language_info": {
   "codemirror_mode": {
    "name": "ipython",
    "version": 3
   },
   "file_extension": ".py",
   "mimetype": "text/x-python",
   "name": "python",
   "nbconvert_exporter": "python",
   "pygments_lexer": "ipython3",
   "version": "3.10.15"
  }
 },
 "nbformat": 4,
 "nbformat_minor": 2
}
