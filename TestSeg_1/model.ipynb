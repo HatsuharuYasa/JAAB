{
 "cells": [
  {
   "cell_type": "code",
   "execution_count": 1,
   "metadata": {},
   "outputs": [],
   "source": [
    "import torch\n",
    "import cv2\n",
    "import numpy as np\n",
    "from ultralytics import YOLO"
   ]
  },
  {
   "cell_type": "code",
   "execution_count": 2,
   "metadata": {},
   "outputs": [],
   "source": [
    "DEVICE = \"cuda:0\" if torch.cuda.is_available() else \"cpu\""
   ]
  },
  {
   "cell_type": "code",
   "execution_count": 3,
   "metadata": {},
   "outputs": [
    {
     "name": "stdout",
     "output_type": "stream",
     "text": [
      "\u001b[34m\u001b[1mengine/trainer: \u001b[0mtask=segment, mode=train, model=checkpoint/yolo11n-seg.pt, data=config_1.yaml, epochs=100, time=None, patience=100, batch=16, imgsz=640, save=True, save_period=-1, cache=False, device=cuda:0, workers=8, project=None, name=train6, exist_ok=False, pretrained=True, optimizer=auto, verbose=True, seed=0, deterministic=True, single_cls=False, rect=False, cos_lr=False, close_mosaic=10, resume=False, amp=True, fraction=1.0, profile=False, freeze=None, multi_scale=False, overlap_mask=True, mask_ratio=4, dropout=0.0, val=True, split=val, save_json=False, save_hybrid=False, conf=None, iou=0.7, max_det=300, half=False, dnn=False, plots=True, source=None, vid_stride=1, stream_buffer=False, visualize=False, augment=False, agnostic_nms=False, classes=None, retina_masks=False, embed=None, show=False, save_frames=False, save_txt=False, save_conf=False, save_crop=False, show_labels=True, show_conf=True, show_boxes=True, line_width=None, format=torchscript, keras=False, optimize=False, int8=False, dynamic=False, simplify=True, opset=None, workspace=None, nms=False, lr0=0.01, lrf=0.01, momentum=0.937, weight_decay=0.0005, warmup_epochs=3.0, warmup_momentum=0.8, warmup_bias_lr=0.1, box=7.5, cls=0.5, dfl=1.5, pose=12.0, kobj=1.0, nbs=64, hsv_h=0.015, hsv_s=0.7, hsv_v=0.4, degrees=0.0, translate=0.1, scale=0.5, shear=0.0, perspective=0.0, flipud=0.0, fliplr=0.5, bgr=0.0, mosaic=1.0, mixup=0.0, copy_paste=0.0, copy_paste_mode=flip, auto_augment=randaugment, erasing=0.4, crop_fraction=1.0, cfg=None, tracker=botsort.yaml, save_dir=runs/segment/train6\n",
      "Overriding model.yaml nc=80 with nc=1\n",
      "\n",
      "                   from  n    params  module                                       arguments                     \n",
      "  0                  -1  1       464  ultralytics.nn.modules.conv.Conv             [3, 16, 3, 2]                 \n",
      "  1                  -1  1      4672  ultralytics.nn.modules.conv.Conv             [16, 32, 3, 2]                \n",
      "  2                  -1  1      6640  ultralytics.nn.modules.block.C3k2            [32, 64, 1, False, 0.25]      \n",
      "  3                  -1  1     36992  ultralytics.nn.modules.conv.Conv             [64, 64, 3, 2]                \n",
      "  4                  -1  1     26080  ultralytics.nn.modules.block.C3k2            [64, 128, 1, False, 0.25]     \n",
      "  5                  -1  1    147712  ultralytics.nn.modules.conv.Conv             [128, 128, 3, 2]              \n",
      "  6                  -1  1     87040  ultralytics.nn.modules.block.C3k2            [128, 128, 1, True]           \n",
      "  7                  -1  1    295424  ultralytics.nn.modules.conv.Conv             [128, 256, 3, 2]              \n",
      "  8                  -1  1    346112  ultralytics.nn.modules.block.C3k2            [256, 256, 1, True]           \n",
      "  9                  -1  1    164608  ultralytics.nn.modules.block.SPPF            [256, 256, 5]                 \n",
      " 10                  -1  1    249728  ultralytics.nn.modules.block.C2PSA           [256, 256, 1]                 \n",
      " 11                  -1  1         0  torch.nn.modules.upsampling.Upsample         [None, 2, 'nearest']          \n",
      " 12             [-1, 6]  1         0  ultralytics.nn.modules.conv.Concat           [1]                           \n",
      " 13                  -1  1    111296  ultralytics.nn.modules.block.C3k2            [384, 128, 1, False]          \n",
      " 14                  -1  1         0  torch.nn.modules.upsampling.Upsample         [None, 2, 'nearest']          \n",
      " 15             [-1, 4]  1         0  ultralytics.nn.modules.conv.Concat           [1]                           \n",
      " 16                  -1  1     32096  ultralytics.nn.modules.block.C3k2            [256, 64, 1, False]           \n",
      " 17                  -1  1     36992  ultralytics.nn.modules.conv.Conv             [64, 64, 3, 2]                \n",
      " 18            [-1, 13]  1         0  ultralytics.nn.modules.conv.Concat           [1]                           \n",
      " 19                  -1  1     86720  ultralytics.nn.modules.block.C3k2            [192, 128, 1, False]          \n",
      " 20                  -1  1    147712  ultralytics.nn.modules.conv.Conv             [128, 128, 3, 2]              \n",
      " 21            [-1, 10]  1         0  ultralytics.nn.modules.conv.Concat           [1]                           \n",
      " 22                  -1  1    378880  ultralytics.nn.modules.block.C3k2            [384, 256, 1, True]           \n",
      " 23        [16, 19, 22]  1    683635  ultralytics.nn.modules.head.Segment          [1, 32, 64, [64, 128, 256]]   \n",
      "YOLO11n-seg summary: 355 layers, 2,842,803 parameters, 2,842,787 gradients, 10.4 GFLOPs\n",
      "\n",
      "Transferred 510/561 items from pretrained weights\n",
      "\u001b[34m\u001b[1mTensorBoard: \u001b[0mStart with 'tensorboard --logdir runs/segment/train6', view at http://localhost:6006/\n",
      "Freezing layer 'model.23.dfl.conv.weight'\n",
      "\u001b[34m\u001b[1mAMP: \u001b[0mrunning Automatic Mixed Precision (AMP) checks...\n",
      "Downloading https://github.com/ultralytics/assets/releases/download/v8.3.0/yolo11n.pt to 'yolo11n.pt'...\n"
     ]
    },
    {
     "name": "stderr",
     "output_type": "stream",
     "text": [
      "100%|██████████| 5.35M/5.35M [00:00<00:00, 6.38MB/s]\n"
     ]
    },
    {
     "name": "stdout",
     "output_type": "stream",
     "text": [
      "\u001b[34m\u001b[1mAMP: \u001b[0mchecks passed ✅\n"
     ]
    },
    {
     "name": "stderr",
     "output_type": "stream",
     "text": [
      "\u001b[34m\u001b[1mtrain: \u001b[0mScanning /home/hatsu/coding/CapProj/TestSeg_1/dataset_1/labels/train.cache... 22 images, 0 backgrounds, 0 corrupt: 100%|██████████| 22/22 [00:00<?, ?it/s]\n",
      "\u001b[34m\u001b[1mval: \u001b[0mScanning /home/hatsu/coding/CapProj/TestSeg_1/dataset_1/labels/val.cache... 5 images, 0 backgrounds, 0 corrupt: 100%|██████████| 5/5 [00:00<?, ?it/s]\n"
     ]
    },
    {
     "name": "stdout",
     "output_type": "stream",
     "text": [
      "Plotting labels to runs/segment/train6/labels.jpg... \n",
      "\u001b[34m\u001b[1moptimizer:\u001b[0m 'optimizer=auto' found, ignoring 'lr0=0.01' and 'momentum=0.937' and determining best 'optimizer', 'lr0' and 'momentum' automatically... \n",
      "\u001b[34m\u001b[1moptimizer:\u001b[0m AdamW(lr=0.002, momentum=0.9) with parameter groups 90 weight(decay=0.0), 101 weight(decay=0.0005), 100 bias(decay=0.0)\n",
      "\u001b[34m\u001b[1mTensorBoard: \u001b[0mmodel graph visualization added ✅\n",
      "Image sizes 640 train, 640 val\n",
      "Using 4 dataloader workers\n",
      "Logging results to \u001b[1mruns/segment/train6\u001b[0m\n",
      "Starting training for 100 epochs...\n",
      "\n",
      "      Epoch    GPU_mem   box_loss   seg_loss   cls_loss   dfl_loss  Instances       Size\n"
     ]
    },
    {
     "name": "stderr",
     "output_type": "stream",
     "text": [
      "      1/100      2.95G      1.153      2.904      2.638      1.308         27        640: 100%|██████████| 2/2 [00:01<00:00,  1.13it/s]\n",
      "                 Class     Images  Instances      Box(P          R      mAP50  mAP50-95)     Mask(P          R      mAP50  mAP50-95): 100%|██████████| 1/1 [00:00<00:00,  3.89it/s]"
     ]
    },
    {
     "name": "stdout",
     "output_type": "stream",
     "text": [
      "                   all          5          6      0.004          1       0.65      0.225    0.00333      0.833      0.302     0.0787\n"
     ]
    },
    {
     "name": "stderr",
     "output_type": "stream",
     "text": [
      "\n"
     ]
    },
    {
     "name": "stdout",
     "output_type": "stream",
     "text": [
      "\n",
      "      Epoch    GPU_mem   box_loss   seg_loss   cls_loss   dfl_loss  Instances       Size\n"
     ]
    },
    {
     "name": "stderr",
     "output_type": "stream",
     "text": [
      "      2/100      2.96G     0.9883       2.73       2.63      1.185         26        640: 100%|██████████| 2/2 [00:00<00:00,  3.57it/s]\n",
      "                 Class     Images  Instances      Box(P          R      mAP50  mAP50-95)     Mask(P          R      mAP50  mAP50-95): 100%|██████████| 1/1 [00:00<00:00,  5.86it/s]"
     ]
    },
    {
     "name": "stdout",
     "output_type": "stream",
     "text": [
      "                   all          5          6      0.004          1      0.556      0.238    0.00333      0.833      0.373     0.0967\n"
     ]
    },
    {
     "name": "stderr",
     "output_type": "stream",
     "text": [
      "\n"
     ]
    },
    {
     "name": "stdout",
     "output_type": "stream",
     "text": [
      "\n",
      "      Epoch    GPU_mem   box_loss   seg_loss   cls_loss   dfl_loss  Instances       Size\n"
     ]
    },
    {
     "name": "stderr",
     "output_type": "stream",
     "text": [
      "      3/100      2.96G      1.023      2.496      2.577      1.196         27        640: 100%|██████████| 2/2 [00:00<00:00,  4.05it/s]\n",
      "                 Class     Images  Instances      Box(P          R      mAP50  mAP50-95)     Mask(P          R      mAP50  mAP50-95): 100%|██████████| 1/1 [00:00<00:00, 13.53it/s]"
     ]
    },
    {
     "name": "stdout",
     "output_type": "stream",
     "text": [
      "                   all          5          6      0.004          1      0.583      0.242    0.00333      0.833      0.364      0.131\n"
     ]
    },
    {
     "name": "stderr",
     "output_type": "stream",
     "text": [
      "\n"
     ]
    },
    {
     "name": "stdout",
     "output_type": "stream",
     "text": [
      "\n",
      "      Epoch    GPU_mem   box_loss   seg_loss   cls_loss   dfl_loss  Instances       Size\n"
     ]
    },
    {
     "name": "stderr",
     "output_type": "stream",
     "text": [
      "      4/100      2.97G     0.8894      2.187      2.558      1.148         22        640: 100%|██████████| 2/2 [00:00<00:00,  4.48it/s]\n",
      "                 Class     Images  Instances      Box(P          R      mAP50  mAP50-95)     Mask(P          R      mAP50  mAP50-95): 100%|██████████| 1/1 [00:00<00:00, 14.62it/s]"
     ]
    },
    {
     "name": "stdout",
     "output_type": "stream",
     "text": [
      "                   all          5          6      0.004          1      0.641      0.306      0.004          1      0.547      0.273\n"
     ]
    },
    {
     "name": "stderr",
     "output_type": "stream",
     "text": [
      "\n"
     ]
    },
    {
     "name": "stdout",
     "output_type": "stream",
     "text": [
      "\n",
      "      Epoch    GPU_mem   box_loss   seg_loss   cls_loss   dfl_loss  Instances       Size\n"
     ]
    },
    {
     "name": "stderr",
     "output_type": "stream",
     "text": [
      "      5/100      2.97G     0.8887      1.809      2.478      1.156         26        640: 100%|██████████| 2/2 [00:00<00:00,  4.58it/s]\n",
      "                 Class     Images  Instances      Box(P          R      mAP50  mAP50-95)     Mask(P          R      mAP50  mAP50-95): 100%|██████████| 1/1 [00:00<00:00, 13.24it/s]"
     ]
    },
    {
     "name": "stdout",
     "output_type": "stream",
     "text": [
      "                   all          5          6      0.004          1      0.808      0.386      0.004          1      0.603      0.363\n"
     ]
    },
    {
     "name": "stderr",
     "output_type": "stream",
     "text": [
      "\n"
     ]
    },
    {
     "name": "stdout",
     "output_type": "stream",
     "text": [
      "\n",
      "      Epoch    GPU_mem   box_loss   seg_loss   cls_loss   dfl_loss  Instances       Size\n"
     ]
    },
    {
     "name": "stderr",
     "output_type": "stream",
     "text": [
      "      6/100      2.98G     0.6538      1.343      2.269      1.006         28        640: 100%|██████████| 2/2 [00:00<00:00,  4.52it/s]\n",
      "                 Class     Images  Instances      Box(P          R      mAP50  mAP50-95)     Mask(P          R      mAP50  mAP50-95): 100%|██████████| 1/1 [00:00<00:00, 14.65it/s]"
     ]
    },
    {
     "name": "stdout",
     "output_type": "stream",
     "text": [
      "                   all          5          6      0.004          1      0.632       0.33      0.004          1      0.632      0.332\n"
     ]
    },
    {
     "name": "stderr",
     "output_type": "stream",
     "text": [
      "\n"
     ]
    },
    {
     "name": "stdout",
     "output_type": "stream",
     "text": [
      "\n",
      "      Epoch    GPU_mem   box_loss   seg_loss   cls_loss   dfl_loss  Instances       Size\n"
     ]
    },
    {
     "name": "stderr",
     "output_type": "stream",
     "text": [
      "      7/100      2.97G     0.6454       1.14      2.106      1.063         28        640: 100%|██████████| 2/2 [00:00<00:00,  4.78it/s]\n",
      "                 Class     Images  Instances      Box(P          R      mAP50  mAP50-95)     Mask(P          R      mAP50  mAP50-95): 100%|██████████| 1/1 [00:00<00:00, 12.55it/s]"
     ]
    },
    {
     "name": "stdout",
     "output_type": "stream",
     "text": [
      "                   all          5          6      0.004          1      0.619      0.347      0.004          1      0.619      0.331\n"
     ]
    },
    {
     "name": "stderr",
     "output_type": "stream",
     "text": [
      "\n"
     ]
    },
    {
     "name": "stdout",
     "output_type": "stream",
     "text": [
      "\n",
      "      Epoch    GPU_mem   box_loss   seg_loss   cls_loss   dfl_loss  Instances       Size\n"
     ]
    },
    {
     "name": "stderr",
     "output_type": "stream",
     "text": [
      "      8/100      2.95G     0.7089      1.327       2.05      1.069         24        640: 100%|██████████| 2/2 [00:00<00:00,  4.59it/s]\n",
      "                 Class     Images  Instances      Box(P          R      mAP50  mAP50-95)     Mask(P          R      mAP50  mAP50-95): 100%|██████████| 1/1 [00:00<00:00, 14.40it/s]"
     ]
    },
    {
     "name": "stdout",
     "output_type": "stream",
     "text": [
      "                   all          5          6      0.004          1      0.571       0.34      0.004          1      0.571      0.366\n"
     ]
    },
    {
     "name": "stderr",
     "output_type": "stream",
     "text": [
      "\n"
     ]
    },
    {
     "name": "stdout",
     "output_type": "stream",
     "text": [
      "\n",
      "      Epoch    GPU_mem   box_loss   seg_loss   cls_loss   dfl_loss  Instances       Size\n"
     ]
    },
    {
     "name": "stderr",
     "output_type": "stream",
     "text": [
      "      9/100      3.01G     0.6875     0.8876      1.809      1.029         20        640: 100%|██████████| 2/2 [00:00<00:00,  5.17it/s]\n",
      "                 Class     Images  Instances      Box(P          R      mAP50  mAP50-95)     Mask(P          R      mAP50  mAP50-95): 100%|██████████| 1/1 [00:00<00:00, 13.77it/s]\n"
     ]
    },
    {
     "name": "stdout",
     "output_type": "stream",
     "text": [
      "                   all          5          6      0.004          1      0.643      0.403      0.004          1      0.643      0.404\n",
      "\n",
      "      Epoch    GPU_mem   box_loss   seg_loss   cls_loss   dfl_loss  Instances       Size\n"
     ]
    },
    {
     "name": "stderr",
     "output_type": "stream",
     "text": [
      "     10/100      2.94G     0.8978     0.9128      1.867      1.155         23        640: 100%|██████████| 2/2 [00:00<00:00,  4.52it/s]\n",
      "                 Class     Images  Instances      Box(P          R      mAP50  mAP50-95)     Mask(P          R      mAP50  mAP50-95): 100%|██████████| 1/1 [00:00<00:00, 13.49it/s]"
     ]
    },
    {
     "name": "stdout",
     "output_type": "stream",
     "text": [
      "                   all          5          6      0.004          1       0.76      0.623      0.004          1       0.76      0.586\n"
     ]
    },
    {
     "name": "stderr",
     "output_type": "stream",
     "text": [
      "\n"
     ]
    },
    {
     "name": "stdout",
     "output_type": "stream",
     "text": [
      "\n",
      "      Epoch    GPU_mem   box_loss   seg_loss   cls_loss   dfl_loss  Instances       Size\n"
     ]
    },
    {
     "name": "stderr",
     "output_type": "stream",
     "text": [
      "     11/100      2.99G     0.8683     0.7893      1.738      1.177         29        640: 100%|██████████| 2/2 [00:00<00:00,  4.80it/s]\n",
      "                 Class     Images  Instances      Box(P          R      mAP50  mAP50-95)     Mask(P          R      mAP50  mAP50-95): 100%|██████████| 1/1 [00:00<00:00, 13.37it/s]"
     ]
    },
    {
     "name": "stdout",
     "output_type": "stream",
     "text": [
      "                   all          5          6      0.004          1      0.779      0.606      0.004          1      0.848      0.599\n"
     ]
    },
    {
     "name": "stderr",
     "output_type": "stream",
     "text": [
      "\n"
     ]
    },
    {
     "name": "stdout",
     "output_type": "stream",
     "text": [
      "\n",
      "      Epoch    GPU_mem   box_loss   seg_loss   cls_loss   dfl_loss  Instances       Size\n"
     ]
    },
    {
     "name": "stderr",
     "output_type": "stream",
     "text": [
      "     12/100      2.96G     0.8458      1.065       1.63      1.097         31        640: 100%|██████████| 2/2 [00:00<00:00,  5.09it/s]\n",
      "                 Class     Images  Instances      Box(P          R      mAP50  mAP50-95)     Mask(P          R      mAP50  mAP50-95): 100%|██████████| 1/1 [00:00<00:00, 14.66it/s]\n"
     ]
    },
    {
     "name": "stdout",
     "output_type": "stream",
     "text": [
      "                   all          5          6      0.004          1      0.767      0.573      0.004          1      0.827      0.574\n",
      "\n",
      "      Epoch    GPU_mem   box_loss   seg_loss   cls_loss   dfl_loss  Instances       Size\n"
     ]
    },
    {
     "name": "stderr",
     "output_type": "stream",
     "text": [
      "     13/100      2.98G     0.7509     0.9779      1.417      1.086         22        640: 100%|██████████| 2/2 [00:00<00:00,  4.92it/s]\n",
      "                 Class     Images  Instances      Box(P          R      mAP50  mAP50-95)     Mask(P          R      mAP50  mAP50-95): 100%|██████████| 1/1 [00:00<00:00, 13.12it/s]"
     ]
    },
    {
     "name": "stdout",
     "output_type": "stream",
     "text": [
      "                   all          5          6      0.004          1      0.665      0.449      0.004          1      0.709      0.484\n"
     ]
    },
    {
     "name": "stderr",
     "output_type": "stream",
     "text": [
      "\n"
     ]
    },
    {
     "name": "stdout",
     "output_type": "stream",
     "text": [
      "\n",
      "      Epoch    GPU_mem   box_loss   seg_loss   cls_loss   dfl_loss  Instances       Size\n"
     ]
    },
    {
     "name": "stderr",
     "output_type": "stream",
     "text": [
      "     14/100      2.96G     0.8081     0.6958      1.553      1.154         14        640: 100%|██████████| 2/2 [00:00<00:00,  4.33it/s]\n",
      "                 Class     Images  Instances      Box(P          R      mAP50  mAP50-95)     Mask(P          R      mAP50  mAP50-95): 100%|██████████| 1/1 [00:00<00:00, 10.84it/s]"
     ]
    },
    {
     "name": "stdout",
     "output_type": "stream",
     "text": [
      "                   all          5          6      0.004          1      0.648      0.332      0.004          1      0.647      0.352\n"
     ]
    },
    {
     "name": "stderr",
     "output_type": "stream",
     "text": [
      "\n"
     ]
    },
    {
     "name": "stdout",
     "output_type": "stream",
     "text": [
      "\n",
      "      Epoch    GPU_mem   box_loss   seg_loss   cls_loss   dfl_loss  Instances       Size\n"
     ]
    },
    {
     "name": "stderr",
     "output_type": "stream",
     "text": [
      "     15/100      2.98G     0.7449      0.913      1.338      1.003         27        640: 100%|██████████| 2/2 [00:00<00:00,  5.16it/s]\n",
      "                 Class     Images  Instances      Box(P          R      mAP50  mAP50-95)     Mask(P          R      mAP50  mAP50-95): 100%|██████████| 1/1 [00:00<00:00, 14.74it/s]\n"
     ]
    },
    {
     "name": "stdout",
     "output_type": "stream",
     "text": [
      "                   all          5          6      0.004          1      0.651      0.356      0.004          1      0.681       0.34\n",
      "\n",
      "      Epoch    GPU_mem   box_loss   seg_loss   cls_loss   dfl_loss  Instances       Size\n"
     ]
    },
    {
     "name": "stderr",
     "output_type": "stream",
     "text": [
      "     16/100      2.98G     0.8111     0.8881       1.28      1.072         24        640: 100%|██████████| 2/2 [00:00<00:00,  4.94it/s]\n",
      "                 Class     Images  Instances      Box(P          R      mAP50  mAP50-95)     Mask(P          R      mAP50  mAP50-95): 100%|██████████| 1/1 [00:00<00:00, 13.25it/s]"
     ]
    },
    {
     "name": "stdout",
     "output_type": "stream",
     "text": [
      "                   all          5          6      0.004          1      0.699      0.383      0.004          1      0.733      0.377\n"
     ]
    },
    {
     "name": "stderr",
     "output_type": "stream",
     "text": [
      "\n"
     ]
    },
    {
     "name": "stdout",
     "output_type": "stream",
     "text": [
      "\n",
      "      Epoch    GPU_mem   box_loss   seg_loss   cls_loss   dfl_loss  Instances       Size\n"
     ]
    },
    {
     "name": "stderr",
     "output_type": "stream",
     "text": [
      "     17/100      2.98G     0.7222     0.8331      1.237     0.9761         24        640: 100%|██████████| 2/2 [00:00<00:00,  5.03it/s]\n",
      "                 Class     Images  Instances      Box(P          R      mAP50  mAP50-95)     Mask(P          R      mAP50  mAP50-95): 100%|██████████| 1/1 [00:00<00:00, 14.28it/s]"
     ]
    },
    {
     "name": "stdout",
     "output_type": "stream",
     "text": [
      "                   all          5          6      0.004          1      0.801      0.338      0.004          1      0.825      0.395\n"
     ]
    },
    {
     "name": "stderr",
     "output_type": "stream",
     "text": [
      "\n"
     ]
    },
    {
     "name": "stdout",
     "output_type": "stream",
     "text": [
      "\n",
      "      Epoch    GPU_mem   box_loss   seg_loss   cls_loss   dfl_loss  Instances       Size\n"
     ]
    },
    {
     "name": "stderr",
     "output_type": "stream",
     "text": [
      "     18/100         3G      0.715     0.7794      1.157      1.042         29        640: 100%|██████████| 2/2 [00:00<00:00,  4.99it/s]\n",
      "                 Class     Images  Instances      Box(P          R      mAP50  mAP50-95)     Mask(P          R      mAP50  mAP50-95): 100%|██████████| 1/1 [00:00<00:00, 14.84it/s]\n"
     ]
    },
    {
     "name": "stdout",
     "output_type": "stream",
     "text": [
      "                   all          5          6      0.004          1      0.948      0.455      0.004          1      0.948      0.487\n",
      "\n",
      "      Epoch    GPU_mem   box_loss   seg_loss   cls_loss   dfl_loss  Instances       Size\n"
     ]
    },
    {
     "name": "stderr",
     "output_type": "stream",
     "text": [
      "     19/100      2.99G     0.7059     0.6644      1.137      1.013         25        640: 100%|██████████| 2/2 [00:00<00:00,  4.57it/s]\n",
      "                 Class     Images  Instances      Box(P          R      mAP50  mAP50-95)     Mask(P          R      mAP50  mAP50-95): 100%|██████████| 1/1 [00:00<00:00, 12.74it/s]"
     ]
    },
    {
     "name": "stdout",
     "output_type": "stream",
     "text": [
      "                   all          5          6      0.004          1      0.948      0.657      0.004          1      0.948      0.627\n"
     ]
    },
    {
     "name": "stderr",
     "output_type": "stream",
     "text": [
      "\n"
     ]
    },
    {
     "name": "stdout",
     "output_type": "stream",
     "text": [
      "\n",
      "      Epoch    GPU_mem   box_loss   seg_loss   cls_loss   dfl_loss  Instances       Size\n"
     ]
    },
    {
     "name": "stderr",
     "output_type": "stream",
     "text": [
      "     20/100      2.96G     0.8316     0.9508      1.219      1.147         26        640: 100%|██████████| 2/2 [00:00<00:00,  4.51it/s]\n",
      "                 Class     Images  Instances      Box(P          R      mAP50  mAP50-95)     Mask(P          R      mAP50  mAP50-95): 100%|██████████| 1/1 [00:00<00:00, 13.31it/s]"
     ]
    },
    {
     "name": "stdout",
     "output_type": "stream",
     "text": [
      "                   all          5          6       0.12          1      0.942      0.677       0.12          1      0.942      0.585\n"
     ]
    },
    {
     "name": "stderr",
     "output_type": "stream",
     "text": [
      "\n"
     ]
    },
    {
     "name": "stdout",
     "output_type": "stream",
     "text": [
      "\n",
      "      Epoch    GPU_mem   box_loss   seg_loss   cls_loss   dfl_loss  Instances       Size\n"
     ]
    },
    {
     "name": "stderr",
     "output_type": "stream",
     "text": [
      "     21/100      3.02G     0.7363     0.8564      1.089      1.039         28        640: 100%|██████████| 2/2 [00:00<00:00,  5.16it/s]\n",
      "                 Class     Images  Instances      Box(P          R      mAP50  mAP50-95)     Mask(P          R      mAP50  mAP50-95): 100%|██████████| 1/1 [00:00<00:00, 14.72it/s]\n"
     ]
    },
    {
     "name": "stdout",
     "output_type": "stream",
     "text": [
      "                   all          5          6      0.468          1      0.942      0.717      0.468          1      0.942      0.646\n",
      "\n",
      "      Epoch    GPU_mem   box_loss   seg_loss   cls_loss   dfl_loss  Instances       Size\n"
     ]
    },
    {
     "name": "stderr",
     "output_type": "stream",
     "text": [
      "     22/100      2.98G     0.7071     0.9262       1.14      1.061         25        640: 100%|██████████| 2/2 [00:00<00:00,  4.98it/s]\n",
      "                 Class     Images  Instances      Box(P          R      mAP50  mAP50-95)     Mask(P          R      mAP50  mAP50-95): 100%|██████████| 1/1 [00:00<00:00, 12.95it/s]"
     ]
    },
    {
     "name": "stdout",
     "output_type": "stream",
     "text": [
      "                   all          5          6      0.771      0.833      0.922      0.738      0.771      0.833      0.922      0.595\n"
     ]
    },
    {
     "name": "stderr",
     "output_type": "stream",
     "text": [
      "\n"
     ]
    },
    {
     "name": "stdout",
     "output_type": "stream",
     "text": [
      "\n",
      "      Epoch    GPU_mem   box_loss   seg_loss   cls_loss   dfl_loss  Instances       Size\n"
     ]
    },
    {
     "name": "stderr",
     "output_type": "stream",
     "text": [
      "     23/100      2.99G     0.7877     0.7485      1.098      1.054         34        640: 100%|██████████| 2/2 [00:00<00:00,  4.94it/s]\n",
      "                 Class     Images  Instances      Box(P          R      mAP50  mAP50-95)     Mask(P          R      mAP50  mAP50-95): 100%|██████████| 1/1 [00:00<00:00, 14.69it/s]\n"
     ]
    },
    {
     "name": "stdout",
     "output_type": "stream",
     "text": [
      "                   all          5          6      0.901      0.833      0.931       0.64      0.901      0.833      0.931       0.54\n",
      "\n",
      "      Epoch    GPU_mem   box_loss   seg_loss   cls_loss   dfl_loss  Instances       Size\n"
     ]
    },
    {
     "name": "stderr",
     "output_type": "stream",
     "text": [
      "     24/100         3G     0.8321     0.8689      1.083      1.075         24        640: 100%|██████████| 2/2 [00:00<00:00,  4.97it/s]\n",
      "                 Class     Images  Instances      Box(P          R      mAP50  mAP50-95)     Mask(P          R      mAP50  mAP50-95): 100%|██████████| 1/1 [00:00<00:00, 14.22it/s]\n"
     ]
    },
    {
     "name": "stdout",
     "output_type": "stream",
     "text": [
      "                   all          5          6      0.955      0.833      0.972      0.783      0.955      0.833      0.972      0.587\n",
      "\n",
      "      Epoch    GPU_mem   box_loss   seg_loss   cls_loss   dfl_loss  Instances       Size\n"
     ]
    },
    {
     "name": "stderr",
     "output_type": "stream",
     "text": [
      "     25/100      3.02G     0.6841     0.7062      1.032       1.04         31        640: 100%|██████████| 2/2 [00:00<00:00,  5.00it/s]\n",
      "                 Class     Images  Instances      Box(P          R      mAP50  mAP50-95)     Mask(P          R      mAP50  mAP50-95): 100%|██████████| 1/1 [00:00<00:00, 13.46it/s]"
     ]
    },
    {
     "name": "stdout",
     "output_type": "stream",
     "text": [
      "                   all          5          6          1      0.825      0.942      0.782          1      0.825      0.955      0.659\n"
     ]
    },
    {
     "name": "stderr",
     "output_type": "stream",
     "text": [
      "\n"
     ]
    },
    {
     "name": "stdout",
     "output_type": "stream",
     "text": [
      "\n",
      "      Epoch    GPU_mem   box_loss   seg_loss   cls_loss   dfl_loss  Instances       Size\n"
     ]
    },
    {
     "name": "stderr",
     "output_type": "stream",
     "text": [
      "     26/100         3G     0.7054     0.7835      1.132      1.042         19        640: 100%|██████████| 2/2 [00:00<00:00,  5.04it/s]\n",
      "                 Class     Images  Instances      Box(P          R      mAP50  mAP50-95)     Mask(P          R      mAP50  mAP50-95): 100%|██████████| 1/1 [00:00<00:00, 12.65it/s]"
     ]
    },
    {
     "name": "stdout",
     "output_type": "stream",
     "text": [
      "                   all          5          6      0.984      0.833      0.891      0.794          1      0.914      0.995      0.644\n"
     ]
    },
    {
     "name": "stderr",
     "output_type": "stream",
     "text": [
      "\n"
     ]
    },
    {
     "name": "stdout",
     "output_type": "stream",
     "text": [
      "\n",
      "      Epoch    GPU_mem   box_loss   seg_loss   cls_loss   dfl_loss  Instances       Size\n"
     ]
    },
    {
     "name": "stderr",
     "output_type": "stream",
     "text": [
      "     27/100         3G     0.8583      0.855      1.058      1.156         19        640: 100%|██████████| 2/2 [00:00<00:00,  5.18it/s]\n",
      "                 Class     Images  Instances      Box(P          R      mAP50  mAP50-95)     Mask(P          R      mAP50  mAP50-95): 100%|██████████| 1/1 [00:00<00:00, 14.90it/s]"
     ]
    },
    {
     "name": "stdout",
     "output_type": "stream",
     "text": [
      "                   all          5          6      0.669      0.667      0.819      0.566       0.63      0.833      0.805      0.524\n"
     ]
    },
    {
     "name": "stderr",
     "output_type": "stream",
     "text": [
      "\n"
     ]
    },
    {
     "name": "stdout",
     "output_type": "stream",
     "text": [
      "\n",
      "      Epoch    GPU_mem   box_loss   seg_loss   cls_loss   dfl_loss  Instances       Size\n"
     ]
    },
    {
     "name": "stderr",
     "output_type": "stream",
     "text": [
      "     28/100      2.99G     0.6633     0.8843     0.9648     0.9445         22        640: 100%|██████████| 2/2 [00:00<00:00,  5.38it/s]\n",
      "                 Class     Images  Instances      Box(P          R      mAP50  mAP50-95)     Mask(P          R      mAP50  mAP50-95): 100%|██████████| 1/1 [00:00<00:00, 14.47it/s]\n"
     ]
    },
    {
     "name": "stdout",
     "output_type": "stream",
     "text": [
      "                   all          5          6      0.669      0.667      0.819      0.566       0.63      0.833      0.805      0.524\n",
      "\n",
      "      Epoch    GPU_mem   box_loss   seg_loss   cls_loss   dfl_loss  Instances       Size\n"
     ]
    },
    {
     "name": "stderr",
     "output_type": "stream",
     "text": [
      "     29/100      2.99G     0.7173     0.6831      0.992      1.075         23        640: 100%|██████████| 2/2 [00:00<00:00,  4.06it/s]\n",
      "                 Class     Images  Instances      Box(P          R      mAP50  mAP50-95)     Mask(P          R      mAP50  mAP50-95): 100%|██████████| 1/1 [00:00<00:00, 13.84it/s]"
     ]
    },
    {
     "name": "stdout",
     "output_type": "stream",
     "text": [
      "                   all          5          6       0.71      0.818      0.913      0.676      0.725      0.833      0.927      0.731\n"
     ]
    },
    {
     "name": "stderr",
     "output_type": "stream",
     "text": [
      "\n"
     ]
    },
    {
     "name": "stdout",
     "output_type": "stream",
     "text": [
      "\n",
      "      Epoch    GPU_mem   box_loss   seg_loss   cls_loss   dfl_loss  Instances       Size\n"
     ]
    },
    {
     "name": "stderr",
     "output_type": "stream",
     "text": [
      "     30/100         3G     0.8044     0.8283      1.071      1.043         26        640: 100%|██████████| 2/2 [00:00<00:00,  5.17it/s]\n",
      "                 Class     Images  Instances      Box(P          R      mAP50  mAP50-95)     Mask(P          R      mAP50  mAP50-95): 100%|██████████| 1/1 [00:00<00:00, 14.61it/s]"
     ]
    },
    {
     "name": "stdout",
     "output_type": "stream",
     "text": [
      "                   all          5          6      0.828      0.807      0.913      0.574      0.983          1      0.995      0.574\n"
     ]
    },
    {
     "name": "stderr",
     "output_type": "stream",
     "text": [
      "\n"
     ]
    },
    {
     "name": "stdout",
     "output_type": "stream",
     "text": [
      "\n",
      "      Epoch    GPU_mem   box_loss   seg_loss   cls_loss   dfl_loss  Instances       Size\n"
     ]
    },
    {
     "name": "stderr",
     "output_type": "stream",
     "text": [
      "     31/100      2.95G     0.6089     0.6891     0.9498      1.008         20        640: 100%|██████████| 2/2 [00:00<00:00,  5.58it/s]\n",
      "                 Class     Images  Instances      Box(P          R      mAP50  mAP50-95)     Mask(P          R      mAP50  mAP50-95): 100%|██████████| 1/1 [00:00<00:00, 14.90it/s]\n"
     ]
    },
    {
     "name": "stdout",
     "output_type": "stream",
     "text": [
      "                   all          5          6      0.828      0.807      0.913      0.574      0.983          1      0.995      0.574\n",
      "\n",
      "      Epoch    GPU_mem   box_loss   seg_loss   cls_loss   dfl_loss  Instances       Size\n"
     ]
    },
    {
     "name": "stderr",
     "output_type": "stream",
     "text": [
      "     32/100      2.99G     0.6823     0.6614      1.009     0.9877         21        640: 100%|██████████| 2/2 [00:00<00:00,  5.00it/s]\n",
      "                 Class     Images  Instances      Box(P          R      mAP50  mAP50-95)     Mask(P          R      mAP50  mAP50-95): 100%|██████████| 1/1 [00:00<00:00, 14.63it/s]\n"
     ]
    },
    {
     "name": "stdout",
     "output_type": "stream",
     "text": [
      "                   all          5          6      0.832      0.826      0.898      0.463          1      0.821      0.972       0.48\n",
      "\n",
      "      Epoch    GPU_mem   box_loss   seg_loss   cls_loss   dfl_loss  Instances       Size\n"
     ]
    },
    {
     "name": "stderr",
     "output_type": "stream",
     "text": [
      "     33/100      2.98G     0.7931     0.9535      1.083      1.085         20        640: 100%|██████████| 2/2 [00:00<00:00,  5.13it/s]\n",
      "                 Class     Images  Instances      Box(P          R      mAP50  mAP50-95)     Mask(P          R      mAP50  mAP50-95): 100%|██████████| 1/1 [00:00<00:00, 14.39it/s]"
     ]
    },
    {
     "name": "stdout",
     "output_type": "stream",
     "text": [
      "                   all          5          6          1      0.931      0.995      0.661          1      0.931      0.995      0.619\n"
     ]
    },
    {
     "name": "stderr",
     "output_type": "stream",
     "text": [
      "\n"
     ]
    },
    {
     "name": "stdout",
     "output_type": "stream",
     "text": [
      "\n",
      "      Epoch    GPU_mem   box_loss   seg_loss   cls_loss   dfl_loss  Instances       Size\n"
     ]
    },
    {
     "name": "stderr",
     "output_type": "stream",
     "text": [
      "     34/100      2.97G     0.6976     0.6535     0.9464     0.9696         29        640: 100%|██████████| 2/2 [00:00<00:00,  5.43it/s]\n",
      "                 Class     Images  Instances      Box(P          R      mAP50  mAP50-95)     Mask(P          R      mAP50  mAP50-95): 100%|██████████| 1/1 [00:00<00:00, 13.73it/s]"
     ]
    },
    {
     "name": "stdout",
     "output_type": "stream",
     "text": [
      "                   all          5          6          1      0.931      0.995      0.661          1      0.931      0.995      0.619\n"
     ]
    },
    {
     "name": "stderr",
     "output_type": "stream",
     "text": [
      "\n"
     ]
    },
    {
     "name": "stdout",
     "output_type": "stream",
     "text": [
      "\n",
      "      Epoch    GPU_mem   box_loss   seg_loss   cls_loss   dfl_loss  Instances       Size\n"
     ]
    },
    {
     "name": "stderr",
     "output_type": "stream",
     "text": [
      "     35/100         3G     0.6192      0.764     0.9102     0.9385         23        640: 100%|██████████| 2/2 [00:00<00:00,  5.18it/s]\n",
      "                 Class     Images  Instances      Box(P          R      mAP50  mAP50-95)     Mask(P          R      mAP50  mAP50-95): 100%|██████████| 1/1 [00:00<00:00, 13.52it/s]"
     ]
    },
    {
     "name": "stdout",
     "output_type": "stream",
     "text": [
      "                   all          5          6      0.635      0.871      0.893      0.787      0.635      0.871      0.893      0.715\n"
     ]
    },
    {
     "name": "stderr",
     "output_type": "stream",
     "text": [
      "\n"
     ]
    },
    {
     "name": "stdout",
     "output_type": "stream",
     "text": [
      "\n",
      "      Epoch    GPU_mem   box_loss   seg_loss   cls_loss   dfl_loss  Instances       Size\n"
     ]
    },
    {
     "name": "stderr",
     "output_type": "stream",
     "text": [
      "     36/100      2.96G     0.7443     0.9765        1.1      1.054         19        640: 100%|██████████| 2/2 [00:00<00:00,  5.15it/s]\n",
      "                 Class     Images  Instances      Box(P          R      mAP50  mAP50-95)     Mask(P          R      mAP50  mAP50-95): 100%|██████████| 1/1 [00:00<00:00, 14.70it/s]"
     ]
    },
    {
     "name": "stdout",
     "output_type": "stream",
     "text": [
      "                   all          5          6      0.656          1      0.827      0.654      0.913      0.833      0.942      0.639\n"
     ]
    },
    {
     "name": "stderr",
     "output_type": "stream",
     "text": [
      "\n"
     ]
    },
    {
     "name": "stdout",
     "output_type": "stream",
     "text": [
      "\n",
      "      Epoch    GPU_mem   box_loss   seg_loss   cls_loss   dfl_loss  Instances       Size\n"
     ]
    },
    {
     "name": "stderr",
     "output_type": "stream",
     "text": [
      "     37/100         3G     0.7541     0.7043      1.007      1.056         18        640: 100%|██████████| 2/2 [00:00<00:00,  5.17it/s]\n",
      "                 Class     Images  Instances      Box(P          R      mAP50  mAP50-95)     Mask(P          R      mAP50  mAP50-95): 100%|██████████| 1/1 [00:00<00:00, 14.55it/s]"
     ]
    },
    {
     "name": "stdout",
     "output_type": "stream",
     "text": [
      "                   all          5          6      0.656          1      0.827      0.654      0.913      0.833      0.942      0.639\n"
     ]
    },
    {
     "name": "stderr",
     "output_type": "stream",
     "text": [
      "\n"
     ]
    },
    {
     "name": "stdout",
     "output_type": "stream",
     "text": [
      "\n",
      "      Epoch    GPU_mem   box_loss   seg_loss   cls_loss   dfl_loss  Instances       Size\n"
     ]
    },
    {
     "name": "stderr",
     "output_type": "stream",
     "text": [
      "     38/100         3G     0.6504       0.78     0.8974     0.9797         26        640: 100%|██████████| 2/2 [00:00<00:00,  5.11it/s]\n",
      "                 Class     Images  Instances      Box(P          R      mAP50  mAP50-95)     Mask(P          R      mAP50  mAP50-95): 100%|██████████| 1/1 [00:00<00:00, 14.86it/s]"
     ]
    },
    {
     "name": "stdout",
     "output_type": "stream",
     "text": [
      "                   all          5          6      0.661      0.976      0.799      0.592      0.661      0.976      0.859      0.586\n"
     ]
    },
    {
     "name": "stderr",
     "output_type": "stream",
     "text": [
      "\n"
     ]
    },
    {
     "name": "stdout",
     "output_type": "stream",
     "text": [
      "\n",
      "      Epoch    GPU_mem   box_loss   seg_loss   cls_loss   dfl_loss  Instances       Size\n"
     ]
    },
    {
     "name": "stderr",
     "output_type": "stream",
     "text": [
      "     39/100      2.99G     0.7334     0.6734      0.959      1.028         21        640: 100%|██████████| 2/2 [00:00<00:00,  5.13it/s]\n",
      "                 Class     Images  Instances      Box(P          R      mAP50  mAP50-95)     Mask(P          R      mAP50  mAP50-95): 100%|██████████| 1/1 [00:00<00:00, 14.75it/s]"
     ]
    },
    {
     "name": "stdout",
     "output_type": "stream",
     "text": [
      "                   all          5          6      0.656      0.957      0.788      0.462      0.827      0.803      0.913      0.545\n"
     ]
    },
    {
     "name": "stderr",
     "output_type": "stream",
     "text": [
      "\n"
     ]
    },
    {
     "name": "stdout",
     "output_type": "stream",
     "text": [
      "\n",
      "      Epoch    GPU_mem   box_loss   seg_loss   cls_loss   dfl_loss  Instances       Size\n"
     ]
    },
    {
     "name": "stderr",
     "output_type": "stream",
     "text": [
      "     40/100      3.01G     0.8327     0.7601     0.9454       1.11         20        640: 100%|██████████| 2/2 [00:00<00:00,  4.84it/s]\n",
      "                 Class     Images  Instances      Box(P          R      mAP50  mAP50-95)     Mask(P          R      mAP50  mAP50-95): 100%|██████████| 1/1 [00:00<00:00, 14.33it/s]"
     ]
    },
    {
     "name": "stdout",
     "output_type": "stream",
     "text": [
      "                   all          5          6      0.656      0.957      0.788      0.462      0.827      0.803      0.913      0.545\n"
     ]
    },
    {
     "name": "stderr",
     "output_type": "stream",
     "text": [
      "\n"
     ]
    },
    {
     "name": "stdout",
     "output_type": "stream",
     "text": [
      "\n",
      "      Epoch    GPU_mem   box_loss   seg_loss   cls_loss   dfl_loss  Instances       Size\n"
     ]
    },
    {
     "name": "stderr",
     "output_type": "stream",
     "text": [
      "     41/100      2.97G     0.6894     0.7486     0.9616      1.013         20        640: 100%|██████████| 2/2 [00:00<00:00,  5.26it/s]\n",
      "                 Class     Images  Instances      Box(P          R      mAP50  mAP50-95)     Mask(P          R      mAP50  mAP50-95): 100%|██████████| 1/1 [00:00<00:00, 14.09it/s]"
     ]
    },
    {
     "name": "stdout",
     "output_type": "stream",
     "text": [
      "                   all          5          6      0.622      0.825      0.663      0.461      0.753      0.833      0.803      0.497\n"
     ]
    },
    {
     "name": "stderr",
     "output_type": "stream",
     "text": [
      "\n"
     ]
    },
    {
     "name": "stdout",
     "output_type": "stream",
     "text": [
      "\n",
      "      Epoch    GPU_mem   box_loss   seg_loss   cls_loss   dfl_loss  Instances       Size\n"
     ]
    },
    {
     "name": "stderr",
     "output_type": "stream",
     "text": [
      "     42/100      2.94G     0.6869     0.8378     0.9348     0.9938         29        640: 100%|██████████| 2/2 [00:00<00:00,  5.12it/s]\n",
      "                 Class     Images  Instances      Box(P          R      mAP50  mAP50-95)     Mask(P          R      mAP50  mAP50-95): 100%|██████████| 1/1 [00:00<00:00, 14.53it/s]"
     ]
    },
    {
     "name": "stdout",
     "output_type": "stream",
     "text": [
      "                   all          5          6      0.761      0.667      0.706      0.584      0.761      0.667      0.706      0.529\n"
     ]
    },
    {
     "name": "stderr",
     "output_type": "stream",
     "text": [
      "\n"
     ]
    },
    {
     "name": "stdout",
     "output_type": "stream",
     "text": [
      "\n",
      "      Epoch    GPU_mem   box_loss   seg_loss   cls_loss   dfl_loss  Instances       Size\n"
     ]
    },
    {
     "name": "stderr",
     "output_type": "stream",
     "text": [
      "     43/100      2.97G     0.6505     0.7472      0.842     0.9771         25        640: 100%|██████████| 2/2 [00:00<00:00,  5.49it/s]\n",
      "                 Class     Images  Instances      Box(P          R      mAP50  mAP50-95)     Mask(P          R      mAP50  mAP50-95): 100%|██████████| 1/1 [00:00<00:00, 14.62it/s]\n"
     ]
    },
    {
     "name": "stdout",
     "output_type": "stream",
     "text": [
      "                   all          5          6      0.761      0.667      0.706      0.584      0.761      0.667      0.706      0.529\n",
      "\n",
      "      Epoch    GPU_mem   box_loss   seg_loss   cls_loss   dfl_loss  Instances       Size\n"
     ]
    },
    {
     "name": "stderr",
     "output_type": "stream",
     "text": [
      "     44/100      2.99G     0.8643     0.6995      1.077      1.111         16        640: 100%|██████████| 2/2 [00:00<00:00,  5.14it/s]\n",
      "                 Class     Images  Instances      Box(P          R      mAP50  mAP50-95)     Mask(P          R      mAP50  mAP50-95): 100%|██████████| 1/1 [00:00<00:00, 15.01it/s]"
     ]
    },
    {
     "name": "stdout",
     "output_type": "stream",
     "text": [
      "                   all          5          6       0.78      0.667      0.697       0.59       0.78      0.667      0.697       0.47\n"
     ]
    },
    {
     "name": "stderr",
     "output_type": "stream",
     "text": [
      "\n"
     ]
    },
    {
     "name": "stdout",
     "output_type": "stream",
     "text": [
      "\n",
      "      Epoch    GPU_mem   box_loss   seg_loss   cls_loss   dfl_loss  Instances       Size\n"
     ]
    },
    {
     "name": "stderr",
     "output_type": "stream",
     "text": [
      "     45/100      2.95G     0.6954     0.6062     0.8709      1.063         23        640: 100%|██████████| 2/2 [00:00<00:00,  5.45it/s]\n",
      "                 Class     Images  Instances      Box(P          R      mAP50  mAP50-95)     Mask(P          R      mAP50  mAP50-95): 100%|██████████| 1/1 [00:00<00:00, 14.44it/s]\n"
     ]
    },
    {
     "name": "stdout",
     "output_type": "stream",
     "text": [
      "                   all          5          6       0.78      0.667      0.697       0.59       0.78      0.667      0.697       0.47\n",
      "\n",
      "      Epoch    GPU_mem   box_loss   seg_loss   cls_loss   dfl_loss  Instances       Size\n"
     ]
    },
    {
     "name": "stderr",
     "output_type": "stream",
     "text": [
      "     46/100      2.98G     0.6672     0.7265     0.8572     0.9827         25        640: 100%|██████████| 2/2 [00:00<00:00,  5.11it/s]\n",
      "                 Class     Images  Instances      Box(P          R      mAP50  mAP50-95)     Mask(P          R      mAP50  mAP50-95): 100%|██████████| 1/1 [00:00<00:00, 12.58it/s]"
     ]
    },
    {
     "name": "stdout",
     "output_type": "stream",
     "text": [
      "                   all          5          6      0.798       0.66      0.712      0.588      0.798       0.66      0.712      0.471\n"
     ]
    },
    {
     "name": "stderr",
     "output_type": "stream",
     "text": [
      "\n"
     ]
    },
    {
     "name": "stdout",
     "output_type": "stream",
     "text": [
      "\n",
      "      Epoch    GPU_mem   box_loss   seg_loss   cls_loss   dfl_loss  Instances       Size\n"
     ]
    },
    {
     "name": "stderr",
     "output_type": "stream",
     "text": [
      "     47/100      2.98G     0.6215     0.6806     0.8362     0.9788         28        640: 100%|██████████| 2/2 [00:00<00:00,  5.38it/s]\n",
      "                 Class     Images  Instances      Box(P          R      mAP50  mAP50-95)     Mask(P          R      mAP50  mAP50-95): 100%|██████████| 1/1 [00:00<00:00, 14.69it/s]"
     ]
    },
    {
     "name": "stdout",
     "output_type": "stream",
     "text": [
      "                   all          5          6      0.798       0.66      0.712      0.588      0.798       0.66      0.712      0.471\n"
     ]
    },
    {
     "name": "stderr",
     "output_type": "stream",
     "text": [
      "\n"
     ]
    },
    {
     "name": "stdout",
     "output_type": "stream",
     "text": [
      "\n",
      "      Epoch    GPU_mem   box_loss   seg_loss   cls_loss   dfl_loss  Instances       Size\n"
     ]
    },
    {
     "name": "stderr",
     "output_type": "stream",
     "text": [
      "     48/100      2.98G      0.629     0.5443     0.8705      1.004         19        640: 100%|██████████| 2/2 [00:00<00:00,  5.07it/s]\n",
      "                 Class     Images  Instances      Box(P          R      mAP50  mAP50-95)     Mask(P          R      mAP50  mAP50-95): 100%|██████████| 1/1 [00:00<00:00, 14.63it/s]"
     ]
    },
    {
     "name": "stdout",
     "output_type": "stream",
     "text": [
      "                   all          5          6      0.808      0.833      0.848       0.68      0.808      0.833      0.848      0.625\n"
     ]
    },
    {
     "name": "stderr",
     "output_type": "stream",
     "text": [
      "\n"
     ]
    },
    {
     "name": "stdout",
     "output_type": "stream",
     "text": [
      "\n",
      "      Epoch    GPU_mem   box_loss   seg_loss   cls_loss   dfl_loss  Instances       Size\n"
     ]
    },
    {
     "name": "stderr",
     "output_type": "stream",
     "text": [
      "     49/100      2.95G     0.6792     0.6214     0.8214     0.9537         29        640: 100%|██████████| 2/2 [00:00<00:00,  5.63it/s]\n",
      "                 Class     Images  Instances      Box(P          R      mAP50  mAP50-95)     Mask(P          R      mAP50  mAP50-95): 100%|██████████| 1/1 [00:00<00:00, 14.22it/s]"
     ]
    },
    {
     "name": "stdout",
     "output_type": "stream",
     "text": [
      "                   all          5          6      0.808      0.833      0.848       0.68      0.808      0.833      0.848      0.625\n"
     ]
    },
    {
     "name": "stderr",
     "output_type": "stream",
     "text": [
      "\n"
     ]
    },
    {
     "name": "stdout",
     "output_type": "stream",
     "text": [
      "\n",
      "      Epoch    GPU_mem   box_loss   seg_loss   cls_loss   dfl_loss  Instances       Size\n"
     ]
    },
    {
     "name": "stderr",
     "output_type": "stream",
     "text": [
      "     50/100         3G     0.7031     0.5812     0.9036     0.9749         19        640: 100%|██████████| 2/2 [00:00<00:00,  4.97it/s]\n",
      "                 Class     Images  Instances      Box(P          R      mAP50  mAP50-95)     Mask(P          R      mAP50  mAP50-95): 100%|██████████| 1/1 [00:00<00:00, 12.46it/s]"
     ]
    },
    {
     "name": "stdout",
     "output_type": "stream",
     "text": [
      "                   all          5          6      0.855      0.984      0.972      0.708      0.691      0.833      0.827      0.671\n"
     ]
    },
    {
     "name": "stderr",
     "output_type": "stream",
     "text": [
      "\n"
     ]
    },
    {
     "name": "stdout",
     "output_type": "stream",
     "text": [
      "\n",
      "      Epoch    GPU_mem   box_loss   seg_loss   cls_loss   dfl_loss  Instances       Size\n"
     ]
    },
    {
     "name": "stderr",
     "output_type": "stream",
     "text": [
      "     51/100      2.99G     0.6758     0.7747     0.8486     0.9772         30        640: 100%|██████████| 2/2 [00:00<00:00,  5.49it/s]\n",
      "                 Class     Images  Instances      Box(P          R      mAP50  mAP50-95)     Mask(P          R      mAP50  mAP50-95): 100%|██████████| 1/1 [00:00<00:00, 14.34it/s]\n"
     ]
    },
    {
     "name": "stdout",
     "output_type": "stream",
     "text": [
      "                   all          5          6      0.855      0.984      0.972      0.708      0.691      0.833      0.827      0.671\n",
      "\n",
      "      Epoch    GPU_mem   box_loss   seg_loss   cls_loss   dfl_loss  Instances       Size\n"
     ]
    },
    {
     "name": "stderr",
     "output_type": "stream",
     "text": [
      "     52/100      2.99G     0.5937      0.592     0.7654      0.942         21        640: 100%|██████████| 2/2 [00:00<00:00,  4.73it/s]\n",
      "                 Class     Images  Instances      Box(P          R      mAP50  mAP50-95)     Mask(P          R      mAP50  mAP50-95): 100%|██████████| 1/1 [00:00<00:00, 14.29it/s]"
     ]
    },
    {
     "name": "stdout",
     "output_type": "stream",
     "text": [
      "                   all          5          6      0.744          1      0.879      0.693      0.654      0.948      0.851      0.722\n"
     ]
    },
    {
     "name": "stderr",
     "output_type": "stream",
     "text": [
      "\n"
     ]
    },
    {
     "name": "stdout",
     "output_type": "stream",
     "text": [
      "\n",
      "      Epoch    GPU_mem   box_loss   seg_loss   cls_loss   dfl_loss  Instances       Size\n"
     ]
    },
    {
     "name": "stderr",
     "output_type": "stream",
     "text": [
      "     53/100         3G     0.5802     0.6085     0.7413     0.9534         25        640: 100%|██████████| 2/2 [00:00<00:00,  4.88it/s]\n",
      "                 Class     Images  Instances      Box(P          R      mAP50  mAP50-95)     Mask(P          R      mAP50  mAP50-95): 100%|██████████| 1/1 [00:00<00:00, 14.01it/s]"
     ]
    },
    {
     "name": "stdout",
     "output_type": "stream",
     "text": [
      "                   all          5          6      0.744          1      0.879      0.693      0.654      0.948      0.851      0.722\n"
     ]
    },
    {
     "name": "stderr",
     "output_type": "stream",
     "text": [
      "\n"
     ]
    },
    {
     "name": "stdout",
     "output_type": "stream",
     "text": [
      "\n",
      "      Epoch    GPU_mem   box_loss   seg_loss   cls_loss   dfl_loss  Instances       Size\n"
     ]
    },
    {
     "name": "stderr",
     "output_type": "stream",
     "text": [
      "     54/100      2.98G     0.7263     0.6854     0.9315      1.064         18        640: 100%|██████████| 2/2 [00:00<00:00,  5.10it/s]\n",
      "                 Class     Images  Instances      Box(P          R      mAP50  mAP50-95)     Mask(P          R      mAP50  mAP50-95): 100%|██████████| 1/1 [00:00<00:00, 13.79it/s]"
     ]
    },
    {
     "name": "stdout",
     "output_type": "stream",
     "text": [
      "                   all          5          6      0.849          1      0.948      0.743      0.849          1      0.948      0.779\n"
     ]
    },
    {
     "name": "stderr",
     "output_type": "stream",
     "text": [
      "\n"
     ]
    },
    {
     "name": "stdout",
     "output_type": "stream",
     "text": [
      "\n",
      "      Epoch    GPU_mem   box_loss   seg_loss   cls_loss   dfl_loss  Instances       Size\n"
     ]
    },
    {
     "name": "stderr",
     "output_type": "stream",
     "text": [
      "     55/100      2.95G     0.7128     0.8161     0.8091      1.082         21        640: 100%|██████████| 2/2 [00:00<00:00,  5.40it/s]\n",
      "                 Class     Images  Instances      Box(P          R      mAP50  mAP50-95)     Mask(P          R      mAP50  mAP50-95): 100%|██████████| 1/1 [00:00<00:00, 14.66it/s]"
     ]
    },
    {
     "name": "stdout",
     "output_type": "stream",
     "text": [
      "                   all          5          6      0.849          1      0.948      0.743      0.849          1      0.948      0.779\n"
     ]
    },
    {
     "name": "stderr",
     "output_type": "stream",
     "text": [
      "\n"
     ]
    },
    {
     "name": "stdout",
     "output_type": "stream",
     "text": [
      "\n",
      "      Epoch    GPU_mem   box_loss   seg_loss   cls_loss   dfl_loss  Instances       Size\n"
     ]
    },
    {
     "name": "stderr",
     "output_type": "stream",
     "text": [
      "     56/100      2.98G      0.669      0.719      0.855     0.9735         29        640: 100%|██████████| 2/2 [00:00<00:00,  5.12it/s]\n",
      "                 Class     Images  Instances      Box(P          R      mAP50  mAP50-95)     Mask(P          R      mAP50  mAP50-95): 100%|██████████| 1/1 [00:00<00:00, 14.47it/s]"
     ]
    },
    {
     "name": "stdout",
     "output_type": "stream",
     "text": [
      "                   all          5          6      0.846          1      0.972      0.747      0.846          1      0.972      0.775\n"
     ]
    },
    {
     "name": "stderr",
     "output_type": "stream",
     "text": [
      "\n"
     ]
    },
    {
     "name": "stdout",
     "output_type": "stream",
     "text": [
      "\n",
      "      Epoch    GPU_mem   box_loss   seg_loss   cls_loss   dfl_loss  Instances       Size\n"
     ]
    },
    {
     "name": "stderr",
     "output_type": "stream",
     "text": [
      "     57/100      2.97G     0.6072     0.7511     0.8501      1.007         16        640: 100%|██████████| 2/2 [00:00<00:00,  5.60it/s]\n",
      "                 Class     Images  Instances      Box(P          R      mAP50  mAP50-95)     Mask(P          R      mAP50  mAP50-95): 100%|██████████| 1/1 [00:00<00:00, 13.36it/s]"
     ]
    },
    {
     "name": "stdout",
     "output_type": "stream",
     "text": [
      "                   all          5          6      0.846          1      0.972      0.747      0.846          1      0.972      0.775\n"
     ]
    },
    {
     "name": "stderr",
     "output_type": "stream",
     "text": [
      "\n"
     ]
    },
    {
     "name": "stdout",
     "output_type": "stream",
     "text": [
      "\n",
      "      Epoch    GPU_mem   box_loss   seg_loss   cls_loss   dfl_loss  Instances       Size\n"
     ]
    },
    {
     "name": "stderr",
     "output_type": "stream",
     "text": [
      "     58/100      2.96G     0.5594     0.7126     0.7275     0.9441         32        640: 100%|██████████| 2/2 [00:00<00:00,  5.18it/s]\n",
      "                 Class     Images  Instances      Box(P          R      mAP50  mAP50-95)     Mask(P          R      mAP50  mAP50-95): 100%|██████████| 1/1 [00:00<00:00, 14.89it/s]"
     ]
    },
    {
     "name": "stdout",
     "output_type": "stream",
     "text": [
      "                   all          5          6      0.852          1      0.972      0.789      0.852          1      0.972      0.712\n"
     ]
    },
    {
     "name": "stderr",
     "output_type": "stream",
     "text": [
      "\n"
     ]
    },
    {
     "name": "stdout",
     "output_type": "stream",
     "text": [
      "\n",
      "      Epoch    GPU_mem   box_loss   seg_loss   cls_loss   dfl_loss  Instances       Size\n"
     ]
    },
    {
     "name": "stderr",
     "output_type": "stream",
     "text": [
      "     59/100      2.95G     0.6004     0.6213     0.7228     0.9596         28        640: 100%|██████████| 2/2 [00:00<00:00,  5.35it/s]\n",
      "                 Class     Images  Instances      Box(P          R      mAP50  mAP50-95)     Mask(P          R      mAP50  mAP50-95): 100%|██████████| 1/1 [00:00<00:00, 12.82it/s]"
     ]
    },
    {
     "name": "stdout",
     "output_type": "stream",
     "text": [
      "                   all          5          6      0.852          1      0.972      0.789      0.852          1      0.972      0.712\n"
     ]
    },
    {
     "name": "stderr",
     "output_type": "stream",
     "text": [
      "\n"
     ]
    },
    {
     "name": "stdout",
     "output_type": "stream",
     "text": [
      "\n",
      "      Epoch    GPU_mem   box_loss   seg_loss   cls_loss   dfl_loss  Instances       Size\n"
     ]
    },
    {
     "name": "stderr",
     "output_type": "stream",
     "text": [
      "     60/100      2.99G     0.7214     0.6965      0.826     0.9794         34        640: 100%|██████████| 2/2 [00:00<00:00,  5.16it/s]\n",
      "                 Class     Images  Instances      Box(P          R      mAP50  mAP50-95)     Mask(P          R      mAP50  mAP50-95): 100%|██████████| 1/1 [00:00<00:00, 14.00it/s]"
     ]
    },
    {
     "name": "stdout",
     "output_type": "stream",
     "text": [
      "                   all          5          6      0.852          1      0.972      0.847      0.852          1      0.972      0.753\n"
     ]
    },
    {
     "name": "stderr",
     "output_type": "stream",
     "text": [
      "\n"
     ]
    },
    {
     "name": "stdout",
     "output_type": "stream",
     "text": [
      "\n",
      "      Epoch    GPU_mem   box_loss   seg_loss   cls_loss   dfl_loss  Instances       Size\n"
     ]
    },
    {
     "name": "stderr",
     "output_type": "stream",
     "text": [
      "     61/100         3G     0.6709      0.672      1.044     0.9812         11        640: 100%|██████████| 2/2 [00:00<00:00,  5.64it/s]\n",
      "                 Class     Images  Instances      Box(P          R      mAP50  mAP50-95)     Mask(P          R      mAP50  mAP50-95): 100%|██████████| 1/1 [00:00<00:00, 14.96it/s]\n"
     ]
    },
    {
     "name": "stdout",
     "output_type": "stream",
     "text": [
      "                   all          5          6      0.852          1      0.972      0.847      0.852          1      0.972      0.753\n",
      "\n",
      "      Epoch    GPU_mem   box_loss   seg_loss   cls_loss   dfl_loss  Instances       Size\n"
     ]
    },
    {
     "name": "stderr",
     "output_type": "stream",
     "text": [
      "     62/100      3.04G     0.6542     0.6684     0.7541     0.9481         24        640: 100%|██████████| 2/2 [00:00<00:00,  4.84it/s]\n",
      "                 Class     Images  Instances      Box(P          R      mAP50  mAP50-95)     Mask(P          R      mAP50  mAP50-95): 100%|██████████| 1/1 [00:00<00:00, 14.57it/s]"
     ]
    },
    {
     "name": "stdout",
     "output_type": "stream",
     "text": [
      "                   all          5          6          1      0.994      0.995      0.872          1      0.994      0.995      0.754\n"
     ]
    },
    {
     "name": "stderr",
     "output_type": "stream",
     "text": [
      "\n"
     ]
    },
    {
     "name": "stdout",
     "output_type": "stream",
     "text": [
      "\n",
      "      Epoch    GPU_mem   box_loss   seg_loss   cls_loss   dfl_loss  Instances       Size\n"
     ]
    },
    {
     "name": "stderr",
     "output_type": "stream",
     "text": [
      "     63/100      3.01G     0.6698     0.6966     0.7476     0.9632         28        640: 100%|██████████| 2/2 [00:00<00:00,  5.39it/s]\n",
      "                 Class     Images  Instances      Box(P          R      mAP50  mAP50-95)     Mask(P          R      mAP50  mAP50-95): 100%|██████████| 1/1 [00:00<00:00, 14.39it/s]"
     ]
    },
    {
     "name": "stdout",
     "output_type": "stream",
     "text": [
      "                   all          5          6          1      0.994      0.995      0.872          1      0.994      0.995      0.754\n"
     ]
    },
    {
     "name": "stderr",
     "output_type": "stream",
     "text": [
      "\n"
     ]
    },
    {
     "name": "stdout",
     "output_type": "stream",
     "text": [
      "\n",
      "      Epoch    GPU_mem   box_loss   seg_loss   cls_loss   dfl_loss  Instances       Size\n"
     ]
    },
    {
     "name": "stderr",
     "output_type": "stream",
     "text": [
      "     64/100      2.98G     0.6402     0.6185     0.7346     0.9487         29        640: 100%|██████████| 2/2 [00:00<00:00,  5.00it/s]\n",
      "                 Class     Images  Instances      Box(P          R      mAP50  mAP50-95)     Mask(P          R      mAP50  mAP50-95): 100%|██████████| 1/1 [00:00<00:00, 13.17it/s]"
     ]
    },
    {
     "name": "stdout",
     "output_type": "stream",
     "text": [
      "                   all          5          6      0.996          1      0.995      0.812      0.996          1      0.995        0.8\n"
     ]
    },
    {
     "name": "stderr",
     "output_type": "stream",
     "text": [
      "\n"
     ]
    },
    {
     "name": "stdout",
     "output_type": "stream",
     "text": [
      "\n",
      "      Epoch    GPU_mem   box_loss   seg_loss   cls_loss   dfl_loss  Instances       Size\n"
     ]
    },
    {
     "name": "stderr",
     "output_type": "stream",
     "text": [
      "     65/100      3.01G     0.6586      0.595      0.769      0.991         29        640: 100%|██████████| 2/2 [00:00<00:00,  5.29it/s]\n",
      "                 Class     Images  Instances      Box(P          R      mAP50  mAP50-95)     Mask(P          R      mAP50  mAP50-95): 100%|██████████| 1/1 [00:00<00:00, 13.62it/s]"
     ]
    },
    {
     "name": "stdout",
     "output_type": "stream",
     "text": [
      "                   all          5          6      0.996          1      0.995      0.812      0.996          1      0.995        0.8\n"
     ]
    },
    {
     "name": "stderr",
     "output_type": "stream",
     "text": [
      "\n"
     ]
    },
    {
     "name": "stdout",
     "output_type": "stream",
     "text": [
      "\n",
      "      Epoch    GPU_mem   box_loss   seg_loss   cls_loss   dfl_loss  Instances       Size\n"
     ]
    },
    {
     "name": "stderr",
     "output_type": "stream",
     "text": [
      "     66/100         3G      0.475      0.523     0.6477      0.876         22        640: 100%|██████████| 2/2 [00:00<00:00,  5.13it/s]\n",
      "                 Class     Images  Instances      Box(P          R      mAP50  mAP50-95)     Mask(P          R      mAP50  mAP50-95): 100%|██████████| 1/1 [00:00<00:00, 14.59it/s]"
     ]
    },
    {
     "name": "stdout",
     "output_type": "stream",
     "text": [
      "                   all          5          6      0.991          1      0.995        0.8      0.991          1      0.995      0.797\n"
     ]
    },
    {
     "name": "stderr",
     "output_type": "stream",
     "text": [
      "\n"
     ]
    },
    {
     "name": "stdout",
     "output_type": "stream",
     "text": [
      "\n",
      "      Epoch    GPU_mem   box_loss   seg_loss   cls_loss   dfl_loss  Instances       Size\n"
     ]
    },
    {
     "name": "stderr",
     "output_type": "stream",
     "text": [
      "     67/100      2.97G     0.6145     0.5667      0.741     0.9996         22        640: 100%|██████████| 2/2 [00:00<00:00,  5.34it/s]\n",
      "                 Class     Images  Instances      Box(P          R      mAP50  mAP50-95)     Mask(P          R      mAP50  mAP50-95): 100%|██████████| 1/1 [00:00<00:00, 14.33it/s]\n"
     ]
    },
    {
     "name": "stdout",
     "output_type": "stream",
     "text": [
      "                   all          5          6      0.991          1      0.995        0.8      0.991          1      0.995      0.797\n",
      "\n",
      "      Epoch    GPU_mem   box_loss   seg_loss   cls_loss   dfl_loss  Instances       Size\n"
     ]
    },
    {
     "name": "stderr",
     "output_type": "stream",
     "text": [
      "     68/100      2.98G     0.5401     0.4767     0.7222     0.9165         19        640: 100%|██████████| 2/2 [00:00<00:00,  4.93it/s]\n",
      "                 Class     Images  Instances      Box(P          R      mAP50  mAP50-95)     Mask(P          R      mAP50  mAP50-95): 100%|██████████| 1/1 [00:00<00:00, 12.97it/s]"
     ]
    },
    {
     "name": "stdout",
     "output_type": "stream",
     "text": [
      "                   all          5          6       0.99          1      0.995      0.854       0.99          1      0.995       0.88\n"
     ]
    },
    {
     "name": "stderr",
     "output_type": "stream",
     "text": [
      "\n"
     ]
    },
    {
     "name": "stdout",
     "output_type": "stream",
     "text": [
      "\n",
      "      Epoch    GPU_mem   box_loss   seg_loss   cls_loss   dfl_loss  Instances       Size\n"
     ]
    },
    {
     "name": "stderr",
     "output_type": "stream",
     "text": [
      "     69/100      2.99G     0.5747     0.5033     0.6915     0.9369         25        640: 100%|██████████| 2/2 [00:00<00:00,  4.93it/s]\n",
      "                 Class     Images  Instances      Box(P          R      mAP50  mAP50-95)     Mask(P          R      mAP50  mAP50-95): 100%|██████████| 1/1 [00:00<00:00, 14.90it/s]"
     ]
    },
    {
     "name": "stdout",
     "output_type": "stream",
     "text": [
      "                   all          5          6       0.99          1      0.995      0.854       0.99          1      0.995       0.88\n"
     ]
    },
    {
     "name": "stderr",
     "output_type": "stream",
     "text": [
      "\n"
     ]
    },
    {
     "name": "stdout",
     "output_type": "stream",
     "text": [
      "\n",
      "      Epoch    GPU_mem   box_loss   seg_loss   cls_loss   dfl_loss  Instances       Size\n"
     ]
    },
    {
     "name": "stderr",
     "output_type": "stream",
     "text": [
      "     70/100      2.98G     0.6657     0.5335     0.7676      1.004         27        640: 100%|██████████| 2/2 [00:00<00:00,  4.95it/s]\n",
      "                 Class     Images  Instances      Box(P          R      mAP50  mAP50-95)     Mask(P          R      mAP50  mAP50-95): 100%|██████████| 1/1 [00:00<00:00, 13.74it/s]"
     ]
    },
    {
     "name": "stdout",
     "output_type": "stream",
     "text": [
      "                   all          5          6       0.99          1      0.995      0.837       0.99          1      0.995       0.88\n"
     ]
    },
    {
     "name": "stderr",
     "output_type": "stream",
     "text": [
      "\n"
     ]
    },
    {
     "name": "stdout",
     "output_type": "stream",
     "text": [
      "\n",
      "      Epoch    GPU_mem   box_loss   seg_loss   cls_loss   dfl_loss  Instances       Size\n"
     ]
    },
    {
     "name": "stderr",
     "output_type": "stream",
     "text": [
      "     71/100      2.99G     0.6916     0.6093     0.7953      1.011         27        640: 100%|██████████| 2/2 [00:00<00:00,  5.41it/s]\n",
      "                 Class     Images  Instances      Box(P          R      mAP50  mAP50-95)     Mask(P          R      mAP50  mAP50-95): 100%|██████████| 1/1 [00:00<00:00, 13.50it/s]"
     ]
    },
    {
     "name": "stdout",
     "output_type": "stream",
     "text": [
      "                   all          5          6       0.99          1      0.995      0.837       0.99          1      0.995       0.88\n"
     ]
    },
    {
     "name": "stderr",
     "output_type": "stream",
     "text": [
      "\n"
     ]
    },
    {
     "name": "stdout",
     "output_type": "stream",
     "text": [
      "\n",
      "      Epoch    GPU_mem   box_loss   seg_loss   cls_loss   dfl_loss  Instances       Size\n"
     ]
    },
    {
     "name": "stderr",
     "output_type": "stream",
     "text": [
      "     72/100      2.99G     0.5608     0.8789     0.6991     0.9172         31        640: 100%|██████████| 2/2 [00:00<00:00,  4.94it/s]\n",
      "                 Class     Images  Instances      Box(P          R      mAP50  mAP50-95)     Mask(P          R      mAP50  mAP50-95): 100%|██████████| 1/1 [00:00<00:00, 14.07it/s]"
     ]
    },
    {
     "name": "stdout",
     "output_type": "stream",
     "text": [
      "                   all          5          6      0.989          1      0.995      0.813      0.989          1      0.995       0.88\n"
     ]
    },
    {
     "name": "stderr",
     "output_type": "stream",
     "text": [
      "\n"
     ]
    },
    {
     "name": "stdout",
     "output_type": "stream",
     "text": [
      "\n",
      "      Epoch    GPU_mem   box_loss   seg_loss   cls_loss   dfl_loss  Instances       Size\n"
     ]
    },
    {
     "name": "stderr",
     "output_type": "stream",
     "text": [
      "     73/100      3.02G     0.4787     0.4833     0.6798     0.8531         21        640: 100%|██████████| 2/2 [00:00<00:00,  5.27it/s]\n",
      "                 Class     Images  Instances      Box(P          R      mAP50  mAP50-95)     Mask(P          R      mAP50  mAP50-95): 100%|██████████| 1/1 [00:00<00:00, 14.48it/s]"
     ]
    },
    {
     "name": "stdout",
     "output_type": "stream",
     "text": [
      "                   all          5          6      0.989          1      0.995      0.813      0.989          1      0.995       0.88\n"
     ]
    },
    {
     "name": "stderr",
     "output_type": "stream",
     "text": [
      "\n"
     ]
    },
    {
     "name": "stdout",
     "output_type": "stream",
     "text": [
      "\n",
      "      Epoch    GPU_mem   box_loss   seg_loss   cls_loss   dfl_loss  Instances       Size\n"
     ]
    },
    {
     "name": "stderr",
     "output_type": "stream",
     "text": [
      "     74/100      2.98G     0.5382     0.4752     0.6847     0.9193         20        640: 100%|██████████| 2/2 [00:00<00:00,  5.11it/s]\n",
      "                 Class     Images  Instances      Box(P          R      mAP50  mAP50-95)     Mask(P          R      mAP50  mAP50-95): 100%|██████████| 1/1 [00:00<00:00, 14.31it/s]"
     ]
    },
    {
     "name": "stdout",
     "output_type": "stream",
     "text": [
      "                   all          5          6       0.98          1      0.995      0.805       0.98          1      0.995      0.849\n"
     ]
    },
    {
     "name": "stderr",
     "output_type": "stream",
     "text": [
      "\n"
     ]
    },
    {
     "name": "stdout",
     "output_type": "stream",
     "text": [
      "\n",
      "      Epoch    GPU_mem   box_loss   seg_loss   cls_loss   dfl_loss  Instances       Size\n"
     ]
    },
    {
     "name": "stderr",
     "output_type": "stream",
     "text": [
      "     75/100      3.01G     0.5574     0.5901     0.6668     0.9887         28        640: 100%|██████████| 2/2 [00:00<00:00,  5.37it/s]\n",
      "                 Class     Images  Instances      Box(P          R      mAP50  mAP50-95)     Mask(P          R      mAP50  mAP50-95): 100%|██████████| 1/1 [00:00<00:00, 14.69it/s]\n"
     ]
    },
    {
     "name": "stdout",
     "output_type": "stream",
     "text": [
      "                   all          5          6       0.98          1      0.995      0.805       0.98          1      0.995      0.849\n",
      "\n",
      "      Epoch    GPU_mem   box_loss   seg_loss   cls_loss   dfl_loss  Instances       Size\n"
     ]
    },
    {
     "name": "stderr",
     "output_type": "stream",
     "text": [
      "     76/100         3G     0.5308     0.4618     0.6751     0.9281         19        640: 100%|██████████| 2/2 [00:00<00:00,  4.92it/s]\n",
      "                 Class     Images  Instances      Box(P          R      mAP50  mAP50-95)     Mask(P          R      mAP50  mAP50-95): 100%|██████████| 1/1 [00:00<00:00, 14.45it/s]"
     ]
    },
    {
     "name": "stdout",
     "output_type": "stream",
     "text": [
      "                   all          5          6      0.976      0.833      0.972      0.787      0.976      0.833      0.972      0.836\n"
     ]
    },
    {
     "name": "stderr",
     "output_type": "stream",
     "text": [
      "\n"
     ]
    },
    {
     "name": "stdout",
     "output_type": "stream",
     "text": [
      "\n",
      "      Epoch    GPU_mem   box_loss   seg_loss   cls_loss   dfl_loss  Instances       Size\n"
     ]
    },
    {
     "name": "stderr",
     "output_type": "stream",
     "text": [
      "     77/100      2.99G     0.4655      0.625     0.6205     0.8889         22        640: 100%|██████████| 2/2 [00:00<00:00,  5.17it/s]\n",
      "                 Class     Images  Instances      Box(P          R      mAP50  mAP50-95)     Mask(P          R      mAP50  mAP50-95): 100%|██████████| 1/1 [00:00<00:00, 14.80it/s]"
     ]
    },
    {
     "name": "stdout",
     "output_type": "stream",
     "text": [
      "                   all          5          6      0.976      0.833      0.972      0.787      0.976      0.833      0.972      0.836\n"
     ]
    },
    {
     "name": "stderr",
     "output_type": "stream",
     "text": [
      "\n"
     ]
    },
    {
     "name": "stdout",
     "output_type": "stream",
     "text": [
      "\n",
      "      Epoch    GPU_mem   box_loss   seg_loss   cls_loss   dfl_loss  Instances       Size\n"
     ]
    },
    {
     "name": "stderr",
     "output_type": "stream",
     "text": [
      "     78/100      2.96G     0.5498      0.564     0.7438     0.9612         28        640: 100%|██████████| 2/2 [00:00<00:00,  4.97it/s]\n",
      "                 Class     Images  Instances      Box(P          R      mAP50  mAP50-95)     Mask(P          R      mAP50  mAP50-95): 100%|██████████| 1/1 [00:00<00:00, 12.40it/s]"
     ]
    },
    {
     "name": "stdout",
     "output_type": "stream",
     "text": [
      "                   all          5          6      0.961      0.833      0.915      0.735      0.961      0.833      0.955      0.804\n"
     ]
    },
    {
     "name": "stderr",
     "output_type": "stream",
     "text": [
      "\n"
     ]
    },
    {
     "name": "stdout",
     "output_type": "stream",
     "text": [
      "\n",
      "      Epoch    GPU_mem   box_loss   seg_loss   cls_loss   dfl_loss  Instances       Size\n"
     ]
    },
    {
     "name": "stderr",
     "output_type": "stream",
     "text": [
      "     79/100      2.97G     0.5406     0.4647     0.6928     0.9188         30        640: 100%|██████████| 2/2 [00:00<00:00,  5.62it/s]\n",
      "                 Class     Images  Instances      Box(P          R      mAP50  mAP50-95)     Mask(P          R      mAP50  mAP50-95): 100%|██████████| 1/1 [00:00<00:00, 12.65it/s]"
     ]
    },
    {
     "name": "stdout",
     "output_type": "stream",
     "text": [
      "                   all          5          6      0.961      0.833      0.915      0.735      0.961      0.833      0.955      0.804\n"
     ]
    },
    {
     "name": "stderr",
     "output_type": "stream",
     "text": [
      "\n"
     ]
    },
    {
     "name": "stdout",
     "output_type": "stream",
     "text": [
      "\n",
      "      Epoch    GPU_mem   box_loss   seg_loss   cls_loss   dfl_loss  Instances       Size\n"
     ]
    },
    {
     "name": "stderr",
     "output_type": "stream",
     "text": [
      "     80/100         3G     0.5554     0.6571      0.671     0.9583         23        640: 100%|██████████| 2/2 [00:00<00:00,  4.99it/s]\n",
      "                 Class     Images  Instances      Box(P          R      mAP50  mAP50-95)     Mask(P          R      mAP50  mAP50-95): 100%|██████████| 1/1 [00:00<00:00, 14.37it/s]"
     ]
    },
    {
     "name": "stdout",
     "output_type": "stream",
     "text": [
      "                   all          5          6      0.943      0.833      0.915      0.737      0.943      0.833      0.955      0.773\n"
     ]
    },
    {
     "name": "stderr",
     "output_type": "stream",
     "text": [
      "\n"
     ]
    },
    {
     "name": "stdout",
     "output_type": "stream",
     "text": [
      "\n",
      "      Epoch    GPU_mem   box_loss   seg_loss   cls_loss   dfl_loss  Instances       Size\n"
     ]
    },
    {
     "name": "stderr",
     "output_type": "stream",
     "text": [
      "     81/100      2.99G     0.5437      0.519     0.6761     0.9294         23        640: 100%|██████████| 2/2 [00:00<00:00,  5.39it/s]\n",
      "                 Class     Images  Instances      Box(P          R      mAP50  mAP50-95)     Mask(P          R      mAP50  mAP50-95): 100%|██████████| 1/1 [00:00<00:00, 14.51it/s]\n"
     ]
    },
    {
     "name": "stdout",
     "output_type": "stream",
     "text": [
      "                   all          5          6      0.943      0.833      0.915      0.737      0.943      0.833      0.955      0.773\n",
      "\n",
      "      Epoch    GPU_mem   box_loss   seg_loss   cls_loss   dfl_loss  Instances       Size\n"
     ]
    },
    {
     "name": "stderr",
     "output_type": "stream",
     "text": [
      "     82/100         3G     0.5792     0.5741     0.7553      0.927         26        640: 100%|██████████| 2/2 [00:00<00:00,  5.09it/s]\n",
      "                 Class     Images  Instances      Box(P          R      mAP50  mAP50-95)     Mask(P          R      mAP50  mAP50-95): 100%|██████████| 1/1 [00:00<00:00, 14.22it/s]"
     ]
    },
    {
     "name": "stdout",
     "output_type": "stream",
     "text": [
      "                   all          5          6      0.832      0.833      0.915      0.742       0.85          1      0.972      0.781\n"
     ]
    },
    {
     "name": "stderr",
     "output_type": "stream",
     "text": [
      "\n"
     ]
    },
    {
     "name": "stdout",
     "output_type": "stream",
     "text": [
      "\n",
      "      Epoch    GPU_mem   box_loss   seg_loss   cls_loss   dfl_loss  Instances       Size\n"
     ]
    },
    {
     "name": "stderr",
     "output_type": "stream",
     "text": [
      "     83/100      2.99G       0.48     0.5486     0.6419     0.8867         21        640: 100%|██████████| 2/2 [00:00<00:00,  5.60it/s]\n",
      "                 Class     Images  Instances      Box(P          R      mAP50  mAP50-95)     Mask(P          R      mAP50  mAP50-95): 100%|██████████| 1/1 [00:00<00:00, 14.45it/s]\n"
     ]
    },
    {
     "name": "stdout",
     "output_type": "stream",
     "text": [
      "                   all          5          6      0.832      0.833      0.915      0.742       0.85          1      0.972      0.781\n",
      "\n",
      "      Epoch    GPU_mem   box_loss   seg_loss   cls_loss   dfl_loss  Instances       Size\n"
     ]
    },
    {
     "name": "stderr",
     "output_type": "stream",
     "text": [
      "     84/100      2.98G     0.5577     0.6847     0.6675     0.9613         29        640: 100%|██████████| 2/2 [00:00<00:00,  5.14it/s]\n",
      "                 Class     Images  Instances      Box(P          R      mAP50  mAP50-95)     Mask(P          R      mAP50  mAP50-95): 100%|██████████| 1/1 [00:00<00:00, 13.77it/s]"
     ]
    },
    {
     "name": "stdout",
     "output_type": "stream",
     "text": [
      "                   all          5          6      0.794      0.833      0.915      0.741      0.854      0.977      0.972       0.74\n"
     ]
    },
    {
     "name": "stderr",
     "output_type": "stream",
     "text": [
      "\n"
     ]
    },
    {
     "name": "stdout",
     "output_type": "stream",
     "text": [
      "\n",
      "      Epoch    GPU_mem   box_loss   seg_loss   cls_loss   dfl_loss  Instances       Size\n"
     ]
    },
    {
     "name": "stderr",
     "output_type": "stream",
     "text": [
      "     85/100      2.95G     0.5201     0.5076     0.6836     0.9767         23        640: 100%|██████████| 2/2 [00:00<00:00,  5.26it/s]\n",
      "                 Class     Images  Instances      Box(P          R      mAP50  mAP50-95)     Mask(P          R      mAP50  mAP50-95): 100%|██████████| 1/1 [00:00<00:00, 13.90it/s]"
     ]
    },
    {
     "name": "stdout",
     "output_type": "stream",
     "text": [
      "                   all          5          6      0.794      0.833      0.915      0.741      0.854      0.977      0.972       0.74\n"
     ]
    },
    {
     "name": "stderr",
     "output_type": "stream",
     "text": [
      "\n"
     ]
    },
    {
     "name": "stdout",
     "output_type": "stream",
     "text": [
      "\n",
      "      Epoch    GPU_mem   box_loss   seg_loss   cls_loss   dfl_loss  Instances       Size\n"
     ]
    },
    {
     "name": "stderr",
     "output_type": "stream",
     "text": [
      "     86/100      3.01G     0.5675     0.4862     0.7473      1.025         17        640: 100%|██████████| 2/2 [00:00<00:00,  4.96it/s]\n",
      "                 Class     Images  Instances      Box(P          R      mAP50  mAP50-95)     Mask(P          R      mAP50  mAP50-95): 100%|██████████| 1/1 [00:00<00:00, 13.80it/s]"
     ]
    },
    {
     "name": "stdout",
     "output_type": "stream",
     "text": [
      "                   all          5          6      0.832      0.833      0.922      0.792      0.854          1      0.972      0.749\n"
     ]
    },
    {
     "name": "stderr",
     "output_type": "stream",
     "text": [
      "\n"
     ]
    },
    {
     "name": "stdout",
     "output_type": "stream",
     "text": [
      "\n",
      "      Epoch    GPU_mem   box_loss   seg_loss   cls_loss   dfl_loss  Instances       Size\n"
     ]
    },
    {
     "name": "stderr",
     "output_type": "stream",
     "text": [
      "     87/100      2.99G     0.4382     0.4756     0.6353     0.8885         30        640: 100%|██████████| 2/2 [00:00<00:00,  5.71it/s]\n",
      "                 Class     Images  Instances      Box(P          R      mAP50  mAP50-95)     Mask(P          R      mAP50  mAP50-95): 100%|██████████| 1/1 [00:00<00:00, 14.34it/s]"
     ]
    },
    {
     "name": "stdout",
     "output_type": "stream",
     "text": [
      "                   all          5          6      0.832      0.833      0.922      0.792      0.854          1      0.972      0.749\n"
     ]
    },
    {
     "name": "stderr",
     "output_type": "stream",
     "text": [
      "\n"
     ]
    },
    {
     "name": "stdout",
     "output_type": "stream",
     "text": [
      "\n",
      "      Epoch    GPU_mem   box_loss   seg_loss   cls_loss   dfl_loss  Instances       Size\n"
     ]
    },
    {
     "name": "stderr",
     "output_type": "stream",
     "text": [
      "     88/100         3G     0.5173     0.4168     0.6997     0.9499         18        640: 100%|██████████| 2/2 [00:00<00:00,  4.67it/s]\n",
      "                 Class     Images  Instances      Box(P          R      mAP50  mAP50-95)     Mask(P          R      mAP50  mAP50-95): 100%|██████████| 1/1 [00:00<00:00, 12.99it/s]"
     ]
    },
    {
     "name": "stdout",
     "output_type": "stream",
     "text": [
      "                   all          5          6       0.95      0.833      0.955      0.823      0.849          1      0.972      0.748\n"
     ]
    },
    {
     "name": "stderr",
     "output_type": "stream",
     "text": [
      "\n"
     ]
    },
    {
     "name": "stdout",
     "output_type": "stream",
     "text": [
      "\n",
      "      Epoch    GPU_mem   box_loss   seg_loss   cls_loss   dfl_loss  Instances       Size\n"
     ]
    },
    {
     "name": "stderr",
     "output_type": "stream",
     "text": [
      "     89/100      2.98G     0.4584     0.4764     0.5889     0.9391         34        640: 100%|██████████| 2/2 [00:00<00:00,  5.36it/s]\n",
      "                 Class     Images  Instances      Box(P          R      mAP50  mAP50-95)     Mask(P          R      mAP50  mAP50-95): 100%|██████████| 1/1 [00:00<00:00, 14.95it/s]"
     ]
    },
    {
     "name": "stdout",
     "output_type": "stream",
     "text": [
      "                   all          5          6       0.95      0.833      0.955      0.823      0.849          1      0.972      0.748\n"
     ]
    },
    {
     "name": "stderr",
     "output_type": "stream",
     "text": [
      "\n"
     ]
    },
    {
     "name": "stdout",
     "output_type": "stream",
     "text": [
      "\n",
      "      Epoch    GPU_mem   box_loss   seg_loss   cls_loss   dfl_loss  Instances       Size\n"
     ]
    },
    {
     "name": "stderr",
     "output_type": "stream",
     "text": [
      "     90/100      2.94G     0.4995       0.53     0.6584     0.9633         24        640: 100%|██████████| 2/2 [00:00<00:00,  5.27it/s]\n",
      "                 Class     Images  Instances      Box(P          R      mAP50  mAP50-95)     Mask(P          R      mAP50  mAP50-95): 100%|██████████| 1/1 [00:00<00:00, 12.67it/s]"
     ]
    },
    {
     "name": "stdout",
     "output_type": "stream",
     "text": [
      "                   all          5          6          1      0.971      0.995      0.882      0.837          1      0.972      0.775\n"
     ]
    },
    {
     "name": "stderr",
     "output_type": "stream",
     "text": [
      "\n"
     ]
    },
    {
     "name": "stdout",
     "output_type": "stream",
     "text": [
      "Closing dataloader mosaic\n",
      "\n",
      "      Epoch    GPU_mem   box_loss   seg_loss   cls_loss   dfl_loss  Instances       Size\n"
     ]
    },
    {
     "name": "stderr",
     "output_type": "stream",
     "text": [
      "     91/100      2.87G     0.2733      0.513     0.6708     0.7487         11        640: 100%|██████████| 2/2 [00:00<00:00,  2.63it/s]\n",
      "                 Class     Images  Instances      Box(P          R      mAP50  mAP50-95)     Mask(P          R      mAP50  mAP50-95): 100%|██████████| 1/1 [00:00<00:00,  3.52it/s]"
     ]
    },
    {
     "name": "stdout",
     "output_type": "stream",
     "text": [
      "                   all          5          6          1      0.971      0.995      0.882      0.837          1      0.972      0.775\n"
     ]
    },
    {
     "name": "stderr",
     "output_type": "stream",
     "text": [
      "\n"
     ]
    },
    {
     "name": "stdout",
     "output_type": "stream",
     "text": [
      "\n",
      "      Epoch    GPU_mem   box_loss   seg_loss   cls_loss   dfl_loss  Instances       Size\n"
     ]
    },
    {
     "name": "stderr",
     "output_type": "stream",
     "text": [
      "     92/100      2.88G      0.311      0.471     0.7909     0.8208         11        640: 100%|██████████| 2/2 [00:00<00:00,  3.86it/s]\n",
      "                 Class     Images  Instances      Box(P          R      mAP50  mAP50-95)     Mask(P          R      mAP50  mAP50-95): 100%|██████████| 1/1 [00:00<00:00,  7.87it/s]"
     ]
    },
    {
     "name": "stdout",
     "output_type": "stream",
     "text": [
      "                   all          5          6          1      0.963      0.995      0.945          1      0.963      0.995      0.846\n"
     ]
    },
    {
     "name": "stderr",
     "output_type": "stream",
     "text": [
      "\n"
     ]
    },
    {
     "name": "stdout",
     "output_type": "stream",
     "text": [
      "\n",
      "      Epoch    GPU_mem   box_loss   seg_loss   cls_loss   dfl_loss  Instances       Size\n"
     ]
    },
    {
     "name": "stderr",
     "output_type": "stream",
     "text": [
      "     93/100       2.9G     0.3197     0.4405      0.916     0.7771          8        640: 100%|██████████| 2/2 [00:00<00:00,  5.56it/s]\n",
      "                 Class     Images  Instances      Box(P          R      mAP50  mAP50-95)     Mask(P          R      mAP50  mAP50-95): 100%|██████████| 1/1 [00:00<00:00, 14.30it/s]"
     ]
    },
    {
     "name": "stdout",
     "output_type": "stream",
     "text": [
      "                   all          5          6          1      0.963      0.995      0.945          1      0.963      0.995      0.846\n"
     ]
    },
    {
     "name": "stderr",
     "output_type": "stream",
     "text": [
      "\n"
     ]
    },
    {
     "name": "stdout",
     "output_type": "stream",
     "text": [
      "\n",
      "      Epoch    GPU_mem   box_loss   seg_loss   cls_loss   dfl_loss  Instances       Size\n"
     ]
    },
    {
     "name": "stderr",
     "output_type": "stream",
     "text": [
      "     94/100      2.88G     0.2945     0.4365      0.735     0.8192         11        640: 100%|██████████| 2/2 [00:00<00:00,  5.19it/s]\n",
      "                 Class     Images  Instances      Box(P          R      mAP50  mAP50-95)     Mask(P          R      mAP50  mAP50-95): 100%|██████████| 1/1 [00:00<00:00, 14.10it/s]"
     ]
    },
    {
     "name": "stdout",
     "output_type": "stream",
     "text": [
      "                   all          5          6      0.991          1      0.995      0.959      0.991          1      0.995      0.846\n"
     ]
    },
    {
     "name": "stderr",
     "output_type": "stream",
     "text": [
      "\n"
     ]
    },
    {
     "name": "stdout",
     "output_type": "stream",
     "text": [
      "\n",
      "      Epoch    GPU_mem   box_loss   seg_loss   cls_loss   dfl_loss  Instances       Size\n"
     ]
    },
    {
     "name": "stderr",
     "output_type": "stream",
     "text": [
      "     95/100      2.88G     0.2553     0.3574     0.6694     0.8078          9        640: 100%|██████████| 2/2 [00:00<00:00,  5.70it/s]\n",
      "                 Class     Images  Instances      Box(P          R      mAP50  mAP50-95)     Mask(P          R      mAP50  mAP50-95): 100%|██████████| 1/1 [00:00<00:00, 14.47it/s]\n"
     ]
    },
    {
     "name": "stdout",
     "output_type": "stream",
     "text": [
      "                   all          5          6      0.991          1      0.995      0.959      0.991          1      0.995      0.846\n",
      "\n",
      "      Epoch    GPU_mem   box_loss   seg_loss   cls_loss   dfl_loss  Instances       Size\n"
     ]
    },
    {
     "name": "stderr",
     "output_type": "stream",
     "text": [
      "     96/100      2.88G     0.2792     0.4063     0.6763     0.7591         11        640: 100%|██████████| 2/2 [00:00<00:00,  4.67it/s]\n",
      "                 Class     Images  Instances      Box(P          R      mAP50  mAP50-95)     Mask(P          R      mAP50  mAP50-95): 100%|██████████| 1/1 [00:00<00:00, 13.95it/s]"
     ]
    },
    {
     "name": "stdout",
     "output_type": "stream",
     "text": [
      "                   all          5          6      0.991          1      0.995      0.929      0.991          1      0.995      0.846\n"
     ]
    },
    {
     "name": "stderr",
     "output_type": "stream",
     "text": [
      "\n"
     ]
    },
    {
     "name": "stdout",
     "output_type": "stream",
     "text": [
      "\n",
      "      Epoch    GPU_mem   box_loss   seg_loss   cls_loss   dfl_loss  Instances       Size\n"
     ]
    },
    {
     "name": "stderr",
     "output_type": "stream",
     "text": [
      "     97/100      2.87G     0.2794     0.3868     0.6758     0.7795         10        640: 100%|██████████| 2/2 [00:00<00:00,  5.44it/s]\n",
      "                 Class     Images  Instances      Box(P          R      mAP50  mAP50-95)     Mask(P          R      mAP50  mAP50-95): 100%|██████████| 1/1 [00:00<00:00, 13.84it/s]\n"
     ]
    },
    {
     "name": "stdout",
     "output_type": "stream",
     "text": [
      "                   all          5          6      0.991          1      0.995      0.929      0.991          1      0.995      0.846\n",
      "\n",
      "      Epoch    GPU_mem   box_loss   seg_loss   cls_loss   dfl_loss  Instances       Size\n"
     ]
    },
    {
     "name": "stderr",
     "output_type": "stream",
     "text": [
      "     98/100      2.88G     0.2835     0.3646     0.6721     0.8237         11        640: 100%|██████████| 2/2 [00:00<00:00,  5.14it/s]\n",
      "                 Class     Images  Instances      Box(P          R      mAP50  mAP50-95)     Mask(P          R      mAP50  mAP50-95): 100%|██████████| 1/1 [00:00<00:00, 14.07it/s]"
     ]
    },
    {
     "name": "stdout",
     "output_type": "stream",
     "text": [
      "                   all          5          6       0.99          1      0.995      0.929       0.99          1      0.995      0.871\n"
     ]
    },
    {
     "name": "stderr",
     "output_type": "stream",
     "text": [
      "\n"
     ]
    },
    {
     "name": "stdout",
     "output_type": "stream",
     "text": [
      "\n",
      "      Epoch    GPU_mem   box_loss   seg_loss   cls_loss   dfl_loss  Instances       Size\n"
     ]
    },
    {
     "name": "stderr",
     "output_type": "stream",
     "text": [
      "     99/100      2.87G      0.263     0.3842     0.6561     0.7969         11        640: 100%|██████████| 2/2 [00:00<00:00,  5.16it/s]\n",
      "                 Class     Images  Instances      Box(P          R      mAP50  mAP50-95)     Mask(P          R      mAP50  mAP50-95): 100%|██████████| 1/1 [00:00<00:00, 13.35it/s]"
     ]
    },
    {
     "name": "stdout",
     "output_type": "stream",
     "text": [
      "                   all          5          6       0.99          1      0.995      0.929       0.99          1      0.995      0.871\n"
     ]
    },
    {
     "name": "stderr",
     "output_type": "stream",
     "text": [
      "\n"
     ]
    },
    {
     "name": "stdout",
     "output_type": "stream",
     "text": [
      "\n",
      "      Epoch    GPU_mem   box_loss   seg_loss   cls_loss   dfl_loss  Instances       Size\n"
     ]
    },
    {
     "name": "stderr",
     "output_type": "stream",
     "text": [
      "    100/100      2.88G     0.2543     0.4185     0.6768     0.7809         10        640: 100%|██████████| 2/2 [00:00<00:00,  5.10it/s]\n",
      "                 Class     Images  Instances      Box(P          R      mAP50  mAP50-95)     Mask(P          R      mAP50  mAP50-95): 100%|██████████| 1/1 [00:00<00:00, 14.08it/s]"
     ]
    },
    {
     "name": "stdout",
     "output_type": "stream",
     "text": [
      "                   all          5          6      0.991          1      0.995      0.929      0.991          1      0.995      0.877\n"
     ]
    },
    {
     "name": "stderr",
     "output_type": "stream",
     "text": [
      "\n"
     ]
    },
    {
     "name": "stdout",
     "output_type": "stream",
     "text": [
      "\n",
      "100 epochs completed in 0.028 hours.\n",
      "Optimizer stripped from runs/segment/train6/weights/last.pt, 6.0MB\n",
      "Optimizer stripped from runs/segment/train6/weights/best.pt, 6.0MB\n",
      "\n",
      "Validating runs/segment/train6/weights/best.pt...\n",
      "Ultralytics 8.3.40 🚀 Python-3.10.15 torch-2.5.1+cu118 CUDA:0 (NVIDIA GeForce RTX 3060, 12287MiB)\n",
      "YOLO11n-seg summary (fused): 265 layers, 2,834,763 parameters, 0 gradients, 10.2 GFLOPs\n"
     ]
    },
    {
     "name": "stderr",
     "output_type": "stream",
     "text": [
      "                 Class     Images  Instances      Box(P          R      mAP50  mAP50-95)     Mask(P          R      mAP50  mAP50-95): 100%|██████████| 1/1 [00:00<00:00, 14.31it/s]\n"
     ]
    },
    {
     "name": "stdout",
     "output_type": "stream",
     "text": [
      "                   all          5          6      0.991          1      0.995      0.929      0.991          1      0.995      0.877\n",
      "Speed: 0.3ms preprocess, 3.2ms inference, 0.0ms loss, 1.8ms postprocess per image\n",
      "Results saved to \u001b[1mruns/segment/train6\u001b[0m\n"
     ]
    }
   ],
   "source": [
    "model = YOLO(\"checkpoint/yolo11n-seg.pt\")\n",
    "model.to(DEVICE)\n",
    "\n",
    "model.train(data=\"config_1.yaml\", epochs=100, imgsz=640)\n",
    "model.save(\"checkpoint/fighter_1.pt\")"
   ]
  },
  {
   "cell_type": "code",
   "execution_count": 10,
   "metadata": {},
   "outputs": [
    {
     "data": {
      "text/plain": [
       "YOLO(\n",
       "  (model): SegmentationModel(\n",
       "    (model): Sequential(\n",
       "      (0): Conv(\n",
       "        (conv): Conv2d(3, 16, kernel_size=(3, 3), stride=(2, 2), padding=(1, 1), bias=False)\n",
       "        (bn): BatchNorm2d(16, eps=0.001, momentum=0.03, affine=True, track_running_stats=True)\n",
       "        (act): SiLU(inplace=True)\n",
       "      )\n",
       "      (1): Conv(\n",
       "        (conv): Conv2d(16, 32, kernel_size=(3, 3), stride=(2, 2), padding=(1, 1), bias=False)\n",
       "        (bn): BatchNorm2d(32, eps=0.001, momentum=0.03, affine=True, track_running_stats=True)\n",
       "        (act): SiLU(inplace=True)\n",
       "      )\n",
       "      (2): C3k2(\n",
       "        (cv1): Conv(\n",
       "          (conv): Conv2d(32, 32, kernel_size=(1, 1), stride=(1, 1), bias=False)\n",
       "          (bn): BatchNorm2d(32, eps=0.001, momentum=0.03, affine=True, track_running_stats=True)\n",
       "          (act): SiLU(inplace=True)\n",
       "        )\n",
       "        (cv2): Conv(\n",
       "          (conv): Conv2d(48, 64, kernel_size=(1, 1), stride=(1, 1), bias=False)\n",
       "          (bn): BatchNorm2d(64, eps=0.001, momentum=0.03, affine=True, track_running_stats=True)\n",
       "          (act): SiLU(inplace=True)\n",
       "        )\n",
       "        (m): ModuleList(\n",
       "          (0): Bottleneck(\n",
       "            (cv1): Conv(\n",
       "              (conv): Conv2d(16, 8, kernel_size=(3, 3), stride=(1, 1), padding=(1, 1), bias=False)\n",
       "              (bn): BatchNorm2d(8, eps=0.001, momentum=0.03, affine=True, track_running_stats=True)\n",
       "              (act): SiLU(inplace=True)\n",
       "            )\n",
       "            (cv2): Conv(\n",
       "              (conv): Conv2d(8, 16, kernel_size=(3, 3), stride=(1, 1), padding=(1, 1), bias=False)\n",
       "              (bn): BatchNorm2d(16, eps=0.001, momentum=0.03, affine=True, track_running_stats=True)\n",
       "              (act): SiLU(inplace=True)\n",
       "            )\n",
       "          )\n",
       "        )\n",
       "      )\n",
       "      (3): Conv(\n",
       "        (conv): Conv2d(64, 64, kernel_size=(3, 3), stride=(2, 2), padding=(1, 1), bias=False)\n",
       "        (bn): BatchNorm2d(64, eps=0.001, momentum=0.03, affine=True, track_running_stats=True)\n",
       "        (act): SiLU(inplace=True)\n",
       "      )\n",
       "      (4): C3k2(\n",
       "        (cv1): Conv(\n",
       "          (conv): Conv2d(64, 64, kernel_size=(1, 1), stride=(1, 1), bias=False)\n",
       "          (bn): BatchNorm2d(64, eps=0.001, momentum=0.03, affine=True, track_running_stats=True)\n",
       "          (act): SiLU(inplace=True)\n",
       "        )\n",
       "        (cv2): Conv(\n",
       "          (conv): Conv2d(96, 128, kernel_size=(1, 1), stride=(1, 1), bias=False)\n",
       "          (bn): BatchNorm2d(128, eps=0.001, momentum=0.03, affine=True, track_running_stats=True)\n",
       "          (act): SiLU(inplace=True)\n",
       "        )\n",
       "        (m): ModuleList(\n",
       "          (0): Bottleneck(\n",
       "            (cv1): Conv(\n",
       "              (conv): Conv2d(32, 16, kernel_size=(3, 3), stride=(1, 1), padding=(1, 1), bias=False)\n",
       "              (bn): BatchNorm2d(16, eps=0.001, momentum=0.03, affine=True, track_running_stats=True)\n",
       "              (act): SiLU(inplace=True)\n",
       "            )\n",
       "            (cv2): Conv(\n",
       "              (conv): Conv2d(16, 32, kernel_size=(3, 3), stride=(1, 1), padding=(1, 1), bias=False)\n",
       "              (bn): BatchNorm2d(32, eps=0.001, momentum=0.03, affine=True, track_running_stats=True)\n",
       "              (act): SiLU(inplace=True)\n",
       "            )\n",
       "          )\n",
       "        )\n",
       "      )\n",
       "      (5): Conv(\n",
       "        (conv): Conv2d(128, 128, kernel_size=(3, 3), stride=(2, 2), padding=(1, 1), bias=False)\n",
       "        (bn): BatchNorm2d(128, eps=0.001, momentum=0.03, affine=True, track_running_stats=True)\n",
       "        (act): SiLU(inplace=True)\n",
       "      )\n",
       "      (6): C3k2(\n",
       "        (cv1): Conv(\n",
       "          (conv): Conv2d(128, 128, kernel_size=(1, 1), stride=(1, 1), bias=False)\n",
       "          (bn): BatchNorm2d(128, eps=0.001, momentum=0.03, affine=True, track_running_stats=True)\n",
       "          (act): SiLU(inplace=True)\n",
       "        )\n",
       "        (cv2): Conv(\n",
       "          (conv): Conv2d(192, 128, kernel_size=(1, 1), stride=(1, 1), bias=False)\n",
       "          (bn): BatchNorm2d(128, eps=0.001, momentum=0.03, affine=True, track_running_stats=True)\n",
       "          (act): SiLU(inplace=True)\n",
       "        )\n",
       "        (m): ModuleList(\n",
       "          (0): C3k(\n",
       "            (cv1): Conv(\n",
       "              (conv): Conv2d(64, 32, kernel_size=(1, 1), stride=(1, 1), bias=False)\n",
       "              (bn): BatchNorm2d(32, eps=0.001, momentum=0.03, affine=True, track_running_stats=True)\n",
       "              (act): SiLU(inplace=True)\n",
       "            )\n",
       "            (cv2): Conv(\n",
       "              (conv): Conv2d(64, 32, kernel_size=(1, 1), stride=(1, 1), bias=False)\n",
       "              (bn): BatchNorm2d(32, eps=0.001, momentum=0.03, affine=True, track_running_stats=True)\n",
       "              (act): SiLU(inplace=True)\n",
       "            )\n",
       "            (cv3): Conv(\n",
       "              (conv): Conv2d(64, 64, kernel_size=(1, 1), stride=(1, 1), bias=False)\n",
       "              (bn): BatchNorm2d(64, eps=0.001, momentum=0.03, affine=True, track_running_stats=True)\n",
       "              (act): SiLU(inplace=True)\n",
       "            )\n",
       "            (m): Sequential(\n",
       "              (0): Bottleneck(\n",
       "                (cv1): Conv(\n",
       "                  (conv): Conv2d(32, 32, kernel_size=(3, 3), stride=(1, 1), padding=(1, 1), bias=False)\n",
       "                  (bn): BatchNorm2d(32, eps=0.001, momentum=0.03, affine=True, track_running_stats=True)\n",
       "                  (act): SiLU(inplace=True)\n",
       "                )\n",
       "                (cv2): Conv(\n",
       "                  (conv): Conv2d(32, 32, kernel_size=(3, 3), stride=(1, 1), padding=(1, 1), bias=False)\n",
       "                  (bn): BatchNorm2d(32, eps=0.001, momentum=0.03, affine=True, track_running_stats=True)\n",
       "                  (act): SiLU(inplace=True)\n",
       "                )\n",
       "              )\n",
       "              (1): Bottleneck(\n",
       "                (cv1): Conv(\n",
       "                  (conv): Conv2d(32, 32, kernel_size=(3, 3), stride=(1, 1), padding=(1, 1), bias=False)\n",
       "                  (bn): BatchNorm2d(32, eps=0.001, momentum=0.03, affine=True, track_running_stats=True)\n",
       "                  (act): SiLU(inplace=True)\n",
       "                )\n",
       "                (cv2): Conv(\n",
       "                  (conv): Conv2d(32, 32, kernel_size=(3, 3), stride=(1, 1), padding=(1, 1), bias=False)\n",
       "                  (bn): BatchNorm2d(32, eps=0.001, momentum=0.03, affine=True, track_running_stats=True)\n",
       "                  (act): SiLU(inplace=True)\n",
       "                )\n",
       "              )\n",
       "            )\n",
       "          )\n",
       "        )\n",
       "      )\n",
       "      (7): Conv(\n",
       "        (conv): Conv2d(128, 256, kernel_size=(3, 3), stride=(2, 2), padding=(1, 1), bias=False)\n",
       "        (bn): BatchNorm2d(256, eps=0.001, momentum=0.03, affine=True, track_running_stats=True)\n",
       "        (act): SiLU(inplace=True)\n",
       "      )\n",
       "      (8): C3k2(\n",
       "        (cv1): Conv(\n",
       "          (conv): Conv2d(256, 256, kernel_size=(1, 1), stride=(1, 1), bias=False)\n",
       "          (bn): BatchNorm2d(256, eps=0.001, momentum=0.03, affine=True, track_running_stats=True)\n",
       "          (act): SiLU(inplace=True)\n",
       "        )\n",
       "        (cv2): Conv(\n",
       "          (conv): Conv2d(384, 256, kernel_size=(1, 1), stride=(1, 1), bias=False)\n",
       "          (bn): BatchNorm2d(256, eps=0.001, momentum=0.03, affine=True, track_running_stats=True)\n",
       "          (act): SiLU(inplace=True)\n",
       "        )\n",
       "        (m): ModuleList(\n",
       "          (0): C3k(\n",
       "            (cv1): Conv(\n",
       "              (conv): Conv2d(128, 64, kernel_size=(1, 1), stride=(1, 1), bias=False)\n",
       "              (bn): BatchNorm2d(64, eps=0.001, momentum=0.03, affine=True, track_running_stats=True)\n",
       "              (act): SiLU(inplace=True)\n",
       "            )\n",
       "            (cv2): Conv(\n",
       "              (conv): Conv2d(128, 64, kernel_size=(1, 1), stride=(1, 1), bias=False)\n",
       "              (bn): BatchNorm2d(64, eps=0.001, momentum=0.03, affine=True, track_running_stats=True)\n",
       "              (act): SiLU(inplace=True)\n",
       "            )\n",
       "            (cv3): Conv(\n",
       "              (conv): Conv2d(128, 128, kernel_size=(1, 1), stride=(1, 1), bias=False)\n",
       "              (bn): BatchNorm2d(128, eps=0.001, momentum=0.03, affine=True, track_running_stats=True)\n",
       "              (act): SiLU(inplace=True)\n",
       "            )\n",
       "            (m): Sequential(\n",
       "              (0): Bottleneck(\n",
       "                (cv1): Conv(\n",
       "                  (conv): Conv2d(64, 64, kernel_size=(3, 3), stride=(1, 1), padding=(1, 1), bias=False)\n",
       "                  (bn): BatchNorm2d(64, eps=0.001, momentum=0.03, affine=True, track_running_stats=True)\n",
       "                  (act): SiLU(inplace=True)\n",
       "                )\n",
       "                (cv2): Conv(\n",
       "                  (conv): Conv2d(64, 64, kernel_size=(3, 3), stride=(1, 1), padding=(1, 1), bias=False)\n",
       "                  (bn): BatchNorm2d(64, eps=0.001, momentum=0.03, affine=True, track_running_stats=True)\n",
       "                  (act): SiLU(inplace=True)\n",
       "                )\n",
       "              )\n",
       "              (1): Bottleneck(\n",
       "                (cv1): Conv(\n",
       "                  (conv): Conv2d(64, 64, kernel_size=(3, 3), stride=(1, 1), padding=(1, 1), bias=False)\n",
       "                  (bn): BatchNorm2d(64, eps=0.001, momentum=0.03, affine=True, track_running_stats=True)\n",
       "                  (act): SiLU(inplace=True)\n",
       "                )\n",
       "                (cv2): Conv(\n",
       "                  (conv): Conv2d(64, 64, kernel_size=(3, 3), stride=(1, 1), padding=(1, 1), bias=False)\n",
       "                  (bn): BatchNorm2d(64, eps=0.001, momentum=0.03, affine=True, track_running_stats=True)\n",
       "                  (act): SiLU(inplace=True)\n",
       "                )\n",
       "              )\n",
       "            )\n",
       "          )\n",
       "        )\n",
       "      )\n",
       "      (9): SPPF(\n",
       "        (cv1): Conv(\n",
       "          (conv): Conv2d(256, 128, kernel_size=(1, 1), stride=(1, 1), bias=False)\n",
       "          (bn): BatchNorm2d(128, eps=0.001, momentum=0.03, affine=True, track_running_stats=True)\n",
       "          (act): SiLU(inplace=True)\n",
       "        )\n",
       "        (cv2): Conv(\n",
       "          (conv): Conv2d(512, 256, kernel_size=(1, 1), stride=(1, 1), bias=False)\n",
       "          (bn): BatchNorm2d(256, eps=0.001, momentum=0.03, affine=True, track_running_stats=True)\n",
       "          (act): SiLU(inplace=True)\n",
       "        )\n",
       "        (m): MaxPool2d(kernel_size=5, stride=1, padding=2, dilation=1, ceil_mode=False)\n",
       "      )\n",
       "      (10): C2PSA(\n",
       "        (cv1): Conv(\n",
       "          (conv): Conv2d(256, 256, kernel_size=(1, 1), stride=(1, 1), bias=False)\n",
       "          (bn): BatchNorm2d(256, eps=0.001, momentum=0.03, affine=True, track_running_stats=True)\n",
       "          (act): SiLU(inplace=True)\n",
       "        )\n",
       "        (cv2): Conv(\n",
       "          (conv): Conv2d(256, 256, kernel_size=(1, 1), stride=(1, 1), bias=False)\n",
       "          (bn): BatchNorm2d(256, eps=0.001, momentum=0.03, affine=True, track_running_stats=True)\n",
       "          (act): SiLU(inplace=True)\n",
       "        )\n",
       "        (m): Sequential(\n",
       "          (0): PSABlock(\n",
       "            (attn): Attention(\n",
       "              (qkv): Conv(\n",
       "                (conv): Conv2d(128, 256, kernel_size=(1, 1), stride=(1, 1), bias=False)\n",
       "                (bn): BatchNorm2d(256, eps=0.001, momentum=0.03, affine=True, track_running_stats=True)\n",
       "                (act): Identity()\n",
       "              )\n",
       "              (proj): Conv(\n",
       "                (conv): Conv2d(128, 128, kernel_size=(1, 1), stride=(1, 1), bias=False)\n",
       "                (bn): BatchNorm2d(128, eps=0.001, momentum=0.03, affine=True, track_running_stats=True)\n",
       "                (act): Identity()\n",
       "              )\n",
       "              (pe): Conv(\n",
       "                (conv): Conv2d(128, 128, kernel_size=(3, 3), stride=(1, 1), padding=(1, 1), groups=128, bias=False)\n",
       "                (bn): BatchNorm2d(128, eps=0.001, momentum=0.03, affine=True, track_running_stats=True)\n",
       "                (act): Identity()\n",
       "              )\n",
       "            )\n",
       "            (ffn): Sequential(\n",
       "              (0): Conv(\n",
       "                (conv): Conv2d(128, 256, kernel_size=(1, 1), stride=(1, 1), bias=False)\n",
       "                (bn): BatchNorm2d(256, eps=0.001, momentum=0.03, affine=True, track_running_stats=True)\n",
       "                (act): SiLU(inplace=True)\n",
       "              )\n",
       "              (1): Conv(\n",
       "                (conv): Conv2d(256, 128, kernel_size=(1, 1), stride=(1, 1), bias=False)\n",
       "                (bn): BatchNorm2d(128, eps=0.001, momentum=0.03, affine=True, track_running_stats=True)\n",
       "                (act): Identity()\n",
       "              )\n",
       "            )\n",
       "          )\n",
       "        )\n",
       "      )\n",
       "      (11): Upsample(scale_factor=2.0, mode='nearest')\n",
       "      (12): Concat()\n",
       "      (13): C3k2(\n",
       "        (cv1): Conv(\n",
       "          (conv): Conv2d(384, 128, kernel_size=(1, 1), stride=(1, 1), bias=False)\n",
       "          (bn): BatchNorm2d(128, eps=0.001, momentum=0.03, affine=True, track_running_stats=True)\n",
       "          (act): SiLU(inplace=True)\n",
       "        )\n",
       "        (cv2): Conv(\n",
       "          (conv): Conv2d(192, 128, kernel_size=(1, 1), stride=(1, 1), bias=False)\n",
       "          (bn): BatchNorm2d(128, eps=0.001, momentum=0.03, affine=True, track_running_stats=True)\n",
       "          (act): SiLU(inplace=True)\n",
       "        )\n",
       "        (m): ModuleList(\n",
       "          (0): Bottleneck(\n",
       "            (cv1): Conv(\n",
       "              (conv): Conv2d(64, 32, kernel_size=(3, 3), stride=(1, 1), padding=(1, 1), bias=False)\n",
       "              (bn): BatchNorm2d(32, eps=0.001, momentum=0.03, affine=True, track_running_stats=True)\n",
       "              (act): SiLU(inplace=True)\n",
       "            )\n",
       "            (cv2): Conv(\n",
       "              (conv): Conv2d(32, 64, kernel_size=(3, 3), stride=(1, 1), padding=(1, 1), bias=False)\n",
       "              (bn): BatchNorm2d(64, eps=0.001, momentum=0.03, affine=True, track_running_stats=True)\n",
       "              (act): SiLU(inplace=True)\n",
       "            )\n",
       "          )\n",
       "        )\n",
       "      )\n",
       "      (14): Upsample(scale_factor=2.0, mode='nearest')\n",
       "      (15): Concat()\n",
       "      (16): C3k2(\n",
       "        (cv1): Conv(\n",
       "          (conv): Conv2d(256, 64, kernel_size=(1, 1), stride=(1, 1), bias=False)\n",
       "          (bn): BatchNorm2d(64, eps=0.001, momentum=0.03, affine=True, track_running_stats=True)\n",
       "          (act): SiLU(inplace=True)\n",
       "        )\n",
       "        (cv2): Conv(\n",
       "          (conv): Conv2d(96, 64, kernel_size=(1, 1), stride=(1, 1), bias=False)\n",
       "          (bn): BatchNorm2d(64, eps=0.001, momentum=0.03, affine=True, track_running_stats=True)\n",
       "          (act): SiLU(inplace=True)\n",
       "        )\n",
       "        (m): ModuleList(\n",
       "          (0): Bottleneck(\n",
       "            (cv1): Conv(\n",
       "              (conv): Conv2d(32, 16, kernel_size=(3, 3), stride=(1, 1), padding=(1, 1), bias=False)\n",
       "              (bn): BatchNorm2d(16, eps=0.001, momentum=0.03, affine=True, track_running_stats=True)\n",
       "              (act): SiLU(inplace=True)\n",
       "            )\n",
       "            (cv2): Conv(\n",
       "              (conv): Conv2d(16, 32, kernel_size=(3, 3), stride=(1, 1), padding=(1, 1), bias=False)\n",
       "              (bn): BatchNorm2d(32, eps=0.001, momentum=0.03, affine=True, track_running_stats=True)\n",
       "              (act): SiLU(inplace=True)\n",
       "            )\n",
       "          )\n",
       "        )\n",
       "      )\n",
       "      (17): Conv(\n",
       "        (conv): Conv2d(64, 64, kernel_size=(3, 3), stride=(2, 2), padding=(1, 1), bias=False)\n",
       "        (bn): BatchNorm2d(64, eps=0.001, momentum=0.03, affine=True, track_running_stats=True)\n",
       "        (act): SiLU(inplace=True)\n",
       "      )\n",
       "      (18): Concat()\n",
       "      (19): C3k2(\n",
       "        (cv1): Conv(\n",
       "          (conv): Conv2d(192, 128, kernel_size=(1, 1), stride=(1, 1), bias=False)\n",
       "          (bn): BatchNorm2d(128, eps=0.001, momentum=0.03, affine=True, track_running_stats=True)\n",
       "          (act): SiLU(inplace=True)\n",
       "        )\n",
       "        (cv2): Conv(\n",
       "          (conv): Conv2d(192, 128, kernel_size=(1, 1), stride=(1, 1), bias=False)\n",
       "          (bn): BatchNorm2d(128, eps=0.001, momentum=0.03, affine=True, track_running_stats=True)\n",
       "          (act): SiLU(inplace=True)\n",
       "        )\n",
       "        (m): ModuleList(\n",
       "          (0): Bottleneck(\n",
       "            (cv1): Conv(\n",
       "              (conv): Conv2d(64, 32, kernel_size=(3, 3), stride=(1, 1), padding=(1, 1), bias=False)\n",
       "              (bn): BatchNorm2d(32, eps=0.001, momentum=0.03, affine=True, track_running_stats=True)\n",
       "              (act): SiLU(inplace=True)\n",
       "            )\n",
       "            (cv2): Conv(\n",
       "              (conv): Conv2d(32, 64, kernel_size=(3, 3), stride=(1, 1), padding=(1, 1), bias=False)\n",
       "              (bn): BatchNorm2d(64, eps=0.001, momentum=0.03, affine=True, track_running_stats=True)\n",
       "              (act): SiLU(inplace=True)\n",
       "            )\n",
       "          )\n",
       "        )\n",
       "      )\n",
       "      (20): Conv(\n",
       "        (conv): Conv2d(128, 128, kernel_size=(3, 3), stride=(2, 2), padding=(1, 1), bias=False)\n",
       "        (bn): BatchNorm2d(128, eps=0.001, momentum=0.03, affine=True, track_running_stats=True)\n",
       "        (act): SiLU(inplace=True)\n",
       "      )\n",
       "      (21): Concat()\n",
       "      (22): C3k2(\n",
       "        (cv1): Conv(\n",
       "          (conv): Conv2d(384, 256, kernel_size=(1, 1), stride=(1, 1), bias=False)\n",
       "          (bn): BatchNorm2d(256, eps=0.001, momentum=0.03, affine=True, track_running_stats=True)\n",
       "          (act): SiLU(inplace=True)\n",
       "        )\n",
       "        (cv2): Conv(\n",
       "          (conv): Conv2d(384, 256, kernel_size=(1, 1), stride=(1, 1), bias=False)\n",
       "          (bn): BatchNorm2d(256, eps=0.001, momentum=0.03, affine=True, track_running_stats=True)\n",
       "          (act): SiLU(inplace=True)\n",
       "        )\n",
       "        (m): ModuleList(\n",
       "          (0): C3k(\n",
       "            (cv1): Conv(\n",
       "              (conv): Conv2d(128, 64, kernel_size=(1, 1), stride=(1, 1), bias=False)\n",
       "              (bn): BatchNorm2d(64, eps=0.001, momentum=0.03, affine=True, track_running_stats=True)\n",
       "              (act): SiLU(inplace=True)\n",
       "            )\n",
       "            (cv2): Conv(\n",
       "              (conv): Conv2d(128, 64, kernel_size=(1, 1), stride=(1, 1), bias=False)\n",
       "              (bn): BatchNorm2d(64, eps=0.001, momentum=0.03, affine=True, track_running_stats=True)\n",
       "              (act): SiLU(inplace=True)\n",
       "            )\n",
       "            (cv3): Conv(\n",
       "              (conv): Conv2d(128, 128, kernel_size=(1, 1), stride=(1, 1), bias=False)\n",
       "              (bn): BatchNorm2d(128, eps=0.001, momentum=0.03, affine=True, track_running_stats=True)\n",
       "              (act): SiLU(inplace=True)\n",
       "            )\n",
       "            (m): Sequential(\n",
       "              (0): Bottleneck(\n",
       "                (cv1): Conv(\n",
       "                  (conv): Conv2d(64, 64, kernel_size=(3, 3), stride=(1, 1), padding=(1, 1), bias=False)\n",
       "                  (bn): BatchNorm2d(64, eps=0.001, momentum=0.03, affine=True, track_running_stats=True)\n",
       "                  (act): SiLU(inplace=True)\n",
       "                )\n",
       "                (cv2): Conv(\n",
       "                  (conv): Conv2d(64, 64, kernel_size=(3, 3), stride=(1, 1), padding=(1, 1), bias=False)\n",
       "                  (bn): BatchNorm2d(64, eps=0.001, momentum=0.03, affine=True, track_running_stats=True)\n",
       "                  (act): SiLU(inplace=True)\n",
       "                )\n",
       "              )\n",
       "              (1): Bottleneck(\n",
       "                (cv1): Conv(\n",
       "                  (conv): Conv2d(64, 64, kernel_size=(3, 3), stride=(1, 1), padding=(1, 1), bias=False)\n",
       "                  (bn): BatchNorm2d(64, eps=0.001, momentum=0.03, affine=True, track_running_stats=True)\n",
       "                  (act): SiLU(inplace=True)\n",
       "                )\n",
       "                (cv2): Conv(\n",
       "                  (conv): Conv2d(64, 64, kernel_size=(3, 3), stride=(1, 1), padding=(1, 1), bias=False)\n",
       "                  (bn): BatchNorm2d(64, eps=0.001, momentum=0.03, affine=True, track_running_stats=True)\n",
       "                  (act): SiLU(inplace=True)\n",
       "                )\n",
       "              )\n",
       "            )\n",
       "          )\n",
       "        )\n",
       "      )\n",
       "      (23): Segment(\n",
       "        (cv2): ModuleList(\n",
       "          (0): Sequential(\n",
       "            (0): Conv(\n",
       "              (conv): Conv2d(64, 64, kernel_size=(3, 3), stride=(1, 1), padding=(1, 1), bias=False)\n",
       "              (bn): BatchNorm2d(64, eps=0.001, momentum=0.03, affine=True, track_running_stats=True)\n",
       "              (act): SiLU(inplace=True)\n",
       "            )\n",
       "            (1): Conv(\n",
       "              (conv): Conv2d(64, 64, kernel_size=(3, 3), stride=(1, 1), padding=(1, 1), bias=False)\n",
       "              (bn): BatchNorm2d(64, eps=0.001, momentum=0.03, affine=True, track_running_stats=True)\n",
       "              (act): SiLU(inplace=True)\n",
       "            )\n",
       "            (2): Conv2d(64, 64, kernel_size=(1, 1), stride=(1, 1))\n",
       "          )\n",
       "          (1): Sequential(\n",
       "            (0): Conv(\n",
       "              (conv): Conv2d(128, 64, kernel_size=(3, 3), stride=(1, 1), padding=(1, 1), bias=False)\n",
       "              (bn): BatchNorm2d(64, eps=0.001, momentum=0.03, affine=True, track_running_stats=True)\n",
       "              (act): SiLU(inplace=True)\n",
       "            )\n",
       "            (1): Conv(\n",
       "              (conv): Conv2d(64, 64, kernel_size=(3, 3), stride=(1, 1), padding=(1, 1), bias=False)\n",
       "              (bn): BatchNorm2d(64, eps=0.001, momentum=0.03, affine=True, track_running_stats=True)\n",
       "              (act): SiLU(inplace=True)\n",
       "            )\n",
       "            (2): Conv2d(64, 64, kernel_size=(1, 1), stride=(1, 1))\n",
       "          )\n",
       "          (2): Sequential(\n",
       "            (0): Conv(\n",
       "              (conv): Conv2d(256, 64, kernel_size=(3, 3), stride=(1, 1), padding=(1, 1), bias=False)\n",
       "              (bn): BatchNorm2d(64, eps=0.001, momentum=0.03, affine=True, track_running_stats=True)\n",
       "              (act): SiLU(inplace=True)\n",
       "            )\n",
       "            (1): Conv(\n",
       "              (conv): Conv2d(64, 64, kernel_size=(3, 3), stride=(1, 1), padding=(1, 1), bias=False)\n",
       "              (bn): BatchNorm2d(64, eps=0.001, momentum=0.03, affine=True, track_running_stats=True)\n",
       "              (act): SiLU(inplace=True)\n",
       "            )\n",
       "            (2): Conv2d(64, 64, kernel_size=(1, 1), stride=(1, 1))\n",
       "          )\n",
       "        )\n",
       "        (cv3): ModuleList(\n",
       "          (0): Sequential(\n",
       "            (0): Sequential(\n",
       "              (0): DWConv(\n",
       "                (conv): Conv2d(64, 64, kernel_size=(3, 3), stride=(1, 1), padding=(1, 1), groups=64, bias=False)\n",
       "                (bn): BatchNorm2d(64, eps=0.001, momentum=0.03, affine=True, track_running_stats=True)\n",
       "                (act): SiLU(inplace=True)\n",
       "              )\n",
       "              (1): Conv(\n",
       "                (conv): Conv2d(64, 64, kernel_size=(1, 1), stride=(1, 1), bias=False)\n",
       "                (bn): BatchNorm2d(64, eps=0.001, momentum=0.03, affine=True, track_running_stats=True)\n",
       "                (act): SiLU(inplace=True)\n",
       "              )\n",
       "            )\n",
       "            (1): Sequential(\n",
       "              (0): DWConv(\n",
       "                (conv): Conv2d(64, 64, kernel_size=(3, 3), stride=(1, 1), padding=(1, 1), groups=64, bias=False)\n",
       "                (bn): BatchNorm2d(64, eps=0.001, momentum=0.03, affine=True, track_running_stats=True)\n",
       "                (act): SiLU(inplace=True)\n",
       "              )\n",
       "              (1): Conv(\n",
       "                (conv): Conv2d(64, 64, kernel_size=(1, 1), stride=(1, 1), bias=False)\n",
       "                (bn): BatchNorm2d(64, eps=0.001, momentum=0.03, affine=True, track_running_stats=True)\n",
       "                (act): SiLU(inplace=True)\n",
       "              )\n",
       "            )\n",
       "            (2): Conv2d(64, 1, kernel_size=(1, 1), stride=(1, 1))\n",
       "          )\n",
       "          (1): Sequential(\n",
       "            (0): Sequential(\n",
       "              (0): DWConv(\n",
       "                (conv): Conv2d(128, 128, kernel_size=(3, 3), stride=(1, 1), padding=(1, 1), groups=128, bias=False)\n",
       "                (bn): BatchNorm2d(128, eps=0.001, momentum=0.03, affine=True, track_running_stats=True)\n",
       "                (act): SiLU(inplace=True)\n",
       "              )\n",
       "              (1): Conv(\n",
       "                (conv): Conv2d(128, 64, kernel_size=(1, 1), stride=(1, 1), bias=False)\n",
       "                (bn): BatchNorm2d(64, eps=0.001, momentum=0.03, affine=True, track_running_stats=True)\n",
       "                (act): SiLU(inplace=True)\n",
       "              )\n",
       "            )\n",
       "            (1): Sequential(\n",
       "              (0): DWConv(\n",
       "                (conv): Conv2d(64, 64, kernel_size=(3, 3), stride=(1, 1), padding=(1, 1), groups=64, bias=False)\n",
       "                (bn): BatchNorm2d(64, eps=0.001, momentum=0.03, affine=True, track_running_stats=True)\n",
       "                (act): SiLU(inplace=True)\n",
       "              )\n",
       "              (1): Conv(\n",
       "                (conv): Conv2d(64, 64, kernel_size=(1, 1), stride=(1, 1), bias=False)\n",
       "                (bn): BatchNorm2d(64, eps=0.001, momentum=0.03, affine=True, track_running_stats=True)\n",
       "                (act): SiLU(inplace=True)\n",
       "              )\n",
       "            )\n",
       "            (2): Conv2d(64, 1, kernel_size=(1, 1), stride=(1, 1))\n",
       "          )\n",
       "          (2): Sequential(\n",
       "            (0): Sequential(\n",
       "              (0): DWConv(\n",
       "                (conv): Conv2d(256, 256, kernel_size=(3, 3), stride=(1, 1), padding=(1, 1), groups=256, bias=False)\n",
       "                (bn): BatchNorm2d(256, eps=0.001, momentum=0.03, affine=True, track_running_stats=True)\n",
       "                (act): SiLU(inplace=True)\n",
       "              )\n",
       "              (1): Conv(\n",
       "                (conv): Conv2d(256, 64, kernel_size=(1, 1), stride=(1, 1), bias=False)\n",
       "                (bn): BatchNorm2d(64, eps=0.001, momentum=0.03, affine=True, track_running_stats=True)\n",
       "                (act): SiLU(inplace=True)\n",
       "              )\n",
       "            )\n",
       "            (1): Sequential(\n",
       "              (0): DWConv(\n",
       "                (conv): Conv2d(64, 64, kernel_size=(3, 3), stride=(1, 1), padding=(1, 1), groups=64, bias=False)\n",
       "                (bn): BatchNorm2d(64, eps=0.001, momentum=0.03, affine=True, track_running_stats=True)\n",
       "                (act): SiLU(inplace=True)\n",
       "              )\n",
       "              (1): Conv(\n",
       "                (conv): Conv2d(64, 64, kernel_size=(1, 1), stride=(1, 1), bias=False)\n",
       "                (bn): BatchNorm2d(64, eps=0.001, momentum=0.03, affine=True, track_running_stats=True)\n",
       "                (act): SiLU(inplace=True)\n",
       "              )\n",
       "            )\n",
       "            (2): Conv2d(64, 1, kernel_size=(1, 1), stride=(1, 1))\n",
       "          )\n",
       "        )\n",
       "        (dfl): DFL(\n",
       "          (conv): Conv2d(16, 1, kernel_size=(1, 1), stride=(1, 1), bias=False)\n",
       "        )\n",
       "        (proto): Proto(\n",
       "          (cv1): Conv(\n",
       "            (conv): Conv2d(64, 64, kernel_size=(3, 3), stride=(1, 1), padding=(1, 1), bias=False)\n",
       "            (bn): BatchNorm2d(64, eps=0.001, momentum=0.03, affine=True, track_running_stats=True)\n",
       "            (act): SiLU(inplace=True)\n",
       "          )\n",
       "          (upsample): ConvTranspose2d(64, 64, kernel_size=(2, 2), stride=(2, 2))\n",
       "          (cv2): Conv(\n",
       "            (conv): Conv2d(64, 64, kernel_size=(3, 3), stride=(1, 1), padding=(1, 1), bias=False)\n",
       "            (bn): BatchNorm2d(64, eps=0.001, momentum=0.03, affine=True, track_running_stats=True)\n",
       "            (act): SiLU(inplace=True)\n",
       "          )\n",
       "          (cv3): Conv(\n",
       "            (conv): Conv2d(64, 32, kernel_size=(1, 1), stride=(1, 1), bias=False)\n",
       "            (bn): BatchNorm2d(32, eps=0.001, momentum=0.03, affine=True, track_running_stats=True)\n",
       "            (act): SiLU(inplace=True)\n",
       "          )\n",
       "        )\n",
       "        (cv4): ModuleList(\n",
       "          (0): Sequential(\n",
       "            (0): Conv(\n",
       "              (conv): Conv2d(64, 32, kernel_size=(3, 3), stride=(1, 1), padding=(1, 1), bias=False)\n",
       "              (bn): BatchNorm2d(32, eps=0.001, momentum=0.03, affine=True, track_running_stats=True)\n",
       "              (act): SiLU(inplace=True)\n",
       "            )\n",
       "            (1): Conv(\n",
       "              (conv): Conv2d(32, 32, kernel_size=(3, 3), stride=(1, 1), padding=(1, 1), bias=False)\n",
       "              (bn): BatchNorm2d(32, eps=0.001, momentum=0.03, affine=True, track_running_stats=True)\n",
       "              (act): SiLU(inplace=True)\n",
       "            )\n",
       "            (2): Conv2d(32, 32, kernel_size=(1, 1), stride=(1, 1))\n",
       "          )\n",
       "          (1): Sequential(\n",
       "            (0): Conv(\n",
       "              (conv): Conv2d(128, 32, kernel_size=(3, 3), stride=(1, 1), padding=(1, 1), bias=False)\n",
       "              (bn): BatchNorm2d(32, eps=0.001, momentum=0.03, affine=True, track_running_stats=True)\n",
       "              (act): SiLU(inplace=True)\n",
       "            )\n",
       "            (1): Conv(\n",
       "              (conv): Conv2d(32, 32, kernel_size=(3, 3), stride=(1, 1), padding=(1, 1), bias=False)\n",
       "              (bn): BatchNorm2d(32, eps=0.001, momentum=0.03, affine=True, track_running_stats=True)\n",
       "              (act): SiLU(inplace=True)\n",
       "            )\n",
       "            (2): Conv2d(32, 32, kernel_size=(1, 1), stride=(1, 1))\n",
       "          )\n",
       "          (2): Sequential(\n",
       "            (0): Conv(\n",
       "              (conv): Conv2d(256, 32, kernel_size=(3, 3), stride=(1, 1), padding=(1, 1), bias=False)\n",
       "              (bn): BatchNorm2d(32, eps=0.001, momentum=0.03, affine=True, track_running_stats=True)\n",
       "              (act): SiLU(inplace=True)\n",
       "            )\n",
       "            (1): Conv(\n",
       "              (conv): Conv2d(32, 32, kernel_size=(3, 3), stride=(1, 1), padding=(1, 1), bias=False)\n",
       "              (bn): BatchNorm2d(32, eps=0.001, momentum=0.03, affine=True, track_running_stats=True)\n",
       "              (act): SiLU(inplace=True)\n",
       "            )\n",
       "            (2): Conv2d(32, 32, kernel_size=(1, 1), stride=(1, 1))\n",
       "          )\n",
       "        )\n",
       "      )\n",
       "    )\n",
       "  )\n",
       ")"
      ]
     },
     "execution_count": 10,
     "metadata": {},
     "output_type": "execute_result"
    }
   ],
   "source": [
    "model = YOLO(\"checkpoint/fighter_1.pt\")\n",
    "model.to(DEVICE)"
   ]
  },
  {
   "cell_type": "markdown",
   "metadata": {},
   "source": [
    "Video Inference"
   ]
  },
  {
   "cell_type": "code",
   "execution_count": 11,
   "metadata": {},
   "outputs": [],
   "source": [
    "results = model.track(source=\"video_input/fight_1.mp4\", task=\"segment\", stream=True)"
   ]
  },
  {
   "cell_type": "code",
   "execution_count": 12,
   "metadata": {},
   "outputs": [
    {
     "name": "stdout",
     "output_type": "stream",
     "text": [
      "\n",
      "video 1/1 (frame 1/2322) /home/hatsu/coding/CapProj/TestSeg_1/video_input/fight_1.mp4: 640x640 1 Fighter, 95.8ms\n",
      "video 1/1 (frame 2/2322) /home/hatsu/coding/CapProj/TestSeg_1/video_input/fight_1.mp4: 640x640 1 Fighter, 26.4ms\n",
      "video 1/1 (frame 3/2322) /home/hatsu/coding/CapProj/TestSeg_1/video_input/fight_1.mp4: 640x640 1 Fighter, 13.9ms\n",
      "video 1/1 (frame 4/2322) /home/hatsu/coding/CapProj/TestSeg_1/video_input/fight_1.mp4: 640x640 (no detections), 18.3ms\n",
      "video 1/1 (frame 5/2322) /home/hatsu/coding/CapProj/TestSeg_1/video_input/fight_1.mp4: 640x640 1 Fighter, 14.9ms\n",
      "video 1/1 (frame 6/2322) /home/hatsu/coding/CapProj/TestSeg_1/video_input/fight_1.mp4: 640x640 1 Fighter, 12.8ms\n",
      "video 1/1 (frame 7/2322) /home/hatsu/coding/CapProj/TestSeg_1/video_input/fight_1.mp4: 640x640 1 Fighter, 12.4ms\n",
      "video 1/1 (frame 8/2322) /home/hatsu/coding/CapProj/TestSeg_1/video_input/fight_1.mp4: 640x640 1 Fighter, 11.6ms\n",
      "video 1/1 (frame 9/2322) /home/hatsu/coding/CapProj/TestSeg_1/video_input/fight_1.mp4: 640x640 (no detections), 12.2ms\n",
      "video 1/1 (frame 10/2322) /home/hatsu/coding/CapProj/TestSeg_1/video_input/fight_1.mp4: 640x640 1 Fighter, 11.9ms\n",
      "video 1/1 (frame 11/2322) /home/hatsu/coding/CapProj/TestSeg_1/video_input/fight_1.mp4: 640x640 1 Fighter, 12.8ms\n",
      "video 1/1 (frame 12/2322) /home/hatsu/coding/CapProj/TestSeg_1/video_input/fight_1.mp4: 640x640 1 Fighter, 11.5ms\n",
      "video 1/1 (frame 13/2322) /home/hatsu/coding/CapProj/TestSeg_1/video_input/fight_1.mp4: 640x640 1 Fighter, 12.4ms\n",
      "video 1/1 (frame 14/2322) /home/hatsu/coding/CapProj/TestSeg_1/video_input/fight_1.mp4: 640x640 (no detections), 12.6ms\n",
      "video 1/1 (frame 15/2322) /home/hatsu/coding/CapProj/TestSeg_1/video_input/fight_1.mp4: 640x640 (no detections), 13.2ms\n",
      "video 1/1 (frame 16/2322) /home/hatsu/coding/CapProj/TestSeg_1/video_input/fight_1.mp4: 640x640 1 Fighter, 12.2ms\n",
      "video 1/1 (frame 17/2322) /home/hatsu/coding/CapProj/TestSeg_1/video_input/fight_1.mp4: 640x640 1 Fighter, 11.5ms\n",
      "video 1/1 (frame 18/2322) /home/hatsu/coding/CapProj/TestSeg_1/video_input/fight_1.mp4: 640x640 (no detections), 14.9ms\n",
      "video 1/1 (frame 19/2322) /home/hatsu/coding/CapProj/TestSeg_1/video_input/fight_1.mp4: 640x640 (no detections), 16.4ms\n",
      "video 1/1 (frame 20/2322) /home/hatsu/coding/CapProj/TestSeg_1/video_input/fight_1.mp4: 640x640 (no detections), 13.0ms\n",
      "video 1/1 (frame 21/2322) /home/hatsu/coding/CapProj/TestSeg_1/video_input/fight_1.mp4: 640x640 (no detections), 13.2ms\n",
      "video 1/1 (frame 22/2322) /home/hatsu/coding/CapProj/TestSeg_1/video_input/fight_1.mp4: 640x640 1 Fighter, 11.8ms\n",
      "video 1/1 (frame 23/2322) /home/hatsu/coding/CapProj/TestSeg_1/video_input/fight_1.mp4: 640x640 (no detections), 12.9ms\n",
      "video 1/1 (frame 24/2322) /home/hatsu/coding/CapProj/TestSeg_1/video_input/fight_1.mp4: 640x640 (no detections), 12.0ms\n",
      "video 1/1 (frame 25/2322) /home/hatsu/coding/CapProj/TestSeg_1/video_input/fight_1.mp4: 640x640 (no detections), 13.5ms\n",
      "video 1/1 (frame 26/2322) /home/hatsu/coding/CapProj/TestSeg_1/video_input/fight_1.mp4: 640x640 1 Fighter, 13.1ms\n",
      "video 1/1 (frame 27/2322) /home/hatsu/coding/CapProj/TestSeg_1/video_input/fight_1.mp4: 640x640 1 Fighter, 12.1ms\n",
      "video 1/1 (frame 28/2322) /home/hatsu/coding/CapProj/TestSeg_1/video_input/fight_1.mp4: 640x640 (no detections), 12.4ms\n",
      "video 1/1 (frame 29/2322) /home/hatsu/coding/CapProj/TestSeg_1/video_input/fight_1.mp4: 640x640 (no detections), 13.9ms\n",
      "video 1/1 (frame 30/2322) /home/hatsu/coding/CapProj/TestSeg_1/video_input/fight_1.mp4: 640x640 1 Fighter, 16.6ms\n",
      "video 1/1 (frame 31/2322) /home/hatsu/coding/CapProj/TestSeg_1/video_input/fight_1.mp4: 640x640 (no detections), 14.2ms\n",
      "video 1/1 (frame 32/2322) /home/hatsu/coding/CapProj/TestSeg_1/video_input/fight_1.mp4: 640x640 (no detections), 13.0ms\n",
      "video 1/1 (frame 33/2322) /home/hatsu/coding/CapProj/TestSeg_1/video_input/fight_1.mp4: 640x640 (no detections), 12.5ms\n",
      "video 1/1 (frame 34/2322) /home/hatsu/coding/CapProj/TestSeg_1/video_input/fight_1.mp4: 640x640 (no detections), 12.5ms\n",
      "video 1/1 (frame 35/2322) /home/hatsu/coding/CapProj/TestSeg_1/video_input/fight_1.mp4: 640x640 (no detections), 12.5ms\n",
      "video 1/1 (frame 36/2322) /home/hatsu/coding/CapProj/TestSeg_1/video_input/fight_1.mp4: 640x640 (no detections), 12.2ms\n",
      "video 1/1 (frame 37/2322) /home/hatsu/coding/CapProj/TestSeg_1/video_input/fight_1.mp4: 640x640 (no detections), 12.5ms\n",
      "video 1/1 (frame 38/2322) /home/hatsu/coding/CapProj/TestSeg_1/video_input/fight_1.mp4: 640x640 (no detections), 12.7ms\n",
      "video 1/1 (frame 39/2322) /home/hatsu/coding/CapProj/TestSeg_1/video_input/fight_1.mp4: 640x640 (no detections), 11.4ms\n",
      "video 1/1 (frame 40/2322) /home/hatsu/coding/CapProj/TestSeg_1/video_input/fight_1.mp4: 640x640 (no detections), 11.7ms\n",
      "video 1/1 (frame 41/2322) /home/hatsu/coding/CapProj/TestSeg_1/video_input/fight_1.mp4: 640x640 (no detections), 12.1ms\n",
      "video 1/1 (frame 42/2322) /home/hatsu/coding/CapProj/TestSeg_1/video_input/fight_1.mp4: 640x640 1 Fighter, 12.2ms\n",
      "video 1/1 (frame 43/2322) /home/hatsu/coding/CapProj/TestSeg_1/video_input/fight_1.mp4: 640x640 (no detections), 12.3ms\n",
      "video 1/1 (frame 44/2322) /home/hatsu/coding/CapProj/TestSeg_1/video_input/fight_1.mp4: 640x640 (no detections), 11.7ms\n",
      "video 1/1 (frame 45/2322) /home/hatsu/coding/CapProj/TestSeg_1/video_input/fight_1.mp4: 640x640 (no detections), 14.7ms\n",
      "video 1/1 (frame 46/2322) /home/hatsu/coding/CapProj/TestSeg_1/video_input/fight_1.mp4: 640x640 (no detections), 11.5ms\n",
      "video 1/1 (frame 47/2322) /home/hatsu/coding/CapProj/TestSeg_1/video_input/fight_1.mp4: 640x640 (no detections), 12.7ms\n",
      "video 1/1 (frame 48/2322) /home/hatsu/coding/CapProj/TestSeg_1/video_input/fight_1.mp4: 640x640 (no detections), 11.9ms\n",
      "video 1/1 (frame 49/2322) /home/hatsu/coding/CapProj/TestSeg_1/video_input/fight_1.mp4: 640x640 (no detections), 11.2ms\n",
      "video 1/1 (frame 50/2322) /home/hatsu/coding/CapProj/TestSeg_1/video_input/fight_1.mp4: 640x640 1 Fighter, 11.8ms\n",
      "video 1/1 (frame 51/2322) /home/hatsu/coding/CapProj/TestSeg_1/video_input/fight_1.mp4: 640x640 1 Fighter, 12.1ms\n",
      "video 1/1 (frame 52/2322) /home/hatsu/coding/CapProj/TestSeg_1/video_input/fight_1.mp4: 640x640 (no detections), 11.9ms\n",
      "video 1/1 (frame 53/2322) /home/hatsu/coding/CapProj/TestSeg_1/video_input/fight_1.mp4: 640x640 (no detections), 13.1ms\n",
      "video 1/1 (frame 54/2322) /home/hatsu/coding/CapProj/TestSeg_1/video_input/fight_1.mp4: 640x640 (no detections), 14.9ms\n",
      "video 1/1 (frame 55/2322) /home/hatsu/coding/CapProj/TestSeg_1/video_input/fight_1.mp4: 640x640 (no detections), 10.9ms\n",
      "video 1/1 (frame 56/2322) /home/hatsu/coding/CapProj/TestSeg_1/video_input/fight_1.mp4: 640x640 (no detections), 12.7ms\n",
      "video 1/1 (frame 57/2322) /home/hatsu/coding/CapProj/TestSeg_1/video_input/fight_1.mp4: 640x640 (no detections), 14.4ms\n",
      "video 1/1 (frame 58/2322) /home/hatsu/coding/CapProj/TestSeg_1/video_input/fight_1.mp4: 640x640 (no detections), 12.2ms\n",
      "video 1/1 (frame 59/2322) /home/hatsu/coding/CapProj/TestSeg_1/video_input/fight_1.mp4: 640x640 (no detections), 12.1ms\n",
      "video 1/1 (frame 60/2322) /home/hatsu/coding/CapProj/TestSeg_1/video_input/fight_1.mp4: 640x640 (no detections), 12.4ms\n",
      "video 1/1 (frame 61/2322) /home/hatsu/coding/CapProj/TestSeg_1/video_input/fight_1.mp4: 640x640 (no detections), 11.8ms\n",
      "video 1/1 (frame 62/2322) /home/hatsu/coding/CapProj/TestSeg_1/video_input/fight_1.mp4: 640x640 1 Fighter, 12.2ms\n",
      "video 1/1 (frame 63/2322) /home/hatsu/coding/CapProj/TestSeg_1/video_input/fight_1.mp4: 640x640 (no detections), 12.7ms\n",
      "video 1/1 (frame 64/2322) /home/hatsu/coding/CapProj/TestSeg_1/video_input/fight_1.mp4: 640x640 (no detections), 12.0ms\n",
      "video 1/1 (frame 65/2322) /home/hatsu/coding/CapProj/TestSeg_1/video_input/fight_1.mp4: 640x640 1 Fighter, 10.7ms\n",
      "video 1/1 (frame 66/2322) /home/hatsu/coding/CapProj/TestSeg_1/video_input/fight_1.mp4: 640x640 1 Fighter, 12.7ms\n",
      "video 1/1 (frame 67/2322) /home/hatsu/coding/CapProj/TestSeg_1/video_input/fight_1.mp4: 640x640 1 Fighter, 11.6ms\n",
      "video 1/1 (frame 68/2322) /home/hatsu/coding/CapProj/TestSeg_1/video_input/fight_1.mp4: 640x640 1 Fighter, 11.9ms\n",
      "video 1/1 (frame 69/2322) /home/hatsu/coding/CapProj/TestSeg_1/video_input/fight_1.mp4: 640x640 1 Fighter, 12.0ms\n",
      "video 1/1 (frame 70/2322) /home/hatsu/coding/CapProj/TestSeg_1/video_input/fight_1.mp4: 640x640 2 Fighters, 12.5ms\n",
      "video 1/1 (frame 71/2322) /home/hatsu/coding/CapProj/TestSeg_1/video_input/fight_1.mp4: 640x640 2 Fighters, 12.5ms\n",
      "video 1/1 (frame 72/2322) /home/hatsu/coding/CapProj/TestSeg_1/video_input/fight_1.mp4: 640x640 1 Fighter, 12.2ms\n",
      "video 1/1 (frame 73/2322) /home/hatsu/coding/CapProj/TestSeg_1/video_input/fight_1.mp4: 640x640 1 Fighter, 13.8ms\n",
      "video 1/1 (frame 74/2322) /home/hatsu/coding/CapProj/TestSeg_1/video_input/fight_1.mp4: 640x640 1 Fighter, 16.1ms\n",
      "video 1/1 (frame 75/2322) /home/hatsu/coding/CapProj/TestSeg_1/video_input/fight_1.mp4: 640x640 1 Fighter, 11.6ms\n",
      "video 1/1 (frame 76/2322) /home/hatsu/coding/CapProj/TestSeg_1/video_input/fight_1.mp4: 640x640 1 Fighter, 12.6ms\n",
      "video 1/1 (frame 77/2322) /home/hatsu/coding/CapProj/TestSeg_1/video_input/fight_1.mp4: 640x640 1 Fighter, 11.9ms\n",
      "video 1/1 (frame 78/2322) /home/hatsu/coding/CapProj/TestSeg_1/video_input/fight_1.mp4: 640x640 1 Fighter, 12.0ms\n",
      "video 1/1 (frame 79/2322) /home/hatsu/coding/CapProj/TestSeg_1/video_input/fight_1.mp4: 640x640 1 Fighter, 12.0ms\n",
      "video 1/1 (frame 80/2322) /home/hatsu/coding/CapProj/TestSeg_1/video_input/fight_1.mp4: 640x640 1 Fighter, 12.6ms\n",
      "video 1/1 (frame 81/2322) /home/hatsu/coding/CapProj/TestSeg_1/video_input/fight_1.mp4: 640x640 1 Fighter, 12.0ms\n",
      "video 1/1 (frame 82/2322) /home/hatsu/coding/CapProj/TestSeg_1/video_input/fight_1.mp4: 640x640 1 Fighter, 11.6ms\n",
      "video 1/1 (frame 83/2322) /home/hatsu/coding/CapProj/TestSeg_1/video_input/fight_1.mp4: 640x640 1 Fighter, 12.2ms\n",
      "video 1/1 (frame 84/2322) /home/hatsu/coding/CapProj/TestSeg_1/video_input/fight_1.mp4: 640x640 1 Fighter, 11.8ms\n",
      "video 1/1 (frame 85/2322) /home/hatsu/coding/CapProj/TestSeg_1/video_input/fight_1.mp4: 640x640 1 Fighter, 12.1ms\n",
      "video 1/1 (frame 86/2322) /home/hatsu/coding/CapProj/TestSeg_1/video_input/fight_1.mp4: 640x640 1 Fighter, 12.2ms\n",
      "video 1/1 (frame 87/2322) /home/hatsu/coding/CapProj/TestSeg_1/video_input/fight_1.mp4: 640x640 1 Fighter, 11.5ms\n",
      "video 1/1 (frame 88/2322) /home/hatsu/coding/CapProj/TestSeg_1/video_input/fight_1.mp4: 640x640 1 Fighter, 12.1ms\n",
      "video 1/1 (frame 89/2322) /home/hatsu/coding/CapProj/TestSeg_1/video_input/fight_1.mp4: 640x640 1 Fighter, 16.6ms\n",
      "video 1/1 (frame 90/2322) /home/hatsu/coding/CapProj/TestSeg_1/video_input/fight_1.mp4: 640x640 1 Fighter, 12.5ms\n",
      "video 1/1 (frame 91/2322) /home/hatsu/coding/CapProj/TestSeg_1/video_input/fight_1.mp4: 640x640 1 Fighter, 11.3ms\n",
      "video 1/1 (frame 92/2322) /home/hatsu/coding/CapProj/TestSeg_1/video_input/fight_1.mp4: 640x640 1 Fighter, 11.7ms\n",
      "video 1/1 (frame 93/2322) /home/hatsu/coding/CapProj/TestSeg_1/video_input/fight_1.mp4: 640x640 1 Fighter, 11.9ms\n",
      "video 1/1 (frame 94/2322) /home/hatsu/coding/CapProj/TestSeg_1/video_input/fight_1.mp4: 640x640 1 Fighter, 12.6ms\n",
      "video 1/1 (frame 95/2322) /home/hatsu/coding/CapProj/TestSeg_1/video_input/fight_1.mp4: 640x640 4 Fighters, 12.4ms\n",
      "video 1/1 (frame 96/2322) /home/hatsu/coding/CapProj/TestSeg_1/video_input/fight_1.mp4: 640x640 3 Fighters, 12.5ms\n",
      "video 1/1 (frame 97/2322) /home/hatsu/coding/CapProj/TestSeg_1/video_input/fight_1.mp4: 640x640 3 Fighters, 13.1ms\n",
      "video 1/1 (frame 98/2322) /home/hatsu/coding/CapProj/TestSeg_1/video_input/fight_1.mp4: 640x640 2 Fighters, 14.3ms\n",
      "video 1/1 (frame 99/2322) /home/hatsu/coding/CapProj/TestSeg_1/video_input/fight_1.mp4: 640x640 (no detections), 30.8ms\n",
      "video 1/1 (frame 100/2322) /home/hatsu/coding/CapProj/TestSeg_1/video_input/fight_1.mp4: 640x640 3 Fighters, 12.0ms\n",
      "video 1/1 (frame 101/2322) /home/hatsu/coding/CapProj/TestSeg_1/video_input/fight_1.mp4: 640x640 1 Fighter, 12.5ms\n",
      "video 1/1 (frame 102/2322) /home/hatsu/coding/CapProj/TestSeg_1/video_input/fight_1.mp4: 640x640 1 Fighter, 12.2ms\n",
      "video 1/1 (frame 103/2322) /home/hatsu/coding/CapProj/TestSeg_1/video_input/fight_1.mp4: 640x640 (no detections), 12.2ms\n",
      "video 1/1 (frame 104/2322) /home/hatsu/coding/CapProj/TestSeg_1/video_input/fight_1.mp4: 640x640 (no detections), 16.1ms\n",
      "video 1/1 (frame 105/2322) /home/hatsu/coding/CapProj/TestSeg_1/video_input/fight_1.mp4: 640x640 2 Fighters, 12.7ms\n",
      "video 1/1 (frame 106/2322) /home/hatsu/coding/CapProj/TestSeg_1/video_input/fight_1.mp4: 640x640 2 Fighters, 12.5ms\n",
      "video 1/1 (frame 107/2322) /home/hatsu/coding/CapProj/TestSeg_1/video_input/fight_1.mp4: 640x640 2 Fighters, 12.2ms\n",
      "video 1/1 (frame 108/2322) /home/hatsu/coding/CapProj/TestSeg_1/video_input/fight_1.mp4: 640x640 1 Fighter, 12.4ms\n",
      "video 1/1 (frame 109/2322) /home/hatsu/coding/CapProj/TestSeg_1/video_input/fight_1.mp4: 640x640 (no detections), 12.3ms\n",
      "video 1/1 (frame 110/2322) /home/hatsu/coding/CapProj/TestSeg_1/video_input/fight_1.mp4: 640x640 1 Fighter, 11.6ms\n",
      "video 1/1 (frame 111/2322) /home/hatsu/coding/CapProj/TestSeg_1/video_input/fight_1.mp4: 640x640 2 Fighters, 12.4ms\n",
      "video 1/1 (frame 112/2322) /home/hatsu/coding/CapProj/TestSeg_1/video_input/fight_1.mp4: 640x640 3 Fighters, 12.3ms\n",
      "video 1/1 (frame 113/2322) /home/hatsu/coding/CapProj/TestSeg_1/video_input/fight_1.mp4: 640x640 (no detections), 11.1ms\n",
      "video 1/1 (frame 114/2322) /home/hatsu/coding/CapProj/TestSeg_1/video_input/fight_1.mp4: 640x640 (no detections), 11.6ms\n",
      "video 1/1 (frame 115/2322) /home/hatsu/coding/CapProj/TestSeg_1/video_input/fight_1.mp4: 640x640 (no detections), 13.4ms\n",
      "video 1/1 (frame 116/2322) /home/hatsu/coding/CapProj/TestSeg_1/video_input/fight_1.mp4: 640x640 1 Fighter, 11.4ms\n",
      "video 1/1 (frame 117/2322) /home/hatsu/coding/CapProj/TestSeg_1/video_input/fight_1.mp4: 640x640 3 Fighters, 12.0ms\n",
      "video 1/1 (frame 118/2322) /home/hatsu/coding/CapProj/TestSeg_1/video_input/fight_1.mp4: 640x640 1 Fighter, 12.1ms\n",
      "video 1/1 (frame 119/2322) /home/hatsu/coding/CapProj/TestSeg_1/video_input/fight_1.mp4: 640x640 (no detections), 11.7ms\n",
      "video 1/1 (frame 120/2322) /home/hatsu/coding/CapProj/TestSeg_1/video_input/fight_1.mp4: 640x640 (no detections), 12.4ms\n",
      "video 1/1 (frame 121/2322) /home/hatsu/coding/CapProj/TestSeg_1/video_input/fight_1.mp4: 640x640 2 Fighters, 11.7ms\n",
      "video 1/1 (frame 122/2322) /home/hatsu/coding/CapProj/TestSeg_1/video_input/fight_1.mp4: 640x640 1 Fighter, 13.2ms\n",
      "video 1/1 (frame 123/2322) /home/hatsu/coding/CapProj/TestSeg_1/video_input/fight_1.mp4: 640x640 (no detections), 12.8ms\n",
      "video 1/1 (frame 124/2322) /home/hatsu/coding/CapProj/TestSeg_1/video_input/fight_1.mp4: 640x640 (no detections), 12.0ms\n",
      "video 1/1 (frame 125/2322) /home/hatsu/coding/CapProj/TestSeg_1/video_input/fight_1.mp4: 640x640 (no detections), 11.9ms\n",
      "video 1/1 (frame 126/2322) /home/hatsu/coding/CapProj/TestSeg_1/video_input/fight_1.mp4: 640x640 (no detections), 11.0ms\n",
      "video 1/1 (frame 127/2322) /home/hatsu/coding/CapProj/TestSeg_1/video_input/fight_1.mp4: 640x640 (no detections), 12.7ms\n",
      "video 1/1 (frame 128/2322) /home/hatsu/coding/CapProj/TestSeg_1/video_input/fight_1.mp4: 640x640 (no detections), 11.8ms\n",
      "video 1/1 (frame 129/2322) /home/hatsu/coding/CapProj/TestSeg_1/video_input/fight_1.mp4: 640x640 1 Fighter, 13.1ms\n",
      "video 1/1 (frame 130/2322) /home/hatsu/coding/CapProj/TestSeg_1/video_input/fight_1.mp4: 640x640 4 Fighters, 12.2ms\n",
      "video 1/1 (frame 131/2322) /home/hatsu/coding/CapProj/TestSeg_1/video_input/fight_1.mp4: 640x640 1 Fighter, 12.4ms\n",
      "video 1/1 (frame 132/2322) /home/hatsu/coding/CapProj/TestSeg_1/video_input/fight_1.mp4: 640x640 1 Fighter, 12.3ms\n",
      "video 1/1 (frame 133/2322) /home/hatsu/coding/CapProj/TestSeg_1/video_input/fight_1.mp4: 640x640 (no detections), 11.6ms\n",
      "video 1/1 (frame 134/2322) /home/hatsu/coding/CapProj/TestSeg_1/video_input/fight_1.mp4: 640x640 1 Fighter, 11.1ms\n",
      "video 1/1 (frame 135/2322) /home/hatsu/coding/CapProj/TestSeg_1/video_input/fight_1.mp4: 640x640 1 Fighter, 11.6ms\n",
      "video 1/1 (frame 136/2322) /home/hatsu/coding/CapProj/TestSeg_1/video_input/fight_1.mp4: 640x640 1 Fighter, 11.8ms\n",
      "video 1/1 (frame 137/2322) /home/hatsu/coding/CapProj/TestSeg_1/video_input/fight_1.mp4: 640x640 3 Fighters, 11.4ms\n",
      "video 1/1 (frame 138/2322) /home/hatsu/coding/CapProj/TestSeg_1/video_input/fight_1.mp4: 640x640 1 Fighter, 13.9ms\n",
      "video 1/1 (frame 139/2322) /home/hatsu/coding/CapProj/TestSeg_1/video_input/fight_1.mp4: 640x640 1 Fighter, 14.8ms\n",
      "video 1/1 (frame 140/2322) /home/hatsu/coding/CapProj/TestSeg_1/video_input/fight_1.mp4: 640x640 1 Fighter, 13.2ms\n",
      "video 1/1 (frame 141/2322) /home/hatsu/coding/CapProj/TestSeg_1/video_input/fight_1.mp4: 640x640 1 Fighter, 14.0ms\n",
      "video 1/1 (frame 142/2322) /home/hatsu/coding/CapProj/TestSeg_1/video_input/fight_1.mp4: 640x640 1 Fighter, 12.0ms\n",
      "video 1/1 (frame 143/2322) /home/hatsu/coding/CapProj/TestSeg_1/video_input/fight_1.mp4: 640x640 1 Fighter, 12.3ms\n",
      "video 1/1 (frame 144/2322) /home/hatsu/coding/CapProj/TestSeg_1/video_input/fight_1.mp4: 640x640 1 Fighter, 12.0ms\n",
      "video 1/1 (frame 145/2322) /home/hatsu/coding/CapProj/TestSeg_1/video_input/fight_1.mp4: 640x640 1 Fighter, 12.6ms\n",
      "video 1/1 (frame 146/2322) /home/hatsu/coding/CapProj/TestSeg_1/video_input/fight_1.mp4: 640x640 1 Fighter, 16.3ms\n",
      "video 1/1 (frame 147/2322) /home/hatsu/coding/CapProj/TestSeg_1/video_input/fight_1.mp4: 640x640 1 Fighter, 12.0ms\n",
      "video 1/1 (frame 148/2322) /home/hatsu/coding/CapProj/TestSeg_1/video_input/fight_1.mp4: 640x640 1 Fighter, 11.4ms\n",
      "video 1/1 (frame 149/2322) /home/hatsu/coding/CapProj/TestSeg_1/video_input/fight_1.mp4: 640x640 (no detections), 12.0ms\n",
      "video 1/1 (frame 150/2322) /home/hatsu/coding/CapProj/TestSeg_1/video_input/fight_1.mp4: 640x640 1 Fighter, 12.2ms\n",
      "video 1/1 (frame 151/2322) /home/hatsu/coding/CapProj/TestSeg_1/video_input/fight_1.mp4: 640x640 1 Fighter, 12.7ms\n",
      "video 1/1 (frame 152/2322) /home/hatsu/coding/CapProj/TestSeg_1/video_input/fight_1.mp4: 640x640 (no detections), 12.0ms\n",
      "video 1/1 (frame 153/2322) /home/hatsu/coding/CapProj/TestSeg_1/video_input/fight_1.mp4: 640x640 (no detections), 14.2ms\n",
      "video 1/1 (frame 154/2322) /home/hatsu/coding/CapProj/TestSeg_1/video_input/fight_1.mp4: 640x640 1 Fighter, 10.9ms\n",
      "video 1/1 (frame 155/2322) /home/hatsu/coding/CapProj/TestSeg_1/video_input/fight_1.mp4: 640x640 2 Fighters, 11.8ms\n",
      "video 1/1 (frame 156/2322) /home/hatsu/coding/CapProj/TestSeg_1/video_input/fight_1.mp4: 640x640 3 Fighters, 11.9ms\n",
      "video 1/1 (frame 157/2322) /home/hatsu/coding/CapProj/TestSeg_1/video_input/fight_1.mp4: 640x640 1 Fighter, 21.7ms\n",
      "video 1/1 (frame 158/2322) /home/hatsu/coding/CapProj/TestSeg_1/video_input/fight_1.mp4: 640x640 (no detections), 11.9ms\n",
      "video 1/1 (frame 159/2322) /home/hatsu/coding/CapProj/TestSeg_1/video_input/fight_1.mp4: 640x640 3 Fighters, 11.0ms\n",
      "video 1/1 (frame 160/2322) /home/hatsu/coding/CapProj/TestSeg_1/video_input/fight_1.mp4: 640x640 5 Fighters, 12.8ms\n",
      "video 1/1 (frame 161/2322) /home/hatsu/coding/CapProj/TestSeg_1/video_input/fight_1.mp4: 640x640 4 Fighters, 12.5ms\n",
      "video 1/1 (frame 162/2322) /home/hatsu/coding/CapProj/TestSeg_1/video_input/fight_1.mp4: 640x640 (no detections), 11.8ms\n",
      "video 1/1 (frame 163/2322) /home/hatsu/coding/CapProj/TestSeg_1/video_input/fight_1.mp4: 640x640 4 Fighters, 11.2ms\n",
      "video 1/1 (frame 164/2322) /home/hatsu/coding/CapProj/TestSeg_1/video_input/fight_1.mp4: 640x640 3 Fighters, 12.3ms\n",
      "video 1/1 (frame 165/2322) /home/hatsu/coding/CapProj/TestSeg_1/video_input/fight_1.mp4: 640x640 3 Fighters, 30.0ms\n",
      "video 1/1 (frame 166/2322) /home/hatsu/coding/CapProj/TestSeg_1/video_input/fight_1.mp4: 640x640 4 Fighters, 12.4ms\n",
      "video 1/1 (frame 167/2322) /home/hatsu/coding/CapProj/TestSeg_1/video_input/fight_1.mp4: 640x640 4 Fighters, 13.1ms\n",
      "video 1/1 (frame 168/2322) /home/hatsu/coding/CapProj/TestSeg_1/video_input/fight_1.mp4: 640x640 2 Fighters, 12.8ms\n",
      "video 1/1 (frame 169/2322) /home/hatsu/coding/CapProj/TestSeg_1/video_input/fight_1.mp4: 640x640 1 Fighter, 12.2ms\n",
      "video 1/1 (frame 170/2322) /home/hatsu/coding/CapProj/TestSeg_1/video_input/fight_1.mp4: 640x640 2 Fighters, 11.0ms\n",
      "video 1/1 (frame 171/2322) /home/hatsu/coding/CapProj/TestSeg_1/video_input/fight_1.mp4: 640x640 1 Fighter, 12.3ms\n",
      "video 1/1 (frame 172/2322) /home/hatsu/coding/CapProj/TestSeg_1/video_input/fight_1.mp4: 640x640 1 Fighter, 10.9ms\n",
      "video 1/1 (frame 173/2322) /home/hatsu/coding/CapProj/TestSeg_1/video_input/fight_1.mp4: 640x640 1 Fighter, 12.6ms\n",
      "video 1/1 (frame 174/2322) /home/hatsu/coding/CapProj/TestSeg_1/video_input/fight_1.mp4: 640x640 (no detections), 12.6ms\n",
      "video 1/1 (frame 175/2322) /home/hatsu/coding/CapProj/TestSeg_1/video_input/fight_1.mp4: 640x640 3 Fighters, 11.5ms\n",
      "video 1/1 (frame 176/2322) /home/hatsu/coding/CapProj/TestSeg_1/video_input/fight_1.mp4: 640x640 1 Fighter, 11.7ms\n",
      "video 1/1 (frame 177/2322) /home/hatsu/coding/CapProj/TestSeg_1/video_input/fight_1.mp4: 640x640 1 Fighter, 11.5ms\n",
      "video 1/1 (frame 178/2322) /home/hatsu/coding/CapProj/TestSeg_1/video_input/fight_1.mp4: 640x640 1 Fighter, 10.9ms\n",
      "video 1/1 (frame 179/2322) /home/hatsu/coding/CapProj/TestSeg_1/video_input/fight_1.mp4: 640x640 1 Fighter, 11.1ms\n",
      "video 1/1 (frame 180/2322) /home/hatsu/coding/CapProj/TestSeg_1/video_input/fight_1.mp4: 640x640 1 Fighter, 11.2ms\n",
      "video 1/1 (frame 181/2322) /home/hatsu/coding/CapProj/TestSeg_1/video_input/fight_1.mp4: 640x640 1 Fighter, 11.6ms\n",
      "video 1/1 (frame 182/2322) /home/hatsu/coding/CapProj/TestSeg_1/video_input/fight_1.mp4: 640x640 1 Fighter, 11.2ms\n",
      "video 1/1 (frame 183/2322) /home/hatsu/coding/CapProj/TestSeg_1/video_input/fight_1.mp4: 640x640 1 Fighter, 11.0ms\n",
      "video 1/1 (frame 184/2322) /home/hatsu/coding/CapProj/TestSeg_1/video_input/fight_1.mp4: 640x640 2 Fighters, 11.4ms\n",
      "video 1/1 (frame 185/2322) /home/hatsu/coding/CapProj/TestSeg_1/video_input/fight_1.mp4: 640x640 3 Fighters, 12.6ms\n",
      "video 1/1 (frame 186/2322) /home/hatsu/coding/CapProj/TestSeg_1/video_input/fight_1.mp4: 640x640 2 Fighters, 13.4ms\n",
      "video 1/1 (frame 187/2322) /home/hatsu/coding/CapProj/TestSeg_1/video_input/fight_1.mp4: 640x640 2 Fighters, 14.7ms\n",
      "video 1/1 (frame 188/2322) /home/hatsu/coding/CapProj/TestSeg_1/video_input/fight_1.mp4: 640x640 2 Fighters, 12.4ms\n",
      "video 1/1 (frame 189/2322) /home/hatsu/coding/CapProj/TestSeg_1/video_input/fight_1.mp4: 640x640 2 Fighters, 18.6ms\n",
      "video 1/1 (frame 190/2322) /home/hatsu/coding/CapProj/TestSeg_1/video_input/fight_1.mp4: 640x640 2 Fighters, 18.1ms\n",
      "video 1/1 (frame 191/2322) /home/hatsu/coding/CapProj/TestSeg_1/video_input/fight_1.mp4: 640x640 3 Fighters, 13.0ms\n",
      "video 1/1 (frame 192/2322) /home/hatsu/coding/CapProj/TestSeg_1/video_input/fight_1.mp4: 640x640 3 Fighters, 11.2ms\n",
      "video 1/1 (frame 193/2322) /home/hatsu/coding/CapProj/TestSeg_1/video_input/fight_1.mp4: 640x640 1 Fighter, 12.6ms\n",
      "video 1/1 (frame 194/2322) /home/hatsu/coding/CapProj/TestSeg_1/video_input/fight_1.mp4: 640x640 1 Fighter, 13.2ms\n",
      "video 1/1 (frame 195/2322) /home/hatsu/coding/CapProj/TestSeg_1/video_input/fight_1.mp4: 640x640 3 Fighters, 11.5ms\n",
      "video 1/1 (frame 196/2322) /home/hatsu/coding/CapProj/TestSeg_1/video_input/fight_1.mp4: 640x640 2 Fighters, 12.5ms\n",
      "video 1/1 (frame 197/2322) /home/hatsu/coding/CapProj/TestSeg_1/video_input/fight_1.mp4: 640x640 2 Fighters, 13.4ms\n",
      "video 1/1 (frame 198/2322) /home/hatsu/coding/CapProj/TestSeg_1/video_input/fight_1.mp4: 640x640 (no detections), 13.3ms\n",
      "video 1/1 (frame 199/2322) /home/hatsu/coding/CapProj/TestSeg_1/video_input/fight_1.mp4: 640x640 (no detections), 13.5ms\n",
      "video 1/1 (frame 200/2322) /home/hatsu/coding/CapProj/TestSeg_1/video_input/fight_1.mp4: 640x640 1 Fighter, 13.0ms\n",
      "video 1/1 (frame 201/2322) /home/hatsu/coding/CapProj/TestSeg_1/video_input/fight_1.mp4: 640x640 1 Fighter, 12.8ms\n",
      "video 1/1 (frame 202/2322) /home/hatsu/coding/CapProj/TestSeg_1/video_input/fight_1.mp4: 640x640 1 Fighter, 11.4ms\n",
      "video 1/1 (frame 203/2322) /home/hatsu/coding/CapProj/TestSeg_1/video_input/fight_1.mp4: 640x640 (no detections), 13.0ms\n",
      "video 1/1 (frame 204/2322) /home/hatsu/coding/CapProj/TestSeg_1/video_input/fight_1.mp4: 640x640 1 Fighter, 10.8ms\n",
      "video 1/1 (frame 205/2322) /home/hatsu/coding/CapProj/TestSeg_1/video_input/fight_1.mp4: 640x640 2 Fighters, 11.3ms\n",
      "video 1/1 (frame 206/2322) /home/hatsu/coding/CapProj/TestSeg_1/video_input/fight_1.mp4: 640x640 2 Fighters, 11.5ms\n",
      "video 1/1 (frame 207/2322) /home/hatsu/coding/CapProj/TestSeg_1/video_input/fight_1.mp4: 640x640 2 Fighters, 11.9ms\n",
      "video 1/1 (frame 208/2322) /home/hatsu/coding/CapProj/TestSeg_1/video_input/fight_1.mp4: 640x640 (no detections), 11.1ms\n",
      "video 1/1 (frame 209/2322) /home/hatsu/coding/CapProj/TestSeg_1/video_input/fight_1.mp4: 640x640 (no detections), 11.5ms\n",
      "video 1/1 (frame 210/2322) /home/hatsu/coding/CapProj/TestSeg_1/video_input/fight_1.mp4: 640x640 2 Fighters, 10.6ms\n",
      "video 1/1 (frame 211/2322) /home/hatsu/coding/CapProj/TestSeg_1/video_input/fight_1.mp4: 640x640 1 Fighter, 11.5ms\n",
      "video 1/1 (frame 212/2322) /home/hatsu/coding/CapProj/TestSeg_1/video_input/fight_1.mp4: 640x640 1 Fighter, 11.4ms\n",
      "video 1/1 (frame 213/2322) /home/hatsu/coding/CapProj/TestSeg_1/video_input/fight_1.mp4: 640x640 (no detections), 11.4ms\n",
      "video 1/1 (frame 214/2322) /home/hatsu/coding/CapProj/TestSeg_1/video_input/fight_1.mp4: 640x640 (no detections), 11.1ms\n",
      "video 1/1 (frame 215/2322) /home/hatsu/coding/CapProj/TestSeg_1/video_input/fight_1.mp4: 640x640 2 Fighters, 11.8ms\n",
      "video 1/1 (frame 216/2322) /home/hatsu/coding/CapProj/TestSeg_1/video_input/fight_1.mp4: 640x640 2 Fighters, 14.3ms\n",
      "video 1/1 (frame 217/2322) /home/hatsu/coding/CapProj/TestSeg_1/video_input/fight_1.mp4: 640x640 2 Fighters, 11.2ms\n",
      "video 1/1 (frame 218/2322) /home/hatsu/coding/CapProj/TestSeg_1/video_input/fight_1.mp4: 640x640 1 Fighter, 11.4ms\n",
      "video 1/1 (frame 219/2322) /home/hatsu/coding/CapProj/TestSeg_1/video_input/fight_1.mp4: 640x640 1 Fighter, 11.5ms\n",
      "video 1/1 (frame 220/2322) /home/hatsu/coding/CapProj/TestSeg_1/video_input/fight_1.mp4: 640x640 1 Fighter, 11.5ms\n",
      "video 1/1 (frame 221/2322) /home/hatsu/coding/CapProj/TestSeg_1/video_input/fight_1.mp4: 640x640 2 Fighters, 11.2ms\n",
      "video 1/1 (frame 222/2322) /home/hatsu/coding/CapProj/TestSeg_1/video_input/fight_1.mp4: 640x640 2 Fighters, 11.8ms\n",
      "video 1/1 (frame 223/2322) /home/hatsu/coding/CapProj/TestSeg_1/video_input/fight_1.mp4: 640x640 2 Fighters, 11.7ms\n",
      "video 1/1 (frame 224/2322) /home/hatsu/coding/CapProj/TestSeg_1/video_input/fight_1.mp4: 640x640 1 Fighter, 11.5ms\n",
      "video 1/1 (frame 225/2322) /home/hatsu/coding/CapProj/TestSeg_1/video_input/fight_1.mp4: 640x640 1 Fighter, 11.3ms\n",
      "video 1/1 (frame 226/2322) /home/hatsu/coding/CapProj/TestSeg_1/video_input/fight_1.mp4: 640x640 1 Fighter, 11.5ms\n",
      "video 1/1 (frame 227/2322) /home/hatsu/coding/CapProj/TestSeg_1/video_input/fight_1.mp4: 640x640 2 Fighters, 14.8ms\n",
      "video 1/1 (frame 228/2322) /home/hatsu/coding/CapProj/TestSeg_1/video_input/fight_1.mp4: 640x640 1 Fighter, 11.9ms\n",
      "video 1/1 (frame 229/2322) /home/hatsu/coding/CapProj/TestSeg_1/video_input/fight_1.mp4: 640x640 (no detections), 11.8ms\n",
      "video 1/1 (frame 230/2322) /home/hatsu/coding/CapProj/TestSeg_1/video_input/fight_1.mp4: 640x640 2 Fighters, 10.9ms\n",
      "video 1/1 (frame 231/2322) /home/hatsu/coding/CapProj/TestSeg_1/video_input/fight_1.mp4: 640x640 1 Fighter, 12.6ms\n",
      "video 1/1 (frame 232/2322) /home/hatsu/coding/CapProj/TestSeg_1/video_input/fight_1.mp4: 640x640 1 Fighter, 11.6ms\n",
      "video 1/1 (frame 233/2322) /home/hatsu/coding/CapProj/TestSeg_1/video_input/fight_1.mp4: 640x640 1 Fighter, 11.3ms\n",
      "video 1/1 (frame 234/2322) /home/hatsu/coding/CapProj/TestSeg_1/video_input/fight_1.mp4: 640x640 1 Fighter, 11.7ms\n",
      "video 1/1 (frame 235/2322) /home/hatsu/coding/CapProj/TestSeg_1/video_input/fight_1.mp4: 640x640 1 Fighter, 11.2ms\n",
      "video 1/1 (frame 236/2322) /home/hatsu/coding/CapProj/TestSeg_1/video_input/fight_1.mp4: 640x640 1 Fighter, 11.7ms\n",
      "video 1/1 (frame 237/2322) /home/hatsu/coding/CapProj/TestSeg_1/video_input/fight_1.mp4: 640x640 1 Fighter, 12.0ms\n",
      "video 1/1 (frame 238/2322) /home/hatsu/coding/CapProj/TestSeg_1/video_input/fight_1.mp4: 640x640 (no detections), 11.6ms\n",
      "video 1/1 (frame 239/2322) /home/hatsu/coding/CapProj/TestSeg_1/video_input/fight_1.mp4: 640x640 (no detections), 11.3ms\n",
      "video 1/1 (frame 240/2322) /home/hatsu/coding/CapProj/TestSeg_1/video_input/fight_1.mp4: 640x640 (no detections), 11.3ms\n",
      "video 1/1 (frame 241/2322) /home/hatsu/coding/CapProj/TestSeg_1/video_input/fight_1.mp4: 640x640 1 Fighter, 11.3ms\n",
      "video 1/1 (frame 242/2322) /home/hatsu/coding/CapProj/TestSeg_1/video_input/fight_1.mp4: 640x640 1 Fighter, 11.6ms\n",
      "video 1/1 (frame 243/2322) /home/hatsu/coding/CapProj/TestSeg_1/video_input/fight_1.mp4: 640x640 (no detections), 11.9ms\n",
      "video 1/1 (frame 244/2322) /home/hatsu/coding/CapProj/TestSeg_1/video_input/fight_1.mp4: 640x640 1 Fighter, 11.7ms\n",
      "video 1/1 (frame 245/2322) /home/hatsu/coding/CapProj/TestSeg_1/video_input/fight_1.mp4: 640x640 1 Fighter, 16.2ms\n",
      "video 1/1 (frame 246/2322) /home/hatsu/coding/CapProj/TestSeg_1/video_input/fight_1.mp4: 640x640 1 Fighter, 12.1ms\n",
      "video 1/1 (frame 247/2322) /home/hatsu/coding/CapProj/TestSeg_1/video_input/fight_1.mp4: 640x640 1 Fighter, 11.7ms\n",
      "video 1/1 (frame 248/2322) /home/hatsu/coding/CapProj/TestSeg_1/video_input/fight_1.mp4: 640x640 1 Fighter, 11.5ms\n",
      "video 1/1 (frame 249/2322) /home/hatsu/coding/CapProj/TestSeg_1/video_input/fight_1.mp4: 640x640 1 Fighter, 11.9ms\n",
      "video 1/1 (frame 250/2322) /home/hatsu/coding/CapProj/TestSeg_1/video_input/fight_1.mp4: 640x640 (no detections), 12.0ms\n",
      "video 1/1 (frame 251/2322) /home/hatsu/coding/CapProj/TestSeg_1/video_input/fight_1.mp4: 640x640 (no detections), 12.2ms\n",
      "video 1/1 (frame 252/2322) /home/hatsu/coding/CapProj/TestSeg_1/video_input/fight_1.mp4: 640x640 1 Fighter, 11.8ms\n",
      "video 1/1 (frame 253/2322) /home/hatsu/coding/CapProj/TestSeg_1/video_input/fight_1.mp4: 640x640 1 Fighter, 15.2ms\n",
      "video 1/1 (frame 254/2322) /home/hatsu/coding/CapProj/TestSeg_1/video_input/fight_1.mp4: 640x640 1 Fighter, 12.4ms\n",
      "video 1/1 (frame 255/2322) /home/hatsu/coding/CapProj/TestSeg_1/video_input/fight_1.mp4: 640x640 1 Fighter, 13.1ms\n",
      "video 1/1 (frame 256/2322) /home/hatsu/coding/CapProj/TestSeg_1/video_input/fight_1.mp4: 640x640 1 Fighter, 16.7ms\n",
      "video 1/1 (frame 257/2322) /home/hatsu/coding/CapProj/TestSeg_1/video_input/fight_1.mp4: 640x640 2 Fighters, 12.8ms\n",
      "video 1/1 (frame 258/2322) /home/hatsu/coding/CapProj/TestSeg_1/video_input/fight_1.mp4: 640x640 2 Fighters, 13.5ms\n",
      "video 1/1 (frame 259/2322) /home/hatsu/coding/CapProj/TestSeg_1/video_input/fight_1.mp4: 640x640 (no detections), 12.1ms\n",
      "video 1/1 (frame 260/2322) /home/hatsu/coding/CapProj/TestSeg_1/video_input/fight_1.mp4: 640x640 2 Fighters, 11.6ms\n",
      "video 1/1 (frame 261/2322) /home/hatsu/coding/CapProj/TestSeg_1/video_input/fight_1.mp4: 640x640 1 Fighter, 12.3ms\n",
      "video 1/1 (frame 262/2322) /home/hatsu/coding/CapProj/TestSeg_1/video_input/fight_1.mp4: 640x640 1 Fighter, 13.9ms\n",
      "video 1/1 (frame 263/2322) /home/hatsu/coding/CapProj/TestSeg_1/video_input/fight_1.mp4: 640x640 (no detections), 11.6ms\n",
      "video 1/1 (frame 264/2322) /home/hatsu/coding/CapProj/TestSeg_1/video_input/fight_1.mp4: 640x640 (no detections), 13.1ms\n",
      "video 1/1 (frame 265/2322) /home/hatsu/coding/CapProj/TestSeg_1/video_input/fight_1.mp4: 640x640 (no detections), 16.5ms\n",
      "video 1/1 (frame 266/2322) /home/hatsu/coding/CapProj/TestSeg_1/video_input/fight_1.mp4: 640x640 (no detections), 11.7ms\n",
      "video 1/1 (frame 267/2322) /home/hatsu/coding/CapProj/TestSeg_1/video_input/fight_1.mp4: 640x640 (no detections), 14.2ms\n",
      "video 1/1 (frame 268/2322) /home/hatsu/coding/CapProj/TestSeg_1/video_input/fight_1.mp4: 640x640 (no detections), 12.6ms\n",
      "video 1/1 (frame 269/2322) /home/hatsu/coding/CapProj/TestSeg_1/video_input/fight_1.mp4: 640x640 (no detections), 11.2ms\n",
      "video 1/1 (frame 270/2322) /home/hatsu/coding/CapProj/TestSeg_1/video_input/fight_1.mp4: 640x640 (no detections), 14.1ms\n",
      "video 1/1 (frame 271/2322) /home/hatsu/coding/CapProj/TestSeg_1/video_input/fight_1.mp4: 640x640 1 Fighter, 10.7ms\n",
      "video 1/1 (frame 272/2322) /home/hatsu/coding/CapProj/TestSeg_1/video_input/fight_1.mp4: 640x640 (no detections), 13.6ms\n",
      "video 1/1 (frame 273/2322) /home/hatsu/coding/CapProj/TestSeg_1/video_input/fight_1.mp4: 640x640 (no detections), 13.6ms\n",
      "video 1/1 (frame 274/2322) /home/hatsu/coding/CapProj/TestSeg_1/video_input/fight_1.mp4: 640x640 (no detections), 12.5ms\n",
      "video 1/1 (frame 275/2322) /home/hatsu/coding/CapProj/TestSeg_1/video_input/fight_1.mp4: 640x640 (no detections), 13.0ms\n",
      "video 1/1 (frame 276/2322) /home/hatsu/coding/CapProj/TestSeg_1/video_input/fight_1.mp4: 640x640 (no detections), 14.5ms\n",
      "video 1/1 (frame 277/2322) /home/hatsu/coding/CapProj/TestSeg_1/video_input/fight_1.mp4: 640x640 (no detections), 12.9ms\n",
      "video 1/1 (frame 278/2322) /home/hatsu/coding/CapProj/TestSeg_1/video_input/fight_1.mp4: 640x640 (no detections), 12.2ms\n",
      "video 1/1 (frame 279/2322) /home/hatsu/coding/CapProj/TestSeg_1/video_input/fight_1.mp4: 640x640 1 Fighter, 16.0ms\n",
      "video 1/1 (frame 280/2322) /home/hatsu/coding/CapProj/TestSeg_1/video_input/fight_1.mp4: 640x640 (no detections), 15.9ms\n",
      "video 1/1 (frame 281/2322) /home/hatsu/coding/CapProj/TestSeg_1/video_input/fight_1.mp4: 640x640 (no detections), 11.3ms\n",
      "video 1/1 (frame 282/2322) /home/hatsu/coding/CapProj/TestSeg_1/video_input/fight_1.mp4: 640x640 1 Fighter, 21.4ms\n",
      "video 1/1 (frame 283/2322) /home/hatsu/coding/CapProj/TestSeg_1/video_input/fight_1.mp4: 640x640 1 Fighter, 12.8ms\n",
      "video 1/1 (frame 284/2322) /home/hatsu/coding/CapProj/TestSeg_1/video_input/fight_1.mp4: 640x640 1 Fighter, 14.3ms\n",
      "video 1/1 (frame 285/2322) /home/hatsu/coding/CapProj/TestSeg_1/video_input/fight_1.mp4: 640x640 1 Fighter, 12.2ms\n",
      "video 1/1 (frame 286/2322) /home/hatsu/coding/CapProj/TestSeg_1/video_input/fight_1.mp4: 640x640 1 Fighter, 12.8ms\n",
      "video 1/1 (frame 287/2322) /home/hatsu/coding/CapProj/TestSeg_1/video_input/fight_1.mp4: 640x640 1 Fighter, 13.2ms\n",
      "video 1/1 (frame 288/2322) /home/hatsu/coding/CapProj/TestSeg_1/video_input/fight_1.mp4: 640x640 (no detections), 11.9ms\n",
      "video 1/1 (frame 289/2322) /home/hatsu/coding/CapProj/TestSeg_1/video_input/fight_1.mp4: 640x640 (no detections), 13.1ms\n",
      "video 1/1 (frame 290/2322) /home/hatsu/coding/CapProj/TestSeg_1/video_input/fight_1.mp4: 640x640 (no detections), 13.6ms\n",
      "video 1/1 (frame 291/2322) /home/hatsu/coding/CapProj/TestSeg_1/video_input/fight_1.mp4: 640x640 1 Fighter, 11.4ms\n",
      "video 1/1 (frame 292/2322) /home/hatsu/coding/CapProj/TestSeg_1/video_input/fight_1.mp4: 640x640 2 Fighters, 12.9ms\n",
      "video 1/1 (frame 293/2322) /home/hatsu/coding/CapProj/TestSeg_1/video_input/fight_1.mp4: 640x640 (no detections), 11.2ms\n",
      "video 1/1 (frame 294/2322) /home/hatsu/coding/CapProj/TestSeg_1/video_input/fight_1.mp4: 640x640 (no detections), 14.0ms\n",
      "video 1/1 (frame 295/2322) /home/hatsu/coding/CapProj/TestSeg_1/video_input/fight_1.mp4: 640x640 3 Fighters, 12.1ms\n",
      "video 1/1 (frame 296/2322) /home/hatsu/coding/CapProj/TestSeg_1/video_input/fight_1.mp4: 640x640 1 Fighter, 12.9ms\n",
      "video 1/1 (frame 297/2322) /home/hatsu/coding/CapProj/TestSeg_1/video_input/fight_1.mp4: 640x640 1 Fighter, 13.1ms\n",
      "video 1/1 (frame 298/2322) /home/hatsu/coding/CapProj/TestSeg_1/video_input/fight_1.mp4: 640x640 1 Fighter, 11.5ms\n",
      "video 1/1 (frame 299/2322) /home/hatsu/coding/CapProj/TestSeg_1/video_input/fight_1.mp4: 640x640 1 Fighter, 11.5ms\n",
      "video 1/1 (frame 300/2322) /home/hatsu/coding/CapProj/TestSeg_1/video_input/fight_1.mp4: 640x640 1 Fighter, 11.2ms\n",
      "video 1/1 (frame 301/2322) /home/hatsu/coding/CapProj/TestSeg_1/video_input/fight_1.mp4: 640x640 1 Fighter, 12.7ms\n",
      "video 1/1 (frame 302/2322) /home/hatsu/coding/CapProj/TestSeg_1/video_input/fight_1.mp4: 640x640 1 Fighter, 13.3ms\n",
      "video 1/1 (frame 303/2322) /home/hatsu/coding/CapProj/TestSeg_1/video_input/fight_1.mp4: 640x640 1 Fighter, 12.1ms\n",
      "video 1/1 (frame 304/2322) /home/hatsu/coding/CapProj/TestSeg_1/video_input/fight_1.mp4: 640x640 (no detections), 14.1ms\n",
      "video 1/1 (frame 305/2322) /home/hatsu/coding/CapProj/TestSeg_1/video_input/fight_1.mp4: 640x640 (no detections), 11.2ms\n",
      "video 1/1 (frame 306/2322) /home/hatsu/coding/CapProj/TestSeg_1/video_input/fight_1.mp4: 640x640 1 Fighter, 10.4ms\n",
      "video 1/1 (frame 307/2322) /home/hatsu/coding/CapProj/TestSeg_1/video_input/fight_1.mp4: 640x640 (no detections), 12.6ms\n",
      "video 1/1 (frame 308/2322) /home/hatsu/coding/CapProj/TestSeg_1/video_input/fight_1.mp4: 640x640 (no detections), 11.0ms\n",
      "video 1/1 (frame 309/2322) /home/hatsu/coding/CapProj/TestSeg_1/video_input/fight_1.mp4: 640x640 (no detections), 12.4ms\n",
      "video 1/1 (frame 310/2322) /home/hatsu/coding/CapProj/TestSeg_1/video_input/fight_1.mp4: 640x640 (no detections), 11.2ms\n",
      "video 1/1 (frame 311/2322) /home/hatsu/coding/CapProj/TestSeg_1/video_input/fight_1.mp4: 640x640 (no detections), 11.1ms\n",
      "video 1/1 (frame 312/2322) /home/hatsu/coding/CapProj/TestSeg_1/video_input/fight_1.mp4: 640x640 (no detections), 12.3ms\n",
      "video 1/1 (frame 313/2322) /home/hatsu/coding/CapProj/TestSeg_1/video_input/fight_1.mp4: 640x640 (no detections), 12.3ms\n",
      "video 1/1 (frame 314/2322) /home/hatsu/coding/CapProj/TestSeg_1/video_input/fight_1.mp4: 640x640 (no detections), 12.5ms\n",
      "video 1/1 (frame 315/2322) /home/hatsu/coding/CapProj/TestSeg_1/video_input/fight_1.mp4: 640x640 (no detections), 13.2ms\n",
      "video 1/1 (frame 316/2322) /home/hatsu/coding/CapProj/TestSeg_1/video_input/fight_1.mp4: 640x640 (no detections), 11.9ms\n",
      "video 1/1 (frame 317/2322) /home/hatsu/coding/CapProj/TestSeg_1/video_input/fight_1.mp4: 640x640 (no detections), 15.0ms\n",
      "video 1/1 (frame 318/2322) /home/hatsu/coding/CapProj/TestSeg_1/video_input/fight_1.mp4: 640x640 (no detections), 11.2ms\n",
      "video 1/1 (frame 319/2322) /home/hatsu/coding/CapProj/TestSeg_1/video_input/fight_1.mp4: 640x640 (no detections), 10.8ms\n",
      "video 1/1 (frame 320/2322) /home/hatsu/coding/CapProj/TestSeg_1/video_input/fight_1.mp4: 640x640 (no detections), 14.4ms\n",
      "video 1/1 (frame 321/2322) /home/hatsu/coding/CapProj/TestSeg_1/video_input/fight_1.mp4: 640x640 (no detections), 13.0ms\n",
      "video 1/1 (frame 322/2322) /home/hatsu/coding/CapProj/TestSeg_1/video_input/fight_1.mp4: 640x640 (no detections), 13.3ms\n",
      "video 1/1 (frame 323/2322) /home/hatsu/coding/CapProj/TestSeg_1/video_input/fight_1.mp4: 640x640 (no detections), 12.4ms\n",
      "video 1/1 (frame 324/2322) /home/hatsu/coding/CapProj/TestSeg_1/video_input/fight_1.mp4: 640x640 (no detections), 13.7ms\n",
      "video 1/1 (frame 325/2322) /home/hatsu/coding/CapProj/TestSeg_1/video_input/fight_1.mp4: 640x640 1 Fighter, 10.5ms\n",
      "video 1/1 (frame 326/2322) /home/hatsu/coding/CapProj/TestSeg_1/video_input/fight_1.mp4: 640x640 1 Fighter, 11.0ms\n",
      "video 1/1 (frame 327/2322) /home/hatsu/coding/CapProj/TestSeg_1/video_input/fight_1.mp4: 640x640 (no detections), 11.5ms\n",
      "video 1/1 (frame 328/2322) /home/hatsu/coding/CapProj/TestSeg_1/video_input/fight_1.mp4: 640x640 (no detections), 11.8ms\n",
      "video 1/1 (frame 329/2322) /home/hatsu/coding/CapProj/TestSeg_1/video_input/fight_1.mp4: 640x640 (no detections), 11.4ms\n",
      "video 1/1 (frame 330/2322) /home/hatsu/coding/CapProj/TestSeg_1/video_input/fight_1.mp4: 640x640 (no detections), 13.2ms\n",
      "video 1/1 (frame 331/2322) /home/hatsu/coding/CapProj/TestSeg_1/video_input/fight_1.mp4: 640x640 1 Fighter, 11.1ms\n",
      "video 1/1 (frame 332/2322) /home/hatsu/coding/CapProj/TestSeg_1/video_input/fight_1.mp4: 640x640 (no detections), 11.9ms\n",
      "video 1/1 (frame 333/2322) /home/hatsu/coding/CapProj/TestSeg_1/video_input/fight_1.mp4: 640x640 (no detections), 11.4ms\n",
      "video 1/1 (frame 334/2322) /home/hatsu/coding/CapProj/TestSeg_1/video_input/fight_1.mp4: 640x640 (no detections), 11.6ms\n",
      "video 1/1 (frame 335/2322) /home/hatsu/coding/CapProj/TestSeg_1/video_input/fight_1.mp4: 640x640 (no detections), 16.3ms\n",
      "video 1/1 (frame 336/2322) /home/hatsu/coding/CapProj/TestSeg_1/video_input/fight_1.mp4: 640x640 (no detections), 14.3ms\n",
      "video 1/1 (frame 337/2322) /home/hatsu/coding/CapProj/TestSeg_1/video_input/fight_1.mp4: 640x640 (no detections), 11.4ms\n",
      "video 1/1 (frame 338/2322) /home/hatsu/coding/CapProj/TestSeg_1/video_input/fight_1.mp4: 640x640 (no detections), 11.1ms\n",
      "video 1/1 (frame 339/2322) /home/hatsu/coding/CapProj/TestSeg_1/video_input/fight_1.mp4: 640x640 (no detections), 12.8ms\n",
      "video 1/1 (frame 340/2322) /home/hatsu/coding/CapProj/TestSeg_1/video_input/fight_1.mp4: 640x640 3 Fighters, 11.2ms\n",
      "video 1/1 (frame 341/2322) /home/hatsu/coding/CapProj/TestSeg_1/video_input/fight_1.mp4: 640x640 1 Fighter, 15.1ms\n",
      "video 1/1 (frame 342/2322) /home/hatsu/coding/CapProj/TestSeg_1/video_input/fight_1.mp4: 640x640 2 Fighters, 12.5ms\n",
      "video 1/1 (frame 343/2322) /home/hatsu/coding/CapProj/TestSeg_1/video_input/fight_1.mp4: 640x640 1 Fighter, 14.9ms\n",
      "video 1/1 (frame 344/2322) /home/hatsu/coding/CapProj/TestSeg_1/video_input/fight_1.mp4: 640x640 1 Fighter, 11.6ms\n",
      "video 1/1 (frame 345/2322) /home/hatsu/coding/CapProj/TestSeg_1/video_input/fight_1.mp4: 640x640 1 Fighter, 11.1ms\n",
      "video 1/1 (frame 346/2322) /home/hatsu/coding/CapProj/TestSeg_1/video_input/fight_1.mp4: 640x640 1 Fighter, 11.6ms\n",
      "video 1/1 (frame 347/2322) /home/hatsu/coding/CapProj/TestSeg_1/video_input/fight_1.mp4: 640x640 1 Fighter, 13.2ms\n",
      "video 1/1 (frame 348/2322) /home/hatsu/coding/CapProj/TestSeg_1/video_input/fight_1.mp4: 640x640 1 Fighter, 12.0ms\n",
      "video 1/1 (frame 349/2322) /home/hatsu/coding/CapProj/TestSeg_1/video_input/fight_1.mp4: 640x640 1 Fighter, 13.6ms\n",
      "video 1/1 (frame 350/2322) /home/hatsu/coding/CapProj/TestSeg_1/video_input/fight_1.mp4: 640x640 1 Fighter, 11.5ms\n",
      "video 1/1 (frame 351/2322) /home/hatsu/coding/CapProj/TestSeg_1/video_input/fight_1.mp4: 640x640 1 Fighter, 11.7ms\n",
      "video 1/1 (frame 352/2322) /home/hatsu/coding/CapProj/TestSeg_1/video_input/fight_1.mp4: 640x640 1 Fighter, 11.4ms\n",
      "video 1/1 (frame 353/2322) /home/hatsu/coding/CapProj/TestSeg_1/video_input/fight_1.mp4: 640x640 1 Fighter, 11.7ms\n",
      "video 1/1 (frame 354/2322) /home/hatsu/coding/CapProj/TestSeg_1/video_input/fight_1.mp4: 640x640 1 Fighter, 11.5ms\n",
      "video 1/1 (frame 355/2322) /home/hatsu/coding/CapProj/TestSeg_1/video_input/fight_1.mp4: 640x640 1 Fighter, 12.0ms\n",
      "video 1/1 (frame 356/2322) /home/hatsu/coding/CapProj/TestSeg_1/video_input/fight_1.mp4: 640x640 1 Fighter, 12.4ms\n",
      "video 1/1 (frame 357/2322) /home/hatsu/coding/CapProj/TestSeg_1/video_input/fight_1.mp4: 640x640 1 Fighter, 12.2ms\n",
      "video 1/1 (frame 358/2322) /home/hatsu/coding/CapProj/TestSeg_1/video_input/fight_1.mp4: 640x640 1 Fighter, 11.1ms\n",
      "video 1/1 (frame 359/2322) /home/hatsu/coding/CapProj/TestSeg_1/video_input/fight_1.mp4: 640x640 (no detections), 11.3ms\n",
      "video 1/1 (frame 360/2322) /home/hatsu/coding/CapProj/TestSeg_1/video_input/fight_1.mp4: 640x640 1 Fighter, 11.5ms\n",
      "video 1/1 (frame 361/2322) /home/hatsu/coding/CapProj/TestSeg_1/video_input/fight_1.mp4: 640x640 1 Fighter, 13.1ms\n",
      "video 1/1 (frame 362/2322) /home/hatsu/coding/CapProj/TestSeg_1/video_input/fight_1.mp4: 640x640 2 Fighters, 13.9ms\n",
      "video 1/1 (frame 363/2322) /home/hatsu/coding/CapProj/TestSeg_1/video_input/fight_1.mp4: 640x640 1 Fighter, 12.9ms\n",
      "video 1/1 (frame 364/2322) /home/hatsu/coding/CapProj/TestSeg_1/video_input/fight_1.mp4: 640x640 1 Fighter, 13.4ms\n",
      "video 1/1 (frame 365/2322) /home/hatsu/coding/CapProj/TestSeg_1/video_input/fight_1.mp4: 640x640 1 Fighter, 11.1ms\n",
      "video 1/1 (frame 366/2322) /home/hatsu/coding/CapProj/TestSeg_1/video_input/fight_1.mp4: 640x640 1 Fighter, 13.1ms\n",
      "video 1/1 (frame 367/2322) /home/hatsu/coding/CapProj/TestSeg_1/video_input/fight_1.mp4: 640x640 1 Fighter, 16.7ms\n",
      "video 1/1 (frame 368/2322) /home/hatsu/coding/CapProj/TestSeg_1/video_input/fight_1.mp4: 640x640 1 Fighter, 11.2ms\n",
      "video 1/1 (frame 369/2322) /home/hatsu/coding/CapProj/TestSeg_1/video_input/fight_1.mp4: 640x640 1 Fighter, 11.2ms\n",
      "video 1/1 (frame 370/2322) /home/hatsu/coding/CapProj/TestSeg_1/video_input/fight_1.mp4: 640x640 1 Fighter, 11.3ms\n",
      "video 1/1 (frame 371/2322) /home/hatsu/coding/CapProj/TestSeg_1/video_input/fight_1.mp4: 640x640 1 Fighter, 12.2ms\n",
      "video 1/1 (frame 372/2322) /home/hatsu/coding/CapProj/TestSeg_1/video_input/fight_1.mp4: 640x640 2 Fighters, 15.7ms\n",
      "video 1/1 (frame 373/2322) /home/hatsu/coding/CapProj/TestSeg_1/video_input/fight_1.mp4: 640x640 2 Fighters, 14.0ms\n",
      "video 1/1 (frame 374/2322) /home/hatsu/coding/CapProj/TestSeg_1/video_input/fight_1.mp4: 640x640 2 Fighters, 11.8ms\n",
      "video 1/1 (frame 375/2322) /home/hatsu/coding/CapProj/TestSeg_1/video_input/fight_1.mp4: 640x640 3 Fighters, 12.1ms\n",
      "video 1/1 (frame 376/2322) /home/hatsu/coding/CapProj/TestSeg_1/video_input/fight_1.mp4: 640x640 3 Fighters, 13.2ms\n",
      "video 1/1 (frame 377/2322) /home/hatsu/coding/CapProj/TestSeg_1/video_input/fight_1.mp4: 640x640 3 Fighters, 13.1ms\n",
      "video 1/1 (frame 378/2322) /home/hatsu/coding/CapProj/TestSeg_1/video_input/fight_1.mp4: 640x640 2 Fighters, 15.6ms\n",
      "video 1/1 (frame 379/2322) /home/hatsu/coding/CapProj/TestSeg_1/video_input/fight_1.mp4: 640x640 1 Fighter, 14.1ms\n",
      "video 1/1 (frame 380/2322) /home/hatsu/coding/CapProj/TestSeg_1/video_input/fight_1.mp4: 640x640 3 Fighters, 11.3ms\n",
      "video 1/1 (frame 381/2322) /home/hatsu/coding/CapProj/TestSeg_1/video_input/fight_1.mp4: 640x640 1 Fighter, 15.5ms\n",
      "video 1/1 (frame 382/2322) /home/hatsu/coding/CapProj/TestSeg_1/video_input/fight_1.mp4: 640x640 1 Fighter, 11.2ms\n",
      "video 1/1 (frame 383/2322) /home/hatsu/coding/CapProj/TestSeg_1/video_input/fight_1.mp4: 640x640 1 Fighter, 11.5ms\n",
      "video 1/1 (frame 384/2322) /home/hatsu/coding/CapProj/TestSeg_1/video_input/fight_1.mp4: 640x640 2 Fighters, 12.3ms\n",
      "video 1/1 (frame 385/2322) /home/hatsu/coding/CapProj/TestSeg_1/video_input/fight_1.mp4: 640x640 2 Fighters, 11.8ms\n",
      "video 1/1 (frame 386/2322) /home/hatsu/coding/CapProj/TestSeg_1/video_input/fight_1.mp4: 640x640 1 Fighter, 11.3ms\n",
      "video 1/1 (frame 387/2322) /home/hatsu/coding/CapProj/TestSeg_1/video_input/fight_1.mp4: 640x640 2 Fighters, 11.4ms\n",
      "video 1/1 (frame 388/2322) /home/hatsu/coding/CapProj/TestSeg_1/video_input/fight_1.mp4: 640x640 1 Fighter, 11.1ms\n",
      "video 1/1 (frame 389/2322) /home/hatsu/coding/CapProj/TestSeg_1/video_input/fight_1.mp4: 640x640 1 Fighter, 11.3ms\n",
      "video 1/1 (frame 390/2322) /home/hatsu/coding/CapProj/TestSeg_1/video_input/fight_1.mp4: 640x640 2 Fighters, 11.5ms\n",
      "video 1/1 (frame 391/2322) /home/hatsu/coding/CapProj/TestSeg_1/video_input/fight_1.mp4: 640x640 3 Fighters, 11.8ms\n",
      "video 1/1 (frame 392/2322) /home/hatsu/coding/CapProj/TestSeg_1/video_input/fight_1.mp4: 640x640 3 Fighters, 25.0ms\n",
      "video 1/1 (frame 393/2322) /home/hatsu/coding/CapProj/TestSeg_1/video_input/fight_1.mp4: 640x640 2 Fighters, 11.9ms\n",
      "video 1/1 (frame 394/2322) /home/hatsu/coding/CapProj/TestSeg_1/video_input/fight_1.mp4: 640x640 (no detections), 13.4ms\n",
      "video 1/1 (frame 395/2322) /home/hatsu/coding/CapProj/TestSeg_1/video_input/fight_1.mp4: 640x640 2 Fighters, 11.4ms\n",
      "video 1/1 (frame 396/2322) /home/hatsu/coding/CapProj/TestSeg_1/video_input/fight_1.mp4: 640x640 1 Fighter, 11.9ms\n",
      "video 1/1 (frame 397/2322) /home/hatsu/coding/CapProj/TestSeg_1/video_input/fight_1.mp4: 640x640 1 Fighter, 12.4ms\n",
      "video 1/1 (frame 398/2322) /home/hatsu/coding/CapProj/TestSeg_1/video_input/fight_1.mp4: 640x640 1 Fighter, 12.2ms\n",
      "video 1/1 (frame 399/2322) /home/hatsu/coding/CapProj/TestSeg_1/video_input/fight_1.mp4: 640x640 (no detections), 11.4ms\n",
      "video 1/1 (frame 400/2322) /home/hatsu/coding/CapProj/TestSeg_1/video_input/fight_1.mp4: 640x640 (no detections), 11.5ms\n",
      "video 1/1 (frame 401/2322) /home/hatsu/coding/CapProj/TestSeg_1/video_input/fight_1.mp4: 640x640 (no detections), 11.2ms\n",
      "video 1/1 (frame 402/2322) /home/hatsu/coding/CapProj/TestSeg_1/video_input/fight_1.mp4: 640x640 (no detections), 12.9ms\n",
      "video 1/1 (frame 403/2322) /home/hatsu/coding/CapProj/TestSeg_1/video_input/fight_1.mp4: 640x640 (no detections), 12.7ms\n",
      "video 1/1 (frame 404/2322) /home/hatsu/coding/CapProj/TestSeg_1/video_input/fight_1.mp4: 640x640 1 Fighter, 13.4ms\n",
      "video 1/1 (frame 405/2322) /home/hatsu/coding/CapProj/TestSeg_1/video_input/fight_1.mp4: 640x640 2 Fighters, 11.6ms\n",
      "video 1/1 (frame 406/2322) /home/hatsu/coding/CapProj/TestSeg_1/video_input/fight_1.mp4: 640x640 1 Fighter, 14.1ms\n",
      "video 1/1 (frame 407/2322) /home/hatsu/coding/CapProj/TestSeg_1/video_input/fight_1.mp4: 640x640 1 Fighter, 11.9ms\n",
      "video 1/1 (frame 408/2322) /home/hatsu/coding/CapProj/TestSeg_1/video_input/fight_1.mp4: 640x640 (no detections), 12.2ms\n",
      "video 1/1 (frame 409/2322) /home/hatsu/coding/CapProj/TestSeg_1/video_input/fight_1.mp4: 640x640 (no detections), 13.6ms\n",
      "video 1/1 (frame 410/2322) /home/hatsu/coding/CapProj/TestSeg_1/video_input/fight_1.mp4: 640x640 1 Fighter, 12.0ms\n",
      "video 1/1 (frame 411/2322) /home/hatsu/coding/CapProj/TestSeg_1/video_input/fight_1.mp4: 640x640 1 Fighter, 13.1ms\n",
      "video 1/1 (frame 412/2322) /home/hatsu/coding/CapProj/TestSeg_1/video_input/fight_1.mp4: 640x640 1 Fighter, 11.9ms\n",
      "video 1/1 (frame 413/2322) /home/hatsu/coding/CapProj/TestSeg_1/video_input/fight_1.mp4: 640x640 (no detections), 12.6ms\n",
      "video 1/1 (frame 414/2322) /home/hatsu/coding/CapProj/TestSeg_1/video_input/fight_1.mp4: 640x640 1 Fighter, 11.7ms\n",
      "video 1/1 (frame 415/2322) /home/hatsu/coding/CapProj/TestSeg_1/video_input/fight_1.mp4: 640x640 1 Fighter, 13.3ms\n",
      "video 1/1 (frame 416/2322) /home/hatsu/coding/CapProj/TestSeg_1/video_input/fight_1.mp4: 640x640 1 Fighter, 15.3ms\n",
      "video 1/1 (frame 417/2322) /home/hatsu/coding/CapProj/TestSeg_1/video_input/fight_1.mp4: 640x640 1 Fighter, 13.9ms\n",
      "video 1/1 (frame 418/2322) /home/hatsu/coding/CapProj/TestSeg_1/video_input/fight_1.mp4: 640x640 1 Fighter, 13.3ms\n",
      "video 1/1 (frame 419/2322) /home/hatsu/coding/CapProj/TestSeg_1/video_input/fight_1.mp4: 640x640 1 Fighter, 12.2ms\n",
      "video 1/1 (frame 420/2322) /home/hatsu/coding/CapProj/TestSeg_1/video_input/fight_1.mp4: 640x640 1 Fighter, 13.5ms\n",
      "video 1/1 (frame 421/2322) /home/hatsu/coding/CapProj/TestSeg_1/video_input/fight_1.mp4: 640x640 2 Fighters, 12.3ms\n",
      "video 1/1 (frame 422/2322) /home/hatsu/coding/CapProj/TestSeg_1/video_input/fight_1.mp4: 640x640 2 Fighters, 11.4ms\n",
      "video 1/1 (frame 423/2322) /home/hatsu/coding/CapProj/TestSeg_1/video_input/fight_1.mp4: 640x640 1 Fighter, 14.8ms\n",
      "video 1/1 (frame 424/2322) /home/hatsu/coding/CapProj/TestSeg_1/video_input/fight_1.mp4: 640x640 1 Fighter, 13.2ms\n",
      "video 1/1 (frame 425/2322) /home/hatsu/coding/CapProj/TestSeg_1/video_input/fight_1.mp4: 640x640 1 Fighter, 10.9ms\n",
      "video 1/1 (frame 426/2322) /home/hatsu/coding/CapProj/TestSeg_1/video_input/fight_1.mp4: 640x640 1 Fighter, 11.9ms\n",
      "video 1/1 (frame 427/2322) /home/hatsu/coding/CapProj/TestSeg_1/video_input/fight_1.mp4: 640x640 1 Fighter, 13.8ms\n",
      "video 1/1 (frame 428/2322) /home/hatsu/coding/CapProj/TestSeg_1/video_input/fight_1.mp4: 640x640 (no detections), 11.0ms\n",
      "video 1/1 (frame 429/2322) /home/hatsu/coding/CapProj/TestSeg_1/video_input/fight_1.mp4: 640x640 (no detections), 11.1ms\n",
      "video 1/1 (frame 430/2322) /home/hatsu/coding/CapProj/TestSeg_1/video_input/fight_1.mp4: 640x640 1 Fighter, 13.1ms\n",
      "video 1/1 (frame 431/2322) /home/hatsu/coding/CapProj/TestSeg_1/video_input/fight_1.mp4: 640x640 1 Fighter, 42.3ms\n",
      "video 1/1 (frame 432/2322) /home/hatsu/coding/CapProj/TestSeg_1/video_input/fight_1.mp4: 640x640 1 Fighter, 12.8ms\n",
      "video 1/1 (frame 433/2322) /home/hatsu/coding/CapProj/TestSeg_1/video_input/fight_1.mp4: 640x640 1 Fighter, 14.2ms\n",
      "video 1/1 (frame 434/2322) /home/hatsu/coding/CapProj/TestSeg_1/video_input/fight_1.mp4: 640x640 1 Fighter, 12.0ms\n",
      "video 1/1 (frame 435/2322) /home/hatsu/coding/CapProj/TestSeg_1/video_input/fight_1.mp4: 640x640 1 Fighter, 10.8ms\n",
      "video 1/1 (frame 436/2322) /home/hatsu/coding/CapProj/TestSeg_1/video_input/fight_1.mp4: 640x640 2 Fighters, 11.2ms\n",
      "video 1/1 (frame 437/2322) /home/hatsu/coding/CapProj/TestSeg_1/video_input/fight_1.mp4: 640x640 2 Fighters, 11.8ms\n",
      "video 1/1 (frame 438/2322) /home/hatsu/coding/CapProj/TestSeg_1/video_input/fight_1.mp4: 640x640 2 Fighters, 11.4ms\n",
      "video 1/1 (frame 439/2322) /home/hatsu/coding/CapProj/TestSeg_1/video_input/fight_1.mp4: 640x640 2 Fighters, 11.5ms\n",
      "video 1/1 (frame 440/2322) /home/hatsu/coding/CapProj/TestSeg_1/video_input/fight_1.mp4: 640x640 2 Fighters, 11.6ms\n",
      "video 1/1 (frame 441/2322) /home/hatsu/coding/CapProj/TestSeg_1/video_input/fight_1.mp4: 640x640 1 Fighter, 11.7ms\n",
      "video 1/1 (frame 442/2322) /home/hatsu/coding/CapProj/TestSeg_1/video_input/fight_1.mp4: 640x640 2 Fighters, 11.4ms\n",
      "video 1/1 (frame 443/2322) /home/hatsu/coding/CapProj/TestSeg_1/video_input/fight_1.mp4: 640x640 1 Fighter, 11.8ms\n",
      "video 1/1 (frame 444/2322) /home/hatsu/coding/CapProj/TestSeg_1/video_input/fight_1.mp4: 640x640 1 Fighter, 11.1ms\n",
      "video 1/1 (frame 445/2322) /home/hatsu/coding/CapProj/TestSeg_1/video_input/fight_1.mp4: 640x640 2 Fighters, 11.3ms\n",
      "video 1/1 (frame 446/2322) /home/hatsu/coding/CapProj/TestSeg_1/video_input/fight_1.mp4: 640x640 2 Fighters, 14.1ms\n",
      "video 1/1 (frame 447/2322) /home/hatsu/coding/CapProj/TestSeg_1/video_input/fight_1.mp4: 640x640 2 Fighters, 11.8ms\n",
      "video 1/1 (frame 448/2322) /home/hatsu/coding/CapProj/TestSeg_1/video_input/fight_1.mp4: 640x640 1 Fighter, 11.8ms\n",
      "video 1/1 (frame 449/2322) /home/hatsu/coding/CapProj/TestSeg_1/video_input/fight_1.mp4: 640x640 1 Fighter, 11.6ms\n",
      "video 1/1 (frame 450/2322) /home/hatsu/coding/CapProj/TestSeg_1/video_input/fight_1.mp4: 640x640 1 Fighter, 15.0ms\n",
      "video 1/1 (frame 451/2322) /home/hatsu/coding/CapProj/TestSeg_1/video_input/fight_1.mp4: 640x640 1 Fighter, 11.2ms\n",
      "video 1/1 (frame 452/2322) /home/hatsu/coding/CapProj/TestSeg_1/video_input/fight_1.mp4: 640x640 2 Fighters, 11.6ms\n",
      "video 1/1 (frame 453/2322) /home/hatsu/coding/CapProj/TestSeg_1/video_input/fight_1.mp4: 640x640 1 Fighter, 13.1ms\n",
      "video 1/1 (frame 454/2322) /home/hatsu/coding/CapProj/TestSeg_1/video_input/fight_1.mp4: 640x640 1 Fighter, 11.5ms\n",
      "video 1/1 (frame 455/2322) /home/hatsu/coding/CapProj/TestSeg_1/video_input/fight_1.mp4: 640x640 1 Fighter, 12.0ms\n",
      "video 1/1 (frame 456/2322) /home/hatsu/coding/CapProj/TestSeg_1/video_input/fight_1.mp4: 640x640 1 Fighter, 12.1ms\n",
      "video 1/1 (frame 457/2322) /home/hatsu/coding/CapProj/TestSeg_1/video_input/fight_1.mp4: 640x640 1 Fighter, 12.8ms\n",
      "video 1/1 (frame 458/2322) /home/hatsu/coding/CapProj/TestSeg_1/video_input/fight_1.mp4: 640x640 1 Fighter, 12.2ms\n",
      "video 1/1 (frame 459/2322) /home/hatsu/coding/CapProj/TestSeg_1/video_input/fight_1.mp4: 640x640 1 Fighter, 12.1ms\n",
      "video 1/1 (frame 460/2322) /home/hatsu/coding/CapProj/TestSeg_1/video_input/fight_1.mp4: 640x640 1 Fighter, 13.1ms\n",
      "video 1/1 (frame 461/2322) /home/hatsu/coding/CapProj/TestSeg_1/video_input/fight_1.mp4: 640x640 1 Fighter, 10.9ms\n",
      "video 1/1 (frame 462/2322) /home/hatsu/coding/CapProj/TestSeg_1/video_input/fight_1.mp4: 640x640 1 Fighter, 13.3ms\n",
      "video 1/1 (frame 463/2322) /home/hatsu/coding/CapProj/TestSeg_1/video_input/fight_1.mp4: 640x640 1 Fighter, 13.0ms\n",
      "video 1/1 (frame 464/2322) /home/hatsu/coding/CapProj/TestSeg_1/video_input/fight_1.mp4: 640x640 1 Fighter, 13.4ms\n",
      "video 1/1 (frame 465/2322) /home/hatsu/coding/CapProj/TestSeg_1/video_input/fight_1.mp4: 640x640 1 Fighter, 13.1ms\n",
      "video 1/1 (frame 466/2322) /home/hatsu/coding/CapProj/TestSeg_1/video_input/fight_1.mp4: 640x640 1 Fighter, 12.3ms\n",
      "video 1/1 (frame 467/2322) /home/hatsu/coding/CapProj/TestSeg_1/video_input/fight_1.mp4: 640x640 1 Fighter, 11.8ms\n",
      "video 1/1 (frame 468/2322) /home/hatsu/coding/CapProj/TestSeg_1/video_input/fight_1.mp4: 640x640 1 Fighter, 11.6ms\n",
      "video 1/1 (frame 469/2322) /home/hatsu/coding/CapProj/TestSeg_1/video_input/fight_1.mp4: 640x640 1 Fighter, 11.2ms\n",
      "video 1/1 (frame 470/2322) /home/hatsu/coding/CapProj/TestSeg_1/video_input/fight_1.mp4: 640x640 2 Fighters, 11.2ms\n",
      "video 1/1 (frame 471/2322) /home/hatsu/coding/CapProj/TestSeg_1/video_input/fight_1.mp4: 640x640 2 Fighters, 16.2ms\n",
      "video 1/1 (frame 472/2322) /home/hatsu/coding/CapProj/TestSeg_1/video_input/fight_1.mp4: 640x640 2 Fighters, 12.1ms\n",
      "video 1/1 (frame 473/2322) /home/hatsu/coding/CapProj/TestSeg_1/video_input/fight_1.mp4: 640x640 1 Fighter, 11.6ms\n",
      "video 1/1 (frame 474/2322) /home/hatsu/coding/CapProj/TestSeg_1/video_input/fight_1.mp4: 640x640 1 Fighter, 12.8ms\n",
      "video 1/1 (frame 475/2322) /home/hatsu/coding/CapProj/TestSeg_1/video_input/fight_1.mp4: 640x640 2 Fighters, 13.0ms\n",
      "video 1/1 (frame 476/2322) /home/hatsu/coding/CapProj/TestSeg_1/video_input/fight_1.mp4: 640x640 2 Fighters, 12.8ms\n",
      "video 1/1 (frame 477/2322) /home/hatsu/coding/CapProj/TestSeg_1/video_input/fight_1.mp4: 640x640 2 Fighters, 11.9ms\n",
      "video 1/1 (frame 478/2322) /home/hatsu/coding/CapProj/TestSeg_1/video_input/fight_1.mp4: 640x640 1 Fighter, 11.9ms\n",
      "video 1/1 (frame 479/2322) /home/hatsu/coding/CapProj/TestSeg_1/video_input/fight_1.mp4: 640x640 1 Fighter, 11.8ms\n",
      "video 1/1 (frame 480/2322) /home/hatsu/coding/CapProj/TestSeg_1/video_input/fight_1.mp4: 640x640 1 Fighter, 12.0ms\n",
      "video 1/1 (frame 481/2322) /home/hatsu/coding/CapProj/TestSeg_1/video_input/fight_1.mp4: 640x640 1 Fighter, 11.6ms\n",
      "video 1/1 (frame 482/2322) /home/hatsu/coding/CapProj/TestSeg_1/video_input/fight_1.mp4: 640x640 1 Fighter, 13.1ms\n",
      "video 1/1 (frame 483/2322) /home/hatsu/coding/CapProj/TestSeg_1/video_input/fight_1.mp4: 640x640 1 Fighter, 11.2ms\n",
      "video 1/1 (frame 484/2322) /home/hatsu/coding/CapProj/TestSeg_1/video_input/fight_1.mp4: 640x640 1 Fighter, 13.1ms\n",
      "video 1/1 (frame 485/2322) /home/hatsu/coding/CapProj/TestSeg_1/video_input/fight_1.mp4: 640x640 1 Fighter, 11.5ms\n",
      "video 1/1 (frame 486/2322) /home/hatsu/coding/CapProj/TestSeg_1/video_input/fight_1.mp4: 640x640 1 Fighter, 11.3ms\n",
      "video 1/1 (frame 487/2322) /home/hatsu/coding/CapProj/TestSeg_1/video_input/fight_1.mp4: 640x640 1 Fighter, 12.7ms\n",
      "video 1/1 (frame 488/2322) /home/hatsu/coding/CapProj/TestSeg_1/video_input/fight_1.mp4: 640x640 1 Fighter, 12.7ms\n",
      "video 1/1 (frame 489/2322) /home/hatsu/coding/CapProj/TestSeg_1/video_input/fight_1.mp4: 640x640 1 Fighter, 14.5ms\n",
      "video 1/1 (frame 490/2322) /home/hatsu/coding/CapProj/TestSeg_1/video_input/fight_1.mp4: 640x640 1 Fighter, 11.5ms\n",
      "video 1/1 (frame 491/2322) /home/hatsu/coding/CapProj/TestSeg_1/video_input/fight_1.mp4: 640x640 1 Fighter, 11.6ms\n",
      "video 1/1 (frame 492/2322) /home/hatsu/coding/CapProj/TestSeg_1/video_input/fight_1.mp4: 640x640 1 Fighter, 13.6ms\n",
      "video 1/1 (frame 493/2322) /home/hatsu/coding/CapProj/TestSeg_1/video_input/fight_1.mp4: 640x640 1 Fighter, 13.8ms\n",
      "video 1/1 (frame 494/2322) /home/hatsu/coding/CapProj/TestSeg_1/video_input/fight_1.mp4: 640x640 1 Fighter, 12.9ms\n",
      "video 1/1 (frame 495/2322) /home/hatsu/coding/CapProj/TestSeg_1/video_input/fight_1.mp4: 640x640 1 Fighter, 11.6ms\n",
      "video 1/1 (frame 496/2322) /home/hatsu/coding/CapProj/TestSeg_1/video_input/fight_1.mp4: 640x640 1 Fighter, 11.7ms\n",
      "video 1/1 (frame 497/2322) /home/hatsu/coding/CapProj/TestSeg_1/video_input/fight_1.mp4: 640x640 1 Fighter, 12.0ms\n",
      "video 1/1 (frame 498/2322) /home/hatsu/coding/CapProj/TestSeg_1/video_input/fight_1.mp4: 640x640 1 Fighter, 11.5ms\n",
      "video 1/1 (frame 499/2322) /home/hatsu/coding/CapProj/TestSeg_1/video_input/fight_1.mp4: 640x640 1 Fighter, 11.6ms\n",
      "video 1/1 (frame 500/2322) /home/hatsu/coding/CapProj/TestSeg_1/video_input/fight_1.mp4: 640x640 1 Fighter, 13.1ms\n",
      "video 1/1 (frame 501/2322) /home/hatsu/coding/CapProj/TestSeg_1/video_input/fight_1.mp4: 640x640 1 Fighter, 14.6ms\n",
      "video 1/1 (frame 502/2322) /home/hatsu/coding/CapProj/TestSeg_1/video_input/fight_1.mp4: 640x640 1 Fighter, 11.5ms\n",
      "video 1/1 (frame 503/2322) /home/hatsu/coding/CapProj/TestSeg_1/video_input/fight_1.mp4: 640x640 1 Fighter, 13.4ms\n",
      "video 1/1 (frame 504/2322) /home/hatsu/coding/CapProj/TestSeg_1/video_input/fight_1.mp4: 640x640 1 Fighter, 13.0ms\n",
      "video 1/1 (frame 505/2322) /home/hatsu/coding/CapProj/TestSeg_1/video_input/fight_1.mp4: 640x640 1 Fighter, 12.0ms\n",
      "video 1/1 (frame 506/2322) /home/hatsu/coding/CapProj/TestSeg_1/video_input/fight_1.mp4: 640x640 1 Fighter, 12.8ms\n",
      "video 1/1 (frame 507/2322) /home/hatsu/coding/CapProj/TestSeg_1/video_input/fight_1.mp4: 640x640 1 Fighter, 11.4ms\n",
      "video 1/1 (frame 508/2322) /home/hatsu/coding/CapProj/TestSeg_1/video_input/fight_1.mp4: 640x640 1 Fighter, 12.0ms\n",
      "video 1/1 (frame 509/2322) /home/hatsu/coding/CapProj/TestSeg_1/video_input/fight_1.mp4: 640x640 1 Fighter, 12.0ms\n",
      "video 1/1 (frame 510/2322) /home/hatsu/coding/CapProj/TestSeg_1/video_input/fight_1.mp4: 640x640 1 Fighter, 11.7ms\n",
      "video 1/1 (frame 511/2322) /home/hatsu/coding/CapProj/TestSeg_1/video_input/fight_1.mp4: 640x640 1 Fighter, 11.8ms\n",
      "video 1/1 (frame 512/2322) /home/hatsu/coding/CapProj/TestSeg_1/video_input/fight_1.mp4: 640x640 1 Fighter, 12.1ms\n",
      "video 1/1 (frame 513/2322) /home/hatsu/coding/CapProj/TestSeg_1/video_input/fight_1.mp4: 640x640 1 Fighter, 13.0ms\n",
      "video 1/1 (frame 514/2322) /home/hatsu/coding/CapProj/TestSeg_1/video_input/fight_1.mp4: 640x640 1 Fighter, 11.7ms\n",
      "video 1/1 (frame 515/2322) /home/hatsu/coding/CapProj/TestSeg_1/video_input/fight_1.mp4: 640x640 1 Fighter, 11.4ms\n",
      "video 1/1 (frame 516/2322) /home/hatsu/coding/CapProj/TestSeg_1/video_input/fight_1.mp4: 640x640 1 Fighter, 11.5ms\n",
      "video 1/1 (frame 517/2322) /home/hatsu/coding/CapProj/TestSeg_1/video_input/fight_1.mp4: 640x640 1 Fighter, 18.2ms\n",
      "video 1/1 (frame 518/2322) /home/hatsu/coding/CapProj/TestSeg_1/video_input/fight_1.mp4: 640x640 (no detections), 11.9ms\n",
      "video 1/1 (frame 519/2322) /home/hatsu/coding/CapProj/TestSeg_1/video_input/fight_1.mp4: 640x640 (no detections), 11.2ms\n",
      "video 1/1 (frame 520/2322) /home/hatsu/coding/CapProj/TestSeg_1/video_input/fight_1.mp4: 640x640 1 Fighter, 11.5ms\n",
      "video 1/1 (frame 521/2322) /home/hatsu/coding/CapProj/TestSeg_1/video_input/fight_1.mp4: 640x640 1 Fighter, 11.8ms\n",
      "video 1/1 (frame 522/2322) /home/hatsu/coding/CapProj/TestSeg_1/video_input/fight_1.mp4: 640x640 1 Fighter, 12.2ms\n",
      "video 1/1 (frame 523/2322) /home/hatsu/coding/CapProj/TestSeg_1/video_input/fight_1.mp4: 640x640 (no detections), 11.2ms\n",
      "video 1/1 (frame 524/2322) /home/hatsu/coding/CapProj/TestSeg_1/video_input/fight_1.mp4: 640x640 1 Fighter, 11.5ms\n",
      "video 1/1 (frame 525/2322) /home/hatsu/coding/CapProj/TestSeg_1/video_input/fight_1.mp4: 640x640 (no detections), 11.5ms\n",
      "video 1/1 (frame 526/2322) /home/hatsu/coding/CapProj/TestSeg_1/video_input/fight_1.mp4: 640x640 1 Fighter, 15.8ms\n",
      "video 1/1 (frame 527/2322) /home/hatsu/coding/CapProj/TestSeg_1/video_input/fight_1.mp4: 640x640 1 Fighter, 14.3ms\n",
      "video 1/1 (frame 528/2322) /home/hatsu/coding/CapProj/TestSeg_1/video_input/fight_1.mp4: 640x640 1 Fighter, 11.5ms\n",
      "video 1/1 (frame 529/2322) /home/hatsu/coding/CapProj/TestSeg_1/video_input/fight_1.mp4: 640x640 3 Fighters, 13.0ms\n",
      "video 1/1 (frame 530/2322) /home/hatsu/coding/CapProj/TestSeg_1/video_input/fight_1.mp4: 640x640 2 Fighters, 14.0ms\n",
      "video 1/1 (frame 531/2322) /home/hatsu/coding/CapProj/TestSeg_1/video_input/fight_1.mp4: 640x640 2 Fighters, 13.8ms\n",
      "video 1/1 (frame 532/2322) /home/hatsu/coding/CapProj/TestSeg_1/video_input/fight_1.mp4: 640x640 2 Fighters, 12.3ms\n",
      "video 1/1 (frame 533/2322) /home/hatsu/coding/CapProj/TestSeg_1/video_input/fight_1.mp4: 640x640 2 Fighters, 12.1ms\n",
      "video 1/1 (frame 534/2322) /home/hatsu/coding/CapProj/TestSeg_1/video_input/fight_1.mp4: 640x640 2 Fighters, 12.1ms\n",
      "video 1/1 (frame 535/2322) /home/hatsu/coding/CapProj/TestSeg_1/video_input/fight_1.mp4: 640x640 2 Fighters, 12.2ms\n",
      "video 1/1 (frame 536/2322) /home/hatsu/coding/CapProj/TestSeg_1/video_input/fight_1.mp4: 640x640 1 Fighter, 12.0ms\n",
      "video 1/1 (frame 537/2322) /home/hatsu/coding/CapProj/TestSeg_1/video_input/fight_1.mp4: 640x640 1 Fighter, 11.9ms\n",
      "video 1/1 (frame 538/2322) /home/hatsu/coding/CapProj/TestSeg_1/video_input/fight_1.mp4: 640x640 1 Fighter, 11.9ms\n",
      "video 1/1 (frame 539/2322) /home/hatsu/coding/CapProj/TestSeg_1/video_input/fight_1.mp4: 640x640 1 Fighter, 11.6ms\n",
      "video 1/1 (frame 540/2322) /home/hatsu/coding/CapProj/TestSeg_1/video_input/fight_1.mp4: 640x640 1 Fighter, 11.6ms\n",
      "video 1/1 (frame 541/2322) /home/hatsu/coding/CapProj/TestSeg_1/video_input/fight_1.mp4: 640x640 1 Fighter, 12.0ms\n",
      "video 1/1 (frame 542/2322) /home/hatsu/coding/CapProj/TestSeg_1/video_input/fight_1.mp4: 640x640 1 Fighter, 11.7ms\n",
      "video 1/1 (frame 543/2322) /home/hatsu/coding/CapProj/TestSeg_1/video_input/fight_1.mp4: 640x640 1 Fighter, 14.0ms\n",
      "video 1/1 (frame 544/2322) /home/hatsu/coding/CapProj/TestSeg_1/video_input/fight_1.mp4: 640x640 1 Fighter, 11.7ms\n",
      "video 1/1 (frame 545/2322) /home/hatsu/coding/CapProj/TestSeg_1/video_input/fight_1.mp4: 640x640 1 Fighter, 11.7ms\n",
      "video 1/1 (frame 546/2322) /home/hatsu/coding/CapProj/TestSeg_1/video_input/fight_1.mp4: 640x640 2 Fighters, 11.9ms\n",
      "video 1/1 (frame 547/2322) /home/hatsu/coding/CapProj/TestSeg_1/video_input/fight_1.mp4: 640x640 2 Fighters, 11.6ms\n",
      "video 1/1 (frame 548/2322) /home/hatsu/coding/CapProj/TestSeg_1/video_input/fight_1.mp4: 640x640 1 Fighter, 13.1ms\n",
      "video 1/1 (frame 549/2322) /home/hatsu/coding/CapProj/TestSeg_1/video_input/fight_1.mp4: 640x640 1 Fighter, 12.2ms\n",
      "video 1/1 (frame 550/2322) /home/hatsu/coding/CapProj/TestSeg_1/video_input/fight_1.mp4: 640x640 3 Fighters, 11.7ms\n",
      "video 1/1 (frame 551/2322) /home/hatsu/coding/CapProj/TestSeg_1/video_input/fight_1.mp4: 640x640 2 Fighters, 13.5ms\n",
      "video 1/1 (frame 552/2322) /home/hatsu/coding/CapProj/TestSeg_1/video_input/fight_1.mp4: 640x640 3 Fighters, 15.2ms\n",
      "video 1/1 (frame 553/2322) /home/hatsu/coding/CapProj/TestSeg_1/video_input/fight_1.mp4: 640x640 3 Fighters, 14.0ms\n",
      "video 1/1 (frame 554/2322) /home/hatsu/coding/CapProj/TestSeg_1/video_input/fight_1.mp4: 640x640 4 Fighters, 11.8ms\n",
      "video 1/1 (frame 555/2322) /home/hatsu/coding/CapProj/TestSeg_1/video_input/fight_1.mp4: 640x640 1 Fighter, 12.1ms\n",
      "video 1/1 (frame 556/2322) /home/hatsu/coding/CapProj/TestSeg_1/video_input/fight_1.mp4: 640x640 1 Fighter, 11.8ms\n",
      "video 1/1 (frame 557/2322) /home/hatsu/coding/CapProj/TestSeg_1/video_input/fight_1.mp4: 640x640 1 Fighter, 12.1ms\n",
      "video 1/1 (frame 558/2322) /home/hatsu/coding/CapProj/TestSeg_1/video_input/fight_1.mp4: 640x640 1 Fighter, 12.1ms\n",
      "video 1/1 (frame 559/2322) /home/hatsu/coding/CapProj/TestSeg_1/video_input/fight_1.mp4: 640x640 1 Fighter, 12.3ms\n",
      "video 1/1 (frame 560/2322) /home/hatsu/coding/CapProj/TestSeg_1/video_input/fight_1.mp4: 640x640 1 Fighter, 11.6ms\n",
      "video 1/1 (frame 561/2322) /home/hatsu/coding/CapProj/TestSeg_1/video_input/fight_1.mp4: 640x640 1 Fighter, 12.3ms\n",
      "video 1/1 (frame 562/2322) /home/hatsu/coding/CapProj/TestSeg_1/video_input/fight_1.mp4: 640x640 1 Fighter, 12.1ms\n",
      "video 1/1 (frame 563/2322) /home/hatsu/coding/CapProj/TestSeg_1/video_input/fight_1.mp4: 640x640 3 Fighters, 11.9ms\n",
      "video 1/1 (frame 564/2322) /home/hatsu/coding/CapProj/TestSeg_1/video_input/fight_1.mp4: 640x640 1 Fighter, 11.6ms\n",
      "video 1/1 (frame 565/2322) /home/hatsu/coding/CapProj/TestSeg_1/video_input/fight_1.mp4: 640x640 3 Fighters, 12.2ms\n",
      "video 1/1 (frame 566/2322) /home/hatsu/coding/CapProj/TestSeg_1/video_input/fight_1.mp4: 640x640 1 Fighter, 14.6ms\n",
      "video 1/1 (frame 567/2322) /home/hatsu/coding/CapProj/TestSeg_1/video_input/fight_1.mp4: 640x640 1 Fighter, 14.5ms\n",
      "video 1/1 (frame 568/2322) /home/hatsu/coding/CapProj/TestSeg_1/video_input/fight_1.mp4: 640x640 1 Fighter, 12.3ms\n",
      "video 1/1 (frame 569/2322) /home/hatsu/coding/CapProj/TestSeg_1/video_input/fight_1.mp4: 640x640 1 Fighter, 11.6ms\n",
      "video 1/1 (frame 570/2322) /home/hatsu/coding/CapProj/TestSeg_1/video_input/fight_1.mp4: 640x640 1 Fighter, 11.4ms\n",
      "video 1/1 (frame 571/2322) /home/hatsu/coding/CapProj/TestSeg_1/video_input/fight_1.mp4: 640x640 1 Fighter, 11.9ms\n",
      "video 1/1 (frame 572/2322) /home/hatsu/coding/CapProj/TestSeg_1/video_input/fight_1.mp4: 640x640 1 Fighter, 13.7ms\n",
      "video 1/1 (frame 573/2322) /home/hatsu/coding/CapProj/TestSeg_1/video_input/fight_1.mp4: 640x640 1 Fighter, 11.7ms\n",
      "video 1/1 (frame 574/2322) /home/hatsu/coding/CapProj/TestSeg_1/video_input/fight_1.mp4: 640x640 1 Fighter, 11.7ms\n",
      "video 1/1 (frame 575/2322) /home/hatsu/coding/CapProj/TestSeg_1/video_input/fight_1.mp4: 640x640 1 Fighter, 13.4ms\n",
      "video 1/1 (frame 576/2322) /home/hatsu/coding/CapProj/TestSeg_1/video_input/fight_1.mp4: 640x640 1 Fighter, 12.2ms\n",
      "video 1/1 (frame 577/2322) /home/hatsu/coding/CapProj/TestSeg_1/video_input/fight_1.mp4: 640x640 1 Fighter, 11.8ms\n",
      "video 1/1 (frame 578/2322) /home/hatsu/coding/CapProj/TestSeg_1/video_input/fight_1.mp4: 640x640 1 Fighter, 13.7ms\n",
      "video 1/1 (frame 579/2322) /home/hatsu/coding/CapProj/TestSeg_1/video_input/fight_1.mp4: 640x640 1 Fighter, 12.2ms\n",
      "video 1/1 (frame 580/2322) /home/hatsu/coding/CapProj/TestSeg_1/video_input/fight_1.mp4: 640x640 2 Fighters, 12.1ms\n",
      "video 1/1 (frame 581/2322) /home/hatsu/coding/CapProj/TestSeg_1/video_input/fight_1.mp4: 640x640 1 Fighter, 12.1ms\n",
      "video 1/1 (frame 582/2322) /home/hatsu/coding/CapProj/TestSeg_1/video_input/fight_1.mp4: 640x640 1 Fighter, 11.4ms\n",
      "video 1/1 (frame 583/2322) /home/hatsu/coding/CapProj/TestSeg_1/video_input/fight_1.mp4: 640x640 1 Fighter, 12.6ms\n",
      "video 1/1 (frame 584/2322) /home/hatsu/coding/CapProj/TestSeg_1/video_input/fight_1.mp4: 640x640 1 Fighter, 11.1ms\n",
      "video 1/1 (frame 585/2322) /home/hatsu/coding/CapProj/TestSeg_1/video_input/fight_1.mp4: 640x640 1 Fighter, 12.5ms\n",
      "video 1/1 (frame 586/2322) /home/hatsu/coding/CapProj/TestSeg_1/video_input/fight_1.mp4: 640x640 2 Fighters, 13.0ms\n",
      "video 1/1 (frame 587/2322) /home/hatsu/coding/CapProj/TestSeg_1/video_input/fight_1.mp4: 640x640 2 Fighters, 13.4ms\n",
      "video 1/1 (frame 588/2322) /home/hatsu/coding/CapProj/TestSeg_1/video_input/fight_1.mp4: 640x640 1 Fighter, 13.3ms\n",
      "video 1/1 (frame 589/2322) /home/hatsu/coding/CapProj/TestSeg_1/video_input/fight_1.mp4: 640x640 1 Fighter, 13.6ms\n",
      "video 1/1 (frame 590/2322) /home/hatsu/coding/CapProj/TestSeg_1/video_input/fight_1.mp4: 640x640 1 Fighter, 11.7ms\n",
      "video 1/1 (frame 591/2322) /home/hatsu/coding/CapProj/TestSeg_1/video_input/fight_1.mp4: 640x640 1 Fighter, 11.4ms\n",
      "video 1/1 (frame 592/2322) /home/hatsu/coding/CapProj/TestSeg_1/video_input/fight_1.mp4: 640x640 1 Fighter, 11.7ms\n",
      "video 1/1 (frame 593/2322) /home/hatsu/coding/CapProj/TestSeg_1/video_input/fight_1.mp4: 640x640 1 Fighter, 12.0ms\n",
      "video 1/1 (frame 594/2322) /home/hatsu/coding/CapProj/TestSeg_1/video_input/fight_1.mp4: 640x640 1 Fighter, 12.3ms\n",
      "video 1/1 (frame 595/2322) /home/hatsu/coding/CapProj/TestSeg_1/video_input/fight_1.mp4: 640x640 2 Fighters, 11.6ms\n",
      "video 1/1 (frame 596/2322) /home/hatsu/coding/CapProj/TestSeg_1/video_input/fight_1.mp4: 640x640 2 Fighters, 12.2ms\n",
      "video 1/1 (frame 597/2322) /home/hatsu/coding/CapProj/TestSeg_1/video_input/fight_1.mp4: 640x640 2 Fighters, 12.6ms\n",
      "video 1/1 (frame 598/2322) /home/hatsu/coding/CapProj/TestSeg_1/video_input/fight_1.mp4: 640x640 2 Fighters, 12.0ms\n",
      "video 1/1 (frame 599/2322) /home/hatsu/coding/CapProj/TestSeg_1/video_input/fight_1.mp4: 640x640 2 Fighters, 11.9ms\n",
      "video 1/1 (frame 600/2322) /home/hatsu/coding/CapProj/TestSeg_1/video_input/fight_1.mp4: 640x640 2 Fighters, 11.8ms\n",
      "video 1/1 (frame 601/2322) /home/hatsu/coding/CapProj/TestSeg_1/video_input/fight_1.mp4: 640x640 1 Fighter, 11.8ms\n",
      "video 1/1 (frame 602/2322) /home/hatsu/coding/CapProj/TestSeg_1/video_input/fight_1.mp4: 640x640 2 Fighters, 11.5ms\n",
      "video 1/1 (frame 603/2322) /home/hatsu/coding/CapProj/TestSeg_1/video_input/fight_1.mp4: 640x640 (no detections), 13.2ms\n",
      "video 1/1 (frame 604/2322) /home/hatsu/coding/CapProj/TestSeg_1/video_input/fight_1.mp4: 640x640 (no detections), 11.3ms\n",
      "video 1/1 (frame 605/2322) /home/hatsu/coding/CapProj/TestSeg_1/video_input/fight_1.mp4: 640x640 (no detections), 12.3ms\n",
      "video 1/1 (frame 606/2322) /home/hatsu/coding/CapProj/TestSeg_1/video_input/fight_1.mp4: 640x640 (no detections), 11.3ms\n",
      "video 1/1 (frame 607/2322) /home/hatsu/coding/CapProj/TestSeg_1/video_input/fight_1.mp4: 640x640 (no detections), 11.7ms\n",
      "video 1/1 (frame 608/2322) /home/hatsu/coding/CapProj/TestSeg_1/video_input/fight_1.mp4: 640x640 (no detections), 11.5ms\n",
      "video 1/1 (frame 609/2322) /home/hatsu/coding/CapProj/TestSeg_1/video_input/fight_1.mp4: 640x640 (no detections), 11.4ms\n",
      "video 1/1 (frame 610/2322) /home/hatsu/coding/CapProj/TestSeg_1/video_input/fight_1.mp4: 640x640 (no detections), 11.1ms\n",
      "video 1/1 (frame 611/2322) /home/hatsu/coding/CapProj/TestSeg_1/video_input/fight_1.mp4: 640x640 (no detections), 30.7ms\n",
      "video 1/1 (frame 612/2322) /home/hatsu/coding/CapProj/TestSeg_1/video_input/fight_1.mp4: 640x640 (no detections), 11.4ms\n",
      "video 1/1 (frame 613/2322) /home/hatsu/coding/CapProj/TestSeg_1/video_input/fight_1.mp4: 640x640 (no detections), 11.4ms\n",
      "video 1/1 (frame 614/2322) /home/hatsu/coding/CapProj/TestSeg_1/video_input/fight_1.mp4: 640x640 (no detections), 11.1ms\n",
      "video 1/1 (frame 615/2322) /home/hatsu/coding/CapProj/TestSeg_1/video_input/fight_1.mp4: 640x640 (no detections), 11.2ms\n",
      "video 1/1 (frame 616/2322) /home/hatsu/coding/CapProj/TestSeg_1/video_input/fight_1.mp4: 640x640 (no detections), 11.3ms\n",
      "video 1/1 (frame 617/2322) /home/hatsu/coding/CapProj/TestSeg_1/video_input/fight_1.mp4: 640x640 (no detections), 13.1ms\n",
      "video 1/1 (frame 618/2322) /home/hatsu/coding/CapProj/TestSeg_1/video_input/fight_1.mp4: 640x640 (no detections), 11.6ms\n",
      "video 1/1 (frame 619/2322) /home/hatsu/coding/CapProj/TestSeg_1/video_input/fight_1.mp4: 640x640 (no detections), 14.1ms\n",
      "video 1/1 (frame 620/2322) /home/hatsu/coding/CapProj/TestSeg_1/video_input/fight_1.mp4: 640x640 (no detections), 12.1ms\n",
      "video 1/1 (frame 621/2322) /home/hatsu/coding/CapProj/TestSeg_1/video_input/fight_1.mp4: 640x640 (no detections), 13.0ms\n",
      "video 1/1 (frame 622/2322) /home/hatsu/coding/CapProj/TestSeg_1/video_input/fight_1.mp4: 640x640 (no detections), 10.5ms\n",
      "video 1/1 (frame 623/2322) /home/hatsu/coding/CapProj/TestSeg_1/video_input/fight_1.mp4: 640x640 (no detections), 12.1ms\n",
      "video 1/1 (frame 624/2322) /home/hatsu/coding/CapProj/TestSeg_1/video_input/fight_1.mp4: 640x640 (no detections), 12.3ms\n",
      "video 1/1 (frame 625/2322) /home/hatsu/coding/CapProj/TestSeg_1/video_input/fight_1.mp4: 640x640 (no detections), 10.9ms\n",
      "video 1/1 (frame 626/2322) /home/hatsu/coding/CapProj/TestSeg_1/video_input/fight_1.mp4: 640x640 (no detections), 15.5ms\n",
      "video 1/1 (frame 627/2322) /home/hatsu/coding/CapProj/TestSeg_1/video_input/fight_1.mp4: 640x640 (no detections), 12.6ms\n",
      "video 1/1 (frame 628/2322) /home/hatsu/coding/CapProj/TestSeg_1/video_input/fight_1.mp4: 640x640 (no detections), 11.3ms\n",
      "video 1/1 (frame 629/2322) /home/hatsu/coding/CapProj/TestSeg_1/video_input/fight_1.mp4: 640x640 (no detections), 13.4ms\n",
      "video 1/1 (frame 630/2322) /home/hatsu/coding/CapProj/TestSeg_1/video_input/fight_1.mp4: 640x640 1 Fighter, 10.9ms\n",
      "video 1/1 (frame 631/2322) /home/hatsu/coding/CapProj/TestSeg_1/video_input/fight_1.mp4: 640x640 (no detections), 12.3ms\n",
      "video 1/1 (frame 632/2322) /home/hatsu/coding/CapProj/TestSeg_1/video_input/fight_1.mp4: 640x640 (no detections), 12.5ms\n",
      "video 1/1 (frame 633/2322) /home/hatsu/coding/CapProj/TestSeg_1/video_input/fight_1.mp4: 640x640 (no detections), 11.4ms\n",
      "video 1/1 (frame 634/2322) /home/hatsu/coding/CapProj/TestSeg_1/video_input/fight_1.mp4: 640x640 (no detections), 13.9ms\n",
      "video 1/1 (frame 635/2322) /home/hatsu/coding/CapProj/TestSeg_1/video_input/fight_1.mp4: 640x640 (no detections), 11.1ms\n",
      "video 1/1 (frame 636/2322) /home/hatsu/coding/CapProj/TestSeg_1/video_input/fight_1.mp4: 640x640 1 Fighter, 11.2ms\n",
      "video 1/1 (frame 637/2322) /home/hatsu/coding/CapProj/TestSeg_1/video_input/fight_1.mp4: 640x640 1 Fighter, 11.5ms\n",
      "video 1/1 (frame 638/2322) /home/hatsu/coding/CapProj/TestSeg_1/video_input/fight_1.mp4: 640x640 (no detections), 11.7ms\n",
      "video 1/1 (frame 639/2322) /home/hatsu/coding/CapProj/TestSeg_1/video_input/fight_1.mp4: 640x640 (no detections), 11.1ms\n",
      "video 1/1 (frame 640/2322) /home/hatsu/coding/CapProj/TestSeg_1/video_input/fight_1.mp4: 640x640 1 Fighter, 12.2ms\n",
      "video 1/1 (frame 641/2322) /home/hatsu/coding/CapProj/TestSeg_1/video_input/fight_1.mp4: 640x640 1 Fighter, 11.9ms\n",
      "video 1/1 (frame 642/2322) /home/hatsu/coding/CapProj/TestSeg_1/video_input/fight_1.mp4: 640x640 1 Fighter, 13.7ms\n",
      "video 1/1 (frame 643/2322) /home/hatsu/coding/CapProj/TestSeg_1/video_input/fight_1.mp4: 640x640 (no detections), 15.1ms\n",
      "video 1/1 (frame 644/2322) /home/hatsu/coding/CapProj/TestSeg_1/video_input/fight_1.mp4: 640x640 (no detections), 11.2ms\n",
      "video 1/1 (frame 645/2322) /home/hatsu/coding/CapProj/TestSeg_1/video_input/fight_1.mp4: 640x640 1 Fighter, 12.0ms\n",
      "video 1/1 (frame 646/2322) /home/hatsu/coding/CapProj/TestSeg_1/video_input/fight_1.mp4: 640x640 1 Fighter, 12.6ms\n",
      "video 1/1 (frame 647/2322) /home/hatsu/coding/CapProj/TestSeg_1/video_input/fight_1.mp4: 640x640 1 Fighter, 11.6ms\n",
      "video 1/1 (frame 648/2322) /home/hatsu/coding/CapProj/TestSeg_1/video_input/fight_1.mp4: 640x640 (no detections), 11.4ms\n",
      "video 1/1 (frame 649/2322) /home/hatsu/coding/CapProj/TestSeg_1/video_input/fight_1.mp4: 640x640 (no detections), 11.5ms\n",
      "video 1/1 (frame 650/2322) /home/hatsu/coding/CapProj/TestSeg_1/video_input/fight_1.mp4: 640x640 1 Fighter, 43.8ms\n",
      "video 1/1 (frame 651/2322) /home/hatsu/coding/CapProj/TestSeg_1/video_input/fight_1.mp4: 640x640 1 Fighter, 11.9ms\n",
      "video 1/1 (frame 652/2322) /home/hatsu/coding/CapProj/TestSeg_1/video_input/fight_1.mp4: 640x640 2 Fighters, 11.8ms\n",
      "video 1/1 (frame 653/2322) /home/hatsu/coding/CapProj/TestSeg_1/video_input/fight_1.mp4: 640x640 (no detections), 11.1ms\n",
      "video 1/1 (frame 654/2322) /home/hatsu/coding/CapProj/TestSeg_1/video_input/fight_1.mp4: 640x640 (no detections), 11.8ms\n",
      "video 1/1 (frame 655/2322) /home/hatsu/coding/CapProj/TestSeg_1/video_input/fight_1.mp4: 640x640 2 Fighters, 14.5ms\n",
      "video 1/1 (frame 656/2322) /home/hatsu/coding/CapProj/TestSeg_1/video_input/fight_1.mp4: 640x640 1 Fighter, 13.9ms\n",
      "video 1/1 (frame 657/2322) /home/hatsu/coding/CapProj/TestSeg_1/video_input/fight_1.mp4: 640x640 1 Fighter, 13.1ms\n",
      "video 1/1 (frame 658/2322) /home/hatsu/coding/CapProj/TestSeg_1/video_input/fight_1.mp4: 640x640 (no detections), 11.4ms\n",
      "video 1/1 (frame 659/2322) /home/hatsu/coding/CapProj/TestSeg_1/video_input/fight_1.mp4: 640x640 (no detections), 20.3ms\n",
      "video 1/1 (frame 660/2322) /home/hatsu/coding/CapProj/TestSeg_1/video_input/fight_1.mp4: 640x640 1 Fighter, 16.2ms\n",
      "video 1/1 (frame 661/2322) /home/hatsu/coding/CapProj/TestSeg_1/video_input/fight_1.mp4: 640x640 1 Fighter, 13.8ms\n",
      "video 1/1 (frame 662/2322) /home/hatsu/coding/CapProj/TestSeg_1/video_input/fight_1.mp4: 640x640 1 Fighter, 12.0ms\n",
      "video 1/1 (frame 663/2322) /home/hatsu/coding/CapProj/TestSeg_1/video_input/fight_1.mp4: 640x640 1 Fighter, 11.9ms\n",
      "video 1/1 (frame 664/2322) /home/hatsu/coding/CapProj/TestSeg_1/video_input/fight_1.mp4: 640x640 (no detections), 11.6ms\n",
      "video 1/1 (frame 665/2322) /home/hatsu/coding/CapProj/TestSeg_1/video_input/fight_1.mp4: 640x640 1 Fighter, 11.5ms\n",
      "video 1/1 (frame 666/2322) /home/hatsu/coding/CapProj/TestSeg_1/video_input/fight_1.mp4: 640x640 1 Fighter, 15.0ms\n",
      "video 1/1 (frame 667/2322) /home/hatsu/coding/CapProj/TestSeg_1/video_input/fight_1.mp4: 640x640 1 Fighter, 11.6ms\n",
      "video 1/1 (frame 668/2322) /home/hatsu/coding/CapProj/TestSeg_1/video_input/fight_1.mp4: 640x640 1 Fighter, 13.0ms\n",
      "video 1/1 (frame 669/2322) /home/hatsu/coding/CapProj/TestSeg_1/video_input/fight_1.mp4: 640x640 1 Fighter, 12.5ms\n",
      "video 1/1 (frame 670/2322) /home/hatsu/coding/CapProj/TestSeg_1/video_input/fight_1.mp4: 640x640 1 Fighter, 14.1ms\n",
      "video 1/1 (frame 671/2322) /home/hatsu/coding/CapProj/TestSeg_1/video_input/fight_1.mp4: 640x640 2 Fighters, 11.7ms\n",
      "video 1/1 (frame 672/2322) /home/hatsu/coding/CapProj/TestSeg_1/video_input/fight_1.mp4: 640x640 (no detections), 11.9ms\n",
      "video 1/1 (frame 673/2322) /home/hatsu/coding/CapProj/TestSeg_1/video_input/fight_1.mp4: 640x640 1 Fighter, 11.0ms\n",
      "video 1/1 (frame 674/2322) /home/hatsu/coding/CapProj/TestSeg_1/video_input/fight_1.mp4: 640x640 1 Fighter, 12.4ms\n",
      "video 1/1 (frame 675/2322) /home/hatsu/coding/CapProj/TestSeg_1/video_input/fight_1.mp4: 640x640 1 Fighter, 12.1ms\n",
      "video 1/1 (frame 676/2322) /home/hatsu/coding/CapProj/TestSeg_1/video_input/fight_1.mp4: 640x640 2 Fighters, 12.1ms\n",
      "video 1/1 (frame 677/2322) /home/hatsu/coding/CapProj/TestSeg_1/video_input/fight_1.mp4: 640x640 2 Fighters, 12.5ms\n",
      "video 1/1 (frame 678/2322) /home/hatsu/coding/CapProj/TestSeg_1/video_input/fight_1.mp4: 640x640 (no detections), 12.0ms\n",
      "video 1/1 (frame 679/2322) /home/hatsu/coding/CapProj/TestSeg_1/video_input/fight_1.mp4: 640x640 (no detections), 12.4ms\n",
      "video 1/1 (frame 680/2322) /home/hatsu/coding/CapProj/TestSeg_1/video_input/fight_1.mp4: 640x640 3 Fighters, 11.3ms\n",
      "video 1/1 (frame 681/2322) /home/hatsu/coding/CapProj/TestSeg_1/video_input/fight_1.mp4: 640x640 2 Fighters, 12.8ms\n",
      "video 1/1 (frame 682/2322) /home/hatsu/coding/CapProj/TestSeg_1/video_input/fight_1.mp4: 640x640 1 Fighter, 13.9ms\n",
      "video 1/1 (frame 683/2322) /home/hatsu/coding/CapProj/TestSeg_1/video_input/fight_1.mp4: 640x640 (no detections), 13.2ms\n",
      "video 1/1 (frame 684/2322) /home/hatsu/coding/CapProj/TestSeg_1/video_input/fight_1.mp4: 640x640 1 Fighter, 11.1ms\n",
      "video 1/1 (frame 685/2322) /home/hatsu/coding/CapProj/TestSeg_1/video_input/fight_1.mp4: 640x640 1 Fighter, 11.9ms\n",
      "video 1/1 (frame 686/2322) /home/hatsu/coding/CapProj/TestSeg_1/video_input/fight_1.mp4: 640x640 1 Fighter, 12.3ms\n",
      "video 1/1 (frame 687/2322) /home/hatsu/coding/CapProj/TestSeg_1/video_input/fight_1.mp4: 640x640 2 Fighters, 11.7ms\n",
      "video 1/1 (frame 688/2322) /home/hatsu/coding/CapProj/TestSeg_1/video_input/fight_1.mp4: 640x640 1 Fighter, 14.8ms\n",
      "video 1/1 (frame 689/2322) /home/hatsu/coding/CapProj/TestSeg_1/video_input/fight_1.mp4: 640x640 (no detections), 11.8ms\n",
      "video 1/1 (frame 690/2322) /home/hatsu/coding/CapProj/TestSeg_1/video_input/fight_1.mp4: 640x640 2 Fighters, 11.3ms\n",
      "video 1/1 (frame 691/2322) /home/hatsu/coding/CapProj/TestSeg_1/video_input/fight_1.mp4: 640x640 1 Fighter, 12.7ms\n",
      "video 1/1 (frame 692/2322) /home/hatsu/coding/CapProj/TestSeg_1/video_input/fight_1.mp4: 640x640 1 Fighter, 11.3ms\n",
      "video 1/1 (frame 693/2322) /home/hatsu/coding/CapProj/TestSeg_1/video_input/fight_1.mp4: 640x640 1 Fighter, 11.5ms\n",
      "video 1/1 (frame 694/2322) /home/hatsu/coding/CapProj/TestSeg_1/video_input/fight_1.mp4: 640x640 (no detections), 11.2ms\n",
      "video 1/1 (frame 695/2322) /home/hatsu/coding/CapProj/TestSeg_1/video_input/fight_1.mp4: 640x640 1 Fighter, 11.6ms\n",
      "video 1/1 (frame 696/2322) /home/hatsu/coding/CapProj/TestSeg_1/video_input/fight_1.mp4: 640x640 1 Fighter, 11.1ms\n",
      "video 1/1 (frame 697/2322) /home/hatsu/coding/CapProj/TestSeg_1/video_input/fight_1.mp4: 640x640 (no detections), 11.2ms\n",
      "video 1/1 (frame 698/2322) /home/hatsu/coding/CapProj/TestSeg_1/video_input/fight_1.mp4: 640x640 (no detections), 10.7ms\n",
      "video 1/1 (frame 699/2322) /home/hatsu/coding/CapProj/TestSeg_1/video_input/fight_1.mp4: 640x640 (no detections), 11.8ms\n",
      "video 1/1 (frame 700/2322) /home/hatsu/coding/CapProj/TestSeg_1/video_input/fight_1.mp4: 640x640 1 Fighter, 11.4ms\n",
      "video 1/1 (frame 701/2322) /home/hatsu/coding/CapProj/TestSeg_1/video_input/fight_1.mp4: 640x640 1 Fighter, 12.0ms\n",
      "video 1/1 (frame 702/2322) /home/hatsu/coding/CapProj/TestSeg_1/video_input/fight_1.mp4: 640x640 1 Fighter, 12.5ms\n",
      "video 1/1 (frame 703/2322) /home/hatsu/coding/CapProj/TestSeg_1/video_input/fight_1.mp4: 640x640 1 Fighter, 11.7ms\n",
      "video 1/1 (frame 704/2322) /home/hatsu/coding/CapProj/TestSeg_1/video_input/fight_1.mp4: 640x640 1 Fighter, 12.7ms\n",
      "video 1/1 (frame 705/2322) /home/hatsu/coding/CapProj/TestSeg_1/video_input/fight_1.mp4: 640x640 1 Fighter, 11.7ms\n",
      "video 1/1 (frame 706/2322) /home/hatsu/coding/CapProj/TestSeg_1/video_input/fight_1.mp4: 640x640 1 Fighter, 13.5ms\n",
      "video 1/1 (frame 707/2322) /home/hatsu/coding/CapProj/TestSeg_1/video_input/fight_1.mp4: 640x640 1 Fighter, 11.8ms\n",
      "video 1/1 (frame 708/2322) /home/hatsu/coding/CapProj/TestSeg_1/video_input/fight_1.mp4: 640x640 1 Fighter, 11.6ms\n",
      "video 1/1 (frame 709/2322) /home/hatsu/coding/CapProj/TestSeg_1/video_input/fight_1.mp4: 640x640 (no detections), 11.8ms\n",
      "video 1/1 (frame 710/2322) /home/hatsu/coding/CapProj/TestSeg_1/video_input/fight_1.mp4: 640x640 (no detections), 13.9ms\n",
      "video 1/1 (frame 711/2322) /home/hatsu/coding/CapProj/TestSeg_1/video_input/fight_1.mp4: 640x640 (no detections), 11.3ms\n",
      "video 1/1 (frame 712/2322) /home/hatsu/coding/CapProj/TestSeg_1/video_input/fight_1.mp4: 640x640 (no detections), 11.9ms\n",
      "video 1/1 (frame 713/2322) /home/hatsu/coding/CapProj/TestSeg_1/video_input/fight_1.mp4: 640x640 (no detections), 11.2ms\n",
      "video 1/1 (frame 714/2322) /home/hatsu/coding/CapProj/TestSeg_1/video_input/fight_1.mp4: 640x640 (no detections), 11.2ms\n",
      "video 1/1 (frame 715/2322) /home/hatsu/coding/CapProj/TestSeg_1/video_input/fight_1.mp4: 640x640 (no detections), 10.9ms\n",
      "video 1/1 (frame 716/2322) /home/hatsu/coding/CapProj/TestSeg_1/video_input/fight_1.mp4: 640x640 1 Fighter, 12.1ms\n",
      "video 1/1 (frame 717/2322) /home/hatsu/coding/CapProj/TestSeg_1/video_input/fight_1.mp4: 640x640 (no detections), 11.1ms\n",
      "video 1/1 (frame 718/2322) /home/hatsu/coding/CapProj/TestSeg_1/video_input/fight_1.mp4: 640x640 (no detections), 11.3ms\n",
      "video 1/1 (frame 719/2322) /home/hatsu/coding/CapProj/TestSeg_1/video_input/fight_1.mp4: 640x640 1 Fighter, 11.2ms\n",
      "video 1/1 (frame 720/2322) /home/hatsu/coding/CapProj/TestSeg_1/video_input/fight_1.mp4: 640x640 (no detections), 11.4ms\n",
      "video 1/1 (frame 721/2322) /home/hatsu/coding/CapProj/TestSeg_1/video_input/fight_1.mp4: 640x640 (no detections), 11.4ms\n",
      "video 1/1 (frame 722/2322) /home/hatsu/coding/CapProj/TestSeg_1/video_input/fight_1.mp4: 640x640 (no detections), 11.1ms\n",
      "video 1/1 (frame 723/2322) /home/hatsu/coding/CapProj/TestSeg_1/video_input/fight_1.mp4: 640x640 (no detections), 13.1ms\n",
      "video 1/1 (frame 724/2322) /home/hatsu/coding/CapProj/TestSeg_1/video_input/fight_1.mp4: 640x640 (no detections), 12.3ms\n",
      "video 1/1 (frame 725/2322) /home/hatsu/coding/CapProj/TestSeg_1/video_input/fight_1.mp4: 640x640 (no detections), 11.3ms\n",
      "video 1/1 (frame 726/2322) /home/hatsu/coding/CapProj/TestSeg_1/video_input/fight_1.mp4: 640x640 1 Fighter, 11.4ms\n",
      "video 1/1 (frame 727/2322) /home/hatsu/coding/CapProj/TestSeg_1/video_input/fight_1.mp4: 640x640 1 Fighter, 26.2ms\n",
      "video 1/1 (frame 728/2322) /home/hatsu/coding/CapProj/TestSeg_1/video_input/fight_1.mp4: 640x640 (no detections), 11.6ms\n",
      "video 1/1 (frame 729/2322) /home/hatsu/coding/CapProj/TestSeg_1/video_input/fight_1.mp4: 640x640 (no detections), 10.8ms\n",
      "video 1/1 (frame 730/2322) /home/hatsu/coding/CapProj/TestSeg_1/video_input/fight_1.mp4: 640x640 1 Fighter, 12.6ms\n",
      "video 1/1 (frame 731/2322) /home/hatsu/coding/CapProj/TestSeg_1/video_input/fight_1.mp4: 640x640 2 Fighters, 12.5ms\n",
      "video 1/1 (frame 732/2322) /home/hatsu/coding/CapProj/TestSeg_1/video_input/fight_1.mp4: 640x640 1 Fighter, 11.9ms\n",
      "video 1/1 (frame 733/2322) /home/hatsu/coding/CapProj/TestSeg_1/video_input/fight_1.mp4: 640x640 (no detections), 12.1ms\n",
      "video 1/1 (frame 734/2322) /home/hatsu/coding/CapProj/TestSeg_1/video_input/fight_1.mp4: 640x640 1 Fighter, 11.6ms\n",
      "video 1/1 (frame 735/2322) /home/hatsu/coding/CapProj/TestSeg_1/video_input/fight_1.mp4: 640x640 2 Fighters, 12.7ms\n",
      "video 1/1 (frame 736/2322) /home/hatsu/coding/CapProj/TestSeg_1/video_input/fight_1.mp4: 640x640 2 Fighters, 14.1ms\n",
      "video 1/1 (frame 737/2322) /home/hatsu/coding/CapProj/TestSeg_1/video_input/fight_1.mp4: 640x640 2 Fighters, 13.2ms\n",
      "video 1/1 (frame 738/2322) /home/hatsu/coding/CapProj/TestSeg_1/video_input/fight_1.mp4: 640x640 2 Fighters, 13.7ms\n",
      "video 1/1 (frame 739/2322) /home/hatsu/coding/CapProj/TestSeg_1/video_input/fight_1.mp4: 640x640 1 Fighter, 11.6ms\n",
      "video 1/1 (frame 740/2322) /home/hatsu/coding/CapProj/TestSeg_1/video_input/fight_1.mp4: 640x640 1 Fighter, 11.6ms\n",
      "video 1/1 (frame 741/2322) /home/hatsu/coding/CapProj/TestSeg_1/video_input/fight_1.mp4: 640x640 1 Fighter, 11.3ms\n",
      "video 1/1 (frame 742/2322) /home/hatsu/coding/CapProj/TestSeg_1/video_input/fight_1.mp4: 640x640 3 Fighters, 11.4ms\n",
      "video 1/1 (frame 743/2322) /home/hatsu/coding/CapProj/TestSeg_1/video_input/fight_1.mp4: 640x640 2 Fighters, 11.4ms\n",
      "video 1/1 (frame 744/2322) /home/hatsu/coding/CapProj/TestSeg_1/video_input/fight_1.mp4: 640x640 1 Fighter, 11.9ms\n",
      "video 1/1 (frame 745/2322) /home/hatsu/coding/CapProj/TestSeg_1/video_input/fight_1.mp4: 640x640 3 Fighters, 11.6ms\n",
      "video 1/1 (frame 746/2322) /home/hatsu/coding/CapProj/TestSeg_1/video_input/fight_1.mp4: 640x640 1 Fighter, 14.1ms\n",
      "video 1/1 (frame 747/2322) /home/hatsu/coding/CapProj/TestSeg_1/video_input/fight_1.mp4: 640x640 1 Fighter, 11.6ms\n",
      "video 1/1 (frame 748/2322) /home/hatsu/coding/CapProj/TestSeg_1/video_input/fight_1.mp4: 640x640 1 Fighter, 13.4ms\n",
      "video 1/1 (frame 749/2322) /home/hatsu/coding/CapProj/TestSeg_1/video_input/fight_1.mp4: 640x640 (no detections), 12.6ms\n",
      "video 1/1 (frame 750/2322) /home/hatsu/coding/CapProj/TestSeg_1/video_input/fight_1.mp4: 640x640 1 Fighter, 22.9ms\n",
      "video 1/1 (frame 751/2322) /home/hatsu/coding/CapProj/TestSeg_1/video_input/fight_1.mp4: 640x640 3 Fighters, 30.8ms\n",
      "video 1/1 (frame 752/2322) /home/hatsu/coding/CapProj/TestSeg_1/video_input/fight_1.mp4: 640x640 1 Fighter, 12.1ms\n",
      "video 1/1 (frame 753/2322) /home/hatsu/coding/CapProj/TestSeg_1/video_input/fight_1.mp4: 640x640 (no detections), 11.7ms\n",
      "video 1/1 (frame 754/2322) /home/hatsu/coding/CapProj/TestSeg_1/video_input/fight_1.mp4: 640x640 1 Fighter, 11.3ms\n",
      "video 1/1 (frame 755/2322) /home/hatsu/coding/CapProj/TestSeg_1/video_input/fight_1.mp4: 640x640 1 Fighter, 11.7ms\n",
      "video 1/1 (frame 756/2322) /home/hatsu/coding/CapProj/TestSeg_1/video_input/fight_1.mp4: 640x640 2 Fighters, 11.9ms\n",
      "video 1/1 (frame 757/2322) /home/hatsu/coding/CapProj/TestSeg_1/video_input/fight_1.mp4: 640x640 2 Fighters, 11.6ms\n",
      "video 1/1 (frame 758/2322) /home/hatsu/coding/CapProj/TestSeg_1/video_input/fight_1.mp4: 640x640 1 Fighter, 14.4ms\n",
      "video 1/1 (frame 759/2322) /home/hatsu/coding/CapProj/TestSeg_1/video_input/fight_1.mp4: 640x640 (no detections), 13.0ms\n",
      "video 1/1 (frame 760/2322) /home/hatsu/coding/CapProj/TestSeg_1/video_input/fight_1.mp4: 640x640 2 Fighters, 10.9ms\n",
      "video 1/1 (frame 761/2322) /home/hatsu/coding/CapProj/TestSeg_1/video_input/fight_1.mp4: 640x640 1 Fighter, 11.6ms\n",
      "video 1/1 (frame 762/2322) /home/hatsu/coding/CapProj/TestSeg_1/video_input/fight_1.mp4: 640x640 1 Fighter, 17.5ms\n",
      "video 1/1 (frame 763/2322) /home/hatsu/coding/CapProj/TestSeg_1/video_input/fight_1.mp4: 640x640 (no detections), 11.6ms\n",
      "video 1/1 (frame 764/2322) /home/hatsu/coding/CapProj/TestSeg_1/video_input/fight_1.mp4: 640x640 (no detections), 12.1ms\n",
      "video 1/1 (frame 765/2322) /home/hatsu/coding/CapProj/TestSeg_1/video_input/fight_1.mp4: 640x640 1 Fighter, 11.2ms\n",
      "video 1/1 (frame 766/2322) /home/hatsu/coding/CapProj/TestSeg_1/video_input/fight_1.mp4: 640x640 1 Fighter, 11.2ms\n",
      "video 1/1 (frame 767/2322) /home/hatsu/coding/CapProj/TestSeg_1/video_input/fight_1.mp4: 640x640 1 Fighter, 16.7ms\n",
      "video 1/1 (frame 768/2322) /home/hatsu/coding/CapProj/TestSeg_1/video_input/fight_1.mp4: 640x640 (no detections), 11.4ms\n",
      "video 1/1 (frame 769/2322) /home/hatsu/coding/CapProj/TestSeg_1/video_input/fight_1.mp4: 640x640 (no detections), 10.9ms\n",
      "video 1/1 (frame 770/2322) /home/hatsu/coding/CapProj/TestSeg_1/video_input/fight_1.mp4: 640x640 (no detections), 11.3ms\n",
      "video 1/1 (frame 771/2322) /home/hatsu/coding/CapProj/TestSeg_1/video_input/fight_1.mp4: 640x640 1 Fighter, 12.4ms\n",
      "video 1/1 (frame 772/2322) /home/hatsu/coding/CapProj/TestSeg_1/video_input/fight_1.mp4: 640x640 1 Fighter, 11.7ms\n",
      "video 1/1 (frame 773/2322) /home/hatsu/coding/CapProj/TestSeg_1/video_input/fight_1.mp4: 640x640 (no detections), 11.6ms\n",
      "video 1/1 (frame 774/2322) /home/hatsu/coding/CapProj/TestSeg_1/video_input/fight_1.mp4: 640x640 (no detections), 11.8ms\n",
      "video 1/1 (frame 775/2322) /home/hatsu/coding/CapProj/TestSeg_1/video_input/fight_1.mp4: 640x640 1 Fighter, 12.2ms\n",
      "video 1/1 (frame 776/2322) /home/hatsu/coding/CapProj/TestSeg_1/video_input/fight_1.mp4: 640x640 1 Fighter, 11.4ms\n",
      "video 1/1 (frame 777/2322) /home/hatsu/coding/CapProj/TestSeg_1/video_input/fight_1.mp4: 640x640 1 Fighter, 12.7ms\n",
      "video 1/1 (frame 778/2322) /home/hatsu/coding/CapProj/TestSeg_1/video_input/fight_1.mp4: 640x640 (no detections), 11.6ms\n",
      "video 1/1 (frame 779/2322) /home/hatsu/coding/CapProj/TestSeg_1/video_input/fight_1.mp4: 640x640 (no detections), 12.4ms\n",
      "video 1/1 (frame 780/2322) /home/hatsu/coding/CapProj/TestSeg_1/video_input/fight_1.mp4: 640x640 1 Fighter, 13.8ms\n",
      "video 1/1 (frame 781/2322) /home/hatsu/coding/CapProj/TestSeg_1/video_input/fight_1.mp4: 640x640 1 Fighter, 13.3ms\n",
      "video 1/1 (frame 782/2322) /home/hatsu/coding/CapProj/TestSeg_1/video_input/fight_1.mp4: 640x640 1 Fighter, 13.5ms\n",
      "video 1/1 (frame 783/2322) /home/hatsu/coding/CapProj/TestSeg_1/video_input/fight_1.mp4: 640x640 1 Fighter, 13.4ms\n",
      "video 1/1 (frame 784/2322) /home/hatsu/coding/CapProj/TestSeg_1/video_input/fight_1.mp4: 640x640 1 Fighter, 30.0ms\n",
      "video 1/1 (frame 785/2322) /home/hatsu/coding/CapProj/TestSeg_1/video_input/fight_1.mp4: 640x640 1 Fighter, 14.1ms\n",
      "video 1/1 (frame 786/2322) /home/hatsu/coding/CapProj/TestSeg_1/video_input/fight_1.mp4: 640x640 1 Fighter, 36.2ms\n",
      "video 1/1 (frame 787/2322) /home/hatsu/coding/CapProj/TestSeg_1/video_input/fight_1.mp4: 640x640 1 Fighter, 13.4ms\n",
      "video 1/1 (frame 788/2322) /home/hatsu/coding/CapProj/TestSeg_1/video_input/fight_1.mp4: 640x640 1 Fighter, 13.6ms\n",
      "video 1/1 (frame 789/2322) /home/hatsu/coding/CapProj/TestSeg_1/video_input/fight_1.mp4: 640x640 (no detections), 13.6ms\n",
      "video 1/1 (frame 790/2322) /home/hatsu/coding/CapProj/TestSeg_1/video_input/fight_1.mp4: 640x640 (no detections), 11.2ms\n",
      "video 1/1 (frame 791/2322) /home/hatsu/coding/CapProj/TestSeg_1/video_input/fight_1.mp4: 640x640 1 Fighter, 13.3ms\n",
      "video 1/1 (frame 792/2322) /home/hatsu/coding/CapProj/TestSeg_1/video_input/fight_1.mp4: 640x640 1 Fighter, 11.6ms\n",
      "video 1/1 (frame 793/2322) /home/hatsu/coding/CapProj/TestSeg_1/video_input/fight_1.mp4: 640x640 1 Fighter, 11.9ms\n",
      "video 1/1 (frame 794/2322) /home/hatsu/coding/CapProj/TestSeg_1/video_input/fight_1.mp4: 640x640 (no detections), 13.9ms\n",
      "video 1/1 (frame 795/2322) /home/hatsu/coding/CapProj/TestSeg_1/video_input/fight_1.mp4: 640x640 1 Fighter, 11.5ms\n",
      "video 1/1 (frame 796/2322) /home/hatsu/coding/CapProj/TestSeg_1/video_input/fight_1.mp4: 640x640 1 Fighter, 13.3ms\n",
      "video 1/1 (frame 797/2322) /home/hatsu/coding/CapProj/TestSeg_1/video_input/fight_1.mp4: 640x640 1 Fighter, 14.2ms\n",
      "video 1/1 (frame 798/2322) /home/hatsu/coding/CapProj/TestSeg_1/video_input/fight_1.mp4: 640x640 1 Fighter, 13.1ms\n",
      "video 1/1 (frame 799/2322) /home/hatsu/coding/CapProj/TestSeg_1/video_input/fight_1.mp4: 640x640 1 Fighter, 16.0ms\n",
      "video 1/1 (frame 800/2322) /home/hatsu/coding/CapProj/TestSeg_1/video_input/fight_1.mp4: 640x640 1 Fighter, 14.3ms\n",
      "video 1/1 (frame 801/2322) /home/hatsu/coding/CapProj/TestSeg_1/video_input/fight_1.mp4: 640x640 1 Fighter, 13.7ms\n",
      "video 1/1 (frame 802/2322) /home/hatsu/coding/CapProj/TestSeg_1/video_input/fight_1.mp4: 640x640 1 Fighter, 12.3ms\n",
      "video 1/1 (frame 803/2322) /home/hatsu/coding/CapProj/TestSeg_1/video_input/fight_1.mp4: 640x640 (no detections), 13.5ms\n",
      "video 1/1 (frame 804/2322) /home/hatsu/coding/CapProj/TestSeg_1/video_input/fight_1.mp4: 640x640 (no detections), 13.8ms\n",
      "video 1/1 (frame 805/2322) /home/hatsu/coding/CapProj/TestSeg_1/video_input/fight_1.mp4: 640x640 (no detections), 10.3ms\n",
      "video 1/1 (frame 806/2322) /home/hatsu/coding/CapProj/TestSeg_1/video_input/fight_1.mp4: 640x640 (no detections), 11.4ms\n",
      "video 1/1 (frame 807/2322) /home/hatsu/coding/CapProj/TestSeg_1/video_input/fight_1.mp4: 640x640 1 Fighter, 10.8ms\n",
      "video 1/1 (frame 808/2322) /home/hatsu/coding/CapProj/TestSeg_1/video_input/fight_1.mp4: 640x640 (no detections), 13.6ms\n",
      "video 1/1 (frame 809/2322) /home/hatsu/coding/CapProj/TestSeg_1/video_input/fight_1.mp4: 640x640 (no detections), 12.9ms\n",
      "video 1/1 (frame 810/2322) /home/hatsu/coding/CapProj/TestSeg_1/video_input/fight_1.mp4: 640x640 (no detections), 14.3ms\n",
      "video 1/1 (frame 811/2322) /home/hatsu/coding/CapProj/TestSeg_1/video_input/fight_1.mp4: 640x640 (no detections), 11.2ms\n",
      "video 1/1 (frame 812/2322) /home/hatsu/coding/CapProj/TestSeg_1/video_input/fight_1.mp4: 640x640 (no detections), 12.7ms\n",
      "video 1/1 (frame 813/2322) /home/hatsu/coding/CapProj/TestSeg_1/video_input/fight_1.mp4: 640x640 (no detections), 12.1ms\n",
      "video 1/1 (frame 814/2322) /home/hatsu/coding/CapProj/TestSeg_1/video_input/fight_1.mp4: 640x640 (no detections), 13.3ms\n",
      "video 1/1 (frame 815/2322) /home/hatsu/coding/CapProj/TestSeg_1/video_input/fight_1.mp4: 640x640 (no detections), 11.0ms\n",
      "video 1/1 (frame 816/2322) /home/hatsu/coding/CapProj/TestSeg_1/video_input/fight_1.mp4: 640x640 (no detections), 13.4ms\n",
      "video 1/1 (frame 817/2322) /home/hatsu/coding/CapProj/TestSeg_1/video_input/fight_1.mp4: 640x640 (no detections), 13.0ms\n",
      "video 1/1 (frame 818/2322) /home/hatsu/coding/CapProj/TestSeg_1/video_input/fight_1.mp4: 640x640 (no detections), 10.7ms\n",
      "video 1/1 (frame 819/2322) /home/hatsu/coding/CapProj/TestSeg_1/video_input/fight_1.mp4: 640x640 (no detections), 13.3ms\n",
      "video 1/1 (frame 820/2322) /home/hatsu/coding/CapProj/TestSeg_1/video_input/fight_1.mp4: 640x640 1 Fighter, 14.8ms\n",
      "video 1/1 (frame 821/2322) /home/hatsu/coding/CapProj/TestSeg_1/video_input/fight_1.mp4: 640x640 (no detections), 11.2ms\n",
      "video 1/1 (frame 822/2322) /home/hatsu/coding/CapProj/TestSeg_1/video_input/fight_1.mp4: 640x640 (no detections), 10.7ms\n",
      "video 1/1 (frame 823/2322) /home/hatsu/coding/CapProj/TestSeg_1/video_input/fight_1.mp4: 640x640 (no detections), 11.8ms\n",
      "video 1/1 (frame 824/2322) /home/hatsu/coding/CapProj/TestSeg_1/video_input/fight_1.mp4: 640x640 (no detections), 11.8ms\n",
      "video 1/1 (frame 825/2322) /home/hatsu/coding/CapProj/TestSeg_1/video_input/fight_1.mp4: 640x640 (no detections), 11.5ms\n",
      "video 1/1 (frame 826/2322) /home/hatsu/coding/CapProj/TestSeg_1/video_input/fight_1.mp4: 640x640 (no detections), 11.7ms\n",
      "video 1/1 (frame 827/2322) /home/hatsu/coding/CapProj/TestSeg_1/video_input/fight_1.mp4: 640x640 (no detections), 11.7ms\n",
      "video 1/1 (frame 828/2322) /home/hatsu/coding/CapProj/TestSeg_1/video_input/fight_1.mp4: 640x640 (no detections), 11.8ms\n",
      "video 1/1 (frame 829/2322) /home/hatsu/coding/CapProj/TestSeg_1/video_input/fight_1.mp4: 640x640 (no detections), 12.3ms\n",
      "video 1/1 (frame 830/2322) /home/hatsu/coding/CapProj/TestSeg_1/video_input/fight_1.mp4: 640x640 (no detections), 11.7ms\n",
      "video 1/1 (frame 831/2322) /home/hatsu/coding/CapProj/TestSeg_1/video_input/fight_1.mp4: 640x640 (no detections), 10.5ms\n",
      "video 1/1 (frame 832/2322) /home/hatsu/coding/CapProj/TestSeg_1/video_input/fight_1.mp4: 640x640 (no detections), 11.2ms\n",
      "video 1/1 (frame 833/2322) /home/hatsu/coding/CapProj/TestSeg_1/video_input/fight_1.mp4: 640x640 (no detections), 12.1ms\n",
      "video 1/1 (frame 834/2322) /home/hatsu/coding/CapProj/TestSeg_1/video_input/fight_1.mp4: 640x640 (no detections), 11.6ms\n",
      "video 1/1 (frame 835/2322) /home/hatsu/coding/CapProj/TestSeg_1/video_input/fight_1.mp4: 640x640 2 Fighters, 11.9ms\n",
      "video 1/1 (frame 836/2322) /home/hatsu/coding/CapProj/TestSeg_1/video_input/fight_1.mp4: 640x640 (no detections), 28.0ms\n",
      "video 1/1 (frame 837/2322) /home/hatsu/coding/CapProj/TestSeg_1/video_input/fight_1.mp4: 640x640 4 Fighters, 12.8ms\n",
      "video 1/1 (frame 838/2322) /home/hatsu/coding/CapProj/TestSeg_1/video_input/fight_1.mp4: 640x640 (no detections), 13.0ms\n",
      "video 1/1 (frame 839/2322) /home/hatsu/coding/CapProj/TestSeg_1/video_input/fight_1.mp4: 640x640 (no detections), 12.6ms\n",
      "video 1/1 (frame 840/2322) /home/hatsu/coding/CapProj/TestSeg_1/video_input/fight_1.mp4: 640x640 (no detections), 14.2ms\n",
      "video 1/1 (frame 841/2322) /home/hatsu/coding/CapProj/TestSeg_1/video_input/fight_1.mp4: 640x640 1 Fighter, 11.0ms\n",
      "video 1/1 (frame 842/2322) /home/hatsu/coding/CapProj/TestSeg_1/video_input/fight_1.mp4: 640x640 1 Fighter, 11.4ms\n",
      "video 1/1 (frame 843/2322) /home/hatsu/coding/CapProj/TestSeg_1/video_input/fight_1.mp4: 640x640 (no detections), 12.8ms\n",
      "video 1/1 (frame 844/2322) /home/hatsu/coding/CapProj/TestSeg_1/video_input/fight_1.mp4: 640x640 (no detections), 13.4ms\n",
      "video 1/1 (frame 845/2322) /home/hatsu/coding/CapProj/TestSeg_1/video_input/fight_1.mp4: 640x640 1 Fighter, 11.2ms\n",
      "video 1/1 (frame 846/2322) /home/hatsu/coding/CapProj/TestSeg_1/video_input/fight_1.mp4: 640x640 2 Fighters, 13.4ms\n",
      "video 1/1 (frame 847/2322) /home/hatsu/coding/CapProj/TestSeg_1/video_input/fight_1.mp4: 640x640 2 Fighters, 12.1ms\n",
      "video 1/1 (frame 848/2322) /home/hatsu/coding/CapProj/TestSeg_1/video_input/fight_1.mp4: 640x640 1 Fighter, 16.4ms\n",
      "video 1/1 (frame 849/2322) /home/hatsu/coding/CapProj/TestSeg_1/video_input/fight_1.mp4: 640x640 (no detections), 11.4ms\n",
      "video 1/1 (frame 850/2322) /home/hatsu/coding/CapProj/TestSeg_1/video_input/fight_1.mp4: 640x640 1 Fighter, 11.8ms\n",
      "video 1/1 (frame 851/2322) /home/hatsu/coding/CapProj/TestSeg_1/video_input/fight_1.mp4: 640x640 1 Fighter, 11.8ms\n",
      "video 1/1 (frame 852/2322) /home/hatsu/coding/CapProj/TestSeg_1/video_input/fight_1.mp4: 640x640 1 Fighter, 12.3ms\n",
      "video 1/1 (frame 853/2322) /home/hatsu/coding/CapProj/TestSeg_1/video_input/fight_1.mp4: 640x640 1 Fighter, 13.0ms\n",
      "video 1/1 (frame 854/2322) /home/hatsu/coding/CapProj/TestSeg_1/video_input/fight_1.mp4: 640x640 (no detections), 11.3ms\n",
      "video 1/1 (frame 855/2322) /home/hatsu/coding/CapProj/TestSeg_1/video_input/fight_1.mp4: 640x640 (no detections), 11.3ms\n",
      "video 1/1 (frame 856/2322) /home/hatsu/coding/CapProj/TestSeg_1/video_input/fight_1.mp4: 640x640 1 Fighter, 12.6ms\n",
      "video 1/1 (frame 857/2322) /home/hatsu/coding/CapProj/TestSeg_1/video_input/fight_1.mp4: 640x640 1 Fighter, 12.2ms\n",
      "video 1/1 (frame 858/2322) /home/hatsu/coding/CapProj/TestSeg_1/video_input/fight_1.mp4: 640x640 (no detections), 12.6ms\n",
      "video 1/1 (frame 859/2322) /home/hatsu/coding/CapProj/TestSeg_1/video_input/fight_1.mp4: 640x640 (no detections), 11.3ms\n",
      "video 1/1 (frame 860/2322) /home/hatsu/coding/CapProj/TestSeg_1/video_input/fight_1.mp4: 640x640 1 Fighter, 11.8ms\n",
      "video 1/1 (frame 861/2322) /home/hatsu/coding/CapProj/TestSeg_1/video_input/fight_1.mp4: 640x640 1 Fighter, 11.7ms\n",
      "video 1/1 (frame 862/2322) /home/hatsu/coding/CapProj/TestSeg_1/video_input/fight_1.mp4: 640x640 1 Fighter, 11.4ms\n",
      "video 1/1 (frame 863/2322) /home/hatsu/coding/CapProj/TestSeg_1/video_input/fight_1.mp4: 640x640 (no detections), 11.2ms\n",
      "video 1/1 (frame 864/2322) /home/hatsu/coding/CapProj/TestSeg_1/video_input/fight_1.mp4: 640x640 (no detections), 11.2ms\n",
      "video 1/1 (frame 865/2322) /home/hatsu/coding/CapProj/TestSeg_1/video_input/fight_1.mp4: 640x640 1 Fighter, 11.4ms\n",
      "video 1/1 (frame 866/2322) /home/hatsu/coding/CapProj/TestSeg_1/video_input/fight_1.mp4: 640x640 (no detections), 15.1ms\n",
      "video 1/1 (frame 867/2322) /home/hatsu/coding/CapProj/TestSeg_1/video_input/fight_1.mp4: 640x640 1 Fighter, 12.9ms\n",
      "video 1/1 (frame 868/2322) /home/hatsu/coding/CapProj/TestSeg_1/video_input/fight_1.mp4: 640x640 1 Fighter, 11.1ms\n",
      "video 1/1 (frame 869/2322) /home/hatsu/coding/CapProj/TestSeg_1/video_input/fight_1.mp4: 640x640 (no detections), 11.5ms\n",
      "video 1/1 (frame 870/2322) /home/hatsu/coding/CapProj/TestSeg_1/video_input/fight_1.mp4: 640x640 (no detections), 11.2ms\n",
      "video 1/1 (frame 871/2322) /home/hatsu/coding/CapProj/TestSeg_1/video_input/fight_1.mp4: 640x640 (no detections), 11.8ms\n",
      "video 1/1 (frame 872/2322) /home/hatsu/coding/CapProj/TestSeg_1/video_input/fight_1.mp4: 640x640 (no detections), 11.6ms\n",
      "video 1/1 (frame 873/2322) /home/hatsu/coding/CapProj/TestSeg_1/video_input/fight_1.mp4: 640x640 (no detections), 12.2ms\n",
      "video 1/1 (frame 874/2322) /home/hatsu/coding/CapProj/TestSeg_1/video_input/fight_1.mp4: 640x640 (no detections), 13.4ms\n",
      "video 1/1 (frame 875/2322) /home/hatsu/coding/CapProj/TestSeg_1/video_input/fight_1.mp4: 640x640 1 Fighter, 14.4ms\n",
      "video 1/1 (frame 876/2322) /home/hatsu/coding/CapProj/TestSeg_1/video_input/fight_1.mp4: 640x640 1 Fighter, 13.3ms\n",
      "video 1/1 (frame 877/2322) /home/hatsu/coding/CapProj/TestSeg_1/video_input/fight_1.mp4: 640x640 1 Fighter, 12.8ms\n",
      "video 1/1 (frame 878/2322) /home/hatsu/coding/CapProj/TestSeg_1/video_input/fight_1.mp4: 640x640 (no detections), 12.4ms\n",
      "video 1/1 (frame 879/2322) /home/hatsu/coding/CapProj/TestSeg_1/video_input/fight_1.mp4: 640x640 1 Fighter, 13.1ms\n",
      "video 1/1 (frame 880/2322) /home/hatsu/coding/CapProj/TestSeg_1/video_input/fight_1.mp4: 640x640 1 Fighter, 13.8ms\n",
      "video 1/1 (frame 881/2322) /home/hatsu/coding/CapProj/TestSeg_1/video_input/fight_1.mp4: 640x640 1 Fighter, 11.9ms\n",
      "video 1/1 (frame 882/2322) /home/hatsu/coding/CapProj/TestSeg_1/video_input/fight_1.mp4: 640x640 1 Fighter, 13.9ms\n",
      "video 1/1 (frame 883/2322) /home/hatsu/coding/CapProj/TestSeg_1/video_input/fight_1.mp4: 640x640 (no detections), 13.5ms\n",
      "video 1/1 (frame 884/2322) /home/hatsu/coding/CapProj/TestSeg_1/video_input/fight_1.mp4: 640x640 (no detections), 13.1ms\n",
      "video 1/1 (frame 885/2322) /home/hatsu/coding/CapProj/TestSeg_1/video_input/fight_1.mp4: 640x640 1 Fighter, 12.3ms\n",
      "video 1/1 (frame 886/2322) /home/hatsu/coding/CapProj/TestSeg_1/video_input/fight_1.mp4: 640x640 1 Fighter, 11.8ms\n",
      "video 1/1 (frame 887/2322) /home/hatsu/coding/CapProj/TestSeg_1/video_input/fight_1.mp4: 640x640 1 Fighter, 12.6ms\n",
      "video 1/1 (frame 888/2322) /home/hatsu/coding/CapProj/TestSeg_1/video_input/fight_1.mp4: 640x640 (no detections), 41.8ms\n",
      "video 1/1 (frame 889/2322) /home/hatsu/coding/CapProj/TestSeg_1/video_input/fight_1.mp4: 640x640 (no detections), 11.6ms\n",
      "video 1/1 (frame 890/2322) /home/hatsu/coding/CapProj/TestSeg_1/video_input/fight_1.mp4: 640x640 (no detections), 11.8ms\n",
      "video 1/1 (frame 891/2322) /home/hatsu/coding/CapProj/TestSeg_1/video_input/fight_1.mp4: 640x640 (no detections), 11.6ms\n",
      "video 1/1 (frame 892/2322) /home/hatsu/coding/CapProj/TestSeg_1/video_input/fight_1.mp4: 640x640 (no detections), 11.2ms\n",
      "video 1/1 (frame 893/2322) /home/hatsu/coding/CapProj/TestSeg_1/video_input/fight_1.mp4: 640x640 (no detections), 12.0ms\n",
      "video 1/1 (frame 894/2322) /home/hatsu/coding/CapProj/TestSeg_1/video_input/fight_1.mp4: 640x640 (no detections), 11.0ms\n",
      "video 1/1 (frame 895/2322) /home/hatsu/coding/CapProj/TestSeg_1/video_input/fight_1.mp4: 640x640 (no detections), 22.1ms\n",
      "video 1/1 (frame 896/2322) /home/hatsu/coding/CapProj/TestSeg_1/video_input/fight_1.mp4: 640x640 (no detections), 14.6ms\n",
      "video 1/1 (frame 897/2322) /home/hatsu/coding/CapProj/TestSeg_1/video_input/fight_1.mp4: 640x640 (no detections), 11.1ms\n",
      "video 1/1 (frame 898/2322) /home/hatsu/coding/CapProj/TestSeg_1/video_input/fight_1.mp4: 640x640 (no detections), 11.6ms\n",
      "video 1/1 (frame 899/2322) /home/hatsu/coding/CapProj/TestSeg_1/video_input/fight_1.mp4: 640x640 (no detections), 11.2ms\n",
      "video 1/1 (frame 900/2322) /home/hatsu/coding/CapProj/TestSeg_1/video_input/fight_1.mp4: 640x640 (no detections), 13.7ms\n",
      "video 1/1 (frame 901/2322) /home/hatsu/coding/CapProj/TestSeg_1/video_input/fight_1.mp4: 640x640 (no detections), 10.4ms\n",
      "video 1/1 (frame 902/2322) /home/hatsu/coding/CapProj/TestSeg_1/video_input/fight_1.mp4: 640x640 (no detections), 13.0ms\n",
      "video 1/1 (frame 903/2322) /home/hatsu/coding/CapProj/TestSeg_1/video_input/fight_1.mp4: 640x640 (no detections), 12.1ms\n",
      "video 1/1 (frame 904/2322) /home/hatsu/coding/CapProj/TestSeg_1/video_input/fight_1.mp4: 640x640 (no detections), 11.4ms\n",
      "video 1/1 (frame 905/2322) /home/hatsu/coding/CapProj/TestSeg_1/video_input/fight_1.mp4: 640x640 (no detections), 13.3ms\n",
      "video 1/1 (frame 906/2322) /home/hatsu/coding/CapProj/TestSeg_1/video_input/fight_1.mp4: 640x640 1 Fighter, 11.5ms\n",
      "video 1/1 (frame 907/2322) /home/hatsu/coding/CapProj/TestSeg_1/video_input/fight_1.mp4: 640x640 1 Fighter, 13.4ms\n",
      "video 1/1 (frame 908/2322) /home/hatsu/coding/CapProj/TestSeg_1/video_input/fight_1.mp4: 640x640 1 Fighter, 12.5ms\n",
      "video 1/1 (frame 909/2322) /home/hatsu/coding/CapProj/TestSeg_1/video_input/fight_1.mp4: 640x640 1 Fighter, 13.7ms\n",
      "video 1/1 (frame 910/2322) /home/hatsu/coding/CapProj/TestSeg_1/video_input/fight_1.mp4: 640x640 (no detections), 15.3ms\n",
      "video 1/1 (frame 911/2322) /home/hatsu/coding/CapProj/TestSeg_1/video_input/fight_1.mp4: 640x640 1 Fighter, 11.5ms\n",
      "video 1/1 (frame 912/2322) /home/hatsu/coding/CapProj/TestSeg_1/video_input/fight_1.mp4: 640x640 (no detections), 13.0ms\n",
      "video 1/1 (frame 913/2322) /home/hatsu/coding/CapProj/TestSeg_1/video_input/fight_1.mp4: 640x640 1 Fighter, 11.2ms\n",
      "video 1/1 (frame 914/2322) /home/hatsu/coding/CapProj/TestSeg_1/video_input/fight_1.mp4: 640x640 (no detections), 11.5ms\n",
      "video 1/1 (frame 915/2322) /home/hatsu/coding/CapProj/TestSeg_1/video_input/fight_1.mp4: 640x640 (no detections), 12.0ms\n",
      "video 1/1 (frame 916/2322) /home/hatsu/coding/CapProj/TestSeg_1/video_input/fight_1.mp4: 640x640 (no detections), 11.9ms\n",
      "video 1/1 (frame 917/2322) /home/hatsu/coding/CapProj/TestSeg_1/video_input/fight_1.mp4: 640x640 (no detections), 10.9ms\n",
      "video 1/1 (frame 918/2322) /home/hatsu/coding/CapProj/TestSeg_1/video_input/fight_1.mp4: 640x640 (no detections), 12.2ms\n",
      "video 1/1 (frame 919/2322) /home/hatsu/coding/CapProj/TestSeg_1/video_input/fight_1.mp4: 640x640 (no detections), 11.9ms\n",
      "video 1/1 (frame 920/2322) /home/hatsu/coding/CapProj/TestSeg_1/video_input/fight_1.mp4: 640x640 1 Fighter, 11.1ms\n",
      "video 1/1 (frame 921/2322) /home/hatsu/coding/CapProj/TestSeg_1/video_input/fight_1.mp4: 640x640 (no detections), 12.4ms\n",
      "video 1/1 (frame 922/2322) /home/hatsu/coding/CapProj/TestSeg_1/video_input/fight_1.mp4: 640x640 1 Fighter, 11.2ms\n",
      "video 1/1 (frame 923/2322) /home/hatsu/coding/CapProj/TestSeg_1/video_input/fight_1.mp4: 640x640 1 Fighter, 11.6ms\n",
      "video 1/1 (frame 924/2322) /home/hatsu/coding/CapProj/TestSeg_1/video_input/fight_1.mp4: 640x640 1 Fighter, 11.4ms\n",
      "video 1/1 (frame 925/2322) /home/hatsu/coding/CapProj/TestSeg_1/video_input/fight_1.mp4: 640x640 1 Fighter, 11.5ms\n",
      "video 1/1 (frame 926/2322) /home/hatsu/coding/CapProj/TestSeg_1/video_input/fight_1.mp4: 640x640 (no detections), 11.1ms\n",
      "video 1/1 (frame 927/2322) /home/hatsu/coding/CapProj/TestSeg_1/video_input/fight_1.mp4: 640x640 (no detections), 11.8ms\n",
      "video 1/1 (frame 928/2322) /home/hatsu/coding/CapProj/TestSeg_1/video_input/fight_1.mp4: 640x640 (no detections), 11.9ms\n",
      "video 1/1 (frame 929/2322) /home/hatsu/coding/CapProj/TestSeg_1/video_input/fight_1.mp4: 640x640 (no detections), 12.5ms\n",
      "video 1/1 (frame 930/2322) /home/hatsu/coding/CapProj/TestSeg_1/video_input/fight_1.mp4: 640x640 (no detections), 11.9ms\n",
      "video 1/1 (frame 931/2322) /home/hatsu/coding/CapProj/TestSeg_1/video_input/fight_1.mp4: 640x640 (no detections), 11.3ms\n",
      "video 1/1 (frame 932/2322) /home/hatsu/coding/CapProj/TestSeg_1/video_input/fight_1.mp4: 640x640 (no detections), 11.1ms\n",
      "video 1/1 (frame 933/2322) /home/hatsu/coding/CapProj/TestSeg_1/video_input/fight_1.mp4: 640x640 (no detections), 11.0ms\n",
      "video 1/1 (frame 934/2322) /home/hatsu/coding/CapProj/TestSeg_1/video_input/fight_1.mp4: 640x640 (no detections), 12.1ms\n",
      "video 1/1 (frame 935/2322) /home/hatsu/coding/CapProj/TestSeg_1/video_input/fight_1.mp4: 640x640 (no detections), 12.0ms\n",
      "video 1/1 (frame 936/2322) /home/hatsu/coding/CapProj/TestSeg_1/video_input/fight_1.mp4: 640x640 1 Fighter, 16.0ms\n",
      "video 1/1 (frame 937/2322) /home/hatsu/coding/CapProj/TestSeg_1/video_input/fight_1.mp4: 640x640 (no detections), 12.5ms\n",
      "video 1/1 (frame 938/2322) /home/hatsu/coding/CapProj/TestSeg_1/video_input/fight_1.mp4: 640x640 (no detections), 14.0ms\n",
      "video 1/1 (frame 939/2322) /home/hatsu/coding/CapProj/TestSeg_1/video_input/fight_1.mp4: 640x640 (no detections), 11.6ms\n",
      "video 1/1 (frame 940/2322) /home/hatsu/coding/CapProj/TestSeg_1/video_input/fight_1.mp4: 640x640 2 Fighters, 10.7ms\n",
      "video 1/1 (frame 941/2322) /home/hatsu/coding/CapProj/TestSeg_1/video_input/fight_1.mp4: 640x640 1 Fighter, 13.1ms\n",
      "video 1/1 (frame 942/2322) /home/hatsu/coding/CapProj/TestSeg_1/video_input/fight_1.mp4: 640x640 1 Fighter, 15.2ms\n",
      "video 1/1 (frame 943/2322) /home/hatsu/coding/CapProj/TestSeg_1/video_input/fight_1.mp4: 640x640 1 Fighter, 12.3ms\n",
      "video 1/1 (frame 944/2322) /home/hatsu/coding/CapProj/TestSeg_1/video_input/fight_1.mp4: 640x640 1 Fighter, 11.4ms\n",
      "video 1/1 (frame 945/2322) /home/hatsu/coding/CapProj/TestSeg_1/video_input/fight_1.mp4: 640x640 4 Fighters, 13.3ms\n",
      "video 1/1 (frame 946/2322) /home/hatsu/coding/CapProj/TestSeg_1/video_input/fight_1.mp4: 640x640 2 Fighters, 12.6ms\n",
      "video 1/1 (frame 947/2322) /home/hatsu/coding/CapProj/TestSeg_1/video_input/fight_1.mp4: 640x640 2 Fighters, 11.8ms\n",
      "video 1/1 (frame 948/2322) /home/hatsu/coding/CapProj/TestSeg_1/video_input/fight_1.mp4: 640x640 1 Fighter, 14.6ms\n",
      "video 1/1 (frame 949/2322) /home/hatsu/coding/CapProj/TestSeg_1/video_input/fight_1.mp4: 640x640 (no detections), 13.1ms\n",
      "video 1/1 (frame 950/2322) /home/hatsu/coding/CapProj/TestSeg_1/video_input/fight_1.mp4: 640x640 3 Fighters, 14.4ms\n",
      "video 1/1 (frame 951/2322) /home/hatsu/coding/CapProj/TestSeg_1/video_input/fight_1.mp4: 640x640 3 Fighters, 11.3ms\n",
      "video 1/1 (frame 952/2322) /home/hatsu/coding/CapProj/TestSeg_1/video_input/fight_1.mp4: 640x640 (no detections), 13.7ms\n",
      "video 1/1 (frame 953/2322) /home/hatsu/coding/CapProj/TestSeg_1/video_input/fight_1.mp4: 640x640 (no detections), 11.5ms\n",
      "video 1/1 (frame 954/2322) /home/hatsu/coding/CapProj/TestSeg_1/video_input/fight_1.mp4: 640x640 1 Fighter, 11.2ms\n",
      "video 1/1 (frame 955/2322) /home/hatsu/coding/CapProj/TestSeg_1/video_input/fight_1.mp4: 640x640 2 Fighters, 12.6ms\n",
      "video 1/1 (frame 956/2322) /home/hatsu/coding/CapProj/TestSeg_1/video_input/fight_1.mp4: 640x640 1 Fighter, 13.2ms\n",
      "video 1/1 (frame 957/2322) /home/hatsu/coding/CapProj/TestSeg_1/video_input/fight_1.mp4: 640x640 1 Fighter, 14.3ms\n",
      "video 1/1 (frame 958/2322) /home/hatsu/coding/CapProj/TestSeg_1/video_input/fight_1.mp4: 640x640 (no detections), 11.8ms\n",
      "video 1/1 (frame 959/2322) /home/hatsu/coding/CapProj/TestSeg_1/video_input/fight_1.mp4: 640x640 (no detections), 11.5ms\n",
      "video 1/1 (frame 960/2322) /home/hatsu/coding/CapProj/TestSeg_1/video_input/fight_1.mp4: 640x640 1 Fighter, 11.7ms\n",
      "video 1/1 (frame 961/2322) /home/hatsu/coding/CapProj/TestSeg_1/video_input/fight_1.mp4: 640x640 1 Fighter, 11.7ms\n",
      "video 1/1 (frame 962/2322) /home/hatsu/coding/CapProj/TestSeg_1/video_input/fight_1.mp4: 640x640 1 Fighter, 12.0ms\n",
      "video 1/1 (frame 963/2322) /home/hatsu/coding/CapProj/TestSeg_1/video_input/fight_1.mp4: 640x640 (no detections), 12.0ms\n",
      "video 1/1 (frame 964/2322) /home/hatsu/coding/CapProj/TestSeg_1/video_input/fight_1.mp4: 640x640 (no detections), 10.9ms\n",
      "video 1/1 (frame 965/2322) /home/hatsu/coding/CapProj/TestSeg_1/video_input/fight_1.mp4: 640x640 1 Fighter, 12.7ms\n",
      "video 1/1 (frame 966/2322) /home/hatsu/coding/CapProj/TestSeg_1/video_input/fight_1.mp4: 640x640 (no detections), 11.6ms\n",
      "video 1/1 (frame 967/2322) /home/hatsu/coding/CapProj/TestSeg_1/video_input/fight_1.mp4: 640x640 (no detections), 11.7ms\n",
      "video 1/1 (frame 968/2322) /home/hatsu/coding/CapProj/TestSeg_1/video_input/fight_1.mp4: 640x640 1 Fighter, 11.7ms\n",
      "video 1/1 (frame 969/2322) /home/hatsu/coding/CapProj/TestSeg_1/video_input/fight_1.mp4: 640x640 (no detections), 11.9ms\n",
      "video 1/1 (frame 970/2322) /home/hatsu/coding/CapProj/TestSeg_1/video_input/fight_1.mp4: 640x640 (no detections), 11.3ms\n",
      "video 1/1 (frame 971/2322) /home/hatsu/coding/CapProj/TestSeg_1/video_input/fight_1.mp4: 640x640 (no detections), 11.4ms\n",
      "video 1/1 (frame 972/2322) /home/hatsu/coding/CapProj/TestSeg_1/video_input/fight_1.mp4: 640x640 (no detections), 11.2ms\n",
      "video 1/1 (frame 973/2322) /home/hatsu/coding/CapProj/TestSeg_1/video_input/fight_1.mp4: 640x640 (no detections), 11.1ms\n",
      "video 1/1 (frame 974/2322) /home/hatsu/coding/CapProj/TestSeg_1/video_input/fight_1.mp4: 640x640 (no detections), 11.9ms\n",
      "video 1/1 (frame 975/2322) /home/hatsu/coding/CapProj/TestSeg_1/video_input/fight_1.mp4: 640x640 (no detections), 11.4ms\n",
      "video 1/1 (frame 976/2322) /home/hatsu/coding/CapProj/TestSeg_1/video_input/fight_1.mp4: 640x640 (no detections), 11.8ms\n",
      "video 1/1 (frame 977/2322) /home/hatsu/coding/CapProj/TestSeg_1/video_input/fight_1.mp4: 640x640 2 Fighters, 12.0ms\n",
      "video 1/1 (frame 978/2322) /home/hatsu/coding/CapProj/TestSeg_1/video_input/fight_1.mp4: 640x640 (no detections), 11.6ms\n",
      "video 1/1 (frame 979/2322) /home/hatsu/coding/CapProj/TestSeg_1/video_input/fight_1.mp4: 640x640 (no detections), 12.5ms\n",
      "video 1/1 (frame 980/2322) /home/hatsu/coding/CapProj/TestSeg_1/video_input/fight_1.mp4: 640x640 1 Fighter, 12.7ms\n",
      "video 1/1 (frame 981/2322) /home/hatsu/coding/CapProj/TestSeg_1/video_input/fight_1.mp4: 640x640 1 Fighter, 11.7ms\n",
      "video 1/1 (frame 982/2322) /home/hatsu/coding/CapProj/TestSeg_1/video_input/fight_1.mp4: 640x640 1 Fighter, 11.9ms\n",
      "video 1/1 (frame 983/2322) /home/hatsu/coding/CapProj/TestSeg_1/video_input/fight_1.mp4: 640x640 1 Fighter, 11.6ms\n",
      "video 1/1 (frame 984/2322) /home/hatsu/coding/CapProj/TestSeg_1/video_input/fight_1.mp4: 640x640 (no detections), 14.8ms\n",
      "video 1/1 (frame 985/2322) /home/hatsu/coding/CapProj/TestSeg_1/video_input/fight_1.mp4: 640x640 (no detections), 11.4ms\n",
      "video 1/1 (frame 986/2322) /home/hatsu/coding/CapProj/TestSeg_1/video_input/fight_1.mp4: 640x640 (no detections), 13.9ms\n",
      "video 1/1 (frame 987/2322) /home/hatsu/coding/CapProj/TestSeg_1/video_input/fight_1.mp4: 640x640 (no detections), 13.3ms\n",
      "video 1/1 (frame 988/2322) /home/hatsu/coding/CapProj/TestSeg_1/video_input/fight_1.mp4: 640x640 (no detections), 15.9ms\n",
      "video 1/1 (frame 989/2322) /home/hatsu/coding/CapProj/TestSeg_1/video_input/fight_1.mp4: 640x640 (no detections), 17.2ms\n",
      "video 1/1 (frame 990/2322) /home/hatsu/coding/CapProj/TestSeg_1/video_input/fight_1.mp4: 640x640 (no detections), 14.8ms\n",
      "video 1/1 (frame 991/2322) /home/hatsu/coding/CapProj/TestSeg_1/video_input/fight_1.mp4: 640x640 (no detections), 10.6ms\n",
      "video 1/1 (frame 992/2322) /home/hatsu/coding/CapProj/TestSeg_1/video_input/fight_1.mp4: 640x640 (no detections), 11.7ms\n",
      "video 1/1 (frame 993/2322) /home/hatsu/coding/CapProj/TestSeg_1/video_input/fight_1.mp4: 640x640 (no detections), 11.3ms\n",
      "video 1/1 (frame 994/2322) /home/hatsu/coding/CapProj/TestSeg_1/video_input/fight_1.mp4: 640x640 (no detections), 14.1ms\n",
      "video 1/1 (frame 995/2322) /home/hatsu/coding/CapProj/TestSeg_1/video_input/fight_1.mp4: 640x640 (no detections), 13.3ms\n",
      "video 1/1 (frame 996/2322) /home/hatsu/coding/CapProj/TestSeg_1/video_input/fight_1.mp4: 640x640 (no detections), 14.9ms\n",
      "video 1/1 (frame 997/2322) /home/hatsu/coding/CapProj/TestSeg_1/video_input/fight_1.mp4: 640x640 (no detections), 11.0ms\n",
      "video 1/1 (frame 998/2322) /home/hatsu/coding/CapProj/TestSeg_1/video_input/fight_1.mp4: 640x640 (no detections), 10.6ms\n",
      "video 1/1 (frame 999/2322) /home/hatsu/coding/CapProj/TestSeg_1/video_input/fight_1.mp4: 640x640 (no detections), 12.5ms\n",
      "video 1/1 (frame 1000/2322) /home/hatsu/coding/CapProj/TestSeg_1/video_input/fight_1.mp4: 640x640 (no detections), 13.2ms\n",
      "video 1/1 (frame 1001/2322) /home/hatsu/coding/CapProj/TestSeg_1/video_input/fight_1.mp4: 640x640 (no detections), 11.5ms\n",
      "video 1/1 (frame 1002/2322) /home/hatsu/coding/CapProj/TestSeg_1/video_input/fight_1.mp4: 640x640 (no detections), 10.9ms\n",
      "video 1/1 (frame 1003/2322) /home/hatsu/coding/CapProj/TestSeg_1/video_input/fight_1.mp4: 640x640 (no detections), 11.6ms\n",
      "video 1/1 (frame 1004/2322) /home/hatsu/coding/CapProj/TestSeg_1/video_input/fight_1.mp4: 640x640 (no detections), 10.7ms\n",
      "video 1/1 (frame 1005/2322) /home/hatsu/coding/CapProj/TestSeg_1/video_input/fight_1.mp4: 640x640 (no detections), 10.8ms\n",
      "video 1/1 (frame 1006/2322) /home/hatsu/coding/CapProj/TestSeg_1/video_input/fight_1.mp4: 640x640 (no detections), 18.3ms\n",
      "video 1/1 (frame 1007/2322) /home/hatsu/coding/CapProj/TestSeg_1/video_input/fight_1.mp4: 640x640 (no detections), 13.3ms\n",
      "video 1/1 (frame 1008/2322) /home/hatsu/coding/CapProj/TestSeg_1/video_input/fight_1.mp4: 640x640 (no detections), 11.4ms\n",
      "video 1/1 (frame 1009/2322) /home/hatsu/coding/CapProj/TestSeg_1/video_input/fight_1.mp4: 640x640 (no detections), 11.0ms\n",
      "video 1/1 (frame 1010/2322) /home/hatsu/coding/CapProj/TestSeg_1/video_input/fight_1.mp4: 640x640 (no detections), 10.9ms\n",
      "video 1/1 (frame 1011/2322) /home/hatsu/coding/CapProj/TestSeg_1/video_input/fight_1.mp4: 640x640 (no detections), 10.9ms\n",
      "video 1/1 (frame 1012/2322) /home/hatsu/coding/CapProj/TestSeg_1/video_input/fight_1.mp4: 640x640 (no detections), 12.0ms\n",
      "video 1/1 (frame 1013/2322) /home/hatsu/coding/CapProj/TestSeg_1/video_input/fight_1.mp4: 640x640 (no detections), 11.0ms\n",
      "video 1/1 (frame 1014/2322) /home/hatsu/coding/CapProj/TestSeg_1/video_input/fight_1.mp4: 640x640 (no detections), 11.2ms\n",
      "video 1/1 (frame 1015/2322) /home/hatsu/coding/CapProj/TestSeg_1/video_input/fight_1.mp4: 640x640 (no detections), 11.2ms\n",
      "video 1/1 (frame 1016/2322) /home/hatsu/coding/CapProj/TestSeg_1/video_input/fight_1.mp4: 640x640 (no detections), 11.5ms\n",
      "video 1/1 (frame 1017/2322) /home/hatsu/coding/CapProj/TestSeg_1/video_input/fight_1.mp4: 640x640 (no detections), 11.5ms\n",
      "video 1/1 (frame 1018/2322) /home/hatsu/coding/CapProj/TestSeg_1/video_input/fight_1.mp4: 640x640 (no detections), 10.8ms\n",
      "video 1/1 (frame 1019/2322) /home/hatsu/coding/CapProj/TestSeg_1/video_input/fight_1.mp4: 640x640 (no detections), 11.1ms\n",
      "video 1/1 (frame 1020/2322) /home/hatsu/coding/CapProj/TestSeg_1/video_input/fight_1.mp4: 640x640 (no detections), 13.8ms\n",
      "video 1/1 (frame 1021/2322) /home/hatsu/coding/CapProj/TestSeg_1/video_input/fight_1.mp4: 640x640 (no detections), 11.9ms\n",
      "video 1/1 (frame 1022/2322) /home/hatsu/coding/CapProj/TestSeg_1/video_input/fight_1.mp4: 640x640 (no detections), 11.9ms\n",
      "video 1/1 (frame 1023/2322) /home/hatsu/coding/CapProj/TestSeg_1/video_input/fight_1.mp4: 640x640 (no detections), 11.3ms\n",
      "video 1/1 (frame 1024/2322) /home/hatsu/coding/CapProj/TestSeg_1/video_input/fight_1.mp4: 640x640 (no detections), 11.8ms\n",
      "video 1/1 (frame 1025/2322) /home/hatsu/coding/CapProj/TestSeg_1/video_input/fight_1.mp4: 640x640 (no detections), 12.1ms\n",
      "video 1/1 (frame 1026/2322) /home/hatsu/coding/CapProj/TestSeg_1/video_input/fight_1.mp4: 640x640 (no detections), 10.7ms\n",
      "video 1/1 (frame 1027/2322) /home/hatsu/coding/CapProj/TestSeg_1/video_input/fight_1.mp4: 640x640 1 Fighter, 12.9ms\n",
      "video 1/1 (frame 1028/2322) /home/hatsu/coding/CapProj/TestSeg_1/video_input/fight_1.mp4: 640x640 1 Fighter, 11.3ms\n",
      "video 1/1 (frame 1029/2322) /home/hatsu/coding/CapProj/TestSeg_1/video_input/fight_1.mp4: 640x640 (no detections), 16.7ms\n",
      "video 1/1 (frame 1030/2322) /home/hatsu/coding/CapProj/TestSeg_1/video_input/fight_1.mp4: 640x640 1 Fighter, 11.2ms\n",
      "video 1/1 (frame 1031/2322) /home/hatsu/coding/CapProj/TestSeg_1/video_input/fight_1.mp4: 640x640 1 Fighter, 11.5ms\n",
      "video 1/1 (frame 1032/2322) /home/hatsu/coding/CapProj/TestSeg_1/video_input/fight_1.mp4: 640x640 1 Fighter, 13.2ms\n",
      "video 1/1 (frame 1033/2322) /home/hatsu/coding/CapProj/TestSeg_1/video_input/fight_1.mp4: 640x640 1 Fighter, 13.2ms\n",
      "video 1/1 (frame 1034/2322) /home/hatsu/coding/CapProj/TestSeg_1/video_input/fight_1.mp4: 640x640 (no detections), 13.7ms\n",
      "video 1/1 (frame 1035/2322) /home/hatsu/coding/CapProj/TestSeg_1/video_input/fight_1.mp4: 640x640 2 Fighters, 15.2ms\n",
      "video 1/1 (frame 1036/2322) /home/hatsu/coding/CapProj/TestSeg_1/video_input/fight_1.mp4: 640x640 2 Fighters, 14.4ms\n",
      "video 1/1 (frame 1037/2322) /home/hatsu/coding/CapProj/TestSeg_1/video_input/fight_1.mp4: 640x640 1 Fighter, 13.3ms\n",
      "video 1/1 (frame 1038/2322) /home/hatsu/coding/CapProj/TestSeg_1/video_input/fight_1.mp4: 640x640 (no detections), 11.5ms\n",
      "video 1/1 (frame 1039/2322) /home/hatsu/coding/CapProj/TestSeg_1/video_input/fight_1.mp4: 640x640 1 Fighter, 11.1ms\n",
      "video 1/1 (frame 1040/2322) /home/hatsu/coding/CapProj/TestSeg_1/video_input/fight_1.mp4: 640x640 (no detections), 12.2ms\n",
      "video 1/1 (frame 1041/2322) /home/hatsu/coding/CapProj/TestSeg_1/video_input/fight_1.mp4: 640x640 (no detections), 12.4ms\n",
      "video 1/1 (frame 1042/2322) /home/hatsu/coding/CapProj/TestSeg_1/video_input/fight_1.mp4: 640x640 1 Fighter, 11.1ms\n",
      "video 1/1 (frame 1043/2322) /home/hatsu/coding/CapProj/TestSeg_1/video_input/fight_1.mp4: 640x640 1 Fighter, 11.3ms\n",
      "video 1/1 (frame 1044/2322) /home/hatsu/coding/CapProj/TestSeg_1/video_input/fight_1.mp4: 640x640 2 Fighters, 11.5ms\n",
      "video 1/1 (frame 1045/2322) /home/hatsu/coding/CapProj/TestSeg_1/video_input/fight_1.mp4: 640x640 1 Fighter, 11.2ms\n",
      "video 1/1 (frame 1046/2322) /home/hatsu/coding/CapProj/TestSeg_1/video_input/fight_1.mp4: 640x640 1 Fighter, 11.6ms\n",
      "video 1/1 (frame 1047/2322) /home/hatsu/coding/CapProj/TestSeg_1/video_input/fight_1.mp4: 640x640 1 Fighter, 11.8ms\n",
      "video 1/1 (frame 1048/2322) /home/hatsu/coding/CapProj/TestSeg_1/video_input/fight_1.mp4: 640x640 1 Fighter, 12.0ms\n",
      "video 1/1 (frame 1049/2322) /home/hatsu/coding/CapProj/TestSeg_1/video_input/fight_1.mp4: 640x640 1 Fighter, 11.3ms\n",
      "video 1/1 (frame 1050/2322) /home/hatsu/coding/CapProj/TestSeg_1/video_input/fight_1.mp4: 640x640 2 Fighters, 11.2ms\n",
      "video 1/1 (frame 1051/2322) /home/hatsu/coding/CapProj/TestSeg_1/video_input/fight_1.mp4: 640x640 (no detections), 11.6ms\n",
      "video 1/1 (frame 1052/2322) /home/hatsu/coding/CapProj/TestSeg_1/video_input/fight_1.mp4: 640x640 1 Fighter, 11.0ms\n",
      "video 1/1 (frame 1053/2322) /home/hatsu/coding/CapProj/TestSeg_1/video_input/fight_1.mp4: 640x640 (no detections), 11.4ms\n",
      "video 1/1 (frame 1054/2322) /home/hatsu/coding/CapProj/TestSeg_1/video_input/fight_1.mp4: 640x640 (no detections), 11.5ms\n",
      "video 1/1 (frame 1055/2322) /home/hatsu/coding/CapProj/TestSeg_1/video_input/fight_1.mp4: 640x640 (no detections), 15.0ms\n",
      "video 1/1 (frame 1056/2322) /home/hatsu/coding/CapProj/TestSeg_1/video_input/fight_1.mp4: 640x640 (no detections), 12.5ms\n",
      "video 1/1 (frame 1057/2322) /home/hatsu/coding/CapProj/TestSeg_1/video_input/fight_1.mp4: 640x640 1 Fighter, 14.0ms\n",
      "video 1/1 (frame 1058/2322) /home/hatsu/coding/CapProj/TestSeg_1/video_input/fight_1.mp4: 640x640 1 Fighter, 12.2ms\n",
      "video 1/1 (frame 1059/2322) /home/hatsu/coding/CapProj/TestSeg_1/video_input/fight_1.mp4: 640x640 (no detections), 14.3ms\n",
      "video 1/1 (frame 1060/2322) /home/hatsu/coding/CapProj/TestSeg_1/video_input/fight_1.mp4: 640x640 (no detections), 12.9ms\n",
      "video 1/1 (frame 1061/2322) /home/hatsu/coding/CapProj/TestSeg_1/video_input/fight_1.mp4: 640x640 (no detections), 11.7ms\n",
      "video 1/1 (frame 1062/2322) /home/hatsu/coding/CapProj/TestSeg_1/video_input/fight_1.mp4: 640x640 (no detections), 12.5ms\n",
      "video 1/1 (frame 1063/2322) /home/hatsu/coding/CapProj/TestSeg_1/video_input/fight_1.mp4: 640x640 (no detections), 14.8ms\n",
      "video 1/1 (frame 1064/2322) /home/hatsu/coding/CapProj/TestSeg_1/video_input/fight_1.mp4: 640x640 (no detections), 13.4ms\n",
      "video 1/1 (frame 1065/2322) /home/hatsu/coding/CapProj/TestSeg_1/video_input/fight_1.mp4: 640x640 (no detections), 12.6ms\n",
      "video 1/1 (frame 1066/2322) /home/hatsu/coding/CapProj/TestSeg_1/video_input/fight_1.mp4: 640x640 (no detections), 14.2ms\n",
      "video 1/1 (frame 1067/2322) /home/hatsu/coding/CapProj/TestSeg_1/video_input/fight_1.mp4: 640x640 (no detections), 11.1ms\n",
      "video 1/1 (frame 1068/2322) /home/hatsu/coding/CapProj/TestSeg_1/video_input/fight_1.mp4: 640x640 (no detections), 12.0ms\n",
      "video 1/1 (frame 1069/2322) /home/hatsu/coding/CapProj/TestSeg_1/video_input/fight_1.mp4: 640x640 (no detections), 12.2ms\n",
      "video 1/1 (frame 1070/2322) /home/hatsu/coding/CapProj/TestSeg_1/video_input/fight_1.mp4: 640x640 (no detections), 13.6ms\n",
      "video 1/1 (frame 1071/2322) /home/hatsu/coding/CapProj/TestSeg_1/video_input/fight_1.mp4: 640x640 (no detections), 13.9ms\n",
      "video 1/1 (frame 1072/2322) /home/hatsu/coding/CapProj/TestSeg_1/video_input/fight_1.mp4: 640x640 1 Fighter, 12.1ms\n",
      "video 1/1 (frame 1073/2322) /home/hatsu/coding/CapProj/TestSeg_1/video_input/fight_1.mp4: 640x640 (no detections), 12.7ms\n",
      "video 1/1 (frame 1074/2322) /home/hatsu/coding/CapProj/TestSeg_1/video_input/fight_1.mp4: 640x640 (no detections), 15.2ms\n",
      "video 1/1 (frame 1075/2322) /home/hatsu/coding/CapProj/TestSeg_1/video_input/fight_1.mp4: 640x640 (no detections), 12.1ms\n",
      "video 1/1 (frame 1076/2322) /home/hatsu/coding/CapProj/TestSeg_1/video_input/fight_1.mp4: 640x640 (no detections), 12.7ms\n",
      "video 1/1 (frame 1077/2322) /home/hatsu/coding/CapProj/TestSeg_1/video_input/fight_1.mp4: 640x640 1 Fighter, 11.6ms\n",
      "video 1/1 (frame 1078/2322) /home/hatsu/coding/CapProj/TestSeg_1/video_input/fight_1.mp4: 640x640 (no detections), 11.3ms\n",
      "video 1/1 (frame 1079/2322) /home/hatsu/coding/CapProj/TestSeg_1/video_input/fight_1.mp4: 640x640 (no detections), 12.5ms\n",
      "video 1/1 (frame 1080/2322) /home/hatsu/coding/CapProj/TestSeg_1/video_input/fight_1.mp4: 640x640 (no detections), 16.5ms\n",
      "video 1/1 (frame 1081/2322) /home/hatsu/coding/CapProj/TestSeg_1/video_input/fight_1.mp4: 640x640 1 Fighter, 20.7ms\n",
      "video 1/1 (frame 1082/2322) /home/hatsu/coding/CapProj/TestSeg_1/video_input/fight_1.mp4: 640x640 1 Fighter, 11.5ms\n",
      "video 1/1 (frame 1083/2322) /home/hatsu/coding/CapProj/TestSeg_1/video_input/fight_1.mp4: 640x640 1 Fighter, 11.3ms\n",
      "video 1/1 (frame 1084/2322) /home/hatsu/coding/CapProj/TestSeg_1/video_input/fight_1.mp4: 640x640 1 Fighter, 14.3ms\n",
      "video 1/1 (frame 1085/2322) /home/hatsu/coding/CapProj/TestSeg_1/video_input/fight_1.mp4: 640x640 (no detections), 12.0ms\n",
      "video 1/1 (frame 1086/2322) /home/hatsu/coding/CapProj/TestSeg_1/video_input/fight_1.mp4: 640x640 (no detections), 11.6ms\n",
      "video 1/1 (frame 1087/2322) /home/hatsu/coding/CapProj/TestSeg_1/video_input/fight_1.mp4: 640x640 (no detections), 13.0ms\n",
      "video 1/1 (frame 1088/2322) /home/hatsu/coding/CapProj/TestSeg_1/video_input/fight_1.mp4: 640x640 (no detections), 11.5ms\n",
      "video 1/1 (frame 1089/2322) /home/hatsu/coding/CapProj/TestSeg_1/video_input/fight_1.mp4: 640x640 (no detections), 12.3ms\n",
      "video 1/1 (frame 1090/2322) /home/hatsu/coding/CapProj/TestSeg_1/video_input/fight_1.mp4: 640x640 (no detections), 10.9ms\n",
      "video 1/1 (frame 1091/2322) /home/hatsu/coding/CapProj/TestSeg_1/video_input/fight_1.mp4: 640x640 (no detections), 11.3ms\n",
      "video 1/1 (frame 1092/2322) /home/hatsu/coding/CapProj/TestSeg_1/video_input/fight_1.mp4: 640x640 (no detections), 11.5ms\n",
      "video 1/1 (frame 1093/2322) /home/hatsu/coding/CapProj/TestSeg_1/video_input/fight_1.mp4: 640x640 (no detections), 11.4ms\n",
      "video 1/1 (frame 1094/2322) /home/hatsu/coding/CapProj/TestSeg_1/video_input/fight_1.mp4: 640x640 (no detections), 11.7ms\n",
      "video 1/1 (frame 1095/2322) /home/hatsu/coding/CapProj/TestSeg_1/video_input/fight_1.mp4: 640x640 (no detections), 12.3ms\n",
      "video 1/1 (frame 1096/2322) /home/hatsu/coding/CapProj/TestSeg_1/video_input/fight_1.mp4: 640x640 (no detections), 12.4ms\n",
      "video 1/1 (frame 1097/2322) /home/hatsu/coding/CapProj/TestSeg_1/video_input/fight_1.mp4: 640x640 (no detections), 11.8ms\n",
      "video 1/1 (frame 1098/2322) /home/hatsu/coding/CapProj/TestSeg_1/video_input/fight_1.mp4: 640x640 (no detections), 11.1ms\n",
      "video 1/1 (frame 1099/2322) /home/hatsu/coding/CapProj/TestSeg_1/video_input/fight_1.mp4: 640x640 (no detections), 14.0ms\n",
      "video 1/1 (frame 1100/2322) /home/hatsu/coding/CapProj/TestSeg_1/video_input/fight_1.mp4: 640x640 (no detections), 14.7ms\n",
      "video 1/1 (frame 1101/2322) /home/hatsu/coding/CapProj/TestSeg_1/video_input/fight_1.mp4: 640x640 (no detections), 11.3ms\n",
      "video 1/1 (frame 1102/2322) /home/hatsu/coding/CapProj/TestSeg_1/video_input/fight_1.mp4: 640x640 (no detections), 10.8ms\n",
      "video 1/1 (frame 1103/2322) /home/hatsu/coding/CapProj/TestSeg_1/video_input/fight_1.mp4: 640x640 (no detections), 11.3ms\n",
      "video 1/1 (frame 1104/2322) /home/hatsu/coding/CapProj/TestSeg_1/video_input/fight_1.mp4: 640x640 (no detections), 11.7ms\n",
      "video 1/1 (frame 1105/2322) /home/hatsu/coding/CapProj/TestSeg_1/video_input/fight_1.mp4: 640x640 (no detections), 11.5ms\n",
      "video 1/1 (frame 1106/2322) /home/hatsu/coding/CapProj/TestSeg_1/video_input/fight_1.mp4: 640x640 (no detections), 11.8ms\n",
      "video 1/1 (frame 1107/2322) /home/hatsu/coding/CapProj/TestSeg_1/video_input/fight_1.mp4: 640x640 (no detections), 12.4ms\n",
      "video 1/1 (frame 1108/2322) /home/hatsu/coding/CapProj/TestSeg_1/video_input/fight_1.mp4: 640x640 (no detections), 12.1ms\n",
      "video 1/1 (frame 1109/2322) /home/hatsu/coding/CapProj/TestSeg_1/video_input/fight_1.mp4: 640x640 (no detections), 16.1ms\n",
      "video 1/1 (frame 1110/2322) /home/hatsu/coding/CapProj/TestSeg_1/video_input/fight_1.mp4: 640x640 (no detections), 11.8ms\n",
      "video 1/1 (frame 1111/2322) /home/hatsu/coding/CapProj/TestSeg_1/video_input/fight_1.mp4: 640x640 1 Fighter, 15.9ms\n",
      "video 1/1 (frame 1112/2322) /home/hatsu/coding/CapProj/TestSeg_1/video_input/fight_1.mp4: 640x640 1 Fighter, 17.3ms\n",
      "video 1/1 (frame 1113/2322) /home/hatsu/coding/CapProj/TestSeg_1/video_input/fight_1.mp4: 640x640 (no detections), 12.4ms\n",
      "video 1/1 (frame 1114/2322) /home/hatsu/coding/CapProj/TestSeg_1/video_input/fight_1.mp4: 640x640 (no detections), 11.1ms\n",
      "video 1/1 (frame 1115/2322) /home/hatsu/coding/CapProj/TestSeg_1/video_input/fight_1.mp4: 640x640 2 Fighters, 14.4ms\n",
      "video 1/1 (frame 1116/2322) /home/hatsu/coding/CapProj/TestSeg_1/video_input/fight_1.mp4: 640x640 1 Fighter, 13.6ms\n",
      "video 1/1 (frame 1117/2322) /home/hatsu/coding/CapProj/TestSeg_1/video_input/fight_1.mp4: 640x640 1 Fighter, 11.7ms\n",
      "video 1/1 (frame 1118/2322) /home/hatsu/coding/CapProj/TestSeg_1/video_input/fight_1.mp4: 640x640 (no detections), 13.2ms\n",
      "video 1/1 (frame 1119/2322) /home/hatsu/coding/CapProj/TestSeg_1/video_input/fight_1.mp4: 640x640 (no detections), 12.1ms\n",
      "video 1/1 (frame 1120/2322) /home/hatsu/coding/CapProj/TestSeg_1/video_input/fight_1.mp4: 640x640 (no detections), 11.3ms\n",
      "video 1/1 (frame 1121/2322) /home/hatsu/coding/CapProj/TestSeg_1/video_input/fight_1.mp4: 640x640 (no detections), 11.7ms\n",
      "video 1/1 (frame 1122/2322) /home/hatsu/coding/CapProj/TestSeg_1/video_input/fight_1.mp4: 640x640 (no detections), 15.2ms\n",
      "video 1/1 (frame 1123/2322) /home/hatsu/coding/CapProj/TestSeg_1/video_input/fight_1.mp4: 640x640 (no detections), 11.2ms\n",
      "video 1/1 (frame 1124/2322) /home/hatsu/coding/CapProj/TestSeg_1/video_input/fight_1.mp4: 640x640 (no detections), 12.0ms\n",
      "video 1/1 (frame 1125/2322) /home/hatsu/coding/CapProj/TestSeg_1/video_input/fight_1.mp4: 640x640 (no detections), 16.2ms\n",
      "video 1/1 (frame 1126/2322) /home/hatsu/coding/CapProj/TestSeg_1/video_input/fight_1.mp4: 640x640 1 Fighter, 12.9ms\n",
      "video 1/1 (frame 1127/2322) /home/hatsu/coding/CapProj/TestSeg_1/video_input/fight_1.mp4: 640x640 1 Fighter, 11.5ms\n",
      "video 1/1 (frame 1128/2322) /home/hatsu/coding/CapProj/TestSeg_1/video_input/fight_1.mp4: 640x640 (no detections), 11.6ms\n",
      "video 1/1 (frame 1129/2322) /home/hatsu/coding/CapProj/TestSeg_1/video_input/fight_1.mp4: 640x640 (no detections), 10.9ms\n",
      "video 1/1 (frame 1130/2322) /home/hatsu/coding/CapProj/TestSeg_1/video_input/fight_1.mp4: 640x640 (no detections), 11.3ms\n",
      "video 1/1 (frame 1131/2322) /home/hatsu/coding/CapProj/TestSeg_1/video_input/fight_1.mp4: 640x640 (no detections), 11.1ms\n",
      "video 1/1 (frame 1132/2322) /home/hatsu/coding/CapProj/TestSeg_1/video_input/fight_1.mp4: 640x640 2 Fighters, 20.1ms\n",
      "video 1/1 (frame 1133/2322) /home/hatsu/coding/CapProj/TestSeg_1/video_input/fight_1.mp4: 640x640 (no detections), 12.6ms\n",
      "video 1/1 (frame 1134/2322) /home/hatsu/coding/CapProj/TestSeg_1/video_input/fight_1.mp4: 640x640 (no detections), 13.7ms\n",
      "video 1/1 (frame 1135/2322) /home/hatsu/coding/CapProj/TestSeg_1/video_input/fight_1.mp4: 640x640 2 Fighters, 10.9ms\n",
      "video 1/1 (frame 1136/2322) /home/hatsu/coding/CapProj/TestSeg_1/video_input/fight_1.mp4: 640x640 1 Fighter, 11.3ms\n",
      "video 1/1 (frame 1137/2322) /home/hatsu/coding/CapProj/TestSeg_1/video_input/fight_1.mp4: 640x640 1 Fighter, 11.2ms\n",
      "video 1/1 (frame 1138/2322) /home/hatsu/coding/CapProj/TestSeg_1/video_input/fight_1.mp4: 640x640 (no detections), 11.2ms\n",
      "video 1/1 (frame 1139/2322) /home/hatsu/coding/CapProj/TestSeg_1/video_input/fight_1.mp4: 640x640 (no detections), 12.1ms\n",
      "video 1/1 (frame 1140/2322) /home/hatsu/coding/CapProj/TestSeg_1/video_input/fight_1.mp4: 640x640 (no detections), 11.7ms\n",
      "video 1/1 (frame 1141/2322) /home/hatsu/coding/CapProj/TestSeg_1/video_input/fight_1.mp4: 640x640 (no detections), 12.4ms\n",
      "video 1/1 (frame 1142/2322) /home/hatsu/coding/CapProj/TestSeg_1/video_input/fight_1.mp4: 640x640 (no detections), 12.0ms\n",
      "video 1/1 (frame 1143/2322) /home/hatsu/coding/CapProj/TestSeg_1/video_input/fight_1.mp4: 640x640 (no detections), 11.0ms\n",
      "video 1/1 (frame 1144/2322) /home/hatsu/coding/CapProj/TestSeg_1/video_input/fight_1.mp4: 640x640 (no detections), 15.6ms\n",
      "video 1/1 (frame 1145/2322) /home/hatsu/coding/CapProj/TestSeg_1/video_input/fight_1.mp4: 640x640 1 Fighter, 11.9ms\n",
      "video 1/1 (frame 1146/2322) /home/hatsu/coding/CapProj/TestSeg_1/video_input/fight_1.mp4: 640x640 (no detections), 11.7ms\n",
      "video 1/1 (frame 1147/2322) /home/hatsu/coding/CapProj/TestSeg_1/video_input/fight_1.mp4: 640x640 (no detections), 11.5ms\n",
      "video 1/1 (frame 1148/2322) /home/hatsu/coding/CapProj/TestSeg_1/video_input/fight_1.mp4: 640x640 (no detections), 12.5ms\n",
      "video 1/1 (frame 1149/2322) /home/hatsu/coding/CapProj/TestSeg_1/video_input/fight_1.mp4: 640x640 (no detections), 11.8ms\n",
      "video 1/1 (frame 1150/2322) /home/hatsu/coding/CapProj/TestSeg_1/video_input/fight_1.mp4: 640x640 (no detections), 12.0ms\n",
      "video 1/1 (frame 1151/2322) /home/hatsu/coding/CapProj/TestSeg_1/video_input/fight_1.mp4: 640x640 (no detections), 14.1ms\n",
      "video 1/1 (frame 1152/2322) /home/hatsu/coding/CapProj/TestSeg_1/video_input/fight_1.mp4: 640x640 (no detections), 45.3ms\n",
      "video 1/1 (frame 1153/2322) /home/hatsu/coding/CapProj/TestSeg_1/video_input/fight_1.mp4: 640x640 (no detections), 11.9ms\n",
      "video 1/1 (frame 1154/2322) /home/hatsu/coding/CapProj/TestSeg_1/video_input/fight_1.mp4: 640x640 (no detections), 11.5ms\n",
      "video 1/1 (frame 1155/2322) /home/hatsu/coding/CapProj/TestSeg_1/video_input/fight_1.mp4: 640x640 (no detections), 11.8ms\n",
      "video 1/1 (frame 1156/2322) /home/hatsu/coding/CapProj/TestSeg_1/video_input/fight_1.mp4: 640x640 (no detections), 10.6ms\n",
      "video 1/1 (frame 1157/2322) /home/hatsu/coding/CapProj/TestSeg_1/video_input/fight_1.mp4: 640x640 (no detections), 11.9ms\n",
      "video 1/1 (frame 1158/2322) /home/hatsu/coding/CapProj/TestSeg_1/video_input/fight_1.mp4: 640x640 1 Fighter, 11.6ms\n",
      "video 1/1 (frame 1159/2322) /home/hatsu/coding/CapProj/TestSeg_1/video_input/fight_1.mp4: 640x640 (no detections), 11.6ms\n",
      "video 1/1 (frame 1160/2322) /home/hatsu/coding/CapProj/TestSeg_1/video_input/fight_1.mp4: 640x640 1 Fighter, 12.0ms\n",
      "video 1/1 (frame 1161/2322) /home/hatsu/coding/CapProj/TestSeg_1/video_input/fight_1.mp4: 640x640 1 Fighter, 12.4ms\n",
      "video 1/1 (frame 1162/2322) /home/hatsu/coding/CapProj/TestSeg_1/video_input/fight_1.mp4: 640x640 1 Fighter, 13.2ms\n",
      "video 1/1 (frame 1163/2322) /home/hatsu/coding/CapProj/TestSeg_1/video_input/fight_1.mp4: 640x640 1 Fighter, 11.3ms\n",
      "video 1/1 (frame 1164/2322) /home/hatsu/coding/CapProj/TestSeg_1/video_input/fight_1.mp4: 640x640 (no detections), 13.2ms\n",
      "video 1/1 (frame 1165/2322) /home/hatsu/coding/CapProj/TestSeg_1/video_input/fight_1.mp4: 640x640 1 Fighter, 11.6ms\n",
      "video 1/1 (frame 1166/2322) /home/hatsu/coding/CapProj/TestSeg_1/video_input/fight_1.mp4: 640x640 1 Fighter, 11.9ms\n",
      "video 1/1 (frame 1167/2322) /home/hatsu/coding/CapProj/TestSeg_1/video_input/fight_1.mp4: 640x640 1 Fighter, 11.5ms\n",
      "video 1/1 (frame 1168/2322) /home/hatsu/coding/CapProj/TestSeg_1/video_input/fight_1.mp4: 640x640 (no detections), 11.5ms\n",
      "video 1/1 (frame 1169/2322) /home/hatsu/coding/CapProj/TestSeg_1/video_input/fight_1.mp4: 640x640 (no detections), 12.4ms\n",
      "video 1/1 (frame 1170/2322) /home/hatsu/coding/CapProj/TestSeg_1/video_input/fight_1.mp4: 640x640 1 Fighter, 41.4ms\n",
      "video 1/1 (frame 1171/2322) /home/hatsu/coding/CapProj/TestSeg_1/video_input/fight_1.mp4: 640x640 1 Fighter, 11.4ms\n",
      "video 1/1 (frame 1172/2322) /home/hatsu/coding/CapProj/TestSeg_1/video_input/fight_1.mp4: 640x640 (no detections), 11.7ms\n",
      "video 1/1 (frame 1173/2322) /home/hatsu/coding/CapProj/TestSeg_1/video_input/fight_1.mp4: 640x640 (no detections), 11.3ms\n",
      "video 1/1 (frame 1174/2322) /home/hatsu/coding/CapProj/TestSeg_1/video_input/fight_1.mp4: 640x640 (no detections), 11.8ms\n",
      "video 1/1 (frame 1175/2322) /home/hatsu/coding/CapProj/TestSeg_1/video_input/fight_1.mp4: 640x640 2 Fighters, 11.3ms\n",
      "video 1/1 (frame 1176/2322) /home/hatsu/coding/CapProj/TestSeg_1/video_input/fight_1.mp4: 640x640 (no detections), 12.9ms\n",
      "video 1/1 (frame 1177/2322) /home/hatsu/coding/CapProj/TestSeg_1/video_input/fight_1.mp4: 640x640 (no detections), 12.2ms\n",
      "video 1/1 (frame 1178/2322) /home/hatsu/coding/CapProj/TestSeg_1/video_input/fight_1.mp4: 640x640 (no detections), 16.7ms\n",
      "video 1/1 (frame 1179/2322) /home/hatsu/coding/CapProj/TestSeg_1/video_input/fight_1.mp4: 640x640 (no detections), 10.9ms\n",
      "video 1/1 (frame 1180/2322) /home/hatsu/coding/CapProj/TestSeg_1/video_input/fight_1.mp4: 640x640 (no detections), 12.5ms\n",
      "video 1/1 (frame 1181/2322) /home/hatsu/coding/CapProj/TestSeg_1/video_input/fight_1.mp4: 640x640 1 Fighter, 16.9ms\n",
      "video 1/1 (frame 1182/2322) /home/hatsu/coding/CapProj/TestSeg_1/video_input/fight_1.mp4: 640x640 1 Fighter, 12.4ms\n",
      "video 1/1 (frame 1183/2322) /home/hatsu/coding/CapProj/TestSeg_1/video_input/fight_1.mp4: 640x640 (no detections), 13.6ms\n",
      "video 1/1 (frame 1184/2322) /home/hatsu/coding/CapProj/TestSeg_1/video_input/fight_1.mp4: 640x640 (no detections), 12.3ms\n",
      "video 1/1 (frame 1185/2322) /home/hatsu/coding/CapProj/TestSeg_1/video_input/fight_1.mp4: 640x640 1 Fighter, 11.4ms\n",
      "video 1/1 (frame 1186/2322) /home/hatsu/coding/CapProj/TestSeg_1/video_input/fight_1.mp4: 640x640 1 Fighter, 11.8ms\n",
      "video 1/1 (frame 1187/2322) /home/hatsu/coding/CapProj/TestSeg_1/video_input/fight_1.mp4: 640x640 1 Fighter, 11.6ms\n",
      "video 1/1 (frame 1188/2322) /home/hatsu/coding/CapProj/TestSeg_1/video_input/fight_1.mp4: 640x640 (no detections), 12.2ms\n",
      "video 1/1 (frame 1189/2322) /home/hatsu/coding/CapProj/TestSeg_1/video_input/fight_1.mp4: 640x640 (no detections), 12.4ms\n",
      "video 1/1 (frame 1190/2322) /home/hatsu/coding/CapProj/TestSeg_1/video_input/fight_1.mp4: 640x640 1 Fighter, 11.3ms\n",
      "video 1/1 (frame 1191/2322) /home/hatsu/coding/CapProj/TestSeg_1/video_input/fight_1.mp4: 640x640 1 Fighter, 16.6ms\n",
      "video 1/1 (frame 1192/2322) /home/hatsu/coding/CapProj/TestSeg_1/video_input/fight_1.mp4: 640x640 1 Fighter, 15.2ms\n",
      "video 1/1 (frame 1193/2322) /home/hatsu/coding/CapProj/TestSeg_1/video_input/fight_1.mp4: 640x640 (no detections), 11.3ms\n",
      "video 1/1 (frame 1194/2322) /home/hatsu/coding/CapProj/TestSeg_1/video_input/fight_1.mp4: 640x640 (no detections), 11.5ms\n",
      "video 1/1 (frame 1195/2322) /home/hatsu/coding/CapProj/TestSeg_1/video_input/fight_1.mp4: 640x640 (no detections), 12.5ms\n",
      "video 1/1 (frame 1196/2322) /home/hatsu/coding/CapProj/TestSeg_1/video_input/fight_1.mp4: 640x640 (no detections), 10.7ms\n",
      "video 1/1 (frame 1197/2322) /home/hatsu/coding/CapProj/TestSeg_1/video_input/fight_1.mp4: 640x640 (no detections), 11.2ms\n",
      "video 1/1 (frame 1198/2322) /home/hatsu/coding/CapProj/TestSeg_1/video_input/fight_1.mp4: 640x640 (no detections), 12.1ms\n",
      "video 1/1 (frame 1199/2322) /home/hatsu/coding/CapProj/TestSeg_1/video_input/fight_1.mp4: 640x640 (no detections), 14.2ms\n",
      "video 1/1 (frame 1200/2322) /home/hatsu/coding/CapProj/TestSeg_1/video_input/fight_1.mp4: 640x640 1 Fighter, 15.9ms\n",
      "video 1/1 (frame 1201/2322) /home/hatsu/coding/CapProj/TestSeg_1/video_input/fight_1.mp4: 640x640 (no detections), 17.6ms\n",
      "video 1/1 (frame 1202/2322) /home/hatsu/coding/CapProj/TestSeg_1/video_input/fight_1.mp4: 640x640 1 Fighter, 11.6ms\n",
      "video 1/1 (frame 1203/2322) /home/hatsu/coding/CapProj/TestSeg_1/video_input/fight_1.mp4: 640x640 (no detections), 12.4ms\n",
      "video 1/1 (frame 1204/2322) /home/hatsu/coding/CapProj/TestSeg_1/video_input/fight_1.mp4: 640x640 (no detections), 11.5ms\n",
      "video 1/1 (frame 1205/2322) /home/hatsu/coding/CapProj/TestSeg_1/video_input/fight_1.mp4: 640x640 (no detections), 11.7ms\n",
      "video 1/1 (frame 1206/2322) /home/hatsu/coding/CapProj/TestSeg_1/video_input/fight_1.mp4: 640x640 (no detections), 12.5ms\n",
      "video 1/1 (frame 1207/2322) /home/hatsu/coding/CapProj/TestSeg_1/video_input/fight_1.mp4: 640x640 (no detections), 11.7ms\n",
      "video 1/1 (frame 1208/2322) /home/hatsu/coding/CapProj/TestSeg_1/video_input/fight_1.mp4: 640x640 (no detections), 11.8ms\n",
      "video 1/1 (frame 1209/2322) /home/hatsu/coding/CapProj/TestSeg_1/video_input/fight_1.mp4: 640x640 (no detections), 13.2ms\n",
      "video 1/1 (frame 1210/2322) /home/hatsu/coding/CapProj/TestSeg_1/video_input/fight_1.mp4: 640x640 (no detections), 14.9ms\n",
      "video 1/1 (frame 1211/2322) /home/hatsu/coding/CapProj/TestSeg_1/video_input/fight_1.mp4: 640x640 (no detections), 14.2ms\n",
      "video 1/1 (frame 1212/2322) /home/hatsu/coding/CapProj/TestSeg_1/video_input/fight_1.mp4: 640x640 1 Fighter, 11.2ms\n",
      "video 1/1 (frame 1213/2322) /home/hatsu/coding/CapProj/TestSeg_1/video_input/fight_1.mp4: 640x640 (no detections), 11.9ms\n",
      "video 1/1 (frame 1214/2322) /home/hatsu/coding/CapProj/TestSeg_1/video_input/fight_1.mp4: 640x640 (no detections), 11.8ms\n",
      "video 1/1 (frame 1215/2322) /home/hatsu/coding/CapProj/TestSeg_1/video_input/fight_1.mp4: 640x640 1 Fighter, 16.9ms\n",
      "video 1/1 (frame 1216/2322) /home/hatsu/coding/CapProj/TestSeg_1/video_input/fight_1.mp4: 640x640 1 Fighter, 11.8ms\n",
      "video 1/1 (frame 1217/2322) /home/hatsu/coding/CapProj/TestSeg_1/video_input/fight_1.mp4: 640x640 1 Fighter, 12.0ms\n",
      "video 1/1 (frame 1218/2322) /home/hatsu/coding/CapProj/TestSeg_1/video_input/fight_1.mp4: 640x640 (no detections), 15.7ms\n",
      "video 1/1 (frame 1219/2322) /home/hatsu/coding/CapProj/TestSeg_1/video_input/fight_1.mp4: 640x640 (no detections), 11.1ms\n",
      "video 1/1 (frame 1220/2322) /home/hatsu/coding/CapProj/TestSeg_1/video_input/fight_1.mp4: 640x640 1 Fighter, 11.3ms\n",
      "video 1/1 (frame 1221/2322) /home/hatsu/coding/CapProj/TestSeg_1/video_input/fight_1.mp4: 640x640 1 Fighter, 11.6ms\n",
      "video 1/1 (frame 1222/2322) /home/hatsu/coding/CapProj/TestSeg_1/video_input/fight_1.mp4: 640x640 1 Fighter, 11.9ms\n",
      "video 1/1 (frame 1223/2322) /home/hatsu/coding/CapProj/TestSeg_1/video_input/fight_1.mp4: 640x640 1 Fighter, 11.8ms\n",
      "video 1/1 (frame 1224/2322) /home/hatsu/coding/CapProj/TestSeg_1/video_input/fight_1.mp4: 640x640 (no detections), 11.7ms\n",
      "video 1/1 (frame 1225/2322) /home/hatsu/coding/CapProj/TestSeg_1/video_input/fight_1.mp4: 640x640 (no detections), 12.9ms\n",
      "video 1/1 (frame 1226/2322) /home/hatsu/coding/CapProj/TestSeg_1/video_input/fight_1.mp4: 640x640 1 Fighter, 10.8ms\n",
      "video 1/1 (frame 1227/2322) /home/hatsu/coding/CapProj/TestSeg_1/video_input/fight_1.mp4: 640x640 1 Fighter, 12.7ms\n",
      "video 1/1 (frame 1228/2322) /home/hatsu/coding/CapProj/TestSeg_1/video_input/fight_1.mp4: 640x640 1 Fighter, 12.6ms\n",
      "video 1/1 (frame 1229/2322) /home/hatsu/coding/CapProj/TestSeg_1/video_input/fight_1.mp4: 640x640 (no detections), 29.6ms\n",
      "video 1/1 (frame 1230/2322) /home/hatsu/coding/CapProj/TestSeg_1/video_input/fight_1.mp4: 640x640 1 Fighter, 11.2ms\n",
      "video 1/1 (frame 1231/2322) /home/hatsu/coding/CapProj/TestSeg_1/video_input/fight_1.mp4: 640x640 1 Fighter, 15.3ms\n",
      "video 1/1 (frame 1232/2322) /home/hatsu/coding/CapProj/TestSeg_1/video_input/fight_1.mp4: 640x640 1 Fighter, 11.6ms\n",
      "video 1/1 (frame 1233/2322) /home/hatsu/coding/CapProj/TestSeg_1/video_input/fight_1.mp4: 640x640 (no detections), 21.6ms\n",
      "video 1/1 (frame 1234/2322) /home/hatsu/coding/CapProj/TestSeg_1/video_input/fight_1.mp4: 640x640 (no detections), 13.0ms\n",
      "video 1/1 (frame 1235/2322) /home/hatsu/coding/CapProj/TestSeg_1/video_input/fight_1.mp4: 640x640 1 Fighter, 13.3ms\n",
      "video 1/1 (frame 1236/2322) /home/hatsu/coding/CapProj/TestSeg_1/video_input/fight_1.mp4: 640x640 1 Fighter, 14.1ms\n",
      "video 1/1 (frame 1237/2322) /home/hatsu/coding/CapProj/TestSeg_1/video_input/fight_1.mp4: 640x640 1 Fighter, 14.0ms\n",
      "video 1/1 (frame 1238/2322) /home/hatsu/coding/CapProj/TestSeg_1/video_input/fight_1.mp4: 640x640 (no detections), 13.3ms\n",
      "video 1/1 (frame 1239/2322) /home/hatsu/coding/CapProj/TestSeg_1/video_input/fight_1.mp4: 640x640 (no detections), 11.5ms\n",
      "video 1/1 (frame 1240/2322) /home/hatsu/coding/CapProj/TestSeg_1/video_input/fight_1.mp4: 640x640 2 Fighters, 13.6ms\n",
      "video 1/1 (frame 1241/2322) /home/hatsu/coding/CapProj/TestSeg_1/video_input/fight_1.mp4: 640x640 2 Fighters, 13.4ms\n",
      "video 1/1 (frame 1242/2322) /home/hatsu/coding/CapProj/TestSeg_1/video_input/fight_1.mp4: 640x640 2 Fighters, 11.8ms\n",
      "video 1/1 (frame 1243/2322) /home/hatsu/coding/CapProj/TestSeg_1/video_input/fight_1.mp4: 640x640 (no detections), 12.1ms\n",
      "video 1/1 (frame 1244/2322) /home/hatsu/coding/CapProj/TestSeg_1/video_input/fight_1.mp4: 640x640 (no detections), 11.4ms\n",
      "video 1/1 (frame 1245/2322) /home/hatsu/coding/CapProj/TestSeg_1/video_input/fight_1.mp4: 640x640 1 Fighter, 12.9ms\n",
      "video 1/1 (frame 1246/2322) /home/hatsu/coding/CapProj/TestSeg_1/video_input/fight_1.mp4: 640x640 1 Fighter, 11.6ms\n",
      "video 1/1 (frame 1247/2322) /home/hatsu/coding/CapProj/TestSeg_1/video_input/fight_1.mp4: 640x640 1 Fighter, 12.5ms\n",
      "video 1/1 (frame 1248/2322) /home/hatsu/coding/CapProj/TestSeg_1/video_input/fight_1.mp4: 640x640 (no detections), 12.1ms\n",
      "video 1/1 (frame 1249/2322) /home/hatsu/coding/CapProj/TestSeg_1/video_input/fight_1.mp4: 640x640 (no detections), 11.8ms\n",
      "video 1/1 (frame 1250/2322) /home/hatsu/coding/CapProj/TestSeg_1/video_input/fight_1.mp4: 640x640 1 Fighter, 11.6ms\n",
      "video 1/1 (frame 1251/2322) /home/hatsu/coding/CapProj/TestSeg_1/video_input/fight_1.mp4: 640x640 1 Fighter, 12.2ms\n",
      "video 1/1 (frame 1252/2322) /home/hatsu/coding/CapProj/TestSeg_1/video_input/fight_1.mp4: 640x640 1 Fighter, 12.5ms\n",
      "video 1/1 (frame 1253/2322) /home/hatsu/coding/CapProj/TestSeg_1/video_input/fight_1.mp4: 640x640 1 Fighter, 11.9ms\n",
      "video 1/1 (frame 1254/2322) /home/hatsu/coding/CapProj/TestSeg_1/video_input/fight_1.mp4: 640x640 (no detections), 13.0ms\n",
      "video 1/1 (frame 1255/2322) /home/hatsu/coding/CapProj/TestSeg_1/video_input/fight_1.mp4: 640x640 1 Fighter, 13.0ms\n",
      "video 1/1 (frame 1256/2322) /home/hatsu/coding/CapProj/TestSeg_1/video_input/fight_1.mp4: 640x640 1 Fighter, 10.8ms\n",
      "video 1/1 (frame 1257/2322) /home/hatsu/coding/CapProj/TestSeg_1/video_input/fight_1.mp4: 640x640 1 Fighter, 12.3ms\n",
      "video 1/1 (frame 1258/2322) /home/hatsu/coding/CapProj/TestSeg_1/video_input/fight_1.mp4: 640x640 (no detections), 11.4ms\n",
      "video 1/1 (frame 1259/2322) /home/hatsu/coding/CapProj/TestSeg_1/video_input/fight_1.mp4: 640x640 (no detections), 12.5ms\n",
      "video 1/1 (frame 1260/2322) /home/hatsu/coding/CapProj/TestSeg_1/video_input/fight_1.mp4: 640x640 (no detections), 25.6ms\n",
      "video 1/1 (frame 1261/2322) /home/hatsu/coding/CapProj/TestSeg_1/video_input/fight_1.mp4: 640x640 1 Fighter, 11.6ms\n",
      "video 1/1 (frame 1262/2322) /home/hatsu/coding/CapProj/TestSeg_1/video_input/fight_1.mp4: 640x640 1 Fighter, 11.8ms\n",
      "video 1/1 (frame 1263/2322) /home/hatsu/coding/CapProj/TestSeg_1/video_input/fight_1.mp4: 640x640 (no detections), 12.3ms\n",
      "video 1/1 (frame 1264/2322) /home/hatsu/coding/CapProj/TestSeg_1/video_input/fight_1.mp4: 640x640 (no detections), 10.9ms\n",
      "video 1/1 (frame 1265/2322) /home/hatsu/coding/CapProj/TestSeg_1/video_input/fight_1.mp4: 640x640 1 Fighter, 11.4ms\n",
      "video 1/1 (frame 1266/2322) /home/hatsu/coding/CapProj/TestSeg_1/video_input/fight_1.mp4: 640x640 1 Fighter, 14.1ms\n",
      "video 1/1 (frame 1267/2322) /home/hatsu/coding/CapProj/TestSeg_1/video_input/fight_1.mp4: 640x640 1 Fighter, 11.8ms\n",
      "video 1/1 (frame 1268/2322) /home/hatsu/coding/CapProj/TestSeg_1/video_input/fight_1.mp4: 640x640 (no detections), 11.7ms\n",
      "video 1/1 (frame 1269/2322) /home/hatsu/coding/CapProj/TestSeg_1/video_input/fight_1.mp4: 640x640 (no detections), 13.9ms\n",
      "video 1/1 (frame 1270/2322) /home/hatsu/coding/CapProj/TestSeg_1/video_input/fight_1.mp4: 640x640 1 Fighter, 10.4ms\n",
      "video 1/1 (frame 1271/2322) /home/hatsu/coding/CapProj/TestSeg_1/video_input/fight_1.mp4: 640x640 2 Fighters, 12.0ms\n",
      "video 1/1 (frame 1272/2322) /home/hatsu/coding/CapProj/TestSeg_1/video_input/fight_1.mp4: 640x640 1 Fighter, 11.8ms\n",
      "video 1/1 (frame 1273/2322) /home/hatsu/coding/CapProj/TestSeg_1/video_input/fight_1.mp4: 640x640 (no detections), 30.8ms\n",
      "video 1/1 (frame 1274/2322) /home/hatsu/coding/CapProj/TestSeg_1/video_input/fight_1.mp4: 640x640 (no detections), 11.3ms\n",
      "video 1/1 (frame 1275/2322) /home/hatsu/coding/CapProj/TestSeg_1/video_input/fight_1.mp4: 640x640 1 Fighter, 12.6ms\n",
      "video 1/1 (frame 1276/2322) /home/hatsu/coding/CapProj/TestSeg_1/video_input/fight_1.mp4: 640x640 2 Fighters, 11.2ms\n",
      "video 1/1 (frame 1277/2322) /home/hatsu/coding/CapProj/TestSeg_1/video_input/fight_1.mp4: 640x640 1 Fighter, 12.7ms\n",
      "video 1/1 (frame 1278/2322) /home/hatsu/coding/CapProj/TestSeg_1/video_input/fight_1.mp4: 640x640 (no detections), 12.4ms\n",
      "video 1/1 (frame 1279/2322) /home/hatsu/coding/CapProj/TestSeg_1/video_input/fight_1.mp4: 640x640 (no detections), 12.3ms\n",
      "video 1/1 (frame 1280/2322) /home/hatsu/coding/CapProj/TestSeg_1/video_input/fight_1.mp4: 640x640 1 Fighter, 23.8ms\n",
      "video 1/1 (frame 1281/2322) /home/hatsu/coding/CapProj/TestSeg_1/video_input/fight_1.mp4: 640x640 (no detections), 12.2ms\n",
      "video 1/1 (frame 1282/2322) /home/hatsu/coding/CapProj/TestSeg_1/video_input/fight_1.mp4: 640x640 (no detections), 12.4ms\n",
      "video 1/1 (frame 1283/2322) /home/hatsu/coding/CapProj/TestSeg_1/video_input/fight_1.mp4: 640x640 (no detections), 10.5ms\n",
      "video 1/1 (frame 1284/2322) /home/hatsu/coding/CapProj/TestSeg_1/video_input/fight_1.mp4: 640x640 (no detections), 12.7ms\n",
      "video 1/1 (frame 1285/2322) /home/hatsu/coding/CapProj/TestSeg_1/video_input/fight_1.mp4: 640x640 1 Fighter, 12.7ms\n",
      "video 1/1 (frame 1286/2322) /home/hatsu/coding/CapProj/TestSeg_1/video_input/fight_1.mp4: 640x640 1 Fighter, 14.5ms\n",
      "video 1/1 (frame 1287/2322) /home/hatsu/coding/CapProj/TestSeg_1/video_input/fight_1.mp4: 640x640 (no detections), 14.6ms\n",
      "video 1/1 (frame 1288/2322) /home/hatsu/coding/CapProj/TestSeg_1/video_input/fight_1.mp4: 640x640 (no detections), 11.6ms\n",
      "video 1/1 (frame 1289/2322) /home/hatsu/coding/CapProj/TestSeg_1/video_input/fight_1.mp4: 640x640 (no detections), 12.7ms\n",
      "video 1/1 (frame 1290/2322) /home/hatsu/coding/CapProj/TestSeg_1/video_input/fight_1.mp4: 640x640 1 Fighter, 11.8ms\n",
      "video 1/1 (frame 1291/2322) /home/hatsu/coding/CapProj/TestSeg_1/video_input/fight_1.mp4: 640x640 (no detections), 15.0ms\n",
      "video 1/1 (frame 1292/2322) /home/hatsu/coding/CapProj/TestSeg_1/video_input/fight_1.mp4: 640x640 1 Fighter, 11.1ms\n",
      "video 1/1 (frame 1293/2322) /home/hatsu/coding/CapProj/TestSeg_1/video_input/fight_1.mp4: 640x640 (no detections), 11.4ms\n",
      "video 1/1 (frame 1294/2322) /home/hatsu/coding/CapProj/TestSeg_1/video_input/fight_1.mp4: 640x640 (no detections), 11.0ms\n",
      "video 1/1 (frame 1295/2322) /home/hatsu/coding/CapProj/TestSeg_1/video_input/fight_1.mp4: 640x640 1 Fighter, 11.2ms\n",
      "video 1/1 (frame 1296/2322) /home/hatsu/coding/CapProj/TestSeg_1/video_input/fight_1.mp4: 640x640 1 Fighter, 14.8ms\n",
      "video 1/1 (frame 1297/2322) /home/hatsu/coding/CapProj/TestSeg_1/video_input/fight_1.mp4: 640x640 1 Fighter, 11.5ms\n",
      "video 1/1 (frame 1298/2322) /home/hatsu/coding/CapProj/TestSeg_1/video_input/fight_1.mp4: 640x640 (no detections), 16.5ms\n",
      "video 1/1 (frame 1299/2322) /home/hatsu/coding/CapProj/TestSeg_1/video_input/fight_1.mp4: 640x640 2 Fighters, 10.5ms\n",
      "video 1/1 (frame 1300/2322) /home/hatsu/coding/CapProj/TestSeg_1/video_input/fight_1.mp4: 640x640 (no detections), 15.9ms\n",
      "video 1/1 (frame 1301/2322) /home/hatsu/coding/CapProj/TestSeg_1/video_input/fight_1.mp4: 640x640 1 Fighter, 14.1ms\n",
      "video 1/1 (frame 1302/2322) /home/hatsu/coding/CapProj/TestSeg_1/video_input/fight_1.mp4: 640x640 (no detections), 12.1ms\n",
      "video 1/1 (frame 1303/2322) /home/hatsu/coding/CapProj/TestSeg_1/video_input/fight_1.mp4: 640x640 (no detections), 11.8ms\n",
      "video 1/1 (frame 1304/2322) /home/hatsu/coding/CapProj/TestSeg_1/video_input/fight_1.mp4: 640x640 (no detections), 11.3ms\n",
      "video 1/1 (frame 1305/2322) /home/hatsu/coding/CapProj/TestSeg_1/video_input/fight_1.mp4: 640x640 1 Fighter, 11.8ms\n",
      "video 1/1 (frame 1306/2322) /home/hatsu/coding/CapProj/TestSeg_1/video_input/fight_1.mp4: 640x640 1 Fighter, 11.8ms\n",
      "video 1/1 (frame 1307/2322) /home/hatsu/coding/CapProj/TestSeg_1/video_input/fight_1.mp4: 640x640 (no detections), 14.5ms\n",
      "video 1/1 (frame 1308/2322) /home/hatsu/coding/CapProj/TestSeg_1/video_input/fight_1.mp4: 640x640 (no detections), 12.5ms\n",
      "video 1/1 (frame 1309/2322) /home/hatsu/coding/CapProj/TestSeg_1/video_input/fight_1.mp4: 640x640 (no detections), 10.9ms\n",
      "video 1/1 (frame 1310/2322) /home/hatsu/coding/CapProj/TestSeg_1/video_input/fight_1.mp4: 640x640 (no detections), 11.4ms\n",
      "video 1/1 (frame 1311/2322) /home/hatsu/coding/CapProj/TestSeg_1/video_input/fight_1.mp4: 640x640 (no detections), 11.4ms\n",
      "video 1/1 (frame 1312/2322) /home/hatsu/coding/CapProj/TestSeg_1/video_input/fight_1.mp4: 640x640 1 Fighter, 11.3ms\n",
      "video 1/1 (frame 1313/2322) /home/hatsu/coding/CapProj/TestSeg_1/video_input/fight_1.mp4: 640x640 2 Fighters, 11.4ms\n",
      "video 1/1 (frame 1314/2322) /home/hatsu/coding/CapProj/TestSeg_1/video_input/fight_1.mp4: 640x640 1 Fighter, 12.1ms\n",
      "video 1/1 (frame 1315/2322) /home/hatsu/coding/CapProj/TestSeg_1/video_input/fight_1.mp4: 640x640 1 Fighter, 12.5ms\n",
      "video 1/1 (frame 1316/2322) /home/hatsu/coding/CapProj/TestSeg_1/video_input/fight_1.mp4: 640x640 (no detections), 11.4ms\n",
      "video 1/1 (frame 1317/2322) /home/hatsu/coding/CapProj/TestSeg_1/video_input/fight_1.mp4: 640x640 (no detections), 12.7ms\n",
      "video 1/1 (frame 1318/2322) /home/hatsu/coding/CapProj/TestSeg_1/video_input/fight_1.mp4: 640x640 (no detections), 11.4ms\n",
      "video 1/1 (frame 1319/2322) /home/hatsu/coding/CapProj/TestSeg_1/video_input/fight_1.mp4: 640x640 1 Fighter, 16.0ms\n",
      "video 1/1 (frame 1320/2322) /home/hatsu/coding/CapProj/TestSeg_1/video_input/fight_1.mp4: 640x640 1 Fighter, 13.3ms\n",
      "video 1/1 (frame 1321/2322) /home/hatsu/coding/CapProj/TestSeg_1/video_input/fight_1.mp4: 640x640 1 Fighter, 12.7ms\n",
      "video 1/1 (frame 1322/2322) /home/hatsu/coding/CapProj/TestSeg_1/video_input/fight_1.mp4: 640x640 (no detections), 11.4ms\n",
      "video 1/1 (frame 1323/2322) /home/hatsu/coding/CapProj/TestSeg_1/video_input/fight_1.mp4: 640x640 1 Fighter, 11.7ms\n",
      "video 1/1 (frame 1324/2322) /home/hatsu/coding/CapProj/TestSeg_1/video_input/fight_1.mp4: 640x640 1 Fighter, 13.1ms\n",
      "video 1/1 (frame 1325/2322) /home/hatsu/coding/CapProj/TestSeg_1/video_input/fight_1.mp4: 640x640 2 Fighters, 14.5ms\n",
      "video 1/1 (frame 1326/2322) /home/hatsu/coding/CapProj/TestSeg_1/video_input/fight_1.mp4: 640x640 2 Fighters, 26.8ms\n",
      "video 1/1 (frame 1327/2322) /home/hatsu/coding/CapProj/TestSeg_1/video_input/fight_1.mp4: 640x640 3 Fighters, 14.4ms\n",
      "video 1/1 (frame 1328/2322) /home/hatsu/coding/CapProj/TestSeg_1/video_input/fight_1.mp4: 640x640 2 Fighters, 11.8ms\n",
      "video 1/1 (frame 1329/2322) /home/hatsu/coding/CapProj/TestSeg_1/video_input/fight_1.mp4: 640x640 3 Fighters, 12.0ms\n",
      "video 1/1 (frame 1330/2322) /home/hatsu/coding/CapProj/TestSeg_1/video_input/fight_1.mp4: 640x640 3 Fighters, 15.3ms\n",
      "video 1/1 (frame 1331/2322) /home/hatsu/coding/CapProj/TestSeg_1/video_input/fight_1.mp4: 640x640 1 Fighter, 13.1ms\n",
      "video 1/1 (frame 1332/2322) /home/hatsu/coding/CapProj/TestSeg_1/video_input/fight_1.mp4: 640x640 1 Fighter, 11.7ms\n",
      "video 1/1 (frame 1333/2322) /home/hatsu/coding/CapProj/TestSeg_1/video_input/fight_1.mp4: 640x640 1 Fighter, 11.8ms\n",
      "video 1/1 (frame 1334/2322) /home/hatsu/coding/CapProj/TestSeg_1/video_input/fight_1.mp4: 640x640 1 Fighter, 11.7ms\n",
      "video 1/1 (frame 1335/2322) /home/hatsu/coding/CapProj/TestSeg_1/video_input/fight_1.mp4: 640x640 1 Fighter, 12.0ms\n",
      "video 1/1 (frame 1336/2322) /home/hatsu/coding/CapProj/TestSeg_1/video_input/fight_1.mp4: 640x640 1 Fighter, 11.8ms\n",
      "video 1/1 (frame 1337/2322) /home/hatsu/coding/CapProj/TestSeg_1/video_input/fight_1.mp4: 640x640 1 Fighter, 11.6ms\n",
      "video 1/1 (frame 1338/2322) /home/hatsu/coding/CapProj/TestSeg_1/video_input/fight_1.mp4: 640x640 (no detections), 13.7ms\n",
      "video 1/1 (frame 1339/2322) /home/hatsu/coding/CapProj/TestSeg_1/video_input/fight_1.mp4: 640x640 (no detections), 11.5ms\n",
      "video 1/1 (frame 1340/2322) /home/hatsu/coding/CapProj/TestSeg_1/video_input/fight_1.mp4: 640x640 1 Fighter, 11.4ms\n",
      "video 1/1 (frame 1341/2322) /home/hatsu/coding/CapProj/TestSeg_1/video_input/fight_1.mp4: 640x640 1 Fighter, 12.0ms\n",
      "video 1/1 (frame 1342/2322) /home/hatsu/coding/CapProj/TestSeg_1/video_input/fight_1.mp4: 640x640 1 Fighter, 11.8ms\n",
      "video 1/1 (frame 1343/2322) /home/hatsu/coding/CapProj/TestSeg_1/video_input/fight_1.mp4: 640x640 (no detections), 11.6ms\n",
      "video 1/1 (frame 1344/2322) /home/hatsu/coding/CapProj/TestSeg_1/video_input/fight_1.mp4: 640x640 1 Fighter, 11.7ms\n",
      "video 1/1 (frame 1345/2322) /home/hatsu/coding/CapProj/TestSeg_1/video_input/fight_1.mp4: 640x640 1 Fighter, 13.2ms\n",
      "video 1/1 (frame 1346/2322) /home/hatsu/coding/CapProj/TestSeg_1/video_input/fight_1.mp4: 640x640 (no detections), 15.6ms\n",
      "video 1/1 (frame 1347/2322) /home/hatsu/coding/CapProj/TestSeg_1/video_input/fight_1.mp4: 640x640 1 Fighter, 18.5ms\n",
      "video 1/1 (frame 1348/2322) /home/hatsu/coding/CapProj/TestSeg_1/video_input/fight_1.mp4: 640x640 (no detections), 13.7ms\n",
      "video 1/1 (frame 1349/2322) /home/hatsu/coding/CapProj/TestSeg_1/video_input/fight_1.mp4: 640x640 1 Fighter, 11.2ms\n",
      "video 1/1 (frame 1350/2322) /home/hatsu/coding/CapProj/TestSeg_1/video_input/fight_1.mp4: 640x640 2 Fighters, 11.8ms\n",
      "video 1/1 (frame 1351/2322) /home/hatsu/coding/CapProj/TestSeg_1/video_input/fight_1.mp4: 640x640 1 Fighter, 11.7ms\n",
      "video 1/1 (frame 1352/2322) /home/hatsu/coding/CapProj/TestSeg_1/video_input/fight_1.mp4: 640x640 1 Fighter, 12.3ms\n",
      "video 1/1 (frame 1353/2322) /home/hatsu/coding/CapProj/TestSeg_1/video_input/fight_1.mp4: 640x640 (no detections), 13.3ms\n",
      "video 1/1 (frame 1354/2322) /home/hatsu/coding/CapProj/TestSeg_1/video_input/fight_1.mp4: 640x640 1 Fighter, 11.6ms\n",
      "video 1/1 (frame 1355/2322) /home/hatsu/coding/CapProj/TestSeg_1/video_input/fight_1.mp4: 640x640 1 Fighter, 13.5ms\n",
      "video 1/1 (frame 1356/2322) /home/hatsu/coding/CapProj/TestSeg_1/video_input/fight_1.mp4: 640x640 1 Fighter, 13.0ms\n",
      "video 1/1 (frame 1357/2322) /home/hatsu/coding/CapProj/TestSeg_1/video_input/fight_1.mp4: 640x640 2 Fighters, 12.6ms\n",
      "video 1/1 (frame 1358/2322) /home/hatsu/coding/CapProj/TestSeg_1/video_input/fight_1.mp4: 640x640 1 Fighter, 11.8ms\n",
      "video 1/1 (frame 1359/2322) /home/hatsu/coding/CapProj/TestSeg_1/video_input/fight_1.mp4: 640x640 1 Fighter, 14.3ms\n",
      "video 1/1 (frame 1360/2322) /home/hatsu/coding/CapProj/TestSeg_1/video_input/fight_1.mp4: 640x640 3 Fighters, 12.6ms\n",
      "video 1/1 (frame 1361/2322) /home/hatsu/coding/CapProj/TestSeg_1/video_input/fight_1.mp4: 640x640 3 Fighters, 14.2ms\n",
      "video 1/1 (frame 1362/2322) /home/hatsu/coding/CapProj/TestSeg_1/video_input/fight_1.mp4: 640x640 (no detections), 14.9ms\n",
      "video 1/1 (frame 1363/2322) /home/hatsu/coding/CapProj/TestSeg_1/video_input/fight_1.mp4: 640x640 1 Fighter, 12.9ms\n",
      "video 1/1 (frame 1364/2322) /home/hatsu/coding/CapProj/TestSeg_1/video_input/fight_1.mp4: 640x640 2 Fighters, 11.3ms\n",
      "video 1/1 (frame 1365/2322) /home/hatsu/coding/CapProj/TestSeg_1/video_input/fight_1.mp4: 640x640 3 Fighters, 12.1ms\n",
      "video 1/1 (frame 1366/2322) /home/hatsu/coding/CapProj/TestSeg_1/video_input/fight_1.mp4: 640x640 2 Fighters, 11.2ms\n",
      "video 1/1 (frame 1367/2322) /home/hatsu/coding/CapProj/TestSeg_1/video_input/fight_1.mp4: 640x640 4 Fighters, 12.1ms\n",
      "video 1/1 (frame 1368/2322) /home/hatsu/coding/CapProj/TestSeg_1/video_input/fight_1.mp4: 640x640 1 Fighter, 11.3ms\n",
      "video 1/1 (frame 1369/2322) /home/hatsu/coding/CapProj/TestSeg_1/video_input/fight_1.mp4: 640x640 1 Fighter, 12.7ms\n",
      "video 1/1 (frame 1370/2322) /home/hatsu/coding/CapProj/TestSeg_1/video_input/fight_1.mp4: 640x640 1 Fighter, 18.5ms\n",
      "video 1/1 (frame 1371/2322) /home/hatsu/coding/CapProj/TestSeg_1/video_input/fight_1.mp4: 640x640 1 Fighter, 11.4ms\n",
      "video 1/1 (frame 1372/2322) /home/hatsu/coding/CapProj/TestSeg_1/video_input/fight_1.mp4: 640x640 1 Fighter, 11.6ms\n",
      "video 1/1 (frame 1373/2322) /home/hatsu/coding/CapProj/TestSeg_1/video_input/fight_1.mp4: 640x640 1 Fighter, 13.1ms\n",
      "video 1/1 (frame 1374/2322) /home/hatsu/coding/CapProj/TestSeg_1/video_input/fight_1.mp4: 640x640 1 Fighter, 12.4ms\n",
      "video 1/1 (frame 1375/2322) /home/hatsu/coding/CapProj/TestSeg_1/video_input/fight_1.mp4: 640x640 2 Fighters, 11.7ms\n",
      "video 1/1 (frame 1376/2322) /home/hatsu/coding/CapProj/TestSeg_1/video_input/fight_1.mp4: 640x640 3 Fighters, 12.1ms\n",
      "video 1/1 (frame 1377/2322) /home/hatsu/coding/CapProj/TestSeg_1/video_input/fight_1.mp4: 640x640 2 Fighters, 12.1ms\n",
      "video 1/1 (frame 1378/2322) /home/hatsu/coding/CapProj/TestSeg_1/video_input/fight_1.mp4: 640x640 1 Fighter, 11.8ms\n",
      "video 1/1 (frame 1379/2322) /home/hatsu/coding/CapProj/TestSeg_1/video_input/fight_1.mp4: 640x640 1 Fighter, 11.4ms\n",
      "video 1/1 (frame 1380/2322) /home/hatsu/coding/CapProj/TestSeg_1/video_input/fight_1.mp4: 640x640 1 Fighter, 11.6ms\n",
      "video 1/1 (frame 1381/2322) /home/hatsu/coding/CapProj/TestSeg_1/video_input/fight_1.mp4: 640x640 2 Fighters, 16.7ms\n",
      "video 1/1 (frame 1382/2322) /home/hatsu/coding/CapProj/TestSeg_1/video_input/fight_1.mp4: 640x640 1 Fighter, 13.0ms\n",
      "video 1/1 (frame 1383/2322) /home/hatsu/coding/CapProj/TestSeg_1/video_input/fight_1.mp4: 640x640 (no detections), 12.5ms\n",
      "video 1/1 (frame 1384/2322) /home/hatsu/coding/CapProj/TestSeg_1/video_input/fight_1.mp4: 640x640 (no detections), 11.4ms\n",
      "video 1/1 (frame 1385/2322) /home/hatsu/coding/CapProj/TestSeg_1/video_input/fight_1.mp4: 640x640 1 Fighter, 10.9ms\n",
      "video 1/1 (frame 1386/2322) /home/hatsu/coding/CapProj/TestSeg_1/video_input/fight_1.mp4: 640x640 1 Fighter, 11.8ms\n",
      "video 1/1 (frame 1387/2322) /home/hatsu/coding/CapProj/TestSeg_1/video_input/fight_1.mp4: 640x640 1 Fighter, 11.7ms\n",
      "video 1/1 (frame 1388/2322) /home/hatsu/coding/CapProj/TestSeg_1/video_input/fight_1.mp4: 640x640 1 Fighter, 11.7ms\n",
      "video 1/1 (frame 1389/2322) /home/hatsu/coding/CapProj/TestSeg_1/video_input/fight_1.mp4: 640x640 1 Fighter, 11.7ms\n",
      "video 1/1 (frame 1390/2322) /home/hatsu/coding/CapProj/TestSeg_1/video_input/fight_1.mp4: 640x640 1 Fighter, 11.6ms\n",
      "video 1/1 (frame 1391/2322) /home/hatsu/coding/CapProj/TestSeg_1/video_input/fight_1.mp4: 640x640 2 Fighters, 11.4ms\n",
      "video 1/1 (frame 1392/2322) /home/hatsu/coding/CapProj/TestSeg_1/video_input/fight_1.mp4: 640x640 1 Fighter, 11.3ms\n",
      "video 1/1 (frame 1393/2322) /home/hatsu/coding/CapProj/TestSeg_1/video_input/fight_1.mp4: 640x640 1 Fighter, 11.4ms\n",
      "video 1/1 (frame 1394/2322) /home/hatsu/coding/CapProj/TestSeg_1/video_input/fight_1.mp4: 640x640 (no detections), 12.3ms\n",
      "video 1/1 (frame 1395/2322) /home/hatsu/coding/CapProj/TestSeg_1/video_input/fight_1.mp4: 640x640 3 Fighters, 12.0ms\n",
      "video 1/1 (frame 1396/2322) /home/hatsu/coding/CapProj/TestSeg_1/video_input/fight_1.mp4: 640x640 3 Fighters, 12.1ms\n",
      "video 1/1 (frame 1397/2322) /home/hatsu/coding/CapProj/TestSeg_1/video_input/fight_1.mp4: 640x640 1 Fighter, 11.4ms\n",
      "video 1/1 (frame 1398/2322) /home/hatsu/coding/CapProj/TestSeg_1/video_input/fight_1.mp4: 640x640 (no detections), 11.5ms\n",
      "video 1/1 (frame 1399/2322) /home/hatsu/coding/CapProj/TestSeg_1/video_input/fight_1.mp4: 640x640 2 Fighters, 12.7ms\n",
      "video 1/1 (frame 1400/2322) /home/hatsu/coding/CapProj/TestSeg_1/video_input/fight_1.mp4: 640x640 2 Fighters, 12.6ms\n",
      "video 1/1 (frame 1401/2322) /home/hatsu/coding/CapProj/TestSeg_1/video_input/fight_1.mp4: 640x640 2 Fighters, 13.5ms\n",
      "video 1/1 (frame 1402/2322) /home/hatsu/coding/CapProj/TestSeg_1/video_input/fight_1.mp4: 640x640 3 Fighters, 32.6ms\n",
      "video 1/1 (frame 1403/2322) /home/hatsu/coding/CapProj/TestSeg_1/video_input/fight_1.mp4: 640x640 2 Fighters, 11.7ms\n",
      "video 1/1 (frame 1404/2322) /home/hatsu/coding/CapProj/TestSeg_1/video_input/fight_1.mp4: 640x640 2 Fighters, 13.5ms\n",
      "video 1/1 (frame 1405/2322) /home/hatsu/coding/CapProj/TestSeg_1/video_input/fight_1.mp4: 640x640 3 Fighters, 11.4ms\n",
      "video 1/1 (frame 1406/2322) /home/hatsu/coding/CapProj/TestSeg_1/video_input/fight_1.mp4: 640x640 1 Fighter, 11.8ms\n",
      "video 1/1 (frame 1407/2322) /home/hatsu/coding/CapProj/TestSeg_1/video_input/fight_1.mp4: 640x640 1 Fighter, 11.9ms\n",
      "video 1/1 (frame 1408/2322) /home/hatsu/coding/CapProj/TestSeg_1/video_input/fight_1.mp4: 640x640 1 Fighter, 12.3ms\n",
      "video 1/1 (frame 1409/2322) /home/hatsu/coding/CapProj/TestSeg_1/video_input/fight_1.mp4: 640x640 1 Fighter, 11.7ms\n",
      "video 1/1 (frame 1410/2322) /home/hatsu/coding/CapProj/TestSeg_1/video_input/fight_1.mp4: 640x640 (no detections), 11.7ms\n",
      "video 1/1 (frame 1411/2322) /home/hatsu/coding/CapProj/TestSeg_1/video_input/fight_1.mp4: 640x640 2 Fighters, 11.0ms\n",
      "video 1/1 (frame 1412/2322) /home/hatsu/coding/CapProj/TestSeg_1/video_input/fight_1.mp4: 640x640 1 Fighter, 11.6ms\n",
      "video 1/1 (frame 1413/2322) /home/hatsu/coding/CapProj/TestSeg_1/video_input/fight_1.mp4: 640x640 1 Fighter, 15.0ms\n",
      "video 1/1 (frame 1414/2322) /home/hatsu/coding/CapProj/TestSeg_1/video_input/fight_1.mp4: 640x640 1 Fighter, 11.7ms\n",
      "video 1/1 (frame 1415/2322) /home/hatsu/coding/CapProj/TestSeg_1/video_input/fight_1.mp4: 640x640 1 Fighter, 11.9ms\n",
      "video 1/1 (frame 1416/2322) /home/hatsu/coding/CapProj/TestSeg_1/video_input/fight_1.mp4: 640x640 1 Fighter, 12.7ms\n",
      "video 1/1 (frame 1417/2322) /home/hatsu/coding/CapProj/TestSeg_1/video_input/fight_1.mp4: 640x640 1 Fighter, 11.3ms\n",
      "video 1/1 (frame 1418/2322) /home/hatsu/coding/CapProj/TestSeg_1/video_input/fight_1.mp4: 640x640 1 Fighter, 11.7ms\n",
      "video 1/1 (frame 1419/2322) /home/hatsu/coding/CapProj/TestSeg_1/video_input/fight_1.mp4: 640x640 1 Fighter, 11.8ms\n",
      "video 1/1 (frame 1420/2322) /home/hatsu/coding/CapProj/TestSeg_1/video_input/fight_1.mp4: 640x640 2 Fighters, 12.3ms\n",
      "video 1/1 (frame 1421/2322) /home/hatsu/coding/CapProj/TestSeg_1/video_input/fight_1.mp4: 640x640 2 Fighters, 11.7ms\n",
      "video 1/1 (frame 1422/2322) /home/hatsu/coding/CapProj/TestSeg_1/video_input/fight_1.mp4: 640x640 2 Fighters, 27.3ms\n",
      "video 1/1 (frame 1423/2322) /home/hatsu/coding/CapProj/TestSeg_1/video_input/fight_1.mp4: 640x640 2 Fighters, 14.1ms\n",
      "video 1/1 (frame 1424/2322) /home/hatsu/coding/CapProj/TestSeg_1/video_input/fight_1.mp4: 640x640 1 Fighter, 11.4ms\n",
      "video 1/1 (frame 1425/2322) /home/hatsu/coding/CapProj/TestSeg_1/video_input/fight_1.mp4: 640x640 1 Fighter, 13.7ms\n",
      "video 1/1 (frame 1426/2322) /home/hatsu/coding/CapProj/TestSeg_1/video_input/fight_1.mp4: 640x640 1 Fighter, 11.7ms\n",
      "video 1/1 (frame 1427/2322) /home/hatsu/coding/CapProj/TestSeg_1/video_input/fight_1.mp4: 640x640 1 Fighter, 11.7ms\n",
      "video 1/1 (frame 1428/2322) /home/hatsu/coding/CapProj/TestSeg_1/video_input/fight_1.mp4: 640x640 1 Fighter, 13.1ms\n",
      "video 1/1 (frame 1429/2322) /home/hatsu/coding/CapProj/TestSeg_1/video_input/fight_1.mp4: 640x640 1 Fighter, 12.0ms\n",
      "video 1/1 (frame 1430/2322) /home/hatsu/coding/CapProj/TestSeg_1/video_input/fight_1.mp4: 640x640 (no detections), 11.4ms\n",
      "video 1/1 (frame 1431/2322) /home/hatsu/coding/CapProj/TestSeg_1/video_input/fight_1.mp4: 640x640 (no detections), 11.1ms\n",
      "video 1/1 (frame 1432/2322) /home/hatsu/coding/CapProj/TestSeg_1/video_input/fight_1.mp4: 640x640 1 Fighter, 11.3ms\n",
      "video 1/1 (frame 1433/2322) /home/hatsu/coding/CapProj/TestSeg_1/video_input/fight_1.mp4: 640x640 1 Fighter, 11.9ms\n",
      "video 1/1 (frame 1434/2322) /home/hatsu/coding/CapProj/TestSeg_1/video_input/fight_1.mp4: 640x640 (no detections), 15.9ms\n",
      "video 1/1 (frame 1435/2322) /home/hatsu/coding/CapProj/TestSeg_1/video_input/fight_1.mp4: 640x640 1 Fighter, 11.3ms\n",
      "video 1/1 (frame 1436/2322) /home/hatsu/coding/CapProj/TestSeg_1/video_input/fight_1.mp4: 640x640 1 Fighter, 11.6ms\n",
      "video 1/1 (frame 1437/2322) /home/hatsu/coding/CapProj/TestSeg_1/video_input/fight_1.mp4: 640x640 2 Fighters, 11.3ms\n",
      "video 1/1 (frame 1438/2322) /home/hatsu/coding/CapProj/TestSeg_1/video_input/fight_1.mp4: 640x640 1 Fighter, 14.4ms\n",
      "video 1/1 (frame 1439/2322) /home/hatsu/coding/CapProj/TestSeg_1/video_input/fight_1.mp4: 640x640 (no detections), 12.6ms\n",
      "video 1/1 (frame 1440/2322) /home/hatsu/coding/CapProj/TestSeg_1/video_input/fight_1.mp4: 640x640 2 Fighters, 12.0ms\n",
      "video 1/1 (frame 1441/2322) /home/hatsu/coding/CapProj/TestSeg_1/video_input/fight_1.mp4: 640x640 2 Fighters, 11.7ms\n",
      "video 1/1 (frame 1442/2322) /home/hatsu/coding/CapProj/TestSeg_1/video_input/fight_1.mp4: 640x640 1 Fighter, 12.9ms\n",
      "video 1/1 (frame 1443/2322) /home/hatsu/coding/CapProj/TestSeg_1/video_input/fight_1.mp4: 640x640 2 Fighters, 11.7ms\n",
      "video 1/1 (frame 1444/2322) /home/hatsu/coding/CapProj/TestSeg_1/video_input/fight_1.mp4: 640x640 1 Fighter, 12.0ms\n",
      "video 1/1 (frame 1445/2322) /home/hatsu/coding/CapProj/TestSeg_1/video_input/fight_1.mp4: 640x640 2 Fighters, 12.3ms\n",
      "video 1/1 (frame 1446/2322) /home/hatsu/coding/CapProj/TestSeg_1/video_input/fight_1.mp4: 640x640 1 Fighter, 13.0ms\n",
      "video 1/1 (frame 1447/2322) /home/hatsu/coding/CapProj/TestSeg_1/video_input/fight_1.mp4: 640x640 1 Fighter, 11.8ms\n",
      "video 1/1 (frame 1448/2322) /home/hatsu/coding/CapProj/TestSeg_1/video_input/fight_1.mp4: 640x640 1 Fighter, 11.9ms\n",
      "video 1/1 (frame 1449/2322) /home/hatsu/coding/CapProj/TestSeg_1/video_input/fight_1.mp4: 640x640 1 Fighter, 11.7ms\n",
      "video 1/1 (frame 1450/2322) /home/hatsu/coding/CapProj/TestSeg_1/video_input/fight_1.mp4: 640x640 2 Fighters, 12.8ms\n",
      "video 1/1 (frame 1451/2322) /home/hatsu/coding/CapProj/TestSeg_1/video_input/fight_1.mp4: 640x640 1 Fighter, 11.5ms\n",
      "video 1/1 (frame 1452/2322) /home/hatsu/coding/CapProj/TestSeg_1/video_input/fight_1.mp4: 640x640 1 Fighter, 14.1ms\n",
      "video 1/1 (frame 1453/2322) /home/hatsu/coding/CapProj/TestSeg_1/video_input/fight_1.mp4: 640x640 (no detections), 13.5ms\n",
      "video 1/1 (frame 1454/2322) /home/hatsu/coding/CapProj/TestSeg_1/video_input/fight_1.mp4: 640x640 1 Fighter, 11.8ms\n",
      "video 1/1 (frame 1455/2322) /home/hatsu/coding/CapProj/TestSeg_1/video_input/fight_1.mp4: 640x640 2 Fighters, 15.6ms\n",
      "video 1/1 (frame 1456/2322) /home/hatsu/coding/CapProj/TestSeg_1/video_input/fight_1.mp4: 640x640 (no detections), 12.5ms\n",
      "video 1/1 (frame 1457/2322) /home/hatsu/coding/CapProj/TestSeg_1/video_input/fight_1.mp4: 640x640 1 Fighter, 11.4ms\n",
      "video 1/1 (frame 1458/2322) /home/hatsu/coding/CapProj/TestSeg_1/video_input/fight_1.mp4: 640x640 (no detections), 11.4ms\n",
      "video 1/1 (frame 1459/2322) /home/hatsu/coding/CapProj/TestSeg_1/video_input/fight_1.mp4: 640x640 (no detections), 11.7ms\n",
      "video 1/1 (frame 1460/2322) /home/hatsu/coding/CapProj/TestSeg_1/video_input/fight_1.mp4: 640x640 2 Fighters, 10.7ms\n",
      "video 1/1 (frame 1461/2322) /home/hatsu/coding/CapProj/TestSeg_1/video_input/fight_1.mp4: 640x640 1 Fighter, 11.6ms\n",
      "video 1/1 (frame 1462/2322) /home/hatsu/coding/CapProj/TestSeg_1/video_input/fight_1.mp4: 640x640 2 Fighters, 11.5ms\n",
      "video 1/1 (frame 1463/2322) /home/hatsu/coding/CapProj/TestSeg_1/video_input/fight_1.mp4: 640x640 1 Fighter, 11.7ms\n",
      "video 1/1 (frame 1464/2322) /home/hatsu/coding/CapProj/TestSeg_1/video_input/fight_1.mp4: 640x640 (no detections), 12.5ms\n",
      "video 1/1 (frame 1465/2322) /home/hatsu/coding/CapProj/TestSeg_1/video_input/fight_1.mp4: 640x640 1 Fighter, 11.2ms\n",
      "video 1/1 (frame 1466/2322) /home/hatsu/coding/CapProj/TestSeg_1/video_input/fight_1.mp4: 640x640 1 Fighter, 11.5ms\n",
      "video 1/1 (frame 1467/2322) /home/hatsu/coding/CapProj/TestSeg_1/video_input/fight_1.mp4: 640x640 (no detections), 11.2ms\n",
      "video 1/1 (frame 1468/2322) /home/hatsu/coding/CapProj/TestSeg_1/video_input/fight_1.mp4: 640x640 (no detections), 14.8ms\n",
      "video 1/1 (frame 1469/2322) /home/hatsu/coding/CapProj/TestSeg_1/video_input/fight_1.mp4: 640x640 1 Fighter, 10.5ms\n",
      "video 1/1 (frame 1470/2322) /home/hatsu/coding/CapProj/TestSeg_1/video_input/fight_1.mp4: 640x640 1 Fighter, 11.3ms\n",
      "video 1/1 (frame 1471/2322) /home/hatsu/coding/CapProj/TestSeg_1/video_input/fight_1.mp4: 640x640 1 Fighter, 11.6ms\n",
      "video 1/1 (frame 1472/2322) /home/hatsu/coding/CapProj/TestSeg_1/video_input/fight_1.mp4: 640x640 1 Fighter, 12.3ms\n",
      "video 1/1 (frame 1473/2322) /home/hatsu/coding/CapProj/TestSeg_1/video_input/fight_1.mp4: 640x640 (no detections), 14.5ms\n",
      "video 1/1 (frame 1474/2322) /home/hatsu/coding/CapProj/TestSeg_1/video_input/fight_1.mp4: 640x640 (no detections), 11.3ms\n",
      "video 1/1 (frame 1475/2322) /home/hatsu/coding/CapProj/TestSeg_1/video_input/fight_1.mp4: 640x640 (no detections), 11.7ms\n",
      "video 1/1 (frame 1476/2322) /home/hatsu/coding/CapProj/TestSeg_1/video_input/fight_1.mp4: 640x640 (no detections), 11.8ms\n",
      "video 1/1 (frame 1477/2322) /home/hatsu/coding/CapProj/TestSeg_1/video_input/fight_1.mp4: 640x640 (no detections), 11.2ms\n",
      "video 1/1 (frame 1478/2322) /home/hatsu/coding/CapProj/TestSeg_1/video_input/fight_1.mp4: 640x640 (no detections), 20.4ms\n",
      "video 1/1 (frame 1479/2322) /home/hatsu/coding/CapProj/TestSeg_1/video_input/fight_1.mp4: 640x640 (no detections), 11.7ms\n",
      "video 1/1 (frame 1480/2322) /home/hatsu/coding/CapProj/TestSeg_1/video_input/fight_1.mp4: 640x640 1 Fighter, 11.6ms\n",
      "video 1/1 (frame 1481/2322) /home/hatsu/coding/CapProj/TestSeg_1/video_input/fight_1.mp4: 640x640 (no detections), 12.7ms\n",
      "video 1/1 (frame 1482/2322) /home/hatsu/coding/CapProj/TestSeg_1/video_input/fight_1.mp4: 640x640 2 Fighters, 12.1ms\n",
      "video 1/1 (frame 1483/2322) /home/hatsu/coding/CapProj/TestSeg_1/video_input/fight_1.mp4: 640x640 1 Fighter, 14.3ms\n",
      "video 1/1 (frame 1484/2322) /home/hatsu/coding/CapProj/TestSeg_1/video_input/fight_1.mp4: 640x640 1 Fighter, 11.0ms\n",
      "video 1/1 (frame 1485/2322) /home/hatsu/coding/CapProj/TestSeg_1/video_input/fight_1.mp4: 640x640 1 Fighter, 15.1ms\n",
      "video 1/1 (frame 1486/2322) /home/hatsu/coding/CapProj/TestSeg_1/video_input/fight_1.mp4: 640x640 3 Fighters, 11.8ms\n",
      "video 1/1 (frame 1487/2322) /home/hatsu/coding/CapProj/TestSeg_1/video_input/fight_1.mp4: 640x640 2 Fighters, 11.8ms\n",
      "video 1/1 (frame 1488/2322) /home/hatsu/coding/CapProj/TestSeg_1/video_input/fight_1.mp4: 640x640 1 Fighter, 11.9ms\n",
      "video 1/1 (frame 1489/2322) /home/hatsu/coding/CapProj/TestSeg_1/video_input/fight_1.mp4: 640x640 (no detections), 12.1ms\n",
      "video 1/1 (frame 1490/2322) /home/hatsu/coding/CapProj/TestSeg_1/video_input/fight_1.mp4: 640x640 1 Fighter, 11.6ms\n",
      "video 1/1 (frame 1491/2322) /home/hatsu/coding/CapProj/TestSeg_1/video_input/fight_1.mp4: 640x640 1 Fighter, 13.1ms\n",
      "video 1/1 (frame 1492/2322) /home/hatsu/coding/CapProj/TestSeg_1/video_input/fight_1.mp4: 640x640 1 Fighter, 13.2ms\n",
      "video 1/1 (frame 1493/2322) /home/hatsu/coding/CapProj/TestSeg_1/video_input/fight_1.mp4: 640x640 (no detections), 14.1ms\n",
      "video 1/1 (frame 1494/2322) /home/hatsu/coding/CapProj/TestSeg_1/video_input/fight_1.mp4: 640x640 (no detections), 11.8ms\n",
      "video 1/1 (frame 1495/2322) /home/hatsu/coding/CapProj/TestSeg_1/video_input/fight_1.mp4: 640x640 2 Fighters, 11.4ms\n",
      "video 1/1 (frame 1496/2322) /home/hatsu/coding/CapProj/TestSeg_1/video_input/fight_1.mp4: 640x640 1 Fighter, 13.6ms\n",
      "video 1/1 (frame 1497/2322) /home/hatsu/coding/CapProj/TestSeg_1/video_input/fight_1.mp4: 640x640 1 Fighter, 13.1ms\n",
      "video 1/1 (frame 1498/2322) /home/hatsu/coding/CapProj/TestSeg_1/video_input/fight_1.mp4: 640x640 1 Fighter, 14.2ms\n",
      "video 1/1 (frame 1499/2322) /home/hatsu/coding/CapProj/TestSeg_1/video_input/fight_1.mp4: 640x640 1 Fighter, 20.0ms\n",
      "video 1/1 (frame 1500/2322) /home/hatsu/coding/CapProj/TestSeg_1/video_input/fight_1.mp4: 640x640 1 Fighter, 12.5ms\n",
      "video 1/1 (frame 1501/2322) /home/hatsu/coding/CapProj/TestSeg_1/video_input/fight_1.mp4: 640x640 (no detections), 12.8ms\n",
      "video 1/1 (frame 1502/2322) /home/hatsu/coding/CapProj/TestSeg_1/video_input/fight_1.mp4: 640x640 (no detections), 11.5ms\n",
      "video 1/1 (frame 1503/2322) /home/hatsu/coding/CapProj/TestSeg_1/video_input/fight_1.mp4: 640x640 (no detections), 11.9ms\n",
      "video 1/1 (frame 1504/2322) /home/hatsu/coding/CapProj/TestSeg_1/video_input/fight_1.mp4: 640x640 (no detections), 10.8ms\n",
      "video 1/1 (frame 1505/2322) /home/hatsu/coding/CapProj/TestSeg_1/video_input/fight_1.mp4: 640x640 (no detections), 11.5ms\n",
      "video 1/1 (frame 1506/2322) /home/hatsu/coding/CapProj/TestSeg_1/video_input/fight_1.mp4: 640x640 1 Fighter, 11.6ms\n",
      "video 1/1 (frame 1507/2322) /home/hatsu/coding/CapProj/TestSeg_1/video_input/fight_1.mp4: 640x640 3 Fighters, 11.7ms\n",
      "video 1/1 (frame 1508/2322) /home/hatsu/coding/CapProj/TestSeg_1/video_input/fight_1.mp4: 640x640 1 Fighter, 14.6ms\n",
      "video 1/1 (frame 1509/2322) /home/hatsu/coding/CapProj/TestSeg_1/video_input/fight_1.mp4: 640x640 (no detections), 11.4ms\n",
      "video 1/1 (frame 1510/2322) /home/hatsu/coding/CapProj/TestSeg_1/video_input/fight_1.mp4: 640x640 2 Fighters, 11.7ms\n",
      "video 1/1 (frame 1511/2322) /home/hatsu/coding/CapProj/TestSeg_1/video_input/fight_1.mp4: 640x640 2 Fighters, 12.0ms\n",
      "video 1/1 (frame 1512/2322) /home/hatsu/coding/CapProj/TestSeg_1/video_input/fight_1.mp4: 640x640 2 Fighters, 14.6ms\n",
      "video 1/1 (frame 1513/2322) /home/hatsu/coding/CapProj/TestSeg_1/video_input/fight_1.mp4: 640x640 (no detections), 13.9ms\n",
      "video 1/1 (frame 1514/2322) /home/hatsu/coding/CapProj/TestSeg_1/video_input/fight_1.mp4: 640x640 (no detections), 10.9ms\n",
      "video 1/1 (frame 1515/2322) /home/hatsu/coding/CapProj/TestSeg_1/video_input/fight_1.mp4: 640x640 (no detections), 12.4ms\n",
      "video 1/1 (frame 1516/2322) /home/hatsu/coding/CapProj/TestSeg_1/video_input/fight_1.mp4: 640x640 1 Fighter, 11.6ms\n",
      "video 1/1 (frame 1517/2322) /home/hatsu/coding/CapProj/TestSeg_1/video_input/fight_1.mp4: 640x640 1 Fighter, 11.2ms\n",
      "video 1/1 (frame 1518/2322) /home/hatsu/coding/CapProj/TestSeg_1/video_input/fight_1.mp4: 640x640 (no detections), 44.6ms\n",
      "video 1/1 (frame 1519/2322) /home/hatsu/coding/CapProj/TestSeg_1/video_input/fight_1.mp4: 640x640 (no detections), 12.1ms\n",
      "video 1/1 (frame 1520/2322) /home/hatsu/coding/CapProj/TestSeg_1/video_input/fight_1.mp4: 640x640 1 Fighter, 12.4ms\n",
      "video 1/1 (frame 1521/2322) /home/hatsu/coding/CapProj/TestSeg_1/video_input/fight_1.mp4: 640x640 1 Fighter, 11.4ms\n",
      "video 1/1 (frame 1522/2322) /home/hatsu/coding/CapProj/TestSeg_1/video_input/fight_1.mp4: 640x640 1 Fighter, 11.3ms\n",
      "video 1/1 (frame 1523/2322) /home/hatsu/coding/CapProj/TestSeg_1/video_input/fight_1.mp4: 640x640 1 Fighter, 11.7ms\n",
      "video 1/1 (frame 1524/2322) /home/hatsu/coding/CapProj/TestSeg_1/video_input/fight_1.mp4: 640x640 1 Fighter, 11.9ms\n",
      "video 1/1 (frame 1525/2322) /home/hatsu/coding/CapProj/TestSeg_1/video_input/fight_1.mp4: 640x640 1 Fighter, 11.9ms\n",
      "video 1/1 (frame 1526/2322) /home/hatsu/coding/CapProj/TestSeg_1/video_input/fight_1.mp4: 640x640 1 Fighter, 11.8ms\n",
      "video 1/1 (frame 1527/2322) /home/hatsu/coding/CapProj/TestSeg_1/video_input/fight_1.mp4: 640x640 1 Fighter, 12.5ms\n",
      "video 1/1 (frame 1528/2322) /home/hatsu/coding/CapProj/TestSeg_1/video_input/fight_1.mp4: 640x640 1 Fighter, 31.0ms\n",
      "video 1/1 (frame 1529/2322) /home/hatsu/coding/CapProj/TestSeg_1/video_input/fight_1.mp4: 640x640 (no detections), 11.4ms\n",
      "video 1/1 (frame 1530/2322) /home/hatsu/coding/CapProj/TestSeg_1/video_input/fight_1.mp4: 640x640 1 Fighter, 12.1ms\n",
      "video 1/1 (frame 1531/2322) /home/hatsu/coding/CapProj/TestSeg_1/video_input/fight_1.mp4: 640x640 1 Fighter, 12.5ms\n",
      "video 1/1 (frame 1532/2322) /home/hatsu/coding/CapProj/TestSeg_1/video_input/fight_1.mp4: 640x640 1 Fighter, 11.3ms\n",
      "video 1/1 (frame 1533/2322) /home/hatsu/coding/CapProj/TestSeg_1/video_input/fight_1.mp4: 640x640 (no detections), 11.1ms\n",
      "video 1/1 (frame 1534/2322) /home/hatsu/coding/CapProj/TestSeg_1/video_input/fight_1.mp4: 640x640 1 Fighter, 12.8ms\n",
      "video 1/1 (frame 1535/2322) /home/hatsu/coding/CapProj/TestSeg_1/video_input/fight_1.mp4: 640x640 2 Fighters, 12.7ms\n",
      "video 1/1 (frame 1536/2322) /home/hatsu/coding/CapProj/TestSeg_1/video_input/fight_1.mp4: 640x640 2 Fighters, 14.0ms\n",
      "video 1/1 (frame 1537/2322) /home/hatsu/coding/CapProj/TestSeg_1/video_input/fight_1.mp4: 640x640 1 Fighter, 11.3ms\n",
      "video 1/1 (frame 1538/2322) /home/hatsu/coding/CapProj/TestSeg_1/video_input/fight_1.mp4: 640x640 (no detections), 10.9ms\n",
      "video 1/1 (frame 1539/2322) /home/hatsu/coding/CapProj/TestSeg_1/video_input/fight_1.mp4: 640x640 1 Fighter, 20.5ms\n",
      "video 1/1 (frame 1540/2322) /home/hatsu/coding/CapProj/TestSeg_1/video_input/fight_1.mp4: 640x640 1 Fighter, 11.9ms\n",
      "video 1/1 (frame 1541/2322) /home/hatsu/coding/CapProj/TestSeg_1/video_input/fight_1.mp4: 640x640 1 Fighter, 18.5ms\n",
      "video 1/1 (frame 1542/2322) /home/hatsu/coding/CapProj/TestSeg_1/video_input/fight_1.mp4: 640x640 1 Fighter, 13.1ms\n",
      "video 1/1 (frame 1543/2322) /home/hatsu/coding/CapProj/TestSeg_1/video_input/fight_1.mp4: 640x640 (no detections), 13.5ms\n",
      "video 1/1 (frame 1544/2322) /home/hatsu/coding/CapProj/TestSeg_1/video_input/fight_1.mp4: 640x640 1 Fighter, 11.6ms\n",
      "video 1/1 (frame 1545/2322) /home/hatsu/coding/CapProj/TestSeg_1/video_input/fight_1.mp4: 640x640 1 Fighter, 12.2ms\n",
      "video 1/1 (frame 1546/2322) /home/hatsu/coding/CapProj/TestSeg_1/video_input/fight_1.mp4: 640x640 1 Fighter, 13.7ms\n",
      "video 1/1 (frame 1547/2322) /home/hatsu/coding/CapProj/TestSeg_1/video_input/fight_1.mp4: 640x640 1 Fighter, 13.9ms\n",
      "video 1/1 (frame 1548/2322) /home/hatsu/coding/CapProj/TestSeg_1/video_input/fight_1.mp4: 640x640 2 Fighters, 11.5ms\n",
      "video 1/1 (frame 1549/2322) /home/hatsu/coding/CapProj/TestSeg_1/video_input/fight_1.mp4: 640x640 1 Fighter, 12.8ms\n",
      "video 1/1 (frame 1550/2322) /home/hatsu/coding/CapProj/TestSeg_1/video_input/fight_1.mp4: 640x640 1 Fighter, 11.7ms\n",
      "video 1/1 (frame 1551/2322) /home/hatsu/coding/CapProj/TestSeg_1/video_input/fight_1.mp4: 640x640 1 Fighter, 33.0ms\n",
      "video 1/1 (frame 1552/2322) /home/hatsu/coding/CapProj/TestSeg_1/video_input/fight_1.mp4: 640x640 1 Fighter, 11.8ms\n",
      "video 1/1 (frame 1553/2322) /home/hatsu/coding/CapProj/TestSeg_1/video_input/fight_1.mp4: 640x640 (no detections), 11.4ms\n",
      "video 1/1 (frame 1554/2322) /home/hatsu/coding/CapProj/TestSeg_1/video_input/fight_1.mp4: 640x640 (no detections), 12.0ms\n",
      "video 1/1 (frame 1555/2322) /home/hatsu/coding/CapProj/TestSeg_1/video_input/fight_1.mp4: 640x640 (no detections), 12.3ms\n",
      "video 1/1 (frame 1556/2322) /home/hatsu/coding/CapProj/TestSeg_1/video_input/fight_1.mp4: 640x640 (no detections), 12.4ms\n",
      "video 1/1 (frame 1557/2322) /home/hatsu/coding/CapProj/TestSeg_1/video_input/fight_1.mp4: 640x640 (no detections), 12.5ms\n",
      "video 1/1 (frame 1558/2322) /home/hatsu/coding/CapProj/TestSeg_1/video_input/fight_1.mp4: 640x640 (no detections), 14.4ms\n",
      "video 1/1 (frame 1559/2322) /home/hatsu/coding/CapProj/TestSeg_1/video_input/fight_1.mp4: 640x640 2 Fighters, 11.7ms\n",
      "video 1/1 (frame 1560/2322) /home/hatsu/coding/CapProj/TestSeg_1/video_input/fight_1.mp4: 640x640 (no detections), 14.9ms\n",
      "video 1/1 (frame 1561/2322) /home/hatsu/coding/CapProj/TestSeg_1/video_input/fight_1.mp4: 640x640 (no detections), 13.4ms\n",
      "video 1/1 (frame 1562/2322) /home/hatsu/coding/CapProj/TestSeg_1/video_input/fight_1.mp4: 640x640 (no detections), 11.3ms\n",
      "video 1/1 (frame 1563/2322) /home/hatsu/coding/CapProj/TestSeg_1/video_input/fight_1.mp4: 640x640 1 Fighter, 12.1ms\n",
      "video 1/1 (frame 1564/2322) /home/hatsu/coding/CapProj/TestSeg_1/video_input/fight_1.mp4: 640x640 (no detections), 13.5ms\n",
      "video 1/1 (frame 1565/2322) /home/hatsu/coding/CapProj/TestSeg_1/video_input/fight_1.mp4: 640x640 1 Fighter, 12.2ms\n",
      "video 1/1 (frame 1566/2322) /home/hatsu/coding/CapProj/TestSeg_1/video_input/fight_1.mp4: 640x640 1 Fighter, 11.2ms\n",
      "video 1/1 (frame 1567/2322) /home/hatsu/coding/CapProj/TestSeg_1/video_input/fight_1.mp4: 640x640 1 Fighter, 11.1ms\n",
      "video 1/1 (frame 1568/2322) /home/hatsu/coding/CapProj/TestSeg_1/video_input/fight_1.mp4: 640x640 (no detections), 11.7ms\n",
      "video 1/1 (frame 1569/2322) /home/hatsu/coding/CapProj/TestSeg_1/video_input/fight_1.mp4: 640x640 (no detections), 17.1ms\n",
      "video 1/1 (frame 1570/2322) /home/hatsu/coding/CapProj/TestSeg_1/video_input/fight_1.mp4: 640x640 (no detections), 11.2ms\n",
      "video 1/1 (frame 1571/2322) /home/hatsu/coding/CapProj/TestSeg_1/video_input/fight_1.mp4: 640x640 1 Fighter, 10.9ms\n",
      "video 1/1 (frame 1572/2322) /home/hatsu/coding/CapProj/TestSeg_1/video_input/fight_1.mp4: 640x640 1 Fighter, 12.1ms\n",
      "video 1/1 (frame 1573/2322) /home/hatsu/coding/CapProj/TestSeg_1/video_input/fight_1.mp4: 640x640 1 Fighter, 11.6ms\n",
      "video 1/1 (frame 1574/2322) /home/hatsu/coding/CapProj/TestSeg_1/video_input/fight_1.mp4: 640x640 (no detections), 11.5ms\n",
      "video 1/1 (frame 1575/2322) /home/hatsu/coding/CapProj/TestSeg_1/video_input/fight_1.mp4: 640x640 1 Fighter, 11.4ms\n",
      "video 1/1 (frame 1576/2322) /home/hatsu/coding/CapProj/TestSeg_1/video_input/fight_1.mp4: 640x640 1 Fighter, 11.8ms\n",
      "video 1/1 (frame 1577/2322) /home/hatsu/coding/CapProj/TestSeg_1/video_input/fight_1.mp4: 640x640 1 Fighter, 20.8ms\n",
      "video 1/1 (frame 1578/2322) /home/hatsu/coding/CapProj/TestSeg_1/video_input/fight_1.mp4: 640x640 (no detections), 12.4ms\n",
      "video 1/1 (frame 1579/2322) /home/hatsu/coding/CapProj/TestSeg_1/video_input/fight_1.mp4: 640x640 (no detections), 11.2ms\n",
      "video 1/1 (frame 1580/2322) /home/hatsu/coding/CapProj/TestSeg_1/video_input/fight_1.mp4: 640x640 1 Fighter, 11.7ms\n",
      "video 1/1 (frame 1581/2322) /home/hatsu/coding/CapProj/TestSeg_1/video_input/fight_1.mp4: 640x640 1 Fighter, 23.9ms\n",
      "video 1/1 (frame 1582/2322) /home/hatsu/coding/CapProj/TestSeg_1/video_input/fight_1.mp4: 640x640 1 Fighter, 12.6ms\n",
      "video 1/1 (frame 1583/2322) /home/hatsu/coding/CapProj/TestSeg_1/video_input/fight_1.mp4: 640x640 (no detections), 11.3ms\n",
      "video 1/1 (frame 1584/2322) /home/hatsu/coding/CapProj/TestSeg_1/video_input/fight_1.mp4: 640x640 (no detections), 10.9ms\n",
      "video 1/1 (frame 1585/2322) /home/hatsu/coding/CapProj/TestSeg_1/video_input/fight_1.mp4: 640x640 1 Fighter, 11.4ms\n",
      "video 1/1 (frame 1586/2322) /home/hatsu/coding/CapProj/TestSeg_1/video_input/fight_1.mp4: 640x640 (no detections), 12.0ms\n",
      "video 1/1 (frame 1587/2322) /home/hatsu/coding/CapProj/TestSeg_1/video_input/fight_1.mp4: 640x640 (no detections), 11.6ms\n",
      "video 1/1 (frame 1588/2322) /home/hatsu/coding/CapProj/TestSeg_1/video_input/fight_1.mp4: 640x640 (no detections), 13.0ms\n",
      "video 1/1 (frame 1589/2322) /home/hatsu/coding/CapProj/TestSeg_1/video_input/fight_1.mp4: 640x640 (no detections), 14.5ms\n",
      "video 1/1 (frame 1590/2322) /home/hatsu/coding/CapProj/TestSeg_1/video_input/fight_1.mp4: 640x640 1 Fighter, 12.8ms\n",
      "video 1/1 (frame 1591/2322) /home/hatsu/coding/CapProj/TestSeg_1/video_input/fight_1.mp4: 640x640 2 Fighters, 14.8ms\n",
      "video 1/1 (frame 1592/2322) /home/hatsu/coding/CapProj/TestSeg_1/video_input/fight_1.mp4: 640x640 1 Fighter, 13.9ms\n",
      "video 1/1 (frame 1593/2322) /home/hatsu/coding/CapProj/TestSeg_1/video_input/fight_1.mp4: 640x640 (no detections), 11.4ms\n",
      "video 1/1 (frame 1594/2322) /home/hatsu/coding/CapProj/TestSeg_1/video_input/fight_1.mp4: 640x640 (no detections), 12.9ms\n",
      "video 1/1 (frame 1595/2322) /home/hatsu/coding/CapProj/TestSeg_1/video_input/fight_1.mp4: 640x640 1 Fighter, 11.0ms\n",
      "video 1/1 (frame 1596/2322) /home/hatsu/coding/CapProj/TestSeg_1/video_input/fight_1.mp4: 640x640 (no detections), 11.5ms\n",
      "video 1/1 (frame 1597/2322) /home/hatsu/coding/CapProj/TestSeg_1/video_input/fight_1.mp4: 640x640 (no detections), 11.1ms\n",
      "video 1/1 (frame 1598/2322) /home/hatsu/coding/CapProj/TestSeg_1/video_input/fight_1.mp4: 640x640 (no detections), 11.7ms\n",
      "video 1/1 (frame 1599/2322) /home/hatsu/coding/CapProj/TestSeg_1/video_input/fight_1.mp4: 640x640 (no detections), 10.7ms\n",
      "video 1/1 (frame 1600/2322) /home/hatsu/coding/CapProj/TestSeg_1/video_input/fight_1.mp4: 640x640 2 Fighters, 12.1ms\n",
      "video 1/1 (frame 1601/2322) /home/hatsu/coding/CapProj/TestSeg_1/video_input/fight_1.mp4: 640x640 1 Fighter, 11.7ms\n",
      "video 1/1 (frame 1602/2322) /home/hatsu/coding/CapProj/TestSeg_1/video_input/fight_1.mp4: 640x640 1 Fighter, 12.9ms\n",
      "video 1/1 (frame 1603/2322) /home/hatsu/coding/CapProj/TestSeg_1/video_input/fight_1.mp4: 640x640 (no detections), 11.7ms\n",
      "video 1/1 (frame 1604/2322) /home/hatsu/coding/CapProj/TestSeg_1/video_input/fight_1.mp4: 640x640 (no detections), 11.0ms\n",
      "video 1/1 (frame 1605/2322) /home/hatsu/coding/CapProj/TestSeg_1/video_input/fight_1.mp4: 640x640 1 Fighter, 12.1ms\n",
      "video 1/1 (frame 1606/2322) /home/hatsu/coding/CapProj/TestSeg_1/video_input/fight_1.mp4: 640x640 1 Fighter, 11.3ms\n",
      "video 1/1 (frame 1607/2322) /home/hatsu/coding/CapProj/TestSeg_1/video_input/fight_1.mp4: 640x640 (no detections), 13.0ms\n",
      "video 1/1 (frame 1608/2322) /home/hatsu/coding/CapProj/TestSeg_1/video_input/fight_1.mp4: 640x640 (no detections), 11.5ms\n",
      "video 1/1 (frame 1609/2322) /home/hatsu/coding/CapProj/TestSeg_1/video_input/fight_1.mp4: 640x640 (no detections), 10.8ms\n",
      "video 1/1 (frame 1610/2322) /home/hatsu/coding/CapProj/TestSeg_1/video_input/fight_1.mp4: 640x640 (no detections), 10.8ms\n",
      "video 1/1 (frame 1611/2322) /home/hatsu/coding/CapProj/TestSeg_1/video_input/fight_1.mp4: 640x640 1 Fighter, 13.5ms\n",
      "video 1/1 (frame 1612/2322) /home/hatsu/coding/CapProj/TestSeg_1/video_input/fight_1.mp4: 640x640 1 Fighter, 14.4ms\n",
      "video 1/1 (frame 1613/2322) /home/hatsu/coding/CapProj/TestSeg_1/video_input/fight_1.mp4: 640x640 (no detections), 13.9ms\n",
      "video 1/1 (frame 1614/2322) /home/hatsu/coding/CapProj/TestSeg_1/video_input/fight_1.mp4: 640x640 (no detections), 10.7ms\n",
      "video 1/1 (frame 1615/2322) /home/hatsu/coding/CapProj/TestSeg_1/video_input/fight_1.mp4: 640x640 2 Fighters, 30.2ms\n",
      "video 1/1 (frame 1616/2322) /home/hatsu/coding/CapProj/TestSeg_1/video_input/fight_1.mp4: 640x640 2 Fighters, 13.5ms\n",
      "video 1/1 (frame 1617/2322) /home/hatsu/coding/CapProj/TestSeg_1/video_input/fight_1.mp4: 640x640 2 Fighters, 13.8ms\n",
      "video 1/1 (frame 1618/2322) /home/hatsu/coding/CapProj/TestSeg_1/video_input/fight_1.mp4: 640x640 (no detections), 14.9ms\n",
      "video 1/1 (frame 1619/2322) /home/hatsu/coding/CapProj/TestSeg_1/video_input/fight_1.mp4: 640x640 (no detections), 16.7ms\n",
      "video 1/1 (frame 1620/2322) /home/hatsu/coding/CapProj/TestSeg_1/video_input/fight_1.mp4: 640x640 (no detections), 11.2ms\n",
      "video 1/1 (frame 1621/2322) /home/hatsu/coding/CapProj/TestSeg_1/video_input/fight_1.mp4: 640x640 1 Fighter, 11.0ms\n",
      "video 1/1 (frame 1622/2322) /home/hatsu/coding/CapProj/TestSeg_1/video_input/fight_1.mp4: 640x640 1 Fighter, 30.7ms\n",
      "video 1/1 (frame 1623/2322) /home/hatsu/coding/CapProj/TestSeg_1/video_input/fight_1.mp4: 640x640 2 Fighters, 11.9ms\n",
      "video 1/1 (frame 1624/2322) /home/hatsu/coding/CapProj/TestSeg_1/video_input/fight_1.mp4: 640x640 (no detections), 11.1ms\n",
      "video 1/1 (frame 1625/2322) /home/hatsu/coding/CapProj/TestSeg_1/video_input/fight_1.mp4: 640x640 1 Fighter, 11.1ms\n",
      "video 1/1 (frame 1626/2322) /home/hatsu/coding/CapProj/TestSeg_1/video_input/fight_1.mp4: 640x640 1 Fighter, 11.5ms\n",
      "video 1/1 (frame 1627/2322) /home/hatsu/coding/CapProj/TestSeg_1/video_input/fight_1.mp4: 640x640 1 Fighter, 13.7ms\n",
      "video 1/1 (frame 1628/2322) /home/hatsu/coding/CapProj/TestSeg_1/video_input/fight_1.mp4: 640x640 1 Fighter, 13.6ms\n",
      "video 1/1 (frame 1629/2322) /home/hatsu/coding/CapProj/TestSeg_1/video_input/fight_1.mp4: 640x640 1 Fighter, 13.9ms\n",
      "video 1/1 (frame 1630/2322) /home/hatsu/coding/CapProj/TestSeg_1/video_input/fight_1.mp4: 640x640 1 Fighter, 11.4ms\n",
      "video 1/1 (frame 1631/2322) /home/hatsu/coding/CapProj/TestSeg_1/video_input/fight_1.mp4: 640x640 1 Fighter, 11.2ms\n",
      "video 1/1 (frame 1632/2322) /home/hatsu/coding/CapProj/TestSeg_1/video_input/fight_1.mp4: 640x640 1 Fighter, 11.4ms\n",
      "video 1/1 (frame 1633/2322) /home/hatsu/coding/CapProj/TestSeg_1/video_input/fight_1.mp4: 640x640 1 Fighter, 10.8ms\n",
      "video 1/1 (frame 1634/2322) /home/hatsu/coding/CapProj/TestSeg_1/video_input/fight_1.mp4: 640x640 1 Fighter, 11.0ms\n",
      "video 1/1 (frame 1635/2322) /home/hatsu/coding/CapProj/TestSeg_1/video_input/fight_1.mp4: 640x640 1 Fighter, 10.8ms\n",
      "video 1/1 (frame 1636/2322) /home/hatsu/coding/CapProj/TestSeg_1/video_input/fight_1.mp4: 640x640 1 Fighter, 11.2ms\n",
      "video 1/1 (frame 1637/2322) /home/hatsu/coding/CapProj/TestSeg_1/video_input/fight_1.mp4: 640x640 1 Fighter, 11.0ms\n",
      "video 1/1 (frame 1638/2322) /home/hatsu/coding/CapProj/TestSeg_1/video_input/fight_1.mp4: 640x640 1 Fighter, 16.4ms\n",
      "video 1/1 (frame 1639/2322) /home/hatsu/coding/CapProj/TestSeg_1/video_input/fight_1.mp4: 640x640 1 Fighter, 11.4ms\n",
      "video 1/1 (frame 1640/2322) /home/hatsu/coding/CapProj/TestSeg_1/video_input/fight_1.mp4: 640x640 2 Fighters, 11.8ms\n",
      "video 1/1 (frame 1641/2322) /home/hatsu/coding/CapProj/TestSeg_1/video_input/fight_1.mp4: 640x640 1 Fighter, 11.5ms\n",
      "video 1/1 (frame 1642/2322) /home/hatsu/coding/CapProj/TestSeg_1/video_input/fight_1.mp4: 640x640 1 Fighter, 11.4ms\n",
      "video 1/1 (frame 1643/2322) /home/hatsu/coding/CapProj/TestSeg_1/video_input/fight_1.mp4: 640x640 1 Fighter, 11.0ms\n",
      "video 1/1 (frame 1644/2322) /home/hatsu/coding/CapProj/TestSeg_1/video_input/fight_1.mp4: 640x640 (no detections), 11.9ms\n",
      "video 1/1 (frame 1645/2322) /home/hatsu/coding/CapProj/TestSeg_1/video_input/fight_1.mp4: 640x640 1 Fighter, 11.9ms\n",
      "video 1/1 (frame 1646/2322) /home/hatsu/coding/CapProj/TestSeg_1/video_input/fight_1.mp4: 640x640 1 Fighter, 14.6ms\n",
      "video 1/1 (frame 1647/2322) /home/hatsu/coding/CapProj/TestSeg_1/video_input/fight_1.mp4: 640x640 1 Fighter, 11.2ms\n",
      "video 1/1 (frame 1648/2322) /home/hatsu/coding/CapProj/TestSeg_1/video_input/fight_1.mp4: 640x640 1 Fighter, 11.7ms\n",
      "video 1/1 (frame 1649/2322) /home/hatsu/coding/CapProj/TestSeg_1/video_input/fight_1.mp4: 640x640 1 Fighter, 12.2ms\n",
      "video 1/1 (frame 1650/2322) /home/hatsu/coding/CapProj/TestSeg_1/video_input/fight_1.mp4: 640x640 1 Fighter, 12.0ms\n",
      "video 1/1 (frame 1651/2322) /home/hatsu/coding/CapProj/TestSeg_1/video_input/fight_1.mp4: 640x640 1 Fighter, 12.3ms\n",
      "video 1/1 (frame 1652/2322) /home/hatsu/coding/CapProj/TestSeg_1/video_input/fight_1.mp4: 640x640 2 Fighters, 11.4ms\n",
      "video 1/1 (frame 1653/2322) /home/hatsu/coding/CapProj/TestSeg_1/video_input/fight_1.mp4: 640x640 1 Fighter, 14.1ms\n",
      "video 1/1 (frame 1654/2322) /home/hatsu/coding/CapProj/TestSeg_1/video_input/fight_1.mp4: 640x640 (no detections), 12.2ms\n",
      "video 1/1 (frame 1655/2322) /home/hatsu/coding/CapProj/TestSeg_1/video_input/fight_1.mp4: 640x640 2 Fighters, 10.9ms\n",
      "video 1/1 (frame 1656/2322) /home/hatsu/coding/CapProj/TestSeg_1/video_input/fight_1.mp4: 640x640 1 Fighter, 13.7ms\n",
      "video 1/1 (frame 1657/2322) /home/hatsu/coding/CapProj/TestSeg_1/video_input/fight_1.mp4: 640x640 1 Fighter, 15.1ms\n",
      "video 1/1 (frame 1658/2322) /home/hatsu/coding/CapProj/TestSeg_1/video_input/fight_1.mp4: 640x640 (no detections), 13.1ms\n",
      "video 1/1 (frame 1659/2322) /home/hatsu/coding/CapProj/TestSeg_1/video_input/fight_1.mp4: 640x640 (no detections), 11.8ms\n",
      "video 1/1 (frame 1660/2322) /home/hatsu/coding/CapProj/TestSeg_1/video_input/fight_1.mp4: 640x640 1 Fighter, 14.2ms\n",
      "video 1/1 (frame 1661/2322) /home/hatsu/coding/CapProj/TestSeg_1/video_input/fight_1.mp4: 640x640 (no detections), 14.5ms\n",
      "video 1/1 (frame 1662/2322) /home/hatsu/coding/CapProj/TestSeg_1/video_input/fight_1.mp4: 640x640 1 Fighter, 13.9ms\n",
      "video 1/1 (frame 1663/2322) /home/hatsu/coding/CapProj/TestSeg_1/video_input/fight_1.mp4: 640x640 (no detections), 15.1ms\n",
      "video 1/1 (frame 1664/2322) /home/hatsu/coding/CapProj/TestSeg_1/video_input/fight_1.mp4: 640x640 (no detections), 12.9ms\n",
      "video 1/1 (frame 1665/2322) /home/hatsu/coding/CapProj/TestSeg_1/video_input/fight_1.mp4: 640x640 1 Fighter, 10.9ms\n",
      "video 1/1 (frame 1666/2322) /home/hatsu/coding/CapProj/TestSeg_1/video_input/fight_1.mp4: 640x640 (no detections), 14.6ms\n",
      "video 1/1 (frame 1667/2322) /home/hatsu/coding/CapProj/TestSeg_1/video_input/fight_1.mp4: 640x640 (no detections), 12.1ms\n",
      "video 1/1 (frame 1668/2322) /home/hatsu/coding/CapProj/TestSeg_1/video_input/fight_1.mp4: 640x640 (no detections), 14.4ms\n",
      "video 1/1 (frame 1669/2322) /home/hatsu/coding/CapProj/TestSeg_1/video_input/fight_1.mp4: 640x640 (no detections), 38.0ms\n",
      "video 1/1 (frame 1670/2322) /home/hatsu/coding/CapProj/TestSeg_1/video_input/fight_1.mp4: 640x640 1 Fighter, 11.5ms\n",
      "video 1/1 (frame 1671/2322) /home/hatsu/coding/CapProj/TestSeg_1/video_input/fight_1.mp4: 640x640 1 Fighter, 13.1ms\n",
      "video 1/1 (frame 1672/2322) /home/hatsu/coding/CapProj/TestSeg_1/video_input/fight_1.mp4: 640x640 1 Fighter, 12.1ms\n",
      "video 1/1 (frame 1673/2322) /home/hatsu/coding/CapProj/TestSeg_1/video_input/fight_1.mp4: 640x640 1 Fighter, 11.7ms\n",
      "video 1/1 (frame 1674/2322) /home/hatsu/coding/CapProj/TestSeg_1/video_input/fight_1.mp4: 640x640 1 Fighter, 12.5ms\n",
      "video 1/1 (frame 1675/2322) /home/hatsu/coding/CapProj/TestSeg_1/video_input/fight_1.mp4: 640x640 1 Fighter, 12.2ms\n",
      "video 1/1 (frame 1676/2322) /home/hatsu/coding/CapProj/TestSeg_1/video_input/fight_1.mp4: 640x640 1 Fighter, 14.0ms\n",
      "video 1/1 (frame 1677/2322) /home/hatsu/coding/CapProj/TestSeg_1/video_input/fight_1.mp4: 640x640 1 Fighter, 12.1ms\n",
      "video 1/1 (frame 1678/2322) /home/hatsu/coding/CapProj/TestSeg_1/video_input/fight_1.mp4: 640x640 1 Fighter, 12.9ms\n",
      "video 1/1 (frame 1679/2322) /home/hatsu/coding/CapProj/TestSeg_1/video_input/fight_1.mp4: 640x640 1 Fighter, 11.8ms\n",
      "video 1/1 (frame 1680/2322) /home/hatsu/coding/CapProj/TestSeg_1/video_input/fight_1.mp4: 640x640 1 Fighter, 13.3ms\n",
      "video 1/1 (frame 1681/2322) /home/hatsu/coding/CapProj/TestSeg_1/video_input/fight_1.mp4: 640x640 2 Fighters, 12.3ms\n",
      "video 1/1 (frame 1682/2322) /home/hatsu/coding/CapProj/TestSeg_1/video_input/fight_1.mp4: 640x640 1 Fighter, 13.6ms\n",
      "video 1/1 (frame 1683/2322) /home/hatsu/coding/CapProj/TestSeg_1/video_input/fight_1.mp4: 640x640 1 Fighter, 11.5ms\n",
      "video 1/1 (frame 1684/2322) /home/hatsu/coding/CapProj/TestSeg_1/video_input/fight_1.mp4: 640x640 1 Fighter, 11.6ms\n",
      "video 1/1 (frame 1685/2322) /home/hatsu/coding/CapProj/TestSeg_1/video_input/fight_1.mp4: 640x640 3 Fighters, 11.6ms\n",
      "video 1/1 (frame 1686/2322) /home/hatsu/coding/CapProj/TestSeg_1/video_input/fight_1.mp4: 640x640 3 Fighters, 13.8ms\n",
      "video 1/1 (frame 1687/2322) /home/hatsu/coding/CapProj/TestSeg_1/video_input/fight_1.mp4: 640x640 3 Fighters, 13.2ms\n",
      "video 1/1 (frame 1688/2322) /home/hatsu/coding/CapProj/TestSeg_1/video_input/fight_1.mp4: 640x640 1 Fighter, 12.2ms\n",
      "video 1/1 (frame 1689/2322) /home/hatsu/coding/CapProj/TestSeg_1/video_input/fight_1.mp4: 640x640 1 Fighter, 13.3ms\n",
      "video 1/1 (frame 1690/2322) /home/hatsu/coding/CapProj/TestSeg_1/video_input/fight_1.mp4: 640x640 1 Fighter, 12.9ms\n",
      "video 1/1 (frame 1691/2322) /home/hatsu/coding/CapProj/TestSeg_1/video_input/fight_1.mp4: 640x640 1 Fighter, 13.3ms\n",
      "video 1/1 (frame 1692/2322) /home/hatsu/coding/CapProj/TestSeg_1/video_input/fight_1.mp4: 640x640 1 Fighter, 12.0ms\n",
      "video 1/1 (frame 1693/2322) /home/hatsu/coding/CapProj/TestSeg_1/video_input/fight_1.mp4: 640x640 1 Fighter, 13.5ms\n",
      "video 1/1 (frame 1694/2322) /home/hatsu/coding/CapProj/TestSeg_1/video_input/fight_1.mp4: 640x640 1 Fighter, 17.4ms\n",
      "video 1/1 (frame 1695/2322) /home/hatsu/coding/CapProj/TestSeg_1/video_input/fight_1.mp4: 640x640 1 Fighter, 12.2ms\n",
      "video 1/1 (frame 1696/2322) /home/hatsu/coding/CapProj/TestSeg_1/video_input/fight_1.mp4: 640x640 1 Fighter, 14.4ms\n",
      "video 1/1 (frame 1697/2322) /home/hatsu/coding/CapProj/TestSeg_1/video_input/fight_1.mp4: 640x640 2 Fighters, 27.4ms\n",
      "video 1/1 (frame 1698/2322) /home/hatsu/coding/CapProj/TestSeg_1/video_input/fight_1.mp4: 640x640 1 Fighter, 13.7ms\n",
      "video 1/1 (frame 1699/2322) /home/hatsu/coding/CapProj/TestSeg_1/video_input/fight_1.mp4: 640x640 1 Fighter, 13.3ms\n",
      "video 1/1 (frame 1700/2322) /home/hatsu/coding/CapProj/TestSeg_1/video_input/fight_1.mp4: 640x640 2 Fighters, 11.5ms\n",
      "video 1/1 (frame 1701/2322) /home/hatsu/coding/CapProj/TestSeg_1/video_input/fight_1.mp4: 640x640 2 Fighters, 14.6ms\n",
      "video 1/1 (frame 1702/2322) /home/hatsu/coding/CapProj/TestSeg_1/video_input/fight_1.mp4: 640x640 2 Fighters, 22.0ms\n",
      "video 1/1 (frame 1703/2322) /home/hatsu/coding/CapProj/TestSeg_1/video_input/fight_1.mp4: 640x640 1 Fighter, 13.1ms\n",
      "video 1/1 (frame 1704/2322) /home/hatsu/coding/CapProj/TestSeg_1/video_input/fight_1.mp4: 640x640 1 Fighter, 13.6ms\n",
      "video 1/1 (frame 1705/2322) /home/hatsu/coding/CapProj/TestSeg_1/video_input/fight_1.mp4: 640x640 2 Fighters, 14.3ms\n",
      "video 1/1 (frame 1706/2322) /home/hatsu/coding/CapProj/TestSeg_1/video_input/fight_1.mp4: 640x640 2 Fighters, 13.6ms\n",
      "video 1/1 (frame 1707/2322) /home/hatsu/coding/CapProj/TestSeg_1/video_input/fight_1.mp4: 640x640 2 Fighters, 11.7ms\n",
      "video 1/1 (frame 1708/2322) /home/hatsu/coding/CapProj/TestSeg_1/video_input/fight_1.mp4: 640x640 1 Fighter, 11.8ms\n",
      "video 1/1 (frame 1709/2322) /home/hatsu/coding/CapProj/TestSeg_1/video_input/fight_1.mp4: 640x640 1 Fighter, 12.1ms\n",
      "video 1/1 (frame 1710/2322) /home/hatsu/coding/CapProj/TestSeg_1/video_input/fight_1.mp4: 640x640 1 Fighter, 13.3ms\n",
      "video 1/1 (frame 1711/2322) /home/hatsu/coding/CapProj/TestSeg_1/video_input/fight_1.mp4: 640x640 1 Fighter, 11.7ms\n",
      "video 1/1 (frame 1712/2322) /home/hatsu/coding/CapProj/TestSeg_1/video_input/fight_1.mp4: 640x640 2 Fighters, 15.6ms\n",
      "video 1/1 (frame 1713/2322) /home/hatsu/coding/CapProj/TestSeg_1/video_input/fight_1.mp4: 640x640 1 Fighter, 12.0ms\n",
      "video 1/1 (frame 1714/2322) /home/hatsu/coding/CapProj/TestSeg_1/video_input/fight_1.mp4: 640x640 1 Fighter, 14.1ms\n",
      "video 1/1 (frame 1715/2322) /home/hatsu/coding/CapProj/TestSeg_1/video_input/fight_1.mp4: 640x640 1 Fighter, 12.7ms\n",
      "video 1/1 (frame 1716/2322) /home/hatsu/coding/CapProj/TestSeg_1/video_input/fight_1.mp4: 640x640 1 Fighter, 12.0ms\n",
      "video 1/1 (frame 1717/2322) /home/hatsu/coding/CapProj/TestSeg_1/video_input/fight_1.mp4: 640x640 1 Fighter, 13.4ms\n",
      "video 1/1 (frame 1718/2322) /home/hatsu/coding/CapProj/TestSeg_1/video_input/fight_1.mp4: 640x640 2 Fighters, 12.1ms\n",
      "video 1/1 (frame 1719/2322) /home/hatsu/coding/CapProj/TestSeg_1/video_input/fight_1.mp4: 640x640 2 Fighters, 13.3ms\n",
      "video 1/1 (frame 1720/2322) /home/hatsu/coding/CapProj/TestSeg_1/video_input/fight_1.mp4: 640x640 2 Fighters, 12.5ms\n",
      "video 1/1 (frame 1721/2322) /home/hatsu/coding/CapProj/TestSeg_1/video_input/fight_1.mp4: 640x640 2 Fighters, 18.2ms\n",
      "video 1/1 (frame 1722/2322) /home/hatsu/coding/CapProj/TestSeg_1/video_input/fight_1.mp4: 640x640 2 Fighters, 11.9ms\n",
      "video 1/1 (frame 1723/2322) /home/hatsu/coding/CapProj/TestSeg_1/video_input/fight_1.mp4: 640x640 1 Fighter, 12.2ms\n",
      "video 1/1 (frame 1724/2322) /home/hatsu/coding/CapProj/TestSeg_1/video_input/fight_1.mp4: 640x640 1 Fighter, 12.1ms\n",
      "video 1/1 (frame 1725/2322) /home/hatsu/coding/CapProj/TestSeg_1/video_input/fight_1.mp4: 640x640 1 Fighter, 12.3ms\n",
      "video 1/1 (frame 1726/2322) /home/hatsu/coding/CapProj/TestSeg_1/video_input/fight_1.mp4: 640x640 1 Fighter, 11.9ms\n",
      "video 1/1 (frame 1727/2322) /home/hatsu/coding/CapProj/TestSeg_1/video_input/fight_1.mp4: 640x640 1 Fighter, 12.8ms\n",
      "video 1/1 (frame 1728/2322) /home/hatsu/coding/CapProj/TestSeg_1/video_input/fight_1.mp4: 640x640 1 Fighter, 14.1ms\n",
      "video 1/1 (frame 1729/2322) /home/hatsu/coding/CapProj/TestSeg_1/video_input/fight_1.mp4: 640x640 1 Fighter, 12.8ms\n",
      "video 1/1 (frame 1730/2322) /home/hatsu/coding/CapProj/TestSeg_1/video_input/fight_1.mp4: 640x640 2 Fighters, 13.9ms\n",
      "video 1/1 (frame 1731/2322) /home/hatsu/coding/CapProj/TestSeg_1/video_input/fight_1.mp4: 640x640 3 Fighters, 13.5ms\n",
      "video 1/1 (frame 1732/2322) /home/hatsu/coding/CapProj/TestSeg_1/video_input/fight_1.mp4: 640x640 2 Fighters, 12.2ms\n",
      "video 1/1 (frame 1733/2322) /home/hatsu/coding/CapProj/TestSeg_1/video_input/fight_1.mp4: 640x640 1 Fighter, 15.3ms\n",
      "video 1/1 (frame 1734/2322) /home/hatsu/coding/CapProj/TestSeg_1/video_input/fight_1.mp4: 640x640 (no detections), 12.2ms\n",
      "video 1/1 (frame 1735/2322) /home/hatsu/coding/CapProj/TestSeg_1/video_input/fight_1.mp4: 640x640 2 Fighters, 11.3ms\n",
      "video 1/1 (frame 1736/2322) /home/hatsu/coding/CapProj/TestSeg_1/video_input/fight_1.mp4: 640x640 2 Fighters, 12.8ms\n",
      "video 1/1 (frame 1737/2322) /home/hatsu/coding/CapProj/TestSeg_1/video_input/fight_1.mp4: 640x640 1 Fighter, 12.2ms\n",
      "video 1/1 (frame 1738/2322) /home/hatsu/coding/CapProj/TestSeg_1/video_input/fight_1.mp4: 640x640 (no detections), 12.7ms\n",
      "video 1/1 (frame 1739/2322) /home/hatsu/coding/CapProj/TestSeg_1/video_input/fight_1.mp4: 640x640 1 Fighter, 12.9ms\n",
      "video 1/1 (frame 1740/2322) /home/hatsu/coding/CapProj/TestSeg_1/video_input/fight_1.mp4: 640x640 1 Fighter, 12.0ms\n",
      "video 1/1 (frame 1741/2322) /home/hatsu/coding/CapProj/TestSeg_1/video_input/fight_1.mp4: 640x640 1 Fighter, 13.4ms\n",
      "video 1/1 (frame 1742/2322) /home/hatsu/coding/CapProj/TestSeg_1/video_input/fight_1.mp4: 640x640 1 Fighter, 13.4ms\n",
      "video 1/1 (frame 1743/2322) /home/hatsu/coding/CapProj/TestSeg_1/video_input/fight_1.mp4: 640x640 1 Fighter, 12.8ms\n",
      "video 1/1 (frame 1744/2322) /home/hatsu/coding/CapProj/TestSeg_1/video_input/fight_1.mp4: 640x640 2 Fighters, 13.0ms\n",
      "video 1/1 (frame 1745/2322) /home/hatsu/coding/CapProj/TestSeg_1/video_input/fight_1.mp4: 640x640 3 Fighters, 11.9ms\n",
      "video 1/1 (frame 1746/2322) /home/hatsu/coding/CapProj/TestSeg_1/video_input/fight_1.mp4: 640x640 2 Fighters, 12.4ms\n",
      "video 1/1 (frame 1747/2322) /home/hatsu/coding/CapProj/TestSeg_1/video_input/fight_1.mp4: 640x640 3 Fighters, 11.3ms\n",
      "video 1/1 (frame 1748/2322) /home/hatsu/coding/CapProj/TestSeg_1/video_input/fight_1.mp4: 640x640 (no detections), 11.7ms\n",
      "video 1/1 (frame 1749/2322) /home/hatsu/coding/CapProj/TestSeg_1/video_input/fight_1.mp4: 640x640 (no detections), 11.7ms\n",
      "video 1/1 (frame 1750/2322) /home/hatsu/coding/CapProj/TestSeg_1/video_input/fight_1.mp4: 640x640 1 Fighter, 11.5ms\n",
      "video 1/1 (frame 1751/2322) /home/hatsu/coding/CapProj/TestSeg_1/video_input/fight_1.mp4: 640x640 1 Fighter, 13.4ms\n",
      "video 1/1 (frame 1752/2322) /home/hatsu/coding/CapProj/TestSeg_1/video_input/fight_1.mp4: 640x640 1 Fighter, 12.0ms\n",
      "video 1/1 (frame 1753/2322) /home/hatsu/coding/CapProj/TestSeg_1/video_input/fight_1.mp4: 640x640 (no detections), 11.2ms\n",
      "video 1/1 (frame 1754/2322) /home/hatsu/coding/CapProj/TestSeg_1/video_input/fight_1.mp4: 640x640 (no detections), 14.9ms\n",
      "video 1/1 (frame 1755/2322) /home/hatsu/coding/CapProj/TestSeg_1/video_input/fight_1.mp4: 640x640 1 Fighter, 11.0ms\n",
      "video 1/1 (frame 1756/2322) /home/hatsu/coding/CapProj/TestSeg_1/video_input/fight_1.mp4: 640x640 1 Fighter, 11.8ms\n",
      "video 1/1 (frame 1757/2322) /home/hatsu/coding/CapProj/TestSeg_1/video_input/fight_1.mp4: 640x640 1 Fighter, 11.8ms\n",
      "video 1/1 (frame 1758/2322) /home/hatsu/coding/CapProj/TestSeg_1/video_input/fight_1.mp4: 640x640 (no detections), 11.8ms\n",
      "video 1/1 (frame 1759/2322) /home/hatsu/coding/CapProj/TestSeg_1/video_input/fight_1.mp4: 640x640 (no detections), 14.0ms\n",
      "video 1/1 (frame 1760/2322) /home/hatsu/coding/CapProj/TestSeg_1/video_input/fight_1.mp4: 640x640 1 Fighter, 12.6ms\n",
      "video 1/1 (frame 1761/2322) /home/hatsu/coding/CapProj/TestSeg_1/video_input/fight_1.mp4: 640x640 1 Fighter, 11.5ms\n",
      "video 1/1 (frame 1762/2322) /home/hatsu/coding/CapProj/TestSeg_1/video_input/fight_1.mp4: 640x640 1 Fighter, 12.9ms\n",
      "video 1/1 (frame 1763/2322) /home/hatsu/coding/CapProj/TestSeg_1/video_input/fight_1.mp4: 640x640 (no detections), 13.5ms\n",
      "video 1/1 (frame 1764/2322) /home/hatsu/coding/CapProj/TestSeg_1/video_input/fight_1.mp4: 640x640 2 Fighters, 11.1ms\n",
      "video 1/1 (frame 1765/2322) /home/hatsu/coding/CapProj/TestSeg_1/video_input/fight_1.mp4: 640x640 1 Fighter, 11.1ms\n",
      "video 1/1 (frame 1766/2322) /home/hatsu/coding/CapProj/TestSeg_1/video_input/fight_1.mp4: 640x640 1 Fighter, 11.4ms\n",
      "video 1/1 (frame 1767/2322) /home/hatsu/coding/CapProj/TestSeg_1/video_input/fight_1.mp4: 640x640 1 Fighter, 14.6ms\n",
      "video 1/1 (frame 1768/2322) /home/hatsu/coding/CapProj/TestSeg_1/video_input/fight_1.mp4: 640x640 2 Fighters, 13.6ms\n",
      "video 1/1 (frame 1769/2322) /home/hatsu/coding/CapProj/TestSeg_1/video_input/fight_1.mp4: 640x640 1 Fighter, 16.4ms\n",
      "video 1/1 (frame 1770/2322) /home/hatsu/coding/CapProj/TestSeg_1/video_input/fight_1.mp4: 640x640 1 Fighter, 14.7ms\n",
      "video 1/1 (frame 1771/2322) /home/hatsu/coding/CapProj/TestSeg_1/video_input/fight_1.mp4: 640x640 1 Fighter, 11.7ms\n",
      "video 1/1 (frame 1772/2322) /home/hatsu/coding/CapProj/TestSeg_1/video_input/fight_1.mp4: 640x640 1 Fighter, 11.6ms\n",
      "video 1/1 (frame 1773/2322) /home/hatsu/coding/CapProj/TestSeg_1/video_input/fight_1.mp4: 640x640 (no detections), 13.1ms\n",
      "video 1/1 (frame 1774/2322) /home/hatsu/coding/CapProj/TestSeg_1/video_input/fight_1.mp4: 640x640 1 Fighter, 11.4ms\n",
      "video 1/1 (frame 1775/2322) /home/hatsu/coding/CapProj/TestSeg_1/video_input/fight_1.mp4: 640x640 1 Fighter, 13.1ms\n",
      "video 1/1 (frame 1776/2322) /home/hatsu/coding/CapProj/TestSeg_1/video_input/fight_1.mp4: 640x640 2 Fighters, 13.5ms\n",
      "video 1/1 (frame 1777/2322) /home/hatsu/coding/CapProj/TestSeg_1/video_input/fight_1.mp4: 640x640 2 Fighters, 13.4ms\n",
      "video 1/1 (frame 1778/2322) /home/hatsu/coding/CapProj/TestSeg_1/video_input/fight_1.mp4: 640x640 (no detections), 12.5ms\n",
      "video 1/1 (frame 1779/2322) /home/hatsu/coding/CapProj/TestSeg_1/video_input/fight_1.mp4: 640x640 1 Fighter, 12.8ms\n",
      "video 1/1 (frame 1780/2322) /home/hatsu/coding/CapProj/TestSeg_1/video_input/fight_1.mp4: 640x640 1 Fighter, 14.3ms\n",
      "video 1/1 (frame 1781/2322) /home/hatsu/coding/CapProj/TestSeg_1/video_input/fight_1.mp4: 640x640 1 Fighter, 11.8ms\n",
      "video 1/1 (frame 1782/2322) /home/hatsu/coding/CapProj/TestSeg_1/video_input/fight_1.mp4: 640x640 1 Fighter, 13.2ms\n",
      "video 1/1 (frame 1783/2322) /home/hatsu/coding/CapProj/TestSeg_1/video_input/fight_1.mp4: 640x640 (no detections), 12.4ms\n",
      "video 1/1 (frame 1784/2322) /home/hatsu/coding/CapProj/TestSeg_1/video_input/fight_1.mp4: 640x640 1 Fighter, 10.8ms\n",
      "video 1/1 (frame 1785/2322) /home/hatsu/coding/CapProj/TestSeg_1/video_input/fight_1.mp4: 640x640 1 Fighter, 11.1ms\n",
      "video 1/1 (frame 1786/2322) /home/hatsu/coding/CapProj/TestSeg_1/video_input/fight_1.mp4: 640x640 1 Fighter, 12.1ms\n",
      "video 1/1 (frame 1787/2322) /home/hatsu/coding/CapProj/TestSeg_1/video_input/fight_1.mp4: 640x640 (no detections), 11.5ms\n",
      "video 1/1 (frame 1788/2322) /home/hatsu/coding/CapProj/TestSeg_1/video_input/fight_1.mp4: 640x640 (no detections), 11.4ms\n",
      "video 1/1 (frame 1789/2322) /home/hatsu/coding/CapProj/TestSeg_1/video_input/fight_1.mp4: 640x640 (no detections), 11.6ms\n",
      "video 1/1 (frame 1790/2322) /home/hatsu/coding/CapProj/TestSeg_1/video_input/fight_1.mp4: 640x640 2 Fighters, 12.0ms\n",
      "video 1/1 (frame 1791/2322) /home/hatsu/coding/CapProj/TestSeg_1/video_input/fight_1.mp4: 640x640 2 Fighters, 11.9ms\n",
      "video 1/1 (frame 1792/2322) /home/hatsu/coding/CapProj/TestSeg_1/video_input/fight_1.mp4: 640x640 (no detections), 12.2ms\n",
      "video 1/1 (frame 1793/2322) /home/hatsu/coding/CapProj/TestSeg_1/video_input/fight_1.mp4: 640x640 1 Fighter, 11.6ms\n",
      "video 1/1 (frame 1794/2322) /home/hatsu/coding/CapProj/TestSeg_1/video_input/fight_1.mp4: 640x640 (no detections), 12.4ms\n",
      "video 1/1 (frame 1795/2322) /home/hatsu/coding/CapProj/TestSeg_1/video_input/fight_1.mp4: 640x640 (no detections), 11.3ms\n",
      "video 1/1 (frame 1796/2322) /home/hatsu/coding/CapProj/TestSeg_1/video_input/fight_1.mp4: 640x640 (no detections), 10.8ms\n",
      "video 1/1 (frame 1797/2322) /home/hatsu/coding/CapProj/TestSeg_1/video_input/fight_1.mp4: 640x640 (no detections), 11.8ms\n",
      "video 1/1 (frame 1798/2322) /home/hatsu/coding/CapProj/TestSeg_1/video_input/fight_1.mp4: 640x640 (no detections), 17.5ms\n",
      "video 1/1 (frame 1799/2322) /home/hatsu/coding/CapProj/TestSeg_1/video_input/fight_1.mp4: 640x640 (no detections), 14.4ms\n",
      "video 1/1 (frame 1800/2322) /home/hatsu/coding/CapProj/TestSeg_1/video_input/fight_1.mp4: 640x640 (no detections), 10.9ms\n",
      "video 1/1 (frame 1801/2322) /home/hatsu/coding/CapProj/TestSeg_1/video_input/fight_1.mp4: 640x640 (no detections), 11.0ms\n",
      "video 1/1 (frame 1802/2322) /home/hatsu/coding/CapProj/TestSeg_1/video_input/fight_1.mp4: 640x640 (no detections), 11.2ms\n",
      "video 1/1 (frame 1803/2322) /home/hatsu/coding/CapProj/TestSeg_1/video_input/fight_1.mp4: 640x640 1 Fighter, 12.4ms\n",
      "video 1/1 (frame 1804/2322) /home/hatsu/coding/CapProj/TestSeg_1/video_input/fight_1.mp4: 640x640 (no detections), 16.0ms\n",
      "video 1/1 (frame 1805/2322) /home/hatsu/coding/CapProj/TestSeg_1/video_input/fight_1.mp4: 640x640 (no detections), 11.2ms\n",
      "video 1/1 (frame 1806/2322) /home/hatsu/coding/CapProj/TestSeg_1/video_input/fight_1.mp4: 640x640 (no detections), 11.6ms\n",
      "video 1/1 (frame 1807/2322) /home/hatsu/coding/CapProj/TestSeg_1/video_input/fight_1.mp4: 640x640 1 Fighter, 11.4ms\n",
      "video 1/1 (frame 1808/2322) /home/hatsu/coding/CapProj/TestSeg_1/video_input/fight_1.mp4: 640x640 (no detections), 17.6ms\n",
      "video 1/1 (frame 1809/2322) /home/hatsu/coding/CapProj/TestSeg_1/video_input/fight_1.mp4: 640x640 (no detections), 11.6ms\n",
      "video 1/1 (frame 1810/2322) /home/hatsu/coding/CapProj/TestSeg_1/video_input/fight_1.mp4: 640x640 1 Fighter, 11.5ms\n",
      "video 1/1 (frame 1811/2322) /home/hatsu/coding/CapProj/TestSeg_1/video_input/fight_1.mp4: 640x640 2 Fighters, 11.8ms\n",
      "video 1/1 (frame 1812/2322) /home/hatsu/coding/CapProj/TestSeg_1/video_input/fight_1.mp4: 640x640 (no detections), 11.8ms\n",
      "video 1/1 (frame 1813/2322) /home/hatsu/coding/CapProj/TestSeg_1/video_input/fight_1.mp4: 640x640 (no detections), 12.8ms\n",
      "video 1/1 (frame 1814/2322) /home/hatsu/coding/CapProj/TestSeg_1/video_input/fight_1.mp4: 640x640 (no detections), 43.3ms\n",
      "video 1/1 (frame 1815/2322) /home/hatsu/coding/CapProj/TestSeg_1/video_input/fight_1.mp4: 640x640 (no detections), 11.5ms\n",
      "video 1/1 (frame 1816/2322) /home/hatsu/coding/CapProj/TestSeg_1/video_input/fight_1.mp4: 640x640 (no detections), 11.1ms\n",
      "video 1/1 (frame 1817/2322) /home/hatsu/coding/CapProj/TestSeg_1/video_input/fight_1.mp4: 640x640 1 Fighter, 11.4ms\n",
      "video 1/1 (frame 1818/2322) /home/hatsu/coding/CapProj/TestSeg_1/video_input/fight_1.mp4: 640x640 (no detections), 13.3ms\n",
      "video 1/1 (frame 1819/2322) /home/hatsu/coding/CapProj/TestSeg_1/video_input/fight_1.mp4: 640x640 (no detections), 12.2ms\n",
      "video 1/1 (frame 1820/2322) /home/hatsu/coding/CapProj/TestSeg_1/video_input/fight_1.mp4: 640x640 (no detections), 11.5ms\n",
      "video 1/1 (frame 1821/2322) /home/hatsu/coding/CapProj/TestSeg_1/video_input/fight_1.mp4: 640x640 (no detections), 11.3ms\n",
      "video 1/1 (frame 1822/2322) /home/hatsu/coding/CapProj/TestSeg_1/video_input/fight_1.mp4: 640x640 (no detections), 12.3ms\n",
      "video 1/1 (frame 1823/2322) /home/hatsu/coding/CapProj/TestSeg_1/video_input/fight_1.mp4: 640x640 (no detections), 11.1ms\n",
      "video 1/1 (frame 1824/2322) /home/hatsu/coding/CapProj/TestSeg_1/video_input/fight_1.mp4: 640x640 1 Fighter, 12.5ms\n",
      "video 1/1 (frame 1825/2322) /home/hatsu/coding/CapProj/TestSeg_1/video_input/fight_1.mp4: 640x640 (no detections), 12.1ms\n",
      "video 1/1 (frame 1826/2322) /home/hatsu/coding/CapProj/TestSeg_1/video_input/fight_1.mp4: 640x640 (no detections), 11.3ms\n",
      "video 1/1 (frame 1827/2322) /home/hatsu/coding/CapProj/TestSeg_1/video_input/fight_1.mp4: 640x640 (no detections), 12.2ms\n",
      "video 1/1 (frame 1828/2322) /home/hatsu/coding/CapProj/TestSeg_1/video_input/fight_1.mp4: 640x640 (no detections), 11.8ms\n",
      "video 1/1 (frame 1829/2322) /home/hatsu/coding/CapProj/TestSeg_1/video_input/fight_1.mp4: 640x640 1 Fighter, 11.3ms\n",
      "video 1/1 (frame 1830/2322) /home/hatsu/coding/CapProj/TestSeg_1/video_input/fight_1.mp4: 640x640 1 Fighter, 12.6ms\n",
      "video 1/1 (frame 1831/2322) /home/hatsu/coding/CapProj/TestSeg_1/video_input/fight_1.mp4: 640x640 (no detections), 11.9ms\n",
      "video 1/1 (frame 1832/2322) /home/hatsu/coding/CapProj/TestSeg_1/video_input/fight_1.mp4: 640x640 1 Fighter, 11.1ms\n",
      "video 1/1 (frame 1833/2322) /home/hatsu/coding/CapProj/TestSeg_1/video_input/fight_1.mp4: 640x640 (no detections), 11.5ms\n",
      "video 1/1 (frame 1834/2322) /home/hatsu/coding/CapProj/TestSeg_1/video_input/fight_1.mp4: 640x640 (no detections), 10.7ms\n",
      "video 1/1 (frame 1835/2322) /home/hatsu/coding/CapProj/TestSeg_1/video_input/fight_1.mp4: 640x640 (no detections), 11.2ms\n",
      "video 1/1 (frame 1836/2322) /home/hatsu/coding/CapProj/TestSeg_1/video_input/fight_1.mp4: 640x640 (no detections), 12.0ms\n",
      "video 1/1 (frame 1837/2322) /home/hatsu/coding/CapProj/TestSeg_1/video_input/fight_1.mp4: 640x640 2 Fighters, 11.6ms\n",
      "video 1/1 (frame 1838/2322) /home/hatsu/coding/CapProj/TestSeg_1/video_input/fight_1.mp4: 640x640 (no detections), 11.8ms\n",
      "video 1/1 (frame 1839/2322) /home/hatsu/coding/CapProj/TestSeg_1/video_input/fight_1.mp4: 640x640 (no detections), 11.5ms\n",
      "video 1/1 (frame 1840/2322) /home/hatsu/coding/CapProj/TestSeg_1/video_input/fight_1.mp4: 640x640 1 Fighter, 12.0ms\n",
      "video 1/1 (frame 1841/2322) /home/hatsu/coding/CapProj/TestSeg_1/video_input/fight_1.mp4: 640x640 (no detections), 12.6ms\n",
      "video 1/1 (frame 1842/2322) /home/hatsu/coding/CapProj/TestSeg_1/video_input/fight_1.mp4: 640x640 2 Fighters, 23.5ms\n",
      "video 1/1 (frame 1843/2322) /home/hatsu/coding/CapProj/TestSeg_1/video_input/fight_1.mp4: 640x640 1 Fighter, 14.8ms\n",
      "video 1/1 (frame 1844/2322) /home/hatsu/coding/CapProj/TestSeg_1/video_input/fight_1.mp4: 640x640 1 Fighter, 11.3ms\n",
      "video 1/1 (frame 1845/2322) /home/hatsu/coding/CapProj/TestSeg_1/video_input/fight_1.mp4: 640x640 (no detections), 11.8ms\n",
      "video 1/1 (frame 1846/2322) /home/hatsu/coding/CapProj/TestSeg_1/video_input/fight_1.mp4: 640x640 (no detections), 12.8ms\n",
      "video 1/1 (frame 1847/2322) /home/hatsu/coding/CapProj/TestSeg_1/video_input/fight_1.mp4: 640x640 1 Fighter, 11.7ms\n",
      "video 1/1 (frame 1848/2322) /home/hatsu/coding/CapProj/TestSeg_1/video_input/fight_1.mp4: 640x640 1 Fighter, 11.5ms\n",
      "video 1/1 (frame 1849/2322) /home/hatsu/coding/CapProj/TestSeg_1/video_input/fight_1.mp4: 640x640 (no detections), 11.8ms\n",
      "video 1/1 (frame 1850/2322) /home/hatsu/coding/CapProj/TestSeg_1/video_input/fight_1.mp4: 640x640 (no detections), 11.3ms\n",
      "video 1/1 (frame 1851/2322) /home/hatsu/coding/CapProj/TestSeg_1/video_input/fight_1.mp4: 640x640 (no detections), 11.8ms\n",
      "video 1/1 (frame 1852/2322) /home/hatsu/coding/CapProj/TestSeg_1/video_input/fight_1.mp4: 640x640 1 Fighter, 11.4ms\n",
      "video 1/1 (frame 1853/2322) /home/hatsu/coding/CapProj/TestSeg_1/video_input/fight_1.mp4: 640x640 1 Fighter, 12.4ms\n",
      "video 1/1 (frame 1854/2322) /home/hatsu/coding/CapProj/TestSeg_1/video_input/fight_1.mp4: 640x640 1 Fighter, 11.8ms\n",
      "video 1/1 (frame 1855/2322) /home/hatsu/coding/CapProj/TestSeg_1/video_input/fight_1.mp4: 640x640 (no detections), 11.9ms\n",
      "video 1/1 (frame 1856/2322) /home/hatsu/coding/CapProj/TestSeg_1/video_input/fight_1.mp4: 640x640 1 Fighter, 11.5ms\n",
      "video 1/1 (frame 1857/2322) /home/hatsu/coding/CapProj/TestSeg_1/video_input/fight_1.mp4: 640x640 (no detections), 11.9ms\n",
      "video 1/1 (frame 1858/2322) /home/hatsu/coding/CapProj/TestSeg_1/video_input/fight_1.mp4: 640x640 (no detections), 13.5ms\n",
      "video 1/1 (frame 1859/2322) /home/hatsu/coding/CapProj/TestSeg_1/video_input/fight_1.mp4: 640x640 (no detections), 12.8ms\n",
      "video 1/1 (frame 1860/2322) /home/hatsu/coding/CapProj/TestSeg_1/video_input/fight_1.mp4: 640x640 1 Fighter, 13.9ms\n",
      "video 1/1 (frame 1861/2322) /home/hatsu/coding/CapProj/TestSeg_1/video_input/fight_1.mp4: 640x640 (no detections), 11.5ms\n",
      "video 1/1 (frame 1862/2322) /home/hatsu/coding/CapProj/TestSeg_1/video_input/fight_1.mp4: 640x640 (no detections), 13.9ms\n",
      "video 1/1 (frame 1863/2322) /home/hatsu/coding/CapProj/TestSeg_1/video_input/fight_1.mp4: 640x640 1 Fighter, 19.2ms\n",
      "video 1/1 (frame 1864/2322) /home/hatsu/coding/CapProj/TestSeg_1/video_input/fight_1.mp4: 640x640 1 Fighter, 11.1ms\n",
      "video 1/1 (frame 1865/2322) /home/hatsu/coding/CapProj/TestSeg_1/video_input/fight_1.mp4: 640x640 1 Fighter, 11.4ms\n",
      "video 1/1 (frame 1866/2322) /home/hatsu/coding/CapProj/TestSeg_1/video_input/fight_1.mp4: 640x640 1 Fighter, 32.2ms\n",
      "video 1/1 (frame 1867/2322) /home/hatsu/coding/CapProj/TestSeg_1/video_input/fight_1.mp4: 640x640 2 Fighters, 11.5ms\n",
      "video 1/1 (frame 1868/2322) /home/hatsu/coding/CapProj/TestSeg_1/video_input/fight_1.mp4: 640x640 (no detections), 10.5ms\n",
      "video 1/1 (frame 1869/2322) /home/hatsu/coding/CapProj/TestSeg_1/video_input/fight_1.mp4: 640x640 (no detections), 18.6ms\n",
      "video 1/1 (frame 1870/2322) /home/hatsu/coding/CapProj/TestSeg_1/video_input/fight_1.mp4: 640x640 1 Fighter, 11.4ms\n",
      "video 1/1 (frame 1871/2322) /home/hatsu/coding/CapProj/TestSeg_1/video_input/fight_1.mp4: 640x640 1 Fighter, 12.7ms\n",
      "video 1/1 (frame 1872/2322) /home/hatsu/coding/CapProj/TestSeg_1/video_input/fight_1.mp4: 640x640 1 Fighter, 11.6ms\n",
      "video 1/1 (frame 1873/2322) /home/hatsu/coding/CapProj/TestSeg_1/video_input/fight_1.mp4: 640x640 (no detections), 13.3ms\n",
      "video 1/1 (frame 1874/2322) /home/hatsu/coding/CapProj/TestSeg_1/video_input/fight_1.mp4: 640x640 (no detections), 11.4ms\n",
      "video 1/1 (frame 1875/2322) /home/hatsu/coding/CapProj/TestSeg_1/video_input/fight_1.mp4: 640x640 1 Fighter, 11.3ms\n",
      "video 1/1 (frame 1876/2322) /home/hatsu/coding/CapProj/TestSeg_1/video_input/fight_1.mp4: 640x640 (no detections), 14.2ms\n",
      "video 1/1 (frame 1877/2322) /home/hatsu/coding/CapProj/TestSeg_1/video_input/fight_1.mp4: 640x640 1 Fighter, 11.8ms\n",
      "video 1/1 (frame 1878/2322) /home/hatsu/coding/CapProj/TestSeg_1/video_input/fight_1.mp4: 640x640 (no detections), 11.5ms\n",
      "video 1/1 (frame 1879/2322) /home/hatsu/coding/CapProj/TestSeg_1/video_input/fight_1.mp4: 640x640 (no detections), 11.7ms\n",
      "video 1/1 (frame 1880/2322) /home/hatsu/coding/CapProj/TestSeg_1/video_input/fight_1.mp4: 640x640 1 Fighter, 11.7ms\n",
      "video 1/1 (frame 1881/2322) /home/hatsu/coding/CapProj/TestSeg_1/video_input/fight_1.mp4: 640x640 1 Fighter, 13.4ms\n",
      "video 1/1 (frame 1882/2322) /home/hatsu/coding/CapProj/TestSeg_1/video_input/fight_1.mp4: 640x640 1 Fighter, 14.6ms\n",
      "video 1/1 (frame 1883/2322) /home/hatsu/coding/CapProj/TestSeg_1/video_input/fight_1.mp4: 640x640 (no detections), 13.3ms\n",
      "video 1/1 (frame 1884/2322) /home/hatsu/coding/CapProj/TestSeg_1/video_input/fight_1.mp4: 640x640 (no detections), 14.0ms\n",
      "video 1/1 (frame 1885/2322) /home/hatsu/coding/CapProj/TestSeg_1/video_input/fight_1.mp4: 640x640 1 Fighter, 14.1ms\n",
      "video 1/1 (frame 1886/2322) /home/hatsu/coding/CapProj/TestSeg_1/video_input/fight_1.mp4: 640x640 2 Fighters, 13.8ms\n",
      "video 1/1 (frame 1887/2322) /home/hatsu/coding/CapProj/TestSeg_1/video_input/fight_1.mp4: 640x640 2 Fighters, 12.5ms\n",
      "video 1/1 (frame 1888/2322) /home/hatsu/coding/CapProj/TestSeg_1/video_input/fight_1.mp4: 640x640 (no detections), 11.3ms\n",
      "video 1/1 (frame 1889/2322) /home/hatsu/coding/CapProj/TestSeg_1/video_input/fight_1.mp4: 640x640 1 Fighter, 11.2ms\n",
      "video 1/1 (frame 1890/2322) /home/hatsu/coding/CapProj/TestSeg_1/video_input/fight_1.mp4: 640x640 1 Fighter, 11.2ms\n",
      "video 1/1 (frame 1891/2322) /home/hatsu/coding/CapProj/TestSeg_1/video_input/fight_1.mp4: 640x640 (no detections), 11.3ms\n",
      "video 1/1 (frame 1892/2322) /home/hatsu/coding/CapProj/TestSeg_1/video_input/fight_1.mp4: 640x640 (no detections), 13.7ms\n",
      "video 1/1 (frame 1893/2322) /home/hatsu/coding/CapProj/TestSeg_1/video_input/fight_1.mp4: 640x640 (no detections), 11.4ms\n",
      "video 1/1 (frame 1894/2322) /home/hatsu/coding/CapProj/TestSeg_1/video_input/fight_1.mp4: 640x640 1 Fighter, 12.1ms\n",
      "video 1/1 (frame 1895/2322) /home/hatsu/coding/CapProj/TestSeg_1/video_input/fight_1.mp4: 640x640 1 Fighter, 14.3ms\n",
      "video 1/1 (frame 1896/2322) /home/hatsu/coding/CapProj/TestSeg_1/video_input/fight_1.mp4: 640x640 1 Fighter, 11.5ms\n",
      "video 1/1 (frame 1897/2322) /home/hatsu/coding/CapProj/TestSeg_1/video_input/fight_1.mp4: 640x640 3 Fighters, 12.8ms\n",
      "video 1/1 (frame 1898/2322) /home/hatsu/coding/CapProj/TestSeg_1/video_input/fight_1.mp4: 640x640 1 Fighter, 11.8ms\n",
      "video 1/1 (frame 1899/2322) /home/hatsu/coding/CapProj/TestSeg_1/video_input/fight_1.mp4: 640x640 1 Fighter, 11.8ms\n",
      "video 1/1 (frame 1900/2322) /home/hatsu/coding/CapProj/TestSeg_1/video_input/fight_1.mp4: 640x640 1 Fighter, 11.5ms\n",
      "video 1/1 (frame 1901/2322) /home/hatsu/coding/CapProj/TestSeg_1/video_input/fight_1.mp4: 640x640 3 Fighters, 11.6ms\n",
      "video 1/1 (frame 1902/2322) /home/hatsu/coding/CapProj/TestSeg_1/video_input/fight_1.mp4: 640x640 3 Fighters, 16.5ms\n",
      "video 1/1 (frame 1903/2322) /home/hatsu/coding/CapProj/TestSeg_1/video_input/fight_1.mp4: 640x640 1 Fighter, 13.1ms\n",
      "video 1/1 (frame 1904/2322) /home/hatsu/coding/CapProj/TestSeg_1/video_input/fight_1.mp4: 640x640 1 Fighter, 14.7ms\n",
      "video 1/1 (frame 1905/2322) /home/hatsu/coding/CapProj/TestSeg_1/video_input/fight_1.mp4: 640x640 2 Fighters, 11.6ms\n",
      "video 1/1 (frame 1906/2322) /home/hatsu/coding/CapProj/TestSeg_1/video_input/fight_1.mp4: 640x640 (no detections), 11.4ms\n",
      "video 1/1 (frame 1907/2322) /home/hatsu/coding/CapProj/TestSeg_1/video_input/fight_1.mp4: 640x640 1 Fighter, 11.4ms\n",
      "video 1/1 (frame 1908/2322) /home/hatsu/coding/CapProj/TestSeg_1/video_input/fight_1.mp4: 640x640 (no detections), 11.1ms\n",
      "video 1/1 (frame 1909/2322) /home/hatsu/coding/CapProj/TestSeg_1/video_input/fight_1.mp4: 640x640 1 Fighter, 11.6ms\n",
      "video 1/1 (frame 1910/2322) /home/hatsu/coding/CapProj/TestSeg_1/video_input/fight_1.mp4: 640x640 (no detections), 11.5ms\n",
      "video 1/1 (frame 1911/2322) /home/hatsu/coding/CapProj/TestSeg_1/video_input/fight_1.mp4: 640x640 (no detections), 13.4ms\n",
      "video 1/1 (frame 1912/2322) /home/hatsu/coding/CapProj/TestSeg_1/video_input/fight_1.mp4: 640x640 1 Fighter, 12.9ms\n",
      "video 1/1 (frame 1913/2322) /home/hatsu/coding/CapProj/TestSeg_1/video_input/fight_1.mp4: 640x640 1 Fighter, 17.5ms\n",
      "video 1/1 (frame 1914/2322) /home/hatsu/coding/CapProj/TestSeg_1/video_input/fight_1.mp4: 640x640 1 Fighter, 11.2ms\n",
      "video 1/1 (frame 1915/2322) /home/hatsu/coding/CapProj/TestSeg_1/video_input/fight_1.mp4: 640x640 1 Fighter, 12.0ms\n",
      "video 1/1 (frame 1916/2322) /home/hatsu/coding/CapProj/TestSeg_1/video_input/fight_1.mp4: 640x640 1 Fighter, 12.2ms\n",
      "video 1/1 (frame 1917/2322) /home/hatsu/coding/CapProj/TestSeg_1/video_input/fight_1.mp4: 640x640 1 Fighter, 13.1ms\n",
      "video 1/1 (frame 1918/2322) /home/hatsu/coding/CapProj/TestSeg_1/video_input/fight_1.mp4: 640x640 1 Fighter, 12.0ms\n",
      "video 1/1 (frame 1919/2322) /home/hatsu/coding/CapProj/TestSeg_1/video_input/fight_1.mp4: 640x640 1 Fighter, 12.0ms\n",
      "video 1/1 (frame 1920/2322) /home/hatsu/coding/CapProj/TestSeg_1/video_input/fight_1.mp4: 640x640 1 Fighter, 18.3ms\n",
      "video 1/1 (frame 1921/2322) /home/hatsu/coding/CapProj/TestSeg_1/video_input/fight_1.mp4: 640x640 1 Fighter, 13.5ms\n",
      "video 1/1 (frame 1922/2322) /home/hatsu/coding/CapProj/TestSeg_1/video_input/fight_1.mp4: 640x640 (no detections), 13.7ms\n",
      "video 1/1 (frame 1923/2322) /home/hatsu/coding/CapProj/TestSeg_1/video_input/fight_1.mp4: 640x640 (no detections), 11.6ms\n",
      "video 1/1 (frame 1924/2322) /home/hatsu/coding/CapProj/TestSeg_1/video_input/fight_1.mp4: 640x640 (no detections), 11.1ms\n",
      "video 1/1 (frame 1925/2322) /home/hatsu/coding/CapProj/TestSeg_1/video_input/fight_1.mp4: 640x640 (no detections), 10.8ms\n",
      "video 1/1 (frame 1926/2322) /home/hatsu/coding/CapProj/TestSeg_1/video_input/fight_1.mp4: 640x640 (no detections), 11.6ms\n",
      "video 1/1 (frame 1927/2322) /home/hatsu/coding/CapProj/TestSeg_1/video_input/fight_1.mp4: 640x640 (no detections), 11.1ms\n",
      "video 1/1 (frame 1928/2322) /home/hatsu/coding/CapProj/TestSeg_1/video_input/fight_1.mp4: 640x640 1 Fighter, 11.9ms\n",
      "video 1/1 (frame 1929/2322) /home/hatsu/coding/CapProj/TestSeg_1/video_input/fight_1.mp4: 640x640 (no detections), 12.9ms\n",
      "video 1/1 (frame 1930/2322) /home/hatsu/coding/CapProj/TestSeg_1/video_input/fight_1.mp4: 640x640 (no detections), 14.7ms\n",
      "video 1/1 (frame 1931/2322) /home/hatsu/coding/CapProj/TestSeg_1/video_input/fight_1.mp4: 640x640 1 Fighter, 13.1ms\n",
      "video 1/1 (frame 1932/2322) /home/hatsu/coding/CapProj/TestSeg_1/video_input/fight_1.mp4: 640x640 1 Fighter, 12.4ms\n",
      "video 1/1 (frame 1933/2322) /home/hatsu/coding/CapProj/TestSeg_1/video_input/fight_1.mp4: 640x640 (no detections), 15.0ms\n",
      "video 1/1 (frame 1934/2322) /home/hatsu/coding/CapProj/TestSeg_1/video_input/fight_1.mp4: 640x640 (no detections), 13.0ms\n",
      "video 1/1 (frame 1935/2322) /home/hatsu/coding/CapProj/TestSeg_1/video_input/fight_1.mp4: 640x640 (no detections), 13.7ms\n",
      "video 1/1 (frame 1936/2322) /home/hatsu/coding/CapProj/TestSeg_1/video_input/fight_1.mp4: 640x640 (no detections), 15.8ms\n",
      "video 1/1 (frame 1937/2322) /home/hatsu/coding/CapProj/TestSeg_1/video_input/fight_1.mp4: 640x640 (no detections), 11.3ms\n",
      "video 1/1 (frame 1938/2322) /home/hatsu/coding/CapProj/TestSeg_1/video_input/fight_1.mp4: 640x640 1 Fighter, 11.3ms\n",
      "video 1/1 (frame 1939/2322) /home/hatsu/coding/CapProj/TestSeg_1/video_input/fight_1.mp4: 640x640 1 Fighter, 13.9ms\n",
      "video 1/1 (frame 1940/2322) /home/hatsu/coding/CapProj/TestSeg_1/video_input/fight_1.mp4: 640x640 (no detections), 12.6ms\n",
      "video 1/1 (frame 1941/2322) /home/hatsu/coding/CapProj/TestSeg_1/video_input/fight_1.mp4: 640x640 (no detections), 11.2ms\n",
      "video 1/1 (frame 1942/2322) /home/hatsu/coding/CapProj/TestSeg_1/video_input/fight_1.mp4: 640x640 1 Fighter, 11.7ms\n",
      "video 1/1 (frame 1943/2322) /home/hatsu/coding/CapProj/TestSeg_1/video_input/fight_1.mp4: 640x640 1 Fighter, 14.6ms\n",
      "video 1/1 (frame 1944/2322) /home/hatsu/coding/CapProj/TestSeg_1/video_input/fight_1.mp4: 640x640 (no detections), 17.7ms\n",
      "video 1/1 (frame 1945/2322) /home/hatsu/coding/CapProj/TestSeg_1/video_input/fight_1.mp4: 640x640 1 Fighter, 12.3ms\n",
      "video 1/1 (frame 1946/2322) /home/hatsu/coding/CapProj/TestSeg_1/video_input/fight_1.mp4: 640x640 1 Fighter, 13.6ms\n",
      "video 1/1 (frame 1947/2322) /home/hatsu/coding/CapProj/TestSeg_1/video_input/fight_1.mp4: 640x640 1 Fighter, 14.6ms\n",
      "video 1/1 (frame 1948/2322) /home/hatsu/coding/CapProj/TestSeg_1/video_input/fight_1.mp4: 640x640 (no detections), 12.1ms\n",
      "video 1/1 (frame 1949/2322) /home/hatsu/coding/CapProj/TestSeg_1/video_input/fight_1.mp4: 640x640 (no detections), 11.4ms\n",
      "video 1/1 (frame 1950/2322) /home/hatsu/coding/CapProj/TestSeg_1/video_input/fight_1.mp4: 640x640 1 Fighter, 13.4ms\n",
      "video 1/1 (frame 1951/2322) /home/hatsu/coding/CapProj/TestSeg_1/video_input/fight_1.mp4: 640x640 1 Fighter, 14.1ms\n",
      "video 1/1 (frame 1952/2322) /home/hatsu/coding/CapProj/TestSeg_1/video_input/fight_1.mp4: 640x640 1 Fighter, 13.2ms\n",
      "video 1/1 (frame 1953/2322) /home/hatsu/coding/CapProj/TestSeg_1/video_input/fight_1.mp4: 640x640 (no detections), 39.0ms\n",
      "video 1/1 (frame 1954/2322) /home/hatsu/coding/CapProj/TestSeg_1/video_input/fight_1.mp4: 640x640 1 Fighter, 11.9ms\n",
      "video 1/1 (frame 1955/2322) /home/hatsu/coding/CapProj/TestSeg_1/video_input/fight_1.mp4: 640x640 1 Fighter, 13.2ms\n",
      "video 1/1 (frame 1956/2322) /home/hatsu/coding/CapProj/TestSeg_1/video_input/fight_1.mp4: 640x640 1 Fighter, 11.9ms\n",
      "video 1/1 (frame 1957/2322) /home/hatsu/coding/CapProj/TestSeg_1/video_input/fight_1.mp4: 640x640 1 Fighter, 11.2ms\n",
      "video 1/1 (frame 1958/2322) /home/hatsu/coding/CapProj/TestSeg_1/video_input/fight_1.mp4: 640x640 1 Fighter, 11.4ms\n",
      "video 1/1 (frame 1959/2322) /home/hatsu/coding/CapProj/TestSeg_1/video_input/fight_1.mp4: 640x640 2 Fighters, 11.9ms\n",
      "video 1/1 (frame 1960/2322) /home/hatsu/coding/CapProj/TestSeg_1/video_input/fight_1.mp4: 640x640 1 Fighter, 16.2ms\n",
      "video 1/1 (frame 1961/2322) /home/hatsu/coding/CapProj/TestSeg_1/video_input/fight_1.mp4: 640x640 1 Fighter, 11.6ms\n",
      "video 1/1 (frame 1962/2322) /home/hatsu/coding/CapProj/TestSeg_1/video_input/fight_1.mp4: 640x640 1 Fighter, 14.0ms\n",
      "video 1/1 (frame 1963/2322) /home/hatsu/coding/CapProj/TestSeg_1/video_input/fight_1.mp4: 640x640 (no detections), 15.1ms\n",
      "video 1/1 (frame 1964/2322) /home/hatsu/coding/CapProj/TestSeg_1/video_input/fight_1.mp4: 640x640 (no detections), 10.8ms\n",
      "video 1/1 (frame 1965/2322) /home/hatsu/coding/CapProj/TestSeg_1/video_input/fight_1.mp4: 640x640 (no detections), 10.8ms\n",
      "video 1/1 (frame 1966/2322) /home/hatsu/coding/CapProj/TestSeg_1/video_input/fight_1.mp4: 640x640 (no detections), 11.5ms\n",
      "video 1/1 (frame 1967/2322) /home/hatsu/coding/CapProj/TestSeg_1/video_input/fight_1.mp4: 640x640 (no detections), 11.8ms\n",
      "video 1/1 (frame 1968/2322) /home/hatsu/coding/CapProj/TestSeg_1/video_input/fight_1.mp4: 640x640 (no detections), 12.4ms\n",
      "video 1/1 (frame 1969/2322) /home/hatsu/coding/CapProj/TestSeg_1/video_input/fight_1.mp4: 640x640 1 Fighter, 11.4ms\n",
      "video 1/1 (frame 1970/2322) /home/hatsu/coding/CapProj/TestSeg_1/video_input/fight_1.mp4: 640x640 1 Fighter, 11.9ms\n",
      "video 1/1 (frame 1971/2322) /home/hatsu/coding/CapProj/TestSeg_1/video_input/fight_1.mp4: 640x640 1 Fighter, 11.9ms\n",
      "video 1/1 (frame 1972/2322) /home/hatsu/coding/CapProj/TestSeg_1/video_input/fight_1.mp4: 640x640 1 Fighter, 13.0ms\n",
      "video 1/1 (frame 1973/2322) /home/hatsu/coding/CapProj/TestSeg_1/video_input/fight_1.mp4: 640x640 1 Fighter, 11.5ms\n",
      "video 1/1 (frame 1974/2322) /home/hatsu/coding/CapProj/TestSeg_1/video_input/fight_1.mp4: 640x640 1 Fighter, 13.9ms\n",
      "video 1/1 (frame 1975/2322) /home/hatsu/coding/CapProj/TestSeg_1/video_input/fight_1.mp4: 640x640 1 Fighter, 11.5ms\n",
      "video 1/1 (frame 1976/2322) /home/hatsu/coding/CapProj/TestSeg_1/video_input/fight_1.mp4: 640x640 1 Fighter, 12.9ms\n",
      "video 1/1 (frame 1977/2322) /home/hatsu/coding/CapProj/TestSeg_1/video_input/fight_1.mp4: 640x640 1 Fighter, 15.3ms\n",
      "video 1/1 (frame 1978/2322) /home/hatsu/coding/CapProj/TestSeg_1/video_input/fight_1.mp4: 640x640 (no detections), 11.2ms\n",
      "video 1/1 (frame 1979/2322) /home/hatsu/coding/CapProj/TestSeg_1/video_input/fight_1.mp4: 640x640 1 Fighter, 11.2ms\n",
      "video 1/1 (frame 1980/2322) /home/hatsu/coding/CapProj/TestSeg_1/video_input/fight_1.mp4: 640x640 1 Fighter, 12.5ms\n",
      "video 1/1 (frame 1981/2322) /home/hatsu/coding/CapProj/TestSeg_1/video_input/fight_1.mp4: 640x640 1 Fighter, 12.6ms\n",
      "video 1/1 (frame 1982/2322) /home/hatsu/coding/CapProj/TestSeg_1/video_input/fight_1.mp4: 640x640 (no detections), 11.3ms\n",
      "video 1/1 (frame 1983/2322) /home/hatsu/coding/CapProj/TestSeg_1/video_input/fight_1.mp4: 640x640 (no detections), 13.0ms\n",
      "video 1/1 (frame 1984/2322) /home/hatsu/coding/CapProj/TestSeg_1/video_input/fight_1.mp4: 640x640 (no detections), 13.2ms\n",
      "video 1/1 (frame 1985/2322) /home/hatsu/coding/CapProj/TestSeg_1/video_input/fight_1.mp4: 640x640 (no detections), 11.4ms\n",
      "video 1/1 (frame 1986/2322) /home/hatsu/coding/CapProj/TestSeg_1/video_input/fight_1.mp4: 640x640 (no detections), 14.9ms\n",
      "video 1/1 (frame 1987/2322) /home/hatsu/coding/CapProj/TestSeg_1/video_input/fight_1.mp4: 640x640 (no detections), 23.8ms\n",
      "video 1/1 (frame 1988/2322) /home/hatsu/coding/CapProj/TestSeg_1/video_input/fight_1.mp4: 640x640 (no detections), 15.6ms\n",
      "video 1/1 (frame 1989/2322) /home/hatsu/coding/CapProj/TestSeg_1/video_input/fight_1.mp4: 640x640 (no detections), 10.8ms\n",
      "video 1/1 (frame 1990/2322) /home/hatsu/coding/CapProj/TestSeg_1/video_input/fight_1.mp4: 640x640 (no detections), 11.1ms\n",
      "video 1/1 (frame 1991/2322) /home/hatsu/coding/CapProj/TestSeg_1/video_input/fight_1.mp4: 640x640 (no detections), 11.3ms\n",
      "video 1/1 (frame 1992/2322) /home/hatsu/coding/CapProj/TestSeg_1/video_input/fight_1.mp4: 640x640 1 Fighter, 12.9ms\n",
      "video 1/1 (frame 1993/2322) /home/hatsu/coding/CapProj/TestSeg_1/video_input/fight_1.mp4: 640x640 (no detections), 12.4ms\n",
      "video 1/1 (frame 1994/2322) /home/hatsu/coding/CapProj/TestSeg_1/video_input/fight_1.mp4: 640x640 (no detections), 11.1ms\n",
      "video 1/1 (frame 1995/2322) /home/hatsu/coding/CapProj/TestSeg_1/video_input/fight_1.mp4: 640x640 2 Fighters, 11.0ms\n",
      "video 1/1 (frame 1996/2322) /home/hatsu/coding/CapProj/TestSeg_1/video_input/fight_1.mp4: 640x640 1 Fighter, 12.2ms\n",
      "video 1/1 (frame 1997/2322) /home/hatsu/coding/CapProj/TestSeg_1/video_input/fight_1.mp4: 640x640 1 Fighter, 11.3ms\n",
      "video 1/1 (frame 1998/2322) /home/hatsu/coding/CapProj/TestSeg_1/video_input/fight_1.mp4: 640x640 (no detections), 11.5ms\n",
      "video 1/1 (frame 1999/2322) /home/hatsu/coding/CapProj/TestSeg_1/video_input/fight_1.mp4: 640x640 1 Fighter, 14.2ms\n",
      "video 1/1 (frame 2000/2322) /home/hatsu/coding/CapProj/TestSeg_1/video_input/fight_1.mp4: 640x640 (no detections), 11.3ms\n",
      "video 1/1 (frame 2001/2322) /home/hatsu/coding/CapProj/TestSeg_1/video_input/fight_1.mp4: 640x640 1 Fighter, 11.0ms\n",
      "video 1/1 (frame 2002/2322) /home/hatsu/coding/CapProj/TestSeg_1/video_input/fight_1.mp4: 640x640 1 Fighter, 10.8ms\n",
      "video 1/1 (frame 2003/2322) /home/hatsu/coding/CapProj/TestSeg_1/video_input/fight_1.mp4: 640x640 (no detections), 11.1ms\n",
      "video 1/1 (frame 2004/2322) /home/hatsu/coding/CapProj/TestSeg_1/video_input/fight_1.mp4: 640x640 (no detections), 10.7ms\n",
      "video 1/1 (frame 2005/2322) /home/hatsu/coding/CapProj/TestSeg_1/video_input/fight_1.mp4: 640x640 (no detections), 11.0ms\n",
      "video 1/1 (frame 2006/2322) /home/hatsu/coding/CapProj/TestSeg_1/video_input/fight_1.mp4: 640x640 1 Fighter, 11.1ms\n",
      "video 1/1 (frame 2007/2322) /home/hatsu/coding/CapProj/TestSeg_1/video_input/fight_1.mp4: 640x640 (no detections), 11.7ms\n",
      "video 1/1 (frame 2008/2322) /home/hatsu/coding/CapProj/TestSeg_1/video_input/fight_1.mp4: 640x640 (no detections), 10.8ms\n",
      "video 1/1 (frame 2009/2322) /home/hatsu/coding/CapProj/TestSeg_1/video_input/fight_1.mp4: 640x640 (no detections), 16.0ms\n",
      "video 1/1 (frame 2010/2322) /home/hatsu/coding/CapProj/TestSeg_1/video_input/fight_1.mp4: 640x640 (no detections), 11.2ms\n",
      "video 1/1 (frame 2011/2322) /home/hatsu/coding/CapProj/TestSeg_1/video_input/fight_1.mp4: 640x640 (no detections), 10.8ms\n",
      "video 1/1 (frame 2012/2322) /home/hatsu/coding/CapProj/TestSeg_1/video_input/fight_1.mp4: 640x640 1 Fighter, 11.7ms\n",
      "video 1/1 (frame 2013/2322) /home/hatsu/coding/CapProj/TestSeg_1/video_input/fight_1.mp4: 640x640 (no detections), 12.4ms\n",
      "video 1/1 (frame 2014/2322) /home/hatsu/coding/CapProj/TestSeg_1/video_input/fight_1.mp4: 640x640 (no detections), 12.3ms\n",
      "video 1/1 (frame 2015/2322) /home/hatsu/coding/CapProj/TestSeg_1/video_input/fight_1.mp4: 640x640 (no detections), 12.2ms\n",
      "video 1/1 (frame 2016/2322) /home/hatsu/coding/CapProj/TestSeg_1/video_input/fight_1.mp4: 640x640 (no detections), 14.8ms\n",
      "video 1/1 (frame 2017/2322) /home/hatsu/coding/CapProj/TestSeg_1/video_input/fight_1.mp4: 640x640 (no detections), 16.9ms\n",
      "video 1/1 (frame 2018/2322) /home/hatsu/coding/CapProj/TestSeg_1/video_input/fight_1.mp4: 640x640 (no detections), 14.7ms\n",
      "video 1/1 (frame 2019/2322) /home/hatsu/coding/CapProj/TestSeg_1/video_input/fight_1.mp4: 640x640 (no detections), 11.5ms\n",
      "video 1/1 (frame 2020/2322) /home/hatsu/coding/CapProj/TestSeg_1/video_input/fight_1.mp4: 640x640 (no detections), 12.6ms\n",
      "video 1/1 (frame 2021/2322) /home/hatsu/coding/CapProj/TestSeg_1/video_input/fight_1.mp4: 640x640 1 Fighter, 19.1ms\n",
      "video 1/1 (frame 2022/2322) /home/hatsu/coding/CapProj/TestSeg_1/video_input/fight_1.mp4: 640x640 2 Fighters, 11.5ms\n",
      "video 1/1 (frame 2023/2322) /home/hatsu/coding/CapProj/TestSeg_1/video_input/fight_1.mp4: 640x640 (no detections), 11.6ms\n",
      "video 1/1 (frame 2024/2322) /home/hatsu/coding/CapProj/TestSeg_1/video_input/fight_1.mp4: 640x640 (no detections), 11.1ms\n",
      "video 1/1 (frame 2025/2322) /home/hatsu/coding/CapProj/TestSeg_1/video_input/fight_1.mp4: 640x640 (no detections), 11.9ms\n",
      "video 1/1 (frame 2026/2322) /home/hatsu/coding/CapProj/TestSeg_1/video_input/fight_1.mp4: 640x640 1 Fighter, 11.1ms\n",
      "video 1/1 (frame 2027/2322) /home/hatsu/coding/CapProj/TestSeg_1/video_input/fight_1.mp4: 640x640 (no detections), 12.8ms\n",
      "video 1/1 (frame 2028/2322) /home/hatsu/coding/CapProj/TestSeg_1/video_input/fight_1.mp4: 640x640 (no detections), 11.5ms\n",
      "video 1/1 (frame 2029/2322) /home/hatsu/coding/CapProj/TestSeg_1/video_input/fight_1.mp4: 640x640 (no detections), 10.5ms\n",
      "video 1/1 (frame 2030/2322) /home/hatsu/coding/CapProj/TestSeg_1/video_input/fight_1.mp4: 640x640 (no detections), 10.8ms\n",
      "video 1/1 (frame 2031/2322) /home/hatsu/coding/CapProj/TestSeg_1/video_input/fight_1.mp4: 640x640 (no detections), 11.8ms\n",
      "video 1/1 (frame 2032/2322) /home/hatsu/coding/CapProj/TestSeg_1/video_input/fight_1.mp4: 640x640 (no detections), 11.8ms\n",
      "video 1/1 (frame 2033/2322) /home/hatsu/coding/CapProj/TestSeg_1/video_input/fight_1.mp4: 640x640 (no detections), 12.6ms\n",
      "video 1/1 (frame 2034/2322) /home/hatsu/coding/CapProj/TestSeg_1/video_input/fight_1.mp4: 640x640 (no detections), 12.1ms\n",
      "video 1/1 (frame 2035/2322) /home/hatsu/coding/CapProj/TestSeg_1/video_input/fight_1.mp4: 640x640 1 Fighter, 12.9ms\n",
      "video 1/1 (frame 2036/2322) /home/hatsu/coding/CapProj/TestSeg_1/video_input/fight_1.mp4: 640x640 2 Fighters, 14.7ms\n",
      "video 1/1 (frame 2037/2322) /home/hatsu/coding/CapProj/TestSeg_1/video_input/fight_1.mp4: 640x640 1 Fighter, 14.5ms\n",
      "video 1/1 (frame 2038/2322) /home/hatsu/coding/CapProj/TestSeg_1/video_input/fight_1.mp4: 640x640 (no detections), 11.2ms\n",
      "video 1/1 (frame 2039/2322) /home/hatsu/coding/CapProj/TestSeg_1/video_input/fight_1.mp4: 640x640 (no detections), 12.3ms\n",
      "video 1/1 (frame 2040/2322) /home/hatsu/coding/CapProj/TestSeg_1/video_input/fight_1.mp4: 640x640 1 Fighter, 11.4ms\n",
      "video 1/1 (frame 2041/2322) /home/hatsu/coding/CapProj/TestSeg_1/video_input/fight_1.mp4: 640x640 1 Fighter, 11.4ms\n",
      "video 1/1 (frame 2042/2322) /home/hatsu/coding/CapProj/TestSeg_1/video_input/fight_1.mp4: 640x640 1 Fighter, 11.4ms\n",
      "video 1/1 (frame 2043/2322) /home/hatsu/coding/CapProj/TestSeg_1/video_input/fight_1.mp4: 640x640 (no detections), 11.6ms\n",
      "video 1/1 (frame 2044/2322) /home/hatsu/coding/CapProj/TestSeg_1/video_input/fight_1.mp4: 640x640 (no detections), 14.0ms\n",
      "video 1/1 (frame 2045/2322) /home/hatsu/coding/CapProj/TestSeg_1/video_input/fight_1.mp4: 640x640 (no detections), 14.3ms\n",
      "video 1/1 (frame 2046/2322) /home/hatsu/coding/CapProj/TestSeg_1/video_input/fight_1.mp4: 640x640 1 Fighter, 13.3ms\n",
      "video 1/1 (frame 2047/2322) /home/hatsu/coding/CapProj/TestSeg_1/video_input/fight_1.mp4: 640x640 (no detections), 13.4ms\n",
      "video 1/1 (frame 2048/2322) /home/hatsu/coding/CapProj/TestSeg_1/video_input/fight_1.mp4: 640x640 1 Fighter, 13.5ms\n",
      "video 1/1 (frame 2049/2322) /home/hatsu/coding/CapProj/TestSeg_1/video_input/fight_1.mp4: 640x640 (no detections), 13.8ms\n",
      "video 1/1 (frame 2050/2322) /home/hatsu/coding/CapProj/TestSeg_1/video_input/fight_1.mp4: 640x640 (no detections), 16.5ms\n",
      "video 1/1 (frame 2051/2322) /home/hatsu/coding/CapProj/TestSeg_1/video_input/fight_1.mp4: 640x640 (no detections), 16.9ms\n",
      "video 1/1 (frame 2052/2322) /home/hatsu/coding/CapProj/TestSeg_1/video_input/fight_1.mp4: 640x640 (no detections), 38.5ms\n",
      "video 1/1 (frame 2053/2322) /home/hatsu/coding/CapProj/TestSeg_1/video_input/fight_1.mp4: 640x640 (no detections), 13.1ms\n",
      "video 1/1 (frame 2054/2322) /home/hatsu/coding/CapProj/TestSeg_1/video_input/fight_1.mp4: 640x640 (no detections), 12.2ms\n",
      "video 1/1 (frame 2055/2322) /home/hatsu/coding/CapProj/TestSeg_1/video_input/fight_1.mp4: 640x640 (no detections), 12.6ms\n",
      "video 1/1 (frame 2056/2322) /home/hatsu/coding/CapProj/TestSeg_1/video_input/fight_1.mp4: 640x640 (no detections), 12.0ms\n",
      "video 1/1 (frame 2057/2322) /home/hatsu/coding/CapProj/TestSeg_1/video_input/fight_1.mp4: 640x640 (no detections), 10.9ms\n",
      "video 1/1 (frame 2058/2322) /home/hatsu/coding/CapProj/TestSeg_1/video_input/fight_1.mp4: 640x640 (no detections), 16.4ms\n",
      "video 1/1 (frame 2059/2322) /home/hatsu/coding/CapProj/TestSeg_1/video_input/fight_1.mp4: 640x640 (no detections), 11.8ms\n",
      "video 1/1 (frame 2060/2322) /home/hatsu/coding/CapProj/TestSeg_1/video_input/fight_1.mp4: 640x640 (no detections), 15.0ms\n",
      "video 1/1 (frame 2061/2322) /home/hatsu/coding/CapProj/TestSeg_1/video_input/fight_1.mp4: 640x640 (no detections), 12.6ms\n",
      "video 1/1 (frame 2062/2322) /home/hatsu/coding/CapProj/TestSeg_1/video_input/fight_1.mp4: 640x640 (no detections), 11.5ms\n",
      "video 1/1 (frame 2063/2322) /home/hatsu/coding/CapProj/TestSeg_1/video_input/fight_1.mp4: 640x640 (no detections), 11.6ms\n",
      "video 1/1 (frame 2064/2322) /home/hatsu/coding/CapProj/TestSeg_1/video_input/fight_1.mp4: 640x640 (no detections), 10.5ms\n",
      "video 1/1 (frame 2065/2322) /home/hatsu/coding/CapProj/TestSeg_1/video_input/fight_1.mp4: 640x640 (no detections), 11.2ms\n",
      "video 1/1 (frame 2066/2322) /home/hatsu/coding/CapProj/TestSeg_1/video_input/fight_1.mp4: 640x640 (no detections), 17.0ms\n",
      "video 1/1 (frame 2067/2322) /home/hatsu/coding/CapProj/TestSeg_1/video_input/fight_1.mp4: 640x640 (no detections), 11.1ms\n",
      "video 1/1 (frame 2068/2322) /home/hatsu/coding/CapProj/TestSeg_1/video_input/fight_1.mp4: 640x640 (no detections), 11.2ms\n",
      "video 1/1 (frame 2069/2322) /home/hatsu/coding/CapProj/TestSeg_1/video_input/fight_1.mp4: 640x640 (no detections), 10.9ms\n",
      "video 1/1 (frame 2070/2322) /home/hatsu/coding/CapProj/TestSeg_1/video_input/fight_1.mp4: 640x640 (no detections), 11.0ms\n",
      "video 1/1 (frame 2071/2322) /home/hatsu/coding/CapProj/TestSeg_1/video_input/fight_1.mp4: 640x640 (no detections), 11.8ms\n",
      "video 1/1 (frame 2072/2322) /home/hatsu/coding/CapProj/TestSeg_1/video_input/fight_1.mp4: 640x640 (no detections), 11.4ms\n",
      "video 1/1 (frame 2073/2322) /home/hatsu/coding/CapProj/TestSeg_1/video_input/fight_1.mp4: 640x640 (no detections), 11.9ms\n",
      "video 1/1 (frame 2074/2322) /home/hatsu/coding/CapProj/TestSeg_1/video_input/fight_1.mp4: 640x640 (no detections), 12.5ms\n",
      "video 1/1 (frame 2075/2322) /home/hatsu/coding/CapProj/TestSeg_1/video_input/fight_1.mp4: 640x640 (no detections), 12.4ms\n",
      "video 1/1 (frame 2076/2322) /home/hatsu/coding/CapProj/TestSeg_1/video_input/fight_1.mp4: 640x640 (no detections), 15.4ms\n",
      "video 1/1 (frame 2077/2322) /home/hatsu/coding/CapProj/TestSeg_1/video_input/fight_1.mp4: 640x640 (no detections), 14.0ms\n",
      "video 1/1 (frame 2078/2322) /home/hatsu/coding/CapProj/TestSeg_1/video_input/fight_1.mp4: 640x640 (no detections), 14.0ms\n",
      "video 1/1 (frame 2079/2322) /home/hatsu/coding/CapProj/TestSeg_1/video_input/fight_1.mp4: 640x640 (no detections), 11.9ms\n",
      "video 1/1 (frame 2080/2322) /home/hatsu/coding/CapProj/TestSeg_1/video_input/fight_1.mp4: 640x640 (no detections), 12.2ms\n",
      "video 1/1 (frame 2081/2322) /home/hatsu/coding/CapProj/TestSeg_1/video_input/fight_1.mp4: 640x640 (no detections), 11.6ms\n",
      "video 1/1 (frame 2082/2322) /home/hatsu/coding/CapProj/TestSeg_1/video_input/fight_1.mp4: 640x640 (no detections), 12.3ms\n",
      "video 1/1 (frame 2083/2322) /home/hatsu/coding/CapProj/TestSeg_1/video_input/fight_1.mp4: 640x640 (no detections), 14.6ms\n",
      "video 1/1 (frame 2084/2322) /home/hatsu/coding/CapProj/TestSeg_1/video_input/fight_1.mp4: 640x640 (no detections), 13.1ms\n",
      "video 1/1 (frame 2085/2322) /home/hatsu/coding/CapProj/TestSeg_1/video_input/fight_1.mp4: 640x640 (no detections), 15.5ms\n",
      "video 1/1 (frame 2086/2322) /home/hatsu/coding/CapProj/TestSeg_1/video_input/fight_1.mp4: 640x640 (no detections), 22.5ms\n",
      "video 1/1 (frame 2087/2322) /home/hatsu/coding/CapProj/TestSeg_1/video_input/fight_1.mp4: 640x640 (no detections), 16.5ms\n",
      "video 1/1 (frame 2088/2322) /home/hatsu/coding/CapProj/TestSeg_1/video_input/fight_1.mp4: 640x640 (no detections), 11.4ms\n",
      "video 1/1 (frame 2089/2322) /home/hatsu/coding/CapProj/TestSeg_1/video_input/fight_1.mp4: 640x640 (no detections), 12.0ms\n",
      "video 1/1 (frame 2090/2322) /home/hatsu/coding/CapProj/TestSeg_1/video_input/fight_1.mp4: 640x640 (no detections), 13.3ms\n",
      "video 1/1 (frame 2091/2322) /home/hatsu/coding/CapProj/TestSeg_1/video_input/fight_1.mp4: 640x640 (no detections), 11.6ms\n",
      "video 1/1 (frame 2092/2322) /home/hatsu/coding/CapProj/TestSeg_1/video_input/fight_1.mp4: 640x640 (no detections), 12.6ms\n",
      "video 1/1 (frame 2093/2322) /home/hatsu/coding/CapProj/TestSeg_1/video_input/fight_1.mp4: 640x640 (no detections), 11.4ms\n",
      "video 1/1 (frame 2094/2322) /home/hatsu/coding/CapProj/TestSeg_1/video_input/fight_1.mp4: 640x640 1 Fighter, 11.7ms\n",
      "video 1/1 (frame 2095/2322) /home/hatsu/coding/CapProj/TestSeg_1/video_input/fight_1.mp4: 640x640 2 Fighters, 12.1ms\n",
      "video 1/1 (frame 2096/2322) /home/hatsu/coding/CapProj/TestSeg_1/video_input/fight_1.mp4: 640x640 2 Fighters, 11.6ms\n",
      "video 1/1 (frame 2097/2322) /home/hatsu/coding/CapProj/TestSeg_1/video_input/fight_1.mp4: 640x640 2 Fighters, 12.0ms\n",
      "video 1/1 (frame 2098/2322) /home/hatsu/coding/CapProj/TestSeg_1/video_input/fight_1.mp4: 640x640 2 Fighters, 12.6ms\n",
      "video 1/1 (frame 2099/2322) /home/hatsu/coding/CapProj/TestSeg_1/video_input/fight_1.mp4: 640x640 2 Fighters, 11.8ms\n",
      "video 1/1 (frame 2100/2322) /home/hatsu/coding/CapProj/TestSeg_1/video_input/fight_1.mp4: 640x640 2 Fighters, 11.2ms\n",
      "video 1/1 (frame 2101/2322) /home/hatsu/coding/CapProj/TestSeg_1/video_input/fight_1.mp4: 640x640 1 Fighter, 11.6ms\n",
      "video 1/1 (frame 2102/2322) /home/hatsu/coding/CapProj/TestSeg_1/video_input/fight_1.mp4: 640x640 1 Fighter, 12.6ms\n",
      "video 1/1 (frame 2103/2322) /home/hatsu/coding/CapProj/TestSeg_1/video_input/fight_1.mp4: 640x640 1 Fighter, 13.5ms\n",
      "video 1/1 (frame 2104/2322) /home/hatsu/coding/CapProj/TestSeg_1/video_input/fight_1.mp4: 640x640 (no detections), 11.5ms\n",
      "video 1/1 (frame 2105/2322) /home/hatsu/coding/CapProj/TestSeg_1/video_input/fight_1.mp4: 640x640 1 Fighter, 11.0ms\n",
      "video 1/1 (frame 2106/2322) /home/hatsu/coding/CapProj/TestSeg_1/video_input/fight_1.mp4: 640x640 (no detections), 12.9ms\n",
      "video 1/1 (frame 2107/2322) /home/hatsu/coding/CapProj/TestSeg_1/video_input/fight_1.mp4: 640x640 (no detections), 11.4ms\n",
      "video 1/1 (frame 2108/2322) /home/hatsu/coding/CapProj/TestSeg_1/video_input/fight_1.mp4: 640x640 (no detections), 11.2ms\n",
      "video 1/1 (frame 2109/2322) /home/hatsu/coding/CapProj/TestSeg_1/video_input/fight_1.mp4: 640x640 (no detections), 12.8ms\n",
      "video 1/1 (frame 2110/2322) /home/hatsu/coding/CapProj/TestSeg_1/video_input/fight_1.mp4: 640x640 (no detections), 11.0ms\n",
      "video 1/1 (frame 2111/2322) /home/hatsu/coding/CapProj/TestSeg_1/video_input/fight_1.mp4: 640x640 (no detections), 11.1ms\n",
      "video 1/1 (frame 2112/2322) /home/hatsu/coding/CapProj/TestSeg_1/video_input/fight_1.mp4: 640x640 (no detections), 11.4ms\n",
      "video 1/1 (frame 2113/2322) /home/hatsu/coding/CapProj/TestSeg_1/video_input/fight_1.mp4: 640x640 (no detections), 10.6ms\n",
      "video 1/1 (frame 2114/2322) /home/hatsu/coding/CapProj/TestSeg_1/video_input/fight_1.mp4: 640x640 (no detections), 12.3ms\n",
      "video 1/1 (frame 2115/2322) /home/hatsu/coding/CapProj/TestSeg_1/video_input/fight_1.mp4: 640x640 (no detections), 11.3ms\n",
      "video 1/1 (frame 2116/2322) /home/hatsu/coding/CapProj/TestSeg_1/video_input/fight_1.mp4: 640x640 (no detections), 11.4ms\n",
      "video 1/1 (frame 2117/2322) /home/hatsu/coding/CapProj/TestSeg_1/video_input/fight_1.mp4: 640x640 (no detections), 11.7ms\n",
      "video 1/1 (frame 2118/2322) /home/hatsu/coding/CapProj/TestSeg_1/video_input/fight_1.mp4: 640x640 (no detections), 21.3ms\n",
      "video 1/1 (frame 2119/2322) /home/hatsu/coding/CapProj/TestSeg_1/video_input/fight_1.mp4: 640x640 (no detections), 14.6ms\n",
      "video 1/1 (frame 2120/2322) /home/hatsu/coding/CapProj/TestSeg_1/video_input/fight_1.mp4: 640x640 (no detections), 12.3ms\n",
      "video 1/1 (frame 2121/2322) /home/hatsu/coding/CapProj/TestSeg_1/video_input/fight_1.mp4: 640x640 (no detections), 11.7ms\n",
      "video 1/1 (frame 2122/2322) /home/hatsu/coding/CapProj/TestSeg_1/video_input/fight_1.mp4: 640x640 (no detections), 11.8ms\n",
      "video 1/1 (frame 2123/2322) /home/hatsu/coding/CapProj/TestSeg_1/video_input/fight_1.mp4: 640x640 (no detections), 13.0ms\n",
      "video 1/1 (frame 2124/2322) /home/hatsu/coding/CapProj/TestSeg_1/video_input/fight_1.mp4: 640x640 (no detections), 13.8ms\n",
      "video 1/1 (frame 2125/2322) /home/hatsu/coding/CapProj/TestSeg_1/video_input/fight_1.mp4: 640x640 (no detections), 11.8ms\n",
      "video 1/1 (frame 2126/2322) /home/hatsu/coding/CapProj/TestSeg_1/video_input/fight_1.mp4: 640x640 (no detections), 11.7ms\n",
      "video 1/1 (frame 2127/2322) /home/hatsu/coding/CapProj/TestSeg_1/video_input/fight_1.mp4: 640x640 (no detections), 11.2ms\n",
      "video 1/1 (frame 2128/2322) /home/hatsu/coding/CapProj/TestSeg_1/video_input/fight_1.mp4: 640x640 (no detections), 12.0ms\n",
      "video 1/1 (frame 2129/2322) /home/hatsu/coding/CapProj/TestSeg_1/video_input/fight_1.mp4: 640x640 (no detections), 11.9ms\n",
      "video 1/1 (frame 2130/2322) /home/hatsu/coding/CapProj/TestSeg_1/video_input/fight_1.mp4: 640x640 (no detections), 11.9ms\n",
      "video 1/1 (frame 2131/2322) /home/hatsu/coding/CapProj/TestSeg_1/video_input/fight_1.mp4: 640x640 (no detections), 12.0ms\n",
      "video 1/1 (frame 2132/2322) /home/hatsu/coding/CapProj/TestSeg_1/video_input/fight_1.mp4: 640x640 (no detections), 12.1ms\n",
      "video 1/1 (frame 2133/2322) /home/hatsu/coding/CapProj/TestSeg_1/video_input/fight_1.mp4: 640x640 (no detections), 12.0ms\n",
      "video 1/1 (frame 2134/2322) /home/hatsu/coding/CapProj/TestSeg_1/video_input/fight_1.mp4: 640x640 (no detections), 12.6ms\n",
      "video 1/1 (frame 2135/2322) /home/hatsu/coding/CapProj/TestSeg_1/video_input/fight_1.mp4: 640x640 (no detections), 12.9ms\n",
      "video 1/1 (frame 2136/2322) /home/hatsu/coding/CapProj/TestSeg_1/video_input/fight_1.mp4: 640x640 (no detections), 13.2ms\n",
      "video 1/1 (frame 2137/2322) /home/hatsu/coding/CapProj/TestSeg_1/video_input/fight_1.mp4: 640x640 (no detections), 10.8ms\n",
      "video 1/1 (frame 2138/2322) /home/hatsu/coding/CapProj/TestSeg_1/video_input/fight_1.mp4: 640x640 (no detections), 12.3ms\n",
      "video 1/1 (frame 2139/2322) /home/hatsu/coding/CapProj/TestSeg_1/video_input/fight_1.mp4: 640x640 (no detections), 15.4ms\n",
      "video 1/1 (frame 2140/2322) /home/hatsu/coding/CapProj/TestSeg_1/video_input/fight_1.mp4: 640x640 (no detections), 11.9ms\n",
      "video 1/1 (frame 2141/2322) /home/hatsu/coding/CapProj/TestSeg_1/video_input/fight_1.mp4: 640x640 (no detections), 11.8ms\n",
      "video 1/1 (frame 2142/2322) /home/hatsu/coding/CapProj/TestSeg_1/video_input/fight_1.mp4: 640x640 (no detections), 14.7ms\n",
      "video 1/1 (frame 2143/2322) /home/hatsu/coding/CapProj/TestSeg_1/video_input/fight_1.mp4: 640x640 (no detections), 12.3ms\n",
      "video 1/1 (frame 2144/2322) /home/hatsu/coding/CapProj/TestSeg_1/video_input/fight_1.mp4: 640x640 (no detections), 11.7ms\n",
      "video 1/1 (frame 2145/2322) /home/hatsu/coding/CapProj/TestSeg_1/video_input/fight_1.mp4: 640x640 1 Fighter, 13.9ms\n",
      "video 1/1 (frame 2146/2322) /home/hatsu/coding/CapProj/TestSeg_1/video_input/fight_1.mp4: 640x640 1 Fighter, 13.1ms\n",
      "video 1/1 (frame 2147/2322) /home/hatsu/coding/CapProj/TestSeg_1/video_input/fight_1.mp4: 640x640 2 Fighters, 36.8ms\n",
      "video 1/1 (frame 2148/2322) /home/hatsu/coding/CapProj/TestSeg_1/video_input/fight_1.mp4: 640x640 (no detections), 13.1ms\n",
      "video 1/1 (frame 2149/2322) /home/hatsu/coding/CapProj/TestSeg_1/video_input/fight_1.mp4: 640x640 (no detections), 11.4ms\n",
      "video 1/1 (frame 2150/2322) /home/hatsu/coding/CapProj/TestSeg_1/video_input/fight_1.mp4: 640x640 (no detections), 16.9ms\n",
      "video 1/1 (frame 2151/2322) /home/hatsu/coding/CapProj/TestSeg_1/video_input/fight_1.mp4: 640x640 (no detections), 11.6ms\n",
      "video 1/1 (frame 2152/2322) /home/hatsu/coding/CapProj/TestSeg_1/video_input/fight_1.mp4: 640x640 (no detections), 11.6ms\n",
      "video 1/1 (frame 2153/2322) /home/hatsu/coding/CapProj/TestSeg_1/video_input/fight_1.mp4: 640x640 (no detections), 12.5ms\n",
      "video 1/1 (frame 2154/2322) /home/hatsu/coding/CapProj/TestSeg_1/video_input/fight_1.mp4: 640x640 (no detections), 10.8ms\n",
      "video 1/1 (frame 2155/2322) /home/hatsu/coding/CapProj/TestSeg_1/video_input/fight_1.mp4: 640x640 (no detections), 11.7ms\n",
      "video 1/1 (frame 2156/2322) /home/hatsu/coding/CapProj/TestSeg_1/video_input/fight_1.mp4: 640x640 (no detections), 11.2ms\n",
      "video 1/1 (frame 2157/2322) /home/hatsu/coding/CapProj/TestSeg_1/video_input/fight_1.mp4: 640x640 (no detections), 11.5ms\n",
      "video 1/1 (frame 2158/2322) /home/hatsu/coding/CapProj/TestSeg_1/video_input/fight_1.mp4: 640x640 (no detections), 11.4ms\n",
      "video 1/1 (frame 2159/2322) /home/hatsu/coding/CapProj/TestSeg_1/video_input/fight_1.mp4: 640x640 (no detections), 14.3ms\n",
      "video 1/1 (frame 2160/2322) /home/hatsu/coding/CapProj/TestSeg_1/video_input/fight_1.mp4: 640x640 (no detections), 11.7ms\n",
      "video 1/1 (frame 2161/2322) /home/hatsu/coding/CapProj/TestSeg_1/video_input/fight_1.mp4: 640x640 (no detections), 12.0ms\n",
      "video 1/1 (frame 2162/2322) /home/hatsu/coding/CapProj/TestSeg_1/video_input/fight_1.mp4: 640x640 (no detections), 11.3ms\n",
      "video 1/1 (frame 2163/2322) /home/hatsu/coding/CapProj/TestSeg_1/video_input/fight_1.mp4: 640x640 (no detections), 12.7ms\n",
      "video 1/1 (frame 2164/2322) /home/hatsu/coding/CapProj/TestSeg_1/video_input/fight_1.mp4: 640x640 (no detections), 11.4ms\n",
      "video 1/1 (frame 2165/2322) /home/hatsu/coding/CapProj/TestSeg_1/video_input/fight_1.mp4: 640x640 (no detections), 12.5ms\n",
      "video 1/1 (frame 2166/2322) /home/hatsu/coding/CapProj/TestSeg_1/video_input/fight_1.mp4: 640x640 (no detections), 29.8ms\n",
      "video 1/1 (frame 2167/2322) /home/hatsu/coding/CapProj/TestSeg_1/video_input/fight_1.mp4: 640x640 (no detections), 11.6ms\n",
      "video 1/1 (frame 2168/2322) /home/hatsu/coding/CapProj/TestSeg_1/video_input/fight_1.mp4: 640x640 (no detections), 12.9ms\n",
      "video 1/1 (frame 2169/2322) /home/hatsu/coding/CapProj/TestSeg_1/video_input/fight_1.mp4: 640x640 1 Fighter, 12.7ms\n",
      "video 1/1 (frame 2170/2322) /home/hatsu/coding/CapProj/TestSeg_1/video_input/fight_1.mp4: 640x640 (no detections), 12.4ms\n",
      "video 1/1 (frame 2171/2322) /home/hatsu/coding/CapProj/TestSeg_1/video_input/fight_1.mp4: 640x640 (no detections), 11.7ms\n",
      "video 1/1 (frame 2172/2322) /home/hatsu/coding/CapProj/TestSeg_1/video_input/fight_1.mp4: 640x640 (no detections), 14.4ms\n",
      "video 1/1 (frame 2173/2322) /home/hatsu/coding/CapProj/TestSeg_1/video_input/fight_1.mp4: 640x640 (no detections), 11.7ms\n",
      "video 1/1 (frame 2174/2322) /home/hatsu/coding/CapProj/TestSeg_1/video_input/fight_1.mp4: 640x640 (no detections), 13.8ms\n",
      "video 1/1 (frame 2175/2322) /home/hatsu/coding/CapProj/TestSeg_1/video_input/fight_1.mp4: 640x640 1 Fighter, 19.2ms\n",
      "video 1/1 (frame 2176/2322) /home/hatsu/coding/CapProj/TestSeg_1/video_input/fight_1.mp4: 640x640 2 Fighters, 13.0ms\n",
      "video 1/1 (frame 2177/2322) /home/hatsu/coding/CapProj/TestSeg_1/video_input/fight_1.mp4: 640x640 2 Fighters, 11.9ms\n",
      "video 1/1 (frame 2178/2322) /home/hatsu/coding/CapProj/TestSeg_1/video_input/fight_1.mp4: 640x640 1 Fighter, 13.8ms\n",
      "video 1/1 (frame 2179/2322) /home/hatsu/coding/CapProj/TestSeg_1/video_input/fight_1.mp4: 640x640 1 Fighter, 11.4ms\n",
      "video 1/1 (frame 2180/2322) /home/hatsu/coding/CapProj/TestSeg_1/video_input/fight_1.mp4: 640x640 1 Fighter, 11.7ms\n",
      "video 1/1 (frame 2181/2322) /home/hatsu/coding/CapProj/TestSeg_1/video_input/fight_1.mp4: 640x640 1 Fighter, 12.2ms\n",
      "video 1/1 (frame 2182/2322) /home/hatsu/coding/CapProj/TestSeg_1/video_input/fight_1.mp4: 640x640 1 Fighter, 13.9ms\n",
      "video 1/1 (frame 2183/2322) /home/hatsu/coding/CapProj/TestSeg_1/video_input/fight_1.mp4: 640x640 (no detections), 26.4ms\n",
      "video 1/1 (frame 2184/2322) /home/hatsu/coding/CapProj/TestSeg_1/video_input/fight_1.mp4: 640x640 (no detections), 14.4ms\n",
      "video 1/1 (frame 2185/2322) /home/hatsu/coding/CapProj/TestSeg_1/video_input/fight_1.mp4: 640x640 1 Fighter, 11.6ms\n",
      "video 1/1 (frame 2186/2322) /home/hatsu/coding/CapProj/TestSeg_1/video_input/fight_1.mp4: 640x640 1 Fighter, 11.8ms\n",
      "video 1/1 (frame 2187/2322) /home/hatsu/coding/CapProj/TestSeg_1/video_input/fight_1.mp4: 640x640 1 Fighter, 12.0ms\n",
      "video 1/1 (frame 2188/2322) /home/hatsu/coding/CapProj/TestSeg_1/video_input/fight_1.mp4: 640x640 (no detections), 11.8ms\n",
      "video 1/1 (frame 2189/2322) /home/hatsu/coding/CapProj/TestSeg_1/video_input/fight_1.mp4: 640x640 (no detections), 12.3ms\n",
      "video 1/1 (frame 2190/2322) /home/hatsu/coding/CapProj/TestSeg_1/video_input/fight_1.mp4: 640x640 1 Fighter, 15.5ms\n",
      "video 1/1 (frame 2191/2322) /home/hatsu/coding/CapProj/TestSeg_1/video_input/fight_1.mp4: 640x640 2 Fighters, 14.8ms\n",
      "video 1/1 (frame 2192/2322) /home/hatsu/coding/CapProj/TestSeg_1/video_input/fight_1.mp4: 640x640 1 Fighter, 11.5ms\n",
      "video 1/1 (frame 2193/2322) /home/hatsu/coding/CapProj/TestSeg_1/video_input/fight_1.mp4: 640x640 (no detections), 12.9ms\n",
      "video 1/1 (frame 2194/2322) /home/hatsu/coding/CapProj/TestSeg_1/video_input/fight_1.mp4: 640x640 (no detections), 10.9ms\n",
      "video 1/1 (frame 2195/2322) /home/hatsu/coding/CapProj/TestSeg_1/video_input/fight_1.mp4: 640x640 1 Fighter, 13.6ms\n",
      "video 1/1 (frame 2196/2322) /home/hatsu/coding/CapProj/TestSeg_1/video_input/fight_1.mp4: 640x640 1 Fighter, 13.9ms\n",
      "video 1/1 (frame 2197/2322) /home/hatsu/coding/CapProj/TestSeg_1/video_input/fight_1.mp4: 640x640 1 Fighter, 12.3ms\n",
      "video 1/1 (frame 2198/2322) /home/hatsu/coding/CapProj/TestSeg_1/video_input/fight_1.mp4: 640x640 (no detections), 13.4ms\n",
      "video 1/1 (frame 2199/2322) /home/hatsu/coding/CapProj/TestSeg_1/video_input/fight_1.mp4: 640x640 (no detections), 11.3ms\n",
      "video 1/1 (frame 2200/2322) /home/hatsu/coding/CapProj/TestSeg_1/video_input/fight_1.mp4: 640x640 1 Fighter, 11.5ms\n",
      "video 1/1 (frame 2201/2322) /home/hatsu/coding/CapProj/TestSeg_1/video_input/fight_1.mp4: 640x640 1 Fighter, 12.1ms\n",
      "video 1/1 (frame 2202/2322) /home/hatsu/coding/CapProj/TestSeg_1/video_input/fight_1.mp4: 640x640 1 Fighter, 11.9ms\n",
      "video 1/1 (frame 2203/2322) /home/hatsu/coding/CapProj/TestSeg_1/video_input/fight_1.mp4: 640x640 (no detections), 12.1ms\n",
      "video 1/1 (frame 2204/2322) /home/hatsu/coding/CapProj/TestSeg_1/video_input/fight_1.mp4: 640x640 (no detections), 12.2ms\n",
      "video 1/1 (frame 2205/2322) /home/hatsu/coding/CapProj/TestSeg_1/video_input/fight_1.mp4: 640x640 1 Fighter, 22.2ms\n",
      "video 1/1 (frame 2206/2322) /home/hatsu/coding/CapProj/TestSeg_1/video_input/fight_1.mp4: 640x640 (no detections), 19.1ms\n",
      "video 1/1 (frame 2207/2322) /home/hatsu/coding/CapProj/TestSeg_1/video_input/fight_1.mp4: 640x640 (no detections), 11.7ms\n",
      "video 1/1 (frame 2208/2322) /home/hatsu/coding/CapProj/TestSeg_1/video_input/fight_1.mp4: 640x640 (no detections), 12.8ms\n",
      "video 1/1 (frame 2209/2322) /home/hatsu/coding/CapProj/TestSeg_1/video_input/fight_1.mp4: 640x640 (no detections), 11.4ms\n",
      "video 1/1 (frame 2210/2322) /home/hatsu/coding/CapProj/TestSeg_1/video_input/fight_1.mp4: 640x640 (no detections), 11.9ms\n",
      "video 1/1 (frame 2211/2322) /home/hatsu/coding/CapProj/TestSeg_1/video_input/fight_1.mp4: 640x640 1 Fighter, 11.9ms\n",
      "video 1/1 (frame 2212/2322) /home/hatsu/coding/CapProj/TestSeg_1/video_input/fight_1.mp4: 640x640 1 Fighter, 12.2ms\n",
      "video 1/1 (frame 2213/2322) /home/hatsu/coding/CapProj/TestSeg_1/video_input/fight_1.mp4: 640x640 (no detections), 11.8ms\n",
      "video 1/1 (frame 2214/2322) /home/hatsu/coding/CapProj/TestSeg_1/video_input/fight_1.mp4: 640x640 (no detections), 11.6ms\n",
      "video 1/1 (frame 2215/2322) /home/hatsu/coding/CapProj/TestSeg_1/video_input/fight_1.mp4: 640x640 (no detections), 11.8ms\n",
      "video 1/1 (frame 2216/2322) /home/hatsu/coding/CapProj/TestSeg_1/video_input/fight_1.mp4: 640x640 (no detections), 13.9ms\n",
      "video 1/1 (frame 2217/2322) /home/hatsu/coding/CapProj/TestSeg_1/video_input/fight_1.mp4: 640x640 1 Fighter, 11.4ms\n",
      "video 1/1 (frame 2218/2322) /home/hatsu/coding/CapProj/TestSeg_1/video_input/fight_1.mp4: 640x640 (no detections), 12.2ms\n",
      "video 1/1 (frame 2219/2322) /home/hatsu/coding/CapProj/TestSeg_1/video_input/fight_1.mp4: 640x640 1 Fighter, 11.9ms\n",
      "video 1/1 (frame 2220/2322) /home/hatsu/coding/CapProj/TestSeg_1/video_input/fight_1.mp4: 640x640 1 Fighter, 13.2ms\n",
      "video 1/1 (frame 2221/2322) /home/hatsu/coding/CapProj/TestSeg_1/video_input/fight_1.mp4: 640x640 (no detections), 12.6ms\n",
      "video 1/1 (frame 2222/2322) /home/hatsu/coding/CapProj/TestSeg_1/video_input/fight_1.mp4: 640x640 1 Fighter, 11.3ms\n",
      "video 1/1 (frame 2223/2322) /home/hatsu/coding/CapProj/TestSeg_1/video_input/fight_1.mp4: 640x640 (no detections), 17.0ms\n",
      "video 1/1 (frame 2224/2322) /home/hatsu/coding/CapProj/TestSeg_1/video_input/fight_1.mp4: 640x640 (no detections), 10.5ms\n",
      "video 1/1 (frame 2225/2322) /home/hatsu/coding/CapProj/TestSeg_1/video_input/fight_1.mp4: 640x640 1 Fighter, 11.7ms\n",
      "video 1/1 (frame 2226/2322) /home/hatsu/coding/CapProj/TestSeg_1/video_input/fight_1.mp4: 640x640 1 Fighter, 12.0ms\n",
      "video 1/1 (frame 2227/2322) /home/hatsu/coding/CapProj/TestSeg_1/video_input/fight_1.mp4: 640x640 (no detections), 13.7ms\n",
      "video 1/1 (frame 2228/2322) /home/hatsu/coding/CapProj/TestSeg_1/video_input/fight_1.mp4: 640x640 (no detections), 13.3ms\n",
      "video 1/1 (frame 2229/2322) /home/hatsu/coding/CapProj/TestSeg_1/video_input/fight_1.mp4: 640x640 (no detections), 14.3ms\n",
      "video 1/1 (frame 2230/2322) /home/hatsu/coding/CapProj/TestSeg_1/video_input/fight_1.mp4: 640x640 (no detections), 11.0ms\n",
      "video 1/1 (frame 2231/2322) /home/hatsu/coding/CapProj/TestSeg_1/video_input/fight_1.mp4: 640x640 (no detections), 11.9ms\n",
      "video 1/1 (frame 2232/2322) /home/hatsu/coding/CapProj/TestSeg_1/video_input/fight_1.mp4: 640x640 (no detections), 13.0ms\n",
      "video 1/1 (frame 2233/2322) /home/hatsu/coding/CapProj/TestSeg_1/video_input/fight_1.mp4: 640x640 (no detections), 13.3ms\n",
      "video 1/1 (frame 2234/2322) /home/hatsu/coding/CapProj/TestSeg_1/video_input/fight_1.mp4: 640x640 (no detections), 17.8ms\n",
      "video 1/1 (frame 2235/2322) /home/hatsu/coding/CapProj/TestSeg_1/video_input/fight_1.mp4: 640x640 (no detections), 13.0ms\n",
      "video 1/1 (frame 2236/2322) /home/hatsu/coding/CapProj/TestSeg_1/video_input/fight_1.mp4: 640x640 (no detections), 12.0ms\n",
      "video 1/1 (frame 2237/2322) /home/hatsu/coding/CapProj/TestSeg_1/video_input/fight_1.mp4: 640x640 (no detections), 11.9ms\n",
      "video 1/1 (frame 2238/2322) /home/hatsu/coding/CapProj/TestSeg_1/video_input/fight_1.mp4: 640x640 (no detections), 12.3ms\n",
      "video 1/1 (frame 2239/2322) /home/hatsu/coding/CapProj/TestSeg_1/video_input/fight_1.mp4: 640x640 (no detections), 14.3ms\n",
      "video 1/1 (frame 2240/2322) /home/hatsu/coding/CapProj/TestSeg_1/video_input/fight_1.mp4: 640x640 (no detections), 12.2ms\n",
      "video 1/1 (frame 2241/2322) /home/hatsu/coding/CapProj/TestSeg_1/video_input/fight_1.mp4: 640x640 (no detections), 13.8ms\n",
      "video 1/1 (frame 2242/2322) /home/hatsu/coding/CapProj/TestSeg_1/video_input/fight_1.mp4: 640x640 (no detections), 11.6ms\n",
      "video 1/1 (frame 2243/2322) /home/hatsu/coding/CapProj/TestSeg_1/video_input/fight_1.mp4: 640x640 (no detections), 12.5ms\n",
      "video 1/1 (frame 2244/2322) /home/hatsu/coding/CapProj/TestSeg_1/video_input/fight_1.mp4: 640x640 (no detections), 12.6ms\n",
      "video 1/1 (frame 2245/2322) /home/hatsu/coding/CapProj/TestSeg_1/video_input/fight_1.mp4: 640x640 (no detections), 13.2ms\n",
      "video 1/1 (frame 2246/2322) /home/hatsu/coding/CapProj/TestSeg_1/video_input/fight_1.mp4: 640x640 (no detections), 11.8ms\n",
      "video 1/1 (frame 2247/2322) /home/hatsu/coding/CapProj/TestSeg_1/video_input/fight_1.mp4: 640x640 (no detections), 11.8ms\n",
      "video 1/1 (frame 2248/2322) /home/hatsu/coding/CapProj/TestSeg_1/video_input/fight_1.mp4: 640x640 1 Fighter, 12.7ms\n",
      "video 1/1 (frame 2249/2322) /home/hatsu/coding/CapProj/TestSeg_1/video_input/fight_1.mp4: 640x640 1 Fighter, 13.7ms\n",
      "video 1/1 (frame 2250/2322) /home/hatsu/coding/CapProj/TestSeg_1/video_input/fight_1.mp4: 640x640 (no detections), 13.1ms\n",
      "video 1/1 (frame 2251/2322) /home/hatsu/coding/CapProj/TestSeg_1/video_input/fight_1.mp4: 640x640 (no detections), 11.1ms\n",
      "video 1/1 (frame 2252/2322) /home/hatsu/coding/CapProj/TestSeg_1/video_input/fight_1.mp4: 640x640 (no detections), 11.6ms\n",
      "video 1/1 (frame 2253/2322) /home/hatsu/coding/CapProj/TestSeg_1/video_input/fight_1.mp4: 640x640 (no detections), 13.8ms\n",
      "video 1/1 (frame 2254/2322) /home/hatsu/coding/CapProj/TestSeg_1/video_input/fight_1.mp4: 640x640 (no detections), 11.7ms\n",
      "video 1/1 (frame 2255/2322) /home/hatsu/coding/CapProj/TestSeg_1/video_input/fight_1.mp4: 640x640 (no detections), 13.3ms\n",
      "video 1/1 (frame 2256/2322) /home/hatsu/coding/CapProj/TestSeg_1/video_input/fight_1.mp4: 640x640 (no detections), 12.3ms\n",
      "video 1/1 (frame 2257/2322) /home/hatsu/coding/CapProj/TestSeg_1/video_input/fight_1.mp4: 640x640 (no detections), 12.7ms\n",
      "video 1/1 (frame 2258/2322) /home/hatsu/coding/CapProj/TestSeg_1/video_input/fight_1.mp4: 640x640 (no detections), 10.8ms\n",
      "video 1/1 (frame 2259/2322) /home/hatsu/coding/CapProj/TestSeg_1/video_input/fight_1.mp4: 640x640 (no detections), 10.9ms\n",
      "video 1/1 (frame 2260/2322) /home/hatsu/coding/CapProj/TestSeg_1/video_input/fight_1.mp4: 640x640 1 Fighter, 12.7ms\n",
      "video 1/1 (frame 2261/2322) /home/hatsu/coding/CapProj/TestSeg_1/video_input/fight_1.mp4: 640x640 (no detections), 13.7ms\n",
      "video 1/1 (frame 2262/2322) /home/hatsu/coding/CapProj/TestSeg_1/video_input/fight_1.mp4: 640x640 (no detections), 12.4ms\n",
      "video 1/1 (frame 2263/2322) /home/hatsu/coding/CapProj/TestSeg_1/video_input/fight_1.mp4: 640x640 (no detections), 11.8ms\n",
      "video 1/1 (frame 2264/2322) /home/hatsu/coding/CapProj/TestSeg_1/video_input/fight_1.mp4: 640x640 (no detections), 11.6ms\n",
      "video 1/1 (frame 2265/2322) /home/hatsu/coding/CapProj/TestSeg_1/video_input/fight_1.mp4: 640x640 (no detections), 12.4ms\n",
      "video 1/1 (frame 2266/2322) /home/hatsu/coding/CapProj/TestSeg_1/video_input/fight_1.mp4: 640x640 1 Fighter, 19.1ms\n",
      "video 1/1 (frame 2267/2322) /home/hatsu/coding/CapProj/TestSeg_1/video_input/fight_1.mp4: 640x640 1 Fighter, 11.6ms\n",
      "video 1/1 (frame 2268/2322) /home/hatsu/coding/CapProj/TestSeg_1/video_input/fight_1.mp4: 640x640 (no detections), 13.5ms\n",
      "video 1/1 (frame 2269/2322) /home/hatsu/coding/CapProj/TestSeg_1/video_input/fight_1.mp4: 640x640 (no detections), 12.4ms\n",
      "video 1/1 (frame 2270/2322) /home/hatsu/coding/CapProj/TestSeg_1/video_input/fight_1.mp4: 640x640 1 Fighter, 12.3ms\n",
      "video 1/1 (frame 2271/2322) /home/hatsu/coding/CapProj/TestSeg_1/video_input/fight_1.mp4: 640x640 (no detections), 11.4ms\n",
      "video 1/1 (frame 2272/2322) /home/hatsu/coding/CapProj/TestSeg_1/video_input/fight_1.mp4: 640x640 (no detections), 14.6ms\n",
      "video 1/1 (frame 2273/2322) /home/hatsu/coding/CapProj/TestSeg_1/video_input/fight_1.mp4: 640x640 (no detections), 17.2ms\n",
      "video 1/1 (frame 2274/2322) /home/hatsu/coding/CapProj/TestSeg_1/video_input/fight_1.mp4: 640x640 (no detections), 12.7ms\n",
      "video 1/1 (frame 2275/2322) /home/hatsu/coding/CapProj/TestSeg_1/video_input/fight_1.mp4: 640x640 (no detections), 12.4ms\n",
      "video 1/1 (frame 2276/2322) /home/hatsu/coding/CapProj/TestSeg_1/video_input/fight_1.mp4: 640x640 (no detections), 12.2ms\n",
      "video 1/1 (frame 2277/2322) /home/hatsu/coding/CapProj/TestSeg_1/video_input/fight_1.mp4: 640x640 1 Fighter, 11.3ms\n",
      "video 1/1 (frame 2278/2322) /home/hatsu/coding/CapProj/TestSeg_1/video_input/fight_1.mp4: 640x640 (no detections), 11.6ms\n",
      "video 1/1 (frame 2279/2322) /home/hatsu/coding/CapProj/TestSeg_1/video_input/fight_1.mp4: 640x640 (no detections), 11.8ms\n",
      "video 1/1 (frame 2280/2322) /home/hatsu/coding/CapProj/TestSeg_1/video_input/fight_1.mp4: 640x640 1 Fighter, 11.4ms\n",
      "video 1/1 (frame 2281/2322) /home/hatsu/coding/CapProj/TestSeg_1/video_input/fight_1.mp4: 640x640 (no detections), 13.4ms\n",
      "video 1/1 (frame 2282/2322) /home/hatsu/coding/CapProj/TestSeg_1/video_input/fight_1.mp4: 640x640 1 Fighter, 13.5ms\n",
      "video 1/1 (frame 2283/2322) /home/hatsu/coding/CapProj/TestSeg_1/video_input/fight_1.mp4: 640x640 (no detections), 13.1ms\n",
      "video 1/1 (frame 2284/2322) /home/hatsu/coding/CapProj/TestSeg_1/video_input/fight_1.mp4: 640x640 (no detections), 11.3ms\n",
      "video 1/1 (frame 2285/2322) /home/hatsu/coding/CapProj/TestSeg_1/video_input/fight_1.mp4: 640x640 1 Fighter, 10.8ms\n",
      "video 1/1 (frame 2286/2322) /home/hatsu/coding/CapProj/TestSeg_1/video_input/fight_1.mp4: 640x640 2 Fighters, 14.0ms\n",
      "video 1/1 (frame 2287/2322) /home/hatsu/coding/CapProj/TestSeg_1/video_input/fight_1.mp4: 640x640 1 Fighter, 13.6ms\n",
      "video 1/1 (frame 2288/2322) /home/hatsu/coding/CapProj/TestSeg_1/video_input/fight_1.mp4: 640x640 1 Fighter, 13.8ms\n",
      "video 1/1 (frame 2289/2322) /home/hatsu/coding/CapProj/TestSeg_1/video_input/fight_1.mp4: 640x640 1 Fighter, 14.3ms\n",
      "video 1/1 (frame 2290/2322) /home/hatsu/coding/CapProj/TestSeg_1/video_input/fight_1.mp4: 640x640 1 Fighter, 13.3ms\n",
      "video 1/1 (frame 2291/2322) /home/hatsu/coding/CapProj/TestSeg_1/video_input/fight_1.mp4: 640x640 1 Fighter, 14.0ms\n",
      "video 1/1 (frame 2292/2322) /home/hatsu/coding/CapProj/TestSeg_1/video_input/fight_1.mp4: 640x640 1 Fighter, 11.4ms\n",
      "video 1/1 (frame 2293/2322) /home/hatsu/coding/CapProj/TestSeg_1/video_input/fight_1.mp4: 640x640 (no detections), 11.3ms\n",
      "video 1/1 (frame 2294/2322) /home/hatsu/coding/CapProj/TestSeg_1/video_input/fight_1.mp4: 640x640 (no detections), 12.1ms\n",
      "video 1/1 (frame 2295/2322) /home/hatsu/coding/CapProj/TestSeg_1/video_input/fight_1.mp4: 640x640 1 Fighter, 14.2ms\n",
      "video 1/1 (frame 2296/2322) /home/hatsu/coding/CapProj/TestSeg_1/video_input/fight_1.mp4: 640x640 1 Fighter, 22.2ms\n",
      "video 1/1 (frame 2297/2322) /home/hatsu/coding/CapProj/TestSeg_1/video_input/fight_1.mp4: 640x640 1 Fighter, 14.2ms\n",
      "video 1/1 (frame 2298/2322) /home/hatsu/coding/CapProj/TestSeg_1/video_input/fight_1.mp4: 640x640 1 Fighter, 13.7ms\n",
      "video 1/1 (frame 2299/2322) /home/hatsu/coding/CapProj/TestSeg_1/video_input/fight_1.mp4: 640x640 1 Fighter, 14.0ms\n",
      "video 1/1 (frame 2300/2322) /home/hatsu/coding/CapProj/TestSeg_1/video_input/fight_1.mp4: 640x640 1 Fighter, 16.5ms\n",
      "video 1/1 (frame 2301/2322) /home/hatsu/coding/CapProj/TestSeg_1/video_input/fight_1.mp4: 640x640 (no detections), 11.3ms\n",
      "video 1/1 (frame 2302/2322) /home/hatsu/coding/CapProj/TestSeg_1/video_input/fight_1.mp4: 640x640 (no detections), 13.6ms\n",
      "video 1/1 (frame 2303/2322) /home/hatsu/coding/CapProj/TestSeg_1/video_input/fight_1.mp4: 640x640 (no detections), 10.7ms\n",
      "video 1/1 (frame 2304/2322) /home/hatsu/coding/CapProj/TestSeg_1/video_input/fight_1.mp4: 640x640 (no detections), 12.0ms\n",
      "video 1/1 (frame 2305/2322) /home/hatsu/coding/CapProj/TestSeg_1/video_input/fight_1.mp4: 640x640 (no detections), 11.8ms\n",
      "video 1/1 (frame 2306/2322) /home/hatsu/coding/CapProj/TestSeg_1/video_input/fight_1.mp4: 640x640 (no detections), 12.6ms\n",
      "video 1/1 (frame 2307/2322) /home/hatsu/coding/CapProj/TestSeg_1/video_input/fight_1.mp4: 640x640 (no detections), 12.0ms\n",
      "video 1/1 (frame 2308/2322) /home/hatsu/coding/CapProj/TestSeg_1/video_input/fight_1.mp4: 640x640 (no detections), 11.0ms\n",
      "video 1/1 (frame 2309/2322) /home/hatsu/coding/CapProj/TestSeg_1/video_input/fight_1.mp4: 640x640 (no detections), 17.0ms\n",
      "video 1/1 (frame 2310/2322) /home/hatsu/coding/CapProj/TestSeg_1/video_input/fight_1.mp4: 640x640 (no detections), 11.1ms\n",
      "video 1/1 (frame 2311/2322) /home/hatsu/coding/CapProj/TestSeg_1/video_input/fight_1.mp4: 640x640 (no detections), 11.1ms\n",
      "video 1/1 (frame 2312/2322) /home/hatsu/coding/CapProj/TestSeg_1/video_input/fight_1.mp4: 640x640 (no detections), 11.3ms\n",
      "video 1/1 (frame 2313/2322) /home/hatsu/coding/CapProj/TestSeg_1/video_input/fight_1.mp4: 640x640 (no detections), 11.7ms\n",
      "video 1/1 (frame 2314/2322) /home/hatsu/coding/CapProj/TestSeg_1/video_input/fight_1.mp4: 640x640 (no detections), 11.6ms\n",
      "video 1/1 (frame 2315/2322) /home/hatsu/coding/CapProj/TestSeg_1/video_input/fight_1.mp4: 640x640 (no detections), 12.3ms\n",
      "video 1/1 (frame 2316/2322) /home/hatsu/coding/CapProj/TestSeg_1/video_input/fight_1.mp4: 640x640 1 Fighter, 12.1ms\n",
      "video 1/1 (frame 2317/2322) /home/hatsu/coding/CapProj/TestSeg_1/video_input/fight_1.mp4: 640x640 1 Fighter, 11.8ms\n",
      "video 1/1 (frame 2318/2322) /home/hatsu/coding/CapProj/TestSeg_1/video_input/fight_1.mp4: 640x640 (no detections), 14.1ms\n",
      "video 1/1 (frame 2319/2322) /home/hatsu/coding/CapProj/TestSeg_1/video_input/fight_1.mp4: 640x640 (no detections), 14.0ms\n",
      "video 1/1 (frame 2320/2322) /home/hatsu/coding/CapProj/TestSeg_1/video_input/fight_1.mp4: 640x640 1 Fighter, 12.0ms\n",
      "video 1/1 (frame 2321/2322) /home/hatsu/coding/CapProj/TestSeg_1/video_input/fight_1.mp4: 640x640 (no detections), 13.6ms\n",
      "video 1/1 (frame 2322/2322) /home/hatsu/coding/CapProj/TestSeg_1/video_input/fight_1.mp4: 640x640 (no detections), 15.2ms\n",
      "Speed: 2.2ms preprocess, 12.9ms inference, 2.5ms postprocess per image at shape (1, 3, 640, 640)\n"
     ]
    }
   ],
   "source": [
    "for result in results:\n",
    "    frame = result.orig_img\n",
    "    h, w, _ = frame.shape\n",
    "    #print(frame.dtype)\n",
    "    if result.masks is not None:\n",
    "        for mask in result.masks.data:\n",
    "            mask = mask.cpu().numpy()\n",
    "            mask = cv2.resize(mask, (w, h))\n",
    "            mask_rgb = np.stack([mask] *3, axis=-1).astype(np.uint8)\n",
    "            frame = cv2.addWeighted(frame, 1, mask_rgb, 0.5, 0)\n",
    "\n",
    "    cv2.imshow(\"Fatality!!!\", frame)\n",
    "\n",
    "    if cv2.waitKey(1) & 0xFF == ord('q'):\n",
    "        break\n",
    "\n",
    "cv2.destroyAllWindows()"
   ]
  },
  {
   "cell_type": "markdown",
   "metadata": {},
   "source": [
    "Image Inference"
   ]
  },
  {
   "cell_type": "code",
   "execution_count": 16,
   "metadata": {},
   "outputs": [
    {
     "name": "stdout",
     "output_type": "stream",
     "text": [
      "\n",
      "image 1/1 /home/hatsu/coding/CapProj/TestSeg_1/image_input/frame_000003.PNG: 640x640 2 Fighters, 92.4ms\n",
      "Speed: 10.2ms preprocess, 92.4ms inference, 37.5ms postprocess per image at shape (1, 3, 640, 640)\n",
      "[ultralytics.engine.results.Results object with attributes:\n",
      "\n",
      "boxes: ultralytics.engine.results.Boxes object\n",
      "keypoints: None\n",
      "masks: ultralytics.engine.results.Masks object\n",
      "names: {0: 'Fighter'}\n",
      "obb: None\n",
      "orig_img: array([[[0, 0, 0],\n",
      "        [0, 0, 0],\n",
      "        [0, 0, 0],\n",
      "        ...,\n",
      "        [0, 0, 0],\n",
      "        [0, 0, 0],\n",
      "        [0, 0, 0]],\n",
      "\n",
      "       [[0, 0, 0],\n",
      "        [0, 0, 0],\n",
      "        [0, 0, 0],\n",
      "        ...,\n",
      "        [0, 0, 0],\n",
      "        [0, 0, 0],\n",
      "        [0, 0, 0]],\n",
      "\n",
      "       [[0, 0, 0],\n",
      "        [0, 0, 0],\n",
      "        [0, 0, 0],\n",
      "        ...,\n",
      "        [0, 0, 0],\n",
      "        [0, 0, 0],\n",
      "        [0, 0, 0]],\n",
      "\n",
      "       ...,\n",
      "\n",
      "       [[0, 0, 0],\n",
      "        [0, 0, 0],\n",
      "        [0, 0, 0],\n",
      "        ...,\n",
      "        [0, 0, 0],\n",
      "        [0, 0, 0],\n",
      "        [0, 0, 0]],\n",
      "\n",
      "       [[0, 0, 0],\n",
      "        [0, 0, 0],\n",
      "        [0, 0, 0],\n",
      "        ...,\n",
      "        [0, 0, 0],\n",
      "        [0, 0, 0],\n",
      "        [0, 0, 0]],\n",
      "\n",
      "       [[0, 0, 0],\n",
      "        [0, 0, 0],\n",
      "        [0, 0, 0],\n",
      "        ...,\n",
      "        [0, 0, 0],\n",
      "        [0, 0, 0],\n",
      "        [0, 0, 0]]], dtype=uint8)\n",
      "orig_shape: (640, 640)\n",
      "path: '/home/hatsu/coding/CapProj/TestSeg_1/image_input/frame_000003.PNG'\n",
      "probs: None\n",
      "save_dir: 'runs/segment/track'\n",
      "speed: {'preprocess': 10.232925415039062, 'inference': 92.39006042480469, 'postprocess': 37.53209114074707}]\n"
     ]
    }
   ],
   "source": [
    "result = model.predict(source=\"image_input/frame_000003.PNG\", task=\"segment\", show=True)\n",
    "print(result)"
   ]
  }
 ],
 "metadata": {
  "kernelspec": {
   "display_name": "ultrapython",
   "language": "python",
   "name": "python3"
  },
  "language_info": {
   "codemirror_mode": {
    "name": "ipython",
    "version": 3
   },
   "file_extension": ".py",
   "mimetype": "text/x-python",
   "name": "python",
   "nbconvert_exporter": "python",
   "pygments_lexer": "ipython3",
   "version": "3.10.15"
  }
 },
 "nbformat": 4,
 "nbformat_minor": 2
}
