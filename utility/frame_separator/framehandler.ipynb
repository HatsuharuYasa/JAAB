{
 "cells": [
  {
   "cell_type": "code",
   "execution_count": 1,
   "metadata": {},
   "outputs": [],
   "source": [
    "import os\n",
    "import cv2\n",
    "import json\n",
    "from tqdm import tqdm"
   ]
  },
  {
   "cell_type": "code",
   "execution_count": 3,
   "metadata": {},
   "outputs": [
    {
     "name": "stdout",
     "output_type": "stream",
     "text": [
      "Video FPS: 30.0, Total frames: 20163\n"
     ]
    },
    {
     "name": "stderr",
     "output_type": "stream",
     "text": [
      "Extracting frames: 100%|██████████| 20163/20163 [03:35<00:00, 93.56it/s] "
     ]
    },
    {
     "name": "stdout",
     "output_type": "stream",
     "text": [
      "Extraction completed! 20163 frames saved to result\n"
     ]
    },
    {
     "name": "stderr",
     "output_type": "stream",
     "text": [
      "\n"
     ]
    }
   ],
   "source": [
    "def extract_frames(video_path, output_dir, frame_rate=1):\n",
    "    \"\"\"\n",
    "    Extracts frames from a video file and saves them as images in the specified directory.\n",
    "\n",
    "    Parameters:\n",
    "        video_path (str): Path to the input video file (e.g., .mp4).\n",
    "        output_dir (str): Directory where the extracted frames will be saved.\n",
    "        frame_rate (int): Extract one frame every `frame_rate` frames.\n",
    "    \"\"\"\n",
    "    # Create output directory if it doesn't exist\n",
    "    os.makedirs(output_dir, exist_ok=True)\n",
    "\n",
    "    # Open the video file\n",
    "    video = cv2.VideoCapture(video_path)\n",
    "    if not video.isOpened():\n",
    "        raise ValueError(f\"Cannot open video file: {video_path}\")\n",
    "\n",
    "    # Get video properties\n",
    "    total_frames = int(video.get(cv2.CAP_PROP_FRAME_COUNT))\n",
    "    fps = video.get(cv2.CAP_PROP_FPS)\n",
    "    print(f\"Video FPS: {fps}, Total frames: {total_frames}\")\n",
    "\n",
    "    frame_count = 0\n",
    "    saved_count = 0\n",
    "\n",
    "    # Extract and save frames\n",
    "    for _ in tqdm(range(total_frames), desc=\"Extracting frames\"):\n",
    "        success, frame = video.read()\n",
    "        if not success:\n",
    "            break\n",
    "\n",
    "        # Save one frame every `frame_rate` frames\n",
    "        if frame_count % frame_rate == 0:\n",
    "            frame_filename = os.path.join(output_dir, f\"frame_{frame_count:06d}.png\")\n",
    "            cv2.imwrite(frame_filename, frame)\n",
    "            saved_count += 1\n",
    "\n",
    "        frame_count += 1\n",
    "\n",
    "    video.release()\n",
    "    print(f\"Extraction completed! {saved_count} frames saved to {output_dir}\")\n",
    "\n",
    "# Example usage\n",
    "video_path = r\"ProBoxDataset.mp4\"       # Path to the video file\n",
    "output_dir = r\"result\" # Directory to save frames\n",
    "frame_rate = 1                 # Save every frame (adjust as needed)\n",
    "\n",
    "extract_frames(video_path, output_dir, frame_rate)"
   ]
  }
 ],
 "metadata": {
  "kernelspec": {
   "display_name": "cvpython",
   "language": "python",
   "name": "python3"
  },
  "language_info": {
   "codemirror_mode": {
    "name": "ipython",
    "version": 3
   },
   "file_extension": ".py",
   "mimetype": "text/x-python",
   "name": "python",
   "nbconvert_exporter": "python",
   "pygments_lexer": "ipython3",
   "version": "3.9.20"
  }
 },
 "nbformat": 4,
 "nbformat_minor": 2
}
