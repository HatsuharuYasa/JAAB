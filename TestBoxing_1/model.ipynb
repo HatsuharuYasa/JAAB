{
 "cells": [
  {
   "cell_type": "code",
   "execution_count": 1,
   "metadata": {},
   "outputs": [],
   "source": [
    "import json\n",
    "from PIL import Image\n",
    "import torch\n",
    "import random"
   ]
  },
  {
   "cell_type": "code",
   "execution_count": 2,
   "metadata": {},
   "outputs": [],
   "source": [
    "class COCODataset(torch.utils.data.Dataset):\n",
    "    def __init__(self, annotation_file, image_dir, classes, transform=None):\n",
    "        with open(annotation_file, 'r') as f:\n",
    "            self.coco_data = json.load(f)\n",
    "        self.image_dir = image_dir\n",
    "        self.classes = classes\n",
    "        self.transform = transform\n",
    "\n",
    "        self.image_annotations = {img['id']: [] for img in self.coco_data['images']}\n",
    "        for ann in self.coco_data['annotations']:\n",
    "            if ann['category_id'] == 1:\n",
    "                self.image_annotations[ann['image_id']].append(ann)\n",
    "        \n",
    "        #Identify the background image\n",
    "        filtered_images = [\n",
    "            img for img in self.coco_data['images']\n",
    "            if len(self.image_annotations[img['id']]) == 0\n",
    "        ]\n",
    "\n",
    "        #Select 100% of non annotated to be removed\n",
    "        num_to_remove = int(len(filtered_images) * 1)\n",
    "        images_to_remove = random.sample(filtered_images, num_to_remove)\n",
    "        images_to_remove_ids = {img['id'] for img in images_to_remove}\n",
    "\n",
    "        #Remove the selected images\n",
    "        self.coco_data['images'] = [\n",
    "            img for img in self.coco_data['images']\n",
    "            if img['id'] not in images_to_remove_ids\n",
    "        ]\n",
    "\n",
    "        #Remove the annotations as well\n",
    "        self.coco_data['annotations'] = [\n",
    "            ann for ann in self.coco_data['annotations']\n",
    "            if ann['image_id'] in {img['id'] for img in self.coco_data['images']}\n",
    "        ]\n",
    "\n",
    "        #Rebuild the annotations\n",
    "        self.image_annotations = {img['id']: [] for img in self.coco_data['images']}\n",
    "        for ann in self.coco_data['annotations']:\n",
    "            if ann['category_id'] == 1:\n",
    "                self.image_annotations[ann['image_id']].append(ann)\n",
    "\n",
    "        self.images = self.coco_data['images']\n",
    "        self.image_ids = [img['id'] for img in self.coco_data['images']]\n",
    "    \n",
    "    def __len__(self):\n",
    "        return len(self.images)\n",
    "    \n",
    "    def __getitem__(self, idx):\n",
    "        image_data = self.images[idx]\n",
    "        image_id = image_data['id']\n",
    "        image_path = f\"{self.image_dir}/{image_data['file_name']}\"\n",
    "        image = Image.open(image_path).convert(\"RGB\")\n",
    "\n",
    "        if self.transform:\n",
    "            image = self.transform(image)\n",
    "\n",
    "        annotations = self.image_annotations[image_id]\n",
    "        boxes = []\n",
    "        labels = []\n",
    "        for ann in annotations:\n",
    "            x, y, w, h = ann['bbox']\n",
    "            boxes.append([x, y, x + w, y + h])\n",
    "            labels.append(int(ann['category_id']))\n",
    "        \n",
    "        boxes = torch.as_tensor(boxes, dtype=torch.float32) if len(boxes) > 0 else torch.empty((0,4))\n",
    "        labels = torch.as_tensor(labels, dtype=torch.int64) if len(labels) > 0 else torch.zeros((0,), dtype=torch.int64)\n",
    "        image_id = torch.tensor([image_id])\n",
    "\n",
    "        target = {\n",
    "            'boxes': boxes,\n",
    "            'labels': labels, \n",
    "            'image_id': image_id\n",
    "        }\n",
    "        return image, target\n",
    "\n",
    "    "
   ]
  },
  {
   "cell_type": "code",
   "execution_count": 3,
   "metadata": {},
   "outputs": [],
   "source": [
    "import torchvision\n",
    "from torchvision import transforms\n",
    "import numpy as np"
   ]
  },
  {
   "cell_type": "code",
   "execution_count": 4,
   "metadata": {},
   "outputs": [
    {
     "name": "stdout",
     "output_type": "stream",
     "text": [
      "2.5.1\n",
      "0.20.1\n"
     ]
    }
   ],
   "source": [
    "print(torch.__version__)\n",
    "print(torchvision.__version__)"
   ]
  },
  {
   "cell_type": "code",
   "execution_count": 5,
   "metadata": {},
   "outputs": [],
   "source": [
    "annotations_path = \"instances_Train.json\"\n",
    "frames_path = \"frames\"\n",
    "classes = {0: \"No_hit\", 1: \"Hit\"}\n",
    "transforms = transforms.Compose([\n",
    "    transforms.Resize((256, 256)),\n",
    "    transforms.ToTensor(),\n",
    "    transforms.Normalize(mean=[0.485, 0.456, 0.406], std=[0.229, 0.224, 0.225])\n",
    "])"
   ]
  },
  {
   "cell_type": "code",
   "execution_count": 6,
   "metadata": {},
   "outputs": [],
   "source": [
    "dataset = COCODataset(annotations_path, frames_path, classes, transforms)"
   ]
  },
  {
   "cell_type": "code",
   "execution_count": 7,
   "metadata": {},
   "outputs": [],
   "source": [
    "from sklearn.model_selection import train_test_split\n",
    "from torch.utils.data import Subset\n",
    "from torch.utils.data import DataLoader"
   ]
  },
  {
   "cell_type": "code",
   "execution_count": 8,
   "metadata": {},
   "outputs": [],
   "source": [
    "remaining_indices = np.arange(len(dataset.image_ids))\n",
    "train_indices, test_indices = train_test_split(remaining_indices, test_size=0.2, random_state=10)\n",
    "\n",
    "train_dataset = Subset(dataset, train_indices)\n",
    "test_dataset = Subset(dataset, test_indices)"
   ]
  },
  {
   "cell_type": "code",
   "execution_count": 9,
   "metadata": {},
   "outputs": [],
   "source": [
    "def collate_fn(batch):\n",
    "    max_boxes = max([len(item[1]['boxes']) for item in batch])\n",
    "\n",
    "    images = []\n",
    "    targets = []\n",
    "\n",
    "    for img, target in batch:\n",
    "        boxes = target['boxes']\n",
    "        labels = target['labels']\n",
    "\n",
    "        if len(boxes) < max_boxes:\n",
    "            pad_size = max_boxes - len(boxes)\n",
    "            boxes = torch.cat([boxes, torch.empty(0, 4)], dim=0)\n",
    "            labels = torch.cat([labels, torch.zeros((pad_size, ), dtype=torch.int64)], dim=0)\n",
    "        \n",
    "        targets.append({\n",
    "            'boxes': boxes,\n",
    "            'labels': labels,\n",
    "            'image_id': target['image_id']\n",
    "        })\n",
    "\n",
    "        images.append(img)\n",
    "    \n",
    "    return images, targets"
   ]
  },
  {
   "cell_type": "code",
   "execution_count": 10,
   "metadata": {},
   "outputs": [],
   "source": [
    "train_loader = DataLoader(train_dataset, batch_size=1, shuffle=True, pin_memory=True, collate_fn=collate_fn)\n",
    "test_loader = DataLoader(test_dataset, batch_size=1, shuffle=False, pin_memory=True, collate_fn=collate_fn)"
   ]
  },
  {
   "cell_type": "code",
   "execution_count": 11,
   "metadata": {},
   "outputs": [
    {
     "name": "stdout",
     "output_type": "stream",
     "text": [
      "Batch 0 loaded successfully.\n",
      "Batch 1 loaded successfully.\n",
      "Batch 2 loaded successfully.\n",
      "Batch 3 loaded successfully.\n",
      "Batch 4 loaded successfully.\n",
      "Batch 5 loaded successfully.\n",
      "Batch 6 loaded successfully.\n",
      "Batch 7 loaded successfully.\n",
      "Batch 8 loaded successfully.\n",
      "Batch 9 loaded successfully.\n",
      "Batch 10 loaded successfully.\n",
      "Batch 11 loaded successfully.\n",
      "Batch 12 loaded successfully.\n",
      "Batch 13 loaded successfully.\n",
      "Batch 14 loaded successfully.\n",
      "Batch 15 loaded successfully.\n",
      "Batch 16 loaded successfully.\n",
      "Batch 17 loaded successfully.\n",
      "Batch 18 loaded successfully.\n",
      "Batch 19 loaded successfully.\n",
      "Batch 20 loaded successfully.\n",
      "Batch 21 loaded successfully.\n",
      "Batch 22 loaded successfully.\n",
      "Batch 23 loaded successfully.\n",
      "Batch 24 loaded successfully.\n",
      "Batch 25 loaded successfully.\n",
      "Batch 26 loaded successfully.\n",
      "Batch 27 loaded successfully.\n",
      "Batch 28 loaded successfully.\n",
      "Batch 29 loaded successfully.\n",
      "Batch 30 loaded successfully.\n",
      "Batch 31 loaded successfully.\n",
      "Batch 32 loaded successfully.\n",
      "Batch 33 loaded successfully.\n",
      "Batch 34 loaded successfully.\n",
      "Batch 35 loaded successfully.\n",
      "Batch 36 loaded successfully.\n",
      "Batch 37 loaded successfully.\n",
      "Batch 38 loaded successfully.\n",
      "Batch 39 loaded successfully.\n",
      "Batch 40 loaded successfully.\n",
      "Batch 41 loaded successfully.\n",
      "Batch 42 loaded successfully.\n",
      "Batch 43 loaded successfully.\n",
      "Batch 44 loaded successfully.\n",
      "Batch 45 loaded successfully.\n",
      "Batch 46 loaded successfully.\n",
      "Batch 47 loaded successfully.\n",
      "Batch 48 loaded successfully.\n",
      "Batch 49 loaded successfully.\n",
      "Batch 50 loaded successfully.\n",
      "Batch 51 loaded successfully.\n",
      "Batch 52 loaded successfully.\n",
      "Batch 53 loaded successfully.\n",
      "Batch 54 loaded successfully.\n",
      "Batch 55 loaded successfully.\n",
      "Batch 56 loaded successfully.\n",
      "Batch 57 loaded successfully.\n",
      "Batch 58 loaded successfully.\n",
      "Batch 59 loaded successfully.\n",
      "Batch 60 loaded successfully.\n",
      "Batch 61 loaded successfully.\n",
      "Batch 62 loaded successfully.\n",
      "Batch 63 loaded successfully.\n",
      "Batch 64 loaded successfully.\n",
      "Batch 65 loaded successfully.\n",
      "Batch 66 loaded successfully.\n",
      "Batch 67 loaded successfully.\n",
      "Batch 68 loaded successfully.\n",
      "Batch 69 loaded successfully.\n",
      "Batch 70 loaded successfully.\n",
      "Batch 71 loaded successfully.\n",
      "Batch 72 loaded successfully.\n",
      "Batch 73 loaded successfully.\n",
      "Batch 74 loaded successfully.\n",
      "Batch 75 loaded successfully.\n",
      "Batch 76 loaded successfully.\n",
      "Batch 77 loaded successfully.\n",
      "Batch 78 loaded successfully.\n",
      "Batch 79 loaded successfully.\n",
      "Batch 80 loaded successfully.\n",
      "Batch 81 loaded successfully.\n"
     ]
    }
   ],
   "source": [
    "for batch_idx, (images, targets) in enumerate(train_loader):\n",
    "    print(f\"Batch {batch_idx} loaded successfully.\")"
   ]
  },
  {
   "cell_type": "code",
   "execution_count": 12,
   "metadata": {},
   "outputs": [],
   "source": [
    "import torch\n",
    "from torchvision.models.detection import fasterrcnn_resnet50_fpn"
   ]
  },
  {
   "cell_type": "code",
   "execution_count": 13,
   "metadata": {},
   "outputs": [
    {
     "name": "stderr",
     "output_type": "stream",
     "text": [
      "/home/hatsu/miniconda3/envs/cvpython/lib/python3.10/site-packages/torchvision/models/_utils.py:208: UserWarning: The parameter 'pretrained' is deprecated since 0.13 and may be removed in the future, please use 'weights' instead.\n",
      "  warnings.warn(\n",
      "/home/hatsu/miniconda3/envs/cvpython/lib/python3.10/site-packages/torchvision/models/_utils.py:223: UserWarning: Arguments other than a weight enum or `None` for 'weights' are deprecated since 0.13 and may be removed in the future. The current behavior is equivalent to passing `weights=FasterRCNN_ResNet50_FPN_Weights.COCO_V1`. You can also use `weights=FasterRCNN_ResNet50_FPN_Weights.DEFAULT` to get the most up-to-date weights.\n",
      "  warnings.warn(msg)\n"
     ]
    }
   ],
   "source": [
    "model = fasterrcnn_resnet50_fpn(pretrained=True)\n",
    "\n",
    "num_classes = len(classes)\n",
    "in_features = model.roi_heads.box_predictor.cls_score.in_features\n",
    "model.roi_heads.box_predictor.cls_score = torch.nn.Linear(in_features, num_classes)"
   ]
  },
  {
   "cell_type": "code",
   "execution_count": 14,
   "metadata": {},
   "outputs": [],
   "source": [
    "import torch.optim as optim"
   ]
  },
  {
   "cell_type": "code",
   "execution_count": 15,
   "metadata": {},
   "outputs": [],
   "source": [
    "params = [\n",
    "    {'params': model.backbone.parameters(), 'lr': 0.0001},\n",
    "    {'params': model.rpn.parameters(), 'lr': 0.01},\n",
    "    {'params': model.roi_heads.parameters(), 'lr': 0.01}\n",
    "]\n",
    "optimizer = optim.SGD(params, lr=0.005, momentum=0.9, weight_decay=0.0001)\n",
    "\n",
    "lr_scheduler = torch.optim.lr_scheduler.StepLR(optimizer, step_size=3, gamma=0.1)"
   ]
  },
  {
   "cell_type": "code",
   "execution_count": 33,
   "metadata": {},
   "outputs": [
    {
     "name": "stdout",
     "output_type": "stream",
     "text": [
      "Epoch 1 training loss: 30.0052\n",
      "Epoch 2 training loss: 30.0374\n",
      "Epoch 3 training loss: 29.9313\n",
      "Epoch 4 training loss: 30.1253\n",
      "Epoch 5 training loss: 30.1487\n",
      "Epoch 6 training loss: 30.2467\n",
      "Epoch 7 training loss: 29.9111\n",
      "Epoch 8 training loss: 30.1641\n",
      "Epoch 9 training loss: 30.0033\n",
      "Epoch 10 training loss: 30.1246\n",
      "Finished training\n"
     ]
    }
   ],
   "source": [
    "device = torch.device('cuda') if torch.cuda.is_available() else torch.device('cpu')\n",
    "model.to(device)\n",
    "\n",
    "num_epochs = 10\n",
    "\n",
    "for epoch in range(num_epochs):\n",
    "    model.train()\n",
    "    train_loss = 0\n",
    "\n",
    "    for images, targets in train_loader:\n",
    "        images = [img.to(device) for img in images]\n",
    "        targets = [{k: v.to(device) for k, v in t.items()} for t in targets]\n",
    "\n",
    "        loss_dict = model(images, targets)\n",
    "        losses = sum(loss for loss in loss_dict.values())\n",
    "        #print(loss_dict)\n",
    "        optimizer.zero_grad()\n",
    "        losses.backward()\n",
    "        optimizer.step()\n",
    "        lr_scheduler.step()\n",
    "        \n",
    "        train_loss += losses.item()\n",
    "    \n",
    "    print(f\"Epoch {epoch+1} training loss: {train_loss/len(train_loader):.4f}\")\n",
    "\n",
    "    del images, targets, loss_dict, losses\n",
    "    torch.cuda.empty_cache()\n",
    "\n",
    "print(\"Finished training\")"
   ]
  },
  {
   "cell_type": "code",
   "execution_count": 34,
   "metadata": {},
   "outputs": [
    {
     "name": "stdout",
     "output_type": "stream",
     "text": [
      "Finished evaluating\n",
      "[[{'boxes': tensor([], device='cuda:0', size=(0, 4)), 'labels': tensor([], device='cuda:0', dtype=torch.int64), 'scores': tensor([], device='cuda:0')}], [{'boxes': tensor([], device='cuda:0', size=(0, 4)), 'labels': tensor([], device='cuda:0', dtype=torch.int64), 'scores': tensor([], device='cuda:0')}], [{'boxes': tensor([], device='cuda:0', size=(0, 4)), 'labels': tensor([], device='cuda:0', dtype=torch.int64), 'scores': tensor([], device='cuda:0')}], [{'boxes': tensor([[212.0339, 173.0699, 241.5187, 200.9351]], device='cuda:0'), 'labels': tensor([1], device='cuda:0'), 'scores': tensor([0.2763], device='cuda:0')}], [{'boxes': tensor([], device='cuda:0', size=(0, 4)), 'labels': tensor([], device='cuda:0', dtype=torch.int64), 'scores': tensor([], device='cuda:0')}], [{'boxes': tensor([], device='cuda:0', size=(0, 4)), 'labels': tensor([], device='cuda:0', dtype=torch.int64), 'scores': tensor([], device='cuda:0')}], [{'boxes': tensor([[229.0957, 170.1881, 252.8866, 194.9791]], device='cuda:0'), 'labels': tensor([1], device='cuda:0'), 'scores': tensor([0.2763], device='cuda:0')}], [{'boxes': tensor([[209.8958, 171.7331, 240.2531, 204.7205],\n",
      "        [222.7636, 171.6926, 256.0000, 198.2562]], device='cuda:0'), 'labels': tensor([1, 1], device='cuda:0'), 'scores': tensor([0.2763, 0.2763], device='cuda:0')}], [{'boxes': tensor([], device='cuda:0', size=(0, 4)), 'labels': tensor([], device='cuda:0', dtype=torch.int64), 'scores': tensor([], device='cuda:0')}], [{'boxes': tensor([[230.2422, 171.1587, 253.2613, 196.9507]], device='cuda:0'), 'labels': tensor([1], device='cuda:0'), 'scores': tensor([0.2763], device='cuda:0')}], [{'boxes': tensor([], device='cuda:0', size=(0, 4)), 'labels': tensor([], device='cuda:0', dtype=torch.int64), 'scores': tensor([], device='cuda:0')}], [{'boxes': tensor([], device='cuda:0', size=(0, 4)), 'labels': tensor([], device='cuda:0', dtype=torch.int64), 'scores': tensor([], device='cuda:0')}], [{'boxes': tensor([], device='cuda:0', size=(0, 4)), 'labels': tensor([], device='cuda:0', dtype=torch.int64), 'scores': tensor([], device='cuda:0')}], [{'boxes': tensor([[211.6627, 172.0540, 242.0361, 201.2286]], device='cuda:0'), 'labels': tensor([1], device='cuda:0'), 'scores': tensor([0.2763], device='cuda:0')}], [{'boxes': tensor([], device='cuda:0', size=(0, 4)), 'labels': tensor([], device='cuda:0', dtype=torch.int64), 'scores': tensor([], device='cuda:0')}], [{'boxes': tensor([], device='cuda:0', size=(0, 4)), 'labels': tensor([], device='cuda:0', dtype=torch.int64), 'scores': tensor([], device='cuda:0')}], [{'boxes': tensor([], device='cuda:0', size=(0, 4)), 'labels': tensor([], device='cuda:0', dtype=torch.int64), 'scores': tensor([], device='cuda:0')}], [{'boxes': tensor([[215.7445, 175.2140, 247.0085, 200.0520]], device='cuda:0'), 'labels': tensor([1], device='cuda:0'), 'scores': tensor([0.2763], device='cuda:0')}], [{'boxes': tensor([], device='cuda:0', size=(0, 4)), 'labels': tensor([], device='cuda:0', dtype=torch.int64), 'scores': tensor([], device='cuda:0')}], [{'boxes': tensor([], device='cuda:0', size=(0, 4)), 'labels': tensor([], device='cuda:0', dtype=torch.int64), 'scores': tensor([], device='cuda:0')}], [{'boxes': tensor([], device='cuda:0', size=(0, 4)), 'labels': tensor([], device='cuda:0', dtype=torch.int64), 'scores': tensor([], device='cuda:0')}]]\n",
      "[{'boxes': tensor([[248.7400, 378.3700, 322.7000, 432.8700]], device='cuda:0'), 'labels': tensor([1], device='cuda:0'), 'image_id': tensor([1487], device='cuda:0')}, {'boxes': tensor([[266.2600, 300.4000, 306.1000, 324.1900]], device='cuda:0'), 'labels': tensor([1], device='cuda:0'), 'image_id': tensor([579], device='cuda:0')}, {'boxes': tensor([[443.6800, 262.2300, 491.3300, 327.1600]], device='cuda:0'), 'labels': tensor([1], device='cuda:0'), 'image_id': tensor([2073], device='cuda:0')}, {'boxes': tensor([[251.0000, 271.9000, 304.0700, 312.8300]], device='cuda:0'), 'labels': tensor([1], device='cuda:0'), 'image_id': tensor([2421], device='cuda:0')}, {'boxes': tensor([[442.6000, 257.8800, 476.3400, 286.4300]], device='cuda:0'), 'labels': tensor([1], device='cuda:0'), 'image_id': tensor([1333], device='cuda:0')}, {'boxes': tensor([[226.9300, 275.6000, 272.8700, 303.6300]], device='cuda:0'), 'labels': tensor([1], device='cuda:0'), 'image_id': tensor([57], device='cuda:0')}, {'boxes': tensor([[129.6000, 276.9400, 166.4000, 307.7600]], device='cuda:0'), 'labels': tensor([1], device='cuda:0'), 'image_id': tensor([727], device='cuda:0')}, {'boxes': tensor([[420.5400, 324.7000, 473.7500, 355.9000]], device='cuda:0'), 'labels': tensor([1], device='cuda:0'), 'image_id': tensor([1119], device='cuda:0')}, {'boxes': tensor([[415.3500, 317.6000, 487.3700, 359.1600]], device='cuda:0'), 'labels': tensor([1], device='cuda:0'), 'image_id': tensor([1408], device='cuda:0')}, {'boxes': tensor([[468.7100, 275.2800, 514.1000, 303.6500],\n",
      "        [431.6900, 300.3600, 460.0600, 328.7300]], device='cuda:0'), 'labels': tensor([1, 1], device='cuda:0'), 'image_id': tensor([2190], device='cuda:0')}, {'boxes': tensor([[167.7600, 344.8900, 230.0500, 417.3000]], device='cuda:0'), 'labels': tensor([1], device='cuda:0'), 'image_id': tensor([1482], device='cuda:0')}, {'boxes': tensor([[310.9000, 335.8000, 352.2000, 371.8800]], device='cuda:0'), 'labels': tensor([1], device='cuda:0'), 'image_id': tensor([1965], device='cuda:0')}, {'boxes': tensor([[258.0800, 272.4800, 307.1300, 306.7400]], device='cuda:0'), 'labels': tensor([1], device='cuda:0'), 'image_id': tensor([44], device='cuda:0')}, {'boxes': tensor([[259.6400, 270.9300, 305.5700, 306.7400]], device='cuda:0'), 'labels': tensor([1], device='cuda:0'), 'image_id': tensor([43], device='cuda:0')}, {'boxes': tensor([[521.3400, 256.8200, 561.9400, 287.7200]], device='cuda:0'), 'labels': tensor([1], device='cuda:0'), 'image_id': tensor([2094], device='cuda:0')}, {'boxes': tensor([[240.4000, 260.5000, 287.0500, 297.9000]], device='cuda:0'), 'labels': tensor([1], device='cuda:0'), 'image_id': tensor([2301], device='cuda:0')}, {'boxes': tensor([[436.6400, 265.4300, 494.5300, 324.6000]], device='cuda:0'), 'labels': tensor([1], device='cuda:0'), 'image_id': tensor([2078], device='cuda:0')}, {'boxes': tensor([[445.6000, 267.0000, 493.5700, 322.0000]], device='cuda:0'), 'labels': tensor([1], device='cuda:0'), 'image_id': tensor([2077], device='cuda:0')}, {'boxes': tensor([[198.4000, 311.0000, 250.6000, 359.4000]], device='cuda:0'), 'labels': tensor([1], device='cuda:0'), 'image_id': tensor([2482], device='cuda:0')}, {'boxes': tensor([[195.9900, 260.2000, 241.1300, 308.9300]], device='cuda:0'), 'labels': tensor([1], device='cuda:0'), 'image_id': tensor([2655], device='cuda:0')}, {'boxes': tensor([[419.2500, 340.3000, 503.5900, 387.7100]], device='cuda:0'), 'labels': tensor([1], device='cuda:0'), 'image_id': tensor([1410], device='cuda:0')}]\n"
     ]
    }
   ],
   "source": [
    "device = torch.device('cuda') if torch.cuda.is_available() else torch.device('cpu')\n",
    "model.to(device)\n",
    "\n",
    "model.eval()\n",
    "all_preds = []\n",
    "all_labels = []\n",
    "\n",
    "with torch.no_grad():\n",
    "    for images, targets in test_loader:\n",
    "        img = images[0].to(device)\n",
    "        target = targets[0]\n",
    "        target = {k: v.to(device) for k, v in target.items()}\n",
    "\n",
    "        pred = model([img])\n",
    "\n",
    "        all_preds.append(pred)\n",
    "        all_labels.append(target)\n",
    "print(\"Finished evaluating\")\n",
    "print(all_preds)\n",
    "print(all_labels)"
   ]
  },
  {
   "cell_type": "code",
   "execution_count": 18,
   "metadata": {},
   "outputs": [],
   "source": [
    "from pycocotools.cocoeval import COCOeval\n",
    "from pycocotools.coco import COCO\n",
    "import json"
   ]
  },
  {
   "cell_type": "code",
   "execution_count": 31,
   "metadata": {},
   "outputs": [
    {
     "name": "stdout",
     "output_type": "stream",
     "text": [
      "loading annotations into memory...\n",
      "Done (t=0.00s)\n",
      "creating index...\n",
      "index created!\n",
      "loading annotations into memory...\n",
      "Done (t=0.00s)\n",
      "creating index...\n",
      "index created!\n",
      "Running per image evaluation...\n",
      "Evaluate annotation type *bbox*\n",
      "DONE (t=0.00s).\n",
      "Accumulating evaluation results...\n",
      "Please run evaluate() first\n",
      "DONE (t=0.00s).\n",
      " Average Precision  (AP) @[ IoU=0.50:0.95 | area=   all | maxDets=100 ] = -1.000\n",
      " Average Precision  (AP) @[ IoU=0.50      | area=   all | maxDets=100 ] = -1.000\n",
      " Average Precision  (AP) @[ IoU=0.75      | area=   all | maxDets=100 ] = -1.000\n",
      " Average Precision  (AP) @[ IoU=0.50:0.95 | area= small | maxDets=100 ] = -1.000\n",
      " Average Precision  (AP) @[ IoU=0.50:0.95 | area=medium | maxDets=100 ] = -1.000\n",
      " Average Precision  (AP) @[ IoU=0.50:0.95 | area= large | maxDets=100 ] = -1.000\n",
      " Average Recall     (AR) @[ IoU=0.50:0.95 | area=   all | maxDets=  1 ] = -1.000\n",
      " Average Recall     (AR) @[ IoU=0.50:0.95 | area=   all | maxDets= 10 ] = -1.000\n",
      " Average Recall     (AR) @[ IoU=0.50:0.95 | area=   all | maxDets=100 ] = -1.000\n",
      " Average Recall     (AR) @[ IoU=0.50:0.95 | area= small | maxDets=100 ] = -1.000\n",
      " Average Recall     (AR) @[ IoU=0.50:0.95 | area=medium | maxDets=100 ] = -1.000\n",
      " Average Recall     (AR) @[ IoU=0.50:0.95 | area= large | maxDets=100 ] = -1.000\n"
     ]
    }
   ],
   "source": [
    "#Prepare the ground truth annotations in COCO format\n",
    "coco_gt = {'images': [], 'annotations': [], 'categories': []}\n",
    "for i, target in enumerate(all_labels):\n",
    "    coco_gt['images'].append({'id': i})\n",
    "    for j, box in enumerate(target['boxes']):\n",
    "        coco_gt['annotations'].append({\n",
    "            'image_id': i,\n",
    "            'bbox': box.tolist(),\n",
    "            'category_id': target['labels'][j].item(),\n",
    "            'id': len(coco_gt['annotations']) + 1\n",
    "        })\n",
    "\n",
    "# Save ground truth in COCO format\n",
    "with open('gt_annotations.json', 'w') as f:\n",
    "    json.dump(coco_gt, f)\n",
    "\n",
    "# Prepare predictions in COCO format\n",
    "coco_pred = {'images': [], 'annotations': []}\n",
    "for i, pred in enumerate(all_preds):\n",
    "    coco_pred['images'].append({'id': i})\n",
    "    if len(pred[0]['boxes']) == 0:\n",
    "        continue\n",
    "    for j, (box, score, label) in enumerate(zip(pred[0]['boxes'], pred[0]['scores'], pred[0]['labels'])):\n",
    "        if score > 0.1:\n",
    "            coco_pred['annotations'].append({\n",
    "                'image_id': i,\n",
    "                'bbox': box.tolist(),\n",
    "                'category_id': label.item(),\n",
    "                'score': score.item(),\n",
    "                'id': len(coco_gt['annotations']) + 1\n",
    "            })\n",
    "\n",
    "with open('pred_annotations.json', 'w') as f:\n",
    "    json.dump(coco_pred, f)\n",
    "\n",
    "coco_gt = COCO('gt_annotations.json')\n",
    "coco_pred = COCO('pred_annotations.json')\n",
    "\n",
    "coco_eval = COCOeval(coco_gt, coco_pred, iouType='bbox')\n",
    "coco_eval.evaluate()\n",
    "coco_eval.accumulate()\n",
    "coco_eval.summarize()"
   ]
  },
  {
   "cell_type": "markdown",
   "metadata": {},
   "source": [
    "# Testing with video"
   ]
  },
  {
   "cell_type": "code",
   "execution_count": 20,
   "metadata": {},
   "outputs": [],
   "source": [
    "import cv2"
   ]
  },
  {
   "cell_type": "code",
   "execution_count": 41,
   "metadata": {},
   "outputs": [],
   "source": [
    "video_path = \"fight.mp4\"\n",
    "cap = cv2.VideoCapture(video_path)\n",
    "\n",
    "output_path = \"result_video.avi\"\n",
    "fourcc = cv2.VideoWriter_fourcc(*'XVID')\n",
    "fps = int(cap.get(cv2.CAP_PROP_FPS))\n",
    "width = int(cap.get(cv2.CAP_PROP_FRAME_WIDTH))\n",
    "height = int(cap.get(cv2.CAP_PROP_FRAME_HEIGHT))\n",
    "out = cv2.VideoWriter(output_path, fourcc, fps, (width, height))\n",
    "\n",
    "model.eval()\n",
    "\n",
    "while cap.isOpened():\n",
    "    ret, frame = cap.read()\n",
    "    if not ret:\n",
    "        break\n",
    "\n",
    "    frame_rgb = cv2.cvtColor(frame, cv2.COLOR_BGR2RGB)\n",
    "\n",
    "    pil_img = Image.fromarray(frame_rgb)\n",
    "\n",
    "    input_frame = transforms(pil_img).unsqueeze(0)\n",
    "\n",
    "    input_frame = input_frame.to(device)\n",
    "\n",
    "    with torch.no_grad():\n",
    "        predictions = model(input_frame)\n",
    "    \n",
    "    boxes = predictions[0]['boxes'].cpu().numpy()\n",
    "    labels = predictions[0]['labels'].cpu().numpy()\n",
    "    scores = predictions[0]['scores'].cpu().numpy()\n",
    "\n",
    "    filtered_boxes = boxes[scores > 0.275]\n",
    "    filtered_labels = labels[scores > 0.275]\n",
    "\n",
    "    scale_x, scale_y = width / 256, height / 256\n",
    "    filtered_boxes[:, [0, 2]] *= scale_x\n",
    "    filtered_boxes[:, [1, 3]] *= scale_y\n",
    "\n",
    "    for box, label, in zip(filtered_boxes, filtered_labels):\n",
    "        x1, y1, x2, y2 = x1, y1, x2, y2 = np.clip(box, 0, [width, height, width, height])\n",
    "        cv2.rectangle(frame, (int(x1), int(y1)), (int(x2), int(y2)), (0, 255, 0), 2)  # Draw bounding box\n",
    "        cv2.putText(frame, f'Label: {label}', (int(x1), int(y1)-10), cv2.FONT_HERSHEY_SIMPLEX, 0.5, (0, 255, 0), 2)\n",
    "\n",
    "    out.write(frame)\n",
    "    \n",
    "    # Display the frame with predictions\n",
    "    cv2.imshow('Video', frame)\n",
    "\n",
    "    # Exit the loop if 'q' is pressed\n",
    "    if cv2.waitKey(1) & 0xFF == ord('q'):\n",
    "        break\n",
    "\n",
    "cap.release()\n",
    "out.release()\n",
    "cv2.destroyAllWindows()\n"
   ]
  }
 ],
 "metadata": {
  "kernelspec": {
   "display_name": "cvpython",
   "language": "python",
   "name": "python3"
  },
  "language_info": {
   "codemirror_mode": {
    "name": "ipython",
    "version": 3
   },
   "file_extension": ".py",
   "mimetype": "text/x-python",
   "name": "python",
   "nbconvert_exporter": "python",
   "pygments_lexer": "ipython3",
   "version": "3.10.15"
  }
 },
 "nbformat": 4,
 "nbformat_minor": 2
}
