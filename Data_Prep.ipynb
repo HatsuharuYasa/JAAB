{
  "nbformat": 4,
  "nbformat_minor": 0,
  "metadata": {
    "colab": {
      "provenance": []
    },
    "kernelspec": {
      "name": "python3",
      "display_name": "Python 3"
    },
    "language_info": {
      "name": "python"
    }
  },
  "cells": [
    {
      "cell_type": "markdown",
      "source": [
        "Importing From Drive"
      ],
      "metadata": {
        "id": "SDJ2XfJOxtrv"
      }
    },
    {
      "cell_type": "code",
      "execution_count": null,
      "metadata": {
        "colab": {
          "base_uri": "https://localhost:8080/"
        },
        "id": "btFOT3rIw8gm",
        "outputId": "f5e09afe-41d5-476b-b6e2-75bfa0b9a628"
      },
      "outputs": [
        {
          "output_type": "stream",
          "name": "stdout",
          "text": [
            "Mounted at /content/drive\n"
          ]
        }
      ],
      "source": [
        "from google.colab import drive\n",
        "drive.mount('/content/drive')"
      ]
    },
    {
      "cell_type": "markdown",
      "source": [
        "Frames"
      ],
      "metadata": {
        "id": "xlJ-HwfdG5kv"
      }
    },
    {
      "cell_type": "code",
      "source": [
        "import cv2\n",
        "import os\n",
        "\n",
        "def extract_frames(video_path, output_folder):\n",
        "    \"\"\"\n",
        "    Extracts all frames from a video file and saves them to an output folder with names following\n",
        "    the Pascal VOC format (e.g., frame_000000.jpg).\n",
        "\n",
        "    Parameters:\n",
        "    - video_path: Path to the input video (MP4 file).\n",
        "    - output_folder: Path to the folder where frames will be saved.\n",
        "    \"\"\"\n",
        "    # Create the output folder if it doesn't exist\n",
        "    if not os.path.exists(output_folder):\n",
        "        os.makedirs(output_folder)\n",
        "\n",
        "    # Open the video file using OpenCV\n",
        "    cap = cv2.VideoCapture(video_path)\n",
        "\n",
        "    if not cap.isOpened():\n",
        "        print(\"Error: Could not open video.\")\n",
        "        return\n",
        "\n",
        "    frame_count = 0\n",
        "    saved_count = 0\n",
        "\n",
        "    while True:\n",
        "        ret, frame = cap.read()  # Read the next frame\n",
        "        if not ret:\n",
        "            break  # Break the loop if there are no more frames\n",
        "\n",
        "        # Save the frame with a six-digit format (e.g., frame_000000.jpg, frame_000001.jpg, ...)\n",
        "        frame_filename = os.path.join(output_folder, f\"frame_{saved_count:06d}.jpg\")\n",
        "        cv2.imwrite(frame_filename, frame)\n",
        "        saved_count += 1\n",
        "        frame_count += 1\n",
        "\n",
        "    cap.release()\n",
        "    print(f\"Frames extracted: {saved_count} (Total frames in video: {frame_count})\")\n",
        "\n",
        "# Example usage:\n",
        "video_path = '/content/drive/MyDrive/Punching Bag/ID1.mp4'  # Path to your video file\n",
        "output_folder = '/content/drive/MyDrive/Punching Bag/Frames'  # Folder to save the frames\n",
        "\n",
        "# Extract all frames\n",
        "extract_frames(video_path, output_folder)"
      ],
      "metadata": {
        "colab": {
          "base_uri": "https://localhost:8080/"
        },
        "id": "CzT-9CMlG7gt",
        "outputId": "ce9b83a2-cdcf-4634-8362-9fa7132f8a90"
      },
      "execution_count": null,
      "outputs": [
        {
          "output_type": "stream",
          "name": "stdout",
          "text": [
            "Frames extracted: 2679 (Total frames in video: 2679)\n"
          ]
        }
      ]
    },
    {
      "cell_type": "markdown",
      "source": [
        "Extracting Annotations"
      ],
      "metadata": {
        "id": "LWolKWvJHhN6"
      }
    },
    {
      "cell_type": "code",
      "source": [
        "import zipfile\n",
        "\n",
        "# Path to the uploaded zip file (you might need to update this if re-uploaded)\n",
        "zip_file_path = \"/content/drive/MyDrive/Punching Bag/annotations.zip\"  # Or specify the exact upload location if different\n",
        "output_dir = \"/content/drive/MyDrive/Punching Bag/Annotations\"\n",
        "\n",
        "# Unzip the file\n",
        "with zipfile.ZipFile(zip_file_path, 'r') as zip_ref:\n",
        "    zip_ref.extractall(output_dir)\n",
        "\n",
        "print(\"Annotations unzipped successfully.\")\n"
      ],
      "metadata": {
        "colab": {
          "base_uri": "https://localhost:8080/"
        },
        "id": "tMG9fcEcHlm1",
        "outputId": "23204aeb-2447-468a-f48a-7b87efbe142f"
      },
      "execution_count": null,
      "outputs": [
        {
          "output_type": "stream",
          "name": "stdout",
          "text": [
            "Annotations unzipped successfully.\n"
          ]
        }
      ]
    },
    {
      "cell_type": "markdown",
      "source": [
        "Organizing Our Frames"
      ],
      "metadata": {
        "id": "N9ccBagNJ488"
      }
    },
    {
      "cell_type": "code",
      "source": [
        "import os\n",
        "import shutil\n",
        "\n",
        "# Paths\n",
        "images_dir = \"/content/drive/MyDrive/Punching Bag/Frames\"  # Directory where frames are stored\n",
        "labels_file = \"/content/drive/MyDrive/Punching Bag/Annotations/ImageSets/Main/Hit_Train.txt\"  # Path to the Train file listing frames\n",
        "output_dir = \"/content/drive/MyDrive/Punching Bag/Separated_Frames\"  # Destination for separated folders\n",
        "\n",
        "# Create output directories if they don’t exist\n",
        "class_dirs = {\n",
        "    \"1\": os.path.join(output_dir, \"Hit\"),\n",
        "    \"-1\": os.path.join(output_dir, \"No_hit\")\n",
        "}\n",
        "os.makedirs(class_dirs[\"1\"], exist_ok=True)\n",
        "os.makedirs(class_dirs[\"-1\"], exist_ok=True)\n",
        "\n",
        "# Read the labels file and move images\n",
        "with open(labels_file, \"r\") as f:\n",
        "    for line in f:\n",
        "        # Split each line by space to get frame name and label\n",
        "        frame_name, label = line.strip().split()\n",
        "\n",
        "        # Construct paths\n",
        "        src_path = os.path.join(images_dir, f\"{frame_name}.jpg\")  # Updated to .jpg\n",
        "        dst_path = os.path.join(class_dirs[label], f\"{frame_name}.jpg\")\n",
        "\n",
        "        # Move the image to the appropriate class folder\n",
        "        if os.path.exists(src_path):\n",
        "            shutil.move(src_path, dst_path)\n",
        "        else:\n",
        "            print(f\"Warning: {src_path} does not exist\")\n",
        "\n",
        "print(\"Images separated into class folders successfully.\")"
      ],
      "metadata": {
        "colab": {
          "base_uri": "https://localhost:8080/"
        },
        "id": "69XwRa3hKWDh",
        "outputId": "44f87c69-b7a9-450b-a211-9c0d98a6d9b1"
      },
      "execution_count": 33,
      "outputs": [
        {
          "output_type": "stream",
          "name": "stdout",
          "text": [
            "Images separated into class folders successfully.\n"
          ]
        }
      ]
    },
    {
      "cell_type": "code",
      "source": [
        "!git config --global --unset user.name\n",
        "!git config --global --unset user.email\n",
        "!rm -rf ~/.git-credentials\n"
      ],
      "metadata": {
        "id": "6gEL7AlJS501"
      },
      "execution_count": 34,
      "outputs": []
    }
  ]
}